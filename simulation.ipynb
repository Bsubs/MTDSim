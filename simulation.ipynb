{
 "cells": [
  {
   "cell_type": "code",
   "execution_count": 12,
   "metadata": {},
   "outputs": [],
   "source": [
    "from run_sim import run_sim\n",
    "import pandas as pd\n",
    "import matplotlib.pyplot as plt\n",
    "import plotly.graph_objects as go\n",
    "import os"
   ]
  },
  {
   "cell_type": "code",
   "execution_count": 2,
   "metadata": {},
   "outputs": [
    {
     "name": "stdout",
     "output_type": "stream",
     "text": [
      "Target Node is:  75\n",
      "Adversary: Start Host Scan at 0.0s.\n",
      "Adversary: Processed host scan at 5.0s.\n",
      "Adversary: Start Host Enum at 5.0s.\n",
      "Adversary: Processed host enum at 10.0s.\n",
      "Adversary: Start port scan at 10.0s.\n",
      "Adversary: Processed port scan at 20.0s.\n",
      "Adversary: Start vulnerability exploitation at 20.0s.\n",
      "MTD: osdiversity triggered 30.2s\n",
      "MTD: osdiversity deployed in the network at 30.2s.\n",
      "Adversary: Processed vulnerabilities exploitation at 50.0s\n",
      "Adversary: Host 0 has been compromised at 50.0s!: \n",
      "Adversary: Start Host Enum at 50.0s.\n",
      "Adversary: Processed host enum at 55.0s.\n",
      "Adversary: Start port scan at 55.0s.\n",
      "MTD: HostTopologyShuffle triggered 60.4s\n",
      "MTD: HostTopologyShuffle deployed in the network at 60.4s.\n",
      "MTD: osdiversity finished in 30.5s at 60.6s.\n",
      "MTD: Interrupted port_scan at 60.6s!\n",
      "Adversary: Restarting with port scan operation!\n",
      "Adversary: Start port scan at 62.6s.\n",
      "Adversary: Processed port scan at 72.6s.\n",
      "Adversary: Start vulnerability exploitation at 72.6s.\n",
      "MTD: IPShuffle triggered 91.0s\n",
      "MTD: IPShuffle suspended at 91.0s due to resource occupation\n",
      "MTD: HostTopologyShuffle finished in 40.0s at 100.4s.\n",
      "MTD: Interrupted vulnerability_exploit at 100.4s!\n",
      "Adversary: Restarting with host scan operation!\n",
      "Adversary: Start Host Scan at 102.4s.\n",
      "Adversary: Processed host scan at 107.4s.\n",
      "Adversary: Start Host Enum at 107.4s.\n",
      "Adversary: Processed host enum at 112.4s.\n",
      "Adversary: Start port scan at 112.4s.\n",
      "MTD: IPShuffle triggered 121.6s\n",
      "MTD: IPShuffle deployed in the network at 121.6s.\n",
      "Adversary: Processed port scan at 122.4s.\n",
      "Adversary: Start vulnerability exploitation at 122.4s.\n",
      "MTD: UserShuffle triggered 152.1s\n",
      "MTD: UserShuffle deployed in the network at 152.1s.\n",
      "Adversary: Processed vulnerabilities exploitation at 154.2s\n",
      "Adversary: Start brute force at 154.2s.\n",
      "MTD: UserShuffle finished in 10.2s at 162.3s.\n",
      "MTD: Interrupted brute_force at 162.3s!\n",
      "Adversary: Restarting with host scan operation!\n",
      "Adversary: Start Host Scan at 164.3s.\n",
      "Adversary: Processed host scan at 169.3s.\n",
      "Adversary: Start Host Enum at 169.3s.\n",
      "MTD: IPShuffle finished in 50.3s at 171.9s.\n",
      "MTD: Interrupted host_enum at 171.9s!\n",
      "Adversary: Restarting with host scan operation!\n",
      "Adversary: Start Host Scan at 173.9s.\n",
      "Adversary: Processed host scan at 178.9s.\n",
      "Adversary: Start Host Enum at 178.9s.\n",
      "MTD: UserShuffle triggered 182.2s\n",
      "MTD: UserShuffle deployed in the network at 182.2s.\n",
      "Adversary: Processed host enum at 183.9s.\n",
      "Adversary: Start port scan at 183.9s.\n",
      "MTD: UserShuffle finished in 10.6s at 192.8s.\n",
      "MTD: Interrupted port_scan at 192.8s!\n",
      "Adversary: Restarting with host scan operation!\n",
      "Adversary: Start Host Scan at 194.8s.\n",
      "Adversary: Processed host scan at 199.8s.\n",
      "Adversary: Start Host Enum at 199.8s.\n",
      "Adversary: Processed host enum at 204.8s.\n",
      "Adversary: Start port scan at 204.8s.\n",
      "MTD: UserShuffle triggered 213.6s\n",
      "MTD: UserShuffle deployed in the network at 213.6s.\n",
      "Adversary: Processed port scan at 214.8s.\n",
      "Adversary: Start vulnerability exploitation at 214.8s.\n",
      "MTD: UserShuffle finished in 10.4s at 224.0s.\n",
      "MTD: Interrupted vulnerability_exploit at 224.0s!\n",
      "Adversary: Restarting with host scan operation!\n",
      "Adversary: Start Host Scan at 226.0s.\n",
      "Adversary: Processed host scan at 231.0s.\n",
      "Adversary: Start Host Enum at 231.0s.\n",
      "Adversary: Processed host enum at 236.0s.\n",
      "Adversary: Start port scan at 236.0s.\n",
      "MTD: serviceDiversity triggered 244.0s\n",
      "MTD: serviceDiversity deployed in the network at 244.0s.\n",
      "Adversary: Processed port scan at 246.0s.\n",
      "Adversary: Start vulnerability exploitation at 246.0s.\n",
      "MTD: PortShuffle triggered 274.1s\n",
      "MTD: PortShuffle suspended at 274.1s due to resource occupation\n",
      "Adversary: Processed vulnerabilities exploitation at 277.4s\n",
      "Adversary: Start brute force at 277.4s.\n",
      "MTD: serviceDiversity finished in 40.3s at 284.3s.\n",
      "MTD: Interrupted brute_force at 284.3s!\n",
      "Adversary: Restarting with port scan operation!\n",
      "Adversary: Start port scan at 286.3s.\n",
      "Adversary: Processed port scan at 296.3s.\n",
      "Adversary: Start vulnerability exploitation at 296.3s.\n",
      "MTD: PortShuffle triggered 304.3s\n",
      "MTD: PortShuffle deployed in the network at 304.3s.\n",
      "Adversary: Processed vulnerabilities exploitation at 327.4s\n",
      "Adversary: Host 40 has been compromised at 327.4s!: \n",
      "Adversary: Start Host Enum at 327.4s.\n",
      "Adversary: Processed host enum at 332.4s.\n",
      "Adversary: Start port scan at 332.4s.\n",
      "MTD: HostTopologyShuffle triggered 334.9s\n",
      "MTD: HostTopologyShuffle deployed in the network at 334.9s.\n",
      "Adversary: Processed port scan at 342.4s.\n",
      "Adversary: Start vulnerability exploitation at 342.4s.\n",
      "MTD: PortShuffle finished in 40.4s at 344.6s.\n",
      "MTD: Interrupted vulnerability_exploit at 344.6s!\n",
      "Adversary: Restarting with port scan operation!\n",
      "Adversary: Start port scan at 346.6s.\n",
      "Adversary: Processed port scan at 356.6s.\n",
      "Adversary: Start vulnerability exploitation at 356.6s.\n",
      "MTD: UserShuffle triggered 366.0s\n",
      "MTD: UserShuffle deployed in the network at 366.0s.\n",
      "MTD: HostTopologyShuffle finished in 40.7s at 375.7s.\n",
      "MTD: Interrupted vulnerability_exploit at 375.7s!\n",
      "MTD: UserShuffle finished in 10.6s at 376.6s.\n",
      "Adversary: Restarting with host scan operation!\n",
      "Adversary: Start Host Scan at 377.7s.\n",
      "Adversary: Processed host scan at 382.7s.\n",
      "Adversary: Start Host Enum at 382.7s.\n",
      "Adversary: Processed host enum at 387.7s.\n",
      "Adversary: Start port scan at 387.7s.\n",
      "MTD: serviceDiversity triggered 397.5s\n",
      "MTD: serviceDiversity deployed in the network at 397.5s.\n",
      "Adversary: Processed port scan at 397.7s.\n",
      "Adversary: Start vulnerability exploitation at 397.7s.\n",
      "MTD: HostTopologyShuffle triggered 427.6s\n",
      "MTD: HostTopologyShuffle deployed in the network at 427.6s.\n",
      "Adversary: Processed vulnerabilities exploitation at 427.9s\n",
      "Adversary: Start brute force at 427.9s.\n",
      "MTD: serviceDiversity finished in 40.3s at 437.8s.\n",
      "MTD: Interrupted brute_force at 437.8s!\n",
      "Adversary: Restarting with port scan operation!\n",
      "Adversary: Start port scan at 439.8s.\n",
      "Adversary: Processed port scan at 449.8s.\n",
      "Adversary: Start vulnerability exploitation at 449.8s.\n",
      "MTD: HostTopologyShuffle triggered 457.9s\n",
      "MTD: HostTopologyShuffle suspended at 457.9s due to resource occupation\n",
      "MTD: HostTopologyShuffle finished in 40.1s at 467.7s.\n",
      "MTD: Interrupted vulnerability_exploit at 467.7s!\n",
      "Adversary: Restarting with host scan operation!\n",
      "Adversary: Start Host Scan at 469.7s.\n",
      "Adversary: Processed host scan at 474.7s.\n",
      "Adversary: Start Host Enum at 474.7s.\n",
      "Adversary: Processed host enum at 479.7s.\n",
      "Adversary: Start port scan at 479.7s.\n",
      "MTD: HostTopologyShuffle triggered 488.0s\n",
      "MTD: HostTopologyShuffle deployed in the network at 488.0s.\n",
      "Adversary: Processed port scan at 489.7s.\n",
      "Adversary: Start vulnerability exploitation at 489.7s.\n",
      "MTD: CompleteTopologyShuffle triggered 518.2s\n",
      "MTD: CompleteTopologyShuffle suspended at 518.2s due to resource occupation\n",
      "Adversary: Processed vulnerabilities exploitation at 520.0s\n",
      "Adversary: Start brute force at 520.0s.\n",
      "MTD: HostTopologyShuffle finished in 40.5s at 528.5s.\n",
      "MTD: Interrupted brute_force at 528.5s!\n",
      "Adversary: Restarting with host scan operation!\n",
      "Adversary: Start Host Scan at 530.5s.\n",
      "Adversary: Processed host scan at 535.5s.\n",
      "Adversary: Start Host Enum at 535.5s.\n",
      "Adversary: Processed host enum at 540.5s.\n",
      "Adversary: Start port scan at 540.5s.\n",
      "MTD: CompleteTopologyShuffle triggered 548.4s\n",
      "MTD: CompleteTopologyShuffle deployed in the network at 548.4s.\n",
      "Adversary: Processed port scan at 550.5s.\n",
      "Adversary: Start vulnerability exploitation at 550.5s.\n",
      "MTD: osdiversity triggered 578.7s\n",
      "MTD: osdiversity deployed in the network at 578.7s.\n",
      "Adversary: Processed vulnerabilities exploitation at 580.9s\n",
      "Adversary: Host 46 has been compromised at 580.9s!: \n",
      "Adversary: Start Host Enum at 580.9s.\n",
      "Adversary: Processed host enum at 585.9s.\n",
      "Adversary: Start port scan at 585.9s.\n",
      "Adversary: Processed port scan at 595.9s.\n",
      "Adversary: Host 49 has been compromised at 595.9s!: \n",
      "Adversary: Start Host Enum at 595.9s.\n",
      "Adversary: Processed host enum at 600.9s.\n",
      "Adversary: Start port scan at 600.9s.\n",
      "MTD: HostTopologyShuffle triggered 609.3s\n",
      "MTD: HostTopologyShuffle suspended at 609.3s due to resource occupation\n",
      "MTD: osdiversity finished in 31.7s at 610.4s.\n",
      "MTD: Interrupted port_scan at 610.4s!\n",
      "Adversary: Restarting with port scan operation!\n",
      "Adversary: Start port scan at 612.4s.\n",
      "MTD: CompleteTopologyShuffle finished in 70.3s at 618.7s.\n",
      "MTD: Interrupted port_scan at 618.7s!\n",
      "Adversary: Restarting with host scan operation!\n",
      "Adversary: Start Host Scan at 620.7s.\n",
      "Adversary: Processed host scan at 625.7s.\n",
      "Adversary: Start Host Enum at 625.7s.\n",
      "Adversary: Processed host enum at 630.7s.\n",
      "Adversary: Start port scan at 630.7s.\n",
      "MTD: HostTopologyShuffle triggered 639.7s\n",
      "MTD: HostTopologyShuffle deployed in the network at 639.7s.\n",
      "Adversary: Processed port scan at 640.7s.\n",
      "Adversary: Start vulnerability exploitation at 640.7s.\n",
      "MTD: HostTopologyShuffle triggered 670.0s\n",
      "MTD: HostTopologyShuffle suspended at 670.0s due to resource occupation\n",
      "Adversary: Processed vulnerabilities exploitation at 670.8s\n",
      "Adversary: Host 53 has been compromised at 670.8s!: \n",
      "Adversary: Start Host Enum at 670.8s.\n",
      "Adversary: Processed host enum at 675.8s.\n",
      "Adversary: Start port scan at 675.8s.\n",
      "MTD: HostTopologyShuffle finished in 40.8s at 680.4s.\n",
      "MTD: Interrupted port_scan at 680.4s!\n",
      "Adversary: Restarting with host scan operation!\n",
      "Adversary: Start Host Scan at 682.4s.\n",
      "Adversary: Processed host scan at 687.4s.\n",
      "Adversary: Start Host Enum at 687.4s.\n",
      "Adversary: Processed host enum at 692.4s.\n",
      "Adversary: Start port scan at 692.4s.\n",
      "MTD: HostTopologyShuffle triggered 700.5s\n",
      "MTD: HostTopologyShuffle deployed in the network at 700.5s.\n",
      "Adversary: Processed port scan at 702.4s.\n",
      "Adversary: Start vulnerability exploitation at 702.4s.\n",
      "MTD: osdiversity triggered 731.7s\n",
      "MTD: osdiversity deployed in the network at 731.7s.\n",
      "Adversary: Processed vulnerabilities exploitation at 733.8s\n",
      "Adversary: Host 38 has been compromised at 733.8s!: \n",
      "Adversary: Start Host Enum at 733.8s.\n",
      "Adversary: Processed host enum at 738.8s.\n",
      "Adversary: Start port scan at 738.8s.\n",
      "MTD: HostTopologyShuffle finished in 40.4s at 740.8s.\n",
      "MTD: Interrupted port_scan at 740.8s!\n",
      "Adversary: Restarting with host scan operation!\n",
      "Adversary: Start Host Scan at 742.8s.\n",
      "Adversary: Processed host scan at 747.8s.\n",
      "Adversary: Start Host Enum at 747.8s.\n",
      "Adversary: Processed host enum at 752.8s.\n",
      "Adversary: Start port scan at 752.8s.\n",
      "MTD: UserShuffle triggered 761.9s\n",
      "MTD: UserShuffle suspended at 761.9s due to resource occupation\n",
      "MTD: osdiversity finished in 30.3s at 762.0s.\n",
      "MTD: Interrupted port_scan at 762.0s!\n",
      "Adversary: Restarting with port scan operation!\n",
      "Adversary: Start port scan at 764.0s.\n",
      "Adversary: Processed port scan at 774.0s.\n",
      "Adversary: Start vulnerability exploitation at 774.0s.\n",
      "MTD: UserShuffle triggered 792.6s\n",
      "MTD: UserShuffle deployed in the network at 792.6s.\n",
      "MTD: UserShuffle finished in 10.1s at 802.7s.\n",
      "MTD: Interrupted vulnerability_exploit at 802.7s!\n",
      "Adversary: Restarting with host scan operation!\n",
      "Adversary: Start Host Scan at 804.7s.\n",
      "Adversary: Processed host scan at 809.7s.\n",
      "Adversary: Start Host Enum at 809.7s.\n",
      "Adversary: Processed host enum at 814.7s.\n",
      "Adversary: Start port scan at 814.7s.\n",
      "MTD: HostTopologyShuffle triggered 823.1s\n",
      "MTD: HostTopologyShuffle deployed in the network at 823.1s.\n",
      "Adversary: Processed port scan at 824.7s.\n",
      "Adversary: Start vulnerability exploitation at 824.7s.\n",
      "MTD: IPShuffle triggered 853.1s\n",
      "MTD: IPShuffle suspended at 853.1s due to resource occupation\n",
      "Adversary: Processed vulnerabilities exploitation at 855.7s\n",
      "Adversary: Host 36 has been compromised at 855.7s!: \n",
      "Adversary: Start Host Enum at 855.7s.\n",
      "Adversary: Processed host enum at 860.7s.\n",
      "Adversary: Start port scan at 860.7s.\n",
      "MTD: HostTopologyShuffle finished in 40.8s at 863.9s.\n",
      "MTD: Interrupted port_scan at 863.9s!\n",
      "Adversary: Restarting with host scan operation!\n",
      "Adversary: Start Host Scan at 865.9s.\n",
      "Adversary: Processed host scan at 870.9s.\n",
      "Adversary: Start Host Enum at 870.9s.\n",
      "Adversary: Processed host enum at 875.9s.\n",
      "Adversary: Host 48 has been compromised at 875.9s!: \n",
      "Adversary: Start Host Enum at 875.9s.\n",
      "Adversary: Processed host enum at 880.9s.\n",
      "Adversary: Start port scan at 880.9s.\n",
      "MTD: IPShuffle triggered 883.5s\n",
      "MTD: IPShuffle deployed in the network at 883.5s.\n",
      "Adversary: Processed port scan at 890.9s.\n",
      "Adversary: Start vulnerability exploitation at 890.9s.\n",
      "MTD: UserShuffle triggered 914.0s\n",
      "MTD: UserShuffle deployed in the network at 914.0s.\n",
      "Adversary: Processed vulnerabilities exploitation at 922.4s\n",
      "Adversary: Host 31 has been compromised at 922.4s!: \n",
      "Adversary: Start Host Enum at 922.4s.\n",
      "MTD: UserShuffle finished in 10.1s at 924.1s.\n",
      "MTD: Interrupted host_enum at 924.1s!\n",
      "Adversary: Restarting with host scan operation!\n",
      "Adversary: Start Host Scan at 926.1s.\n",
      "Adversary: Processed host scan at 931.1s.\n",
      "Adversary: Start Host Enum at 931.1s.\n",
      "MTD: IPShuffle finished in 50.1s at 933.6s.\n",
      "MTD: Interrupted host_enum at 933.6s!\n",
      "Adversary: Restarting with host scan operation!\n",
      "Adversary: Start Host Scan at 935.6s.\n",
      "Adversary: Processed host scan at 940.6s.\n",
      "Adversary: Start Host Enum at 940.6s.\n",
      "MTD: IPShuffle triggered 944.5s\n",
      "MTD: IPShuffle deployed in the network at 944.5s.\n",
      "Adversary: Processed host enum at 945.6s.\n",
      "Adversary: Start port scan at 945.6s.\n",
      "Adversary: Processed port scan at 955.6s.\n",
      "Adversary: Start vulnerability exploitation at 955.6s.\n",
      "MTD: UserShuffle triggered 974.5s\n",
      "MTD: UserShuffle deployed in the network at 974.5s.\n",
      "MTD: UserShuffle finished in 10.1s at 984.6s.\n",
      "MTD: Interrupted vulnerability_exploit at 984.6s!\n",
      "Adversary: Restarting with host scan operation!\n",
      "Adversary: Start Host Scan at 986.6s.\n",
      "Adversary: Processed host scan at 991.6s.\n",
      "Adversary: Start Host Enum at 991.6s.\n",
      "MTD: IPShuffle finished in 50.4s at 994.9s.\n",
      "MTD: Interrupted host_enum at 994.9s!\n",
      "Adversary: Restarting with host scan operation!\n",
      "Adversary: Start Host Scan at 996.9s.\n"
     ]
    }
   ],
   "source": [
    "# set up dataframe for collecting event data\n",
    "mtd_operation_record, attack_operation_record = run_sim()"
   ]
  },
  {
   "cell_type": "code",
   "execution_count": 3,
   "metadata": {
    "collapsed": false,
    "pycharm": {
     "name": "#%%\n"
    }
   },
   "outputs": [
    {
     "data": {
      "text/plain": "                       name  start_time  finish_time   duration\n0               osdiversity   30.155736    60.628122  30.472386\n1       HostTopologyShuffle   60.356690   100.368808  40.012118\n2               UserShuffle  152.111285   162.307192  10.195907\n3                 IPShuffle  121.646598   171.918540  50.271942\n4               UserShuffle  182.228943   192.835217  10.606273\n5               UserShuffle  213.596043   224.045705  10.449662\n6          serviceDiversity  243.987805   284.335300  40.347495\n7               PortShuffle  304.289143   344.648252  40.359109\n8       HostTopologyShuffle  334.927394   375.650473  40.723078\n9               UserShuffle  366.040516   376.630500  10.589985\n10         serviceDiversity  397.511352   437.841948  40.330596\n11      HostTopologyShuffle  427.620471   467.720141  40.099670\n12      HostTopologyShuffle  487.978843   528.474680  40.495836\n13              osdiversity  578.667041   610.365242  31.698202\n14  CompleteTopologyShuffle  548.406938   618.736754  70.329815\n15      HostTopologyShuffle  639.651013   680.435142  40.784129\n16      HostTopologyShuffle  700.454232   740.809864  40.355632\n17              osdiversity  731.676802   761.995783  30.318981\n18              UserShuffle  792.622825   802.732094  10.109270\n19      HostTopologyShuffle  823.059612   863.857434  40.797822\n20              UserShuffle  914.024177   924.126940  10.102764\n21                IPShuffle  883.528296   933.635061  50.106765\n22              UserShuffle  974.528416   984.624758  10.096342\n23                IPShuffle  944.511329   994.866905  50.355576",
      "text/html": "<div>\n<style scoped>\n    .dataframe tbody tr th:only-of-type {\n        vertical-align: middle;\n    }\n\n    .dataframe tbody tr th {\n        vertical-align: top;\n    }\n\n    .dataframe thead th {\n        text-align: right;\n    }\n</style>\n<table border=\"1\" class=\"dataframe\">\n  <thead>\n    <tr style=\"text-align: right;\">\n      <th></th>\n      <th>name</th>\n      <th>start_time</th>\n      <th>finish_time</th>\n      <th>duration</th>\n    </tr>\n  </thead>\n  <tbody>\n    <tr>\n      <th>0</th>\n      <td>osdiversity</td>\n      <td>30.155736</td>\n      <td>60.628122</td>\n      <td>30.472386</td>\n    </tr>\n    <tr>\n      <th>1</th>\n      <td>HostTopologyShuffle</td>\n      <td>60.356690</td>\n      <td>100.368808</td>\n      <td>40.012118</td>\n    </tr>\n    <tr>\n      <th>2</th>\n      <td>UserShuffle</td>\n      <td>152.111285</td>\n      <td>162.307192</td>\n      <td>10.195907</td>\n    </tr>\n    <tr>\n      <th>3</th>\n      <td>IPShuffle</td>\n      <td>121.646598</td>\n      <td>171.918540</td>\n      <td>50.271942</td>\n    </tr>\n    <tr>\n      <th>4</th>\n      <td>UserShuffle</td>\n      <td>182.228943</td>\n      <td>192.835217</td>\n      <td>10.606273</td>\n    </tr>\n    <tr>\n      <th>5</th>\n      <td>UserShuffle</td>\n      <td>213.596043</td>\n      <td>224.045705</td>\n      <td>10.449662</td>\n    </tr>\n    <tr>\n      <th>6</th>\n      <td>serviceDiversity</td>\n      <td>243.987805</td>\n      <td>284.335300</td>\n      <td>40.347495</td>\n    </tr>\n    <tr>\n      <th>7</th>\n      <td>PortShuffle</td>\n      <td>304.289143</td>\n      <td>344.648252</td>\n      <td>40.359109</td>\n    </tr>\n    <tr>\n      <th>8</th>\n      <td>HostTopologyShuffle</td>\n      <td>334.927394</td>\n      <td>375.650473</td>\n      <td>40.723078</td>\n    </tr>\n    <tr>\n      <th>9</th>\n      <td>UserShuffle</td>\n      <td>366.040516</td>\n      <td>376.630500</td>\n      <td>10.589985</td>\n    </tr>\n    <tr>\n      <th>10</th>\n      <td>serviceDiversity</td>\n      <td>397.511352</td>\n      <td>437.841948</td>\n      <td>40.330596</td>\n    </tr>\n    <tr>\n      <th>11</th>\n      <td>HostTopologyShuffle</td>\n      <td>427.620471</td>\n      <td>467.720141</td>\n      <td>40.099670</td>\n    </tr>\n    <tr>\n      <th>12</th>\n      <td>HostTopologyShuffle</td>\n      <td>487.978843</td>\n      <td>528.474680</td>\n      <td>40.495836</td>\n    </tr>\n    <tr>\n      <th>13</th>\n      <td>osdiversity</td>\n      <td>578.667041</td>\n      <td>610.365242</td>\n      <td>31.698202</td>\n    </tr>\n    <tr>\n      <th>14</th>\n      <td>CompleteTopologyShuffle</td>\n      <td>548.406938</td>\n      <td>618.736754</td>\n      <td>70.329815</td>\n    </tr>\n    <tr>\n      <th>15</th>\n      <td>HostTopologyShuffle</td>\n      <td>639.651013</td>\n      <td>680.435142</td>\n      <td>40.784129</td>\n    </tr>\n    <tr>\n      <th>16</th>\n      <td>HostTopologyShuffle</td>\n      <td>700.454232</td>\n      <td>740.809864</td>\n      <td>40.355632</td>\n    </tr>\n    <tr>\n      <th>17</th>\n      <td>osdiversity</td>\n      <td>731.676802</td>\n      <td>761.995783</td>\n      <td>30.318981</td>\n    </tr>\n    <tr>\n      <th>18</th>\n      <td>UserShuffle</td>\n      <td>792.622825</td>\n      <td>802.732094</td>\n      <td>10.109270</td>\n    </tr>\n    <tr>\n      <th>19</th>\n      <td>HostTopologyShuffle</td>\n      <td>823.059612</td>\n      <td>863.857434</td>\n      <td>40.797822</td>\n    </tr>\n    <tr>\n      <th>20</th>\n      <td>UserShuffle</td>\n      <td>914.024177</td>\n      <td>924.126940</td>\n      <td>10.102764</td>\n    </tr>\n    <tr>\n      <th>21</th>\n      <td>IPShuffle</td>\n      <td>883.528296</td>\n      <td>933.635061</td>\n      <td>50.106765</td>\n    </tr>\n    <tr>\n      <th>22</th>\n      <td>UserShuffle</td>\n      <td>974.528416</td>\n      <td>984.624758</td>\n      <td>10.096342</td>\n    </tr>\n    <tr>\n      <th>23</th>\n      <td>IPShuffle</td>\n      <td>944.511329</td>\n      <td>994.866905</td>\n      <td>50.355576</td>\n    </tr>\n  </tbody>\n</table>\n</div>"
     },
     "execution_count": 3,
     "metadata": {},
     "output_type": "execute_result"
    }
   ],
   "source": [
    "mtd_operation_record = pd.DataFrame(mtd_operation_record)\n",
    "mtd_operation_record"
   ]
  },
  {
   "cell_type": "code",
   "execution_count": 4,
   "metadata": {
    "collapsed": false,
    "pycharm": {
     "name": "#%%\n"
    }
   },
   "outputs": [],
   "source": [
    "# fig1 = go.Figure(go.Waterfall(x = mtd_operation_record['start_time'],\n",
    "#                               y = mtd_operation_record['name'],\n",
    "#                               measure = ['absolute']*100,\n",
    "#                               connector = {\"mode\":\"between\", \"line\":{\"color\":\"red\"}}))\n",
    "#\n",
    "# fig1.update_layout(title = 'Time duration of MTD operations',\n",
    "#                    xaxis_title = 'Time' , yaxis_title = 'MTD techniques',\n",
    "#                    width = 800, height = 600)"
   ]
  },
  {
   "cell_type": "code",
   "execution_count": 5,
   "metadata": {
    "collapsed": false,
    "pycharm": {
     "name": "#%%\n"
    }
   },
   "outputs": [
    {
     "data": {
      "text/plain": "<Figure size 1152x432 with 1 Axes>",
      "image/png": "[encoded data removed]"
     },
     "metadata": {
      "needs_background": "light"
     },
     "output_type": "display_data"
    }
   ],
   "source": [
    "fig, ax = plt.subplots(1, figsize=(16, 6))\n",
    "ax.barh(mtd_operation_record['name'], mtd_operation_record['duration'], left=mtd_operation_record['start_time'], height=0.1)\n",
    "\n",
    "plt.xlabel('Time',  weight='bold', fontsize=18)\n",
    "plt.ylabel('MTD Techniques', weight='bold', fontsize=18)\n",
    "fig.tight_layout()\n",
    "plt.show()"
   ]
  },
  {
   "cell_type": "code",
   "execution_count": 6,
   "metadata": {
    "collapsed": false,
    "pycharm": {
     "name": "#%%\n"
    }
   },
   "outputs": [
    {
     "data": {
      "text/plain": "                    name  start_time  finish_time   duration interrupted_in  \\\n0               HostScan    0.000000     5.000000   5.000000                  \n1               HostEnum    5.000000    10.000000   5.000000                  \n2               PortScan   10.000000    20.000000  10.000000                  \n3   VulnerabilityExploit   20.000000    50.022826  30.022826                  \n4               HostEnum   50.022826    55.022826   5.000000                  \n..                   ...         ...          ...        ...            ...   \n87              HostEnum  940.635061   945.635061   5.000000                  \n88              PortScan  945.635061   955.635061  10.000000                  \n89  VulnerabilityExploit  955.635061   984.624758  28.989697  Network Layer   \n90              HostScan  986.624758   991.624758   5.000000                  \n91              HostEnum  991.624758   994.866905   3.242147  Network Layer   \n\n   interrupted_by  current_host  current_host_attempt  current_total_attempt  \\\n0                            -1                     0                      0   \n1                            -1                     0                      0   \n2                             0                     1                      0   \n3                             0                     1                      0   \n4                             0                     1                      9   \n..            ...           ...                   ...                    ...   \n87                           31                     2                    180   \n88                           26                     1                    180   \n89    UserShuffle            26                     1                    180   \n90                           26                     1                    180   \n91      IPShuffle            26                     1                    180   \n\n   compromise_host  \n0                   \n1                   \n2                   \n3                0  \n4                   \n..             ...  \n87                  \n88                  \n89                  \n90                  \n91                  \n\n[92 rows x 10 columns]",
      "text/html": "<div>\n<style scoped>\n    .dataframe tbody tr th:only-of-type {\n        vertical-align: middle;\n    }\n\n    .dataframe tbody tr th {\n        vertical-align: top;\n    }\n\n    .dataframe thead th {\n        text-align: right;\n    }\n</style>\n<table border=\"1\" class=\"dataframe\">\n  <thead>\n    <tr style=\"text-align: right;\">\n      <th></th>\n      <th>name</th>\n      <th>start_time</th>\n      <th>finish_time</th>\n      <th>duration</th>\n      <th>interrupted_in</th>\n      <th>interrupted_by</th>\n      <th>current_host</th>\n      <th>current_host_attempt</th>\n      <th>current_total_attempt</th>\n      <th>compromise_host</th>\n    </tr>\n  </thead>\n  <tbody>\n    <tr>\n      <th>0</th>\n      <td>HostScan</td>\n      <td>0.000000</td>\n      <td>5.000000</td>\n      <td>5.000000</td>\n      <td></td>\n      <td></td>\n      <td>-1</td>\n      <td>0</td>\n      <td>0</td>\n      <td></td>\n    </tr>\n    <tr>\n      <th>1</th>\n      <td>HostEnum</td>\n      <td>5.000000</td>\n      <td>10.000000</td>\n      <td>5.000000</td>\n      <td></td>\n      <td></td>\n      <td>-1</td>\n      <td>0</td>\n      <td>0</td>\n      <td></td>\n    </tr>\n    <tr>\n      <th>2</th>\n      <td>PortScan</td>\n      <td>10.000000</td>\n      <td>20.000000</td>\n      <td>10.000000</td>\n      <td></td>\n      <td></td>\n      <td>0</td>\n      <td>1</td>\n      <td>0</td>\n      <td></td>\n    </tr>\n    <tr>\n      <th>3</th>\n      <td>VulnerabilityExploit</td>\n      <td>20.000000</td>\n      <td>50.022826</td>\n      <td>30.022826</td>\n      <td></td>\n      <td></td>\n      <td>0</td>\n      <td>1</td>\n      <td>0</td>\n      <td>0</td>\n    </tr>\n    <tr>\n      <th>4</th>\n      <td>HostEnum</td>\n      <td>50.022826</td>\n      <td>55.022826</td>\n      <td>5.000000</td>\n      <td></td>\n      <td></td>\n      <td>0</td>\n      <td>1</td>\n      <td>9</td>\n      <td></td>\n    </tr>\n    <tr>\n      <th>...</th>\n      <td>...</td>\n      <td>...</td>\n      <td>...</td>\n      <td>...</td>\n      <td>...</td>\n      <td>...</td>\n      <td>...</td>\n      <td>...</td>\n      <td>...</td>\n      <td>...</td>\n    </tr>\n    <tr>\n      <th>87</th>\n      <td>HostEnum</td>\n      <td>940.635061</td>\n      <td>945.635061</td>\n      <td>5.000000</td>\n      <td></td>\n      <td></td>\n      <td>31</td>\n      <td>2</td>\n      <td>180</td>\n      <td></td>\n    </tr>\n    <tr>\n      <th>88</th>\n      <td>PortScan</td>\n      <td>945.635061</td>\n      <td>955.635061</td>\n      <td>10.000000</td>\n      <td></td>\n      <td></td>\n      <td>26</td>\n      <td>1</td>\n      <td>180</td>\n      <td></td>\n    </tr>\n    <tr>\n      <th>89</th>\n      <td>VulnerabilityExploit</td>\n      <td>955.635061</td>\n      <td>984.624758</td>\n      <td>28.989697</td>\n      <td>Network Layer</td>\n      <td>UserShuffle</td>\n      <td>26</td>\n      <td>1</td>\n      <td>180</td>\n      <td></td>\n    </tr>\n    <tr>\n      <th>90</th>\n      <td>HostScan</td>\n      <td>986.624758</td>\n      <td>991.624758</td>\n      <td>5.000000</td>\n      <td></td>\n      <td></td>\n      <td>26</td>\n      <td>1</td>\n      <td>180</td>\n      <td></td>\n    </tr>\n    <tr>\n      <th>91</th>\n      <td>HostEnum</td>\n      <td>991.624758</td>\n      <td>994.866905</td>\n      <td>3.242147</td>\n      <td>Network Layer</td>\n      <td>IPShuffle</td>\n      <td>26</td>\n      <td>1</td>\n      <td>180</td>\n      <td></td>\n    </tr>\n  </tbody>\n</table>\n<p>92 rows × 10 columns</p>\n</div>"
     },
     "execution_count": 6,
     "metadata": {},
     "output_type": "execute_result"
    }
   ],
   "source": [
    "attack_operation_record = pd.DataFrame(attack_operation_record)\n",
    "attack_operation_record"
   ]
  },
  {
   "cell_type": "code",
   "execution_count": 7,
   "metadata": {
    "collapsed": false,
    "pycharm": {
     "name": "#%%\n"
    }
   },
   "outputs": [
    {
     "data": {
      "text/plain": "<Figure size 1152x288 with 1 Axes>",
      "image/png": "[encoded data removed]"
     },
     "metadata": {
      "needs_background": "light"
     },
     "output_type": "display_data"
    }
   ],
   "source": [
    "fig2, ax2 = plt.subplots(1, figsize=(16, 4))\n",
    "ax2.barh(attack_operation_record['name'], attack_operation_record['duration'], left=attack_operation_record['start_time'], height=0.1)\n",
    "\n",
    "plt.xlabel('Time',  weight='bold', fontsize=18)\n",
    "plt.ylabel('Attack Progress', weight='bold', fontsize=18)\n",
    "fig2.tight_layout()\n",
    "plt.show()"
   ]
  },
  {
   "cell_type": "code",
   "execution_count": 8,
   "metadata": {
    "collapsed": false,
    "pycharm": {
     "name": "#%%\n"
    }
   },
   "outputs": [
    {
     "data": {
      "text/plain": "        name  start_time  finish_time  duration interrupted_in interrupted_by  \\\n51  PortScan  585.896423   595.896423      10.0                                 \n\n    current_host  current_host_attempt  current_total_attempt compromise_host  \n51            49                     1                     71              49  ",
      "text/html": "<div>\n<style scoped>\n    .dataframe tbody tr th:only-of-type {\n        vertical-align: middle;\n    }\n\n    .dataframe tbody tr th {\n        vertical-align: top;\n    }\n\n    .dataframe thead th {\n        text-align: right;\n    }\n</style>\n<table border=\"1\" class=\"dataframe\">\n  <thead>\n    <tr style=\"text-align: right;\">\n      <th></th>\n      <th>name</th>\n      <th>start_time</th>\n      <th>finish_time</th>\n      <th>duration</th>\n      <th>interrupted_in</th>\n      <th>interrupted_by</th>\n      <th>current_host</th>\n      <th>current_host_attempt</th>\n      <th>current_total_attempt</th>\n      <th>compromise_host</th>\n    </tr>\n  </thead>\n  <tbody>\n    <tr>\n      <th>51</th>\n      <td>PortScan</td>\n      <td>585.896423</td>\n      <td>595.896423</td>\n      <td>10.0</td>\n      <td></td>\n      <td></td>\n      <td>49</td>\n      <td>1</td>\n      <td>71</td>\n      <td>49</td>\n    </tr>\n  </tbody>\n</table>\n</div>"
     },
     "execution_count": 8,
     "metadata": {},
     "output_type": "execute_result"
    }
   ],
   "source": [
    "attack_operation_record[(attack_operation_record['name'] == 'PortScan') & (attack_operation_record['compromise_host'] != '')]"
   ]
  },
  {
   "cell_type": "code",
   "execution_count": 9,
   "outputs": [
    {
     "data": {
      "text/plain": "                    name  start_time  finish_time   duration interrupted_in  \\\n3   VulnerabilityExploit   20.000000    50.022826  30.022826                  \n28  VulnerabilityExploit  296.335300   327.400818  31.065518                  \n49  VulnerabilityExploit  550.474680   580.896423  30.421743                  \n58  VulnerabilityExploit  640.736754   670.755980  30.019226                  \n64  VulnerabilityExploit  702.435142   733.762328  31.327186                  \n75  VulnerabilityExploit  824.732094   855.676735  30.944640                  \n82  VulnerabilityExploit  890.857434   922.358444  31.501010                  \n\n   interrupted_by  current_host  current_host_attempt  current_total_attempt  \\\n3                             0                     1                      0   \n28                           40                     5                     24   \n49                           46                     2                     56   \n58                           53                     1                     71   \n64                           38                     1                    119   \n75                           36                     3                    155   \n82                           31                     2                    164   \n\n   compromise_host  \n3                0  \n28              40  \n49              46  \n58              53  \n64              38  \n75              36  \n82              31  ",
      "text/html": "<div>\n<style scoped>\n    .dataframe tbody tr th:only-of-type {\n        vertical-align: middle;\n    }\n\n    .dataframe tbody tr th {\n        vertical-align: top;\n    }\n\n    .dataframe thead th {\n        text-align: right;\n    }\n</style>\n<table border=\"1\" class=\"dataframe\">\n  <thead>\n    <tr style=\"text-align: right;\">\n      <th></th>\n      <th>name</th>\n      <th>start_time</th>\n      <th>finish_time</th>\n      <th>duration</th>\n      <th>interrupted_in</th>\n      <th>interrupted_by</th>\n      <th>current_host</th>\n      <th>current_host_attempt</th>\n      <th>current_total_attempt</th>\n      <th>compromise_host</th>\n    </tr>\n  </thead>\n  <tbody>\n    <tr>\n      <th>3</th>\n      <td>VulnerabilityExploit</td>\n      <td>20.000000</td>\n      <td>50.022826</td>\n      <td>30.022826</td>\n      <td></td>\n      <td></td>\n      <td>0</td>\n      <td>1</td>\n      <td>0</td>\n      <td>0</td>\n    </tr>\n    <tr>\n      <th>28</th>\n      <td>VulnerabilityExploit</td>\n      <td>296.335300</td>\n      <td>327.400818</td>\n      <td>31.065518</td>\n      <td></td>\n      <td></td>\n      <td>40</td>\n      <td>5</td>\n      <td>24</td>\n      <td>40</td>\n    </tr>\n    <tr>\n      <th>49</th>\n      <td>VulnerabilityExploit</td>\n      <td>550.474680</td>\n      <td>580.896423</td>\n      <td>30.421743</td>\n      <td></td>\n      <td></td>\n      <td>46</td>\n      <td>2</td>\n      <td>56</td>\n      <td>46</td>\n    </tr>\n    <tr>\n      <th>58</th>\n      <td>VulnerabilityExploit</td>\n      <td>640.736754</td>\n      <td>670.755980</td>\n      <td>30.019226</td>\n      <td></td>\n      <td></td>\n      <td>53</td>\n      <td>1</td>\n      <td>71</td>\n      <td>53</td>\n    </tr>\n    <tr>\n      <th>64</th>\n      <td>VulnerabilityExploit</td>\n      <td>702.435142</td>\n      <td>733.762328</td>\n      <td>31.327186</td>\n      <td></td>\n      <td></td>\n      <td>38</td>\n      <td>1</td>\n      <td>119</td>\n      <td>38</td>\n    </tr>\n    <tr>\n      <th>75</th>\n      <td>VulnerabilityExploit</td>\n      <td>824.732094</td>\n      <td>855.676735</td>\n      <td>30.944640</td>\n      <td></td>\n      <td></td>\n      <td>36</td>\n      <td>3</td>\n      <td>155</td>\n      <td>36</td>\n    </tr>\n    <tr>\n      <th>82</th>\n      <td>VulnerabilityExploit</td>\n      <td>890.857434</td>\n      <td>922.358444</td>\n      <td>31.501010</td>\n      <td></td>\n      <td></td>\n      <td>31</td>\n      <td>2</td>\n      <td>164</td>\n      <td>31</td>\n    </tr>\n  </tbody>\n</table>\n</div>"
     },
     "execution_count": 9,
     "metadata": {},
     "output_type": "execute_result"
    }
   ],
   "source": [
    "attack_operation_record[(attack_operation_record['name'] == 'VulnerabilityExploit') & (attack_operation_record['compromise_host'] != '')]"
   ],
   "metadata": {
    "collapsed": false,
    "pycharm": {
     "name": "#%%\n"
    }
   }
  },
  {
   "cell_type": "code",
   "execution_count": 10,
   "outputs": [
    {
     "data": {
      "text/plain": "Empty DataFrame\nColumns: [name, start_time, finish_time, duration, interrupted_in, interrupted_by, current_host, current_host_attempt, current_total_attempt, compromise_host]\nIndex: []",
      "text/html": "<div>\n<style scoped>\n    .dataframe tbody tr th:only-of-type {\n        vertical-align: middle;\n    }\n\n    .dataframe tbody tr th {\n        vertical-align: top;\n    }\n\n    .dataframe thead th {\n        text-align: right;\n    }\n</style>\n<table border=\"1\" class=\"dataframe\">\n  <thead>\n    <tr style=\"text-align: right;\">\n      <th></th>\n      <th>name</th>\n      <th>start_time</th>\n      <th>finish_time</th>\n      <th>duration</th>\n      <th>interrupted_in</th>\n      <th>interrupted_by</th>\n      <th>current_host</th>\n      <th>current_host_attempt</th>\n      <th>current_total_attempt</th>\n      <th>compromise_host</th>\n    </tr>\n  </thead>\n  <tbody>\n  </tbody>\n</table>\n</div>"
     },
     "execution_count": 10,
     "metadata": {},
     "output_type": "execute_result"
    }
   ],
   "source": [
    "attack_operation_record[(attack_operation_record['name'] == 'BruteForce') & (attack_operation_record['compromise_host'] != '')]"
   ],
   "metadata": {
    "collapsed": false,
    "pycharm": {
     "name": "#%%\n"
    }
   }
  },
  {
   "cell_type": "code",
   "execution_count": 20,
   "outputs": [],
   "source": [
    "if not os.path.exists('data_analysis'):\n",
    "    os.makedirs(os.path.dirname('data_analysis'))\n",
    "\n",
    "attack_operation_record.to_csv('data_analysis/attack_operation_record.csv',index=False)\n",
    "mtd_operation_record.to_csv('data_analysis/mtd_operation_record.csv', index=False)"
   ],
   "metadata": {
    "collapsed": false,
    "pycharm": {
     "name": "#%%\n"
    }
   }
  },
  {
   "cell_type": "code",
   "execution_count": null,
   "outputs": [],
   "source": [],
   "metadata": {
    "collapsed": false,
    "pycharm": {
     "name": "#%%\n"
    }
   }
  }
 ],
 "metadata": {
  "kernelspec": {
   "display_name": "Python 3.9.13 ('venv': venv)",
   "language": "python",
   "name": "python3"
  },
  "language_info": {
   "codemirror_mode": {
    "name": "ipython",
    "version": 3
   },
   "file_extension": ".py",
   "mimetype": "text/x-python",
   "name": "python",
   "nbconvert_exporter": "python",
   "pygments_lexer": "ipython3",
   "version": "3.9.13"
  },
  "orig_nbformat": 4,
  "vscode": {
   "interpreter": {
    "hash": "ca714204bdf767f914288741b60dfd3ec695087ef64c4e46bb5b8f91083c76f9"
   }
  }
 },
 "nbformat": 4,
 "nbformat_minor": 2
}