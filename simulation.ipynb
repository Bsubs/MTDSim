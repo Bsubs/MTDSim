{
 "cells": [
  {
   "cell_type": "code",
   "execution_count": 1,
   "metadata": {},
   "outputs": [],
   "source": [
    "from run_sim import run_sim\n",
    "import pandas as pd\n",
    "import matplotlib.pyplot as plt\n",
    "import plotly.graph_objects as go"
   ]
  },
  {
   "cell_type": "code",
   "execution_count": 2,
   "metadata": {},
   "outputs": [
    {
     "name": "stdout",
     "output_type": "stream",
     "text": [
      "Target Node is:  82\n",
      "Adversary: Start Host Scan at 0.0s.\n",
      "Adversary: Processed host scan at 5.0s.\n",
      "Adversary: Start Host Enum at 5.0s.\n",
      "Adversary: Processed host enum at 10.0s.\n",
      "Adversary: Start port scan at 10.0s.\n",
      "Adversary: Processed port scan at 20.0s.\n",
      "Adversary: Start vulnerability exploitation at 20.0s.\n",
      "MTD: UserShuffle triggered 30.2s\n",
      "MTD: UserShuffle deployed in the network at 30.2s.\n",
      "MTD: UserShuffle finished in 10.3s at 40.5s.\n",
      "MTD: Interrupted vulnerability_exploit at 40.5s!\n",
      "Adversary: Restarting with host scan operation!\n",
      "Adversary: Start Host Scan at 42.5s.\n",
      "Adversary: Processed host scan at 47.5s.\n",
      "Adversary: Start Host Enum at 47.5s.\n",
      "Adversary: Processed host enum at 52.5s.\n",
      "Adversary: Start port scan at 52.5s.\n",
      "MTD: HostTopologyShuffle triggered 61.5s\n",
      "MTD: HostTopologyShuffle deployed in the network at 61.5s.\n",
      "Adversary: Processed port scan at 62.5s.\n",
      "Adversary: Start vulnerability exploitation at 62.5s.\n",
      "MTD: UserShuffle triggered 92.9s\n",
      "MTD: UserShuffle deployed in the network at 92.9s.\n",
      "Adversary: Processed vulnerabilities exploitation at 94.2s\n",
      "Adversary: Start brute force at 94.2s.\n",
      "MTD: HostTopologyShuffle finished in 40.1s at 101.6s.\n",
      "MTD: Interrupted brute_force at 101.6s!\n",
      "MTD: UserShuffle finished in 10.1s at 103.0s.\n",
      "Adversary: Restarting with host scan operation!\n",
      "Adversary: Start Host Scan at 103.6s.\n",
      "Adversary: Processed host scan at 108.6s.\n",
      "Adversary: Start Host Enum at 108.6s.\n",
      "Adversary: Processed host enum at 113.6s.\n",
      "Adversary: Start port scan at 113.6s.\n",
      "MTD: CompleteTopologyShuffle triggered 123.5s\n",
      "MTD: CompleteTopologyShuffle deployed in the network at 123.5s.\n",
      "Adversary: Processed port scan at 123.6s.\n",
      "Adversary: Start vulnerability exploitation at 123.6s.\n",
      "MTD: osdiversity triggered 153.8s\n",
      "MTD: osdiversity deployed in the network at 153.8s.\n",
      "Adversary: Processed vulnerabilities exploitation at 154.4s\n",
      "Adversary: Host 0 has been compromised at 154.4s!: \n",
      "Adversary: Start Host Enum at 154.4s.\n",
      "Adversary: Processed host enum at 159.4s.\n",
      "Adversary: Start port scan at 159.4s.\n",
      "Adversary: Processed port scan at 169.4s.\n",
      "Adversary: Start vulnerability exploitation at 169.4s.\n",
      "MTD: osdiversity finished in 30.3s at 184.2s.\n",
      "MTD: Interrupted vulnerability_exploit at 184.2s!\n",
      "MTD: UserShuffle triggered 184.2s\n",
      "MTD: UserShuffle deployed in the network at 184.2s.\n",
      "Adversary: Restarting with port scan operation!\n",
      "Adversary: Start port scan at 186.2s.\n",
      "MTD: CompleteTopologyShuffle finished in 70.0s at 193.5s.\n",
      "MTD: Interrupted port_scan at 193.5s!\n",
      "MTD: UserShuffle finished in 10.2s at 194.4s.\n",
      "Adversary: Restarting with host scan operation!\n",
      "Adversary: Start Host Scan at 195.5s.\n",
      "Adversary: Processed host scan at 200.5s.\n",
      "Adversary: Start Host Enum at 200.5s.\n",
      "Adversary: Processed host enum at 205.5s.\n",
      "Adversary: Start port scan at 205.5s.\n",
      "MTD: osdiversity triggered 214.6s\n",
      "MTD: osdiversity deployed in the network at 214.6s.\n",
      "Adversary: Processed port scan at 215.5s.\n",
      "Adversary: Start vulnerability exploitation at 215.5s.\n",
      "MTD: IPShuffle triggered 244.6s\n",
      "MTD: IPShuffle deployed in the network at 244.6s.\n",
      "MTD: osdiversity finished in 30.4s at 245.0s.\n",
      "MTD: Interrupted vulnerability_exploit at 245.0s!\n",
      "Adversary: Restarting with port scan operation!\n",
      "Adversary: Start port scan at 247.0s.\n",
      "Adversary: Processed port scan at 257.0s.\n",
      "Adversary: Start vulnerability exploitation at 257.0s.\n",
      "MTD: serviceDiversity triggered 275.1s\n",
      "MTD: serviceDiversity deployed in the network at 275.1s.\n",
      "Adversary: Processed vulnerabilities exploitation at 289.9s\n",
      "Adversary: Host 38 has been compromised at 289.9s!: \n",
      "Adversary: Start Host Enum at 289.9s.\n",
      "Adversary: Processed host enum at 294.9s.\n",
      "Adversary: Start port scan at 294.9s.\n",
      "MTD: IPShuffle finished in 50.6s at 295.2s.\n",
      "MTD: Interrupted port_scan at 295.2s!\n",
      "Adversary: Restarting with host scan operation!\n",
      "Adversary: Start Host Scan at 297.2s.\n",
      "Adversary: Processed host scan at 302.2s.\n",
      "Adversary: Start Host Enum at 302.2s.\n",
      "MTD: CompleteTopologyShuffle triggered 306.2s\n",
      "MTD: CompleteTopologyShuffle deployed in the network at 306.2s.\n",
      "Adversary: Processed host enum at 307.2s.\n",
      "Adversary: Start port scan at 307.2s.\n",
      "MTD: serviceDiversity finished in 41.0s at 316.1s.\n",
      "MTD: Interrupted port_scan at 316.1s!\n",
      "Adversary: Restarting with port scan operation!\n",
      "Adversary: Start port scan at 318.1s.\n",
      "Adversary: Processed port scan at 328.1s.\n",
      "Adversary: Start vulnerability exploitation at 328.1s.\n",
      "MTD: HostTopologyShuffle triggered 337.5s\n",
      "MTD: HostTopologyShuffle suspended at 337.5s due to resource occupation\n",
      "Adversary: Processed vulnerabilities exploitation at 358.7s\n",
      "Adversary: Start brute force at 358.7s.\n",
      "MTD: HostTopologyShuffle triggered 367.6s\n",
      "MTD: HostTopologyShuffle suspended at 367.6s due to resource occupation\n",
      "Adversary: Processed brute force user at 378.7s.\n",
      "Adversary: Start Host Enum at 378.7s.\n",
      "MTD: CompleteTopologyShuffle finished in 74.1s at 380.3s.\n",
      "MTD: Interrupted host_enum at 380.3s!\n",
      "Adversary: Restarting with host scan operation!\n",
      "Adversary: Start Host Scan at 382.3s.\n",
      "Adversary: Processed host scan at 387.3s.\n",
      "Adversary: Start Host Enum at 387.3s.\n",
      "Adversary: Processed host enum at 392.3s.\n",
      "Adversary: Start port scan at 392.3s.\n",
      "MTD: HostTopologyShuffle triggered 397.9s\n",
      "MTD: HostTopologyShuffle deployed in the network at 397.9s.\n",
      "Adversary: Processed port scan at 402.3s.\n",
      "Adversary: Start vulnerability exploitation at 402.3s.\n",
      "MTD: IPShuffle triggered 428.0s\n",
      "MTD: IPShuffle suspended at 428.0s due to resource occupation\n",
      "Adversary: Processed vulnerabilities exploitation at 433.0s\n",
      "Adversary: Host 47 has been compromised at 433.0s!: \n",
      "Adversary: Start Host Enum at 433.0s.\n",
      "Adversary: Processed host enum at 438.0s.\n",
      "Adversary: Start Host Enum at 438.0s.\n",
      "MTD: HostTopologyShuffle finished in 40.7s at 438.6s.\n",
      "MTD: Interrupted host_enum at 438.6s!\n",
      "Adversary: Restarting with host scan operation!\n",
      "Adversary: Start Host Scan at 440.6s.\n",
      "Adversary: Processed host scan at 445.6s.\n",
      "Adversary: Start Host Enum at 445.6s.\n",
      "Adversary: Processed host enum at 450.6s.\n",
      "Adversary: Start port scan at 450.6s.\n",
      "MTD: IPShuffle triggered 460.1s\n",
      "MTD: IPShuffle deployed in the network at 460.1s.\n",
      "Adversary: Processed port scan at 460.6s.\n",
      "Adversary: Start vulnerability exploitation at 460.6s.\n",
      "Adversary: Processed vulnerabilities exploitation at 490.6s\n",
      "Adversary: Start brute force at 490.6s.\n",
      "MTD: CompleteTopologyShuffle triggered 491.3s\n",
      "MTD: CompleteTopologyShuffle suspended at 491.3s due to resource occupation\n",
      "Adversary: Processed brute force user at 510.6s.\n",
      "Adversary: Start Host Enum at 510.6s.\n",
      "MTD: IPShuffle finished in 50.6s at 510.7s.\n",
      "MTD: Interrupted host_enum at 510.7s!\n",
      "Adversary: Restarting with host scan operation!\n",
      "Adversary: Start Host Scan at 512.7s.\n",
      "Adversary: Processed host scan at 517.7s.\n",
      "Adversary: Start Host Enum at 517.7s.\n",
      "MTD: CompleteTopologyShuffle triggered 521.7s\n",
      "MTD: CompleteTopologyShuffle deployed in the network at 521.7s.\n",
      "Adversary: Processed host enum at 522.7s.\n",
      "Adversary: Start port scan at 522.7s.\n",
      "Adversary: Processed port scan at 532.7s.\n",
      "Adversary: Start vulnerability exploitation at 532.7s.\n",
      "MTD: osdiversity triggered 552.0s\n",
      "MTD: osdiversity deployed in the network at 552.0s.\n",
      "Adversary: Processed vulnerabilities exploitation at 563.0s\n",
      "Adversary: Host 40 has been compromised at 563.0s!: \n",
      "Adversary: Start Host Enum at 563.0s.\n",
      "Adversary: Processed host enum at 568.0s.\n",
      "Adversary: Start Host Enum at 568.0s.\n",
      "Adversary: Processed host enum at 573.0s.\n",
      "Adversary: Start port scan at 573.0s.\n",
      "MTD: osdiversity triggered 582.2s\n",
      "MTD: osdiversity suspended at 582.2s due to resource occupation\n",
      "MTD: osdiversity finished in 30.4s at 582.4s.\n",
      "MTD: Interrupted port_scan at 582.4s!\n",
      "Adversary: Restarting with port scan operation!\n",
      "Adversary: Start port scan at 584.4s.\n",
      "MTD: CompleteTopologyShuffle finished in 70.3s at 592.0s.\n",
      "MTD: Interrupted port_scan at 592.0s!\n",
      "Adversary: Restarting with host scan operation!\n",
      "Adversary: Start Host Scan at 594.0s.\n",
      "Adversary: Processed host scan at 599.0s.\n",
      "Adversary: Start Host Enum at 599.0s.\n",
      "Adversary: Processed host enum at 604.0s.\n",
      "Adversary: Start port scan at 604.0s.\n",
      "MTD: osdiversity triggered 613.1s\n",
      "MTD: osdiversity deployed in the network at 613.1s.\n",
      "Adversary: Processed port scan at 614.0s.\n",
      "Adversary: Start vulnerability exploitation at 614.0s.\n",
      "MTD: osdiversity finished in 30.1s at 643.2s.\n",
      "MTD: Interrupted vulnerability_exploit at 643.2s!\n",
      "MTD: PortShuffle triggered 644.0s\n",
      "MTD: PortShuffle deployed in the network at 644.0s.\n",
      "Adversary: Restarting with port scan operation!\n",
      "Adversary: Start port scan at 645.2s.\n",
      "Adversary: Processed port scan at 655.2s.\n",
      "Adversary: Start vulnerability exploitation at 655.2s.\n",
      "MTD: PortShuffle triggered 674.7s\n",
      "MTD: PortShuffle suspended at 674.7s due to resource occupation\n",
      "MTD: PortShuffle finished in 40.8s at 684.8s.\n",
      "MTD: Interrupted vulnerability_exploit at 684.8s!\n",
      "Adversary: Restarting with port scan operation!\n",
      "Adversary: Start port scan at 686.8s.\n",
      "Adversary: Processed port scan at 696.8s.\n",
      "Adversary: Start vulnerability exploitation at 696.8s.\n",
      "MTD: PortShuffle triggered 706.0s\n",
      "MTD: PortShuffle deployed in the network at 706.0s.\n",
      "Adversary: Processed vulnerabilities exploitation at 727.2s\n",
      "Adversary: Start brute force at 727.2s.\n",
      "MTD: IPShuffle triggered 736.0s\n",
      "MTD: IPShuffle deployed in the network at 736.0s.\n",
      "MTD: PortShuffle finished in 40.2s at 746.2s.\n",
      "MTD: Interrupted brute_force at 746.2s!\n",
      "Adversary: Restarting with port scan operation!\n",
      "Adversary: Start port scan at 748.2s.\n",
      "Adversary: Processed port scan at 758.2s.\n",
      "Adversary: Start vulnerability exploitation at 758.2s.\n",
      "MTD: CompleteTopologyShuffle triggered 766.3s\n",
      "MTD: CompleteTopologyShuffle suspended at 766.3s due to resource occupation\n",
      "MTD: IPShuffle finished in 50.0s at 786.1s.\n",
      "MTD: Interrupted vulnerability_exploit at 786.1s!\n",
      "Adversary: Restarting with host scan operation!\n",
      "Adversary: Start Host Scan at 788.1s.\n",
      "Adversary: Processed host scan at 793.1s.\n",
      "Adversary: Start Host Enum at 793.1s.\n",
      "MTD: CompleteTopologyShuffle triggered 796.4s\n",
      "MTD: CompleteTopologyShuffle deployed in the network at 796.4s.\n",
      "Adversary: Processed host enum at 798.1s.\n",
      "Adversary: Start port scan at 798.1s.\n",
      "Adversary: Processed port scan at 808.1s.\n",
      "Adversary: Start vulnerability exploitation at 808.1s.\n",
      "MTD: UserShuffle triggered 826.4s\n",
      "MTD: UserShuffle deployed in the network at 826.4s.\n",
      "MTD: UserShuffle finished in 10.5s at 837.0s.\n",
      "MTD: Interrupted vulnerability_exploit at 837.0s!\n",
      "Adversary: Restarting with host scan operation!\n",
      "Adversary: Start Host Scan at 839.0s.\n",
      "Adversary: Processed host scan at 844.0s.\n",
      "Adversary: Start Host Enum at 844.0s.\n",
      "Adversary: Processed host enum at 849.0s.\n",
      "Adversary: Start port scan at 849.0s.\n",
      "MTD: osdiversity triggered 856.5s\n",
      "MTD: osdiversity deployed in the network at 856.5s.\n",
      "Adversary: Processed port scan at 859.0s.\n",
      "Adversary: Start vulnerability exploitation at 859.0s.\n",
      "MTD: CompleteTopologyShuffle finished in 70.4s at 866.8s.\n",
      "MTD: Interrupted vulnerability_exploit at 866.8s!\n",
      "Adversary: Restarting with host scan operation!\n",
      "Adversary: Start Host Scan at 868.8s.\n",
      "Adversary: Processed host scan at 873.8s.\n",
      "Adversary: Start Host Enum at 873.8s.\n",
      "Adversary: Processed host enum at 878.8s.\n",
      "Adversary: Start port scan at 878.8s.\n",
      "MTD: osdiversity finished in 30.4s at 886.9s.\n",
      "MTD: Interrupted port_scan at 886.9s!\n",
      "MTD: serviceDiversity triggered 887.3s\n",
      "MTD: serviceDiversity deployed in the network at 887.3s.\n",
      "Adversary: Restarting with port scan operation!\n",
      "Adversary: Start port scan at 888.9s.\n",
      "Adversary: Processed port scan at 898.9s.\n",
      "Adversary: Start vulnerability exploitation at 898.9s.\n",
      "MTD: CompleteTopologyShuffle triggered 917.8s\n",
      "MTD: CompleteTopologyShuffle deployed in the network at 917.8s.\n",
      "MTD: serviceDiversity finished in 41.4s at 928.7s.\n",
      "MTD: Interrupted vulnerability_exploit at 928.7s!\n",
      "Adversary: Restarting with port scan operation!\n",
      "Adversary: Start port scan at 930.7s.\n",
      "Adversary: Processed port scan at 940.7s.\n",
      "Adversary: Start vulnerability exploitation at 940.7s.\n",
      "MTD: HostTopologyShuffle triggered 948.5s\n",
      "MTD: HostTopologyShuffle suspended at 948.5s due to resource occupation\n",
      "Adversary: Processed vulnerabilities exploitation at 970.7s\n",
      "Adversary: Start brute force at 970.7s.\n",
      "MTD: HostTopologyShuffle triggered 978.5s\n",
      "MTD: HostTopologyShuffle suspended at 978.5s due to resource occupation\n",
      "MTD: CompleteTopologyShuffle finished in 70.1s at 988.0s.\n",
      "MTD: Interrupted brute_force at 988.0s!\n",
      "Adversary: Restarting with host scan operation!\n",
      "Adversary: Start Host Scan at 990.0s.\n",
      "Adversary: Processed host scan at 995.0s.\n",
      "Adversary: Start Host Enum at 995.0s.\n",
      "Adversary: Processed host enum at 1000.0s.\n",
      "Adversary: Start port scan at 1000.0s.\n"
     ]
    }
   ],
   "source": [
    "# set up dataframe for collecting event data\n",
    "mtd_operation_record, attack_operation_record = run_sim()"
   ]
  },
  {
   "cell_type": "code",
   "execution_count": 3,
   "metadata": {
    "collapsed": false,
    "pycharm": {
     "name": "#%%\n"
    }
   },
   "outputs": [
    {
     "data": {
      "text/plain": "                       name  start_time  finish_time   duration\n0               UserShuffle   30.156183    40.492435  10.336253\n1       HostTopologyShuffle   61.539565   101.645413  40.105848\n2               UserShuffle   92.902210   103.040708  10.138498\n3               osdiversity  153.826182   184.153664  30.327482\n4   CompleteTopologyShuffle  123.452683   193.479547  70.026864\n5               UserShuffle  184.227501   194.397414  10.169913\n6               osdiversity  214.607584   244.970110  30.362526\n7                 IPShuffle  244.641238   295.209051  50.567814\n8          serviceDiversity  275.098507   316.067781  40.969273\n9   CompleteTopologyShuffle  306.186511   380.289838  74.103327\n10      HostTopologyShuffle  397.935410   438.605837  40.670427\n11                IPShuffle  460.074384   510.703662  50.629278\n12              osdiversity  552.018647   582.375326  30.356679\n13  CompleteTopologyShuffle  521.654465   591.958621  70.304156\n14              osdiversity  613.076669   643.199681  30.123012\n15              PortShuffle  644.041712   684.802133  40.760421\n16              PortShuffle  706.003137   746.203578  40.200441\n17                IPShuffle  736.020139   786.060594  50.040455\n18              UserShuffle  826.428585   836.965261  10.536677\n19  CompleteTopologyShuffle  796.378799   866.786474  70.407675\n20              osdiversity  856.463956   886.894461  30.430505\n21         serviceDiversity  887.331714   928.708744  41.377030\n22  CompleteTopologyShuffle  917.838210   987.979676  70.141466",
      "text/html": "<div>\n<style scoped>\n    .dataframe tbody tr th:only-of-type {\n        vertical-align: middle;\n    }\n\n    .dataframe tbody tr th {\n        vertical-align: top;\n    }\n\n    .dataframe thead th {\n        text-align: right;\n    }\n</style>\n<table border=\"1\" class=\"dataframe\">\n  <thead>\n    <tr style=\"text-align: right;\">\n      <th></th>\n      <th>name</th>\n      <th>start_time</th>\n      <th>finish_time</th>\n      <th>duration</th>\n    </tr>\n  </thead>\n  <tbody>\n    <tr>\n      <th>0</th>\n      <td>UserShuffle</td>\n      <td>30.156183</td>\n      <td>40.492435</td>\n      <td>10.336253</td>\n    </tr>\n    <tr>\n      <th>1</th>\n      <td>HostTopologyShuffle</td>\n      <td>61.539565</td>\n      <td>101.645413</td>\n      <td>40.105848</td>\n    </tr>\n    <tr>\n      <th>2</th>\n      <td>UserShuffle</td>\n      <td>92.902210</td>\n      <td>103.040708</td>\n      <td>10.138498</td>\n    </tr>\n    <tr>\n      <th>3</th>\n      <td>osdiversity</td>\n      <td>153.826182</td>\n      <td>184.153664</td>\n      <td>30.327482</td>\n    </tr>\n    <tr>\n      <th>4</th>\n      <td>CompleteTopologyShuffle</td>\n      <td>123.452683</td>\n      <td>193.479547</td>\n      <td>70.026864</td>\n    </tr>\n    <tr>\n      <th>5</th>\n      <td>UserShuffle</td>\n      <td>184.227501</td>\n      <td>194.397414</td>\n      <td>10.169913</td>\n    </tr>\n    <tr>\n      <th>6</th>\n      <td>osdiversity</td>\n      <td>214.607584</td>\n      <td>244.970110</td>\n      <td>30.362526</td>\n    </tr>\n    <tr>\n      <th>7</th>\n      <td>IPShuffle</td>\n      <td>244.641238</td>\n      <td>295.209051</td>\n      <td>50.567814</td>\n    </tr>\n    <tr>\n      <th>8</th>\n      <td>serviceDiversity</td>\n      <td>275.098507</td>\n      <td>316.067781</td>\n      <td>40.969273</td>\n    </tr>\n    <tr>\n      <th>9</th>\n      <td>CompleteTopologyShuffle</td>\n      <td>306.186511</td>\n      <td>380.289838</td>\n      <td>74.103327</td>\n    </tr>\n    <tr>\n      <th>10</th>\n      <td>HostTopologyShuffle</td>\n      <td>397.935410</td>\n      <td>438.605837</td>\n      <td>40.670427</td>\n    </tr>\n    <tr>\n      <th>11</th>\n      <td>IPShuffle</td>\n      <td>460.074384</td>\n      <td>510.703662</td>\n      <td>50.629278</td>\n    </tr>\n    <tr>\n      <th>12</th>\n      <td>osdiversity</td>\n      <td>552.018647</td>\n      <td>582.375326</td>\n      <td>30.356679</td>\n    </tr>\n    <tr>\n      <th>13</th>\n      <td>CompleteTopologyShuffle</td>\n      <td>521.654465</td>\n      <td>591.958621</td>\n      <td>70.304156</td>\n    </tr>\n    <tr>\n      <th>14</th>\n      <td>osdiversity</td>\n      <td>613.076669</td>\n      <td>643.199681</td>\n      <td>30.123012</td>\n    </tr>\n    <tr>\n      <th>15</th>\n      <td>PortShuffle</td>\n      <td>644.041712</td>\n      <td>684.802133</td>\n      <td>40.760421</td>\n    </tr>\n    <tr>\n      <th>16</th>\n      <td>PortShuffle</td>\n      <td>706.003137</td>\n      <td>746.203578</td>\n      <td>40.200441</td>\n    </tr>\n    <tr>\n      <th>17</th>\n      <td>IPShuffle</td>\n      <td>736.020139</td>\n      <td>786.060594</td>\n      <td>50.040455</td>\n    </tr>\n    <tr>\n      <th>18</th>\n      <td>UserShuffle</td>\n      <td>826.428585</td>\n      <td>836.965261</td>\n      <td>10.536677</td>\n    </tr>\n    <tr>\n      <th>19</th>\n      <td>CompleteTopologyShuffle</td>\n      <td>796.378799</td>\n      <td>866.786474</td>\n      <td>70.407675</td>\n    </tr>\n    <tr>\n      <th>20</th>\n      <td>osdiversity</td>\n      <td>856.463956</td>\n      <td>886.894461</td>\n      <td>30.430505</td>\n    </tr>\n    <tr>\n      <th>21</th>\n      <td>serviceDiversity</td>\n      <td>887.331714</td>\n      <td>928.708744</td>\n      <td>41.377030</td>\n    </tr>\n    <tr>\n      <th>22</th>\n      <td>CompleteTopologyShuffle</td>\n      <td>917.838210</td>\n      <td>987.979676</td>\n      <td>70.141466</td>\n    </tr>\n  </tbody>\n</table>\n</div>"
     },
     "execution_count": 3,
     "metadata": {},
     "output_type": "execute_result"
    }
   ],
   "source": [
    "mtd_operation_record = pd.DataFrame(mtd_operation_record)\n",
    "mtd_operation_record"
   ]
  },
  {
   "cell_type": "code",
   "execution_count": 4,
   "metadata": {
    "collapsed": false,
    "pycharm": {
     "name": "#%%\n"
    }
   },
   "outputs": [],
   "source": [
    "# fig1 = go.Figure(go.Waterfall(x = mtd_operation_record['start_time'],\n",
    "#                               y = mtd_operation_record['name'],\n",
    "#                               measure = ['absolute']*100,\n",
    "#                               connector = {\"mode\":\"between\", \"line\":{\"color\":\"red\"}}))\n",
    "#\n",
    "# fig1.update_layout(title = 'Time duration of MTD operations',\n",
    "#                    xaxis_title = 'Time' , yaxis_title = 'MTD techniques',\n",
    "#                    width = 800, height = 600)"
   ]
  },
  {
   "cell_type": "code",
   "execution_count": 5,
   "metadata": {
    "collapsed": false,
    "pycharm": {
     "name": "#%%\n"
    }
   },
   "outputs": [
    {
     "data": {
      "text/plain": "<Figure size 1152x432 with 1 Axes>",
      "image/png": "[encoded data removed]"
     },
     "metadata": {
      "needs_background": "light"
     },
     "output_type": "display_data"
    }
   ],
   "source": [
    "fig, ax = plt.subplots(1, figsize=(16, 6))\n",
    "ax.barh(mtd_operation_record['name'], mtd_operation_record['duration'], left=mtd_operation_record['start_time'], height=0.1)\n",
    "\n",
    "plt.xlabel('Time',  weight='bold', fontsize=18)\n",
    "plt.ylabel('MTD Techniques', weight='bold', fontsize=18)\n",
    "fig.tight_layout()\n",
    "plt.show()"
   ]
  },
  {
   "cell_type": "code",
   "execution_count": 6,
   "metadata": {
    "collapsed": false,
    "pycharm": {
     "name": "#%%\n"
    }
   },
   "outputs": [
    {
     "data": {
      "text/plain": "                    name  start_time  finish_time   duration interrupted_in  \\\n0               HostScan    0.000000     5.000000   5.000000                  \n1               HostEnum    5.000000    10.000000   5.000000                  \n2               PortScan   10.000000    20.000000  10.000000                  \n3   VulnerabilityExploit   20.000000    40.492435  20.492435  Network Layer   \n4               HostScan   42.492435    47.492435   5.000000                  \n..                   ...         ...          ...        ...            ...   \n76              PortScan  930.708744   940.708744  10.000000                  \n77  VulnerabilityExploit  940.708744   970.717168  30.008424                  \n78            BruteForce  970.717168   987.979676  17.262508  Network Layer   \n79              HostScan  989.979676   994.979676   5.000000                  \n80              HostEnum  994.979676   999.979676   5.000000                  \n\n             interrupted_by compromise_host  \n0                                            \n1                                            \n2                                            \n3               UserShuffle                  \n4                                            \n..                      ...             ...  \n76                                           \n77                                           \n78  CompleteTopologyShuffle                  \n79                                           \n80                                           \n\n[81 rows x 7 columns]",
      "text/html": "<div>\n<style scoped>\n    .dataframe tbody tr th:only-of-type {\n        vertical-align: middle;\n    }\n\n    .dataframe tbody tr th {\n        vertical-align: top;\n    }\n\n    .dataframe thead th {\n        text-align: right;\n    }\n</style>\n<table border=\"1\" class=\"dataframe\">\n  <thead>\n    <tr style=\"text-align: right;\">\n      <th></th>\n      <th>name</th>\n      <th>start_time</th>\n      <th>finish_time</th>\n      <th>duration</th>\n      <th>interrupted_in</th>\n      <th>interrupted_by</th>\n      <th>compromise_host</th>\n    </tr>\n  </thead>\n  <tbody>\n    <tr>\n      <th>0</th>\n      <td>HostScan</td>\n      <td>0.000000</td>\n      <td>5.000000</td>\n      <td>5.000000</td>\n      <td></td>\n      <td></td>\n      <td></td>\n    </tr>\n    <tr>\n      <th>1</th>\n      <td>HostEnum</td>\n      <td>5.000000</td>\n      <td>10.000000</td>\n      <td>5.000000</td>\n      <td></td>\n      <td></td>\n      <td></td>\n    </tr>\n    <tr>\n      <th>2</th>\n      <td>PortScan</td>\n      <td>10.000000</td>\n      <td>20.000000</td>\n      <td>10.000000</td>\n      <td></td>\n      <td></td>\n      <td></td>\n    </tr>\n    <tr>\n      <th>3</th>\n      <td>VulnerabilityExploit</td>\n      <td>20.000000</td>\n      <td>40.492435</td>\n      <td>20.492435</td>\n      <td>Network Layer</td>\n      <td>UserShuffle</td>\n      <td></td>\n    </tr>\n    <tr>\n      <th>4</th>\n      <td>HostScan</td>\n      <td>42.492435</td>\n      <td>47.492435</td>\n      <td>5.000000</td>\n      <td></td>\n      <td></td>\n      <td></td>\n    </tr>\n    <tr>\n      <th>...</th>\n      <td>...</td>\n      <td>...</td>\n      <td>...</td>\n      <td>...</td>\n      <td>...</td>\n      <td>...</td>\n      <td>...</td>\n    </tr>\n    <tr>\n      <th>76</th>\n      <td>PortScan</td>\n      <td>930.708744</td>\n      <td>940.708744</td>\n      <td>10.000000</td>\n      <td></td>\n      <td></td>\n      <td></td>\n    </tr>\n    <tr>\n      <th>77</th>\n      <td>VulnerabilityExploit</td>\n      <td>940.708744</td>\n      <td>970.717168</td>\n      <td>30.008424</td>\n      <td></td>\n      <td></td>\n      <td></td>\n    </tr>\n    <tr>\n      <th>78</th>\n      <td>BruteForce</td>\n      <td>970.717168</td>\n      <td>987.979676</td>\n      <td>17.262508</td>\n      <td>Network Layer</td>\n      <td>CompleteTopologyShuffle</td>\n      <td></td>\n    </tr>\n    <tr>\n      <th>79</th>\n      <td>HostScan</td>\n      <td>989.979676</td>\n      <td>994.979676</td>\n      <td>5.000000</td>\n      <td></td>\n      <td></td>\n      <td></td>\n    </tr>\n    <tr>\n      <th>80</th>\n      <td>HostEnum</td>\n      <td>994.979676</td>\n      <td>999.979676</td>\n      <td>5.000000</td>\n      <td></td>\n      <td></td>\n      <td></td>\n    </tr>\n  </tbody>\n</table>\n<p>81 rows × 7 columns</p>\n</div>"
     },
     "execution_count": 6,
     "metadata": {},
     "output_type": "execute_result"
    }
   ],
   "source": [
    "attack_operation_record = pd.DataFrame(attack_operation_record)\n",
    "attack_operation_record"
   ]
  },
  {
   "cell_type": "code",
   "execution_count": 7,
   "metadata": {
    "collapsed": false,
    "pycharm": {
     "name": "#%%\n"
    }
   },
   "outputs": [
    {
     "data": {
      "text/plain": "<Figure size 1152x288 with 1 Axes>",
      "image/png": "[encoded data removed]"
     },
     "metadata": {
      "needs_background": "light"
     },
     "output_type": "display_data"
    }
   ],
   "source": [
    "fig2, ax2 = plt.subplots(1, figsize=(16, 4))\n",
    "ax2.barh(attack_operation_record['name'], attack_operation_record['duration'], left=attack_operation_record['start_time'], height=0.1)\n",
    "\n",
    "plt.xlabel('Time',  weight='bold', fontsize=18)\n",
    "plt.ylabel('Attack Progress', weight='bold', fontsize=18)\n",
    "fig2.tight_layout()\n",
    "plt.show()"
   ]
  },
  {
   "cell_type": "code",
   "execution_count": 8,
   "metadata": {
    "collapsed": false,
    "pycharm": {
     "name": "#%%\n"
    }
   },
   "outputs": [
    {
     "data": {
      "text/plain": "Empty DataFrame\nColumns: [name, start_time, finish_time, duration, interrupted_in, interrupted_by, compromise_host]\nIndex: []",
      "text/html": "<div>\n<style scoped>\n    .dataframe tbody tr th:only-of-type {\n        vertical-align: middle;\n    }\n\n    .dataframe tbody tr th {\n        vertical-align: top;\n    }\n\n    .dataframe thead th {\n        text-align: right;\n    }\n</style>\n<table border=\"1\" class=\"dataframe\">\n  <thead>\n    <tr style=\"text-align: right;\">\n      <th></th>\n      <th>name</th>\n      <th>start_time</th>\n      <th>finish_time</th>\n      <th>duration</th>\n      <th>interrupted_in</th>\n      <th>interrupted_by</th>\n      <th>compromise_host</th>\n    </tr>\n  </thead>\n  <tbody>\n  </tbody>\n</table>\n</div>"
     },
     "execution_count": 8,
     "metadata": {},
     "output_type": "execute_result"
    }
   ],
   "source": [
    "attack_operation_record[(attack_operation_record['name'] == 'PortScan') & (attack_operation_record['compromise_host'] != '')]"
   ]
  },
  {
   "cell_type": "code",
   "execution_count": 9,
   "outputs": [
    {
     "data": {
      "text/plain": "                    name  start_time  finish_time   duration interrupted_in  \\\n12  VulnerabilityExploit  123.645413   154.443219  30.797806                  \n22  VulnerabilityExploit  256.970110   289.850594  32.880484                  \n35  VulnerabilityExploit  402.289838   432.978813  30.688975                  \n47  VulnerabilityExploit  532.703662   563.017450  30.313788                  \n\n   interrupted_by compromise_host  \n12                              0  \n22                             38  \n35                             47  \n47                             40  ",
      "text/html": "<div>\n<style scoped>\n    .dataframe tbody tr th:only-of-type {\n        vertical-align: middle;\n    }\n\n    .dataframe tbody tr th {\n        vertical-align: top;\n    }\n\n    .dataframe thead th {\n        text-align: right;\n    }\n</style>\n<table border=\"1\" class=\"dataframe\">\n  <thead>\n    <tr style=\"text-align: right;\">\n      <th></th>\n      <th>name</th>\n      <th>start_time</th>\n      <th>finish_time</th>\n      <th>duration</th>\n      <th>interrupted_in</th>\n      <th>interrupted_by</th>\n      <th>compromise_host</th>\n    </tr>\n  </thead>\n  <tbody>\n    <tr>\n      <th>12</th>\n      <td>VulnerabilityExploit</td>\n      <td>123.645413</td>\n      <td>154.443219</td>\n      <td>30.797806</td>\n      <td></td>\n      <td></td>\n      <td>0</td>\n    </tr>\n    <tr>\n      <th>22</th>\n      <td>VulnerabilityExploit</td>\n      <td>256.970110</td>\n      <td>289.850594</td>\n      <td>32.880484</td>\n      <td></td>\n      <td></td>\n      <td>38</td>\n    </tr>\n    <tr>\n      <th>35</th>\n      <td>VulnerabilityExploit</td>\n      <td>402.289838</td>\n      <td>432.978813</td>\n      <td>30.688975</td>\n      <td></td>\n      <td></td>\n      <td>47</td>\n    </tr>\n    <tr>\n      <th>47</th>\n      <td>VulnerabilityExploit</td>\n      <td>532.703662</td>\n      <td>563.017450</td>\n      <td>30.313788</td>\n      <td></td>\n      <td></td>\n      <td>40</td>\n    </tr>\n  </tbody>\n</table>\n</div>"
     },
     "execution_count": 9,
     "metadata": {},
     "output_type": "execute_result"
    }
   ],
   "source": [
    "attack_operation_record[(attack_operation_record['name'] == 'VulnerabilityExploit') & (attack_operation_record['compromise_host'] != '')]"
   ],
   "metadata": {
    "collapsed": false,
    "pycharm": {
     "name": "#%%\n"
    }
   }
  },
  {
   "cell_type": "code",
   "execution_count": 10,
   "outputs": [
    {
     "data": {
      "text/plain": "Empty DataFrame\nColumns: [name, start_time, finish_time, duration, interrupted_in, interrupted_by, compromise_host]\nIndex: []",
      "text/html": "<div>\n<style scoped>\n    .dataframe tbody tr th:only-of-type {\n        vertical-align: middle;\n    }\n\n    .dataframe tbody tr th {\n        vertical-align: top;\n    }\n\n    .dataframe thead th {\n        text-align: right;\n    }\n</style>\n<table border=\"1\" class=\"dataframe\">\n  <thead>\n    <tr style=\"text-align: right;\">\n      <th></th>\n      <th>name</th>\n      <th>start_time</th>\n      <th>finish_time</th>\n      <th>duration</th>\n      <th>interrupted_in</th>\n      <th>interrupted_by</th>\n      <th>compromise_host</th>\n    </tr>\n  </thead>\n  <tbody>\n  </tbody>\n</table>\n</div>"
     },
     "execution_count": 10,
     "metadata": {},
     "output_type": "execute_result"
    }
   ],
   "source": [
    "attack_operation_record[(attack_operation_record['name'] == 'BruteForce') & (attack_operation_record['compromise_host'] != '')]"
   ],
   "metadata": {
    "collapsed": false,
    "pycharm": {
     "name": "#%%\n"
    }
   }
  },
  {
   "cell_type": "code",
   "execution_count": 11,
   "outputs": [
    {
     "data": {
      "text/plain": "'\\n1. event starts when port scan\\n2. event continue when\\n'"
     },
     "execution_count": 11,
     "metadata": {},
     "output_type": "execute_result"
    }
   ],
   "source": [
    "'''\n",
    "1. event starts when port scan\n",
    "2. event continue when\n",
    "'''"
   ],
   "metadata": {
    "collapsed": false,
    "pycharm": {
     "name": "#%%\n"
    }
   }
  }
 ],
 "metadata": {
  "kernelspec": {
   "display_name": "Python 3.9.13 ('venv': venv)",
   "language": "python",
   "name": "python3"
  },
  "language_info": {
   "codemirror_mode": {
    "name": "ipython",
    "version": 3
   },
   "file_extension": ".py",
   "mimetype": "text/x-python",
   "name": "python",
   "nbconvert_exporter": "python",
   "pygments_lexer": "ipython3",
   "version": "3.9.13"
  },
  "orig_nbformat": 4,
  "vscode": {
   "interpreter": {
    "hash": "ca714204bdf767f914288741b60dfd3ec695087ef64c4e46bb5b8f91083c76f9"
   }
  }
 },
 "nbformat": 4,
 "nbformat_minor": 2
}