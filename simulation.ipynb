{
 "cells": [
  {
   "cell_type": "code",
   "execution_count": 1,
   "metadata": {},
   "outputs": [],
   "source": [
    "from run_sim import run_sim\n",
    "import pandas as pd\n",
    "import matplotlib.pyplot as plt\n",
    "import plotly.graph_objects as go"
   ]
  },
  {
   "cell_type": "code",
   "execution_count": 2,
   "metadata": {},
   "outputs": [
    {
     "name": "stdout",
     "output_type": "stream",
     "text": [
      "Target Node is:  85\n",
      "Adversary: Start Host Scan at 0.0s.\n",
      "MTD: IPShuffle triggered 11.8s\n",
      "MTD: IPShuffle deployed in the network at 11.8s.\n",
      "MTD: IPShuffle finished in 13.4s at 25.2s.\n",
      "MTD: Interrupted host_scan at 25.2s!\n",
      "Adversary: Restarting with host scan operation!\n",
      "Adversary: Start Host Scan at 27.2s.\n",
      "MTD: osdiversity triggered 69.9s\n",
      "MTD: osdiversity deployed in the network at 69.9s.\n",
      "Adversary: Processed host scan at 77.2s.\n",
      "Adversary: Start Host Enum at 77.2s.\n",
      "MTD: osdiversity finished in 11.6s at 81.5s.\n",
      "MTD: Interrupted host_enum at 81.5s!\n",
      "Adversary: Restarting with host scan operation!\n",
      "Adversary: Start Host Scan at 83.5s.\n",
      "MTD: osdiversity triggered 89.3s\n",
      "MTD: osdiversity deployed in the network at 89.3s.\n",
      "MTD: CompleteTopologyShuffle triggered 90.1s\n",
      "MTD: CompleteTopologyShuffle deployed in the network at 90.1s.\n",
      "MTD: osdiversity finished in 14.3s at 103.6s.\n",
      "MTD: Interrupted host_scan at 103.6s!\n",
      "Adversary: Restarting with host scan operation!\n",
      "Adversary: Start Host Scan at 105.6s.\n",
      "MTD: IPShuffle triggered 154.0s\n",
      "MTD: IPShuffle suspended at 154.0s due to resource occupation\n",
      "Adversary: Processed host scan at 155.6s.\n",
      "Adversary: Start Host Enum at 155.6s.\n",
      "Adversary: Processed host enum at 160.6s.\n",
      "Adversary: Start port scan at 160.6s.\n",
      "MTD: IPShuffle triggered 162.5s\n",
      "MTD: IPShuffle suspended at 162.5s due to resource occupation\n",
      "MTD: CompleteTopologyShuffle finished in 76.0s at 166.1s.\n",
      "MTD: Interrupted port_scan at 166.1s!\n",
      "Adversary: Restarting with host scan operation!\n",
      "Adversary: Start Host Scan at 168.1s.\n",
      "MTD: IPShuffle triggered 183.9s\n",
      "MTD: IPShuffle deployed in the network at 183.9s.\n",
      "MTD: IPShuffle finished in 29.7s at 213.6s.\n",
      "MTD: Interrupted host_scan at 213.6s!\n",
      "MTD: osdiversity triggered 215.2s\n",
      "MTD: osdiversity deployed in the network at 215.2s.\n",
      "Adversary: Restarting with host scan operation!\n",
      "Adversary: Start Host Scan at 215.6s.\n",
      "MTD: serviceDiversity triggered 248.9s\n",
      "MTD: serviceDiversity suspended at 248.9s due to resource occupation\n",
      "MTD: osdiversity finished in 34.2s at 249.4s.\n",
      "MTD: Interrupted host_scan at 249.4s!\n",
      "Adversary: Restarting with host scan operation!\n",
      "Adversary: Start Host Scan at 251.4s.\n",
      "MTD: serviceDiversity triggered 251.9s\n",
      "MTD: serviceDiversity deployed in the network at 251.9s.\n",
      "MTD: osdiversity triggered 282.6s\n",
      "MTD: osdiversity suspended at 282.6s due to resource occupation\n",
      "MTD: osdiversity triggered 284.3s\n",
      "MTD: osdiversity suspended at 284.3s due to resource occupation\n",
      "Adversary: Processed host scan at 301.4s.\n",
      "Adversary: Start Host Enum at 301.4s.\n",
      "Adversary: Processed host enum at 306.4s.\n",
      "Adversary: Start port scan at 306.4s.\n",
      "Adversary: Processed port scan at 316.4s.\n",
      "Adversary: Start vulnerability exploitation at 316.4s.\n",
      "Adversary: Processed vulnerabilities exploitation at 319.9s\n",
      "Adversary: Start brute force at 319.9s.\n",
      "MTD: osdiversity triggered 321.5s\n",
      "MTD: osdiversity suspended at 321.5s due to resource occupation\n",
      "Adversary: Processed brute force user at 339.9s.\n",
      "Adversary: Start Host Enum at 339.9s.\n",
      "Adversary: Processed host enum at 344.9s.\n",
      "Adversary: Start port scan at 344.9s.\n",
      "Adversary: Processed port scan at 354.9s.\n",
      "Adversary: Start vulnerability exploitation at 354.9s.\n",
      "MTD: serviceDiversity finished in 119.1s at 370.9s.\n",
      "MTD: Interrupted vulnerability_exploit at 370.9s!\n",
      "Adversary: Restarting with port scan operation!\n",
      "Adversary: Start port scan at 372.9s.\n",
      "Adversary: Processed port scan at 382.9s.\n",
      "Adversary: Start vulnerability exploitation at 382.9s.\n",
      "Adversary: Processed vulnerabilities exploitation at 418.9s\n",
      "Adversary: Start brute force at 418.9s.\n",
      "MTD: osdiversity triggered 420.8s\n",
      "MTD: osdiversity deployed in the network at 420.8s.\n",
      "MTD: osdiversity finished in 5.4s at 426.3s.\n",
      "MTD: Interrupted brute_force at 426.3s!\n",
      "Adversary: Restarting with port scan operation!\n",
      "Adversary: Start port scan at 428.3s.\n",
      "MTD: osdiversity triggered 429.3s\n",
      "MTD: osdiversity deployed in the network at 429.3s.\n",
      "Adversary: Processed port scan at 438.3s.\n",
      "Adversary: Start vulnerability exploitation at 438.3s.\n",
      "MTD: IPShuffle triggered 438.4s\n",
      "MTD: IPShuffle deployed in the network at 438.4s.\n",
      "Adversary: Processed vulnerabilities exploitation at 446.6s\n",
      "Adversary: Start brute force at 446.6s.\n",
      "MTD: osdiversity finished in 32.4s at 461.7s.\n",
      "MTD: Interrupted brute_force at 461.7s!\n",
      "Adversary: Restarting with port scan operation!\n",
      "Adversary: Start port scan at 463.7s.\n",
      "Adversary: Processed port scan at 473.7s.\n",
      "Adversary: Start vulnerability exploitation at 473.7s.\n",
      "MTD: CompleteTopologyShuffle triggered 476.4s\n",
      "MTD: CompleteTopologyShuffle suspended at 476.4s due to resource occupation\n",
      "Adversary: Processed vulnerabilities exploitation at 489.1s\n",
      "Adversary: Host 1 has been compromised at 489.1s!: \n",
      "Adversary: Start Host Enum at 489.1s.\n",
      "Adversary: Processed host enum at 494.1s.\n",
      "Adversary: Start port scan at 494.1s.\n",
      "Adversary: Processed port scan at 504.1s.\n",
      "Adversary: Start vulnerability exploitation at 504.1s.\n",
      "MTD: IPShuffle finished in 87.4s at 525.8s.\n",
      "MTD: Interrupted vulnerability_exploit at 525.8s!\n",
      "Adversary: Restarting with host scan operation!\n",
      "Adversary: Start Host Scan at 527.8s.\n",
      "Adversary: Processed host scan at 577.8s.\n",
      "Adversary: Start Host Enum at 577.8s.\n",
      "Adversary: Processed host enum at 582.8s.\n",
      "Adversary: Start port scan at 582.8s.\n",
      "Adversary: Processed port scan at 592.8s.\n",
      "Adversary: Start vulnerability exploitation at 592.8s.\n",
      "MTD: CompleteTopologyShuffle triggered 597.8s\n",
      "MTD: CompleteTopologyShuffle deployed in the network at 597.8s.\n",
      "MTD: CompleteTopologyShuffle finished in 2.2s at 600.1s.\n",
      "MTD: Interrupted vulnerability_exploit at 600.1s!\n",
      "Adversary: Restarting with host scan operation!\n",
      "Adversary: Start Host Scan at 602.1s.\n",
      "Adversary: Processed host scan at 652.1s.\n",
      "Adversary: Start Host Enum at 652.1s.\n",
      "Adversary: Processed host enum at 657.1s.\n",
      "Adversary: Start port scan at 657.1s.\n",
      "Adversary: Processed port scan at 667.1s.\n",
      "Adversary: Start vulnerability exploitation at 667.1s.\n",
      "Adversary: Processed vulnerabilities exploitation at 676.6s\n",
      "Adversary: Start brute force at 676.6s.\n",
      "Adversary: Processed brute force user at 696.6s.\n",
      "Adversary: Start Host Enum at 696.6s.\n",
      "Adversary: Processed host enum at 701.6s.\n",
      "Adversary: Start port scan at 701.6s.\n",
      "Adversary: Processed port scan at 711.6s.\n",
      "Adversary: Start vulnerability exploitation at 711.6s.\n",
      "MTD: PortShuffle triggered 742.6s\n",
      "MTD: PortShuffle deployed in the network at 742.6s.\n",
      "Adversary: Processed vulnerabilities exploitation at 762.9s\n",
      "Adversary: Host 0 has been compromised at 762.9s!: \n",
      "Adversary: Start Host Enum at 762.9s.\n",
      "Adversary: Processed host enum at 767.9s.\n",
      "Adversary: Start port scan at 767.9s.\n",
      "Adversary: Processed port scan at 777.9s.\n",
      "Adversary: Start vulnerability exploitation at 777.9s.\n",
      "Adversary: Processed vulnerabilities exploitation at 800.7s\n",
      "Adversary: Start brute force at 800.7s.\n",
      "MTD: serviceDiversity triggered 806.1s\n",
      "MTD: serviceDiversity suspended at 806.1s due to resource occupation\n",
      "MTD: PortShuffle finished in 76.7s at 819.4s.\n",
      "MTD: Interrupted brute_force at 819.4s!\n",
      "Adversary: Restarting with port scan operation!\n",
      "Adversary: Start port scan at 821.4s.\n",
      "Adversary: Processed port scan at 831.4s.\n",
      "Adversary: Start vulnerability exploitation at 831.4s.\n",
      "Adversary: Processed vulnerabilities exploitation at 865.1s\n",
      "Adversary: Start brute force at 865.1s.\n",
      "Adversary: Processed brute force user at 885.1s.\n",
      "Adversary: Start Host Enum at 885.1s.\n",
      "Adversary: Processed host enum at 890.1s.\n",
      "Adversary: Start port scan at 890.1s.\n",
      "Adversary: Processed port scan at 900.1s.\n",
      "Adversary: Start vulnerability exploitation at 900.1s.\n",
      "Adversary: Processed vulnerabilities exploitation at 908.8s\n",
      "Adversary: Host 2 has been compromised at 908.8s!: \n",
      "Adversary: Start Host Enum at 908.8s.\n",
      "Adversary: Processed host enum at 913.8s.\n",
      "Adversary: Start port scan at 913.8s.\n",
      "Adversary: Processed port scan at 923.8s.\n",
      "Adversary: Start vulnerability exploitation at 923.8s.\n",
      "MTD: serviceDiversity triggered 939.0s\n",
      "MTD: serviceDiversity deployed in the network at 939.0s.\n",
      "Adversary: Processed vulnerabilities exploitation at 956.7s\n",
      "Adversary: Host 52 has been compromised at 956.7s!: \n",
      "Adversary: Start Host Enum at 956.7s.\n",
      "MTD: HostTopologyShuffle triggered 958.5s\n",
      "MTD: HostTopologyShuffle deployed in the network at 958.5s.\n",
      "Adversary: Processed host enum at 961.7s.\n",
      "Adversary: Start port scan at 961.7s.\n",
      "Adversary: Processed port scan at 971.7s.\n",
      "Adversary: Start vulnerability exploitation at 971.7s.\n",
      "MTD: HostTopologyShuffle finished in 15.0s at 973.5s.\n",
      "MTD: Interrupted vulnerability_exploit at 973.5s!\n",
      "MTD: IPShuffle triggered 973.6s\n",
      "MTD: IPShuffle deployed in the network at 973.6s.\n",
      "MTD: HostTopologyShuffle triggered 974.2s\n",
      "MTD: HostTopologyShuffle suspended at 974.2s due to resource occupation\n",
      "Adversary: Restarting with host scan operation!\n",
      "Adversary: Start Host Scan at 975.5s.\n",
      "MTD: serviceDiversity finished in 59.4s at 998.4s.\n",
      "MTD: Interrupted host_scan at 998.4s!\n"
     ]
    }
   ],
   "source": [
    "# set up dataframe for collecting event data\n",
    "mtd_operation_record, attack_operation_record = run_sim()"
   ]
  },
  {
   "cell_type": "code",
   "execution_count": 3,
   "metadata": {
    "collapsed": false,
    "pycharm": {
     "name": "#%%\n"
    }
   },
   "outputs": [
    {
     "data": {
      "text/plain": "                       name  start_time  finish_time    duration\n0                 IPShuffle   11.765616    25.163610   13.397994\n1               osdiversity   69.931262    81.483785   11.552522\n2               osdiversity   89.279514   103.551299   14.271785\n3   CompleteTopologyShuffle   90.075119   166.113984   76.038864\n4                 IPShuffle  183.921263   213.577448   29.656185\n5               osdiversity  215.239319   249.404390   34.165071\n6          serviceDiversity  251.854629   370.921017  119.066388\n7               osdiversity  420.828756   426.275101    5.446346\n8               osdiversity  429.264302   461.674991   32.410688\n9                 IPShuffle  438.396616   525.787613   87.390998\n10  CompleteTopologyShuffle  597.823559   600.055445    2.231885\n11              PortShuffle  742.630974   819.360703   76.729729\n12      HostTopologyShuffle  958.459989   973.450319   14.990329\n13         serviceDiversity  939.005787   998.393365   59.387578",
      "text/html": "<div>\n<style scoped>\n    .dataframe tbody tr th:only-of-type {\n        vertical-align: middle;\n    }\n\n    .dataframe tbody tr th {\n        vertical-align: top;\n    }\n\n    .dataframe thead th {\n        text-align: right;\n    }\n</style>\n<table border=\"1\" class=\"dataframe\">\n  <thead>\n    <tr style=\"text-align: right;\">\n      <th></th>\n      <th>name</th>\n      <th>start_time</th>\n      <th>finish_time</th>\n      <th>duration</th>\n    </tr>\n  </thead>\n  <tbody>\n    <tr>\n      <th>0</th>\n      <td>IPShuffle</td>\n      <td>11.765616</td>\n      <td>25.163610</td>\n      <td>13.397994</td>\n    </tr>\n    <tr>\n      <th>1</th>\n      <td>osdiversity</td>\n      <td>69.931262</td>\n      <td>81.483785</td>\n      <td>11.552522</td>\n    </tr>\n    <tr>\n      <th>2</th>\n      <td>osdiversity</td>\n      <td>89.279514</td>\n      <td>103.551299</td>\n      <td>14.271785</td>\n    </tr>\n    <tr>\n      <th>3</th>\n      <td>CompleteTopologyShuffle</td>\n      <td>90.075119</td>\n      <td>166.113984</td>\n      <td>76.038864</td>\n    </tr>\n    <tr>\n      <th>4</th>\n      <td>IPShuffle</td>\n      <td>183.921263</td>\n      <td>213.577448</td>\n      <td>29.656185</td>\n    </tr>\n    <tr>\n      <th>5</th>\n      <td>osdiversity</td>\n      <td>215.239319</td>\n      <td>249.404390</td>\n      <td>34.165071</td>\n    </tr>\n    <tr>\n      <th>6</th>\n      <td>serviceDiversity</td>\n      <td>251.854629</td>\n      <td>370.921017</td>\n      <td>119.066388</td>\n    </tr>\n    <tr>\n      <th>7</th>\n      <td>osdiversity</td>\n      <td>420.828756</td>\n      <td>426.275101</td>\n      <td>5.446346</td>\n    </tr>\n    <tr>\n      <th>8</th>\n      <td>osdiversity</td>\n      <td>429.264302</td>\n      <td>461.674991</td>\n      <td>32.410688</td>\n    </tr>\n    <tr>\n      <th>9</th>\n      <td>IPShuffle</td>\n      <td>438.396616</td>\n      <td>525.787613</td>\n      <td>87.390998</td>\n    </tr>\n    <tr>\n      <th>10</th>\n      <td>CompleteTopologyShuffle</td>\n      <td>597.823559</td>\n      <td>600.055445</td>\n      <td>2.231885</td>\n    </tr>\n    <tr>\n      <th>11</th>\n      <td>PortShuffle</td>\n      <td>742.630974</td>\n      <td>819.360703</td>\n      <td>76.729729</td>\n    </tr>\n    <tr>\n      <th>12</th>\n      <td>HostTopologyShuffle</td>\n      <td>958.459989</td>\n      <td>973.450319</td>\n      <td>14.990329</td>\n    </tr>\n    <tr>\n      <th>13</th>\n      <td>serviceDiversity</td>\n      <td>939.005787</td>\n      <td>998.393365</td>\n      <td>59.387578</td>\n    </tr>\n  </tbody>\n</table>\n</div>"
     },
     "execution_count": 3,
     "metadata": {},
     "output_type": "execute_result"
    }
   ],
   "source": [
    "mtd_operation_record = pd.DataFrame(mtd_operation_record)\n",
    "mtd_operation_record"
   ]
  },
  {
   "cell_type": "code",
   "execution_count": 4,
   "metadata": {
    "collapsed": false,
    "pycharm": {
     "name": "#%%\n"
    }
   },
   "outputs": [],
   "source": [
    "# fig1 = go.Figure(go.Waterfall(x = mtd_operation_record['start_time'],\n",
    "#                               y = mtd_operation_record['name'],\n",
    "#                               measure = ['absolute']*100,\n",
    "#                               connector = {\"mode\":\"between\", \"line\":{\"color\":\"red\"}}))\n",
    "#\n",
    "# fig1.update_layout(title = 'Time duration of MTD operations',\n",
    "#                    xaxis_title = 'Time' , yaxis_title = 'MTD techniques',\n",
    "#                    width = 800, height = 600)"
   ]
  },
  {
   "cell_type": "code",
   "execution_count": 5,
   "metadata": {
    "collapsed": false,
    "pycharm": {
     "name": "#%%\n"
    }
   },
   "outputs": [
    {
     "data": {
      "text/plain": "<Figure size 1152x432 with 1 Axes>",
      "image/png": "[encoded data removed]"
     },
     "metadata": {
      "needs_background": "light"
     },
     "output_type": "display_data"
    }
   ],
   "source": [
    "fig, ax = plt.subplots(1, figsize=(16, 6))\n",
    "ax.barh(mtd_operation_record['name'], mtd_operation_record['duration'], left=mtd_operation_record['start_time'], height=0.1)\n",
    "\n",
    "plt.xlabel('Time',  weight='bold', fontsize=18)\n",
    "plt.ylabel('MTD Techniques', weight='bold', fontsize=18)\n",
    "fig.tight_layout()\n",
    "plt.show()"
   ]
  },
  {
   "cell_type": "code",
   "execution_count": 6,
   "metadata": {
    "collapsed": false,
    "pycharm": {
     "name": "#%%\n"
    }
   },
   "outputs": [
    {
     "data": {
      "text/plain": "                         name  start_time  finish_time   duration  \\\n0                    HostScan    0.000000    25.163610  25.163610   \n1                    HostScan   27.163610    77.163610  50.000000   \n2                    HostEnum   77.163610    81.483785   4.320174   \n3                    HostScan   83.483785   103.551299  20.067514   \n4                    HostScan  105.551299   155.551299  50.000000   \n5                    HostEnum  155.551299   160.551299   5.000000   \n6                    PortScan  160.551299   166.113984   5.562685   \n7                    HostScan  168.113984   213.577448  45.463464   \n8                    HostScan  215.577448   249.404390  33.826942   \n9                    HostScan  251.404390   301.404390  50.000000   \n10                   HostEnum  301.404390   306.404390   5.000000   \n11                   PortScan  306.404390   316.404390  10.000000   \n12  VulnerabilityExploitation  316.404390   319.890365   3.485975   \n13                 BruteForce  319.890365   339.890365  20.000000   \n14                   HostEnum  339.890365   344.890365   5.000000   \n15                   PortScan  344.890365   354.890365  10.000000   \n16     VulnerabilitiesExploit  354.890365   370.921017  16.030652   \n17                   PortScan  372.921017   382.921017  10.000000   \n18  VulnerabilityExploitation  382.921017   418.883168  35.962150   \n19                 BruteForce  418.883168   426.275101   7.391933   \n20                   PortScan  428.275101   438.275101  10.000000   \n21  VulnerabilityExploitation  438.275101   446.566782   8.291681   \n22                 BruteForce  446.566782   461.674991  15.108209   \n23                   PortScan  463.674991   473.674991  10.000000   \n24  VulnerabilityExploitation  473.674991   489.126833  15.451842   \n25                   HostEnum  489.126833   494.126833   5.000000   \n26                   PortScan  494.126833   504.126833  10.000000   \n27     VulnerabilitiesExploit  504.126833   525.787613  21.660780   \n28                   HostScan  527.787613   577.787613  50.000000   \n29                   HostEnum  577.787613   582.787613   5.000000   \n30                   PortScan  582.787613   592.787613  10.000000   \n31     VulnerabilitiesExploit  592.787613   600.055445   7.267831   \n32                   HostScan  602.055445   652.055445  50.000000   \n33                   HostEnum  652.055445   657.055445   5.000000   \n34                   PortScan  657.055445   667.055445  10.000000   \n35  VulnerabilityExploitation  667.055445   676.572514   9.517069   \n36                 BruteForce  676.572514   696.572514  20.000000   \n37                   HostEnum  696.572514   701.572514   5.000000   \n38                   PortScan  701.572514   711.572514  10.000000   \n39  VulnerabilityExploitation  711.572514   762.939462  51.366948   \n40                   HostEnum  762.939462   767.939462   5.000000   \n41                   PortScan  767.939462   777.939462  10.000000   \n42  VulnerabilityExploitation  777.939462   800.735682  22.796220   \n43                 BruteForce  800.735682   819.360703  18.625021   \n44                   PortScan  821.360703   831.360703  10.000000   \n45  VulnerabilityExploitation  831.360703   865.051405  33.690703   \n46                 BruteForce  865.051405   885.051405  20.000000   \n47                   HostEnum  885.051405   890.051405   5.000000   \n48                   PortScan  890.051405   900.051405  10.000000   \n49  VulnerabilityExploitation  900.051405   908.786282   8.734876   \n50                   HostEnum  908.786282   913.786282   5.000000   \n51                   PortScan  913.786282   923.786282  10.000000   \n52  VulnerabilityExploitation  923.786282   956.706887  32.920605   \n53                   HostEnum  956.706887   961.706887   5.000000   \n54                   PortScan  961.706887   971.706887  10.000000   \n55     VulnerabilitiesExploit  971.706887   973.450319   1.743432   \n56                   HostScan  975.450319   998.393365  22.943046   \n\n       interrupted_in           interrupted_by  \n0       Network Layer                IPShuffle  \n1                                               \n2   Application Layer              osdiversity  \n3   Application Layer              osdiversity  \n4                                               \n5                                               \n6       Network Layer  CompleteTopologyShuffle  \n7       Network Layer                IPShuffle  \n8   Application Layer              osdiversity  \n9                                               \n10                                              \n11                                              \n12                                              \n13                                              \n14                                              \n15                                              \n16  Application Layer         serviceDiversity  \n17                                              \n18                                              \n19  Application Layer              osdiversity  \n20                                              \n21                                              \n22  Application Layer              osdiversity  \n23                                              \n24                                              \n25                                              \n26                                              \n27      Network Layer                IPShuffle  \n28                                              \n29                                              \n30                                              \n31      Network Layer  CompleteTopologyShuffle  \n32                                              \n33                                              \n34                                              \n35                                              \n36                                              \n37                                              \n38                                              \n39                                              \n40                                              \n41                                              \n42                                              \n43  Application Layer              PortShuffle  \n44                                              \n45                                              \n46                                              \n47                                              \n48                                              \n49                                              \n50                                              \n51                                              \n52                                              \n53                                              \n54                                              \n55      Network Layer      HostTopologyShuffle  \n56  Application Layer         serviceDiversity  ",
      "text/html": "<div>\n<style scoped>\n    .dataframe tbody tr th:only-of-type {\n        vertical-align: middle;\n    }\n\n    .dataframe tbody tr th {\n        vertical-align: top;\n    }\n\n    .dataframe thead th {\n        text-align: right;\n    }\n</style>\n<table border=\"1\" class=\"dataframe\">\n  <thead>\n    <tr style=\"text-align: right;\">\n      <th></th>\n      <th>name</th>\n      <th>start_time</th>\n      <th>finish_time</th>\n      <th>duration</th>\n      <th>interrupted_in</th>\n      <th>interrupted_by</th>\n    </tr>\n  </thead>\n  <tbody>\n    <tr>\n      <th>0</th>\n      <td>HostScan</td>\n      <td>0.000000</td>\n      <td>25.163610</td>\n      <td>25.163610</td>\n      <td>Network Layer</td>\n      <td>IPShuffle</td>\n    </tr>\n    <tr>\n      <th>1</th>\n      <td>HostScan</td>\n      <td>27.163610</td>\n      <td>77.163610</td>\n      <td>50.000000</td>\n      <td></td>\n      <td></td>\n    </tr>\n    <tr>\n      <th>2</th>\n      <td>HostEnum</td>\n      <td>77.163610</td>\n      <td>81.483785</td>\n      <td>4.320174</td>\n      <td>Application Layer</td>\n      <td>osdiversity</td>\n    </tr>\n    <tr>\n      <th>3</th>\n      <td>HostScan</td>\n      <td>83.483785</td>\n      <td>103.551299</td>\n      <td>20.067514</td>\n      <td>Application Layer</td>\n      <td>osdiversity</td>\n    </tr>\n    <tr>\n      <th>4</th>\n      <td>HostScan</td>\n      <td>105.551299</td>\n      <td>155.551299</td>\n      <td>50.000000</td>\n      <td></td>\n      <td></td>\n    </tr>\n    <tr>\n      <th>5</th>\n      <td>HostEnum</td>\n      <td>155.551299</td>\n      <td>160.551299</td>\n      <td>5.000000</td>\n      <td></td>\n      <td></td>\n    </tr>\n    <tr>\n      <th>6</th>\n      <td>PortScan</td>\n      <td>160.551299</td>\n      <td>166.113984</td>\n      <td>5.562685</td>\n      <td>Network Layer</td>\n      <td>CompleteTopologyShuffle</td>\n    </tr>\n    <tr>\n      <th>7</th>\n      <td>HostScan</td>\n      <td>168.113984</td>\n      <td>213.577448</td>\n      <td>45.463464</td>\n      <td>Network Layer</td>\n      <td>IPShuffle</td>\n    </tr>\n    <tr>\n      <th>8</th>\n      <td>HostScan</td>\n      <td>215.577448</td>\n      <td>249.404390</td>\n      <td>33.826942</td>\n      <td>Application Layer</td>\n      <td>osdiversity</td>\n    </tr>\n    <tr>\n      <th>9</th>\n      <td>HostScan</td>\n      <td>251.404390</td>\n      <td>301.404390</td>\n      <td>50.000000</td>\n      <td></td>\n      <td></td>\n    </tr>\n    <tr>\n      <th>10</th>\n      <td>HostEnum</td>\n      <td>301.404390</td>\n      <td>306.404390</td>\n      <td>5.000000</td>\n      <td></td>\n      <td></td>\n    </tr>\n    <tr>\n      <th>11</th>\n      <td>PortScan</td>\n      <td>306.404390</td>\n      <td>316.404390</td>\n      <td>10.000000</td>\n      <td></td>\n      <td></td>\n    </tr>\n    <tr>\n      <th>12</th>\n      <td>VulnerabilityExploitation</td>\n      <td>316.404390</td>\n      <td>319.890365</td>\n      <td>3.485975</td>\n      <td></td>\n      <td></td>\n    </tr>\n    <tr>\n      <th>13</th>\n      <td>BruteForce</td>\n      <td>319.890365</td>\n      <td>339.890365</td>\n      <td>20.000000</td>\n      <td></td>\n      <td></td>\n    </tr>\n    <tr>\n      <th>14</th>\n      <td>HostEnum</td>\n      <td>339.890365</td>\n      <td>344.890365</td>\n      <td>5.000000</td>\n      <td></td>\n      <td></td>\n    </tr>\n    <tr>\n      <th>15</th>\n      <td>PortScan</td>\n      <td>344.890365</td>\n      <td>354.890365</td>\n      <td>10.000000</td>\n      <td></td>\n      <td></td>\n    </tr>\n    <tr>\n      <th>16</th>\n      <td>VulnerabilitiesExploit</td>\n      <td>354.890365</td>\n      <td>370.921017</td>\n      <td>16.030652</td>\n      <td>Application Layer</td>\n      <td>serviceDiversity</td>\n    </tr>\n    <tr>\n      <th>17</th>\n      <td>PortScan</td>\n      <td>372.921017</td>\n      <td>382.921017</td>\n      <td>10.000000</td>\n      <td></td>\n      <td></td>\n    </tr>\n    <tr>\n      <th>18</th>\n      <td>VulnerabilityExploitation</td>\n      <td>382.921017</td>\n      <td>418.883168</td>\n      <td>35.962150</td>\n      <td></td>\n      <td></td>\n    </tr>\n    <tr>\n      <th>19</th>\n      <td>BruteForce</td>\n      <td>418.883168</td>\n      <td>426.275101</td>\n      <td>7.391933</td>\n      <td>Application Layer</td>\n      <td>osdiversity</td>\n    </tr>\n    <tr>\n      <th>20</th>\n      <td>PortScan</td>\n      <td>428.275101</td>\n      <td>438.275101</td>\n      <td>10.000000</td>\n      <td></td>\n      <td></td>\n    </tr>\n    <tr>\n      <th>21</th>\n      <td>VulnerabilityExploitation</td>\n      <td>438.275101</td>\n      <td>446.566782</td>\n      <td>8.291681</td>\n      <td></td>\n      <td></td>\n    </tr>\n    <tr>\n      <th>22</th>\n      <td>BruteForce</td>\n      <td>446.566782</td>\n      <td>461.674991</td>\n      <td>15.108209</td>\n      <td>Application Layer</td>\n      <td>osdiversity</td>\n    </tr>\n    <tr>\n      <th>23</th>\n      <td>PortScan</td>\n      <td>463.674991</td>\n      <td>473.674991</td>\n      <td>10.000000</td>\n      <td></td>\n      <td></td>\n    </tr>\n    <tr>\n      <th>24</th>\n      <td>VulnerabilityExploitation</td>\n      <td>473.674991</td>\n      <td>489.126833</td>\n      <td>15.451842</td>\n      <td></td>\n      <td></td>\n    </tr>\n    <tr>\n      <th>25</th>\n      <td>HostEnum</td>\n      <td>489.126833</td>\n      <td>494.126833</td>\n      <td>5.000000</td>\n      <td></td>\n      <td></td>\n    </tr>\n    <tr>\n      <th>26</th>\n      <td>PortScan</td>\n      <td>494.126833</td>\n      <td>504.126833</td>\n      <td>10.000000</td>\n      <td></td>\n      <td></td>\n    </tr>\n    <tr>\n      <th>27</th>\n      <td>VulnerabilitiesExploit</td>\n      <td>504.126833</td>\n      <td>525.787613</td>\n      <td>21.660780</td>\n      <td>Network Layer</td>\n      <td>IPShuffle</td>\n    </tr>\n    <tr>\n      <th>28</th>\n      <td>HostScan</td>\n      <td>527.787613</td>\n      <td>577.787613</td>\n      <td>50.000000</td>\n      <td></td>\n      <td></td>\n    </tr>\n    <tr>\n      <th>29</th>\n      <td>HostEnum</td>\n      <td>577.787613</td>\n      <td>582.787613</td>\n      <td>5.000000</td>\n      <td></td>\n      <td></td>\n    </tr>\n    <tr>\n      <th>30</th>\n      <td>PortScan</td>\n      <td>582.787613</td>\n      <td>592.787613</td>\n      <td>10.000000</td>\n      <td></td>\n      <td></td>\n    </tr>\n    <tr>\n      <th>31</th>\n      <td>VulnerabilitiesExploit</td>\n      <td>592.787613</td>\n      <td>600.055445</td>\n      <td>7.267831</td>\n      <td>Network Layer</td>\n      <td>CompleteTopologyShuffle</td>\n    </tr>\n    <tr>\n      <th>32</th>\n      <td>HostScan</td>\n      <td>602.055445</td>\n      <td>652.055445</td>\n      <td>50.000000</td>\n      <td></td>\n      <td></td>\n    </tr>\n    <tr>\n      <th>33</th>\n      <td>HostEnum</td>\n      <td>652.055445</td>\n      <td>657.055445</td>\n      <td>5.000000</td>\n      <td></td>\n      <td></td>\n    </tr>\n    <tr>\n      <th>34</th>\n      <td>PortScan</td>\n      <td>657.055445</td>\n      <td>667.055445</td>\n      <td>10.000000</td>\n      <td></td>\n      <td></td>\n    </tr>\n    <tr>\n      <th>35</th>\n      <td>VulnerabilityExploitation</td>\n      <td>667.055445</td>\n      <td>676.572514</td>\n      <td>9.517069</td>\n      <td></td>\n      <td></td>\n    </tr>\n    <tr>\n      <th>36</th>\n      <td>BruteForce</td>\n      <td>676.572514</td>\n      <td>696.572514</td>\n      <td>20.000000</td>\n      <td></td>\n      <td></td>\n    </tr>\n    <tr>\n      <th>37</th>\n      <td>HostEnum</td>\n      <td>696.572514</td>\n      <td>701.572514</td>\n      <td>5.000000</td>\n      <td></td>\n      <td></td>\n    </tr>\n    <tr>\n      <th>38</th>\n      <td>PortScan</td>\n      <td>701.572514</td>\n      <td>711.572514</td>\n      <td>10.000000</td>\n      <td></td>\n      <td></td>\n    </tr>\n    <tr>\n      <th>39</th>\n      <td>VulnerabilityExploitation</td>\n      <td>711.572514</td>\n      <td>762.939462</td>\n      <td>51.366948</td>\n      <td></td>\n      <td></td>\n    </tr>\n    <tr>\n      <th>40</th>\n      <td>HostEnum</td>\n      <td>762.939462</td>\n      <td>767.939462</td>\n      <td>5.000000</td>\n      <td></td>\n      <td></td>\n    </tr>\n    <tr>\n      <th>41</th>\n      <td>PortScan</td>\n      <td>767.939462</td>\n      <td>777.939462</td>\n      <td>10.000000</td>\n      <td></td>\n      <td></td>\n    </tr>\n    <tr>\n      <th>42</th>\n      <td>VulnerabilityExploitation</td>\n      <td>777.939462</td>\n      <td>800.735682</td>\n      <td>22.796220</td>\n      <td></td>\n      <td></td>\n    </tr>\n    <tr>\n      <th>43</th>\n      <td>BruteForce</td>\n      <td>800.735682</td>\n      <td>819.360703</td>\n      <td>18.625021</td>\n      <td>Application Layer</td>\n      <td>PortShuffle</td>\n    </tr>\n    <tr>\n      <th>44</th>\n      <td>PortScan</td>\n      <td>821.360703</td>\n      <td>831.360703</td>\n      <td>10.000000</td>\n      <td></td>\n      <td></td>\n    </tr>\n    <tr>\n      <th>45</th>\n      <td>VulnerabilityExploitation</td>\n      <td>831.360703</td>\n      <td>865.051405</td>\n      <td>33.690703</td>\n      <td></td>\n      <td></td>\n    </tr>\n    <tr>\n      <th>46</th>\n      <td>BruteForce</td>\n      <td>865.051405</td>\n      <td>885.051405</td>\n      <td>20.000000</td>\n      <td></td>\n      <td></td>\n    </tr>\n    <tr>\n      <th>47</th>\n      <td>HostEnum</td>\n      <td>885.051405</td>\n      <td>890.051405</td>\n      <td>5.000000</td>\n      <td></td>\n      <td></td>\n    </tr>\n    <tr>\n      <th>48</th>\n      <td>PortScan</td>\n      <td>890.051405</td>\n      <td>900.051405</td>\n      <td>10.000000</td>\n      <td></td>\n      <td></td>\n    </tr>\n    <tr>\n      <th>49</th>\n      <td>VulnerabilityExploitation</td>\n      <td>900.051405</td>\n      <td>908.786282</td>\n      <td>8.734876</td>\n      <td></td>\n      <td></td>\n    </tr>\n    <tr>\n      <th>50</th>\n      <td>HostEnum</td>\n      <td>908.786282</td>\n      <td>913.786282</td>\n      <td>5.000000</td>\n      <td></td>\n      <td></td>\n    </tr>\n    <tr>\n      <th>51</th>\n      <td>PortScan</td>\n      <td>913.786282</td>\n      <td>923.786282</td>\n      <td>10.000000</td>\n      <td></td>\n      <td></td>\n    </tr>\n    <tr>\n      <th>52</th>\n      <td>VulnerabilityExploitation</td>\n      <td>923.786282</td>\n      <td>956.706887</td>\n      <td>32.920605</td>\n      <td></td>\n      <td></td>\n    </tr>\n    <tr>\n      <th>53</th>\n      <td>HostEnum</td>\n      <td>956.706887</td>\n      <td>961.706887</td>\n      <td>5.000000</td>\n      <td></td>\n      <td></td>\n    </tr>\n    <tr>\n      <th>54</th>\n      <td>PortScan</td>\n      <td>961.706887</td>\n      <td>971.706887</td>\n      <td>10.000000</td>\n      <td></td>\n      <td></td>\n    </tr>\n    <tr>\n      <th>55</th>\n      <td>VulnerabilitiesExploit</td>\n      <td>971.706887</td>\n      <td>973.450319</td>\n      <td>1.743432</td>\n      <td>Network Layer</td>\n      <td>HostTopologyShuffle</td>\n    </tr>\n    <tr>\n      <th>56</th>\n      <td>HostScan</td>\n      <td>975.450319</td>\n      <td>998.393365</td>\n      <td>22.943046</td>\n      <td>Application Layer</td>\n      <td>serviceDiversity</td>\n    </tr>\n  </tbody>\n</table>\n</div>"
     },
     "execution_count": 6,
     "metadata": {},
     "output_type": "execute_result"
    }
   ],
   "source": [
    "attack_operation_record = pd.DataFrame(attack_operation_record)\n",
    "attack_operation_record"
   ]
  },
  {
   "cell_type": "code",
   "execution_count": 7,
   "metadata": {
    "collapsed": false,
    "pycharm": {
     "name": "#%%\n"
    }
   },
   "outputs": [
    {
     "data": {
      "text/plain": "<Figure size 1152x144 with 1 Axes>",
      "image/png": "[encoded data removed]"
     },
     "metadata": {
      "needs_background": "light"
     },
     "output_type": "display_data"
    }
   ],
   "source": [
    "fig2, ax2 = plt.subplots(1, figsize=(16, 2))\n",
    "ax2.barh(attack_operation_record['name'], attack_operation_record['duration'], left=attack_operation_record['start_time'], height=0.1)\n",
    "\n",
    "plt.xlabel('Time',  weight='bold', fontsize=18)\n",
    "plt.ylabel('Attack Progress', weight='bold', fontsize=18)\n",
    "fig2.tight_layout()\n",
    "plt.show()"
   ]
  },
  {
   "cell_type": "code",
   "execution_count": 7,
   "metadata": {
    "collapsed": false,
    "pycharm": {
     "name": "#%%\n"
    }
   },
   "outputs": [],
   "source": []
  }
 ],
 "metadata": {
  "kernelspec": {
   "display_name": "Python 3.9.13 ('venv': venv)",
   "language": "python",
   "name": "python3"
  },
  "language_info": {
   "codemirror_mode": {
    "name": "ipython",
    "version": 3
   },
   "file_extension": ".py",
   "mimetype": "text/x-python",
   "name": "python",
   "nbconvert_exporter": "python",
   "pygments_lexer": "ipython3",
   "version": "3.9.13"
  },
  "orig_nbformat": 4,
  "vscode": {
   "interpreter": {
    "hash": "ca714204bdf767f914288741b60dfd3ec695087ef64c4e46bb5b8f91083c76f9"
   }
  }
 },
 "nbformat": 4,
 "nbformat_minor": 2
}