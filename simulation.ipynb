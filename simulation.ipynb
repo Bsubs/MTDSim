{
 "cells": [
  {
   "cell_type": "code",
   "execution_count": 1,
   "metadata": {},
   "outputs": [],
   "source": [
    "from run_sim import run_sim\n",
    "import pandas as pd\n",
    "import matplotlib.pyplot as plt\n",
    "import plotly.graph_objects as go"
   ]
  },
  {
   "cell_type": "code",
   "execution_count": 2,
   "metadata": {},
   "outputs": [
    {
     "name": "stdout",
     "output_type": "stream",
     "text": [
      "Target Node is:  82\n",
      "Adversary: Start Host Scan at 0.0s.\n",
      "Adversary: Processed host scan at 5.0s.\n",
      "Adversary: Start Host Enum at 5.0s.\n",
      "Adversary: Processed host enum at 10.0s.\n",
      "Adversary: Start port scan at 10.0s.\n",
      "Adversary: Processed port scan at 20.0s.\n",
      "Adversary: Start vulnerability exploitation at 20.0s.\n",
      "Adversary: Processed vulnerabilities exploitation at 20.7s\n",
      "Adversary: Start brute force at 20.7s.\n",
      "Adversary: Processed brute force user at 40.7s.\n",
      "Adversary: Start Host Enum at 40.7s.\n",
      "Adversary: Processed host enum at 45.7s.\n",
      "Adversary: Start port scan at 45.7s.\n",
      "Adversary: Processed port scan at 55.7s.\n",
      "Adversary: Start vulnerability exploitation at 55.7s.\n",
      "Adversary: Processed vulnerabilities exploitation at 75.2s\n",
      "Adversary: Start brute force at 75.2s.\n",
      "MTD: HostTopologyShuffle triggered 94.4s\n",
      "MTD: HostTopologyShuffle deployed in the network at 94.4s.\n",
      "Adversary: Processed brute force user at 95.2s.\n",
      "Adversary: Start Host Enum at 95.2s.\n",
      "Adversary: Processed host enum at 100.2s.\n",
      "Adversary: Start port scan at 100.2s.\n",
      "Adversary: Processed port scan at 110.2s.\n",
      "Adversary: Start vulnerability exploitation at 110.2s.\n",
      "Adversary: Processed vulnerabilities exploitation at 110.5s\n",
      "Adversary: Start brute force at 110.5s.\n",
      "MTD: HostTopologyShuffle finished in 34.1s at 128.6s.\n",
      "MTD: Interrupted brute_force at 128.6s!\n",
      "MTD: serviceDiversity triggered 130.1s\n",
      "MTD: serviceDiversity deployed in the network at 130.1s.\n",
      "Adversary: Restarting with host scan operation!\n",
      "Adversary: Start Host Scan at 130.6s.\n",
      "Adversary: Processed host scan at 135.6s.\n",
      "Adversary: Start Host Enum at 135.6s.\n",
      "Adversary: Processed host enum at 140.6s.\n",
      "Adversary: Start port scan at 140.6s.\n",
      "MTD: CompleteTopologyShuffle triggered 147.1s\n",
      "MTD: CompleteTopologyShuffle deployed in the network at 147.1s.\n",
      "Adversary: Processed port scan at 150.6s.\n",
      "Adversary: Start vulnerability exploitation at 150.6s.\n",
      "MTD: HostTopologyShuffle triggered 169.2s\n",
      "MTD: HostTopologyShuffle suspended at 169.2s due to resource occupation\n",
      "Adversary: Processed vulnerabilities exploitation at 171.2s\n",
      "Adversary: Start brute force at 171.2s.\n",
      "Adversary: Processed brute force user at 191.2s.\n",
      "Adversary: Start Host Enum at 191.2s.\n",
      "Adversary: Processed host enum at 196.2s.\n",
      "Adversary: Start port scan at 196.2s.\n",
      "Adversary: Processed port scan at 206.2s.\n",
      "Adversary: Start vulnerability exploitation at 206.2s.\n",
      "Adversary: Processed vulnerabilities exploitation at 208.6s\n",
      "Adversary: Host 1 has been compromised at 208.6s!: \n",
      "Adversary: Start Host Enum at 208.6s.\n",
      "Adversary: Processed host enum at 213.6s.\n",
      "Adversary: Start port scan at 213.6s.\n",
      "Adversary: Processed port scan at 223.6s.\n",
      "Adversary: Start vulnerability exploitation at 223.6s.\n",
      "MTD: CompleteTopologyShuffle finished in 83.0s at 230.1s.\n",
      "MTD: Interrupted vulnerability_exploit at 230.1s!\n",
      "Adversary: Restarting with host scan operation!\n",
      "Adversary: Start Host Scan at 232.1s.\n",
      "Adversary: Processed host scan at 237.1s.\n",
      "Adversary: Start Host Enum at 237.1s.\n",
      "Adversary: Processed host enum at 242.1s.\n",
      "Adversary: Start port scan at 242.1s.\n",
      "Adversary: Processed port scan at 252.1s.\n",
      "Adversary: Start vulnerability exploitation at 252.1s.\n",
      "Adversary: Processed vulnerabilities exploitation at 255.8s\n",
      "Adversary: Host 42 has been compromised at 255.8s!: \n",
      "Adversary: Start Host Enum at 255.8s.\n",
      "MTD: HostTopologyShuffle triggered 257.2s\n",
      "MTD: HostTopologyShuffle deployed in the network at 257.2s.\n",
      "Adversary: Processed host enum at 260.8s.\n",
      "Adversary: Start port scan at 260.8s.\n",
      "MTD: HostTopologyShuffle triggered 268.9s\n",
      "MTD: HostTopologyShuffle suspended at 268.9s due to resource occupation\n",
      "Adversary: Processed port scan at 270.8s.\n",
      "Adversary: Start vulnerability exploitation at 270.8s.\n",
      "MTD: HostTopologyShuffle triggered 274.1s\n",
      "MTD: HostTopologyShuffle suspended at 274.1s due to resource occupation\n",
      "MTD: HostTopologyShuffle finished in 18.5s at 275.7s.\n",
      "MTD: Interrupted vulnerability_exploit at 275.7s!\n",
      "Adversary: Restarting with host scan operation!\n",
      "Adversary: Start Host Scan at 277.7s.\n",
      "Adversary: Processed host scan at 282.7s.\n",
      "Adversary: Start Host Enum at 282.7s.\n",
      "Adversary: Processed host enum at 287.7s.\n",
      "Adversary: Start port scan at 287.7s.\n",
      "Adversary: Processed port scan at 297.7s.\n",
      "Adversary: Start vulnerability exploitation at 297.7s.\n",
      "MTD: serviceDiversity finished in 168.9s at 299.0s.\n",
      "MTD: Interrupted vulnerability_exploit at 299.0s!\n",
      "Adversary: Restarting with port scan operation!\n",
      "Adversary: Start port scan at 301.0s.\n",
      "Adversary: Processed port scan at 311.0s.\n",
      "Adversary: Start vulnerability exploitation at 311.0s.\n",
      "Adversary: Processed vulnerabilities exploitation at 347.5s\n",
      "Adversary: Host 26 has been compromised at 347.5s!: \n",
      "Adversary: Start Host Enum at 347.5s.\n",
      "Adversary: Processed host enum at 352.5s.\n",
      "Adversary: Start port scan at 352.5s.\n",
      "Adversary: Processed port scan at 362.5s.\n",
      "Adversary: Start vulnerability exploitation at 362.5s.\n",
      "Adversary: Processed vulnerabilities exploitation at 376.3s\n",
      "Adversary: Host 27 has been compromised at 376.3s!: \n",
      "Adversary: Start Host Enum at 376.3s.\n",
      "Adversary: Processed host enum at 381.3s.\n",
      "Adversary: Start port scan at 381.3s.\n",
      "MTD: HostTopologyShuffle triggered 391.3s\n",
      "MTD: HostTopologyShuffle deployed in the network at 391.3s.\n",
      "Adversary: Processed port scan at 391.3s.\n",
      "Adversary: Start vulnerability exploitation at 391.3s.\n",
      "Adversary: Processed vulnerabilities exploitation at 393.8s\n",
      "Adversary: Start brute force at 393.8s.\n",
      "MTD: HostTopologyShuffle finished in 6.6s at 397.9s.\n",
      "MTD: Interrupted brute_force at 397.9s!\n",
      "Adversary: Restarting with host scan operation!\n",
      "Adversary: Start Host Scan at 399.9s.\n",
      "Adversary: Processed host scan at 404.9s.\n",
      "Adversary: Start Host Enum at 404.9s.\n",
      "Adversary: Processed host enum at 409.9s.\n",
      "Adversary: Start port scan at 409.9s.\n",
      "Adversary: Processed port scan at 419.9s.\n",
      "Adversary: Start vulnerability exploitation at 419.9s.\n",
      "Adversary: Processed vulnerabilities exploitation at 430.3s\n",
      "Adversary: Start brute force at 430.3s.\n",
      "Adversary: Processed brute force user at 450.3s.\n",
      "Adversary: Start Host Enum at 450.3s.\n",
      "Adversary: Processed host enum at 455.3s.\n",
      "Adversary: Start port scan at 455.3s.\n",
      "Adversary: Processed port scan at 465.3s.\n",
      "Adversary: Start vulnerability exploitation at 465.3s.\n",
      "MTD: HostTopologyShuffle triggered 482.1s\n",
      "MTD: HostTopologyShuffle deployed in the network at 482.1s.\n",
      "MTD: HostTopologyShuffle finished in 2.8s at 484.8s.\n",
      "MTD: Interrupted vulnerability_exploit at 484.8s!\n",
      "Adversary: Restarting with host scan operation!\n",
      "Adversary: Start Host Scan at 486.8s.\n",
      "Adversary: Processed host scan at 491.8s.\n",
      "Adversary: Start Host Enum at 491.8s.\n",
      "Adversary: Processed host enum at 496.8s.\n",
      "Adversary: Start port scan at 496.8s.\n",
      "MTD: osdiversity triggered 497.0s\n",
      "MTD: osdiversity deployed in the network at 497.0s.\n",
      "Adversary: Processed port scan at 506.8s.\n",
      "Adversary: Start vulnerability exploitation at 506.8s.\n",
      "Adversary: Processed vulnerabilities exploitation at 531.3s\n",
      "Adversary: Start brute force at 531.3s.\n",
      "MTD: HostTopologyShuffle triggered 541.3s\n",
      "MTD: HostTopologyShuffle deployed in the network at 541.3s.\n",
      "MTD: HostTopologyShuffle finished in 5.6s at 547.0s.\n",
      "MTD: Interrupted brute_force at 547.0s!\n",
      "Adversary: Restarting with host scan operation!\n",
      "Adversary: Start Host Scan at 549.0s.\n",
      "MTD: PortShuffle triggered 550.9s\n",
      "MTD: PortShuffle suspended at 550.9s due to resource occupation\n",
      "Adversary: Processed host scan at 554.0s.\n",
      "Adversary: Start Host Enum at 554.0s.\n",
      "Adversary: Processed host enum at 559.0s.\n",
      "Adversary: Start port scan at 559.0s.\n",
      "Adversary: Processed port scan at 569.0s.\n",
      "Adversary: Start vulnerability exploitation at 569.0s.\n",
      "Adversary: Processed vulnerabilities exploitation at 620.7s\n",
      "Adversary: Host 43 has been compromised at 620.7s!: \n",
      "Adversary: Start Host Enum at 620.7s.\n",
      "Adversary: Processed host enum at 625.7s.\n",
      "Adversary: Start port scan at 625.7s.\n",
      "MTD: osdiversity finished in 133.2s at 630.3s.\n",
      "MTD: Interrupted port_scan at 630.3s!\n",
      "Adversary: Restarting with port scan operation!\n",
      "Adversary: Start port scan at 632.3s.\n",
      "MTD: PortShuffle triggered 632.4s\n",
      "MTD: PortShuffle deployed in the network at 632.4s.\n",
      "Adversary: Processed port scan at 642.3s.\n",
      "Adversary: Start vulnerability exploitation at 642.3s.\n",
      "Adversary: Processed vulnerabilities exploitation at 650.5s\n",
      "Adversary: Start brute force at 650.5s.\n",
      "Adversary: Processed brute force user at 670.5s.\n",
      "Adversary: Start Host Enum at 670.5s.\n",
      "Adversary: Processed host enum at 675.5s.\n",
      "Adversary: Start port scan at 675.5s.\n",
      "MTD: PortShuffle finished in 48.1s at 680.5s.\n",
      "MTD: Interrupted port_scan at 680.5s!\n",
      "Adversary: Restarting with port scan operation!\n",
      "Adversary: Start port scan at 682.5s.\n",
      "Adversary: Processed port scan at 692.5s.\n",
      "Adversary: Start vulnerability exploitation at 692.5s.\n",
      "Adversary: Processed vulnerabilities exploitation at 707.3s\n",
      "Adversary: Host 82 has been compromised at 707.3s!: \n",
      "Adversary: Start Host Enum at 707.3s.\n",
      "Adversary: Processed host enum at 712.3s.\n",
      "Adversary: Start port scan at 712.3s.\n",
      "Adversary: Processed port scan at 722.3s.\n",
      "Adversary: Start vulnerability exploitation at 722.3s.\n",
      "MTD: PortShuffle triggered 744.8s\n",
      "MTD: PortShuffle deployed in the network at 744.8s.\n",
      "MTD: CompleteTopologyShuffle triggered 750.4s\n",
      "MTD: CompleteTopologyShuffle deployed in the network at 750.4s.\n",
      "MTD: PortShuffle finished in 5.6s at 750.4s.\n",
      "MTD: Interrupted vulnerability_exploit at 750.4s!\n",
      "Adversary: Restarting with port scan operation!\n",
      "Adversary: Start port scan at 752.4s.\n",
      "Adversary: Processed port scan at 762.4s.\n",
      "Adversary: Start vulnerability exploitation at 762.4s.\n",
      "MTD: IPShuffle triggered 763.4s\n",
      "MTD: IPShuffle suspended at 763.4s due to resource occupation\n",
      "MTD: IPShuffle triggered 784.2s\n",
      "MTD: IPShuffle suspended at 784.2s due to resource occupation\n",
      "Adversary: Processed vulnerabilities exploitation at 799.5s\n",
      "Adversary: Host 90 has been compromised at 799.5s!: \n",
      "Adversary: Start Host Enum at 799.5s.\n",
      "Adversary: Processed host enum at 804.5s.\n",
      "Adversary: Start port scan at 804.5s.\n",
      "MTD: IPShuffle triggered 813.2s\n",
      "MTD: IPShuffle suspended at 813.2s due to resource occupation\n",
      "Adversary: Processed port scan at 814.5s.\n",
      "Adversary: Start vulnerability exploitation at 814.5s.\n",
      "MTD: IPShuffle triggered 817.5s\n",
      "MTD: IPShuffle suspended at 817.5s due to resource occupation\n",
      "Adversary: Processed vulnerabilities exploitation at 854.1s\n",
      "Adversary: Host 25 has been compromised at 854.1s!: \n",
      "Adversary: Start Host Enum at 854.1s.\n",
      "MTD: CompleteTopologyShuffle finished in 107.0s at 857.4s.\n",
      "MTD: Interrupted host_enum at 857.4s!\n",
      "Adversary: Restarting with host scan operation!\n",
      "Adversary: Start Host Scan at 859.4s.\n",
      "Adversary: Processed host scan at 864.4s.\n",
      "Adversary: Start Host Enum at 864.4s.\n",
      "Adversary: Processed host enum at 869.4s.\n",
      "Adversary: Start port scan at 869.4s.\n",
      "Adversary: Processed port scan at 879.4s.\n",
      "Adversary: Start vulnerability exploitation at 879.4s.\n",
      "MTD: IPShuffle triggered 888.5s\n",
      "MTD: IPShuffle deployed in the network at 888.5s.\n",
      "MTD: IPShuffle finished in 14.6s at 903.1s.\n",
      "MTD: Interrupted vulnerability_exploit at 903.1s!\n",
      "Adversary: Restarting with host scan operation!\n",
      "Adversary: Start Host Scan at 905.1s.\n",
      "Adversary: Processed host scan at 910.1s.\n",
      "Adversary: Start Host Enum at 910.1s.\n",
      "Adversary: Processed host enum at 915.1s.\n",
      "Adversary: Start port scan at 915.1s.\n",
      "Adversary: Processed port scan at 925.1s.\n",
      "Adversary: Start vulnerability exploitation at 925.1s.\n",
      "MTD: serviceDiversity triggered 929.8s\n",
      "MTD: serviceDiversity deployed in the network at 929.8s.\n",
      "MTD: PortShuffle triggered 930.6s\n",
      "MTD: PortShuffle suspended at 930.6s due to resource occupation\n",
      "MTD: serviceDiversity finished in 3.8s at 933.6s.\n",
      "MTD: Interrupted vulnerability_exploit at 933.6s!\n",
      "Adversary: Restarting with port scan operation!\n",
      "Adversary: Start port scan at 935.6s.\n",
      "Adversary: Processed port scan at 945.6s.\n",
      "Adversary: Start vulnerability exploitation at 945.6s.\n",
      "MTD: PortShuffle triggered 953.2s\n",
      "MTD: PortShuffle deployed in the network at 953.2s.\n",
      "Adversary: Processed vulnerabilities exploitation at 957.2s\n",
      "Adversary: Host 39 has been compromised at 957.2s!: \n",
      "Adversary: Start Host Enum at 957.2s.\n",
      "Adversary: Processed host enum at 962.2s.\n",
      "Adversary: Start Host Enum at 962.2s.\n",
      "Adversary: Processed host enum at 967.2s.\n",
      "Adversary: Start Host Enum at 967.2s.\n",
      "Adversary: Processed host enum at 972.2s.\n",
      "Adversary: Start Host Enum at 972.2s.\n",
      "MTD: PortShuffle finished in 19.1s at 972.4s.\n",
      "MTD: Interrupted host_enum at 972.4s!\n",
      "Adversary: Restarting with host scan operation!\n",
      "Adversary: Start Host Scan at 974.4s.\n",
      "Adversary: Processed host scan at 979.4s.\n",
      "Adversary: Start Host Enum at 979.4s.\n",
      "MTD: serviceDiversity triggered 980.0s\n",
      "MTD: serviceDiversity deployed in the network at 980.0s.\n",
      "Adversary: Processed host enum at 984.4s.\n",
      "Adversary: Start port scan at 984.4s.\n",
      "MTD: PortShuffle triggered 992.7s\n",
      "MTD: PortShuffle suspended at 992.7s due to resource occupation\n",
      "Adversary: Processed port scan at 994.4s.\n",
      "Adversary: Start vulnerability exploitation at 994.4s.\n"
     ]
    }
   ],
   "source": [
    "# set up dataframe for collecting event data\n",
    "mtd_operation_record, attack_operation_record = run_sim()"
   ]
  },
  {
   "cell_type": "code",
   "execution_count": 3,
   "metadata": {
    "collapsed": false,
    "pycharm": {
     "name": "#%%\n"
    }
   },
   "outputs": [
    {
     "data": {
      "text/plain": "                       name  start_time  finish_time    duration\n0       HostTopologyShuffle   94.446785   128.576342   34.129557\n1   CompleteTopologyShuffle  147.080446   230.091718   83.011272\n2       HostTopologyShuffle  257.185483   275.688651   18.503168\n3          serviceDiversity  130.107558   298.970577  168.863018\n4       HostTopologyShuffle  391.258958   397.868509    6.609551\n5       HostTopologyShuffle  482.061037   484.832105    2.771067\n6       HostTopologyShuffle  541.321618   546.959290    5.637672\n7               osdiversity  497.001457   630.250762  133.249305\n8               PortShuffle  632.415654   680.515189   48.099536\n9               PortShuffle  744.831571   750.411992    5.580422\n10  CompleteTopologyShuffle  750.404945   857.356581  106.951636\n11                IPShuffle  888.488903   903.123807   14.634904\n12         serviceDiversity  929.814497   933.576395    3.761897\n13              PortShuffle  953.249624   972.389853   19.140229",
      "text/html": "<div>\n<style scoped>\n    .dataframe tbody tr th:only-of-type {\n        vertical-align: middle;\n    }\n\n    .dataframe tbody tr th {\n        vertical-align: top;\n    }\n\n    .dataframe thead th {\n        text-align: right;\n    }\n</style>\n<table border=\"1\" class=\"dataframe\">\n  <thead>\n    <tr style=\"text-align: right;\">\n      <th></th>\n      <th>name</th>\n      <th>start_time</th>\n      <th>finish_time</th>\n      <th>duration</th>\n    </tr>\n  </thead>\n  <tbody>\n    <tr>\n      <th>0</th>\n      <td>HostTopologyShuffle</td>\n      <td>94.446785</td>\n      <td>128.576342</td>\n      <td>34.129557</td>\n    </tr>\n    <tr>\n      <th>1</th>\n      <td>CompleteTopologyShuffle</td>\n      <td>147.080446</td>\n      <td>230.091718</td>\n      <td>83.011272</td>\n    </tr>\n    <tr>\n      <th>2</th>\n      <td>HostTopologyShuffle</td>\n      <td>257.185483</td>\n      <td>275.688651</td>\n      <td>18.503168</td>\n    </tr>\n    <tr>\n      <th>3</th>\n      <td>serviceDiversity</td>\n      <td>130.107558</td>\n      <td>298.970577</td>\n      <td>168.863018</td>\n    </tr>\n    <tr>\n      <th>4</th>\n      <td>HostTopologyShuffle</td>\n      <td>391.258958</td>\n      <td>397.868509</td>\n      <td>6.609551</td>\n    </tr>\n    <tr>\n      <th>5</th>\n      <td>HostTopologyShuffle</td>\n      <td>482.061037</td>\n      <td>484.832105</td>\n      <td>2.771067</td>\n    </tr>\n    <tr>\n      <th>6</th>\n      <td>HostTopologyShuffle</td>\n      <td>541.321618</td>\n      <td>546.959290</td>\n      <td>5.637672</td>\n    </tr>\n    <tr>\n      <th>7</th>\n      <td>osdiversity</td>\n      <td>497.001457</td>\n      <td>630.250762</td>\n      <td>133.249305</td>\n    </tr>\n    <tr>\n      <th>8</th>\n      <td>PortShuffle</td>\n      <td>632.415654</td>\n      <td>680.515189</td>\n      <td>48.099536</td>\n    </tr>\n    <tr>\n      <th>9</th>\n      <td>PortShuffle</td>\n      <td>744.831571</td>\n      <td>750.411992</td>\n      <td>5.580422</td>\n    </tr>\n    <tr>\n      <th>10</th>\n      <td>CompleteTopologyShuffle</td>\n      <td>750.404945</td>\n      <td>857.356581</td>\n      <td>106.951636</td>\n    </tr>\n    <tr>\n      <th>11</th>\n      <td>IPShuffle</td>\n      <td>888.488903</td>\n      <td>903.123807</td>\n      <td>14.634904</td>\n    </tr>\n    <tr>\n      <th>12</th>\n      <td>serviceDiversity</td>\n      <td>929.814497</td>\n      <td>933.576395</td>\n      <td>3.761897</td>\n    </tr>\n    <tr>\n      <th>13</th>\n      <td>PortShuffle</td>\n      <td>953.249624</td>\n      <td>972.389853</td>\n      <td>19.140229</td>\n    </tr>\n  </tbody>\n</table>\n</div>"
     },
     "execution_count": 3,
     "metadata": {},
     "output_type": "execute_result"
    }
   ],
   "source": [
    "mtd_operation_record = pd.DataFrame(mtd_operation_record)\n",
    "mtd_operation_record"
   ]
  },
  {
   "cell_type": "code",
   "execution_count": 4,
   "metadata": {
    "collapsed": false,
    "pycharm": {
     "name": "#%%\n"
    }
   },
   "outputs": [],
   "source": [
    "# fig1 = go.Figure(go.Waterfall(x = mtd_operation_record['start_time'],\n",
    "#                               y = mtd_operation_record['name'],\n",
    "#                               measure = ['absolute']*100,\n",
    "#                               connector = {\"mode\":\"between\", \"line\":{\"color\":\"red\"}}))\n",
    "#\n",
    "# fig1.update_layout(title = 'Time duration of MTD operations',\n",
    "#                    xaxis_title = 'Time' , yaxis_title = 'MTD techniques',\n",
    "#                    width = 800, height = 600)"
   ]
  },
  {
   "cell_type": "code",
   "execution_count": 5,
   "metadata": {
    "collapsed": false,
    "pycharm": {
     "name": "#%%\n"
    }
   },
   "outputs": [
    {
     "data": {
      "text/plain": "<Figure size 1152x432 with 1 Axes>",
      "image/png": "[encoded data removed]"
     },
     "metadata": {
      "needs_background": "light"
     },
     "output_type": "display_data"
    }
   ],
   "source": [
    "fig, ax = plt.subplots(1, figsize=(16, 6))\n",
    "ax.barh(mtd_operation_record['name'], mtd_operation_record['duration'], left=mtd_operation_record['start_time'], height=0.1)\n",
    "\n",
    "plt.xlabel('Time',  weight='bold', fontsize=18)\n",
    "plt.ylabel('MTD Techniques', weight='bold', fontsize=18)\n",
    "fig.tight_layout()\n",
    "plt.show()"
   ]
  },
  {
   "cell_type": "code",
   "execution_count": 6,
   "metadata": {
    "collapsed": false,
    "pycharm": {
     "name": "#%%\n"
    }
   },
   "outputs": [
    {
     "data": {
      "text/plain": "                    name  start_time  finish_time   duration  \\\n0               HostScan    0.000000     5.000000   5.000000   \n1               HostEnum    5.000000    10.000000   5.000000   \n2               PortScan   10.000000    20.000000  10.000000   \n3   VulnerabilityExploit   20.000000    20.654251   0.654251   \n4             BruteForce   20.654251    40.654251  20.000000   \n..                   ...         ...          ...        ...   \n91              HostEnum  967.212864   972.212864   5.000000   \n92              HostEnum  972.212864   972.389853   0.176989   \n93              HostScan  974.389853   979.389853   5.000000   \n94              HostEnum  979.389853   984.389853   5.000000   \n95              PortScan  984.389853   994.389853  10.000000   \n\n       interrupted_in interrupted_by compromise_host  \n0                                                     \n1                                                     \n2                                                     \n3                                                     \n4                                                     \n..                ...            ...             ...  \n91                                                    \n92  Application Layer    PortShuffle                  \n93                                                    \n94                                                    \n95                                                    \n\n[96 rows x 7 columns]",
      "text/html": "<div>\n<style scoped>\n    .dataframe tbody tr th:only-of-type {\n        vertical-align: middle;\n    }\n\n    .dataframe tbody tr th {\n        vertical-align: top;\n    }\n\n    .dataframe thead th {\n        text-align: right;\n    }\n</style>\n<table border=\"1\" class=\"dataframe\">\n  <thead>\n    <tr style=\"text-align: right;\">\n      <th></th>\n      <th>name</th>\n      <th>start_time</th>\n      <th>finish_time</th>\n      <th>duration</th>\n      <th>interrupted_in</th>\n      <th>interrupted_by</th>\n      <th>compromise_host</th>\n    </tr>\n  </thead>\n  <tbody>\n    <tr>\n      <th>0</th>\n      <td>HostScan</td>\n      <td>0.000000</td>\n      <td>5.000000</td>\n      <td>5.000000</td>\n      <td></td>\n      <td></td>\n      <td></td>\n    </tr>\n    <tr>\n      <th>1</th>\n      <td>HostEnum</td>\n      <td>5.000000</td>\n      <td>10.000000</td>\n      <td>5.000000</td>\n      <td></td>\n      <td></td>\n      <td></td>\n    </tr>\n    <tr>\n      <th>2</th>\n      <td>PortScan</td>\n      <td>10.000000</td>\n      <td>20.000000</td>\n      <td>10.000000</td>\n      <td></td>\n      <td></td>\n      <td></td>\n    </tr>\n    <tr>\n      <th>3</th>\n      <td>VulnerabilityExploit</td>\n      <td>20.000000</td>\n      <td>20.654251</td>\n      <td>0.654251</td>\n      <td></td>\n      <td></td>\n      <td></td>\n    </tr>\n    <tr>\n      <th>4</th>\n      <td>BruteForce</td>\n      <td>20.654251</td>\n      <td>40.654251</td>\n      <td>20.000000</td>\n      <td></td>\n      <td></td>\n      <td></td>\n    </tr>\n    <tr>\n      <th>...</th>\n      <td>...</td>\n      <td>...</td>\n      <td>...</td>\n      <td>...</td>\n      <td>...</td>\n      <td>...</td>\n      <td>...</td>\n    </tr>\n    <tr>\n      <th>91</th>\n      <td>HostEnum</td>\n      <td>967.212864</td>\n      <td>972.212864</td>\n      <td>5.000000</td>\n      <td></td>\n      <td></td>\n      <td></td>\n    </tr>\n    <tr>\n      <th>92</th>\n      <td>HostEnum</td>\n      <td>972.212864</td>\n      <td>972.389853</td>\n      <td>0.176989</td>\n      <td>Application Layer</td>\n      <td>PortShuffle</td>\n      <td></td>\n    </tr>\n    <tr>\n      <th>93</th>\n      <td>HostScan</td>\n      <td>974.389853</td>\n      <td>979.389853</td>\n      <td>5.000000</td>\n      <td></td>\n      <td></td>\n      <td></td>\n    </tr>\n    <tr>\n      <th>94</th>\n      <td>HostEnum</td>\n      <td>979.389853</td>\n      <td>984.389853</td>\n      <td>5.000000</td>\n      <td></td>\n      <td></td>\n      <td></td>\n    </tr>\n    <tr>\n      <th>95</th>\n      <td>PortScan</td>\n      <td>984.389853</td>\n      <td>994.389853</td>\n      <td>10.000000</td>\n      <td></td>\n      <td></td>\n      <td></td>\n    </tr>\n  </tbody>\n</table>\n<p>96 rows × 7 columns</p>\n</div>"
     },
     "execution_count": 6,
     "metadata": {},
     "output_type": "execute_result"
    }
   ],
   "source": [
    "attack_operation_record = pd.DataFrame(attack_operation_record)\n",
    "attack_operation_record"
   ]
  },
  {
   "cell_type": "code",
   "execution_count": 7,
   "metadata": {
    "collapsed": false,
    "pycharm": {
     "name": "#%%\n"
    }
   },
   "outputs": [
    {
     "data": {
      "text/plain": "<Figure size 1152x144 with 1 Axes>",
      "image/png": "[encoded data removed]"
     },
     "metadata": {
      "needs_background": "light"
     },
     "output_type": "display_data"
    }
   ],
   "source": [
    "fig2, ax2 = plt.subplots(1, figsize=(16, 2))\n",
    "ax2.barh(attack_operation_record['name'], attack_operation_record['duration'], left=attack_operation_record['start_time'], height=0.1)\n",
    "\n",
    "plt.xlabel('Time',  weight='bold', fontsize=18)\n",
    "plt.ylabel('Attack Progress', weight='bold', fontsize=18)\n",
    "fig2.tight_layout()\n",
    "plt.show()"
   ]
  },
  {
   "cell_type": "code",
   "execution_count": 7,
   "metadata": {
    "collapsed": false,
    "pycharm": {
     "name": "#%%\n"
    }
   },
   "outputs": [],
   "source": []
  }
 ],
 "metadata": {
  "kernelspec": {
   "display_name": "Python 3.9.13 ('venv': venv)",
   "language": "python",
   "name": "python3"
  },
  "language_info": {
   "codemirror_mode": {
    "name": "ipython",
    "version": 3
   },
   "file_extension": ".py",
   "mimetype": "text/x-python",
   "name": "python",
   "nbconvert_exporter": "python",
   "pygments_lexer": "ipython3",
   "version": "3.9.13"
  },
  "orig_nbformat": 4,
  "vscode": {
   "interpreter": {
    "hash": "ca714204bdf767f914288741b60dfd3ec695087ef64c4e46bb5b8f91083c76f9"
   }
  }
 },
 "nbformat": 4,
 "nbformat_minor": 2
}