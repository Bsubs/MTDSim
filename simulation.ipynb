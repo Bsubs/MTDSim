{
 "cells": [
  {
   "cell_type": "code",
   "execution_count": 1,
   "metadata": {},
   "outputs": [],
   "source": [
    "import warnings\n",
    "warnings.filterwarnings(\"ignore\")\n",
    "from run import main\n",
    "import pandas as pd\n",
    "import matplotlib.pyplot as plt\n",
    "import os\n",
    "import numpy as np\n",
    "from matplotlib.lines import Line2D"
   ]
  },
  {
   "cell_type": "code",
   "execution_count": 2,
   "metadata": {},
   "outputs": [
    {
     "name": "stderr",
     "output_type": "stream",
     "text": [
      "Adversary: Start SCAN_HOST at 0.0s.\n",
      "MTD: CompleteTopologyShuffle triggered 0.0s\n",
      "MTD: CompleteTopologyShuffle deployed in the network at 0.0s.\n",
      "Adversary: Processed SCAN_HOST at 10.0s.\n",
      "Adversary: Start ENUM_HOST at 10.0s.\n",
      "Adversary: Processed ENUM_HOST at 25.0s.\n",
      "Adversary: Start SCAN_PORT at 25.0s.\n",
      "MTD: CompleteTopologyShuffle finished in 40.6s at 40.6s.\n",
      "MTD: Interrupted SCAN_PORT at 40.6s!\n",
      "Adversary: Restarting with SCAN_HOST at 42.6s!\n",
      "Adversary: Start SCAN_HOST at 42.6s.\n",
      "MTD: IPShuffle triggered 42.9s\n",
      "MTD: IPShuffle deployed in the network at 42.9s.\n",
      "Adversary: Processed SCAN_HOST at 52.6s.\n",
      "Adversary: Start ENUM_HOST at 52.6s.\n",
      "Adversary: Processed ENUM_HOST at 67.6s.\n",
      "Adversary: Start SCAN_PORT at 67.6s.\n",
      "MTD: IPShuffle finished in 40.0s at 82.9s.\n",
      "MTD: Interrupted SCAN_PORT at 82.9s!\n",
      "Adversary: Restarting with SCAN_HOST at 84.9s!\n",
      "Adversary: Start SCAN_HOST at 84.9s.\n",
      "MTD: HostTopologyShuffle triggered 85.0s\n",
      "MTD: HostTopologyShuffle deployed in the network at 85.0s.\n",
      "Adversary: Processed SCAN_HOST at 94.9s.\n",
      "Adversary: Start ENUM_HOST at 94.9s.\n",
      "Adversary: Processed ENUM_HOST at 109.9s.\n",
      "Adversary: Start SCAN_PORT at 109.9s.\n",
      "MTD: HostTopologyShuffle finished in 40.9s at 125.9s.\n",
      "MTD: Interrupted SCAN_PORT at 125.9s!\n",
      "MTD: PortShuffle triggered 127.4s\n",
      "MTD: PortShuffle deployed in the network at 127.4s.\n",
      "Adversary: Restarting with SCAN_HOST at 127.9s!\n",
      "Adversary: Start SCAN_HOST at 127.9s.\n",
      "Adversary: Processed SCAN_HOST at 137.9s.\n",
      "Adversary: Start ENUM_HOST at 137.9s.\n",
      "Adversary: Processed ENUM_HOST at 152.9s.\n",
      "Adversary: Start SCAN_PORT at 152.9s.\n",
      "MTD: PortShuffle finished in 40.0s at 167.4s.\n",
      "MTD: Interrupted SCAN_PORT at 167.4s!\n",
      "Adversary: Restarting with SCAN_PORT at 169.4s!\n",
      "Adversary: Start SCAN_PORT at 169.4s.\n",
      "MTD: osdiversity triggered 169.8s\n",
      "MTD: osdiversity deployed in the network at 169.8s.\n",
      "Adversary: Processed SCAN_PORT at 189.4s.\n",
      "Adversary: Start EXPLOIT_VULN at 189.4s.\n",
      "MTD: osdiversity finished in 40.4s at 210.2s.\n",
      "MTD: Interrupted EXPLOIT_VULN at 210.2s!\n",
      "Adversary: Restarting with SCAN_PORT at 212.2s!\n",
      "Adversary: Start SCAN_PORT at 212.2s.\n",
      "MTD: serviceDiversity triggered 213.3s\n",
      "MTD: serviceDiversity deployed in the network at 213.3s.\n",
      "Adversary: Processed SCAN_PORT at 232.2s.\n",
      "Adversary: Start EXPLOIT_VULN at 232.2s.\n",
      "MTD: serviceDiversity finished in 40.7s at 254.0s.\n",
      "MTD: Interrupted EXPLOIT_VULN at 254.0s!\n",
      "MTD: UserShuffle triggered 255.4s\n",
      "MTD: UserShuffle deployed in the network at 255.4s.\n",
      "Adversary: Restarting with SCAN_PORT at 256.0s!\n",
      "Adversary: Start SCAN_PORT at 256.0s.\n",
      "Adversary: Processed SCAN_PORT at 276.0s.\n",
      "Adversary: Start EXPLOIT_VULN at 276.0s.\n",
      "MTD: UserShuffle finished in 40.6s at 295.9s.\n"
     ]
    },
    {
     "ename": "KeyboardInterrupt",
     "evalue": "",
     "output_type": "error",
     "traceback": [
      "\u001B[1;31m---------------------------------------------------------------------------\u001B[0m",
      "\u001B[1;31mKeyboardInterrupt\u001B[0m                         Traceback (most recent call last)",
      "\u001B[1;32mD:\\UWA-Onedrive\\OneDrive - The University of Western Australia\\2023 S1\\GENG5512\\MTDSimTime\\mtdnetwork\\operation\\mtd_operation.py\u001B[0m in \u001B[0;36mmtd_trigger_action\u001B[1;34m(self)\u001B[0m\n\u001B[0;32m     49\u001B[0m         \u001B[1;32mwhile\u001B[0m \u001B[1;32mTrue\u001B[0m\u001B[1;33m:\u001B[0m\u001B[1;33m\u001B[0m\u001B[1;33m\u001B[0m\u001B[0m\n\u001B[1;32m---> 50\u001B[1;33m             \u001B[1;32mif\u001B[0m \u001B[1;32mnot\u001B[0m \u001B[0mself\u001B[0m\u001B[1;33m.\u001B[0m\u001B[0mnetwork\u001B[0m\u001B[1;33m.\u001B[0m\u001B[0mget_mtd_suspended_queue\u001B[0m\u001B[1;33m(\u001B[0m\u001B[1;33m)\u001B[0m \u001B[1;32mand\u001B[0m \u001B[1;32mnot\u001B[0m \u001B[0mself\u001B[0m\u001B[1;33m.\u001B[0m\u001B[0mnetwork\u001B[0m\u001B[1;33m.\u001B[0m\u001B[0mget_mtd_strategy_queue\u001B[0m\u001B[1;33m(\u001B[0m\u001B[1;33m)\u001B[0m\u001B[1;33m:\u001B[0m\u001B[1;33m\u001B[0m\u001B[1;33m\u001B[0m\u001B[0m\n\u001B[0m\u001B[0;32m     51\u001B[0m                 \u001B[1;32mcontinue\u001B[0m\u001B[1;33m\u001B[0m\u001B[1;33m\u001B[0m\u001B[0m\n",
      "\u001B[1;32mD:\\UWA-Onedrive\\OneDrive - The University of Western Australia\\2023 S1\\GENG5512\\MTDSimTime\\mtdnetwork\\network\\time_network.py\u001B[0m in \u001B[0;36mget_mtd_suspended_queue\u001B[1;34m(self)\u001B[0m\n\u001B[0;32m     92\u001B[0m     \u001B[1;32mdef\u001B[0m \u001B[0mget_mtd_suspended_queue\u001B[0m\u001B[1;33m(\u001B[0m\u001B[0mself\u001B[0m\u001B[1;33m)\u001B[0m\u001B[1;33m:\u001B[0m\u001B[1;33m\u001B[0m\u001B[1;33m\u001B[0m\u001B[0m\n\u001B[1;32m---> 93\u001B[1;33m         \u001B[1;32mreturn\u001B[0m \u001B[0mself\u001B[0m\u001B[1;33m.\u001B[0m\u001B[0m_mtd_suspended_queue\u001B[0m\u001B[1;33m\u001B[0m\u001B[1;33m\u001B[0m\u001B[0m\n\u001B[0m\u001B[0;32m     94\u001B[0m \u001B[1;33m\u001B[0m\u001B[0m\n",
      "\u001B[1;31mKeyboardInterrupt\u001B[0m: ",
      "\nThe above exception was the direct cause of the following exception:\n",
      "\u001B[1;31mKeyboardInterrupt\u001B[0m                         Traceback (most recent call last)",
      "\u001B[1;32m<ipython-input-2-3ff4e642c58a>\u001B[0m in \u001B[0;36m<module>\u001B[1;34m\u001B[0m\n\u001B[0;32m      7\u001B[0m \u001B[0mSIM_TIME\u001B[0m \u001B[1;33m=\u001B[0m \u001B[1;36m10000\u001B[0m\u001B[1;33m\u001B[0m\u001B[1;33m\u001B[0m\u001B[0m\n\u001B[0;32m      8\u001B[0m \u001B[0mscheme\u001B[0m \u001B[1;33m=\u001B[0m \u001B[1;34m'simultaneously'\u001B[0m\u001B[1;33m\u001B[0m\u001B[1;33m\u001B[0m\u001B[0m\n\u001B[1;32m----> 9\u001B[1;33m \u001B[0mtime_network\u001B[0m\u001B[1;33m,\u001B[0m \u001B[0madversary\u001B[0m \u001B[1;33m=\u001B[0m \u001B[0mmain\u001B[0m\u001B[1;33m(\u001B[0m\u001B[0mfinish_time\u001B[0m\u001B[1;33m=\u001B[0m\u001B[0mSIM_TIME\u001B[0m\u001B[1;33m,\u001B[0m \u001B[0mscheme\u001B[0m\u001B[1;33m=\u001B[0m\u001B[0mscheme\u001B[0m\u001B[1;33m)\u001B[0m\u001B[1;33m\u001B[0m\u001B[1;33m\u001B[0m\u001B[0m\n\u001B[0m",
      "\u001B[1;32mD:\\UWA-Onedrive\\OneDrive - The University of Western Australia\\2023 S1\\GENG5512\\MTDSimTime\\run.py\u001B[0m in \u001B[0;36mmain\u001B[1;34m(start_time, finish_time, scheme, checkpoints)\u001B[0m\n\u001B[0;32m     35\u001B[0m         \u001B[0mstate_checkpoint\u001B[0m\u001B[1;33m.\u001B[0m\u001B[0mproceed_save\u001B[0m\u001B[1;33m(\u001B[0m\u001B[0mtime_network\u001B[0m\u001B[1;33m,\u001B[0m \u001B[0madversary\u001B[0m\u001B[1;33m)\u001B[0m\u001B[1;33m\u001B[0m\u001B[1;33m\u001B[0m\u001B[0m\n\u001B[0;32m     36\u001B[0m     \u001B[1;31m# Execute!\u001B[0m\u001B[1;33m\u001B[0m\u001B[1;33m\u001B[0m\u001B[0m\n\u001B[1;32m---> 37\u001B[1;33m     \u001B[0menv\u001B[0m\u001B[1;33m.\u001B[0m\u001B[0mrun\u001B[0m\u001B[1;33m(\u001B[0m\u001B[0muntil\u001B[0m\u001B[1;33m=\u001B[0m\u001B[1;33m(\u001B[0m\u001B[0mfinish_time\u001B[0m\u001B[1;33m-\u001B[0m\u001B[0mstart_time\u001B[0m\u001B[1;33m)\u001B[0m\u001B[1;33m)\u001B[0m\u001B[1;33m\u001B[0m\u001B[1;33m\u001B[0m\u001B[0m\n\u001B[0m\u001B[0;32m     38\u001B[0m     \u001B[1;32mreturn\u001B[0m \u001B[0mtime_network\u001B[0m\u001B[1;33m,\u001B[0m \u001B[0madversary\u001B[0m\u001B[1;33m\u001B[0m\u001B[1;33m\u001B[0m\u001B[0m\n\u001B[0;32m     39\u001B[0m \u001B[1;33m\u001B[0m\u001B[0m\n",
      "\u001B[1;32mD:\\Anaconda\\envs\\mtdsimtime\\lib\\site-packages\\simpy\\core.py\u001B[0m in \u001B[0;36mrun\u001B[1;34m(self, until)\u001B[0m\n\u001B[0;32m    252\u001B[0m         \u001B[1;32mtry\u001B[0m\u001B[1;33m:\u001B[0m\u001B[1;33m\u001B[0m\u001B[1;33m\u001B[0m\u001B[0m\n\u001B[0;32m    253\u001B[0m             \u001B[1;32mwhile\u001B[0m \u001B[1;32mTrue\u001B[0m\u001B[1;33m:\u001B[0m\u001B[1;33m\u001B[0m\u001B[1;33m\u001B[0m\u001B[0m\n\u001B[1;32m--> 254\u001B[1;33m                 \u001B[0mself\u001B[0m\u001B[1;33m.\u001B[0m\u001B[0mstep\u001B[0m\u001B[1;33m(\u001B[0m\u001B[1;33m)\u001B[0m\u001B[1;33m\u001B[0m\u001B[1;33m\u001B[0m\u001B[0m\n\u001B[0m\u001B[0;32m    255\u001B[0m         \u001B[1;32mexcept\u001B[0m \u001B[0mStopSimulation\u001B[0m \u001B[1;32mas\u001B[0m \u001B[0mexc\u001B[0m\u001B[1;33m:\u001B[0m\u001B[1;33m\u001B[0m\u001B[1;33m\u001B[0m\u001B[0m\n\u001B[0;32m    256\u001B[0m             \u001B[1;32mreturn\u001B[0m \u001B[0mexc\u001B[0m\u001B[1;33m.\u001B[0m\u001B[0margs\u001B[0m\u001B[1;33m[\u001B[0m\u001B[1;36m0\u001B[0m\u001B[1;33m]\u001B[0m  \u001B[1;31m# == until.value\u001B[0m\u001B[1;33m\u001B[0m\u001B[1;33m\u001B[0m\u001B[0m\n",
      "\u001B[1;32mD:\\Anaconda\\envs\\mtdsimtime\\lib\\site-packages\\simpy\\core.py\u001B[0m in \u001B[0;36mstep\u001B[1;34m(self)\u001B[0m\n\u001B[0;32m    204\u001B[0m             \u001B[0mexc\u001B[0m \u001B[1;33m=\u001B[0m \u001B[0mtype\u001B[0m\u001B[1;33m(\u001B[0m\u001B[0mevent\u001B[0m\u001B[1;33m.\u001B[0m\u001B[0m_value\u001B[0m\u001B[1;33m)\u001B[0m\u001B[1;33m(\u001B[0m\u001B[1;33m*\u001B[0m\u001B[0mevent\u001B[0m\u001B[1;33m.\u001B[0m\u001B[0m_value\u001B[0m\u001B[1;33m.\u001B[0m\u001B[0margs\u001B[0m\u001B[1;33m)\u001B[0m\u001B[1;33m\u001B[0m\u001B[1;33m\u001B[0m\u001B[0m\n\u001B[0;32m    205\u001B[0m             \u001B[0mexc\u001B[0m\u001B[1;33m.\u001B[0m\u001B[0m__cause__\u001B[0m \u001B[1;33m=\u001B[0m \u001B[0mevent\u001B[0m\u001B[1;33m.\u001B[0m\u001B[0m_value\u001B[0m\u001B[1;33m\u001B[0m\u001B[1;33m\u001B[0m\u001B[0m\n\u001B[1;32m--> 206\u001B[1;33m             \u001B[1;32mraise\u001B[0m \u001B[0mexc\u001B[0m\u001B[1;33m\u001B[0m\u001B[1;33m\u001B[0m\u001B[0m\n\u001B[0m\u001B[0;32m    207\u001B[0m \u001B[1;33m\u001B[0m\u001B[0m\n\u001B[0;32m    208\u001B[0m     def run(\n",
      "\u001B[1;31mKeyboardInterrupt\u001B[0m: "
     ]
    }
   ],
   "source": [
    "# set up dataframe for collecting event data\n",
    "\"\"\"\n",
    "    start_time: the start time of the simulation (can only be used when you have saved state at that given timestamp)\n",
    "    finish_time: the total simulation time\n",
    "    checkpoints: a list of simulation timestamp for state saving e.g. [1000, 5000, 7000]\n",
    "\"\"\"\n",
    "SIM_TIME = 10000\n",
    "scheme = 'simultaneously'\n",
    "time_network, adversary = main(finish_time=SIM_TIME, scheme=scheme)"
   ]
  },
  {
   "cell_type": "code",
   "execution_count": null,
   "metadata": {
    "collapsed": false,
    "pycharm": {
     "name": "#%%\n"
    }
   },
   "outputs": [],
   "source": [
    "mtd_operation_record = pd.DataFrame(time_network.get_mtd_stats().get_record())\n",
    "attack_operation_record = pd.DataFrame(adversary.get_attack_stats().get_record())\n",
    "current_directory = os.getcwd()\n",
    "if not os.path.exists(current_directory+'\\\\data_analysis'):\n",
    "    os.makedirs(current_directory+'\\\\data_analysis')\n",
    "\n",
    "attack_operation_record.to_csv('data_analysis/attack_operation_record_'+str(SIM_TIME)+'_'+scheme+'.csv',index=False)\n",
    "mtd_operation_record.to_csv('data_analysis/mtd_operation_record_'+str(SIM_TIME)+'_'+scheme+'.csv', index=False)"
   ]
  },
  {
   "cell_type": "code",
   "execution_count": null,
   "metadata": {
    "collapsed": false,
    "pycharm": {
     "name": "#%%\n"
    }
   },
   "outputs": [],
   "source": [
    "# print(time_network.get_mtd_stats().dict())\n",
    "mtd_operation_record.head()"
   ]
  },
  {
   "cell_type": "code",
   "execution_count": null,
   "metadata": {
    "collapsed": false,
    "pycharm": {
     "name": "#%%\n"
    }
   },
   "outputs": [],
   "source": [
    "mtd_operation_record['color'] = np.where(mtd_operation_record['executed_at']=='network', 'green', 'orange')\n",
    "fig, ax = plt.subplots(1, figsize=(16, 6))\n",
    "ax.barh(mtd_operation_record['name'], mtd_operation_record['duration'], left=mtd_operation_record['start_time'], height=0.1, color=mtd_operation_record['color'])\n",
    "\n",
    "\n",
    "custom_lines_mtd = [Line2D([0], [0], color='green', lw=4),\n",
    "                Line2D([0], [0], color='orange', lw=4)]\n",
    "ax.legend(custom_lines_mtd, ['network layer', 'application layer'], loc='upper right')\n",
    "plt.xlabel('Time',  weight='bold', fontsize=18)\n",
    "plt.ylabel('MTD Techniques', weight='bold', fontsize=18)\n",
    "fig.tight_layout()\n",
    "plt.savefig('data_analysis/mtd_record.png')\n",
    "plt.show()"
   ]
  },
  {
   "cell_type": "code",
   "execution_count": null,
   "metadata": {
    "collapsed": false,
    "pycharm": {
     "name": "#%%\n"
    }
   },
   "outputs": [],
   "source": [
    "attack_operation_record.head()"
   ]
  },
  {
   "cell_type": "code",
   "execution_count": null,
   "metadata": {
    "collapsed": false,
    "pycharm": {
     "name": "#%%\n"
    }
   },
   "outputs": [],
   "source": [
    "fig2, ax2 = plt.subplots(1, figsize=(16, 5))\n",
    "ax2.barh(attack_operation_record['name'], attack_operation_record['duration'], left=attack_operation_record['start_time'], height=0.1, zorder=1)\n",
    "\n",
    "\n",
    "interrupted_record = attack_operation_record[attack_operation_record['interrupted_in']!='None']\n",
    "interrupted_record['color'] = np.where(interrupted_record['interrupted_in']=='network', 'green', 'orange')\n",
    "ax2.scatter(interrupted_record['finish_time'], interrupted_record['name'], color=interrupted_record['color'], zorder=2)\n",
    "\n",
    "\n",
    "compromise_record = attack_operation_record[attack_operation_record['compromise_host'] != 'None']\n",
    "ax2.scatter(compromise_record['finish_time'], compromise_record['name'], color='red', zorder=2)\n",
    "\n",
    "\n",
    "custom_lines_attack = [Line2D([0], [0], marker='o',color='w', markerfacecolor='green', markersize=10),\n",
    "                Line2D([0], [0], marker='o',color='w', markerfacecolor='orange', markersize=10),\n",
    "                Line2D([0], [0], marker='o',color='w', markerfacecolor='red', markersize=10),]\n",
    "\n",
    "ax2.legend(custom_lines_attack, ['network layer MTD', 'application layer MTD', 'compromise host'], loc='upper right')\n",
    "\n",
    "plt.gca().invert_yaxis()\n",
    "plt.xlabel('Time',  weight='bold', fontsize=18)\n",
    "plt.ylabel('Attack Progress', weight='bold', fontsize=18)\n",
    "fig2.tight_layout()\n",
    "plt.savefig('data_analysis/attack_record.png')\n",
    "plt.show()"
   ]
  },
  {
   "cell_type": "code",
   "execution_count": null,
   "metadata": {
    "collapsed": false,
    "pycharm": {
     "name": "#%%\n"
    }
   },
   "outputs": [],
   "source": [
    "attack_operation_record[(attack_operation_record['name'] == 'SCAN_PORT') & (attack_operation_record['compromise_host'] != 'None')]"
   ]
  },
  {
   "cell_type": "code",
   "execution_count": null,
   "metadata": {
    "collapsed": false,
    "pycharm": {
     "name": "#%%\n"
    }
   },
   "outputs": [],
   "source": [
    "attack_operation_record[(attack_operation_record['name'] == 'EXPLOIT_VULN') & (attack_operation_record['compromise_host'] != 'None')]"
   ]
  },
  {
   "cell_type": "code",
   "execution_count": null,
   "metadata": {
    "collapsed": false,
    "pycharm": {
     "name": "#%%\n"
    }
   },
   "outputs": [],
   "source": [
    "attack_operation_record[(attack_operation_record['name'] == 'BRUTE_FORCE') & (attack_operation_record['compromise_host'] != 'None')]"
   ]
  },
  {
   "cell_type": "code",
   "execution_count": null,
   "metadata": {
    "collapsed": false,
    "pycharm": {
     "name": "#%%\n"
    }
   },
   "outputs": [],
   "source": []
  }
 ],
 "metadata": {
  "kernelspec": {
   "display_name": "Python 3.9.13 ('mtdsimtime')",
   "language": "python",
   "name": "python3"
  },
  "language_info": {
   "codemirror_mode": {
    "name": "ipython",
    "version": 3
   },
   "file_extension": ".py",
   "mimetype": "text/x-python",
   "name": "python",
   "nbconvert_exporter": "python",
   "pygments_lexer": "ipython3",
   "version": "3.9.13"
  },
  "orig_nbformat": 4,
  "vscode": {
   "interpreter": {
    "hash": "9b477274c87fb63319f36b484dd34a6881cb387ce1b14309c24558f54c8e02ea"
   }
  }
 },
 "nbformat": 4,
 "nbformat_minor": 2
}