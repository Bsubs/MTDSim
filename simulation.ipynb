{
 "cells": [
  {
   "cell_type": "code",
   "execution_count": 21,
   "metadata": {},
   "outputs": [],
   "source": [
    "import warnings\n",
    "warnings.filterwarnings(\"ignore\")\n",
    "from run import main\n",
    "import pandas as pd\n",
    "import matplotlib.pyplot as plt\n",
    "import os\n",
    "import numpy as np\n",
    "from matplotlib.lines import Line2D"
   ]
  },
  {
   "cell_type": "code",
   "execution_count": 22,
   "metadata": {},
   "outputs": [
    {
     "name": "stderr",
     "output_type": "stream",
     "text": [
      "Adversary: Start SCAN_HOST at 0.0s.\n",
      "MTD: IPShuffle triggered 0.0s\n",
      "MTD: IPShuffle deployed in the network at 0.0s.\n",
      "Adversary: Processed SCAN_HOST at 10.0s.\n",
      "Adversary: Start ENUM_HOST at 10.0s.\n",
      "Adversary: Processed ENUM_HOST at 25.0s.\n",
      "Adversary: Start SCAN_PORT at 25.0s.\n",
      "MTD: IPShuffle triggered 30.8s\n",
      "MTD: IPShuffle suspended at 30.8s due to resource occupation\n",
      "Adversary: Processed SCAN_PORT at 45.0s.\n",
      "Adversary: Start EXPLOIT_VULN at 45.0s.\n",
      "MTD: IPShuffle finished in 50.4s at 50.4s.\n",
      "MTD: Interrupted EXPLOIT_VULN at 50.4s!\n",
      "Adversary: Restarting with SCAN_HOST at 52.4s!\n",
      "Adversary: Start SCAN_HOST at 52.4s.\n",
      "MTD: IPShuffle triggered 61.8s\n",
      "MTD: IPShuffle deployed in the network at 61.8s.\n",
      "Adversary: Processed SCAN_HOST at 62.4s.\n",
      "Adversary: Start ENUM_HOST at 62.4s.\n",
      "Adversary: Processed ENUM_HOST at 77.4s.\n",
      "Adversary: Start SCAN_PORT at 77.4s.\n",
      "MTD: osdiversity triggered 92.2s\n",
      "MTD: osdiversity deployed in the network at 92.2s.\n",
      "Adversary: Processed SCAN_PORT at 97.4s.\n",
      "Adversary: Start EXPLOIT_VULN at 97.4s.\n",
      "MTD: IPShuffle finished in 50.2s at 112.0s.\n",
      "MTD: Interrupted EXPLOIT_VULN at 112.0s!\n",
      "Adversary: Restarting with SCAN_HOST at 114.0s!\n",
      "Adversary: Start SCAN_HOST at 114.0s.\n",
      "MTD: osdiversity finished in 30.3s at 122.5s.\n",
      "MTD: HostTopologyShuffle triggered 123.2s\n",
      "MTD: HostTopologyShuffle deployed in the network at 123.2s.\n",
      "Adversary: Processed SCAN_HOST at 124.0s.\n",
      "Adversary: Start ENUM_HOST at 124.0s.\n",
      "Adversary: Processed ENUM_HOST at 139.0s.\n",
      "Adversary: Start SCAN_PORT at 139.0s.\n",
      "MTD: IPShuffle triggered 153.7s\n",
      "MTD: IPShuffle suspended at 153.7s due to resource occupation\n",
      "Adversary: Processed SCAN_PORT at 159.0s.\n",
      "Adversary: Start EXPLOIT_VULN at 159.0s.\n",
      "Adversary: Processed EXPLOIT_VULN at 184.1s.\n",
      "Adversary: Start BRUTE_FORCE at 184.1s.\n",
      "MTD: IPShuffle triggered 184.1s\n",
      "MTD: IPShuffle suspended at 184.1s due to resource occupation\n",
      "MTD: HostTopologyShuffle finished in 61.0s at 184.2s.\n",
      "MTD: Interrupted BRUTE_FORCE at 184.2s!\n",
      "Adversary: Restarting with SCAN_HOST at 186.2s!\n",
      "Adversary: Start SCAN_HOST at 186.2s.\n",
      "Adversary: Processed SCAN_HOST at 196.2s.\n",
      "Adversary: Start ENUM_HOST at 196.2s.\n",
      "Adversary: Processed ENUM_HOST at 211.2s.\n",
      "Adversary: Start SCAN_PORT at 211.2s.\n",
      "MTD: IPShuffle triggered 216.1s\n",
      "MTD: IPShuffle deployed in the network at 216.1s.\n",
      "Adversary: Processed SCAN_PORT at 231.2s.\n",
      "Adversary: Start EXPLOIT_VULN at 231.2s.\n",
      "MTD: HostTopologyShuffle triggered 246.4s\n",
      "MTD: HostTopologyShuffle suspended at 246.4s due to resource occupation\n",
      "Adversary: Processed EXPLOIT_VULN at 256.4s.\n",
      "Adversary: Host 0 has been compromised at 256.4s!\n",
      "Adversary: Start SCAN_NEIGHBOR at 256.4s.\n",
      "Adversary: Processed SCAN_NEIGHBOR at 266.4s.\n",
      "Adversary: Start ENUM_HOST at 266.4s.\n",
      "MTD: IPShuffle finished in 50.4s at 266.6s.\n",
      "MTD: Interrupted ENUM_HOST at 266.6s!\n",
      "Adversary: Restarting with SCAN_HOST at 268.6s!\n",
      "Adversary: Start SCAN_HOST at 268.6s.\n",
      "MTD: HostTopologyShuffle triggered 276.5s\n",
      "MTD: HostTopologyShuffle deployed in the network at 276.5s.\n",
      "Adversary: Processed SCAN_HOST at 278.6s.\n",
      "Adversary: Start ENUM_HOST at 278.6s.\n",
      "Adversary: Processed ENUM_HOST at 293.6s.\n",
      "Adversary: Start SCAN_PORT at 293.6s.\n",
      "MTD: IPShuffle triggered 307.0s\n",
      "MTD: IPShuffle suspended at 307.0s due to resource occupation\n",
      "Adversary: Processed SCAN_PORT at 313.6s.\n",
      "Adversary: Start EXPLOIT_VULN at 313.6s.\n",
      "MTD: HostTopologyShuffle finished in 60.3s at 336.8s.\n",
      "MTD: Interrupted EXPLOIT_VULN at 336.8s!\n",
      "MTD: IPShuffle triggered 337.4s\n",
      "MTD: IPShuffle deployed in the network at 337.4s.\n",
      "Adversary: Restarting with SCAN_HOST at 338.8s!\n",
      "Adversary: Start SCAN_HOST at 338.8s.\n",
      "Adversary: Processed SCAN_HOST at 348.8s.\n",
      "Adversary: Start ENUM_HOST at 348.8s.\n",
      "Adversary: Processed ENUM_HOST at 363.8s.\n",
      "Adversary: Start SCAN_PORT at 363.8s.\n",
      "MTD: PortShuffle triggered 367.5s\n",
      "MTD: PortShuffle deployed in the network at 367.5s.\n",
      "Adversary: Processed SCAN_PORT at 383.8s.\n",
      "Adversary: Start EXPLOIT_VULN at 383.8s.\n",
      "MTD: IPShuffle finished in 50.9s at 388.3s.\n",
      "MTD: Interrupted EXPLOIT_VULN at 388.3s!\n",
      "Adversary: Restarting with SCAN_HOST at 390.3s!\n",
      "Adversary: Start SCAN_HOST at 390.3s.\n",
      "MTD: PortShuffle triggered 397.8s\n",
      "MTD: PortShuffle suspended at 397.8s due to resource occupation\n",
      "Adversary: Processed SCAN_HOST at 400.3s.\n",
      "Adversary: Start ENUM_HOST at 400.3s.\n",
      "MTD: PortShuffle finished in 35.7s at 403.2s.\n",
      "Adversary: Processed ENUM_HOST at 415.3s.\n",
      "Adversary: Start SCAN_PORT at 415.3s.\n",
      "MTD: PortShuffle triggered 428.4s\n",
      "MTD: PortShuffle deployed in the network at 428.4s.\n",
      "Adversary: Processed SCAN_PORT at 435.3s.\n",
      "Adversary: Start EXPLOIT_VULN at 435.3s.\n",
      "MTD: PortShuffle triggered 459.0s\n",
      "MTD: PortShuffle suspended at 459.0s due to resource occupation\n",
      "Adversary: Processed EXPLOIT_VULN at 460.6s.\n",
      "Adversary: Start BRUTE_FORCE at 460.6s.\n",
      "MTD: PortShuffle finished in 35.2s at 463.5s.\n",
      "MTD: Interrupted BRUTE_FORCE at 463.5s!\n",
      "Adversary: Restarting with SCAN_PORT at 465.5s!\n",
      "Adversary: Start SCAN_PORT at 465.5s.\n",
      "Adversary: Processed SCAN_PORT at 485.5s.\n",
      "Adversary: Start EXPLOIT_VULN at 485.5s.\n",
      "MTD: PortShuffle triggered 489.0s\n",
      "MTD: PortShuffle deployed in the network at 489.0s.\n",
      "Adversary: Processed EXPLOIT_VULN at 514.0s.\n",
      "Adversary: Host 52 has been compromised at 514.0s!\n",
      "Adversary: Start SCAN_NEIGHBOR at 514.0s.\n",
      "MTD: PortShuffle triggered 521.1s\n",
      "MTD: PortShuffle suspended at 521.1s due to resource occupation\n",
      "Adversary: Processed SCAN_NEIGHBOR at 524.0s.\n",
      "Adversary: Start ENUM_HOST at 524.0s.\n",
      "MTD: PortShuffle finished in 35.2s at 524.2s.\n",
      "Adversary: Processed ENUM_HOST at 539.0s.\n",
      "Adversary: Start SCAN_PORT at 539.0s.\n",
      "MTD: PortShuffle triggered 551.9s\n",
      "MTD: PortShuffle deployed in the network at 551.9s.\n",
      "Adversary: Processed SCAN_PORT at 559.0s.\n",
      "Adversary: Start EXPLOIT_VULN at 559.0s.\n",
      "MTD: osdiversity triggered 582.0s\n",
      "MTD: osdiversity suspended at 582.0s due to resource occupation\n",
      "Adversary: Processed EXPLOIT_VULN at 584.1s.\n",
      "Adversary: Host 53 has been compromised at 584.1s!\n",
      "Adversary: Start SCAN_NEIGHBOR at 584.1s.\n",
      "MTD: PortShuffle finished in 35.6s at 587.5s.\n",
      "Adversary: Processed SCAN_NEIGHBOR at 594.1s.\n",
      "Adversary: Start ENUM_HOST at 594.1s.\n",
      "Adversary: Processed ENUM_HOST at 609.1s.\n",
      "Adversary: Start ENUM_HOST at 609.1s.\n",
      "MTD: osdiversity triggered 612.5s\n",
      "MTD: osdiversity deployed in the network at 612.5s.\n",
      "Adversary: Processed ENUM_HOST at 624.1s.\n",
      "Adversary: Start SCAN_PORT at 624.1s.\n",
      "MTD: osdiversity finished in 30.1s at 642.6s.\n",
      "MTD: Interrupted SCAN_PORT at 642.6s!\n",
      "MTD: HostTopologyShuffle triggered 644.2s\n",
      "MTD: HostTopologyShuffle deployed in the network at 644.2s.\n",
      "Adversary: Restarting with SCAN_PORT at 644.6s!\n",
      "Adversary: Start SCAN_PORT at 644.6s.\n",
      "Adversary: Processed SCAN_PORT at 664.6s.\n",
      "Adversary: Start EXPLOIT_VULN at 664.6s.\n",
      "MTD: PortShuffle triggered 674.8s\n",
      "MTD: PortShuffle deployed in the network at 674.8s.\n",
      "Adversary: Processed EXPLOIT_VULN at 689.9s.\n",
      "Adversary: Start BRUTE_FORCE at 689.9s.\n",
      "MTD: HostTopologyShuffle finished in 60.4s at 704.7s.\n",
      "MTD: Interrupted BRUTE_FORCE at 704.7s!\n",
      "MTD: PortShuffle triggered 705.2s\n",
      "MTD: PortShuffle suspended at 705.2s due to resource occupation\n",
      "Adversary: Restarting with SCAN_HOST at 706.7s!\n",
      "Adversary: Start SCAN_HOST at 706.7s.\n",
      "MTD: PortShuffle finished in 35.1s at 709.9s.\n",
      "Adversary: Processed SCAN_HOST at 716.7s.\n",
      "Adversary: Start ENUM_HOST at 716.7s.\n",
      "Adversary: Processed ENUM_HOST at 731.7s.\n",
      "Adversary: Start SCAN_PORT at 731.7s.\n",
      "MTD: PortShuffle triggered 735.3s\n",
      "MTD: PortShuffle deployed in the network at 735.3s.\n",
      "Adversary: Processed SCAN_PORT at 751.7s.\n",
      "Adversary: Start EXPLOIT_VULN at 751.7s.\n",
      "MTD: PortShuffle triggered 765.8s\n",
      "MTD: PortShuffle suspended at 765.8s due to resource occupation\n",
      "MTD: PortShuffle finished in 35.2s at 770.5s.\n",
      "MTD: Interrupted EXPLOIT_VULN at 770.5s!\n",
      "Adversary: Restarting with SCAN_PORT at 772.5s!\n",
      "Adversary: Start SCAN_PORT at 772.5s.\n",
      "Adversary: Processed SCAN_PORT at 792.5s.\n",
      "Adversary: Start EXPLOIT_VULN at 792.5s.\n",
      "MTD: PortShuffle triggered 796.0s\n",
      "MTD: PortShuffle deployed in the network at 796.0s.\n",
      "Adversary: Processed EXPLOIT_VULN at 817.5s.\n",
      "Adversary: Host 52 has been compromised at 817.5s!\n",
      "Adversary: Start SCAN_NEIGHBOR at 817.5s.\n",
      "MTD: HostTopologyShuffle triggered 826.1s\n",
      "MTD: HostTopologyShuffle deployed in the network at 826.1s.\n",
      "Adversary: Processed SCAN_NEIGHBOR at 827.5s.\n",
      "Adversary: Start ENUM_HOST at 827.5s.\n",
      "MTD: PortShuffle finished in 35.3s at 831.3s.\n",
      "Adversary: Processed ENUM_HOST at 842.5s.\n",
      "Adversary: Start ENUM_HOST at 842.5s.\n",
      "MTD: HostTopologyShuffle triggered 857.4s\n",
      "MTD: HostTopologyShuffle suspended at 857.4s due to resource occupation\n",
      "Adversary: Processed ENUM_HOST at 857.5s.\n",
      "Adversary: Start ENUM_HOST at 857.5s.\n",
      "Adversary: Processed ENUM_HOST at 872.5s.\n",
      "Adversary: Start SCAN_PORT at 872.5s.\n",
      "MTD: HostTopologyShuffle finished in 60.0s at 886.1s.\n",
      "MTD: Interrupted SCAN_PORT at 886.1s!\n",
      "Adversary: Restarting with SCAN_HOST at 888.1s!\n",
      "Adversary: Start SCAN_HOST at 888.1s.\n",
      "MTD: HostTopologyShuffle triggered 888.2s\n",
      "MTD: HostTopologyShuffle deployed in the network at 888.2s.\n",
      "Adversary: Processed SCAN_HOST at 898.1s.\n",
      "Adversary: Start ENUM_HOST at 898.1s.\n",
      "Adversary: Processed ENUM_HOST at 913.1s.\n",
      "Adversary: Start SCAN_PORT at 913.1s.\n",
      "MTD: HostTopologyShuffle triggered 918.3s\n",
      "MTD: HostTopologyShuffle suspended at 918.3s due to resource occupation\n",
      "Adversary: Processed SCAN_PORT at 933.1s.\n",
      "Adversary: Start EXPLOIT_VULN at 933.1s.\n",
      "MTD: HostTopologyShuffle finished in 60.0s at 948.2s.\n",
      "MTD: Interrupted EXPLOIT_VULN at 948.2s!\n",
      "MTD: HostTopologyShuffle triggered 949.3s\n",
      "MTD: HostTopologyShuffle deployed in the network at 949.3s.\n",
      "Adversary: Restarting with SCAN_HOST at 950.2s!\n",
      "Adversary: Start SCAN_HOST at 950.2s.\n",
      "Adversary: Processed SCAN_HOST at 960.2s.\n",
      "Adversary: Start ENUM_HOST at 960.2s.\n",
      "Adversary: Processed ENUM_HOST at 975.2s.\n",
      "Adversary: Start SCAN_PORT at 975.2s.\n",
      "MTD: osdiversity triggered 980.5s\n",
      "MTD: osdiversity deployed in the network at 980.5s.\n",
      "Adversary: Processed SCAN_PORT at 995.2s.\n",
      "Adversary: Start EXPLOIT_VULN at 995.2s.\n"
     ]
    }
   ],
   "source": [
    "# set up dataframe for collecting event data\n",
    "\"\"\"\n",
    "    start_time: the start time of the simulation (can only be used when you have saved state at that given timestamp)\n",
    "    finish_time: the total simulation time\n",
    "    mtd_type: 'shuffle_diversity', 'shuffle', diversity\n",
    "    checkpoints: a list of simulation timestamp for state saving e.g. [1000, 5000, 7000]\n",
    "\"\"\"\n",
    "SIM_TIME = 1000\n",
    "mtd_type = 'shuffle_diversity'\n",
    "time_network, adversary = main(finish_time=SIM_TIME, mtd_type=mtd_type)"
   ]
  },
  {
   "cell_type": "code",
   "execution_count": 23,
   "outputs": [],
   "source": [
    "mtd_operation_record = pd.DataFrame(time_network.get_mtd_stats().get_record())\n",
    "attack_operation_record = pd.DataFrame(adversary.get_attack_stats().get_record())\n",
    "current_directory = os.getcwd()\n",
    "if not os.path.exists(current_directory+'\\\\data_analysis'):\n",
    "    os.makedirs(current_directory+'\\\\data_analysis')\n",
    "\n",
    "attack_operation_record.to_csv('data_analysis/attack_operation_record_'+str(SIM_TIME)+'_'+mtd_type+'.csv',index=False)\n",
    "mtd_operation_record.to_csv('data_analysis/mtd_operation_record_'+str(SIM_TIME)+'_'+mtd_type+'.csv', index=False)"
   ],
   "metadata": {
    "collapsed": false,
    "pycharm": {
     "name": "#%%\n"
    }
   }
  },
  {
   "cell_type": "code",
   "execution_count": 24,
   "metadata": {
    "collapsed": false,
    "pycharm": {
     "name": "#%%\n"
    }
   },
   "outputs": [
    {
     "data": {
      "text/plain": "                  name  start_time  finish_time   duration  executed_at\n0            IPShuffle    0.000000    50.360911  50.360911      network\n1            IPShuffle   61.827047   111.978712  50.151664      network\n2          osdiversity   92.240900   122.508460  30.267561  application\n3  HostTopologyShuffle  123.221201   184.172693  60.951493      network\n4            IPShuffle  216.144170   266.556902  50.412732      network",
      "text/html": "<div>\n<style scoped>\n    .dataframe tbody tr th:only-of-type {\n        vertical-align: middle;\n    }\n\n    .dataframe tbody tr th {\n        vertical-align: top;\n    }\n\n    .dataframe thead th {\n        text-align: right;\n    }\n</style>\n<table border=\"1\" class=\"dataframe\">\n  <thead>\n    <tr style=\"text-align: right;\">\n      <th></th>\n      <th>name</th>\n      <th>start_time</th>\n      <th>finish_time</th>\n      <th>duration</th>\n      <th>executed_at</th>\n    </tr>\n  </thead>\n  <tbody>\n    <tr>\n      <th>0</th>\n      <td>IPShuffle</td>\n      <td>0.000000</td>\n      <td>50.360911</td>\n      <td>50.360911</td>\n      <td>network</td>\n    </tr>\n    <tr>\n      <th>1</th>\n      <td>IPShuffle</td>\n      <td>61.827047</td>\n      <td>111.978712</td>\n      <td>50.151664</td>\n      <td>network</td>\n    </tr>\n    <tr>\n      <th>2</th>\n      <td>osdiversity</td>\n      <td>92.240900</td>\n      <td>122.508460</td>\n      <td>30.267561</td>\n      <td>application</td>\n    </tr>\n    <tr>\n      <th>3</th>\n      <td>HostTopologyShuffle</td>\n      <td>123.221201</td>\n      <td>184.172693</td>\n      <td>60.951493</td>\n      <td>network</td>\n    </tr>\n    <tr>\n      <th>4</th>\n      <td>IPShuffle</td>\n      <td>216.144170</td>\n      <td>266.556902</td>\n      <td>50.412732</td>\n      <td>network</td>\n    </tr>\n  </tbody>\n</table>\n</div>"
     },
     "execution_count": 24,
     "metadata": {},
     "output_type": "execute_result"
    }
   ],
   "source": [
    "# print(time_network.get_mtd_stats().dict())\n",
    "mtd_operation_record.head()"
   ]
  },
  {
   "cell_type": "code",
   "execution_count": 25,
   "metadata": {
    "collapsed": false,
    "pycharm": {
     "name": "#%%\n"
    }
   },
   "outputs": [
    {
     "data": {
      "text/plain": "<Figure size 1152x432 with 1 Axes>",
      "image/png": "[encoded data removed]"
     },
     "metadata": {
      "needs_background": "light"
     },
     "output_type": "display_data"
    }
   ],
   "source": [
    "mtd_operation_record['color'] = np.where(mtd_operation_record['executed_at']=='network', 'green', 'orange')\n",
    "fig, ax = plt.subplots(1, figsize=(16, 6))\n",
    "ax.barh(mtd_operation_record['name'], mtd_operation_record['duration'], left=mtd_operation_record['start_time'], height=0.1, color=mtd_operation_record['color'])\n",
    "\n",
    "\n",
    "custom_lines_mtd = [Line2D([0], [0], color='green', lw=4),\n",
    "                Line2D([0], [0], color='orange', lw=4)]\n",
    "ax.legend(custom_lines_mtd, ['network layer', 'application layer'], loc='upper right')\n",
    "plt.xlabel('Time',  weight='bold', fontsize=18)\n",
    "plt.ylabel('MTD Techniques', weight='bold', fontsize=18)\n",
    "fig.tight_layout()\n",
    "plt.savefig('data_analysis/mtd_record.png')\n",
    "plt.show()"
   ]
  },
  {
   "cell_type": "code",
   "execution_count": 26,
   "metadata": {
    "collapsed": false,
    "pycharm": {
     "name": "#%%\n"
    }
   },
   "outputs": [
    {
     "data": {
      "text/plain": "           name  start_time  finish_time   duration  current_host  \\\n0     SCAN_HOST    0.000000    10.000000  10.000000            -1   \n1     ENUM_HOST   10.000000    25.000000  15.000000            -1   \n2     SCAN_PORT   25.000000    45.000000  20.000000             0   \n3  EXPLOIT_VULN   45.000000    50.360911   5.360911             0   \n4     SCAN_HOST   52.360911    62.360911  10.000000            -1   \n\n   current_host_attempt  cumulative_attempts  cumulative_compromised_hosts  \\\n0                     0                    0                             0   \n1                     0                    0                             0   \n2                     1                    0                             0   \n3                     1                    0                             0   \n4                     0                    0                             0   \n\n  compromise_host compromise_users interrupted_in interrupted_by  \n0            None               []           None           None  \n1            None               []           None           None  \n2            None               []           None           None  \n3            None               []        network      IPShuffle  \n4            None               []           None           None  ",
      "text/html": "<div>\n<style scoped>\n    .dataframe tbody tr th:only-of-type {\n        vertical-align: middle;\n    }\n\n    .dataframe tbody tr th {\n        vertical-align: top;\n    }\n\n    .dataframe thead th {\n        text-align: right;\n    }\n</style>\n<table border=\"1\" class=\"dataframe\">\n  <thead>\n    <tr style=\"text-align: right;\">\n      <th></th>\n      <th>name</th>\n      <th>start_time</th>\n      <th>finish_time</th>\n      <th>duration</th>\n      <th>current_host</th>\n      <th>current_host_attempt</th>\n      <th>cumulative_attempts</th>\n      <th>cumulative_compromised_hosts</th>\n      <th>compromise_host</th>\n      <th>compromise_users</th>\n      <th>interrupted_in</th>\n      <th>interrupted_by</th>\n    </tr>\n  </thead>\n  <tbody>\n    <tr>\n      <th>0</th>\n      <td>SCAN_HOST</td>\n      <td>0.000000</td>\n      <td>10.000000</td>\n      <td>10.000000</td>\n      <td>-1</td>\n      <td>0</td>\n      <td>0</td>\n      <td>0</td>\n      <td>None</td>\n      <td>[]</td>\n      <td>None</td>\n      <td>None</td>\n    </tr>\n    <tr>\n      <th>1</th>\n      <td>ENUM_HOST</td>\n      <td>10.000000</td>\n      <td>25.000000</td>\n      <td>15.000000</td>\n      <td>-1</td>\n      <td>0</td>\n      <td>0</td>\n      <td>0</td>\n      <td>None</td>\n      <td>[]</td>\n      <td>None</td>\n      <td>None</td>\n    </tr>\n    <tr>\n      <th>2</th>\n      <td>SCAN_PORT</td>\n      <td>25.000000</td>\n      <td>45.000000</td>\n      <td>20.000000</td>\n      <td>0</td>\n      <td>1</td>\n      <td>0</td>\n      <td>0</td>\n      <td>None</td>\n      <td>[]</td>\n      <td>None</td>\n      <td>None</td>\n    </tr>\n    <tr>\n      <th>3</th>\n      <td>EXPLOIT_VULN</td>\n      <td>45.000000</td>\n      <td>50.360911</td>\n      <td>5.360911</td>\n      <td>0</td>\n      <td>1</td>\n      <td>0</td>\n      <td>0</td>\n      <td>None</td>\n      <td>[]</td>\n      <td>network</td>\n      <td>IPShuffle</td>\n    </tr>\n    <tr>\n      <th>4</th>\n      <td>SCAN_HOST</td>\n      <td>52.360911</td>\n      <td>62.360911</td>\n      <td>10.000000</td>\n      <td>-1</td>\n      <td>0</td>\n      <td>0</td>\n      <td>0</td>\n      <td>None</td>\n      <td>[]</td>\n      <td>None</td>\n      <td>None</td>\n    </tr>\n  </tbody>\n</table>\n</div>"
     },
     "execution_count": 26,
     "metadata": {},
     "output_type": "execute_result"
    }
   ],
   "source": [
    "attack_operation_record.head()"
   ]
  },
  {
   "cell_type": "code",
   "execution_count": 27,
   "metadata": {
    "collapsed": false,
    "pycharm": {
     "name": "#%%\n"
    }
   },
   "outputs": [
    {
     "data": {
      "text/plain": "<Figure size 1152x360 with 1 Axes>",
      "image/png": "[encoded data removed]"
     },
     "metadata": {
      "needs_background": "light"
     },
     "output_type": "display_data"
    }
   ],
   "source": [
    "fig2, ax2 = plt.subplots(1, figsize=(16, 5))\n",
    "ax2.barh(attack_operation_record['name'], attack_operation_record['duration'], left=attack_operation_record['start_time'], height=0.1, zorder=1)\n",
    "\n",
    "\n",
    "interrupted_record = attack_operation_record[attack_operation_record['interrupted_in']!='None']\n",
    "interrupted_record['color'] = np.where(interrupted_record['interrupted_in']=='network', 'green', 'orange')\n",
    "ax2.scatter(interrupted_record['finish_time'], interrupted_record['name'], color=interrupted_record['color'], zorder=2)\n",
    "\n",
    "\n",
    "compromise_record = attack_operation_record[attack_operation_record['compromise_host'] != 'None']\n",
    "ax2.scatter(compromise_record['finish_time'], compromise_record['name'], color='red', zorder=2)\n",
    "\n",
    "\n",
    "custom_lines_attack = [Line2D([0], [0], marker='o',color='w', markerfacecolor='green', markersize=10),\n",
    "                Line2D([0], [0], marker='o',color='w', markerfacecolor='orange', markersize=10),\n",
    "                Line2D([0], [0], marker='o',color='w', markerfacecolor='red', markersize=10),]\n",
    "\n",
    "ax2.legend(custom_lines_attack, ['network layer MTD', 'application layer MTD', 'compromise host'], loc='upper right')\n",
    "\n",
    "plt.gca().invert_yaxis()\n",
    "plt.xlabel('Time',  weight='bold', fontsize=18)\n",
    "plt.ylabel('Attack Progress', weight='bold', fontsize=18)\n",
    "fig2.tight_layout()\n",
    "plt.savefig('data_analysis/attack_record.png')\n",
    "plt.show()"
   ]
  },
  {
   "cell_type": "code",
   "execution_count": 28,
   "metadata": {
    "collapsed": false,
    "pycharm": {
     "name": "#%%\n"
    }
   },
   "outputs": [
    {
     "data": {
      "text/plain": "Empty DataFrame\nColumns: [name, start_time, finish_time, duration, current_host, current_host_attempt, cumulative_attempts, cumulative_compromised_hosts, compromise_host, compromise_users, interrupted_in, interrupted_by]\nIndex: []",
      "text/html": "<div>\n<style scoped>\n    .dataframe tbody tr th:only-of-type {\n        vertical-align: middle;\n    }\n\n    .dataframe tbody tr th {\n        vertical-align: top;\n    }\n\n    .dataframe thead th {\n        text-align: right;\n    }\n</style>\n<table border=\"1\" class=\"dataframe\">\n  <thead>\n    <tr style=\"text-align: right;\">\n      <th></th>\n      <th>name</th>\n      <th>start_time</th>\n      <th>finish_time</th>\n      <th>duration</th>\n      <th>current_host</th>\n      <th>current_host_attempt</th>\n      <th>cumulative_attempts</th>\n      <th>cumulative_compromised_hosts</th>\n      <th>compromise_host</th>\n      <th>compromise_users</th>\n      <th>interrupted_in</th>\n      <th>interrupted_by</th>\n    </tr>\n  </thead>\n  <tbody>\n  </tbody>\n</table>\n</div>"
     },
     "execution_count": 28,
     "metadata": {},
     "output_type": "execute_result"
    }
   ],
   "source": [
    "attack_operation_record[(attack_operation_record['name'] == 'SCAN_PORT') & (attack_operation_record['compromise_host'] != 'None')]"
   ]
  },
  {
   "cell_type": "code",
   "execution_count": 29,
   "metadata": {
    "collapsed": false,
    "pycharm": {
     "name": "#%%\n"
    }
   },
   "outputs": [
    {
     "data": {
      "text/plain": "            name  start_time  finish_time   duration  current_host  \\\n16  EXPLOIT_VULN  231.172693   256.439801  25.267107             0   \n33  EXPLOIT_VULN  485.536267   514.021804  28.485537            52   \n37  EXPLOIT_VULN  559.021804   584.087074  25.065269            53   \n50  EXPLOIT_VULN  792.456606   817.538899  25.082293            52   \n\n    current_host_attempt  cumulative_attempts  cumulative_compromised_hosts  \\\n16                     4                    5                             0   \n33                     3                   52                             1   \n37                     1                   85                             2   \n50                     5                  111                             3   \n\n   compromise_host                             compromise_users  \\\n16               0  [Cherrita, Moyna, Wallis, Filippa, Germana]   \n33              52          [Horatia, Gwenora, Jenilee, Cristy]   \n37              53  [Lilah, Katrina, Georgeanne, Julita, Adria]   \n50              52  [Berenice, Libbey, Reggi, Zorana, Maribeth]   \n\n   interrupted_in interrupted_by  \n16           None           None  \n33           None           None  \n37           None           None  \n50           None           None  ",
      "text/html": "<div>\n<style scoped>\n    .dataframe tbody tr th:only-of-type {\n        vertical-align: middle;\n    }\n\n    .dataframe tbody tr th {\n        vertical-align: top;\n    }\n\n    .dataframe thead th {\n        text-align: right;\n    }\n</style>\n<table border=\"1\" class=\"dataframe\">\n  <thead>\n    <tr style=\"text-align: right;\">\n      <th></th>\n      <th>name</th>\n      <th>start_time</th>\n      <th>finish_time</th>\n      <th>duration</th>\n      <th>current_host</th>\n      <th>current_host_attempt</th>\n      <th>cumulative_attempts</th>\n      <th>cumulative_compromised_hosts</th>\n      <th>compromise_host</th>\n      <th>compromise_users</th>\n      <th>interrupted_in</th>\n      <th>interrupted_by</th>\n    </tr>\n  </thead>\n  <tbody>\n    <tr>\n      <th>16</th>\n      <td>EXPLOIT_VULN</td>\n      <td>231.172693</td>\n      <td>256.439801</td>\n      <td>25.267107</td>\n      <td>0</td>\n      <td>4</td>\n      <td>5</td>\n      <td>0</td>\n      <td>0</td>\n      <td>[Cherrita, Moyna, Wallis, Filippa, Germana]</td>\n      <td>None</td>\n      <td>None</td>\n    </tr>\n    <tr>\n      <th>33</th>\n      <td>EXPLOIT_VULN</td>\n      <td>485.536267</td>\n      <td>514.021804</td>\n      <td>28.485537</td>\n      <td>52</td>\n      <td>3</td>\n      <td>52</td>\n      <td>1</td>\n      <td>52</td>\n      <td>[Horatia, Gwenora, Jenilee, Cristy]</td>\n      <td>None</td>\n      <td>None</td>\n    </tr>\n    <tr>\n      <th>37</th>\n      <td>EXPLOIT_VULN</td>\n      <td>559.021804</td>\n      <td>584.087074</td>\n      <td>25.065269</td>\n      <td>53</td>\n      <td>1</td>\n      <td>85</td>\n      <td>2</td>\n      <td>53</td>\n      <td>[Lilah, Katrina, Georgeanne, Julita, Adria]</td>\n      <td>None</td>\n      <td>None</td>\n    </tr>\n    <tr>\n      <th>50</th>\n      <td>EXPLOIT_VULN</td>\n      <td>792.456606</td>\n      <td>817.538899</td>\n      <td>25.082293</td>\n      <td>52</td>\n      <td>5</td>\n      <td>111</td>\n      <td>3</td>\n      <td>52</td>\n      <td>[Berenice, Libbey, Reggi, Zorana, Maribeth]</td>\n      <td>None</td>\n      <td>None</td>\n    </tr>\n  </tbody>\n</table>\n</div>"
     },
     "execution_count": 29,
     "metadata": {},
     "output_type": "execute_result"
    }
   ],
   "source": [
    "attack_operation_record[(attack_operation_record['name'] == 'EXPLOIT_VULN') & (attack_operation_record['compromise_host'] != 'None')]"
   ]
  },
  {
   "cell_type": "code",
   "execution_count": 30,
   "metadata": {
    "collapsed": false,
    "pycharm": {
     "name": "#%%\n"
    }
   },
   "outputs": [
    {
     "data": {
      "text/plain": "Empty DataFrame\nColumns: [name, start_time, finish_time, duration, current_host, current_host_attempt, cumulative_attempts, cumulative_compromised_hosts, compromise_host, compromise_users, interrupted_in, interrupted_by]\nIndex: []",
      "text/html": "<div>\n<style scoped>\n    .dataframe tbody tr th:only-of-type {\n        vertical-align: middle;\n    }\n\n    .dataframe tbody tr th {\n        vertical-align: top;\n    }\n\n    .dataframe thead th {\n        text-align: right;\n    }\n</style>\n<table border=\"1\" class=\"dataframe\">\n  <thead>\n    <tr style=\"text-align: right;\">\n      <th></th>\n      <th>name</th>\n      <th>start_time</th>\n      <th>finish_time</th>\n      <th>duration</th>\n      <th>current_host</th>\n      <th>current_host_attempt</th>\n      <th>cumulative_attempts</th>\n      <th>cumulative_compromised_hosts</th>\n      <th>compromise_host</th>\n      <th>compromise_users</th>\n      <th>interrupted_in</th>\n      <th>interrupted_by</th>\n    </tr>\n  </thead>\n  <tbody>\n  </tbody>\n</table>\n</div>"
     },
     "execution_count": 30,
     "metadata": {},
     "output_type": "execute_result"
    }
   ],
   "source": [
    "attack_operation_record[(attack_operation_record['name'] == 'BRUTE_FORCE') & (attack_operation_record['compromise_host'] != 'None')]"
   ]
  },
  {
   "cell_type": "code",
   "execution_count": 30,
   "outputs": [],
   "source": [],
   "metadata": {
    "collapsed": false,
    "pycharm": {
     "name": "#%%\n"
    }
   }
  }
 ],
 "metadata": {
  "kernelspec": {
   "display_name": "Python 3.9.13 ('mtdsimtime')",
   "language": "python",
   "name": "python3"
  },
  "language_info": {
   "codemirror_mode": {
    "name": "ipython",
    "version": 3
   },
   "file_extension": ".py",
   "mimetype": "text/x-python",
   "name": "python",
   "nbconvert_exporter": "python",
   "pygments_lexer": "ipython3",
   "version": "3.9.13"
  },
  "orig_nbformat": 4,
  "vscode": {
   "interpreter": {
    "hash": "9b477274c87fb63319f36b484dd34a6881cb387ce1b14309c24558f54c8e02ea"
   }
  }
 },
 "nbformat": 4,
 "nbformat_minor": 2
}