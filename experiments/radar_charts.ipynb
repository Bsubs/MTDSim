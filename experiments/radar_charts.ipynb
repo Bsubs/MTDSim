{
 "cells": [
  {
   "cell_type": "code",
   "execution_count": 1,
   "metadata": {},
   "outputs": [],
   "source": [
    "import os\n",
    "import sys\n",
    "current_directory = os.getcwd()\n",
    "if not os.path.exists(current_directory + '\\\\experimental_data'):\n",
    "    os.makedirs(current_directory + '\\\\experimental_data')\n",
    "    os.makedirs(current_directory + '\\\\experimental_data\\\\plots')\n",
    "    os.makedirs(current_directory + '\\\\experimental_data\\\\results')\n",
    "sys.path.append(current_directory.replace('experiments', ''))\n",
    "import warnings\n",
    "import matplotlib.pyplot as plt\n",
    "warnings.filterwarnings(\"ignore\")\n",
    "plt.set_loglevel('WARNING')\n",
    "from run import execute_simulation, create_experiment_snapshots, execute_ai_model, single_mtd_simulation, mtd_ai_simulation, multiple_mtd_simulation, specific_multiple_mtd_simulation\n",
    "from mtdnetwork.mtd.completetopologyshuffle import CompleteTopologyShuffle\n",
    "from mtdnetwork.mtd.ipshuffle import IPShuffle\n",
    "from mtdnetwork.mtd.hosttopologyshuffle import HostTopologyShuffle\n",
    "from mtdnetwork.mtd.portshuffle import PortShuffle\n",
    "from mtdnetwork.mtd.osdiversity import OSDiversity\n",
    "from mtdnetwork.mtd.servicediversity import ServiceDiversity\n",
    "from mtdnetwork.mtd.usershuffle import UserShuffle\n",
    "from mtdnetwork.mtd.osdiversityassignment import OSDiversityAssignment\n",
    "import logging\n",
    "import pandas as pd\n",
    "import numpy as np\n",
    "from math import pi\n",
    "\n",
    "\n",
    "logging.basicConfig(format='%(message)s', level=logging.INFO)"
   ]
  },
  {
   "cell_type": "code",
   "execution_count": 2,
   "metadata": {},
   "outputs": [],
   "source": [
    "create_experiment_snapshots([25, 50, 75, 100])"
   ]
  },
  {
   "cell_type": "code",
   "execution_count": 3,
   "metadata": {},
   "outputs": [],
   "source": [
    "# Learning Parameters\n",
    "epsilon = 1.0  # exploration rate\n",
    "\n",
    "# Simulator Settings\n",
    "start_time = 0\n",
    "finish_time = 5000\n",
    "mtd_interval = [100]\n",
    "network_size = [25]\n",
    "total_nodes = 300\n",
    "new_network = True\n",
    "model = \"main_network_all_features\"\n",
    "trial = 5\n",
    "\n",
    "mtd_strategies = [\n",
    "    CompleteTopologyShuffle,\n",
    "    # HostTopologyShuffle,\n",
    "    IPShuffle,\n",
    "    OSDiversity,\n",
    "    # PortShuffle,\n",
    "    # OSDiversityAssignment,\n",
    "    ServiceDiversity,\n",
    "    # UserShuffle\n",
    "]\n",
    "\n"
   ]
  },
  {
   "cell_type": "code",
   "execution_count": 4,
   "metadata": {},
   "outputs": [],
   "source": [
    "import numpy as np\n",
    "import pandas as pd\n",
    "import matplotlib.pyplot as plt\n",
    "\n",
    "class RadarPlot:\n",
    "    def __init__(self, epsilon, start_time, finish_time, mtd_interval, network_size,total_nodes, new_network,  model, trial):\n",
    "        # Learning Parameters\n",
    "        self.epsilon = epsilon  # exploration rate\n",
    "\n",
    "        # Simulator Settings\n",
    "        self.start_time = start_time\n",
    "        self.finish_time = finish_time\n",
    "        self.schemes = [ 'mtd_ai', 'simultaneous', 'random', 'alternative']\n",
    "        self.total_nodes = total_nodes\n",
    "        self.new_network = new_network\n",
    "        self.model = model\n",
    "        self.trial = trial\n",
    "        \n",
    "        self.mtd_strategies = [\n",
    "            CompleteTopologyShuffle,\n",
    "            # HostTopologyShuffle,\n",
    "            IPShuffle,\n",
    "            OSDiversity,\n",
    "            # PortShuffle,\n",
    "            # OSDiversityAssignment,\n",
    "            ServiceDiversity,\n",
    "            # UserShuffle\n",
    "        ]\n",
    "        self.mtd_interval = mtd_interval\n",
    "        self.network_size = network_size\n",
    "        self.normalization_values = self.get_scheme_values('nomtd')\n",
    "\n",
    "\n",
    "\n",
    "\n",
    "    def get_scheme_values(self, scheme):\n",
    "        # Simulate and stack nomtd DataFrames\n",
    "        dfs = []\n",
    "        for _ in range(self.trial):\n",
    "            if scheme == 'nomtd':\n",
    "                mtd = pd.DataFrame(single_mtd_simulation(\"no_mtd\", [None], checkpoint=list(np.arange(0.01, 1.01, 0.01)), mtd_interval=self.mtd_interval,network_size=self.network_size)).drop('Name', axis=1)\n",
    "            elif scheme == 'mtd_ai':\n",
    "                try:\n",
    "                    mtd = pd.DataFrame(mtd_ai_simulation('mtd_ai', model, start_time, finish_time, total_nodes, new_network = new_network, mtd_interval=self.mtd_interval,network_size=self.network_size )).drop('Name', axis=1)\n",
    "\n",
    "                except:\n",
    "                    continue\n",
    "                \n",
    "            else:\n",
    "                mtd = pd.DataFrame(specific_multiple_mtd_simulation(scheme, self.mtd_strategies, scheme, mtd_interval=self.mtd_interval,network_size=self.network_size)).drop('Name', axis=1)\n",
    "                \n",
    "            dfs.append(mtd)\n",
    "            \n",
    "        stacked_nomtd = pd.concat(dfs, ignore_index=True)\n",
    "        # Calculate median for normalization\n",
    "        median_df = stacked_nomtd.groupby(['mtd_interval', 'network_size']).median().loc[self.mtd_interval[0],self.network_size[0]].to_dict()\n",
    "        if scheme != 'nomtd':\n",
    "            std_df = stacked_nomtd.groupby(['mtd_interval', 'network_size']).std().loc[self.mtd_interval[0],self.network_size[0]].to_dict()\n",
    "            return median_df, std_df\n",
    "        \n",
    "        \n",
    "        return median_df\n",
    "\n",
    "    def scale_metrics(self, metrics_dict, normalization_dict):\n",
    "        # Define which metrics should be maximized and which should be minimized\n",
    "        metrics_to_maximize = {\"MEF\"}  \n",
    "        metrics_to_minimize = {'host_compromise_ratio', 'time_to_compromise', 'attack_path_exposure', 'ASR', 'ROA', 'exposed_endpoints', \"risk\"}  \n",
    "\n",
    "        scaled_metrics = {}\n",
    "\n",
    "        for key, value in metrics_dict.items():\n",
    "            if key in normalization_dict:\n",
    "                norm_value = normalization_dict[key]\n",
    "\n",
    "                if norm_value != 0:\n",
    "                    if key in metrics_to_maximize:\n",
    "                        # Normalize by dividing the metric value by the normalization value\n",
    "                        scaled_metrics[key] = value / norm_value\n",
    "                    elif key in metrics_to_minimize:\n",
    "                        # Inverse the ratio for metrics to be minimized\n",
    "                        scaled_metrics[key] = 1 / (value / norm_value)\n",
    "                    else:\n",
    "                        # Handle cases where the metric is not in either category\n",
    "                        scaled_metrics[key] = value / norm_value\n",
    "                else:\n",
    "                    # Handle the case where norm_value is zero\n",
    "                    scaled_metrics[key] = 1  # Or any other placeholder value as needed\n",
    "            else:\n",
    "                # Handle cases where normalization value is not defined\n",
    "                scaled_metrics[key] = value  # Or handle differently as needed\n",
    "        return scaled_metrics\n",
    "\n",
    "\n",
    "    def plot_single_radar(self, metrics_values, scheme, std_dev_values=None, save_path = None):\n",
    "        labels = list(metrics_values.keys())\n",
    "        values = list(metrics_values.values())\n",
    "        num_vars = len(labels)\n",
    "\n",
    "        # Compute angle for each axis\n",
    "        angles = np.linspace(0, 2 * np.pi, num_vars, endpoint=False).tolist()\n",
    "        angles += angles[:1]  # Complete the circle\n",
    "        values += values[:1]\n",
    "        if std_dev_values:\n",
    "            std_dev_values = list(std_dev_values.values())  # Assuming std_dev_values is also a dictionary\n",
    "            std_dev_values += std_dev_values[:1]\n",
    "        labels += labels[:1]  # Close the circle by repeating the first label\n",
    "\n",
    "        # Create radar plot\n",
    "        fig, ax = plt.subplots(figsize=(8, 8), subplot_kw=dict(polar=True))\n",
    "\n",
    "        # Plot data\n",
    "        ax.fill(angles, values, color='blue', alpha=0.25)\n",
    "        ax.plot(angles, values, color='blue', linewidth=2, label=scheme)\n",
    "\n",
    "        # Add error bars if provided\n",
    "        if std_dev_values:\n",
    "            for i in range(num_vars):\n",
    "                angle = angles[i]\n",
    "                value = values[i]\n",
    "                error = std_dev_values[i]\n",
    "                ax.errorbar(angle, value, yerr=error, fmt='o', color='blue', capsize=5, elinewidth=2)\n",
    "\n",
    "        # Add score labels\n",
    "        for i in range(num_vars):\n",
    "            angle = angles[i]\n",
    "            value = values[i]\n",
    "            ax.text(angle, value + 0.05, f'{value:.2f}', horizontalalignment='center', size=10, color='black')\n",
    "\n",
    "        # Labels\n",
    "        ax.set_yticklabels([])\n",
    "        ax.set_xticks(angles[:-1])  # Set ticks without the last angle\n",
    "        ax.set_xticklabels(labels[:-1], rotation=45, ha='right')\n",
    "\n",
    "        plt.legend(loc='upper right', bbox_to_anchor=(1.1, 1.1))\n",
    "\n",
    "        # Save the figure if a save path is provided\n",
    "        if save_path:\n",
    "            plt.savefig(save_path, dpi=300, bbox_inches='tight')\n",
    "            \n",
    "        plt.show()\n",
    "\n",
    "\n"
   ]
  },
  {
   "cell_type": "code",
   "execution_count": 5,
   "metadata": {},
   "outputs": [
    {
     "name": "stdout",
     "output_type": "stream",
     "text": [
      "NoMTD\n",
      "NoMTD\n",
      "NoMTD\n",
      "NoMTD\n",
      "NoMTD\n"
     ]
    }
   ],
   "source": [
    "radar = RadarPlot(epsilon, start_time, finish_time, mtd_interval, network_size,total_nodes, new_network,  model, trial)"
   ]
  },
  {
   "cell_type": "code",
   "execution_count": 6,
   "metadata": {},
   "outputs": [
    {
     "data": {
      "text/plain": [
       "{'MEF': 0.0,\n",
       " 'ASR': 0.75,\n",
       " 'time_to_compromise': 2210.75481262489,\n",
       " 'host_compromise_ratio': 0.405,\n",
       " 'exposed_endpoints': 5.0,\n",
       " 'attack_path_exposure': 1.0,\n",
       " 'ROA': 0.4025983107113914,\n",
       " 'risk': 1.662580779243447,\n",
       " 'shortest_path_variability': 0.0}"
      ]
     },
     "execution_count": 6,
     "metadata": {},
     "output_type": "execute_result"
    }
   ],
   "source": [
    "radar.normalization_values"
   ]
  },
  {
   "cell_type": "code",
   "execution_count": 7,
   "metadata": {},
   "outputs": [
    {
     "name": "stderr",
     "output_type": "stream",
     "text": [
      "2024-08-29 07:43:52.745251: I metal_plugin/src/device/metal_device.cc:1154] Metal device set to: Apple M2 Pro\n",
      "2024-08-29 07:43:52.745274: I metal_plugin/src/device/metal_device.cc:296] systemMemory: 16.00 GB\n",
      "2024-08-29 07:43:52.745286: I metal_plugin/src/device/metal_device.cc:313] maxCacheSize: 5.33 GB\n",
      "2024-08-29 07:43:52.745322: I tensorflow/core/common_runtime/pluggable_device/pluggable_device_factory.cc:306] Could not identify NUMA node of platform GPU ID 0, defaulting to 0. Your kernel may not have been built with NUMA support.\n",
      "2024-08-29 07:43:52.745340: I tensorflow/core/common_runtime/pluggable_device/pluggable_device_factory.cc:272] Created TensorFlow device (/job:localhost/replica:0/task:0/device:GPU:0 with 0 MB memory) -> physical PluggableDevice (device: 0, name: METAL, pci bus id: <undefined>)\n",
      "Compiled the loaded model, but the compiled metrics have yet to be built. `model.compile_metrics` will be empty until you train or evaluate the model.\n"
     ]
    },
    {
     "name": "stdout",
     "output_type": "stream",
     "text": [
      "On Mac\n"
     ]
    }
   ],
   "source": [
    "\n",
    "labels = ['MEF', 'ASR', 'time_to_compromise', 'host_compromise_ratio', 'exposed_endpoints', 'attack_path_exposure', 'ROA', 'risk', 'shortest_path_variability']\n",
    "results = {}\n",
    "actual_results = {}\n",
    "for scheme in radar.schemes:\n",
    "    scheme_median, scheme_std = radar.get_scheme_values(scheme)\n",
    "    scaled_metrics = radar.scale_metrics(scheme_median,radar.normalization_values)\n",
    "    results[scheme] = [scaled_metrics, scheme_std]\n",
    "    actual_results[scheme] = [scheme_median, scheme_std]\n"
   ]
  },
  {
   "cell_type": "code",
   "execution_count": null,
   "metadata": {},
   "outputs": [],
   "source": [
    "print(\"Raw values over\", trial)\n",
    "for scheme, data in results.items():\n",
    "    print(scheme, actual_results[scheme])\n",
    "print(\"nomtd\", radar.normalization_values)"
   ]
  },
  {
   "cell_type": "code",
   "execution_count": null,
   "metadata": {},
   "outputs": [],
   "source": [
    "for scheme, data in results.items():\n",
    "    radar.plot_single_radar(data[0], scheme, std_dev_values=data[1])\n",
    "   "
   ]
  },
  {
   "cell_type": "code",
   "execution_count": null,
   "metadata": {},
   "outputs": [],
   "source": []
  },
  {
   "cell_type": "code",
   "execution_count": null,
   "metadata": {},
   "outputs": [],
   "source": []
  },
  {
   "cell_type": "code",
   "execution_count": null,
   "metadata": {},
   "outputs": [],
   "source": []
  }
 ],
 "metadata": {
  "kernelspec": {
   "display_name": "Python 3",
   "language": "python",
   "name": "python3"
  },
  "language_info": {
   "codemirror_mode": {
    "name": "ipython",
    "version": 3
   },
   "file_extension": ".py",
   "mimetype": "text/x-python",
   "name": "python",
   "nbconvert_exporter": "python",
   "pygments_lexer": "ipython3",
   "version": "3.11.8"
  },
  "orig_nbformat": 4
 },
 "nbformat": 4,
 "nbformat_minor": 2
}
