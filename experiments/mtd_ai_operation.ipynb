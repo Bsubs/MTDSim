{
 "cells": [
  {
   "cell_type": "code",
   "execution_count": 1,
   "metadata": {},
   "outputs": [],
   "source": [
    "import os\n",
    "import sys\n",
    "current_directory = os.getcwd()\n",
    "if not os.path.exists(current_directory + '\\\\experimental_data'):\n",
    "    os.makedirs(current_directory + '\\\\experimental_data')\n",
    "    os.makedirs(current_directory + '\\\\experimental_data\\\\plots')\n",
    "    os.makedirs(current_directory + '\\\\experimental_data\\\\results')\n",
    "sys.path.append(current_directory.replace('experiments', ''))\n",
    "import warnings\n",
    "import matplotlib.pyplot as plt\n",
    "warnings.filterwarnings(\"ignore\")\n",
    "plt.set_loglevel('WARNING')\n",
    "from run import execute_simulation, create_experiment_snapshots, execute_ai_training, execute_ai_model\n",
    "from mtdnetwork.mtd.completetopologyshuffle import CompleteTopologyShuffle\n",
    "from mtdnetwork.mtd.ipshuffle import IPShuffle\n",
    "from mtdnetwork.mtd.hosttopologyshuffle import HostTopologyShuffle\n",
    "from mtdnetwork.mtd.portshuffle import PortShuffle\n",
    "from mtdnetwork.mtd.osdiversity import OSDiversity\n",
    "from mtdnetwork.mtd.servicediversity import ServiceDiversity\n",
    "from mtdnetwork.mtd.usershuffle import UserShuffle\n",
    "from mtdnetwork.mtd.osdiversityassignment import OSDiversityAssignment\n",
    "import logging\n",
    "\n",
    "logging.basicConfig(format='%(message)s', level=logging.INFO)"
   ]
  },
  {
   "cell_type": "code",
   "execution_count": 2,
   "metadata": {
    "collapsed": false,
    "pycharm": {
     "name": "#%%\n"
    }
   },
   "outputs": [],
   "source": [
    "create_experiment_snapshots([25, 50, 75, 100])"
   ]
  },
  {
   "cell_type": "code",
   "execution_count": 3,
   "metadata": {},
   "outputs": [],
   "source": [
    "# Learning Parameters\n",
    "epsilon = 1.0  # exploration rate\n",
    "\n",
    "# Simulator Settings\n",
    "start_time = 0\n",
    "finish_time = 3000\n",
    "mtd_interval = 200\n",
    "scheme = 'mtd_ai'\n",
    "total_nodes = 100\n",
    "new_network = True"
   ]
  },
  {
   "cell_type": "code",
   "execution_count": 4,
   "metadata": {},
   "outputs": [
    {
     "name": "stderr",
     "output_type": "stream",
     "text": [
      "Static period: 0\n",
      "Action: 2\n",
      "MTD: IPShuffle triggered 0.0s\n",
      "MTD: Interrupted EXPLOIT_VULN at 110.2s!\n",
      "Static period: 90.0367476293799\n",
      "Action: 0\n",
      "Static period: 90.0367476293799\n",
      "Action: 4\n",
      "MTD: IPShuffle triggered 200.2s\n",
      "MTD: Interrupted EXPLOIT_VULN at 311.2s!\n",
      "Static period: 89.32172651507256\n",
      "Action: 2\n",
      "MTD: IPShuffle triggered 400.5s\n",
      "MTD: Interrupted EXPLOIT_VULN at 511.0s!\n",
      "Static period: 91.0130558941068\n",
      "Action: 2\n",
      "MTD: IPShuffle triggered 602.0s\n",
      "MTD: Interrupted EXPLOIT_VULN at 712.5s!\n",
      "Static period: 89.75480298997945\n",
      "Action: 2\n",
      "MTD: IPShuffle triggered 802.3s\n",
      "MTD: Interrupted EXPLOIT_VULN at 912.4s!\n",
      "Static period: 89.94662712909485\n",
      "Action: 2\n",
      "MTD: IPShuffle triggered 1002.3s\n",
      "MTD: Interrupted ENUM_HOST at 1113.1s!\n",
      "Static period: 90.00538270486277\n",
      "Action: 0\n",
      "Static period: 90.00538270486277\n",
      "Action: 4\n",
      "MTD: IPShuffle triggered 1203.1s\n",
      "MTD: Interrupted EXPLOIT_VULN at 1313.4s!\n",
      "Static period: 89.84441930768185\n",
      "Action: 0\n",
      "Static period: 89.84441930768185\n",
      "Action: 4\n",
      "MTD: IPShuffle triggered 1403.2s\n",
      "MTD: Interrupted EXPLOIT_VULN at 1513.7s!\n",
      "Static period: 89.89570110344789\n",
      "Action: 0\n",
      "Static period: 89.89570110344789\n",
      "Action: 0\n",
      "Static period: 89.89570110344789\n",
      "Action: 4\n",
      "MTD: ServiceDiversity triggered 1603.6s\n",
      "Static period: 129.87234753466737\n",
      "Action: 1\n",
      "MTD: ServiceDiversity triggered 1803.8s\n",
      "Static period: 129.65763642102434\n",
      "Action: 1\n",
      "MTD: ServiceDiversity triggered 2004.0s\n",
      "Static period: 129.81107688614293\n",
      "Action: 1\n",
      "MTD: ServiceDiversity triggered 2204.2s\n",
      "Static period: 130.41696967523558\n",
      "Action: 1\n",
      "MTD: CompleteTopologyShuffle triggered 2404.8s\n",
      "MTD: Interrupted SCAN_PORT at 2525.2s!\n",
      "Static period: 79.85107850237137\n",
      "Action: 2\n",
      "MTD: CompleteTopologyShuffle triggered 2605.1s\n",
      "MTD: Interrupted EXPLOIT_VULN at 2725.2s!\n",
      "Static period: 80.9237748551459\n",
      "Action: 2\n",
      "MTD: CompleteTopologyShuffle triggered 2806.1s\n",
      "MTD: Interrupted EXPLOIT_VULN at 2926.4s!\n"
     ]
    }
   ],
   "source": [
    "evaluation = execute_ai_model(start_time=start_time, finish_time=finish_time, mtd_interval=mtd_interval, scheme=scheme, total_nodes=total_nodes, new_network=new_network)"
   ]
  },
  {
   "cell_type": "code",
   "execution_count": 5,
   "metadata": {
    "collapsed": false,
    "pycharm": {
     "name": "#%%\n"
    }
   },
   "outputs": [],
   "source": [
    "# evaluation = execute_simulation(start_time=0, finish_time=3000, mtd_interval=200, scheme='random', total_nodes=100, new_network=True)"
   ]
  }
 ],
 "metadata": {
  "kernelspec": {
   "display_name": "Python 3.9.13 ('mtdsimtime')",
   "language": "python",
   "name": "python3"
  },
  "language_info": {
   "codemirror_mode": {
    "name": "ipython",
    "version": 3
   },
   "file_extension": ".py",
   "mimetype": "text/x-python",
   "name": "python",
   "nbconvert_exporter": "python",
   "pygments_lexer": "ipython3",
   "version": "3.11.8"
  },
  "orig_nbformat": 4,
  "vscode": {
   "interpreter": {
    "hash": "9b477274c87fb63319f36b484dd34a6881cb387ce1b14309c24558f54c8e02ea"
   }
  }
 },
 "nbformat": 4,
 "nbformat_minor": 2
}
