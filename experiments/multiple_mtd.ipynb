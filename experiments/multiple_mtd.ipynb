{
 "cells": [
  {
   "cell_type": "code",
   "execution_count": 1,
   "metadata": {
    "collapsed": true
   },
   "outputs": [],
   "source": [
    "import os\n",
    "import sys\n",
    "current_directory = os.getcwd()\n",
    "if not os.path.exists(current_directory + '\\\\experimental_data'):\n",
    "    os.makedirs(current_directory + '\\\\experimental_data')\n",
    "    os.makedirs(current_directory + '\\\\experimental_data\\\\plots')\n",
    "    os.makedirs(current_directory + '\\\\experimental_data\\\\results')\n",
    "sys.path.append(current_directory.replace('experiments', ''))\n",
    "import warnings\n",
    "import seaborn as sns\n",
    "import pandas as pd\n",
    "import matplotlib.pyplot as plt\n",
    "from mtdnetwork.statistic.utils import decorate, savefig\n",
    "warnings.filterwarnings(\"ignore\")\n",
    "plt.set_loglevel('WARNING')"
   ]
  },
  {
   "cell_type": "code",
   "execution_count": null,
   "metadata": {
    "collapsed": false,
    "pycharm": {
     "name": "#%%\n",
     "is_executing": true
    }
   },
   "outputs": [],
   "source": [
    "results_avg = pd.read_csv(\"experimental_data/results/multiple_mtd_sim.csv\")\n",
    "single_results = pd.read_csv(\"experimental_data/results/single_mtd_sim.csv\")\n",
    "\n",
    "if len(results_avg[results_avg['Name'] == 'NoMTD']) == 0:\n",
    "    results_avg = results_avg.append(single_results[single_results['Name'] == 'NoMTD'])"
   ]
  },
  {
   "cell_type": "markdown",
   "metadata": {
    "collapsed": false,
    "pycharm": {
     "name": "#%% md\n"
    }
   },
   "source": [
    "## Mean Time to Compromise by compromise ratio with Different MTD Triggering Interval on Network Size = 100"
   ]
  },
  {
   "cell_type": "code",
   "execution_count": null,
   "metadata": {
    "collapsed": false,
    "pycharm": {
     "name": "#%%\n",
     "is_executing": true
    }
   },
   "outputs": [],
   "source": [
    "mttc_ratio_interval_results = results_avg[results_avg['Network Size']==20]\n",
    "\n",
    "g = sns.FacetGrid(mttc_ratio_interval_results, col=\"MTD Interval\",  col_wrap=2, margin_titles=True, despine=False, height=4, aspect= 2)\n",
    "g.map_dataframe(sns.lineplot, x=\"Host Compromise ratio (compromised hosts / total hosts)\", y=\"Mean Time to Compromise (s)\", hue='Name', style='Name', marker=True, palette='Set2')\n",
    "g.add_legend()\n",
    "g.fig.subplots_adjust(top=0.9)\n",
    "g.fig.suptitle('Mean Time to Compromise by compromise ratio with Different MTD Triggering Interval on Network Size = 70')\n",
    "savefig('experimental_data/plots/multiple_mttc_ratio_interval.jpg')\n",
    "plt.show()"
   ]
  },
  {
   "cell_type": "markdown",
   "metadata": {
    "collapsed": false,
    "pycharm": {
     "name": "#%% md\n"
    }
   },
   "source": [
    "## Mean Time to Compromise by compromise ratio with Different Network Size on MTD Interval = 100"
   ]
  },
  {
   "cell_type": "code",
   "execution_count": null,
   "metadata": {
    "collapsed": false,
    "pycharm": {
     "name": "#%%\n",
     "is_executing": true
    }
   },
   "outputs": [],
   "source": [
    "mttc_ratio_size_results = results_avg[results_avg['MTD Interval']==100]\n",
    "\n",
    "g = sns.FacetGrid(mttc_ratio_size_results, col=\"Network Size\",  col_wrap=2, margin_titles=True, despine=False, height=4, aspect= 2)\n",
    "g.map_dataframe(sns.lineplot, x=\"Host Compromise ratio (compromised hosts / total hosts)\", y=\"Mean Time to Compromise (s)\", hue='Name', style='Name', marker=True, palette='Set2')\n",
    "g.add_legend()\n",
    "g.fig.subplots_adjust(top=0.9)\n",
    "g.fig.suptitle('Mean Time to Compromise by compromise ratio with Different Network Size on MTD Interval = 100')\n",
    "savefig('experimental_data/plots/multiple_mttc_ratio_size.jpg')\n",
    "plt.show()"
   ]
  },
  {
   "cell_type": "markdown",
   "metadata": {
    "collapsed": false,
    "pycharm": {
     "name": "#%% md\n"
    }
   },
   "source": [
    "## Mean Time to Compromise by Different Network Size with different MTD Interval on Host Compromise ratio = 0.8"
   ]
  },
  {
   "cell_type": "code",
   "execution_count": null,
   "metadata": {
    "collapsed": false,
    "pycharm": {
     "name": "#%%\n",
     "is_executing": true
    }
   },
   "outputs": [],
   "source": [
    "mttc_size_interval_results = results_avg[results_avg['Host Compromise ratio (compromised hosts / total hosts)']==0.8]\n",
    "\n",
    "g = sns.FacetGrid(mttc_size_interval_results, col=\"MTD Interval\",  col_wrap=2, margin_titles=True, despine=False, height=4, aspect= 2)\n",
    "g.map_dataframe(sns.barplot, x=\"Network Size\", y=\"Mean Time to Compromise (s)\", hue='Name', palette='Set2')\n",
    "g.add_legend()\n",
    "g.fig.subplots_adjust(top=0.9)\n",
    "g.fig.suptitle('Mean Time to Compromise by Different Network Size with different MTD Interval on Host Compromise ratio = 0.8')\n",
    "savefig('experimental_data/plots/multiple_mttc_size_interval.jpg')\n",
    "plt.show()"
   ]
  },
  {
   "cell_type": "markdown",
   "metadata": {
    "collapsed": false,
    "pycharm": {
     "name": "#%% md\n"
    }
   },
   "source": []
  },
  {
   "cell_type": "markdown",
   "metadata": {
    "collapsed": false,
    "pycharm": {
     "name": "#%% md\n"
    }
   },
   "source": [
    "## Attack Success Rate by Network Size with Different MTD Interval"
   ]
  },
  {
   "cell_type": "code",
   "execution_count": null,
   "metadata": {
    "collapsed": false,
    "pycharm": {
     "name": "#%%\n",
     "is_executing": true
    }
   },
   "outputs": [],
   "source": [
    "# plt.figure(figsize=(17, 10))\n",
    "# sns.barplot(data=results_avg, x='MTD Interval', y='Attack Success Rate', hue='Name')\n",
    "# plt.legend(loc='upper right')\n",
    "# plt.title('Attack Success Rate at 10000s simulation time with different MTD triggering interval')\n",
    "# savefig('experimental_data/plots/multiple_mtd_sim_asr.jpg')\n",
    "# plt.show()\n",
    "\n",
    "\n",
    "g = sns.FacetGrid(results_avg, col=\"MTD Interval\",  col_wrap=2, margin_titles=True, despine=False, height=4, aspect= 2)\n",
    "g.map_dataframe(sns.barplot, x=\"Network Size\", y=\"Attack Success Rate\", hue='Name', palette='Set2')\n",
    "g.add_legend()\n",
    "g.fig.subplots_adjust(top=0.9)\n",
    "g.fig.suptitle('Attack Success Rate by Network Size with Different MTD Interval')\n",
    "savefig('experimental_data/plots/multiple_asr_interval_size.jpg')\n",
    "plt.show()"
   ]
  },
  {
   "cell_type": "markdown",
   "metadata": {
    "collapsed": false,
    "pycharm": {
     "name": "#%% md\n"
    }
   },
   "source": [
    "## The number of hosts being compromised at 10000s simulation time with 4 different MTD triggering interval"
   ]
  },
  {
   "cell_type": "code",
   "execution_count": null,
   "metadata": {
    "collapsed": false,
    "pycharm": {
     "name": "#%%\n",
     "is_executing": true
    }
   },
   "outputs": [],
   "source": [
    "# plt.figure(figsize=(17, 10))\n",
    "# sns.lineplot(data=results_avg, x='MTD Interval', y='Mean Time to Compromise', hue='Name', style='Name', markers=True, dashes=False)\n",
    "# plt.show()\n",
    "# plt.figure(figsize=(17, 10))\n",
    "# sns.barplot(data=results_avg, x='MTD Interval', y='Compromised Num', hue='Name')\n",
    "# plt.legend(loc='upper right')\n",
    "# plt.title('The number of hosts being compromised at 10000s simulation time with different MTD triggering interval')\n",
    "# savefig('experimental_data/plots/multiple_mtd_sim_cn.jpg')\n",
    "# plt.show()"
   ]
  },
  {
   "cell_type": "code",
   "execution_count": null,
   "metadata": {
    "collapsed": false,
    "pycharm": {
     "name": "#%%\n",
     "is_executing": true
    }
   },
   "outputs": [],
   "source": []
  },
  {
   "cell_type": "code",
   "execution_count": null,
   "metadata": {
    "collapsed": false,
    "pycharm": {
     "name": "#%%\n",
     "is_executing": true
    }
   },
   "outputs": [],
   "source": []
  }
 ],
 "metadata": {
  "kernelspec": {
   "display_name": "Python 3.9.13 ('mtdsimtime')",
   "language": "python",
   "name": "python3"
  },
  "language_info": {
   "codemirror_mode": {
    "name": "ipython",
    "version": 3
   },
   "file_extension": ".py",
   "mimetype": "text/x-python",
   "name": "python",
   "nbconvert_exporter": "python",
   "pygments_lexer": "ipython3",
   "version": "3.9.13"
  },
  "vscode": {
   "interpreter": {
    "hash": "9b477274c87fb63319f36b484dd34a6881cb387ce1b14309c24558f54c8e02ea"
   }
  }
 },
 "nbformat": 4,
 "nbformat_minor": 0
}