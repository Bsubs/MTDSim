{
 "cells": [
  {
   "cell_type": "code",
   "execution_count": 1,
   "metadata": {},
   "outputs": [],
   "source": [
    "import os\n",
    "import sys\n",
    "current_directory = os.getcwd()\n",
    "if not os.path.exists(current_directory + '\\\\experimental_data'):\n",
    "    os.makedirs(current_directory + '\\\\experimental_data')\n",
    "    os.makedirs(current_directory + '\\\\experimental_data\\\\plots')\n",
    "    os.makedirs(current_directory + '\\\\experimental_data\\\\results')\n",
    "sys.path.append(current_directory.replace('experiments', ''))\n",
    "import warnings\n",
    "import matplotlib.pyplot as plt\n",
    "warnings.filterwarnings(\"ignore\")\n",
    "plt.set_loglevel('WARNING')\n",
    "from run import execute_simulation, create_experiment_snapshots, execute_ai_training\n",
    "from mtdnetwork.mtd.completetopologyshuffle import CompleteTopologyShuffle\n",
    "from mtdnetwork.mtd.ipshuffle import IPShuffle\n",
    "from mtdnetwork.mtd.hosttopologyshuffle import HostTopologyShuffle\n",
    "from mtdnetwork.mtd.portshuffle import PortShuffle\n",
    "from mtdnetwork.mtd.osdiversity import OSDiversity\n",
    "from mtdnetwork.mtd.servicediversity import ServiceDiversity\n",
    "from mtdnetwork.mtd.usershuffle import UserShuffle\n",
    "from mtdnetwork.mtd.osdiversityassignment import OSDiversityAssignment\n",
    "import logging\n",
    "\n",
    "logging.basicConfig(format='%(message)s', level=logging.INFO)"
   ]
  },
  {
   "cell_type": "code",
   "execution_count": 2,
   "metadata": {
    "pycharm": {
     "name": "#%%\n"
    }
   },
   "outputs": [],
   "source": [
    "create_experiment_snapshots([25, 50, 75, 100])"
   ]
  },
  {
   "cell_type": "code",
   "execution_count": 3,
   "metadata": {},
   "outputs": [],
   "source": [
    "# Environment and agent settings\n",
    "static_features = [\"host_compromise_ratio\",  \"attack_path_exposure\",  \"overall_asr_avg\", \"roa\", \"risk\", \"attack_type\"]\n",
    "time_features = [\"mtd_freq\", \"overall_mttc_avg\"]\n",
    "features = {\"static\": static_features, \"time\": time_features}\n",
    "state_size = 6\n",
    "time_series_size = 2 # Time Since Last MTD, MTTC, mtd_freqency\n",
    "custom_strategies = [\n",
    "    CompleteTopologyShuffle,\n",
    "    # HostTopologyShuffle,\n",
    "    IPShuffle,\n",
    "    OSDiversity,\n",
    "    # PortShuffle,\n",
    "    # OSDiversityAssignment,\n",
    "    ServiceDiversity,\n",
    "    # UserShuffle\n",
    "]\n",
    "action_size = len(custom_strategies) + 1  # Deploy(4 types, 1-4) or don't deploy(0) MTD technique  \n",
    "\n",
    "# Learning Parameters\n",
    "gamma = 0.95  # discount rate\n",
    "epsilon = 1.0  # exploration rate\n",
    "epsilon_min = 0.01\n",
    "epsilon_decay = 0.995\n",
    "batch_size = 32\n",
    "train_start = 1000\n",
    "\n",
    "episodes = 100\n",
    "\n",
    "# Simulator Settings\n",
    "start_time = 0\n",
    "finish_time = 5000\n",
    "mtd_interval = 200\n",
    "scheme = 'mtd_ai'\n",
    "total_nodes = 100\n",
    "new_network = True\n",
    "file_name = \"all_features\"\n",
    "\n",
    "static_degrade_factor = 2000\n"
   ]
  },
  {
   "cell_type": "code",
   "execution_count": 4,
   "metadata": {},
   "outputs": [],
   "source": [
    "# for mtd_strategies in custom_strategies:\n",
    "#     action_size = 2\n",
    "#     file_name = \"all_features\"\n",
    "#     file_name += f\"_{[mtd_strategies][0]().get_name()}\"\n",
    "#     print(file_name)\n",
    "#     # Train using all features and only deploy single MTD\n",
    "#     execute_ai_training(custom_strategies=[mtd_strategies], features = features, start_time=start_time, finish_time=finish_time, mtd_interval=mtd_interval, state_size=state_size, time_series_size=time_series_size, action_size=action_size, gamma=gamma, epsilon=epsilon, epsilon_min=epsilon_min, epsilon_decay=epsilon_decay, batch_size=batch_size, train_start=train_start, scheme=scheme, total_nodes=total_nodes, new_network=new_network, episodes=episodes, file_name=file_name )"
   ]
  },
  {
   "cell_type": "code",
   "execution_count": 5,
   "metadata": {},
   "outputs": [],
   "source": [
    "# # Train using all features and all MTD deployments\n",
    "# execute_ai_training(static_degrade_factor = 2000, custom_strategies=custom_strategies,features = features, start_time=start_time, finish_time=finish_time, mtd_interval=mtd_interval, state_size=state_size, time_series_size=time_series_size, action_size=action_size, gamma=gamma, epsilon=epsilon, epsilon_min=epsilon_min, epsilon_decay=epsilon_decay, batch_size=batch_size, train_start=train_start, scheme=scheme, total_nodes=total_nodes, new_network=new_network, episodes=episodes, file_name=file_name )"
   ]
  },
  {
   "cell_type": "code",
   "execution_count": 6,
   "metadata": {},
   "outputs": [],
   "source": [
    "# Define your features\n",
    "static_features = [ \"exposed_endpoints\"]\n",
    "# time_features = [\"time_since_last_mtd\"]\n",
    "# time_features = [\"overall_mttc_avg\", \"time_since_last_mtd\"]\n",
    "\n"
   ]
  },
  {
   "cell_type": "code",
   "execution_count": 7,
   "metadata": {},
   "outputs": [
    {
     "name": "stdout",
     "output_type": "stream",
     "text": [
      "exposed_endpoints_CompleteTopologyShuffle\n",
      "Static_factor 2000\n",
      "MTD Scheme [<class 'mtdnetwork.mtd.completetopologyshuffle.CompleteTopologyShuffle'>]\n",
      "Action size(include zero which is no deployment) 2\n"
     ]
    },
    {
     "ename": "TypeError",
     "evalue": "unhashable type: 'list'",
     "output_type": "error",
     "traceback": [
      "\u001b[0;31m---------------------------------------------------------------------------\u001b[0m",
      "\u001b[0;31mTypeError\u001b[0m                                 Traceback (most recent call last)",
      "File \u001b[0;32m~/Documents/GitHub/MTDSim/mtdnetwork/operation/mtd_ai_training.py:169\u001b[0m, in \u001b[0;36mMTDAITraining._mtd_execute_action\u001b[0;34m(self, env, mtd, state, time_series, action)\u001b[0m\n\u001b[1;32m    168\u001b[0m new_state, new_time_series \u001b[39m=\u001b[39m \u001b[39mself\u001b[39m\u001b[39m.\u001b[39mget_state_and_time_series()\n\u001b[0;32m--> 169\u001b[0m reward \u001b[39m=\u001b[39m calculate_reward(state, time_series, new_state, new_time_series, \u001b[39mself\u001b[39m\u001b[39m.\u001b[39mfeatures[\u001b[39m'\u001b[39m\u001b[39mstatic\u001b[39m\u001b[39m'\u001b[39m], \u001b[39mself\u001b[39m\u001b[39m.\u001b[39mfeatures[\u001b[39m'\u001b[39m\u001b[39mtime\u001b[39m\u001b[39m'\u001b[39m], \u001b[39mself\u001b[39m\u001b[39m.\u001b[39mmemory)\n\u001b[1;32m    170\u001b[0m done \u001b[39m=\u001b[39m \u001b[39mFalse\u001b[39;00m\n",
      "File \u001b[0;32m~/Documents/GitHub/MTDSim/mtdnetwork/mtdai/mtd_ai.py:158\u001b[0m, in \u001b[0;36mcalculate_reward\u001b[0;34m(current_state, current_time_series, next_state, next_time_series, static_features, time_features, memory)\u001b[0m\n\u001b[1;32m    157\u001b[0m     delta \u001b[39m=\u001b[39m (norm_next_state[index] \u001b[39m-\u001b[39m norm_current_state[index])\n\u001b[0;32m--> 158\u001b[0m     reward \u001b[39m+\u001b[39m\u001b[39m=\u001b[39m delta \u001b[39m*\u001b[39m dynamic_weights\u001b[39m.\u001b[39mget(feature, \u001b[39m0\u001b[39m)\n\u001b[1;32m    160\u001b[0m \u001b[39mfor\u001b[39;00m index, time_series_feature \u001b[39min\u001b[39;00m \u001b[39menumerate\u001b[39m(time_features):\n",
      "\u001b[0;31mTypeError\u001b[0m: unhashable type: 'list'",
      "\nThe above exception was the direct cause of the following exception:\n",
      "\u001b[0;31mTypeError\u001b[0m                                 Traceback (most recent call last)",
      "Cell \u001b[0;32mIn[7], line 21\u001b[0m\n\u001b[1;32m     19\u001b[0m \u001b[39mprint\u001b[39m(file_name)\n\u001b[1;32m     20\u001b[0m \u001b[39m# Train using all features and only deploy single MTD\u001b[39;00m\n\u001b[0;32m---> 21\u001b[0m execute_ai_training(custom_strategies\u001b[39m=\u001b[39m[mtd_strategies], features \u001b[39m=\u001b[39m features, start_time\u001b[39m=\u001b[39mstart_time, finish_time\u001b[39m=\u001b[39mfinish_time, mtd_interval\u001b[39m=\u001b[39mmtd_interval, state_size\u001b[39m=\u001b[39mstate_size, time_series_size\u001b[39m=\u001b[39mtime_series_size, action_size\u001b[39m=\u001b[39maction_size, gamma\u001b[39m=\u001b[39mgamma, epsilon\u001b[39m=\u001b[39mepsilon, epsilon_min\u001b[39m=\u001b[39mepsilon_min, epsilon_decay\u001b[39m=\u001b[39mepsilon_decay, batch_size\u001b[39m=\u001b[39mbatch_size, train_start\u001b[39m=\u001b[39mtrain_start, scheme\u001b[39m=\u001b[39mscheme, total_nodes\u001b[39m=\u001b[39mtotal_nodes, new_network\u001b[39m=\u001b[39mnew_network, episodes\u001b[39m=\u001b[39mepisodes, file_name\u001b[39m=\u001b[39mfile_name )\n",
      "File \u001b[0;32m~/Documents/GitHub/MTDSim/experiments/run.py:475\u001b[0m, in \u001b[0;36mexecute_ai_training\u001b[0;34m(features, start_time, finish_time, scheme, mtd_interval, custom_strategies, checkpoints, total_nodes, total_endpoints, total_subnets, total_layers, target_layer, total_database, terminate_compromise_ratio, new_network, state_size, action_size, time_series_size, gamma, epsilon, epsilon_min, epsilon_decay, batch_size, train_start, episodes, file_name, static_degrade_factor)\u001b[0m\n\u001b[1;32m    473\u001b[0m \u001b[39m# start simulation\u001b[39;00m\n\u001b[1;32m    474\u001b[0m \u001b[39mif\u001b[39;00m finish_time \u001b[39mis\u001b[39;00m \u001b[39mnot\u001b[39;00m \u001b[39mNone\u001b[39;00m:\n\u001b[0;32m--> 475\u001b[0m     env\u001b[39m.\u001b[39mrun(until\u001b[39m=\u001b[39m(finish_time \u001b[39m-\u001b[39m start_time))\n\u001b[1;32m    476\u001b[0m \u001b[39melse\u001b[39;00m:\n\u001b[1;32m    477\u001b[0m     env\u001b[39m.\u001b[39mrun(until\u001b[39m=\u001b[39mend_event)\n",
      "File \u001b[0;32m~/anaconda3/lib/python3.11/site-packages/simpy/core.py:246\u001b[0m, in \u001b[0;36mEnvironment.run\u001b[0;34m(self, until)\u001b[0m\n\u001b[1;32m    244\u001b[0m \u001b[39mtry\u001b[39;00m:\n\u001b[1;32m    245\u001b[0m     \u001b[39mwhile\u001b[39;00m \u001b[39mTrue\u001b[39;00m:\n\u001b[0;32m--> 246\u001b[0m         \u001b[39mself\u001b[39m\u001b[39m.\u001b[39mstep()\n\u001b[1;32m    247\u001b[0m \u001b[39mexcept\u001b[39;00m StopSimulation \u001b[39mas\u001b[39;00m exc:\n\u001b[1;32m    248\u001b[0m     \u001b[39mreturn\u001b[39;00m exc\u001b[39m.\u001b[39margs[\u001b[39m0\u001b[39m]  \u001b[39m# == until.value\u001b[39;00m\n",
      "File \u001b[0;32m~/anaconda3/lib/python3.11/site-packages/simpy/core.py:204\u001b[0m, in \u001b[0;36mEnvironment.step\u001b[0;34m(self)\u001b[0m\n\u001b[1;32m    202\u001b[0m exc \u001b[39m=\u001b[39m \u001b[39mtype\u001b[39m(event\u001b[39m.\u001b[39m_value)(\u001b[39m*\u001b[39mevent\u001b[39m.\u001b[39m_value\u001b[39m.\u001b[39margs)\n\u001b[1;32m    203\u001b[0m exc\u001b[39m.\u001b[39m__cause__ \u001b[39m=\u001b[39m event\u001b[39m.\u001b[39m_value\n\u001b[0;32m--> 204\u001b[0m \u001b[39mraise\u001b[39;00m exc\n",
      "\u001b[0;31mTypeError\u001b[0m: unhashable type: 'list'"
     ]
    }
   ],
   "source": [
    "# Loop through time features\n",
    "custom_strategies = [\n",
    "    CompleteTopologyShuffle,\n",
    "    # HostTopologyShuffle,\n",
    "    IPShuffle,\n",
    "    OSDiversity,\n",
    "    # PortShuffle,\n",
    "    # OSDiversityAssignment,\n",
    "    ServiceDiversity,\n",
    "    # UserShuffle\n",
    "]\n",
    "\n",
    "for static_feature in static_features:\n",
    "    features = {\"static\": [static_feature], \"time\": []}\n",
    "    for mtd_strategies in custom_strategies:\n",
    "        action_size = 2\n",
    "        file_name = static_feature\n",
    "        file_name += f\"_{[mtd_strategies][0]().get_name()}\"\n",
    "        print(file_name)\n",
    "        # Train using all features and only deploy single MTD\n",
    "        execute_ai_training(custom_strategies=[mtd_strategies], features = features, start_time=start_time, finish_time=finish_time, mtd_interval=mtd_interval, state_size=state_size, time_series_size=time_series_size, action_size=action_size, gamma=gamma, epsilon=epsilon, epsilon_min=epsilon_min, epsilon_decay=epsilon_decay, batch_size=batch_size, train_start=train_start, scheme=scheme, total_nodes=total_nodes, new_network=new_network, episodes=episodes, file_name=file_name )\n",
    "    \n"
   ]
  },
  {
   "cell_type": "code",
   "execution_count": null,
   "metadata": {},
   "outputs": [],
   "source": [
    "# # Loop through time features\n",
    "# custom_strategies = [\n",
    "#     CompleteTopologyShuffle,\n",
    "#     # HostTopologyShuffle,\n",
    "#     IPShuffle,\n",
    "#     OSDiversity,\n",
    "#     # PortShuffle,\n",
    "#     # OSDiversityAssignment,\n",
    "#     ServiceDiversity,\n",
    "#     # UserShuffle\n",
    "# ]\n",
    "# static_features = [ \"roa\",  \"risk\"]\n",
    "# # Loop through static features\n",
    "# for static_feature in static_features:\n",
    "#     features = {\"static\": [static_feature], \"time\": []}\n",
    "    \n",
    "#     # Call the function with the current feature configuration\n",
    "#     execute_ai_training(\n",
    "#         features=features,\n",
    "#         start_time=start_time,\n",
    "#         finish_time=finish_time,\n",
    "#         custom_strategies=[mtd_strategies],\n",
    "#         mtd_interval=mtd_interval,\n",
    "#         state_size=state_size,\n",
    "#         time_series_size=time_series_size,\n",
    "#         action_size=action_size,\n",
    "#         gamma=gamma,\n",
    "#         epsilon=epsilon,\n",
    "#         epsilon_min=epsilon_min,\n",
    "#         epsilon_decay=epsilon_decay,\n",
    "#         batch_size=batch_size,\n",
    "#         train_start=train_start,\n",
    "#         scheme=scheme,\n",
    "#         total_nodes=total_nodes,\n",
    "#         new_network=new_network,\n",
    "#         episodes=episodes,\n",
    "#         file_name=static_feature,\n",
    "#         static_degrade_factor = 2000\n",
    "#     )\n"
   ]
  },
  {
   "cell_type": "code",
   "execution_count": null,
   "metadata": {},
   "outputs": [],
   "source": []
  }
 ],
 "metadata": {
  "kernelspec": {
   "display_name": "Python 3 (ipykernel)",
   "language": "python",
   "name": "python3"
  },
  "language_info": {
   "codemirror_mode": {
    "name": "ipython",
    "version": 3
   },
   "file_extension": ".py",
   "mimetype": "text/x-python",
   "name": "python",
   "nbconvert_exporter": "python",
   "pygments_lexer": "ipython3",
   "version": "3.11.4"
  },
  "vscode": {
   "interpreter": {
    "hash": "9b477274c87fb63319f36b484dd34a6881cb387ce1b14309c24558f54c8e02ea"
   }
  }
 },
 "nbformat": 4,
 "nbformat_minor": 2
}
