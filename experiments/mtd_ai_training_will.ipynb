{
 "cells": [
  {
   "cell_type": "code",
   "execution_count": null,
   "metadata": {},
   "outputs": [],
   "source": [
    "import os\n",
    "import sys\n",
    "current_directory = os.getcwd()\n",
    "if not os.path.exists(current_directory + '\\\\experimental_data'):\n",
    "    os.makedirs(current_directory + '\\\\experimental_data')\n",
    "    os.makedirs(current_directory + '\\\\experimental_data\\\\plots')\n",
    "    os.makedirs(current_directory + '\\\\experimental_data\\\\results')\n",
    "sys.path.append(current_directory.replace('experiments', ''))\n",
    "import warnings\n",
    "import matplotlib.pyplot as plt\n",
    "warnings.filterwarnings(\"ignore\")\n",
    "plt.set_loglevel('WARNING')\n",
    "from run import execute_simulation, create_experiment_snapshots, execute_ai_training\n",
    "from mtdnetwork.mtd.completetopologyshuffle import CompleteTopologyShuffle\n",
    "from mtdnetwork.mtd.ipshuffle import IPShuffle\n",
    "from mtdnetwork.mtd.hosttopologyshuffle import HostTopologyShuffle\n",
    "from mtdnetwork.mtd.portshuffle import PortShuffle\n",
    "from mtdnetwork.mtd.osdiversity import OSDiversity\n",
    "from mtdnetwork.mtd.servicediversity import ServiceDiversity\n",
    "from mtdnetwork.mtd.usershuffle import UserShuffle\n",
    "from mtdnetwork.mtd.osdiversityassignment import OSDiversityAssignment\n",
    "import logging\n",
    "\n",
    "logging.basicConfig(format='%(message)s', level=logging.INFO)"
   ]
  },
  {
   "cell_type": "code",
   "execution_count": null,
   "metadata": {
    "collapsed": false,
    "pycharm": {
     "name": "#%%\n"
    }
   },
   "outputs": [],
   "source": [
    "create_experiment_snapshots([25, 50, 75, 100])"
   ]
  },
  {
   "cell_type": "code",
   "execution_count": null,
   "metadata": {},
   "outputs": [],
   "source": [
    "# Environment and agent settings\n",
    "features = [\"host_compromise_ratio\", \"exposed_endpoints\", \"attack_path_exposure\",  \"overall_asr_avg\",\"roa\", \"shortest_path_variability\", \"risk\",\"attack_type\"] # HCR, Exposed Endpoints, Attack Success Rate, Attack Path Exposure Score, Return on Attack Score, Attack Path Variability, Risk, attack_type(not a feature)\n",
    "state_size = len(features)\n",
    "time_series_size = 3  # Time Since Last MTD, MTTC, mtd_freqency\n",
    "action_size = 5  # Deploy(4 types, 1-4) or don't deploy(0) MTD technique  \n",
    "\n",
    "# Learning Parameters\n",
    "gamma = 0.95  # discount rate\n",
    "epsilon = 1.0  # exploration rate\n",
    "epsilon_min = 0.01\n",
    "epsilon_decay = 0.995\n",
    "batch_size = 32\n",
    "train_start = 1000\n",
    "episodes = 100\n",
    "\n",
    "# Simulator Settings\n",
    "start_time = 0\n",
    "finish_time = 5000\n",
    "mtd_interval = 200\n",
    "scheme = 'mtd_ai'\n",
    "total_nodes = 100\n",
    "new_network = True\n",
    "file_name = \"all_features\"\n"
   ]
  },
  {
   "cell_type": "code",
   "execution_count": null,
   "metadata": {},
   "outputs": [],
   "source": [
    "# Train using all features\n",
    "execute_ai_training(features = features, start_time=start_time, finish_time=finish_time, mtd_interval=mtd_interval, state_size=state_size, time_series_size=time_series_size, action_size=action_size, gamma=gamma, epsilon=epsilon, epsilon_min=epsilon_min, epsilon_decay=epsilon_decay, batch_size=batch_size, train_start=train_start, scheme=scheme, total_nodes=total_nodes, new_network=new_network, episodes=episodes, file_name=file_name )"
   ]
  },
  {
   "cell_type": "code",
   "execution_count": null,
   "metadata": {},
   "outputs": [],
   "source": [
    "# Train using all features\n",
    "features = [\"host_compromise_ratio\", \"exposed_endpoints\", \"attack_path_exposure\",  \"overall_asr_avg\",\"roa\", \"shortest_path_variability\", \"risk\",\"attack_type\"] # HCR, Exposed Endpoints, Attack Success Rate, Attack Path Exposure Score, Return on Attack Score, Attack Path Variability, Risk\n",
    "for feature in features:\n",
    "    execute_ai_training(features = [feature], start_time=start_time, finish_time=finish_time, mtd_interval=mtd_interval, state_size=state_size, time_series_size=time_series_size, action_size=action_size, gamma=gamma, epsilon=epsilon, epsilon_min=epsilon_min, epsilon_decay=epsilon_decay, batch_size=batch_size, train_start=train_start, scheme=scheme, total_nodes=total_nodes, new_network=new_network, episodes=episodes, file_name=feature)"
   ]
  },
  {
   "cell_type": "code",
   "execution_count": null,
   "metadata": {},
   "outputs": [],
   "source": []
  },
  {
   "cell_type": "code",
   "execution_count": null,
   "metadata": {},
   "outputs": [],
   "source": []
  }
 ],
 "metadata": {
  "kernelspec": {
   "display_name": "Python 3.9.13 ('mtdsimtime')",
   "language": "python",
   "name": "python3"
  },
  "language_info": {
   "codemirror_mode": {
    "name": "ipython",
    "version": 3
   },
   "file_extension": ".py",
   "mimetype": "text/x-python",
   "name": "python",
   "nbconvert_exporter": "python",
   "pygments_lexer": "ipython3",
   "version": "3.11.8"
  },
  "orig_nbformat": 4,
  "vscode": {
   "interpreter": {
    "hash": "9b477274c87fb63319f36b484dd34a6881cb387ce1b14309c24558f54c8e02ea"
   }
  }
 },
 "nbformat": 4,
 "nbformat_minor": 2
}
