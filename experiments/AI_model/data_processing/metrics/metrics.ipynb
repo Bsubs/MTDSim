{
 "cells": [
  {
   "cell_type": "code",
   "execution_count": 25,
   "metadata": {},
   "outputs": [],
   "source": [
    "import pandas as pd\n",
    "import matplotlib.pyplot as plt\n",
    "import json\n",
    "import ast\n"
   ]
  },
  {
   "cell_type": "code",
   "execution_count": 26,
   "metadata": {},
   "outputs": [],
   "source": [
    "f = open(\"simulation_metrics.log\", \"r\")"
   ]
  },
  {
   "cell_type": "code",
   "execution_count": 27,
   "metadata": {},
   "outputs": [],
   "source": [
    "def pad_arrays_in_dict(dictionary, length):\n",
    "    for key, value in dictionary.items():\n",
    "        if isinstance(value, list):\n",
    "            # Pad the list to the specified length\n",
    "            dictionary[key] = value + [None] * (length - len(value))\n",
    "    return dictionary"
   ]
  },
  {
   "cell_type": "code",
   "execution_count": 31,
   "metadata": {},
   "outputs": [],
   "source": [
    "import csv\n",
    "import re\n",
    "import numpy as np\n",
    "\n",
    "def process_data_to_csv(input_file_path, output_file_path):\n",
    "    with open(input_file_path, 'r') as input_file:\n",
    "        data = input_file.read()\n",
    "    \n",
    "    # Initialize CSV file with headers\n",
    "    with open(output_file_path, mode='w', newline='') as csv_file:\n",
    "        csv_writer = csv.writer(csv_file)\n",
    "        # Define the range and bins\n",
    "        range_min = 0\n",
    "        range_max = 10000\n",
    "        interval = 500\n",
    "\n",
    "        # Generate column names for x values\n",
    "        x_columns = [f\"x_{i}\" for i in range(range_min, range_max + interval, interval)]\n",
    "\n",
    "        # Update CSV header with x columns\n",
    "        csv_header = [\"curr_attack\", \"mtd_freq\", \"compromised_num\", \"interrupted\", \"mtd\", \"roa\", \"impact\", \"complexity\", \"total had os dependency\"] + x_columns\n",
    "\n",
    "        # Write the CSV header\n",
    "        csv_writer.writerow(csv_header)\n",
    "\n",
    "       \n",
    "        # Split the data into blocks for each STATS section\n",
    "        blocks = data.split(\"STATS BEFORE MTD OPERATION\")[1:]\n",
    "        items = 0\n",
    "        for block in blocks:\n",
    "            lines = block.strip().split(\"\\n\")\n",
    "            curr_attack = re.search(r\"Current Attack: (.+)\", lines[0]).group(1)\n",
    "            mtd_freq = re.search(r\"MTD Frequency: (.+)\", lines[1]).group(1)\n",
    "            compromised_num = re.search(r\"Compromised Number: (.+)\", lines[2]).group(1)\n",
    "            interrupted = \"Interrupted\" in block\n",
    "            mtd = re.search(r\"MTD: (\\w+)\", lines[3]).group(1)\n",
    " \n",
    "            # Pre-process Host Compromises dictionary\n",
    "            vuln_exploit_dict = ast.literal_eval(re.search(r\"Vulnerabilities Exploited: ({.*})\", lines[7]).group(1))\n",
    "            max_length = max(len(arr) for arr in vuln_exploit_dict.values() if isinstance(arr, list))\n",
    "            padded_dict = pad_arrays_in_dict(vuln_exploit_dict , max_length)\n",
    "            vuln_exploit = pd.DataFrame(padded_dict)\n",
    "\n",
    "            \n",
    "            if not vuln_exploit.empty:\n",
    "             # Sample data (replace this with your actual data)\n",
    "                items = vuln_exploit['x'].value_counts().sort_index()\n",
    "\n",
    "                # Define the range and bins\n",
    "                range_min = 0\n",
    "                range_max = 10000\n",
    "                interval = 500\n",
    "\n",
    "                # Create bins\n",
    "                bins = np.arange(range_min, range_max + interval, interval)\n",
    "\n",
    "                # Pad and map index to the range\n",
    "                padded_index = pd.cut(items.index, bins, labels=bins[:-1])\n",
    "\n",
    "                # Round the index to the nearest 500\n",
    "                rounded_index = padded_index.astype(int)\n",
    "\n",
    "                padded_values = np.zeros(20)  # Create an array of zeros with length 20 (for 10000 in intervals of 500)\n",
    "                for index, value in zip(rounded_index, items.values):\n",
    "                    padded_values[index // 500] += value\n",
    "\n",
    "                # Print padded values\n",
    "                # print(padded_values)\n",
    "                roa = vuln_exploit['roa'].mean()\n",
    "                impact = vuln_exploit['impact'].mean()\n",
    "                complexity = vuln_exploit['complexity'].mean()\n",
    "                total_os_dependency = vuln_exploit['total had os dependency'].mean()\n",
    "            else:\n",
    "                roa = 0\n",
    "                impact = 0\n",
    "                complexity = 9\n",
    "                total_os_dependency = 0\n",
    "                padded_values = [0] * 20\n",
    "\n",
    "            \n",
    "            row_values = [curr_attack, mtd_freq, compromised_num, interrupted, mtd, roa, impact, complexity, total_os_dependency] + list(padded_values)\n",
    "            csv_writer.writerow(row_values)\n",
    "# Example usage\n",
    "input_file_path = 'simulation_metrics.log'\n",
    "output_file_path = 'simulation_metrics.csv'\n",
    "process_data_to_csv(input_file_path, output_file_path)\n"
   ]
  },
  {
   "attachments": {},
   "cell_type": "markdown",
   "metadata": {},
   "source": []
  },
  {
   "cell_type": "code",
   "execution_count": null,
   "metadata": {},
   "outputs": [],
   "source": []
  }
 ],
 "metadata": {
  "kernelspec": {
   "display_name": "base",
   "language": "python",
   "name": "python3"
  },
  "language_info": {
   "codemirror_mode": {
    "name": "ipython",
    "version": 3
   },
   "file_extension": ".py",
   "mimetype": "text/x-python",
   "name": "python",
   "nbconvert_exporter": "python",
   "pygments_lexer": "ipython3",
   "version": "3.11.8"
  },
  "orig_nbformat": 4
 },
 "nbformat": 4,
 "nbformat_minor": 2
}
