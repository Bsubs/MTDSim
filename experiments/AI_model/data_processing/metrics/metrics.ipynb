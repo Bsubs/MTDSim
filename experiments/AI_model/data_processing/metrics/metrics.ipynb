{
 "cells": [
  {
   "cell_type": "code",
   "execution_count": 59,
   "metadata": {},
   "outputs": [],
   "source": [
    "import pandas as pd\n",
    "import matplotlib.pyplot as plt\n",
    "import json\n",
    "import ast\n"
   ]
  },
  {
   "cell_type": "code",
   "execution_count": 60,
   "metadata": {},
   "outputs": [],
   "source": [
    "f = open(\"simulation_metrics.log\", \"r\")"
   ]
  },
  {
   "cell_type": "code",
   "execution_count": 61,
   "metadata": {},
   "outputs": [],
   "source": [
    "def pad_arrays_in_dict(dictionary, length):\n",
    "    for key, value in dictionary.items():\n",
    "        if isinstance(value, list):\n",
    "            # Pad the list to the specified length\n",
    "            dictionary[key] = value + [None] * (length - len(value))\n",
    "    return dictionary"
   ]
  },
  {
   "cell_type": "code",
   "execution_count": 62,
   "metadata": {},
   "outputs": [],
   "source": [
    "import csv\n",
    "import re\n",
    "\n",
    "def process_data_to_csv(input_file_path, output_file_path):\n",
    "    with open(input_file_path, 'r') as input_file:\n",
    "        data = input_file.read()\n",
    "    \n",
    "    # Initialize CSV file with headers\n",
    "    with open(output_file_path, mode='w', newline='') as csv_file:\n",
    "        csv_writer = csv.writer(csv_file)\n",
    "        csv_writer.writerow([\"curr_attack\", \"mtd_freq\", \"compromised_num\", \"interrupted\", \"mtd\", \"roa\", \"impact\", \"complexity\", \"total had os dependency\"])\n",
    "\n",
    "        # Split the data into blocks for each STATS section\n",
    "        blocks = data.split(\"STATS BEFORE MTD OPERATION\")[1:]\n",
    "        \n",
    "        for block in blocks:\n",
    "            lines = block.strip().split(\"\\n\")\n",
    "            curr_attack = re.search(r\"Current Attack: (.+)\", lines[0]).group(1)\n",
    "            mtd_freq = re.search(r\"MTD Frequency: (.+)\", lines[1]).group(1)\n",
    "            compromised_num = re.search(r\"Compromised Number: (.+)\", lines[2]).group(1)\n",
    "            interrupted = \"Interrupted\" in block\n",
    "            mtd = re.search(r\"MTD: (\\w+)\", lines[3]).group(1)\n",
    " \n",
    "            # Pre-process Host Compromises dictionary\n",
    "            vuln_exploit_dict = ast.literal_eval(re.search(r\"Vulnerabilities Exploited: ({.*})\", lines[7]).group(1))\n",
    "            max_length = max(len(arr) for arr in vuln_exploit_dict.values() if isinstance(arr, list))\n",
    "            padded_dict = pad_arrays_in_dict(vuln_exploit_dict , max_length)\n",
    "            vuln_exploit = pd.DataFrame(padded_dict)\n",
    "\n",
    "            \n",
    "            if not vuln_exploit.empty:\n",
    "                roa = vuln_exploit['roa'].mean()\n",
    "                impact = vuln_exploit['impact'].mean()\n",
    "                complexity = vuln_exploit['complexity'].mean()\n",
    "                total_os_dependency = vuln_exploit['total had os dependency'].mean()\n",
    "            else:\n",
    "                roa = 0\n",
    "                impact = 0\n",
    "                complexity = 9\n",
    "                total_os_dependency = 0\n",
    "\n",
    "\n",
    "            # Write the extracted data to the CSV\n",
    "            csv_writer.writerow([curr_attack, mtd_freq, compromised_num, interrupted, mtd, roa, impact, complexity, total_os_dependency])\n",
    "\n",
    "# Example usage\n",
    "input_file_path = 'simulation_metrics.log'\n",
    "output_file_path = 'simulation_metrics.csv'\n",
    "process_data_to_csv(input_file_path, output_file_path)\n"
   ]
  },
  {
   "attachments": {},
   "cell_type": "markdown",
   "metadata": {},
   "source": []
  },
  {
   "cell_type": "code",
   "execution_count": null,
   "metadata": {},
   "outputs": [],
   "source": []
  }
 ],
 "metadata": {
  "kernelspec": {
   "display_name": "base",
   "language": "python",
   "name": "python3"
  },
  "language_info": {
   "codemirror_mode": {
    "name": "ipython",
    "version": 3
   },
   "file_extension": ".py",
   "mimetype": "text/x-python",
   "name": "python",
   "nbconvert_exporter": "python",
   "pygments_lexer": "ipython3",
   "version": "3.11.8"
  },
  "orig_nbformat": 4
 },
 "nbformat": 4,
 "nbformat_minor": 2
}
