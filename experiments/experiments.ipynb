{
 "cells": [
  {
   "cell_type": "code",
   "execution_count": 10,
   "metadata": {},
   "outputs": [],
   "source": [
    "import os\n",
    "import sys\n",
    "current_directory = os.getcwd()\n",
    "if not os.path.exists(current_directory + '\\\\experimental_data'):\n",
    "    os.makedirs(current_directory + '\\\\experimental_data')\n",
    "    os.makedirs(current_directory + '\\\\experimental_data\\\\plots')\n",
    "    os.makedirs(current_directory + '\\\\experimental_data\\\\results')\n",
    "sys.path.append(current_directory.replace('experiments', ''))\n",
    "import warnings\n",
    "import matplotlib.pyplot as plt\n",
    "# warnings.filterwarnings(\"ignore\")\n",
    "plt.set_loglevel('WARNING')\n",
    "from run import execute_simulation, create_experiment_snapshots, execute_ai_model, single_mtd_simulation, mtd_ai_simulation, multiple_mtd_simulation, specific_multiple_mtd_simulation\n",
    "from mtdnetwork.mtd.completetopologyshuffle import CompleteTopologyShuffle\n",
    "from mtdnetwork.mtd.ipshuffle import IPShuffle\n",
    "from mtdnetwork.mtd.hosttopologyshuffle import HostTopologyShuffle\n",
    "from mtdnetwork.mtd.portshuffle import PortShuffle\n",
    "from mtdnetwork.mtd.osdiversity import OSDiversity\n",
    "from mtdnetwork.mtd.servicediversity import ServiceDiversity\n",
    "from mtdnetwork.mtd.usershuffle import UserShuffle\n",
    "from mtdnetwork.mtd.osdiversityassignment import OSDiversityAssignment\n",
    "import logging\n",
    "import pandas as pd\n",
    "import numpy as np\n",
    "from math import pi\n",
    "import matplotlib.pyplot as plt\n",
    "import matplotlib.cm as cm\n",
    "\n",
    "logging.basicConfig(format='%(message)s', level=logging.INFO)\n",
    "\n",
    "# import absl.logging\n",
    "# absl.logging.set_verbosity(absl.logging.FATAL)\n",
    "\n",
    "import concurrent.futures"
   ]
  },
  {
   "cell_type": "code",
   "execution_count": 11,
   "metadata": {},
   "outputs": [],
   "source": [
    "# Learning Parameters\n",
    "epsilon = 1.0  # exploration rate\n",
    "\n",
    "# Simulator Settings\n",
    "start_time = 0\n",
    "finish_time = 15000\n",
    "mtd_interval = [200]\n",
    "network_size = [150]\n",
    "total_nodes = 150\n",
    "new_network = True\n",
    "\n",
    "trial = 100\n",
    "\n",
    "mtd_strategies = [\n",
    "    CompleteTopologyShuffle,\n",
    "    # HostTopologyShuffle,\n",
    "    IPShuffle,\n",
    "    OSDiversity,\n",
    "    # PortShuffle,\n",
    "    # OSDiversityAssignment,\n",
    "    ServiceDiversity,\n",
    "    # UserShuffle\n",
    "]\n",
    "\n",
    "result_head_path = ''"
   ]
  },
  {
   "cell_type": "code",
   "execution_count": 12,
   "metadata": {},
   "outputs": [],
   "source": [
    "class Experiment:\n",
    "    def __init__(self, epsilon, start_time, finish_time, mtd_interval, network_size,total_nodes, new_network, model, trial, result_head_path, file_name=None, attacker_sensitivity=1):\n",
    "        # Learning Parameters\n",
    "        self.epsilon = epsilon  # exploration rate\n",
    "\n",
    "        # Simulator Settings\n",
    "        self.start_time = start_time\n",
    "        self.finish_time = finish_time\n",
    "        self.schemes = [ 'mtd_ai', 'simultaneous', 'random', 'alternative']\n",
    "        self.total_nodes = total_nodes\n",
    "        self.new_network = new_network\n",
    "        self.model = model\n",
    "        self.trial = trial\n",
    "        self.model_path = f\"AI_model/main_network_{model}.h5\"\n",
    "        self.mtd_strategies = [\n",
    "            CompleteTopologyShuffle,\n",
    "            # HostTopologyShuffle,\n",
    "            IPShuffle,\n",
    "            OSDiversity,\n",
    "            # PortShuffle,\n",
    "            # OSDiversityAssignment,\n",
    "            ServiceDiversity,\n",
    "            # UserShuffle\n",
    "        ]\n",
    "        self.mtd_interval = mtd_interval\n",
    "        self.network_size = network_size\n",
    "        self.result_head_path = result_head_path\n",
    "        self.attacker_sensitivity = attacker_sensitivity\n",
    "\n",
    "        if file_name is not None:\n",
    "            self.file_name = file_name\n",
    "        else:\n",
    "            self.file_name = self.model\n",
    "\n",
    "\n",
    "    def run_trials(self, scheme):\n",
    "        with concurrent.futures.ProcessPoolExecutor() as executor:\n",
    "            futures = []\n",
    "\n",
    "            for i in range(self.trial):\n",
    "                if i % 10 == 0:\n",
    "                    print(\"Trial_\", i)\n",
    "\n",
    "                if scheme == 'nomtd':\n",
    "                    # mtd = single_mtd_simulation(\"nomtd\", [None], \n",
    "                    #                                             mtd_interval=self.mtd_interval,network_size=self.network_size) \n",
    "                    futures.append(executor.submit(single_mtd_simulation, \"nomtd\", [None], \n",
    "                                                                mtd_interval=self.mtd_interval,network_size=self.network_size))\n",
    "                elif scheme == 'mtd_ai':\n",
    "                    # try:\n",
    "                    #     mtd = mtd_ai_simulation(self.model, self.model_path, start_time, finish_time, total_nodes, new_network = new_network, \n",
    "                    #                                              mtd_interval=self.mtd_interval,network_size=self.network_size )  \n",
    "                    # except:\n",
    "                    #     continue\n",
    "                    # mtd = mtd_ai_simulation(self.file_name, self.model_path, start_time, finish_time, total_nodes, new_network = new_network, \n",
    "                    #                             mtd_interval=self.mtd_interval,network_size=self.network_size, attacker_sensitivity=self.attacker_sensitivity)\n",
    "                    futures.append(executor.submit(mtd_ai_simulation, self.file_name, self.model_path, start_time, finish_time, total_nodes, \n",
    "                                           new_network, self.mtd_interval, self.network_size, self.attacker_sensitivity))    \n",
    "                else:\n",
    "                    futures.append(executor.submit(specific_multiple_mtd_simulation, scheme, self.mtd_strategies, scheme, mtd_interval=self.mtd_interval,network_size=self.network_size))\n",
    "                    # mtd = specific_multiple_mtd_simulation(scheme, self.mtd_strategies, scheme, mtd_interval=self.mtd_interval,network_size=self.network_size)\n",
    "\n",
    "    \n",
    "    def get_result(self, path, scheme):\n",
    "        csv_path = f'experimental_data/results/{path}.csv'\n",
    "        df = pd.read_csv(csv_path)\n",
    "        return df\n",
    "    \n",
    "    def get_result_checkpoint_median(self, scheme, data, checkpoints = 9):\n",
    "        df = self.get_result(data, scheme).drop('Name', axis = 1)\n",
    "        df['group'] = df.index // checkpoints\n",
    "        # Group by the new column and calculate median\n",
    "        df = df.groupby('group').median().reset_index(drop=True)\n",
    "        # Drop the 'group' column if you don't need it in the result\n",
    "        df = df.drop(columns='group', errors='ignore')\n",
    "        return df\n",
    "\n",
    "    def get_result_stats(self, checkpoint_medians,stats_type = 'median'):\n",
    "        if stats_type == 'median':\n",
    "            return checkpoint_medians.median()\n",
    "        return checkpoint_medians.std()\n",
    "    \n",
    "    def raw_result_stats_pipeline(self, scheme, data, run_trial = False, stats_type = 'median', checkpoints = 9):\n",
    "        if run_trial:\n",
    "            self.run_trials(scheme)\n",
    "        checkpoint_medians = self.get_result_checkpoint_median(scheme, data, checkpoints)\n",
    "        result = self.get_result_stats(checkpoint_medians, stats_type = stats_type)\n",
    "        return result\n",
    "        \n",
    "    def scale_metrics(self, metrics_dict, normalization_dict):\n",
    "        # Define which metrics should be maximized and which should be minimized\n",
    "        metrics_to_maximize = {\"time_to_compromise\"}  \n",
    "        metrics_to_minimize = {'host_compromise_ratio', 'attack_path_exposure', 'ASR', 'ROA', 'exposed_endpoints', \"risk\"}  \n",
    "\n",
    "        scaled_metrics = {}\n",
    "\n",
    "        for key, value in metrics_dict.items():\n",
    "            if key in normalization_dict:\n",
    "                norm_value = normalization_dict[key]\n",
    "\n",
    "                if norm_value != 0:\n",
    "                    if key in metrics_to_maximize:\n",
    "                        # Normalize by dividing the metric value by the normalization value\n",
    "                        scaled_metrics[key] = value / norm_value\n",
    "                    elif key in metrics_to_minimize:\n",
    "                        # Inverse the ratio for metrics to be minimized\n",
    "                        scaled_metrics[key] = norm_value / value\n",
    "                    else:\n",
    "                        # Handle cases where the metric is not in either category\n",
    "                        scaled_metrics[key] = value / norm_value\n",
    "                else:\n",
    "                    # Handle the case where norm_value is zero\n",
    "                    scaled_metrics[key] = 1  # Or any other placeholder value as needed\n",
    "            else:\n",
    "                # Handle cases where normalization value is not defined\n",
    "                scaled_metrics[key] = value  # Or handle differently as needed\n",
    "        return scaled_metrics\n",
    "\n",
    "    def scaled_pipeline(self, scheme, data, run_trial = False, stats_type = 'median'):\n",
    "        nomtd_result = self.raw_result_stats_pipeline('nomtd', 'nomtd', run_trial, stats_type)\n",
    "        scheme_result = self.raw_result_stats_pipeline(scheme, data, run_trial, stats_type)\n",
    "        scaled_scheme_result = self.scale_metrics(scheme_result.to_dict(), nomtd_result.to_dict())\n",
    "        return {scheme:scaled_scheme_result}\n",
    "    \n",
    "    def multiple_scaled_pipeline(self, schemes, data_name, run_trial = False, stats_type = 'median'):\n",
    "        multi_schemes = {}\n",
    "        nomtd_result = self.raw_result_stats_pipeline('nomtd', 'nomtd', run_trial, stats_type)\n",
    "        for scheme, data in zip(schemes, data_name):\n",
    "            scheme_result = self.raw_result_stats_pipeline(scheme, data, run_trial, stats_type)\n",
    "            scaled_scheme_result = self.scale_metrics(scheme_result.to_dict(), nomtd_result.to_dict())\n",
    "\n",
    "            multi_schemes[scheme] = scaled_scheme_result\n",
    "        return multi_schemes\n"
   ]
  },
  {
   "cell_type": "code",
   "execution_count": 13,
   "metadata": {},
   "outputs": [],
   "source": [
    "import numpy as np\n",
    "import matplotlib.pyplot as plt\n",
    "from matplotlib.patches import Patch\n",
    "\n",
    "class RadarPlot(Experiment):\n",
    "    def __init__(self, epsilon, start_time, finish_time, mtd_interval, network_size, total_nodes, new_network, model, trial, result_head_path):\n",
    "        super().__init__(epsilon, start_time, finish_time, mtd_interval, network_size, total_nodes, new_network, model, trial, result_head_path)\n",
    "\n",
    "    def calculate_area(self, values):\n",
    "        \"\"\"\n",
    "        Calculate the area of the radar chart plot using the Shoelace theorem.\n",
    "        \"\"\"\n",
    "        # Ensure that the polygon is closed by repeating the first value at the end\n",
    "        values = np.array(values)\n",
    "        x = values * np.cos(np.linspace(0, 2 * np.pi, len(values), endpoint=False))\n",
    "        y = values * np.sin(np.linspace(0, 2 * np.pi, len(values), endpoint=False))\n",
    "        \n",
    "        # Calculate area using Shoelace theorem\n",
    "        area = 0.5 * np.abs(np.dot(x, np.roll(y, 1)) - np.dot(y, np.roll(x, 1)))\n",
    "        \n",
    "        return area\n",
    "\n",
    "    def plot_n_schemes(self, schemes_data, show_labels=True):\n",
    "        \"\"\"\n",
    "        Plots multiple schemes on a radar chart with a maximum cap of 100 on the values and specific metrics removed, using pastel colors.\n",
    "        \n",
    "        :param schemes_data: A dictionary where keys are scheme names and values are dictionaries of metrics.\n",
    "        :param show_labels: Boolean to determine whether or not to display the score labels on the polygons.\n",
    "        \"\"\"\n",
    "        # Metrics to exclude from the plot\n",
    "        metrics_to_exclude = {'network_size', 'exposed_endpoints', 'mtd_interval', 'MEF', 'shortest_path_variability', 'host_compromise_ratio'}\n",
    "\n",
    "        # Mapping of current metric names to their display labels\n",
    "        metric_labels_mapping = {\n",
    "            'attack_path_exposure': 'Attack Path Exposure',\n",
    "            'time_to_compromise': 'Time to Compromise',\n",
    "            'ROA': 'ROA',\n",
    "            'ASR': 'ASR',\n",
    "            'risk': 'Risk'\n",
    "        }\n",
    "\n",
    "        scheme_names = list(schemes_data.keys())\n",
    "        first_scheme = schemes_data[scheme_names[0]]\n",
    "\n",
    "        # Filter out excluded metrics and apply label mapping\n",
    "        labels = [metric_labels_mapping.get(label, label) for label in first_scheme.keys() if label not in metrics_to_exclude]\n",
    "        num_vars = len(labels)\n",
    "\n",
    "        # Compute angle for each axis\n",
    "        angles = np.linspace(0, 2 * np.pi, num_vars, endpoint=False).tolist()\n",
    "        angles += angles[:1]  # Complete the circle\n",
    "\n",
    "        fig, ax = plt.subplots(figsize=(8, 8), subplot_kw=dict(polar=True))\n",
    "\n",
    "        # Use pastel colormap for colors\n",
    "        colors = plt.cm.Pastel1.colors\n",
    "        legend_patches = []\n",
    "\n",
    "        # Keep track of areas for legend\n",
    "        areas = []\n",
    "\n",
    "        for i, scheme_name in enumerate(scheme_names):\n",
    "            metrics_values = schemes_data[scheme_name]\n",
    "            \n",
    "            # Filter out values corresponding to excluded metrics\n",
    "            filtered_values = {k: v for k, v in metrics_values.items() if k not in metrics_to_exclude}\n",
    "            \n",
    "            # Cap the values at 100\n",
    "            values = np.array(list(filtered_values.values()))\n",
    "            values = np.minimum(values, 100)  # Cap the values at 100\n",
    "            \n",
    "            # Close the circle by appending the first value again\n",
    "            closed_values = values.tolist()\n",
    "            closed_values += closed_values[:1]  # Close the circle\n",
    "\n",
    "            # Calculate area of the scheme's radar plot using only the original values, not the closed circle\n",
    "            area = self.calculate_area(values)\n",
    "            areas.append(area)  # Store area for later use in the legend\n",
    "\n",
    "            # Plot data with pastel colors\n",
    "            ax.fill(angles, closed_values, color=colors[i % len(colors)], alpha=0.5)\n",
    "            ax.plot(angles, closed_values, color=colors[i % len(colors)], linewidth=2, label=f'{scheme_name} (Area: {area:.2f})')\n",
    "\n",
    "            # Add score labels if show_labels is True\n",
    "            if show_labels:\n",
    "                for j in range(num_vars):\n",
    "                    angle = angles[j]\n",
    "                    value = closed_values[j]\n",
    "                    ax.text(angle, value + 0.05, f'{value:.2f}', horizontalalignment='center', size=10, color='black')\n",
    "\n",
    "        # Add labels\n",
    "        ax.set_yticklabels([])\n",
    "        ax.set_xticks(angles[:-1])\n",
    "        ax.set_xticklabels(labels, rotation=45, ha='right')\n",
    "\n",
    "        # Create legend using pre-calculated areas\n",
    "        legend_patches = [Patch(color=colors[i % len(colors)], label=f'{scheme_names[i]} (Area: {areas[i]:.2f})') for i in range(len(scheme_names))]\n",
    "        plt.legend(handles=legend_patches, loc='upper right', bbox_to_anchor=(1.1, 1.1))\n",
    "\n",
    "        plt.show()\n"
   ]
  },
  {
   "cell_type": "code",
   "execution_count": 14,
   "metadata": {},
   "outputs": [],
   "source": [
    "def plot_metrics_grid(data_sets, metrics):\n",
    "    if len(metrics) != 5:\n",
    "        print(\"Please provide exactly 5 metrics.\")\n",
    "        return\n",
    "    \n",
    "    # Create a 2x3 grid of subplots (2 rows, 3 columns)\n",
    "    fig, axs = plt.subplots(2, 3, figsize=(15, 10))\n",
    "    \n",
    "    # Define pastel colors for the bars\n",
    "    pastel_colors = ['#FFB3BA', '#FFDFBA', '#FFFFBA', '#BAFFC9', '#BAE1FF']\n",
    "    \n",
    "    # Flatten the axes array for easy iteration\n",
    "    axs = axs.flatten()\n",
    "    \n",
    "    # Plot each metric in a separate subplot\n",
    "    for i, metric in enumerate(metrics):\n",
    "        metric_values = []\n",
    "        for j, parameter_set in enumerate(data_sets):\n",
    "            try:\n",
    "                value = parameter_set['mtdai'][metric]\n",
    "                metric_values.append(value)\n",
    "            except KeyError:\n",
    "                print(f\"Metric '{metric}' not found in parameter_set_{j+1}\")\n",
    "                metric_values.append(None)\n",
    "        \n",
    "        # Update labels to remove 'parameter_' prefix\n",
    "        labels = [f'set_{k+1}' for k in range(len(data_sets))]\n",
    "        colors = pastel_colors[:len(data_sets)]\n",
    "        \n",
    "        # Create the bar plot for the current metric\n",
    "        bars = axs[i].bar(labels, metric_values, color=colors)\n",
    "        \n",
    "        # Set the title, labels, and rotate the x-axis labels\n",
    "        axs[i].set_title(f'{metric}')\n",
    "        axs[i].set_xlabel('Parameter Set')\n",
    "        axs[i].set_ylabel(f'{metric}')\n",
    "        axs[i].tick_params(axis='x', rotation=45)\n",
    "        \n",
    "        # Add labels on top of each bar\n",
    "        for bar in bars:\n",
    "            yval = bar.get_height()\n",
    "            axs[i].text(bar.get_x() + bar.get_width()/2, yval, round(yval, 2), \n",
    "                        ha='center', va='bottom')\n",
    "    \n",
    "    # Hide the unused 6th subplot if only plotting 5 metrics\n",
    "    axs[5].axis('off')\n",
    "    \n",
    "    # Adjust layout\n",
    "    plt.tight_layout()\n",
    "    \n",
    "    # Display the plot\n",
    "    plt.show()"
   ]
  },
  {
   "cell_type": "code",
   "execution_count": 15,
   "metadata": {},
   "outputs": [],
   "source": [
    "def create_stacked_bar_chart(schemes_data):\n",
    "    # Metrics to exclude from the plot\n",
    "    metrics_to_exclude = {'network_size', 'exposed_endpoints', 'mtd_interval', 'MEF', 'shortest_path_variability', 'host_compromise_ratio'}\n",
    "\n",
    "    # Mapping of current metric names to their display labels\n",
    "    metric_labels_mapping = {\n",
    "        'attack_path_exposure': 'Attack Path Exposure',\n",
    "        'time_to_compromise': 'Time to Compromise',\n",
    "        'ROA': 'ROA',\n",
    "        'ASR': 'ASR',\n",
    "        'risk': 'Risk'\n",
    "    }\n",
    "\n",
    "    # Extract parameter names (keys) and values for each parameter set, excluding the metrics in `metrics_to_exclude`\n",
    "    parameter_sets = list(schemes_data.keys())\n",
    "    parameters = [p for p in schemes_data[parameter_sets[0]].keys() if p not in metrics_to_exclude]\n",
    "    \n",
    "    # Map parameters to their display names\n",
    "    display_parameters = [metric_labels_mapping[p] for p in parameters]\n",
    "\n",
    "    # Prepare the data for plotting\n",
    "    parameter_values = np.array([[schemes_data[ps][p] for p in parameters] for ps in parameter_sets])\n",
    "\n",
    "    # Set the pastel color map\n",
    "    pastel_colors = cm.get_cmap('Pastel1', len(display_parameters))\n",
    "\n",
    "    # Create figure and axis\n",
    "    fig, ax = plt.subplots(figsize=(8, 6))\n",
    "\n",
    "    # Plot the bars and add value labels\n",
    "    for i, parameter in enumerate(display_parameters):\n",
    "        bars = ax.bar(parameter_sets, parameter_values[:, i], label=parameter, color=pastel_colors(i), \n",
    "                      bottom=parameter_values[:, :i].sum(axis=1))\n",
    "\n",
    "        # Add value labels in the middle of each segment\n",
    "        for bar in bars:\n",
    "            height = bar.get_height()\n",
    "            bottom = bar.get_y()\n",
    "            ax.text(bar.get_x() + bar.get_width() / 2, bottom + height / 2, f'{height:.2f}', ha='center', va='center', fontsize=8)\n",
    "\n",
    "    # Add total values on top of each bar\n",
    "    total_values = parameter_values.sum(axis=1)\n",
    "    for idx, rect in enumerate(ax.patches[:len(parameter_sets)]):\n",
    "        ax.text(rect.get_x() + rect.get_width() / 2, total_values[idx] + 0.05, f'{total_values[idx]:.2f}', \n",
    "                ha='center', va='bottom', fontsize=10, fontweight='bold')\n",
    "\n",
    "    # Add labels and title\n",
    "    ax.set_ylabel('Values')\n",
    "    # ax.set_title('Stacked Bar Chart with Values and Totals')\n",
    "\n",
    "    # Rotate x-axis labels for better readability\n",
    "    plt.xticks(rotation=45, ha='right')\n",
    "\n",
    "    # Adjust layout to ensure everything fits\n",
    "    plt.tight_layout()\n",
    "\n",
    "    # Show plot\n",
    "    plt.show()"
   ]
  },
  {
   "cell_type": "code",
   "execution_count": null,
   "metadata": {},
   "outputs": [],
   "source": [
    "import tensorflow as tf\n",
    "gamma_vals = [0.5, 0.6, 0.7, 0.75, 0.8, 0.85, 0.9, 0.95, 0.98, 0.99]\n",
    "ids_sensitivity = [1]\n",
    "tf.config.set_visible_devices([], 'GPU')\n",
    "\n",
    "for gamma in gamma_vals:\n",
    "    mod = f\"gamma_{gamma}\"\n",
    "    print(f\"Running experiments for model {mod}\")\n",
    "    result = Experiment(epsilon=epsilon, \n",
    "                    start_time=start_time, \n",
    "                    finish_time=finish_time, \n",
    "                    mtd_interval=mtd_interval, \n",
    "                    network_size=network_size,\n",
    "                    total_nodes=total_nodes, \n",
    "                    new_network=new_network, \n",
    "                    model=mod, \n",
    "                    trial=trial, \n",
    "                    result_head_path=result_head_path, \n",
    "                    file_name=mod, \n",
    "                    attacker_sensitivity=1)\n",
    "    result.run_trials('mtd_ai')"
   ]
  },
  {
   "cell_type": "code",
   "execution_count": 16,
   "metadata": {},
   "outputs": [
    {
     "name": "stdout",
     "output_type": "stream",
     "text": [
      "Running experiments for model epsilon_0.5_decay_0.98\n",
      "Trial_ 0\n",
      "Trial_ 10\n",
      "Trial_ 20\n",
      "Trial_ 30\n",
      "Trial_ 40\n",
      "Trial_ 50\n",
      "Trial_ 60\n",
      "Trial_ 70\n",
      "Trial_ 80\n",
      "Trial_ 90\n"
     ]
    },
    {
     "name": "stderr",
     "output_type": "stream",
     "text": [
      "Compiled the loaded model, but the compiled metrics have yet to be built. `model.compile_metrics` will be empty until you train or evaluate the model.\n",
      "Compiled the loaded model, but the compiled metrics have yet to be built. `model.compile_metrics` will be empty until you train or evaluate the model.\n",
      "Compiled the loaded model, but the compiled metrics have yet to be built. `model.compile_metrics` will be empty until you train or evaluate the model.\n",
      "Compiled the loaded model, but the compiled metrics have yet to be built. `model.compile_metrics` will be empty until you train or evaluate the model.\n",
      "Compiled the loaded model, but the compiled metrics have yet to be built. `model.compile_metrics` will be empty until you train or evaluate the model.\n",
      "Compiled the loaded model, but the compiled metrics have yet to be built. `model.compile_metrics` will be empty until you train or evaluate the model.\n",
      "Compiled the loaded model, but the compiled metrics have yet to be built. `model.compile_metrics` will be empty until you train or evaluate the model.\n",
      "Compiled the loaded model, but the compiled metrics have yet to be built. `model.compile_metrics` will be empty until you train or evaluate the model.\n",
      "Compiled the loaded model, but the compiled metrics have yet to be built. `model.compile_metrics` will be empty until you train or evaluate the model.\n",
      "Compiled the loaded model, but the compiled metrics have yet to be built. `model.compile_metrics` will be empty until you train or evaluate the model.\n",
      "Compiled the loaded model, but the compiled metrics have yet to be built. `model.compile_metrics` will be empty until you train or evaluate the model.\n",
      "Compiled the loaded model, but the compiled metrics have yet to be built. `model.compile_metrics` will be empty until you train or evaluate the model.\n",
      "Compiled the loaded model, but the compiled metrics have yet to be built. `model.compile_metrics` will be empty until you train or evaluate the model.\n",
      "Compiled the loaded model, but the compiled metrics have yet to be built. `model.compile_metrics` will be empty until you train or evaluate the model.\n",
      "Compiled the loaded model, but the compiled metrics have yet to be built. `model.compile_metrics` will be empty until you train or evaluate the model.\n",
      "Compiled the loaded model, but the compiled metrics have yet to be built. `model.compile_metrics` will be empty until you train or evaluate the model.\n",
      "Compiled the loaded model, but the compiled metrics have yet to be built. `model.compile_metrics` will be empty until you train or evaluate the model.\n",
      "Compiled the loaded model, but the compiled metrics have yet to be built. `model.compile_metrics` will be empty until you train or evaluate the model.\n",
      "Compiled the loaded model, but the compiled metrics have yet to be built. `model.compile_metrics` will be empty until you train or evaluate the model.\n",
      "Compiled the loaded model, but the compiled metrics have yet to be built. `model.compile_metrics` will be empty until you train or evaluate the model.\n",
      "Compiled the loaded model, but the compiled metrics have yet to be built. `model.compile_metrics` will be empty until you train or evaluate the model.\n",
      "Compiled the loaded model, but the compiled metrics have yet to be built. `model.compile_metrics` will be empty until you train or evaluate the model.\n",
      "Compiled the loaded model, but the compiled metrics have yet to be built. `model.compile_metrics` will be empty until you train or evaluate the model.\n",
      "Compiled the loaded model, but the compiled metrics have yet to be built. `model.compile_metrics` will be empty until you train or evaluate the model.\n"
     ]
    },
    {
     "name": "stdout",
     "output_type": "stream",
     "text": [
      "{'CompleteTopologyShuffle': 12, 'IPShuffle': 12, 'OSDiversity': 12, 'ServiceDiversity': 8}\n",
      "Saving evaluation results to /home/22489437/Documents/GitHub/MTDSim/experiments/experimental_data/results/epsilon_0.5_decay_0.98.csv\n"
     ]
    },
    {
     "name": "stderr",
     "output_type": "stream",
     "text": [
      "Compiled the loaded model, but the compiled metrics have yet to be built. `model.compile_metrics` will be empty until you train or evaluate the model.\n"
     ]
    },
    {
     "name": "stdout",
     "output_type": "stream",
     "text": [
      "{'CompleteTopologyShuffle': 18, 'IPShuffle': 12, 'OSDiversity': 2, 'ServiceDiversity': 10}\n",
      "Saving evaluation results to /home/22489437/Documents/GitHub/MTDSim/experiments/experimental_data/results/epsilon_0.5_decay_0.98.csv\n"
     ]
    },
    {
     "name": "stderr",
     "output_type": "stream",
     "text": [
      "Compiled the loaded model, but the compiled metrics have yet to be built. `model.compile_metrics` will be empty until you train or evaluate the model.\n"
     ]
    },
    {
     "name": "stdout",
     "output_type": "stream",
     "text": [
      "{'CompleteTopologyShuffle': 18, 'IPShuffle': 8, 'OSDiversity': 8, 'ServiceDiversity': 6}\n",
      "Saving evaluation results to /home/22489437/Documents/GitHub/MTDSim/experiments/experimental_data/results/epsilon_0.5_decay_0.98.csv\n"
     ]
    },
    {
     "name": "stderr",
     "output_type": "stream",
     "text": [
      "Compiled the loaded model, but the compiled metrics have yet to be built. `model.compile_metrics` will be empty until you train or evaluate the model.\n"
     ]
    },
    {
     "name": "stdout",
     "output_type": "stream",
     "text": [
      "{'CompleteTopologyShuffle': 10, 'IPShuffle': 14, 'OSDiversity': 8, 'ServiceDiversity': 4}\n",
      "Saving evaluation results to /home/22489437/Documents/GitHub/MTDSim/experiments/experimental_data/results/epsilon_0.5_decay_0.98.csv\n"
     ]
    },
    {
     "name": "stderr",
     "output_type": "stream",
     "text": [
      "Compiled the loaded model, but the compiled metrics have yet to be built. `model.compile_metrics` will be empty until you train or evaluate the model.\n"
     ]
    },
    {
     "name": "stdout",
     "output_type": "stream",
     "text": [
      "{'CompleteTopologyShuffle': 10, 'IPShuffle': 12, 'OSDiversity': 10, 'ServiceDiversity': 10}\n",
      "Saving evaluation results to /home/22489437/Documents/GitHub/MTDSim/experiments/experimental_data/results/epsilon_0.5_decay_0.98.csv\n"
     ]
    },
    {
     "name": "stderr",
     "output_type": "stream",
     "text": [
      "Compiled the loaded model, but the compiled metrics have yet to be built. `model.compile_metrics` will be empty until you train or evaluate the model.\n"
     ]
    },
    {
     "name": "stdout",
     "output_type": "stream",
     "text": [
      "{'CompleteTopologyShuffle': 8, 'IPShuffle': 10, 'OSDiversity': 8, 'ServiceDiversity': 10}\n",
      "{'CompleteTopologyShuffle': 12, 'IPShuffle': 12, 'OSDiversity': 6, 'ServiceDiversity': 8}\n",
      "Saving evaluation results to /home/22489437/Documents/GitHub/MTDSim/experiments/experimental_data/results/epsilon_0.5_decay_0.98.csv\n",
      "Saving evaluation results to /home/22489437/Documents/GitHub/MTDSim/experiments/experimental_data/results/epsilon_0.5_decay_0.98.csv\n"
     ]
    },
    {
     "name": "stderr",
     "output_type": "stream",
     "text": [
      "Compiled the loaded model, but the compiled metrics have yet to be built. `model.compile_metrics` will be empty until you train or evaluate the model.\n",
      "Compiled the loaded model, but the compiled metrics have yet to be built. `model.compile_metrics` will be empty until you train or evaluate the model.\n"
     ]
    },
    {
     "name": "stdout",
     "output_type": "stream",
     "text": [
      "{'CompleteTopologyShuffle': 18, 'IPShuffle': 12, 'OSDiversity': 10, 'ServiceDiversity': 4}\n",
      "Saving evaluation results to /home/22489437/Documents/GitHub/MTDSim/experiments/experimental_data/results/epsilon_0.5_decay_0.98.csv\n"
     ]
    },
    {
     "name": "stderr",
     "output_type": "stream",
     "text": [
      "Compiled the loaded model, but the compiled metrics have yet to be built. `model.compile_metrics` will be empty until you train or evaluate the model.\n"
     ]
    },
    {
     "name": "stdout",
     "output_type": "stream",
     "text": [
      "{'CompleteTopologyShuffle': 12, 'IPShuffle': 4, 'OSDiversity': 8, 'ServiceDiversity': 16}\n",
      "Saving evaluation results to /home/22489437/Documents/GitHub/MTDSim/experiments/experimental_data/results/epsilon_0.5_decay_0.98.csv\n"
     ]
    },
    {
     "name": "stderr",
     "output_type": "stream",
     "text": [
      "Compiled the loaded model, but the compiled metrics have yet to be built. `model.compile_metrics` will be empty until you train or evaluate the model.\n"
     ]
    },
    {
     "name": "stdout",
     "output_type": "stream",
     "text": [
      "{'CompleteTopologyShuffle': 16, 'IPShuffle': 12, 'OSDiversity': 8, 'ServiceDiversity': 6}\n",
      "Saving evaluation results to /home/22489437/Documents/GitHub/MTDSim/experiments/experimental_data/results/epsilon_0.5_decay_0.98.csv\n",
      "{'CompleteTopologyShuffle': 10, 'IPShuffle': 10, 'OSDiversity': 12, 'ServiceDiversity': 10}\n",
      "{'CompleteTopologyShuffle': 12, 'IPShuffle': 4, 'OSDiversity': 12, 'ServiceDiversity': 12}\n"
     ]
    },
    {
     "name": "stderr",
     "output_type": "stream",
     "text": [
      "Compiled the loaded model, but the compiled metrics have yet to be built. `model.compile_metrics` will be empty until you train or evaluate the model.\n"
     ]
    },
    {
     "name": "stdout",
     "output_type": "stream",
     "text": [
      "Saving evaluation results to /home/22489437/Documents/GitHub/MTDSim/experiments/experimental_data/results/epsilon_0.5_decay_0.98.csv\n",
      "Saving evaluation results to /home/22489437/Documents/GitHub/MTDSim/experiments/experimental_data/results/epsilon_0.5_decay_0.98.csv\n",
      "{'CompleteTopologyShuffle': 6, 'IPShuffle': 4, 'OSDiversity': 14, 'ServiceDiversity': 12}\n"
     ]
    },
    {
     "name": "stderr",
     "output_type": "stream",
     "text": [
      "Compiled the loaded model, but the compiled metrics have yet to be built. `model.compile_metrics` will be empty until you train or evaluate the model.\n",
      "Compiled the loaded model, but the compiled metrics have yet to be built. `model.compile_metrics` will be empty until you train or evaluate the model.\n"
     ]
    },
    {
     "name": "stdout",
     "output_type": "stream",
     "text": [
      "Saving evaluation results to /home/22489437/Documents/GitHub/MTDSim/experiments/experimental_data/results/epsilon_0.5_decay_0.98.csv\n"
     ]
    },
    {
     "name": "stderr",
     "output_type": "stream",
     "text": [
      "Compiled the loaded model, but the compiled metrics have yet to be built. `model.compile_metrics` will be empty until you train or evaluate the model.\n"
     ]
    },
    {
     "name": "stdout",
     "output_type": "stream",
     "text": [
      "{'CompleteTopologyShuffle': 12, 'IPShuffle': 10, 'OSDiversity': 8, 'ServiceDiversity': 6}\n",
      "{'CompleteTopologyShuffle': 10, 'IPShuffle': 12, 'OSDiversity': 12, 'ServiceDiversity': 14}Saving evaluation results to /home/22489437/Documents/GitHub/MTDSim/experiments/experimental_data/results/epsilon_0.5_decay_0.98.csv\n",
      "\n"
     ]
    },
    {
     "name": "stderr",
     "output_type": "stream",
     "text": [
      "Compiled the loaded model, but the compiled metrics have yet to be built. `model.compile_metrics` will be empty until you train or evaluate the model.\n"
     ]
    },
    {
     "name": "stdout",
     "output_type": "stream",
     "text": [
      "Saving evaluation results to /home/22489437/Documents/GitHub/MTDSim/experiments/experimental_data/results/epsilon_0.5_decay_0.98.csv\n"
     ]
    },
    {
     "name": "stderr",
     "output_type": "stream",
     "text": [
      "Compiled the loaded model, but the compiled metrics have yet to be built. `model.compile_metrics` will be empty until you train or evaluate the model.\n"
     ]
    },
    {
     "name": "stdout",
     "output_type": "stream",
     "text": [
      "{'CompleteTopologyShuffle': 6, 'IPShuffle': 10, 'OSDiversity': 16, 'ServiceDiversity': 8}\n",
      "Saving evaluation results to /home/22489437/Documents/GitHub/MTDSim/experiments/experimental_data/results/epsilon_0.5_decay_0.98.csv\n"
     ]
    },
    {
     "name": "stderr",
     "output_type": "stream",
     "text": [
      "Compiled the loaded model, but the compiled metrics have yet to be built. `model.compile_metrics` will be empty until you train or evaluate the model.\n"
     ]
    },
    {
     "name": "stdout",
     "output_type": "stream",
     "text": [
      "{'CompleteTopologyShuffle': 14, 'IPShuffle': 8, 'OSDiversity': 12, 'ServiceDiversity': 6}\n",
      "Saving evaluation results to /home/22489437/Documents/GitHub/MTDSim/experiments/experimental_data/results/epsilon_0.5_decay_0.98.csv\n",
      "{'CompleteTopologyShuffle': 6, 'IPShuffle': 10, 'OSDiversity': 8, 'ServiceDiversity': 16}\n"
     ]
    },
    {
     "name": "stderr",
     "output_type": "stream",
     "text": [
      "Compiled the loaded model, but the compiled metrics have yet to be built. `model.compile_metrics` will be empty until you train or evaluate the model.\n"
     ]
    },
    {
     "name": "stdout",
     "output_type": "stream",
     "text": [
      "{'CompleteTopologyShuffle': 12, 'IPShuffle': 16, 'OSDiversity': 8, 'ServiceDiversity': 10}\n",
      "Saving evaluation results to /home/22489437/Documents/GitHub/MTDSim/experiments/experimental_data/results/epsilon_0.5_decay_0.98.csv\n",
      "Saving evaluation results to /home/22489437/Documents/GitHub/MTDSim/experiments/experimental_data/results/epsilon_0.5_decay_0.98.csv\n"
     ]
    },
    {
     "name": "stderr",
     "output_type": "stream",
     "text": [
      "Compiled the loaded model, but the compiled metrics have yet to be built. `model.compile_metrics` will be empty until you train or evaluate the model.\n",
      "Compiled the loaded model, but the compiled metrics have yet to be built. `model.compile_metrics` will be empty until you train or evaluate the model.\n"
     ]
    },
    {
     "name": "stdout",
     "output_type": "stream",
     "text": [
      "{'CompleteTopologyShuffle': 12, 'IPShuffle': 10, 'OSDiversity': 10, 'ServiceDiversity': 12}\n",
      "Saving evaluation results to /home/22489437/Documents/GitHub/MTDSim/experiments/experimental_data/results/epsilon_0.5_decay_0.98.csv\n"
     ]
    },
    {
     "name": "stderr",
     "output_type": "stream",
     "text": [
      "Compiled the loaded model, but the compiled metrics have yet to be built. `model.compile_metrics` will be empty until you train or evaluate the model.\n"
     ]
    },
    {
     "name": "stdout",
     "output_type": "stream",
     "text": [
      "{'CompleteTopologyShuffle': 8, 'IPShuffle': 8, 'OSDiversity': 14, 'ServiceDiversity': 12}\n",
      "Saving evaluation results to /home/22489437/Documents/GitHub/MTDSim/experiments/experimental_data/results/epsilon_0.5_decay_0.98.csv\n"
     ]
    },
    {
     "name": "stderr",
     "output_type": "stream",
     "text": [
      "Compiled the loaded model, but the compiled metrics have yet to be built. `model.compile_metrics` will be empty until you train or evaluate the model.\n"
     ]
    },
    {
     "name": "stdout",
     "output_type": "stream",
     "text": [
      "{'CompleteTopologyShuffle': 8, 'IPShuffle': 10, 'OSDiversity': 14, 'ServiceDiversity': 8}\n",
      "Saving evaluation results to /home/22489437/Documents/GitHub/MTDSim/experiments/experimental_data/results/epsilon_0.5_decay_0.98.csv\n"
     ]
    },
    {
     "name": "stderr",
     "output_type": "stream",
     "text": [
      "Compiled the loaded model, but the compiled metrics have yet to be built. `model.compile_metrics` will be empty until you train or evaluate the model.\n"
     ]
    },
    {
     "name": "stdout",
     "output_type": "stream",
     "text": [
      "{'CompleteTopologyShuffle': 12, 'IPShuffle': 12, 'OSDiversity': 4, 'ServiceDiversity': 14}\n",
      "Saving evaluation results to /home/22489437/Documents/GitHub/MTDSim/experiments/experimental_data/results/epsilon_0.5_decay_0.98.csv\n",
      "{'CompleteTopologyShuffle': 4, 'IPShuffle': 18, 'OSDiversity': 8, 'ServiceDiversity': 10}\n"
     ]
    },
    {
     "name": "stderr",
     "output_type": "stream",
     "text": [
      "Compiled the loaded model, but the compiled metrics have yet to be built. `model.compile_metrics` will be empty until you train or evaluate the model.\n"
     ]
    },
    {
     "name": "stdout",
     "output_type": "stream",
     "text": [
      "Saving evaluation results to /home/22489437/Documents/GitHub/MTDSim/experiments/experimental_data/results/epsilon_0.5_decay_0.98.csv\n"
     ]
    },
    {
     "name": "stderr",
     "output_type": "stream",
     "text": [
      "Compiled the loaded model, but the compiled metrics have yet to be built. `model.compile_metrics` will be empty until you train or evaluate the model.\n"
     ]
    },
    {
     "name": "stdout",
     "output_type": "stream",
     "text": [
      "{'CompleteTopologyShuffle': 12, 'IPShuffle': 4, 'OSDiversity': 12, 'ServiceDiversity': 10}\n",
      "Saving evaluation results to /home/22489437/Documents/GitHub/MTDSim/experiments/experimental_data/results/epsilon_0.5_decay_0.98.csv\n"
     ]
    },
    {
     "name": "stderr",
     "output_type": "stream",
     "text": [
      "Compiled the loaded model, but the compiled metrics have yet to be built. `model.compile_metrics` will be empty until you train or evaluate the model.\n"
     ]
    },
    {
     "name": "stdout",
     "output_type": "stream",
     "text": [
      "{'CompleteTopologyShuffle': 10, 'IPShuffle': 14, 'OSDiversity': 10, 'ServiceDiversity': 10}\n",
      "Saving evaluation results to /home/22489437/Documents/GitHub/MTDSim/experiments/experimental_data/results/epsilon_0.5_decay_0.98.csv\n"
     ]
    },
    {
     "name": "stderr",
     "output_type": "stream",
     "text": [
      "Compiled the loaded model, but the compiled metrics have yet to be built. `model.compile_metrics` will be empty until you train or evaluate the model.\n"
     ]
    },
    {
     "name": "stdout",
     "output_type": "stream",
     "text": [
      "{'CompleteTopologyShuffle': 10, 'IPShuffle': 6, 'OSDiversity': 14, 'ServiceDiversity': 14}\n",
      "Saving evaluation results to /home/22489437/Documents/GitHub/MTDSim/experiments/experimental_data/results/epsilon_0.5_decay_0.98.csv\n"
     ]
    },
    {
     "name": "stderr",
     "output_type": "stream",
     "text": [
      "Compiled the loaded model, but the compiled metrics have yet to be built. `model.compile_metrics` will be empty until you train or evaluate the model.\n"
     ]
    },
    {
     "name": "stdout",
     "output_type": "stream",
     "text": [
      "{'CompleteTopologyShuffle': 14, 'IPShuffle': 8, 'OSDiversity': 6, 'ServiceDiversity': 14}\n",
      "Saving evaluation results to /home/22489437/Documents/GitHub/MTDSim/experiments/experimental_data/results/epsilon_0.5_decay_0.98.csv\n",
      "{'CompleteTopologyShuffle': 12, 'IPShuffle': 16, 'OSDiversity': 6, 'ServiceDiversity': 10}\n"
     ]
    },
    {
     "name": "stderr",
     "output_type": "stream",
     "text": [
      "Compiled the loaded model, but the compiled metrics have yet to be built. `model.compile_metrics` will be empty until you train or evaluate the model.\n"
     ]
    },
    {
     "name": "stdout",
     "output_type": "stream",
     "text": [
      "Saving evaluation results to /home/22489437/Documents/GitHub/MTDSim/experiments/experimental_data/results/epsilon_0.5_decay_0.98.csv\n",
      "{'CompleteTopologyShuffle': 6, 'IPShuffle': 10, 'OSDiversity': 18, 'ServiceDiversity': 2}\n"
     ]
    },
    {
     "name": "stderr",
     "output_type": "stream",
     "text": [
      "Compiled the loaded model, but the compiled metrics have yet to be built. `model.compile_metrics` will be empty until you train or evaluate the model.\n"
     ]
    },
    {
     "name": "stdout",
     "output_type": "stream",
     "text": [
      "Saving evaluation results to /home/22489437/Documents/GitHub/MTDSim/experiments/experimental_data/results/epsilon_0.5_decay_0.98.csv\n"
     ]
    },
    {
     "name": "stderr",
     "output_type": "stream",
     "text": [
      "Compiled the loaded model, but the compiled metrics have yet to be built. `model.compile_metrics` will be empty until you train or evaluate the model.\n"
     ]
    },
    {
     "name": "stdout",
     "output_type": "stream",
     "text": [
      "{'CompleteTopologyShuffle': 8, 'IPShuffle': 6, 'OSDiversity': 14, 'ServiceDiversity': 12}\n",
      "Saving evaluation results to /home/22489437/Documents/GitHub/MTDSim/experiments/experimental_data/results/epsilon_0.5_decay_0.98.csv\n",
      "{'CompleteTopologyShuffle': 8, 'IPShuffle': 4, 'OSDiversity': 20, 'ServiceDiversity': 10}\n"
     ]
    },
    {
     "name": "stderr",
     "output_type": "stream",
     "text": [
      "Compiled the loaded model, but the compiled metrics have yet to be built. `model.compile_metrics` will be empty until you train or evaluate the model.\n"
     ]
    },
    {
     "name": "stdout",
     "output_type": "stream",
     "text": [
      "Saving evaluation results to /home/22489437/Documents/GitHub/MTDSim/experiments/experimental_data/results/epsilon_0.5_decay_0.98.csv\n"
     ]
    },
    {
     "name": "stderr",
     "output_type": "stream",
     "text": [
      "Compiled the loaded model, but the compiled metrics have yet to be built. `model.compile_metrics` will be empty until you train or evaluate the model.\n"
     ]
    },
    {
     "name": "stdout",
     "output_type": "stream",
     "text": [
      "{'CompleteTopologyShuffle': 8, 'IPShuffle': 16, 'OSDiversity': 8, 'ServiceDiversity': 12}\n",
      "Saving evaluation results to /home/22489437/Documents/GitHub/MTDSim/experiments/experimental_data/results/epsilon_0.5_decay_0.98.csv\n"
     ]
    },
    {
     "name": "stderr",
     "output_type": "stream",
     "text": [
      "Compiled the loaded model, but the compiled metrics have yet to be built. `model.compile_metrics` will be empty until you train or evaluate the model.\n"
     ]
    },
    {
     "name": "stdout",
     "output_type": "stream",
     "text": [
      "{'CompleteTopologyShuffle': 6, 'IPShuffle': 4, 'OSDiversity': 14, 'ServiceDiversity': 10}\n",
      "{'CompleteTopologyShuffle': 14, 'IPShuffle': 8, 'OSDiversity': 4, 'ServiceDiversity': 8}\n",
      "Saving evaluation results to /home/22489437/Documents/GitHub/MTDSim/experiments/experimental_data/results/epsilon_0.5_decay_0.98.csv\n",
      "Saving evaluation results to /home/22489437/Documents/GitHub/MTDSim/experiments/experimental_data/results/epsilon_0.5_decay_0.98.csv\n"
     ]
    },
    {
     "name": "stderr",
     "output_type": "stream",
     "text": [
      "Compiled the loaded model, but the compiled metrics have yet to be built. `model.compile_metrics` will be empty until you train or evaluate the model.\n",
      "Compiled the loaded model, but the compiled metrics have yet to be built. `model.compile_metrics` will be empty until you train or evaluate the model.\n"
     ]
    },
    {
     "name": "stdout",
     "output_type": "stream",
     "text": [
      "{'CompleteTopologyShuffle': 8, 'IPShuffle': 10, 'OSDiversity': 14, 'ServiceDiversity': 12}\n",
      "Saving evaluation results to /home/22489437/Documents/GitHub/MTDSim/experiments/experimental_data/results/epsilon_0.5_decay_0.98.csv\n"
     ]
    },
    {
     "name": "stderr",
     "output_type": "stream",
     "text": [
      "Compiled the loaded model, but the compiled metrics have yet to be built. `model.compile_metrics` will be empty until you train or evaluate the model.\n"
     ]
    },
    {
     "name": "stdout",
     "output_type": "stream",
     "text": [
      "{'CompleteTopologyShuffle': 8, 'IPShuffle': 8, 'OSDiversity': 8, 'ServiceDiversity': 18}\n",
      "Saving evaluation results to /home/22489437/Documents/GitHub/MTDSim/experiments/experimental_data/results/epsilon_0.5_decay_0.98.csv\n"
     ]
    },
    {
     "name": "stderr",
     "output_type": "stream",
     "text": [
      "Compiled the loaded model, but the compiled metrics have yet to be built. `model.compile_metrics` will be empty until you train or evaluate the model.\n"
     ]
    },
    {
     "name": "stdout",
     "output_type": "stream",
     "text": [
      "{'CompleteTopologyShuffle': 10, 'IPShuffle': 6, 'OSDiversity': 16, 'ServiceDiversity': 8}\n",
      "Saving evaluation results to /home/22489437/Documents/GitHub/MTDSim/experiments/experimental_data/results/epsilon_0.5_decay_0.98.csv\n"
     ]
    },
    {
     "name": "stderr",
     "output_type": "stream",
     "text": [
      "Compiled the loaded model, but the compiled metrics have yet to be built. `model.compile_metrics` will be empty until you train or evaluate the model.\n"
     ]
    },
    {
     "name": "stdout",
     "output_type": "stream",
     "text": [
      "{'CompleteTopologyShuffle': 4, 'IPShuffle': 10, 'OSDiversity': 10, 'ServiceDiversity': 10}\n",
      "{'CompleteTopologyShuffle': 10, 'IPShuffle': 14, 'OSDiversity': 14, 'ServiceDiversity': 4}\n",
      "Saving evaluation results to /home/22489437/Documents/GitHub/MTDSim/experiments/experimental_data/results/epsilon_0.5_decay_0.98.csv\n",
      "Saving evaluation results to /home/22489437/Documents/GitHub/MTDSim/experiments/experimental_data/results/epsilon_0.5_decay_0.98.csv\n",
      "{'CompleteTopologyShuffle': 12, 'IPShuffle': 14, 'OSDiversity': 12, 'ServiceDiversity': 2}\n"
     ]
    },
    {
     "name": "stderr",
     "output_type": "stream",
     "text": [
      "Compiled the loaded model, but the compiled metrics have yet to be built. `model.compile_metrics` will be empty until you train or evaluate the model.\n",
      "Compiled the loaded model, but the compiled metrics have yet to be built. `model.compile_metrics` will be empty until you train or evaluate the model.\n"
     ]
    },
    {
     "name": "stdout",
     "output_type": "stream",
     "text": [
      "Saving evaluation results to /home/22489437/Documents/GitHub/MTDSim/experiments/experimental_data/results/epsilon_0.5_decay_0.98.csv\n"
     ]
    },
    {
     "name": "stderr",
     "output_type": "stream",
     "text": [
      "Compiled the loaded model, but the compiled metrics have yet to be built. `model.compile_metrics` will be empty until you train or evaluate the model.\n"
     ]
    },
    {
     "name": "stdout",
     "output_type": "stream",
     "text": [
      "{'CompleteTopologyShuffle': 16, 'IPShuffle': 8, 'OSDiversity': 12, 'ServiceDiversity': 4}\n",
      "Saving evaluation results to /home/22489437/Documents/GitHub/MTDSim/experiments/experimental_data/results/epsilon_0.5_decay_0.98.csv\n"
     ]
    },
    {
     "name": "stderr",
     "output_type": "stream",
     "text": [
      "Compiled the loaded model, but the compiled metrics have yet to be built. `model.compile_metrics` will be empty until you train or evaluate the model.\n"
     ]
    },
    {
     "name": "stdout",
     "output_type": "stream",
     "text": [
      "{'CompleteTopologyShuffle': 8, 'IPShuffle': 12, 'OSDiversity': 8, 'ServiceDiversity': 12}\n",
      "Saving evaluation results to /home/22489437/Documents/GitHub/MTDSim/experiments/experimental_data/results/epsilon_0.5_decay_0.98.csv\n"
     ]
    },
    {
     "name": "stderr",
     "output_type": "stream",
     "text": [
      "Compiled the loaded model, but the compiled metrics have yet to be built. `model.compile_metrics` will be empty until you train or evaluate the model.\n"
     ]
    },
    {
     "name": "stdout",
     "output_type": "stream",
     "text": [
      "{'CompleteTopologyShuffle': 12, 'IPShuffle': 6, 'OSDiversity': 12, 'ServiceDiversity': 4}\n",
      "Saving evaluation results to /home/22489437/Documents/GitHub/MTDSim/experiments/experimental_data/results/epsilon_0.5_decay_0.98.csv\n"
     ]
    },
    {
     "name": "stderr",
     "output_type": "stream",
     "text": [
      "Compiled the loaded model, but the compiled metrics have yet to be built. `model.compile_metrics` will be empty until you train or evaluate the model.\n"
     ]
    },
    {
     "name": "stdout",
     "output_type": "stream",
     "text": [
      "{'CompleteTopologyShuffle': 8, 'IPShuffle': 6, 'OSDiversity': 8, 'ServiceDiversity': 12}\n",
      "{'CompleteTopologyShuffle': 10, 'IPShuffle': 10, 'OSDiversity': 8, 'ServiceDiversity': 12}\n",
      "Saving evaluation results to /home/22489437/Documents/GitHub/MTDSim/experiments/experimental_data/results/epsilon_0.5_decay_0.98.csv\n"
     ]
    },
    {
     "name": "stderr",
     "output_type": "stream",
     "text": [
      "Compiled the loaded model, but the compiled metrics have yet to be built. `model.compile_metrics` will be empty until you train or evaluate the model.\n"
     ]
    },
    {
     "name": "stdout",
     "output_type": "stream",
     "text": [
      "Saving evaluation results to /home/22489437/Documents/GitHub/MTDSim/experiments/experimental_data/results/epsilon_0.5_decay_0.98.csv\n"
     ]
    },
    {
     "name": "stderr",
     "output_type": "stream",
     "text": [
      "Compiled the loaded model, but the compiled metrics have yet to be built. `model.compile_metrics` will be empty until you train or evaluate the model.\n"
     ]
    },
    {
     "name": "stdout",
     "output_type": "stream",
     "text": [
      "{'CompleteTopologyShuffle': 12, 'IPShuffle': 12, 'OSDiversity': 10, 'ServiceDiversity': 8}\n",
      "Saving evaluation results to /home/22489437/Documents/GitHub/MTDSim/experiments/experimental_data/results/epsilon_0.5_decay_0.98.csv\n"
     ]
    },
    {
     "name": "stderr",
     "output_type": "stream",
     "text": [
      "Compiled the loaded model, but the compiled metrics have yet to be built. `model.compile_metrics` will be empty until you train or evaluate the model.\n"
     ]
    },
    {
     "name": "stdout",
     "output_type": "stream",
     "text": [
      "{'CompleteTopologyShuffle': 12, 'IPShuffle': 10, 'OSDiversity': 2, 'ServiceDiversity': 16}\n",
      "Saving evaluation results to /home/22489437/Documents/GitHub/MTDSim/experiments/experimental_data/results/epsilon_0.5_decay_0.98.csv\n",
      "{'CompleteTopologyShuffle': 6, 'IPShuffle': 6, 'OSDiversity': 12, 'ServiceDiversity': 8}\n"
     ]
    },
    {
     "name": "stderr",
     "output_type": "stream",
     "text": [
      "Compiled the loaded model, but the compiled metrics have yet to be built. `model.compile_metrics` will be empty until you train or evaluate the model.\n"
     ]
    },
    {
     "name": "stdout",
     "output_type": "stream",
     "text": [
      "Saving evaluation results to /home/22489437/Documents/GitHub/MTDSim/experiments/experimental_data/results/epsilon_0.5_decay_0.98.csv\n",
      "{'CompleteTopologyShuffle': 10, 'IPShuffle': 4, 'OSDiversity': 10, 'ServiceDiversity': 8}\n"
     ]
    },
    {
     "name": "stderr",
     "output_type": "stream",
     "text": [
      "Compiled the loaded model, but the compiled metrics have yet to be built. `model.compile_metrics` will be empty until you train or evaluate the model.\n"
     ]
    },
    {
     "name": "stdout",
     "output_type": "stream",
     "text": [
      "Saving evaluation results to /home/22489437/Documents/GitHub/MTDSim/experiments/experimental_data/results/epsilon_0.5_decay_0.98.csv\n"
     ]
    },
    {
     "name": "stderr",
     "output_type": "stream",
     "text": [
      "Compiled the loaded model, but the compiled metrics have yet to be built. `model.compile_metrics` will be empty until you train or evaluate the model.\n"
     ]
    },
    {
     "name": "stdout",
     "output_type": "stream",
     "text": [
      "{'CompleteTopologyShuffle': 10, 'IPShuffle': 2, 'OSDiversity': 10, 'ServiceDiversity': 12}\n",
      "Saving evaluation results to /home/22489437/Documents/GitHub/MTDSim/experiments/experimental_data/results/epsilon_0.5_decay_0.98.csv\n",
      "{'CompleteTopologyShuffle': 10, 'IPShuffle': 10, 'OSDiversity': 18, 'ServiceDiversity': 8}\n"
     ]
    },
    {
     "name": "stderr",
     "output_type": "stream",
     "text": [
      "Compiled the loaded model, but the compiled metrics have yet to be built. `model.compile_metrics` will be empty until you train or evaluate the model.\n"
     ]
    },
    {
     "name": "stdout",
     "output_type": "stream",
     "text": [
      "Saving evaluation results to /home/22489437/Documents/GitHub/MTDSim/experiments/experimental_data/results/epsilon_0.5_decay_0.98.csv\n"
     ]
    },
    {
     "name": "stderr",
     "output_type": "stream",
     "text": [
      "Compiled the loaded model, but the compiled metrics have yet to be built. `model.compile_metrics` will be empty until you train or evaluate the model.\n"
     ]
    },
    {
     "name": "stdout",
     "output_type": "stream",
     "text": [
      "{'CompleteTopologyShuffle': 10, 'IPShuffle': 2, 'OSDiversity': 12, 'ServiceDiversity': 18}\n",
      "Saving evaluation results to /home/22489437/Documents/GitHub/MTDSim/experiments/experimental_data/results/epsilon_0.5_decay_0.98.csv\n",
      "{'CompleteTopologyShuffle': 8, 'IPShuffle': 16, 'OSDiversity': 6, 'ServiceDiversity': 8}\n"
     ]
    },
    {
     "name": "stderr",
     "output_type": "stream",
     "text": [
      "Compiled the loaded model, but the compiled metrics have yet to be built. `model.compile_metrics` will be empty until you train or evaluate the model.\n"
     ]
    },
    {
     "name": "stdout",
     "output_type": "stream",
     "text": [
      "Saving evaluation results to /home/22489437/Documents/GitHub/MTDSim/experiments/experimental_data/results/epsilon_0.5_decay_0.98.csv\n"
     ]
    },
    {
     "name": "stderr",
     "output_type": "stream",
     "text": [
      "Compiled the loaded model, but the compiled metrics have yet to be built. `model.compile_metrics` will be empty until you train or evaluate the model.\n"
     ]
    },
    {
     "name": "stdout",
     "output_type": "stream",
     "text": [
      "{'CompleteTopologyShuffle': 16, 'IPShuffle': 12, 'OSDiversity': 6, 'ServiceDiversity': 6}\n",
      "Saving evaluation results to /home/22489437/Documents/GitHub/MTDSim/experiments/experimental_data/results/epsilon_0.5_decay_0.98.csv\n"
     ]
    },
    {
     "name": "stderr",
     "output_type": "stream",
     "text": [
      "Compiled the loaded model, but the compiled metrics have yet to be built. `model.compile_metrics` will be empty until you train or evaluate the model.\n"
     ]
    },
    {
     "name": "stdout",
     "output_type": "stream",
     "text": [
      "{'CompleteTopologyShuffle': 20, 'IPShuffle': 10, 'OSDiversity': 14, 'ServiceDiversity': 14}\n",
      "Saving evaluation results to /home/22489437/Documents/GitHub/MTDSim/experiments/experimental_data/results/epsilon_0.5_decay_0.98.csv\n"
     ]
    },
    {
     "name": "stderr",
     "output_type": "stream",
     "text": [
      "Compiled the loaded model, but the compiled metrics have yet to be built. `model.compile_metrics` will be empty until you train or evaluate the model.\n"
     ]
    },
    {
     "name": "stdout",
     "output_type": "stream",
     "text": [
      "{'CompleteTopologyShuffle': 2, 'IPShuffle': 8, 'OSDiversity': 12, 'ServiceDiversity': 12}\n",
      "Saving evaluation results to /home/22489437/Documents/GitHub/MTDSim/experiments/experimental_data/results/epsilon_0.5_decay_0.98.csv\n",
      "{'CompleteTopologyShuffle': 10, 'IPShuffle': 14, 'OSDiversity': 16, 'ServiceDiversity': 6}\n"
     ]
    },
    {
     "name": "stderr",
     "output_type": "stream",
     "text": [
      "Compiled the loaded model, but the compiled metrics have yet to be built. `model.compile_metrics` will be empty until you train or evaluate the model.\n"
     ]
    },
    {
     "name": "stdout",
     "output_type": "stream",
     "text": [
      "Saving evaluation results to /home/22489437/Documents/GitHub/MTDSim/experiments/experimental_data/results/epsilon_0.5_decay_0.98.csv\n",
      "{'CompleteTopologyShuffle': 14, 'IPShuffle': 12, 'OSDiversity': 6, 'ServiceDiversity': 14}\n"
     ]
    },
    {
     "name": "stderr",
     "output_type": "stream",
     "text": [
      "Compiled the loaded model, but the compiled metrics have yet to be built. `model.compile_metrics` will be empty until you train or evaluate the model.\n"
     ]
    },
    {
     "name": "stdout",
     "output_type": "stream",
     "text": [
      "Saving evaluation results to /home/22489437/Documents/GitHub/MTDSim/experiments/experimental_data/results/epsilon_0.5_decay_0.98.csv\n"
     ]
    },
    {
     "name": "stderr",
     "output_type": "stream",
     "text": [
      "Compiled the loaded model, but the compiled metrics have yet to be built. `model.compile_metrics` will be empty until you train or evaluate the model.\n"
     ]
    },
    {
     "name": "stdout",
     "output_type": "stream",
     "text": [
      "{'CompleteTopologyShuffle': 8, 'IPShuffle': 10, 'OSDiversity': 16, 'ServiceDiversity': 4}\n",
      "Saving evaluation results to /home/22489437/Documents/GitHub/MTDSim/experiments/experimental_data/results/epsilon_0.5_decay_0.98.csv\n"
     ]
    },
    {
     "name": "stderr",
     "output_type": "stream",
     "text": [
      "Compiled the loaded model, but the compiled metrics have yet to be built. `model.compile_metrics` will be empty until you train or evaluate the model.\n"
     ]
    },
    {
     "name": "stdout",
     "output_type": "stream",
     "text": [
      "{'CompleteTopologyShuffle': 10, 'IPShuffle': 10, 'OSDiversity': 10, 'ServiceDiversity': 12}\n",
      "Saving evaluation results to /home/22489437/Documents/GitHub/MTDSim/experiments/experimental_data/results/epsilon_0.5_decay_0.98.csv\n"
     ]
    },
    {
     "name": "stderr",
     "output_type": "stream",
     "text": [
      "Compiled the loaded model, but the compiled metrics have yet to be built. `model.compile_metrics` will be empty until you train or evaluate the model.\n"
     ]
    },
    {
     "name": "stdout",
     "output_type": "stream",
     "text": [
      "{'CompleteTopologyShuffle': 6, 'IPShuffle': 16, 'OSDiversity': 6, 'ServiceDiversity': 4}\n",
      "Saving evaluation results to /home/22489437/Documents/GitHub/MTDSim/experiments/experimental_data/results/epsilon_0.5_decay_0.98.csv\n"
     ]
    },
    {
     "name": "stderr",
     "output_type": "stream",
     "text": [
      "Compiled the loaded model, but the compiled metrics have yet to be built. `model.compile_metrics` will be empty until you train or evaluate the model.\n"
     ]
    },
    {
     "name": "stdout",
     "output_type": "stream",
     "text": [
      "{'CompleteTopologyShuffle': 16, 'IPShuffle': 10, 'OSDiversity': 8, 'ServiceDiversity': 6}\n",
      "Saving evaluation results to /home/22489437/Documents/GitHub/MTDSim/experiments/experimental_data/results/epsilon_0.5_decay_0.98.csv\n"
     ]
    },
    {
     "name": "stderr",
     "output_type": "stream",
     "text": [
      "Compiled the loaded model, but the compiled metrics have yet to be built. `model.compile_metrics` will be empty until you train or evaluate the model.\n"
     ]
    },
    {
     "name": "stdout",
     "output_type": "stream",
     "text": [
      "{'CompleteTopologyShuffle': 12, 'IPShuffle': 14, 'OSDiversity': 16, 'ServiceDiversity': 2}\n",
      "Saving evaluation results to /home/22489437/Documents/GitHub/MTDSim/experiments/experimental_data/results/epsilon_0.5_decay_0.98.csv\n"
     ]
    },
    {
     "name": "stderr",
     "output_type": "stream",
     "text": [
      "Compiled the loaded model, but the compiled metrics have yet to be built. `model.compile_metrics` will be empty until you train or evaluate the model.\n"
     ]
    },
    {
     "name": "stdout",
     "output_type": "stream",
     "text": [
      "{'CompleteTopologyShuffle': 16, 'IPShuffle': 8, 'OSDiversity': 10, 'ServiceDiversity': 8}\n",
      "Saving evaluation results to /home/22489437/Documents/GitHub/MTDSim/experiments/experimental_data/results/epsilon_0.5_decay_0.98.csv\n",
      "{'CompleteTopologyShuffle': 4, 'IPShuffle': 14, 'OSDiversity': 18, 'ServiceDiversity': 4}\n"
     ]
    },
    {
     "name": "stderr",
     "output_type": "stream",
     "text": [
      "Compiled the loaded model, but the compiled metrics have yet to be built. `model.compile_metrics` will be empty until you train or evaluate the model.\n"
     ]
    },
    {
     "name": "stdout",
     "output_type": "stream",
     "text": [
      "Saving evaluation results to /home/22489437/Documents/GitHub/MTDSim/experiments/experimental_data/results/epsilon_0.5_decay_0.98.csv\n"
     ]
    },
    {
     "name": "stderr",
     "output_type": "stream",
     "text": [
      "Compiled the loaded model, but the compiled metrics have yet to be built. `model.compile_metrics` will be empty until you train or evaluate the model.\n"
     ]
    },
    {
     "name": "stdout",
     "output_type": "stream",
     "text": [
      "{'CompleteTopologyShuffle': 10, 'IPShuffle': 6, 'OSDiversity': 16, 'ServiceDiversity': 12}\n",
      "Saving evaluation results to /home/22489437/Documents/GitHub/MTDSim/experiments/experimental_data/results/epsilon_0.5_decay_0.98.csv\n"
     ]
    },
    {
     "name": "stderr",
     "output_type": "stream",
     "text": [
      "Compiled the loaded model, but the compiled metrics have yet to be built. `model.compile_metrics` will be empty until you train or evaluate the model.\n"
     ]
    },
    {
     "name": "stdout",
     "output_type": "stream",
     "text": [
      "{'CompleteTopologyShuffle': 6, 'IPShuffle': 12, 'OSDiversity': 6, 'ServiceDiversity': 16}\n",
      "Saving evaluation results to /home/22489437/Documents/GitHub/MTDSim/experiments/experimental_data/results/epsilon_0.5_decay_0.98.csv\n"
     ]
    },
    {
     "name": "stderr",
     "output_type": "stream",
     "text": [
      "Compiled the loaded model, but the compiled metrics have yet to be built. `model.compile_metrics` will be empty until you train or evaluate the model.\n"
     ]
    },
    {
     "name": "stdout",
     "output_type": "stream",
     "text": [
      "{'CompleteTopologyShuffle': 8, 'IPShuffle': 12, 'OSDiversity': 14, 'ServiceDiversity': 8}\n",
      "Saving evaluation results to /home/22489437/Documents/GitHub/MTDSim/experiments/experimental_data/results/epsilon_0.5_decay_0.98.csv\n"
     ]
    },
    {
     "name": "stderr",
     "output_type": "stream",
     "text": [
      "Compiled the loaded model, but the compiled metrics have yet to be built. `model.compile_metrics` will be empty until you train or evaluate the model.\n"
     ]
    },
    {
     "name": "stdout",
     "output_type": "stream",
     "text": [
      "{'CompleteTopologyShuffle': 6, 'IPShuffle': 12, 'OSDiversity': 18, 'ServiceDiversity': 8}\n",
      "Saving evaluation results to /home/22489437/Documents/GitHub/MTDSim/experiments/experimental_data/results/epsilon_0.5_decay_0.98.csv\n"
     ]
    },
    {
     "name": "stderr",
     "output_type": "stream",
     "text": [
      "Compiled the loaded model, but the compiled metrics have yet to be built. `model.compile_metrics` will be empty until you train or evaluate the model.\n"
     ]
    },
    {
     "name": "stdout",
     "output_type": "stream",
     "text": [
      "{'CompleteTopologyShuffle': 10, 'IPShuffle': 4, 'OSDiversity': 16, 'ServiceDiversity': 8}\n",
      "{'CompleteTopologyShuffle': 6, 'IPShuffle': 12, 'OSDiversity': 14, 'ServiceDiversity': 16}\n",
      "Saving evaluation results to /home/22489437/Documents/GitHub/MTDSim/experiments/experimental_data/results/epsilon_0.5_decay_0.98.csv\n"
     ]
    },
    {
     "name": "stderr",
     "output_type": "stream",
     "text": [
      "Compiled the loaded model, but the compiled metrics have yet to be built. `model.compile_metrics` will be empty until you train or evaluate the model.\n"
     ]
    },
    {
     "name": "stdout",
     "output_type": "stream",
     "text": [
      "Saving evaluation results to /home/22489437/Documents/GitHub/MTDSim/experiments/experimental_data/results/epsilon_0.5_decay_0.98.csv\n"
     ]
    },
    {
     "name": "stderr",
     "output_type": "stream",
     "text": [
      "Compiled the loaded model, but the compiled metrics have yet to be built. `model.compile_metrics` will be empty until you train or evaluate the model.\n"
     ]
    },
    {
     "name": "stdout",
     "output_type": "stream",
     "text": [
      "{'CompleteTopologyShuffle': 14, 'IPShuffle': 2, 'OSDiversity': 12, 'ServiceDiversity': 14}\n",
      "{'CompleteTopologyShuffle': 16, 'IPShuffle': 8, 'OSDiversity': 10, 'ServiceDiversity': 8}\n",
      "Saving evaluation results to /home/22489437/Documents/GitHub/MTDSim/experiments/experimental_data/results/epsilon_0.5_decay_0.98.csv\n",
      "Saving evaluation results to /home/22489437/Documents/GitHub/MTDSim/experiments/experimental_data/results/epsilon_0.5_decay_0.98.csv\n"
     ]
    },
    {
     "name": "stderr",
     "output_type": "stream",
     "text": [
      "Compiled the loaded model, but the compiled metrics have yet to be built. `model.compile_metrics` will be empty until you train or evaluate the model.\n",
      "Compiled the loaded model, but the compiled metrics have yet to be built. `model.compile_metrics` will be empty until you train or evaluate the model.\n"
     ]
    },
    {
     "name": "stdout",
     "output_type": "stream",
     "text": [
      "{'CompleteTopologyShuffle': 14, 'IPShuffle': 6, 'OSDiversity': 10, 'ServiceDiversity': 10}\n",
      "Saving evaluation results to /home/22489437/Documents/GitHub/MTDSim/experiments/experimental_data/results/epsilon_0.5_decay_0.98.csv\n"
     ]
    },
    {
     "name": "stderr",
     "output_type": "stream",
     "text": [
      "Compiled the loaded model, but the compiled metrics have yet to be built. `model.compile_metrics` will be empty until you train or evaluate the model.\n"
     ]
    },
    {
     "name": "stdout",
     "output_type": "stream",
     "text": [
      "{'CompleteTopologyShuffle': 8, 'IPShuffle': 8, 'OSDiversity': 16, 'ServiceDiversity': 4}\n",
      "{'CompleteTopologyShuffle': 14, 'IPShuffle': 10, 'OSDiversity': 10, 'ServiceDiversity': 4}\n",
      "Saving evaluation results to /home/22489437/Documents/GitHub/MTDSim/experiments/experimental_data/results/epsilon_0.5_decay_0.98.csv\n"
     ]
    },
    {
     "name": "stderr",
     "output_type": "stream",
     "text": [
      "Compiled the loaded model, but the compiled metrics have yet to be built. `model.compile_metrics` will be empty until you train or evaluate the model.\n"
     ]
    },
    {
     "name": "stdout",
     "output_type": "stream",
     "text": [
      "Saving evaluation results to /home/22489437/Documents/GitHub/MTDSim/experiments/experimental_data/results/epsilon_0.5_decay_0.98.csv\n",
      "{'CompleteTopologyShuffle': 10, 'IPShuffle': 8, 'OSDiversity': 10, 'ServiceDiversity': 8}\n",
      "{'CompleteTopologyShuffle': 8, 'IPShuffle': 14, 'OSDiversity': 10, 'ServiceDiversity': 4}\n",
      "Saving evaluation results to /home/22489437/Documents/GitHub/MTDSim/experiments/experimental_data/results/epsilon_0.5_decay_0.98.csv\n",
      "Saving evaluation results to /home/22489437/Documents/GitHub/MTDSim/experiments/experimental_data/results/epsilon_0.5_decay_0.98.csv\n",
      "{'CompleteTopologyShuffle': 12, 'IPShuffle': 6, 'OSDiversity': 16, 'ServiceDiversity': 10}\n",
      "Saving evaluation results to /home/22489437/Documents/GitHub/MTDSim/experiments/experimental_data/results/epsilon_0.5_decay_0.98.csv\n",
      "{'CompleteTopologyShuffle': 12, 'IPShuffle': 10, 'OSDiversity': 16, 'ServiceDiversity': 14}\n",
      "Saving evaluation results to /home/22489437/Documents/GitHub/MTDSim/experiments/experimental_data/results/epsilon_0.5_decay_0.98.csv\n",
      "{'CompleteTopologyShuffle': 18, 'IPShuffle': 8, 'OSDiversity': 20, 'ServiceDiversity': 8}\n",
      "Saving evaluation results to /home/22489437/Documents/GitHub/MTDSim/experiments/experimental_data/results/epsilon_0.5_decay_0.98.csv\n",
      "{'CompleteTopologyShuffle': 12, 'IPShuffle': 10, 'OSDiversity': 8, 'ServiceDiversity': 8}\n",
      "Saving evaluation results to /home/22489437/Documents/GitHub/MTDSim/experiments/experimental_data/results/epsilon_0.5_decay_0.98.csv\n",
      "{'CompleteTopologyShuffle': 10, 'IPShuffle': 4, 'OSDiversity': 12, 'ServiceDiversity': 12}\n",
      "Saving evaluation results to /home/22489437/Documents/GitHub/MTDSim/experiments/experimental_data/results/epsilon_0.5_decay_0.98.csv\n",
      "{'CompleteTopologyShuffle': 6, 'IPShuffle': 12, 'OSDiversity': 12, 'ServiceDiversity': 8}\n",
      "Saving evaluation results to /home/22489437/Documents/GitHub/MTDSim/experiments/experimental_data/results/epsilon_0.5_decay_0.98.csv\n",
      "{'CompleteTopologyShuffle': 12, 'IPShuffle': 10, 'OSDiversity': 14, 'ServiceDiversity': 10}\n",
      "{'CompleteTopologyShuffle': 10, 'IPShuffle': 14, 'OSDiversity': 6, 'ServiceDiversity': 10}\n",
      "Saving evaluation results to /home/22489437/Documents/GitHub/MTDSim/experiments/experimental_data/results/epsilon_0.5_decay_0.98.csv\n",
      "Saving evaluation results to /home/22489437/Documents/GitHub/MTDSim/experiments/experimental_data/results/epsilon_0.5_decay_0.98.csv\n",
      "{'CompleteTopologyShuffle': 8, 'IPShuffle': 12, 'OSDiversity': 8, 'ServiceDiversity': 12}\n",
      "Saving evaluation results to /home/22489437/Documents/GitHub/MTDSim/experiments/experimental_data/results/epsilon_0.5_decay_0.98.csv\n",
      "{'CompleteTopologyShuffle': 10, 'IPShuffle': 6, 'OSDiversity': 8, 'ServiceDiversity': 12}\n",
      "Saving evaluation results to /home/22489437/Documents/GitHub/MTDSim/experiments/experimental_data/results/epsilon_0.5_decay_0.98.csv\n",
      "{'CompleteTopologyShuffle': 12, 'IPShuffle': 4, 'OSDiversity': 10, 'ServiceDiversity': 8}\n",
      "Saving evaluation results to /home/22489437/Documents/GitHub/MTDSim/experiments/experimental_data/results/epsilon_0.5_decay_0.98.csv\n",
      "{'CompleteTopologyShuffle': 12, 'IPShuffle': 12, 'OSDiversity': 12, 'ServiceDiversity': 2}\n",
      "Saving evaluation results to /home/22489437/Documents/GitHub/MTDSim/experiments/experimental_data/results/epsilon_0.5_decay_0.98.csv\n",
      "{'CompleteTopologyShuffle': 12, 'IPShuffle': 8, 'OSDiversity': 10, 'ServiceDiversity': 10}\n",
      "Saving evaluation results to /home/22489437/Documents/GitHub/MTDSim/experiments/experimental_data/results/epsilon_0.5_decay_0.98.csv\n",
      "{'CompleteTopologyShuffle': 14, 'IPShuffle': 12, 'OSDiversity': 2, 'ServiceDiversity': 10}\n",
      "Saving evaluation results to /home/22489437/Documents/GitHub/MTDSim/experiments/experimental_data/results/epsilon_0.5_decay_0.98.csv\n",
      "{'CompleteTopologyShuffle': 10, 'IPShuffle': 22, 'OSDiversity': 8, 'ServiceDiversity': 10}\n",
      "{'CompleteTopologyShuffle': 18, 'IPShuffle': 16, 'OSDiversity': 2, 'ServiceDiversity': 4}\n",
      "Saving evaluation results to /home/22489437/Documents/GitHub/MTDSim/experiments/experimental_data/results/epsilon_0.5_decay_0.98.csv\n",
      "Saving evaluation results to /home/22489437/Documents/GitHub/MTDSim/experiments/experimental_data/results/epsilon_0.5_decay_0.98.csv\n",
      "{'CompleteTopologyShuffle': 12, 'IPShuffle': 4, 'OSDiversity': 2, 'ServiceDiversity': 14}\n",
      "{'CompleteTopologyShuffle': 14, 'IPShuffle': 4, 'OSDiversity': 14, 'ServiceDiversity': 6}\n",
      "Saving evaluation results to /home/22489437/Documents/GitHub/MTDSim/experiments/experimental_data/results/epsilon_0.5_decay_0.98.csv\n",
      "Saving evaluation results to /home/22489437/Documents/GitHub/MTDSim/experiments/experimental_data/results/epsilon_0.5_decay_0.98.csv\n",
      "{'CompleteTopologyShuffle': 6, 'IPShuffle': 8, 'OSDiversity': 6, 'ServiceDiversity': 14}\n",
      "Saving evaluation results to /home/22489437/Documents/GitHub/MTDSim/experiments/experimental_data/results/epsilon_0.5_decay_0.98.csv\n",
      "{'CompleteTopologyShuffle': 16, 'IPShuffle': 8, 'OSDiversity': 6, 'ServiceDiversity': 8}\n",
      "Saving evaluation results to /home/22489437/Documents/GitHub/MTDSim/experiments/experimental_data/results/epsilon_0.5_decay_0.98.csv\n",
      "{'CompleteTopologyShuffle': 12, 'IPShuffle': 14, 'OSDiversity': 4, 'ServiceDiversity': 8}\n",
      "Saving evaluation results to /home/22489437/Documents/GitHub/MTDSim/experiments/experimental_data/results/epsilon_0.5_decay_0.98.csv\n",
      "Running experiments for model epsilon_0.5_decay_0.99\n",
      "Trial_ 0\n",
      "Trial_ 10\n",
      "Trial_ 20\n",
      "Trial_ 30\n",
      "Trial_ 40\n",
      "Trial_ 50\n",
      "Trial_ 60\n",
      "Trial_ 70\n",
      "Trial_ 80\n",
      "Trial_ 90\n"
     ]
    },
    {
     "name": "stderr",
     "output_type": "stream",
     "text": [
      "Compiled the loaded model, but the compiled metrics have yet to be built. `model.compile_metrics` will be empty until you train or evaluate the model.\n",
      "Compiled the loaded model, but the compiled metrics have yet to be built. `model.compile_metrics` will be empty until you train or evaluate the model.\n",
      "Compiled the loaded model, but the compiled metrics have yet to be built. `model.compile_metrics` will be empty until you train or evaluate the model.\n",
      "Compiled the loaded model, but the compiled metrics have yet to be built. `model.compile_metrics` will be empty until you train or evaluate the model.\n",
      "Compiled the loaded model, but the compiled metrics have yet to be built. `model.compile_metrics` will be empty until you train or evaluate the model.\n",
      "Compiled the loaded model, but the compiled metrics have yet to be built. `model.compile_metrics` will be empty until you train or evaluate the model.\n",
      "Compiled the loaded model, but the compiled metrics have yet to be built. `model.compile_metrics` will be empty until you train or evaluate the model.\n",
      "Compiled the loaded model, but the compiled metrics have yet to be built. `model.compile_metrics` will be empty until you train or evaluate the model.\n",
      "Compiled the loaded model, but the compiled metrics have yet to be built. `model.compile_metrics` will be empty until you train or evaluate the model.\n",
      "Compiled the loaded model, but the compiled metrics have yet to be built. `model.compile_metrics` will be empty until you train or evaluate the model.\n",
      "Compiled the loaded model, but the compiled metrics have yet to be built. `model.compile_metrics` will be empty until you train or evaluate the model.\n",
      "Compiled the loaded model, but the compiled metrics have yet to be built. `model.compile_metrics` will be empty until you train or evaluate the model.\n",
      "Compiled the loaded model, but the compiled metrics have yet to be built. `model.compile_metrics` will be empty until you train or evaluate the model.\n",
      "Compiled the loaded model, but the compiled metrics have yet to be built. `model.compile_metrics` will be empty until you train or evaluate the model.\n",
      "Compiled the loaded model, but the compiled metrics have yet to be built. `model.compile_metrics` will be empty until you train or evaluate the model.\n",
      "Compiled the loaded model, but the compiled metrics have yet to be built. `model.compile_metrics` will be empty until you train or evaluate the model.\n",
      "Compiled the loaded model, but the compiled metrics have yet to be built. `model.compile_metrics` will be empty until you train or evaluate the model.\n",
      "Compiled the loaded model, but the compiled metrics have yet to be built. `model.compile_metrics` will be empty until you train or evaluate the model.\n",
      "Compiled the loaded model, but the compiled metrics have yet to be built. `model.compile_metrics` will be empty until you train or evaluate the model.\n",
      "Compiled the loaded model, but the compiled metrics have yet to be built. `model.compile_metrics` will be empty until you train or evaluate the model.\n",
      "Compiled the loaded model, but the compiled metrics have yet to be built. `model.compile_metrics` will be empty until you train or evaluate the model.\n",
      "Compiled the loaded model, but the compiled metrics have yet to be built. `model.compile_metrics` will be empty until you train or evaluate the model.\n",
      "Compiled the loaded model, but the compiled metrics have yet to be built. `model.compile_metrics` will be empty until you train or evaluate the model.\n",
      "Compiled the loaded model, but the compiled metrics have yet to be built. `model.compile_metrics` will be empty until you train or evaluate the model.\n"
     ]
    },
    {
     "name": "stdout",
     "output_type": "stream",
     "text": [
      "{'CompleteTopologyShuffle': 10, 'IPShuffle': 6, 'OSDiversity': 12, 'ServiceDiversity': 10}\n",
      "Saving evaluation results to /home/22489437/Documents/GitHub/MTDSim/experiments/experimental_data/results/epsilon_0.5_decay_0.99.csv\n"
     ]
    },
    {
     "name": "stderr",
     "output_type": "stream",
     "text": [
      "Compiled the loaded model, but the compiled metrics have yet to be built. `model.compile_metrics` will be empty until you train or evaluate the model.\n"
     ]
    },
    {
     "name": "stdout",
     "output_type": "stream",
     "text": [
      "{'CompleteTopologyShuffle': 6, 'IPShuffle': 12, 'OSDiversity': 6, 'ServiceDiversity': 16}\n",
      "Saving evaluation results to /home/22489437/Documents/GitHub/MTDSim/experiments/experimental_data/results/epsilon_0.5_decay_0.99.csv\n"
     ]
    },
    {
     "name": "stderr",
     "output_type": "stream",
     "text": [
      "Compiled the loaded model, but the compiled metrics have yet to be built. `model.compile_metrics` will be empty until you train or evaluate the model.\n"
     ]
    },
    {
     "name": "stdout",
     "output_type": "stream",
     "text": [
      "{'CompleteTopologyShuffle': 8, 'IPShuffle': 8, 'OSDiversity': 14, 'ServiceDiversity': 6}\n",
      "Saving evaluation results to /home/22489437/Documents/GitHub/MTDSim/experiments/experimental_data/results/epsilon_0.5_decay_0.99.csv\n"
     ]
    },
    {
     "name": "stderr",
     "output_type": "stream",
     "text": [
      "Compiled the loaded model, but the compiled metrics have yet to be built. `model.compile_metrics` will be empty until you train or evaluate the model.\n"
     ]
    },
    {
     "name": "stdout",
     "output_type": "stream",
     "text": [
      "{'CompleteTopologyShuffle': 12, 'IPShuffle': 12, 'OSDiversity': 4, 'ServiceDiversity': 8}\n",
      "Saving evaluation results to /home/22489437/Documents/GitHub/MTDSim/experiments/experimental_data/results/epsilon_0.5_decay_0.99.csv\n"
     ]
    },
    {
     "name": "stderr",
     "output_type": "stream",
     "text": [
      "Compiled the loaded model, but the compiled metrics have yet to be built. `model.compile_metrics` will be empty until you train or evaluate the model.\n"
     ]
    },
    {
     "name": "stdout",
     "output_type": "stream",
     "text": [
      "{'CompleteTopologyShuffle': 14, 'IPShuffle': 2, 'OSDiversity': 24, 'ServiceDiversity': 8}\n",
      "{'CompleteTopologyShuffle': 8, 'IPShuffle': 6, 'OSDiversity': 18, 'ServiceDiversity': 10}\n",
      "Saving evaluation results to /home/22489437/Documents/GitHub/MTDSim/experiments/experimental_data/results/epsilon_0.5_decay_0.99.csv\n"
     ]
    },
    {
     "name": "stderr",
     "output_type": "stream",
     "text": [
      "Compiled the loaded model, but the compiled metrics have yet to be built. `model.compile_metrics` will be empty until you train or evaluate the model.\n"
     ]
    },
    {
     "name": "stdout",
     "output_type": "stream",
     "text": [
      "Saving evaluation results to /home/22489437/Documents/GitHub/MTDSim/experiments/experimental_data/results/epsilon_0.5_decay_0.99.csv\n",
      "{'CompleteTopologyShuffle': 4, 'IPShuffle': 10, 'OSDiversity': 10, 'ServiceDiversity': 12}\n"
     ]
    },
    {
     "name": "stderr",
     "output_type": "stream",
     "text": [
      "Compiled the loaded model, but the compiled metrics have yet to be built. `model.compile_metrics` will be empty until you train or evaluate the model.\n"
     ]
    },
    {
     "name": "stdout",
     "output_type": "stream",
     "text": [
      "Saving evaluation results to /home/22489437/Documents/GitHub/MTDSim/experiments/experimental_data/results/epsilon_0.5_decay_0.99.csv\n"
     ]
    },
    {
     "name": "stderr",
     "output_type": "stream",
     "text": [
      "Compiled the loaded model, but the compiled metrics have yet to be built. `model.compile_metrics` will be empty until you train or evaluate the model.\n"
     ]
    },
    {
     "name": "stdout",
     "output_type": "stream",
     "text": [
      "{'CompleteTopologyShuffle': 6, 'IPShuffle': 8, 'OSDiversity': 16, 'ServiceDiversity': 12}\n",
      "Saving evaluation results to /home/22489437/Documents/GitHub/MTDSim/experiments/experimental_data/results/epsilon_0.5_decay_0.99.csv\n"
     ]
    },
    {
     "name": "stderr",
     "output_type": "stream",
     "text": [
      "Compiled the loaded model, but the compiled metrics have yet to be built. `model.compile_metrics` will be empty until you train or evaluate the model.\n"
     ]
    },
    {
     "name": "stdout",
     "output_type": "stream",
     "text": [
      "{'CompleteTopologyShuffle': 10, 'IPShuffle': 20, 'OSDiversity': 2, 'ServiceDiversity': 14}\n",
      "Saving evaluation results to /home/22489437/Documents/GitHub/MTDSim/experiments/experimental_data/results/epsilon_0.5_decay_0.99.csv\n",
      "{'CompleteTopologyShuffle': 8, 'IPShuffle': 12, 'OSDiversity': 8, 'ServiceDiversity': 16}"
     ]
    },
    {
     "name": "stderr",
     "output_type": "stream",
     "text": [
      "Compiled the loaded model, but the compiled metrics have yet to be built. `model.compile_metrics` will be empty until you train or evaluate the model.\n"
     ]
    },
    {
     "name": "stdout",
     "output_type": "stream",
     "text": [
      "\n",
      "{'CompleteTopologyShuffle': 12, 'IPShuffle': 14, 'OSDiversity': 6, 'ServiceDiversity': 8}\n",
      "Saving evaluation results to /home/22489437/Documents/GitHub/MTDSim/experiments/experimental_data/results/epsilon_0.5_decay_0.99.csv\n",
      "Saving evaluation results to /home/22489437/Documents/GitHub/MTDSim/experiments/experimental_data/results/epsilon_0.5_decay_0.99.csv\n"
     ]
    },
    {
     "name": "stderr",
     "output_type": "stream",
     "text": [
      "Compiled the loaded model, but the compiled metrics have yet to be built. `model.compile_metrics` will be empty until you train or evaluate the model.\n",
      "Compiled the loaded model, but the compiled metrics have yet to be built. `model.compile_metrics` will be empty until you train or evaluate the model.\n"
     ]
    },
    {
     "name": "stdout",
     "output_type": "stream",
     "text": [
      "{'CompleteTopologyShuffle': 6, 'IPShuffle': 10, 'OSDiversity': 8, 'ServiceDiversity': 16}\n",
      "Saving evaluation results to /home/22489437/Documents/GitHub/MTDSim/experiments/experimental_data/results/epsilon_0.5_decay_0.99.csv\n"
     ]
    },
    {
     "name": "stderr",
     "output_type": "stream",
     "text": [
      "Compiled the loaded model, but the compiled metrics have yet to be built. `model.compile_metrics` will be empty until you train or evaluate the model.\n"
     ]
    },
    {
     "name": "stdout",
     "output_type": "stream",
     "text": [
      "{'CompleteTopologyShuffle': 10, 'IPShuffle': 14, 'OSDiversity': 14, 'ServiceDiversity': 6}\n",
      "Saving evaluation results to /home/22489437/Documents/GitHub/MTDSim/experiments/experimental_data/results/epsilon_0.5_decay_0.99.csv\n"
     ]
    },
    {
     "name": "stderr",
     "output_type": "stream",
     "text": [
      "Compiled the loaded model, but the compiled metrics have yet to be built. `model.compile_metrics` will be empty until you train or evaluate the model.\n"
     ]
    },
    {
     "name": "stdout",
     "output_type": "stream",
     "text": [
      "{'CompleteTopologyShuffle': 14, 'IPShuffle': 6, 'OSDiversity': 6, 'ServiceDiversity': 8}\n",
      "{'CompleteTopologyShuffle': 14, 'IPShuffle': 6, 'OSDiversity': 6, 'ServiceDiversity': 12}\n",
      "Saving evaluation results to /home/22489437/Documents/GitHub/MTDSim/experiments/experimental_data/results/epsilon_0.5_decay_0.99.csv\n"
     ]
    },
    {
     "name": "stderr",
     "output_type": "stream",
     "text": [
      "Compiled the loaded model, but the compiled metrics have yet to be built. `model.compile_metrics` will be empty until you train or evaluate the model.\n"
     ]
    },
    {
     "name": "stdout",
     "output_type": "stream",
     "text": [
      "Saving evaluation results to /home/22489437/Documents/GitHub/MTDSim/experiments/experimental_data/results/epsilon_0.5_decay_0.99.csv\n"
     ]
    },
    {
     "name": "stderr",
     "output_type": "stream",
     "text": [
      "Compiled the loaded model, but the compiled metrics have yet to be built. `model.compile_metrics` will be empty until you train or evaluate the model.\n"
     ]
    },
    {
     "name": "stdout",
     "output_type": "stream",
     "text": [
      "{'CompleteTopologyShuffle': 12, 'IPShuffle': 6, 'OSDiversity': 6, 'ServiceDiversity': 8}\n",
      "Saving evaluation results to /home/22489437/Documents/GitHub/MTDSim/experiments/experimental_data/results/epsilon_0.5_decay_0.99.csv\n",
      "{'CompleteTopologyShuffle': 12, 'IPShuffle': 8, 'OSDiversity': 6, 'ServiceDiversity': 6}\n"
     ]
    },
    {
     "name": "stderr",
     "output_type": "stream",
     "text": [
      "Compiled the loaded model, but the compiled metrics have yet to be built. `model.compile_metrics` will be empty until you train or evaluate the model.\n"
     ]
    },
    {
     "name": "stdout",
     "output_type": "stream",
     "text": [
      "Saving evaluation results to /home/22489437/Documents/GitHub/MTDSim/experiments/experimental_data/results/epsilon_0.5_decay_0.99.csv\n"
     ]
    },
    {
     "name": "stderr",
     "output_type": "stream",
     "text": [
      "Compiled the loaded model, but the compiled metrics have yet to be built. `model.compile_metrics` will be empty until you train or evaluate the model.\n"
     ]
    },
    {
     "name": "stdout",
     "output_type": "stream",
     "text": [
      "{'CompleteTopologyShuffle': 12, 'IPShuffle': 18, 'OSDiversity': 12, 'ServiceDiversity': 6}\n",
      "Saving evaluation results to /home/22489437/Documents/GitHub/MTDSim/experiments/experimental_data/results/epsilon_0.5_decay_0.99.csv\n"
     ]
    },
    {
     "name": "stderr",
     "output_type": "stream",
     "text": [
      "Compiled the loaded model, but the compiled metrics have yet to be built. `model.compile_metrics` will be empty until you train or evaluate the model.\n"
     ]
    },
    {
     "name": "stdout",
     "output_type": "stream",
     "text": [
      "{'CompleteTopologyShuffle': 10, 'IPShuffle': 4, 'OSDiversity': 8, 'ServiceDiversity': 10}\n",
      "Saving evaluation results to /home/22489437/Documents/GitHub/MTDSim/experiments/experimental_data/results/epsilon_0.5_decay_0.99.csv\n"
     ]
    },
    {
     "name": "stderr",
     "output_type": "stream",
     "text": [
      "Compiled the loaded model, but the compiled metrics have yet to be built. `model.compile_metrics` will be empty until you train or evaluate the model.\n"
     ]
    },
    {
     "name": "stdout",
     "output_type": "stream",
     "text": [
      "{'CompleteTopologyShuffle': 14, 'IPShuffle': 6, 'OSDiversity': 22, 'ServiceDiversity': 12}\n",
      "Saving evaluation results to /home/22489437/Documents/GitHub/MTDSim/experiments/experimental_data/results/epsilon_0.5_decay_0.99.csv\n"
     ]
    },
    {
     "name": "stderr",
     "output_type": "stream",
     "text": [
      "Compiled the loaded model, but the compiled metrics have yet to be built. `model.compile_metrics` will be empty until you train or evaluate the model.\n"
     ]
    },
    {
     "name": "stdout",
     "output_type": "stream",
     "text": [
      "{'CompleteTopologyShuffle': 12, 'IPShuffle': 14, 'OSDiversity': 8, 'ServiceDiversity': 8}\n",
      "Saving evaluation results to /home/22489437/Documents/GitHub/MTDSim/experiments/experimental_data/results/epsilon_0.5_decay_0.99.csv\n"
     ]
    },
    {
     "name": "stderr",
     "output_type": "stream",
     "text": [
      "Compiled the loaded model, but the compiled metrics have yet to be built. `model.compile_metrics` will be empty until you train or evaluate the model.\n"
     ]
    },
    {
     "name": "stdout",
     "output_type": "stream",
     "text": [
      "{'CompleteTopologyShuffle': 6, 'IPShuffle': 6, 'OSDiversity': 16, 'ServiceDiversity': 10}\n",
      "Saving evaluation results to /home/22489437/Documents/GitHub/MTDSim/experiments/experimental_data/results/epsilon_0.5_decay_0.99.csv\n"
     ]
    },
    {
     "name": "stderr",
     "output_type": "stream",
     "text": [
      "Compiled the loaded model, but the compiled metrics have yet to be built. `model.compile_metrics` will be empty until you train or evaluate the model.\n"
     ]
    },
    {
     "name": "stdout",
     "output_type": "stream",
     "text": [
      "{'CompleteTopologyShuffle': 14, 'IPShuffle': 12, 'OSDiversity': 8, 'ServiceDiversity': 4}\n",
      "Saving evaluation results to /home/22489437/Documents/GitHub/MTDSim/experiments/experimental_data/results/epsilon_0.5_decay_0.99.csv\n"
     ]
    },
    {
     "name": "stderr",
     "output_type": "stream",
     "text": [
      "Compiled the loaded model, but the compiled metrics have yet to be built. `model.compile_metrics` will be empty until you train or evaluate the model.\n"
     ]
    },
    {
     "name": "stdout",
     "output_type": "stream",
     "text": [
      "{'CompleteTopologyShuffle': 12, 'IPShuffle': 10, 'OSDiversity': 14, 'ServiceDiversity': 6}\n",
      "Saving evaluation results to /home/22489437/Documents/GitHub/MTDSim/experiments/experimental_data/results/epsilon_0.5_decay_0.99.csv\n"
     ]
    },
    {
     "name": "stderr",
     "output_type": "stream",
     "text": [
      "Compiled the loaded model, but the compiled metrics have yet to be built. `model.compile_metrics` will be empty until you train or evaluate the model.\n"
     ]
    },
    {
     "name": "stdout",
     "output_type": "stream",
     "text": [
      "{'CompleteTopologyShuffle': 12, 'IPShuffle': 14, 'OSDiversity': 16, 'ServiceDiversity': 4}\n",
      "{'CompleteTopologyShuffle': 8, 'IPShuffle': 4, 'OSDiversity': 22, 'ServiceDiversity': 8}\n",
      "Saving evaluation results to /home/22489437/Documents/GitHub/MTDSim/experiments/experimental_data/results/epsilon_0.5_decay_0.99.csv\n",
      "Saving evaluation results to /home/22489437/Documents/GitHub/MTDSim/experiments/experimental_data/results/epsilon_0.5_decay_0.99.csv\n"
     ]
    },
    {
     "name": "stderr",
     "output_type": "stream",
     "text": [
      "Compiled the loaded model, but the compiled metrics have yet to be built. `model.compile_metrics` will be empty until you train or evaluate the model.\n",
      "Compiled the loaded model, but the compiled metrics have yet to be built. `model.compile_metrics` will be empty until you train or evaluate the model.\n"
     ]
    },
    {
     "name": "stdout",
     "output_type": "stream",
     "text": [
      "{'CompleteTopologyShuffle': 12, 'IPShuffle': 12, 'OSDiversity': 12, 'ServiceDiversity': 2}\n",
      "Saving evaluation results to /home/22489437/Documents/GitHub/MTDSim/experiments/experimental_data/results/epsilon_0.5_decay_0.99.csv\n"
     ]
    },
    {
     "name": "stderr",
     "output_type": "stream",
     "text": [
      "Compiled the loaded model, but the compiled metrics have yet to be built. `model.compile_metrics` will be empty until you train or evaluate the model.\n"
     ]
    },
    {
     "name": "stdout",
     "output_type": "stream",
     "text": [
      "{'CompleteTopologyShuffle': 14, 'IPShuffle': 10, 'OSDiversity': 6, 'ServiceDiversity': 12}\n",
      "Saving evaluation results to /home/22489437/Documents/GitHub/MTDSim/experiments/experimental_data/results/epsilon_0.5_decay_0.99.csv\n",
      "{'CompleteTopologyShuffle': 6, 'IPShuffle': 6, 'OSDiversity': 6, 'ServiceDiversity': 12}\n"
     ]
    },
    {
     "name": "stderr",
     "output_type": "stream",
     "text": [
      "Compiled the loaded model, but the compiled metrics have yet to be built. `model.compile_metrics` will be empty until you train or evaluate the model.\n"
     ]
    },
    {
     "name": "stdout",
     "output_type": "stream",
     "text": [
      "Saving evaluation results to /home/22489437/Documents/GitHub/MTDSim/experiments/experimental_data/results/epsilon_0.5_decay_0.99.csv\n"
     ]
    },
    {
     "name": "stderr",
     "output_type": "stream",
     "text": [
      "Compiled the loaded model, but the compiled metrics have yet to be built. `model.compile_metrics` will be empty until you train or evaluate the model.\n"
     ]
    },
    {
     "name": "stdout",
     "output_type": "stream",
     "text": [
      "{'CompleteTopologyShuffle': 12, 'IPShuffle': 10, 'OSDiversity': 16, 'ServiceDiversity': 6}\n",
      "Saving evaluation results to /home/22489437/Documents/GitHub/MTDSim/experiments/experimental_data/results/epsilon_0.5_decay_0.99.csv\n"
     ]
    },
    {
     "name": "stderr",
     "output_type": "stream",
     "text": [
      "Compiled the loaded model, but the compiled metrics have yet to be built. `model.compile_metrics` will be empty until you train or evaluate the model.\n"
     ]
    },
    {
     "name": "stdout",
     "output_type": "stream",
     "text": [
      "{'CompleteTopologyShuffle': 12, 'IPShuffle': 10, 'OSDiversity': 12, 'ServiceDiversity': 16}\n",
      "{'CompleteTopologyShuffle': 4, 'IPShuffle': 12, 'OSDiversity': 6, 'ServiceDiversity': 12}\n",
      "Saving evaluation results to /home/22489437/Documents/GitHub/MTDSim/experiments/experimental_data/results/epsilon_0.5_decay_0.99.csv\n",
      "Saving evaluation results to /home/22489437/Documents/GitHub/MTDSim/experiments/experimental_data/results/epsilon_0.5_decay_0.99.csv\n"
     ]
    },
    {
     "name": "stderr",
     "output_type": "stream",
     "text": [
      "Compiled the loaded model, but the compiled metrics have yet to be built. `model.compile_metrics` will be empty until you train or evaluate the model.\n",
      "Compiled the loaded model, but the compiled metrics have yet to be built. `model.compile_metrics` will be empty until you train or evaluate the model.\n"
     ]
    },
    {
     "name": "stdout",
     "output_type": "stream",
     "text": [
      "{'CompleteTopologyShuffle': 14, 'IPShuffle': 16, 'OSDiversity': 8, 'ServiceDiversity': 6}\n",
      "Saving evaluation results to /home/22489437/Documents/GitHub/MTDSim/experiments/experimental_data/results/epsilon_0.5_decay_0.99.csv\n"
     ]
    },
    {
     "name": "stderr",
     "output_type": "stream",
     "text": [
      "Compiled the loaded model, but the compiled metrics have yet to be built. `model.compile_metrics` will be empty until you train or evaluate the model.\n"
     ]
    },
    {
     "name": "stdout",
     "output_type": "stream",
     "text": [
      "{'CompleteTopologyShuffle': 10, 'IPShuffle': 8, 'OSDiversity': 14, 'ServiceDiversity': 10}\n",
      "Saving evaluation results to /home/22489437/Documents/GitHub/MTDSim/experiments/experimental_data/results/epsilon_0.5_decay_0.99.csv\n"
     ]
    },
    {
     "name": "stderr",
     "output_type": "stream",
     "text": [
      "Compiled the loaded model, but the compiled metrics have yet to be built. `model.compile_metrics` will be empty until you train or evaluate the model.\n"
     ]
    },
    {
     "name": "stdout",
     "output_type": "stream",
     "text": [
      "{'CompleteTopologyShuffle': 14, 'IPShuffle': 2, 'OSDiversity': 14, 'ServiceDiversity': 8}\n",
      "Saving evaluation results to /home/22489437/Documents/GitHub/MTDSim/experiments/experimental_data/results/epsilon_0.5_decay_0.99.csv\n"
     ]
    },
    {
     "name": "stderr",
     "output_type": "stream",
     "text": [
      "Compiled the loaded model, but the compiled metrics have yet to be built. `model.compile_metrics` will be empty until you train or evaluate the model.\n"
     ]
    },
    {
     "name": "stdout",
     "output_type": "stream",
     "text": [
      "{'CompleteTopologyShuffle': 10, 'IPShuffle': 4, 'OSDiversity': 6, 'ServiceDiversity': 16}\n",
      "{'CompleteTopologyShuffle': 16, 'IPShuffle': 8, 'OSDiversity': 12, 'ServiceDiversity': 8}\n",
      "Saving evaluation results to /home/22489437/Documents/GitHub/MTDSim/experiments/experimental_data/results/epsilon_0.5_decay_0.99.csv\n",
      "Saving evaluation results to /home/22489437/Documents/GitHub/MTDSim/experiments/experimental_data/results/epsilon_0.5_decay_0.99.csv\n"
     ]
    },
    {
     "name": "stderr",
     "output_type": "stream",
     "text": [
      "Compiled the loaded model, but the compiled metrics have yet to be built. `model.compile_metrics` will be empty until you train or evaluate the model.\n",
      "Compiled the loaded model, but the compiled metrics have yet to be built. `model.compile_metrics` will be empty until you train or evaluate the model.\n"
     ]
    },
    {
     "name": "stdout",
     "output_type": "stream",
     "text": [
      "{'CompleteTopologyShuffle': 20, 'IPShuffle': 12, 'OSDiversity': 6, 'ServiceDiversity': 10}\n",
      "Saving evaluation results to /home/22489437/Documents/GitHub/MTDSim/experiments/experimental_data/results/epsilon_0.5_decay_0.99.csv\n"
     ]
    },
    {
     "name": "stderr",
     "output_type": "stream",
     "text": [
      "Compiled the loaded model, but the compiled metrics have yet to be built. `model.compile_metrics` will be empty until you train or evaluate the model.\n"
     ]
    },
    {
     "name": "stdout",
     "output_type": "stream",
     "text": [
      "{'CompleteTopologyShuffle': 6, 'IPShuffle': 10, 'OSDiversity': 10, 'ServiceDiversity': 16}\n",
      "Saving evaluation results to /home/22489437/Documents/GitHub/MTDSim/experiments/experimental_data/results/epsilon_0.5_decay_0.99.csv\n"
     ]
    },
    {
     "name": "stderr",
     "output_type": "stream",
     "text": [
      "Compiled the loaded model, but the compiled metrics have yet to be built. `model.compile_metrics` will be empty until you train or evaluate the model.\n"
     ]
    },
    {
     "name": "stdout",
     "output_type": "stream",
     "text": [
      "{'CompleteTopologyShuffle': 10, 'IPShuffle': 10, 'OSDiversity': 14, 'ServiceDiversity': 10}\n",
      "Saving evaluation results to /home/22489437/Documents/GitHub/MTDSim/experiments/experimental_data/results/epsilon_0.5_decay_0.99.csv\n"
     ]
    },
    {
     "name": "stderr",
     "output_type": "stream",
     "text": [
      "Compiled the loaded model, but the compiled metrics have yet to be built. `model.compile_metrics` will be empty until you train or evaluate the model.\n"
     ]
    },
    {
     "name": "stdout",
     "output_type": "stream",
     "text": [
      "{'CompleteTopologyShuffle': 10, 'IPShuffle': 10, 'OSDiversity': 14, 'ServiceDiversity': 4}\n",
      "Saving evaluation results to /home/22489437/Documents/GitHub/MTDSim/experiments/experimental_data/results/epsilon_0.5_decay_0.99.csv\n"
     ]
    },
    {
     "name": "stderr",
     "output_type": "stream",
     "text": [
      "Compiled the loaded model, but the compiled metrics have yet to be built. `model.compile_metrics` will be empty until you train or evaluate the model.\n"
     ]
    },
    {
     "name": "stdout",
     "output_type": "stream",
     "text": [
      "{'CompleteTopologyShuffle': 6, 'IPShuffle': 12, 'OSDiversity': 8, 'ServiceDiversity': 8}\n",
      "Saving evaluation results to /home/22489437/Documents/GitHub/MTDSim/experiments/experimental_data/results/epsilon_0.5_decay_0.99.csv\n"
     ]
    },
    {
     "name": "stderr",
     "output_type": "stream",
     "text": [
      "Compiled the loaded model, but the compiled metrics have yet to be built. `model.compile_metrics` will be empty until you train or evaluate the model.\n"
     ]
    },
    {
     "name": "stdout",
     "output_type": "stream",
     "text": [
      "{'CompleteTopologyShuffle': 6, 'IPShuffle': 4, 'OSDiversity': 28, 'ServiceDiversity': 8}\n",
      "Saving evaluation results to /home/22489437/Documents/GitHub/MTDSim/experiments/experimental_data/results/epsilon_0.5_decay_0.99.csv\n"
     ]
    },
    {
     "name": "stderr",
     "output_type": "stream",
     "text": [
      "Compiled the loaded model, but the compiled metrics have yet to be built. `model.compile_metrics` will be empty until you train or evaluate the model.\n"
     ]
    },
    {
     "name": "stdout",
     "output_type": "stream",
     "text": [
      "{'CompleteTopologyShuffle': 10, 'IPShuffle': 12, 'OSDiversity': 10, 'ServiceDiversity': 6}\n",
      "{'CompleteTopologyShuffle': 10, 'IPShuffle': 12, 'OSDiversity': 14, 'ServiceDiversity': 6}\n",
      "Saving evaluation results to /home/22489437/Documents/GitHub/MTDSim/experiments/experimental_data/results/epsilon_0.5_decay_0.99.csv\n",
      "Saving evaluation results to /home/22489437/Documents/GitHub/MTDSim/experiments/experimental_data/results/epsilon_0.5_decay_0.99.csv\n"
     ]
    },
    {
     "name": "stderr",
     "output_type": "stream",
     "text": [
      "Compiled the loaded model, but the compiled metrics have yet to be built. `model.compile_metrics` will be empty until you train or evaluate the model.\n",
      "Compiled the loaded model, but the compiled metrics have yet to be built. `model.compile_metrics` will be empty until you train or evaluate the model.\n"
     ]
    },
    {
     "name": "stdout",
     "output_type": "stream",
     "text": [
      "{'CompleteTopologyShuffle': 6, 'IPShuffle': 16, 'OSDiversity': 8, 'ServiceDiversity': 8}\n",
      "{'CompleteTopologyShuffle': 12, 'IPShuffle': 14, 'OSDiversity': 4, 'ServiceDiversity': 4}\n",
      "Saving evaluation results to /home/22489437/Documents/GitHub/MTDSim/experiments/experimental_data/results/epsilon_0.5_decay_0.99.csv\n"
     ]
    },
    {
     "name": "stderr",
     "output_type": "stream",
     "text": [
      "Compiled the loaded model, but the compiled metrics have yet to be built. `model.compile_metrics` will be empty until you train or evaluate the model.\n"
     ]
    },
    {
     "name": "stdout",
     "output_type": "stream",
     "text": [
      "{'CompleteTopologyShuffle': 18, 'IPShuffle': 14, 'OSDiversity': 8, 'ServiceDiversity': 6}\n",
      "Saving evaluation results to /home/22489437/Documents/GitHub/MTDSim/experiments/experimental_data/results/epsilon_0.5_decay_0.99.csv\n"
     ]
    },
    {
     "name": "stderr",
     "output_type": "stream",
     "text": [
      "Compiled the loaded model, but the compiled metrics have yet to be built. `model.compile_metrics` will be empty until you train or evaluate the model.\n"
     ]
    },
    {
     "name": "stdout",
     "output_type": "stream",
     "text": [
      "Saving evaluation results to /home/22489437/Documents/GitHub/MTDSim/experiments/experimental_data/results/epsilon_0.5_decay_0.99.csv\n",
      "{'CompleteTopologyShuffle': 14, 'IPShuffle': 10, 'OSDiversity': 10, 'ServiceDiversity': 6}\n"
     ]
    },
    {
     "name": "stderr",
     "output_type": "stream",
     "text": [
      "Compiled the loaded model, but the compiled metrics have yet to be built. `model.compile_metrics` will be empty until you train or evaluate the model.\n"
     ]
    },
    {
     "name": "stdout",
     "output_type": "stream",
     "text": [
      "Saving evaluation results to /home/22489437/Documents/GitHub/MTDSim/experiments/experimental_data/results/epsilon_0.5_decay_0.99.csv\n"
     ]
    },
    {
     "name": "stderr",
     "output_type": "stream",
     "text": [
      "Compiled the loaded model, but the compiled metrics have yet to be built. `model.compile_metrics` will be empty until you train or evaluate the model.\n"
     ]
    },
    {
     "name": "stdout",
     "output_type": "stream",
     "text": [
      "{'CompleteTopologyShuffle': 6, 'IPShuffle': 4, 'OSDiversity': 16, 'ServiceDiversity': 12}\n",
      "Saving evaluation results to /home/22489437/Documents/GitHub/MTDSim/experiments/experimental_data/results/epsilon_0.5_decay_0.99.csv\n"
     ]
    },
    {
     "name": "stderr",
     "output_type": "stream",
     "text": [
      "Compiled the loaded model, but the compiled metrics have yet to be built. `model.compile_metrics` will be empty until you train or evaluate the model.\n"
     ]
    },
    {
     "name": "stdout",
     "output_type": "stream",
     "text": [
      "{'CompleteTopologyShuffle': 16, 'IPShuffle': 10, 'OSDiversity': 6, 'ServiceDiversity': 4}\n",
      "Saving evaluation results to /home/22489437/Documents/GitHub/MTDSim/experiments/experimental_data/results/epsilon_0.5_decay_0.99.csv\n",
      "{'CompleteTopologyShuffle': 12, 'IPShuffle': 10, 'OSDiversity': 10, 'ServiceDiversity': 8}\n"
     ]
    },
    {
     "name": "stderr",
     "output_type": "stream",
     "text": [
      "Compiled the loaded model, but the compiled metrics have yet to be built. `model.compile_metrics` will be empty until you train or evaluate the model.\n"
     ]
    },
    {
     "name": "stdout",
     "output_type": "stream",
     "text": [
      "{'CompleteTopologyShuffle': 6, 'IPShuffle': 8, 'OSDiversity': 12, 'ServiceDiversity': 12}\n",
      "Saving evaluation results to /home/22489437/Documents/GitHub/MTDSim/experiments/experimental_data/results/epsilon_0.5_decay_0.99.csv\n",
      "{'CompleteTopologyShuffle': 12, 'IPShuffle': 12, 'OSDiversity': 12, 'ServiceDiversity': 6}\n",
      "Saving evaluation results to /home/22489437/Documents/GitHub/MTDSim/experiments/experimental_data/results/epsilon_0.5_decay_0.99.csv\n"
     ]
    },
    {
     "name": "stderr",
     "output_type": "stream",
     "text": [
      "Compiled the loaded model, but the compiled metrics have yet to be built. `model.compile_metrics` will be empty until you train or evaluate the model.\n",
      "Compiled the loaded model, but the compiled metrics have yet to be built. `model.compile_metrics` will be empty until you train or evaluate the model.\n"
     ]
    },
    {
     "name": "stdout",
     "output_type": "stream",
     "text": [
      "Saving evaluation results to /home/22489437/Documents/GitHub/MTDSim/experiments/experimental_data/results/epsilon_0.5_decay_0.99.csv\n"
     ]
    },
    {
     "name": "stderr",
     "output_type": "stream",
     "text": [
      "Compiled the loaded model, but the compiled metrics have yet to be built. `model.compile_metrics` will be empty until you train or evaluate the model.\n"
     ]
    },
    {
     "name": "stdout",
     "output_type": "stream",
     "text": [
      "{'CompleteTopologyShuffle': 14, 'IPShuffle': 10, 'OSDiversity': 8, 'ServiceDiversity': 12}\n",
      "{'CompleteTopologyShuffle': 2, 'IPShuffle': 12, 'OSDiversity': 14, 'ServiceDiversity': 12}\n",
      "Saving evaluation results to /home/22489437/Documents/GitHub/MTDSim/experiments/experimental_data/results/epsilon_0.5_decay_0.99.csv\n"
     ]
    },
    {
     "name": "stderr",
     "output_type": "stream",
     "text": [
      "Compiled the loaded model, but the compiled metrics have yet to be built. `model.compile_metrics` will be empty until you train or evaluate the model.\n"
     ]
    },
    {
     "name": "stdout",
     "output_type": "stream",
     "text": [
      "Saving evaluation results to /home/22489437/Documents/GitHub/MTDSim/experiments/experimental_data/results/epsilon_0.5_decay_0.99.csv\n",
      "{'CompleteTopologyShuffle': 12, 'IPShuffle': 12, 'OSDiversity': 8, 'ServiceDiversity': 8}"
     ]
    },
    {
     "name": "stderr",
     "output_type": "stream",
     "text": [
      "Compiled the loaded model, but the compiled metrics have yet to be built. `model.compile_metrics` will be empty until you train or evaluate the model.\n"
     ]
    },
    {
     "name": "stdout",
     "output_type": "stream",
     "text": [
      "\n",
      "Saving evaluation results to /home/22489437/Documents/GitHub/MTDSim/experiments/experimental_data/results/epsilon_0.5_decay_0.99.csv\n"
     ]
    },
    {
     "name": "stderr",
     "output_type": "stream",
     "text": [
      "Compiled the loaded model, but the compiled metrics have yet to be built. `model.compile_metrics` will be empty until you train or evaluate the model.\n"
     ]
    },
    {
     "name": "stdout",
     "output_type": "stream",
     "text": [
      "{'CompleteTopologyShuffle': 6, 'IPShuffle': 12, 'OSDiversity': 10, 'ServiceDiversity': 10}\n",
      "Saving evaluation results to /home/22489437/Documents/GitHub/MTDSim/experiments/experimental_data/results/epsilon_0.5_decay_0.99.csv\n"
     ]
    },
    {
     "name": "stderr",
     "output_type": "stream",
     "text": [
      "Compiled the loaded model, but the compiled metrics have yet to be built. `model.compile_metrics` will be empty until you train or evaluate the model.\n"
     ]
    },
    {
     "name": "stdout",
     "output_type": "stream",
     "text": [
      "{'CompleteTopologyShuffle': 12, 'IPShuffle': 16, 'OSDiversity': 8, 'ServiceDiversity': 6}\n",
      "Saving evaluation results to /home/22489437/Documents/GitHub/MTDSim/experiments/experimental_data/results/epsilon_0.5_decay_0.99.csv\n"
     ]
    },
    {
     "name": "stderr",
     "output_type": "stream",
     "text": [
      "Compiled the loaded model, but the compiled metrics have yet to be built. `model.compile_metrics` will be empty until you train or evaluate the model.\n"
     ]
    },
    {
     "name": "stdout",
     "output_type": "stream",
     "text": [
      "{'CompleteTopologyShuffle': 2, 'IPShuffle': 8, 'OSDiversity': 8, 'ServiceDiversity': 14}\n",
      "Saving evaluation results to /home/22489437/Documents/GitHub/MTDSim/experiments/experimental_data/results/epsilon_0.5_decay_0.99.csv\n"
     ]
    },
    {
     "name": "stderr",
     "output_type": "stream",
     "text": [
      "Compiled the loaded model, but the compiled metrics have yet to be built. `model.compile_metrics` will be empty until you train or evaluate the model.\n"
     ]
    },
    {
     "name": "stdout",
     "output_type": "stream",
     "text": [
      "{'CompleteTopologyShuffle': 8, 'IPShuffle': 16, 'OSDiversity': 12, 'ServiceDiversity': 12}\n",
      "{'CompleteTopologyShuffle': 14, 'IPShuffle': 12, 'OSDiversity': 6, 'ServiceDiversity': 14}\n",
      "Saving evaluation results to /home/22489437/Documents/GitHub/MTDSim/experiments/experimental_data/results/epsilon_0.5_decay_0.99.csv\n"
     ]
    },
    {
     "name": "stderr",
     "output_type": "stream",
     "text": [
      "Compiled the loaded model, but the compiled metrics have yet to be built. `model.compile_metrics` will be empty until you train or evaluate the model.\n"
     ]
    },
    {
     "name": "stdout",
     "output_type": "stream",
     "text": [
      "{'CompleteTopologyShuffle': 8, 'IPShuffle': 8, 'OSDiversity': 12, 'ServiceDiversity': 14}\n",
      "Saving evaluation results to /home/22489437/Documents/GitHub/MTDSim/experiments/experimental_data/results/epsilon_0.5_decay_0.99.csv\n"
     ]
    },
    {
     "name": "stderr",
     "output_type": "stream",
     "text": [
      "Compiled the loaded model, but the compiled metrics have yet to be built. `model.compile_metrics` will be empty until you train or evaluate the model.\n"
     ]
    },
    {
     "name": "stdout",
     "output_type": "stream",
     "text": [
      "Saving evaluation results to /home/22489437/Documents/GitHub/MTDSim/experiments/experimental_data/results/epsilon_0.5_decay_0.99.csv\n"
     ]
    },
    {
     "name": "stderr",
     "output_type": "stream",
     "text": [
      "Compiled the loaded model, but the compiled metrics have yet to be built. `model.compile_metrics` will be empty until you train or evaluate the model.\n"
     ]
    },
    {
     "name": "stdout",
     "output_type": "stream",
     "text": [
      "{'CompleteTopologyShuffle': 4, 'IPShuffle': 8, 'OSDiversity': 16, 'ServiceDiversity': 16}\n",
      "Saving evaluation results to /home/22489437/Documents/GitHub/MTDSim/experiments/experimental_data/results/epsilon_0.5_decay_0.99.csv\n"
     ]
    },
    {
     "name": "stderr",
     "output_type": "stream",
     "text": [
      "Compiled the loaded model, but the compiled metrics have yet to be built. `model.compile_metrics` will be empty until you train or evaluate the model.\n"
     ]
    },
    {
     "name": "stdout",
     "output_type": "stream",
     "text": [
      "{'CompleteTopologyShuffle': 12, 'IPShuffle': 6, 'OSDiversity': 12, 'ServiceDiversity': 12}\n",
      "Saving evaluation results to /home/22489437/Documents/GitHub/MTDSim/experiments/experimental_data/results/epsilon_0.5_decay_0.99.csv\n"
     ]
    },
    {
     "name": "stderr",
     "output_type": "stream",
     "text": [
      "Compiled the loaded model, but the compiled metrics have yet to be built. `model.compile_metrics` will be empty until you train or evaluate the model.\n"
     ]
    },
    {
     "name": "stdout",
     "output_type": "stream",
     "text": [
      "{'CompleteTopologyShuffle': 8, 'IPShuffle': 8, 'OSDiversity': 18, 'ServiceDiversity': 16}\n",
      "Saving evaluation results to /home/22489437/Documents/GitHub/MTDSim/experiments/experimental_data/results/epsilon_0.5_decay_0.99.csv\n"
     ]
    },
    {
     "name": "stderr",
     "output_type": "stream",
     "text": [
      "Compiled the loaded model, but the compiled metrics have yet to be built. `model.compile_metrics` will be empty until you train or evaluate the model.\n"
     ]
    },
    {
     "name": "stdout",
     "output_type": "stream",
     "text": [
      "{'CompleteTopologyShuffle': 6, 'IPShuffle': 8, 'OSDiversity': 16, 'ServiceDiversity': 4}\n",
      "Saving evaluation results to /home/22489437/Documents/GitHub/MTDSim/experiments/experimental_data/results/epsilon_0.5_decay_0.99.csv\n"
     ]
    },
    {
     "name": "stderr",
     "output_type": "stream",
     "text": [
      "Compiled the loaded model, but the compiled metrics have yet to be built. `model.compile_metrics` will be empty until you train or evaluate the model.\n"
     ]
    },
    {
     "name": "stdout",
     "output_type": "stream",
     "text": [
      "{'CompleteTopologyShuffle': 8, 'IPShuffle': 2, 'OSDiversity': 16, 'ServiceDiversity': 4}\n",
      "{'CompleteTopologyShuffle': 12, 'IPShuffle': 8, 'OSDiversity': 10, 'ServiceDiversity': 8}\n",
      "Saving evaluation results to /home/22489437/Documents/GitHub/MTDSim/experiments/experimental_data/results/epsilon_0.5_decay_0.99.csv\n",
      "Saving evaluation results to /home/22489437/Documents/GitHub/MTDSim/experiments/experimental_data/results/epsilon_0.5_decay_0.99.csv\n"
     ]
    },
    {
     "name": "stderr",
     "output_type": "stream",
     "text": [
      "Compiled the loaded model, but the compiled metrics have yet to be built. `model.compile_metrics` will be empty until you train or evaluate the model.\n",
      "Compiled the loaded model, but the compiled metrics have yet to be built. `model.compile_metrics` will be empty until you train or evaluate the model.\n"
     ]
    },
    {
     "name": "stdout",
     "output_type": "stream",
     "text": [
      "{'CompleteTopologyShuffle': 8, 'IPShuffle': 12, 'OSDiversity': 8, 'ServiceDiversity': 14}\n",
      "Saving evaluation results to /home/22489437/Documents/GitHub/MTDSim/experiments/experimental_data/results/epsilon_0.5_decay_0.99.csv\n"
     ]
    },
    {
     "name": "stderr",
     "output_type": "stream",
     "text": [
      "Compiled the loaded model, but the compiled metrics have yet to be built. `model.compile_metrics` will be empty until you train or evaluate the model.\n"
     ]
    },
    {
     "name": "stdout",
     "output_type": "stream",
     "text": [
      "{'CompleteTopologyShuffle': 8, 'IPShuffle': 8, 'OSDiversity': 12, 'ServiceDiversity': 8}\n",
      "{'CompleteTopologyShuffle': 8, 'IPShuffle': 8, 'OSDiversity': 6, 'ServiceDiversity': 12}\n",
      "Saving evaluation results to /home/22489437/Documents/GitHub/MTDSim/experiments/experimental_data/results/epsilon_0.5_decay_0.99.csv\n",
      "Saving evaluation results to /home/22489437/Documents/GitHub/MTDSim/experiments/experimental_data/results/epsilon_0.5_decay_0.99.csv\n"
     ]
    },
    {
     "name": "stderr",
     "output_type": "stream",
     "text": [
      "Compiled the loaded model, but the compiled metrics have yet to be built. `model.compile_metrics` will be empty until you train or evaluate the model.\n",
      "Compiled the loaded model, but the compiled metrics have yet to be built. `model.compile_metrics` will be empty until you train or evaluate the model.\n"
     ]
    },
    {
     "name": "stdout",
     "output_type": "stream",
     "text": [
      "{'CompleteTopologyShuffle': 12, 'IPShuffle': 8, 'OSDiversity': 10, 'ServiceDiversity': 8}\n",
      "Saving evaluation results to /home/22489437/Documents/GitHub/MTDSim/experiments/experimental_data/results/epsilon_0.5_decay_0.99.csv\n"
     ]
    },
    {
     "name": "stderr",
     "output_type": "stream",
     "text": [
      "Compiled the loaded model, but the compiled metrics have yet to be built. `model.compile_metrics` will be empty until you train or evaluate the model.\n"
     ]
    },
    {
     "name": "stdout",
     "output_type": "stream",
     "text": [
      "{'CompleteTopologyShuffle': 12, 'IPShuffle': 2, 'OSDiversity': 18, 'ServiceDiversity': 10}\n",
      "Saving evaluation results to /home/22489437/Documents/GitHub/MTDSim/experiments/experimental_data/results/epsilon_0.5_decay_0.99.csv\n"
     ]
    },
    {
     "name": "stderr",
     "output_type": "stream",
     "text": [
      "Compiled the loaded model, but the compiled metrics have yet to be built. `model.compile_metrics` will be empty until you train or evaluate the model.\n"
     ]
    },
    {
     "name": "stdout",
     "output_type": "stream",
     "text": [
      "{'CompleteTopologyShuffle': 8, 'IPShuffle': 6, 'OSDiversity': 12, 'ServiceDiversity': 16}\n",
      "Saving evaluation results to /home/22489437/Documents/GitHub/MTDSim/experiments/experimental_data/results/epsilon_0.5_decay_0.99.csv\n"
     ]
    },
    {
     "name": "stderr",
     "output_type": "stream",
     "text": [
      "Compiled the loaded model, but the compiled metrics have yet to be built. `model.compile_metrics` will be empty until you train or evaluate the model.\n"
     ]
    },
    {
     "name": "stdout",
     "output_type": "stream",
     "text": [
      "{'CompleteTopologyShuffle': 12, 'IPShuffle': 10, 'OSDiversity': 12, 'ServiceDiversity': 10}\n",
      "{'CompleteTopologyShuffle': 4, 'IPShuffle': 8, 'OSDiversity': 14, 'ServiceDiversity': 18}\n",
      "Saving evaluation results to /home/22489437/Documents/GitHub/MTDSim/experiments/experimental_data/results/epsilon_0.5_decay_0.99.csv\n",
      "Saving evaluation results to /home/22489437/Documents/GitHub/MTDSim/experiments/experimental_data/results/epsilon_0.5_decay_0.99.csv\n"
     ]
    },
    {
     "name": "stderr",
     "output_type": "stream",
     "text": [
      "Compiled the loaded model, but the compiled metrics have yet to be built. `model.compile_metrics` will be empty until you train or evaluate the model.\n"
     ]
    },
    {
     "name": "stdout",
     "output_type": "stream",
     "text": [
      "{'CompleteTopologyShuffle': 16, 'IPShuffle': 10, 'OSDiversity': 8, 'ServiceDiversity': 6}\n",
      "Saving evaluation results to /home/22489437/Documents/GitHub/MTDSim/experiments/experimental_data/results/epsilon_0.5_decay_0.99.csv\n",
      "{'CompleteTopologyShuffle': 18, 'IPShuffle': 14, 'OSDiversity': 12, 'ServiceDiversity': 10}\n",
      "Saving evaluation results to /home/22489437/Documents/GitHub/MTDSim/experiments/experimental_data/results/epsilon_0.5_decay_0.99.csv\n",
      "{'CompleteTopologyShuffle': 8, 'IPShuffle': 6, 'OSDiversity': 14, 'ServiceDiversity': 14}\n",
      "Saving evaluation results to /home/22489437/Documents/GitHub/MTDSim/experiments/experimental_data/results/epsilon_0.5_decay_0.99.csv\n",
      "{'CompleteTopologyShuffle': 10, 'IPShuffle': 12, 'OSDiversity': 8, 'ServiceDiversity': 10}\n",
      "Saving evaluation results to /home/22489437/Documents/GitHub/MTDSim/experiments/experimental_data/results/epsilon_0.5_decay_0.99.csv\n",
      "{'CompleteTopologyShuffle': 16, 'IPShuffle': 10, 'OSDiversity': 8, 'ServiceDiversity': 8}\n",
      "Saving evaluation results to /home/22489437/Documents/GitHub/MTDSim/experiments/experimental_data/results/epsilon_0.5_decay_0.99.csv\n",
      "{'CompleteTopologyShuffle': 8, 'IPShuffle': 10, 'OSDiversity': 14, 'ServiceDiversity': 10}\n",
      "Saving evaluation results to /home/22489437/Documents/GitHub/MTDSim/experiments/experimental_data/results/epsilon_0.5_decay_0.99.csv\n",
      "{'CompleteTopologyShuffle': 12, 'IPShuffle': 8, 'OSDiversity': 8, 'ServiceDiversity': 8}\n",
      "Saving evaluation results to /home/22489437/Documents/GitHub/MTDSim/experiments/experimental_data/results/epsilon_0.5_decay_0.99.csv\n",
      "{'CompleteTopologyShuffle': 8, 'IPShuffle': 18, 'OSDiversity': 12, 'ServiceDiversity': 2}\n",
      "Saving evaluation results to /home/22489437/Documents/GitHub/MTDSim/experiments/experimental_data/results/epsilon_0.5_decay_0.99.csv\n",
      "{'CompleteTopologyShuffle': 6, 'IPShuffle': 10, 'OSDiversity': 10, 'ServiceDiversity': 16}\n",
      "Saving evaluation results to /home/22489437/Documents/GitHub/MTDSim/experiments/experimental_data/results/epsilon_0.5_decay_0.99.csv\n",
      "{'CompleteTopologyShuffle': 16, 'IPShuffle': 4, 'OSDiversity': 14, 'ServiceDiversity': 4}\n",
      "Saving evaluation results to /home/22489437/Documents/GitHub/MTDSim/experiments/experimental_data/results/epsilon_0.5_decay_0.99.csv\n",
      "{'CompleteTopologyShuffle': 16, 'IPShuffle': 6, 'OSDiversity': 8, 'ServiceDiversity': 16}\n",
      "Saving evaluation results to /home/22489437/Documents/GitHub/MTDSim/experiments/experimental_data/results/epsilon_0.5_decay_0.99.csv\n",
      "{'CompleteTopologyShuffle': 8, 'IPShuffle': 16, 'OSDiversity': 10, 'ServiceDiversity': 4}\n",
      "Saving evaluation results to /home/22489437/Documents/GitHub/MTDSim/experiments/experimental_data/results/epsilon_0.5_decay_0.99.csv\n",
      "{'CompleteTopologyShuffle': 14, 'IPShuffle': 12, 'OSDiversity': 8, 'ServiceDiversity': 16}\n",
      "Saving evaluation results to /home/22489437/Documents/GitHub/MTDSim/experiments/experimental_data/results/epsilon_0.5_decay_0.99.csv\n",
      "{'CompleteTopologyShuffle': 14, 'IPShuffle': 12, 'OSDiversity': 12, 'ServiceDiversity': 8}\n",
      "Saving evaluation results to /home/22489437/Documents/GitHub/MTDSim/experiments/experimental_data/results/epsilon_0.5_decay_0.99.csv\n",
      "{'CompleteTopologyShuffle': 8, 'IPShuffle': 8, 'OSDiversity': 16, 'ServiceDiversity': 10}\n",
      "Saving evaluation results to /home/22489437/Documents/GitHub/MTDSim/experiments/experimental_data/results/epsilon_0.5_decay_0.99.csv\n",
      "{'CompleteTopologyShuffle': 14, 'IPShuffle': 12, 'OSDiversity': 4, 'ServiceDiversity': 10}\n",
      "Saving evaluation results to /home/22489437/Documents/GitHub/MTDSim/experiments/experimental_data/results/epsilon_0.5_decay_0.99.csv\n",
      "{'CompleteTopologyShuffle': 6, 'IPShuffle': 14, 'OSDiversity': 4, 'ServiceDiversity': 8}\n",
      "{'CompleteTopologyShuffle': 12, 'IPShuffle': 4, 'OSDiversity': 14, 'ServiceDiversity': 16}\n",
      "Saving evaluation results to /home/22489437/Documents/GitHub/MTDSim/experiments/experimental_data/results/epsilon_0.5_decay_0.99.csv\n",
      "Saving evaluation results to /home/22489437/Documents/GitHub/MTDSim/experiments/experimental_data/results/epsilon_0.5_decay_0.99.csv\n",
      "{'CompleteTopologyShuffle': 10, 'IPShuffle': 8, 'OSDiversity': 10, 'ServiceDiversity': 8}\n",
      "Saving evaluation results to /home/22489437/Documents/GitHub/MTDSim/experiments/experimental_data/results/epsilon_0.5_decay_0.99.csv\n",
      "{'CompleteTopologyShuffle': 6, 'IPShuffle': 14, 'OSDiversity': 8, 'ServiceDiversity': 6}\n",
      "Saving evaluation results to /home/22489437/Documents/GitHub/MTDSim/experiments/experimental_data/results/epsilon_0.5_decay_0.99.csv\n",
      "{'CompleteTopologyShuffle': 6, 'IPShuffle': 10, 'OSDiversity': 10, 'ServiceDiversity': 12}\n",
      "Saving evaluation results to /home/22489437/Documents/GitHub/MTDSim/experiments/experimental_data/results/epsilon_0.5_decay_0.99.csv\n",
      "{'CompleteTopologyShuffle': 14, 'IPShuffle': 18, 'OSDiversity': 4, 'ServiceDiversity': 8}\n",
      "Saving evaluation results to /home/22489437/Documents/GitHub/MTDSim/experiments/experimental_data/results/epsilon_0.5_decay_0.99.csv\n",
      "{'CompleteTopologyShuffle': 6, 'IPShuffle': 18, 'OSDiversity': 6, 'ServiceDiversity': 12}\n",
      "Saving evaluation results to /home/22489437/Documents/GitHub/MTDSim/experiments/experimental_data/results/epsilon_0.5_decay_0.99.csv\n",
      "Running experiments for model epsilon_0.5_decay_0.995\n",
      "Trial_ 0\n",
      "Trial_ 10\n",
      "Trial_ 20\n",
      "Trial_ 30\n",
      "Trial_ 40\n",
      "Trial_ 50\n",
      "Trial_ 60\n",
      "Trial_ 70\n",
      "Trial_ 80\n",
      "Trial_ 90\n"
     ]
    },
    {
     "name": "stderr",
     "output_type": "stream",
     "text": [
      "Compiled the loaded model, but the compiled metrics have yet to be built. `model.compile_metrics` will be empty until you train or evaluate the model.\n",
      "Compiled the loaded model, but the compiled metrics have yet to be built. `model.compile_metrics` will be empty until you train or evaluate the model.\n",
      "Compiled the loaded model, but the compiled metrics have yet to be built. `model.compile_metrics` will be empty until you train or evaluate the model.\n",
      "Compiled the loaded model, but the compiled metrics have yet to be built. `model.compile_metrics` will be empty until you train or evaluate the model.\n",
      "Compiled the loaded model, but the compiled metrics have yet to be built. `model.compile_metrics` will be empty until you train or evaluate the model.\n",
      "Compiled the loaded model, but the compiled metrics have yet to be built. `model.compile_metrics` will be empty until you train or evaluate the model.\n",
      "Compiled the loaded model, but the compiled metrics have yet to be built. `model.compile_metrics` will be empty until you train or evaluate the model.\n",
      "Compiled the loaded model, but the compiled metrics have yet to be built. `model.compile_metrics` will be empty until you train or evaluate the model.\n",
      "Compiled the loaded model, but the compiled metrics have yet to be built. `model.compile_metrics` will be empty until you train or evaluate the model.\n",
      "Compiled the loaded model, but the compiled metrics have yet to be built. `model.compile_metrics` will be empty until you train or evaluate the model.\n",
      "Compiled the loaded model, but the compiled metrics have yet to be built. `model.compile_metrics` will be empty until you train or evaluate the model.\n",
      "Compiled the loaded model, but the compiled metrics have yet to be built. `model.compile_metrics` will be empty until you train or evaluate the model.\n",
      "Compiled the loaded model, but the compiled metrics have yet to be built. `model.compile_metrics` will be empty until you train or evaluate the model.\n",
      "Compiled the loaded model, but the compiled metrics have yet to be built. `model.compile_metrics` will be empty until you train or evaluate the model.\n",
      "Compiled the loaded model, but the compiled metrics have yet to be built. `model.compile_metrics` will be empty until you train or evaluate the model.\n",
      "Compiled the loaded model, but the compiled metrics have yet to be built. `model.compile_metrics` will be empty until you train or evaluate the model.\n",
      "Compiled the loaded model, but the compiled metrics have yet to be built. `model.compile_metrics` will be empty until you train or evaluate the model.\n",
      "Compiled the loaded model, but the compiled metrics have yet to be built. `model.compile_metrics` will be empty until you train or evaluate the model.\n",
      "Compiled the loaded model, but the compiled metrics have yet to be built. `model.compile_metrics` will be empty until you train or evaluate the model.\n",
      "Compiled the loaded model, but the compiled metrics have yet to be built. `model.compile_metrics` will be empty until you train or evaluate the model.\n",
      "Compiled the loaded model, but the compiled metrics have yet to be built. `model.compile_metrics` will be empty until you train or evaluate the model.\n",
      "Compiled the loaded model, but the compiled metrics have yet to be built. `model.compile_metrics` will be empty until you train or evaluate the model.\n",
      "Compiled the loaded model, but the compiled metrics have yet to be built. `model.compile_metrics` will be empty until you train or evaluate the model.\n",
      "Compiled the loaded model, but the compiled metrics have yet to be built. `model.compile_metrics` will be empty until you train or evaluate the model.\n"
     ]
    },
    {
     "name": "stdout",
     "output_type": "stream",
     "text": [
      "{'CompleteTopologyShuffle': 6, 'IPShuffle': 6, 'OSDiversity': 12, 'ServiceDiversity': 16}\n",
      "Saving evaluation results to /home/22489437/Documents/GitHub/MTDSim/experiments/experimental_data/results/epsilon_0.5_decay_0.995.csv\n"
     ]
    },
    {
     "name": "stderr",
     "output_type": "stream",
     "text": [
      "Compiled the loaded model, but the compiled metrics have yet to be built. `model.compile_metrics` will be empty until you train or evaluate the model.\n"
     ]
    },
    {
     "name": "stdout",
     "output_type": "stream",
     "text": [
      "{'CompleteTopologyShuffle': 4, 'IPShuffle': 14, 'OSDiversity': 18, 'ServiceDiversity': 12}\n",
      "Saving evaluation results to /home/22489437/Documents/GitHub/MTDSim/experiments/experimental_data/results/epsilon_0.5_decay_0.995.csv\n"
     ]
    },
    {
     "name": "stderr",
     "output_type": "stream",
     "text": [
      "Compiled the loaded model, but the compiled metrics have yet to be built. `model.compile_metrics` will be empty until you train or evaluate the model.\n"
     ]
    },
    {
     "name": "stdout",
     "output_type": "stream",
     "text": [
      "{'CompleteTopologyShuffle': 6, 'IPShuffle': 16, 'OSDiversity': 14, 'ServiceDiversity': 10}\n",
      "Saving evaluation results to /home/22489437/Documents/GitHub/MTDSim/experiments/experimental_data/results/epsilon_0.5_decay_0.995.csv\n"
     ]
    },
    {
     "name": "stderr",
     "output_type": "stream",
     "text": [
      "Compiled the loaded model, but the compiled metrics have yet to be built. `model.compile_metrics` will be empty until you train or evaluate the model.\n"
     ]
    },
    {
     "name": "stdout",
     "output_type": "stream",
     "text": [
      "{'CompleteTopologyShuffle': 4, 'IPShuffle': 10, 'OSDiversity': 12, 'ServiceDiversity': 8}\n",
      "Saving evaluation results to /home/22489437/Documents/GitHub/MTDSim/experiments/experimental_data/results/epsilon_0.5_decay_0.995.csv\n"
     ]
    },
    {
     "name": "stderr",
     "output_type": "stream",
     "text": [
      "Compiled the loaded model, but the compiled metrics have yet to be built. `model.compile_metrics` will be empty until you train or evaluate the model.\n"
     ]
    },
    {
     "name": "stdout",
     "output_type": "stream",
     "text": [
      "{'CompleteTopologyShuffle': 12, 'IPShuffle': 12, 'OSDiversity': 10, 'ServiceDiversity': 8}\n",
      "Saving evaluation results to /home/22489437/Documents/GitHub/MTDSim/experiments/experimental_data/results/epsilon_0.5_decay_0.995.csv\n"
     ]
    },
    {
     "name": "stderr",
     "output_type": "stream",
     "text": [
      "Compiled the loaded model, but the compiled metrics have yet to be built. `model.compile_metrics` will be empty until you train or evaluate the model.\n"
     ]
    },
    {
     "name": "stdout",
     "output_type": "stream",
     "text": [
      "{'CompleteTopologyShuffle': 10, 'IPShuffle': 8, 'OSDiversity': 12, 'ServiceDiversity': 14}\n",
      "Saving evaluation results to /home/22489437/Documents/GitHub/MTDSim/experiments/experimental_data/results/epsilon_0.5_decay_0.995.csv\n"
     ]
    },
    {
     "name": "stderr",
     "output_type": "stream",
     "text": [
      "Compiled the loaded model, but the compiled metrics have yet to be built. `model.compile_metrics` will be empty until you train or evaluate the model.\n"
     ]
    },
    {
     "name": "stdout",
     "output_type": "stream",
     "text": [
      "{'CompleteTopologyShuffle': 12, 'IPShuffle': 8, 'OSDiversity': 10, 'ServiceDiversity': 8}\n",
      "Saving evaluation results to /home/22489437/Documents/GitHub/MTDSim/experiments/experimental_data/results/epsilon_0.5_decay_0.995.csv\n"
     ]
    },
    {
     "name": "stderr",
     "output_type": "stream",
     "text": [
      "Compiled the loaded model, but the compiled metrics have yet to be built. `model.compile_metrics` will be empty until you train or evaluate the model.\n"
     ]
    },
    {
     "name": "stdout",
     "output_type": "stream",
     "text": [
      "{'CompleteTopologyShuffle': 6, 'IPShuffle': 18, 'OSDiversity': 6, 'ServiceDiversity': 14}\n",
      "Saving evaluation results to /home/22489437/Documents/GitHub/MTDSim/experiments/experimental_data/results/epsilon_0.5_decay_0.995.csv\n"
     ]
    },
    {
     "name": "stderr",
     "output_type": "stream",
     "text": [
      "Compiled the loaded model, but the compiled metrics have yet to be built. `model.compile_metrics` will be empty until you train or evaluate the model.\n"
     ]
    },
    {
     "name": "stdout",
     "output_type": "stream",
     "text": [
      "{'CompleteTopologyShuffle': 12, 'IPShuffle': 14, 'OSDiversity': 8, 'ServiceDiversity': 6}\n",
      "{'CompleteTopologyShuffle': 8, 'IPShuffle': 12, 'OSDiversity': 14, 'ServiceDiversity': 14}\n",
      "Saving evaluation results to /home/22489437/Documents/GitHub/MTDSim/experiments/experimental_data/results/epsilon_0.5_decay_0.995.csv\n",
      "Saving evaluation results to /home/22489437/Documents/GitHub/MTDSim/experiments/experimental_data/results/epsilon_0.5_decay_0.995.csv\n"
     ]
    },
    {
     "name": "stderr",
     "output_type": "stream",
     "text": [
      "Compiled the loaded model, but the compiled metrics have yet to be built. `model.compile_metrics` will be empty until you train or evaluate the model.\n",
      "Compiled the loaded model, but the compiled metrics have yet to be built. `model.compile_metrics` will be empty until you train or evaluate the model.\n"
     ]
    },
    {
     "name": "stdout",
     "output_type": "stream",
     "text": [
      "{'CompleteTopologyShuffle': 6, 'IPShuffle': 6, 'OSDiversity': 16, 'ServiceDiversity': 10}\n",
      "Saving evaluation results to /home/22489437/Documents/GitHub/MTDSim/experiments/experimental_data/results/epsilon_0.5_decay_0.995.csv\n"
     ]
    },
    {
     "name": "stderr",
     "output_type": "stream",
     "text": [
      "Compiled the loaded model, but the compiled metrics have yet to be built. `model.compile_metrics` will be empty until you train or evaluate the model.\n"
     ]
    },
    {
     "name": "stdout",
     "output_type": "stream",
     "text": [
      "{'CompleteTopologyShuffle': 12, 'IPShuffle': 10, 'OSDiversity': 4, 'ServiceDiversity': 6}\n",
      "{'CompleteTopologyShuffle': 10, 'IPShuffle': 8, 'OSDiversity': 16, 'ServiceDiversity': 10}\n",
      "Saving evaluation results to /home/22489437/Documents/GitHub/MTDSim/experiments/experimental_data/results/epsilon_0.5_decay_0.995.csv\n",
      "Saving evaluation results to /home/22489437/Documents/GitHub/MTDSim/experiments/experimental_data/results/epsilon_0.5_decay_0.995.csv\n"
     ]
    },
    {
     "name": "stderr",
     "output_type": "stream",
     "text": [
      "Compiled the loaded model, but the compiled metrics have yet to be built. `model.compile_metrics` will be empty until you train or evaluate the model.\n"
     ]
    },
    {
     "name": "stdout",
     "output_type": "stream",
     "text": [
      "{'CompleteTopologyShuffle': 16, 'IPShuffle': 2, 'OSDiversity': 10, 'ServiceDiversity': 10}\n"
     ]
    },
    {
     "name": "stderr",
     "output_type": "stream",
     "text": [
      "Compiled the loaded model, but the compiled metrics have yet to be built. `model.compile_metrics` will be empty until you train or evaluate the model.\n"
     ]
    },
    {
     "name": "stdout",
     "output_type": "stream",
     "text": [
      "Saving evaluation results to /home/22489437/Documents/GitHub/MTDSim/experiments/experimental_data/results/epsilon_0.5_decay_0.995.csv\n"
     ]
    },
    {
     "name": "stderr",
     "output_type": "stream",
     "text": [
      "Compiled the loaded model, but the compiled metrics have yet to be built. `model.compile_metrics` will be empty until you train or evaluate the model.\n"
     ]
    },
    {
     "name": "stdout",
     "output_type": "stream",
     "text": [
      "{'CompleteTopologyShuffle': 10, 'IPShuffle': 16, 'OSDiversity': 8, 'ServiceDiversity': 10}\n",
      "Saving evaluation results to /home/22489437/Documents/GitHub/MTDSim/experiments/experimental_data/results/epsilon_0.5_decay_0.995.csv\n"
     ]
    },
    {
     "name": "stderr",
     "output_type": "stream",
     "text": [
      "Compiled the loaded model, but the compiled metrics have yet to be built. `model.compile_metrics` will be empty until you train or evaluate the model.\n"
     ]
    },
    {
     "name": "stdout",
     "output_type": "stream",
     "text": [
      "{'CompleteTopologyShuffle': 14, 'IPShuffle': 10, 'OSDiversity': 8, 'ServiceDiversity': 8}\n",
      "{'CompleteTopologyShuffle': 8, 'IPShuffle': 12, 'OSDiversity': 14, 'ServiceDiversity': 8}\n",
      "{'CompleteTopologyShuffle': 14, 'IPShuffle': 6, 'OSDiversity': 8, 'ServiceDiversity': 14}\n",
      "Saving evaluation results to /home/22489437/Documents/GitHub/MTDSim/experiments/experimental_data/results/epsilon_0.5_decay_0.995.csv\n",
      "Saving evaluation results to /home/22489437/Documents/GitHub/MTDSim/experiments/experimental_data/results/epsilon_0.5_decay_0.995.csv\n",
      "{'CompleteTopologyShuffle': 8, 'IPShuffle': 10, 'OSDiversity': 8, 'ServiceDiversity': 10}\n"
     ]
    },
    {
     "name": "stderr",
     "output_type": "stream",
     "text": [
      "Compiled the loaded model, but the compiled metrics have yet to be built. `model.compile_metrics` will be empty until you train or evaluate the model.\n",
      "Compiled the loaded model, but the compiled metrics have yet to be built. `model.compile_metrics` will be empty until you train or evaluate the model.\n"
     ]
    },
    {
     "name": "stdout",
     "output_type": "stream",
     "text": [
      "Saving evaluation results to /home/22489437/Documents/GitHub/MTDSim/experiments/experimental_data/results/epsilon_0.5_decay_0.995.csv\n",
      "Saving evaluation results to /home/22489437/Documents/GitHub/MTDSim/experiments/experimental_data/results/epsilon_0.5_decay_0.995.csv\n",
      "{'CompleteTopologyShuffle': 12, 'IPShuffle': 4, 'OSDiversity': 18, 'ServiceDiversity': 8}\n"
     ]
    },
    {
     "name": "stderr",
     "output_type": "stream",
     "text": [
      "Compiled the loaded model, but the compiled metrics have yet to be built. `model.compile_metrics` will be empty until you train or evaluate the model.\n",
      "Compiled the loaded model, but the compiled metrics have yet to be built. `model.compile_metrics` will be empty until you train or evaluate the model.\n"
     ]
    },
    {
     "name": "stdout",
     "output_type": "stream",
     "text": [
      "Saving evaluation results to /home/22489437/Documents/GitHub/MTDSim/experiments/experimental_data/results/epsilon_0.5_decay_0.995.csv\n"
     ]
    },
    {
     "name": "stderr",
     "output_type": "stream",
     "text": [
      "Compiled the loaded model, but the compiled metrics have yet to be built. `model.compile_metrics` will be empty until you train or evaluate the model.\n"
     ]
    },
    {
     "name": "stdout",
     "output_type": "stream",
     "text": [
      "{'CompleteTopologyShuffle': 8, 'IPShuffle': 4, 'OSDiversity': 6, 'ServiceDiversity': 16}\n",
      "Saving evaluation results to /home/22489437/Documents/GitHub/MTDSim/experiments/experimental_data/results/epsilon_0.5_decay_0.995.csv\n"
     ]
    },
    {
     "name": "stderr",
     "output_type": "stream",
     "text": [
      "Compiled the loaded model, but the compiled metrics have yet to be built. `model.compile_metrics` will be empty until you train or evaluate the model.\n"
     ]
    },
    {
     "name": "stdout",
     "output_type": "stream",
     "text": [
      "{'CompleteTopologyShuffle': 10, 'IPShuffle': 4, 'OSDiversity': 10, 'ServiceDiversity': 10}\n",
      "{'CompleteTopologyShuffle': 12, 'IPShuffle': 10, 'OSDiversity': 8, 'ServiceDiversity': 12}\n",
      "Saving evaluation results to /home/22489437/Documents/GitHub/MTDSim/experiments/experimental_data/results/epsilon_0.5_decay_0.995.csv\n",
      "Saving evaluation results to /home/22489437/Documents/GitHub/MTDSim/experiments/experimental_data/results/epsilon_0.5_decay_0.995.csv\n"
     ]
    },
    {
     "name": "stderr",
     "output_type": "stream",
     "text": [
      "Compiled the loaded model, but the compiled metrics have yet to be built. `model.compile_metrics` will be empty until you train or evaluate the model.\n",
      "Compiled the loaded model, but the compiled metrics have yet to be built. `model.compile_metrics` will be empty until you train or evaluate the model.\n"
     ]
    },
    {
     "name": "stdout",
     "output_type": "stream",
     "text": [
      "{'CompleteTopologyShuffle': 6, 'IPShuffle': 16, 'OSDiversity': 20, 'ServiceDiversity': 2}\n",
      "Saving evaluation results to /home/22489437/Documents/GitHub/MTDSim/experiments/experimental_data/results/epsilon_0.5_decay_0.995.csv\n"
     ]
    },
    {
     "name": "stderr",
     "output_type": "stream",
     "text": [
      "Compiled the loaded model, but the compiled metrics have yet to be built. `model.compile_metrics` will be empty until you train or evaluate the model.\n"
     ]
    },
    {
     "name": "stdout",
     "output_type": "stream",
     "text": [
      "{'CompleteTopologyShuffle': 20, 'IPShuffle': 2, 'OSDiversity': 2, 'ServiceDiversity': 12}\n",
      "Saving evaluation results to /home/22489437/Documents/GitHub/MTDSim/experiments/experimental_data/results/epsilon_0.5_decay_0.995.csv\n"
     ]
    },
    {
     "name": "stderr",
     "output_type": "stream",
     "text": [
      "Compiled the loaded model, but the compiled metrics have yet to be built. `model.compile_metrics` will be empty until you train or evaluate the model.\n"
     ]
    },
    {
     "name": "stdout",
     "output_type": "stream",
     "text": [
      "{'CompleteTopologyShuffle': 20, 'IPShuffle': 6, 'OSDiversity': 16, 'ServiceDiversity': 12}\n",
      "Saving evaluation results to /home/22489437/Documents/GitHub/MTDSim/experiments/experimental_data/results/epsilon_0.5_decay_0.995.csv\n"
     ]
    },
    {
     "name": "stderr",
     "output_type": "stream",
     "text": [
      "Compiled the loaded model, but the compiled metrics have yet to be built. `model.compile_metrics` will be empty until you train or evaluate the model.\n"
     ]
    },
    {
     "name": "stdout",
     "output_type": "stream",
     "text": [
      "{'CompleteTopologyShuffle': 12, 'IPShuffle': 16, 'OSDiversity': 2, 'ServiceDiversity': 8}\n",
      "Saving evaluation results to /home/22489437/Documents/GitHub/MTDSim/experiments/experimental_data/results/epsilon_0.5_decay_0.995.csv{'CompleteTopologyShuffle': 6, 'IPShuffle': 10, 'OSDiversity': 10, 'ServiceDiversity': 6}\n",
      "\n"
     ]
    },
    {
     "name": "stderr",
     "output_type": "stream",
     "text": [
      "Compiled the loaded model, but the compiled metrics have yet to be built. `model.compile_metrics` will be empty until you train or evaluate the model.\n"
     ]
    },
    {
     "name": "stdout",
     "output_type": "stream",
     "text": [
      "Saving evaluation results to /home/22489437/Documents/GitHub/MTDSim/experiments/experimental_data/results/epsilon_0.5_decay_0.995.csv\n"
     ]
    },
    {
     "name": "stderr",
     "output_type": "stream",
     "text": [
      "Compiled the loaded model, but the compiled metrics have yet to be built. `model.compile_metrics` will be empty until you train or evaluate the model.\n"
     ]
    },
    {
     "name": "stdout",
     "output_type": "stream",
     "text": [
      "{'CompleteTopologyShuffle': 10, 'IPShuffle': 10, 'OSDiversity': 6, 'ServiceDiversity': 14}\n",
      "{'CompleteTopologyShuffle': 8, 'IPShuffle': 14, 'OSDiversity': 10, 'ServiceDiversity': 6}\n",
      "Saving evaluation results to /home/22489437/Documents/GitHub/MTDSim/experiments/experimental_data/results/epsilon_0.5_decay_0.995.csv\n"
     ]
    },
    {
     "name": "stderr",
     "output_type": "stream",
     "text": [
      "Compiled the loaded model, but the compiled metrics have yet to be built. `model.compile_metrics` will be empty until you train or evaluate the model.\n"
     ]
    },
    {
     "name": "stdout",
     "output_type": "stream",
     "text": [
      "Saving evaluation results to /home/22489437/Documents/GitHub/MTDSim/experiments/experimental_data/results/epsilon_0.5_decay_0.995.csv\n"
     ]
    },
    {
     "name": "stderr",
     "output_type": "stream",
     "text": [
      "Compiled the loaded model, but the compiled metrics have yet to be built. `model.compile_metrics` will be empty until you train or evaluate the model.\n"
     ]
    },
    {
     "name": "stdout",
     "output_type": "stream",
     "text": [
      "{'CompleteTopologyShuffle': 4, 'IPShuffle': 16, 'OSDiversity': 14, 'ServiceDiversity': 6}\n",
      "Saving evaluation results to /home/22489437/Documents/GitHub/MTDSim/experiments/experimental_data/results/epsilon_0.5_decay_0.995.csv\n"
     ]
    },
    {
     "name": "stderr",
     "output_type": "stream",
     "text": [
      "Compiled the loaded model, but the compiled metrics have yet to be built. `model.compile_metrics` will be empty until you train or evaluate the model.\n"
     ]
    },
    {
     "name": "stdout",
     "output_type": "stream",
     "text": [
      "{'CompleteTopologyShuffle': 8, 'IPShuffle': 8, 'OSDiversity': 8, 'ServiceDiversity': 10}\n",
      "Saving evaluation results to /home/22489437/Documents/GitHub/MTDSim/experiments/experimental_data/results/epsilon_0.5_decay_0.995.csv\n",
      "{'CompleteTopologyShuffle': 8, 'IPShuffle': 8, 'OSDiversity': 18, 'ServiceDiversity': 12}\n"
     ]
    },
    {
     "name": "stderr",
     "output_type": "stream",
     "text": [
      "Compiled the loaded model, but the compiled metrics have yet to be built. `model.compile_metrics` will be empty until you train or evaluate the model.\n"
     ]
    },
    {
     "name": "stdout",
     "output_type": "stream",
     "text": [
      "Saving evaluation results to /home/22489437/Documents/GitHub/MTDSim/experiments/experimental_data/results/epsilon_0.5_decay_0.995.csv\n"
     ]
    },
    {
     "name": "stderr",
     "output_type": "stream",
     "text": [
      "Compiled the loaded model, but the compiled metrics have yet to be built. `model.compile_metrics` will be empty until you train or evaluate the model.\n"
     ]
    },
    {
     "name": "stdout",
     "output_type": "stream",
     "text": [
      "{'CompleteTopologyShuffle': 10, 'IPShuffle': 16, 'OSDiversity': 8, 'ServiceDiversity': 12}\n",
      "Saving evaluation results to /home/22489437/Documents/GitHub/MTDSim/experiments/experimental_data/results/epsilon_0.5_decay_0.995.csv\n"
     ]
    },
    {
     "name": "stderr",
     "output_type": "stream",
     "text": [
      "Compiled the loaded model, but the compiled metrics have yet to be built. `model.compile_metrics` will be empty until you train or evaluate the model.\n"
     ]
    },
    {
     "name": "stdout",
     "output_type": "stream",
     "text": [
      "{'CompleteTopologyShuffle': 14, 'IPShuffle': 6, 'OSDiversity': 12, 'ServiceDiversity': 14}\n",
      "Saving evaluation results to /home/22489437/Documents/GitHub/MTDSim/experiments/experimental_data/results/epsilon_0.5_decay_0.995.csv\n"
     ]
    },
    {
     "name": "stderr",
     "output_type": "stream",
     "text": [
      "Compiled the loaded model, but the compiled metrics have yet to be built. `model.compile_metrics` will be empty until you train or evaluate the model.\n"
     ]
    },
    {
     "name": "stdout",
     "output_type": "stream",
     "text": [
      "{'CompleteTopologyShuffle': 14, 'IPShuffle': 10, 'OSDiversity': 10, 'ServiceDiversity': 6}\n",
      "{'CompleteTopologyShuffle': 8, 'IPShuffle': 8, 'OSDiversity': 10, 'ServiceDiversity': 12}\n",
      "Saving evaluation results to /home/22489437/Documents/GitHub/MTDSim/experiments/experimental_data/results/epsilon_0.5_decay_0.995.csv\n",
      "Saving evaluation results to /home/22489437/Documents/GitHub/MTDSim/experiments/experimental_data/results/epsilon_0.5_decay_0.995.csv\n"
     ]
    },
    {
     "name": "stderr",
     "output_type": "stream",
     "text": [
      "Compiled the loaded model, but the compiled metrics have yet to be built. `model.compile_metrics` will be empty until you train or evaluate the model.\n",
      "Compiled the loaded model, but the compiled metrics have yet to be built. `model.compile_metrics` will be empty until you train or evaluate the model.\n"
     ]
    },
    {
     "name": "stdout",
     "output_type": "stream",
     "text": [
      "{'CompleteTopologyShuffle': 8, 'IPShuffle': 18, 'OSDiversity': 14, 'ServiceDiversity': 6}\n",
      "Saving evaluation results to /home/22489437/Documents/GitHub/MTDSim/experiments/experimental_data/results/epsilon_0.5_decay_0.995.csv\n"
     ]
    },
    {
     "name": "stderr",
     "output_type": "stream",
     "text": [
      "Compiled the loaded model, but the compiled metrics have yet to be built. `model.compile_metrics` will be empty until you train or evaluate the model.\n"
     ]
    },
    {
     "name": "stdout",
     "output_type": "stream",
     "text": [
      "{'CompleteTopologyShuffle': 8, 'IPShuffle': 8, 'OSDiversity': 14, 'ServiceDiversity': 6}\n",
      "{'CompleteTopologyShuffle': 8, 'IPShuffle': 14, 'OSDiversity': 12, 'ServiceDiversity': 16}\n",
      "Saving evaluation results to /home/22489437/Documents/GitHub/MTDSim/experiments/experimental_data/results/epsilon_0.5_decay_0.995.csv\n",
      "Saving evaluation results to /home/22489437/Documents/GitHub/MTDSim/experiments/experimental_data/results/epsilon_0.5_decay_0.995.csv\n"
     ]
    },
    {
     "name": "stderr",
     "output_type": "stream",
     "text": [
      "Compiled the loaded model, but the compiled metrics have yet to be built. `model.compile_metrics` will be empty until you train or evaluate the model.\n",
      "Compiled the loaded model, but the compiled metrics have yet to be built. `model.compile_metrics` will be empty until you train or evaluate the model.\n"
     ]
    },
    {
     "name": "stdout",
     "output_type": "stream",
     "text": [
      "{'CompleteTopologyShuffle': 12, 'IPShuffle': 8, 'OSDiversity': 4, 'ServiceDiversity': 8}\n",
      "{'CompleteTopologyShuffle': 8, 'IPShuffle': 10, 'OSDiversity': 14, 'ServiceDiversity': 8}\n",
      "{'CompleteTopologyShuffle': 12, 'IPShuffle': 8, 'OSDiversity': 14, 'ServiceDiversity': 10}\n",
      "Saving evaluation results to /home/22489437/Documents/GitHub/MTDSim/experiments/experimental_data/results/epsilon_0.5_decay_0.995.csv\n",
      "Saving evaluation results to /home/22489437/Documents/GitHub/MTDSim/experiments/experimental_data/results/epsilon_0.5_decay_0.995.csv\n",
      "Saving evaluation results to /home/22489437/Documents/GitHub/MTDSim/experiments/experimental_data/results/epsilon_0.5_decay_0.995.csv{'CompleteTopologyShuffle': 8, 'IPShuffle': 8, 'OSDiversity': 10, 'ServiceDiversity': 18}\n",
      "\n"
     ]
    },
    {
     "name": "stderr",
     "output_type": "stream",
     "text": [
      "Compiled the loaded model, but the compiled metrics have yet to be built. `model.compile_metrics` will be empty until you train or evaluate the model.\n",
      "Compiled the loaded model, but the compiled metrics have yet to be built. `model.compile_metrics` will be empty until you train or evaluate the model.\n",
      "Compiled the loaded model, but the compiled metrics have yet to be built. `model.compile_metrics` will be empty until you train or evaluate the model.\n"
     ]
    },
    {
     "name": "stdout",
     "output_type": "stream",
     "text": [
      "Saving evaluation results to /home/22489437/Documents/GitHub/MTDSim/experiments/experimental_data/results/epsilon_0.5_decay_0.995.csv\n"
     ]
    },
    {
     "name": "stderr",
     "output_type": "stream",
     "text": [
      "Compiled the loaded model, but the compiled metrics have yet to be built. `model.compile_metrics` will be empty until you train or evaluate the model.\n"
     ]
    },
    {
     "name": "stdout",
     "output_type": "stream",
     "text": [
      "{'CompleteTopologyShuffle': 12, 'IPShuffle': 6, 'OSDiversity': 16, 'ServiceDiversity': 4}\n",
      "Saving evaluation results to /home/22489437/Documents/GitHub/MTDSim/experiments/experimental_data/results/epsilon_0.5_decay_0.995.csv\n"
     ]
    },
    {
     "name": "stderr",
     "output_type": "stream",
     "text": [
      "Compiled the loaded model, but the compiled metrics have yet to be built. `model.compile_metrics` will be empty until you train or evaluate the model.\n"
     ]
    },
    {
     "name": "stdout",
     "output_type": "stream",
     "text": [
      "{'CompleteTopologyShuffle': 8, 'IPShuffle': 14, 'OSDiversity': 10, 'ServiceDiversity': 10}\n",
      "Saving evaluation results to /home/22489437/Documents/GitHub/MTDSim/experiments/experimental_data/results/epsilon_0.5_decay_0.995.csv\n"
     ]
    },
    {
     "name": "stderr",
     "output_type": "stream",
     "text": [
      "Compiled the loaded model, but the compiled metrics have yet to be built. `model.compile_metrics` will be empty until you train or evaluate the model.\n"
     ]
    },
    {
     "name": "stdout",
     "output_type": "stream",
     "text": [
      "{'CompleteTopologyShuffle': 2, 'IPShuffle': 4, 'OSDiversity': 20, 'ServiceDiversity': 4}\n",
      "Saving evaluation results to /home/22489437/Documents/GitHub/MTDSim/experiments/experimental_data/results/epsilon_0.5_decay_0.995.csv\n"
     ]
    },
    {
     "name": "stderr",
     "output_type": "stream",
     "text": [
      "Compiled the loaded model, but the compiled metrics have yet to be built. `model.compile_metrics` will be empty until you train or evaluate the model.\n"
     ]
    },
    {
     "name": "stdout",
     "output_type": "stream",
     "text": [
      "{'CompleteTopologyShuffle': 16, 'IPShuffle': 20, 'OSDiversity': 6, 'ServiceDiversity': 2}\n",
      "Saving evaluation results to /home/22489437/Documents/GitHub/MTDSim/experiments/experimental_data/results/epsilon_0.5_decay_0.995.csv\n"
     ]
    },
    {
     "name": "stderr",
     "output_type": "stream",
     "text": [
      "Compiled the loaded model, but the compiled metrics have yet to be built. `model.compile_metrics` will be empty until you train or evaluate the model.\n"
     ]
    },
    {
     "name": "stdout",
     "output_type": "stream",
     "text": [
      "{'CompleteTopologyShuffle': 4, 'IPShuffle': 14, 'OSDiversity': 6, 'ServiceDiversity': 16}\n",
      "{'CompleteTopologyShuffle': 8, 'IPShuffle': 8, 'OSDiversity': 10, 'ServiceDiversity': 8}\n",
      "Saving evaluation results to /home/22489437/Documents/GitHub/MTDSim/experiments/experimental_data/results/epsilon_0.5_decay_0.995.csv\n"
     ]
    },
    {
     "name": "stderr",
     "output_type": "stream",
     "text": [
      "Compiled the loaded model, but the compiled metrics have yet to be built. `model.compile_metrics` will be empty until you train or evaluate the model.\n"
     ]
    },
    {
     "name": "stdout",
     "output_type": "stream",
     "text": [
      "Saving evaluation results to /home/22489437/Documents/GitHub/MTDSim/experiments/experimental_data/results/epsilon_0.5_decay_0.995.csv\n"
     ]
    },
    {
     "name": "stderr",
     "output_type": "stream",
     "text": [
      "Compiled the loaded model, but the compiled metrics have yet to be built. `model.compile_metrics` will be empty until you train or evaluate the model.\n"
     ]
    },
    {
     "name": "stdout",
     "output_type": "stream",
     "text": [
      "{'CompleteTopologyShuffle': 6, 'IPShuffle': 6, 'OSDiversity': 10, 'ServiceDiversity': 6}\n",
      "Saving evaluation results to /home/22489437/Documents/GitHub/MTDSim/experiments/experimental_data/results/epsilon_0.5_decay_0.995.csv\n",
      "{'CompleteTopologyShuffle': 10, 'IPShuffle': 8, 'OSDiversity': 10, 'ServiceDiversity': 12}\n"
     ]
    },
    {
     "name": "stderr",
     "output_type": "stream",
     "text": [
      "Compiled the loaded model, but the compiled metrics have yet to be built. `model.compile_metrics` will be empty until you train or evaluate the model.\n"
     ]
    },
    {
     "name": "stdout",
     "output_type": "stream",
     "text": [
      "Saving evaluation results to /home/22489437/Documents/GitHub/MTDSim/experiments/experimental_data/results/epsilon_0.5_decay_0.995.csv\n"
     ]
    },
    {
     "name": "stderr",
     "output_type": "stream",
     "text": [
      "Compiled the loaded model, but the compiled metrics have yet to be built. `model.compile_metrics` will be empty until you train or evaluate the model.\n"
     ]
    },
    {
     "name": "stdout",
     "output_type": "stream",
     "text": [
      "{'CompleteTopologyShuffle': 14, 'IPShuffle': 8, 'OSDiversity': 10, 'ServiceDiversity': 8}\n",
      "{'CompleteTopologyShuffle': 10, 'IPShuffle': 10, 'OSDiversity': 4, 'ServiceDiversity': 14}\n",
      "{'CompleteTopologyShuffle': 8, 'IPShuffle': 16, 'OSDiversity': 2, 'ServiceDiversity': 10}\n",
      "Saving evaluation results to /home/22489437/Documents/GitHub/MTDSim/experiments/experimental_data/results/epsilon_0.5_decay_0.995.csvSaving evaluation results to /home/22489437/Documents/GitHub/MTDSim/experiments/experimental_data/results/epsilon_0.5_decay_0.995.csv\n",
      "\n",
      "Saving evaluation results to /home/22489437/Documents/GitHub/MTDSim/experiments/experimental_data/results/epsilon_0.5_decay_0.995.csv\n"
     ]
    },
    {
     "name": "stderr",
     "output_type": "stream",
     "text": [
      "Compiled the loaded model, but the compiled metrics have yet to be built. `model.compile_metrics` will be empty until you train or evaluate the model.\n",
      "Compiled the loaded model, but the compiled metrics have yet to be built. `model.compile_metrics` will be empty until you train or evaluate the model.\n",
      "Compiled the loaded model, but the compiled metrics have yet to be built. `model.compile_metrics` will be empty until you train or evaluate the model.\n"
     ]
    },
    {
     "name": "stdout",
     "output_type": "stream",
     "text": [
      "{'CompleteTopologyShuffle': 12, 'IPShuffle': 10, 'OSDiversity': 10, 'ServiceDiversity': 10}\n",
      "Saving evaluation results to /home/22489437/Documents/GitHub/MTDSim/experiments/experimental_data/results/epsilon_0.5_decay_0.995.csv\n"
     ]
    },
    {
     "name": "stderr",
     "output_type": "stream",
     "text": [
      "Compiled the loaded model, but the compiled metrics have yet to be built. `model.compile_metrics` will be empty until you train or evaluate the model.\n"
     ]
    },
    {
     "name": "stdout",
     "output_type": "stream",
     "text": [
      "{'CompleteTopologyShuffle': 18, 'IPShuffle': 6, 'OSDiversity': 12, 'ServiceDiversity': 8}\n",
      "Saving evaluation results to /home/22489437/Documents/GitHub/MTDSim/experiments/experimental_data/results/epsilon_0.5_decay_0.995.csv\n"
     ]
    },
    {
     "name": "stderr",
     "output_type": "stream",
     "text": [
      "Compiled the loaded model, but the compiled metrics have yet to be built. `model.compile_metrics` will be empty until you train or evaluate the model.\n"
     ]
    },
    {
     "name": "stdout",
     "output_type": "stream",
     "text": [
      "{'CompleteTopologyShuffle': 6, 'IPShuffle': 10, 'OSDiversity': 10, 'ServiceDiversity': 8}\n",
      "Saving evaluation results to /home/22489437/Documents/GitHub/MTDSim/experiments/experimental_data/results/epsilon_0.5_decay_0.995.csv\n"
     ]
    },
    {
     "name": "stderr",
     "output_type": "stream",
     "text": [
      "Compiled the loaded model, but the compiled metrics have yet to be built. `model.compile_metrics` will be empty until you train or evaluate the model.\n"
     ]
    },
    {
     "name": "stdout",
     "output_type": "stream",
     "text": [
      "{'CompleteTopologyShuffle': 12, 'IPShuffle': 18, 'OSDiversity': 4, 'ServiceDiversity': 8}\n",
      "Saving evaluation results to /home/22489437/Documents/GitHub/MTDSim/experiments/experimental_data/results/epsilon_0.5_decay_0.995.csv\n"
     ]
    },
    {
     "name": "stderr",
     "output_type": "stream",
     "text": [
      "Compiled the loaded model, but the compiled metrics have yet to be built. `model.compile_metrics` will be empty until you train or evaluate the model.\n"
     ]
    },
    {
     "name": "stdout",
     "output_type": "stream",
     "text": [
      "{'CompleteTopologyShuffle': 12, 'IPShuffle': 12, 'OSDiversity': 6, 'ServiceDiversity': 2}\n",
      "Saving evaluation results to /home/22489437/Documents/GitHub/MTDSim/experiments/experimental_data/results/epsilon_0.5_decay_0.995.csv\n"
     ]
    },
    {
     "name": "stderr",
     "output_type": "stream",
     "text": [
      "Compiled the loaded model, but the compiled metrics have yet to be built. `model.compile_metrics` will be empty until you train or evaluate the model.\n"
     ]
    },
    {
     "name": "stdout",
     "output_type": "stream",
     "text": [
      "{'CompleteTopologyShuffle': 4, 'IPShuffle': 6, 'OSDiversity': 12, 'ServiceDiversity': 14}\n",
      "Saving evaluation results to /home/22489437/Documents/GitHub/MTDSim/experiments/experimental_data/results/epsilon_0.5_decay_0.995.csv\n"
     ]
    },
    {
     "name": "stderr",
     "output_type": "stream",
     "text": [
      "Compiled the loaded model, but the compiled metrics have yet to be built. `model.compile_metrics` will be empty until you train or evaluate the model.\n"
     ]
    },
    {
     "name": "stdout",
     "output_type": "stream",
     "text": [
      "{'CompleteTopologyShuffle': 10, 'IPShuffle': 18, 'OSDiversity': 8, 'ServiceDiversity': 6}\n",
      "Saving evaluation results to /home/22489437/Documents/GitHub/MTDSim/experiments/experimental_data/results/epsilon_0.5_decay_0.995.csv\n"
     ]
    },
    {
     "name": "stderr",
     "output_type": "stream",
     "text": [
      "Compiled the loaded model, but the compiled metrics have yet to be built. `model.compile_metrics` will be empty until you train or evaluate the model.\n"
     ]
    },
    {
     "name": "stdout",
     "output_type": "stream",
     "text": [
      "{'CompleteTopologyShuffle': 6, 'IPShuffle': 12, 'OSDiversity': 8, 'ServiceDiversity': 10}\n",
      "Saving evaluation results to /home/22489437/Documents/GitHub/MTDSim/experiments/experimental_data/results/epsilon_0.5_decay_0.995.csv\n"
     ]
    },
    {
     "name": "stderr",
     "output_type": "stream",
     "text": [
      "Compiled the loaded model, but the compiled metrics have yet to be built. `model.compile_metrics` will be empty until you train or evaluate the model.\n"
     ]
    },
    {
     "name": "stdout",
     "output_type": "stream",
     "text": [
      "{'CompleteTopologyShuffle': 6, 'IPShuffle': 12, 'OSDiversity': 18, 'ServiceDiversity': 6}\n",
      "Saving evaluation results to /home/22489437/Documents/GitHub/MTDSim/experiments/experimental_data/results/epsilon_0.5_decay_0.995.csv\n"
     ]
    },
    {
     "name": "stderr",
     "output_type": "stream",
     "text": [
      "Compiled the loaded model, but the compiled metrics have yet to be built. `model.compile_metrics` will be empty until you train or evaluate the model.\n"
     ]
    },
    {
     "name": "stdout",
     "output_type": "stream",
     "text": [
      "{'CompleteTopologyShuffle': 12, 'IPShuffle': 10, 'OSDiversity': 10, 'ServiceDiversity': 8}\n",
      "Saving evaluation results to /home/22489437/Documents/GitHub/MTDSim/experiments/experimental_data/results/epsilon_0.5_decay_0.995.csv\n",
      "{'CompleteTopologyShuffle': 6, 'IPShuffle': 10, 'OSDiversity': 16, 'ServiceDiversity': 10}\n"
     ]
    },
    {
     "name": "stderr",
     "output_type": "stream",
     "text": [
      "Compiled the loaded model, but the compiled metrics have yet to be built. `model.compile_metrics` will be empty until you train or evaluate the model.\n"
     ]
    },
    {
     "name": "stdout",
     "output_type": "stream",
     "text": [
      "Saving evaluation results to /home/22489437/Documents/GitHub/MTDSim/experiments/experimental_data/results/epsilon_0.5_decay_0.995.csv\n"
     ]
    },
    {
     "name": "stderr",
     "output_type": "stream",
     "text": [
      "Compiled the loaded model, but the compiled metrics have yet to be built. `model.compile_metrics` will be empty until you train or evaluate the model.\n"
     ]
    },
    {
     "name": "stdout",
     "output_type": "stream",
     "text": [
      "{'CompleteTopologyShuffle': 8, 'IPShuffle': 8, 'OSDiversity': 10, 'ServiceDiversity': 6}\n",
      "Saving evaluation results to /home/22489437/Documents/GitHub/MTDSim/experiments/experimental_data/results/epsilon_0.5_decay_0.995.csv\n"
     ]
    },
    {
     "name": "stderr",
     "output_type": "stream",
     "text": [
      "Compiled the loaded model, but the compiled metrics have yet to be built. `model.compile_metrics` will be empty until you train or evaluate the model.\n"
     ]
    },
    {
     "name": "stdout",
     "output_type": "stream",
     "text": [
      "{'CompleteTopologyShuffle': 12, 'IPShuffle': 6, 'OSDiversity': 10, 'ServiceDiversity': 16}\n",
      "Saving evaluation results to /home/22489437/Documents/GitHub/MTDSim/experiments/experimental_data/results/epsilon_0.5_decay_0.995.csv\n"
     ]
    },
    {
     "name": "stderr",
     "output_type": "stream",
     "text": [
      "Compiled the loaded model, but the compiled metrics have yet to be built. `model.compile_metrics` will be empty until you train or evaluate the model.\n"
     ]
    },
    {
     "name": "stdout",
     "output_type": "stream",
     "text": [
      "{'CompleteTopologyShuffle': 12, 'IPShuffle': 12, 'OSDiversity': 6, 'ServiceDiversity': 8}\n",
      "Saving evaluation results to /home/22489437/Documents/GitHub/MTDSim/experiments/experimental_data/results/epsilon_0.5_decay_0.995.csv\n"
     ]
    },
    {
     "name": "stderr",
     "output_type": "stream",
     "text": [
      "Compiled the loaded model, but the compiled metrics have yet to be built. `model.compile_metrics` will be empty until you train or evaluate the model.\n"
     ]
    },
    {
     "name": "stdout",
     "output_type": "stream",
     "text": [
      "{'CompleteTopologyShuffle': 6, 'IPShuffle': 6, 'OSDiversity': 8, 'ServiceDiversity': 16}\n",
      "Saving evaluation results to /home/22489437/Documents/GitHub/MTDSim/experiments/experimental_data/results/epsilon_0.5_decay_0.995.csv\n"
     ]
    },
    {
     "name": "stderr",
     "output_type": "stream",
     "text": [
      "Compiled the loaded model, but the compiled metrics have yet to be built. `model.compile_metrics` will be empty until you train or evaluate the model.\n"
     ]
    },
    {
     "name": "stdout",
     "output_type": "stream",
     "text": [
      "{'CompleteTopologyShuffle': 8, 'IPShuffle': 12, 'OSDiversity': 14, 'ServiceDiversity': 2}\n",
      "{'CompleteTopologyShuffle': 8, 'IPShuffle': 14, 'OSDiversity': 12, 'ServiceDiversity': 8}\n",
      "Saving evaluation results to /home/22489437/Documents/GitHub/MTDSim/experiments/experimental_data/results/epsilon_0.5_decay_0.995.csv\n",
      "Saving evaluation results to /home/22489437/Documents/GitHub/MTDSim/experiments/experimental_data/results/epsilon_0.5_decay_0.995.csv\n"
     ]
    },
    {
     "name": "stderr",
     "output_type": "stream",
     "text": [
      "Compiled the loaded model, but the compiled metrics have yet to be built. `model.compile_metrics` will be empty until you train or evaluate the model.\n"
     ]
    },
    {
     "name": "stdout",
     "output_type": "stream",
     "text": [
      "{'CompleteTopologyShuffle': 14, 'IPShuffle': 6, 'OSDiversity': 6, 'ServiceDiversity': 14}\n"
     ]
    },
    {
     "name": "stderr",
     "output_type": "stream",
     "text": [
      "Compiled the loaded model, but the compiled metrics have yet to be built. `model.compile_metrics` will be empty until you train or evaluate the model.\n"
     ]
    },
    {
     "name": "stdout",
     "output_type": "stream",
     "text": [
      "Saving evaluation results to /home/22489437/Documents/GitHub/MTDSim/experiments/experimental_data/results/epsilon_0.5_decay_0.995.csv\n"
     ]
    },
    {
     "name": "stderr",
     "output_type": "stream",
     "text": [
      "Compiled the loaded model, but the compiled metrics have yet to be built. `model.compile_metrics` will be empty until you train or evaluate the model.\n"
     ]
    },
    {
     "name": "stdout",
     "output_type": "stream",
     "text": [
      "{'CompleteTopologyShuffle': 10, 'IPShuffle': 10, 'OSDiversity': 12, 'ServiceDiversity': 4}\n",
      "Saving evaluation results to /home/22489437/Documents/GitHub/MTDSim/experiments/experimental_data/results/epsilon_0.5_decay_0.995.csv\n"
     ]
    },
    {
     "name": "stderr",
     "output_type": "stream",
     "text": [
      "Compiled the loaded model, but the compiled metrics have yet to be built. `model.compile_metrics` will be empty until you train or evaluate the model.\n"
     ]
    },
    {
     "name": "stdout",
     "output_type": "stream",
     "text": [
      "{'CompleteTopologyShuffle': 10, 'IPShuffle': 8, 'OSDiversity': 10, 'ServiceDiversity': 10}\n",
      "Saving evaluation results to /home/22489437/Documents/GitHub/MTDSim/experiments/experimental_data/results/epsilon_0.5_decay_0.995.csv\n"
     ]
    },
    {
     "name": "stderr",
     "output_type": "stream",
     "text": [
      "Compiled the loaded model, but the compiled metrics have yet to be built. `model.compile_metrics` will be empty until you train or evaluate the model.\n"
     ]
    },
    {
     "name": "stdout",
     "output_type": "stream",
     "text": [
      "{'CompleteTopologyShuffle': 8, 'IPShuffle': 10, 'OSDiversity': 4, 'ServiceDiversity': 12}\n",
      "Saving evaluation results to /home/22489437/Documents/GitHub/MTDSim/experiments/experimental_data/results/epsilon_0.5_decay_0.995.csv\n"
     ]
    },
    {
     "name": "stderr",
     "output_type": "stream",
     "text": [
      "Compiled the loaded model, but the compiled metrics have yet to be built. `model.compile_metrics` will be empty until you train or evaluate the model.\n"
     ]
    },
    {
     "name": "stdout",
     "output_type": "stream",
     "text": [
      "{'CompleteTopologyShuffle': 8, 'IPShuffle': 8, 'OSDiversity': 12, 'ServiceDiversity': 8}\n",
      "Saving evaluation results to /home/22489437/Documents/GitHub/MTDSim/experiments/experimental_data/results/epsilon_0.5_decay_0.995.csv\n",
      "{'CompleteTopologyShuffle': 4, 'IPShuffle': 16, 'OSDiversity': 10, 'ServiceDiversity': 12}\n",
      "Saving evaluation results to /home/22489437/Documents/GitHub/MTDSim/experiments/experimental_data/results/epsilon_0.5_decay_0.995.csv\n",
      "{'CompleteTopologyShuffle': 14, 'IPShuffle': 8, 'OSDiversity': 4, 'ServiceDiversity': 8}\n",
      "Saving evaluation results to /home/22489437/Documents/GitHub/MTDSim/experiments/experimental_data/results/epsilon_0.5_decay_0.995.csv\n",
      "{'CompleteTopologyShuffle': 12, 'IPShuffle': 2, 'OSDiversity': 14, 'ServiceDiversity': 8}\n",
      "Saving evaluation results to /home/22489437/Documents/GitHub/MTDSim/experiments/experimental_data/results/epsilon_0.5_decay_0.995.csv\n",
      "{'CompleteTopologyShuffle': 10, 'IPShuffle': 6, 'OSDiversity': 2, 'ServiceDiversity': 26}\n",
      "Saving evaluation results to /home/22489437/Documents/GitHub/MTDSim/experiments/experimental_data/results/epsilon_0.5_decay_0.995.csv\n",
      "{'CompleteTopologyShuffle': 8, 'IPShuffle': 6, 'OSDiversity': 14, 'ServiceDiversity': 4}\n",
      "Saving evaluation results to /home/22489437/Documents/GitHub/MTDSim/experiments/experimental_data/results/epsilon_0.5_decay_0.995.csv\n",
      "{'CompleteTopologyShuffle': 10, 'IPShuffle': 12, 'OSDiversity': 14, 'ServiceDiversity': 10}\n",
      "Saving evaluation results to /home/22489437/Documents/GitHub/MTDSim/experiments/experimental_data/results/epsilon_0.5_decay_0.995.csv\n",
      "{'CompleteTopologyShuffle': 6, 'IPShuffle': 8, 'OSDiversity': 6, 'ServiceDiversity': 24}\n",
      "Saving evaluation results to /home/22489437/Documents/GitHub/MTDSim/experiments/experimental_data/results/epsilon_0.5_decay_0.995.csv\n",
      "{'CompleteTopologyShuffle': 18, 'IPShuffle': 10, 'OSDiversity': 10, 'ServiceDiversity': 8}\n",
      "Saving evaluation results to /home/22489437/Documents/GitHub/MTDSim/experiments/experimental_data/results/epsilon_0.5_decay_0.995.csv\n",
      "{'CompleteTopologyShuffle': 12, 'IPShuffle': 14, 'OSDiversity': 6, 'ServiceDiversity': 10}\n",
      "Saving evaluation results to /home/22489437/Documents/GitHub/MTDSim/experiments/experimental_data/results/epsilon_0.5_decay_0.995.csv\n",
      "{'CompleteTopologyShuffle': 14, 'IPShuffle': 8, 'OSDiversity': 12, 'ServiceDiversity': 4}\n",
      "Saving evaluation results to /home/22489437/Documents/GitHub/MTDSim/experiments/experimental_data/results/epsilon_0.5_decay_0.995.csv\n",
      "{'CompleteTopologyShuffle': 14, 'IPShuffle': 8, 'OSDiversity': 14, 'ServiceDiversity': 12}\n",
      "Saving evaluation results to /home/22489437/Documents/GitHub/MTDSim/experiments/experimental_data/results/epsilon_0.5_decay_0.995.csv\n",
      "{'CompleteTopologyShuffle': 12, 'IPShuffle': 8, 'OSDiversity': 10, 'ServiceDiversity': 6}\n",
      "Saving evaluation results to /home/22489437/Documents/GitHub/MTDSim/experiments/experimental_data/results/epsilon_0.5_decay_0.995.csv\n",
      "{'CompleteTopologyShuffle': 6, 'IPShuffle': 8, 'OSDiversity': 8, 'ServiceDiversity': 14}\n",
      "Saving evaluation results to /home/22489437/Documents/GitHub/MTDSim/experiments/experimental_data/results/epsilon_0.5_decay_0.995.csv\n",
      "{'CompleteTopologyShuffle': 14, 'IPShuffle': 8, 'OSDiversity': 8, 'ServiceDiversity': 8}\n",
      "Saving evaluation results to /home/22489437/Documents/GitHub/MTDSim/experiments/experimental_data/results/epsilon_0.5_decay_0.995.csv\n",
      "{'CompleteTopologyShuffle': 14, 'IPShuffle': 10, 'OSDiversity': 6, 'ServiceDiversity': 4}\n",
      "{'CompleteTopologyShuffle': 14, 'IPShuffle': 10, 'OSDiversity': 12, 'ServiceDiversity': 8}\n",
      "Saving evaluation results to /home/22489437/Documents/GitHub/MTDSim/experiments/experimental_data/results/epsilon_0.5_decay_0.995.csv\n",
      "Saving evaluation results to /home/22489437/Documents/GitHub/MTDSim/experiments/experimental_data/results/epsilon_0.5_decay_0.995.csv\n",
      "{'CompleteTopologyShuffle': 14, 'IPShuffle': 12, 'OSDiversity': 8, 'ServiceDiversity': 12}\n",
      "Saving evaluation results to /home/22489437/Documents/GitHub/MTDSim/experiments/experimental_data/results/epsilon_0.5_decay_0.995.csv\n",
      "{'CompleteTopologyShuffle': 12, 'IPShuffle': 6, 'OSDiversity': 10, 'ServiceDiversity': 10}\n",
      "Saving evaluation results to /home/22489437/Documents/GitHub/MTDSim/experiments/experimental_data/results/epsilon_0.5_decay_0.995.csv\n",
      "{'CompleteTopologyShuffle': 14, 'IPShuffle': 16, 'OSDiversity': 4, 'ServiceDiversity': 2}\n",
      "Saving evaluation results to /home/22489437/Documents/GitHub/MTDSim/experiments/experimental_data/results/epsilon_0.5_decay_0.995.csv\n",
      "{'CompleteTopologyShuffle': 2, 'IPShuffle': 8, 'OSDiversity': 8, 'ServiceDiversity': 18}\n",
      "Saving evaluation results to /home/22489437/Documents/GitHub/MTDSim/experiments/experimental_data/results/epsilon_0.5_decay_0.995.csv\n",
      "{'CompleteTopologyShuffle': 8, 'IPShuffle': 12, 'OSDiversity': 12, 'ServiceDiversity': 4}\n",
      "Saving evaluation results to /home/22489437/Documents/GitHub/MTDSim/experiments/experimental_data/results/epsilon_0.5_decay_0.995.csv\n",
      "{'CompleteTopologyShuffle': 12, 'IPShuffle': 12, 'OSDiversity': 8, 'ServiceDiversity': 10}\n",
      "Saving evaluation results to /home/22489437/Documents/GitHub/MTDSim/experiments/experimental_data/results/epsilon_0.5_decay_0.995.csv\n",
      "{'CompleteTopologyShuffle': 12, 'IPShuffle': 4, 'OSDiversity': 10, 'ServiceDiversity': 14}\n",
      "Saving evaluation results to /home/22489437/Documents/GitHub/MTDSim/experiments/experimental_data/results/epsilon_0.5_decay_0.995.csv\n",
      "Running experiments for model epsilon_0.5_decay_0.998\n",
      "Trial_ 0\n",
      "Trial_ 10\n",
      "Trial_ 20\n",
      "Trial_ 30\n",
      "Trial_ 40\n",
      "Trial_ 50\n",
      "Trial_ 60\n",
      "Trial_ 70\n",
      "Trial_ 80\n",
      "Trial_ 90\n"
     ]
    },
    {
     "name": "stderr",
     "output_type": "stream",
     "text": [
      "Compiled the loaded model, but the compiled metrics have yet to be built. `model.compile_metrics` will be empty until you train or evaluate the model.\n",
      "Compiled the loaded model, but the compiled metrics have yet to be built. `model.compile_metrics` will be empty until you train or evaluate the model.\n",
      "Compiled the loaded model, but the compiled metrics have yet to be built. `model.compile_metrics` will be empty until you train or evaluate the model.\n",
      "Compiled the loaded model, but the compiled metrics have yet to be built. `model.compile_metrics` will be empty until you train or evaluate the model.\n",
      "Compiled the loaded model, but the compiled metrics have yet to be built. `model.compile_metrics` will be empty until you train or evaluate the model.\n",
      "Compiled the loaded model, but the compiled metrics have yet to be built. `model.compile_metrics` will be empty until you train or evaluate the model.\n",
      "Compiled the loaded model, but the compiled metrics have yet to be built. `model.compile_metrics` will be empty until you train or evaluate the model.\n",
      "Compiled the loaded model, but the compiled metrics have yet to be built. `model.compile_metrics` will be empty until you train or evaluate the model.\n",
      "Compiled the loaded model, but the compiled metrics have yet to be built. `model.compile_metrics` will be empty until you train or evaluate the model.\n",
      "Compiled the loaded model, but the compiled metrics have yet to be built. `model.compile_metrics` will be empty until you train or evaluate the model.\n",
      "Compiled the loaded model, but the compiled metrics have yet to be built. `model.compile_metrics` will be empty until you train or evaluate the model.\n",
      "Compiled the loaded model, but the compiled metrics have yet to be built. `model.compile_metrics` will be empty until you train or evaluate the model.\n",
      "Compiled the loaded model, but the compiled metrics have yet to be built. `model.compile_metrics` will be empty until you train or evaluate the model.\n",
      "Compiled the loaded model, but the compiled metrics have yet to be built. `model.compile_metrics` will be empty until you train or evaluate the model.\n",
      "Compiled the loaded model, but the compiled metrics have yet to be built. `model.compile_metrics` will be empty until you train or evaluate the model.\n",
      "Compiled the loaded model, but the compiled metrics have yet to be built. `model.compile_metrics` will be empty until you train or evaluate the model.\n",
      "Compiled the loaded model, but the compiled metrics have yet to be built. `model.compile_metrics` will be empty until you train or evaluate the model.\n",
      "Compiled the loaded model, but the compiled metrics have yet to be built. `model.compile_metrics` will be empty until you train or evaluate the model.\n",
      "Compiled the loaded model, but the compiled metrics have yet to be built. `model.compile_metrics` will be empty until you train or evaluate the model.\n",
      "Compiled the loaded model, but the compiled metrics have yet to be built. `model.compile_metrics` will be empty until you train or evaluate the model.\n",
      "Compiled the loaded model, but the compiled metrics have yet to be built. `model.compile_metrics` will be empty until you train or evaluate the model.\n",
      "Compiled the loaded model, but the compiled metrics have yet to be built. `model.compile_metrics` will be empty until you train or evaluate the model.\n",
      "Compiled the loaded model, but the compiled metrics have yet to be built. `model.compile_metrics` will be empty until you train or evaluate the model.\n",
      "Compiled the loaded model, but the compiled metrics have yet to be built. `model.compile_metrics` will be empty until you train or evaluate the model.\n"
     ]
    },
    {
     "name": "stdout",
     "output_type": "stream",
     "text": [
      "{'CompleteTopologyShuffle': 14, 'IPShuffle': 4, 'OSDiversity': 12, 'ServiceDiversity': 8}\n",
      "Saving evaluation results to /home/22489437/Documents/GitHub/MTDSim/experiments/experimental_data/results/epsilon_0.5_decay_0.998.csv\n"
     ]
    },
    {
     "name": "stderr",
     "output_type": "stream",
     "text": [
      "Compiled the loaded model, but the compiled metrics have yet to be built. `model.compile_metrics` will be empty until you train or evaluate the model.\n"
     ]
    },
    {
     "name": "stdout",
     "output_type": "stream",
     "text": [
      "{'CompleteTopologyShuffle': 12, 'IPShuffle': 12, 'OSDiversity': 14, 'ServiceDiversity': 2}\n",
      "Saving evaluation results to /home/22489437/Documents/GitHub/MTDSim/experiments/experimental_data/results/epsilon_0.5_decay_0.998.csv\n"
     ]
    },
    {
     "name": "stderr",
     "output_type": "stream",
     "text": [
      "Compiled the loaded model, but the compiled metrics have yet to be built. `model.compile_metrics` will be empty until you train or evaluate the model.\n"
     ]
    },
    {
     "name": "stdout",
     "output_type": "stream",
     "text": [
      "{'CompleteTopologyShuffle': 16, 'IPShuffle': 6, 'OSDiversity': 12, 'ServiceDiversity': 12}\n",
      "Saving evaluation results to /home/22489437/Documents/GitHub/MTDSim/experiments/experimental_data/results/epsilon_0.5_decay_0.998.csv\n"
     ]
    },
    {
     "name": "stderr",
     "output_type": "stream",
     "text": [
      "Compiled the loaded model, but the compiled metrics have yet to be built. `model.compile_metrics` will be empty until you train or evaluate the model.\n"
     ]
    },
    {
     "name": "stdout",
     "output_type": "stream",
     "text": [
      "{'CompleteTopologyShuffle': 8, 'IPShuffle': 10, 'OSDiversity': 0, 'ServiceDiversity': 16}\n",
      "{'CompleteTopologyShuffle': 14, 'IPShuffle': 8, 'OSDiversity': 10, 'ServiceDiversity': 12}\n",
      "Saving evaluation results to /home/22489437/Documents/GitHub/MTDSim/experiments/experimental_data/results/epsilon_0.5_decay_0.998.csv\n",
      "{'CompleteTopologyShuffle': 18, 'IPShuffle': 10, 'OSDiversity': 12, 'ServiceDiversity': 4}\n",
      "Saving evaluation results to /home/22489437/Documents/GitHub/MTDSim/experiments/experimental_data/results/epsilon_0.5_decay_0.998.csv\n"
     ]
    },
    {
     "name": "stderr",
     "output_type": "stream",
     "text": [
      "Compiled the loaded model, but the compiled metrics have yet to be built. `model.compile_metrics` will be empty until you train or evaluate the model.\n"
     ]
    },
    {
     "name": "stdout",
     "output_type": "stream",
     "text": [
      "Saving evaluation results to /home/22489437/Documents/GitHub/MTDSim/experiments/experimental_data/results/epsilon_0.5_decay_0.998.csv"
     ]
    },
    {
     "name": "stderr",
     "output_type": "stream",
     "text": [
      "Compiled the loaded model, but the compiled metrics have yet to be built. `model.compile_metrics` will be empty until you train or evaluate the model.\n"
     ]
    },
    {
     "name": "stdout",
     "output_type": "stream",
     "text": [
      "\n"
     ]
    },
    {
     "name": "stderr",
     "output_type": "stream",
     "text": [
      "Compiled the loaded model, but the compiled metrics have yet to be built. `model.compile_metrics` will be empty until you train or evaluate the model.\n"
     ]
    },
    {
     "name": "stdout",
     "output_type": "stream",
     "text": [
      "{'CompleteTopologyShuffle': 8, 'IPShuffle': 10, 'OSDiversity': 10, 'ServiceDiversity': 16}\n",
      "Saving evaluation results to /home/22489437/Documents/GitHub/MTDSim/experiments/experimental_data/results/epsilon_0.5_decay_0.998.csv\n",
      "{'CompleteTopologyShuffle': 6, 'IPShuffle': 4, 'OSDiversity': 6, 'ServiceDiversity': 12}\n"
     ]
    },
    {
     "name": "stderr",
     "output_type": "stream",
     "text": [
      "Compiled the loaded model, but the compiled metrics have yet to be built. `model.compile_metrics` will be empty until you train or evaluate the model.\n"
     ]
    },
    {
     "name": "stdout",
     "output_type": "stream",
     "text": [
      "Saving evaluation results to /home/22489437/Documents/GitHub/MTDSim/experiments/experimental_data/results/epsilon_0.5_decay_0.998.csv\n"
     ]
    },
    {
     "name": "stderr",
     "output_type": "stream",
     "text": [
      "Compiled the loaded model, but the compiled metrics have yet to be built. `model.compile_metrics` will be empty until you train or evaluate the model.\n"
     ]
    },
    {
     "name": "stdout",
     "output_type": "stream",
     "text": [
      "{'CompleteTopologyShuffle': 6, 'IPShuffle': 6, 'OSDiversity': 16, 'ServiceDiversity': 4}\n",
      "Saving evaluation results to /home/22489437/Documents/GitHub/MTDSim/experiments/experimental_data/results/epsilon_0.5_decay_0.998.csv\n"
     ]
    },
    {
     "name": "stderr",
     "output_type": "stream",
     "text": [
      "Compiled the loaded model, but the compiled metrics have yet to be built. `model.compile_metrics` will be empty until you train or evaluate the model.\n"
     ]
    },
    {
     "name": "stdout",
     "output_type": "stream",
     "text": [
      "{'CompleteTopologyShuffle': 8, 'IPShuffle': 12, 'OSDiversity': 18, 'ServiceDiversity': 10}\n",
      "{'CompleteTopologyShuffle': 6, 'IPShuffle': 8, 'OSDiversity': 12, 'ServiceDiversity': 10}\n",
      "Saving evaluation results to /home/22489437/Documents/GitHub/MTDSim/experiments/experimental_data/results/epsilon_0.5_decay_0.998.csvSaving evaluation results to /home/22489437/Documents/GitHub/MTDSim/experiments/experimental_data/results/epsilon_0.5_decay_0.998.csv\n",
      "\n",
      "{'CompleteTopologyShuffle': 8, 'IPShuffle': 6, 'OSDiversity': 10, 'ServiceDiversity': 12}\n",
      "{'CompleteTopologyShuffle': 6, 'IPShuffle': 6, 'OSDiversity': 12, 'ServiceDiversity': 16}\n"
     ]
    },
    {
     "name": "stderr",
     "output_type": "stream",
     "text": [
      "Compiled the loaded model, but the compiled metrics have yet to be built. `model.compile_metrics` will be empty until you train or evaluate the model.\n",
      "Compiled the loaded model, but the compiled metrics have yet to be built. `model.compile_metrics` will be empty until you train or evaluate the model.\n"
     ]
    },
    {
     "name": "stdout",
     "output_type": "stream",
     "text": [
      "{'CompleteTopologyShuffle': 12, 'IPShuffle': 10, 'OSDiversity': 10, 'ServiceDiversity': 12}\n",
      "Saving evaluation results to /home/22489437/Documents/GitHub/MTDSim/experiments/experimental_data/results/epsilon_0.5_decay_0.998.csv\n",
      "Saving evaluation results to /home/22489437/Documents/GitHub/MTDSim/experiments/experimental_data/results/epsilon_0.5_decay_0.998.csv\n"
     ]
    },
    {
     "name": "stderr",
     "output_type": "stream",
     "text": [
      "Compiled the loaded model, but the compiled metrics have yet to be built. `model.compile_metrics` will be empty until you train or evaluate the model.\n",
      "Compiled the loaded model, but the compiled metrics have yet to be built. `model.compile_metrics` will be empty until you train or evaluate the model.\n"
     ]
    },
    {
     "name": "stdout",
     "output_type": "stream",
     "text": [
      "{'CompleteTopologyShuffle': 8, 'IPShuffle': 10, 'OSDiversity': 8, 'ServiceDiversity': 14}\n",
      "Saving evaluation results to /home/22489437/Documents/GitHub/MTDSim/experiments/experimental_data/results/epsilon_0.5_decay_0.998.csv\n",
      "Saving evaluation results to /home/22489437/Documents/GitHub/MTDSim/experiments/experimental_data/results/epsilon_0.5_decay_0.998.csv\n",
      "{'CompleteTopologyShuffle': 10, 'IPShuffle': 18, 'OSDiversity': 10, 'ServiceDiversity': 2}\n"
     ]
    },
    {
     "name": "stderr",
     "output_type": "stream",
     "text": [
      "Compiled the loaded model, but the compiled metrics have yet to be built. `model.compile_metrics` will be empty until you train or evaluate the model.\n",
      "Compiled the loaded model, but the compiled metrics have yet to be built. `model.compile_metrics` will be empty until you train or evaluate the model.\n"
     ]
    },
    {
     "name": "stdout",
     "output_type": "stream",
     "text": [
      "Saving evaluation results to /home/22489437/Documents/GitHub/MTDSim/experiments/experimental_data/results/epsilon_0.5_decay_0.998.csv\n",
      "{'CompleteTopologyShuffle': 10, 'IPShuffle': 8, 'OSDiversity': 10, 'ServiceDiversity': 10}\n"
     ]
    },
    {
     "name": "stderr",
     "output_type": "stream",
     "text": [
      "Compiled the loaded model, but the compiled metrics have yet to be built. `model.compile_metrics` will be empty until you train or evaluate the model.\n"
     ]
    },
    {
     "name": "stdout",
     "output_type": "stream",
     "text": [
      "Saving evaluation results to /home/22489437/Documents/GitHub/MTDSim/experiments/experimental_data/results/epsilon_0.5_decay_0.998.csv\n"
     ]
    },
    {
     "name": "stderr",
     "output_type": "stream",
     "text": [
      "Compiled the loaded model, but the compiled metrics have yet to be built. `model.compile_metrics` will be empty until you train or evaluate the model.\n"
     ]
    },
    {
     "name": "stdout",
     "output_type": "stream",
     "text": [
      "{'CompleteTopologyShuffle': 6, 'IPShuffle': 12, 'OSDiversity': 14, 'ServiceDiversity': 12}\n",
      "Saving evaluation results to /home/22489437/Documents/GitHub/MTDSim/experiments/experimental_data/results/epsilon_0.5_decay_0.998.csv\n"
     ]
    },
    {
     "name": "stderr",
     "output_type": "stream",
     "text": [
      "Compiled the loaded model, but the compiled metrics have yet to be built. `model.compile_metrics` will be empty until you train or evaluate the model.\n"
     ]
    },
    {
     "name": "stdout",
     "output_type": "stream",
     "text": [
      "{'CompleteTopologyShuffle': 10, 'IPShuffle': 8, 'OSDiversity': 16, 'ServiceDiversity': 10}\n",
      "Saving evaluation results to /home/22489437/Documents/GitHub/MTDSim/experiments/experimental_data/results/epsilon_0.5_decay_0.998.csv\n"
     ]
    },
    {
     "name": "stderr",
     "output_type": "stream",
     "text": [
      "Compiled the loaded model, but the compiled metrics have yet to be built. `model.compile_metrics` will be empty until you train or evaluate the model.\n"
     ]
    },
    {
     "name": "stdout",
     "output_type": "stream",
     "text": [
      "{'CompleteTopologyShuffle': 10, 'IPShuffle': 8, 'OSDiversity': 6, 'ServiceDiversity': 16}\n",
      "Saving evaluation results to /home/22489437/Documents/GitHub/MTDSim/experiments/experimental_data/results/epsilon_0.5_decay_0.998.csv\n"
     ]
    },
    {
     "name": "stderr",
     "output_type": "stream",
     "text": [
      "Compiled the loaded model, but the compiled metrics have yet to be built. `model.compile_metrics` will be empty until you train or evaluate the model.\n"
     ]
    },
    {
     "name": "stdout",
     "output_type": "stream",
     "text": [
      "{'CompleteTopologyShuffle': 10, 'IPShuffle': 10, 'OSDiversity': 10, 'ServiceDiversity': 10}\n",
      "Saving evaluation results to /home/22489437/Documents/GitHub/MTDSim/experiments/experimental_data/results/epsilon_0.5_decay_0.998.csv\n"
     ]
    },
    {
     "name": "stderr",
     "output_type": "stream",
     "text": [
      "Compiled the loaded model, but the compiled metrics have yet to be built. `model.compile_metrics` will be empty until you train or evaluate the model.\n"
     ]
    },
    {
     "name": "stdout",
     "output_type": "stream",
     "text": [
      "{'CompleteTopologyShuffle': 10, 'IPShuffle': 10, 'OSDiversity': 10, 'ServiceDiversity': 10}\n",
      "Saving evaluation results to /home/22489437/Documents/GitHub/MTDSim/experiments/experimental_data/results/epsilon_0.5_decay_0.998.csv\n"
     ]
    },
    {
     "name": "stderr",
     "output_type": "stream",
     "text": [
      "Compiled the loaded model, but the compiled metrics have yet to be built. `model.compile_metrics` will be empty until you train or evaluate the model.\n"
     ]
    },
    {
     "name": "stdout",
     "output_type": "stream",
     "text": [
      "{'CompleteTopologyShuffle': 8, 'IPShuffle': 4, 'OSDiversity': 8, 'ServiceDiversity': 22}\n",
      "Saving evaluation results to /home/22489437/Documents/GitHub/MTDSim/experiments/experimental_data/results/epsilon_0.5_decay_0.998.csv\n"
     ]
    },
    {
     "name": "stderr",
     "output_type": "stream",
     "text": [
      "Compiled the loaded model, but the compiled metrics have yet to be built. `model.compile_metrics` will be empty until you train or evaluate the model.\n"
     ]
    },
    {
     "name": "stdout",
     "output_type": "stream",
     "text": [
      "{'CompleteTopologyShuffle': 14, 'IPShuffle': 6, 'OSDiversity': 8, 'ServiceDiversity': 12}\n",
      "Saving evaluation results to /home/22489437/Documents/GitHub/MTDSim/experiments/experimental_data/results/epsilon_0.5_decay_0.998.csv\n"
     ]
    },
    {
     "name": "stderr",
     "output_type": "stream",
     "text": [
      "Compiled the loaded model, but the compiled metrics have yet to be built. `model.compile_metrics` will be empty until you train or evaluate the model.\n"
     ]
    },
    {
     "name": "stdout",
     "output_type": "stream",
     "text": [
      "{'CompleteTopologyShuffle': 8, 'IPShuffle': 2, 'OSDiversity': 4, 'ServiceDiversity': 14}\n",
      "{'CompleteTopologyShuffle': 8, 'IPShuffle': 8, 'OSDiversity': 2, 'ServiceDiversity': 18}\n",
      "Saving evaluation results to /home/22489437/Documents/GitHub/MTDSim/experiments/experimental_data/results/epsilon_0.5_decay_0.998.csv\n",
      "Saving evaluation results to /home/22489437/Documents/GitHub/MTDSim/experiments/experimental_data/results/epsilon_0.5_decay_0.998.csv\n"
     ]
    },
    {
     "name": "stderr",
     "output_type": "stream",
     "text": [
      "Compiled the loaded model, but the compiled metrics have yet to be built. `model.compile_metrics` will be empty until you train or evaluate the model.\n",
      "Compiled the loaded model, but the compiled metrics have yet to be built. `model.compile_metrics` will be empty until you train or evaluate the model.\n"
     ]
    },
    {
     "name": "stdout",
     "output_type": "stream",
     "text": [
      "{'CompleteTopologyShuffle': 6, 'IPShuffle': 16, 'OSDiversity': 10, 'ServiceDiversity': 12}\n",
      "Saving evaluation results to /home/22489437/Documents/GitHub/MTDSim/experiments/experimental_data/results/epsilon_0.5_decay_0.998.csv\n"
     ]
    },
    {
     "name": "stderr",
     "output_type": "stream",
     "text": [
      "Compiled the loaded model, but the compiled metrics have yet to be built. `model.compile_metrics` will be empty until you train or evaluate the model.\n"
     ]
    },
    {
     "name": "stdout",
     "output_type": "stream",
     "text": [
      "{'CompleteTopologyShuffle': 10, 'IPShuffle': 12, 'OSDiversity': 16, 'ServiceDiversity': 6}\n",
      "Saving evaluation results to /home/22489437/Documents/GitHub/MTDSim/experiments/experimental_data/results/epsilon_0.5_decay_0.998.csv\n"
     ]
    },
    {
     "name": "stderr",
     "output_type": "stream",
     "text": [
      "Compiled the loaded model, but the compiled metrics have yet to be built. `model.compile_metrics` will be empty until you train or evaluate the model.\n"
     ]
    },
    {
     "name": "stdout",
     "output_type": "stream",
     "text": [
      "{'CompleteTopologyShuffle': 6, 'IPShuffle': 8, 'OSDiversity': 8, 'ServiceDiversity': 18}\n",
      "Saving evaluation results to /home/22489437/Documents/GitHub/MTDSim/experiments/experimental_data/results/epsilon_0.5_decay_0.998.csv\n"
     ]
    },
    {
     "name": "stderr",
     "output_type": "stream",
     "text": [
      "Compiled the loaded model, but the compiled metrics have yet to be built. `model.compile_metrics` will be empty until you train or evaluate the model.\n"
     ]
    },
    {
     "name": "stdout",
     "output_type": "stream",
     "text": [
      "{'CompleteTopologyShuffle': 14, 'IPShuffle': 6, 'OSDiversity': 14, 'ServiceDiversity': 10}\n",
      "{'CompleteTopologyShuffle': 12, 'IPShuffle': 14, 'OSDiversity': 8, 'ServiceDiversity': 6}\n",
      "Saving evaluation results to /home/22489437/Documents/GitHub/MTDSim/experiments/experimental_data/results/epsilon_0.5_decay_0.998.csv\n",
      "Saving evaluation results to /home/22489437/Documents/GitHub/MTDSim/experiments/experimental_data/results/epsilon_0.5_decay_0.998.csv\n"
     ]
    },
    {
     "name": "stderr",
     "output_type": "stream",
     "text": [
      "Compiled the loaded model, but the compiled metrics have yet to be built. `model.compile_metrics` will be empty until you train or evaluate the model.\n",
      "Compiled the loaded model, but the compiled metrics have yet to be built. `model.compile_metrics` will be empty until you train or evaluate the model.\n"
     ]
    },
    {
     "name": "stdout",
     "output_type": "stream",
     "text": [
      "{'CompleteTopologyShuffle': 2, 'IPShuffle': 16, 'OSDiversity': 12, 'ServiceDiversity': 10}\n",
      "Saving evaluation results to /home/22489437/Documents/GitHub/MTDSim/experiments/experimental_data/results/epsilon_0.5_decay_0.998.csv\n"
     ]
    },
    {
     "name": "stderr",
     "output_type": "stream",
     "text": [
      "Compiled the loaded model, but the compiled metrics have yet to be built. `model.compile_metrics` will be empty until you train or evaluate the model.\n"
     ]
    },
    {
     "name": "stdout",
     "output_type": "stream",
     "text": [
      "{'CompleteTopologyShuffle': 10, 'IPShuffle': 10, 'OSDiversity': 10, 'ServiceDiversity': 4}\n",
      "{'CompleteTopologyShuffle': 4, 'IPShuffle': 10, 'OSDiversity': 12, 'ServiceDiversity': 10}\n",
      "Saving evaluation results to /home/22489437/Documents/GitHub/MTDSim/experiments/experimental_data/results/epsilon_0.5_decay_0.998.csv\n",
      "Saving evaluation results to /home/22489437/Documents/GitHub/MTDSim/experiments/experimental_data/results/epsilon_0.5_decay_0.998.csv\n"
     ]
    },
    {
     "name": "stderr",
     "output_type": "stream",
     "text": [
      "Compiled the loaded model, but the compiled metrics have yet to be built. `model.compile_metrics` will be empty until you train or evaluate the model.\n",
      "Compiled the loaded model, but the compiled metrics have yet to be built. `model.compile_metrics` will be empty until you train or evaluate the model.\n"
     ]
    },
    {
     "name": "stdout",
     "output_type": "stream",
     "text": [
      "{'CompleteTopologyShuffle': 10, 'IPShuffle': 6, 'OSDiversity': 6, 'ServiceDiversity': 16}\n",
      "Saving evaluation results to /home/22489437/Documents/GitHub/MTDSim/experiments/experimental_data/results/epsilon_0.5_decay_0.998.csv\n"
     ]
    },
    {
     "name": "stderr",
     "output_type": "stream",
     "text": [
      "Compiled the loaded model, but the compiled metrics have yet to be built. `model.compile_metrics` will be empty until you train or evaluate the model.\n"
     ]
    },
    {
     "name": "stdout",
     "output_type": "stream",
     "text": [
      "{'CompleteTopologyShuffle': 8, 'IPShuffle': 10, 'OSDiversity': 6, 'ServiceDiversity': 14}\n",
      "Saving evaluation results to /home/22489437/Documents/GitHub/MTDSim/experiments/experimental_data/results/epsilon_0.5_decay_0.998.csv\n"
     ]
    },
    {
     "name": "stderr",
     "output_type": "stream",
     "text": [
      "Compiled the loaded model, but the compiled metrics have yet to be built. `model.compile_metrics` will be empty until you train or evaluate the model.\n"
     ]
    },
    {
     "name": "stdout",
     "output_type": "stream",
     "text": [
      "{'CompleteTopologyShuffle': 4, 'IPShuffle': 12, 'OSDiversity': 12, 'ServiceDiversity': 6}\n",
      "Saving evaluation results to /home/22489437/Documents/GitHub/MTDSim/experiments/experimental_data/results/epsilon_0.5_decay_0.998.csv\n"
     ]
    },
    {
     "name": "stderr",
     "output_type": "stream",
     "text": [
      "Compiled the loaded model, but the compiled metrics have yet to be built. `model.compile_metrics` will be empty until you train or evaluate the model.\n"
     ]
    },
    {
     "name": "stdout",
     "output_type": "stream",
     "text": [
      "{'CompleteTopologyShuffle': 6, 'IPShuffle': 16, 'OSDiversity': 12, 'ServiceDiversity': 10}\n",
      "Saving evaluation results to /home/22489437/Documents/GitHub/MTDSim/experiments/experimental_data/results/epsilon_0.5_decay_0.998.csv\n"
     ]
    },
    {
     "name": "stderr",
     "output_type": "stream",
     "text": [
      "Compiled the loaded model, but the compiled metrics have yet to be built. `model.compile_metrics` will be empty until you train or evaluate the model.\n"
     ]
    },
    {
     "name": "stdout",
     "output_type": "stream",
     "text": [
      "{'CompleteTopologyShuffle': 16, 'IPShuffle': 4, 'OSDiversity': 10, 'ServiceDiversity': 10}\n",
      "Saving evaluation results to /home/22489437/Documents/GitHub/MTDSim/experiments/experimental_data/results/epsilon_0.5_decay_0.998.csv\n"
     ]
    },
    {
     "name": "stderr",
     "output_type": "stream",
     "text": [
      "Compiled the loaded model, but the compiled metrics have yet to be built. `model.compile_metrics` will be empty until you train or evaluate the model.\n"
     ]
    },
    {
     "name": "stdout",
     "output_type": "stream",
     "text": [
      "{'CompleteTopologyShuffle': 8, 'IPShuffle': 12, 'OSDiversity': 10, 'ServiceDiversity': 10}\n",
      "Saving evaluation results to /home/22489437/Documents/GitHub/MTDSim/experiments/experimental_data/results/epsilon_0.5_decay_0.998.csv\n",
      "{'CompleteTopologyShuffle': 14, 'IPShuffle': 4, 'OSDiversity': 10, 'ServiceDiversity': 18}\n"
     ]
    },
    {
     "name": "stderr",
     "output_type": "stream",
     "text": [
      "Compiled the loaded model, but the compiled metrics have yet to be built. `model.compile_metrics` will be empty until you train or evaluate the model.\n"
     ]
    },
    {
     "name": "stdout",
     "output_type": "stream",
     "text": [
      "Saving evaluation results to /home/22489437/Documents/GitHub/MTDSim/experiments/experimental_data/results/epsilon_0.5_decay_0.998.csv\n"
     ]
    },
    {
     "name": "stderr",
     "output_type": "stream",
     "text": [
      "Compiled the loaded model, but the compiled metrics have yet to be built. `model.compile_metrics` will be empty until you train or evaluate the model.\n"
     ]
    },
    {
     "name": "stdout",
     "output_type": "stream",
     "text": [
      "{'CompleteTopologyShuffle': 10, 'IPShuffle': 8, 'OSDiversity': 18, 'ServiceDiversity': 6}\n",
      "Saving evaluation results to /home/22489437/Documents/GitHub/MTDSim/experiments/experimental_data/results/epsilon_0.5_decay_0.998.csv\n"
     ]
    },
    {
     "name": "stderr",
     "output_type": "stream",
     "text": [
      "Compiled the loaded model, but the compiled metrics have yet to be built. `model.compile_metrics` will be empty until you train or evaluate the model.\n"
     ]
    },
    {
     "name": "stdout",
     "output_type": "stream",
     "text": [
      "{'CompleteTopologyShuffle': 6, 'IPShuffle': 24, 'OSDiversity': 10, 'ServiceDiversity': 6}\n",
      "Saving evaluation results to /home/22489437/Documents/GitHub/MTDSim/experiments/experimental_data/results/epsilon_0.5_decay_0.998.csv\n"
     ]
    },
    {
     "name": "stderr",
     "output_type": "stream",
     "text": [
      "Compiled the loaded model, but the compiled metrics have yet to be built. `model.compile_metrics` will be empty until you train or evaluate the model.\n"
     ]
    },
    {
     "name": "stdout",
     "output_type": "stream",
     "text": [
      "{'CompleteTopologyShuffle': 0, 'IPShuffle': 6, 'OSDiversity': 12, 'ServiceDiversity': 10}\n",
      "Saving evaluation results to /home/22489437/Documents/GitHub/MTDSim/experiments/experimental_data/results/epsilon_0.5_decay_0.998.csv\n"
     ]
    },
    {
     "name": "stderr",
     "output_type": "stream",
     "text": [
      "Compiled the loaded model, but the compiled metrics have yet to be built. `model.compile_metrics` will be empty until you train or evaluate the model.\n"
     ]
    },
    {
     "name": "stdout",
     "output_type": "stream",
     "text": [
      "{'CompleteTopologyShuffle': 8, 'IPShuffle': 8, 'OSDiversity': 8, 'ServiceDiversity': 10}\n",
      "{'CompleteTopologyShuffle': 10, 'IPShuffle': 16, 'OSDiversity': 10, 'ServiceDiversity': 10}\n",
      "Saving evaluation results to /home/22489437/Documents/GitHub/MTDSim/experiments/experimental_data/results/epsilon_0.5_decay_0.998.csv\n",
      "Saving evaluation results to /home/22489437/Documents/GitHub/MTDSim/experiments/experimental_data/results/epsilon_0.5_decay_0.998.csv\n"
     ]
    },
    {
     "name": "stderr",
     "output_type": "stream",
     "text": [
      "Compiled the loaded model, but the compiled metrics have yet to be built. `model.compile_metrics` will be empty until you train or evaluate the model.\n",
      "Compiled the loaded model, but the compiled metrics have yet to be built. `model.compile_metrics` will be empty until you train or evaluate the model.\n"
     ]
    },
    {
     "name": "stdout",
     "output_type": "stream",
     "text": [
      "{'CompleteTopologyShuffle': 10, 'IPShuffle': 12, 'OSDiversity': 0, 'ServiceDiversity': 14}\n",
      "Saving evaluation results to /home/22489437/Documents/GitHub/MTDSim/experiments/experimental_data/results/epsilon_0.5_decay_0.998.csv\n"
     ]
    },
    {
     "name": "stderr",
     "output_type": "stream",
     "text": [
      "Compiled the loaded model, but the compiled metrics have yet to be built. `model.compile_metrics` will be empty until you train or evaluate the model.\n"
     ]
    },
    {
     "name": "stdout",
     "output_type": "stream",
     "text": [
      "{'CompleteTopologyShuffle': 14, 'IPShuffle': 10, 'OSDiversity': 10, 'ServiceDiversity': 10}\n",
      "Saving evaluation results to /home/22489437/Documents/GitHub/MTDSim/experiments/experimental_data/results/epsilon_0.5_decay_0.998.csv\n"
     ]
    },
    {
     "name": "stderr",
     "output_type": "stream",
     "text": [
      "Compiled the loaded model, but the compiled metrics have yet to be built. `model.compile_metrics` will be empty until you train or evaluate the model.\n"
     ]
    },
    {
     "name": "stdout",
     "output_type": "stream",
     "text": [
      "{'CompleteTopologyShuffle': 14, 'IPShuffle': 8, 'OSDiversity': 16, 'ServiceDiversity': 2}\n",
      "Saving evaluation results to /home/22489437/Documents/GitHub/MTDSim/experiments/experimental_data/results/epsilon_0.5_decay_0.998.csv\n"
     ]
    },
    {
     "name": "stderr",
     "output_type": "stream",
     "text": [
      "Compiled the loaded model, but the compiled metrics have yet to be built. `model.compile_metrics` will be empty until you train or evaluate the model.\n"
     ]
    },
    {
     "name": "stdout",
     "output_type": "stream",
     "text": [
      "{'CompleteTopologyShuffle': 18, 'IPShuffle': 8, 'OSDiversity': 10, 'ServiceDiversity': 12}\n",
      "Saving evaluation results to /home/22489437/Documents/GitHub/MTDSim/experiments/experimental_data/results/epsilon_0.5_decay_0.998.csv\n"
     ]
    },
    {
     "name": "stderr",
     "output_type": "stream",
     "text": [
      "Compiled the loaded model, but the compiled metrics have yet to be built. `model.compile_metrics` will be empty until you train or evaluate the model.\n"
     ]
    },
    {
     "name": "stdout",
     "output_type": "stream",
     "text": [
      "{'CompleteTopologyShuffle': 6, 'IPShuffle': 6, 'OSDiversity': 8, 'ServiceDiversity': 14}\n",
      "Saving evaluation results to /home/22489437/Documents/GitHub/MTDSim/experiments/experimental_data/results/epsilon_0.5_decay_0.998.csv\n"
     ]
    },
    {
     "name": "stderr",
     "output_type": "stream",
     "text": [
      "Compiled the loaded model, but the compiled metrics have yet to be built. `model.compile_metrics` will be empty until you train or evaluate the model.\n"
     ]
    },
    {
     "name": "stdout",
     "output_type": "stream",
     "text": [
      "{'CompleteTopologyShuffle': 10, 'IPShuffle': 16, 'OSDiversity': 8, 'ServiceDiversity': 10}\n",
      "Saving evaluation results to /home/22489437/Documents/GitHub/MTDSim/experiments/experimental_data/results/epsilon_0.5_decay_0.998.csv\n"
     ]
    },
    {
     "name": "stderr",
     "output_type": "stream",
     "text": [
      "Compiled the loaded model, but the compiled metrics have yet to be built. `model.compile_metrics` will be empty until you train or evaluate the model.\n"
     ]
    },
    {
     "name": "stdout",
     "output_type": "stream",
     "text": [
      "{'CompleteTopologyShuffle': 2, 'IPShuffle': 16, 'OSDiversity': 20, 'ServiceDiversity': 4}\n",
      "Saving evaluation results to /home/22489437/Documents/GitHub/MTDSim/experiments/experimental_data/results/epsilon_0.5_decay_0.998.csv\n"
     ]
    },
    {
     "name": "stderr",
     "output_type": "stream",
     "text": [
      "Compiled the loaded model, but the compiled metrics have yet to be built. `model.compile_metrics` will be empty until you train or evaluate the model.\n"
     ]
    },
    {
     "name": "stdout",
     "output_type": "stream",
     "text": [
      "{'CompleteTopologyShuffle': 6, 'IPShuffle': 14, 'OSDiversity': 12, 'ServiceDiversity': 8}\n",
      "{'CompleteTopologyShuffle': 6, 'IPShuffle': 10, 'OSDiversity': 4, 'ServiceDiversity': 8}\n",
      "Saving evaluation results to /home/22489437/Documents/GitHub/MTDSim/experiments/experimental_data/results/epsilon_0.5_decay_0.998.csv\n",
      "Saving evaluation results to /home/22489437/Documents/GitHub/MTDSim/experiments/experimental_data/results/epsilon_0.5_decay_0.998.csv\n"
     ]
    },
    {
     "name": "stderr",
     "output_type": "stream",
     "text": [
      "Compiled the loaded model, but the compiled metrics have yet to be built. `model.compile_metrics` will be empty until you train or evaluate the model.\n",
      "Compiled the loaded model, but the compiled metrics have yet to be built. `model.compile_metrics` will be empty until you train or evaluate the model.\n"
     ]
    },
    {
     "name": "stdout",
     "output_type": "stream",
     "text": [
      "{'CompleteTopologyShuffle': 14, 'IPShuffle': 16, 'OSDiversity': 4, 'ServiceDiversity': 8}\n",
      "{'CompleteTopologyShuffle': 4, 'IPShuffle': 8, 'OSDiversity': 14, 'ServiceDiversity': 16}\n",
      "Saving evaluation results to /home/22489437/Documents/GitHub/MTDSim/experiments/experimental_data/results/epsilon_0.5_decay_0.998.csv\n"
     ]
    },
    {
     "name": "stderr",
     "output_type": "stream",
     "text": [
      "Compiled the loaded model, but the compiled metrics have yet to be built. `model.compile_metrics` will be empty until you train or evaluate the model.\n"
     ]
    },
    {
     "name": "stdout",
     "output_type": "stream",
     "text": [
      "Saving evaluation results to /home/22489437/Documents/GitHub/MTDSim/experiments/experimental_data/results/epsilon_0.5_decay_0.998.csv\n",
      "{'CompleteTopologyShuffle': 10, 'IPShuffle': 12, 'OSDiversity': 18, 'ServiceDiversity': 8}\n"
     ]
    },
    {
     "name": "stderr",
     "output_type": "stream",
     "text": [
      "Compiled the loaded model, but the compiled metrics have yet to be built. `model.compile_metrics` will be empty until you train or evaluate the model.\n"
     ]
    },
    {
     "name": "stdout",
     "output_type": "stream",
     "text": [
      "{'CompleteTopologyShuffle': 6, 'IPShuffle': 10, 'OSDiversity': 14, 'ServiceDiversity': 8}\n",
      "Saving evaluation results to /home/22489437/Documents/GitHub/MTDSim/experiments/experimental_data/results/epsilon_0.5_decay_0.998.csv\n",
      "{'CompleteTopologyShuffle': 10, 'IPShuffle': 6, 'OSDiversity': 12, 'ServiceDiversity': 12}Saving evaluation results to /home/22489437/Documents/GitHub/MTDSim/experiments/experimental_data/results/epsilon_0.5_decay_0.998.csv\n",
      "\n"
     ]
    },
    {
     "name": "stderr",
     "output_type": "stream",
     "text": [
      "Compiled the loaded model, but the compiled metrics have yet to be built. `model.compile_metrics` will be empty until you train or evaluate the model.\n",
      "Compiled the loaded model, but the compiled metrics have yet to be built. `model.compile_metrics` will be empty until you train or evaluate the model.\n"
     ]
    },
    {
     "name": "stdout",
     "output_type": "stream",
     "text": [
      "Saving evaluation results to /home/22489437/Documents/GitHub/MTDSim/experiments/experimental_data/results/epsilon_0.5_decay_0.998.csv\n"
     ]
    },
    {
     "name": "stderr",
     "output_type": "stream",
     "text": [
      "Compiled the loaded model, but the compiled metrics have yet to be built. `model.compile_metrics` will be empty until you train or evaluate the model.\n"
     ]
    },
    {
     "name": "stdout",
     "output_type": "stream",
     "text": [
      "{'CompleteTopologyShuffle': 12, 'IPShuffle': 6, 'OSDiversity': 12, 'ServiceDiversity': 10}\n",
      "Saving evaluation results to /home/22489437/Documents/GitHub/MTDSim/experiments/experimental_data/results/epsilon_0.5_decay_0.998.csv\n"
     ]
    },
    {
     "name": "stderr",
     "output_type": "stream",
     "text": [
      "Compiled the loaded model, but the compiled metrics have yet to be built. `model.compile_metrics` will be empty until you train or evaluate the model.\n"
     ]
    },
    {
     "name": "stdout",
     "output_type": "stream",
     "text": [
      "{'CompleteTopologyShuffle': 14, 'IPShuffle': 16, 'OSDiversity': 8, 'ServiceDiversity': 8}\n",
      "Saving evaluation results to /home/22489437/Documents/GitHub/MTDSim/experiments/experimental_data/results/epsilon_0.5_decay_0.998.csv\n"
     ]
    },
    {
     "name": "stderr",
     "output_type": "stream",
     "text": [
      "Compiled the loaded model, but the compiled metrics have yet to be built. `model.compile_metrics` will be empty until you train or evaluate the model.\n"
     ]
    },
    {
     "name": "stdout",
     "output_type": "stream",
     "text": [
      "{'CompleteTopologyShuffle': 4, 'IPShuffle': 12, 'OSDiversity': 14, 'ServiceDiversity': 8}{'CompleteTopologyShuffle': 10, 'IPShuffle': 8, 'OSDiversity': 18, 'ServiceDiversity': 6}\n",
      "\n",
      "Saving evaluation results to /home/22489437/Documents/GitHub/MTDSim/experiments/experimental_data/results/epsilon_0.5_decay_0.998.csv\n",
      "Saving evaluation results to /home/22489437/Documents/GitHub/MTDSim/experiments/experimental_data/results/epsilon_0.5_decay_0.998.csv\n"
     ]
    },
    {
     "name": "stderr",
     "output_type": "stream",
     "text": [
      "Compiled the loaded model, but the compiled metrics have yet to be built. `model.compile_metrics` will be empty until you train or evaluate the model.\n",
      "Compiled the loaded model, but the compiled metrics have yet to be built. `model.compile_metrics` will be empty until you train or evaluate the model.\n"
     ]
    },
    {
     "name": "stdout",
     "output_type": "stream",
     "text": [
      "{'CompleteTopologyShuffle': 20, 'IPShuffle': 6, 'OSDiversity': 10, 'ServiceDiversity': 4}\n",
      "Saving evaluation results to /home/22489437/Documents/GitHub/MTDSim/experiments/experimental_data/results/epsilon_0.5_decay_0.998.csv\n",
      "{'CompleteTopologyShuffle': 14, 'IPShuffle': 14, 'OSDiversity': 4, 'ServiceDiversity': 8}\n"
     ]
    },
    {
     "name": "stderr",
     "output_type": "stream",
     "text": [
      "Compiled the loaded model, but the compiled metrics have yet to be built. `model.compile_metrics` will be empty until you train or evaluate the model.\n"
     ]
    },
    {
     "name": "stdout",
     "output_type": "stream",
     "text": [
      "Saving evaluation results to /home/22489437/Documents/GitHub/MTDSim/experiments/experimental_data/results/epsilon_0.5_decay_0.998.csv\n"
     ]
    },
    {
     "name": "stderr",
     "output_type": "stream",
     "text": [
      "Compiled the loaded model, but the compiled metrics have yet to be built. `model.compile_metrics` will be empty until you train or evaluate the model.\n"
     ]
    },
    {
     "name": "stdout",
     "output_type": "stream",
     "text": [
      "{'CompleteTopologyShuffle': 4, 'IPShuffle': 6, 'OSDiversity': 8, 'ServiceDiversity': 16}\n",
      "Saving evaluation results to /home/22489437/Documents/GitHub/MTDSim/experiments/experimental_data/results/epsilon_0.5_decay_0.998.csv\n"
     ]
    },
    {
     "name": "stderr",
     "output_type": "stream",
     "text": [
      "Compiled the loaded model, but the compiled metrics have yet to be built. `model.compile_metrics` will be empty until you train or evaluate the model.\n"
     ]
    },
    {
     "name": "stdout",
     "output_type": "stream",
     "text": [
      "{'CompleteTopologyShuffle': 16, 'IPShuffle': 14, 'OSDiversity': 14, 'ServiceDiversity': 8}\n",
      "Saving evaluation results to /home/22489437/Documents/GitHub/MTDSim/experiments/experimental_data/results/epsilon_0.5_decay_0.998.csv\n"
     ]
    },
    {
     "name": "stderr",
     "output_type": "stream",
     "text": [
      "Compiled the loaded model, but the compiled metrics have yet to be built. `model.compile_metrics` will be empty until you train or evaluate the model.\n"
     ]
    },
    {
     "name": "stdout",
     "output_type": "stream",
     "text": [
      "{'CompleteTopologyShuffle': 12, 'IPShuffle': 14, 'OSDiversity': 10, 'ServiceDiversity': 10}\n",
      "Saving evaluation results to /home/22489437/Documents/GitHub/MTDSim/experiments/experimental_data/results/epsilon_0.5_decay_0.998.csv\n"
     ]
    },
    {
     "name": "stderr",
     "output_type": "stream",
     "text": [
      "Compiled the loaded model, but the compiled metrics have yet to be built. `model.compile_metrics` will be empty until you train or evaluate the model.\n"
     ]
    },
    {
     "name": "stdout",
     "output_type": "stream",
     "text": [
      "{'CompleteTopologyShuffle': 8, 'IPShuffle': 16, 'OSDiversity': 10, 'ServiceDiversity': 6}\n",
      "Saving evaluation results to /home/22489437/Documents/GitHub/MTDSim/experiments/experimental_data/results/epsilon_0.5_decay_0.998.csv\n"
     ]
    },
    {
     "name": "stderr",
     "output_type": "stream",
     "text": [
      "Compiled the loaded model, but the compiled metrics have yet to be built. `model.compile_metrics` will be empty until you train or evaluate the model.\n"
     ]
    },
    {
     "name": "stdout",
     "output_type": "stream",
     "text": [
      "{'CompleteTopologyShuffle': 10, 'IPShuffle': 14, 'OSDiversity': 14, 'ServiceDiversity': 12}\n",
      "Saving evaluation results to /home/22489437/Documents/GitHub/MTDSim/experiments/experimental_data/results/epsilon_0.5_decay_0.998.csv\n"
     ]
    },
    {
     "name": "stderr",
     "output_type": "stream",
     "text": [
      "Compiled the loaded model, but the compiled metrics have yet to be built. `model.compile_metrics` will be empty until you train or evaluate the model.\n"
     ]
    },
    {
     "name": "stdout",
     "output_type": "stream",
     "text": [
      "{'CompleteTopologyShuffle': 4, 'IPShuffle': 6, 'OSDiversity': 8, 'ServiceDiversity': 26}\n",
      "Saving evaluation results to /home/22489437/Documents/GitHub/MTDSim/experiments/experimental_data/results/epsilon_0.5_decay_0.998.csv\n"
     ]
    },
    {
     "name": "stderr",
     "output_type": "stream",
     "text": [
      "Compiled the loaded model, but the compiled metrics have yet to be built. `model.compile_metrics` will be empty until you train or evaluate the model.\n"
     ]
    },
    {
     "name": "stdout",
     "output_type": "stream",
     "text": [
      "{'CompleteTopologyShuffle': 6, 'IPShuffle': 8, 'OSDiversity': 8, 'ServiceDiversity': 6}\n",
      "Saving evaluation results to /home/22489437/Documents/GitHub/MTDSim/experiments/experimental_data/results/epsilon_0.5_decay_0.998.csv\n"
     ]
    },
    {
     "name": "stderr",
     "output_type": "stream",
     "text": [
      "Compiled the loaded model, but the compiled metrics have yet to be built. `model.compile_metrics` will be empty until you train or evaluate the model.\n"
     ]
    },
    {
     "name": "stdout",
     "output_type": "stream",
     "text": [
      "{'CompleteTopologyShuffle': 12, 'IPShuffle': 12, 'OSDiversity': 12, 'ServiceDiversity': 8}\n",
      "{'CompleteTopologyShuffle': 8, 'IPShuffle': 8, 'OSDiversity': 16, 'ServiceDiversity': 4}\n",
      "Saving evaluation results to /home/22489437/Documents/GitHub/MTDSim/experiments/experimental_data/results/epsilon_0.5_decay_0.998.csv\n",
      "Saving evaluation results to /home/22489437/Documents/GitHub/MTDSim/experiments/experimental_data/results/epsilon_0.5_decay_0.998.csv\n"
     ]
    },
    {
     "name": "stderr",
     "output_type": "stream",
     "text": [
      "Compiled the loaded model, but the compiled metrics have yet to be built. `model.compile_metrics` will be empty until you train or evaluate the model.\n",
      "Compiled the loaded model, but the compiled metrics have yet to be built. `model.compile_metrics` will be empty until you train or evaluate the model.\n"
     ]
    },
    {
     "name": "stdout",
     "output_type": "stream",
     "text": [
      "{'CompleteTopologyShuffle': 12, 'IPShuffle': 10, 'OSDiversity': 10, 'ServiceDiversity': 4}\n",
      "Saving evaluation results to /home/22489437/Documents/GitHub/MTDSim/experiments/experimental_data/results/epsilon_0.5_decay_0.998.csv\n",
      "{'CompleteTopologyShuffle': 18, 'IPShuffle': 12, 'OSDiversity': 8, 'ServiceDiversity': 6}\n"
     ]
    },
    {
     "name": "stderr",
     "output_type": "stream",
     "text": [
      "Compiled the loaded model, but the compiled metrics have yet to be built. `model.compile_metrics` will be empty until you train or evaluate the model.\n"
     ]
    },
    {
     "name": "stdout",
     "output_type": "stream",
     "text": [
      "Saving evaluation results to /home/22489437/Documents/GitHub/MTDSim/experiments/experimental_data/results/epsilon_0.5_decay_0.998.csv\n",
      "{'CompleteTopologyShuffle': 12, 'IPShuffle': 4, 'OSDiversity': 4, 'ServiceDiversity': 16}\n",
      "Saving evaluation results to /home/22489437/Documents/GitHub/MTDSim/experiments/experimental_data/results/epsilon_0.5_decay_0.998.csv\n",
      "{'CompleteTopologyShuffle': 12, 'IPShuffle': 6, 'OSDiversity': 12, 'ServiceDiversity': 8}\n",
      "Saving evaluation results to /home/22489437/Documents/GitHub/MTDSim/experiments/experimental_data/results/epsilon_0.5_decay_0.998.csv\n",
      "{'CompleteTopologyShuffle': 10, 'IPShuffle': 10, 'OSDiversity': 10, 'ServiceDiversity': 8}\n",
      "Saving evaluation results to /home/22489437/Documents/GitHub/MTDSim/experiments/experimental_data/results/epsilon_0.5_decay_0.998.csv\n",
      "{'CompleteTopologyShuffle': 10, 'IPShuffle': 12, 'OSDiversity': 8, 'ServiceDiversity': 8}\n",
      "Saving evaluation results to /home/22489437/Documents/GitHub/MTDSim/experiments/experimental_data/results/epsilon_0.5_decay_0.998.csv\n",
      "{'CompleteTopologyShuffle': 16, 'IPShuffle': 12, 'OSDiversity': 6, 'ServiceDiversity': 6}\n",
      "{'CompleteTopologyShuffle': 10, 'IPShuffle': 10, 'OSDiversity': 12, 'ServiceDiversity': 8}\n",
      "Saving evaluation results to /home/22489437/Documents/GitHub/MTDSim/experiments/experimental_data/results/epsilon_0.5_decay_0.998.csv\n",
      "Saving evaluation results to /home/22489437/Documents/GitHub/MTDSim/experiments/experimental_data/results/epsilon_0.5_decay_0.998.csv\n",
      "{'CompleteTopologyShuffle': 12, 'IPShuffle': 12, 'OSDiversity': 10, 'ServiceDiversity': 8}\n",
      "Saving evaluation results to /home/22489437/Documents/GitHub/MTDSim/experiments/experimental_data/results/epsilon_0.5_decay_0.998.csv\n",
      "{'CompleteTopologyShuffle': 6, 'IPShuffle': 18, 'OSDiversity': 8, 'ServiceDiversity': 6}\n",
      "Saving evaluation results to /home/22489437/Documents/GitHub/MTDSim/experiments/experimental_data/results/epsilon_0.5_decay_0.998.csv\n",
      "{'CompleteTopologyShuffle': 0, 'IPShuffle': 20, 'OSDiversity': 8, 'ServiceDiversity': 6}\n",
      "Saving evaluation results to /home/22489437/Documents/GitHub/MTDSim/experiments/experimental_data/results/epsilon_0.5_decay_0.998.csv\n",
      "{'CompleteTopologyShuffle': 14, 'IPShuffle': 10, 'OSDiversity': 8, 'ServiceDiversity': 8}\n",
      "Saving evaluation results to /home/22489437/Documents/GitHub/MTDSim/experiments/experimental_data/results/epsilon_0.5_decay_0.998.csv\n",
      "{'CompleteTopologyShuffle': 8, 'IPShuffle': 10, 'OSDiversity': 2, 'ServiceDiversity': 10}\n",
      "Saving evaluation results to /home/22489437/Documents/GitHub/MTDSim/experiments/experimental_data/results/epsilon_0.5_decay_0.998.csv\n",
      "{'CompleteTopologyShuffle': 12, 'IPShuffle': 10, 'OSDiversity': 6, 'ServiceDiversity': 6}\n",
      "Saving evaluation results to /home/22489437/Documents/GitHub/MTDSim/experiments/experimental_data/results/epsilon_0.5_decay_0.998.csv\n",
      "{'CompleteTopologyShuffle': 8, 'IPShuffle': 18, 'OSDiversity': 8, 'ServiceDiversity': 8}\n",
      "Saving evaluation results to /home/22489437/Documents/GitHub/MTDSim/experiments/experimental_data/results/epsilon_0.5_decay_0.998.csv\n",
      "{'CompleteTopologyShuffle': 12, 'IPShuffle': 10, 'OSDiversity': 14, 'ServiceDiversity': 8}\n",
      "{'CompleteTopologyShuffle': 14, 'IPShuffle': 8, 'OSDiversity': 22, 'ServiceDiversity': 8}\n",
      "{'CompleteTopologyShuffle': 10, 'IPShuffle': 8, 'OSDiversity': 6, 'ServiceDiversity': 14}\n",
      "{'CompleteTopologyShuffle': 14, 'IPShuffle': 10, 'OSDiversity': 10, 'ServiceDiversity': 12}Saving evaluation results to /home/22489437/Documents/GitHub/MTDSim/experiments/experimental_data/results/epsilon_0.5_decay_0.998.csv\n",
      "\n",
      "Saving evaluation results to /home/22489437/Documents/GitHub/MTDSim/experiments/experimental_data/results/epsilon_0.5_decay_0.998.csv\n",
      "Saving evaluation results to /home/22489437/Documents/GitHub/MTDSim/experiments/experimental_data/results/epsilon_0.5_decay_0.998.csv\n",
      "Saving evaluation results to /home/22489437/Documents/GitHub/MTDSim/experiments/experimental_data/results/epsilon_0.5_decay_0.998.csv\n",
      "{'CompleteTopologyShuffle': 14, 'IPShuffle': 6, 'OSDiversity': 10, 'ServiceDiversity': 8}\n",
      "{'CompleteTopologyShuffle': 14, 'IPShuffle': 18, 'OSDiversity': 6, 'ServiceDiversity': 6}\n",
      "Saving evaluation results to /home/22489437/Documents/GitHub/MTDSim/experiments/experimental_data/results/epsilon_0.5_decay_0.998.csv\n",
      "Saving evaluation results to /home/22489437/Documents/GitHub/MTDSim/experiments/experimental_data/results/epsilon_0.5_decay_0.998.csv\n",
      "{'CompleteTopologyShuffle': 6, 'IPShuffle': 12, 'OSDiversity': 12, 'ServiceDiversity': 12}\n",
      "Saving evaluation results to /home/22489437/Documents/GitHub/MTDSim/experiments/experimental_data/results/epsilon_0.5_decay_0.998.csv\n",
      "{'CompleteTopologyShuffle': 12, 'IPShuffle': 8, 'OSDiversity': 6, 'ServiceDiversity': 8}\n",
      "Saving evaluation results to /home/22489437/Documents/GitHub/MTDSim/experiments/experimental_data/results/epsilon_0.5_decay_0.998.csv\n",
      "{'CompleteTopologyShuffle': 10, 'IPShuffle': 20, 'OSDiversity': 6, 'ServiceDiversity': 6}\n",
      "Saving evaluation results to /home/22489437/Documents/GitHub/MTDSim/experiments/experimental_data/results/epsilon_0.5_decay_0.998.csv\n",
      "{'CompleteTopologyShuffle': 8, 'IPShuffle': 14, 'OSDiversity': 12, 'ServiceDiversity': 10}\n",
      "Saving evaluation results to /home/22489437/Documents/GitHub/MTDSim/experiments/experimental_data/results/epsilon_0.5_decay_0.998.csv\n",
      "Running experiments for model epsilon_0.6_decay_0.98\n",
      "Trial_ 0\n",
      "Trial_ 10\n",
      "Trial_ 20\n",
      "Trial_ 30\n",
      "Trial_ 40\n",
      "Trial_ 50\n",
      "Trial_ 60\n",
      "Trial_ 70\n",
      "Trial_ 80\n",
      "Trial_ 90\n"
     ]
    },
    {
     "name": "stderr",
     "output_type": "stream",
     "text": [
      "Compiled the loaded model, but the compiled metrics have yet to be built. `model.compile_metrics` will be empty until you train or evaluate the model.\n",
      "Compiled the loaded model, but the compiled metrics have yet to be built. `model.compile_metrics` will be empty until you train or evaluate the model.\n",
      "Compiled the loaded model, but the compiled metrics have yet to be built. `model.compile_metrics` will be empty until you train or evaluate the model.\n",
      "Compiled the loaded model, but the compiled metrics have yet to be built. `model.compile_metrics` will be empty until you train or evaluate the model.\n",
      "Compiled the loaded model, but the compiled metrics have yet to be built. `model.compile_metrics` will be empty until you train or evaluate the model.\n",
      "Compiled the loaded model, but the compiled metrics have yet to be built. `model.compile_metrics` will be empty until you train or evaluate the model.\n",
      "Compiled the loaded model, but the compiled metrics have yet to be built. `model.compile_metrics` will be empty until you train or evaluate the model.\n",
      "Compiled the loaded model, but the compiled metrics have yet to be built. `model.compile_metrics` will be empty until you train or evaluate the model.\n",
      "Compiled the loaded model, but the compiled metrics have yet to be built. `model.compile_metrics` will be empty until you train or evaluate the model.\n",
      "Compiled the loaded model, but the compiled metrics have yet to be built. `model.compile_metrics` will be empty until you train or evaluate the model.\n",
      "Compiled the loaded model, but the compiled metrics have yet to be built. `model.compile_metrics` will be empty until you train or evaluate the model.\n",
      "Compiled the loaded model, but the compiled metrics have yet to be built. `model.compile_metrics` will be empty until you train or evaluate the model.\n",
      "Compiled the loaded model, but the compiled metrics have yet to be built. `model.compile_metrics` will be empty until you train or evaluate the model.\n",
      "Compiled the loaded model, but the compiled metrics have yet to be built. `model.compile_metrics` will be empty until you train or evaluate the model.\n",
      "Compiled the loaded model, but the compiled metrics have yet to be built. `model.compile_metrics` will be empty until you train or evaluate the model.\n",
      "Compiled the loaded model, but the compiled metrics have yet to be built. `model.compile_metrics` will be empty until you train or evaluate the model.\n",
      "Compiled the loaded model, but the compiled metrics have yet to be built. `model.compile_metrics` will be empty until you train or evaluate the model.\n",
      "Compiled the loaded model, but the compiled metrics have yet to be built. `model.compile_metrics` will be empty until you train or evaluate the model.\n",
      "Compiled the loaded model, but the compiled metrics have yet to be built. `model.compile_metrics` will be empty until you train or evaluate the model.\n",
      "Compiled the loaded model, but the compiled metrics have yet to be built. `model.compile_metrics` will be empty until you train or evaluate the model.\n",
      "Compiled the loaded model, but the compiled metrics have yet to be built. `model.compile_metrics` will be empty until you train or evaluate the model.\n",
      "Compiled the loaded model, but the compiled metrics have yet to be built. `model.compile_metrics` will be empty until you train or evaluate the model.\n",
      "Compiled the loaded model, but the compiled metrics have yet to be built. `model.compile_metrics` will be empty until you train or evaluate the model.\n",
      "Compiled the loaded model, but the compiled metrics have yet to be built. `model.compile_metrics` will be empty until you train or evaluate the model.\n"
     ]
    },
    {
     "name": "stdout",
     "output_type": "stream",
     "text": [
      "{'CompleteTopologyShuffle': 18, 'IPShuffle': 12, 'OSDiversity': 8, 'ServiceDiversity': 4}\n",
      "Saving evaluation results to /home/22489437/Documents/GitHub/MTDSim/experiments/experimental_data/results/epsilon_0.6_decay_0.98.csv\n"
     ]
    },
    {
     "name": "stderr",
     "output_type": "stream",
     "text": [
      "Compiled the loaded model, but the compiled metrics have yet to be built. `model.compile_metrics` will be empty until you train or evaluate the model.\n"
     ]
    },
    {
     "name": "stdout",
     "output_type": "stream",
     "text": [
      "{'CompleteTopologyShuffle': 12, 'IPShuffle': 8, 'OSDiversity': 10, 'ServiceDiversity': 14}\n",
      "{'CompleteTopologyShuffle': 10, 'IPShuffle': 6, 'OSDiversity': 12, 'ServiceDiversity': 10}\n",
      "Saving evaluation results to /home/22489437/Documents/GitHub/MTDSim/experiments/experimental_data/results/epsilon_0.6_decay_0.98.csv{'CompleteTopologyShuffle': 16, 'IPShuffle': 6, 'OSDiversity': 10, 'ServiceDiversity': 10}\n",
      "\n",
      "{'CompleteTopologyShuffle': 12, 'IPShuffle': 8, 'OSDiversity': 18, 'ServiceDiversity': 6}\n"
     ]
    },
    {
     "name": "stderr",
     "output_type": "stream",
     "text": [
      "Compiled the loaded model, but the compiled metrics have yet to be built. `model.compile_metrics` will be empty until you train or evaluate the model.\n"
     ]
    },
    {
     "name": "stdout",
     "output_type": "stream",
     "text": [
      "Saving evaluation results to /home/22489437/Documents/GitHub/MTDSim/experiments/experimental_data/results/epsilon_0.6_decay_0.98.csv\n",
      "Saving evaluation results to /home/22489437/Documents/GitHub/MTDSim/experiments/experimental_data/results/epsilon_0.6_decay_0.98.csv\n",
      "Saving evaluation results to /home/22489437/Documents/GitHub/MTDSim/experiments/experimental_data/results/epsilon_0.6_decay_0.98.csv\n"
     ]
    },
    {
     "name": "stderr",
     "output_type": "stream",
     "text": [
      "Compiled the loaded model, but the compiled metrics have yet to be built. `model.compile_metrics` will be empty until you train or evaluate the model.\n",
      "Compiled the loaded model, but the compiled metrics have yet to be built. `model.compile_metrics` will be empty until you train or evaluate the model.\n",
      "Compiled the loaded model, but the compiled metrics have yet to be built. `model.compile_metrics` will be empty until you train or evaluate the model.\n"
     ]
    },
    {
     "name": "stdout",
     "output_type": "stream",
     "text": [
      "{'CompleteTopologyShuffle': 10, 'IPShuffle': 16, 'OSDiversity': 8, 'ServiceDiversity': 10}\n",
      "Saving evaluation results to /home/22489437/Documents/GitHub/MTDSim/experiments/experimental_data/results/epsilon_0.6_decay_0.98.csv\n",
      "{'CompleteTopologyShuffle': 14, 'IPShuffle': 8, 'OSDiversity': 8, 'ServiceDiversity': 4}\n"
     ]
    },
    {
     "name": "stderr",
     "output_type": "stream",
     "text": [
      "Compiled the loaded model, but the compiled metrics have yet to be built. `model.compile_metrics` will be empty until you train or evaluate the model.\n"
     ]
    },
    {
     "name": "stdout",
     "output_type": "stream",
     "text": [
      "Saving evaluation results to /home/22489437/Documents/GitHub/MTDSim/experiments/experimental_data/results/epsilon_0.6_decay_0.98.csv\n"
     ]
    },
    {
     "name": "stderr",
     "output_type": "stream",
     "text": [
      "Compiled the loaded model, but the compiled metrics have yet to be built. `model.compile_metrics` will be empty until you train or evaluate the model.\n"
     ]
    },
    {
     "name": "stdout",
     "output_type": "stream",
     "text": [
      "{'CompleteTopologyShuffle': 20, 'IPShuffle': 10, 'OSDiversity': 8, 'ServiceDiversity': 6}\n",
      "{'CompleteTopologyShuffle': 16, 'IPShuffle': 8, 'OSDiversity': 12, 'ServiceDiversity': 12}Saving evaluation results to /home/22489437/Documents/GitHub/MTDSim/experiments/experimental_data/results/epsilon_0.6_decay_0.98.csv\n",
      "\n"
     ]
    },
    {
     "name": "stderr",
     "output_type": "stream",
     "text": [
      "Compiled the loaded model, but the compiled metrics have yet to be built. `model.compile_metrics` will be empty until you train or evaluate the model.\n"
     ]
    },
    {
     "name": "stdout",
     "output_type": "stream",
     "text": [
      "Saving evaluation results to /home/22489437/Documents/GitHub/MTDSim/experiments/experimental_data/results/epsilon_0.6_decay_0.98.csv\n"
     ]
    },
    {
     "name": "stderr",
     "output_type": "stream",
     "text": [
      "Compiled the loaded model, but the compiled metrics have yet to be built. `model.compile_metrics` will be empty until you train or evaluate the model.\n"
     ]
    },
    {
     "name": "stdout",
     "output_type": "stream",
     "text": [
      "{'CompleteTopologyShuffle': 14, 'IPShuffle': 12, 'OSDiversity': 8, 'ServiceDiversity': 6}\n",
      "Saving evaluation results to /home/22489437/Documents/GitHub/MTDSim/experiments/experimental_data/results/epsilon_0.6_decay_0.98.csv\n"
     ]
    },
    {
     "name": "stderr",
     "output_type": "stream",
     "text": [
      "Compiled the loaded model, but the compiled metrics have yet to be built. `model.compile_metrics` will be empty until you train or evaluate the model.\n"
     ]
    },
    {
     "name": "stdout",
     "output_type": "stream",
     "text": [
      "{'CompleteTopologyShuffle': 6, 'IPShuffle': 10, 'OSDiversity': 8, 'ServiceDiversity': 10}\n",
      "Saving evaluation results to /home/22489437/Documents/GitHub/MTDSim/experiments/experimental_data/results/epsilon_0.6_decay_0.98.csv\n"
     ]
    },
    {
     "name": "stderr",
     "output_type": "stream",
     "text": [
      "Compiled the loaded model, but the compiled metrics have yet to be built. `model.compile_metrics` will be empty until you train or evaluate the model.\n"
     ]
    },
    {
     "name": "stdout",
     "output_type": "stream",
     "text": [
      "{'CompleteTopologyShuffle': 18, 'IPShuffle': 6, 'OSDiversity': 8, 'ServiceDiversity': 8}\n",
      "Saving evaluation results to /home/22489437/Documents/GitHub/MTDSim/experiments/experimental_data/results/epsilon_0.6_decay_0.98.csv\n"
     ]
    },
    {
     "name": "stderr",
     "output_type": "stream",
     "text": [
      "Compiled the loaded model, but the compiled metrics have yet to be built. `model.compile_metrics` will be empty until you train or evaluate the model.\n"
     ]
    },
    {
     "name": "stdout",
     "output_type": "stream",
     "text": [
      "{'CompleteTopologyShuffle': 12, 'IPShuffle': 8, 'OSDiversity': 12, 'ServiceDiversity': 12}\n",
      "Saving evaluation results to /home/22489437/Documents/GitHub/MTDSim/experiments/experimental_data/results/epsilon_0.6_decay_0.98.csv\n"
     ]
    },
    {
     "name": "stderr",
     "output_type": "stream",
     "text": [
      "Compiled the loaded model, but the compiled metrics have yet to be built. `model.compile_metrics` will be empty until you train or evaluate the model.\n"
     ]
    },
    {
     "name": "stdout",
     "output_type": "stream",
     "text": [
      "{'CompleteTopologyShuffle': 8, 'IPShuffle': 18, 'OSDiversity': 8, 'ServiceDiversity': 8}\n",
      "{'CompleteTopologyShuffle': 8, 'IPShuffle': 16, 'OSDiversity': 4, 'ServiceDiversity': 10}\n",
      "{'CompleteTopologyShuffle': 16, 'IPShuffle': 4, 'OSDiversity': 12, 'ServiceDiversity': 10}\n",
      "Saving evaluation results to /home/22489437/Documents/GitHub/MTDSim/experiments/experimental_data/results/epsilon_0.6_decay_0.98.csv\n",
      "Saving evaluation results to /home/22489437/Documents/GitHub/MTDSim/experiments/experimental_data/results/epsilon_0.6_decay_0.98.csv\n"
     ]
    },
    {
     "name": "stderr",
     "output_type": "stream",
     "text": [
      "Compiled the loaded model, but the compiled metrics have yet to be built. `model.compile_metrics` will be empty until you train or evaluate the model.\n"
     ]
    },
    {
     "name": "stdout",
     "output_type": "stream",
     "text": [
      "Saving evaluation results to /home/22489437/Documents/GitHub/MTDSim/experiments/experimental_data/results/epsilon_0.6_decay_0.98.csv\n"
     ]
    },
    {
     "name": "stderr",
     "output_type": "stream",
     "text": [
      "Compiled the loaded model, but the compiled metrics have yet to be built. `model.compile_metrics` will be empty until you train or evaluate the model.\n"
     ]
    },
    {
     "name": "stdout",
     "output_type": "stream",
     "text": [
      "{'CompleteTopologyShuffle': 8, 'IPShuffle': 10, 'OSDiversity': 6, 'ServiceDiversity': 16}\n"
     ]
    },
    {
     "name": "stderr",
     "output_type": "stream",
     "text": [
      "Compiled the loaded model, but the compiled metrics have yet to be built. `model.compile_metrics` will be empty until you train or evaluate the model.\n"
     ]
    },
    {
     "name": "stdout",
     "output_type": "stream",
     "text": [
      "Saving evaluation results to /home/22489437/Documents/GitHub/MTDSim/experiments/experimental_data/results/epsilon_0.6_decay_0.98.csv\n"
     ]
    },
    {
     "name": "stderr",
     "output_type": "stream",
     "text": [
      "Compiled the loaded model, but the compiled metrics have yet to be built. `model.compile_metrics` will be empty until you train or evaluate the model.\n"
     ]
    },
    {
     "name": "stdout",
     "output_type": "stream",
     "text": [
      "{'CompleteTopologyShuffle': 12, 'IPShuffle': 4, 'OSDiversity': 10, 'ServiceDiversity': 6}\n",
      "Saving evaluation results to /home/22489437/Documents/GitHub/MTDSim/experiments/experimental_data/results/epsilon_0.6_decay_0.98.csv\n"
     ]
    },
    {
     "name": "stderr",
     "output_type": "stream",
     "text": [
      "Compiled the loaded model, but the compiled metrics have yet to be built. `model.compile_metrics` will be empty until you train or evaluate the model.\n"
     ]
    },
    {
     "name": "stdout",
     "output_type": "stream",
     "text": [
      "{'CompleteTopologyShuffle': 16, 'IPShuffle': 8, 'OSDiversity': 8, 'ServiceDiversity': 4}\n",
      "Saving evaluation results to /home/22489437/Documents/GitHub/MTDSim/experiments/experimental_data/results/epsilon_0.6_decay_0.98.csv\n"
     ]
    },
    {
     "name": "stderr",
     "output_type": "stream",
     "text": [
      "Compiled the loaded model, but the compiled metrics have yet to be built. `model.compile_metrics` will be empty until you train or evaluate the model.\n"
     ]
    },
    {
     "name": "stdout",
     "output_type": "stream",
     "text": [
      "{'CompleteTopologyShuffle': 16, 'IPShuffle': 10, 'OSDiversity': 14, 'ServiceDiversity': 4}\n",
      "{'CompleteTopologyShuffle': 8, 'IPShuffle': 6, 'OSDiversity': 8, 'ServiceDiversity': 14}\n",
      "Saving evaluation results to /home/22489437/Documents/GitHub/MTDSim/experiments/experimental_data/results/epsilon_0.6_decay_0.98.csv\n",
      "Saving evaluation results to /home/22489437/Documents/GitHub/MTDSim/experiments/experimental_data/results/epsilon_0.6_decay_0.98.csv\n"
     ]
    },
    {
     "name": "stderr",
     "output_type": "stream",
     "text": [
      "Compiled the loaded model, but the compiled metrics have yet to be built. `model.compile_metrics` will be empty until you train or evaluate the model.\n",
      "Compiled the loaded model, but the compiled metrics have yet to be built. `model.compile_metrics` will be empty until you train or evaluate the model.\n"
     ]
    },
    {
     "name": "stdout",
     "output_type": "stream",
     "text": [
      "{'CompleteTopologyShuffle': 12, 'IPShuffle': 4, 'OSDiversity': 12, 'ServiceDiversity': 8}\n",
      "Saving evaluation results to /home/22489437/Documents/GitHub/MTDSim/experiments/experimental_data/results/epsilon_0.6_decay_0.98.csv\n"
     ]
    },
    {
     "name": "stderr",
     "output_type": "stream",
     "text": [
      "Compiled the loaded model, but the compiled metrics have yet to be built. `model.compile_metrics` will be empty until you train or evaluate the model.\n"
     ]
    },
    {
     "name": "stdout",
     "output_type": "stream",
     "text": [
      "{'CompleteTopologyShuffle': 8, 'IPShuffle': 4, 'OSDiversity': 16, 'ServiceDiversity': 14}\n",
      "Saving evaluation results to /home/22489437/Documents/GitHub/MTDSim/experiments/experimental_data/results/epsilon_0.6_decay_0.98.csv\n"
     ]
    },
    {
     "name": "stderr",
     "output_type": "stream",
     "text": [
      "Compiled the loaded model, but the compiled metrics have yet to be built. `model.compile_metrics` will be empty until you train or evaluate the model.\n"
     ]
    },
    {
     "name": "stdout",
     "output_type": "stream",
     "text": [
      "{'CompleteTopologyShuffle': 16, 'IPShuffle': 14, 'OSDiversity': 2, 'ServiceDiversity': 20}\n",
      "Saving evaluation results to /home/22489437/Documents/GitHub/MTDSim/experiments/experimental_data/results/epsilon_0.6_decay_0.98.csv\n"
     ]
    },
    {
     "name": "stderr",
     "output_type": "stream",
     "text": [
      "Compiled the loaded model, but the compiled metrics have yet to be built. `model.compile_metrics` will be empty until you train or evaluate the model.\n"
     ]
    },
    {
     "name": "stdout",
     "output_type": "stream",
     "text": [
      "{'CompleteTopologyShuffle': 10, 'IPShuffle': 10, 'OSDiversity': 8, 'ServiceDiversity': 14}\n",
      "Saving evaluation results to /home/22489437/Documents/GitHub/MTDSim/experiments/experimental_data/results/epsilon_0.6_decay_0.98.csv\n"
     ]
    },
    {
     "name": "stderr",
     "output_type": "stream",
     "text": [
      "Compiled the loaded model, but the compiled metrics have yet to be built. `model.compile_metrics` will be empty until you train or evaluate the model.\n"
     ]
    },
    {
     "name": "stdout",
     "output_type": "stream",
     "text": [
      "{'CompleteTopologyShuffle': 4, 'IPShuffle': 10, 'OSDiversity': 14, 'ServiceDiversity': 8}\n",
      "Saving evaluation results to /home/22489437/Documents/GitHub/MTDSim/experiments/experimental_data/results/epsilon_0.6_decay_0.98.csv\n",
      "{'CompleteTopologyShuffle': 8, 'IPShuffle': 12, 'OSDiversity': 4, 'ServiceDiversity': 10}\n"
     ]
    },
    {
     "name": "stderr",
     "output_type": "stream",
     "text": [
      "Compiled the loaded model, but the compiled metrics have yet to be built. `model.compile_metrics` will be empty until you train or evaluate the model.\n"
     ]
    },
    {
     "name": "stdout",
     "output_type": "stream",
     "text": [
      "{'CompleteTopologyShuffle': 14, 'IPShuffle': 4, 'OSDiversity': 14, 'ServiceDiversity': 14}\n",
      "Saving evaluation results to /home/22489437/Documents/GitHub/MTDSim/experiments/experimental_data/results/epsilon_0.6_decay_0.98.csv\n",
      "Saving evaluation results to /home/22489437/Documents/GitHub/MTDSim/experiments/experimental_data/results/epsilon_0.6_decay_0.98.csv\n"
     ]
    },
    {
     "name": "stderr",
     "output_type": "stream",
     "text": [
      "Compiled the loaded model, but the compiled metrics have yet to be built. `model.compile_metrics` will be empty until you train or evaluate the model.\n",
      "Compiled the loaded model, but the compiled metrics have yet to be built. `model.compile_metrics` will be empty until you train or evaluate the model.\n"
     ]
    },
    {
     "name": "stdout",
     "output_type": "stream",
     "text": [
      "{'CompleteTopologyShuffle': 6, 'IPShuffle': 6, 'OSDiversity': 18, 'ServiceDiversity': 14}\n",
      "Saving evaluation results to /home/22489437/Documents/GitHub/MTDSim/experiments/experimental_data/results/epsilon_0.6_decay_0.98.csv\n"
     ]
    },
    {
     "name": "stderr",
     "output_type": "stream",
     "text": [
      "Compiled the loaded model, but the compiled metrics have yet to be built. `model.compile_metrics` will be empty until you train or evaluate the model.\n"
     ]
    },
    {
     "name": "stdout",
     "output_type": "stream",
     "text": [
      "{'CompleteTopologyShuffle': 6, 'IPShuffle': 8, 'OSDiversity': 12, 'ServiceDiversity': 14}\n",
      "Saving evaluation results to /home/22489437/Documents/GitHub/MTDSim/experiments/experimental_data/results/epsilon_0.6_decay_0.98.csv\n"
     ]
    },
    {
     "name": "stderr",
     "output_type": "stream",
     "text": [
      "Compiled the loaded model, but the compiled metrics have yet to be built. `model.compile_metrics` will be empty until you train or evaluate the model.\n"
     ]
    },
    {
     "name": "stdout",
     "output_type": "stream",
     "text": [
      "{'CompleteTopologyShuffle': 14, 'IPShuffle': 22, 'OSDiversity': 8, 'ServiceDiversity': 10}\n",
      "Saving evaluation results to /home/22489437/Documents/GitHub/MTDSim/experiments/experimental_data/results/epsilon_0.6_decay_0.98.csv\n"
     ]
    },
    {
     "name": "stderr",
     "output_type": "stream",
     "text": [
      "Compiled the loaded model, but the compiled metrics have yet to be built. `model.compile_metrics` will be empty until you train or evaluate the model.\n"
     ]
    },
    {
     "name": "stdout",
     "output_type": "stream",
     "text": [
      "{'CompleteTopologyShuffle': 14, 'IPShuffle': 6, 'OSDiversity': 14, 'ServiceDiversity': 4}\n",
      "Saving evaluation results to /home/22489437/Documents/GitHub/MTDSim/experiments/experimental_data/results/epsilon_0.6_decay_0.98.csv\n"
     ]
    },
    {
     "name": "stderr",
     "output_type": "stream",
     "text": [
      "Compiled the loaded model, but the compiled metrics have yet to be built. `model.compile_metrics` will be empty until you train or evaluate the model.\n"
     ]
    },
    {
     "name": "stdout",
     "output_type": "stream",
     "text": [
      "{'CompleteTopologyShuffle': 6, 'IPShuffle': 14, 'OSDiversity': 12, 'ServiceDiversity': 10}\n",
      "{'CompleteTopologyShuffle': 4, 'IPShuffle': 14, 'OSDiversity': 12, 'ServiceDiversity': 18}\n",
      "Saving evaluation results to /home/22489437/Documents/GitHub/MTDSim/experiments/experimental_data/results/epsilon_0.6_decay_0.98.csv\n",
      "Saving evaluation results to /home/22489437/Documents/GitHub/MTDSim/experiments/experimental_data/results/epsilon_0.6_decay_0.98.csv\n"
     ]
    },
    {
     "name": "stderr",
     "output_type": "stream",
     "text": [
      "Compiled the loaded model, but the compiled metrics have yet to be built. `model.compile_metrics` will be empty until you train or evaluate the model.\n",
      "Compiled the loaded model, but the compiled metrics have yet to be built. `model.compile_metrics` will be empty until you train or evaluate the model.\n"
     ]
    },
    {
     "name": "stdout",
     "output_type": "stream",
     "text": [
      "{'CompleteTopologyShuffle': 8, 'IPShuffle': 12, 'OSDiversity': 10, 'ServiceDiversity': 6}\n",
      "Saving evaluation results to /home/22489437/Documents/GitHub/MTDSim/experiments/experimental_data/results/epsilon_0.6_decay_0.98.csv\n"
     ]
    },
    {
     "name": "stderr",
     "output_type": "stream",
     "text": [
      "Compiled the loaded model, but the compiled metrics have yet to be built. `model.compile_metrics` will be empty until you train or evaluate the model.\n"
     ]
    },
    {
     "name": "stdout",
     "output_type": "stream",
     "text": [
      "{'CompleteTopologyShuffle': 12, 'IPShuffle': 4, 'OSDiversity': 4, 'ServiceDiversity': 18}\n",
      "Saving evaluation results to /home/22489437/Documents/GitHub/MTDSim/experiments/experimental_data/results/epsilon_0.6_decay_0.98.csv\n"
     ]
    },
    {
     "name": "stderr",
     "output_type": "stream",
     "text": [
      "Compiled the loaded model, but the compiled metrics have yet to be built. `model.compile_metrics` will be empty until you train or evaluate the model.\n"
     ]
    },
    {
     "name": "stdout",
     "output_type": "stream",
     "text": [
      "{'CompleteTopologyShuffle': 16, 'IPShuffle': 14, 'OSDiversity': 6, 'ServiceDiversity': 4}\n",
      "Saving evaluation results to /home/22489437/Documents/GitHub/MTDSim/experiments/experimental_data/results/epsilon_0.6_decay_0.98.csv\n",
      "{'CompleteTopologyShuffle': 16, 'IPShuffle': 10, 'OSDiversity': 8, 'ServiceDiversity': 18}\n"
     ]
    },
    {
     "name": "stderr",
     "output_type": "stream",
     "text": [
      "Compiled the loaded model, but the compiled metrics have yet to be built. `model.compile_metrics` will be empty until you train or evaluate the model.\n"
     ]
    },
    {
     "name": "stdout",
     "output_type": "stream",
     "text": [
      "Saving evaluation results to /home/22489437/Documents/GitHub/MTDSim/experiments/experimental_data/results/epsilon_0.6_decay_0.98.csv\n"
     ]
    },
    {
     "name": "stderr",
     "output_type": "stream",
     "text": [
      "Compiled the loaded model, but the compiled metrics have yet to be built. `model.compile_metrics` will be empty until you train or evaluate the model.\n"
     ]
    },
    {
     "name": "stdout",
     "output_type": "stream",
     "text": [
      "{'CompleteTopologyShuffle': 10, 'IPShuffle': 14, 'OSDiversity': 4, 'ServiceDiversity': 12}{'CompleteTopologyShuffle': 10, 'IPShuffle': 10, 'OSDiversity': 10, 'ServiceDiversity': 8}\n",
      "\n",
      "{'CompleteTopologyShuffle': 12, 'IPShuffle': 12, 'OSDiversity': 6, 'ServiceDiversity': 12}\n",
      "{'CompleteTopologyShuffle': 12, 'IPShuffle': 12, 'OSDiversity': 10, 'ServiceDiversity': 10}\n",
      "Saving evaluation results to /home/22489437/Documents/GitHub/MTDSim/experiments/experimental_data/results/epsilon_0.6_decay_0.98.csv\n",
      "Saving evaluation results to /home/22489437/Documents/GitHub/MTDSim/experiments/experimental_data/results/epsilon_0.6_decay_0.98.csv\n",
      "Saving evaluation results to /home/22489437/Documents/GitHub/MTDSim/experiments/experimental_data/results/epsilon_0.6_decay_0.98.csv\n"
     ]
    },
    {
     "name": "stderr",
     "output_type": "stream",
     "text": [
      "Compiled the loaded model, but the compiled metrics have yet to be built. `model.compile_metrics` will be empty until you train or evaluate the model.\n",
      "Compiled the loaded model, but the compiled metrics have yet to be built. `model.compile_metrics` will be empty until you train or evaluate the model.\n"
     ]
    },
    {
     "name": "stdout",
     "output_type": "stream",
     "text": [
      "Saving evaluation results to /home/22489437/Documents/GitHub/MTDSim/experiments/experimental_data/results/epsilon_0.6_decay_0.98.csv\n"
     ]
    },
    {
     "name": "stderr",
     "output_type": "stream",
     "text": [
      "Compiled the loaded model, but the compiled metrics have yet to be built. `model.compile_metrics` will be empty until you train or evaluate the model.\n",
      "Compiled the loaded model, but the compiled metrics have yet to be built. `model.compile_metrics` will be empty until you train or evaluate the model.\n"
     ]
    },
    {
     "name": "stdout",
     "output_type": "stream",
     "text": [
      "{'CompleteTopologyShuffle': 18, 'IPShuffle': 6, 'OSDiversity': 8, 'ServiceDiversity': 4}\n",
      "Saving evaluation results to /home/22489437/Documents/GitHub/MTDSim/experiments/experimental_data/results/epsilon_0.6_decay_0.98.csv\n"
     ]
    },
    {
     "name": "stderr",
     "output_type": "stream",
     "text": [
      "Compiled the loaded model, but the compiled metrics have yet to be built. `model.compile_metrics` will be empty until you train or evaluate the model.\n"
     ]
    },
    {
     "name": "stdout",
     "output_type": "stream",
     "text": [
      "{'CompleteTopologyShuffle': 18, 'IPShuffle': 12, 'OSDiversity': 8, 'ServiceDiversity': 8}\n",
      "Saving evaluation results to /home/22489437/Documents/GitHub/MTDSim/experiments/experimental_data/results/epsilon_0.6_decay_0.98.csv\n"
     ]
    },
    {
     "name": "stderr",
     "output_type": "stream",
     "text": [
      "Compiled the loaded model, but the compiled metrics have yet to be built. `model.compile_metrics` will be empty until you train or evaluate the model.\n"
     ]
    },
    {
     "name": "stdout",
     "output_type": "stream",
     "text": [
      "{'CompleteTopologyShuffle': 10, 'IPShuffle': 14, 'OSDiversity': 12, 'ServiceDiversity': 6}\n",
      "Saving evaluation results to /home/22489437/Documents/GitHub/MTDSim/experiments/experimental_data/results/epsilon_0.6_decay_0.98.csv\n"
     ]
    },
    {
     "name": "stderr",
     "output_type": "stream",
     "text": [
      "Compiled the loaded model, but the compiled metrics have yet to be built. `model.compile_metrics` will be empty until you train or evaluate the model.\n"
     ]
    },
    {
     "name": "stdout",
     "output_type": "stream",
     "text": [
      "{'CompleteTopologyShuffle': 10, 'IPShuffle': 14, 'OSDiversity': 22, 'ServiceDiversity': 8}\n",
      "Saving evaluation results to /home/22489437/Documents/GitHub/MTDSim/experiments/experimental_data/results/epsilon_0.6_decay_0.98.csv\n"
     ]
    },
    {
     "name": "stderr",
     "output_type": "stream",
     "text": [
      "Compiled the loaded model, but the compiled metrics have yet to be built. `model.compile_metrics` will be empty until you train or evaluate the model.\n"
     ]
    },
    {
     "name": "stdout",
     "output_type": "stream",
     "text": [
      "{'CompleteTopologyShuffle': 10, 'IPShuffle': 6, 'OSDiversity': 10, 'ServiceDiversity': 14}\n",
      "{'CompleteTopologyShuffle': 8, 'IPShuffle': 10, 'OSDiversity': 8, 'ServiceDiversity': 12}\n",
      "Saving evaluation results to /home/22489437/Documents/GitHub/MTDSim/experiments/experimental_data/results/epsilon_0.6_decay_0.98.csv\n",
      "{'CompleteTopologyShuffle': 16, 'IPShuffle': 8, 'OSDiversity': 8, 'ServiceDiversity': 8}\n",
      "Saving evaluation results to /home/22489437/Documents/GitHub/MTDSim/experiments/experimental_data/results/epsilon_0.6_decay_0.98.csv\n"
     ]
    },
    {
     "name": "stderr",
     "output_type": "stream",
     "text": [
      "Compiled the loaded model, but the compiled metrics have yet to be built. `model.compile_metrics` will be empty until you train or evaluate the model.\n"
     ]
    },
    {
     "name": "stdout",
     "output_type": "stream",
     "text": [
      "Saving evaluation results to /home/22489437/Documents/GitHub/MTDSim/experiments/experimental_data/results/epsilon_0.6_decay_0.98.csv\n"
     ]
    },
    {
     "name": "stderr",
     "output_type": "stream",
     "text": [
      "Compiled the loaded model, but the compiled metrics have yet to be built. `model.compile_metrics` will be empty until you train or evaluate the model.\n",
      "Compiled the loaded model, but the compiled metrics have yet to be built. `model.compile_metrics` will be empty until you train or evaluate the model.\n"
     ]
    },
    {
     "name": "stdout",
     "output_type": "stream",
     "text": [
      "{'CompleteTopologyShuffle': 6, 'IPShuffle': 18, 'OSDiversity': 4, 'ServiceDiversity': 8}\n",
      "Saving evaluation results to /home/22489437/Documents/GitHub/MTDSim/experiments/experimental_data/results/epsilon_0.6_decay_0.98.csv\n"
     ]
    },
    {
     "name": "stderr",
     "output_type": "stream",
     "text": [
      "Compiled the loaded model, but the compiled metrics have yet to be built. `model.compile_metrics` will be empty until you train or evaluate the model.\n"
     ]
    },
    {
     "name": "stdout",
     "output_type": "stream",
     "text": [
      "{'CompleteTopologyShuffle': 16, 'IPShuffle': 14, 'OSDiversity': 16, 'ServiceDiversity': 2}\n",
      "Saving evaluation results to /home/22489437/Documents/GitHub/MTDSim/experiments/experimental_data/results/epsilon_0.6_decay_0.98.csv\n"
     ]
    },
    {
     "name": "stderr",
     "output_type": "stream",
     "text": [
      "Compiled the loaded model, but the compiled metrics have yet to be built. `model.compile_metrics` will be empty until you train or evaluate the model.\n"
     ]
    },
    {
     "name": "stdout",
     "output_type": "stream",
     "text": [
      "{'CompleteTopologyShuffle': 10, 'IPShuffle': 6, 'OSDiversity': 12, 'ServiceDiversity': 18}\n",
      "Saving evaluation results to /home/22489437/Documents/GitHub/MTDSim/experiments/experimental_data/results/epsilon_0.6_decay_0.98.csv\n"
     ]
    },
    {
     "name": "stderr",
     "output_type": "stream",
     "text": [
      "Compiled the loaded model, but the compiled metrics have yet to be built. `model.compile_metrics` will be empty until you train or evaluate the model.\n"
     ]
    },
    {
     "name": "stdout",
     "output_type": "stream",
     "text": [
      "{'CompleteTopologyShuffle': 14, 'IPShuffle': 6, 'OSDiversity': 4, 'ServiceDiversity': 10}\n",
      "{'CompleteTopologyShuffle': 8, 'IPShuffle': 6, 'OSDiversity': 10, 'ServiceDiversity': 12}\n",
      "Saving evaluation results to /home/22489437/Documents/GitHub/MTDSim/experiments/experimental_data/results/epsilon_0.6_decay_0.98.csv\n"
     ]
    },
    {
     "name": "stderr",
     "output_type": "stream",
     "text": [
      "Compiled the loaded model, but the compiled metrics have yet to be built. `model.compile_metrics` will be empty until you train or evaluate the model.\n"
     ]
    },
    {
     "name": "stdout",
     "output_type": "stream",
     "text": [
      "Saving evaluation results to /home/22489437/Documents/GitHub/MTDSim/experiments/experimental_data/results/epsilon_0.6_decay_0.98.csv\n"
     ]
    },
    {
     "name": "stderr",
     "output_type": "stream",
     "text": [
      "Compiled the loaded model, but the compiled metrics have yet to be built. `model.compile_metrics` will be empty until you train or evaluate the model.\n"
     ]
    },
    {
     "name": "stdout",
     "output_type": "stream",
     "text": [
      "{'CompleteTopologyShuffle': 2, 'IPShuffle': 8, 'OSDiversity': 18, 'ServiceDiversity': 12}\n",
      "Saving evaluation results to /home/22489437/Documents/GitHub/MTDSim/experiments/experimental_data/results/epsilon_0.6_decay_0.98.csv\n"
     ]
    },
    {
     "name": "stderr",
     "output_type": "stream",
     "text": [
      "Compiled the loaded model, but the compiled metrics have yet to be built. `model.compile_metrics` will be empty until you train or evaluate the model.\n"
     ]
    },
    {
     "name": "stdout",
     "output_type": "stream",
     "text": [
      "{'CompleteTopologyShuffle': 10, 'IPShuffle': 12, 'OSDiversity': 6, 'ServiceDiversity': 12}\n",
      "Saving evaluation results to /home/22489437/Documents/GitHub/MTDSim/experiments/experimental_data/results/epsilon_0.6_decay_0.98.csv\n",
      "{'CompleteTopologyShuffle': 12, 'IPShuffle': 8, 'OSDiversity': 6, 'ServiceDiversity': 12}\n"
     ]
    },
    {
     "name": "stderr",
     "output_type": "stream",
     "text": [
      "Compiled the loaded model, but the compiled metrics have yet to be built. `model.compile_metrics` will be empty until you train or evaluate the model.\n"
     ]
    },
    {
     "name": "stdout",
     "output_type": "stream",
     "text": [
      "Saving evaluation results to /home/22489437/Documents/GitHub/MTDSim/experiments/experimental_data/results/epsilon_0.6_decay_0.98.csv\n"
     ]
    },
    {
     "name": "stderr",
     "output_type": "stream",
     "text": [
      "Compiled the loaded model, but the compiled metrics have yet to be built. `model.compile_metrics` will be empty until you train or evaluate the model.\n"
     ]
    },
    {
     "name": "stdout",
     "output_type": "stream",
     "text": [
      "{'CompleteTopologyShuffle': 10, 'IPShuffle': 16, 'OSDiversity': 2, 'ServiceDiversity': 14}\n",
      "Saving evaluation results to /home/22489437/Documents/GitHub/MTDSim/experiments/experimental_data/results/epsilon_0.6_decay_0.98.csv\n"
     ]
    },
    {
     "name": "stderr",
     "output_type": "stream",
     "text": [
      "Compiled the loaded model, but the compiled metrics have yet to be built. `model.compile_metrics` will be empty until you train or evaluate the model.\n"
     ]
    },
    {
     "name": "stdout",
     "output_type": "stream",
     "text": [
      "{'CompleteTopologyShuffle': 20, 'IPShuffle': 4, 'OSDiversity': 4, 'ServiceDiversity': 12}\n",
      "Saving evaluation results to /home/22489437/Documents/GitHub/MTDSim/experiments/experimental_data/results/epsilon_0.6_decay_0.98.csv\n"
     ]
    },
    {
     "name": "stderr",
     "output_type": "stream",
     "text": [
      "Compiled the loaded model, but the compiled metrics have yet to be built. `model.compile_metrics` will be empty until you train or evaluate the model.\n"
     ]
    },
    {
     "name": "stdout",
     "output_type": "stream",
     "text": [
      "{'CompleteTopologyShuffle': 10, 'IPShuffle': 14, 'OSDiversity': 10, 'ServiceDiversity': 8}\n",
      "Saving evaluation results to /home/22489437/Documents/GitHub/MTDSim/experiments/experimental_data/results/epsilon_0.6_decay_0.98.csv\n"
     ]
    },
    {
     "name": "stderr",
     "output_type": "stream",
     "text": [
      "Compiled the loaded model, but the compiled metrics have yet to be built. `model.compile_metrics` will be empty until you train or evaluate the model.\n"
     ]
    },
    {
     "name": "stdout",
     "output_type": "stream",
     "text": [
      "{'CompleteTopologyShuffle': 10, 'IPShuffle': 14, 'OSDiversity': 4, 'ServiceDiversity': 12}\n",
      "Saving evaluation results to /home/22489437/Documents/GitHub/MTDSim/experiments/experimental_data/results/epsilon_0.6_decay_0.98.csv\n"
     ]
    },
    {
     "name": "stderr",
     "output_type": "stream",
     "text": [
      "Compiled the loaded model, but the compiled metrics have yet to be built. `model.compile_metrics` will be empty until you train or evaluate the model.\n"
     ]
    },
    {
     "name": "stdout",
     "output_type": "stream",
     "text": [
      "{'CompleteTopologyShuffle': 8, 'IPShuffle': 14, 'OSDiversity': 8, 'ServiceDiversity': 12}\n",
      "Saving evaluation results to /home/22489437/Documents/GitHub/MTDSim/experiments/experimental_data/results/epsilon_0.6_decay_0.98.csv\n"
     ]
    },
    {
     "name": "stderr",
     "output_type": "stream",
     "text": [
      "Compiled the loaded model, but the compiled metrics have yet to be built. `model.compile_metrics` will be empty until you train or evaluate the model.\n"
     ]
    },
    {
     "name": "stdout",
     "output_type": "stream",
     "text": [
      "{'CompleteTopologyShuffle': 10, 'IPShuffle': 10, 'OSDiversity': 12, 'ServiceDiversity': 12}\n",
      "Saving evaluation results to /home/22489437/Documents/GitHub/MTDSim/experiments/experimental_data/results/epsilon_0.6_decay_0.98.csv\n"
     ]
    },
    {
     "name": "stderr",
     "output_type": "stream",
     "text": [
      "Compiled the loaded model, but the compiled metrics have yet to be built. `model.compile_metrics` will be empty until you train or evaluate the model.\n"
     ]
    },
    {
     "name": "stdout",
     "output_type": "stream",
     "text": [
      "{'CompleteTopologyShuffle': 26, 'IPShuffle': 4, 'OSDiversity': 4, 'ServiceDiversity': 8}\n",
      "{'CompleteTopologyShuffle': 18, 'IPShuffle': 4, 'OSDiversity': 12, 'ServiceDiversity': 16}\n",
      "Saving evaluation results to /home/22489437/Documents/GitHub/MTDSim/experiments/experimental_data/results/epsilon_0.6_decay_0.98.csv\n"
     ]
    },
    {
     "name": "stderr",
     "output_type": "stream",
     "text": [
      "Compiled the loaded model, but the compiled metrics have yet to be built. `model.compile_metrics` will be empty until you train or evaluate the model.\n"
     ]
    },
    {
     "name": "stdout",
     "output_type": "stream",
     "text": [
      "Saving evaluation results to /home/22489437/Documents/GitHub/MTDSim/experiments/experimental_data/results/epsilon_0.6_decay_0.98.csv\n"
     ]
    },
    {
     "name": "stderr",
     "output_type": "stream",
     "text": [
      "Compiled the loaded model, but the compiled metrics have yet to be built. `model.compile_metrics` will be empty until you train or evaluate the model.\n"
     ]
    },
    {
     "name": "stdout",
     "output_type": "stream",
     "text": [
      "{'CompleteTopologyShuffle': 14, 'IPShuffle': 6, 'OSDiversity': 10, 'ServiceDiversity': 14}\n",
      "Saving evaluation results to /home/22489437/Documents/GitHub/MTDSim/experiments/experimental_data/results/epsilon_0.6_decay_0.98.csv\n"
     ]
    },
    {
     "name": "stderr",
     "output_type": "stream",
     "text": [
      "Compiled the loaded model, but the compiled metrics have yet to be built. `model.compile_metrics` will be empty until you train or evaluate the model.\n"
     ]
    },
    {
     "name": "stdout",
     "output_type": "stream",
     "text": [
      "{'CompleteTopologyShuffle': 26, 'IPShuffle': 14, 'OSDiversity': 4, 'ServiceDiversity': 12}\n",
      "Saving evaluation results to /home/22489437/Documents/GitHub/MTDSim/experiments/experimental_data/results/epsilon_0.6_decay_0.98.csv\n"
     ]
    },
    {
     "name": "stderr",
     "output_type": "stream",
     "text": [
      "Compiled the loaded model, but the compiled metrics have yet to be built. `model.compile_metrics` will be empty until you train or evaluate the model.\n"
     ]
    },
    {
     "name": "stdout",
     "output_type": "stream",
     "text": [
      "{'CompleteTopologyShuffle': 10, 'IPShuffle': 14, 'OSDiversity': 12, 'ServiceDiversity': 10}\n",
      "Saving evaluation results to /home/22489437/Documents/GitHub/MTDSim/experiments/experimental_data/results/epsilon_0.6_decay_0.98.csv\n"
     ]
    },
    {
     "name": "stderr",
     "output_type": "stream",
     "text": [
      "Compiled the loaded model, but the compiled metrics have yet to be built. `model.compile_metrics` will be empty until you train or evaluate the model.\n"
     ]
    },
    {
     "name": "stdout",
     "output_type": "stream",
     "text": [
      "{'CompleteTopologyShuffle': 4, 'IPShuffle': 10, 'OSDiversity': 12, 'ServiceDiversity': 16}\n",
      "Saving evaluation results to /home/22489437/Documents/GitHub/MTDSim/experiments/experimental_data/results/epsilon_0.6_decay_0.98.csv\n"
     ]
    },
    {
     "name": "stderr",
     "output_type": "stream",
     "text": [
      "Compiled the loaded model, but the compiled metrics have yet to be built. `model.compile_metrics` will be empty until you train or evaluate the model.\n"
     ]
    },
    {
     "name": "stdout",
     "output_type": "stream",
     "text": [
      "{'CompleteTopologyShuffle': 4, 'IPShuffle': 12, 'OSDiversity': 18, 'ServiceDiversity': 4}\n",
      "Saving evaluation results to /home/22489437/Documents/GitHub/MTDSim/experiments/experimental_data/results/epsilon_0.6_decay_0.98.csv\n"
     ]
    },
    {
     "name": "stderr",
     "output_type": "stream",
     "text": [
      "Compiled the loaded model, but the compiled metrics have yet to be built. `model.compile_metrics` will be empty until you train or evaluate the model.\n"
     ]
    },
    {
     "name": "stdout",
     "output_type": "stream",
     "text": [
      "{'CompleteTopologyShuffle': 8, 'IPShuffle': 12, 'OSDiversity': 10, 'ServiceDiversity': 8}\n",
      "Saving evaluation results to /home/22489437/Documents/GitHub/MTDSim/experiments/experimental_data/results/epsilon_0.6_decay_0.98.csv\n"
     ]
    },
    {
     "name": "stderr",
     "output_type": "stream",
     "text": [
      "Compiled the loaded model, but the compiled metrics have yet to be built. `model.compile_metrics` will be empty until you train or evaluate the model.\n"
     ]
    },
    {
     "name": "stdout",
     "output_type": "stream",
     "text": [
      "{'CompleteTopologyShuffle': 6, 'IPShuffle': 14, 'OSDiversity': 14, 'ServiceDiversity': 10}\n",
      "Saving evaluation results to /home/22489437/Documents/GitHub/MTDSim/experiments/experimental_data/results/epsilon_0.6_decay_0.98.csv\n"
     ]
    },
    {
     "name": "stderr",
     "output_type": "stream",
     "text": [
      "Compiled the loaded model, but the compiled metrics have yet to be built. `model.compile_metrics` will be empty until you train or evaluate the model.\n"
     ]
    },
    {
     "name": "stdout",
     "output_type": "stream",
     "text": [
      "{'CompleteTopologyShuffle': 16, 'IPShuffle': 6, 'OSDiversity': 6, 'ServiceDiversity': 14}\n",
      "Saving evaluation results to /home/22489437/Documents/GitHub/MTDSim/experiments/experimental_data/results/epsilon_0.6_decay_0.98.csv\n"
     ]
    },
    {
     "name": "stderr",
     "output_type": "stream",
     "text": [
      "Compiled the loaded model, but the compiled metrics have yet to be built. `model.compile_metrics` will be empty until you train or evaluate the model.\n"
     ]
    },
    {
     "name": "stdout",
     "output_type": "stream",
     "text": [
      "{'CompleteTopologyShuffle': 14, 'IPShuffle': 6, 'OSDiversity': 12, 'ServiceDiversity': 14}\n",
      "Saving evaluation results to /home/22489437/Documents/GitHub/MTDSim/experiments/experimental_data/results/epsilon_0.6_decay_0.98.csv\n"
     ]
    },
    {
     "name": "stderr",
     "output_type": "stream",
     "text": [
      "Compiled the loaded model, but the compiled metrics have yet to be built. `model.compile_metrics` will be empty until you train or evaluate the model.\n"
     ]
    },
    {
     "name": "stdout",
     "output_type": "stream",
     "text": [
      "{'CompleteTopologyShuffle': 12, 'IPShuffle': 10, 'OSDiversity': 8, 'ServiceDiversity': 6}\n",
      "Saving evaluation results to /home/22489437/Documents/GitHub/MTDSim/experiments/experimental_data/results/epsilon_0.6_decay_0.98.csv\n"
     ]
    },
    {
     "name": "stderr",
     "output_type": "stream",
     "text": [
      "Compiled the loaded model, but the compiled metrics have yet to be built. `model.compile_metrics` will be empty until you train or evaluate the model.\n"
     ]
    },
    {
     "name": "stdout",
     "output_type": "stream",
     "text": [
      "{'CompleteTopologyShuffle': 8, 'IPShuffle': 10, 'OSDiversity': 10, 'ServiceDiversity': 10}\n",
      "{'CompleteTopologyShuffle': 12, 'IPShuffle': 6, 'OSDiversity': 12, 'ServiceDiversity': 10}\n",
      "Saving evaluation results to /home/22489437/Documents/GitHub/MTDSim/experiments/experimental_data/results/epsilon_0.6_decay_0.98.csv\n",
      "Saving evaluation results to /home/22489437/Documents/GitHub/MTDSim/experiments/experimental_data/results/epsilon_0.6_decay_0.98.csv\n",
      "{'CompleteTopologyShuffle': 12, 'IPShuffle': 4, 'OSDiversity': 12, 'ServiceDiversity': 6}\n"
     ]
    },
    {
     "name": "stderr",
     "output_type": "stream",
     "text": [
      "Compiled the loaded model, but the compiled metrics have yet to be built. `model.compile_metrics` will be empty until you train or evaluate the model.\n"
     ]
    },
    {
     "name": "stdout",
     "output_type": "stream",
     "text": [
      "Saving evaluation results to /home/22489437/Documents/GitHub/MTDSim/experiments/experimental_data/results/epsilon_0.6_decay_0.98.csv\n",
      "{'CompleteTopologyShuffle': 14, 'IPShuffle': 12, 'OSDiversity': 8, 'ServiceDiversity': 8}\n",
      "Saving evaluation results to /home/22489437/Documents/GitHub/MTDSim/experiments/experimental_data/results/epsilon_0.6_decay_0.98.csv\n",
      "{'CompleteTopologyShuffle': 10, 'IPShuffle': 12, 'OSDiversity': 8, 'ServiceDiversity': 8}\n",
      "{'CompleteTopologyShuffle': 12, 'IPShuffle': 14, 'OSDiversity': 12, 'ServiceDiversity': 12}Saving evaluation results to /home/22489437/Documents/GitHub/MTDSim/experiments/experimental_data/results/epsilon_0.6_decay_0.98.csv\n",
      "\n",
      "Saving evaluation results to /home/22489437/Documents/GitHub/MTDSim/experiments/experimental_data/results/epsilon_0.6_decay_0.98.csv\n",
      "{'CompleteTopologyShuffle': 8, 'IPShuffle': 8, 'OSDiversity': 12, 'ServiceDiversity': 6}\n",
      "Saving evaluation results to /home/22489437/Documents/GitHub/MTDSim/experiments/experimental_data/results/epsilon_0.6_decay_0.98.csv\n",
      "{'CompleteTopologyShuffle': 8, 'IPShuffle': 6, 'OSDiversity': 20, 'ServiceDiversity': 10}\n",
      "Saving evaluation results to /home/22489437/Documents/GitHub/MTDSim/experiments/experimental_data/results/epsilon_0.6_decay_0.98.csv\n",
      "{'CompleteTopologyShuffle': 2, 'IPShuffle': 4, 'OSDiversity': 16, 'ServiceDiversity': 10}\n",
      "Saving evaluation results to /home/22489437/Documents/GitHub/MTDSim/experiments/experimental_data/results/epsilon_0.6_decay_0.98.csv\n",
      "{'CompleteTopologyShuffle': 6, 'IPShuffle': 12, 'OSDiversity': 14, 'ServiceDiversity': 12}\n",
      "Saving evaluation results to /home/22489437/Documents/GitHub/MTDSim/experiments/experimental_data/results/epsilon_0.6_decay_0.98.csv\n",
      "{'CompleteTopologyShuffle': 16, 'IPShuffle': 6, 'OSDiversity': 4, 'ServiceDiversity': 14}\n",
      "Saving evaluation results to /home/22489437/Documents/GitHub/MTDSim/experiments/experimental_data/results/epsilon_0.6_decay_0.98.csv\n",
      "{'CompleteTopologyShuffle': 2, 'IPShuffle': 8, 'OSDiversity': 10, 'ServiceDiversity': 14}\n",
      "Saving evaluation results to /home/22489437/Documents/GitHub/MTDSim/experiments/experimental_data/results/epsilon_0.6_decay_0.98.csv\n",
      "{'CompleteTopologyShuffle': 4, 'IPShuffle': 12, 'OSDiversity': 14, 'ServiceDiversity': 12}\n",
      "Saving evaluation results to /home/22489437/Documents/GitHub/MTDSim/experiments/experimental_data/results/epsilon_0.6_decay_0.98.csv\n",
      "{'CompleteTopologyShuffle': 18, 'IPShuffle': 10, 'OSDiversity': 10, 'ServiceDiversity': 6}\n",
      "Saving evaluation results to /home/22489437/Documents/GitHub/MTDSim/experiments/experimental_data/results/epsilon_0.6_decay_0.98.csv\n",
      "{'CompleteTopologyShuffle': 10, 'IPShuffle': 18, 'OSDiversity': 6, 'ServiceDiversity': 8}\n",
      "Saving evaluation results to /home/22489437/Documents/GitHub/MTDSim/experiments/experimental_data/results/epsilon_0.6_decay_0.98.csv\n",
      "{'CompleteTopologyShuffle': 4, 'IPShuffle': 14, 'OSDiversity': 10, 'ServiceDiversity': 8}\n",
      "Saving evaluation results to /home/22489437/Documents/GitHub/MTDSim/experiments/experimental_data/results/epsilon_0.6_decay_0.98.csv\n",
      "{'CompleteTopologyShuffle': 14, 'IPShuffle': 14, 'OSDiversity': 4, 'ServiceDiversity': 4}\n",
      "Saving evaluation results to /home/22489437/Documents/GitHub/MTDSim/experiments/experimental_data/results/epsilon_0.6_decay_0.98.csv\n",
      "{'CompleteTopologyShuffle': 8, 'IPShuffle': 14, 'OSDiversity': 10, 'ServiceDiversity': 18}\n",
      "Saving evaluation results to /home/22489437/Documents/GitHub/MTDSim/experiments/experimental_data/results/epsilon_0.6_decay_0.98.csv\n",
      "{'CompleteTopologyShuffle': 10, 'IPShuffle': 12, 'OSDiversity': 10, 'ServiceDiversity': 12}\n",
      "Saving evaluation results to /home/22489437/Documents/GitHub/MTDSim/experiments/experimental_data/results/epsilon_0.6_decay_0.98.csv\n",
      "{'CompleteTopologyShuffle': 12, 'IPShuffle': 8, 'OSDiversity': 12, 'ServiceDiversity': 12}\n",
      "Saving evaluation results to /home/22489437/Documents/GitHub/MTDSim/experiments/experimental_data/results/epsilon_0.6_decay_0.98.csv\n",
      "{'CompleteTopologyShuffle': 16, 'IPShuffle': 10, 'OSDiversity': 6, 'ServiceDiversity': 6}\n",
      "Saving evaluation results to /home/22489437/Documents/GitHub/MTDSim/experiments/experimental_data/results/epsilon_0.6_decay_0.98.csv\n",
      "{'CompleteTopologyShuffle': 10, 'IPShuffle': 12, 'OSDiversity': 10, 'ServiceDiversity': 4}\n",
      "Saving evaluation results to /home/22489437/Documents/GitHub/MTDSim/experiments/experimental_data/results/epsilon_0.6_decay_0.98.csv\n",
      "{'CompleteTopologyShuffle': 14, 'IPShuffle': 12, 'OSDiversity': 4, 'ServiceDiversity': 8}\n",
      "Saving evaluation results to /home/22489437/Documents/GitHub/MTDSim/experiments/experimental_data/results/epsilon_0.6_decay_0.98.csv\n",
      "{'CompleteTopologyShuffle': 6, 'IPShuffle': 16, 'OSDiversity': 14, 'ServiceDiversity': 8}\n",
      "Saving evaluation results to /home/22489437/Documents/GitHub/MTDSim/experiments/experimental_data/results/epsilon_0.6_decay_0.98.csv\n",
      "{'CompleteTopologyShuffle': 6, 'IPShuffle': 8, 'OSDiversity': 14, 'ServiceDiversity': 8}\n",
      "Saving evaluation results to /home/22489437/Documents/GitHub/MTDSim/experiments/experimental_data/results/epsilon_0.6_decay_0.98.csv\n",
      "Running experiments for model epsilon_0.6_decay_0.99\n",
      "Trial_ 0\n",
      "Trial_ 10\n",
      "Trial_ 20\n",
      "Trial_ 30\n",
      "Trial_ 40\n",
      "Trial_ 50\n",
      "Trial_ 60\n",
      "Trial_ 70\n",
      "Trial_ 80\n",
      "Trial_ 90\n"
     ]
    },
    {
     "name": "stderr",
     "output_type": "stream",
     "text": [
      "Compiled the loaded model, but the compiled metrics have yet to be built. `model.compile_metrics` will be empty until you train or evaluate the model.\n",
      "Compiled the loaded model, but the compiled metrics have yet to be built. `model.compile_metrics` will be empty until you train or evaluate the model.\n",
      "Compiled the loaded model, but the compiled metrics have yet to be built. `model.compile_metrics` will be empty until you train or evaluate the model.\n",
      "Compiled the loaded model, but the compiled metrics have yet to be built. `model.compile_metrics` will be empty until you train or evaluate the model.\n",
      "Compiled the loaded model, but the compiled metrics have yet to be built. `model.compile_metrics` will be empty until you train or evaluate the model.\n",
      "Compiled the loaded model, but the compiled metrics have yet to be built. `model.compile_metrics` will be empty until you train or evaluate the model.\n",
      "Compiled the loaded model, but the compiled metrics have yet to be built. `model.compile_metrics` will be empty until you train or evaluate the model.\n",
      "Compiled the loaded model, but the compiled metrics have yet to be built. `model.compile_metrics` will be empty until you train or evaluate the model.\n",
      "Compiled the loaded model, but the compiled metrics have yet to be built. `model.compile_metrics` will be empty until you train or evaluate the model.\n",
      "Compiled the loaded model, but the compiled metrics have yet to be built. `model.compile_metrics` will be empty until you train or evaluate the model.\n",
      "Compiled the loaded model, but the compiled metrics have yet to be built. `model.compile_metrics` will be empty until you train or evaluate the model.\n",
      "Compiled the loaded model, but the compiled metrics have yet to be built. `model.compile_metrics` will be empty until you train or evaluate the model.\n",
      "Compiled the loaded model, but the compiled metrics have yet to be built. `model.compile_metrics` will be empty until you train or evaluate the model.\n",
      "Compiled the loaded model, but the compiled metrics have yet to be built. `model.compile_metrics` will be empty until you train or evaluate the model.\n",
      "Compiled the loaded model, but the compiled metrics have yet to be built. `model.compile_metrics` will be empty until you train or evaluate the model.\n",
      "Compiled the loaded model, but the compiled metrics have yet to be built. `model.compile_metrics` will be empty until you train or evaluate the model.\n",
      "Compiled the loaded model, but the compiled metrics have yet to be built. `model.compile_metrics` will be empty until you train or evaluate the model.\n",
      "Compiled the loaded model, but the compiled metrics have yet to be built. `model.compile_metrics` will be empty until you train or evaluate the model.\n",
      "Compiled the loaded model, but the compiled metrics have yet to be built. `model.compile_metrics` will be empty until you train or evaluate the model.\n",
      "Compiled the loaded model, but the compiled metrics have yet to be built. `model.compile_metrics` will be empty until you train or evaluate the model.\n",
      "Compiled the loaded model, but the compiled metrics have yet to be built. `model.compile_metrics` will be empty until you train or evaluate the model.\n",
      "Compiled the loaded model, but the compiled metrics have yet to be built. `model.compile_metrics` will be empty until you train or evaluate the model.\n",
      "Compiled the loaded model, but the compiled metrics have yet to be built. `model.compile_metrics` will be empty until you train or evaluate the model.\n",
      "Compiled the loaded model, but the compiled metrics have yet to be built. `model.compile_metrics` will be empty until you train or evaluate the model.\n"
     ]
    },
    {
     "name": "stdout",
     "output_type": "stream",
     "text": [
      "{'CompleteTopologyShuffle': 8, 'IPShuffle': 10, 'OSDiversity': 10, 'ServiceDiversity': 4}\n",
      "Saving evaluation results to /home/22489437/Documents/GitHub/MTDSim/experiments/experimental_data/results/epsilon_0.6_decay_0.99.csv\n"
     ]
    },
    {
     "name": "stderr",
     "output_type": "stream",
     "text": [
      "Compiled the loaded model, but the compiled metrics have yet to be built. `model.compile_metrics` will be empty until you train or evaluate the model.\n"
     ]
    },
    {
     "name": "stdout",
     "output_type": "stream",
     "text": [
      "{'CompleteTopologyShuffle': 12, 'IPShuffle': 12, 'OSDiversity': 16, 'ServiceDiversity': 10}\n",
      "Saving evaluation results to /home/22489437/Documents/GitHub/MTDSim/experiments/experimental_data/results/epsilon_0.6_decay_0.99.csv{'CompleteTopologyShuffle': 10, 'IPShuffle': 10, 'OSDiversity': 14, 'ServiceDiversity': 6}\n",
      "\n"
     ]
    },
    {
     "name": "stderr",
     "output_type": "stream",
     "text": [
      "Compiled the loaded model, but the compiled metrics have yet to be built. `model.compile_metrics` will be empty until you train or evaluate the model.\n"
     ]
    },
    {
     "name": "stdout",
     "output_type": "stream",
     "text": [
      "Saving evaluation results to /home/22489437/Documents/GitHub/MTDSim/experiments/experimental_data/results/epsilon_0.6_decay_0.99.csv\n",
      "{'CompleteTopologyShuffle': 8, 'IPShuffle': 14, 'OSDiversity': 10, 'ServiceDiversity': 16}\n"
     ]
    },
    {
     "name": "stderr",
     "output_type": "stream",
     "text": [
      "Compiled the loaded model, but the compiled metrics have yet to be built. `model.compile_metrics` will be empty until you train or evaluate the model.\n"
     ]
    },
    {
     "name": "stdout",
     "output_type": "stream",
     "text": [
      "Saving evaluation results to /home/22489437/Documents/GitHub/MTDSim/experiments/experimental_data/results/epsilon_0.6_decay_0.99.csv\n"
     ]
    },
    {
     "name": "stderr",
     "output_type": "stream",
     "text": [
      "Compiled the loaded model, but the compiled metrics have yet to be built. `model.compile_metrics` will be empty until you train or evaluate the model.\n"
     ]
    },
    {
     "name": "stdout",
     "output_type": "stream",
     "text": [
      "{'CompleteTopologyShuffle': 6, 'IPShuffle': 14, 'OSDiversity': 18, 'ServiceDiversity': 8}\n",
      "{'CompleteTopologyShuffle': 22, 'IPShuffle': 10, 'OSDiversity': 6, 'ServiceDiversity': 10}\n",
      "Saving evaluation results to /home/22489437/Documents/GitHub/MTDSim/experiments/experimental_data/results/epsilon_0.6_decay_0.99.csv\n",
      "Saving evaluation results to /home/22489437/Documents/GitHub/MTDSim/experiments/experimental_data/results/epsilon_0.6_decay_0.99.csv\n"
     ]
    },
    {
     "name": "stderr",
     "output_type": "stream",
     "text": [
      "Compiled the loaded model, but the compiled metrics have yet to be built. `model.compile_metrics` will be empty until you train or evaluate the model.\n",
      "Compiled the loaded model, but the compiled metrics have yet to be built. `model.compile_metrics` will be empty until you train or evaluate the model.\n"
     ]
    },
    {
     "name": "stdout",
     "output_type": "stream",
     "text": [
      "{'CompleteTopologyShuffle': 8, 'IPShuffle': 14, 'OSDiversity': 10, 'ServiceDiversity': 12}\n",
      "Saving evaluation results to /home/22489437/Documents/GitHub/MTDSim/experiments/experimental_data/results/epsilon_0.6_decay_0.99.csv\n"
     ]
    },
    {
     "name": "stderr",
     "output_type": "stream",
     "text": [
      "Compiled the loaded model, but the compiled metrics have yet to be built. `model.compile_metrics` will be empty until you train or evaluate the model.\n"
     ]
    },
    {
     "name": "stdout",
     "output_type": "stream",
     "text": [
      "{'CompleteTopologyShuffle': 6, 'IPShuffle': 12, 'OSDiversity': 6, 'ServiceDiversity': 12}\n",
      "Saving evaluation results to /home/22489437/Documents/GitHub/MTDSim/experiments/experimental_data/results/epsilon_0.6_decay_0.99.csv\n",
      "{'CompleteTopologyShuffle': 14, 'IPShuffle': 10, 'OSDiversity': 4, 'ServiceDiversity': 16}\n"
     ]
    },
    {
     "name": "stderr",
     "output_type": "stream",
     "text": [
      "Compiled the loaded model, but the compiled metrics have yet to be built. `model.compile_metrics` will be empty until you train or evaluate the model.\n"
     ]
    },
    {
     "name": "stdout",
     "output_type": "stream",
     "text": [
      "Saving evaluation results to /home/22489437/Documents/GitHub/MTDSim/experiments/experimental_data/results/epsilon_0.6_decay_0.99.csv\n",
      "{'CompleteTopologyShuffle': 10, 'IPShuffle': 12, 'OSDiversity': 14, 'ServiceDiversity': 6}\n"
     ]
    },
    {
     "name": "stderr",
     "output_type": "stream",
     "text": [
      "Compiled the loaded model, but the compiled metrics have yet to be built. `model.compile_metrics` will be empty until you train or evaluate the model.\n"
     ]
    },
    {
     "name": "stdout",
     "output_type": "stream",
     "text": [
      "Saving evaluation results to /home/22489437/Documents/GitHub/MTDSim/experiments/experimental_data/results/epsilon_0.6_decay_0.99.csv\n"
     ]
    },
    {
     "name": "stderr",
     "output_type": "stream",
     "text": [
      "Compiled the loaded model, but the compiled metrics have yet to be built. `model.compile_metrics` will be empty until you train or evaluate the model.\n"
     ]
    },
    {
     "name": "stdout",
     "output_type": "stream",
     "text": [
      "{'CompleteTopologyShuffle': 14, 'IPShuffle': 6, 'OSDiversity': 10, 'ServiceDiversity': 12}\n",
      "Saving evaluation results to /home/22489437/Documents/GitHub/MTDSim/experiments/experimental_data/results/epsilon_0.6_decay_0.99.csv\n"
     ]
    },
    {
     "name": "stderr",
     "output_type": "stream",
     "text": [
      "Compiled the loaded model, but the compiled metrics have yet to be built. `model.compile_metrics` will be empty until you train or evaluate the model.\n"
     ]
    },
    {
     "name": "stdout",
     "output_type": "stream",
     "text": [
      "{'CompleteTopologyShuffle': 8, 'IPShuffle': 14, 'OSDiversity': 22, 'ServiceDiversity': 2}\n",
      "{'CompleteTopologyShuffle': 12, 'IPShuffle': 6, 'OSDiversity': 10, 'ServiceDiversity': 8}\n",
      "{'CompleteTopologyShuffle': 12, 'IPShuffle': 8, 'OSDiversity': 16, 'ServiceDiversity': 10}\n",
      "Saving evaluation results to /home/22489437/Documents/GitHub/MTDSim/experiments/experimental_data/results/epsilon_0.6_decay_0.99.csv\n",
      "Saving evaluation results to /home/22489437/Documents/GitHub/MTDSim/experiments/experimental_data/results/epsilon_0.6_decay_0.99.csv\n",
      "Saving evaluation results to /home/22489437/Documents/GitHub/MTDSim/experiments/experimental_data/results/epsilon_0.6_decay_0.99.csv\n"
     ]
    },
    {
     "name": "stderr",
     "output_type": "stream",
     "text": [
      "Compiled the loaded model, but the compiled metrics have yet to be built. `model.compile_metrics` will be empty until you train or evaluate the model.\n",
      "Compiled the loaded model, but the compiled metrics have yet to be built. `model.compile_metrics` will be empty until you train or evaluate the model.\n",
      "Compiled the loaded model, but the compiled metrics have yet to be built. `model.compile_metrics` will be empty until you train or evaluate the model.\n"
     ]
    },
    {
     "name": "stdout",
     "output_type": "stream",
     "text": [
      "{'CompleteTopologyShuffle': 10, 'IPShuffle': 6, 'OSDiversity': 12, 'ServiceDiversity': 8}\n",
      "Saving evaluation results to /home/22489437/Documents/GitHub/MTDSim/experiments/experimental_data/results/epsilon_0.6_decay_0.99.csv\n",
      "{'CompleteTopologyShuffle': 8, 'IPShuffle': 14, 'OSDiversity': 8, 'ServiceDiversity': 14}\n"
     ]
    },
    {
     "name": "stderr",
     "output_type": "stream",
     "text": [
      "Compiled the loaded model, but the compiled metrics have yet to be built. `model.compile_metrics` will be empty until you train or evaluate the model.\n"
     ]
    },
    {
     "name": "stdout",
     "output_type": "stream",
     "text": [
      "Saving evaluation results to /home/22489437/Documents/GitHub/MTDSim/experiments/experimental_data/results/epsilon_0.6_decay_0.99.csv\n"
     ]
    },
    {
     "name": "stderr",
     "output_type": "stream",
     "text": [
      "Compiled the loaded model, but the compiled metrics have yet to be built. `model.compile_metrics` will be empty until you train or evaluate the model.\n"
     ]
    },
    {
     "name": "stdout",
     "output_type": "stream",
     "text": [
      "{'CompleteTopologyShuffle': 8, 'IPShuffle': 12, 'OSDiversity': 10, 'ServiceDiversity': 4}\n",
      "Saving evaluation results to /home/22489437/Documents/GitHub/MTDSim/experiments/experimental_data/results/epsilon_0.6_decay_0.99.csv\n"
     ]
    },
    {
     "name": "stderr",
     "output_type": "stream",
     "text": [
      "Compiled the loaded model, but the compiled metrics have yet to be built. `model.compile_metrics` will be empty until you train or evaluate the model.\n"
     ]
    },
    {
     "name": "stdout",
     "output_type": "stream",
     "text": [
      "{'CompleteTopologyShuffle': 6, 'IPShuffle': 12, 'OSDiversity': 8, 'ServiceDiversity': 12}\n",
      "Saving evaluation results to /home/22489437/Documents/GitHub/MTDSim/experiments/experimental_data/results/epsilon_0.6_decay_0.99.csv\n"
     ]
    },
    {
     "name": "stderr",
     "output_type": "stream",
     "text": [
      "Compiled the loaded model, but the compiled metrics have yet to be built. `model.compile_metrics` will be empty until you train or evaluate the model.\n"
     ]
    },
    {
     "name": "stdout",
     "output_type": "stream",
     "text": [
      "{'CompleteTopologyShuffle': 8, 'IPShuffle': 14, 'OSDiversity': 12, 'ServiceDiversity': 12}\n",
      "Saving evaluation results to /home/22489437/Documents/GitHub/MTDSim/experiments/experimental_data/results/epsilon_0.6_decay_0.99.csv\n"
     ]
    },
    {
     "name": "stderr",
     "output_type": "stream",
     "text": [
      "Compiled the loaded model, but the compiled metrics have yet to be built. `model.compile_metrics` will be empty until you train or evaluate the model.\n"
     ]
    },
    {
     "name": "stdout",
     "output_type": "stream",
     "text": [
      "{'CompleteTopologyShuffle': 18, 'IPShuffle': 6, 'OSDiversity': 10, 'ServiceDiversity': 10}\n",
      "Saving evaluation results to /home/22489437/Documents/GitHub/MTDSim/experiments/experimental_data/results/epsilon_0.6_decay_0.99.csv\n"
     ]
    },
    {
     "name": "stderr",
     "output_type": "stream",
     "text": [
      "Compiled the loaded model, but the compiled metrics have yet to be built. `model.compile_metrics` will be empty until you train or evaluate the model.\n"
     ]
    },
    {
     "name": "stdout",
     "output_type": "stream",
     "text": [
      "{'CompleteTopologyShuffle': 8, 'IPShuffle': 12, 'OSDiversity': 10, 'ServiceDiversity': 12}\n",
      "Saving evaluation results to /home/22489437/Documents/GitHub/MTDSim/experiments/experimental_data/results/epsilon_0.6_decay_0.99.csv\n"
     ]
    },
    {
     "name": "stderr",
     "output_type": "stream",
     "text": [
      "Compiled the loaded model, but the compiled metrics have yet to be built. `model.compile_metrics` will be empty until you train or evaluate the model.\n"
     ]
    },
    {
     "name": "stdout",
     "output_type": "stream",
     "text": [
      "{'CompleteTopologyShuffle': 18, 'IPShuffle': 12, 'OSDiversity': 0, 'ServiceDiversity': 16}\n",
      "Saving evaluation results to /home/22489437/Documents/GitHub/MTDSim/experiments/experimental_data/results/epsilon_0.6_decay_0.99.csv\n"
     ]
    },
    {
     "name": "stderr",
     "output_type": "stream",
     "text": [
      "Compiled the loaded model, but the compiled metrics have yet to be built. `model.compile_metrics` will be empty until you train or evaluate the model.\n"
     ]
    },
    {
     "name": "stdout",
     "output_type": "stream",
     "text": [
      "{'CompleteTopologyShuffle': 14, 'IPShuffle': 10, 'OSDiversity': 10, 'ServiceDiversity': 10}\n",
      "{'CompleteTopologyShuffle': 8, 'IPShuffle': 8, 'OSDiversity': 8, 'ServiceDiversity': 10}\n",
      "Saving evaluation results to /home/22489437/Documents/GitHub/MTDSim/experiments/experimental_data/results/epsilon_0.6_decay_0.99.csv\n",
      "Saving evaluation results to /home/22489437/Documents/GitHub/MTDSim/experiments/experimental_data/results/epsilon_0.6_decay_0.99.csv\n"
     ]
    },
    {
     "name": "stderr",
     "output_type": "stream",
     "text": [
      "Compiled the loaded model, but the compiled metrics have yet to be built. `model.compile_metrics` will be empty until you train or evaluate the model.\n",
      "Compiled the loaded model, but the compiled metrics have yet to be built. `model.compile_metrics` will be empty until you train or evaluate the model.\n"
     ]
    },
    {
     "name": "stdout",
     "output_type": "stream",
     "text": [
      "{'CompleteTopologyShuffle': 6, 'IPShuffle': 20, 'OSDiversity': 6, 'ServiceDiversity': 12}\n",
      "Saving evaluation results to /home/22489437/Documents/GitHub/MTDSim/experiments/experimental_data/results/epsilon_0.6_decay_0.99.csv\n"
     ]
    },
    {
     "name": "stderr",
     "output_type": "stream",
     "text": [
      "Compiled the loaded model, but the compiled metrics have yet to be built. `model.compile_metrics` will be empty until you train or evaluate the model.\n"
     ]
    },
    {
     "name": "stdout",
     "output_type": "stream",
     "text": [
      "{'CompleteTopologyShuffle': 10, 'IPShuffle': 8, 'OSDiversity': 18, 'ServiceDiversity': 4}\n",
      "{'CompleteTopologyShuffle': 14, 'IPShuffle': 10, 'OSDiversity': 6, 'ServiceDiversity': 12}\n",
      "Saving evaluation results to /home/22489437/Documents/GitHub/MTDSim/experiments/experimental_data/results/epsilon_0.6_decay_0.99.csv\n",
      "Saving evaluation results to /home/22489437/Documents/GitHub/MTDSim/experiments/experimental_data/results/epsilon_0.6_decay_0.99.csv\n"
     ]
    },
    {
     "name": "stderr",
     "output_type": "stream",
     "text": [
      "Compiled the loaded model, but the compiled metrics have yet to be built. `model.compile_metrics` will be empty until you train or evaluate the model.\n",
      "Compiled the loaded model, but the compiled metrics have yet to be built. `model.compile_metrics` will be empty until you train or evaluate the model.\n"
     ]
    },
    {
     "name": "stdout",
     "output_type": "stream",
     "text": [
      "{'CompleteTopologyShuffle': 12, 'IPShuffle': 10, 'OSDiversity': 10, 'ServiceDiversity': 6}\n",
      "Saving evaluation results to /home/22489437/Documents/GitHub/MTDSim/experiments/experimental_data/results/epsilon_0.6_decay_0.99.csv\n"
     ]
    },
    {
     "name": "stderr",
     "output_type": "stream",
     "text": [
      "Compiled the loaded model, but the compiled metrics have yet to be built. `model.compile_metrics` will be empty until you train or evaluate the model.\n"
     ]
    },
    {
     "name": "stdout",
     "output_type": "stream",
     "text": [
      "{'CompleteTopologyShuffle': 8, 'IPShuffle': 18, 'OSDiversity': 12, 'ServiceDiversity': 8}\n",
      "{'CompleteTopologyShuffle': 12, 'IPShuffle': 14, 'OSDiversity': 6, 'ServiceDiversity': 6}\n",
      "Saving evaluation results to /home/22489437/Documents/GitHub/MTDSim/experiments/experimental_data/results/epsilon_0.6_decay_0.99.csv\n",
      "Saving evaluation results to /home/22489437/Documents/GitHub/MTDSim/experiments/experimental_data/results/epsilon_0.6_decay_0.99.csv\n"
     ]
    },
    {
     "name": "stderr",
     "output_type": "stream",
     "text": [
      "Compiled the loaded model, but the compiled metrics have yet to be built. `model.compile_metrics` will be empty until you train or evaluate the model.\n"
     ]
    },
    {
     "name": "stdout",
     "output_type": "stream",
     "text": [
      "{'CompleteTopologyShuffle': 8, 'IPShuffle': 14, 'OSDiversity': 8, 'ServiceDiversity': 8}\n"
     ]
    },
    {
     "name": "stderr",
     "output_type": "stream",
     "text": [
      "Compiled the loaded model, but the compiled metrics have yet to be built. `model.compile_metrics` will be empty until you train or evaluate the model.\n"
     ]
    },
    {
     "name": "stdout",
     "output_type": "stream",
     "text": [
      "Saving evaluation results to /home/22489437/Documents/GitHub/MTDSim/experiments/experimental_data/results/epsilon_0.6_decay_0.99.csv\n"
     ]
    },
    {
     "name": "stderr",
     "output_type": "stream",
     "text": [
      "Compiled the loaded model, but the compiled metrics have yet to be built. `model.compile_metrics` will be empty until you train or evaluate the model.\n"
     ]
    },
    {
     "name": "stdout",
     "output_type": "stream",
     "text": [
      "{'CompleteTopologyShuffle': 12, 'IPShuffle': 8, 'OSDiversity': 10, 'ServiceDiversity': 10}\n",
      "{'CompleteTopologyShuffle': 14, 'IPShuffle': 22, 'OSDiversity': 8, 'ServiceDiversity': 6}\n",
      "Saving evaluation results to /home/22489437/Documents/GitHub/MTDSim/experiments/experimental_data/results/epsilon_0.6_decay_0.99.csv\n"
     ]
    },
    {
     "name": "stderr",
     "output_type": "stream",
     "text": [
      "Compiled the loaded model, but the compiled metrics have yet to be built. `model.compile_metrics` will be empty until you train or evaluate the model.\n"
     ]
    },
    {
     "name": "stdout",
     "output_type": "stream",
     "text": [
      "Saving evaluation results to /home/22489437/Documents/GitHub/MTDSim/experiments/experimental_data/results/epsilon_0.6_decay_0.99.csv\n"
     ]
    },
    {
     "name": "stderr",
     "output_type": "stream",
     "text": [
      "Compiled the loaded model, but the compiled metrics have yet to be built. `model.compile_metrics` will be empty until you train or evaluate the model.\n"
     ]
    },
    {
     "name": "stdout",
     "output_type": "stream",
     "text": [
      "{'CompleteTopologyShuffle': 6, 'IPShuffle': 12, 'OSDiversity': 8, 'ServiceDiversity': 10}\n",
      "Saving evaluation results to /home/22489437/Documents/GitHub/MTDSim/experiments/experimental_data/results/epsilon_0.6_decay_0.99.csv\n",
      "{'CompleteTopologyShuffle': 14, 'IPShuffle': 8, 'OSDiversity': 2, 'ServiceDiversity': 14}\n"
     ]
    },
    {
     "name": "stderr",
     "output_type": "stream",
     "text": [
      "Compiled the loaded model, but the compiled metrics have yet to be built. `model.compile_metrics` will be empty until you train or evaluate the model.\n"
     ]
    },
    {
     "name": "stdout",
     "output_type": "stream",
     "text": [
      "Saving evaluation results to /home/22489437/Documents/GitHub/MTDSim/experiments/experimental_data/results/epsilon_0.6_decay_0.99.csv\n"
     ]
    },
    {
     "name": "stderr",
     "output_type": "stream",
     "text": [
      "Compiled the loaded model, but the compiled metrics have yet to be built. `model.compile_metrics` will be empty until you train or evaluate the model.\n"
     ]
    },
    {
     "name": "stdout",
     "output_type": "stream",
     "text": [
      "{'CompleteTopologyShuffle': 4, 'IPShuffle': 14, 'OSDiversity': 8, 'ServiceDiversity': 8}\n",
      "Saving evaluation results to /home/22489437/Documents/GitHub/MTDSim/experiments/experimental_data/results/epsilon_0.6_decay_0.99.csv\n"
     ]
    },
    {
     "name": "stderr",
     "output_type": "stream",
     "text": [
      "Compiled the loaded model, but the compiled metrics have yet to be built. `model.compile_metrics` will be empty until you train or evaluate the model.\n"
     ]
    },
    {
     "name": "stdout",
     "output_type": "stream",
     "text": [
      "{'CompleteTopologyShuffle': 16, 'IPShuffle': 20, 'OSDiversity': 8, 'ServiceDiversity': 2}\n",
      "Saving evaluation results to /home/22489437/Documents/GitHub/MTDSim/experiments/experimental_data/results/epsilon_0.6_decay_0.99.csv\n"
     ]
    },
    {
     "name": "stderr",
     "output_type": "stream",
     "text": [
      "Compiled the loaded model, but the compiled metrics have yet to be built. `model.compile_metrics` will be empty until you train or evaluate the model.\n"
     ]
    },
    {
     "name": "stdout",
     "output_type": "stream",
     "text": [
      "{'CompleteTopologyShuffle': 14, 'IPShuffle': 12, 'OSDiversity': 6, 'ServiceDiversity': 4}\n",
      "Saving evaluation results to /home/22489437/Documents/GitHub/MTDSim/experiments/experimental_data/results/epsilon_0.6_decay_0.99.csv\n"
     ]
    },
    {
     "name": "stderr",
     "output_type": "stream",
     "text": [
      "Compiled the loaded model, but the compiled metrics have yet to be built. `model.compile_metrics` will be empty until you train or evaluate the model.\n"
     ]
    },
    {
     "name": "stdout",
     "output_type": "stream",
     "text": [
      "{'CompleteTopologyShuffle': 12, 'IPShuffle': 8, 'OSDiversity': 10, 'ServiceDiversity': 10}\n",
      "{'CompleteTopologyShuffle': 8, 'IPShuffle': 14, 'OSDiversity': 8, 'ServiceDiversity': 18}\n",
      "Saving evaluation results to /home/22489437/Documents/GitHub/MTDSim/experiments/experimental_data/results/epsilon_0.6_decay_0.99.csv\n",
      "Saving evaluation results to /home/22489437/Documents/GitHub/MTDSim/experiments/experimental_data/results/epsilon_0.6_decay_0.99.csv\n"
     ]
    },
    {
     "name": "stderr",
     "output_type": "stream",
     "text": [
      "Compiled the loaded model, but the compiled metrics have yet to be built. `model.compile_metrics` will be empty until you train or evaluate the model.\n",
      "Compiled the loaded model, but the compiled metrics have yet to be built. `model.compile_metrics` will be empty until you train or evaluate the model.\n"
     ]
    },
    {
     "name": "stdout",
     "output_type": "stream",
     "text": [
      "{'CompleteTopologyShuffle': 6, 'IPShuffle': 12, 'OSDiversity': 8, 'ServiceDiversity': 6}\n",
      "Saving evaluation results to /home/22489437/Documents/GitHub/MTDSim/experiments/experimental_data/results/epsilon_0.6_decay_0.99.csv\n"
     ]
    },
    {
     "name": "stderr",
     "output_type": "stream",
     "text": [
      "Compiled the loaded model, but the compiled metrics have yet to be built. `model.compile_metrics` will be empty until you train or evaluate the model.\n"
     ]
    },
    {
     "name": "stdout",
     "output_type": "stream",
     "text": [
      "{'CompleteTopologyShuffle': 4, 'IPShuffle': 6, 'OSDiversity': 12, 'ServiceDiversity': 8}\n",
      "Saving evaluation results to /home/22489437/Documents/GitHub/MTDSim/experiments/experimental_data/results/epsilon_0.6_decay_0.99.csv\n"
     ]
    },
    {
     "name": "stderr",
     "output_type": "stream",
     "text": [
      "Compiled the loaded model, but the compiled metrics have yet to be built. `model.compile_metrics` will be empty until you train or evaluate the model.\n"
     ]
    },
    {
     "name": "stdout",
     "output_type": "stream",
     "text": [
      "{'CompleteTopologyShuffle': 8, 'IPShuffle': 12, 'OSDiversity': 8, 'ServiceDiversity': 12}\n",
      "Saving evaluation results to /home/22489437/Documents/GitHub/MTDSim/experiments/experimental_data/results/epsilon_0.6_decay_0.99.csv\n"
     ]
    },
    {
     "name": "stderr",
     "output_type": "stream",
     "text": [
      "Compiled the loaded model, but the compiled metrics have yet to be built. `model.compile_metrics` will be empty until you train or evaluate the model.\n"
     ]
    },
    {
     "name": "stdout",
     "output_type": "stream",
     "text": [
      "{'CompleteTopologyShuffle': 10, 'IPShuffle': 10, 'OSDiversity': 14, 'ServiceDiversity': 2}\n",
      "Saving evaluation results to /home/22489437/Documents/GitHub/MTDSim/experiments/experimental_data/results/epsilon_0.6_decay_0.99.csv\n"
     ]
    },
    {
     "name": "stderr",
     "output_type": "stream",
     "text": [
      "Compiled the loaded model, but the compiled metrics have yet to be built. `model.compile_metrics` will be empty until you train or evaluate the model.\n"
     ]
    },
    {
     "name": "stdout",
     "output_type": "stream",
     "text": [
      "{'CompleteTopologyShuffle': 10, 'IPShuffle': 8, 'OSDiversity': 12, 'ServiceDiversity': 10}\n",
      "Saving evaluation results to /home/22489437/Documents/GitHub/MTDSim/experiments/experimental_data/results/epsilon_0.6_decay_0.99.csv\n"
     ]
    },
    {
     "name": "stderr",
     "output_type": "stream",
     "text": [
      "Compiled the loaded model, but the compiled metrics have yet to be built. `model.compile_metrics` will be empty until you train or evaluate the model.\n"
     ]
    },
    {
     "name": "stdout",
     "output_type": "stream",
     "text": [
      "{'CompleteTopologyShuffle': 12, 'IPShuffle': 6, 'OSDiversity': 16, 'ServiceDiversity': 10}\n",
      "Saving evaluation results to /home/22489437/Documents/GitHub/MTDSim/experiments/experimental_data/results/epsilon_0.6_decay_0.99.csv\n"
     ]
    },
    {
     "name": "stderr",
     "output_type": "stream",
     "text": [
      "Compiled the loaded model, but the compiled metrics have yet to be built. `model.compile_metrics` will be empty until you train or evaluate the model.\n"
     ]
    },
    {
     "name": "stdout",
     "output_type": "stream",
     "text": [
      "{'CompleteTopologyShuffle': 6, 'IPShuffle': 18, 'OSDiversity': 12, 'ServiceDiversity': 6}\n",
      "Saving evaluation results to /home/22489437/Documents/GitHub/MTDSim/experiments/experimental_data/results/epsilon_0.6_decay_0.99.csv\n"
     ]
    },
    {
     "name": "stderr",
     "output_type": "stream",
     "text": [
      "Compiled the loaded model, but the compiled metrics have yet to be built. `model.compile_metrics` will be empty until you train or evaluate the model.\n"
     ]
    },
    {
     "name": "stdout",
     "output_type": "stream",
     "text": [
      "{'CompleteTopologyShuffle': 12, 'IPShuffle': 8, 'OSDiversity': 8, 'ServiceDiversity': 8}\n",
      "Saving evaluation results to /home/22489437/Documents/GitHub/MTDSim/experiments/experimental_data/results/epsilon_0.6_decay_0.99.csv\n"
     ]
    },
    {
     "name": "stderr",
     "output_type": "stream",
     "text": [
      "Compiled the loaded model, but the compiled metrics have yet to be built. `model.compile_metrics` will be empty until you train or evaluate the model.\n"
     ]
    },
    {
     "name": "stdout",
     "output_type": "stream",
     "text": [
      "{'CompleteTopologyShuffle': 4, 'IPShuffle': 6, 'OSDiversity': 20, 'ServiceDiversity': 4}\n",
      "Saving evaluation results to /home/22489437/Documents/GitHub/MTDSim/experiments/experimental_data/results/epsilon_0.6_decay_0.99.csv\n"
     ]
    },
    {
     "name": "stderr",
     "output_type": "stream",
     "text": [
      "Compiled the loaded model, but the compiled metrics have yet to be built. `model.compile_metrics` will be empty until you train or evaluate the model.\n"
     ]
    },
    {
     "name": "stdout",
     "output_type": "stream",
     "text": [
      "{'CompleteTopologyShuffle': 6, 'IPShuffle': 10, 'OSDiversity': 10, 'ServiceDiversity': 12}\n",
      "{'CompleteTopologyShuffle': 10, 'IPShuffle': 6, 'OSDiversity': 10, 'ServiceDiversity': 10}\n",
      "Saving evaluation results to /home/22489437/Documents/GitHub/MTDSim/experiments/experimental_data/results/epsilon_0.6_decay_0.99.csv\n",
      "Saving evaluation results to /home/22489437/Documents/GitHub/MTDSim/experiments/experimental_data/results/epsilon_0.6_decay_0.99.csv\n"
     ]
    },
    {
     "name": "stderr",
     "output_type": "stream",
     "text": [
      "Compiled the loaded model, but the compiled metrics have yet to be built. `model.compile_metrics` will be empty until you train or evaluate the model.\n",
      "Compiled the loaded model, but the compiled metrics have yet to be built. `model.compile_metrics` will be empty until you train or evaluate the model.\n"
     ]
    },
    {
     "name": "stdout",
     "output_type": "stream",
     "text": [
      "{'CompleteTopologyShuffle': 8, 'IPShuffle': 14, 'OSDiversity': 8, 'ServiceDiversity': 10}\n",
      "{'CompleteTopologyShuffle': 6, 'IPShuffle': 8, 'OSDiversity': 16, 'ServiceDiversity': 10}\n",
      "Saving evaluation results to /home/22489437/Documents/GitHub/MTDSim/experiments/experimental_data/results/epsilon_0.6_decay_0.99.csv\n"
     ]
    },
    {
     "name": "stderr",
     "output_type": "stream",
     "text": [
      "Compiled the loaded model, but the compiled metrics have yet to be built. `model.compile_metrics` will be empty until you train or evaluate the model.\n"
     ]
    },
    {
     "name": "stdout",
     "output_type": "stream",
     "text": [
      "Saving evaluation results to /home/22489437/Documents/GitHub/MTDSim/experiments/experimental_data/results/epsilon_0.6_decay_0.99.csv\n"
     ]
    },
    {
     "name": "stderr",
     "output_type": "stream",
     "text": [
      "Compiled the loaded model, but the compiled metrics have yet to be built. `model.compile_metrics` will be empty until you train or evaluate the model.\n"
     ]
    },
    {
     "name": "stdout",
     "output_type": "stream",
     "text": [
      "{'CompleteTopologyShuffle': 6, 'IPShuffle': 12, 'OSDiversity': 8, 'ServiceDiversity': 10}\n",
      "Saving evaluation results to /home/22489437/Documents/GitHub/MTDSim/experiments/experimental_data/results/epsilon_0.6_decay_0.99.csv\n"
     ]
    },
    {
     "name": "stderr",
     "output_type": "stream",
     "text": [
      "Compiled the loaded model, but the compiled metrics have yet to be built. `model.compile_metrics` will be empty until you train or evaluate the model.\n"
     ]
    },
    {
     "name": "stdout",
     "output_type": "stream",
     "text": [
      "{'CompleteTopologyShuffle': 10, 'IPShuffle': 8, 'OSDiversity': 14, 'ServiceDiversity': 12}\n",
      "Saving evaluation results to /home/22489437/Documents/GitHub/MTDSim/experiments/experimental_data/results/epsilon_0.6_decay_0.99.csv\n"
     ]
    },
    {
     "name": "stderr",
     "output_type": "stream",
     "text": [
      "Compiled the loaded model, but the compiled metrics have yet to be built. `model.compile_metrics` will be empty until you train or evaluate the model.\n"
     ]
    },
    {
     "name": "stdout",
     "output_type": "stream",
     "text": [
      "{'CompleteTopologyShuffle': 16, 'IPShuffle': 4, 'OSDiversity': 12, 'ServiceDiversity': 12}\n",
      "Saving evaluation results to /home/22489437/Documents/GitHub/MTDSim/experiments/experimental_data/results/epsilon_0.6_decay_0.99.csv\n"
     ]
    },
    {
     "name": "stderr",
     "output_type": "stream",
     "text": [
      "Compiled the loaded model, but the compiled metrics have yet to be built. `model.compile_metrics` will be empty until you train or evaluate the model.\n"
     ]
    },
    {
     "name": "stdout",
     "output_type": "stream",
     "text": [
      "{'CompleteTopologyShuffle': 6, 'IPShuffle': 14, 'OSDiversity': 10, 'ServiceDiversity': 4}\n",
      "{'CompleteTopologyShuffle': 10, 'IPShuffle': 4, 'OSDiversity': 12, 'ServiceDiversity': 6}\n",
      "Saving evaluation results to /home/22489437/Documents/GitHub/MTDSim/experiments/experimental_data/results/epsilon_0.6_decay_0.99.csv\n",
      "Saving evaluation results to /home/22489437/Documents/GitHub/MTDSim/experiments/experimental_data/results/epsilon_0.6_decay_0.99.csv\n"
     ]
    },
    {
     "name": "stderr",
     "output_type": "stream",
     "text": [
      "Compiled the loaded model, but the compiled metrics have yet to be built. `model.compile_metrics` will be empty until you train or evaluate the model.\n",
      "Compiled the loaded model, but the compiled metrics have yet to be built. `model.compile_metrics` will be empty until you train or evaluate the model.\n"
     ]
    },
    {
     "name": "stdout",
     "output_type": "stream",
     "text": [
      "{'CompleteTopologyShuffle': 10, 'IPShuffle': 4, 'OSDiversity': 8, 'ServiceDiversity': 16}\n",
      "{'CompleteTopologyShuffle': 4, 'IPShuffle': 18, 'OSDiversity': 14, 'ServiceDiversity': 12}\n",
      "Saving evaluation results to /home/22489437/Documents/GitHub/MTDSim/experiments/experimental_data/results/epsilon_0.6_decay_0.99.csv\n"
     ]
    },
    {
     "name": "stderr",
     "output_type": "stream",
     "text": [
      "Compiled the loaded model, but the compiled metrics have yet to be built. `model.compile_metrics` will be empty until you train or evaluate the model.\n"
     ]
    },
    {
     "name": "stdout",
     "output_type": "stream",
     "text": [
      "Saving evaluation results to /home/22489437/Documents/GitHub/MTDSim/experiments/experimental_data/results/epsilon_0.6_decay_0.99.csv\n"
     ]
    },
    {
     "name": "stderr",
     "output_type": "stream",
     "text": [
      "Compiled the loaded model, but the compiled metrics have yet to be built. `model.compile_metrics` will be empty until you train or evaluate the model.\n"
     ]
    },
    {
     "name": "stdout",
     "output_type": "stream",
     "text": [
      "{'CompleteTopologyShuffle': 10, 'IPShuffle': 12, 'OSDiversity': 16, 'ServiceDiversity': 4}\n",
      "Saving evaluation results to /home/22489437/Documents/GitHub/MTDSim/experiments/experimental_data/results/epsilon_0.6_decay_0.99.csv\n"
     ]
    },
    {
     "name": "stderr",
     "output_type": "stream",
     "text": [
      "Compiled the loaded model, but the compiled metrics have yet to be built. `model.compile_metrics` will be empty until you train or evaluate the model.\n"
     ]
    },
    {
     "name": "stdout",
     "output_type": "stream",
     "text": [
      "{'CompleteTopologyShuffle': 10, 'IPShuffle': 14, 'OSDiversity': 10, 'ServiceDiversity': 8}\n",
      "Saving evaluation results to /home/22489437/Documents/GitHub/MTDSim/experiments/experimental_data/results/epsilon_0.6_decay_0.99.csv\n"
     ]
    },
    {
     "name": "stderr",
     "output_type": "stream",
     "text": [
      "Compiled the loaded model, but the compiled metrics have yet to be built. `model.compile_metrics` will be empty until you train or evaluate the model.\n"
     ]
    },
    {
     "name": "stdout",
     "output_type": "stream",
     "text": [
      "{'CompleteTopologyShuffle': 14, 'IPShuffle': 8, 'OSDiversity': 8, 'ServiceDiversity': 6}\n",
      "Saving evaluation results to /home/22489437/Documents/GitHub/MTDSim/experiments/experimental_data/results/epsilon_0.6_decay_0.99.csv\n",
      "{'CompleteTopologyShuffle': 14, 'IPShuffle': 14, 'OSDiversity': 6, 'ServiceDiversity': 10}\n"
     ]
    },
    {
     "name": "stderr",
     "output_type": "stream",
     "text": [
      "Compiled the loaded model, but the compiled metrics have yet to be built. `model.compile_metrics` will be empty until you train or evaluate the model.\n"
     ]
    },
    {
     "name": "stdout",
     "output_type": "stream",
     "text": [
      "Saving evaluation results to /home/22489437/Documents/GitHub/MTDSim/experiments/experimental_data/results/epsilon_0.6_decay_0.99.csv\n"
     ]
    },
    {
     "name": "stderr",
     "output_type": "stream",
     "text": [
      "Compiled the loaded model, but the compiled metrics have yet to be built. `model.compile_metrics` will be empty until you train or evaluate the model.\n"
     ]
    },
    {
     "name": "stdout",
     "output_type": "stream",
     "text": [
      "{'CompleteTopologyShuffle': 16, 'IPShuffle': 18, 'OSDiversity': 4, 'ServiceDiversity': 10}\n",
      "Saving evaluation results to /home/22489437/Documents/GitHub/MTDSim/experiments/experimental_data/results/epsilon_0.6_decay_0.99.csv\n"
     ]
    },
    {
     "name": "stderr",
     "output_type": "stream",
     "text": [
      "Compiled the loaded model, but the compiled metrics have yet to be built. `model.compile_metrics` will be empty until you train or evaluate the model.\n"
     ]
    },
    {
     "name": "stdout",
     "output_type": "stream",
     "text": [
      "{'CompleteTopologyShuffle': 8, 'IPShuffle': 12, 'OSDiversity': 6, 'ServiceDiversity': 12}\n",
      "{'CompleteTopologyShuffle': 10, 'IPShuffle': 10, 'OSDiversity': 10, 'ServiceDiversity': 8}\n",
      "Saving evaluation results to /home/22489437/Documents/GitHub/MTDSim/experiments/experimental_data/results/epsilon_0.6_decay_0.99.csv\n",
      "Saving evaluation results to /home/22489437/Documents/GitHub/MTDSim/experiments/experimental_data/results/epsilon_0.6_decay_0.99.csv\n"
     ]
    },
    {
     "name": "stderr",
     "output_type": "stream",
     "text": [
      "Compiled the loaded model, but the compiled metrics have yet to be built. `model.compile_metrics` will be empty until you train or evaluate the model.\n",
      "Compiled the loaded model, but the compiled metrics have yet to be built. `model.compile_metrics` will be empty until you train or evaluate the model.\n"
     ]
    },
    {
     "name": "stdout",
     "output_type": "stream",
     "text": [
      "{'CompleteTopologyShuffle': 6, 'IPShuffle': 10, 'OSDiversity': 10, 'ServiceDiversity': 8}\n",
      "Saving evaluation results to /home/22489437/Documents/GitHub/MTDSim/experiments/experimental_data/results/epsilon_0.6_decay_0.99.csv\n"
     ]
    },
    {
     "name": "stderr",
     "output_type": "stream",
     "text": [
      "Compiled the loaded model, but the compiled metrics have yet to be built. `model.compile_metrics` will be empty until you train or evaluate the model.\n"
     ]
    },
    {
     "name": "stdout",
     "output_type": "stream",
     "text": [
      "{'CompleteTopologyShuffle': 10, 'IPShuffle': 16, 'OSDiversity': 12, 'ServiceDiversity': 6}\n",
      "{'CompleteTopologyShuffle': 16, 'IPShuffle': 10, 'OSDiversity': 16, 'ServiceDiversity': 10}\n",
      "Saving evaluation results to /home/22489437/Documents/GitHub/MTDSim/experiments/experimental_data/results/epsilon_0.6_decay_0.99.csv\n",
      "Saving evaluation results to /home/22489437/Documents/GitHub/MTDSim/experiments/experimental_data/results/epsilon_0.6_decay_0.99.csv\n",
      "{'CompleteTopologyShuffle': 8, 'IPShuffle': 8, 'OSDiversity': 16, 'ServiceDiversity': 10}\n"
     ]
    },
    {
     "name": "stderr",
     "output_type": "stream",
     "text": [
      "Compiled the loaded model, but the compiled metrics have yet to be built. `model.compile_metrics` will be empty until you train or evaluate the model.\n",
      "Compiled the loaded model, but the compiled metrics have yet to be built. `model.compile_metrics` will be empty until you train or evaluate the model.\n"
     ]
    },
    {
     "name": "stdout",
     "output_type": "stream",
     "text": [
      "Saving evaluation results to /home/22489437/Documents/GitHub/MTDSim/experiments/experimental_data/results/epsilon_0.6_decay_0.99.csv\n"
     ]
    },
    {
     "name": "stderr",
     "output_type": "stream",
     "text": [
      "Compiled the loaded model, but the compiled metrics have yet to be built. `model.compile_metrics` will be empty until you train or evaluate the model.\n"
     ]
    },
    {
     "name": "stdout",
     "output_type": "stream",
     "text": [
      "{'CompleteTopologyShuffle': 10, 'IPShuffle': 6, 'OSDiversity': 4, 'ServiceDiversity': 14}\n",
      "Saving evaluation results to /home/22489437/Documents/GitHub/MTDSim/experiments/experimental_data/results/epsilon_0.6_decay_0.99.csv\n"
     ]
    },
    {
     "name": "stderr",
     "output_type": "stream",
     "text": [
      "Compiled the loaded model, but the compiled metrics have yet to be built. `model.compile_metrics` will be empty until you train or evaluate the model.\n"
     ]
    },
    {
     "name": "stdout",
     "output_type": "stream",
     "text": [
      "{'CompleteTopologyShuffle': 8, 'IPShuffle': 12, 'OSDiversity': 8, 'ServiceDiversity': 12}\n",
      "Saving evaluation results to /home/22489437/Documents/GitHub/MTDSim/experiments/experimental_data/results/epsilon_0.6_decay_0.99.csv\n"
     ]
    },
    {
     "name": "stderr",
     "output_type": "stream",
     "text": [
      "Compiled the loaded model, but the compiled metrics have yet to be built. `model.compile_metrics` will be empty until you train or evaluate the model.\n"
     ]
    },
    {
     "name": "stdout",
     "output_type": "stream",
     "text": [
      "{'CompleteTopologyShuffle': 6, 'IPShuffle': 14, 'OSDiversity': 8, 'ServiceDiversity': 14}\n",
      "{'CompleteTopologyShuffle': 4, 'IPShuffle': 16, 'OSDiversity': 16, 'ServiceDiversity': 10}\n",
      "Saving evaluation results to /home/22489437/Documents/GitHub/MTDSim/experiments/experimental_data/results/epsilon_0.6_decay_0.99.csv\n",
      "Saving evaluation results to /home/22489437/Documents/GitHub/MTDSim/experiments/experimental_data/results/epsilon_0.6_decay_0.99.csv\n"
     ]
    },
    {
     "name": "stderr",
     "output_type": "stream",
     "text": [
      "Compiled the loaded model, but the compiled metrics have yet to be built. `model.compile_metrics` will be empty until you train or evaluate the model.\n",
      "Compiled the loaded model, but the compiled metrics have yet to be built. `model.compile_metrics` will be empty until you train or evaluate the model.\n"
     ]
    },
    {
     "name": "stdout",
     "output_type": "stream",
     "text": [
      "{'CompleteTopologyShuffle': 12, 'IPShuffle': 8, 'OSDiversity': 12, 'ServiceDiversity': 14}\n",
      "Saving evaluation results to /home/22489437/Documents/GitHub/MTDSim/experiments/experimental_data/results/epsilon_0.6_decay_0.99.csv\n"
     ]
    },
    {
     "name": "stderr",
     "output_type": "stream",
     "text": [
      "Compiled the loaded model, but the compiled metrics have yet to be built. `model.compile_metrics` will be empty until you train or evaluate the model.\n"
     ]
    },
    {
     "name": "stdout",
     "output_type": "stream",
     "text": [
      "{'CompleteTopologyShuffle': 8, 'IPShuffle': 6, 'OSDiversity': 12, 'ServiceDiversity': 12}\n",
      "Saving evaluation results to /home/22489437/Documents/GitHub/MTDSim/experiments/experimental_data/results/epsilon_0.6_decay_0.99.csv\n",
      "{'CompleteTopologyShuffle': 16, 'IPShuffle': 10, 'OSDiversity': 4, 'ServiceDiversity': 6}\n",
      "Saving evaluation results to /home/22489437/Documents/GitHub/MTDSim/experiments/experimental_data/results/epsilon_0.6_decay_0.99.csv\n",
      "{'CompleteTopologyShuffle': 6, 'IPShuffle': 8, 'OSDiversity': 10, 'ServiceDiversity': 12}\n",
      "Saving evaluation results to /home/22489437/Documents/GitHub/MTDSim/experiments/experimental_data/results/epsilon_0.6_decay_0.99.csv\n",
      "{'CompleteTopologyShuffle': 6, 'IPShuffle': 16, 'OSDiversity': 8, 'ServiceDiversity': 8}\n",
      "Saving evaluation results to /home/22489437/Documents/GitHub/MTDSim/experiments/experimental_data/results/epsilon_0.6_decay_0.99.csv\n",
      "{'CompleteTopologyShuffle': 8, 'IPShuffle': 4, 'OSDiversity': 4, 'ServiceDiversity': 14}\n",
      "Saving evaluation results to /home/22489437/Documents/GitHub/MTDSim/experiments/experimental_data/results/epsilon_0.6_decay_0.99.csv\n",
      "{'CompleteTopologyShuffle': 4, 'IPShuffle': 8, 'OSDiversity': 12, 'ServiceDiversity': 10}\n",
      "Saving evaluation results to /home/22489437/Documents/GitHub/MTDSim/experiments/experimental_data/results/epsilon_0.6_decay_0.99.csv\n",
      "{'CompleteTopologyShuffle': 6, 'IPShuffle': 4, 'OSDiversity': 10, 'ServiceDiversity': 8}\n",
      "Saving evaluation results to /home/22489437/Documents/GitHub/MTDSim/experiments/experimental_data/results/epsilon_0.6_decay_0.99.csv\n",
      "{'CompleteTopologyShuffle': 14, 'IPShuffle': 6, 'OSDiversity': 8, 'ServiceDiversity': 10}\n",
      "Saving evaluation results to /home/22489437/Documents/GitHub/MTDSim/experiments/experimental_data/results/epsilon_0.6_decay_0.99.csv\n",
      "{'CompleteTopologyShuffle': 6, 'IPShuffle': 16, 'OSDiversity': 8, 'ServiceDiversity': 8}\n",
      "Saving evaluation results to /home/22489437/Documents/GitHub/MTDSim/experiments/experimental_data/results/epsilon_0.6_decay_0.99.csv\n",
      "{'CompleteTopologyShuffle': 12, 'IPShuffle': 6, 'OSDiversity': 8, 'ServiceDiversity': 10}\n",
      "{'CompleteTopologyShuffle': 8, 'IPShuffle': 14, 'OSDiversity': 14, 'ServiceDiversity': 8}\n",
      "Saving evaluation results to /home/22489437/Documents/GitHub/MTDSim/experiments/experimental_data/results/epsilon_0.6_decay_0.99.csv\n",
      "Saving evaluation results to /home/22489437/Documents/GitHub/MTDSim/experiments/experimental_data/results/epsilon_0.6_decay_0.99.csv\n",
      "{'CompleteTopologyShuffle': 8, 'IPShuffle': 8, 'OSDiversity': 16, 'ServiceDiversity': 18}\n",
      "Saving evaluation results to /home/22489437/Documents/GitHub/MTDSim/experiments/experimental_data/results/epsilon_0.6_decay_0.99.csv\n",
      "{'CompleteTopologyShuffle': 10, 'IPShuffle': 12, 'OSDiversity': 4, 'ServiceDiversity': 12}\n",
      "Saving evaluation results to /home/22489437/Documents/GitHub/MTDSim/experiments/experimental_data/results/epsilon_0.6_decay_0.99.csv\n",
      "{'CompleteTopologyShuffle': 14, 'IPShuffle': 12, 'OSDiversity': 6, 'ServiceDiversity': 4}\n",
      "Saving evaluation results to /home/22489437/Documents/GitHub/MTDSim/experiments/experimental_data/results/epsilon_0.6_decay_0.99.csv\n",
      "{'CompleteTopologyShuffle': 14, 'IPShuffle': 20, 'OSDiversity': 4, 'ServiceDiversity': 10}\n",
      "{'CompleteTopologyShuffle': 6, 'IPShuffle': 10, 'OSDiversity': 14, 'ServiceDiversity': 12}\n",
      "Saving evaluation results to /home/22489437/Documents/GitHub/MTDSim/experiments/experimental_data/results/epsilon_0.6_decay_0.99.csv\n",
      "Saving evaluation results to /home/22489437/Documents/GitHub/MTDSim/experiments/experimental_data/results/epsilon_0.6_decay_0.99.csv\n",
      "{'CompleteTopologyShuffle': 8, 'IPShuffle': 20, 'OSDiversity': 6, 'ServiceDiversity': 10}\n",
      "Saving evaluation results to /home/22489437/Documents/GitHub/MTDSim/experiments/experimental_data/results/epsilon_0.6_decay_0.99.csv\n",
      "{'CompleteTopologyShuffle': 8, 'IPShuffle': 4, 'OSDiversity': 12, 'ServiceDiversity': 8}\n",
      "Saving evaluation results to /home/22489437/Documents/GitHub/MTDSim/experiments/experimental_data/results/epsilon_0.6_decay_0.99.csv\n",
      "{'CompleteTopologyShuffle': 4, 'IPShuffle': 6, 'OSDiversity': 12, 'ServiceDiversity': 14}\n",
      "{'CompleteTopologyShuffle': 8, 'IPShuffle': 24, 'OSDiversity': 6, 'ServiceDiversity': 16}\n",
      "Saving evaluation results to /home/22489437/Documents/GitHub/MTDSim/experiments/experimental_data/results/epsilon_0.6_decay_0.99.csv\n",
      "Saving evaluation results to /home/22489437/Documents/GitHub/MTDSim/experiments/experimental_data/results/epsilon_0.6_decay_0.99.csv\n",
      "{'CompleteTopologyShuffle': 6, 'IPShuffle': 18, 'OSDiversity': 10, 'ServiceDiversity': 10}\n",
      "Saving evaluation results to /home/22489437/Documents/GitHub/MTDSim/experiments/experimental_data/results/epsilon_0.6_decay_0.99.csv\n",
      "{'CompleteTopologyShuffle': 12, 'IPShuffle': 6, 'OSDiversity': 22, 'ServiceDiversity': 6}\n",
      "Saving evaluation results to /home/22489437/Documents/GitHub/MTDSim/experiments/experimental_data/results/epsilon_0.6_decay_0.99.csv\n",
      "{'CompleteTopologyShuffle': 8, 'IPShuffle': 8, 'OSDiversity': 16, 'ServiceDiversity': 10}\n",
      "Saving evaluation results to /home/22489437/Documents/GitHub/MTDSim/experiments/experimental_data/results/epsilon_0.6_decay_0.99.csv\n",
      "{'CompleteTopologyShuffle': 8, 'IPShuffle': 12, 'OSDiversity': 18, 'ServiceDiversity': 6}\n",
      "Saving evaluation results to /home/22489437/Documents/GitHub/MTDSim/experiments/experimental_data/results/epsilon_0.6_decay_0.99.csv\n",
      "Running experiments for model epsilon_0.6_decay_0.995\n",
      "Trial_ 0\n",
      "Trial_ 10\n",
      "Trial_ 20\n",
      "Trial_ 30\n",
      "Trial_ 40\n",
      "Trial_ 50\n",
      "Trial_ 60\n",
      "Trial_ 70\n",
      "Trial_ 80\n",
      "Trial_ 90\n"
     ]
    },
    {
     "name": "stderr",
     "output_type": "stream",
     "text": [
      "Compiled the loaded model, but the compiled metrics have yet to be built. `model.compile_metrics` will be empty until you train or evaluate the model.\n",
      "Compiled the loaded model, but the compiled metrics have yet to be built. `model.compile_metrics` will be empty until you train or evaluate the model.\n",
      "Compiled the loaded model, but the compiled metrics have yet to be built. `model.compile_metrics` will be empty until you train or evaluate the model.\n",
      "Compiled the loaded model, but the compiled metrics have yet to be built. `model.compile_metrics` will be empty until you train or evaluate the model.\n",
      "Compiled the loaded model, but the compiled metrics have yet to be built. `model.compile_metrics` will be empty until you train or evaluate the model.\n",
      "Compiled the loaded model, but the compiled metrics have yet to be built. `model.compile_metrics` will be empty until you train or evaluate the model.\n",
      "Compiled the loaded model, but the compiled metrics have yet to be built. `model.compile_metrics` will be empty until you train or evaluate the model.\n",
      "Compiled the loaded model, but the compiled metrics have yet to be built. `model.compile_metrics` will be empty until you train or evaluate the model.\n",
      "Compiled the loaded model, but the compiled metrics have yet to be built. `model.compile_metrics` will be empty until you train or evaluate the model.\n",
      "Compiled the loaded model, but the compiled metrics have yet to be built. `model.compile_metrics` will be empty until you train or evaluate the model.\n",
      "Compiled the loaded model, but the compiled metrics have yet to be built. `model.compile_metrics` will be empty until you train or evaluate the model.\n",
      "Compiled the loaded model, but the compiled metrics have yet to be built. `model.compile_metrics` will be empty until you train or evaluate the model.\n",
      "Compiled the loaded model, but the compiled metrics have yet to be built. `model.compile_metrics` will be empty until you train or evaluate the model.\n",
      "Compiled the loaded model, but the compiled metrics have yet to be built. `model.compile_metrics` will be empty until you train or evaluate the model.\n",
      "Compiled the loaded model, but the compiled metrics have yet to be built. `model.compile_metrics` will be empty until you train or evaluate the model.\n",
      "Compiled the loaded model, but the compiled metrics have yet to be built. `model.compile_metrics` will be empty until you train or evaluate the model.\n",
      "Compiled the loaded model, but the compiled metrics have yet to be built. `model.compile_metrics` will be empty until you train or evaluate the model.\n",
      "Compiled the loaded model, but the compiled metrics have yet to be built. `model.compile_metrics` will be empty until you train or evaluate the model.\n",
      "Compiled the loaded model, but the compiled metrics have yet to be built. `model.compile_metrics` will be empty until you train or evaluate the model.\n",
      "Compiled the loaded model, but the compiled metrics have yet to be built. `model.compile_metrics` will be empty until you train or evaluate the model.\n",
      "Compiled the loaded model, but the compiled metrics have yet to be built. `model.compile_metrics` will be empty until you train or evaluate the model.\n",
      "Compiled the loaded model, but the compiled metrics have yet to be built. `model.compile_metrics` will be empty until you train or evaluate the model.\n",
      "Compiled the loaded model, but the compiled metrics have yet to be built. `model.compile_metrics` will be empty until you train or evaluate the model.\n",
      "Compiled the loaded model, but the compiled metrics have yet to be built. `model.compile_metrics` will be empty until you train or evaluate the model.\n"
     ]
    },
    {
     "name": "stdout",
     "output_type": "stream",
     "text": [
      "{'CompleteTopologyShuffle': 8, 'IPShuffle': 8, 'OSDiversity': 0, 'ServiceDiversity': 14}\n",
      "Saving evaluation results to /home/22489437/Documents/GitHub/MTDSim/experiments/experimental_data/results/epsilon_0.6_decay_0.995.csv\n"
     ]
    },
    {
     "name": "stderr",
     "output_type": "stream",
     "text": [
      "Compiled the loaded model, but the compiled metrics have yet to be built. `model.compile_metrics` will be empty until you train or evaluate the model.\n"
     ]
    },
    {
     "name": "stdout",
     "output_type": "stream",
     "text": [
      "{'CompleteTopologyShuffle': 10, 'IPShuffle': 4, 'OSDiversity': 10, 'ServiceDiversity': 16}\n",
      "Saving evaluation results to /home/22489437/Documents/GitHub/MTDSim/experiments/experimental_data/results/epsilon_0.6_decay_0.995.csv\n"
     ]
    },
    {
     "name": "stderr",
     "output_type": "stream",
     "text": [
      "Compiled the loaded model, but the compiled metrics have yet to be built. `model.compile_metrics` will be empty until you train or evaluate the model.\n"
     ]
    },
    {
     "name": "stdout",
     "output_type": "stream",
     "text": [
      "{'CompleteTopologyShuffle': 18, 'IPShuffle': 6, 'OSDiversity': 8, 'ServiceDiversity': 6}\n",
      "Saving evaluation results to /home/22489437/Documents/GitHub/MTDSim/experiments/experimental_data/results/epsilon_0.6_decay_0.995.csv\n"
     ]
    },
    {
     "name": "stderr",
     "output_type": "stream",
     "text": [
      "Compiled the loaded model, but the compiled metrics have yet to be built. `model.compile_metrics` will be empty until you train or evaluate the model.\n"
     ]
    },
    {
     "name": "stdout",
     "output_type": "stream",
     "text": [
      "{'CompleteTopologyShuffle': 12, 'IPShuffle': 8, 'OSDiversity': 8, 'ServiceDiversity': 8}\n",
      "{'CompleteTopologyShuffle': 14, 'IPShuffle': 10, 'OSDiversity': 10, 'ServiceDiversity': 8}\n",
      "Saving evaluation results to /home/22489437/Documents/GitHub/MTDSim/experiments/experimental_data/results/epsilon_0.6_decay_0.995.csv\n"
     ]
    },
    {
     "name": "stderr",
     "output_type": "stream",
     "text": [
      "Compiled the loaded model, but the compiled metrics have yet to be built. `model.compile_metrics` will be empty until you train or evaluate the model.\n"
     ]
    },
    {
     "name": "stdout",
     "output_type": "stream",
     "text": [
      "Saving evaluation results to /home/22489437/Documents/GitHub/MTDSim/experiments/experimental_data/results/epsilon_0.6_decay_0.995.csv\n"
     ]
    },
    {
     "name": "stderr",
     "output_type": "stream",
     "text": [
      "Compiled the loaded model, but the compiled metrics have yet to be built. `model.compile_metrics` will be empty until you train or evaluate the model.\n"
     ]
    },
    {
     "name": "stdout",
     "output_type": "stream",
     "text": [
      "{'CompleteTopologyShuffle': 18, 'IPShuffle': 4, 'OSDiversity': 6, 'ServiceDiversity': 14}\n",
      "Saving evaluation results to /home/22489437/Documents/GitHub/MTDSim/experiments/experimental_data/results/epsilon_0.6_decay_0.995.csv\n"
     ]
    },
    {
     "name": "stderr",
     "output_type": "stream",
     "text": [
      "Compiled the loaded model, but the compiled metrics have yet to be built. `model.compile_metrics` will be empty until you train or evaluate the model.\n"
     ]
    },
    {
     "name": "stdout",
     "output_type": "stream",
     "text": [
      "{'CompleteTopologyShuffle': 12, 'IPShuffle': 12, 'OSDiversity': 8, 'ServiceDiversity': 18}\n",
      "Saving evaluation results to /home/22489437/Documents/GitHub/MTDSim/experiments/experimental_data/results/epsilon_0.6_decay_0.995.csv\n"
     ]
    },
    {
     "name": "stderr",
     "output_type": "stream",
     "text": [
      "Compiled the loaded model, but the compiled metrics have yet to be built. `model.compile_metrics` will be empty until you train or evaluate the model.\n"
     ]
    },
    {
     "name": "stdout",
     "output_type": "stream",
     "text": [
      "{'CompleteTopologyShuffle': 8, 'IPShuffle': 8, 'OSDiversity': 4, 'ServiceDiversity': 18}\n",
      "{'CompleteTopologyShuffle': 12, 'IPShuffle': 10, 'OSDiversity': 12, 'ServiceDiversity': 8}\n",
      "Saving evaluation results to /home/22489437/Documents/GitHub/MTDSim/experiments/experimental_data/results/epsilon_0.6_decay_0.995.csv\n",
      "Saving evaluation results to /home/22489437/Documents/GitHub/MTDSim/experiments/experimental_data/results/epsilon_0.6_decay_0.995.csv\n"
     ]
    },
    {
     "name": "stderr",
     "output_type": "stream",
     "text": [
      "Compiled the loaded model, but the compiled metrics have yet to be built. `model.compile_metrics` will be empty until you train or evaluate the model.\n",
      "Compiled the loaded model, but the compiled metrics have yet to be built. `model.compile_metrics` will be empty until you train or evaluate the model.\n"
     ]
    },
    {
     "name": "stdout",
     "output_type": "stream",
     "text": [
      "{'CompleteTopologyShuffle': 12, 'IPShuffle': 10, 'OSDiversity': 12, 'ServiceDiversity': 6}\n",
      "Saving evaluation results to /home/22489437/Documents/GitHub/MTDSim/experiments/experimental_data/results/epsilon_0.6_decay_0.995.csv\n",
      "{'CompleteTopologyShuffle': 12, 'IPShuffle': 12, 'OSDiversity': 18, 'ServiceDiversity': 10}\n"
     ]
    },
    {
     "name": "stderr",
     "output_type": "stream",
     "text": [
      "Compiled the loaded model, but the compiled metrics have yet to be built. `model.compile_metrics` will be empty until you train or evaluate the model.\n"
     ]
    },
    {
     "name": "stdout",
     "output_type": "stream",
     "text": [
      "{'CompleteTopologyShuffle': 8, 'IPShuffle': 4, 'OSDiversity': 12, 'ServiceDiversity': 16}\n",
      "Saving evaluation results to /home/22489437/Documents/GitHub/MTDSim/experiments/experimental_data/results/epsilon_0.6_decay_0.995.csv{'CompleteTopologyShuffle': 8, 'IPShuffle': 8, 'OSDiversity': 8, 'ServiceDiversity': 12}\n",
      "\n",
      "Saving evaluation results to /home/22489437/Documents/GitHub/MTDSim/experiments/experimental_data/results/epsilon_0.6_decay_0.995.csv\n"
     ]
    },
    {
     "name": "stderr",
     "output_type": "stream",
     "text": [
      "Compiled the loaded model, but the compiled metrics have yet to be built. `model.compile_metrics` will be empty until you train or evaluate the model.\n"
     ]
    },
    {
     "name": "stdout",
     "output_type": "stream",
     "text": [
      "Saving evaluation results to /home/22489437/Documents/GitHub/MTDSim/experiments/experimental_data/results/epsilon_0.6_decay_0.995.csv\n"
     ]
    },
    {
     "name": "stderr",
     "output_type": "stream",
     "text": [
      "Compiled the loaded model, but the compiled metrics have yet to be built. `model.compile_metrics` will be empty until you train or evaluate the model.\n",
      "Compiled the loaded model, but the compiled metrics have yet to be built. `model.compile_metrics` will be empty until you train or evaluate the model.\n"
     ]
    },
    {
     "name": "stdout",
     "output_type": "stream",
     "text": [
      "{'CompleteTopologyShuffle': 8, 'IPShuffle': 8, 'OSDiversity': 12, 'ServiceDiversity': 10}\n",
      "Saving evaluation results to /home/22489437/Documents/GitHub/MTDSim/experiments/experimental_data/results/epsilon_0.6_decay_0.995.csv{'CompleteTopologyShuffle': 10, 'IPShuffle': 4, 'OSDiversity': 12, 'ServiceDiversity': 4}\n",
      "\n"
     ]
    },
    {
     "name": "stderr",
     "output_type": "stream",
     "text": [
      "Compiled the loaded model, but the compiled metrics have yet to be built. `model.compile_metrics` will be empty until you train or evaluate the model.\n"
     ]
    },
    {
     "name": "stdout",
     "output_type": "stream",
     "text": [
      "Saving evaluation results to /home/22489437/Documents/GitHub/MTDSim/experiments/experimental_data/results/epsilon_0.6_decay_0.995.csv\n"
     ]
    },
    {
     "name": "stderr",
     "output_type": "stream",
     "text": [
      "Compiled the loaded model, but the compiled metrics have yet to be built. `model.compile_metrics` will be empty until you train or evaluate the model.\n"
     ]
    },
    {
     "name": "stdout",
     "output_type": "stream",
     "text": [
      "{'CompleteTopologyShuffle': 20, 'IPShuffle': 16, 'OSDiversity': 6, 'ServiceDiversity': 6}\n",
      "Saving evaluation results to /home/22489437/Documents/GitHub/MTDSim/experiments/experimental_data/results/epsilon_0.6_decay_0.995.csv\n"
     ]
    },
    {
     "name": "stderr",
     "output_type": "stream",
     "text": [
      "Compiled the loaded model, but the compiled metrics have yet to be built. `model.compile_metrics` will be empty until you train or evaluate the model.\n"
     ]
    },
    {
     "name": "stdout",
     "output_type": "stream",
     "text": [
      "{'CompleteTopologyShuffle': 12, 'IPShuffle': 10, 'OSDiversity': 14, 'ServiceDiversity': 12}\n",
      "Saving evaluation results to /home/22489437/Documents/GitHub/MTDSim/experiments/experimental_data/results/epsilon_0.6_decay_0.995.csv\n"
     ]
    },
    {
     "name": "stderr",
     "output_type": "stream",
     "text": [
      "Compiled the loaded model, but the compiled metrics have yet to be built. `model.compile_metrics` will be empty until you train or evaluate the model.\n"
     ]
    },
    {
     "name": "stdout",
     "output_type": "stream",
     "text": [
      "{'CompleteTopologyShuffle': 16, 'IPShuffle': 8, 'OSDiversity': 8, 'ServiceDiversity': 8}\n",
      "Saving evaluation results to /home/22489437/Documents/GitHub/MTDSim/experiments/experimental_data/results/epsilon_0.6_decay_0.995.csv\n"
     ]
    },
    {
     "name": "stderr",
     "output_type": "stream",
     "text": [
      "Compiled the loaded model, but the compiled metrics have yet to be built. `model.compile_metrics` will be empty until you train or evaluate the model.\n"
     ]
    },
    {
     "name": "stdout",
     "output_type": "stream",
     "text": [
      "{'CompleteTopologyShuffle': 4, 'IPShuffle': 10, 'OSDiversity': 8, 'ServiceDiversity': 12}\n",
      "Saving evaluation results to /home/22489437/Documents/GitHub/MTDSim/experiments/experimental_data/results/epsilon_0.6_decay_0.995.csv\n",
      "{'CompleteTopologyShuffle': 2, 'IPShuffle': 14, 'OSDiversity': 14, 'ServiceDiversity': 14}\n"
     ]
    },
    {
     "name": "stderr",
     "output_type": "stream",
     "text": [
      "Compiled the loaded model, but the compiled metrics have yet to be built. `model.compile_metrics` will be empty until you train or evaluate the model.\n"
     ]
    },
    {
     "name": "stdout",
     "output_type": "stream",
     "text": [
      "Saving evaluation results to /home/22489437/Documents/GitHub/MTDSim/experiments/experimental_data/results/epsilon_0.6_decay_0.995.csv\n"
     ]
    },
    {
     "name": "stderr",
     "output_type": "stream",
     "text": [
      "Compiled the loaded model, but the compiled metrics have yet to be built. `model.compile_metrics` will be empty until you train or evaluate the model.\n"
     ]
    },
    {
     "name": "stdout",
     "output_type": "stream",
     "text": [
      "{'CompleteTopologyShuffle': 8, 'IPShuffle': 10, 'OSDiversity': 14, 'ServiceDiversity': 8}\n",
      "Saving evaluation results to /home/22489437/Documents/GitHub/MTDSim/experiments/experimental_data/results/epsilon_0.6_decay_0.995.csv\n"
     ]
    },
    {
     "name": "stderr",
     "output_type": "stream",
     "text": [
      "Compiled the loaded model, but the compiled metrics have yet to be built. `model.compile_metrics` will be empty until you train or evaluate the model.\n"
     ]
    },
    {
     "name": "stdout",
     "output_type": "stream",
     "text": [
      "{'CompleteTopologyShuffle': 14, 'IPShuffle': 12, 'OSDiversity': 6, 'ServiceDiversity': 10}\n",
      "Saving evaluation results to /home/22489437/Documents/GitHub/MTDSim/experiments/experimental_data/results/epsilon_0.6_decay_0.995.csv\n"
     ]
    },
    {
     "name": "stderr",
     "output_type": "stream",
     "text": [
      "Compiled the loaded model, but the compiled metrics have yet to be built. `model.compile_metrics` will be empty until you train or evaluate the model.\n"
     ]
    },
    {
     "name": "stdout",
     "output_type": "stream",
     "text": [
      "{'CompleteTopologyShuffle': 20, 'IPShuffle': 10, 'OSDiversity': 4, 'ServiceDiversity': 14}\n",
      "Saving evaluation results to /home/22489437/Documents/GitHub/MTDSim/experiments/experimental_data/results/epsilon_0.6_decay_0.995.csv\n"
     ]
    },
    {
     "name": "stderr",
     "output_type": "stream",
     "text": [
      "Compiled the loaded model, but the compiled metrics have yet to be built. `model.compile_metrics` will be empty until you train or evaluate the model.\n"
     ]
    },
    {
     "name": "stdout",
     "output_type": "stream",
     "text": [
      "{'CompleteTopologyShuffle': 12, 'IPShuffle': 8, 'OSDiversity': 2, 'ServiceDiversity': 16}\n",
      "{'CompleteTopologyShuffle': 4, 'IPShuffle': 8, 'OSDiversity': 14, 'ServiceDiversity': 14}\n",
      "Saving evaluation results to /home/22489437/Documents/GitHub/MTDSim/experiments/experimental_data/results/epsilon_0.6_decay_0.995.csv\n",
      "Saving evaluation results to /home/22489437/Documents/GitHub/MTDSim/experiments/experimental_data/results/epsilon_0.6_decay_0.995.csv\n"
     ]
    },
    {
     "name": "stderr",
     "output_type": "stream",
     "text": [
      "Compiled the loaded model, but the compiled metrics have yet to be built. `model.compile_metrics` will be empty until you train or evaluate the model.\n",
      "Compiled the loaded model, but the compiled metrics have yet to be built. `model.compile_metrics` will be empty until you train or evaluate the model.\n"
     ]
    },
    {
     "name": "stdout",
     "output_type": "stream",
     "text": [
      "{'CompleteTopologyShuffle': 18, 'IPShuffle': 10, 'OSDiversity': 8, 'ServiceDiversity': 6}\n",
      "Saving evaluation results to /home/22489437/Documents/GitHub/MTDSim/experiments/experimental_data/results/epsilon_0.6_decay_0.995.csv\n"
     ]
    },
    {
     "name": "stderr",
     "output_type": "stream",
     "text": [
      "Compiled the loaded model, but the compiled metrics have yet to be built. `model.compile_metrics` will be empty until you train or evaluate the model.\n"
     ]
    },
    {
     "name": "stdout",
     "output_type": "stream",
     "text": [
      "{'CompleteTopologyShuffle': 16, 'IPShuffle': 8, 'OSDiversity': 8, 'ServiceDiversity': 4}\n",
      "Saving evaluation results to /home/22489437/Documents/GitHub/MTDSim/experiments/experimental_data/results/epsilon_0.6_decay_0.995.csv\n",
      "{'CompleteTopologyShuffle': 2, 'IPShuffle': 22, 'OSDiversity': 16, 'ServiceDiversity': 6}\n"
     ]
    },
    {
     "name": "stderr",
     "output_type": "stream",
     "text": [
      "Compiled the loaded model, but the compiled metrics have yet to be built. `model.compile_metrics` will be empty until you train or evaluate the model.\n"
     ]
    },
    {
     "name": "stdout",
     "output_type": "stream",
     "text": [
      "Saving evaluation results to /home/22489437/Documents/GitHub/MTDSim/experiments/experimental_data/results/epsilon_0.6_decay_0.995.csv\n"
     ]
    },
    {
     "name": "stderr",
     "output_type": "stream",
     "text": [
      "Compiled the loaded model, but the compiled metrics have yet to be built. `model.compile_metrics` will be empty until you train or evaluate the model.\n"
     ]
    },
    {
     "name": "stdout",
     "output_type": "stream",
     "text": [
      "{'CompleteTopologyShuffle': 8, 'IPShuffle': 10, 'OSDiversity': 10, 'ServiceDiversity': 12}\n",
      "{'CompleteTopologyShuffle': 10, 'IPShuffle': 10, 'OSDiversity': 20, 'ServiceDiversity': 4}\n",
      "Saving evaluation results to /home/22489437/Documents/GitHub/MTDSim/experiments/experimental_data/results/epsilon_0.6_decay_0.995.csv\n",
      "Saving evaluation results to /home/22489437/Documents/GitHub/MTDSim/experiments/experimental_data/results/epsilon_0.6_decay_0.995.csv\n"
     ]
    },
    {
     "name": "stderr",
     "output_type": "stream",
     "text": [
      "Compiled the loaded model, but the compiled metrics have yet to be built. `model.compile_metrics` will be empty until you train or evaluate the model.\n",
      "Compiled the loaded model, but the compiled metrics have yet to be built. `model.compile_metrics` will be empty until you train or evaluate the model.\n"
     ]
    },
    {
     "name": "stdout",
     "output_type": "stream",
     "text": [
      "{'CompleteTopologyShuffle': 18, 'IPShuffle': 6, 'OSDiversity': 2, 'ServiceDiversity': 6}\n",
      "Saving evaluation results to /home/22489437/Documents/GitHub/MTDSim/experiments/experimental_data/results/epsilon_0.6_decay_0.995.csv\n"
     ]
    },
    {
     "name": "stderr",
     "output_type": "stream",
     "text": [
      "Compiled the loaded model, but the compiled metrics have yet to be built. `model.compile_metrics` will be empty until you train or evaluate the model.\n"
     ]
    },
    {
     "name": "stdout",
     "output_type": "stream",
     "text": [
      "{'CompleteTopologyShuffle': 10, 'IPShuffle': 4, 'OSDiversity': 14, 'ServiceDiversity': 8}\n",
      "Saving evaluation results to /home/22489437/Documents/GitHub/MTDSim/experiments/experimental_data/results/epsilon_0.6_decay_0.995.csv\n"
     ]
    },
    {
     "name": "stderr",
     "output_type": "stream",
     "text": [
      "Compiled the loaded model, but the compiled metrics have yet to be built. `model.compile_metrics` will be empty until you train or evaluate the model.\n"
     ]
    },
    {
     "name": "stdout",
     "output_type": "stream",
     "text": [
      "{'CompleteTopologyShuffle': 16, 'IPShuffle': 8, 'OSDiversity': 16, 'ServiceDiversity': 8}\n",
      "Saving evaluation results to /home/22489437/Documents/GitHub/MTDSim/experiments/experimental_data/results/epsilon_0.6_decay_0.995.csv\n"
     ]
    },
    {
     "name": "stderr",
     "output_type": "stream",
     "text": [
      "Compiled the loaded model, but the compiled metrics have yet to be built. `model.compile_metrics` will be empty until you train or evaluate the model.\n"
     ]
    },
    {
     "name": "stdout",
     "output_type": "stream",
     "text": [
      "{'CompleteTopologyShuffle': 8, 'IPShuffle': 8, 'OSDiversity': 6, 'ServiceDiversity': 16}\n",
      "Saving evaluation results to /home/22489437/Documents/GitHub/MTDSim/experiments/experimental_data/results/epsilon_0.6_decay_0.995.csv\n",
      "{'CompleteTopologyShuffle': 6, 'IPShuffle': 6, 'OSDiversity': 18, 'ServiceDiversity': 14}\n",
      "{'CompleteTopologyShuffle': 16, 'IPShuffle': 4, 'OSDiversity': 10, 'ServiceDiversity': 12}\n"
     ]
    },
    {
     "name": "stderr",
     "output_type": "stream",
     "text": [
      "Compiled the loaded model, but the compiled metrics have yet to be built. `model.compile_metrics` will be empty until you train or evaluate the model.\n"
     ]
    },
    {
     "name": "stdout",
     "output_type": "stream",
     "text": [
      "Saving evaluation results to /home/22489437/Documents/GitHub/MTDSim/experiments/experimental_data/results/epsilon_0.6_decay_0.995.csv\n",
      "Saving evaluation results to /home/22489437/Documents/GitHub/MTDSim/experiments/experimental_data/results/epsilon_0.6_decay_0.995.csv\n"
     ]
    },
    {
     "name": "stderr",
     "output_type": "stream",
     "text": [
      "Compiled the loaded model, but the compiled metrics have yet to be built. `model.compile_metrics` will be empty until you train or evaluate the model.\n",
      "Compiled the loaded model, but the compiled metrics have yet to be built. `model.compile_metrics` will be empty until you train or evaluate the model.\n"
     ]
    },
    {
     "name": "stdout",
     "output_type": "stream",
     "text": [
      "{'CompleteTopologyShuffle': 12, 'IPShuffle': 14, 'OSDiversity': 10, 'ServiceDiversity': 8}\n",
      "{'CompleteTopologyShuffle': 16, 'IPShuffle': 6, 'OSDiversity': 10, 'ServiceDiversity': 12}\n",
      "Saving evaluation results to /home/22489437/Documents/GitHub/MTDSim/experiments/experimental_data/results/epsilon_0.6_decay_0.995.csv\n",
      "Saving evaluation results to /home/22489437/Documents/GitHub/MTDSim/experiments/experimental_data/results/epsilon_0.6_decay_0.995.csv\n"
     ]
    },
    {
     "name": "stderr",
     "output_type": "stream",
     "text": [
      "Compiled the loaded model, but the compiled metrics have yet to be built. `model.compile_metrics` will be empty until you train or evaluate the model.\n",
      "Compiled the loaded model, but the compiled metrics have yet to be built. `model.compile_metrics` will be empty until you train or evaluate the model.\n"
     ]
    },
    {
     "name": "stdout",
     "output_type": "stream",
     "text": [
      "{'CompleteTopologyShuffle': 16, 'IPShuffle': 2, 'OSDiversity': 8, 'ServiceDiversity': 10}\n",
      "Saving evaluation results to /home/22489437/Documents/GitHub/MTDSim/experiments/experimental_data/results/epsilon_0.6_decay_0.995.csv\n"
     ]
    },
    {
     "name": "stderr",
     "output_type": "stream",
     "text": [
      "Compiled the loaded model, but the compiled metrics have yet to be built. `model.compile_metrics` will be empty until you train or evaluate the model.\n"
     ]
    },
    {
     "name": "stdout",
     "output_type": "stream",
     "text": [
      "{'CompleteTopologyShuffle': 12, 'IPShuffle': 6, 'OSDiversity': 4, 'ServiceDiversity': 12}\n",
      "Saving evaluation results to /home/22489437/Documents/GitHub/MTDSim/experiments/experimental_data/results/epsilon_0.6_decay_0.995.csv\n"
     ]
    },
    {
     "name": "stderr",
     "output_type": "stream",
     "text": [
      "Compiled the loaded model, but the compiled metrics have yet to be built. `model.compile_metrics` will be empty until you train or evaluate the model.\n"
     ]
    },
    {
     "name": "stdout",
     "output_type": "stream",
     "text": [
      "{'CompleteTopologyShuffle': 0, 'IPShuffle': 12, 'OSDiversity': 8, 'ServiceDiversity': 16}\n",
      "Saving evaluation results to /home/22489437/Documents/GitHub/MTDSim/experiments/experimental_data/results/epsilon_0.6_decay_0.995.csv\n"
     ]
    },
    {
     "name": "stderr",
     "output_type": "stream",
     "text": [
      "Compiled the loaded model, but the compiled metrics have yet to be built. `model.compile_metrics` will be empty until you train or evaluate the model.\n"
     ]
    },
    {
     "name": "stdout",
     "output_type": "stream",
     "text": [
      "{'CompleteTopologyShuffle': 16, 'IPShuffle': 8, 'OSDiversity': 8, 'ServiceDiversity': 4}\n",
      "{'CompleteTopologyShuffle': 2, 'IPShuffle': 14, 'OSDiversity': 8, 'ServiceDiversity': 14}\n",
      "Saving evaluation results to /home/22489437/Documents/GitHub/MTDSim/experiments/experimental_data/results/epsilon_0.6_decay_0.995.csv\n",
      "Saving evaluation results to /home/22489437/Documents/GitHub/MTDSim/experiments/experimental_data/results/epsilon_0.6_decay_0.995.csv\n"
     ]
    },
    {
     "name": "stderr",
     "output_type": "stream",
     "text": [
      "Compiled the loaded model, but the compiled metrics have yet to be built. `model.compile_metrics` will be empty until you train or evaluate the model.\n",
      "Compiled the loaded model, but the compiled metrics have yet to be built. `model.compile_metrics` will be empty until you train or evaluate the model.\n"
     ]
    },
    {
     "name": "stdout",
     "output_type": "stream",
     "text": [
      "{'CompleteTopologyShuffle': 4, 'IPShuffle': 14, 'OSDiversity': 14, 'ServiceDiversity': 8}\n",
      "{'CompleteTopologyShuffle': 10, 'IPShuffle': 10, 'OSDiversity': 8, 'ServiceDiversity': 12}\n",
      "Saving evaluation results to /home/22489437/Documents/GitHub/MTDSim/experiments/experimental_data/results/epsilon_0.6_decay_0.995.csv\n",
      "Saving evaluation results to /home/22489437/Documents/GitHub/MTDSim/experiments/experimental_data/results/epsilon_0.6_decay_0.995.csv"
     ]
    },
    {
     "name": "stderr",
     "output_type": "stream",
     "text": [
      "Compiled the loaded model, but the compiled metrics have yet to be built. `model.compile_metrics` will be empty until you train or evaluate the model.\n"
     ]
    },
    {
     "name": "stdout",
     "output_type": "stream",
     "text": [
      "\n"
     ]
    },
    {
     "name": "stderr",
     "output_type": "stream",
     "text": [
      "Compiled the loaded model, but the compiled metrics have yet to be built. `model.compile_metrics` will be empty until you train or evaluate the model.\n"
     ]
    },
    {
     "name": "stdout",
     "output_type": "stream",
     "text": [
      "{'CompleteTopologyShuffle': 8, 'IPShuffle': 10, 'OSDiversity': 10, 'ServiceDiversity': 12}\n",
      "Saving evaluation results to /home/22489437/Documents/GitHub/MTDSim/experiments/experimental_data/results/epsilon_0.6_decay_0.995.csv\n"
     ]
    },
    {
     "name": "stderr",
     "output_type": "stream",
     "text": [
      "Compiled the loaded model, but the compiled metrics have yet to be built. `model.compile_metrics` will be empty until you train or evaluate the model.\n"
     ]
    },
    {
     "name": "stdout",
     "output_type": "stream",
     "text": [
      "{'CompleteTopologyShuffle': 12, 'IPShuffle': 14, 'OSDiversity': 10, 'ServiceDiversity': 6}\n",
      "Saving evaluation results to /home/22489437/Documents/GitHub/MTDSim/experiments/experimental_data/results/epsilon_0.6_decay_0.995.csv\n"
     ]
    },
    {
     "name": "stderr",
     "output_type": "stream",
     "text": [
      "Compiled the loaded model, but the compiled metrics have yet to be built. `model.compile_metrics` will be empty until you train or evaluate the model.\n"
     ]
    },
    {
     "name": "stdout",
     "output_type": "stream",
     "text": [
      "{'CompleteTopologyShuffle': 18, 'IPShuffle': 0, 'OSDiversity': 12, 'ServiceDiversity': 8}\n",
      "Saving evaluation results to /home/22489437/Documents/GitHub/MTDSim/experiments/experimental_data/results/epsilon_0.6_decay_0.995.csv\n",
      "{'CompleteTopologyShuffle': 6, 'IPShuffle': 12, 'OSDiversity': 8, 'ServiceDiversity': 8}\n"
     ]
    },
    {
     "name": "stderr",
     "output_type": "stream",
     "text": [
      "Compiled the loaded model, but the compiled metrics have yet to be built. `model.compile_metrics` will be empty until you train or evaluate the model.\n"
     ]
    },
    {
     "name": "stdout",
     "output_type": "stream",
     "text": [
      "Saving evaluation results to /home/22489437/Documents/GitHub/MTDSim/experiments/experimental_data/results/epsilon_0.6_decay_0.995.csv\n"
     ]
    },
    {
     "name": "stderr",
     "output_type": "stream",
     "text": [
      "Compiled the loaded model, but the compiled metrics have yet to be built. `model.compile_metrics` will be empty until you train or evaluate the model.\n"
     ]
    },
    {
     "name": "stdout",
     "output_type": "stream",
     "text": [
      "{'CompleteTopologyShuffle': 12, 'IPShuffle': 6, 'OSDiversity': 4, 'ServiceDiversity': 12}\n",
      "Saving evaluation results to /home/22489437/Documents/GitHub/MTDSim/experiments/experimental_data/results/epsilon_0.6_decay_0.995.csv\n"
     ]
    },
    {
     "name": "stderr",
     "output_type": "stream",
     "text": [
      "Compiled the loaded model, but the compiled metrics have yet to be built. `model.compile_metrics` will be empty until you train or evaluate the model.\n"
     ]
    },
    {
     "name": "stdout",
     "output_type": "stream",
     "text": [
      "{'CompleteTopologyShuffle': 12, 'IPShuffle': 4, 'OSDiversity': 14, 'ServiceDiversity': 18}\n",
      "Saving evaluation results to /home/22489437/Documents/GitHub/MTDSim/experiments/experimental_data/results/epsilon_0.6_decay_0.995.csv\n"
     ]
    },
    {
     "name": "stderr",
     "output_type": "stream",
     "text": [
      "Compiled the loaded model, but the compiled metrics have yet to be built. `model.compile_metrics` will be empty until you train or evaluate the model.\n"
     ]
    },
    {
     "name": "stdout",
     "output_type": "stream",
     "text": [
      "{'CompleteTopologyShuffle': 12, 'IPShuffle': 10, 'OSDiversity': 8, 'ServiceDiversity': 14}\n",
      "Saving evaluation results to /home/22489437/Documents/GitHub/MTDSim/experiments/experimental_data/results/epsilon_0.6_decay_0.995.csv\n"
     ]
    },
    {
     "name": "stderr",
     "output_type": "stream",
     "text": [
      "Compiled the loaded model, but the compiled metrics have yet to be built. `model.compile_metrics` will be empty until you train or evaluate the model.\n"
     ]
    },
    {
     "name": "stdout",
     "output_type": "stream",
     "text": [
      "{'CompleteTopologyShuffle': 10, 'IPShuffle': 8, 'OSDiversity': 10, 'ServiceDiversity': 10}\n",
      "Saving evaluation results to /home/22489437/Documents/GitHub/MTDSim/experiments/experimental_data/results/epsilon_0.6_decay_0.995.csv\n",
      "{'CompleteTopologyShuffle': 10, 'IPShuffle': 6, 'OSDiversity': 18, 'ServiceDiversity': 2}\n",
      "Saving evaluation results to /home/22489437/Documents/GitHub/MTDSim/experiments/experimental_data/results/epsilon_0.6_decay_0.995.csv\n"
     ]
    },
    {
     "name": "stderr",
     "output_type": "stream",
     "text": [
      "Compiled the loaded model, but the compiled metrics have yet to be built. `model.compile_metrics` will be empty until you train or evaluate the model.\n",
      "Compiled the loaded model, but the compiled metrics have yet to be built. `model.compile_metrics` will be empty until you train or evaluate the model.\n"
     ]
    },
    {
     "name": "stdout",
     "output_type": "stream",
     "text": [
      "{'CompleteTopologyShuffle': 4, 'IPShuffle': 10, 'OSDiversity': 12, 'ServiceDiversity': 10}\n",
      "Saving evaluation results to /home/22489437/Documents/GitHub/MTDSim/experiments/experimental_data/results/epsilon_0.6_decay_0.995.csv\n"
     ]
    },
    {
     "name": "stderr",
     "output_type": "stream",
     "text": [
      "Compiled the loaded model, but the compiled metrics have yet to be built. `model.compile_metrics` will be empty until you train or evaluate the model.\n"
     ]
    },
    {
     "name": "stdout",
     "output_type": "stream",
     "text": [
      "{'CompleteTopologyShuffle': 18, 'IPShuffle': 12, 'OSDiversity': 10, 'ServiceDiversity': 4}\n",
      "Saving evaluation results to /home/22489437/Documents/GitHub/MTDSim/experiments/experimental_data/results/epsilon_0.6_decay_0.995.csv\n"
     ]
    },
    {
     "name": "stderr",
     "output_type": "stream",
     "text": [
      "Compiled the loaded model, but the compiled metrics have yet to be built. `model.compile_metrics` will be empty until you train or evaluate the model.\n"
     ]
    },
    {
     "name": "stdout",
     "output_type": "stream",
     "text": [
      "{'CompleteTopologyShuffle': 12, 'IPShuffle': 10, 'OSDiversity': 4, 'ServiceDiversity': 12}\n",
      "Saving evaluation results to /home/22489437/Documents/GitHub/MTDSim/experiments/experimental_data/results/epsilon_0.6_decay_0.995.csv\n"
     ]
    },
    {
     "name": "stderr",
     "output_type": "stream",
     "text": [
      "Compiled the loaded model, but the compiled metrics have yet to be built. `model.compile_metrics` will be empty until you train or evaluate the model.\n"
     ]
    },
    {
     "name": "stdout",
     "output_type": "stream",
     "text": [
      "{'CompleteTopologyShuffle': 16, 'IPShuffle': 16, 'OSDiversity': 8, 'ServiceDiversity': 4}\n",
      "Saving evaluation results to /home/22489437/Documents/GitHub/MTDSim/experiments/experimental_data/results/epsilon_0.6_decay_0.995.csv\n"
     ]
    },
    {
     "name": "stderr",
     "output_type": "stream",
     "text": [
      "Compiled the loaded model, but the compiled metrics have yet to be built. `model.compile_metrics` will be empty until you train or evaluate the model.\n"
     ]
    },
    {
     "name": "stdout",
     "output_type": "stream",
     "text": [
      "{'CompleteTopologyShuffle': 10, 'IPShuffle': 18, 'OSDiversity': 10, 'ServiceDiversity': 10}\n",
      "Saving evaluation results to /home/22489437/Documents/GitHub/MTDSim/experiments/experimental_data/results/epsilon_0.6_decay_0.995.csv\n"
     ]
    },
    {
     "name": "stderr",
     "output_type": "stream",
     "text": [
      "Compiled the loaded model, but the compiled metrics have yet to be built. `model.compile_metrics` will be empty until you train or evaluate the model.\n"
     ]
    },
    {
     "name": "stdout",
     "output_type": "stream",
     "text": [
      "{'CompleteTopologyShuffle': 8, 'IPShuffle': 6, 'OSDiversity': 12, 'ServiceDiversity': 12}\n",
      "Saving evaluation results to /home/22489437/Documents/GitHub/MTDSim/experiments/experimental_data/results/epsilon_0.6_decay_0.995.csv\n"
     ]
    },
    {
     "name": "stderr",
     "output_type": "stream",
     "text": [
      "Compiled the loaded model, but the compiled metrics have yet to be built. `model.compile_metrics` will be empty until you train or evaluate the model.\n"
     ]
    },
    {
     "name": "stdout",
     "output_type": "stream",
     "text": [
      "{'CompleteTopologyShuffle': 16, 'IPShuffle': 6, 'OSDiversity': 10, 'ServiceDiversity': 10}\n",
      "{'CompleteTopologyShuffle': 8, 'IPShuffle': 16, 'OSDiversity': 4, 'ServiceDiversity': 10}\n",
      "Saving evaluation results to /home/22489437/Documents/GitHub/MTDSim/experiments/experimental_data/results/epsilon_0.6_decay_0.995.csv\n",
      "Saving evaluation results to /home/22489437/Documents/GitHub/MTDSim/experiments/experimental_data/results/epsilon_0.6_decay_0.995.csv\n"
     ]
    },
    {
     "name": "stderr",
     "output_type": "stream",
     "text": [
      "Compiled the loaded model, but the compiled metrics have yet to be built. `model.compile_metrics` will be empty until you train or evaluate the model.\n",
      "Compiled the loaded model, but the compiled metrics have yet to be built. `model.compile_metrics` will be empty until you train or evaluate the model.\n"
     ]
    },
    {
     "name": "stdout",
     "output_type": "stream",
     "text": [
      "{'CompleteTopologyShuffle': 8, 'IPShuffle': 14, 'OSDiversity': 8, 'ServiceDiversity': 10}\n",
      "Saving evaluation results to /home/22489437/Documents/GitHub/MTDSim/experiments/experimental_data/results/epsilon_0.6_decay_0.995.csv\n",
      "{'CompleteTopologyShuffle': 12, 'IPShuffle': 4, 'OSDiversity': 18, 'ServiceDiversity': 8}\n"
     ]
    },
    {
     "name": "stderr",
     "output_type": "stream",
     "text": [
      "Compiled the loaded model, but the compiled metrics have yet to be built. `model.compile_metrics` will be empty until you train or evaluate the model.\n"
     ]
    },
    {
     "name": "stdout",
     "output_type": "stream",
     "text": [
      "Saving evaluation results to /home/22489437/Documents/GitHub/MTDSim/experiments/experimental_data/results/epsilon_0.6_decay_0.995.csv\n"
     ]
    },
    {
     "name": "stderr",
     "output_type": "stream",
     "text": [
      "Compiled the loaded model, but the compiled metrics have yet to be built. `model.compile_metrics` will be empty until you train or evaluate the model.\n"
     ]
    },
    {
     "name": "stdout",
     "output_type": "stream",
     "text": [
      "{'CompleteTopologyShuffle': 10, 'IPShuffle': 12, 'OSDiversity': 10, 'ServiceDiversity': 8}\n",
      "Saving evaluation results to /home/22489437/Documents/GitHub/MTDSim/experiments/experimental_data/results/epsilon_0.6_decay_0.995.csv\n"
     ]
    },
    {
     "name": "stderr",
     "output_type": "stream",
     "text": [
      "Compiled the loaded model, but the compiled metrics have yet to be built. `model.compile_metrics` will be empty until you train or evaluate the model.\n"
     ]
    },
    {
     "name": "stdout",
     "output_type": "stream",
     "text": [
      "{'CompleteTopologyShuffle': 20, 'IPShuffle': 10, 'OSDiversity': 6, 'ServiceDiversity': 6}\n",
      "{'CompleteTopologyShuffle': 10, 'IPShuffle': 16, 'OSDiversity': 12, 'ServiceDiversity': 12}\n",
      "{'CompleteTopologyShuffle': 8, 'IPShuffle': 6, 'OSDiversity': 8, 'ServiceDiversity': 12}\n",
      "Saving evaluation results to /home/22489437/Documents/GitHub/MTDSim/experiments/experimental_data/results/epsilon_0.6_decay_0.995.csv\n",
      "Saving evaluation results to /home/22489437/Documents/GitHub/MTDSim/experiments/experimental_data/results/epsilon_0.6_decay_0.995.csv\n",
      "Saving evaluation results to /home/22489437/Documents/GitHub/MTDSim/experiments/experimental_data/results/epsilon_0.6_decay_0.995.csv"
     ]
    },
    {
     "name": "stderr",
     "output_type": "stream",
     "text": [
      "Compiled the loaded model, but the compiled metrics have yet to be built. `model.compile_metrics` will be empty until you train or evaluate the model.\n"
     ]
    },
    {
     "name": "stdout",
     "output_type": "stream",
     "text": [
      "\n"
     ]
    },
    {
     "name": "stderr",
     "output_type": "stream",
     "text": [
      "Compiled the loaded model, but the compiled metrics have yet to be built. `model.compile_metrics` will be empty until you train or evaluate the model.\n",
      "Compiled the loaded model, but the compiled metrics have yet to be built. `model.compile_metrics` will be empty until you train or evaluate the model.\n"
     ]
    },
    {
     "name": "stdout",
     "output_type": "stream",
     "text": [
      "{'CompleteTopologyShuffle': 6, 'IPShuffle': 18, 'OSDiversity': 4, 'ServiceDiversity': 10}\n",
      "Saving evaluation results to /home/22489437/Documents/GitHub/MTDSim/experiments/experimental_data/results/epsilon_0.6_decay_0.995.csv\n"
     ]
    },
    {
     "name": "stderr",
     "output_type": "stream",
     "text": [
      "Compiled the loaded model, but the compiled metrics have yet to be built. `model.compile_metrics` will be empty until you train or evaluate the model.\n"
     ]
    },
    {
     "name": "stdout",
     "output_type": "stream",
     "text": [
      "{'CompleteTopologyShuffle': 8, 'IPShuffle': 10, 'OSDiversity': 12, 'ServiceDiversity': 12}\n",
      "Saving evaluation results to /home/22489437/Documents/GitHub/MTDSim/experiments/experimental_data/results/epsilon_0.6_decay_0.995.csv\n"
     ]
    },
    {
     "name": "stderr",
     "output_type": "stream",
     "text": [
      "Compiled the loaded model, but the compiled metrics have yet to be built. `model.compile_metrics` will be empty until you train or evaluate the model.\n"
     ]
    },
    {
     "name": "stdout",
     "output_type": "stream",
     "text": [
      "{'CompleteTopologyShuffle': 16, 'IPShuffle': 4, 'OSDiversity': 6, 'ServiceDiversity': 16}\n",
      "Saving evaluation results to /home/22489437/Documents/GitHub/MTDSim/experiments/experimental_data/results/epsilon_0.6_decay_0.995.csv\n"
     ]
    },
    {
     "name": "stderr",
     "output_type": "stream",
     "text": [
      "Compiled the loaded model, but the compiled metrics have yet to be built. `model.compile_metrics` will be empty until you train or evaluate the model.\n"
     ]
    },
    {
     "name": "stdout",
     "output_type": "stream",
     "text": [
      "{'CompleteTopologyShuffle': 4, 'IPShuffle': 10, 'OSDiversity': 10, 'ServiceDiversity': 6}\n",
      "Saving evaluation results to /home/22489437/Documents/GitHub/MTDSim/experiments/experimental_data/results/epsilon_0.6_decay_0.995.csv\n"
     ]
    },
    {
     "name": "stderr",
     "output_type": "stream",
     "text": [
      "Compiled the loaded model, but the compiled metrics have yet to be built. `model.compile_metrics` will be empty until you train or evaluate the model.\n"
     ]
    },
    {
     "name": "stdout",
     "output_type": "stream",
     "text": [
      "{'CompleteTopologyShuffle': 12, 'IPShuffle': 12, 'OSDiversity': 14, 'ServiceDiversity': 6}\n",
      "Saving evaluation results to /home/22489437/Documents/GitHub/MTDSim/experiments/experimental_data/results/epsilon_0.6_decay_0.995.csv\n"
     ]
    },
    {
     "name": "stderr",
     "output_type": "stream",
     "text": [
      "Compiled the loaded model, but the compiled metrics have yet to be built. `model.compile_metrics` will be empty until you train or evaluate the model.\n"
     ]
    },
    {
     "name": "stdout",
     "output_type": "stream",
     "text": [
      "{'CompleteTopologyShuffle': 18, 'IPShuffle': 10, 'OSDiversity': 14, 'ServiceDiversity': 4}\n",
      "Saving evaluation results to /home/22489437/Documents/GitHub/MTDSim/experiments/experimental_data/results/epsilon_0.6_decay_0.995.csv\n"
     ]
    },
    {
     "name": "stderr",
     "output_type": "stream",
     "text": [
      "Compiled the loaded model, but the compiled metrics have yet to be built. `model.compile_metrics` will be empty until you train or evaluate the model.\n"
     ]
    },
    {
     "name": "stdout",
     "output_type": "stream",
     "text": [
      "{'CompleteTopologyShuffle': 18, 'IPShuffle': 10, 'OSDiversity': 4, 'ServiceDiversity': 6}\n",
      "Saving evaluation results to /home/22489437/Documents/GitHub/MTDSim/experiments/experimental_data/results/epsilon_0.6_decay_0.995.csv\n"
     ]
    },
    {
     "name": "stderr",
     "output_type": "stream",
     "text": [
      "Compiled the loaded model, but the compiled metrics have yet to be built. `model.compile_metrics` will be empty until you train or evaluate the model.\n"
     ]
    },
    {
     "name": "stdout",
     "output_type": "stream",
     "text": [
      "{'CompleteTopologyShuffle': 18, 'IPShuffle': 6, 'OSDiversity': 12, 'ServiceDiversity': 10}\n",
      "Saving evaluation results to /home/22489437/Documents/GitHub/MTDSim/experiments/experimental_data/results/epsilon_0.6_decay_0.995.csv\n",
      "{'CompleteTopologyShuffle': 8, 'IPShuffle': 6, 'OSDiversity': 6, 'ServiceDiversity': 18}\n"
     ]
    },
    {
     "name": "stderr",
     "output_type": "stream",
     "text": [
      "Compiled the loaded model, but the compiled metrics have yet to be built. `model.compile_metrics` will be empty until you train or evaluate the model.\n"
     ]
    },
    {
     "name": "stdout",
     "output_type": "stream",
     "text": [
      "Saving evaluation results to /home/22489437/Documents/GitHub/MTDSim/experiments/experimental_data/results/epsilon_0.6_decay_0.995.csv\n",
      "{'CompleteTopologyShuffle': 8, 'IPShuffle': 12, 'OSDiversity': 10, 'ServiceDiversity': 14}\n",
      "Saving evaluation results to /home/22489437/Documents/GitHub/MTDSim/experiments/experimental_data/results/epsilon_0.6_decay_0.995.csv\n",
      "{'CompleteTopologyShuffle': 8, 'IPShuffle': 6, 'OSDiversity': 10, 'ServiceDiversity': 10}\n",
      "Saving evaluation results to /home/22489437/Documents/GitHub/MTDSim/experiments/experimental_data/results/epsilon_0.6_decay_0.995.csv\n",
      "{'CompleteTopologyShuffle': 10, 'IPShuffle': 8, 'OSDiversity': 12, 'ServiceDiversity': 12}\n",
      "{'CompleteTopologyShuffle': 8, 'IPShuffle': 16, 'OSDiversity': 8, 'ServiceDiversity': 14}\n",
      "Saving evaluation results to /home/22489437/Documents/GitHub/MTDSim/experiments/experimental_data/results/epsilon_0.6_decay_0.995.csv\n",
      "Saving evaluation results to /home/22489437/Documents/GitHub/MTDSim/experiments/experimental_data/results/epsilon_0.6_decay_0.995.csv\n",
      "{'CompleteTopologyShuffle': 14, 'IPShuffle': 20, 'OSDiversity': 8, 'ServiceDiversity': 8}\n",
      "Saving evaluation results to /home/22489437/Documents/GitHub/MTDSim/experiments/experimental_data/results/epsilon_0.6_decay_0.995.csv\n",
      "{'CompleteTopologyShuffle': 16, 'IPShuffle': 10, 'OSDiversity': 10, 'ServiceDiversity': 8}\n",
      "Saving evaluation results to /home/22489437/Documents/GitHub/MTDSim/experiments/experimental_data/results/epsilon_0.6_decay_0.995.csv\n",
      "{'CompleteTopologyShuffle': 10, 'IPShuffle': 8, 'OSDiversity': 10, 'ServiceDiversity': 8}\n",
      "Saving evaluation results to /home/22489437/Documents/GitHub/MTDSim/experiments/experimental_data/results/epsilon_0.6_decay_0.995.csv\n",
      "{'CompleteTopologyShuffle': 6, 'IPShuffle': 8, 'OSDiversity': 6, 'ServiceDiversity': 20}\n",
      "Saving evaluation results to /home/22489437/Documents/GitHub/MTDSim/experiments/experimental_data/results/epsilon_0.6_decay_0.995.csv\n",
      "{'CompleteTopologyShuffle': 10, 'IPShuffle': 10, 'OSDiversity': 8, 'ServiceDiversity': 8}\n",
      "{'CompleteTopologyShuffle': 6, 'IPShuffle': 4, 'OSDiversity': 10, 'ServiceDiversity': 18}\n",
      "Saving evaluation results to /home/22489437/Documents/GitHub/MTDSim/experiments/experimental_data/results/epsilon_0.6_decay_0.995.csv\n",
      "Saving evaluation results to /home/22489437/Documents/GitHub/MTDSim/experiments/experimental_data/results/epsilon_0.6_decay_0.995.csv\n",
      "{'CompleteTopologyShuffle': 6, 'IPShuffle': 14, 'OSDiversity': 8, 'ServiceDiversity': 12}\n",
      "{'CompleteTopologyShuffle': 4, 'IPShuffle': 16, 'OSDiversity': 16, 'ServiceDiversity': 10}\n",
      "Saving evaluation results to /home/22489437/Documents/GitHub/MTDSim/experiments/experimental_data/results/epsilon_0.6_decay_0.995.csv\n",
      "Saving evaluation results to /home/22489437/Documents/GitHub/MTDSim/experiments/experimental_data/results/epsilon_0.6_decay_0.995.csv\n",
      "{'CompleteTopologyShuffle': 14, 'IPShuffle': 8, 'OSDiversity': 6, 'ServiceDiversity': 6}\n",
      "Saving evaluation results to /home/22489437/Documents/GitHub/MTDSim/experiments/experimental_data/results/epsilon_0.6_decay_0.995.csv\n",
      "{'CompleteTopologyShuffle': 10, 'IPShuffle': 8, 'OSDiversity': 6, 'ServiceDiversity': 12}\n",
      "Saving evaluation results to /home/22489437/Documents/GitHub/MTDSim/experiments/experimental_data/results/epsilon_0.6_decay_0.995.csv\n",
      "{'CompleteTopologyShuffle': 6, 'IPShuffle': 12, 'OSDiversity': 12, 'ServiceDiversity': 6}\n",
      "Saving evaluation results to /home/22489437/Documents/GitHub/MTDSim/experiments/experimental_data/results/epsilon_0.6_decay_0.995.csv\n",
      "{'CompleteTopologyShuffle': 14, 'IPShuffle': 8, 'OSDiversity': 14, 'ServiceDiversity': 8}\n",
      "Saving evaluation results to /home/22489437/Documents/GitHub/MTDSim/experiments/experimental_data/results/epsilon_0.6_decay_0.995.csv\n",
      "{'CompleteTopologyShuffle': 8, 'IPShuffle': 8, 'OSDiversity': 14, 'ServiceDiversity': 10}\n",
      "Saving evaluation results to /home/22489437/Documents/GitHub/MTDSim/experiments/experimental_data/results/epsilon_0.6_decay_0.995.csv\n",
      "{'CompleteTopologyShuffle': 6, 'IPShuffle': 14, 'OSDiversity': 6, 'ServiceDiversity': 8}\n",
      "Saving evaluation results to /home/22489437/Documents/GitHub/MTDSim/experiments/experimental_data/results/epsilon_0.6_decay_0.995.csv\n",
      "{'CompleteTopologyShuffle': 16, 'IPShuffle': 12, 'OSDiversity': 10, 'ServiceDiversity': 6}\n",
      "{'CompleteTopologyShuffle': 12, 'IPShuffle': 10, 'OSDiversity': 12, 'ServiceDiversity': 8}\n",
      "Saving evaluation results to /home/22489437/Documents/GitHub/MTDSim/experiments/experimental_data/results/epsilon_0.6_decay_0.995.csv\n",
      "Saving evaluation results to /home/22489437/Documents/GitHub/MTDSim/experiments/experimental_data/results/epsilon_0.6_decay_0.995.csv\n",
      "{'CompleteTopologyShuffle': 4, 'IPShuffle': 14, 'OSDiversity': 4, 'ServiceDiversity': 8}\n",
      "Saving evaluation results to /home/22489437/Documents/GitHub/MTDSim/experiments/experimental_data/results/epsilon_0.6_decay_0.995.csv\n",
      "{'CompleteTopologyShuffle': 4, 'IPShuffle': 26, 'OSDiversity': 8, 'ServiceDiversity': 6}\n",
      "Saving evaluation results to /home/22489437/Documents/GitHub/MTDSim/experiments/experimental_data/results/epsilon_0.6_decay_0.995.csv\n",
      "{'CompleteTopologyShuffle': 8, 'IPShuffle': 12, 'OSDiversity': 8, 'ServiceDiversity': 10}\n",
      "Saving evaluation results to /home/22489437/Documents/GitHub/MTDSim/experiments/experimental_data/results/epsilon_0.6_decay_0.995.csv\n",
      "Running experiments for model epsilon_0.6_decay_0.998\n",
      "Trial_ 0\n",
      "Trial_ 10\n",
      "Trial_ 20\n",
      "Trial_ 30\n",
      "Trial_ 40\n",
      "Trial_ 50\n",
      "Trial_ 60\n",
      "Trial_ 70\n",
      "Trial_ 80\n",
      "Trial_ 90\n"
     ]
    },
    {
     "name": "stderr",
     "output_type": "stream",
     "text": [
      "Compiled the loaded model, but the compiled metrics have yet to be built. `model.compile_metrics` will be empty until you train or evaluate the model.\n",
      "Compiled the loaded model, but the compiled metrics have yet to be built. `model.compile_metrics` will be empty until you train or evaluate the model.\n",
      "Compiled the loaded model, but the compiled metrics have yet to be built. `model.compile_metrics` will be empty until you train or evaluate the model.\n",
      "Compiled the loaded model, but the compiled metrics have yet to be built. `model.compile_metrics` will be empty until you train or evaluate the model.\n",
      "Compiled the loaded model, but the compiled metrics have yet to be built. `model.compile_metrics` will be empty until you train or evaluate the model.\n",
      "Compiled the loaded model, but the compiled metrics have yet to be built. `model.compile_metrics` will be empty until you train or evaluate the model.\n",
      "Compiled the loaded model, but the compiled metrics have yet to be built. `model.compile_metrics` will be empty until you train or evaluate the model.\n",
      "Compiled the loaded model, but the compiled metrics have yet to be built. `model.compile_metrics` will be empty until you train or evaluate the model.\n",
      "Compiled the loaded model, but the compiled metrics have yet to be built. `model.compile_metrics` will be empty until you train or evaluate the model.\n",
      "Compiled the loaded model, but the compiled metrics have yet to be built. `model.compile_metrics` will be empty until you train or evaluate the model.\n",
      "Compiled the loaded model, but the compiled metrics have yet to be built. `model.compile_metrics` will be empty until you train or evaluate the model.\n",
      "Compiled the loaded model, but the compiled metrics have yet to be built. `model.compile_metrics` will be empty until you train or evaluate the model.\n",
      "Compiled the loaded model, but the compiled metrics have yet to be built. `model.compile_metrics` will be empty until you train or evaluate the model.\n",
      "Compiled the loaded model, but the compiled metrics have yet to be built. `model.compile_metrics` will be empty until you train or evaluate the model.\n",
      "Compiled the loaded model, but the compiled metrics have yet to be built. `model.compile_metrics` will be empty until you train or evaluate the model.\n",
      "Compiled the loaded model, but the compiled metrics have yet to be built. `model.compile_metrics` will be empty until you train or evaluate the model.\n",
      "Compiled the loaded model, but the compiled metrics have yet to be built. `model.compile_metrics` will be empty until you train or evaluate the model.\n",
      "Compiled the loaded model, but the compiled metrics have yet to be built. `model.compile_metrics` will be empty until you train or evaluate the model.\n",
      "Compiled the loaded model, but the compiled metrics have yet to be built. `model.compile_metrics` will be empty until you train or evaluate the model.\n",
      "Compiled the loaded model, but the compiled metrics have yet to be built. `model.compile_metrics` will be empty until you train or evaluate the model.\n",
      "Compiled the loaded model, but the compiled metrics have yet to be built. `model.compile_metrics` will be empty until you train or evaluate the model.\n",
      "Compiled the loaded model, but the compiled metrics have yet to be built. `model.compile_metrics` will be empty until you train or evaluate the model.\n",
      "Compiled the loaded model, but the compiled metrics have yet to be built. `model.compile_metrics` will be empty until you train or evaluate the model.\n",
      "Compiled the loaded model, but the compiled metrics have yet to be built. `model.compile_metrics` will be empty until you train or evaluate the model.\n"
     ]
    },
    {
     "name": "stdout",
     "output_type": "stream",
     "text": [
      "{'CompleteTopologyShuffle': 10, 'IPShuffle': 8, 'OSDiversity': 12, 'ServiceDiversity': 12}\n",
      "Saving evaluation results to /home/22489437/Documents/GitHub/MTDSim/experiments/experimental_data/results/epsilon_0.6_decay_0.998.csv\n"
     ]
    },
    {
     "name": "stderr",
     "output_type": "stream",
     "text": [
      "Compiled the loaded model, but the compiled metrics have yet to be built. `model.compile_metrics` will be empty until you train or evaluate the model.\n"
     ]
    },
    {
     "name": "stdout",
     "output_type": "stream",
     "text": [
      "{'CompleteTopologyShuffle': 8, 'IPShuffle': 8, 'OSDiversity': 6, 'ServiceDiversity': 10}\n",
      "Saving evaluation results to /home/22489437/Documents/GitHub/MTDSim/experiments/experimental_data/results/epsilon_0.6_decay_0.998.csv\n"
     ]
    },
    {
     "name": "stderr",
     "output_type": "stream",
     "text": [
      "Compiled the loaded model, but the compiled metrics have yet to be built. `model.compile_metrics` will be empty until you train or evaluate the model.\n"
     ]
    },
    {
     "name": "stdout",
     "output_type": "stream",
     "text": [
      "{'CompleteTopologyShuffle': 8, 'IPShuffle': 8, 'OSDiversity': 10, 'ServiceDiversity': 18}\n",
      "{'CompleteTopologyShuffle': 18, 'IPShuffle': 10, 'OSDiversity': 4, 'ServiceDiversity': 12}\n",
      "Saving evaluation results to /home/22489437/Documents/GitHub/MTDSim/experiments/experimental_data/results/epsilon_0.6_decay_0.998.csv\n",
      "Saving evaluation results to /home/22489437/Documents/GitHub/MTDSim/experiments/experimental_data/results/epsilon_0.6_decay_0.998.csv\n"
     ]
    },
    {
     "name": "stderr",
     "output_type": "stream",
     "text": [
      "Compiled the loaded model, but the compiled metrics have yet to be built. `model.compile_metrics` will be empty until you train or evaluate the model.\n",
      "Compiled the loaded model, but the compiled metrics have yet to be built. `model.compile_metrics` will be empty until you train or evaluate the model.\n"
     ]
    },
    {
     "name": "stdout",
     "output_type": "stream",
     "text": [
      "{'CompleteTopologyShuffle': 6, 'IPShuffle': 4, 'OSDiversity': 10, 'ServiceDiversity': 18}\n",
      "Saving evaluation results to /home/22489437/Documents/GitHub/MTDSim/experiments/experimental_data/results/epsilon_0.6_decay_0.998.csv\n"
     ]
    },
    {
     "name": "stderr",
     "output_type": "stream",
     "text": [
      "Compiled the loaded model, but the compiled metrics have yet to be built. `model.compile_metrics` will be empty until you train or evaluate the model.\n"
     ]
    },
    {
     "name": "stdout",
     "output_type": "stream",
     "text": [
      "{'CompleteTopologyShuffle': 14, 'IPShuffle': 6, 'OSDiversity': 6, 'ServiceDiversity': 12}\n",
      "Saving evaluation results to /home/22489437/Documents/GitHub/MTDSim/experiments/experimental_data/results/epsilon_0.6_decay_0.998.csv\n"
     ]
    },
    {
     "name": "stderr",
     "output_type": "stream",
     "text": [
      "Compiled the loaded model, but the compiled metrics have yet to be built. `model.compile_metrics` will be empty until you train or evaluate the model.\n"
     ]
    },
    {
     "name": "stdout",
     "output_type": "stream",
     "text": [
      "{'CompleteTopologyShuffle': 12, 'IPShuffle': 4, 'OSDiversity': 18, 'ServiceDiversity': 6}\n",
      "Saving evaluation results to /home/22489437/Documents/GitHub/MTDSim/experiments/experimental_data/results/epsilon_0.6_decay_0.998.csv\n"
     ]
    },
    {
     "name": "stderr",
     "output_type": "stream",
     "text": [
      "Compiled the loaded model, but the compiled metrics have yet to be built. `model.compile_metrics` will be empty until you train or evaluate the model.\n"
     ]
    },
    {
     "name": "stdout",
     "output_type": "stream",
     "text": [
      "{'CompleteTopologyShuffle': 10, 'IPShuffle': 8, 'OSDiversity': 16, 'ServiceDiversity': 10}\n",
      "{'CompleteTopologyShuffle': 8, 'IPShuffle': 8, 'OSDiversity': 10, 'ServiceDiversity': 10}\n",
      "Saving evaluation results to /home/22489437/Documents/GitHub/MTDSim/experiments/experimental_data/results/epsilon_0.6_decay_0.998.csv\n",
      "Saving evaluation results to /home/22489437/Documents/GitHub/MTDSim/experiments/experimental_data/results/epsilon_0.6_decay_0.998.csv\n"
     ]
    },
    {
     "name": "stderr",
     "output_type": "stream",
     "text": [
      "Compiled the loaded model, but the compiled metrics have yet to be built. `model.compile_metrics` will be empty until you train or evaluate the model.\n",
      "Compiled the loaded model, but the compiled metrics have yet to be built. `model.compile_metrics` will be empty until you train or evaluate the model.\n"
     ]
    },
    {
     "name": "stdout",
     "output_type": "stream",
     "text": [
      "{'CompleteTopologyShuffle': 12, 'IPShuffle': 6, 'OSDiversity': 14, 'ServiceDiversity': 6}\n",
      "Saving evaluation results to /home/22489437/Documents/GitHub/MTDSim/experiments/experimental_data/results/epsilon_0.6_decay_0.998.csv\n"
     ]
    },
    {
     "name": "stderr",
     "output_type": "stream",
     "text": [
      "Compiled the loaded model, but the compiled metrics have yet to be built. `model.compile_metrics` will be empty until you train or evaluate the model.\n"
     ]
    },
    {
     "name": "stdout",
     "output_type": "stream",
     "text": [
      "{'CompleteTopologyShuffle': 12, 'IPShuffle': 10, 'OSDiversity': 6, 'ServiceDiversity': 8}\n",
      "Saving evaluation results to /home/22489437/Documents/GitHub/MTDSim/experiments/experimental_data/results/epsilon_0.6_decay_0.998.csv\n"
     ]
    },
    {
     "name": "stderr",
     "output_type": "stream",
     "text": [
      "Compiled the loaded model, but the compiled metrics have yet to be built. `model.compile_metrics` will be empty until you train or evaluate the model.\n"
     ]
    },
    {
     "name": "stdout",
     "output_type": "stream",
     "text": [
      "{'CompleteTopologyShuffle': 14, 'IPShuffle': 8, 'OSDiversity': 18, 'ServiceDiversity': 4}\n",
      "Saving evaluation results to /home/22489437/Documents/GitHub/MTDSim/experiments/experimental_data/results/epsilon_0.6_decay_0.998.csv\n"
     ]
    },
    {
     "name": "stderr",
     "output_type": "stream",
     "text": [
      "Compiled the loaded model, but the compiled metrics have yet to be built. `model.compile_metrics` will be empty until you train or evaluate the model.\n"
     ]
    },
    {
     "name": "stdout",
     "output_type": "stream",
     "text": [
      "{'CompleteTopologyShuffle': 10, 'IPShuffle': 10, 'OSDiversity': 16, 'ServiceDiversity': 8}\n",
      "{'CompleteTopologyShuffle': 12, 'IPShuffle': 8, 'OSDiversity': 8, 'ServiceDiversity': 4}\n",
      "{'CompleteTopologyShuffle': 12, 'IPShuffle': 8, 'OSDiversity': 10, 'ServiceDiversity': 12}\n",
      "Saving evaluation results to /home/22489437/Documents/GitHub/MTDSim/experiments/experimental_data/results/epsilon_0.6_decay_0.998.csv\n",
      "Saving evaluation results to /home/22489437/Documents/GitHub/MTDSim/experiments/experimental_data/results/epsilon_0.6_decay_0.998.csv\n",
      "Saving evaluation results to /home/22489437/Documents/GitHub/MTDSim/experiments/experimental_data/results/epsilon_0.6_decay_0.998.csv\n"
     ]
    },
    {
     "name": "stderr",
     "output_type": "stream",
     "text": [
      "Compiled the loaded model, but the compiled metrics have yet to be built. `model.compile_metrics` will be empty until you train or evaluate the model.\n",
      "Compiled the loaded model, but the compiled metrics have yet to be built. `model.compile_metrics` will be empty until you train or evaluate the model.\n",
      "Compiled the loaded model, but the compiled metrics have yet to be built. `model.compile_metrics` will be empty until you train or evaluate the model.\n"
     ]
    },
    {
     "name": "stdout",
     "output_type": "stream",
     "text": [
      "{'CompleteTopologyShuffle': 6, 'IPShuffle': 14, 'OSDiversity': 14, 'ServiceDiversity': 10}\n",
      "Saving evaluation results to /home/22489437/Documents/GitHub/MTDSim/experiments/experimental_data/results/epsilon_0.6_decay_0.998.csv\n"
     ]
    },
    {
     "name": "stderr",
     "output_type": "stream",
     "text": [
      "Compiled the loaded model, but the compiled metrics have yet to be built. `model.compile_metrics` will be empty until you train or evaluate the model.\n"
     ]
    },
    {
     "name": "stdout",
     "output_type": "stream",
     "text": [
      "{'CompleteTopologyShuffle': 6, 'IPShuffle': 16, 'OSDiversity': 8, 'ServiceDiversity': 14}\n",
      "Saving evaluation results to /home/22489437/Documents/GitHub/MTDSim/experiments/experimental_data/results/epsilon_0.6_decay_0.998.csv\n"
     ]
    },
    {
     "name": "stderr",
     "output_type": "stream",
     "text": [
      "Compiled the loaded model, but the compiled metrics have yet to be built. `model.compile_metrics` will be empty until you train or evaluate the model.\n"
     ]
    },
    {
     "name": "stdout",
     "output_type": "stream",
     "text": [
      "{'CompleteTopologyShuffle': 14, 'IPShuffle': 8, 'OSDiversity': 4, 'ServiceDiversity': 12}\n",
      "Saving evaluation results to /home/22489437/Documents/GitHub/MTDSim/experiments/experimental_data/results/epsilon_0.6_decay_0.998.csv\n"
     ]
    },
    {
     "name": "stderr",
     "output_type": "stream",
     "text": [
      "Compiled the loaded model, but the compiled metrics have yet to be built. `model.compile_metrics` will be empty until you train or evaluate the model.\n"
     ]
    },
    {
     "name": "stdout",
     "output_type": "stream",
     "text": [
      "{'CompleteTopologyShuffle': 14, 'IPShuffle': 14, 'OSDiversity': 10, 'ServiceDiversity': 4}\n",
      "Saving evaluation results to /home/22489437/Documents/GitHub/MTDSim/experiments/experimental_data/results/epsilon_0.6_decay_0.998.csv\n"
     ]
    },
    {
     "name": "stderr",
     "output_type": "stream",
     "text": [
      "Compiled the loaded model, but the compiled metrics have yet to be built. `model.compile_metrics` will be empty until you train or evaluate the model.\n"
     ]
    },
    {
     "name": "stdout",
     "output_type": "stream",
     "text": [
      "{'CompleteTopologyShuffle': 8, 'IPShuffle': 12, 'OSDiversity': 14, 'ServiceDiversity': 12}\n",
      "Saving evaluation results to /home/22489437/Documents/GitHub/MTDSim/experiments/experimental_data/results/epsilon_0.6_decay_0.998.csv\n"
     ]
    },
    {
     "name": "stderr",
     "output_type": "stream",
     "text": [
      "Compiled the loaded model, but the compiled metrics have yet to be built. `model.compile_metrics` will be empty until you train or evaluate the model.\n"
     ]
    },
    {
     "name": "stdout",
     "output_type": "stream",
     "text": [
      "{'CompleteTopologyShuffle': 16, 'IPShuffle': 0, 'OSDiversity': 8, 'ServiceDiversity': 14}\n",
      "{'CompleteTopologyShuffle': 8, 'IPShuffle': 12, 'OSDiversity': 12, 'ServiceDiversity': 6}\n",
      "Saving evaluation results to /home/22489437/Documents/GitHub/MTDSim/experiments/experimental_data/results/epsilon_0.6_decay_0.998.csv\n",
      "Saving evaluation results to /home/22489437/Documents/GitHub/MTDSim/experiments/experimental_data/results/epsilon_0.6_decay_0.998.csv\n"
     ]
    },
    {
     "name": "stderr",
     "output_type": "stream",
     "text": [
      "Compiled the loaded model, but the compiled metrics have yet to be built. `model.compile_metrics` will be empty until you train or evaluate the model.\n",
      "Compiled the loaded model, but the compiled metrics have yet to be built. `model.compile_metrics` will be empty until you train or evaluate the model.\n"
     ]
    },
    {
     "name": "stdout",
     "output_type": "stream",
     "text": [
      "{'CompleteTopologyShuffle': 4, 'IPShuffle': 12, 'OSDiversity': 4, 'ServiceDiversity': 14}\n",
      "Saving evaluation results to /home/22489437/Documents/GitHub/MTDSim/experiments/experimental_data/results/epsilon_0.6_decay_0.998.csv\n"
     ]
    },
    {
     "name": "stderr",
     "output_type": "stream",
     "text": [
      "Compiled the loaded model, but the compiled metrics have yet to be built. `model.compile_metrics` will be empty until you train or evaluate the model.\n"
     ]
    },
    {
     "name": "stdout",
     "output_type": "stream",
     "text": [
      "{'CompleteTopologyShuffle': 6, 'IPShuffle': 18, 'OSDiversity': 6, 'ServiceDiversity': 10}\n",
      "Saving evaluation results to /home/22489437/Documents/GitHub/MTDSim/experiments/experimental_data/results/epsilon_0.6_decay_0.998.csv\n",
      "{'CompleteTopologyShuffle': 12, 'IPShuffle': 12, 'OSDiversity': 10, 'ServiceDiversity': 8}\n"
     ]
    },
    {
     "name": "stderr",
     "output_type": "stream",
     "text": [
      "Compiled the loaded model, but the compiled metrics have yet to be built. `model.compile_metrics` will be empty until you train or evaluate the model.\n"
     ]
    },
    {
     "name": "stdout",
     "output_type": "stream",
     "text": [
      "Saving evaluation results to /home/22489437/Documents/GitHub/MTDSim/experiments/experimental_data/results/epsilon_0.6_decay_0.998.csv\n"
     ]
    },
    {
     "name": "stderr",
     "output_type": "stream",
     "text": [
      "Compiled the loaded model, but the compiled metrics have yet to be built. `model.compile_metrics` will be empty until you train or evaluate the model.\n"
     ]
    },
    {
     "name": "stdout",
     "output_type": "stream",
     "text": [
      "{'CompleteTopologyShuffle': 12, 'IPShuffle': 8, 'OSDiversity': 14, 'ServiceDiversity': 8}\n",
      "Saving evaluation results to /home/22489437/Documents/GitHub/MTDSim/experiments/experimental_data/results/epsilon_0.6_decay_0.998.csv\n"
     ]
    },
    {
     "name": "stderr",
     "output_type": "stream",
     "text": [
      "Compiled the loaded model, but the compiled metrics have yet to be built. `model.compile_metrics` will be empty until you train or evaluate the model.\n"
     ]
    },
    {
     "name": "stdout",
     "output_type": "stream",
     "text": [
      "{'CompleteTopologyShuffle': 8, 'IPShuffle': 12, 'OSDiversity': 12, 'ServiceDiversity': 6}\n",
      "{'CompleteTopologyShuffle': 8, 'IPShuffle': 14, 'OSDiversity': 12, 'ServiceDiversity': 12}\n",
      "Saving evaluation results to /home/22489437/Documents/GitHub/MTDSim/experiments/experimental_data/results/epsilon_0.6_decay_0.998.csv\n"
     ]
    },
    {
     "name": "stderr",
     "output_type": "stream",
     "text": [
      "Compiled the loaded model, but the compiled metrics have yet to be built. `model.compile_metrics` will be empty until you train or evaluate the model.\n"
     ]
    },
    {
     "name": "stdout",
     "output_type": "stream",
     "text": [
      "Saving evaluation results to /home/22489437/Documents/GitHub/MTDSim/experiments/experimental_data/results/epsilon_0.6_decay_0.998.csv\n"
     ]
    },
    {
     "name": "stderr",
     "output_type": "stream",
     "text": [
      "Compiled the loaded model, but the compiled metrics have yet to be built. `model.compile_metrics` will be empty until you train or evaluate the model.\n"
     ]
    },
    {
     "name": "stdout",
     "output_type": "stream",
     "text": [
      "{'CompleteTopologyShuffle': 12, 'IPShuffle': 6, 'OSDiversity': 10, 'ServiceDiversity': 8}\n",
      "{'CompleteTopologyShuffle': 10, 'IPShuffle': 10, 'OSDiversity': 16, 'ServiceDiversity': 8}\n",
      "Saving evaluation results to /home/22489437/Documents/GitHub/MTDSim/experiments/experimental_data/results/epsilon_0.6_decay_0.998.csv\n"
     ]
    },
    {
     "name": "stderr",
     "output_type": "stream",
     "text": [
      "Compiled the loaded model, but the compiled metrics have yet to be built. `model.compile_metrics` will be empty until you train or evaluate the model.\n"
     ]
    },
    {
     "name": "stdout",
     "output_type": "stream",
     "text": [
      "Saving evaluation results to /home/22489437/Documents/GitHub/MTDSim/experiments/experimental_data/results/epsilon_0.6_decay_0.998.csv\n"
     ]
    },
    {
     "name": "stderr",
     "output_type": "stream",
     "text": [
      "Compiled the loaded model, but the compiled metrics have yet to be built. `model.compile_metrics` will be empty until you train or evaluate the model.\n"
     ]
    },
    {
     "name": "stdout",
     "output_type": "stream",
     "text": [
      "{'CompleteTopologyShuffle': 6, 'IPShuffle': 12, 'OSDiversity': 8, 'ServiceDiversity': 16}\n",
      "Saving evaluation results to /home/22489437/Documents/GitHub/MTDSim/experiments/experimental_data/results/epsilon_0.6_decay_0.998.csv\n"
     ]
    },
    {
     "name": "stderr",
     "output_type": "stream",
     "text": [
      "Compiled the loaded model, but the compiled metrics have yet to be built. `model.compile_metrics` will be empty until you train or evaluate the model.\n"
     ]
    },
    {
     "name": "stdout",
     "output_type": "stream",
     "text": [
      "{'CompleteTopologyShuffle': 10, 'IPShuffle': 10, 'OSDiversity': 8, 'ServiceDiversity': 8}\n",
      "Saving evaluation results to /home/22489437/Documents/GitHub/MTDSim/experiments/experimental_data/results/epsilon_0.6_decay_0.998.csv\n"
     ]
    },
    {
     "name": "stderr",
     "output_type": "stream",
     "text": [
      "Compiled the loaded model, but the compiled metrics have yet to be built. `model.compile_metrics` will be empty until you train or evaluate the model.\n"
     ]
    },
    {
     "name": "stdout",
     "output_type": "stream",
     "text": [
      "{'CompleteTopologyShuffle': 10, 'IPShuffle': 12, 'OSDiversity': 6, 'ServiceDiversity': 14}\n",
      "Saving evaluation results to /home/22489437/Documents/GitHub/MTDSim/experiments/experimental_data/results/epsilon_0.6_decay_0.998.csv\n"
     ]
    },
    {
     "name": "stderr",
     "output_type": "stream",
     "text": [
      "Compiled the loaded model, but the compiled metrics have yet to be built. `model.compile_metrics` will be empty until you train or evaluate the model.\n"
     ]
    },
    {
     "name": "stdout",
     "output_type": "stream",
     "text": [
      "{'CompleteTopologyShuffle': 6, 'IPShuffle': 12, 'OSDiversity': 10, 'ServiceDiversity': 10}\n",
      "Saving evaluation results to /home/22489437/Documents/GitHub/MTDSim/experiments/experimental_data/results/epsilon_0.6_decay_0.998.csv\n"
     ]
    },
    {
     "name": "stderr",
     "output_type": "stream",
     "text": [
      "Compiled the loaded model, but the compiled metrics have yet to be built. `model.compile_metrics` will be empty until you train or evaluate the model.\n"
     ]
    },
    {
     "name": "stdout",
     "output_type": "stream",
     "text": [
      "{'CompleteTopologyShuffle': 12, 'IPShuffle': 8, 'OSDiversity': 6, 'ServiceDiversity': 16}\n",
      "Saving evaluation results to /home/22489437/Documents/GitHub/MTDSim/experiments/experimental_data/results/epsilon_0.6_decay_0.998.csv\n",
      "{'CompleteTopologyShuffle': 2, 'IPShuffle': 14, 'OSDiversity': 10, 'ServiceDiversity': 12}\n"
     ]
    },
    {
     "name": "stderr",
     "output_type": "stream",
     "text": [
      "Compiled the loaded model, but the compiled metrics have yet to be built. `model.compile_metrics` will be empty until you train or evaluate the model.\n"
     ]
    },
    {
     "name": "stdout",
     "output_type": "stream",
     "text": [
      "Saving evaluation results to /home/22489437/Documents/GitHub/MTDSim/experiments/experimental_data/results/epsilon_0.6_decay_0.998.csv\n"
     ]
    },
    {
     "name": "stderr",
     "output_type": "stream",
     "text": [
      "Compiled the loaded model, but the compiled metrics have yet to be built. `model.compile_metrics` will be empty until you train or evaluate the model.\n"
     ]
    },
    {
     "name": "stdout",
     "output_type": "stream",
     "text": [
      "{'CompleteTopologyShuffle': 10, 'IPShuffle': 6, 'OSDiversity': 10, 'ServiceDiversity': 8}\n",
      "{'CompleteTopologyShuffle': 6, 'IPShuffle': 10, 'OSDiversity': 18, 'ServiceDiversity': 4}\n",
      "Saving evaluation results to /home/22489437/Documents/GitHub/MTDSim/experiments/experimental_data/results/epsilon_0.6_decay_0.998.csv\n",
      "Saving evaluation results to /home/22489437/Documents/GitHub/MTDSim/experiments/experimental_data/results/epsilon_0.6_decay_0.998.csv\n"
     ]
    },
    {
     "name": "stderr",
     "output_type": "stream",
     "text": [
      "Compiled the loaded model, but the compiled metrics have yet to be built. `model.compile_metrics` will be empty until you train or evaluate the model.\n",
      "Compiled the loaded model, but the compiled metrics have yet to be built. `model.compile_metrics` will be empty until you train or evaluate the model.\n"
     ]
    },
    {
     "name": "stdout",
     "output_type": "stream",
     "text": [
      "{'CompleteTopologyShuffle': 6, 'IPShuffle': 10, 'OSDiversity': 8, 'ServiceDiversity': 12}\n",
      "{'CompleteTopologyShuffle': 12, 'IPShuffle': 4, 'OSDiversity': 10, 'ServiceDiversity': 10}\n",
      "Saving evaluation results to /home/22489437/Documents/GitHub/MTDSim/experiments/experimental_data/results/epsilon_0.6_decay_0.998.csv\n",
      "Saving evaluation results to /home/22489437/Documents/GitHub/MTDSim/experiments/experimental_data/results/epsilon_0.6_decay_0.998.csv\n"
     ]
    },
    {
     "name": "stderr",
     "output_type": "stream",
     "text": [
      "Compiled the loaded model, but the compiled metrics have yet to be built. `model.compile_metrics` will be empty until you train or evaluate the model.\n",
      "Compiled the loaded model, but the compiled metrics have yet to be built. `model.compile_metrics` will be empty until you train or evaluate the model.\n"
     ]
    },
    {
     "name": "stdout",
     "output_type": "stream",
     "text": [
      "{'CompleteTopologyShuffle': 6, 'IPShuffle': 8, 'OSDiversity': 12, 'ServiceDiversity': 18}\n",
      "Saving evaluation results to /home/22489437/Documents/GitHub/MTDSim/experiments/experimental_data/results/epsilon_0.6_decay_0.998.csv\n"
     ]
    },
    {
     "name": "stderr",
     "output_type": "stream",
     "text": [
      "Compiled the loaded model, but the compiled metrics have yet to be built. `model.compile_metrics` will be empty until you train or evaluate the model.\n"
     ]
    },
    {
     "name": "stdout",
     "output_type": "stream",
     "text": [
      "{'CompleteTopologyShuffle': 12, 'IPShuffle': 4, 'OSDiversity': 12, 'ServiceDiversity': 16}\n",
      "Saving evaluation results to /home/22489437/Documents/GitHub/MTDSim/experiments/experimental_data/results/epsilon_0.6_decay_0.998.csv\n"
     ]
    },
    {
     "name": "stderr",
     "output_type": "stream",
     "text": [
      "Compiled the loaded model, but the compiled metrics have yet to be built. `model.compile_metrics` will be empty until you train or evaluate the model.\n"
     ]
    },
    {
     "name": "stdout",
     "output_type": "stream",
     "text": [
      "{'CompleteTopologyShuffle': 12, 'IPShuffle': 8, 'OSDiversity': 12, 'ServiceDiversity': 8}\n",
      "Saving evaluation results to /home/22489437/Documents/GitHub/MTDSim/experiments/experimental_data/results/epsilon_0.6_decay_0.998.csv\n"
     ]
    },
    {
     "name": "stderr",
     "output_type": "stream",
     "text": [
      "Compiled the loaded model, but the compiled metrics have yet to be built. `model.compile_metrics` will be empty until you train or evaluate the model.\n"
     ]
    },
    {
     "name": "stdout",
     "output_type": "stream",
     "text": [
      "{'CompleteTopologyShuffle': 14, 'IPShuffle': 10, 'OSDiversity': 6, 'ServiceDiversity': 8}\n",
      "{'CompleteTopologyShuffle': 18, 'IPShuffle': 10, 'OSDiversity': 4, 'ServiceDiversity': 10}\n",
      "Saving evaluation results to /home/22489437/Documents/GitHub/MTDSim/experiments/experimental_data/results/epsilon_0.6_decay_0.998.csv\n",
      "Saving evaluation results to /home/22489437/Documents/GitHub/MTDSim/experiments/experimental_data/results/epsilon_0.6_decay_0.998.csv\n"
     ]
    },
    {
     "name": "stderr",
     "output_type": "stream",
     "text": [
      "Compiled the loaded model, but the compiled metrics have yet to be built. `model.compile_metrics` will be empty until you train or evaluate the model.\n",
      "Compiled the loaded model, but the compiled metrics have yet to be built. `model.compile_metrics` will be empty until you train or evaluate the model.\n"
     ]
    },
    {
     "name": "stdout",
     "output_type": "stream",
     "text": [
      "{'CompleteTopologyShuffle': 14, 'IPShuffle': 22, 'OSDiversity': 12, 'ServiceDiversity': 8}\n",
      "Saving evaluation results to /home/22489437/Documents/GitHub/MTDSim/experiments/experimental_data/results/epsilon_0.6_decay_0.998.csv\n"
     ]
    },
    {
     "name": "stderr",
     "output_type": "stream",
     "text": [
      "Compiled the loaded model, but the compiled metrics have yet to be built. `model.compile_metrics` will be empty until you train or evaluate the model.\n"
     ]
    },
    {
     "name": "stdout",
     "output_type": "stream",
     "text": [
      "{'CompleteTopologyShuffle': 6, 'IPShuffle': 10, 'OSDiversity': 10, 'ServiceDiversity': 12}\n",
      "Saving evaluation results to /home/22489437/Documents/GitHub/MTDSim/experiments/experimental_data/results/epsilon_0.6_decay_0.998.csv\n"
     ]
    },
    {
     "name": "stderr",
     "output_type": "stream",
     "text": [
      "Compiled the loaded model, but the compiled metrics have yet to be built. `model.compile_metrics` will be empty until you train or evaluate the model.\n"
     ]
    },
    {
     "name": "stdout",
     "output_type": "stream",
     "text": [
      "{'CompleteTopologyShuffle': 10, 'IPShuffle': 2, 'OSDiversity': 6, 'ServiceDiversity': 22}\n",
      "Saving evaluation results to /home/22489437/Documents/GitHub/MTDSim/experiments/experimental_data/results/epsilon_0.6_decay_0.998.csv\n"
     ]
    },
    {
     "name": "stderr",
     "output_type": "stream",
     "text": [
      "Compiled the loaded model, but the compiled metrics have yet to be built. `model.compile_metrics` will be empty until you train or evaluate the model.\n"
     ]
    },
    {
     "name": "stdout",
     "output_type": "stream",
     "text": [
      "{'CompleteTopologyShuffle': 14, 'IPShuffle': 12, 'OSDiversity': 10, 'ServiceDiversity': 6}\n",
      "Saving evaluation results to /home/22489437/Documents/GitHub/MTDSim/experiments/experimental_data/results/epsilon_0.6_decay_0.998.csv\n"
     ]
    },
    {
     "name": "stderr",
     "output_type": "stream",
     "text": [
      "Compiled the loaded model, but the compiled metrics have yet to be built. `model.compile_metrics` will be empty until you train or evaluate the model.\n"
     ]
    },
    {
     "name": "stdout",
     "output_type": "stream",
     "text": [
      "{'CompleteTopologyShuffle': 10, 'IPShuffle': 4, 'OSDiversity': 6, 'ServiceDiversity': 12}\n",
      "Saving evaluation results to /home/22489437/Documents/GitHub/MTDSim/experiments/experimental_data/results/epsilon_0.6_decay_0.998.csv\n"
     ]
    },
    {
     "name": "stderr",
     "output_type": "stream",
     "text": [
      "Compiled the loaded model, but the compiled metrics have yet to be built. `model.compile_metrics` will be empty until you train or evaluate the model.\n"
     ]
    },
    {
     "name": "stdout",
     "output_type": "stream",
     "text": [
      "{'CompleteTopologyShuffle': 4, 'IPShuffle': 10, 'OSDiversity': 4, 'ServiceDiversity': 14}\n",
      "Saving evaluation results to /home/22489437/Documents/GitHub/MTDSim/experiments/experimental_data/results/epsilon_0.6_decay_0.998.csv\n"
     ]
    },
    {
     "name": "stderr",
     "output_type": "stream",
     "text": [
      "Compiled the loaded model, but the compiled metrics have yet to be built. `model.compile_metrics` will be empty until you train or evaluate the model.\n"
     ]
    },
    {
     "name": "stdout",
     "output_type": "stream",
     "text": [
      "{'CompleteTopologyShuffle': 10, 'IPShuffle': 6, 'OSDiversity': 4, 'ServiceDiversity': 10}\n",
      "Saving evaluation results to /home/22489437/Documents/GitHub/MTDSim/experiments/experimental_data/results/epsilon_0.6_decay_0.998.csv\n"
     ]
    },
    {
     "name": "stderr",
     "output_type": "stream",
     "text": [
      "Compiled the loaded model, but the compiled metrics have yet to be built. `model.compile_metrics` will be empty until you train or evaluate the model.\n"
     ]
    },
    {
     "name": "stdout",
     "output_type": "stream",
     "text": [
      "{'CompleteTopologyShuffle': 14, 'IPShuffle': 8, 'OSDiversity': 8, 'ServiceDiversity': 4}\n",
      "Saving evaluation results to /home/22489437/Documents/GitHub/MTDSim/experiments/experimental_data/results/epsilon_0.6_decay_0.998.csv\n"
     ]
    },
    {
     "name": "stderr",
     "output_type": "stream",
     "text": [
      "Compiled the loaded model, but the compiled metrics have yet to be built. `model.compile_metrics` will be empty until you train or evaluate the model.\n"
     ]
    },
    {
     "name": "stdout",
     "output_type": "stream",
     "text": [
      "{'CompleteTopologyShuffle': 2, 'IPShuffle': 18, 'OSDiversity': 16, 'ServiceDiversity': 10}\n",
      "Saving evaluation results to /home/22489437/Documents/GitHub/MTDSim/experiments/experimental_data/results/epsilon_0.6_decay_0.998.csv\n"
     ]
    },
    {
     "name": "stderr",
     "output_type": "stream",
     "text": [
      "Compiled the loaded model, but the compiled metrics have yet to be built. `model.compile_metrics` will be empty until you train or evaluate the model.\n"
     ]
    },
    {
     "name": "stdout",
     "output_type": "stream",
     "text": [
      "{'CompleteTopologyShuffle': 10, 'IPShuffle': 12, 'OSDiversity': 8, 'ServiceDiversity': 10}\n",
      "Saving evaluation results to /home/22489437/Documents/GitHub/MTDSim/experiments/experimental_data/results/epsilon_0.6_decay_0.998.csv\n"
     ]
    },
    {
     "name": "stderr",
     "output_type": "stream",
     "text": [
      "Compiled the loaded model, but the compiled metrics have yet to be built. `model.compile_metrics` will be empty until you train or evaluate the model.\n"
     ]
    },
    {
     "name": "stdout",
     "output_type": "stream",
     "text": [
      "{'CompleteTopologyShuffle': 12, 'IPShuffle': 16, 'OSDiversity': 8, 'ServiceDiversity': 10}\n",
      "Saving evaluation results to /home/22489437/Documents/GitHub/MTDSim/experiments/experimental_data/results/epsilon_0.6_decay_0.998.csv\n"
     ]
    },
    {
     "name": "stderr",
     "output_type": "stream",
     "text": [
      "Compiled the loaded model, but the compiled metrics have yet to be built. `model.compile_metrics` will be empty until you train or evaluate the model.\n"
     ]
    },
    {
     "name": "stdout",
     "output_type": "stream",
     "text": [
      "{'CompleteTopologyShuffle': 8, 'IPShuffle': 10, 'OSDiversity': 14, 'ServiceDiversity': 6}\n",
      "{'CompleteTopologyShuffle': 10, 'IPShuffle': 12, 'OSDiversity': 12, 'ServiceDiversity': 12}\n",
      "Saving evaluation results to /home/22489437/Documents/GitHub/MTDSim/experiments/experimental_data/results/epsilon_0.6_decay_0.998.csv\n",
      "Saving evaluation results to /home/22489437/Documents/GitHub/MTDSim/experiments/experimental_data/results/epsilon_0.6_decay_0.998.csv\n"
     ]
    },
    {
     "name": "stderr",
     "output_type": "stream",
     "text": [
      "Compiled the loaded model, but the compiled metrics have yet to be built. `model.compile_metrics` will be empty until you train or evaluate the model.\n"
     ]
    },
    {
     "name": "stdout",
     "output_type": "stream",
     "text": [
      "{'CompleteTopologyShuffle': 14, 'IPShuffle': 4, 'OSDiversity': 14, 'ServiceDiversity': 8}\n"
     ]
    },
    {
     "name": "stderr",
     "output_type": "stream",
     "text": [
      "Compiled the loaded model, but the compiled metrics have yet to be built. `model.compile_metrics` will be empty until you train or evaluate the model.\n"
     ]
    },
    {
     "name": "stdout",
     "output_type": "stream",
     "text": [
      "{'CompleteTopologyShuffle': 8, 'IPShuffle': 16, 'OSDiversity': 10, 'ServiceDiversity': 4}\n",
      "Saving evaluation results to /home/22489437/Documents/GitHub/MTDSim/experiments/experimental_data/results/epsilon_0.6_decay_0.998.csv\n"
     ]
    },
    {
     "name": "stderr",
     "output_type": "stream",
     "text": [
      "Compiled the loaded model, but the compiled metrics have yet to be built. `model.compile_metrics` will be empty until you train or evaluate the model.\n"
     ]
    },
    {
     "name": "stdout",
     "output_type": "stream",
     "text": [
      "Saving evaluation results to /home/22489437/Documents/GitHub/MTDSim/experiments/experimental_data/results/epsilon_0.6_decay_0.998.csv\n"
     ]
    },
    {
     "name": "stderr",
     "output_type": "stream",
     "text": [
      "Compiled the loaded model, but the compiled metrics have yet to be built. `model.compile_metrics` will be empty until you train or evaluate the model.\n"
     ]
    },
    {
     "name": "stdout",
     "output_type": "stream",
     "text": [
      "{'CompleteTopologyShuffle': 12, 'IPShuffle': 8, 'OSDiversity': 12, 'ServiceDiversity': 6}\n",
      "Saving evaluation results to /home/22489437/Documents/GitHub/MTDSim/experiments/experimental_data/results/epsilon_0.6_decay_0.998.csv\n",
      "{'CompleteTopologyShuffle': 16, 'IPShuffle': 8, 'OSDiversity': 6, 'ServiceDiversity': 10}\n"
     ]
    },
    {
     "name": "stderr",
     "output_type": "stream",
     "text": [
      "Compiled the loaded model, but the compiled metrics have yet to be built. `model.compile_metrics` will be empty until you train or evaluate the model.\n"
     ]
    },
    {
     "name": "stdout",
     "output_type": "stream",
     "text": [
      "{'CompleteTopologyShuffle': 16, 'IPShuffle': 10, 'OSDiversity': 10, 'ServiceDiversity': 6}\n",
      "Saving evaluation results to /home/22489437/Documents/GitHub/MTDSim/experiments/experimental_data/results/epsilon_0.6_decay_0.998.csv\n"
     ]
    },
    {
     "name": "stderr",
     "output_type": "stream",
     "text": [
      "Compiled the loaded model, but the compiled metrics have yet to be built. `model.compile_metrics` will be empty until you train or evaluate the model.\n"
     ]
    },
    {
     "name": "stdout",
     "output_type": "stream",
     "text": [
      "Saving evaluation results to /home/22489437/Documents/GitHub/MTDSim/experiments/experimental_data/results/epsilon_0.6_decay_0.998.csv\n",
      "{'CompleteTopologyShuffle': 4, 'IPShuffle': 6, 'OSDiversity': 8, 'ServiceDiversity': 24}\n"
     ]
    },
    {
     "name": "stderr",
     "output_type": "stream",
     "text": [
      "Compiled the loaded model, but the compiled metrics have yet to be built. `model.compile_metrics` will be empty until you train or evaluate the model.\n"
     ]
    },
    {
     "name": "stdout",
     "output_type": "stream",
     "text": [
      "Saving evaluation results to /home/22489437/Documents/GitHub/MTDSim/experiments/experimental_data/results/epsilon_0.6_decay_0.998.csv\n"
     ]
    },
    {
     "name": "stderr",
     "output_type": "stream",
     "text": [
      "Compiled the loaded model, but the compiled metrics have yet to be built. `model.compile_metrics` will be empty until you train or evaluate the model.\n"
     ]
    },
    {
     "name": "stdout",
     "output_type": "stream",
     "text": [
      "{'CompleteTopologyShuffle': 10, 'IPShuffle': 16, 'OSDiversity': 8, 'ServiceDiversity': 4}\n",
      "Saving evaluation results to /home/22489437/Documents/GitHub/MTDSim/experiments/experimental_data/results/epsilon_0.6_decay_0.998.csv\n"
     ]
    },
    {
     "name": "stderr",
     "output_type": "stream",
     "text": [
      "Compiled the loaded model, but the compiled metrics have yet to be built. `model.compile_metrics` will be empty until you train or evaluate the model.\n"
     ]
    },
    {
     "name": "stdout",
     "output_type": "stream",
     "text": [
      "{'CompleteTopologyShuffle': 10, 'IPShuffle': 6, 'OSDiversity': 20, 'ServiceDiversity': 12}\n",
      "Saving evaluation results to /home/22489437/Documents/GitHub/MTDSim/experiments/experimental_data/results/epsilon_0.6_decay_0.998.csv\n",
      "{'CompleteTopologyShuffle': 10, 'IPShuffle': 12, 'OSDiversity': 10, 'ServiceDiversity': 6}\n"
     ]
    },
    {
     "name": "stderr",
     "output_type": "stream",
     "text": [
      "Compiled the loaded model, but the compiled metrics have yet to be built. `model.compile_metrics` will be empty until you train or evaluate the model.\n"
     ]
    },
    {
     "name": "stdout",
     "output_type": "stream",
     "text": [
      "Saving evaluation results to /home/22489437/Documents/GitHub/MTDSim/experiments/experimental_data/results/epsilon_0.6_decay_0.998.csv\n"
     ]
    },
    {
     "name": "stderr",
     "output_type": "stream",
     "text": [
      "Compiled the loaded model, but the compiled metrics have yet to be built. `model.compile_metrics` will be empty until you train or evaluate the model.\n"
     ]
    },
    {
     "name": "stdout",
     "output_type": "stream",
     "text": [
      "{'CompleteTopologyShuffle': 6, 'IPShuffle': 4, 'OSDiversity': 14, 'ServiceDiversity': 14}\n",
      "Saving evaluation results to /home/22489437/Documents/GitHub/MTDSim/experiments/experimental_data/results/epsilon_0.6_decay_0.998.csv\n"
     ]
    },
    {
     "name": "stderr",
     "output_type": "stream",
     "text": [
      "Compiled the loaded model, but the compiled metrics have yet to be built. `model.compile_metrics` will be empty until you train or evaluate the model.\n"
     ]
    },
    {
     "name": "stdout",
     "output_type": "stream",
     "text": [
      "{'CompleteTopologyShuffle': 6, 'IPShuffle': 10, 'OSDiversity': 16, 'ServiceDiversity': 8}\n",
      "Saving evaluation results to /home/22489437/Documents/GitHub/MTDSim/experiments/experimental_data/results/epsilon_0.6_decay_0.998.csv\n"
     ]
    },
    {
     "name": "stderr",
     "output_type": "stream",
     "text": [
      "Compiled the loaded model, but the compiled metrics have yet to be built. `model.compile_metrics` will be empty until you train or evaluate the model.\n"
     ]
    },
    {
     "name": "stdout",
     "output_type": "stream",
     "text": [
      "{'CompleteTopologyShuffle': 16, 'IPShuffle': 8, 'OSDiversity': 12, 'ServiceDiversity': 4}\n",
      "Saving evaluation results to /home/22489437/Documents/GitHub/MTDSim/experiments/experimental_data/results/epsilon_0.6_decay_0.998.csv\n"
     ]
    },
    {
     "name": "stderr",
     "output_type": "stream",
     "text": [
      "Compiled the loaded model, but the compiled metrics have yet to be built. `model.compile_metrics` will be empty until you train or evaluate the model.\n"
     ]
    },
    {
     "name": "stdout",
     "output_type": "stream",
     "text": [
      "{'CompleteTopologyShuffle': 6, 'IPShuffle': 4, 'OSDiversity': 14, 'ServiceDiversity': 14}\n",
      "Saving evaluation results to /home/22489437/Documents/GitHub/MTDSim/experiments/experimental_data/results/epsilon_0.6_decay_0.998.csv\n"
     ]
    },
    {
     "name": "stderr",
     "output_type": "stream",
     "text": [
      "Compiled the loaded model, but the compiled metrics have yet to be built. `model.compile_metrics` will be empty until you train or evaluate the model.\n"
     ]
    },
    {
     "name": "stdout",
     "output_type": "stream",
     "text": [
      "{'CompleteTopologyShuffle': 14, 'IPShuffle': 12, 'OSDiversity': 18, 'ServiceDiversity': 10}\n",
      "Saving evaluation results to /home/22489437/Documents/GitHub/MTDSim/experiments/experimental_data/results/epsilon_0.6_decay_0.998.csv\n"
     ]
    },
    {
     "name": "stderr",
     "output_type": "stream",
     "text": [
      "Compiled the loaded model, but the compiled metrics have yet to be built. `model.compile_metrics` will be empty until you train or evaluate the model.\n"
     ]
    },
    {
     "name": "stdout",
     "output_type": "stream",
     "text": [
      "{'CompleteTopologyShuffle': 6, 'IPShuffle': 12, 'OSDiversity': 4, 'ServiceDiversity': 14}\n",
      "Saving evaluation results to /home/22489437/Documents/GitHub/MTDSim/experiments/experimental_data/results/epsilon_0.6_decay_0.998.csv\n"
     ]
    },
    {
     "name": "stderr",
     "output_type": "stream",
     "text": [
      "Compiled the loaded model, but the compiled metrics have yet to be built. `model.compile_metrics` will be empty until you train or evaluate the model.\n"
     ]
    },
    {
     "name": "stdout",
     "output_type": "stream",
     "text": [
      "{'CompleteTopologyShuffle': 20, 'IPShuffle': 14, 'OSDiversity': 14, 'ServiceDiversity': 8}\n",
      "{'CompleteTopologyShuffle': 6, 'IPShuffle': 10, 'OSDiversity': 4, 'ServiceDiversity': 18}\n",
      "Saving evaluation results to /home/22489437/Documents/GitHub/MTDSim/experiments/experimental_data/results/epsilon_0.6_decay_0.998.csv\n"
     ]
    },
    {
     "name": "stderr",
     "output_type": "stream",
     "text": [
      "Compiled the loaded model, but the compiled metrics have yet to be built. `model.compile_metrics` will be empty until you train or evaluate the model.\n"
     ]
    },
    {
     "name": "stdout",
     "output_type": "stream",
     "text": [
      "Saving evaluation results to /home/22489437/Documents/GitHub/MTDSim/experiments/experimental_data/results/epsilon_0.6_decay_0.998.csv\n"
     ]
    },
    {
     "name": "stderr",
     "output_type": "stream",
     "text": [
      "Compiled the loaded model, but the compiled metrics have yet to be built. `model.compile_metrics` will be empty until you train or evaluate the model.\n"
     ]
    },
    {
     "name": "stdout",
     "output_type": "stream",
     "text": [
      "{'CompleteTopologyShuffle': 14, 'IPShuffle': 12, 'OSDiversity': 10, 'ServiceDiversity': 8}\n",
      "Saving evaluation results to /home/22489437/Documents/GitHub/MTDSim/experiments/experimental_data/results/epsilon_0.6_decay_0.998.csv\n"
     ]
    },
    {
     "name": "stderr",
     "output_type": "stream",
     "text": [
      "Compiled the loaded model, but the compiled metrics have yet to be built. `model.compile_metrics` will be empty until you train or evaluate the model.\n"
     ]
    },
    {
     "name": "stdout",
     "output_type": "stream",
     "text": [
      "{'CompleteTopologyShuffle': 16, 'IPShuffle': 10, 'OSDiversity': 14, 'ServiceDiversity': 6}\n",
      "{'CompleteTopologyShuffle': 12, 'IPShuffle': 10, 'OSDiversity': 10, 'ServiceDiversity': 10}\n",
      "Saving evaluation results to /home/22489437/Documents/GitHub/MTDSim/experiments/experimental_data/results/epsilon_0.6_decay_0.998.csv\n",
      "Saving evaluation results to /home/22489437/Documents/GitHub/MTDSim/experiments/experimental_data/results/epsilon_0.6_decay_0.998.csv\n",
      "{'CompleteTopologyShuffle': 14, 'IPShuffle': 6, 'OSDiversity': 4, 'ServiceDiversity': 10}\n",
      "Saving evaluation results to /home/22489437/Documents/GitHub/MTDSim/experiments/experimental_data/results/epsilon_0.6_decay_0.998.csv\n",
      "{'CompleteTopologyShuffle': 8, 'IPShuffle': 10, 'OSDiversity': 10, 'ServiceDiversity': 12}\n",
      "Saving evaluation results to /home/22489437/Documents/GitHub/MTDSim/experiments/experimental_data/results/epsilon_0.6_decay_0.998.csv\n",
      "{'CompleteTopologyShuffle': 10, 'IPShuffle': 6, 'OSDiversity': 12, 'ServiceDiversity': 6}\n",
      "Saving evaluation results to /home/22489437/Documents/GitHub/MTDSim/experiments/experimental_data/results/epsilon_0.6_decay_0.998.csv\n",
      "{'CompleteTopologyShuffle': 8, 'IPShuffle': 6, 'OSDiversity': 20, 'ServiceDiversity': 4}\n",
      "Saving evaluation results to /home/22489437/Documents/GitHub/MTDSim/experiments/experimental_data/results/epsilon_0.6_decay_0.998.csv\n",
      "{'CompleteTopologyShuffle': 14, 'IPShuffle': 14, 'OSDiversity': 4, 'ServiceDiversity': 6}\n",
      "Saving evaluation results to /home/22489437/Documents/GitHub/MTDSim/experiments/experimental_data/results/epsilon_0.6_decay_0.998.csv\n",
      "{'CompleteTopologyShuffle': 8, 'IPShuffle': 12, 'OSDiversity': 18, 'ServiceDiversity': 8}\n",
      "Saving evaluation results to /home/22489437/Documents/GitHub/MTDSim/experiments/experimental_data/results/epsilon_0.6_decay_0.998.csv\n",
      "{'CompleteTopologyShuffle': 12, 'IPShuffle': 4, 'OSDiversity': 10, 'ServiceDiversity': 12}\n",
      "Saving evaluation results to /home/22489437/Documents/GitHub/MTDSim/experiments/experimental_data/results/epsilon_0.6_decay_0.998.csv\n",
      "{'CompleteTopologyShuffle': 14, 'IPShuffle': 10, 'OSDiversity': 8, 'ServiceDiversity': 6}\n",
      "{'CompleteTopologyShuffle': 18, 'IPShuffle': 12, 'OSDiversity': 6, 'ServiceDiversity': 4}\n",
      "Saving evaluation results to /home/22489437/Documents/GitHub/MTDSim/experiments/experimental_data/results/epsilon_0.6_decay_0.998.csv\n",
      "Saving evaluation results to /home/22489437/Documents/GitHub/MTDSim/experiments/experimental_data/results/epsilon_0.6_decay_0.998.csv\n",
      "{'CompleteTopologyShuffle': 10, 'IPShuffle': 8, 'OSDiversity': 8, 'ServiceDiversity': 12}\n",
      "Saving evaluation results to /home/22489437/Documents/GitHub/MTDSim/experiments/experimental_data/results/epsilon_0.6_decay_0.998.csv\n",
      "{'CompleteTopologyShuffle': 10, 'IPShuffle': 12, 'OSDiversity': 6, 'ServiceDiversity': 12}\n",
      "Saving evaluation results to /home/22489437/Documents/GitHub/MTDSim/experiments/experimental_data/results/epsilon_0.6_decay_0.998.csv\n",
      "{'CompleteTopologyShuffle': 10, 'IPShuffle': 10, 'OSDiversity': 10, 'ServiceDiversity': 16}\n",
      "Saving evaluation results to /home/22489437/Documents/GitHub/MTDSim/experiments/experimental_data/results/epsilon_0.6_decay_0.998.csv\n",
      "{'CompleteTopologyShuffle': 14, 'IPShuffle': 12, 'OSDiversity': 10, 'ServiceDiversity': 8}\n",
      "Saving evaluation results to /home/22489437/Documents/GitHub/MTDSim/experiments/experimental_data/results/epsilon_0.6_decay_0.998.csv\n",
      "{'CompleteTopologyShuffle': 10, 'IPShuffle': 2, 'OSDiversity': 14, 'ServiceDiversity': 14}\n",
      "Saving evaluation results to /home/22489437/Documents/GitHub/MTDSim/experiments/experimental_data/results/epsilon_0.6_decay_0.998.csv\n",
      "{'CompleteTopologyShuffle': 18, 'IPShuffle': 10, 'OSDiversity': 4, 'ServiceDiversity': 10}\n",
      "Saving evaluation results to /home/22489437/Documents/GitHub/MTDSim/experiments/experimental_data/results/epsilon_0.6_decay_0.998.csv\n",
      "{'CompleteTopologyShuffle': 4, 'IPShuffle': 14, 'OSDiversity': 10, 'ServiceDiversity': 10}\n",
      "Saving evaluation results to /home/22489437/Documents/GitHub/MTDSim/experiments/experimental_data/results/epsilon_0.6_decay_0.998.csv\n",
      "{'CompleteTopologyShuffle': 12, 'IPShuffle': 8, 'OSDiversity': 10, 'ServiceDiversity': 8}\n",
      "Saving evaluation results to /home/22489437/Documents/GitHub/MTDSim/experiments/experimental_data/results/epsilon_0.6_decay_0.998.csv\n",
      "{'CompleteTopologyShuffle': 16, 'IPShuffle': 12, 'OSDiversity': 2, 'ServiceDiversity': 10}\n",
      "Saving evaluation results to /home/22489437/Documents/GitHub/MTDSim/experiments/experimental_data/results/epsilon_0.6_decay_0.998.csv\n",
      "{'CompleteTopologyShuffle': 6, 'IPShuffle': 10, 'OSDiversity': 12, 'ServiceDiversity': 4}\n",
      "Saving evaluation results to /home/22489437/Documents/GitHub/MTDSim/experiments/experimental_data/results/epsilon_0.6_decay_0.998.csv\n",
      "{'CompleteTopologyShuffle': 14, 'IPShuffle': 14, 'OSDiversity': 6, 'ServiceDiversity': 6}\n",
      "Saving evaluation results to /home/22489437/Documents/GitHub/MTDSim/experiments/experimental_data/results/epsilon_0.6_decay_0.998.csv\n",
      "{'CompleteTopologyShuffle': 8, 'IPShuffle': 20, 'OSDiversity': 8, 'ServiceDiversity': 4}\n",
      "Saving evaluation results to /home/22489437/Documents/GitHub/MTDSim/experiments/experimental_data/results/epsilon_0.6_decay_0.998.csv\n",
      "{'CompleteTopologyShuffle': 6, 'IPShuffle': 14, 'OSDiversity': 6, 'ServiceDiversity': 6}\n",
      "Saving evaluation results to /home/22489437/Documents/GitHub/MTDSim/experiments/experimental_data/results/epsilon_0.6_decay_0.998.csv\n",
      "Running experiments for model epsilon_0.7_decay_0.98\n",
      "Trial_ 0\n",
      "Trial_ 10\n",
      "Trial_ 20\n",
      "Trial_ 30\n",
      "Trial_ 40\n",
      "Trial_ 50\n",
      "Trial_ 60\n",
      "Trial_ 70\n",
      "Trial_ 80\n",
      "Trial_ 90\n"
     ]
    },
    {
     "name": "stderr",
     "output_type": "stream",
     "text": [
      "Compiled the loaded model, but the compiled metrics have yet to be built. `model.compile_metrics` will be empty until you train or evaluate the model.\n",
      "Compiled the loaded model, but the compiled metrics have yet to be built. `model.compile_metrics` will be empty until you train or evaluate the model.\n",
      "Compiled the loaded model, but the compiled metrics have yet to be built. `model.compile_metrics` will be empty until you train or evaluate the model.\n",
      "Compiled the loaded model, but the compiled metrics have yet to be built. `model.compile_metrics` will be empty until you train or evaluate the model.\n",
      "Compiled the loaded model, but the compiled metrics have yet to be built. `model.compile_metrics` will be empty until you train or evaluate the model.\n",
      "Compiled the loaded model, but the compiled metrics have yet to be built. `model.compile_metrics` will be empty until you train or evaluate the model.\n",
      "Compiled the loaded model, but the compiled metrics have yet to be built. `model.compile_metrics` will be empty until you train or evaluate the model.\n",
      "Compiled the loaded model, but the compiled metrics have yet to be built. `model.compile_metrics` will be empty until you train or evaluate the model.\n",
      "Compiled the loaded model, but the compiled metrics have yet to be built. `model.compile_metrics` will be empty until you train or evaluate the model.\n",
      "Compiled the loaded model, but the compiled metrics have yet to be built. `model.compile_metrics` will be empty until you train or evaluate the model.\n",
      "Compiled the loaded model, but the compiled metrics have yet to be built. `model.compile_metrics` will be empty until you train or evaluate the model.\n",
      "Compiled the loaded model, but the compiled metrics have yet to be built. `model.compile_metrics` will be empty until you train or evaluate the model.\n",
      "Compiled the loaded model, but the compiled metrics have yet to be built. `model.compile_metrics` will be empty until you train or evaluate the model.\n",
      "Compiled the loaded model, but the compiled metrics have yet to be built. `model.compile_metrics` will be empty until you train or evaluate the model.\n",
      "Compiled the loaded model, but the compiled metrics have yet to be built. `model.compile_metrics` will be empty until you train or evaluate the model.\n",
      "Compiled the loaded model, but the compiled metrics have yet to be built. `model.compile_metrics` will be empty until you train or evaluate the model.\n",
      "Compiled the loaded model, but the compiled metrics have yet to be built. `model.compile_metrics` will be empty until you train or evaluate the model.\n",
      "Compiled the loaded model, but the compiled metrics have yet to be built. `model.compile_metrics` will be empty until you train or evaluate the model.\n",
      "Compiled the loaded model, but the compiled metrics have yet to be built. `model.compile_metrics` will be empty until you train or evaluate the model.\n",
      "Compiled the loaded model, but the compiled metrics have yet to be built. `model.compile_metrics` will be empty until you train or evaluate the model.\n",
      "Compiled the loaded model, but the compiled metrics have yet to be built. `model.compile_metrics` will be empty until you train or evaluate the model.\n",
      "Compiled the loaded model, but the compiled metrics have yet to be built. `model.compile_metrics` will be empty until you train or evaluate the model.\n",
      "Compiled the loaded model, but the compiled metrics have yet to be built. `model.compile_metrics` will be empty until you train or evaluate the model.\n",
      "Compiled the loaded model, but the compiled metrics have yet to be built. `model.compile_metrics` will be empty until you train or evaluate the model.\n"
     ]
    },
    {
     "name": "stdout",
     "output_type": "stream",
     "text": [
      "{'CompleteTopologyShuffle': 14, 'IPShuffle': 10, 'OSDiversity': 12, 'ServiceDiversity': 10}\n",
      "Saving evaluation results to /home/22489437/Documents/GitHub/MTDSim/experiments/experimental_data/results/epsilon_0.7_decay_0.98.csv\n"
     ]
    },
    {
     "name": "stderr",
     "output_type": "stream",
     "text": [
      "Compiled the loaded model, but the compiled metrics have yet to be built. `model.compile_metrics` will be empty until you train or evaluate the model.\n"
     ]
    },
    {
     "name": "stdout",
     "output_type": "stream",
     "text": [
      "{'CompleteTopologyShuffle': 6, 'IPShuffle': 2, 'OSDiversity': 14, 'ServiceDiversity': 12}\n",
      "Saving evaluation results to /home/22489437/Documents/GitHub/MTDSim/experiments/experimental_data/results/epsilon_0.7_decay_0.98.csv\n"
     ]
    },
    {
     "name": "stderr",
     "output_type": "stream",
     "text": [
      "Compiled the loaded model, but the compiled metrics have yet to be built. `model.compile_metrics` will be empty until you train or evaluate the model.\n"
     ]
    },
    {
     "name": "stdout",
     "output_type": "stream",
     "text": [
      "{'CompleteTopologyShuffle': 10, 'IPShuffle': 2, 'OSDiversity': 12, 'ServiceDiversity': 10}\n",
      "Saving evaluation results to /home/22489437/Documents/GitHub/MTDSim/experiments/experimental_data/results/epsilon_0.7_decay_0.98.csv\n"
     ]
    },
    {
     "name": "stderr",
     "output_type": "stream",
     "text": [
      "Compiled the loaded model, but the compiled metrics have yet to be built. `model.compile_metrics` will be empty until you train or evaluate the model.\n"
     ]
    },
    {
     "name": "stdout",
     "output_type": "stream",
     "text": [
      "{'CompleteTopologyShuffle': 12, 'IPShuffle': 8, 'OSDiversity': 6, 'ServiceDiversity': 8}\n",
      "Saving evaluation results to /home/22489437/Documents/GitHub/MTDSim/experiments/experimental_data/results/epsilon_0.7_decay_0.98.csv\n"
     ]
    },
    {
     "name": "stderr",
     "output_type": "stream",
     "text": [
      "Compiled the loaded model, but the compiled metrics have yet to be built. `model.compile_metrics` will be empty until you train or evaluate the model.\n"
     ]
    },
    {
     "name": "stdout",
     "output_type": "stream",
     "text": [
      "{'CompleteTopologyShuffle': 14, 'IPShuffle': 16, 'OSDiversity': 8, 'ServiceDiversity': 10}\n",
      "Saving evaluation results to /home/22489437/Documents/GitHub/MTDSim/experiments/experimental_data/results/epsilon_0.7_decay_0.98.csv\n"
     ]
    },
    {
     "name": "stderr",
     "output_type": "stream",
     "text": [
      "Compiled the loaded model, but the compiled metrics have yet to be built. `model.compile_metrics` will be empty until you train or evaluate the model.\n"
     ]
    },
    {
     "name": "stdout",
     "output_type": "stream",
     "text": [
      "{'CompleteTopologyShuffle': 12, 'IPShuffle': 16, 'OSDiversity': 10, 'ServiceDiversity': 8}\n",
      "Saving evaluation results to /home/22489437/Documents/GitHub/MTDSim/experiments/experimental_data/results/epsilon_0.7_decay_0.98.csv\n"
     ]
    },
    {
     "name": "stderr",
     "output_type": "stream",
     "text": [
      "Compiled the loaded model, but the compiled metrics have yet to be built. `model.compile_metrics` will be empty until you train or evaluate the model.\n"
     ]
    },
    {
     "name": "stdout",
     "output_type": "stream",
     "text": [
      "{'CompleteTopologyShuffle': 18, 'IPShuffle': 12, 'OSDiversity': 8, 'ServiceDiversity': 6}\n",
      "Saving evaluation results to /home/22489437/Documents/GitHub/MTDSim/experiments/experimental_data/results/epsilon_0.7_decay_0.98.csv\n"
     ]
    },
    {
     "name": "stderr",
     "output_type": "stream",
     "text": [
      "Compiled the loaded model, but the compiled metrics have yet to be built. `model.compile_metrics` will be empty until you train or evaluate the model.\n"
     ]
    },
    {
     "name": "stdout",
     "output_type": "stream",
     "text": [
      "{'CompleteTopologyShuffle': 16, 'IPShuffle': 14, 'OSDiversity': 10, 'ServiceDiversity': 4}\n",
      "Saving evaluation results to /home/22489437/Documents/GitHub/MTDSim/experiments/experimental_data/results/epsilon_0.7_decay_0.98.csv\n"
     ]
    },
    {
     "name": "stderr",
     "output_type": "stream",
     "text": [
      "Compiled the loaded model, but the compiled metrics have yet to be built. `model.compile_metrics` will be empty until you train or evaluate the model.\n"
     ]
    },
    {
     "name": "stdout",
     "output_type": "stream",
     "text": [
      "{'CompleteTopologyShuffle': 10, 'IPShuffle': 12, 'OSDiversity': 14, 'ServiceDiversity': 6}\n",
      "Saving evaluation results to /home/22489437/Documents/GitHub/MTDSim/experiments/experimental_data/results/epsilon_0.7_decay_0.98.csv\n",
      "{'CompleteTopologyShuffle': 14, 'IPShuffle': 4, 'OSDiversity': 12, 'ServiceDiversity': 6}\n"
     ]
    },
    {
     "name": "stderr",
     "output_type": "stream",
     "text": [
      "Compiled the loaded model, but the compiled metrics have yet to be built. `model.compile_metrics` will be empty until you train or evaluate the model.\n"
     ]
    },
    {
     "name": "stdout",
     "output_type": "stream",
     "text": [
      "Saving evaluation results to /home/22489437/Documents/GitHub/MTDSim/experiments/experimental_data/results/epsilon_0.7_decay_0.98.csv\n",
      "{'CompleteTopologyShuffle': 14, 'IPShuffle': 2, 'OSDiversity': 10, 'ServiceDiversity': 8}\n"
     ]
    },
    {
     "name": "stderr",
     "output_type": "stream",
     "text": [
      "Compiled the loaded model, but the compiled metrics have yet to be built. `model.compile_metrics` will be empty until you train or evaluate the model.\n"
     ]
    },
    {
     "name": "stdout",
     "output_type": "stream",
     "text": [
      "Saving evaluation results to /home/22489437/Documents/GitHub/MTDSim/experiments/experimental_data/results/epsilon_0.7_decay_0.98.csv\n"
     ]
    },
    {
     "name": "stderr",
     "output_type": "stream",
     "text": [
      "Compiled the loaded model, but the compiled metrics have yet to be built. `model.compile_metrics` will be empty until you train or evaluate the model.\n"
     ]
    },
    {
     "name": "stdout",
     "output_type": "stream",
     "text": [
      "{'CompleteTopologyShuffle': 10, 'IPShuffle': 14, 'OSDiversity': 6, 'ServiceDiversity': 12}\n",
      "Saving evaluation results to /home/22489437/Documents/GitHub/MTDSim/experiments/experimental_data/results/epsilon_0.7_decay_0.98.csv\n"
     ]
    },
    {
     "name": "stderr",
     "output_type": "stream",
     "text": [
      "Compiled the loaded model, but the compiled metrics have yet to be built. `model.compile_metrics` will be empty until you train or evaluate the model.\n"
     ]
    },
    {
     "name": "stdout",
     "output_type": "stream",
     "text": [
      "{'CompleteTopologyShuffle': 10, 'IPShuffle': 10, 'OSDiversity': 6, 'ServiceDiversity': 14}\n",
      "Saving evaluation results to /home/22489437/Documents/GitHub/MTDSim/experiments/experimental_data/results/epsilon_0.7_decay_0.98.csv\n"
     ]
    },
    {
     "name": "stderr",
     "output_type": "stream",
     "text": [
      "Compiled the loaded model, but the compiled metrics have yet to be built. `model.compile_metrics` will be empty until you train or evaluate the model.\n"
     ]
    },
    {
     "name": "stdout",
     "output_type": "stream",
     "text": [
      "{'CompleteTopologyShuffle': 12, 'IPShuffle': 8, 'OSDiversity': 12, 'ServiceDiversity': 12}\n",
      "Saving evaluation results to /home/22489437/Documents/GitHub/MTDSim/experiments/experimental_data/results/epsilon_0.7_decay_0.98.csv\n"
     ]
    },
    {
     "name": "stderr",
     "output_type": "stream",
     "text": [
      "Compiled the loaded model, but the compiled metrics have yet to be built. `model.compile_metrics` will be empty until you train or evaluate the model.\n"
     ]
    },
    {
     "name": "stdout",
     "output_type": "stream",
     "text": [
      "{'CompleteTopologyShuffle': 14, 'IPShuffle': 8, 'OSDiversity': 8, 'ServiceDiversity': 8}\n",
      "Saving evaluation results to /home/22489437/Documents/GitHub/MTDSim/experiments/experimental_data/results/epsilon_0.7_decay_0.98.csv\n"
     ]
    },
    {
     "name": "stderr",
     "output_type": "stream",
     "text": [
      "Compiled the loaded model, but the compiled metrics have yet to be built. `model.compile_metrics` will be empty until you train or evaluate the model.\n"
     ]
    },
    {
     "name": "stdout",
     "output_type": "stream",
     "text": [
      "{'CompleteTopologyShuffle': 8, 'IPShuffle': 12, 'OSDiversity': 4, 'ServiceDiversity': 6}\n",
      "Saving evaluation results to /home/22489437/Documents/GitHub/MTDSim/experiments/experimental_data/results/epsilon_0.7_decay_0.98.csv\n"
     ]
    },
    {
     "name": "stderr",
     "output_type": "stream",
     "text": [
      "Compiled the loaded model, but the compiled metrics have yet to be built. `model.compile_metrics` will be empty until you train or evaluate the model.\n"
     ]
    },
    {
     "name": "stdout",
     "output_type": "stream",
     "text": [
      "{'CompleteTopologyShuffle': 8, 'IPShuffle': 8, 'OSDiversity': 16, 'ServiceDiversity': 4}\n",
      "Saving evaluation results to /home/22489437/Documents/GitHub/MTDSim/experiments/experimental_data/results/epsilon_0.7_decay_0.98.csv\n"
     ]
    },
    {
     "name": "stderr",
     "output_type": "stream",
     "text": [
      "Compiled the loaded model, but the compiled metrics have yet to be built. `model.compile_metrics` will be empty until you train or evaluate the model.\n"
     ]
    },
    {
     "name": "stdout",
     "output_type": "stream",
     "text": [
      "{'CompleteTopologyShuffle': 10, 'IPShuffle': 14, 'OSDiversity': 14, 'ServiceDiversity': 0}\n",
      "{'CompleteTopologyShuffle': 2, 'IPShuffle': 8, 'OSDiversity': 8, 'ServiceDiversity': 14}\n",
      "{'CompleteTopologyShuffle': 4, 'IPShuffle': 14, 'OSDiversity': 10, 'ServiceDiversity': 10}\n",
      "Saving evaluation results to /home/22489437/Documents/GitHub/MTDSim/experiments/experimental_data/results/epsilon_0.7_decay_0.98.csv\n",
      "Saving evaluation results to /home/22489437/Documents/GitHub/MTDSim/experiments/experimental_data/results/epsilon_0.7_decay_0.98.csv\n"
     ]
    },
    {
     "name": "stderr",
     "output_type": "stream",
     "text": [
      "Compiled the loaded model, but the compiled metrics have yet to be built. `model.compile_metrics` will be empty until you train or evaluate the model.\n",
      "Compiled the loaded model, but the compiled metrics have yet to be built. `model.compile_metrics` will be empty until you train or evaluate the model.\n"
     ]
    },
    {
     "name": "stdout",
     "output_type": "stream",
     "text": [
      "Saving evaluation results to /home/22489437/Documents/GitHub/MTDSim/experiments/experimental_data/results/epsilon_0.7_decay_0.98.csv\n"
     ]
    },
    {
     "name": "stderr",
     "output_type": "stream",
     "text": [
      "Compiled the loaded model, but the compiled metrics have yet to be built. `model.compile_metrics` will be empty until you train or evaluate the model.\n"
     ]
    },
    {
     "name": "stdout",
     "output_type": "stream",
     "text": [
      "{'CompleteTopologyShuffle': 14, 'IPShuffle': 10, 'OSDiversity': 10, 'ServiceDiversity': 14}\n",
      "Saving evaluation results to /home/22489437/Documents/GitHub/MTDSim/experiments/experimental_data/results/epsilon_0.7_decay_0.98.csv\n",
      "{'CompleteTopologyShuffle': 8, 'IPShuffle': 18, 'OSDiversity': 12, 'ServiceDiversity': 6}\n"
     ]
    },
    {
     "name": "stderr",
     "output_type": "stream",
     "text": [
      "Compiled the loaded model, but the compiled metrics have yet to be built. `model.compile_metrics` will be empty until you train or evaluate the model.\n"
     ]
    },
    {
     "name": "stdout",
     "output_type": "stream",
     "text": [
      "Saving evaluation results to /home/22489437/Documents/GitHub/MTDSim/experiments/experimental_data/results/epsilon_0.7_decay_0.98.csv\n"
     ]
    },
    {
     "name": "stderr",
     "output_type": "stream",
     "text": [
      "Compiled the loaded model, but the compiled metrics have yet to be built. `model.compile_metrics` will be empty until you train or evaluate the model.\n"
     ]
    },
    {
     "name": "stdout",
     "output_type": "stream",
     "text": [
      "{'CompleteTopologyShuffle': 12, 'IPShuffle': 4, 'OSDiversity': 16, 'ServiceDiversity': 10}\n",
      "Saving evaluation results to /home/22489437/Documents/GitHub/MTDSim/experiments/experimental_data/results/epsilon_0.7_decay_0.98.csv\n"
     ]
    },
    {
     "name": "stderr",
     "output_type": "stream",
     "text": [
      "Compiled the loaded model, but the compiled metrics have yet to be built. `model.compile_metrics` will be empty until you train or evaluate the model.\n"
     ]
    },
    {
     "name": "stdout",
     "output_type": "stream",
     "text": [
      "{'CompleteTopologyShuffle': 10, 'IPShuffle': 12, 'OSDiversity': 4, 'ServiceDiversity': 12}\n",
      "Saving evaluation results to /home/22489437/Documents/GitHub/MTDSim/experiments/experimental_data/results/epsilon_0.7_decay_0.98.csv\n"
     ]
    },
    {
     "name": "stderr",
     "output_type": "stream",
     "text": [
      "Compiled the loaded model, but the compiled metrics have yet to be built. `model.compile_metrics` will be empty until you train or evaluate the model.\n"
     ]
    },
    {
     "name": "stdout",
     "output_type": "stream",
     "text": [
      "{'CompleteTopologyShuffle': 12, 'IPShuffle': 8, 'OSDiversity': 16, 'ServiceDiversity': 2}\n",
      "Saving evaluation results to /home/22489437/Documents/GitHub/MTDSim/experiments/experimental_data/results/epsilon_0.7_decay_0.98.csv\n",
      "{'CompleteTopologyShuffle': 2, 'IPShuffle': 12, 'OSDiversity': 10, 'ServiceDiversity': 10}\n"
     ]
    },
    {
     "name": "stderr",
     "output_type": "stream",
     "text": [
      "Compiled the loaded model, but the compiled metrics have yet to be built. `model.compile_metrics` will be empty until you train or evaluate the model.\n"
     ]
    },
    {
     "name": "stdout",
     "output_type": "stream",
     "text": [
      "Saving evaluation results to /home/22489437/Documents/GitHub/MTDSim/experiments/experimental_data/results/epsilon_0.7_decay_0.98.csv\n"
     ]
    },
    {
     "name": "stderr",
     "output_type": "stream",
     "text": [
      "Compiled the loaded model, but the compiled metrics have yet to be built. `model.compile_metrics` will be empty until you train or evaluate the model.\n"
     ]
    },
    {
     "name": "stdout",
     "output_type": "stream",
     "text": [
      "{'CompleteTopologyShuffle': 8, 'IPShuffle': 4, 'OSDiversity': 10, 'ServiceDiversity': 16}\n",
      "{'CompleteTopologyShuffle': 12, 'IPShuffle': 8, 'OSDiversity': 4, 'ServiceDiversity': 10}\n",
      "Saving evaluation results to /home/22489437/Documents/GitHub/MTDSim/experiments/experimental_data/results/epsilon_0.7_decay_0.98.csv\n"
     ]
    },
    {
     "name": "stderr",
     "output_type": "stream",
     "text": [
      "Compiled the loaded model, but the compiled metrics have yet to be built. `model.compile_metrics` will be empty until you train or evaluate the model.\n"
     ]
    },
    {
     "name": "stdout",
     "output_type": "stream",
     "text": [
      "Saving evaluation results to /home/22489437/Documents/GitHub/MTDSim/experiments/experimental_data/results/epsilon_0.7_decay_0.98.csv\n"
     ]
    },
    {
     "name": "stderr",
     "output_type": "stream",
     "text": [
      "Compiled the loaded model, but the compiled metrics have yet to be built. `model.compile_metrics` will be empty until you train or evaluate the model.\n"
     ]
    },
    {
     "name": "stdout",
     "output_type": "stream",
     "text": [
      "{'CompleteTopologyShuffle': 12, 'IPShuffle': 10, 'OSDiversity': 10, 'ServiceDiversity': 10}\n",
      "{'CompleteTopologyShuffle': 12, 'IPShuffle': 18, 'OSDiversity': 10, 'ServiceDiversity': 4}\n",
      "Saving evaluation results to /home/22489437/Documents/GitHub/MTDSim/experiments/experimental_data/results/epsilon_0.7_decay_0.98.csv\n",
      "Saving evaluation results to /home/22489437/Documents/GitHub/MTDSim/experiments/experimental_data/results/epsilon_0.7_decay_0.98.csv\n"
     ]
    },
    {
     "name": "stderr",
     "output_type": "stream",
     "text": [
      "Compiled the loaded model, but the compiled metrics have yet to be built. `model.compile_metrics` will be empty until you train or evaluate the model.\n",
      "Compiled the loaded model, but the compiled metrics have yet to be built. `model.compile_metrics` will be empty until you train or evaluate the model.\n"
     ]
    },
    {
     "name": "stdout",
     "output_type": "stream",
     "text": [
      "{'CompleteTopologyShuffle': 12, 'IPShuffle': 10, 'OSDiversity': 12, 'ServiceDiversity': 8}\n",
      "{'CompleteTopologyShuffle': 10, 'IPShuffle': 6, 'OSDiversity': 4, 'ServiceDiversity': 14}\n",
      "Saving evaluation results to /home/22489437/Documents/GitHub/MTDSim/experiments/experimental_data/results/epsilon_0.7_decay_0.98.csv\n",
      "Saving evaluation results to /home/22489437/Documents/GitHub/MTDSim/experiments/experimental_data/results/epsilon_0.7_decay_0.98.csv\n"
     ]
    },
    {
     "name": "stderr",
     "output_type": "stream",
     "text": [
      "Compiled the loaded model, but the compiled metrics have yet to be built. `model.compile_metrics` will be empty until you train or evaluate the model.\n",
      "Compiled the loaded model, but the compiled metrics have yet to be built. `model.compile_metrics` will be empty until you train or evaluate the model.\n"
     ]
    },
    {
     "name": "stdout",
     "output_type": "stream",
     "text": [
      "{'CompleteTopologyShuffle': 4, 'IPShuffle': 10, 'OSDiversity': 14, 'ServiceDiversity': 8}\n",
      "{'CompleteTopologyShuffle': 14, 'IPShuffle': 6, 'OSDiversity': 6, 'ServiceDiversity': 12}\n",
      "Saving evaluation results to /home/22489437/Documents/GitHub/MTDSim/experiments/experimental_data/results/epsilon_0.7_decay_0.98.csv\n"
     ]
    },
    {
     "name": "stderr",
     "output_type": "stream",
     "text": [
      "Compiled the loaded model, but the compiled metrics have yet to be built. `model.compile_metrics` will be empty until you train or evaluate the model.\n"
     ]
    },
    {
     "name": "stdout",
     "output_type": "stream",
     "text": [
      "Saving evaluation results to /home/22489437/Documents/GitHub/MTDSim/experiments/experimental_data/results/epsilon_0.7_decay_0.98.csv\n"
     ]
    },
    {
     "name": "stderr",
     "output_type": "stream",
     "text": [
      "Compiled the loaded model, but the compiled metrics have yet to be built. `model.compile_metrics` will be empty until you train or evaluate the model.\n"
     ]
    },
    {
     "name": "stdout",
     "output_type": "stream",
     "text": [
      "{'CompleteTopologyShuffle': 6, 'IPShuffle': 18, 'OSDiversity': 2, 'ServiceDiversity': 10}\n",
      "Saving evaluation results to /home/22489437/Documents/GitHub/MTDSim/experiments/experimental_data/results/epsilon_0.7_decay_0.98.csv\n",
      "{'CompleteTopologyShuffle': 6, 'IPShuffle': 16, 'OSDiversity': 6, 'ServiceDiversity': 12}\n"
     ]
    },
    {
     "name": "stderr",
     "output_type": "stream",
     "text": [
      "Compiled the loaded model, but the compiled metrics have yet to be built. `model.compile_metrics` will be empty until you train or evaluate the model.\n"
     ]
    },
    {
     "name": "stdout",
     "output_type": "stream",
     "text": [
      "Saving evaluation results to /home/22489437/Documents/GitHub/MTDSim/experiments/experimental_data/results/epsilon_0.7_decay_0.98.csv\n",
      "{'CompleteTopologyShuffle': 8, 'IPShuffle': 18, 'OSDiversity': 8, 'ServiceDiversity': 4}\n"
     ]
    },
    {
     "name": "stderr",
     "output_type": "stream",
     "text": [
      "Compiled the loaded model, but the compiled metrics have yet to be built. `model.compile_metrics` will be empty until you train or evaluate the model.\n"
     ]
    },
    {
     "name": "stdout",
     "output_type": "stream",
     "text": [
      "Saving evaluation results to /home/22489437/Documents/GitHub/MTDSim/experiments/experimental_data/results/epsilon_0.7_decay_0.98.csv\n"
     ]
    },
    {
     "name": "stderr",
     "output_type": "stream",
     "text": [
      "Compiled the loaded model, but the compiled metrics have yet to be built. `model.compile_metrics` will be empty until you train or evaluate the model.\n"
     ]
    },
    {
     "name": "stdout",
     "output_type": "stream",
     "text": [
      "{'CompleteTopologyShuffle': 10, 'IPShuffle': 4, 'OSDiversity': 12, 'ServiceDiversity': 10}\n",
      "Saving evaluation results to /home/22489437/Documents/GitHub/MTDSim/experiments/experimental_data/results/epsilon_0.7_decay_0.98.csv\n"
     ]
    },
    {
     "name": "stderr",
     "output_type": "stream",
     "text": [
      "Compiled the loaded model, but the compiled metrics have yet to be built. `model.compile_metrics` will be empty until you train or evaluate the model.\n"
     ]
    },
    {
     "name": "stdout",
     "output_type": "stream",
     "text": [
      "{'CompleteTopologyShuffle': 12, 'IPShuffle': 12, 'OSDiversity': 16, 'ServiceDiversity': 12}\n",
      "{'CompleteTopologyShuffle': 10, 'IPShuffle': 10, 'OSDiversity': 6, 'ServiceDiversity': 6}\n",
      "Saving evaluation results to /home/22489437/Documents/GitHub/MTDSim/experiments/experimental_data/results/epsilon_0.7_decay_0.98.csv\n",
      "Saving evaluation results to /home/22489437/Documents/GitHub/MTDSim/experiments/experimental_data/results/epsilon_0.7_decay_0.98.csv\n"
     ]
    },
    {
     "name": "stderr",
     "output_type": "stream",
     "text": [
      "Compiled the loaded model, but the compiled metrics have yet to be built. `model.compile_metrics` will be empty until you train or evaluate the model.\n",
      "Compiled the loaded model, but the compiled metrics have yet to be built. `model.compile_metrics` will be empty until you train or evaluate the model.\n"
     ]
    },
    {
     "name": "stdout",
     "output_type": "stream",
     "text": [
      "{'CompleteTopologyShuffle': 18, 'IPShuffle': 4, 'OSDiversity': 10, 'ServiceDiversity': 4}\n",
      "Saving evaluation results to /home/22489437/Documents/GitHub/MTDSim/experiments/experimental_data/results/epsilon_0.7_decay_0.98.csv\n"
     ]
    },
    {
     "name": "stderr",
     "output_type": "stream",
     "text": [
      "Compiled the loaded model, but the compiled metrics have yet to be built. `model.compile_metrics` will be empty until you train or evaluate the model.\n"
     ]
    },
    {
     "name": "stdout",
     "output_type": "stream",
     "text": [
      "{'CompleteTopologyShuffle': 18, 'IPShuffle': 12, 'OSDiversity': 10, 'ServiceDiversity': 8}\n",
      "{'CompleteTopologyShuffle': 10, 'IPShuffle': 10, 'OSDiversity': 4, 'ServiceDiversity': 10}\n",
      "Saving evaluation results to /home/22489437/Documents/GitHub/MTDSim/experiments/experimental_data/results/epsilon_0.7_decay_0.98.csv\n",
      "Saving evaluation results to /home/22489437/Documents/GitHub/MTDSim/experiments/experimental_data/results/epsilon_0.7_decay_0.98.csv\n"
     ]
    },
    {
     "name": "stderr",
     "output_type": "stream",
     "text": [
      "Compiled the loaded model, but the compiled metrics have yet to be built. `model.compile_metrics` will be empty until you train or evaluate the model.\n",
      "Compiled the loaded model, but the compiled metrics have yet to be built. `model.compile_metrics` will be empty until you train or evaluate the model.\n"
     ]
    },
    {
     "name": "stdout",
     "output_type": "stream",
     "text": [
      "{'CompleteTopologyShuffle': 10, 'IPShuffle': 8, 'OSDiversity': 6, 'ServiceDiversity': 8}\n",
      "{'CompleteTopologyShuffle': 16, 'IPShuffle': 10, 'OSDiversity': 4, 'ServiceDiversity': 8}\n",
      "Saving evaluation results to /home/22489437/Documents/GitHub/MTDSim/experiments/experimental_data/results/epsilon_0.7_decay_0.98.csv\n",
      "Saving evaluation results to /home/22489437/Documents/GitHub/MTDSim/experiments/experimental_data/results/epsilon_0.7_decay_0.98.csv\n"
     ]
    },
    {
     "name": "stderr",
     "output_type": "stream",
     "text": [
      "Compiled the loaded model, but the compiled metrics have yet to be built. `model.compile_metrics` will be empty until you train or evaluate the model.\n",
      "Compiled the loaded model, but the compiled metrics have yet to be built. `model.compile_metrics` will be empty until you train or evaluate the model.\n"
     ]
    },
    {
     "name": "stdout",
     "output_type": "stream",
     "text": [
      "{'CompleteTopologyShuffle': 14, 'IPShuffle': 10, 'OSDiversity': 8, 'ServiceDiversity': 6}\n",
      "Saving evaluation results to /home/22489437/Documents/GitHub/MTDSim/experiments/experimental_data/results/epsilon_0.7_decay_0.98.csv\n"
     ]
    },
    {
     "name": "stderr",
     "output_type": "stream",
     "text": [
      "Compiled the loaded model, but the compiled metrics have yet to be built. `model.compile_metrics` will be empty until you train or evaluate the model.\n"
     ]
    },
    {
     "name": "stdout",
     "output_type": "stream",
     "text": [
      "{'CompleteTopologyShuffle': 8, 'IPShuffle': 10, 'OSDiversity': 10, 'ServiceDiversity': 6}\n",
      "Saving evaluation results to /home/22489437/Documents/GitHub/MTDSim/experiments/experimental_data/results/epsilon_0.7_decay_0.98.csv\n"
     ]
    },
    {
     "name": "stderr",
     "output_type": "stream",
     "text": [
      "Compiled the loaded model, but the compiled metrics have yet to be built. `model.compile_metrics` will be empty until you train or evaluate the model.\n"
     ]
    },
    {
     "name": "stdout",
     "output_type": "stream",
     "text": [
      "{'CompleteTopologyShuffle': 12, 'IPShuffle': 8, 'OSDiversity': 6, 'ServiceDiversity': 6}\n",
      "{'CompleteTopologyShuffle': 10, 'IPShuffle': 18, 'OSDiversity': 12, 'ServiceDiversity': 8}\n",
      "Saving evaluation results to /home/22489437/Documents/GitHub/MTDSim/experiments/experimental_data/results/epsilon_0.7_decay_0.98.csv\n",
      "Saving evaluation results to /home/22489437/Documents/GitHub/MTDSim/experiments/experimental_data/results/epsilon_0.7_decay_0.98.csv\n"
     ]
    },
    {
     "name": "stderr",
     "output_type": "stream",
     "text": [
      "Compiled the loaded model, but the compiled metrics have yet to be built. `model.compile_metrics` will be empty until you train or evaluate the model.\n",
      "Compiled the loaded model, but the compiled metrics have yet to be built. `model.compile_metrics` will be empty until you train or evaluate the model.\n"
     ]
    },
    {
     "name": "stdout",
     "output_type": "stream",
     "text": [
      "{'CompleteTopologyShuffle': 8, 'IPShuffle': 10, 'OSDiversity': 16, 'ServiceDiversity': 16}\n",
      "Saving evaluation results to /home/22489437/Documents/GitHub/MTDSim/experiments/experimental_data/results/epsilon_0.7_decay_0.98.csv\n"
     ]
    },
    {
     "name": "stderr",
     "output_type": "stream",
     "text": [
      "Compiled the loaded model, but the compiled metrics have yet to be built. `model.compile_metrics` will be empty until you train or evaluate the model.\n"
     ]
    },
    {
     "name": "stdout",
     "output_type": "stream",
     "text": [
      "{'CompleteTopologyShuffle': 12, 'IPShuffle': 10, 'OSDiversity': 14, 'ServiceDiversity': 12}\n",
      "Saving evaluation results to /home/22489437/Documents/GitHub/MTDSim/experiments/experimental_data/results/epsilon_0.7_decay_0.98.csv\n"
     ]
    },
    {
     "name": "stderr",
     "output_type": "stream",
     "text": [
      "Compiled the loaded model, but the compiled metrics have yet to be built. `model.compile_metrics` will be empty until you train or evaluate the model.\n"
     ]
    },
    {
     "name": "stdout",
     "output_type": "stream",
     "text": [
      "{'CompleteTopologyShuffle': 12, 'IPShuffle': 12, 'OSDiversity': 10, 'ServiceDiversity': 16}{'CompleteTopologyShuffle': 18, 'IPShuffle': 4, 'OSDiversity': 8, 'ServiceDiversity': 14}\n",
      "\n",
      "Saving evaluation results to /home/22489437/Documents/GitHub/MTDSim/experiments/experimental_data/results/epsilon_0.7_decay_0.98.csv\n",
      "Saving evaluation results to /home/22489437/Documents/GitHub/MTDSim/experiments/experimental_data/results/epsilon_0.7_decay_0.98.csv\n"
     ]
    },
    {
     "name": "stderr",
     "output_type": "stream",
     "text": [
      "Compiled the loaded model, but the compiled metrics have yet to be built. `model.compile_metrics` will be empty until you train or evaluate the model.\n",
      "Compiled the loaded model, but the compiled metrics have yet to be built. `model.compile_metrics` will be empty until you train or evaluate the model.\n"
     ]
    },
    {
     "name": "stdout",
     "output_type": "stream",
     "text": [
      "{'CompleteTopologyShuffle': 4, 'IPShuffle': 18, 'OSDiversity': 4, 'ServiceDiversity': 6}\n",
      "{'CompleteTopologyShuffle': 6, 'IPShuffle': 10, 'OSDiversity': 10, 'ServiceDiversity': 10}\n",
      "{'CompleteTopologyShuffle': 10, 'IPShuffle': 8, 'OSDiversity': 12, 'ServiceDiversity': 6}\n",
      "Saving evaluation results to /home/22489437/Documents/GitHub/MTDSim/experiments/experimental_data/results/epsilon_0.7_decay_0.98.csv\n",
      "{'CompleteTopologyShuffle': 10, 'IPShuffle': 10, 'OSDiversity': 8, 'ServiceDiversity': 10}\n",
      "{'CompleteTopologyShuffle': 18, 'IPShuffle': 6, 'OSDiversity': 8, 'ServiceDiversity': 6}\n",
      "Saving evaluation results to /home/22489437/Documents/GitHub/MTDSim/experiments/experimental_data/results/epsilon_0.7_decay_0.98.csv\n"
     ]
    },
    {
     "name": "stderr",
     "output_type": "stream",
     "text": [
      "Compiled the loaded model, but the compiled metrics have yet to be built. `model.compile_metrics` will be empty until you train or evaluate the model.\n"
     ]
    },
    {
     "name": "stdout",
     "output_type": "stream",
     "text": [
      "Saving evaluation results to /home/22489437/Documents/GitHub/MTDSim/experiments/experimental_data/results/epsilon_0.7_decay_0.98.csv\n",
      "Saving evaluation results to /home/22489437/Documents/GitHub/MTDSim/experiments/experimental_data/results/epsilon_0.7_decay_0.98.csv\n"
     ]
    },
    {
     "name": "stderr",
     "output_type": "stream",
     "text": [
      "Compiled the loaded model, but the compiled metrics have yet to be built. `model.compile_metrics` will be empty until you train or evaluate the model.\n"
     ]
    },
    {
     "name": "stdout",
     "output_type": "stream",
     "text": [
      "Saving evaluation results to /home/22489437/Documents/GitHub/MTDSim/experiments/experimental_data/results/epsilon_0.7_decay_0.98.csv"
     ]
    },
    {
     "name": "stderr",
     "output_type": "stream",
     "text": [
      "Compiled the loaded model, but the compiled metrics have yet to be built. `model.compile_metrics` will be empty until you train or evaluate the model.\n"
     ]
    },
    {
     "name": "stdout",
     "output_type": "stream",
     "text": [
      "\n"
     ]
    },
    {
     "name": "stderr",
     "output_type": "stream",
     "text": [
      "Compiled the loaded model, but the compiled metrics have yet to be built. `model.compile_metrics` will be empty until you train or evaluate the model.\n",
      "Compiled the loaded model, but the compiled metrics have yet to be built. `model.compile_metrics` will be empty until you train or evaluate the model.\n"
     ]
    },
    {
     "name": "stdout",
     "output_type": "stream",
     "text": [
      "{'CompleteTopologyShuffle': 14, 'IPShuffle': 4, 'OSDiversity': 12, 'ServiceDiversity': 18}\n",
      "Saving evaluation results to /home/22489437/Documents/GitHub/MTDSim/experiments/experimental_data/results/epsilon_0.7_decay_0.98.csv\n"
     ]
    },
    {
     "name": "stderr",
     "output_type": "stream",
     "text": [
      "Compiled the loaded model, but the compiled metrics have yet to be built. `model.compile_metrics` will be empty until you train or evaluate the model.\n"
     ]
    },
    {
     "name": "stdout",
     "output_type": "stream",
     "text": [
      "{'CompleteTopologyShuffle': 10, 'IPShuffle': 4, 'OSDiversity': 12, 'ServiceDiversity': 6}\n",
      "Saving evaluation results to /home/22489437/Documents/GitHub/MTDSim/experiments/experimental_data/results/epsilon_0.7_decay_0.98.csv\n"
     ]
    },
    {
     "name": "stderr",
     "output_type": "stream",
     "text": [
      "Compiled the loaded model, but the compiled metrics have yet to be built. `model.compile_metrics` will be empty until you train or evaluate the model.\n"
     ]
    },
    {
     "name": "stdout",
     "output_type": "stream",
     "text": [
      "{'CompleteTopologyShuffle': 10, 'IPShuffle': 8, 'OSDiversity': 12, 'ServiceDiversity': 12}\n",
      "Saving evaluation results to /home/22489437/Documents/GitHub/MTDSim/experiments/experimental_data/results/epsilon_0.7_decay_0.98.csv\n"
     ]
    },
    {
     "name": "stderr",
     "output_type": "stream",
     "text": [
      "Compiled the loaded model, but the compiled metrics have yet to be built. `model.compile_metrics` will be empty until you train or evaluate the model.\n"
     ]
    },
    {
     "name": "stdout",
     "output_type": "stream",
     "text": [
      "{'CompleteTopologyShuffle': 10, 'IPShuffle': 16, 'OSDiversity': 12, 'ServiceDiversity': 6}\n",
      "Saving evaluation results to /home/22489437/Documents/GitHub/MTDSim/experiments/experimental_data/results/epsilon_0.7_decay_0.98.csv\n"
     ]
    },
    {
     "name": "stderr",
     "output_type": "stream",
     "text": [
      "Compiled the loaded model, but the compiled metrics have yet to be built. `model.compile_metrics` will be empty until you train or evaluate the model.\n"
     ]
    },
    {
     "name": "stdout",
     "output_type": "stream",
     "text": [
      "{'CompleteTopologyShuffle': 6, 'IPShuffle': 12, 'OSDiversity': 12, 'ServiceDiversity': 8}\n",
      "Saving evaluation results to /home/22489437/Documents/GitHub/MTDSim/experiments/experimental_data/results/epsilon_0.7_decay_0.98.csv\n"
     ]
    },
    {
     "name": "stderr",
     "output_type": "stream",
     "text": [
      "Compiled the loaded model, but the compiled metrics have yet to be built. `model.compile_metrics` will be empty until you train or evaluate the model.\n"
     ]
    },
    {
     "name": "stdout",
     "output_type": "stream",
     "text": [
      "{'CompleteTopologyShuffle': 12, 'IPShuffle': 4, 'OSDiversity': 12, 'ServiceDiversity': 14}\n",
      "Saving evaluation results to /home/22489437/Documents/GitHub/MTDSim/experiments/experimental_data/results/epsilon_0.7_decay_0.98.csv\n"
     ]
    },
    {
     "name": "stderr",
     "output_type": "stream",
     "text": [
      "Compiled the loaded model, but the compiled metrics have yet to be built. `model.compile_metrics` will be empty until you train or evaluate the model.\n"
     ]
    },
    {
     "name": "stdout",
     "output_type": "stream",
     "text": [
      "{'CompleteTopologyShuffle': 10, 'IPShuffle': 8, 'OSDiversity': 12, 'ServiceDiversity': 8}\n",
      "Saving evaluation results to /home/22489437/Documents/GitHub/MTDSim/experiments/experimental_data/results/epsilon_0.7_decay_0.98.csv\n"
     ]
    },
    {
     "name": "stderr",
     "output_type": "stream",
     "text": [
      "Compiled the loaded model, but the compiled metrics have yet to be built. `model.compile_metrics` will be empty until you train or evaluate the model.\n"
     ]
    },
    {
     "name": "stdout",
     "output_type": "stream",
     "text": [
      "{'CompleteTopologyShuffle': 8, 'IPShuffle': 6, 'OSDiversity': 12, 'ServiceDiversity': 12}\n",
      "Saving evaluation results to /home/22489437/Documents/GitHub/MTDSim/experiments/experimental_data/results/epsilon_0.7_decay_0.98.csv\n"
     ]
    },
    {
     "name": "stderr",
     "output_type": "stream",
     "text": [
      "Compiled the loaded model, but the compiled metrics have yet to be built. `model.compile_metrics` will be empty until you train or evaluate the model.\n"
     ]
    },
    {
     "name": "stdout",
     "output_type": "stream",
     "text": [
      "{'CompleteTopologyShuffle': 12, 'IPShuffle': 6, 'OSDiversity': 8, 'ServiceDiversity': 12}\n",
      "Saving evaluation results to /home/22489437/Documents/GitHub/MTDSim/experiments/experimental_data/results/epsilon_0.7_decay_0.98.csv\n",
      "{'CompleteTopologyShuffle': 4, 'IPShuffle': 8, 'OSDiversity': 16, 'ServiceDiversity': 6}\n"
     ]
    },
    {
     "name": "stderr",
     "output_type": "stream",
     "text": [
      "Compiled the loaded model, but the compiled metrics have yet to be built. `model.compile_metrics` will be empty until you train or evaluate the model.\n"
     ]
    },
    {
     "name": "stdout",
     "output_type": "stream",
     "text": [
      "Saving evaluation results to /home/22489437/Documents/GitHub/MTDSim/experiments/experimental_data/results/epsilon_0.7_decay_0.98.csv\n"
     ]
    },
    {
     "name": "stderr",
     "output_type": "stream",
     "text": [
      "Compiled the loaded model, but the compiled metrics have yet to be built. `model.compile_metrics` will be empty until you train or evaluate the model.\n"
     ]
    },
    {
     "name": "stdout",
     "output_type": "stream",
     "text": [
      "{'CompleteTopologyShuffle': 8, 'IPShuffle': 8, 'OSDiversity': 16, 'ServiceDiversity': 10}\n",
      "Saving evaluation results to /home/22489437/Documents/GitHub/MTDSim/experiments/experimental_data/results/epsilon_0.7_decay_0.98.csv\n",
      "{'CompleteTopologyShuffle': 16, 'IPShuffle': 14, 'OSDiversity': 0, 'ServiceDiversity': 2}\n"
     ]
    },
    {
     "name": "stderr",
     "output_type": "stream",
     "text": [
      "Compiled the loaded model, but the compiled metrics have yet to be built. `model.compile_metrics` will be empty until you train or evaluate the model.\n"
     ]
    },
    {
     "name": "stdout",
     "output_type": "stream",
     "text": [
      "Saving evaluation results to /home/22489437/Documents/GitHub/MTDSim/experiments/experimental_data/results/epsilon_0.7_decay_0.98.csv\n"
     ]
    },
    {
     "name": "stderr",
     "output_type": "stream",
     "text": [
      "Compiled the loaded model, but the compiled metrics have yet to be built. `model.compile_metrics` will be empty until you train or evaluate the model.\n"
     ]
    },
    {
     "name": "stdout",
     "output_type": "stream",
     "text": [
      "{'CompleteTopologyShuffle': 12, 'IPShuffle': 10, 'OSDiversity': 8, 'ServiceDiversity': 10}\n",
      "Saving evaluation results to /home/22489437/Documents/GitHub/MTDSim/experiments/experimental_data/results/epsilon_0.7_decay_0.98.csv\n"
     ]
    },
    {
     "name": "stderr",
     "output_type": "stream",
     "text": [
      "Compiled the loaded model, but the compiled metrics have yet to be built. `model.compile_metrics` will be empty until you train or evaluate the model.\n"
     ]
    },
    {
     "name": "stdout",
     "output_type": "stream",
     "text": [
      "{'CompleteTopologyShuffle': 6, 'IPShuffle': 12, 'OSDiversity': 20, 'ServiceDiversity': 10}\n",
      "{'CompleteTopologyShuffle': 4, 'IPShuffle': 12, 'OSDiversity': 6, 'ServiceDiversity': 12}\n",
      "Saving evaluation results to /home/22489437/Documents/GitHub/MTDSim/experiments/experimental_data/results/epsilon_0.7_decay_0.98.csv\n",
      "Saving evaluation results to /home/22489437/Documents/GitHub/MTDSim/experiments/experimental_data/results/epsilon_0.7_decay_0.98.csv\n"
     ]
    },
    {
     "name": "stderr",
     "output_type": "stream",
     "text": [
      "Compiled the loaded model, but the compiled metrics have yet to be built. `model.compile_metrics` will be empty until you train or evaluate the model.\n",
      "Compiled the loaded model, but the compiled metrics have yet to be built. `model.compile_metrics` will be empty until you train or evaluate the model.\n"
     ]
    },
    {
     "name": "stdout",
     "output_type": "stream",
     "text": [
      "{'CompleteTopologyShuffle': 2, 'IPShuffle': 10, 'OSDiversity': 10, 'ServiceDiversity': 24}\n",
      "Saving evaluation results to /home/22489437/Documents/GitHub/MTDSim/experiments/experimental_data/results/epsilon_0.7_decay_0.98.csv\n"
     ]
    },
    {
     "name": "stderr",
     "output_type": "stream",
     "text": [
      "Compiled the loaded model, but the compiled metrics have yet to be built. `model.compile_metrics` will be empty until you train or evaluate the model.\n"
     ]
    },
    {
     "name": "stdout",
     "output_type": "stream",
     "text": [
      "{'CompleteTopologyShuffle': 10, 'IPShuffle': 6, 'OSDiversity': 4, 'ServiceDiversity': 12}\n",
      "Saving evaluation results to /home/22489437/Documents/GitHub/MTDSim/experiments/experimental_data/results/epsilon_0.7_decay_0.98.csv\n"
     ]
    },
    {
     "name": "stderr",
     "output_type": "stream",
     "text": [
      "Compiled the loaded model, but the compiled metrics have yet to be built. `model.compile_metrics` will be empty until you train or evaluate the model.\n"
     ]
    },
    {
     "name": "stdout",
     "output_type": "stream",
     "text": [
      "{'CompleteTopologyShuffle': 12, 'IPShuffle': 12, 'OSDiversity': 10, 'ServiceDiversity': 12}\n",
      "Saving evaluation results to /home/22489437/Documents/GitHub/MTDSim/experiments/experimental_data/results/epsilon_0.7_decay_0.98.csv\n",
      "{'CompleteTopologyShuffle': 12, 'IPShuffle': 8, 'OSDiversity': 12, 'ServiceDiversity': 14}\n"
     ]
    },
    {
     "name": "stderr",
     "output_type": "stream",
     "text": [
      "Compiled the loaded model, but the compiled metrics have yet to be built. `model.compile_metrics` will be empty until you train or evaluate the model.\n"
     ]
    },
    {
     "name": "stdout",
     "output_type": "stream",
     "text": [
      "Saving evaluation results to /home/22489437/Documents/GitHub/MTDSim/experiments/experimental_data/results/epsilon_0.7_decay_0.98.csv\n",
      "{'CompleteTopologyShuffle': 12, 'IPShuffle': 26, 'OSDiversity': 8, 'ServiceDiversity': 6}\n",
      "{'CompleteTopologyShuffle': 14, 'IPShuffle': 6, 'OSDiversity': 12, 'ServiceDiversity': 14}\n",
      "Saving evaluation results to /home/22489437/Documents/GitHub/MTDSim/experiments/experimental_data/results/epsilon_0.7_decay_0.98.csv\n",
      "Saving evaluation results to /home/22489437/Documents/GitHub/MTDSim/experiments/experimental_data/results/epsilon_0.7_decay_0.98.csv\n",
      "{'CompleteTopologyShuffle': 8, 'IPShuffle': 8, 'OSDiversity': 12, 'ServiceDiversity': 4}\n",
      "Saving evaluation results to /home/22489437/Documents/GitHub/MTDSim/experiments/experimental_data/results/epsilon_0.7_decay_0.98.csv\n",
      "{'CompleteTopologyShuffle': 6, 'IPShuffle': 10, 'OSDiversity': 4, 'ServiceDiversity': 16}\n",
      "Saving evaluation results to /home/22489437/Documents/GitHub/MTDSim/experiments/experimental_data/results/epsilon_0.7_decay_0.98.csv\n",
      "{'CompleteTopologyShuffle': 20, 'IPShuffle': 8, 'OSDiversity': 4, 'ServiceDiversity': 10}\n",
      "Saving evaluation results to /home/22489437/Documents/GitHub/MTDSim/experiments/experimental_data/results/epsilon_0.7_decay_0.98.csv\n",
      "{'CompleteTopologyShuffle': 6, 'IPShuffle': 8, 'OSDiversity': 20, 'ServiceDiversity': 8}\n",
      "Saving evaluation results to /home/22489437/Documents/GitHub/MTDSim/experiments/experimental_data/results/epsilon_0.7_decay_0.98.csv\n",
      "{'CompleteTopologyShuffle': 12, 'IPShuffle': 2, 'OSDiversity': 8, 'ServiceDiversity': 16}\n",
      "Saving evaluation results to /home/22489437/Documents/GitHub/MTDSim/experiments/experimental_data/results/epsilon_0.7_decay_0.98.csv\n",
      "{'CompleteTopologyShuffle': 12, 'IPShuffle': 8, 'OSDiversity': 8, 'ServiceDiversity': 12}\n",
      "Saving evaluation results to /home/22489437/Documents/GitHub/MTDSim/experiments/experimental_data/results/epsilon_0.7_decay_0.98.csv\n",
      "{'CompleteTopologyShuffle': 4, 'IPShuffle': 12, 'OSDiversity': 22, 'ServiceDiversity': 8}\n",
      "Saving evaluation results to /home/22489437/Documents/GitHub/MTDSim/experiments/experimental_data/results/epsilon_0.7_decay_0.98.csv\n",
      "{'CompleteTopologyShuffle': 2, 'IPShuffle': 6, 'OSDiversity': 14, 'ServiceDiversity': 16}\n",
      "Saving evaluation results to /home/22489437/Documents/GitHub/MTDSim/experiments/experimental_data/results/epsilon_0.7_decay_0.98.csv\n",
      "{'CompleteTopologyShuffle': 6, 'IPShuffle': 4, 'OSDiversity': 8, 'ServiceDiversity': 18}\n",
      "Saving evaluation results to /home/22489437/Documents/GitHub/MTDSim/experiments/experimental_data/results/epsilon_0.7_decay_0.98.csv\n",
      "{'CompleteTopologyShuffle': 10, 'IPShuffle': 6, 'OSDiversity': 8, 'ServiceDiversity': 10}\n",
      "Saving evaluation results to /home/22489437/Documents/GitHub/MTDSim/experiments/experimental_data/results/epsilon_0.7_decay_0.98.csv\n",
      "{'CompleteTopologyShuffle': 8, 'IPShuffle': 8, 'OSDiversity': 10, 'ServiceDiversity': 16}\n",
      "Saving evaluation results to /home/22489437/Documents/GitHub/MTDSim/experiments/experimental_data/results/epsilon_0.7_decay_0.98.csv\n",
      "{'CompleteTopologyShuffle': 4, 'IPShuffle': 14, 'OSDiversity': 14, 'ServiceDiversity': 10}\n",
      "{'CompleteTopologyShuffle': 10, 'IPShuffle': 18, 'OSDiversity': 10, 'ServiceDiversity': 6}\n",
      "Saving evaluation results to /home/22489437/Documents/GitHub/MTDSim/experiments/experimental_data/results/epsilon_0.7_decay_0.98.csv\n",
      "Saving evaluation results to /home/22489437/Documents/GitHub/MTDSim/experiments/experimental_data/results/epsilon_0.7_decay_0.98.csv\n",
      "{'CompleteTopologyShuffle': 12, 'IPShuffle': 14, 'OSDiversity': 6, 'ServiceDiversity': 10}\n",
      "Saving evaluation results to /home/22489437/Documents/GitHub/MTDSim/experiments/experimental_data/results/epsilon_0.7_decay_0.98.csv\n",
      "{'CompleteTopologyShuffle': 14, 'IPShuffle': 8, 'OSDiversity': 8, 'ServiceDiversity': 12}\n",
      "Saving evaluation results to /home/22489437/Documents/GitHub/MTDSim/experiments/experimental_data/results/epsilon_0.7_decay_0.98.csv\n",
      "{'CompleteTopologyShuffle': 8, 'IPShuffle': 22, 'OSDiversity': 6, 'ServiceDiversity': 6}\n",
      "Saving evaluation results to /home/22489437/Documents/GitHub/MTDSim/experiments/experimental_data/results/epsilon_0.7_decay_0.98.csv\n",
      "{'CompleteTopologyShuffle': 16, 'IPShuffle': 10, 'OSDiversity': 2, 'ServiceDiversity': 10}\n",
      "Saving evaluation results to /home/22489437/Documents/GitHub/MTDSim/experiments/experimental_data/results/epsilon_0.7_decay_0.98.csv\n",
      "{'CompleteTopologyShuffle': 8, 'IPShuffle': 10, 'OSDiversity': 8, 'ServiceDiversity': 12}\n",
      "Saving evaluation results to /home/22489437/Documents/GitHub/MTDSim/experiments/experimental_data/results/epsilon_0.7_decay_0.98.csv\n",
      "{'CompleteTopologyShuffle': 10, 'IPShuffle': 14, 'OSDiversity': 10, 'ServiceDiversity': 2}\n",
      "Saving evaluation results to /home/22489437/Documents/GitHub/MTDSim/experiments/experimental_data/results/epsilon_0.7_decay_0.98.csv\n",
      "{'CompleteTopologyShuffle': 6, 'IPShuffle': 12, 'OSDiversity': 18, 'ServiceDiversity': 6}\n",
      "Saving evaluation results to /home/22489437/Documents/GitHub/MTDSim/experiments/experimental_data/results/epsilon_0.7_decay_0.98.csv\n",
      "{'CompleteTopologyShuffle': 10, 'IPShuffle': 4, 'OSDiversity': 14, 'ServiceDiversity': 12}\n",
      "Saving evaluation results to /home/22489437/Documents/GitHub/MTDSim/experiments/experimental_data/results/epsilon_0.7_decay_0.98.csv\n",
      "Running experiments for model epsilon_0.7_decay_0.99\n",
      "Trial_ 0\n",
      "Trial_ 10\n",
      "Trial_ 20\n",
      "Trial_ 30\n",
      "Trial_ 40\n",
      "Trial_ 50\n",
      "Trial_ 60\n",
      "Trial_ 70\n",
      "Trial_ 80\n",
      "Trial_ 90\n"
     ]
    },
    {
     "name": "stderr",
     "output_type": "stream",
     "text": [
      "Compiled the loaded model, but the compiled metrics have yet to be built. `model.compile_metrics` will be empty until you train or evaluate the model.\n",
      "Compiled the loaded model, but the compiled metrics have yet to be built. `model.compile_metrics` will be empty until you train or evaluate the model.\n",
      "Compiled the loaded model, but the compiled metrics have yet to be built. `model.compile_metrics` will be empty until you train or evaluate the model.\n",
      "Compiled the loaded model, but the compiled metrics have yet to be built. `model.compile_metrics` will be empty until you train or evaluate the model.\n",
      "Compiled the loaded model, but the compiled metrics have yet to be built. `model.compile_metrics` will be empty until you train or evaluate the model.\n",
      "Compiled the loaded model, but the compiled metrics have yet to be built. `model.compile_metrics` will be empty until you train or evaluate the model.\n",
      "Compiled the loaded model, but the compiled metrics have yet to be built. `model.compile_metrics` will be empty until you train or evaluate the model.\n",
      "Compiled the loaded model, but the compiled metrics have yet to be built. `model.compile_metrics` will be empty until you train or evaluate the model.\n",
      "Compiled the loaded model, but the compiled metrics have yet to be built. `model.compile_metrics` will be empty until you train or evaluate the model.\n",
      "Compiled the loaded model, but the compiled metrics have yet to be built. `model.compile_metrics` will be empty until you train or evaluate the model.\n",
      "Compiled the loaded model, but the compiled metrics have yet to be built. `model.compile_metrics` will be empty until you train or evaluate the model.\n",
      "Compiled the loaded model, but the compiled metrics have yet to be built. `model.compile_metrics` will be empty until you train or evaluate the model.\n",
      "Compiled the loaded model, but the compiled metrics have yet to be built. `model.compile_metrics` will be empty until you train or evaluate the model.\n",
      "Compiled the loaded model, but the compiled metrics have yet to be built. `model.compile_metrics` will be empty until you train or evaluate the model.\n",
      "Compiled the loaded model, but the compiled metrics have yet to be built. `model.compile_metrics` will be empty until you train or evaluate the model.\n",
      "Compiled the loaded model, but the compiled metrics have yet to be built. `model.compile_metrics` will be empty until you train or evaluate the model.\n",
      "Compiled the loaded model, but the compiled metrics have yet to be built. `model.compile_metrics` will be empty until you train or evaluate the model.\n",
      "Compiled the loaded model, but the compiled metrics have yet to be built. `model.compile_metrics` will be empty until you train or evaluate the model.\n",
      "Compiled the loaded model, but the compiled metrics have yet to be built. `model.compile_metrics` will be empty until you train or evaluate the model.\n",
      "Compiled the loaded model, but the compiled metrics have yet to be built. `model.compile_metrics` will be empty until you train or evaluate the model.\n",
      "Compiled the loaded model, but the compiled metrics have yet to be built. `model.compile_metrics` will be empty until you train or evaluate the model.\n",
      "Compiled the loaded model, but the compiled metrics have yet to be built. `model.compile_metrics` will be empty until you train or evaluate the model.\n",
      "Compiled the loaded model, but the compiled metrics have yet to be built. `model.compile_metrics` will be empty until you train or evaluate the model.\n",
      "Compiled the loaded model, but the compiled metrics have yet to be built. `model.compile_metrics` will be empty until you train or evaluate the model.\n"
     ]
    },
    {
     "name": "stdout",
     "output_type": "stream",
     "text": [
      "{'CompleteTopologyShuffle': 6, 'IPShuffle': 12, 'OSDiversity': 10, 'ServiceDiversity': 10}\n",
      "Saving evaluation results to /home/22489437/Documents/GitHub/MTDSim/experiments/experimental_data/results/epsilon_0.7_decay_0.99.csv\n"
     ]
    },
    {
     "name": "stderr",
     "output_type": "stream",
     "text": [
      "Compiled the loaded model, but the compiled metrics have yet to be built. `model.compile_metrics` will be empty until you train or evaluate the model.\n"
     ]
    },
    {
     "name": "stdout",
     "output_type": "stream",
     "text": [
      "{'CompleteTopologyShuffle': 16, 'IPShuffle': 12, 'OSDiversity': 14, 'ServiceDiversity': 8}\n",
      "Saving evaluation results to /home/22489437/Documents/GitHub/MTDSim/experiments/experimental_data/results/epsilon_0.7_decay_0.99.csv\n"
     ]
    },
    {
     "name": "stderr",
     "output_type": "stream",
     "text": [
      "Compiled the loaded model, but the compiled metrics have yet to be built. `model.compile_metrics` will be empty until you train or evaluate the model.\n"
     ]
    },
    {
     "name": "stdout",
     "output_type": "stream",
     "text": [
      "{'CompleteTopologyShuffle': 6, 'IPShuffle': 14, 'OSDiversity': 12, 'ServiceDiversity': 8}\n",
      "Saving evaluation results to /home/22489437/Documents/GitHub/MTDSim/experiments/experimental_data/results/epsilon_0.7_decay_0.99.csv\n"
     ]
    },
    {
     "name": "stderr",
     "output_type": "stream",
     "text": [
      "Compiled the loaded model, but the compiled metrics have yet to be built. `model.compile_metrics` will be empty until you train or evaluate the model.\n"
     ]
    },
    {
     "name": "stdout",
     "output_type": "stream",
     "text": [
      "{'CompleteTopologyShuffle': 12, 'IPShuffle': 12, 'OSDiversity': 10, 'ServiceDiversity': 6}\n",
      "Saving evaluation results to /home/22489437/Documents/GitHub/MTDSim/experiments/experimental_data/results/epsilon_0.7_decay_0.99.csv\n",
      "{'CompleteTopologyShuffle': 16, 'IPShuffle': 8, 'OSDiversity': 10, 'ServiceDiversity': 8}\n"
     ]
    },
    {
     "name": "stderr",
     "output_type": "stream",
     "text": [
      "Compiled the loaded model, but the compiled metrics have yet to be built. `model.compile_metrics` will be empty until you train or evaluate the model.\n"
     ]
    },
    {
     "name": "stdout",
     "output_type": "stream",
     "text": [
      "Saving evaluation results to /home/22489437/Documents/GitHub/MTDSim/experiments/experimental_data/results/epsilon_0.7_decay_0.99.csv\n"
     ]
    },
    {
     "name": "stderr",
     "output_type": "stream",
     "text": [
      "Compiled the loaded model, but the compiled metrics have yet to be built. `model.compile_metrics` will be empty until you train or evaluate the model.\n"
     ]
    },
    {
     "name": "stdout",
     "output_type": "stream",
     "text": [
      "{'CompleteTopologyShuffle': 14, 'IPShuffle': 12, 'OSDiversity': 12, 'ServiceDiversity': 12}\n",
      "{'CompleteTopologyShuffle': 6, 'IPShuffle': 14, 'OSDiversity': 14, 'ServiceDiversity': 12}\n",
      "{'CompleteTopologyShuffle': 12, 'IPShuffle': 6, 'OSDiversity': 12, 'ServiceDiversity': 10}\n",
      "{'CompleteTopologyShuffle': 12, 'IPShuffle': 12, 'OSDiversity': 8, 'ServiceDiversity': 8}\n",
      "Saving evaluation results to /home/22489437/Documents/GitHub/MTDSim/experiments/experimental_data/results/epsilon_0.7_decay_0.99.csvSaving evaluation results to /home/22489437/Documents/GitHub/MTDSim/experiments/experimental_data/results/epsilon_0.7_decay_0.99.csv\n",
      "Saving evaluation results to /home/22489437/Documents/GitHub/MTDSim/experiments/experimental_data/results/epsilon_0.7_decay_0.99.csv\n",
      "\n",
      "Saving evaluation results to /home/22489437/Documents/GitHub/MTDSim/experiments/experimental_data/results/epsilon_0.7_decay_0.99.csv\n"
     ]
    },
    {
     "name": "stderr",
     "output_type": "stream",
     "text": [
      "Compiled the loaded model, but the compiled metrics have yet to be built. `model.compile_metrics` will be empty until you train or evaluate the model.\n",
      "Compiled the loaded model, but the compiled metrics have yet to be built. `model.compile_metrics` will be empty until you train or evaluate the model.\n",
      "Compiled the loaded model, but the compiled metrics have yet to be built. `model.compile_metrics` will be empty until you train or evaluate the model.\n",
      "Compiled the loaded model, but the compiled metrics have yet to be built. `model.compile_metrics` will be empty until you train or evaluate the model.\n"
     ]
    },
    {
     "name": "stdout",
     "output_type": "stream",
     "text": [
      "{'CompleteTopologyShuffle': 8, 'IPShuffle': 12, 'OSDiversity': 8, 'ServiceDiversity': 12}\n",
      "{'CompleteTopologyShuffle': 10, 'IPShuffle': 8, 'OSDiversity': 6, 'ServiceDiversity': 20}\n",
      "Saving evaluation results to /home/22489437/Documents/GitHub/MTDSim/experiments/experimental_data/results/epsilon_0.7_decay_0.99.csv\n",
      "Saving evaluation results to /home/22489437/Documents/GitHub/MTDSim/experiments/experimental_data/results/epsilon_0.7_decay_0.99.csv\n"
     ]
    },
    {
     "name": "stderr",
     "output_type": "stream",
     "text": [
      "Compiled the loaded model, but the compiled metrics have yet to be built. `model.compile_metrics` will be empty until you train or evaluate the model.\n",
      "Compiled the loaded model, but the compiled metrics have yet to be built. `model.compile_metrics` will be empty until you train or evaluate the model.\n"
     ]
    },
    {
     "name": "stdout",
     "output_type": "stream",
     "text": [
      "{'CompleteTopologyShuffle': 10, 'IPShuffle': 8, 'OSDiversity': 16, 'ServiceDiversity': 12}\n",
      "{'CompleteTopologyShuffle': 12, 'IPShuffle': 12, 'OSDiversity': 8, 'ServiceDiversity': 10}\n",
      "Saving evaluation results to /home/22489437/Documents/GitHub/MTDSim/experiments/experimental_data/results/epsilon_0.7_decay_0.99.csv\n",
      "Saving evaluation results to /home/22489437/Documents/GitHub/MTDSim/experiments/experimental_data/results/epsilon_0.7_decay_0.99.csv\n"
     ]
    },
    {
     "name": "stderr",
     "output_type": "stream",
     "text": [
      "Compiled the loaded model, but the compiled metrics have yet to be built. `model.compile_metrics` will be empty until you train or evaluate the model.\n",
      "Compiled the loaded model, but the compiled metrics have yet to be built. `model.compile_metrics` will be empty until you train or evaluate the model.\n"
     ]
    },
    {
     "name": "stdout",
     "output_type": "stream",
     "text": [
      "{'CompleteTopologyShuffle': 8, 'IPShuffle': 10, 'OSDiversity': 8, 'ServiceDiversity': 10}\n",
      "{'CompleteTopologyShuffle': 6, 'IPShuffle': 4, 'OSDiversity': 12, 'ServiceDiversity': 14}\n",
      "{'CompleteTopologyShuffle': 6, 'IPShuffle': 6, 'OSDiversity': 16, 'ServiceDiversity': 16}\n",
      "Saving evaluation results to /home/22489437/Documents/GitHub/MTDSim/experiments/experimental_data/results/epsilon_0.7_decay_0.99.csv\n",
      "Saving evaluation results to /home/22489437/Documents/GitHub/MTDSim/experiments/experimental_data/results/epsilon_0.7_decay_0.99.csv\n"
     ]
    },
    {
     "name": "stderr",
     "output_type": "stream",
     "text": [
      "Compiled the loaded model, but the compiled metrics have yet to be built. `model.compile_metrics` will be empty until you train or evaluate the model.\n"
     ]
    },
    {
     "name": "stdout",
     "output_type": "stream",
     "text": [
      "Saving evaluation results to /home/22489437/Documents/GitHub/MTDSim/experiments/experimental_data/results/epsilon_0.7_decay_0.99.csv\n"
     ]
    },
    {
     "name": "stderr",
     "output_type": "stream",
     "text": [
      "Compiled the loaded model, but the compiled metrics have yet to be built. `model.compile_metrics` will be empty until you train or evaluate the model.\n",
      "Compiled the loaded model, but the compiled metrics have yet to be built. `model.compile_metrics` will be empty until you train or evaluate the model.\n"
     ]
    },
    {
     "name": "stdout",
     "output_type": "stream",
     "text": [
      "{'CompleteTopologyShuffle': 12, 'IPShuffle': 8, 'OSDiversity': 10, 'ServiceDiversity': 4}\n",
      "Saving evaluation results to /home/22489437/Documents/GitHub/MTDSim/experiments/experimental_data/results/epsilon_0.7_decay_0.99.csv\n"
     ]
    },
    {
     "name": "stderr",
     "output_type": "stream",
     "text": [
      "Compiled the loaded model, but the compiled metrics have yet to be built. `model.compile_metrics` will be empty until you train or evaluate the model.\n"
     ]
    },
    {
     "name": "stdout",
     "output_type": "stream",
     "text": [
      "{'CompleteTopologyShuffle': 14, 'IPShuffle': 8, 'OSDiversity': 6, 'ServiceDiversity': 10}\n",
      "Saving evaluation results to /home/22489437/Documents/GitHub/MTDSim/experiments/experimental_data/results/epsilon_0.7_decay_0.99.csv\n"
     ]
    },
    {
     "name": "stderr",
     "output_type": "stream",
     "text": [
      "Compiled the loaded model, but the compiled metrics have yet to be built. `model.compile_metrics` will be empty until you train or evaluate the model.\n"
     ]
    },
    {
     "name": "stdout",
     "output_type": "stream",
     "text": [
      "{'CompleteTopologyShuffle': 8, 'IPShuffle': 8, 'OSDiversity': 10, 'ServiceDiversity': 10}\n",
      "Saving evaluation results to /home/22489437/Documents/GitHub/MTDSim/experiments/experimental_data/results/epsilon_0.7_decay_0.99.csv\n",
      "{'CompleteTopologyShuffle': 10, 'IPShuffle': 12, 'OSDiversity': 6, 'ServiceDiversity': 12}\n"
     ]
    },
    {
     "name": "stderr",
     "output_type": "stream",
     "text": [
      "Compiled the loaded model, but the compiled metrics have yet to be built. `model.compile_metrics` will be empty until you train or evaluate the model.\n"
     ]
    },
    {
     "name": "stdout",
     "output_type": "stream",
     "text": [
      "Saving evaluation results to /home/22489437/Documents/GitHub/MTDSim/experiments/experimental_data/results/epsilon_0.7_decay_0.99.csv\n"
     ]
    },
    {
     "name": "stderr",
     "output_type": "stream",
     "text": [
      "Compiled the loaded model, but the compiled metrics have yet to be built. `model.compile_metrics` will be empty until you train or evaluate the model.\n"
     ]
    },
    {
     "name": "stdout",
     "output_type": "stream",
     "text": [
      "{'CompleteTopologyShuffle': 10, 'IPShuffle': 14, 'OSDiversity': 8, 'ServiceDiversity': 12}\n",
      "{'CompleteTopologyShuffle': 10, 'IPShuffle': 4, 'OSDiversity': 12, 'ServiceDiversity': 12}\n",
      "Saving evaluation results to /home/22489437/Documents/GitHub/MTDSim/experiments/experimental_data/results/epsilon_0.7_decay_0.99.csv\n",
      "Saving evaluation results to /home/22489437/Documents/GitHub/MTDSim/experiments/experimental_data/results/epsilon_0.7_decay_0.99.csv\n",
      "{'CompleteTopologyShuffle': 6, 'IPShuffle': 8, 'OSDiversity': 10, 'ServiceDiversity': 8}\n"
     ]
    },
    {
     "name": "stderr",
     "output_type": "stream",
     "text": [
      "Compiled the loaded model, but the compiled metrics have yet to be built. `model.compile_metrics` will be empty until you train or evaluate the model.\n",
      "Compiled the loaded model, but the compiled metrics have yet to be built. `model.compile_metrics` will be empty until you train or evaluate the model.\n"
     ]
    },
    {
     "name": "stdout",
     "output_type": "stream",
     "text": [
      "Saving evaluation results to /home/22489437/Documents/GitHub/MTDSim/experiments/experimental_data/results/epsilon_0.7_decay_0.99.csv\n"
     ]
    },
    {
     "name": "stderr",
     "output_type": "stream",
     "text": [
      "Compiled the loaded model, but the compiled metrics have yet to be built. `model.compile_metrics` will be empty until you train or evaluate the model.\n"
     ]
    },
    {
     "name": "stdout",
     "output_type": "stream",
     "text": [
      "{'CompleteTopologyShuffle': 14, 'IPShuffle': 10, 'OSDiversity': 14, 'ServiceDiversity': 12}\n",
      "Saving evaluation results to /home/22489437/Documents/GitHub/MTDSim/experiments/experimental_data/results/epsilon_0.7_decay_0.99.csv\n"
     ]
    },
    {
     "name": "stderr",
     "output_type": "stream",
     "text": [
      "Compiled the loaded model, but the compiled metrics have yet to be built. `model.compile_metrics` will be empty until you train or evaluate the model.\n"
     ]
    },
    {
     "name": "stdout",
     "output_type": "stream",
     "text": [
      "{'CompleteTopologyShuffle': 8, 'IPShuffle': 10, 'OSDiversity': 14, 'ServiceDiversity': 8}\n",
      "Saving evaluation results to /home/22489437/Documents/GitHub/MTDSim/experiments/experimental_data/results/epsilon_0.7_decay_0.99.csv\n"
     ]
    },
    {
     "name": "stderr",
     "output_type": "stream",
     "text": [
      "Compiled the loaded model, but the compiled metrics have yet to be built. `model.compile_metrics` will be empty until you train or evaluate the model.\n"
     ]
    },
    {
     "name": "stdout",
     "output_type": "stream",
     "text": [
      "{'CompleteTopologyShuffle': 12, 'IPShuffle': 10, 'OSDiversity': 16, 'ServiceDiversity': 6}\n",
      "Saving evaluation results to /home/22489437/Documents/GitHub/MTDSim/experiments/experimental_data/results/epsilon_0.7_decay_0.99.csv\n"
     ]
    },
    {
     "name": "stderr",
     "output_type": "stream",
     "text": [
      "Compiled the loaded model, but the compiled metrics have yet to be built. `model.compile_metrics` will be empty until you train or evaluate the model.\n"
     ]
    },
    {
     "name": "stdout",
     "output_type": "stream",
     "text": [
      "{'CompleteTopologyShuffle': 14, 'IPShuffle': 12, 'OSDiversity': 8, 'ServiceDiversity': 4}\n",
      "Saving evaluation results to /home/22489437/Documents/GitHub/MTDSim/experiments/experimental_data/results/epsilon_0.7_decay_0.99.csv\n"
     ]
    },
    {
     "name": "stderr",
     "output_type": "stream",
     "text": [
      "Compiled the loaded model, but the compiled metrics have yet to be built. `model.compile_metrics` will be empty until you train or evaluate the model.\n"
     ]
    },
    {
     "name": "stdout",
     "output_type": "stream",
     "text": [
      "{'CompleteTopologyShuffle': 12, 'IPShuffle': 6, 'OSDiversity': 10, 'ServiceDiversity': 10}\n",
      "Saving evaluation results to /home/22489437/Documents/GitHub/MTDSim/experiments/experimental_data/results/epsilon_0.7_decay_0.99.csv\n"
     ]
    },
    {
     "name": "stderr",
     "output_type": "stream",
     "text": [
      "Compiled the loaded model, but the compiled metrics have yet to be built. `model.compile_metrics` will be empty until you train or evaluate the model.\n"
     ]
    },
    {
     "name": "stdout",
     "output_type": "stream",
     "text": [
      "{'CompleteTopologyShuffle': 8, 'IPShuffle': 10, 'OSDiversity': 10, 'ServiceDiversity': 14}\n",
      "Saving evaluation results to /home/22489437/Documents/GitHub/MTDSim/experiments/experimental_data/results/epsilon_0.7_decay_0.99.csv\n"
     ]
    },
    {
     "name": "stderr",
     "output_type": "stream",
     "text": [
      "Compiled the loaded model, but the compiled metrics have yet to be built. `model.compile_metrics` will be empty until you train or evaluate the model.\n"
     ]
    },
    {
     "name": "stdout",
     "output_type": "stream",
     "text": [
      "{'CompleteTopologyShuffle': 18, 'IPShuffle': 10, 'OSDiversity': 12, 'ServiceDiversity': 4}\n",
      "Saving evaluation results to /home/22489437/Documents/GitHub/MTDSim/experiments/experimental_data/results/epsilon_0.7_decay_0.99.csv\n"
     ]
    },
    {
     "name": "stderr",
     "output_type": "stream",
     "text": [
      "Compiled the loaded model, but the compiled metrics have yet to be built. `model.compile_metrics` will be empty until you train or evaluate the model.\n"
     ]
    },
    {
     "name": "stdout",
     "output_type": "stream",
     "text": [
      "{'CompleteTopologyShuffle': 10, 'IPShuffle': 16, 'OSDiversity': 8, 'ServiceDiversity': 12}\n",
      "Saving evaluation results to /home/22489437/Documents/GitHub/MTDSim/experiments/experimental_data/results/epsilon_0.7_decay_0.99.csv\n"
     ]
    },
    {
     "name": "stderr",
     "output_type": "stream",
     "text": [
      "Compiled the loaded model, but the compiled metrics have yet to be built. `model.compile_metrics` will be empty until you train or evaluate the model.\n"
     ]
    },
    {
     "name": "stdout",
     "output_type": "stream",
     "text": [
      "{'CompleteTopologyShuffle': 18, 'IPShuffle': 2, 'OSDiversity': 10, 'ServiceDiversity': 10}\n",
      "Saving evaluation results to /home/22489437/Documents/GitHub/MTDSim/experiments/experimental_data/results/epsilon_0.7_decay_0.99.csv\n"
     ]
    },
    {
     "name": "stderr",
     "output_type": "stream",
     "text": [
      "Compiled the loaded model, but the compiled metrics have yet to be built. `model.compile_metrics` will be empty until you train or evaluate the model.\n"
     ]
    },
    {
     "name": "stdout",
     "output_type": "stream",
     "text": [
      "{'CompleteTopologyShuffle': 6, 'IPShuffle': 16, 'OSDiversity': 10, 'ServiceDiversity': 12}\n",
      "{'CompleteTopologyShuffle': 10, 'IPShuffle': 8, 'OSDiversity': 14, 'ServiceDiversity': 14}\n",
      "{'CompleteTopologyShuffle': 4, 'IPShuffle': 18, 'OSDiversity': 12, 'ServiceDiversity': 12}\n",
      "Saving evaluation results to /home/22489437/Documents/GitHub/MTDSim/experiments/experimental_data/results/epsilon_0.7_decay_0.99.csv\n",
      "Saving evaluation results to /home/22489437/Documents/GitHub/MTDSim/experiments/experimental_data/results/epsilon_0.7_decay_0.99.csv\n",
      "Saving evaluation results to /home/22489437/Documents/GitHub/MTDSim/experiments/experimental_data/results/epsilon_0.7_decay_0.99.csv\n"
     ]
    },
    {
     "name": "stderr",
     "output_type": "stream",
     "text": [
      "Compiled the loaded model, but the compiled metrics have yet to be built. `model.compile_metrics` will be empty until you train or evaluate the model.\n",
      "Compiled the loaded model, but the compiled metrics have yet to be built. `model.compile_metrics` will be empty until you train or evaluate the model.\n",
      "Compiled the loaded model, but the compiled metrics have yet to be built. `model.compile_metrics` will be empty until you train or evaluate the model.\n"
     ]
    },
    {
     "name": "stdout",
     "output_type": "stream",
     "text": [
      "{'CompleteTopologyShuffle': 8, 'IPShuffle': 28, 'OSDiversity': 10, 'ServiceDiversity': 4}\n",
      "Saving evaluation results to /home/22489437/Documents/GitHub/MTDSim/experiments/experimental_data/results/epsilon_0.7_decay_0.99.csv\n"
     ]
    },
    {
     "name": "stderr",
     "output_type": "stream",
     "text": [
      "Compiled the loaded model, but the compiled metrics have yet to be built. `model.compile_metrics` will be empty until you train or evaluate the model.\n"
     ]
    },
    {
     "name": "stdout",
     "output_type": "stream",
     "text": [
      "{'CompleteTopologyShuffle': 12, 'IPShuffle': 10, 'OSDiversity': 8, 'ServiceDiversity': 16}\n",
      "{'CompleteTopologyShuffle': 10, 'IPShuffle': 10, 'OSDiversity': 10, 'ServiceDiversity': 8}\n",
      "Saving evaluation results to /home/22489437/Documents/GitHub/MTDSim/experiments/experimental_data/results/epsilon_0.7_decay_0.99.csv\n"
     ]
    },
    {
     "name": "stderr",
     "output_type": "stream",
     "text": [
      "Compiled the loaded model, but the compiled metrics have yet to be built. `model.compile_metrics` will be empty until you train or evaluate the model.\n"
     ]
    },
    {
     "name": "stdout",
     "output_type": "stream",
     "text": [
      "Saving evaluation results to /home/22489437/Documents/GitHub/MTDSim/experiments/experimental_data/results/epsilon_0.7_decay_0.99.csv\n"
     ]
    },
    {
     "name": "stderr",
     "output_type": "stream",
     "text": [
      "Compiled the loaded model, but the compiled metrics have yet to be built. `model.compile_metrics` will be empty until you train or evaluate the model.\n"
     ]
    },
    {
     "name": "stdout",
     "output_type": "stream",
     "text": [
      "{'CompleteTopologyShuffle': 8, 'IPShuffle': 8, 'OSDiversity': 14, 'ServiceDiversity': 16}\n",
      "{'CompleteTopologyShuffle': 6, 'IPShuffle': 12, 'OSDiversity': 6, 'ServiceDiversity': 6}\n",
      "Saving evaluation results to /home/22489437/Documents/GitHub/MTDSim/experiments/experimental_data/results/epsilon_0.7_decay_0.99.csv\n",
      "Saving evaluation results to /home/22489437/Documents/GitHub/MTDSim/experiments/experimental_data/results/epsilon_0.7_decay_0.99.csv\n"
     ]
    },
    {
     "name": "stderr",
     "output_type": "stream",
     "text": [
      "Compiled the loaded model, but the compiled metrics have yet to be built. `model.compile_metrics` will be empty until you train or evaluate the model.\n",
      "Compiled the loaded model, but the compiled metrics have yet to be built. `model.compile_metrics` will be empty until you train or evaluate the model.\n"
     ]
    },
    {
     "name": "stdout",
     "output_type": "stream",
     "text": [
      "{'CompleteTopologyShuffle': 12, 'IPShuffle': 10, 'OSDiversity': 6, 'ServiceDiversity': 8}\n",
      "Saving evaluation results to /home/22489437/Documents/GitHub/MTDSim/experiments/experimental_data/results/epsilon_0.7_decay_0.99.csv\n"
     ]
    },
    {
     "name": "stderr",
     "output_type": "stream",
     "text": [
      "Compiled the loaded model, but the compiled metrics have yet to be built. `model.compile_metrics` will be empty until you train or evaluate the model.\n"
     ]
    },
    {
     "name": "stdout",
     "output_type": "stream",
     "text": [
      "{'CompleteTopologyShuffle': 4, 'IPShuffle': 14, 'OSDiversity': 4, 'ServiceDiversity': 10}\n",
      "{'CompleteTopologyShuffle': 12, 'IPShuffle': 8, 'OSDiversity': 8, 'ServiceDiversity': 12}\n",
      "Saving evaluation results to /home/22489437/Documents/GitHub/MTDSim/experiments/experimental_data/results/epsilon_0.7_decay_0.99.csv\n"
     ]
    },
    {
     "name": "stderr",
     "output_type": "stream",
     "text": [
      "Compiled the loaded model, but the compiled metrics have yet to be built. `model.compile_metrics` will be empty until you train or evaluate the model.\n"
     ]
    },
    {
     "name": "stdout",
     "output_type": "stream",
     "text": [
      "Saving evaluation results to /home/22489437/Documents/GitHub/MTDSim/experiments/experimental_data/results/epsilon_0.7_decay_0.99.csv\n"
     ]
    },
    {
     "name": "stderr",
     "output_type": "stream",
     "text": [
      "Compiled the loaded model, but the compiled metrics have yet to be built. `model.compile_metrics` will be empty until you train or evaluate the model.\n"
     ]
    },
    {
     "name": "stdout",
     "output_type": "stream",
     "text": [
      "{'CompleteTopologyShuffle': 8, 'IPShuffle': 18, 'OSDiversity': 10, 'ServiceDiversity': 16}\n",
      "Saving evaluation results to /home/22489437/Documents/GitHub/MTDSim/experiments/experimental_data/results/epsilon_0.7_decay_0.99.csv\n"
     ]
    },
    {
     "name": "stderr",
     "output_type": "stream",
     "text": [
      "Compiled the loaded model, but the compiled metrics have yet to be built. `model.compile_metrics` will be empty until you train or evaluate the model.\n"
     ]
    },
    {
     "name": "stdout",
     "output_type": "stream",
     "text": [
      "{'CompleteTopologyShuffle': 8, 'IPShuffle': 12, 'OSDiversity': 16, 'ServiceDiversity': 4}\n",
      "Saving evaluation results to /home/22489437/Documents/GitHub/MTDSim/experiments/experimental_data/results/epsilon_0.7_decay_0.99.csv\n"
     ]
    },
    {
     "name": "stderr",
     "output_type": "stream",
     "text": [
      "Compiled the loaded model, but the compiled metrics have yet to be built. `model.compile_metrics` will be empty until you train or evaluate the model.\n"
     ]
    },
    {
     "name": "stdout",
     "output_type": "stream",
     "text": [
      "{'CompleteTopologyShuffle': 8, 'IPShuffle': 6, 'OSDiversity': 18, 'ServiceDiversity': 12}\n",
      "{'CompleteTopologyShuffle': 18, 'IPShuffle': 4, 'OSDiversity': 10, 'ServiceDiversity': 6}\n",
      "{'CompleteTopologyShuffle': 6, 'IPShuffle': 14, 'OSDiversity': 12, 'ServiceDiversity': 12}\n",
      "Saving evaluation results to /home/22489437/Documents/GitHub/MTDSim/experiments/experimental_data/results/epsilon_0.7_decay_0.99.csv\n",
      "Saving evaluation results to /home/22489437/Documents/GitHub/MTDSim/experiments/experimental_data/results/epsilon_0.7_decay_0.99.csv\n"
     ]
    },
    {
     "name": "stderr",
     "output_type": "stream",
     "text": [
      "Compiled the loaded model, but the compiled metrics have yet to be built. `model.compile_metrics` will be empty until you train or evaluate the model.\n"
     ]
    },
    {
     "name": "stdout",
     "output_type": "stream",
     "text": [
      "Saving evaluation results to /home/22489437/Documents/GitHub/MTDSim/experiments/experimental_data/results/epsilon_0.7_decay_0.99.csv\n",
      "{'CompleteTopologyShuffle': 14, 'IPShuffle': 12, 'OSDiversity': 10, 'ServiceDiversity': 10}\n"
     ]
    },
    {
     "name": "stderr",
     "output_type": "stream",
     "text": [
      "Compiled the loaded model, but the compiled metrics have yet to be built. `model.compile_metrics` will be empty until you train or evaluate the model.\n",
      "Compiled the loaded model, but the compiled metrics have yet to be built. `model.compile_metrics` will be empty until you train or evaluate the model.\n"
     ]
    },
    {
     "name": "stdout",
     "output_type": "stream",
     "text": [
      "Saving evaluation results to /home/22489437/Documents/GitHub/MTDSim/experiments/experimental_data/results/epsilon_0.7_decay_0.99.csv\n"
     ]
    },
    {
     "name": "stderr",
     "output_type": "stream",
     "text": [
      "Compiled the loaded model, but the compiled metrics have yet to be built. `model.compile_metrics` will be empty until you train or evaluate the model.\n"
     ]
    },
    {
     "name": "stdout",
     "output_type": "stream",
     "text": [
      "{'CompleteTopologyShuffle': 10, 'IPShuffle': 6, 'OSDiversity': 20, 'ServiceDiversity': 8}\n",
      "Saving evaluation results to /home/22489437/Documents/GitHub/MTDSim/experiments/experimental_data/results/epsilon_0.7_decay_0.99.csv\n"
     ]
    },
    {
     "name": "stderr",
     "output_type": "stream",
     "text": [
      "Compiled the loaded model, but the compiled metrics have yet to be built. `model.compile_metrics` will be empty until you train or evaluate the model.\n"
     ]
    },
    {
     "name": "stdout",
     "output_type": "stream",
     "text": [
      "{'CompleteTopologyShuffle': 12, 'IPShuffle': 14, 'OSDiversity': 10, 'ServiceDiversity': 8}\n",
      "{'CompleteTopologyShuffle': 18, 'IPShuffle': 10, 'OSDiversity': 2, 'ServiceDiversity': 16}\n",
      "Saving evaluation results to /home/22489437/Documents/GitHub/MTDSim/experiments/experimental_data/results/epsilon_0.7_decay_0.99.csv\n"
     ]
    },
    {
     "name": "stderr",
     "output_type": "stream",
     "text": [
      "Compiled the loaded model, but the compiled metrics have yet to be built. `model.compile_metrics` will be empty until you train or evaluate the model.\n"
     ]
    },
    {
     "name": "stdout",
     "output_type": "stream",
     "text": [
      "Saving evaluation results to /home/22489437/Documents/GitHub/MTDSim/experiments/experimental_data/results/epsilon_0.7_decay_0.99.csv\n"
     ]
    },
    {
     "name": "stderr",
     "output_type": "stream",
     "text": [
      "Compiled the loaded model, but the compiled metrics have yet to be built. `model.compile_metrics` will be empty until you train or evaluate the model.\n"
     ]
    },
    {
     "name": "stdout",
     "output_type": "stream",
     "text": [
      "{'CompleteTopologyShuffle': 14, 'IPShuffle': 4, 'OSDiversity': 8, 'ServiceDiversity': 6}\n",
      "{'CompleteTopologyShuffle': 6, 'IPShuffle': 10, 'OSDiversity': 18, 'ServiceDiversity': 14}\n",
      "Saving evaluation results to /home/22489437/Documents/GitHub/MTDSim/experiments/experimental_data/results/epsilon_0.7_decay_0.99.csv\n",
      "Saving evaluation results to /home/22489437/Documents/GitHub/MTDSim/experiments/experimental_data/results/epsilon_0.7_decay_0.99.csv\n"
     ]
    },
    {
     "name": "stderr",
     "output_type": "stream",
     "text": [
      "Compiled the loaded model, but the compiled metrics have yet to be built. `model.compile_metrics` will be empty until you train or evaluate the model.\n",
      "Compiled the loaded model, but the compiled metrics have yet to be built. `model.compile_metrics` will be empty until you train or evaluate the model.\n"
     ]
    },
    {
     "name": "stdout",
     "output_type": "stream",
     "text": [
      "{'CompleteTopologyShuffle': 14, 'IPShuffle': 12, 'OSDiversity': 10, 'ServiceDiversity': 8}\n",
      "{'CompleteTopologyShuffle': 2, 'IPShuffle': 6, 'OSDiversity': 14, 'ServiceDiversity': 18}\n",
      "Saving evaluation results to /home/22489437/Documents/GitHub/MTDSim/experiments/experimental_data/results/epsilon_0.7_decay_0.99.csv\n"
     ]
    },
    {
     "name": "stderr",
     "output_type": "stream",
     "text": [
      "Compiled the loaded model, but the compiled metrics have yet to be built. `model.compile_metrics` will be empty until you train or evaluate the model.\n"
     ]
    },
    {
     "name": "stdout",
     "output_type": "stream",
     "text": [
      "Saving evaluation results to /home/22489437/Documents/GitHub/MTDSim/experiments/experimental_data/results/epsilon_0.7_decay_0.99.csv\n"
     ]
    },
    {
     "name": "stderr",
     "output_type": "stream",
     "text": [
      "Compiled the loaded model, but the compiled metrics have yet to be built. `model.compile_metrics` will be empty until you train or evaluate the model.\n"
     ]
    },
    {
     "name": "stdout",
     "output_type": "stream",
     "text": [
      "{'CompleteTopologyShuffle': 24, 'IPShuffle': 8, 'OSDiversity': 6, 'ServiceDiversity': 10}\n",
      "Saving evaluation results to /home/22489437/Documents/GitHub/MTDSim/experiments/experimental_data/results/epsilon_0.7_decay_0.99.csv\n"
     ]
    },
    {
     "name": "stderr",
     "output_type": "stream",
     "text": [
      "Compiled the loaded model, but the compiled metrics have yet to be built. `model.compile_metrics` will be empty until you train or evaluate the model.\n"
     ]
    },
    {
     "name": "stdout",
     "output_type": "stream",
     "text": [
      "{'CompleteTopologyShuffle': 8, 'IPShuffle': 16, 'OSDiversity': 8, 'ServiceDiversity': 12}\n",
      "Saving evaluation results to /home/22489437/Documents/GitHub/MTDSim/experiments/experimental_data/results/epsilon_0.7_decay_0.99.csv\n"
     ]
    },
    {
     "name": "stderr",
     "output_type": "stream",
     "text": [
      "Compiled the loaded model, but the compiled metrics have yet to be built. `model.compile_metrics` will be empty until you train or evaluate the model.\n"
     ]
    },
    {
     "name": "stdout",
     "output_type": "stream",
     "text": [
      "{'CompleteTopologyShuffle': 10, 'IPShuffle': 8, 'OSDiversity': 18, 'ServiceDiversity': 8}\n",
      "Saving evaluation results to /home/22489437/Documents/GitHub/MTDSim/experiments/experimental_data/results/epsilon_0.7_decay_0.99.csv\n",
      "{'CompleteTopologyShuffle': 10, 'IPShuffle': 8, 'OSDiversity': 6, 'ServiceDiversity': 14}\n"
     ]
    },
    {
     "name": "stderr",
     "output_type": "stream",
     "text": [
      "Compiled the loaded model, but the compiled metrics have yet to be built. `model.compile_metrics` will be empty until you train or evaluate the model.\n"
     ]
    },
    {
     "name": "stdout",
     "output_type": "stream",
     "text": [
      "Saving evaluation results to /home/22489437/Documents/GitHub/MTDSim/experiments/experimental_data/results/epsilon_0.7_decay_0.99.csv\n"
     ]
    },
    {
     "name": "stderr",
     "output_type": "stream",
     "text": [
      "Compiled the loaded model, but the compiled metrics have yet to be built. `model.compile_metrics` will be empty until you train or evaluate the model.\n"
     ]
    },
    {
     "name": "stdout",
     "output_type": "stream",
     "text": [
      "{'CompleteTopologyShuffle': 12, 'IPShuffle': 2, 'OSDiversity': 14, 'ServiceDiversity': 14}\n",
      "Saving evaluation results to /home/22489437/Documents/GitHub/MTDSim/experiments/experimental_data/results/epsilon_0.7_decay_0.99.csv\n"
     ]
    },
    {
     "name": "stderr",
     "output_type": "stream",
     "text": [
      "Compiled the loaded model, but the compiled metrics have yet to be built. `model.compile_metrics` will be empty until you train or evaluate the model.\n"
     ]
    },
    {
     "name": "stdout",
     "output_type": "stream",
     "text": [
      "{'CompleteTopologyShuffle': 8, 'IPShuffle': 12, 'OSDiversity': 14, 'ServiceDiversity': 10}\n",
      "Saving evaluation results to /home/22489437/Documents/GitHub/MTDSim/experiments/experimental_data/results/epsilon_0.7_decay_0.99.csv\n"
     ]
    },
    {
     "name": "stderr",
     "output_type": "stream",
     "text": [
      "Compiled the loaded model, but the compiled metrics have yet to be built. `model.compile_metrics` will be empty until you train or evaluate the model.\n"
     ]
    },
    {
     "name": "stdout",
     "output_type": "stream",
     "text": [
      "{'CompleteTopologyShuffle': 12, 'IPShuffle': 16, 'OSDiversity': 8, 'ServiceDiversity': 12}\n",
      "Saving evaluation results to /home/22489437/Documents/GitHub/MTDSim/experiments/experimental_data/results/epsilon_0.7_decay_0.99.csv\n",
      "{'CompleteTopologyShuffle': 20, 'IPShuffle': 6, 'OSDiversity': 4, 'ServiceDiversity': 16}\n"
     ]
    },
    {
     "name": "stderr",
     "output_type": "stream",
     "text": [
      "Compiled the loaded model, but the compiled metrics have yet to be built. `model.compile_metrics` will be empty until you train or evaluate the model.\n"
     ]
    },
    {
     "name": "stdout",
     "output_type": "stream",
     "text": [
      "Saving evaluation results to /home/22489437/Documents/GitHub/MTDSim/experiments/experimental_data/results/epsilon_0.7_decay_0.99.csv\n"
     ]
    },
    {
     "name": "stderr",
     "output_type": "stream",
     "text": [
      "Compiled the loaded model, but the compiled metrics have yet to be built. `model.compile_metrics` will be empty until you train or evaluate the model.\n"
     ]
    },
    {
     "name": "stdout",
     "output_type": "stream",
     "text": [
      "{'CompleteTopologyShuffle': 10, 'IPShuffle': 20, 'OSDiversity': 8, 'ServiceDiversity': 12}\n",
      "{'CompleteTopologyShuffle': 10, 'IPShuffle': 12, 'OSDiversity': 10, 'ServiceDiversity': 4}\n",
      "Saving evaluation results to /home/22489437/Documents/GitHub/MTDSim/experiments/experimental_data/results/epsilon_0.7_decay_0.99.csv\n",
      "Saving evaluation results to /home/22489437/Documents/GitHub/MTDSim/experiments/experimental_data/results/epsilon_0.7_decay_0.99.csv\n"
     ]
    },
    {
     "name": "stderr",
     "output_type": "stream",
     "text": [
      "Compiled the loaded model, but the compiled metrics have yet to be built. `model.compile_metrics` will be empty until you train or evaluate the model.\n",
      "Compiled the loaded model, but the compiled metrics have yet to be built. `model.compile_metrics` will be empty until you train or evaluate the model.\n"
     ]
    },
    {
     "name": "stdout",
     "output_type": "stream",
     "text": [
      "{'CompleteTopologyShuffle': 12, 'IPShuffle': 8, 'OSDiversity': 10, 'ServiceDiversity': 14}\n",
      "Saving evaluation results to /home/22489437/Documents/GitHub/MTDSim/experiments/experimental_data/results/epsilon_0.7_decay_0.99.csv\n"
     ]
    },
    {
     "name": "stderr",
     "output_type": "stream",
     "text": [
      "Compiled the loaded model, but the compiled metrics have yet to be built. `model.compile_metrics` will be empty until you train or evaluate the model.\n"
     ]
    },
    {
     "name": "stdout",
     "output_type": "stream",
     "text": [
      "{'CompleteTopologyShuffle': 12, 'IPShuffle': 8, 'OSDiversity': 6, 'ServiceDiversity': 12}\n",
      "{'CompleteTopologyShuffle': 8, 'IPShuffle': 6, 'OSDiversity': 12, 'ServiceDiversity': 10}\n",
      "Saving evaluation results to /home/22489437/Documents/GitHub/MTDSim/experiments/experimental_data/results/epsilon_0.7_decay_0.99.csv\n",
      "Saving evaluation results to /home/22489437/Documents/GitHub/MTDSim/experiments/experimental_data/results/epsilon_0.7_decay_0.99.csv\n"
     ]
    },
    {
     "name": "stderr",
     "output_type": "stream",
     "text": [
      "Compiled the loaded model, but the compiled metrics have yet to be built. `model.compile_metrics` will be empty until you train or evaluate the model.\n",
      "Compiled the loaded model, but the compiled metrics have yet to be built. `model.compile_metrics` will be empty until you train or evaluate the model.\n"
     ]
    },
    {
     "name": "stdout",
     "output_type": "stream",
     "text": [
      "{'CompleteTopologyShuffle': 6, 'IPShuffle': 6, 'OSDiversity': 16, 'ServiceDiversity': 14}\n",
      "{'CompleteTopologyShuffle': 16, 'IPShuffle': 10, 'OSDiversity': 16, 'ServiceDiversity': 4}\n",
      "Saving evaluation results to /home/22489437/Documents/GitHub/MTDSim/experiments/experimental_data/results/epsilon_0.7_decay_0.99.csv\n",
      "{'CompleteTopologyShuffle': 6, 'IPShuffle': 10, 'OSDiversity': 10, 'ServiceDiversity': 14}\n"
     ]
    },
    {
     "name": "stderr",
     "output_type": "stream",
     "text": [
      "Compiled the loaded model, but the compiled metrics have yet to be built. `model.compile_metrics` will be empty until you train or evaluate the model.\n"
     ]
    },
    {
     "name": "stdout",
     "output_type": "stream",
     "text": [
      "Saving evaluation results to /home/22489437/Documents/GitHub/MTDSim/experiments/experimental_data/results/epsilon_0.7_decay_0.99.csv\n",
      "Saving evaluation results to /home/22489437/Documents/GitHub/MTDSim/experiments/experimental_data/results/epsilon_0.7_decay_0.99.csv\n"
     ]
    },
    {
     "name": "stderr",
     "output_type": "stream",
     "text": [
      "Compiled the loaded model, but the compiled metrics have yet to be built. `model.compile_metrics` will be empty until you train or evaluate the model.\n"
     ]
    },
    {
     "name": "stdout",
     "output_type": "stream",
     "text": [
      "{'CompleteTopologyShuffle': 14, 'IPShuffle': 10, 'OSDiversity': 8, 'ServiceDiversity': 12}\n",
      "Saving evaluation results to /home/22489437/Documents/GitHub/MTDSim/experiments/experimental_data/results/epsilon_0.7_decay_0.99.csv\n"
     ]
    },
    {
     "name": "stderr",
     "output_type": "stream",
     "text": [
      "Compiled the loaded model, but the compiled metrics have yet to be built. `model.compile_metrics` will be empty until you train or evaluate the model.\n",
      "Compiled the loaded model, but the compiled metrics have yet to be built. `model.compile_metrics` will be empty until you train or evaluate the model.\n"
     ]
    },
    {
     "name": "stdout",
     "output_type": "stream",
     "text": [
      "{'CompleteTopologyShuffle': 16, 'IPShuffle': 8, 'OSDiversity': 6, 'ServiceDiversity': 8}\n",
      "Saving evaluation results to /home/22489437/Documents/GitHub/MTDSim/experiments/experimental_data/results/epsilon_0.7_decay_0.99.csv\n"
     ]
    },
    {
     "name": "stderr",
     "output_type": "stream",
     "text": [
      "Compiled the loaded model, but the compiled metrics have yet to be built. `model.compile_metrics` will be empty until you train or evaluate the model.\n"
     ]
    },
    {
     "name": "stdout",
     "output_type": "stream",
     "text": [
      "{'CompleteTopologyShuffle': 4, 'IPShuffle': 18, 'OSDiversity': 12, 'ServiceDiversity': 10}\n",
      "Saving evaluation results to /home/22489437/Documents/GitHub/MTDSim/experiments/experimental_data/results/epsilon_0.7_decay_0.99.csv\n"
     ]
    },
    {
     "name": "stderr",
     "output_type": "stream",
     "text": [
      "Compiled the loaded model, but the compiled metrics have yet to be built. `model.compile_metrics` will be empty until you train or evaluate the model.\n"
     ]
    },
    {
     "name": "stdout",
     "output_type": "stream",
     "text": [
      "{'CompleteTopologyShuffle': 8, 'IPShuffle': 16, 'OSDiversity': 8, 'ServiceDiversity': 18}\n",
      "Saving evaluation results to /home/22489437/Documents/GitHub/MTDSim/experiments/experimental_data/results/epsilon_0.7_decay_0.99.csv\n"
     ]
    },
    {
     "name": "stderr",
     "output_type": "stream",
     "text": [
      "Compiled the loaded model, but the compiled metrics have yet to be built. `model.compile_metrics` will be empty until you train or evaluate the model.\n"
     ]
    },
    {
     "name": "stdout",
     "output_type": "stream",
     "text": [
      "{'CompleteTopologyShuffle': 6, 'IPShuffle': 16, 'OSDiversity': 18, 'ServiceDiversity': 8}\n",
      "Saving evaluation results to /home/22489437/Documents/GitHub/MTDSim/experiments/experimental_data/results/epsilon_0.7_decay_0.99.csv\n",
      "{'CompleteTopologyShuffle': 8, 'IPShuffle': 4, 'OSDiversity': 12, 'ServiceDiversity': 20}\n",
      "Saving evaluation results to /home/22489437/Documents/GitHub/MTDSim/experiments/experimental_data/results/epsilon_0.7_decay_0.99.csv\n",
      "{'CompleteTopologyShuffle': 10, 'IPShuffle': 6, 'OSDiversity': 18, 'ServiceDiversity': 12}\n",
      "Saving evaluation results to /home/22489437/Documents/GitHub/MTDSim/experiments/experimental_data/results/epsilon_0.7_decay_0.99.csv\n",
      "{'CompleteTopologyShuffle': 14, 'IPShuffle': 4, 'OSDiversity': 10, 'ServiceDiversity': 6}\n",
      "{'CompleteTopologyShuffle': 12, 'IPShuffle': 16, 'OSDiversity': 10, 'ServiceDiversity': 4}\n",
      "Saving evaluation results to /home/22489437/Documents/GitHub/MTDSim/experiments/experimental_data/results/epsilon_0.7_decay_0.99.csv\n",
      "Saving evaluation results to /home/22489437/Documents/GitHub/MTDSim/experiments/experimental_data/results/epsilon_0.7_decay_0.99.csv\n",
      "{'CompleteTopologyShuffle': 6, 'IPShuffle': 12, 'OSDiversity': 8, 'ServiceDiversity': 12}\n",
      "Saving evaluation results to /home/22489437/Documents/GitHub/MTDSim/experiments/experimental_data/results/epsilon_0.7_decay_0.99.csv\n",
      "{'CompleteTopologyShuffle': 10, 'IPShuffle': 12, 'OSDiversity': 8, 'ServiceDiversity': 14}\n",
      "Saving evaluation results to /home/22489437/Documents/GitHub/MTDSim/experiments/experimental_data/results/epsilon_0.7_decay_0.99.csv\n",
      "{'CompleteTopologyShuffle': 8, 'IPShuffle': 6, 'OSDiversity': 10, 'ServiceDiversity': 8}\n",
      "Saving evaluation results to /home/22489437/Documents/GitHub/MTDSim/experiments/experimental_data/results/epsilon_0.7_decay_0.99.csv\n",
      "{'CompleteTopologyShuffle': 14, 'IPShuffle': 2, 'OSDiversity': 12, 'ServiceDiversity': 14}\n",
      "Saving evaluation results to /home/22489437/Documents/GitHub/MTDSim/experiments/experimental_data/results/epsilon_0.7_decay_0.99.csv\n",
      "{'CompleteTopologyShuffle': 8, 'IPShuffle': 14, 'OSDiversity': 8, 'ServiceDiversity': 10}\n",
      "Saving evaluation results to /home/22489437/Documents/GitHub/MTDSim/experiments/experimental_data/results/epsilon_0.7_decay_0.99.csv\n",
      "{'CompleteTopologyShuffle': 8, 'IPShuffle': 12, 'OSDiversity': 16, 'ServiceDiversity': 8}\n",
      "Saving evaluation results to /home/22489437/Documents/GitHub/MTDSim/experiments/experimental_data/results/epsilon_0.7_decay_0.99.csv\n",
      "{'CompleteTopologyShuffle': 10, 'IPShuffle': 12, 'OSDiversity': 10, 'ServiceDiversity': 16}\n",
      "{'CompleteTopologyShuffle': 16, 'IPShuffle': 10, 'OSDiversity': 6, 'ServiceDiversity': 8}\n",
      "Saving evaluation results to /home/22489437/Documents/GitHub/MTDSim/experiments/experimental_data/results/epsilon_0.7_decay_0.99.csv\n",
      "Saving evaluation results to /home/22489437/Documents/GitHub/MTDSim/experiments/experimental_data/results/epsilon_0.7_decay_0.99.csv\n",
      "{'CompleteTopologyShuffle': 18, 'IPShuffle': 18, 'OSDiversity': 10, 'ServiceDiversity': 8}\n",
      "Saving evaluation results to /home/22489437/Documents/GitHub/MTDSim/experiments/experimental_data/results/epsilon_0.7_decay_0.99.csv\n",
      "{'CompleteTopologyShuffle': 8, 'IPShuffle': 10, 'OSDiversity': 6, 'ServiceDiversity': 12}\n",
      "Saving evaluation results to /home/22489437/Documents/GitHub/MTDSim/experiments/experimental_data/results/epsilon_0.7_decay_0.99.csv\n",
      "{'CompleteTopologyShuffle': 12, 'IPShuffle': 14, 'OSDiversity': 6, 'ServiceDiversity': 8}\n",
      "{'CompleteTopologyShuffle': 12, 'IPShuffle': 10, 'OSDiversity': 8, 'ServiceDiversity': 10}\n",
      "Saving evaluation results to /home/22489437/Documents/GitHub/MTDSim/experiments/experimental_data/results/epsilon_0.7_decay_0.99.csv\n",
      "Saving evaluation results to /home/22489437/Documents/GitHub/MTDSim/experiments/experimental_data/results/epsilon_0.7_decay_0.99.csv\n",
      "{'CompleteTopologyShuffle': 10, 'IPShuffle': 12, 'OSDiversity': 8, 'ServiceDiversity': 8}\n",
      "Saving evaluation results to /home/22489437/Documents/GitHub/MTDSim/experiments/experimental_data/results/epsilon_0.7_decay_0.99.csv\n",
      "{'CompleteTopologyShuffle': 4, 'IPShuffle': 22, 'OSDiversity': 10, 'ServiceDiversity': 10}\n",
      "Saving evaluation results to /home/22489437/Documents/GitHub/MTDSim/experiments/experimental_data/results/epsilon_0.7_decay_0.99.csv\n",
      "{'CompleteTopologyShuffle': 8, 'IPShuffle': 12, 'OSDiversity': 10, 'ServiceDiversity': 6}\n",
      "Saving evaluation results to /home/22489437/Documents/GitHub/MTDSim/experiments/experimental_data/results/epsilon_0.7_decay_0.99.csv\n",
      "{'CompleteTopologyShuffle': 18, 'IPShuffle': 18, 'OSDiversity': 6, 'ServiceDiversity': 4}\n",
      "Saving evaluation results to /home/22489437/Documents/GitHub/MTDSim/experiments/experimental_data/results/epsilon_0.7_decay_0.99.csv\n",
      "{'CompleteTopologyShuffle': 10, 'IPShuffle': 18, 'OSDiversity': 6, 'ServiceDiversity': 18}\n",
      "Saving evaluation results to /home/22489437/Documents/GitHub/MTDSim/experiments/experimental_data/results/epsilon_0.7_decay_0.99.csv\n",
      "{'CompleteTopologyShuffle': 4, 'IPShuffle': 10, 'OSDiversity': 6, 'ServiceDiversity': 16}\n",
      "Saving evaluation results to /home/22489437/Documents/GitHub/MTDSim/experiments/experimental_data/results/epsilon_0.7_decay_0.99.csv\n",
      "{'CompleteTopologyShuffle': 6, 'IPShuffle': 10, 'OSDiversity': 12, 'ServiceDiversity': 16}\n",
      "Saving evaluation results to /home/22489437/Documents/GitHub/MTDSim/experiments/experimental_data/results/epsilon_0.7_decay_0.99.csv\n",
      "Running experiments for model epsilon_0.7_decay_0.995\n",
      "Trial_ 0\n",
      "Trial_ 10\n",
      "Trial_ 20\n",
      "Trial_ 30\n",
      "Trial_ 40\n",
      "Trial_ 50\n",
      "Trial_ 60\n",
      "Trial_ 70\n",
      "Trial_ 80\n",
      "Trial_ 90\n"
     ]
    },
    {
     "name": "stderr",
     "output_type": "stream",
     "text": [
      "Compiled the loaded model, but the compiled metrics have yet to be built. `model.compile_metrics` will be empty until you train or evaluate the model.\n",
      "Compiled the loaded model, but the compiled metrics have yet to be built. `model.compile_metrics` will be empty until you train or evaluate the model.\n",
      "Compiled the loaded model, but the compiled metrics have yet to be built. `model.compile_metrics` will be empty until you train or evaluate the model.\n",
      "Compiled the loaded model, but the compiled metrics have yet to be built. `model.compile_metrics` will be empty until you train or evaluate the model.\n",
      "Compiled the loaded model, but the compiled metrics have yet to be built. `model.compile_metrics` will be empty until you train or evaluate the model.\n",
      "Compiled the loaded model, but the compiled metrics have yet to be built. `model.compile_metrics` will be empty until you train or evaluate the model.\n",
      "Compiled the loaded model, but the compiled metrics have yet to be built. `model.compile_metrics` will be empty until you train or evaluate the model.\n",
      "Compiled the loaded model, but the compiled metrics have yet to be built. `model.compile_metrics` will be empty until you train or evaluate the model.\n",
      "Compiled the loaded model, but the compiled metrics have yet to be built. `model.compile_metrics` will be empty until you train or evaluate the model.\n",
      "Compiled the loaded model, but the compiled metrics have yet to be built. `model.compile_metrics` will be empty until you train or evaluate the model.\n",
      "Compiled the loaded model, but the compiled metrics have yet to be built. `model.compile_metrics` will be empty until you train or evaluate the model.\n",
      "Compiled the loaded model, but the compiled metrics have yet to be built. `model.compile_metrics` will be empty until you train or evaluate the model.\n",
      "Compiled the loaded model, but the compiled metrics have yet to be built. `model.compile_metrics` will be empty until you train or evaluate the model.\n",
      "Compiled the loaded model, but the compiled metrics have yet to be built. `model.compile_metrics` will be empty until you train or evaluate the model.\n",
      "Compiled the loaded model, but the compiled metrics have yet to be built. `model.compile_metrics` will be empty until you train or evaluate the model.\n",
      "Compiled the loaded model, but the compiled metrics have yet to be built. `model.compile_metrics` will be empty until you train or evaluate the model.\n",
      "Compiled the loaded model, but the compiled metrics have yet to be built. `model.compile_metrics` will be empty until you train or evaluate the model.\n",
      "Compiled the loaded model, but the compiled metrics have yet to be built. `model.compile_metrics` will be empty until you train or evaluate the model.\n",
      "Compiled the loaded model, but the compiled metrics have yet to be built. `model.compile_metrics` will be empty until you train or evaluate the model.\n",
      "Compiled the loaded model, but the compiled metrics have yet to be built. `model.compile_metrics` will be empty until you train or evaluate the model.\n",
      "Compiled the loaded model, but the compiled metrics have yet to be built. `model.compile_metrics` will be empty until you train or evaluate the model.\n",
      "Compiled the loaded model, but the compiled metrics have yet to be built. `model.compile_metrics` will be empty until you train or evaluate the model.\n",
      "Compiled the loaded model, but the compiled metrics have yet to be built. `model.compile_metrics` will be empty until you train or evaluate the model.\n",
      "Compiled the loaded model, but the compiled metrics have yet to be built. `model.compile_metrics` will be empty until you train or evaluate the model.\n"
     ]
    },
    {
     "name": "stdout",
     "output_type": "stream",
     "text": [
      "{'CompleteTopologyShuffle': 12, 'IPShuffle': 16, 'OSDiversity': 10, 'ServiceDiversity': 10}\n",
      "Saving evaluation results to /home/22489437/Documents/GitHub/MTDSim/experiments/experimental_data/results/epsilon_0.7_decay_0.995.csv\n"
     ]
    },
    {
     "name": "stderr",
     "output_type": "stream",
     "text": [
      "Compiled the loaded model, but the compiled metrics have yet to be built. `model.compile_metrics` will be empty until you train or evaluate the model.\n"
     ]
    },
    {
     "name": "stdout",
     "output_type": "stream",
     "text": [
      "{'CompleteTopologyShuffle': 12, 'IPShuffle': 14, 'OSDiversity': 12, 'ServiceDiversity': 4}\n",
      "Saving evaluation results to /home/22489437/Documents/GitHub/MTDSim/experiments/experimental_data/results/epsilon_0.7_decay_0.995.csv\n",
      "{'CompleteTopologyShuffle': 10, 'IPShuffle': 10, 'OSDiversity': 18, 'ServiceDiversity': 12}\n"
     ]
    },
    {
     "name": "stderr",
     "output_type": "stream",
     "text": [
      "Compiled the loaded model, but the compiled metrics have yet to be built. `model.compile_metrics` will be empty until you train or evaluate the model.\n"
     ]
    },
    {
     "name": "stdout",
     "output_type": "stream",
     "text": [
      "Saving evaluation results to /home/22489437/Documents/GitHub/MTDSim/experiments/experimental_data/results/epsilon_0.7_decay_0.995.csv\n"
     ]
    },
    {
     "name": "stderr",
     "output_type": "stream",
     "text": [
      "Compiled the loaded model, but the compiled metrics have yet to be built. `model.compile_metrics` will be empty until you train or evaluate the model.\n"
     ]
    },
    {
     "name": "stdout",
     "output_type": "stream",
     "text": [
      "{'CompleteTopologyShuffle': 8, 'IPShuffle': 6, 'OSDiversity': 2, 'ServiceDiversity': 20}\n",
      "Saving evaluation results to /home/22489437/Documents/GitHub/MTDSim/experiments/experimental_data/results/epsilon_0.7_decay_0.995.csv\n"
     ]
    },
    {
     "name": "stderr",
     "output_type": "stream",
     "text": [
      "Compiled the loaded model, but the compiled metrics have yet to be built. `model.compile_metrics` will be empty until you train or evaluate the model.\n"
     ]
    },
    {
     "name": "stdout",
     "output_type": "stream",
     "text": [
      "{'CompleteTopologyShuffle': 16, 'IPShuffle': 14, 'OSDiversity': 12, 'ServiceDiversity': 4}\n",
      "Saving evaluation results to /home/22489437/Documents/GitHub/MTDSim/experiments/experimental_data/results/epsilon_0.7_decay_0.995.csv\n"
     ]
    },
    {
     "name": "stderr",
     "output_type": "stream",
     "text": [
      "Compiled the loaded model, but the compiled metrics have yet to be built. `model.compile_metrics` will be empty until you train or evaluate the model.\n"
     ]
    },
    {
     "name": "stdout",
     "output_type": "stream",
     "text": [
      "{'CompleteTopologyShuffle': 14, 'IPShuffle': 6, 'OSDiversity': 12, 'ServiceDiversity': 4}\n",
      "Saving evaluation results to /home/22489437/Documents/GitHub/MTDSim/experiments/experimental_data/results/epsilon_0.7_decay_0.995.csv\n",
      "{'CompleteTopologyShuffle': 12, 'IPShuffle': 16, 'OSDiversity': 10, 'ServiceDiversity': 12}\n"
     ]
    },
    {
     "name": "stderr",
     "output_type": "stream",
     "text": [
      "Compiled the loaded model, but the compiled metrics have yet to be built. `model.compile_metrics` will be empty until you train or evaluate the model.\n"
     ]
    },
    {
     "name": "stdout",
     "output_type": "stream",
     "text": [
      "Saving evaluation results to /home/22489437/Documents/GitHub/MTDSim/experiments/experimental_data/results/epsilon_0.7_decay_0.995.csv\n"
     ]
    },
    {
     "name": "stderr",
     "output_type": "stream",
     "text": [
      "Compiled the loaded model, but the compiled metrics have yet to be built. `model.compile_metrics` will be empty until you train or evaluate the model.\n"
     ]
    },
    {
     "name": "stdout",
     "output_type": "stream",
     "text": [
      "{'CompleteTopologyShuffle': 8, 'IPShuffle': 8, 'OSDiversity': 16, 'ServiceDiversity': 4}\n",
      "Saving evaluation results to /home/22489437/Documents/GitHub/MTDSim/experiments/experimental_data/results/epsilon_0.7_decay_0.995.csv\n"
     ]
    },
    {
     "name": "stderr",
     "output_type": "stream",
     "text": [
      "Compiled the loaded model, but the compiled metrics have yet to be built. `model.compile_metrics` will be empty until you train or evaluate the model.\n"
     ]
    },
    {
     "name": "stdout",
     "output_type": "stream",
     "text": [
      "{'CompleteTopologyShuffle': 6, 'IPShuffle': 8, 'OSDiversity': 6, 'ServiceDiversity': 8}\n",
      "Saving evaluation results to /home/22489437/Documents/GitHub/MTDSim/experiments/experimental_data/results/epsilon_0.7_decay_0.995.csv\n",
      "{'CompleteTopologyShuffle': 12, 'IPShuffle': 12, 'OSDiversity': 6, 'ServiceDiversity': 8}\n"
     ]
    },
    {
     "name": "stderr",
     "output_type": "stream",
     "text": [
      "Compiled the loaded model, but the compiled metrics have yet to be built. `model.compile_metrics` will be empty until you train or evaluate the model.\n"
     ]
    },
    {
     "name": "stdout",
     "output_type": "stream",
     "text": [
      "Saving evaluation results to /home/22489437/Documents/GitHub/MTDSim/experiments/experimental_data/results/epsilon_0.7_decay_0.995.csv\n"
     ]
    },
    {
     "name": "stderr",
     "output_type": "stream",
     "text": [
      "Compiled the loaded model, but the compiled metrics have yet to be built. `model.compile_metrics` will be empty until you train or evaluate the model.\n"
     ]
    },
    {
     "name": "stdout",
     "output_type": "stream",
     "text": [
      "{'CompleteTopologyShuffle': 10, 'IPShuffle': 14, 'OSDiversity': 14, 'ServiceDiversity': 0}\n",
      "Saving evaluation results to /home/22489437/Documents/GitHub/MTDSim/experiments/experimental_data/results/epsilon_0.7_decay_0.995.csv{'CompleteTopologyShuffle': 4, 'IPShuffle': 16, 'OSDiversity': 12, 'ServiceDiversity': 12}\n",
      "\n",
      "{'CompleteTopologyShuffle': 10, 'IPShuffle': 8, 'OSDiversity': 8, 'ServiceDiversity': 16}\n",
      "{'CompleteTopologyShuffle': 12, 'IPShuffle': 8, 'OSDiversity': 8, 'ServiceDiversity': 2}"
     ]
    },
    {
     "name": "stderr",
     "output_type": "stream",
     "text": [
      "Compiled the loaded model, but the compiled metrics have yet to be built. `model.compile_metrics` will be empty until you train or evaluate the model.\n"
     ]
    },
    {
     "name": "stdout",
     "output_type": "stream",
     "text": [
      "\n",
      "Saving evaluation results to /home/22489437/Documents/GitHub/MTDSim/experiments/experimental_data/results/epsilon_0.7_decay_0.995.csv\n",
      "Saving evaluation results to /home/22489437/Documents/GitHub/MTDSim/experiments/experimental_data/results/epsilon_0.7_decay_0.995.csv\n",
      "Saving evaluation results to /home/22489437/Documents/GitHub/MTDSim/experiments/experimental_data/results/epsilon_0.7_decay_0.995.csv\n"
     ]
    },
    {
     "name": "stderr",
     "output_type": "stream",
     "text": [
      "Compiled the loaded model, but the compiled metrics have yet to be built. `model.compile_metrics` will be empty until you train or evaluate the model.\n",
      "Compiled the loaded model, but the compiled metrics have yet to be built. `model.compile_metrics` will be empty until you train or evaluate the model.\n",
      "Compiled the loaded model, but the compiled metrics have yet to be built. `model.compile_metrics` will be empty until you train or evaluate the model.\n"
     ]
    },
    {
     "name": "stdout",
     "output_type": "stream",
     "text": [
      "{'CompleteTopologyShuffle': 4, 'IPShuffle': 16, 'OSDiversity': 8, 'ServiceDiversity': 12}\n",
      "Saving evaluation results to /home/22489437/Documents/GitHub/MTDSim/experiments/experimental_data/results/epsilon_0.7_decay_0.995.csv\n"
     ]
    },
    {
     "name": "stderr",
     "output_type": "stream",
     "text": [
      "Compiled the loaded model, but the compiled metrics have yet to be built. `model.compile_metrics` will be empty until you train or evaluate the model.\n"
     ]
    },
    {
     "name": "stdout",
     "output_type": "stream",
     "text": [
      "{'CompleteTopologyShuffle': 8, 'IPShuffle': 4, 'OSDiversity': 14, 'ServiceDiversity': 18}\n",
      "Saving evaluation results to /home/22489437/Documents/GitHub/MTDSim/experiments/experimental_data/results/epsilon_0.7_decay_0.995.csv\n",
      "{'CompleteTopologyShuffle': 8, 'IPShuffle': 8, 'OSDiversity': 8, 'ServiceDiversity': 14}\n"
     ]
    },
    {
     "name": "stderr",
     "output_type": "stream",
     "text": [
      "Compiled the loaded model, but the compiled metrics have yet to be built. `model.compile_metrics` will be empty until you train or evaluate the model.\n"
     ]
    },
    {
     "name": "stdout",
     "output_type": "stream",
     "text": [
      "Saving evaluation results to /home/22489437/Documents/GitHub/MTDSim/experiments/experimental_data/results/epsilon_0.7_decay_0.995.csv\n"
     ]
    },
    {
     "name": "stderr",
     "output_type": "stream",
     "text": [
      "Compiled the loaded model, but the compiled metrics have yet to be built. `model.compile_metrics` will be empty until you train or evaluate the model.\n"
     ]
    },
    {
     "name": "stdout",
     "output_type": "stream",
     "text": [
      "{'CompleteTopologyShuffle': 14, 'IPShuffle': 18, 'OSDiversity': 14, 'ServiceDiversity': 8}\n",
      "Saving evaluation results to /home/22489437/Documents/GitHub/MTDSim/experiments/experimental_data/results/epsilon_0.7_decay_0.995.csv\n"
     ]
    },
    {
     "name": "stderr",
     "output_type": "stream",
     "text": [
      "Compiled the loaded model, but the compiled metrics have yet to be built. `model.compile_metrics` will be empty until you train or evaluate the model.\n"
     ]
    },
    {
     "name": "stdout",
     "output_type": "stream",
     "text": [
      "{'CompleteTopologyShuffle': 10, 'IPShuffle': 6, 'OSDiversity': 6, 'ServiceDiversity': 12}\n",
      "Saving evaluation results to /home/22489437/Documents/GitHub/MTDSim/experiments/experimental_data/results/epsilon_0.7_decay_0.995.csv\n"
     ]
    },
    {
     "name": "stderr",
     "output_type": "stream",
     "text": [
      "Compiled the loaded model, but the compiled metrics have yet to be built. `model.compile_metrics` will be empty until you train or evaluate the model.\n"
     ]
    },
    {
     "name": "stdout",
     "output_type": "stream",
     "text": [
      "{'CompleteTopologyShuffle': 10, 'IPShuffle': 8, 'OSDiversity': 10, 'ServiceDiversity': 10}\n",
      "Saving evaluation results to /home/22489437/Documents/GitHub/MTDSim/experiments/experimental_data/results/epsilon_0.7_decay_0.995.csv\n",
      "{'CompleteTopologyShuffle': 4, 'IPShuffle': 6, 'OSDiversity': 18, 'ServiceDiversity': 16}\n"
     ]
    },
    {
     "name": "stderr",
     "output_type": "stream",
     "text": [
      "Compiled the loaded model, but the compiled metrics have yet to be built. `model.compile_metrics` will be empty until you train or evaluate the model.\n"
     ]
    },
    {
     "name": "stdout",
     "output_type": "stream",
     "text": [
      "Saving evaluation results to /home/22489437/Documents/GitHub/MTDSim/experiments/experimental_data/results/epsilon_0.7_decay_0.995.csv\n"
     ]
    },
    {
     "name": "stderr",
     "output_type": "stream",
     "text": [
      "Compiled the loaded model, but the compiled metrics have yet to be built. `model.compile_metrics` will be empty until you train or evaluate the model.\n"
     ]
    },
    {
     "name": "stdout",
     "output_type": "stream",
     "text": [
      "{'CompleteTopologyShuffle': 6, 'IPShuffle': 12, 'OSDiversity': 6, 'ServiceDiversity': 10}\n",
      "{'CompleteTopologyShuffle': 14, 'IPShuffle': 8, 'OSDiversity': 10, 'ServiceDiversity': 10}\n",
      "Saving evaluation results to /home/22489437/Documents/GitHub/MTDSim/experiments/experimental_data/results/epsilon_0.7_decay_0.995.csv\n",
      "Saving evaluation results to /home/22489437/Documents/GitHub/MTDSim/experiments/experimental_data/results/epsilon_0.7_decay_0.995.csv\n"
     ]
    },
    {
     "name": "stderr",
     "output_type": "stream",
     "text": [
      "Compiled the loaded model, but the compiled metrics have yet to be built. `model.compile_metrics` will be empty until you train or evaluate the model.\n",
      "Compiled the loaded model, but the compiled metrics have yet to be built. `model.compile_metrics` will be empty until you train or evaluate the model.\n"
     ]
    },
    {
     "name": "stdout",
     "output_type": "stream",
     "text": [
      "{'CompleteTopologyShuffle': 8, 'IPShuffle': 6, 'OSDiversity': 12, 'ServiceDiversity': 14}\n",
      "Saving evaluation results to /home/22489437/Documents/GitHub/MTDSim/experiments/experimental_data/results/epsilon_0.7_decay_0.995.csv\n"
     ]
    },
    {
     "name": "stderr",
     "output_type": "stream",
     "text": [
      "Compiled the loaded model, but the compiled metrics have yet to be built. `model.compile_metrics` will be empty until you train or evaluate the model.\n"
     ]
    },
    {
     "name": "stdout",
     "output_type": "stream",
     "text": [
      "{'CompleteTopologyShuffle': 4, 'IPShuffle': 6, 'OSDiversity': 24, 'ServiceDiversity': 12}\n",
      "Saving evaluation results to /home/22489437/Documents/GitHub/MTDSim/experiments/experimental_data/results/epsilon_0.7_decay_0.995.csv\n"
     ]
    },
    {
     "name": "stderr",
     "output_type": "stream",
     "text": [
      "Compiled the loaded model, but the compiled metrics have yet to be built. `model.compile_metrics` will be empty until you train or evaluate the model.\n"
     ]
    },
    {
     "name": "stdout",
     "output_type": "stream",
     "text": [
      "{'CompleteTopologyShuffle': 10, 'IPShuffle': 16, 'OSDiversity': 10, 'ServiceDiversity': 6}\n",
      "{'CompleteTopologyShuffle': 10, 'IPShuffle': 14, 'OSDiversity': 2, 'ServiceDiversity': 14}\n",
      "Saving evaluation results to /home/22489437/Documents/GitHub/MTDSim/experiments/experimental_data/results/epsilon_0.7_decay_0.995.csv\n",
      "Saving evaluation results to /home/22489437/Documents/GitHub/MTDSim/experiments/experimental_data/results/epsilon_0.7_decay_0.995.csv\n"
     ]
    },
    {
     "name": "stderr",
     "output_type": "stream",
     "text": [
      "Compiled the loaded model, but the compiled metrics have yet to be built. `model.compile_metrics` will be empty until you train or evaluate the model.\n",
      "Compiled the loaded model, but the compiled metrics have yet to be built. `model.compile_metrics` will be empty until you train or evaluate the model.\n"
     ]
    },
    {
     "name": "stdout",
     "output_type": "stream",
     "text": [
      "{'CompleteTopologyShuffle': 10, 'IPShuffle': 6, 'OSDiversity': 12, 'ServiceDiversity': 12}\n",
      "{'CompleteTopologyShuffle': 6, 'IPShuffle': 10, 'OSDiversity': 10, 'ServiceDiversity': 12}\n",
      "{'CompleteTopologyShuffle': 10, 'IPShuffle': 4, 'OSDiversity': 14, 'ServiceDiversity': 16}\n",
      "Saving evaluation results to /home/22489437/Documents/GitHub/MTDSim/experiments/experimental_data/results/epsilon_0.7_decay_0.995.csv\n",
      "Saving evaluation results to /home/22489437/Documents/GitHub/MTDSim/experiments/experimental_data/results/epsilon_0.7_decay_0.995.csv\n",
      "{'CompleteTopologyShuffle': 14, 'IPShuffle': 8, 'OSDiversity': 12, 'ServiceDiversity': 4}\n",
      "Saving evaluation results to /home/22489437/Documents/GitHub/MTDSim/experiments/experimental_data/results/epsilon_0.7_decay_0.995.csv\n"
     ]
    },
    {
     "name": "stderr",
     "output_type": "stream",
     "text": [
      "Compiled the loaded model, but the compiled metrics have yet to be built. `model.compile_metrics` will be empty until you train or evaluate the model.\n",
      "Compiled the loaded model, but the compiled metrics have yet to be built. `model.compile_metrics` will be empty until you train or evaluate the model.\n",
      "Compiled the loaded model, but the compiled metrics have yet to be built. `model.compile_metrics` will be empty until you train or evaluate the model.\n"
     ]
    },
    {
     "name": "stdout",
     "output_type": "stream",
     "text": [
      "Saving evaluation results to /home/22489437/Documents/GitHub/MTDSim/experiments/experimental_data/results/epsilon_0.7_decay_0.995.csv\n"
     ]
    },
    {
     "name": "stderr",
     "output_type": "stream",
     "text": [
      "Compiled the loaded model, but the compiled metrics have yet to be built. `model.compile_metrics` will be empty until you train or evaluate the model.\n"
     ]
    },
    {
     "name": "stdout",
     "output_type": "stream",
     "text": [
      "{'CompleteTopologyShuffle': 10, 'IPShuffle': 8, 'OSDiversity': 12, 'ServiceDiversity': 10}\n",
      "Saving evaluation results to /home/22489437/Documents/GitHub/MTDSim/experiments/experimental_data/results/epsilon_0.7_decay_0.995.csv\n"
     ]
    },
    {
     "name": "stderr",
     "output_type": "stream",
     "text": [
      "Compiled the loaded model, but the compiled metrics have yet to be built. `model.compile_metrics` will be empty until you train or evaluate the model.\n"
     ]
    },
    {
     "name": "stdout",
     "output_type": "stream",
     "text": [
      "{'CompleteTopologyShuffle': 12, 'IPShuffle': 14, 'OSDiversity': 12, 'ServiceDiversity': 8}\n",
      "Saving evaluation results to /home/22489437/Documents/GitHub/MTDSim/experiments/experimental_data/results/epsilon_0.7_decay_0.995.csv\n"
     ]
    },
    {
     "name": "stderr",
     "output_type": "stream",
     "text": [
      "Compiled the loaded model, but the compiled metrics have yet to be built. `model.compile_metrics` will be empty until you train or evaluate the model.\n"
     ]
    },
    {
     "name": "stdout",
     "output_type": "stream",
     "text": [
      "{'CompleteTopologyShuffle': 10, 'IPShuffle': 14, 'OSDiversity': 6, 'ServiceDiversity': 6}\n",
      "Saving evaluation results to /home/22489437/Documents/GitHub/MTDSim/experiments/experimental_data/results/epsilon_0.7_decay_0.995.csv{'CompleteTopologyShuffle': 8, 'IPShuffle': 8, 'OSDiversity': 10, 'ServiceDiversity': 14}\n",
      "\n"
     ]
    },
    {
     "name": "stderr",
     "output_type": "stream",
     "text": [
      "Compiled the loaded model, but the compiled metrics have yet to be built. `model.compile_metrics` will be empty until you train or evaluate the model.\n"
     ]
    },
    {
     "name": "stdout",
     "output_type": "stream",
     "text": [
      "{'CompleteTopologyShuffle': 10, 'IPShuffle': 14, 'OSDiversity': 8, 'ServiceDiversity': 4}Saving evaluation results to /home/22489437/Documents/GitHub/MTDSim/experiments/experimental_data/results/epsilon_0.7_decay_0.995.csv\n",
      "\n"
     ]
    },
    {
     "name": "stderr",
     "output_type": "stream",
     "text": [
      "Compiled the loaded model, but the compiled metrics have yet to be built. `model.compile_metrics` will be empty until you train or evaluate the model.\n"
     ]
    },
    {
     "name": "stdout",
     "output_type": "stream",
     "text": [
      "Saving evaluation results to /home/22489437/Documents/GitHub/MTDSim/experiments/experimental_data/results/epsilon_0.7_decay_0.995.csv\n"
     ]
    },
    {
     "name": "stderr",
     "output_type": "stream",
     "text": [
      "Compiled the loaded model, but the compiled metrics have yet to be built. `model.compile_metrics` will be empty until you train or evaluate the model.\n"
     ]
    },
    {
     "name": "stdout",
     "output_type": "stream",
     "text": [
      "{'CompleteTopologyShuffle': 12, 'IPShuffle': 10, 'OSDiversity': 14, 'ServiceDiversity': 10}\n",
      "Saving evaluation results to /home/22489437/Documents/GitHub/MTDSim/experiments/experimental_data/results/epsilon_0.7_decay_0.995.csv\n"
     ]
    },
    {
     "name": "stderr",
     "output_type": "stream",
     "text": [
      "Compiled the loaded model, but the compiled metrics have yet to be built. `model.compile_metrics` will be empty until you train or evaluate the model.\n"
     ]
    },
    {
     "name": "stdout",
     "output_type": "stream",
     "text": [
      "{'CompleteTopologyShuffle': 14, 'IPShuffle': 8, 'OSDiversity': 10, 'ServiceDiversity': 14}\n",
      "Saving evaluation results to /home/22489437/Documents/GitHub/MTDSim/experiments/experimental_data/results/epsilon_0.7_decay_0.995.csv\n"
     ]
    },
    {
     "name": "stderr",
     "output_type": "stream",
     "text": [
      "Compiled the loaded model, but the compiled metrics have yet to be built. `model.compile_metrics` will be empty until you train or evaluate the model.\n"
     ]
    },
    {
     "name": "stdout",
     "output_type": "stream",
     "text": [
      "{'CompleteTopologyShuffle': 22, 'IPShuffle': 12, 'OSDiversity': 8, 'ServiceDiversity': 10}\n",
      "Saving evaluation results to /home/22489437/Documents/GitHub/MTDSim/experiments/experimental_data/results/epsilon_0.7_decay_0.995.csv\n"
     ]
    },
    {
     "name": "stderr",
     "output_type": "stream",
     "text": [
      "Compiled the loaded model, but the compiled metrics have yet to be built. `model.compile_metrics` will be empty until you train or evaluate the model.\n"
     ]
    },
    {
     "name": "stdout",
     "output_type": "stream",
     "text": [
      "{'CompleteTopologyShuffle': 12, 'IPShuffle': 8, 'OSDiversity': 12, 'ServiceDiversity': 10}\n",
      "Saving evaluation results to /home/22489437/Documents/GitHub/MTDSim/experiments/experimental_data/results/epsilon_0.7_decay_0.995.csv\n"
     ]
    },
    {
     "name": "stderr",
     "output_type": "stream",
     "text": [
      "Compiled the loaded model, but the compiled metrics have yet to be built. `model.compile_metrics` will be empty until you train or evaluate the model.\n"
     ]
    },
    {
     "name": "stdout",
     "output_type": "stream",
     "text": [
      "{'CompleteTopologyShuffle': 20, 'IPShuffle': 6, 'OSDiversity': 8, 'ServiceDiversity': 6}\n",
      "Saving evaluation results to /home/22489437/Documents/GitHub/MTDSim/experiments/experimental_data/results/epsilon_0.7_decay_0.995.csv\n"
     ]
    },
    {
     "name": "stderr",
     "output_type": "stream",
     "text": [
      "Compiled the loaded model, but the compiled metrics have yet to be built. `model.compile_metrics` will be empty until you train or evaluate the model.\n"
     ]
    },
    {
     "name": "stdout",
     "output_type": "stream",
     "text": [
      "{'CompleteTopologyShuffle': 10, 'IPShuffle': 6, 'OSDiversity': 6, 'ServiceDiversity': 14}\n",
      "Saving evaluation results to /home/22489437/Documents/GitHub/MTDSim/experiments/experimental_data/results/epsilon_0.7_decay_0.995.csv\n"
     ]
    },
    {
     "name": "stderr",
     "output_type": "stream",
     "text": [
      "Compiled the loaded model, but the compiled metrics have yet to be built. `model.compile_metrics` will be empty until you train or evaluate the model.\n"
     ]
    },
    {
     "name": "stdout",
     "output_type": "stream",
     "text": [
      "{'CompleteTopologyShuffle': 10, 'IPShuffle': 12, 'OSDiversity': 6, 'ServiceDiversity': 6}\n",
      "Saving evaluation results to /home/22489437/Documents/GitHub/MTDSim/experiments/experimental_data/results/epsilon_0.7_decay_0.995.csv\n"
     ]
    },
    {
     "name": "stderr",
     "output_type": "stream",
     "text": [
      "Compiled the loaded model, but the compiled metrics have yet to be built. `model.compile_metrics` will be empty until you train or evaluate the model.\n"
     ]
    },
    {
     "name": "stdout",
     "output_type": "stream",
     "text": [
      "{'CompleteTopologyShuffle': 12, 'IPShuffle': 12, 'OSDiversity': 8, 'ServiceDiversity': 8}\n",
      "Saving evaluation results to /home/22489437/Documents/GitHub/MTDSim/experiments/experimental_data/results/epsilon_0.7_decay_0.995.csv\n"
     ]
    },
    {
     "name": "stderr",
     "output_type": "stream",
     "text": [
      "Compiled the loaded model, but the compiled metrics have yet to be built. `model.compile_metrics` will be empty until you train or evaluate the model.\n"
     ]
    },
    {
     "name": "stdout",
     "output_type": "stream",
     "text": [
      "{'CompleteTopologyShuffle': 6, 'IPShuffle': 14, 'OSDiversity': 10, 'ServiceDiversity': 4}\n",
      "{'CompleteTopologyShuffle': 6, 'IPShuffle': 12, 'OSDiversity': 8, 'ServiceDiversity': 20}\n",
      "Saving evaluation results to /home/22489437/Documents/GitHub/MTDSim/experiments/experimental_data/results/epsilon_0.7_decay_0.995.csv\n",
      "Saving evaluation results to /home/22489437/Documents/GitHub/MTDSim/experiments/experimental_data/results/epsilon_0.7_decay_0.995.csv\n"
     ]
    },
    {
     "name": "stderr",
     "output_type": "stream",
     "text": [
      "Compiled the loaded model, but the compiled metrics have yet to be built. `model.compile_metrics` will be empty until you train or evaluate the model.\n",
      "Compiled the loaded model, but the compiled metrics have yet to be built. `model.compile_metrics` will be empty until you train or evaluate the model.\n"
     ]
    },
    {
     "name": "stdout",
     "output_type": "stream",
     "text": [
      "{'CompleteTopologyShuffle': 8, 'IPShuffle': 8, 'OSDiversity': 10, 'ServiceDiversity': 12}\n",
      "Saving evaluation results to /home/22489437/Documents/GitHub/MTDSim/experiments/experimental_data/results/epsilon_0.7_decay_0.995.csv\n",
      "{'CompleteTopologyShuffle': 14, 'IPShuffle': 10, 'OSDiversity': 10, 'ServiceDiversity': 8}\n"
     ]
    },
    {
     "name": "stderr",
     "output_type": "stream",
     "text": [
      "Compiled the loaded model, but the compiled metrics have yet to be built. `model.compile_metrics` will be empty until you train or evaluate the model.\n"
     ]
    },
    {
     "name": "stdout",
     "output_type": "stream",
     "text": [
      "Saving evaluation results to /home/22489437/Documents/GitHub/MTDSim/experiments/experimental_data/results/epsilon_0.7_decay_0.995.csv\n"
     ]
    },
    {
     "name": "stderr",
     "output_type": "stream",
     "text": [
      "Compiled the loaded model, but the compiled metrics have yet to be built. `model.compile_metrics` will be empty until you train or evaluate the model.\n"
     ]
    },
    {
     "name": "stdout",
     "output_type": "stream",
     "text": [
      "{'CompleteTopologyShuffle': 10, 'IPShuffle': 8, 'OSDiversity': 6, 'ServiceDiversity': 16}\n",
      "Saving evaluation results to /home/22489437/Documents/GitHub/MTDSim/experiments/experimental_data/results/epsilon_0.7_decay_0.995.csv\n"
     ]
    },
    {
     "name": "stderr",
     "output_type": "stream",
     "text": [
      "Compiled the loaded model, but the compiled metrics have yet to be built. `model.compile_metrics` will be empty until you train or evaluate the model.\n"
     ]
    },
    {
     "name": "stdout",
     "output_type": "stream",
     "text": [
      "{'CompleteTopologyShuffle': 12, 'IPShuffle': 14, 'OSDiversity': 4, 'ServiceDiversity': 14}\n",
      "{'CompleteTopologyShuffle': 10, 'IPShuffle': 10, 'OSDiversity': 10, 'ServiceDiversity': 10}\n",
      "{'CompleteTopologyShuffle': 8, 'IPShuffle': 8, 'OSDiversity': 16, 'ServiceDiversity': 10}\n",
      "Saving evaluation results to /home/22489437/Documents/GitHub/MTDSim/experiments/experimental_data/results/epsilon_0.7_decay_0.995.csv\n",
      "Saving evaluation results to /home/22489437/Documents/GitHub/MTDSim/experiments/experimental_data/results/epsilon_0.7_decay_0.995.csv\n",
      "Saving evaluation results to /home/22489437/Documents/GitHub/MTDSim/experiments/experimental_data/results/epsilon_0.7_decay_0.995.csv\n"
     ]
    },
    {
     "name": "stderr",
     "output_type": "stream",
     "text": [
      "Compiled the loaded model, but the compiled metrics have yet to be built. `model.compile_metrics` will be empty until you train or evaluate the model.\n",
      "Compiled the loaded model, but the compiled metrics have yet to be built. `model.compile_metrics` will be empty until you train or evaluate the model.\n",
      "Compiled the loaded model, but the compiled metrics have yet to be built. `model.compile_metrics` will be empty until you train or evaluate the model.\n"
     ]
    },
    {
     "name": "stdout",
     "output_type": "stream",
     "text": [
      "{'CompleteTopologyShuffle': 6, 'IPShuffle': 8, 'OSDiversity': 14, 'ServiceDiversity': 10}\n",
      "Saving evaluation results to /home/22489437/Documents/GitHub/MTDSim/experiments/experimental_data/results/epsilon_0.7_decay_0.995.csv\n"
     ]
    },
    {
     "name": "stderr",
     "output_type": "stream",
     "text": [
      "Compiled the loaded model, but the compiled metrics have yet to be built. `model.compile_metrics` will be empty until you train or evaluate the model.\n"
     ]
    },
    {
     "name": "stdout",
     "output_type": "stream",
     "text": [
      "{'CompleteTopologyShuffle': 10, 'IPShuffle': 14, 'OSDiversity': 16, 'ServiceDiversity': 4}\n",
      "Saving evaluation results to /home/22489437/Documents/GitHub/MTDSim/experiments/experimental_data/results/epsilon_0.7_decay_0.995.csv\n"
     ]
    },
    {
     "name": "stderr",
     "output_type": "stream",
     "text": [
      "Compiled the loaded model, but the compiled metrics have yet to be built. `model.compile_metrics` will be empty until you train or evaluate the model.\n"
     ]
    },
    {
     "name": "stdout",
     "output_type": "stream",
     "text": [
      "{'CompleteTopologyShuffle': 6, 'IPShuffle': 6, 'OSDiversity': 8, 'ServiceDiversity': 14}\n",
      "Saving evaluation results to /home/22489437/Documents/GitHub/MTDSim/experiments/experimental_data/results/epsilon_0.7_decay_0.995.csv\n"
     ]
    },
    {
     "name": "stderr",
     "output_type": "stream",
     "text": [
      "Compiled the loaded model, but the compiled metrics have yet to be built. `model.compile_metrics` will be empty until you train or evaluate the model.\n"
     ]
    },
    {
     "name": "stdout",
     "output_type": "stream",
     "text": [
      "{'CompleteTopologyShuffle': 20, 'IPShuffle': 8, 'OSDiversity': 4, 'ServiceDiversity': 8}\n",
      "Saving evaluation results to /home/22489437/Documents/GitHub/MTDSim/experiments/experimental_data/results/epsilon_0.7_decay_0.995.csv\n"
     ]
    },
    {
     "name": "stderr",
     "output_type": "stream",
     "text": [
      "Compiled the loaded model, but the compiled metrics have yet to be built. `model.compile_metrics` will be empty until you train or evaluate the model.\n"
     ]
    },
    {
     "name": "stdout",
     "output_type": "stream",
     "text": [
      "{'CompleteTopologyShuffle': 8, 'IPShuffle': 6, 'OSDiversity': 12, 'ServiceDiversity': 10}\n",
      "Saving evaluation results to /home/22489437/Documents/GitHub/MTDSim/experiments/experimental_data/results/epsilon_0.7_decay_0.995.csv\n"
     ]
    },
    {
     "name": "stderr",
     "output_type": "stream",
     "text": [
      "Compiled the loaded model, but the compiled metrics have yet to be built. `model.compile_metrics` will be empty until you train or evaluate the model.\n"
     ]
    },
    {
     "name": "stdout",
     "output_type": "stream",
     "text": [
      "{'CompleteTopologyShuffle': 10, 'IPShuffle': 10, 'OSDiversity': 14, 'ServiceDiversity': 6}\n",
      "Saving evaluation results to /home/22489437/Documents/GitHub/MTDSim/experiments/experimental_data/results/epsilon_0.7_decay_0.995.csv\n"
     ]
    },
    {
     "name": "stderr",
     "output_type": "stream",
     "text": [
      "Compiled the loaded model, but the compiled metrics have yet to be built. `model.compile_metrics` will be empty until you train or evaluate the model.\n"
     ]
    },
    {
     "name": "stdout",
     "output_type": "stream",
     "text": [
      "{'CompleteTopologyShuffle': 8, 'IPShuffle': 12, 'OSDiversity': 8, 'ServiceDiversity': 8}\n",
      "{'CompleteTopologyShuffle': 12, 'IPShuffle': 8, 'OSDiversity': 10, 'ServiceDiversity': 4}\n",
      "Saving evaluation results to /home/22489437/Documents/GitHub/MTDSim/experiments/experimental_data/results/epsilon_0.7_decay_0.995.csv\n",
      "Saving evaluation results to /home/22489437/Documents/GitHub/MTDSim/experiments/experimental_data/results/epsilon_0.7_decay_0.995.csv\n"
     ]
    },
    {
     "name": "stderr",
     "output_type": "stream",
     "text": [
      "Compiled the loaded model, but the compiled metrics have yet to be built. `model.compile_metrics` will be empty until you train or evaluate the model.\n"
     ]
    },
    {
     "name": "stdout",
     "output_type": "stream",
     "text": [
      "{'CompleteTopologyShuffle': 12, 'IPShuffle': 14, 'OSDiversity': 6, 'ServiceDiversity': 10}\n"
     ]
    },
    {
     "name": "stderr",
     "output_type": "stream",
     "text": [
      "Compiled the loaded model, but the compiled metrics have yet to be built. `model.compile_metrics` will be empty until you train or evaluate the model.\n"
     ]
    },
    {
     "name": "stdout",
     "output_type": "stream",
     "text": [
      "Saving evaluation results to /home/22489437/Documents/GitHub/MTDSim/experiments/experimental_data/results/epsilon_0.7_decay_0.995.csv\n"
     ]
    },
    {
     "name": "stderr",
     "output_type": "stream",
     "text": [
      "Compiled the loaded model, but the compiled metrics have yet to be built. `model.compile_metrics` will be empty until you train or evaluate the model.\n"
     ]
    },
    {
     "name": "stdout",
     "output_type": "stream",
     "text": [
      "{'CompleteTopologyShuffle': 2, 'IPShuffle': 10, 'OSDiversity': 14, 'ServiceDiversity': 16}\n",
      "Saving evaluation results to /home/22489437/Documents/GitHub/MTDSim/experiments/experimental_data/results/epsilon_0.7_decay_0.995.csv\n"
     ]
    },
    {
     "name": "stderr",
     "output_type": "stream",
     "text": [
      "Compiled the loaded model, but the compiled metrics have yet to be built. `model.compile_metrics` will be empty until you train or evaluate the model.\n"
     ]
    },
    {
     "name": "stdout",
     "output_type": "stream",
     "text": [
      "{'CompleteTopologyShuffle': 2, 'IPShuffle': 12, 'OSDiversity': 16, 'ServiceDiversity': 8}\n",
      "Saving evaluation results to /home/22489437/Documents/GitHub/MTDSim/experiments/experimental_data/results/epsilon_0.7_decay_0.995.csv\n"
     ]
    },
    {
     "name": "stderr",
     "output_type": "stream",
     "text": [
      "Compiled the loaded model, but the compiled metrics have yet to be built. `model.compile_metrics` will be empty until you train or evaluate the model.\n"
     ]
    },
    {
     "name": "stdout",
     "output_type": "stream",
     "text": [
      "{'CompleteTopologyShuffle': 8, 'IPShuffle': 14, 'OSDiversity': 12, 'ServiceDiversity': 10}\n",
      "Saving evaluation results to /home/22489437/Documents/GitHub/MTDSim/experiments/experimental_data/results/epsilon_0.7_decay_0.995.csv\n"
     ]
    },
    {
     "name": "stderr",
     "output_type": "stream",
     "text": [
      "Compiled the loaded model, but the compiled metrics have yet to be built. `model.compile_metrics` will be empty until you train or evaluate the model.\n"
     ]
    },
    {
     "name": "stdout",
     "output_type": "stream",
     "text": [
      "{'CompleteTopologyShuffle': 16, 'IPShuffle': 14, 'OSDiversity': 4, 'ServiceDiversity': 8}\n",
      "Saving evaluation results to /home/22489437/Documents/GitHub/MTDSim/experiments/experimental_data/results/epsilon_0.7_decay_0.995.csv\n"
     ]
    },
    {
     "name": "stderr",
     "output_type": "stream",
     "text": [
      "Compiled the loaded model, but the compiled metrics have yet to be built. `model.compile_metrics` will be empty until you train or evaluate the model.\n"
     ]
    },
    {
     "name": "stdout",
     "output_type": "stream",
     "text": [
      "{'CompleteTopologyShuffle': 12, 'IPShuffle': 8, 'OSDiversity': 14, 'ServiceDiversity': 12}\n",
      "{'CompleteTopologyShuffle': 12, 'IPShuffle': 14, 'OSDiversity': 10, 'ServiceDiversity': 4}Saving evaluation results to /home/22489437/Documents/GitHub/MTDSim/experiments/experimental_data/results/epsilon_0.7_decay_0.995.csv\n",
      "\n",
      "{'CompleteTopologyShuffle': 4, 'IPShuffle': 12, 'OSDiversity': 12, 'ServiceDiversity': 14}\n"
     ]
    },
    {
     "name": "stderr",
     "output_type": "stream",
     "text": [
      "Compiled the loaded model, but the compiled metrics have yet to be built. `model.compile_metrics` will be empty until you train or evaluate the model.\n"
     ]
    },
    {
     "name": "stdout",
     "output_type": "stream",
     "text": [
      "{'CompleteTopologyShuffle': 10, 'IPShuffle': 10, 'OSDiversity': 8, 'ServiceDiversity': 10}\n",
      "Saving evaluation results to /home/22489437/Documents/GitHub/MTDSim/experiments/experimental_data/results/epsilon_0.7_decay_0.995.csv\n",
      "Saving evaluation results to /home/22489437/Documents/GitHub/MTDSim/experiments/experimental_data/results/epsilon_0.7_decay_0.995.csv\n",
      "{'CompleteTopologyShuffle': 12, 'IPShuffle': 4, 'OSDiversity': 14, 'ServiceDiversity': 10}\n",
      "Saving evaluation results to /home/22489437/Documents/GitHub/MTDSim/experiments/experimental_data/results/epsilon_0.7_decay_0.995.csv\n"
     ]
    },
    {
     "name": "stderr",
     "output_type": "stream",
     "text": [
      "Compiled the loaded model, but the compiled metrics have yet to be built. `model.compile_metrics` will be empty until you train or evaluate the model.\n",
      "Compiled the loaded model, but the compiled metrics have yet to be built. `model.compile_metrics` will be empty until you train or evaluate the model.\n"
     ]
    },
    {
     "name": "stdout",
     "output_type": "stream",
     "text": [
      "Saving evaluation results to /home/22489437/Documents/GitHub/MTDSim/experiments/experimental_data/results/epsilon_0.7_decay_0.995.csv\n"
     ]
    },
    {
     "name": "stderr",
     "output_type": "stream",
     "text": [
      "Compiled the loaded model, but the compiled metrics have yet to be built. `model.compile_metrics` will be empty until you train or evaluate the model.\n"
     ]
    },
    {
     "name": "stdout",
     "output_type": "stream",
     "text": [
      "{'CompleteTopologyShuffle': 12, 'IPShuffle': 8, 'OSDiversity': 6, 'ServiceDiversity': 14}\n"
     ]
    },
    {
     "name": "stderr",
     "output_type": "stream",
     "text": [
      "Compiled the loaded model, but the compiled metrics have yet to be built. `model.compile_metrics` will be empty until you train or evaluate the model.\n"
     ]
    },
    {
     "name": "stdout",
     "output_type": "stream",
     "text": [
      "{'CompleteTopologyShuffle': 14, 'IPShuffle': 8, 'OSDiversity': 8, 'ServiceDiversity': 8}\n",
      "Saving evaluation results to /home/22489437/Documents/GitHub/MTDSim/experiments/experimental_data/results/epsilon_0.7_decay_0.995.csv\n",
      "Saving evaluation results to /home/22489437/Documents/GitHub/MTDSim/experiments/experimental_data/results/epsilon_0.7_decay_0.995.csv\n"
     ]
    },
    {
     "name": "stderr",
     "output_type": "stream",
     "text": [
      "Compiled the loaded model, but the compiled metrics have yet to be built. `model.compile_metrics` will be empty until you train or evaluate the model.\n",
      "Compiled the loaded model, but the compiled metrics have yet to be built. `model.compile_metrics` will be empty until you train or evaluate the model.\n"
     ]
    },
    {
     "name": "stdout",
     "output_type": "stream",
     "text": [
      "{'CompleteTopologyShuffle': 12, 'IPShuffle': 8, 'OSDiversity': 10, 'ServiceDiversity': 16}\n",
      "Saving evaluation results to /home/22489437/Documents/GitHub/MTDSim/experiments/experimental_data/results/epsilon_0.7_decay_0.995.csv\n"
     ]
    },
    {
     "name": "stderr",
     "output_type": "stream",
     "text": [
      "Compiled the loaded model, but the compiled metrics have yet to be built. `model.compile_metrics` will be empty until you train or evaluate the model.\n"
     ]
    },
    {
     "name": "stdout",
     "output_type": "stream",
     "text": [
      "{'CompleteTopologyShuffle': 2, 'IPShuffle': 12, 'OSDiversity': 10, 'ServiceDiversity': 8}\n",
      "Saving evaluation results to /home/22489437/Documents/GitHub/MTDSim/experiments/experimental_data/results/epsilon_0.7_decay_0.995.csv\n"
     ]
    },
    {
     "name": "stderr",
     "output_type": "stream",
     "text": [
      "Compiled the loaded model, but the compiled metrics have yet to be built. `model.compile_metrics` will be empty until you train or evaluate the model.\n"
     ]
    },
    {
     "name": "stdout",
     "output_type": "stream",
     "text": [
      "{'CompleteTopologyShuffle': 6, 'IPShuffle': 16, 'OSDiversity': 6, 'ServiceDiversity': 12}\n",
      "Saving evaluation results to /home/22489437/Documents/GitHub/MTDSim/experiments/experimental_data/results/epsilon_0.7_decay_0.995.csv\n"
     ]
    },
    {
     "name": "stderr",
     "output_type": "stream",
     "text": [
      "Compiled the loaded model, but the compiled metrics have yet to be built. `model.compile_metrics` will be empty until you train or evaluate the model.\n"
     ]
    },
    {
     "name": "stdout",
     "output_type": "stream",
     "text": [
      "{'CompleteTopologyShuffle': 10, 'IPShuffle': 8, 'OSDiversity': 12, 'ServiceDiversity': 6}\n",
      "Saving evaluation results to /home/22489437/Documents/GitHub/MTDSim/experiments/experimental_data/results/epsilon_0.7_decay_0.995.csv\n"
     ]
    },
    {
     "name": "stderr",
     "output_type": "stream",
     "text": [
      "Compiled the loaded model, but the compiled metrics have yet to be built. `model.compile_metrics` will be empty until you train or evaluate the model.\n"
     ]
    },
    {
     "name": "stdout",
     "output_type": "stream",
     "text": [
      "{'CompleteTopologyShuffle': 12, 'IPShuffle': 6, 'OSDiversity': 2, 'ServiceDiversity': 8}\n",
      "{'CompleteTopologyShuffle': 10, 'IPShuffle': 6, 'OSDiversity': 14, 'ServiceDiversity': 14}\n",
      "Saving evaluation results to /home/22489437/Documents/GitHub/MTDSim/experiments/experimental_data/results/epsilon_0.7_decay_0.995.csv\n",
      "Saving evaluation results to /home/22489437/Documents/GitHub/MTDSim/experiments/experimental_data/results/epsilon_0.7_decay_0.995.csv\n",
      "{'CompleteTopologyShuffle': 8, 'IPShuffle': 8, 'OSDiversity': 12, 'ServiceDiversity': 14}\n",
      "Saving evaluation results to /home/22489437/Documents/GitHub/MTDSim/experiments/experimental_data/results/epsilon_0.7_decay_0.995.csv\n",
      "{'CompleteTopologyShuffle': 6, 'IPShuffle': 10, 'OSDiversity': 10, 'ServiceDiversity': 12}\n",
      "Saving evaluation results to /home/22489437/Documents/GitHub/MTDSim/experiments/experimental_data/results/epsilon_0.7_decay_0.995.csv\n",
      "{'CompleteTopologyShuffle': 6, 'IPShuffle': 16, 'OSDiversity': 8, 'ServiceDiversity': 16}\n",
      "Saving evaluation results to /home/22489437/Documents/GitHub/MTDSim/experiments/experimental_data/results/epsilon_0.7_decay_0.995.csv\n",
      "{'CompleteTopologyShuffle': 10, 'IPShuffle': 16, 'OSDiversity': 12, 'ServiceDiversity': 8}\n",
      "Saving evaluation results to /home/22489437/Documents/GitHub/MTDSim/experiments/experimental_data/results/epsilon_0.7_decay_0.995.csv\n",
      "{'CompleteTopologyShuffle': 10, 'IPShuffle': 6, 'OSDiversity': 18, 'ServiceDiversity': 8}\n",
      "Saving evaluation results to /home/22489437/Documents/GitHub/MTDSim/experiments/experimental_data/results/epsilon_0.7_decay_0.995.csv\n",
      "{'CompleteTopologyShuffle': 12, 'IPShuffle': 16, 'OSDiversity': 2, 'ServiceDiversity': 8}\n",
      "Saving evaluation results to /home/22489437/Documents/GitHub/MTDSim/experiments/experimental_data/results/epsilon_0.7_decay_0.995.csv\n",
      "{'CompleteTopologyShuffle': 10, 'IPShuffle': 6, 'OSDiversity': 10, 'ServiceDiversity': 10}\n",
      "Saving evaluation results to /home/22489437/Documents/GitHub/MTDSim/experiments/experimental_data/results/epsilon_0.7_decay_0.995.csv\n",
      "{'CompleteTopologyShuffle': 10, 'IPShuffle': 8, 'OSDiversity': 12, 'ServiceDiversity': 12}\n",
      "Saving evaluation results to /home/22489437/Documents/GitHub/MTDSim/experiments/experimental_data/results/epsilon_0.7_decay_0.995.csv\n",
      "{'CompleteTopologyShuffle': 6, 'IPShuffle': 8, 'OSDiversity': 16, 'ServiceDiversity': 4}\n",
      "Saving evaluation results to /home/22489437/Documents/GitHub/MTDSim/experiments/experimental_data/results/epsilon_0.7_decay_0.995.csv\n",
      "{'CompleteTopologyShuffle': 10, 'IPShuffle': 12, 'OSDiversity': 12, 'ServiceDiversity': 12}\n",
      "Saving evaluation results to /home/22489437/Documents/GitHub/MTDSim/experiments/experimental_data/results/epsilon_0.7_decay_0.995.csv\n",
      "{'CompleteTopologyShuffle': 8, 'IPShuffle': 8, 'OSDiversity': 14, 'ServiceDiversity': 6}\n",
      "Saving evaluation results to /home/22489437/Documents/GitHub/MTDSim/experiments/experimental_data/results/epsilon_0.7_decay_0.995.csv\n",
      "{'CompleteTopologyShuffle': 12, 'IPShuffle': 2, 'OSDiversity': 10, 'ServiceDiversity': 10}\n",
      "Saving evaluation results to /home/22489437/Documents/GitHub/MTDSim/experiments/experimental_data/results/epsilon_0.7_decay_0.995.csv\n",
      "{'CompleteTopologyShuffle': 6, 'IPShuffle': 14, 'OSDiversity': 14, 'ServiceDiversity': 12}\n",
      "Saving evaluation results to /home/22489437/Documents/GitHub/MTDSim/experiments/experimental_data/results/epsilon_0.7_decay_0.995.csv\n",
      "{'CompleteTopologyShuffle': 18, 'IPShuffle': 4, 'OSDiversity': 8, 'ServiceDiversity': 6}\n",
      "Saving evaluation results to /home/22489437/Documents/GitHub/MTDSim/experiments/experimental_data/results/epsilon_0.7_decay_0.995.csv\n",
      "{'CompleteTopologyShuffle': 6, 'IPShuffle': 4, 'OSDiversity': 18, 'ServiceDiversity': 10}\n",
      "Saving evaluation results to /home/22489437/Documents/GitHub/MTDSim/experiments/experimental_data/results/epsilon_0.7_decay_0.995.csv\n",
      "{'CompleteTopologyShuffle': 10, 'IPShuffle': 14, 'OSDiversity': 10, 'ServiceDiversity': 10}\n",
      "Saving evaluation results to /home/22489437/Documents/GitHub/MTDSim/experiments/experimental_data/results/epsilon_0.7_decay_0.995.csv\n",
      "{'CompleteTopologyShuffle': 18, 'IPShuffle': 10, 'OSDiversity': 8, 'ServiceDiversity': 2}\n",
      "{'CompleteTopologyShuffle': 10, 'IPShuffle': 20, 'OSDiversity': 6, 'ServiceDiversity': 6}\n",
      "Saving evaluation results to /home/22489437/Documents/GitHub/MTDSim/experiments/experimental_data/results/epsilon_0.7_decay_0.995.csv\n",
      "Saving evaluation results to /home/22489437/Documents/GitHub/MTDSim/experiments/experimental_data/results/epsilon_0.7_decay_0.995.csv\n",
      "{'CompleteTopologyShuffle': 10, 'IPShuffle': 10, 'OSDiversity': 12, 'ServiceDiversity': 4}\n",
      "Saving evaluation results to /home/22489437/Documents/GitHub/MTDSim/experiments/experimental_data/results/epsilon_0.7_decay_0.995.csv\n",
      "{'CompleteTopologyShuffle': 6, 'IPShuffle': 10, 'OSDiversity': 10, 'ServiceDiversity': 10}\n",
      "Saving evaluation results to /home/22489437/Documents/GitHub/MTDSim/experiments/experimental_data/results/epsilon_0.7_decay_0.995.csv\n",
      "{'CompleteTopologyShuffle': 12, 'IPShuffle': 10, 'OSDiversity': 8, 'ServiceDiversity': 12}\n",
      "Saving evaluation results to /home/22489437/Documents/GitHub/MTDSim/experiments/experimental_data/results/epsilon_0.7_decay_0.995.csv\n",
      "{'CompleteTopologyShuffle': 10, 'IPShuffle': 12, 'OSDiversity': 8, 'ServiceDiversity': 10}\n",
      "Saving evaluation results to /home/22489437/Documents/GitHub/MTDSim/experiments/experimental_data/results/epsilon_0.7_decay_0.995.csv\n",
      "Running experiments for model epsilon_0.7_decay_0.998\n",
      "Trial_ 0\n",
      "Trial_ 10\n",
      "Trial_ 20\n",
      "Trial_ 30\n",
      "Trial_ 40\n",
      "Trial_ 50\n",
      "Trial_ 60\n",
      "Trial_ 70\n",
      "Trial_ 80\n",
      "Trial_ 90\n"
     ]
    },
    {
     "name": "stderr",
     "output_type": "stream",
     "text": [
      "Compiled the loaded model, but the compiled metrics have yet to be built. `model.compile_metrics` will be empty until you train or evaluate the model.\n",
      "Compiled the loaded model, but the compiled metrics have yet to be built. `model.compile_metrics` will be empty until you train or evaluate the model.\n",
      "Compiled the loaded model, but the compiled metrics have yet to be built. `model.compile_metrics` will be empty until you train or evaluate the model.\n",
      "Compiled the loaded model, but the compiled metrics have yet to be built. `model.compile_metrics` will be empty until you train or evaluate the model.\n",
      "Compiled the loaded model, but the compiled metrics have yet to be built. `model.compile_metrics` will be empty until you train or evaluate the model.\n",
      "Compiled the loaded model, but the compiled metrics have yet to be built. `model.compile_metrics` will be empty until you train or evaluate the model.\n",
      "Compiled the loaded model, but the compiled metrics have yet to be built. `model.compile_metrics` will be empty until you train or evaluate the model.\n",
      "Compiled the loaded model, but the compiled metrics have yet to be built. `model.compile_metrics` will be empty until you train or evaluate the model.\n",
      "Compiled the loaded model, but the compiled metrics have yet to be built. `model.compile_metrics` will be empty until you train or evaluate the model.\n",
      "Compiled the loaded model, but the compiled metrics have yet to be built. `model.compile_metrics` will be empty until you train or evaluate the model.\n",
      "Compiled the loaded model, but the compiled metrics have yet to be built. `model.compile_metrics` will be empty until you train or evaluate the model.\n",
      "Compiled the loaded model, but the compiled metrics have yet to be built. `model.compile_metrics` will be empty until you train or evaluate the model.\n",
      "Compiled the loaded model, but the compiled metrics have yet to be built. `model.compile_metrics` will be empty until you train or evaluate the model.\n",
      "Compiled the loaded model, but the compiled metrics have yet to be built. `model.compile_metrics` will be empty until you train or evaluate the model.\n",
      "Compiled the loaded model, but the compiled metrics have yet to be built. `model.compile_metrics` will be empty until you train or evaluate the model.\n",
      "Compiled the loaded model, but the compiled metrics have yet to be built. `model.compile_metrics` will be empty until you train or evaluate the model.\n",
      "Compiled the loaded model, but the compiled metrics have yet to be built. `model.compile_metrics` will be empty until you train or evaluate the model.\n",
      "Compiled the loaded model, but the compiled metrics have yet to be built. `model.compile_metrics` will be empty until you train or evaluate the model.\n",
      "Compiled the loaded model, but the compiled metrics have yet to be built. `model.compile_metrics` will be empty until you train or evaluate the model.\n",
      "Compiled the loaded model, but the compiled metrics have yet to be built. `model.compile_metrics` will be empty until you train or evaluate the model.\n",
      "Compiled the loaded model, but the compiled metrics have yet to be built. `model.compile_metrics` will be empty until you train or evaluate the model.\n",
      "Compiled the loaded model, but the compiled metrics have yet to be built. `model.compile_metrics` will be empty until you train or evaluate the model.\n",
      "Compiled the loaded model, but the compiled metrics have yet to be built. `model.compile_metrics` will be empty until you train or evaluate the model.\n",
      "Compiled the loaded model, but the compiled metrics have yet to be built. `model.compile_metrics` will be empty until you train or evaluate the model.\n"
     ]
    },
    {
     "name": "stdout",
     "output_type": "stream",
     "text": [
      "{'CompleteTopologyShuffle': 12, 'IPShuffle': 8, 'OSDiversity': 12, 'ServiceDiversity': 8}\n",
      "Saving evaluation results to /home/22489437/Documents/GitHub/MTDSim/experiments/experimental_data/results/epsilon_0.7_decay_0.998.csv\n"
     ]
    },
    {
     "name": "stderr",
     "output_type": "stream",
     "text": [
      "Compiled the loaded model, but the compiled metrics have yet to be built. `model.compile_metrics` will be empty until you train or evaluate the model.\n"
     ]
    },
    {
     "name": "stdout",
     "output_type": "stream",
     "text": [
      "{'CompleteTopologyShuffle': 8, 'IPShuffle': 4, 'OSDiversity': 10, 'ServiceDiversity': 14}\n",
      "{'CompleteTopologyShuffle': 8, 'IPShuffle': 0, 'OSDiversity': 10, 'ServiceDiversity': 16}\n",
      "{'CompleteTopologyShuffle': 4, 'IPShuffle': 16, 'OSDiversity': 10, 'ServiceDiversity': 12}\n",
      "Saving evaluation results to /home/22489437/Documents/GitHub/MTDSim/experiments/experimental_data/results/epsilon_0.7_decay_0.998.csv\n",
      "Saving evaluation results to /home/22489437/Documents/GitHub/MTDSim/experiments/experimental_data/results/epsilon_0.7_decay_0.998.csv\n"
     ]
    },
    {
     "name": "stderr",
     "output_type": "stream",
     "text": [
      "Compiled the loaded model, but the compiled metrics have yet to be built. `model.compile_metrics` will be empty until you train or evaluate the model.\n",
      "Compiled the loaded model, but the compiled metrics have yet to be built. `model.compile_metrics` will be empty until you train or evaluate the model.\n"
     ]
    },
    {
     "name": "stdout",
     "output_type": "stream",
     "text": [
      "Saving evaluation results to /home/22489437/Documents/GitHub/MTDSim/experiments/experimental_data/results/epsilon_0.7_decay_0.998.csv\n"
     ]
    },
    {
     "name": "stderr",
     "output_type": "stream",
     "text": [
      "Compiled the loaded model, but the compiled metrics have yet to be built. `model.compile_metrics` will be empty until you train or evaluate the model.\n"
     ]
    },
    {
     "name": "stdout",
     "output_type": "stream",
     "text": [
      "{'CompleteTopologyShuffle': 6, 'IPShuffle': 6, 'OSDiversity': 8, 'ServiceDiversity': 18}\n",
      "Saving evaluation results to /home/22489437/Documents/GitHub/MTDSim/experiments/experimental_data/results/epsilon_0.7_decay_0.998.csv\n"
     ]
    },
    {
     "name": "stderr",
     "output_type": "stream",
     "text": [
      "Compiled the loaded model, but the compiled metrics have yet to be built. `model.compile_metrics` will be empty until you train or evaluate the model.\n"
     ]
    },
    {
     "name": "stdout",
     "output_type": "stream",
     "text": [
      "{'CompleteTopologyShuffle': 20, 'IPShuffle': 6, 'OSDiversity': 8, 'ServiceDiversity': 10}\n",
      "Saving evaluation results to /home/22489437/Documents/GitHub/MTDSim/experiments/experimental_data/results/epsilon_0.7_decay_0.998.csv\n"
     ]
    },
    {
     "name": "stderr",
     "output_type": "stream",
     "text": [
      "Compiled the loaded model, but the compiled metrics have yet to be built. `model.compile_metrics` will be empty until you train or evaluate the model.\n"
     ]
    },
    {
     "name": "stdout",
     "output_type": "stream",
     "text": [
      "{'CompleteTopologyShuffle': 12, 'IPShuffle': 8, 'OSDiversity': 16, 'ServiceDiversity': 10}\n",
      "Saving evaluation results to /home/22489437/Documents/GitHub/MTDSim/experiments/experimental_data/results/epsilon_0.7_decay_0.998.csv\n"
     ]
    },
    {
     "name": "stderr",
     "output_type": "stream",
     "text": [
      "Compiled the loaded model, but the compiled metrics have yet to be built. `model.compile_metrics` will be empty until you train or evaluate the model.\n"
     ]
    },
    {
     "name": "stdout",
     "output_type": "stream",
     "text": [
      "{'CompleteTopologyShuffle': 8, 'IPShuffle': 10, 'OSDiversity': 16, 'ServiceDiversity': 8}\n",
      "Saving evaluation results to /home/22489437/Documents/GitHub/MTDSim/experiments/experimental_data/results/epsilon_0.7_decay_0.998.csv\n"
     ]
    },
    {
     "name": "stderr",
     "output_type": "stream",
     "text": [
      "Compiled the loaded model, but the compiled metrics have yet to be built. `model.compile_metrics` will be empty until you train or evaluate the model.\n"
     ]
    },
    {
     "name": "stdout",
     "output_type": "stream",
     "text": [
      "{'CompleteTopologyShuffle': 10, 'IPShuffle': 6, 'OSDiversity': 10, 'ServiceDiversity': 12}\n",
      "{'CompleteTopologyShuffle': 12, 'IPShuffle': 8, 'OSDiversity': 4, 'ServiceDiversity': 16}\n",
      "Saving evaluation results to /home/22489437/Documents/GitHub/MTDSim/experiments/experimental_data/results/epsilon_0.7_decay_0.998.csv\n",
      "Saving evaluation results to /home/22489437/Documents/GitHub/MTDSim/experiments/experimental_data/results/epsilon_0.7_decay_0.998.csv\n"
     ]
    },
    {
     "name": "stderr",
     "output_type": "stream",
     "text": [
      "Compiled the loaded model, but the compiled metrics have yet to be built. `model.compile_metrics` will be empty until you train or evaluate the model.\n",
      "Compiled the loaded model, but the compiled metrics have yet to be built. `model.compile_metrics` will be empty until you train or evaluate the model.\n"
     ]
    },
    {
     "name": "stdout",
     "output_type": "stream",
     "text": [
      "{'CompleteTopologyShuffle': 4, 'IPShuffle': 12, 'OSDiversity': 10, 'ServiceDiversity': 10}\n",
      "{'CompleteTopologyShuffle': 14, 'IPShuffle': 12, 'OSDiversity': 6, 'ServiceDiversity': 14}\n",
      "Saving evaluation results to /home/22489437/Documents/GitHub/MTDSim/experiments/experimental_data/results/epsilon_0.7_decay_0.998.csv\n",
      "Saving evaluation results to /home/22489437/Documents/GitHub/MTDSim/experiments/experimental_data/results/epsilon_0.7_decay_0.998.csv\n"
     ]
    },
    {
     "name": "stderr",
     "output_type": "stream",
     "text": [
      "Compiled the loaded model, but the compiled metrics have yet to be built. `model.compile_metrics` will be empty until you train or evaluate the model.\n",
      "Compiled the loaded model, but the compiled metrics have yet to be built. `model.compile_metrics` will be empty until you train or evaluate the model.\n"
     ]
    },
    {
     "name": "stdout",
     "output_type": "stream",
     "text": [
      "{'CompleteTopologyShuffle': 12, 'IPShuffle': 6, 'OSDiversity': 6, 'ServiceDiversity': 10}\n",
      "{'CompleteTopologyShuffle': 16, 'IPShuffle': 8, 'OSDiversity': 8, 'ServiceDiversity': 6}\n",
      "Saving evaluation results to /home/22489437/Documents/GitHub/MTDSim/experiments/experimental_data/results/epsilon_0.7_decay_0.998.csv\n"
     ]
    },
    {
     "name": "stderr",
     "output_type": "stream",
     "text": [
      "Compiled the loaded model, but the compiled metrics have yet to be built. `model.compile_metrics` will be empty until you train or evaluate the model.\n"
     ]
    },
    {
     "name": "stdout",
     "output_type": "stream",
     "text": [
      "Saving evaluation results to /home/22489437/Documents/GitHub/MTDSim/experiments/experimental_data/results/epsilon_0.7_decay_0.998.csv\n",
      "{'CompleteTopologyShuffle': 12, 'IPShuffle': 14, 'OSDiversity': 14, 'ServiceDiversity': 8}\n",
      "{'CompleteTopologyShuffle': 8, 'IPShuffle': 10, 'OSDiversity': 8, 'ServiceDiversity': 10}\n"
     ]
    },
    {
     "name": "stderr",
     "output_type": "stream",
     "text": [
      "Compiled the loaded model, but the compiled metrics have yet to be built. `model.compile_metrics` will be empty until you train or evaluate the model.\n"
     ]
    },
    {
     "name": "stdout",
     "output_type": "stream",
     "text": [
      "Saving evaluation results to /home/22489437/Documents/GitHub/MTDSim/experiments/experimental_data/results/epsilon_0.7_decay_0.998.csv\n",
      "Saving evaluation results to /home/22489437/Documents/GitHub/MTDSim/experiments/experimental_data/results/epsilon_0.7_decay_0.998.csv\n"
     ]
    },
    {
     "name": "stderr",
     "output_type": "stream",
     "text": [
      "Compiled the loaded model, but the compiled metrics have yet to be built. `model.compile_metrics` will be empty until you train or evaluate the model.\n",
      "Compiled the loaded model, but the compiled metrics have yet to be built. `model.compile_metrics` will be empty until you train or evaluate the model.\n"
     ]
    },
    {
     "name": "stdout",
     "output_type": "stream",
     "text": [
      "{'CompleteTopologyShuffle': 10, 'IPShuffle': 16, 'OSDiversity': 4, 'ServiceDiversity': 16}\n",
      "{'CompleteTopologyShuffle': 16, 'IPShuffle': 10, 'OSDiversity': 6, 'ServiceDiversity': 10}\n",
      "Saving evaluation results to /home/22489437/Documents/GitHub/MTDSim/experiments/experimental_data/results/epsilon_0.7_decay_0.998.csv\n"
     ]
    },
    {
     "name": "stderr",
     "output_type": "stream",
     "text": [
      "Compiled the loaded model, but the compiled metrics have yet to be built. `model.compile_metrics` will be empty until you train or evaluate the model.\n"
     ]
    },
    {
     "name": "stdout",
     "output_type": "stream",
     "text": [
      "Saving evaluation results to /home/22489437/Documents/GitHub/MTDSim/experiments/experimental_data/results/epsilon_0.7_decay_0.998.csv\n"
     ]
    },
    {
     "name": "stderr",
     "output_type": "stream",
     "text": [
      "Compiled the loaded model, but the compiled metrics have yet to be built. `model.compile_metrics` will be empty until you train or evaluate the model.\n"
     ]
    },
    {
     "name": "stdout",
     "output_type": "stream",
     "text": [
      "{'CompleteTopologyShuffle': 8, 'IPShuffle': 10, 'OSDiversity': 6, 'ServiceDiversity': 20}\n",
      "Saving evaluation results to /home/22489437/Documents/GitHub/MTDSim/experiments/experimental_data/results/epsilon_0.7_decay_0.998.csv\n"
     ]
    },
    {
     "name": "stderr",
     "output_type": "stream",
     "text": [
      "Compiled the loaded model, but the compiled metrics have yet to be built. `model.compile_metrics` will be empty until you train or evaluate the model.\n"
     ]
    },
    {
     "name": "stdout",
     "output_type": "stream",
     "text": [
      "{'CompleteTopologyShuffle': 14, 'IPShuffle': 8, 'OSDiversity': 6, 'ServiceDiversity': 6}\n",
      "Saving evaluation results to /home/22489437/Documents/GitHub/MTDSim/experiments/experimental_data/results/epsilon_0.7_decay_0.998.csv{'CompleteTopologyShuffle': 10, 'IPShuffle': 10, 'OSDiversity': 14, 'ServiceDiversity': 6}\n",
      "\n"
     ]
    },
    {
     "name": "stderr",
     "output_type": "stream",
     "text": [
      "Compiled the loaded model, but the compiled metrics have yet to be built. `model.compile_metrics` will be empty until you train or evaluate the model.\n"
     ]
    },
    {
     "name": "stdout",
     "output_type": "stream",
     "text": [
      "Saving evaluation results to /home/22489437/Documents/GitHub/MTDSim/experiments/experimental_data/results/epsilon_0.7_decay_0.998.csv\n"
     ]
    },
    {
     "name": "stderr",
     "output_type": "stream",
     "text": [
      "Compiled the loaded model, but the compiled metrics have yet to be built. `model.compile_metrics` will be empty until you train or evaluate the model.\n"
     ]
    },
    {
     "name": "stdout",
     "output_type": "stream",
     "text": [
      "{'CompleteTopologyShuffle': 8, 'IPShuffle': 22, 'OSDiversity': 6, 'ServiceDiversity': 14}\n",
      "Saving evaluation results to /home/22489437/Documents/GitHub/MTDSim/experiments/experimental_data/results/epsilon_0.7_decay_0.998.csv\n"
     ]
    },
    {
     "name": "stderr",
     "output_type": "stream",
     "text": [
      "Compiled the loaded model, but the compiled metrics have yet to be built. `model.compile_metrics` will be empty until you train or evaluate the model.\n"
     ]
    },
    {
     "name": "stdout",
     "output_type": "stream",
     "text": [
      "{'CompleteTopologyShuffle': 6, 'IPShuffle': 8, 'OSDiversity': 6, 'ServiceDiversity': 14}\n",
      "Saving evaluation results to /home/22489437/Documents/GitHub/MTDSim/experiments/experimental_data/results/epsilon_0.7_decay_0.998.csv\n",
      "{'CompleteTopologyShuffle': 10, 'IPShuffle': 6, 'OSDiversity': 10, 'ServiceDiversity': 8}\n"
     ]
    },
    {
     "name": "stderr",
     "output_type": "stream",
     "text": [
      "Compiled the loaded model, but the compiled metrics have yet to be built. `model.compile_metrics` will be empty until you train or evaluate the model.\n"
     ]
    },
    {
     "name": "stdout",
     "output_type": "stream",
     "text": [
      "Saving evaluation results to /home/22489437/Documents/GitHub/MTDSim/experiments/experimental_data/results/epsilon_0.7_decay_0.998.csv\n"
     ]
    },
    {
     "name": "stderr",
     "output_type": "stream",
     "text": [
      "Compiled the loaded model, but the compiled metrics have yet to be built. `model.compile_metrics` will be empty until you train or evaluate the model.\n"
     ]
    },
    {
     "name": "stdout",
     "output_type": "stream",
     "text": [
      "{'CompleteTopologyShuffle': 4, 'IPShuffle': 4, 'OSDiversity': 24, 'ServiceDiversity': 4}\n",
      "Saving evaluation results to /home/22489437/Documents/GitHub/MTDSim/experiments/experimental_data/results/epsilon_0.7_decay_0.998.csv\n"
     ]
    },
    {
     "name": "stderr",
     "output_type": "stream",
     "text": [
      "Compiled the loaded model, but the compiled metrics have yet to be built. `model.compile_metrics` will be empty until you train or evaluate the model.\n"
     ]
    },
    {
     "name": "stdout",
     "output_type": "stream",
     "text": [
      "{'CompleteTopologyShuffle': 10, 'IPShuffle': 8, 'OSDiversity': 10, 'ServiceDiversity': 10}\n",
      "{'CompleteTopologyShuffle': 12, 'IPShuffle': 6, 'OSDiversity': 16, 'ServiceDiversity': 14}\n",
      "Saving evaluation results to /home/22489437/Documents/GitHub/MTDSim/experiments/experimental_data/results/epsilon_0.7_decay_0.998.csv\n",
      "Saving evaluation results to /home/22489437/Documents/GitHub/MTDSim/experiments/experimental_data/results/epsilon_0.7_decay_0.998.csv\n"
     ]
    },
    {
     "name": "stderr",
     "output_type": "stream",
     "text": [
      "Compiled the loaded model, but the compiled metrics have yet to be built. `model.compile_metrics` will be empty until you train or evaluate the model.\n",
      "Compiled the loaded model, but the compiled metrics have yet to be built. `model.compile_metrics` will be empty until you train or evaluate the model.\n"
     ]
    },
    {
     "name": "stdout",
     "output_type": "stream",
     "text": [
      "{'CompleteTopologyShuffle': 8, 'IPShuffle': 6, 'OSDiversity': 14, 'ServiceDiversity': 10}\n",
      "Saving evaluation results to /home/22489437/Documents/GitHub/MTDSim/experiments/experimental_data/results/epsilon_0.7_decay_0.998.csv\n"
     ]
    },
    {
     "name": "stderr",
     "output_type": "stream",
     "text": [
      "Compiled the loaded model, but the compiled metrics have yet to be built. `model.compile_metrics` will be empty until you train or evaluate the model.\n"
     ]
    },
    {
     "name": "stdout",
     "output_type": "stream",
     "text": [
      "{'CompleteTopologyShuffle': 14, 'IPShuffle': 4, 'OSDiversity': 12, 'ServiceDiversity': 8}\n",
      "Saving evaluation results to /home/22489437/Documents/GitHub/MTDSim/experiments/experimental_data/results/epsilon_0.7_decay_0.998.csv\n"
     ]
    },
    {
     "name": "stderr",
     "output_type": "stream",
     "text": [
      "Compiled the loaded model, but the compiled metrics have yet to be built. `model.compile_metrics` will be empty until you train or evaluate the model.\n"
     ]
    },
    {
     "name": "stdout",
     "output_type": "stream",
     "text": [
      "{'CompleteTopologyShuffle': 6, 'IPShuffle': 10, 'OSDiversity': 14, 'ServiceDiversity': 6}\n",
      "Saving evaluation results to /home/22489437/Documents/GitHub/MTDSim/experiments/experimental_data/results/epsilon_0.7_decay_0.998.csv\n"
     ]
    },
    {
     "name": "stderr",
     "output_type": "stream",
     "text": [
      "Compiled the loaded model, but the compiled metrics have yet to be built. `model.compile_metrics` will be empty until you train or evaluate the model.\n"
     ]
    },
    {
     "name": "stdout",
     "output_type": "stream",
     "text": [
      "{'CompleteTopologyShuffle': 12, 'IPShuffle': 8, 'OSDiversity': 12, 'ServiceDiversity': 10}\n",
      "Saving evaluation results to /home/22489437/Documents/GitHub/MTDSim/experiments/experimental_data/results/epsilon_0.7_decay_0.998.csv\n"
     ]
    },
    {
     "name": "stderr",
     "output_type": "stream",
     "text": [
      "Compiled the loaded model, but the compiled metrics have yet to be built. `model.compile_metrics` will be empty until you train or evaluate the model.\n"
     ]
    },
    {
     "name": "stdout",
     "output_type": "stream",
     "text": [
      "{'CompleteTopologyShuffle': 6, 'IPShuffle': 14, 'OSDiversity': 12, 'ServiceDiversity': 10}\n",
      "{'CompleteTopologyShuffle': 12, 'IPShuffle': 10, 'OSDiversity': 16, 'ServiceDiversity': 4}\n",
      "Saving evaluation results to /home/22489437/Documents/GitHub/MTDSim/experiments/experimental_data/results/epsilon_0.7_decay_0.998.csv\n"
     ]
    },
    {
     "name": "stderr",
     "output_type": "stream",
     "text": [
      "Compiled the loaded model, but the compiled metrics have yet to be built. `model.compile_metrics` will be empty until you train or evaluate the model.\n"
     ]
    },
    {
     "name": "stdout",
     "output_type": "stream",
     "text": [
      "Saving evaluation results to /home/22489437/Documents/GitHub/MTDSim/experiments/experimental_data/results/epsilon_0.7_decay_0.998.csv\n",
      "{'CompleteTopologyShuffle': 18, 'IPShuffle': 8, 'OSDiversity': 10, 'ServiceDiversity': 6}\n"
     ]
    },
    {
     "name": "stderr",
     "output_type": "stream",
     "text": [
      "Compiled the loaded model, but the compiled metrics have yet to be built. `model.compile_metrics` will be empty until you train or evaluate the model.\n"
     ]
    },
    {
     "name": "stdout",
     "output_type": "stream",
     "text": [
      "Saving evaluation results to /home/22489437/Documents/GitHub/MTDSim/experiments/experimental_data/results/epsilon_0.7_decay_0.998.csv\n"
     ]
    },
    {
     "name": "stderr",
     "output_type": "stream",
     "text": [
      "Compiled the loaded model, but the compiled metrics have yet to be built. `model.compile_metrics` will be empty until you train or evaluate the model.\n"
     ]
    },
    {
     "name": "stdout",
     "output_type": "stream",
     "text": [
      "{'CompleteTopologyShuffle': 8, 'IPShuffle': 16, 'OSDiversity': 14, 'ServiceDiversity': 6}\n",
      "Saving evaluation results to /home/22489437/Documents/GitHub/MTDSim/experiments/experimental_data/results/epsilon_0.7_decay_0.998.csv\n"
     ]
    },
    {
     "name": "stderr",
     "output_type": "stream",
     "text": [
      "Compiled the loaded model, but the compiled metrics have yet to be built. `model.compile_metrics` will be empty until you train or evaluate the model.\n"
     ]
    },
    {
     "name": "stdout",
     "output_type": "stream",
     "text": [
      "{'CompleteTopologyShuffle': 8, 'IPShuffle': 12, 'OSDiversity': 12, 'ServiceDiversity': 10}\n",
      "Saving evaluation results to /home/22489437/Documents/GitHub/MTDSim/experiments/experimental_data/results/epsilon_0.7_decay_0.998.csv\n",
      "{'CompleteTopologyShuffle': 8, 'IPShuffle': 12, 'OSDiversity': 8, 'ServiceDiversity': 10}\n"
     ]
    },
    {
     "name": "stderr",
     "output_type": "stream",
     "text": [
      "Compiled the loaded model, but the compiled metrics have yet to be built. `model.compile_metrics` will be empty until you train or evaluate the model.\n"
     ]
    },
    {
     "name": "stdout",
     "output_type": "stream",
     "text": [
      "Saving evaluation results to /home/22489437/Documents/GitHub/MTDSim/experiments/experimental_data/results/epsilon_0.7_decay_0.998.csv\n",
      "{'CompleteTopologyShuffle': 8, 'IPShuffle': 8, 'OSDiversity': 4, 'ServiceDiversity': 14}\n"
     ]
    },
    {
     "name": "stderr",
     "output_type": "stream",
     "text": [
      "Compiled the loaded model, but the compiled metrics have yet to be built. `model.compile_metrics` will be empty until you train or evaluate the model.\n"
     ]
    },
    {
     "name": "stdout",
     "output_type": "stream",
     "text": [
      "Saving evaluation results to /home/22489437/Documents/GitHub/MTDSim/experiments/experimental_data/results/epsilon_0.7_decay_0.998.csv\n"
     ]
    },
    {
     "name": "stderr",
     "output_type": "stream",
     "text": [
      "Compiled the loaded model, but the compiled metrics have yet to be built. `model.compile_metrics` will be empty until you train or evaluate the model.\n"
     ]
    },
    {
     "name": "stdout",
     "output_type": "stream",
     "text": [
      "{'CompleteTopologyShuffle': 12, 'IPShuffle': 12, 'OSDiversity': 16, 'ServiceDiversity': 4}\n",
      "Saving evaluation results to /home/22489437/Documents/GitHub/MTDSim/experiments/experimental_data/results/epsilon_0.7_decay_0.998.csv\n",
      "{'CompleteTopologyShuffle': 14, 'IPShuffle': 18, 'OSDiversity': 8, 'ServiceDiversity': 4}\n"
     ]
    },
    {
     "name": "stderr",
     "output_type": "stream",
     "text": [
      "Compiled the loaded model, but the compiled metrics have yet to be built. `model.compile_metrics` will be empty until you train or evaluate the model.\n"
     ]
    },
    {
     "name": "stdout",
     "output_type": "stream",
     "text": [
      "Saving evaluation results to /home/22489437/Documents/GitHub/MTDSim/experiments/experimental_data/results/epsilon_0.7_decay_0.998.csv\n"
     ]
    },
    {
     "name": "stderr",
     "output_type": "stream",
     "text": [
      "Compiled the loaded model, but the compiled metrics have yet to be built. `model.compile_metrics` will be empty until you train or evaluate the model.\n"
     ]
    },
    {
     "name": "stdout",
     "output_type": "stream",
     "text": [
      "{'CompleteTopologyShuffle': 10, 'IPShuffle': 12, 'OSDiversity': 10, 'ServiceDiversity': 6}\n",
      "Saving evaluation results to /home/22489437/Documents/GitHub/MTDSim/experiments/experimental_data/results/epsilon_0.7_decay_0.998.csv\n"
     ]
    },
    {
     "name": "stderr",
     "output_type": "stream",
     "text": [
      "Compiled the loaded model, but the compiled metrics have yet to be built. `model.compile_metrics` will be empty until you train or evaluate the model.\n"
     ]
    },
    {
     "name": "stdout",
     "output_type": "stream",
     "text": [
      "{'CompleteTopologyShuffle': 10, 'IPShuffle': 6, 'OSDiversity': 18, 'ServiceDiversity': 12}\n",
      "Saving evaluation results to /home/22489437/Documents/GitHub/MTDSim/experiments/experimental_data/results/epsilon_0.7_decay_0.998.csv\n"
     ]
    },
    {
     "name": "stderr",
     "output_type": "stream",
     "text": [
      "Compiled the loaded model, but the compiled metrics have yet to be built. `model.compile_metrics` will be empty until you train or evaluate the model.\n"
     ]
    },
    {
     "name": "stdout",
     "output_type": "stream",
     "text": [
      "{'CompleteTopologyShuffle': 10, 'IPShuffle': 6, 'OSDiversity': 8, 'ServiceDiversity': 12}{'CompleteTopologyShuffle': 10, 'IPShuffle': 4, 'OSDiversity': 22, 'ServiceDiversity': 8}\n",
      "\n",
      "Saving evaluation results to /home/22489437/Documents/GitHub/MTDSim/experiments/experimental_data/results/epsilon_0.7_decay_0.998.csvSaving evaluation results to /home/22489437/Documents/GitHub/MTDSim/experiments/experimental_data/results/epsilon_0.7_decay_0.998.csv\n",
      "\n",
      "{'CompleteTopologyShuffle': 10, 'IPShuffle': 8, 'OSDiversity': 18, 'ServiceDiversity': 10}\n"
     ]
    },
    {
     "name": "stderr",
     "output_type": "stream",
     "text": [
      "Compiled the loaded model, but the compiled metrics have yet to be built. `model.compile_metrics` will be empty until you train or evaluate the model.\n",
      "Compiled the loaded model, but the compiled metrics have yet to be built. `model.compile_metrics` will be empty until you train or evaluate the model.\n"
     ]
    },
    {
     "name": "stdout",
     "output_type": "stream",
     "text": [
      "Saving evaluation results to /home/22489437/Documents/GitHub/MTDSim/experiments/experimental_data/results/epsilon_0.7_decay_0.998.csv\n"
     ]
    },
    {
     "name": "stderr",
     "output_type": "stream",
     "text": [
      "Compiled the loaded model, but the compiled metrics have yet to be built. `model.compile_metrics` will be empty until you train or evaluate the model.\n"
     ]
    },
    {
     "name": "stdout",
     "output_type": "stream",
     "text": [
      "{'CompleteTopologyShuffle': 10, 'IPShuffle': 8, 'OSDiversity': 12, 'ServiceDiversity': 12}\n",
      "Saving evaluation results to /home/22489437/Documents/GitHub/MTDSim/experiments/experimental_data/results/epsilon_0.7_decay_0.998.csv\n"
     ]
    },
    {
     "name": "stderr",
     "output_type": "stream",
     "text": [
      "Compiled the loaded model, but the compiled metrics have yet to be built. `model.compile_metrics` will be empty until you train or evaluate the model.\n"
     ]
    },
    {
     "name": "stdout",
     "output_type": "stream",
     "text": [
      "{'CompleteTopologyShuffle': 10, 'IPShuffle': 18, 'OSDiversity': 10, 'ServiceDiversity': 4}\n",
      "Saving evaluation results to /home/22489437/Documents/GitHub/MTDSim/experiments/experimental_data/results/epsilon_0.7_decay_0.998.csv\n"
     ]
    },
    {
     "name": "stderr",
     "output_type": "stream",
     "text": [
      "Compiled the loaded model, but the compiled metrics have yet to be built. `model.compile_metrics` will be empty until you train or evaluate the model.\n"
     ]
    },
    {
     "name": "stdout",
     "output_type": "stream",
     "text": [
      "{'CompleteTopologyShuffle': 14, 'IPShuffle': 18, 'OSDiversity': 6, 'ServiceDiversity': 20}\n",
      "Saving evaluation results to /home/22489437/Documents/GitHub/MTDSim/experiments/experimental_data/results/epsilon_0.7_decay_0.998.csv\n"
     ]
    },
    {
     "name": "stderr",
     "output_type": "stream",
     "text": [
      "Compiled the loaded model, but the compiled metrics have yet to be built. `model.compile_metrics` will be empty until you train or evaluate the model.\n"
     ]
    },
    {
     "name": "stdout",
     "output_type": "stream",
     "text": [
      "{'CompleteTopologyShuffle': 12, 'IPShuffle': 10, 'OSDiversity': 16, 'ServiceDiversity': 4}\n",
      "Saving evaluation results to /home/22489437/Documents/GitHub/MTDSim/experiments/experimental_data/results/epsilon_0.7_decay_0.998.csv\n"
     ]
    },
    {
     "name": "stderr",
     "output_type": "stream",
     "text": [
      "Compiled the loaded model, but the compiled metrics have yet to be built. `model.compile_metrics` will be empty until you train or evaluate the model.\n"
     ]
    },
    {
     "name": "stdout",
     "output_type": "stream",
     "text": [
      "{'CompleteTopologyShuffle': 6, 'IPShuffle': 10, 'OSDiversity': 6, 'ServiceDiversity': 14}\n",
      "Saving evaluation results to /home/22489437/Documents/GitHub/MTDSim/experiments/experimental_data/results/epsilon_0.7_decay_0.998.csv\n"
     ]
    },
    {
     "name": "stderr",
     "output_type": "stream",
     "text": [
      "Compiled the loaded model, but the compiled metrics have yet to be built. `model.compile_metrics` will be empty until you train or evaluate the model.\n"
     ]
    },
    {
     "name": "stdout",
     "output_type": "stream",
     "text": [
      "{'CompleteTopologyShuffle': 6, 'IPShuffle': 10, 'OSDiversity': 8, 'ServiceDiversity': 8}\n",
      "Saving evaluation results to /home/22489437/Documents/GitHub/MTDSim/experiments/experimental_data/results/epsilon_0.7_decay_0.998.csv\n"
     ]
    },
    {
     "name": "stderr",
     "output_type": "stream",
     "text": [
      "Compiled the loaded model, but the compiled metrics have yet to be built. `model.compile_metrics` will be empty until you train or evaluate the model.\n"
     ]
    },
    {
     "name": "stdout",
     "output_type": "stream",
     "text": [
      "{'CompleteTopologyShuffle': 20, 'IPShuffle': 4, 'OSDiversity': 14, 'ServiceDiversity': 12}\n",
      "Saving evaluation results to /home/22489437/Documents/GitHub/MTDSim/experiments/experimental_data/results/epsilon_0.7_decay_0.998.csv\n"
     ]
    },
    {
     "name": "stderr",
     "output_type": "stream",
     "text": [
      "Compiled the loaded model, but the compiled metrics have yet to be built. `model.compile_metrics` will be empty until you train or evaluate the model.\n"
     ]
    },
    {
     "name": "stdout",
     "output_type": "stream",
     "text": [
      "{'CompleteTopologyShuffle': 8, 'IPShuffle': 4, 'OSDiversity': 14, 'ServiceDiversity': 8}\n",
      "Saving evaluation results to /home/22489437/Documents/GitHub/MTDSim/experiments/experimental_data/results/epsilon_0.7_decay_0.998.csv\n",
      "{'CompleteTopologyShuffle': 12, 'IPShuffle': 10, 'OSDiversity': 12, 'ServiceDiversity': 2}\n"
     ]
    },
    {
     "name": "stderr",
     "output_type": "stream",
     "text": [
      "Compiled the loaded model, but the compiled metrics have yet to be built. `model.compile_metrics` will be empty until you train or evaluate the model.\n"
     ]
    },
    {
     "name": "stdout",
     "output_type": "stream",
     "text": [
      "Saving evaluation results to /home/22489437/Documents/GitHub/MTDSim/experiments/experimental_data/results/epsilon_0.7_decay_0.998.csv\n"
     ]
    },
    {
     "name": "stderr",
     "output_type": "stream",
     "text": [
      "Compiled the loaded model, but the compiled metrics have yet to be built. `model.compile_metrics` will be empty until you train or evaluate the model.\n"
     ]
    },
    {
     "name": "stdout",
     "output_type": "stream",
     "text": [
      "{'CompleteTopologyShuffle': 6, 'IPShuffle': 6, 'OSDiversity': 8, 'ServiceDiversity': 12}\n",
      "Saving evaluation results to /home/22489437/Documents/GitHub/MTDSim/experiments/experimental_data/results/epsilon_0.7_decay_0.998.csv\n",
      "{'CompleteTopologyShuffle': 12, 'IPShuffle': 6, 'OSDiversity': 10, 'ServiceDiversity': 10}\n"
     ]
    },
    {
     "name": "stderr",
     "output_type": "stream",
     "text": [
      "Compiled the loaded model, but the compiled metrics have yet to be built. `model.compile_metrics` will be empty until you train or evaluate the model.\n"
     ]
    },
    {
     "name": "stdout",
     "output_type": "stream",
     "text": [
      "Saving evaluation results to /home/22489437/Documents/GitHub/MTDSim/experiments/experimental_data/results/epsilon_0.7_decay_0.998.csv\n"
     ]
    },
    {
     "name": "stderr",
     "output_type": "stream",
     "text": [
      "Compiled the loaded model, but the compiled metrics have yet to be built. `model.compile_metrics` will be empty until you train or evaluate the model.\n"
     ]
    },
    {
     "name": "stdout",
     "output_type": "stream",
     "text": [
      "{'CompleteTopologyShuffle': 8, 'IPShuffle': 12, 'OSDiversity': 12, 'ServiceDiversity': 2}\n",
      "Saving evaluation results to /home/22489437/Documents/GitHub/MTDSim/experiments/experimental_data/results/epsilon_0.7_decay_0.998.csv\n"
     ]
    },
    {
     "name": "stderr",
     "output_type": "stream",
     "text": [
      "Compiled the loaded model, but the compiled metrics have yet to be built. `model.compile_metrics` will be empty until you train or evaluate the model.\n"
     ]
    },
    {
     "name": "stdout",
     "output_type": "stream",
     "text": [
      "{'CompleteTopologyShuffle': 10, 'IPShuffle': 16, 'OSDiversity': 6, 'ServiceDiversity': 16}\n",
      "Saving evaluation results to /home/22489437/Documents/GitHub/MTDSim/experiments/experimental_data/results/epsilon_0.7_decay_0.998.csv\n"
     ]
    },
    {
     "name": "stderr",
     "output_type": "stream",
     "text": [
      "Compiled the loaded model, but the compiled metrics have yet to be built. `model.compile_metrics` will be empty until you train or evaluate the model.\n"
     ]
    },
    {
     "name": "stdout",
     "output_type": "stream",
     "text": [
      "{'CompleteTopologyShuffle': 4, 'IPShuffle': 10, 'OSDiversity': 20, 'ServiceDiversity': 10}\n",
      "Saving evaluation results to /home/22489437/Documents/GitHub/MTDSim/experiments/experimental_data/results/epsilon_0.7_decay_0.998.csv{'CompleteTopologyShuffle': 8, 'IPShuffle': 10, 'OSDiversity': 8, 'ServiceDiversity': 8}\n",
      "\n"
     ]
    },
    {
     "name": "stderr",
     "output_type": "stream",
     "text": [
      "Compiled the loaded model, but the compiled metrics have yet to be built. `model.compile_metrics` will be empty until you train or evaluate the model.\n"
     ]
    },
    {
     "name": "stdout",
     "output_type": "stream",
     "text": [
      "Saving evaluation results to /home/22489437/Documents/GitHub/MTDSim/experiments/experimental_data/results/epsilon_0.7_decay_0.998.csv\n"
     ]
    },
    {
     "name": "stderr",
     "output_type": "stream",
     "text": [
      "Compiled the loaded model, but the compiled metrics have yet to be built. `model.compile_metrics` will be empty until you train or evaluate the model.\n"
     ]
    },
    {
     "name": "stdout",
     "output_type": "stream",
     "text": [
      "{'CompleteTopologyShuffle': 6, 'IPShuffle': 14, 'OSDiversity': 16, 'ServiceDiversity': 6}\n",
      "Saving evaluation results to /home/22489437/Documents/GitHub/MTDSim/experiments/experimental_data/results/epsilon_0.7_decay_0.998.csv{'CompleteTopologyShuffle': 4, 'IPShuffle': 10, 'OSDiversity': 14, 'ServiceDiversity': 10}\n",
      "\n"
     ]
    },
    {
     "name": "stderr",
     "output_type": "stream",
     "text": [
      "Compiled the loaded model, but the compiled metrics have yet to be built. `model.compile_metrics` will be empty until you train or evaluate the model.\n"
     ]
    },
    {
     "name": "stdout",
     "output_type": "stream",
     "text": [
      "Saving evaluation results to /home/22489437/Documents/GitHub/MTDSim/experiments/experimental_data/results/epsilon_0.7_decay_0.998.csv\n"
     ]
    },
    {
     "name": "stderr",
     "output_type": "stream",
     "text": [
      "Compiled the loaded model, but the compiled metrics have yet to be built. `model.compile_metrics` will be empty until you train or evaluate the model.\n"
     ]
    },
    {
     "name": "stdout",
     "output_type": "stream",
     "text": [
      "{'CompleteTopologyShuffle': 12, 'IPShuffle': 10, 'OSDiversity': 8, 'ServiceDiversity': 12}\n",
      "{'CompleteTopologyShuffle': 16, 'IPShuffle': 8, 'OSDiversity': 8, 'ServiceDiversity': 6}\n",
      "Saving evaluation results to /home/22489437/Documents/GitHub/MTDSim/experiments/experimental_data/results/epsilon_0.7_decay_0.998.csv\n",
      "Saving evaluation results to /home/22489437/Documents/GitHub/MTDSim/experiments/experimental_data/results/epsilon_0.7_decay_0.998.csv\n"
     ]
    },
    {
     "name": "stderr",
     "output_type": "stream",
     "text": [
      "Compiled the loaded model, but the compiled metrics have yet to be built. `model.compile_metrics` will be empty until you train or evaluate the model.\n",
      "Compiled the loaded model, but the compiled metrics have yet to be built. `model.compile_metrics` will be empty until you train or evaluate the model.\n"
     ]
    },
    {
     "name": "stdout",
     "output_type": "stream",
     "text": [
      "{'CompleteTopologyShuffle': 8, 'IPShuffle': 16, 'OSDiversity': 8, 'ServiceDiversity': 8}\n",
      "Saving evaluation results to /home/22489437/Documents/GitHub/MTDSim/experiments/experimental_data/results/epsilon_0.7_decay_0.998.csv\n"
     ]
    },
    {
     "name": "stderr",
     "output_type": "stream",
     "text": [
      "Compiled the loaded model, but the compiled metrics have yet to be built. `model.compile_metrics` will be empty until you train or evaluate the model.\n"
     ]
    },
    {
     "name": "stdout",
     "output_type": "stream",
     "text": [
      "{'CompleteTopologyShuffle': 14, 'IPShuffle': 2, 'OSDiversity': 14, 'ServiceDiversity': 6}\n",
      "Saving evaluation results to /home/22489437/Documents/GitHub/MTDSim/experiments/experimental_data/results/epsilon_0.7_decay_0.998.csv\n"
     ]
    },
    {
     "name": "stderr",
     "output_type": "stream",
     "text": [
      "Compiled the loaded model, but the compiled metrics have yet to be built. `model.compile_metrics` will be empty until you train or evaluate the model.\n"
     ]
    },
    {
     "name": "stdout",
     "output_type": "stream",
     "text": [
      "{'CompleteTopologyShuffle': 12, 'IPShuffle': 12, 'OSDiversity': 10, 'ServiceDiversity': 10}\n",
      "Saving evaluation results to /home/22489437/Documents/GitHub/MTDSim/experiments/experimental_data/results/epsilon_0.7_decay_0.998.csv\n",
      "{'CompleteTopologyShuffle': 14, 'IPShuffle': 2, 'OSDiversity': 8, 'ServiceDiversity': 12}\n"
     ]
    },
    {
     "name": "stderr",
     "output_type": "stream",
     "text": [
      "Compiled the loaded model, but the compiled metrics have yet to be built. `model.compile_metrics` will be empty until you train or evaluate the model.\n"
     ]
    },
    {
     "name": "stdout",
     "output_type": "stream",
     "text": [
      "Saving evaluation results to /home/22489437/Documents/GitHub/MTDSim/experiments/experimental_data/results/epsilon_0.7_decay_0.998.csv\n"
     ]
    },
    {
     "name": "stderr",
     "output_type": "stream",
     "text": [
      "Compiled the loaded model, but the compiled metrics have yet to be built. `model.compile_metrics` will be empty until you train or evaluate the model.\n"
     ]
    },
    {
     "name": "stdout",
     "output_type": "stream",
     "text": [
      "{'CompleteTopologyShuffle': 16, 'IPShuffle': 10, 'OSDiversity': 8, 'ServiceDiversity': 12}\n",
      "Saving evaluation results to /home/22489437/Documents/GitHub/MTDSim/experiments/experimental_data/results/epsilon_0.7_decay_0.998.csv\n"
     ]
    },
    {
     "name": "stderr",
     "output_type": "stream",
     "text": [
      "Compiled the loaded model, but the compiled metrics have yet to be built. `model.compile_metrics` will be empty until you train or evaluate the model.\n"
     ]
    },
    {
     "name": "stdout",
     "output_type": "stream",
     "text": [
      "{'CompleteTopologyShuffle': 10, 'IPShuffle': 12, 'OSDiversity': 8, 'ServiceDiversity': 6}\n",
      "Saving evaluation results to /home/22489437/Documents/GitHub/MTDSim/experiments/experimental_data/results/epsilon_0.7_decay_0.998.csv\n"
     ]
    },
    {
     "name": "stderr",
     "output_type": "stream",
     "text": [
      "Compiled the loaded model, but the compiled metrics have yet to be built. `model.compile_metrics` will be empty until you train or evaluate the model.\n"
     ]
    },
    {
     "name": "stdout",
     "output_type": "stream",
     "text": [
      "{'CompleteTopologyShuffle': 8, 'IPShuffle': 10, 'OSDiversity': 16, 'ServiceDiversity': 8}\n",
      "Saving evaluation results to /home/22489437/Documents/GitHub/MTDSim/experiments/experimental_data/results/epsilon_0.7_decay_0.998.csv\n"
     ]
    },
    {
     "name": "stderr",
     "output_type": "stream",
     "text": [
      "Compiled the loaded model, but the compiled metrics have yet to be built. `model.compile_metrics` will be empty until you train or evaluate the model.\n"
     ]
    },
    {
     "name": "stdout",
     "output_type": "stream",
     "text": [
      "{'CompleteTopologyShuffle': 10, 'IPShuffle': 8, 'OSDiversity': 16, 'ServiceDiversity': 14}\n",
      "Saving evaluation results to /home/22489437/Documents/GitHub/MTDSim/experiments/experimental_data/results/epsilon_0.7_decay_0.998.csv\n"
     ]
    },
    {
     "name": "stderr",
     "output_type": "stream",
     "text": [
      "Compiled the loaded model, but the compiled metrics have yet to be built. `model.compile_metrics` will be empty until you train or evaluate the model.\n"
     ]
    },
    {
     "name": "stdout",
     "output_type": "stream",
     "text": [
      "{'CompleteTopologyShuffle': 12, 'IPShuffle': 10, 'OSDiversity': 8, 'ServiceDiversity': 8}\n",
      "Saving evaluation results to /home/22489437/Documents/GitHub/MTDSim/experiments/experimental_data/results/epsilon_0.7_decay_0.998.csv\n"
     ]
    },
    {
     "name": "stderr",
     "output_type": "stream",
     "text": [
      "Compiled the loaded model, but the compiled metrics have yet to be built. `model.compile_metrics` will be empty until you train or evaluate the model.\n"
     ]
    },
    {
     "name": "stdout",
     "output_type": "stream",
     "text": [
      "{'CompleteTopologyShuffle': 10, 'IPShuffle': 8, 'OSDiversity': 12, 'ServiceDiversity': 12}\n",
      "Saving evaluation results to /home/22489437/Documents/GitHub/MTDSim/experiments/experimental_data/results/epsilon_0.7_decay_0.998.csv\n"
     ]
    },
    {
     "name": "stderr",
     "output_type": "stream",
     "text": [
      "Compiled the loaded model, but the compiled metrics have yet to be built. `model.compile_metrics` will be empty until you train or evaluate the model.\n"
     ]
    },
    {
     "name": "stdout",
     "output_type": "stream",
     "text": [
      "{'CompleteTopologyShuffle': 16, 'IPShuffle': 2, 'OSDiversity': 10, 'ServiceDiversity': 10}\n",
      "Saving evaluation results to /home/22489437/Documents/GitHub/MTDSim/experiments/experimental_data/results/epsilon_0.7_decay_0.998.csv\n"
     ]
    },
    {
     "name": "stderr",
     "output_type": "stream",
     "text": [
      "Compiled the loaded model, but the compiled metrics have yet to be built. `model.compile_metrics` will be empty until you train or evaluate the model.\n"
     ]
    },
    {
     "name": "stdout",
     "output_type": "stream",
     "text": [
      "{'CompleteTopologyShuffle': 10, 'IPShuffle': 8, 'OSDiversity': 10, 'ServiceDiversity': 8}\n",
      "Saving evaluation results to /home/22489437/Documents/GitHub/MTDSim/experiments/experimental_data/results/epsilon_0.7_decay_0.998.csv\n"
     ]
    },
    {
     "name": "stderr",
     "output_type": "stream",
     "text": [
      "Compiled the loaded model, but the compiled metrics have yet to be built. `model.compile_metrics` will be empty until you train or evaluate the model.\n"
     ]
    },
    {
     "name": "stdout",
     "output_type": "stream",
     "text": [
      "{'CompleteTopologyShuffle': 10, 'IPShuffle': 8, 'OSDiversity': 12, 'ServiceDiversity': 10}\n",
      "Saving evaluation results to /home/22489437/Documents/GitHub/MTDSim/experiments/experimental_data/results/epsilon_0.7_decay_0.998.csv\n",
      "{'CompleteTopologyShuffle': 12, 'IPShuffle': 8, 'OSDiversity': 8, 'ServiceDiversity': 4}\n",
      "{'CompleteTopologyShuffle': 8, 'IPShuffle': 14, 'OSDiversity': 6, 'ServiceDiversity': 10}\n",
      "Saving evaluation results to /home/22489437/Documents/GitHub/MTDSim/experiments/experimental_data/results/epsilon_0.7_decay_0.998.csv\n",
      "Saving evaluation results to /home/22489437/Documents/GitHub/MTDSim/experiments/experimental_data/results/epsilon_0.7_decay_0.998.csv\n",
      "{'CompleteTopologyShuffle': 8, 'IPShuffle': 6, 'OSDiversity': 12, 'ServiceDiversity': 6}\n",
      "Saving evaluation results to /home/22489437/Documents/GitHub/MTDSim/experiments/experimental_data/results/epsilon_0.7_decay_0.998.csv\n",
      "{'CompleteTopologyShuffle': 18, 'IPShuffle': 6, 'OSDiversity': 10, 'ServiceDiversity': 14}\n",
      "Saving evaluation results to /home/22489437/Documents/GitHub/MTDSim/experiments/experimental_data/results/epsilon_0.7_decay_0.998.csv\n",
      "{'CompleteTopologyShuffle': 2, 'IPShuffle': 8, 'OSDiversity': 10, 'ServiceDiversity': 18}\n",
      "Saving evaluation results to /home/22489437/Documents/GitHub/MTDSim/experiments/experimental_data/results/epsilon_0.7_decay_0.998.csv\n",
      "{'CompleteTopologyShuffle': 4, 'IPShuffle': 8, 'OSDiversity': 8, 'ServiceDiversity': 16}\n",
      "Saving evaluation results to /home/22489437/Documents/GitHub/MTDSim/experiments/experimental_data/results/epsilon_0.7_decay_0.998.csv\n",
      "{'CompleteTopologyShuffle': 2, 'IPShuffle': 4, 'OSDiversity': 12, 'ServiceDiversity': 14}\n",
      "Saving evaluation results to /home/22489437/Documents/GitHub/MTDSim/experiments/experimental_data/results/epsilon_0.7_decay_0.998.csv\n",
      "{'CompleteTopologyShuffle': 12, 'IPShuffle': 10, 'OSDiversity': 10, 'ServiceDiversity': 8}\n",
      "Saving evaluation results to /home/22489437/Documents/GitHub/MTDSim/experiments/experimental_data/results/epsilon_0.7_decay_0.998.csv\n",
      "{'CompleteTopologyShuffle': 4, 'IPShuffle': 8, 'OSDiversity': 16, 'ServiceDiversity': 10}\n",
      "Saving evaluation results to /home/22489437/Documents/GitHub/MTDSim/experiments/experimental_data/results/epsilon_0.7_decay_0.998.csv\n",
      "{'CompleteTopologyShuffle': 8, 'IPShuffle': 8, 'OSDiversity': 14, 'ServiceDiversity': 12}\n",
      "{'CompleteTopologyShuffle': 6, 'IPShuffle': 20, 'OSDiversity': 6, 'ServiceDiversity': 12}\n",
      "Saving evaluation results to /home/22489437/Documents/GitHub/MTDSim/experiments/experimental_data/results/epsilon_0.7_decay_0.998.csv\n",
      "Saving evaluation results to /home/22489437/Documents/GitHub/MTDSim/experiments/experimental_data/results/epsilon_0.7_decay_0.998.csv\n",
      "{'CompleteTopologyShuffle': 6, 'IPShuffle': 12, 'OSDiversity': 8, 'ServiceDiversity': 10}\n",
      "Saving evaluation results to /home/22489437/Documents/GitHub/MTDSim/experiments/experimental_data/results/epsilon_0.7_decay_0.998.csv\n",
      "{'CompleteTopologyShuffle': 6, 'IPShuffle': 14, 'OSDiversity': 8, 'ServiceDiversity': 12}\n",
      "Saving evaluation results to /home/22489437/Documents/GitHub/MTDSim/experiments/experimental_data/results/epsilon_0.7_decay_0.998.csv\n",
      "{'CompleteTopologyShuffle': 6, 'IPShuffle': 10, 'OSDiversity': 2, 'ServiceDiversity': 14}\n",
      "Saving evaluation results to /home/22489437/Documents/GitHub/MTDSim/experiments/experimental_data/results/epsilon_0.7_decay_0.998.csv\n",
      "{'CompleteTopologyShuffle': 16, 'IPShuffle': 10, 'OSDiversity': 10, 'ServiceDiversity': 12}\n",
      "Saving evaluation results to /home/22489437/Documents/GitHub/MTDSim/experiments/experimental_data/results/epsilon_0.7_decay_0.998.csv\n",
      "{'CompleteTopologyShuffle': 14, 'IPShuffle': 8, 'OSDiversity': 12, 'ServiceDiversity': 12}\n",
      "Saving evaluation results to /home/22489437/Documents/GitHub/MTDSim/experiments/experimental_data/results/epsilon_0.7_decay_0.998.csv\n",
      "{'CompleteTopologyShuffle': 6, 'IPShuffle': 6, 'OSDiversity': 8, 'ServiceDiversity': 14}\n",
      "Saving evaluation results to /home/22489437/Documents/GitHub/MTDSim/experiments/experimental_data/results/epsilon_0.7_decay_0.998.csv\n",
      "{'CompleteTopologyShuffle': 16, 'IPShuffle': 4, 'OSDiversity': 10, 'ServiceDiversity': 12}\n",
      "Saving evaluation results to /home/22489437/Documents/GitHub/MTDSim/experiments/experimental_data/results/epsilon_0.7_decay_0.998.csv\n",
      "{'CompleteTopologyShuffle': 10, 'IPShuffle': 14, 'OSDiversity': 10, 'ServiceDiversity': 6}\n",
      "Saving evaluation results to /home/22489437/Documents/GitHub/MTDSim/experiments/experimental_data/results/epsilon_0.7_decay_0.998.csv\n",
      "{'CompleteTopologyShuffle': 2, 'IPShuffle': 6, 'OSDiversity': 14, 'ServiceDiversity': 16}\n",
      "Saving evaluation results to /home/22489437/Documents/GitHub/MTDSim/experiments/experimental_data/results/epsilon_0.7_decay_0.998.csv\n",
      "{'CompleteTopologyShuffle': 14, 'IPShuffle': 10, 'OSDiversity': 6, 'ServiceDiversity': 14}\n",
      "{'CompleteTopologyShuffle': 8, 'IPShuffle': 8, 'OSDiversity': 6, 'ServiceDiversity': 16}Saving evaluation results to /home/22489437/Documents/GitHub/MTDSim/experiments/experimental_data/results/epsilon_0.7_decay_0.998.csv\n",
      "\n",
      "Saving evaluation results to /home/22489437/Documents/GitHub/MTDSim/experiments/experimental_data/results/epsilon_0.7_decay_0.998.csv\n",
      "{'CompleteTopologyShuffle': 12, 'IPShuffle': 6, 'OSDiversity': 12, 'ServiceDiversity': 10}\n",
      "Saving evaluation results to /home/22489437/Documents/GitHub/MTDSim/experiments/experimental_data/results/epsilon_0.7_decay_0.998.csv\n"
     ]
    }
   ],
   "source": [
    "import tensorflow as tf\n",
    "tf.config.set_visible_devices([], 'GPU')\n",
    "\n",
    "epsilons = [0.5, 0.6, 0.7]\n",
    "epsilon_decays = [0.980, 0.990, 0.995, 0.998]\n",
    "\n",
    "for epsilon in epsilons:\n",
    "    for decay in epsilon_decays:\n",
    "        mod = f\"epsilon_{epsilon}_decay_{decay}\"\n",
    "        print(f\"Running experiments for model {mod}\")\n",
    "        result = Experiment(epsilon=epsilon, \n",
    "                        start_time=start_time, \n",
    "                        finish_time=finish_time, \n",
    "                        mtd_interval=mtd_interval, \n",
    "                        network_size=network_size,\n",
    "                        total_nodes=total_nodes, \n",
    "                        new_network=new_network, \n",
    "                        model=mod, \n",
    "                        trial=trial, \n",
    "                        result_head_path=result_head_path, \n",
    "                        file_name=mod, \n",
    "                        attacker_sensitivity=1)\n",
    "        result.run_trials('mtd_ai')\n"
   ]
  },
  {
   "cell_type": "code",
   "execution_count": null,
   "metadata": {},
   "outputs": [],
   "source": [
    "models = ['parameter_set_1']\n",
    "ids_sensitivity = [0.25]\n",
    "\n",
    "for model in models:\n",
    "    for sensitivity in ids_sensitivity:\n",
    "        file_name = f\"{model}_{sensitivity}\"\n",
    "        print(f\"Running experiments for model {model}\")\n",
    "        result = Experiment(epsilon=epsilon, \n",
    "                            start_time=start_time, \n",
    "                            finish_time=finish_time, \n",
    "                            mtd_interval=mtd_interval, \n",
    "                            network_size=network_size,\n",
    "                            total_nodes=total_nodes, \n",
    "                            new_network=new_network, \n",
    "                            model=model, \n",
    "                            trial=trial, \n",
    "                            result_head_path=result_head_path, \n",
    "                            file_name=file_name, \n",
    "                            attacker_sensitivity=sensitivity)\n",
    "        result.run_trials('mtd_ai')"
   ]
  },
  {
   "cell_type": "code",
   "execution_count": null,
   "metadata": {},
   "outputs": [],
   "source": [
    "models = ['nomtd']\n",
    "# models = ['parameter_set_1']\n",
    "ids_sensitivity = [1]\n",
    "\n",
    "for model in models:\n",
    "    for sensitivity in ids_sensitivity:\n",
    "        file_name = f\"{model}_{sensitivity}\"\n",
    "        print(f\"Running experiments for model {model}\")\n",
    "        result = Experiment(epsilon=epsilon, \n",
    "                            start_time=start_time, \n",
    "                            finish_time=finish_time, \n",
    "                            mtd_interval=mtd_interval, \n",
    "                            network_size=network_size,\n",
    "                            total_nodes=total_nodes, \n",
    "                            new_network=new_network, \n",
    "                            model=model, \n",
    "                            trial=trial, \n",
    "                            result_head_path=result_head_path, \n",
    "                            file_name=file_name, \n",
    "                            attacker_sensitivity=sensitivity)\n",
    "        result.run_trials('nomtd')"
   ]
  },
  {
   "cell_type": "code",
   "execution_count": null,
   "metadata": {},
   "outputs": [],
   "source": [
    "# models = ['parameter_set_1', 'parameter_set_2', 'parameter_set_3', 'parameter_set_4', 'parameter_set_5', 'parameter_set_6', 'parameter_set_7', 'parameter_set_8', 'parameter_set_9', 'parameter_set_10']\n",
    "models = ['parameter_set_8']\n",
    "ids_sensitivity = [0.25, 0.75]\n",
    "\n",
    "for model in models:\n",
    "    for sensitivity in ids_sensitivity:\n",
    "        file_name = f\"{model}_{sensitivity}\"\n",
    "        print(f\"Running experiments for model {model}\")\n",
    "        result = Experiment(epsilon=epsilon, \n",
    "                            start_time=start_time, \n",
    "                            finish_time=finish_time, \n",
    "                            mtd_interval=mtd_interval, \n",
    "                            network_size=network_size,\n",
    "                            total_nodes=total_nodes, \n",
    "                            new_network=new_network, \n",
    "                            model=model, \n",
    "                            trial=trial, \n",
    "                            result_head_path=result_head_path, \n",
    "                            file_name=file_name, \n",
    "                            attacker_sensitivity=sensitivity)\n",
    "        result.run_trials('mtd_ai')"
   ]
  },
  {
   "cell_type": "code",
   "execution_count": null,
   "metadata": {},
   "outputs": [],
   "source": [
    "models = ['alternative']\n",
    "# models = ['parameter_set_1']\n",
    "ids_sensitivity = [1]\n",
    "\n",
    "for model in models:\n",
    "    for sensitivity in ids_sensitivity:\n",
    "        file_name = f\"{model}_{sensitivity}\"\n",
    "        print(f\"Running experiments for model {model}\")\n",
    "        result = Experiment(epsilon=epsilon, \n",
    "                            start_time=start_time, \n",
    "                            finish_time=finish_time, \n",
    "                            mtd_interval=mtd_interval, \n",
    "                            network_size=network_size,\n",
    "                            total_nodes=total_nodes, \n",
    "                            new_network=new_network, \n",
    "                            model=model, \n",
    "                            trial=trial, \n",
    "                            result_head_path=result_head_path, \n",
    "                            file_name=file_name, \n",
    "                            attacker_sensitivity=sensitivity)\n",
    "        result.run_trials(model)"
   ]
  },
  {
   "cell_type": "code",
   "execution_count": null,
   "metadata": {},
   "outputs": [],
   "source": [
    "model = 'parameter_set_1'\n",
    "radar = RadarPlot(epsilon, start_time, finish_time, mtd_interval, network_size,total_nodes, new_network,  model, trial, result_head_path)\n",
    "schemes_data = radar.scaled_pipeline(scheme='nomtd', data='nomtd', run_trial = False)\n",
    "radar.plot_n_schemes(schemes_data)"
   ]
  },
  {
   "cell_type": "code",
   "execution_count": null,
   "metadata": {},
   "outputs": [],
   "source": [
    "create_stacked_bar_chart(schemes_data)"
   ]
  },
  {
   "cell_type": "code",
   "execution_count": null,
   "metadata": {},
   "outputs": [],
   "source": [
    "model = 'parameter_set_1'\n",
    "radar = RadarPlot(epsilon, start_time, finish_time, mtd_interval, network_size,total_nodes, new_network,  model, trial, result_head_path)\n",
    "schemes_data = radar.multiple_scaled_pipeline(schemes=['parameter_set_1_1', 'parameter_set_2_1', 'parameter_set_3_1', 'parameter_set_4_1', 'parameter_set_5_1', 'parameter_set_6_1', 'parameter_set_7_1', 'parameter_set_8_1', 'parameter_set_9_1', 'parameter_set_10_1'], data_name=['parameter_set_1_1', 'parameter_set_2_1', 'parameter_set_3_1', 'parameter_set_4_1', 'parameter_set_5_1', 'parameter_set_6_1', 'parameter_set_7_1', 'parameter_set_8_1', 'parameter_set_9_1', 'parameter_set_10_1'], run_trial = False)\n",
    "radar.plot_n_schemes(schemes_data, show_labels=False)"
   ]
  },
  {
   "cell_type": "code",
   "execution_count": null,
   "metadata": {},
   "outputs": [],
   "source": [
    "create_stacked_bar_chart(schemes_data)"
   ]
  },
  {
   "cell_type": "code",
   "execution_count": null,
   "metadata": {},
   "outputs": [],
   "source": [
    "model = 'parameter_set_1'\n",
    "radar = RadarPlot(epsilon, start_time, finish_time, mtd_interval, network_size,total_nodes, new_network,  model, trial, result_head_path)\n",
    "schemes_data = radar.multiple_scaled_pipeline(schemes=['parameter_set_4_1', 'parameter_set_8_1'], data_name=['parameter_set_4_1', 'parameter_set_8_1', 'parameter_set_10_1'], run_trial = False)\n",
    "radar.plot_n_schemes(schemes_data, show_labels=True)"
   ]
  },
  {
   "cell_type": "code",
   "execution_count": null,
   "metadata": {},
   "outputs": [],
   "source": [
    "schemes_data"
   ]
  },
  {
   "cell_type": "code",
   "execution_count": null,
   "metadata": {},
   "outputs": [],
   "source": [
    "model = 'parameter_set_8'\n",
    "radar = RadarPlot(epsilon, start_time, finish_time, mtd_interval, network_size,total_nodes, new_network,  model, trial, result_head_path)\n",
    "schemes_data = radar.multiple_scaled_pipeline(schemes=['parameter_set_8_0', 'parameter_set_8_0.25', 'parameter_set_8_0.5', 'parameter_set_8_0.75', 'parameter_set_8_1'], data_name=['parameter_set_8_0', 'parameter_set_8_0.25', 'parameter_set_8_0.5', 'parameter_set_8_0.75', 'parameter_set_8_1'], run_trial = False)\n",
    "radar.plot_n_schemes(schemes_data, show_labels=False)"
   ]
  },
  {
   "cell_type": "code",
   "execution_count": null,
   "metadata": {},
   "outputs": [],
   "source": [
    "create_stacked_bar_chart(schemes_data)"
   ]
  },
  {
   "cell_type": "code",
   "execution_count": null,
   "metadata": {},
   "outputs": [],
   "source": [
    "model = 'parameter_set_8'\n",
    "radar = RadarPlot(epsilon, start_time, finish_time, mtd_interval, network_size,total_nodes, new_network,  model, trial, result_head_path)\n",
    "schemes_data = radar.multiple_scaled_pipeline(schemes=['parameter_set_8_1', 'random', 'simultaneous'], data_name=['parameter_set_8_1', 'random', 'simultaneous'], run_trial = False)\n",
    "radar.plot_n_schemes(schemes_data, show_labels=False)"
   ]
  },
  {
   "cell_type": "code",
   "execution_count": null,
   "metadata": {},
   "outputs": [],
   "source": [
    "create_stacked_bar_chart(schemes_data)"
   ]
  },
  {
   "cell_type": "code",
   "execution_count": null,
   "metadata": {},
   "outputs": [],
   "source": [
    "radar = RadarPlot(epsilon, start_time, finish_time, mtd_interval, network_size,total_nodes, new_network,  model, trial, result_head_path)\n",
    "schemes_data = radar.scaled_pipeline(scheme='mtdai', data='parameter_set_8_1', run_trial = False)\n",
    "\n",
    "data_sets = []\n",
    "mods = ['parameter_set_1_1', 'parameter_set_2_1', 'parameter_set_3_1', 'parameter_set_4_1', 'parameter_set_5_1', 'parameter_set_6_1', 'parameter_set_7_1', 'parameter_set_8_1', 'parameter_set_9_1', 'parameter_set_10_1']\n",
    "metrics = ['attack_path_exposure', 'time_to_compromise', 'ROA', 'ASR', 'risk']\n",
    "\n",
    "for mod in mods:\n",
    "    results = radar.scaled_pipeline(scheme='mtdai', data=mod, run_trial = False)\n",
    "    data_sets.append(results)"
   ]
  },
  {
   "cell_type": "code",
   "execution_count": null,
   "metadata": {},
   "outputs": [],
   "source": [
    "plot_metrics_grid(data_sets, metrics)"
   ]
  }
 ],
 "metadata": {
  "kernelspec": {
   "display_name": "mtdsim",
   "language": "python",
   "name": "python3"
  },
  "language_info": {
   "codemirror_mode": {
    "name": "ipython",
    "version": 3
   },
   "file_extension": ".py",
   "mimetype": "text/x-python",
   "name": "python",
   "nbconvert_exporter": "python",
   "pygments_lexer": "ipython3",
   "version": "3.9.13"
  }
 },
 "nbformat": 4,
 "nbformat_minor": 2
}
