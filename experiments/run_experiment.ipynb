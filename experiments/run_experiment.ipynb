{
 "cells": [
  {
   "cell_type": "code",
   "execution_count": 6,
   "metadata": {},
   "outputs": [],
   "source": [
    "import os\n",
    "import sys\n",
    "current_directory = os.getcwd()\n",
    "if not os.path.exists(current_directory + '\\\\experimental_data'):\n",
    "    os.makedirs(current_directory + '\\\\experimental_data')\n",
    "    os.makedirs(current_directory + '\\\\experimental_data\\\\plots')\n",
    "    os.makedirs(current_directory + '\\\\experimental_data\\\\results')\n",
    "sys.path.append(current_directory.replace('experiments', ''))\n",
    "import warnings\n",
    "import matplotlib.pyplot as plt\n",
    "warnings.filterwarnings(\"ignore\")\n",
    "plt.set_loglevel('WARNING')\n",
    "from run import execute_simulation, create_experiment_snapshots, execute_ai_model, single_mtd_simulation, mtd_ai_simulation, multiple_mtd_simulation, specific_multiple_mtd_simulation\n",
    "from mtdnetwork.mtd.completetopologyshuffle import CompleteTopologyShuffle\n",
    "from mtdnetwork.mtd.ipshuffle import IPShuffle\n",
    "from mtdnetwork.mtd.hosttopologyshuffle import HostTopologyShuffle\n",
    "from mtdnetwork.mtd.portshuffle import PortShuffle\n",
    "from mtdnetwork.mtd.osdiversity import OSDiversity\n",
    "from mtdnetwork.mtd.servicediversity import ServiceDiversity\n",
    "from mtdnetwork.mtd.usershuffle import UserShuffle\n",
    "from mtdnetwork.mtd.osdiversityassignment import OSDiversityAssignment\n",
    "import logging\n",
    "import pandas as pd\n",
    "import numpy as np\n",
    "from math import pi\n",
    "import matplotlib.pyplot as plt\n",
    "from run_experiment import Experiment\n",
    "\n",
    "logging.basicConfig(format='%(message)s', level=logging.INFO)"
   ]
  },
  {
   "cell_type": "code",
   "execution_count": 7,
   "metadata": {},
   "outputs": [],
   "source": [
    "# Learning Parameters\n",
    "epsilon = 1.0  # exploration rate\n",
    "\n",
    "# Simulator Settings\n",
    "start_time = 0\n",
    "finish_time = 15000\n",
    "mtd_interval = [200]\n",
    "network_size = [150]\n",
    "total_nodes = 150\n",
    "new_network = True\n",
    "\n",
    "trial = 500\n",
    "\n",
    "mtd_strategies = [\n",
    "    CompleteTopologyShuffle,\n",
    "    # HostTopologyShuffle,\n",
    "    IPShuffle,\n",
    "    OSDiversity,\n",
    "    # PortShuffle,\n",
    "    # OSDiversityAssignment,\n",
    "    ServiceDiversity,\n",
    "    # UserShuffle\n",
    "]\n",
    "\n",
    "result_head_path = '/Users/williamho/Documents/GitHub/MTDSim'\n",
    "static_degrade_factor = 2000\n",
    "\n"
   ]
  },
  {
   "cell_type": "code",
   "execution_count": 8,
   "metadata": {},
   "outputs": [],
   "source": [
    "# result = Experiment(epsilon, start_time, finish_time, mtd_interval, network_size,total_nodes, new_network, \"all_features\", trial,result_head_path)\n",
    "# result.raw_result_stats_pipeline('nomtd',run_trial = True, stats_type = 'median')\n",
    "# for scheme in result.schemes:\n",
    "#     result.raw_result_stats_pipeline(scheme,run_trial = True, stats_type = 'median')"
   ]
  },
  {
   "cell_type": "code",
   "execution_count": 9,
   "metadata": {},
   "outputs": [],
   "source": [
    "# model = \"all_features\"\n",
    "# result = Experiment(epsilon, start_time, finish_time, mtd_interval, network_size,total_nodes, new_network, model, trial, result_head_path, mtd_strategies=mtd_strategies, static_degrade_factor=static_degrade_factor)\n",
    "# result.run_trials(model)\n"
   ]
  },
  {
   "cell_type": "code",
   "execution_count": 12,
   "metadata": {},
   "outputs": [
    {
     "name": "stderr",
     "output_type": "stream",
     "text": [
      "Compiled the loaded model, but the compiled metrics have yet to be built. `model.compile_metrics` will be empty until you train or evaluate the model.\n"
     ]
    },
    {
     "name": "stdout",
     "output_type": "stream",
     "text": [
      "all_features\n",
      "Trial_ 0\n",
      "all_features\n",
      "On Mac\n",
      "Static_factor 2000\n",
      "MTD Scheme [<class 'mtdnetwork.mtd.completetopologyshuffle.CompleteTopologyShuffle'>, <class 'mtdnetwork.mtd.ipshuffle.IPShuffle'>, <class 'mtdnetwork.mtd.osdiversity.OSDiversity'>, <class 'mtdnetwork.mtd.servicediversity.ServiceDiversity'>]\n",
      "Action size(include zero which is no deployment) 5\n"
     ]
    },
    {
     "name": "stderr",
     "output_type": "stream",
     "text": [
      "Compiled the loaded model, but the compiled metrics have yet to be built. `model.compile_metrics` will be empty until you train or evaluate the model.\n"
     ]
    },
    {
     "name": "stdout",
     "output_type": "stream",
     "text": [
      "mtd_ai\n",
      "Trial_ 1\n",
      "all_features\n",
      "On Mac\n",
      "Static_factor 2000\n",
      "MTD Scheme [<class 'mtdnetwork.mtd.completetopologyshuffle.CompleteTopologyShuffle'>, <class 'mtdnetwork.mtd.ipshuffle.IPShuffle'>, <class 'mtdnetwork.mtd.osdiversity.OSDiversity'>, <class 'mtdnetwork.mtd.servicediversity.ServiceDiversity'>]\n",
      "Action size(include zero which is no deployment) 5\n"
     ]
    },
    {
     "name": "stderr",
     "output_type": "stream",
     "text": [
      "Compiled the loaded model, but the compiled metrics have yet to be built. `model.compile_metrics` will be empty until you train or evaluate the model.\n"
     ]
    },
    {
     "name": "stdout",
     "output_type": "stream",
     "text": [
      "mtd_ai\n",
      "Trial_ 2\n",
      "all_features\n",
      "On Mac\n",
      "Static_factor 2000\n",
      "MTD Scheme [<class 'mtdnetwork.mtd.completetopologyshuffle.CompleteTopologyShuffle'>, <class 'mtdnetwork.mtd.ipshuffle.IPShuffle'>, <class 'mtdnetwork.mtd.osdiversity.OSDiversity'>, <class 'mtdnetwork.mtd.servicediversity.ServiceDiversity'>]\n",
      "Action size(include zero which is no deployment) 5\n"
     ]
    },
    {
     "name": "stderr",
     "output_type": "stream",
     "text": [
      "Compiled the loaded model, but the compiled metrics have yet to be built. `model.compile_metrics` will be empty until you train or evaluate the model.\n"
     ]
    },
    {
     "name": "stdout",
     "output_type": "stream",
     "text": [
      "mtd_ai\n",
      "Trial_ 3\n",
      "all_features\n",
      "On Mac\n",
      "Static_factor 2000\n",
      "MTD Scheme [<class 'mtdnetwork.mtd.completetopologyshuffle.CompleteTopologyShuffle'>, <class 'mtdnetwork.mtd.ipshuffle.IPShuffle'>, <class 'mtdnetwork.mtd.osdiversity.OSDiversity'>, <class 'mtdnetwork.mtd.servicediversity.ServiceDiversity'>]\n",
      "Action size(include zero which is no deployment) 5\n"
     ]
    },
    {
     "name": "stderr",
     "output_type": "stream",
     "text": [
      "Compiled the loaded model, but the compiled metrics have yet to be built. `model.compile_metrics` will be empty until you train or evaluate the model.\n"
     ]
    },
    {
     "name": "stdout",
     "output_type": "stream",
     "text": [
      "mtd_ai\n",
      "Trial_ 4\n",
      "all_features\n",
      "On Mac\n",
      "Static_factor 2000\n",
      "MTD Scheme [<class 'mtdnetwork.mtd.completetopologyshuffle.CompleteTopologyShuffle'>, <class 'mtdnetwork.mtd.ipshuffle.IPShuffle'>, <class 'mtdnetwork.mtd.osdiversity.OSDiversity'>, <class 'mtdnetwork.mtd.servicediversity.ServiceDiversity'>]\n",
      "Action size(include zero which is no deployment) 5\n"
     ]
    },
    {
     "name": "stderr",
     "output_type": "stream",
     "text": [
      "Compiled the loaded model, but the compiled metrics have yet to be built. `model.compile_metrics` will be empty until you train or evaluate the model.\n"
     ]
    },
    {
     "name": "stdout",
     "output_type": "stream",
     "text": [
      "mtd_ai\n",
      "Trial_ 5\n",
      "all_features\n",
      "On Mac\n",
      "Static_factor 2000\n",
      "MTD Scheme [<class 'mtdnetwork.mtd.completetopologyshuffle.CompleteTopologyShuffle'>, <class 'mtdnetwork.mtd.ipshuffle.IPShuffle'>, <class 'mtdnetwork.mtd.osdiversity.OSDiversity'>, <class 'mtdnetwork.mtd.servicediversity.ServiceDiversity'>]\n",
      "Action size(include zero which is no deployment) 5\n"
     ]
    },
    {
     "name": "stderr",
     "output_type": "stream",
     "text": [
      "Compiled the loaded model, but the compiled metrics have yet to be built. `model.compile_metrics` will be empty until you train or evaluate the model.\n"
     ]
    },
    {
     "name": "stdout",
     "output_type": "stream",
     "text": [
      "mtd_ai\n",
      "Trial_ 6\n",
      "all_features\n",
      "On Mac\n",
      "Static_factor 2000\n",
      "MTD Scheme [<class 'mtdnetwork.mtd.completetopologyshuffle.CompleteTopologyShuffle'>, <class 'mtdnetwork.mtd.ipshuffle.IPShuffle'>, <class 'mtdnetwork.mtd.osdiversity.OSDiversity'>, <class 'mtdnetwork.mtd.servicediversity.ServiceDiversity'>]\n",
      "Action size(include zero which is no deployment) 5\n"
     ]
    },
    {
     "name": "stderr",
     "output_type": "stream",
     "text": [
      "Compiled the loaded model, but the compiled metrics have yet to be built. `model.compile_metrics` will be empty until you train or evaluate the model.\n"
     ]
    },
    {
     "name": "stdout",
     "output_type": "stream",
     "text": [
      "mtd_ai\n",
      "Trial_ 7\n",
      "all_features\n",
      "On Mac\n",
      "Static_factor 2000\n",
      "MTD Scheme [<class 'mtdnetwork.mtd.completetopologyshuffle.CompleteTopologyShuffle'>, <class 'mtdnetwork.mtd.ipshuffle.IPShuffle'>, <class 'mtdnetwork.mtd.osdiversity.OSDiversity'>, <class 'mtdnetwork.mtd.servicediversity.ServiceDiversity'>]\n",
      "Action size(include zero which is no deployment) 5\n"
     ]
    },
    {
     "name": "stderr",
     "output_type": "stream",
     "text": [
      "Compiled the loaded model, but the compiled metrics have yet to be built. `model.compile_metrics` will be empty until you train or evaluate the model.\n"
     ]
    },
    {
     "name": "stdout",
     "output_type": "stream",
     "text": [
      "mtd_ai\n",
      "Trial_ 8\n",
      "all_features\n",
      "On Mac\n",
      "Static_factor 2000\n",
      "MTD Scheme [<class 'mtdnetwork.mtd.completetopologyshuffle.CompleteTopologyShuffle'>, <class 'mtdnetwork.mtd.ipshuffle.IPShuffle'>, <class 'mtdnetwork.mtd.osdiversity.OSDiversity'>, <class 'mtdnetwork.mtd.servicediversity.ServiceDiversity'>]\n",
      "Action size(include zero which is no deployment) 5\n"
     ]
    },
    {
     "name": "stderr",
     "output_type": "stream",
     "text": [
      "Compiled the loaded model, but the compiled metrics have yet to be built. `model.compile_metrics` will be empty until you train or evaluate the model.\n"
     ]
    },
    {
     "name": "stdout",
     "output_type": "stream",
     "text": [
      "mtd_ai\n",
      "Trial_ 9\n",
      "all_features\n",
      "On Mac\n",
      "Static_factor 2000\n",
      "MTD Scheme [<class 'mtdnetwork.mtd.completetopologyshuffle.CompleteTopologyShuffle'>, <class 'mtdnetwork.mtd.ipshuffle.IPShuffle'>, <class 'mtdnetwork.mtd.osdiversity.OSDiversity'>, <class 'mtdnetwork.mtd.servicediversity.ServiceDiversity'>]\n",
      "Action size(include zero which is no deployment) 5\n"
     ]
    },
    {
     "name": "stderr",
     "output_type": "stream",
     "text": [
      "Compiled the loaded model, but the compiled metrics have yet to be built. `model.compile_metrics` will be empty until you train or evaluate the model.\n"
     ]
    },
    {
     "name": "stdout",
     "output_type": "stream",
     "text": [
      "mtd_ai\n",
      "Trial_ 10\n",
      "all_features\n",
      "On Mac\n",
      "Static_factor 2000\n",
      "MTD Scheme [<class 'mtdnetwork.mtd.completetopologyshuffle.CompleteTopologyShuffle'>, <class 'mtdnetwork.mtd.ipshuffle.IPShuffle'>, <class 'mtdnetwork.mtd.osdiversity.OSDiversity'>, <class 'mtdnetwork.mtd.servicediversity.ServiceDiversity'>]\n",
      "Action size(include zero which is no deployment) 5\n"
     ]
    },
    {
     "name": "stderr",
     "output_type": "stream",
     "text": [
      "Compiled the loaded model, but the compiled metrics have yet to be built. `model.compile_metrics` will be empty until you train or evaluate the model.\n"
     ]
    },
    {
     "name": "stdout",
     "output_type": "stream",
     "text": [
      "mtd_ai\n",
      "Trial_ 11\n",
      "all_features\n",
      "On Mac\n",
      "Static_factor 2000\n",
      "MTD Scheme [<class 'mtdnetwork.mtd.completetopologyshuffle.CompleteTopologyShuffle'>, <class 'mtdnetwork.mtd.ipshuffle.IPShuffle'>, <class 'mtdnetwork.mtd.osdiversity.OSDiversity'>, <class 'mtdnetwork.mtd.servicediversity.ServiceDiversity'>]\n",
      "Action size(include zero which is no deployment) 5\n"
     ]
    },
    {
     "name": "stderr",
     "output_type": "stream",
     "text": [
      "Compiled the loaded model, but the compiled metrics have yet to be built. `model.compile_metrics` will be empty until you train or evaluate the model.\n"
     ]
    },
    {
     "name": "stdout",
     "output_type": "stream",
     "text": [
      "mtd_ai\n",
      "Trial_ 12\n",
      "all_features\n",
      "On Mac\n",
      "Static_factor 2000\n",
      "MTD Scheme [<class 'mtdnetwork.mtd.completetopologyshuffle.CompleteTopologyShuffle'>, <class 'mtdnetwork.mtd.ipshuffle.IPShuffle'>, <class 'mtdnetwork.mtd.osdiversity.OSDiversity'>, <class 'mtdnetwork.mtd.servicediversity.ServiceDiversity'>]\n",
      "Action size(include zero which is no deployment) 5\n"
     ]
    },
    {
     "name": "stderr",
     "output_type": "stream",
     "text": [
      "Compiled the loaded model, but the compiled metrics have yet to be built. `model.compile_metrics` will be empty until you train or evaluate the model.\n"
     ]
    },
    {
     "name": "stdout",
     "output_type": "stream",
     "text": [
      "mtd_ai\n",
      "Trial_ 13\n",
      "all_features\n",
      "On Mac\n",
      "Static_factor 2000\n",
      "MTD Scheme [<class 'mtdnetwork.mtd.completetopologyshuffle.CompleteTopologyShuffle'>, <class 'mtdnetwork.mtd.ipshuffle.IPShuffle'>, <class 'mtdnetwork.mtd.osdiversity.OSDiversity'>, <class 'mtdnetwork.mtd.servicediversity.ServiceDiversity'>]\n",
      "Action size(include zero which is no deployment) 5\n"
     ]
    },
    {
     "name": "stderr",
     "output_type": "stream",
     "text": [
      "Compiled the loaded model, but the compiled metrics have yet to be built. `model.compile_metrics` will be empty until you train or evaluate the model.\n"
     ]
    },
    {
     "name": "stdout",
     "output_type": "stream",
     "text": [
      "mtd_ai\n",
      "Trial_ 14\n",
      "all_features\n",
      "On Mac\n",
      "Static_factor 2000\n",
      "MTD Scheme [<class 'mtdnetwork.mtd.completetopologyshuffle.CompleteTopologyShuffle'>, <class 'mtdnetwork.mtd.ipshuffle.IPShuffle'>, <class 'mtdnetwork.mtd.osdiversity.OSDiversity'>, <class 'mtdnetwork.mtd.servicediversity.ServiceDiversity'>]\n",
      "Action size(include zero which is no deployment) 5\n"
     ]
    },
    {
     "name": "stderr",
     "output_type": "stream",
     "text": [
      "Compiled the loaded model, but the compiled metrics have yet to be built. `model.compile_metrics` will be empty until you train or evaluate the model.\n"
     ]
    },
    {
     "name": "stdout",
     "output_type": "stream",
     "text": [
      "mtd_ai\n",
      "Trial_ 15\n",
      "all_features\n",
      "On Mac\n",
      "Static_factor 2000\n",
      "MTD Scheme [<class 'mtdnetwork.mtd.completetopologyshuffle.CompleteTopologyShuffle'>, <class 'mtdnetwork.mtd.ipshuffle.IPShuffle'>, <class 'mtdnetwork.mtd.osdiversity.OSDiversity'>, <class 'mtdnetwork.mtd.servicediversity.ServiceDiversity'>]\n",
      "Action size(include zero which is no deployment) 5\n"
     ]
    },
    {
     "name": "stderr",
     "output_type": "stream",
     "text": [
      "Compiled the loaded model, but the compiled metrics have yet to be built. `model.compile_metrics` will be empty until you train or evaluate the model.\n"
     ]
    },
    {
     "name": "stdout",
     "output_type": "stream",
     "text": [
      "mtd_ai\n",
      "Trial_ 16\n",
      "all_features\n",
      "On Mac\n",
      "Static_factor 2000\n",
      "MTD Scheme [<class 'mtdnetwork.mtd.completetopologyshuffle.CompleteTopologyShuffle'>, <class 'mtdnetwork.mtd.ipshuffle.IPShuffle'>, <class 'mtdnetwork.mtd.osdiversity.OSDiversity'>, <class 'mtdnetwork.mtd.servicediversity.ServiceDiversity'>]\n",
      "Action size(include zero which is no deployment) 5\n"
     ]
    },
    {
     "name": "stderr",
     "output_type": "stream",
     "text": [
      "Compiled the loaded model, but the compiled metrics have yet to be built. `model.compile_metrics` will be empty until you train or evaluate the model.\n"
     ]
    },
    {
     "name": "stdout",
     "output_type": "stream",
     "text": [
      "mtd_ai\n",
      "Trial_ 17\n",
      "all_features\n",
      "On Mac\n",
      "Static_factor 2000\n",
      "MTD Scheme [<class 'mtdnetwork.mtd.completetopologyshuffle.CompleteTopologyShuffle'>, <class 'mtdnetwork.mtd.ipshuffle.IPShuffle'>, <class 'mtdnetwork.mtd.osdiversity.OSDiversity'>, <class 'mtdnetwork.mtd.servicediversity.ServiceDiversity'>]\n",
      "Action size(include zero which is no deployment) 5\n"
     ]
    },
    {
     "name": "stderr",
     "output_type": "stream",
     "text": [
      "Compiled the loaded model, but the compiled metrics have yet to be built. `model.compile_metrics` will be empty until you train or evaluate the model.\n"
     ]
    },
    {
     "name": "stdout",
     "output_type": "stream",
     "text": [
      "mtd_ai\n",
      "Trial_ 18\n",
      "all_features\n",
      "On Mac\n",
      "Static_factor 2000\n",
      "MTD Scheme [<class 'mtdnetwork.mtd.completetopologyshuffle.CompleteTopologyShuffle'>, <class 'mtdnetwork.mtd.ipshuffle.IPShuffle'>, <class 'mtdnetwork.mtd.osdiversity.OSDiversity'>, <class 'mtdnetwork.mtd.servicediversity.ServiceDiversity'>]\n",
      "Action size(include zero which is no deployment) 5\n"
     ]
    },
    {
     "name": "stderr",
     "output_type": "stream",
     "text": [
      "Compiled the loaded model, but the compiled metrics have yet to be built. `model.compile_metrics` will be empty until you train or evaluate the model.\n"
     ]
    },
    {
     "name": "stdout",
     "output_type": "stream",
     "text": [
      "mtd_ai\n",
      "Trial_ 19\n",
      "all_features\n",
      "On Mac\n",
      "Static_factor 2000\n",
      "MTD Scheme [<class 'mtdnetwork.mtd.completetopologyshuffle.CompleteTopologyShuffle'>, <class 'mtdnetwork.mtd.ipshuffle.IPShuffle'>, <class 'mtdnetwork.mtd.osdiversity.OSDiversity'>, <class 'mtdnetwork.mtd.servicediversity.ServiceDiversity'>]\n",
      "Action size(include zero which is no deployment) 5\n"
     ]
    },
    {
     "name": "stderr",
     "output_type": "stream",
     "text": [
      "Compiled the loaded model, but the compiled metrics have yet to be built. `model.compile_metrics` will be empty until you train or evaluate the model.\n"
     ]
    },
    {
     "name": "stdout",
     "output_type": "stream",
     "text": [
      "mtd_ai\n",
      "Trial_ 20\n",
      "all_features\n",
      "On Mac\n",
      "Static_factor 2000\n",
      "MTD Scheme [<class 'mtdnetwork.mtd.completetopologyshuffle.CompleteTopologyShuffle'>, <class 'mtdnetwork.mtd.ipshuffle.IPShuffle'>, <class 'mtdnetwork.mtd.osdiversity.OSDiversity'>, <class 'mtdnetwork.mtd.servicediversity.ServiceDiversity'>]\n",
      "Action size(include zero which is no deployment) 5\n"
     ]
    },
    {
     "name": "stderr",
     "output_type": "stream",
     "text": [
      "Compiled the loaded model, but the compiled metrics have yet to be built. `model.compile_metrics` will be empty until you train or evaluate the model.\n"
     ]
    },
    {
     "name": "stdout",
     "output_type": "stream",
     "text": [
      "mtd_ai\n",
      "Trial_ 21\n",
      "all_features\n",
      "On Mac\n",
      "Static_factor 2000\n",
      "MTD Scheme [<class 'mtdnetwork.mtd.completetopologyshuffle.CompleteTopologyShuffle'>, <class 'mtdnetwork.mtd.ipshuffle.IPShuffle'>, <class 'mtdnetwork.mtd.osdiversity.OSDiversity'>, <class 'mtdnetwork.mtd.servicediversity.ServiceDiversity'>]\n",
      "Action size(include zero which is no deployment) 5\n"
     ]
    },
    {
     "name": "stderr",
     "output_type": "stream",
     "text": [
      "Compiled the loaded model, but the compiled metrics have yet to be built. `model.compile_metrics` will be empty until you train or evaluate the model.\n"
     ]
    },
    {
     "name": "stdout",
     "output_type": "stream",
     "text": [
      "mtd_ai\n",
      "Trial_ 22\n",
      "all_features\n",
      "On Mac\n",
      "Static_factor 2000\n",
      "MTD Scheme [<class 'mtdnetwork.mtd.completetopologyshuffle.CompleteTopologyShuffle'>, <class 'mtdnetwork.mtd.ipshuffle.IPShuffle'>, <class 'mtdnetwork.mtd.osdiversity.OSDiversity'>, <class 'mtdnetwork.mtd.servicediversity.ServiceDiversity'>]\n",
      "Action size(include zero which is no deployment) 5\n"
     ]
    },
    {
     "name": "stderr",
     "output_type": "stream",
     "text": [
      "Compiled the loaded model, but the compiled metrics have yet to be built. `model.compile_metrics` will be empty until you train or evaluate the model.\n"
     ]
    },
    {
     "name": "stdout",
     "output_type": "stream",
     "text": [
      "mtd_ai\n",
      "Trial_ 23\n",
      "all_features\n",
      "On Mac\n",
      "Static_factor 2000\n",
      "MTD Scheme [<class 'mtdnetwork.mtd.completetopologyshuffle.CompleteTopologyShuffle'>, <class 'mtdnetwork.mtd.ipshuffle.IPShuffle'>, <class 'mtdnetwork.mtd.osdiversity.OSDiversity'>, <class 'mtdnetwork.mtd.servicediversity.ServiceDiversity'>]\n",
      "Action size(include zero which is no deployment) 5\n"
     ]
    },
    {
     "name": "stderr",
     "output_type": "stream",
     "text": [
      "Compiled the loaded model, but the compiled metrics have yet to be built. `model.compile_metrics` will be empty until you train or evaluate the model.\n"
     ]
    },
    {
     "name": "stdout",
     "output_type": "stream",
     "text": [
      "mtd_ai\n",
      "Trial_ 24\n",
      "all_features\n",
      "On Mac\n",
      "Static_factor 2000\n",
      "MTD Scheme [<class 'mtdnetwork.mtd.completetopologyshuffle.CompleteTopologyShuffle'>, <class 'mtdnetwork.mtd.ipshuffle.IPShuffle'>, <class 'mtdnetwork.mtd.osdiversity.OSDiversity'>, <class 'mtdnetwork.mtd.servicediversity.ServiceDiversity'>]\n",
      "Action size(include zero which is no deployment) 5\n"
     ]
    },
    {
     "name": "stderr",
     "output_type": "stream",
     "text": [
      "Compiled the loaded model, but the compiled metrics have yet to be built. `model.compile_metrics` will be empty until you train or evaluate the model.\n"
     ]
    },
    {
     "name": "stdout",
     "output_type": "stream",
     "text": [
      "mtd_ai\n",
      "Trial_ 25\n",
      "all_features\n",
      "On Mac\n",
      "Static_factor 2000\n",
      "MTD Scheme [<class 'mtdnetwork.mtd.completetopologyshuffle.CompleteTopologyShuffle'>, <class 'mtdnetwork.mtd.ipshuffle.IPShuffle'>, <class 'mtdnetwork.mtd.osdiversity.OSDiversity'>, <class 'mtdnetwork.mtd.servicediversity.ServiceDiversity'>]\n",
      "Action size(include zero which is no deployment) 5\n"
     ]
    },
    {
     "name": "stderr",
     "output_type": "stream",
     "text": [
      "Compiled the loaded model, but the compiled metrics have yet to be built. `model.compile_metrics` will be empty until you train or evaluate the model.\n"
     ]
    },
    {
     "name": "stdout",
     "output_type": "stream",
     "text": [
      "mtd_ai\n",
      "Trial_ 26\n",
      "all_features\n",
      "On Mac\n",
      "Static_factor 2000\n",
      "MTD Scheme [<class 'mtdnetwork.mtd.completetopologyshuffle.CompleteTopologyShuffle'>, <class 'mtdnetwork.mtd.ipshuffle.IPShuffle'>, <class 'mtdnetwork.mtd.osdiversity.OSDiversity'>, <class 'mtdnetwork.mtd.servicediversity.ServiceDiversity'>]\n",
      "Action size(include zero which is no deployment) 5\n"
     ]
    },
    {
     "name": "stderr",
     "output_type": "stream",
     "text": [
      "Compiled the loaded model, but the compiled metrics have yet to be built. `model.compile_metrics` will be empty until you train or evaluate the model.\n"
     ]
    },
    {
     "name": "stdout",
     "output_type": "stream",
     "text": [
      "mtd_ai\n",
      "Trial_ 27\n",
      "all_features\n",
      "On Mac\n",
      "Static_factor 2000\n",
      "MTD Scheme [<class 'mtdnetwork.mtd.completetopologyshuffle.CompleteTopologyShuffle'>, <class 'mtdnetwork.mtd.ipshuffle.IPShuffle'>, <class 'mtdnetwork.mtd.osdiversity.OSDiversity'>, <class 'mtdnetwork.mtd.servicediversity.ServiceDiversity'>]\n",
      "Action size(include zero which is no deployment) 5\n"
     ]
    },
    {
     "name": "stderr",
     "output_type": "stream",
     "text": [
      "Compiled the loaded model, but the compiled metrics have yet to be built. `model.compile_metrics` will be empty until you train or evaluate the model.\n"
     ]
    },
    {
     "name": "stdout",
     "output_type": "stream",
     "text": [
      "mtd_ai\n",
      "Trial_ 28\n",
      "all_features\n",
      "On Mac\n",
      "Static_factor 2000\n",
      "MTD Scheme [<class 'mtdnetwork.mtd.completetopologyshuffle.CompleteTopologyShuffle'>, <class 'mtdnetwork.mtd.ipshuffle.IPShuffle'>, <class 'mtdnetwork.mtd.osdiversity.OSDiversity'>, <class 'mtdnetwork.mtd.servicediversity.ServiceDiversity'>]\n",
      "Action size(include zero which is no deployment) 5\n"
     ]
    },
    {
     "name": "stderr",
     "output_type": "stream",
     "text": [
      "Compiled the loaded model, but the compiled metrics have yet to be built. `model.compile_metrics` will be empty until you train or evaluate the model.\n"
     ]
    },
    {
     "name": "stdout",
     "output_type": "stream",
     "text": [
      "mtd_ai\n",
      "Trial_ 29\n",
      "all_features\n",
      "On Mac\n",
      "Static_factor 2000\n",
      "MTD Scheme [<class 'mtdnetwork.mtd.completetopologyshuffle.CompleteTopologyShuffle'>, <class 'mtdnetwork.mtd.ipshuffle.IPShuffle'>, <class 'mtdnetwork.mtd.osdiversity.OSDiversity'>, <class 'mtdnetwork.mtd.servicediversity.ServiceDiversity'>]\n",
      "Action size(include zero which is no deployment) 5\n"
     ]
    },
    {
     "name": "stderr",
     "output_type": "stream",
     "text": [
      "Compiled the loaded model, but the compiled metrics have yet to be built. `model.compile_metrics` will be empty until you train or evaluate the model.\n"
     ]
    },
    {
     "name": "stdout",
     "output_type": "stream",
     "text": [
      "mtd_ai\n",
      "Trial_ 30\n",
      "all_features\n",
      "On Mac\n",
      "Static_factor 2000\n",
      "MTD Scheme [<class 'mtdnetwork.mtd.completetopologyshuffle.CompleteTopologyShuffle'>, <class 'mtdnetwork.mtd.ipshuffle.IPShuffle'>, <class 'mtdnetwork.mtd.osdiversity.OSDiversity'>, <class 'mtdnetwork.mtd.servicediversity.ServiceDiversity'>]\n",
      "Action size(include zero which is no deployment) 5\n"
     ]
    },
    {
     "name": "stderr",
     "output_type": "stream",
     "text": [
      "Compiled the loaded model, but the compiled metrics have yet to be built. `model.compile_metrics` will be empty until you train or evaluate the model.\n"
     ]
    },
    {
     "name": "stdout",
     "output_type": "stream",
     "text": [
      "mtd_ai\n",
      "Trial_ 31\n",
      "all_features\n",
      "On Mac\n",
      "Static_factor 2000\n",
      "MTD Scheme [<class 'mtdnetwork.mtd.completetopologyshuffle.CompleteTopologyShuffle'>, <class 'mtdnetwork.mtd.ipshuffle.IPShuffle'>, <class 'mtdnetwork.mtd.osdiversity.OSDiversity'>, <class 'mtdnetwork.mtd.servicediversity.ServiceDiversity'>]\n",
      "Action size(include zero which is no deployment) 5\n"
     ]
    },
    {
     "name": "stderr",
     "output_type": "stream",
     "text": [
      "Compiled the loaded model, but the compiled metrics have yet to be built. `model.compile_metrics` will be empty until you train or evaluate the model.\n"
     ]
    },
    {
     "name": "stdout",
     "output_type": "stream",
     "text": [
      "mtd_ai\n",
      "Trial_ 32\n",
      "all_features\n",
      "On Mac\n",
      "Static_factor 2000\n",
      "MTD Scheme [<class 'mtdnetwork.mtd.completetopologyshuffle.CompleteTopologyShuffle'>, <class 'mtdnetwork.mtd.ipshuffle.IPShuffle'>, <class 'mtdnetwork.mtd.osdiversity.OSDiversity'>, <class 'mtdnetwork.mtd.servicediversity.ServiceDiversity'>]\n",
      "Action size(include zero which is no deployment) 5\n"
     ]
    },
    {
     "name": "stderr",
     "output_type": "stream",
     "text": [
      "Compiled the loaded model, but the compiled metrics have yet to be built. `model.compile_metrics` will be empty until you train or evaluate the model.\n"
     ]
    },
    {
     "name": "stdout",
     "output_type": "stream",
     "text": [
      "mtd_ai\n",
      "Trial_ 33\n",
      "all_features\n",
      "On Mac\n",
      "Static_factor 2000\n",
      "MTD Scheme [<class 'mtdnetwork.mtd.completetopologyshuffle.CompleteTopologyShuffle'>, <class 'mtdnetwork.mtd.ipshuffle.IPShuffle'>, <class 'mtdnetwork.mtd.osdiversity.OSDiversity'>, <class 'mtdnetwork.mtd.servicediversity.ServiceDiversity'>]\n",
      "Action size(include zero which is no deployment) 5\n"
     ]
    },
    {
     "name": "stderr",
     "output_type": "stream",
     "text": [
      "Compiled the loaded model, but the compiled metrics have yet to be built. `model.compile_metrics` will be empty until you train or evaluate the model.\n"
     ]
    },
    {
     "name": "stdout",
     "output_type": "stream",
     "text": [
      "mtd_ai\n",
      "Trial_ 34\n",
      "all_features\n",
      "On Mac\n",
      "Static_factor 2000\n",
      "MTD Scheme [<class 'mtdnetwork.mtd.completetopologyshuffle.CompleteTopologyShuffle'>, <class 'mtdnetwork.mtd.ipshuffle.IPShuffle'>, <class 'mtdnetwork.mtd.osdiversity.OSDiversity'>, <class 'mtdnetwork.mtd.servicediversity.ServiceDiversity'>]\n",
      "Action size(include zero which is no deployment) 5\n"
     ]
    },
    {
     "name": "stderr",
     "output_type": "stream",
     "text": [
      "Compiled the loaded model, but the compiled metrics have yet to be built. `model.compile_metrics` will be empty until you train or evaluate the model.\n"
     ]
    },
    {
     "name": "stdout",
     "output_type": "stream",
     "text": [
      "mtd_ai\n",
      "Trial_ 35\n",
      "all_features\n",
      "On Mac\n",
      "Static_factor 2000\n",
      "MTD Scheme [<class 'mtdnetwork.mtd.completetopologyshuffle.CompleteTopologyShuffle'>, <class 'mtdnetwork.mtd.ipshuffle.IPShuffle'>, <class 'mtdnetwork.mtd.osdiversity.OSDiversity'>, <class 'mtdnetwork.mtd.servicediversity.ServiceDiversity'>]\n",
      "Action size(include zero which is no deployment) 5\n"
     ]
    },
    {
     "name": "stderr",
     "output_type": "stream",
     "text": [
      "Compiled the loaded model, but the compiled metrics have yet to be built. `model.compile_metrics` will be empty until you train or evaluate the model.\n"
     ]
    },
    {
     "name": "stdout",
     "output_type": "stream",
     "text": [
      "mtd_ai\n",
      "Trial_ 36\n",
      "all_features\n",
      "On Mac\n",
      "Static_factor 2000\n",
      "MTD Scheme [<class 'mtdnetwork.mtd.completetopologyshuffle.CompleteTopologyShuffle'>, <class 'mtdnetwork.mtd.ipshuffle.IPShuffle'>, <class 'mtdnetwork.mtd.osdiversity.OSDiversity'>, <class 'mtdnetwork.mtd.servicediversity.ServiceDiversity'>]\n",
      "Action size(include zero which is no deployment) 5\n"
     ]
    },
    {
     "name": "stderr",
     "output_type": "stream",
     "text": [
      "Compiled the loaded model, but the compiled metrics have yet to be built. `model.compile_metrics` will be empty until you train or evaluate the model.\n"
     ]
    },
    {
     "name": "stdout",
     "output_type": "stream",
     "text": [
      "mtd_ai\n",
      "Trial_ 37\n",
      "all_features\n",
      "On Mac\n",
      "Static_factor 2000\n",
      "MTD Scheme [<class 'mtdnetwork.mtd.completetopologyshuffle.CompleteTopologyShuffle'>, <class 'mtdnetwork.mtd.ipshuffle.IPShuffle'>, <class 'mtdnetwork.mtd.osdiversity.OSDiversity'>, <class 'mtdnetwork.mtd.servicediversity.ServiceDiversity'>]\n",
      "Action size(include zero which is no deployment) 5\n"
     ]
    },
    {
     "name": "stderr",
     "output_type": "stream",
     "text": [
      "Compiled the loaded model, but the compiled metrics have yet to be built. `model.compile_metrics` will be empty until you train or evaluate the model.\n"
     ]
    },
    {
     "name": "stdout",
     "output_type": "stream",
     "text": [
      "mtd_ai\n",
      "Trial_ 38\n",
      "all_features\n",
      "On Mac\n",
      "Static_factor 2000\n",
      "MTD Scheme [<class 'mtdnetwork.mtd.completetopologyshuffle.CompleteTopologyShuffle'>, <class 'mtdnetwork.mtd.ipshuffle.IPShuffle'>, <class 'mtdnetwork.mtd.osdiversity.OSDiversity'>, <class 'mtdnetwork.mtd.servicediversity.ServiceDiversity'>]\n",
      "Action size(include zero which is no deployment) 5\n"
     ]
    },
    {
     "name": "stderr",
     "output_type": "stream",
     "text": [
      "Compiled the loaded model, but the compiled metrics have yet to be built. `model.compile_metrics` will be empty until you train or evaluate the model.\n"
     ]
    },
    {
     "name": "stdout",
     "output_type": "stream",
     "text": [
      "mtd_ai\n",
      "Trial_ 39\n",
      "all_features\n",
      "On Mac\n",
      "Static_factor 2000\n",
      "MTD Scheme [<class 'mtdnetwork.mtd.completetopologyshuffle.CompleteTopologyShuffle'>, <class 'mtdnetwork.mtd.ipshuffle.IPShuffle'>, <class 'mtdnetwork.mtd.osdiversity.OSDiversity'>, <class 'mtdnetwork.mtd.servicediversity.ServiceDiversity'>]\n",
      "Action size(include zero which is no deployment) 5\n"
     ]
    },
    {
     "name": "stderr",
     "output_type": "stream",
     "text": [
      "Compiled the loaded model, but the compiled metrics have yet to be built. `model.compile_metrics` will be empty until you train or evaluate the model.\n"
     ]
    },
    {
     "name": "stdout",
     "output_type": "stream",
     "text": [
      "mtd_ai\n",
      "Trial_ 40\n",
      "all_features\n",
      "On Mac\n",
      "Static_factor 2000\n",
      "MTD Scheme [<class 'mtdnetwork.mtd.completetopologyshuffle.CompleteTopologyShuffle'>, <class 'mtdnetwork.mtd.ipshuffle.IPShuffle'>, <class 'mtdnetwork.mtd.osdiversity.OSDiversity'>, <class 'mtdnetwork.mtd.servicediversity.ServiceDiversity'>]\n",
      "Action size(include zero which is no deployment) 5\n"
     ]
    },
    {
     "name": "stderr",
     "output_type": "stream",
     "text": [
      "Compiled the loaded model, but the compiled metrics have yet to be built. `model.compile_metrics` will be empty until you train or evaluate the model.\n"
     ]
    },
    {
     "name": "stdout",
     "output_type": "stream",
     "text": [
      "mtd_ai\n",
      "Trial_ 41\n",
      "all_features\n",
      "On Mac\n",
      "Static_factor 2000\n",
      "MTD Scheme [<class 'mtdnetwork.mtd.completetopologyshuffle.CompleteTopologyShuffle'>, <class 'mtdnetwork.mtd.ipshuffle.IPShuffle'>, <class 'mtdnetwork.mtd.osdiversity.OSDiversity'>, <class 'mtdnetwork.mtd.servicediversity.ServiceDiversity'>]\n",
      "Action size(include zero which is no deployment) 5\n"
     ]
    },
    {
     "name": "stderr",
     "output_type": "stream",
     "text": [
      "Compiled the loaded model, but the compiled metrics have yet to be built. `model.compile_metrics` will be empty until you train or evaluate the model.\n"
     ]
    },
    {
     "name": "stdout",
     "output_type": "stream",
     "text": [
      "mtd_ai\n",
      "Trial_ 42\n",
      "all_features\n",
      "On Mac\n",
      "Static_factor 2000\n",
      "MTD Scheme [<class 'mtdnetwork.mtd.completetopologyshuffle.CompleteTopologyShuffle'>, <class 'mtdnetwork.mtd.ipshuffle.IPShuffle'>, <class 'mtdnetwork.mtd.osdiversity.OSDiversity'>, <class 'mtdnetwork.mtd.servicediversity.ServiceDiversity'>]\n",
      "Action size(include zero which is no deployment) 5\n"
     ]
    },
    {
     "name": "stderr",
     "output_type": "stream",
     "text": [
      "Compiled the loaded model, but the compiled metrics have yet to be built. `model.compile_metrics` will be empty until you train or evaluate the model.\n"
     ]
    },
    {
     "name": "stdout",
     "output_type": "stream",
     "text": [
      "mtd_ai\n",
      "Trial_ 43\n",
      "all_features\n",
      "On Mac\n",
      "Static_factor 2000\n",
      "MTD Scheme [<class 'mtdnetwork.mtd.completetopologyshuffle.CompleteTopologyShuffle'>, <class 'mtdnetwork.mtd.ipshuffle.IPShuffle'>, <class 'mtdnetwork.mtd.osdiversity.OSDiversity'>, <class 'mtdnetwork.mtd.servicediversity.ServiceDiversity'>]\n",
      "Action size(include zero which is no deployment) 5\n"
     ]
    },
    {
     "name": "stderr",
     "output_type": "stream",
     "text": [
      "Compiled the loaded model, but the compiled metrics have yet to be built. `model.compile_metrics` will be empty until you train or evaluate the model.\n"
     ]
    },
    {
     "name": "stdout",
     "output_type": "stream",
     "text": [
      "mtd_ai\n",
      "Trial_ 44\n",
      "all_features\n",
      "On Mac\n",
      "Static_factor 2000\n",
      "MTD Scheme [<class 'mtdnetwork.mtd.completetopologyshuffle.CompleteTopologyShuffle'>, <class 'mtdnetwork.mtd.ipshuffle.IPShuffle'>, <class 'mtdnetwork.mtd.osdiversity.OSDiversity'>, <class 'mtdnetwork.mtd.servicediversity.ServiceDiversity'>]\n",
      "Action size(include zero which is no deployment) 5\n"
     ]
    },
    {
     "name": "stderr",
     "output_type": "stream",
     "text": [
      "Compiled the loaded model, but the compiled metrics have yet to be built. `model.compile_metrics` will be empty until you train or evaluate the model.\n"
     ]
    },
    {
     "name": "stdout",
     "output_type": "stream",
     "text": [
      "mtd_ai\n",
      "Trial_ 45\n",
      "all_features\n",
      "On Mac\n",
      "Static_factor 2000\n",
      "MTD Scheme [<class 'mtdnetwork.mtd.completetopologyshuffle.CompleteTopologyShuffle'>, <class 'mtdnetwork.mtd.ipshuffle.IPShuffle'>, <class 'mtdnetwork.mtd.osdiversity.OSDiversity'>, <class 'mtdnetwork.mtd.servicediversity.ServiceDiversity'>]\n",
      "Action size(include zero which is no deployment) 5\n"
     ]
    },
    {
     "name": "stderr",
     "output_type": "stream",
     "text": [
      "Compiled the loaded model, but the compiled metrics have yet to be built. `model.compile_metrics` will be empty until you train or evaluate the model.\n"
     ]
    },
    {
     "name": "stdout",
     "output_type": "stream",
     "text": [
      "mtd_ai\n",
      "Trial_ 46\n",
      "all_features\n",
      "On Mac\n",
      "Static_factor 2000\n",
      "MTD Scheme [<class 'mtdnetwork.mtd.completetopologyshuffle.CompleteTopologyShuffle'>, <class 'mtdnetwork.mtd.ipshuffle.IPShuffle'>, <class 'mtdnetwork.mtd.osdiversity.OSDiversity'>, <class 'mtdnetwork.mtd.servicediversity.ServiceDiversity'>]\n",
      "Action size(include zero which is no deployment) 5\n"
     ]
    },
    {
     "name": "stderr",
     "output_type": "stream",
     "text": [
      "Compiled the loaded model, but the compiled metrics have yet to be built. `model.compile_metrics` will be empty until you train or evaluate the model.\n"
     ]
    },
    {
     "name": "stdout",
     "output_type": "stream",
     "text": [
      "mtd_ai\n",
      "Trial_ 47\n",
      "all_features\n",
      "On Mac\n",
      "Static_factor 2000\n",
      "MTD Scheme [<class 'mtdnetwork.mtd.completetopologyshuffle.CompleteTopologyShuffle'>, <class 'mtdnetwork.mtd.ipshuffle.IPShuffle'>, <class 'mtdnetwork.mtd.osdiversity.OSDiversity'>, <class 'mtdnetwork.mtd.servicediversity.ServiceDiversity'>]\n",
      "Action size(include zero which is no deployment) 5\n"
     ]
    },
    {
     "name": "stderr",
     "output_type": "stream",
     "text": [
      "Compiled the loaded model, but the compiled metrics have yet to be built. `model.compile_metrics` will be empty until you train or evaluate the model.\n"
     ]
    },
    {
     "name": "stdout",
     "output_type": "stream",
     "text": [
      "mtd_ai\n",
      "Trial_ 48\n",
      "all_features\n",
      "On Mac\n",
      "Static_factor 2000\n",
      "MTD Scheme [<class 'mtdnetwork.mtd.completetopologyshuffle.CompleteTopologyShuffle'>, <class 'mtdnetwork.mtd.ipshuffle.IPShuffle'>, <class 'mtdnetwork.mtd.osdiversity.OSDiversity'>, <class 'mtdnetwork.mtd.servicediversity.ServiceDiversity'>]\n",
      "Action size(include zero which is no deployment) 5\n"
     ]
    },
    {
     "name": "stderr",
     "output_type": "stream",
     "text": [
      "Compiled the loaded model, but the compiled metrics have yet to be built. `model.compile_metrics` will be empty until you train or evaluate the model.\n"
     ]
    },
    {
     "name": "stdout",
     "output_type": "stream",
     "text": [
      "mtd_ai\n",
      "Trial_ 49\n",
      "all_features\n",
      "On Mac\n",
      "Static_factor 2000\n",
      "MTD Scheme [<class 'mtdnetwork.mtd.completetopologyshuffle.CompleteTopologyShuffle'>, <class 'mtdnetwork.mtd.ipshuffle.IPShuffle'>, <class 'mtdnetwork.mtd.osdiversity.OSDiversity'>, <class 'mtdnetwork.mtd.servicediversity.ServiceDiversity'>]\n",
      "Action size(include zero which is no deployment) 5\n"
     ]
    },
    {
     "name": "stderr",
     "output_type": "stream",
     "text": [
      "Compiled the loaded model, but the compiled metrics have yet to be built. `model.compile_metrics` will be empty until you train or evaluate the model.\n"
     ]
    },
    {
     "name": "stdout",
     "output_type": "stream",
     "text": [
      "mtd_ai\n",
      "Trial_ 50\n",
      "all_features\n",
      "On Mac\n",
      "Static_factor 2000\n",
      "MTD Scheme [<class 'mtdnetwork.mtd.completetopologyshuffle.CompleteTopologyShuffle'>, <class 'mtdnetwork.mtd.ipshuffle.IPShuffle'>, <class 'mtdnetwork.mtd.osdiversity.OSDiversity'>, <class 'mtdnetwork.mtd.servicediversity.ServiceDiversity'>]\n",
      "Action size(include zero which is no deployment) 5\n"
     ]
    },
    {
     "name": "stderr",
     "output_type": "stream",
     "text": [
      "Compiled the loaded model, but the compiled metrics have yet to be built. `model.compile_metrics` will be empty until you train or evaluate the model.\n"
     ]
    },
    {
     "name": "stdout",
     "output_type": "stream",
     "text": [
      "mtd_ai\n",
      "Trial_ 51\n",
      "all_features\n",
      "On Mac\n",
      "Static_factor 2000\n",
      "MTD Scheme [<class 'mtdnetwork.mtd.completetopologyshuffle.CompleteTopologyShuffle'>, <class 'mtdnetwork.mtd.ipshuffle.IPShuffle'>, <class 'mtdnetwork.mtd.osdiversity.OSDiversity'>, <class 'mtdnetwork.mtd.servicediversity.ServiceDiversity'>]\n",
      "Action size(include zero which is no deployment) 5\n"
     ]
    },
    {
     "name": "stderr",
     "output_type": "stream",
     "text": [
      "Compiled the loaded model, but the compiled metrics have yet to be built. `model.compile_metrics` will be empty until you train or evaluate the model.\n"
     ]
    },
    {
     "name": "stdout",
     "output_type": "stream",
     "text": [
      "mtd_ai\n",
      "Trial_ 52\n",
      "all_features\n",
      "On Mac\n",
      "Static_factor 2000\n",
      "MTD Scheme [<class 'mtdnetwork.mtd.completetopologyshuffle.CompleteTopologyShuffle'>, <class 'mtdnetwork.mtd.ipshuffle.IPShuffle'>, <class 'mtdnetwork.mtd.osdiversity.OSDiversity'>, <class 'mtdnetwork.mtd.servicediversity.ServiceDiversity'>]\n",
      "Action size(include zero which is no deployment) 5\n"
     ]
    },
    {
     "name": "stderr",
     "output_type": "stream",
     "text": [
      "Compiled the loaded model, but the compiled metrics have yet to be built. `model.compile_metrics` will be empty until you train or evaluate the model.\n"
     ]
    },
    {
     "name": "stdout",
     "output_type": "stream",
     "text": [
      "mtd_ai\n",
      "Trial_ 53\n",
      "all_features\n",
      "On Mac\n",
      "Static_factor 2000\n",
      "MTD Scheme [<class 'mtdnetwork.mtd.completetopologyshuffle.CompleteTopologyShuffle'>, <class 'mtdnetwork.mtd.ipshuffle.IPShuffle'>, <class 'mtdnetwork.mtd.osdiversity.OSDiversity'>, <class 'mtdnetwork.mtd.servicediversity.ServiceDiversity'>]\n",
      "Action size(include zero which is no deployment) 5\n"
     ]
    },
    {
     "name": "stderr",
     "output_type": "stream",
     "text": [
      "Compiled the loaded model, but the compiled metrics have yet to be built. `model.compile_metrics` will be empty until you train or evaluate the model.\n"
     ]
    },
    {
     "name": "stdout",
     "output_type": "stream",
     "text": [
      "mtd_ai\n",
      "Trial_ 54\n",
      "all_features\n",
      "On Mac\n",
      "Static_factor 2000\n",
      "MTD Scheme [<class 'mtdnetwork.mtd.completetopologyshuffle.CompleteTopologyShuffle'>, <class 'mtdnetwork.mtd.ipshuffle.IPShuffle'>, <class 'mtdnetwork.mtd.osdiversity.OSDiversity'>, <class 'mtdnetwork.mtd.servicediversity.ServiceDiversity'>]\n",
      "Action size(include zero which is no deployment) 5\n"
     ]
    },
    {
     "name": "stderr",
     "output_type": "stream",
     "text": [
      "Compiled the loaded model, but the compiled metrics have yet to be built. `model.compile_metrics` will be empty until you train or evaluate the model.\n"
     ]
    },
    {
     "name": "stdout",
     "output_type": "stream",
     "text": [
      "mtd_ai\n",
      "Trial_ 55\n",
      "all_features\n",
      "On Mac\n",
      "Static_factor 2000\n",
      "MTD Scheme [<class 'mtdnetwork.mtd.completetopologyshuffle.CompleteTopologyShuffle'>, <class 'mtdnetwork.mtd.ipshuffle.IPShuffle'>, <class 'mtdnetwork.mtd.osdiversity.OSDiversity'>, <class 'mtdnetwork.mtd.servicediversity.ServiceDiversity'>]\n",
      "Action size(include zero which is no deployment) 5\n"
     ]
    },
    {
     "name": "stderr",
     "output_type": "stream",
     "text": [
      "Compiled the loaded model, but the compiled metrics have yet to be built. `model.compile_metrics` will be empty until you train or evaluate the model.\n"
     ]
    },
    {
     "name": "stdout",
     "output_type": "stream",
     "text": [
      "mtd_ai\n",
      "Trial_ 56\n",
      "all_features\n",
      "On Mac\n",
      "Static_factor 2000\n",
      "MTD Scheme [<class 'mtdnetwork.mtd.completetopologyshuffle.CompleteTopologyShuffle'>, <class 'mtdnetwork.mtd.ipshuffle.IPShuffle'>, <class 'mtdnetwork.mtd.osdiversity.OSDiversity'>, <class 'mtdnetwork.mtd.servicediversity.ServiceDiversity'>]\n",
      "Action size(include zero which is no deployment) 5\n"
     ]
    },
    {
     "name": "stderr",
     "output_type": "stream",
     "text": [
      "Compiled the loaded model, but the compiled metrics have yet to be built. `model.compile_metrics` will be empty until you train or evaluate the model.\n"
     ]
    },
    {
     "name": "stdout",
     "output_type": "stream",
     "text": [
      "mtd_ai\n",
      "Trial_ 57\n",
      "all_features\n",
      "On Mac\n",
      "Static_factor 2000\n",
      "MTD Scheme [<class 'mtdnetwork.mtd.completetopologyshuffle.CompleteTopologyShuffle'>, <class 'mtdnetwork.mtd.ipshuffle.IPShuffle'>, <class 'mtdnetwork.mtd.osdiversity.OSDiversity'>, <class 'mtdnetwork.mtd.servicediversity.ServiceDiversity'>]\n",
      "Action size(include zero which is no deployment) 5\n"
     ]
    },
    {
     "name": "stderr",
     "output_type": "stream",
     "text": [
      "Compiled the loaded model, but the compiled metrics have yet to be built. `model.compile_metrics` will be empty until you train or evaluate the model.\n"
     ]
    },
    {
     "name": "stdout",
     "output_type": "stream",
     "text": [
      "mtd_ai\n",
      "Trial_ 58\n",
      "all_features\n",
      "On Mac\n",
      "Static_factor 2000\n",
      "MTD Scheme [<class 'mtdnetwork.mtd.completetopologyshuffle.CompleteTopologyShuffle'>, <class 'mtdnetwork.mtd.ipshuffle.IPShuffle'>, <class 'mtdnetwork.mtd.osdiversity.OSDiversity'>, <class 'mtdnetwork.mtd.servicediversity.ServiceDiversity'>]\n",
      "Action size(include zero which is no deployment) 5\n"
     ]
    },
    {
     "name": "stderr",
     "output_type": "stream",
     "text": [
      "Compiled the loaded model, but the compiled metrics have yet to be built. `model.compile_metrics` will be empty until you train or evaluate the model.\n"
     ]
    },
    {
     "name": "stdout",
     "output_type": "stream",
     "text": [
      "mtd_ai\n",
      "Trial_ 59\n",
      "all_features\n",
      "On Mac\n",
      "Static_factor 2000\n",
      "MTD Scheme [<class 'mtdnetwork.mtd.completetopologyshuffle.CompleteTopologyShuffle'>, <class 'mtdnetwork.mtd.ipshuffle.IPShuffle'>, <class 'mtdnetwork.mtd.osdiversity.OSDiversity'>, <class 'mtdnetwork.mtd.servicediversity.ServiceDiversity'>]\n",
      "Action size(include zero which is no deployment) 5\n"
     ]
    },
    {
     "name": "stderr",
     "output_type": "stream",
     "text": [
      "Compiled the loaded model, but the compiled metrics have yet to be built. `model.compile_metrics` will be empty until you train or evaluate the model.\n"
     ]
    },
    {
     "name": "stdout",
     "output_type": "stream",
     "text": [
      "mtd_ai\n",
      "Trial_ 60\n",
      "all_features\n",
      "On Mac\n",
      "Static_factor 2000\n",
      "MTD Scheme [<class 'mtdnetwork.mtd.completetopologyshuffle.CompleteTopologyShuffle'>, <class 'mtdnetwork.mtd.ipshuffle.IPShuffle'>, <class 'mtdnetwork.mtd.osdiversity.OSDiversity'>, <class 'mtdnetwork.mtd.servicediversity.ServiceDiversity'>]\n",
      "Action size(include zero which is no deployment) 5\n"
     ]
    },
    {
     "name": "stderr",
     "output_type": "stream",
     "text": [
      "Compiled the loaded model, but the compiled metrics have yet to be built. `model.compile_metrics` will be empty until you train or evaluate the model.\n"
     ]
    },
    {
     "name": "stdout",
     "output_type": "stream",
     "text": [
      "mtd_ai\n",
      "Trial_ 61\n",
      "all_features\n",
      "On Mac\n",
      "Static_factor 2000\n",
      "MTD Scheme [<class 'mtdnetwork.mtd.completetopologyshuffle.CompleteTopologyShuffle'>, <class 'mtdnetwork.mtd.ipshuffle.IPShuffle'>, <class 'mtdnetwork.mtd.osdiversity.OSDiversity'>, <class 'mtdnetwork.mtd.servicediversity.ServiceDiversity'>]\n",
      "Action size(include zero which is no deployment) 5\n"
     ]
    },
    {
     "name": "stderr",
     "output_type": "stream",
     "text": [
      "Compiled the loaded model, but the compiled metrics have yet to be built. `model.compile_metrics` will be empty until you train or evaluate the model.\n"
     ]
    },
    {
     "name": "stdout",
     "output_type": "stream",
     "text": [
      "mtd_ai\n",
      "Trial_ 62\n",
      "all_features\n",
      "On Mac\n",
      "Static_factor 2000\n",
      "MTD Scheme [<class 'mtdnetwork.mtd.completetopologyshuffle.CompleteTopologyShuffle'>, <class 'mtdnetwork.mtd.ipshuffle.IPShuffle'>, <class 'mtdnetwork.mtd.osdiversity.OSDiversity'>, <class 'mtdnetwork.mtd.servicediversity.ServiceDiversity'>]\n",
      "Action size(include zero which is no deployment) 5\n"
     ]
    },
    {
     "name": "stderr",
     "output_type": "stream",
     "text": [
      "Compiled the loaded model, but the compiled metrics have yet to be built. `model.compile_metrics` will be empty until you train or evaluate the model.\n"
     ]
    },
    {
     "name": "stdout",
     "output_type": "stream",
     "text": [
      "mtd_ai\n",
      "Trial_ 63\n",
      "all_features\n",
      "On Mac\n",
      "Static_factor 2000\n",
      "MTD Scheme [<class 'mtdnetwork.mtd.completetopologyshuffle.CompleteTopologyShuffle'>, <class 'mtdnetwork.mtd.ipshuffle.IPShuffle'>, <class 'mtdnetwork.mtd.osdiversity.OSDiversity'>, <class 'mtdnetwork.mtd.servicediversity.ServiceDiversity'>]\n",
      "Action size(include zero which is no deployment) 5\n"
     ]
    },
    {
     "name": "stderr",
     "output_type": "stream",
     "text": [
      "Compiled the loaded model, but the compiled metrics have yet to be built. `model.compile_metrics` will be empty until you train or evaluate the model.\n"
     ]
    },
    {
     "name": "stdout",
     "output_type": "stream",
     "text": [
      "mtd_ai\n",
      "Trial_ 64\n",
      "all_features\n",
      "On Mac\n",
      "Static_factor 2000\n",
      "MTD Scheme [<class 'mtdnetwork.mtd.completetopologyshuffle.CompleteTopologyShuffle'>, <class 'mtdnetwork.mtd.ipshuffle.IPShuffle'>, <class 'mtdnetwork.mtd.osdiversity.OSDiversity'>, <class 'mtdnetwork.mtd.servicediversity.ServiceDiversity'>]\n",
      "Action size(include zero which is no deployment) 5\n"
     ]
    },
    {
     "name": "stderr",
     "output_type": "stream",
     "text": [
      "Compiled the loaded model, but the compiled metrics have yet to be built. `model.compile_metrics` will be empty until you train or evaluate the model.\n"
     ]
    },
    {
     "name": "stdout",
     "output_type": "stream",
     "text": [
      "mtd_ai\n",
      "Trial_ 65\n",
      "all_features\n",
      "On Mac\n",
      "Static_factor 2000\n",
      "MTD Scheme [<class 'mtdnetwork.mtd.completetopologyshuffle.CompleteTopologyShuffle'>, <class 'mtdnetwork.mtd.ipshuffle.IPShuffle'>, <class 'mtdnetwork.mtd.osdiversity.OSDiversity'>, <class 'mtdnetwork.mtd.servicediversity.ServiceDiversity'>]\n",
      "Action size(include zero which is no deployment) 5\n"
     ]
    },
    {
     "name": "stderr",
     "output_type": "stream",
     "text": [
      "Compiled the loaded model, but the compiled metrics have yet to be built. `model.compile_metrics` will be empty until you train or evaluate the model.\n"
     ]
    },
    {
     "name": "stdout",
     "output_type": "stream",
     "text": [
      "mtd_ai\n",
      "Trial_ 66\n",
      "all_features\n",
      "On Mac\n",
      "Static_factor 2000\n",
      "MTD Scheme [<class 'mtdnetwork.mtd.completetopologyshuffle.CompleteTopologyShuffle'>, <class 'mtdnetwork.mtd.ipshuffle.IPShuffle'>, <class 'mtdnetwork.mtd.osdiversity.OSDiversity'>, <class 'mtdnetwork.mtd.servicediversity.ServiceDiversity'>]\n",
      "Action size(include zero which is no deployment) 5\n"
     ]
    },
    {
     "name": "stderr",
     "output_type": "stream",
     "text": [
      "Compiled the loaded model, but the compiled metrics have yet to be built. `model.compile_metrics` will be empty until you train or evaluate the model.\n"
     ]
    },
    {
     "name": "stdout",
     "output_type": "stream",
     "text": [
      "mtd_ai\n",
      "Trial_ 67\n",
      "all_features\n",
      "On Mac\n",
      "Static_factor 2000\n",
      "MTD Scheme [<class 'mtdnetwork.mtd.completetopologyshuffle.CompleteTopologyShuffle'>, <class 'mtdnetwork.mtd.ipshuffle.IPShuffle'>, <class 'mtdnetwork.mtd.osdiversity.OSDiversity'>, <class 'mtdnetwork.mtd.servicediversity.ServiceDiversity'>]\n",
      "Action size(include zero which is no deployment) 5\n"
     ]
    },
    {
     "name": "stderr",
     "output_type": "stream",
     "text": [
      "Compiled the loaded model, but the compiled metrics have yet to be built. `model.compile_metrics` will be empty until you train or evaluate the model.\n"
     ]
    },
    {
     "name": "stdout",
     "output_type": "stream",
     "text": [
      "mtd_ai\n",
      "Trial_ 68\n",
      "all_features\n",
      "On Mac\n",
      "Static_factor 2000\n",
      "MTD Scheme [<class 'mtdnetwork.mtd.completetopologyshuffle.CompleteTopologyShuffle'>, <class 'mtdnetwork.mtd.ipshuffle.IPShuffle'>, <class 'mtdnetwork.mtd.osdiversity.OSDiversity'>, <class 'mtdnetwork.mtd.servicediversity.ServiceDiversity'>]\n",
      "Action size(include zero which is no deployment) 5\n"
     ]
    },
    {
     "name": "stderr",
     "output_type": "stream",
     "text": [
      "Compiled the loaded model, but the compiled metrics have yet to be built. `model.compile_metrics` will be empty until you train or evaluate the model.\n"
     ]
    },
    {
     "name": "stdout",
     "output_type": "stream",
     "text": [
      "mtd_ai\n",
      "Trial_ 69\n",
      "all_features\n",
      "On Mac\n",
      "Static_factor 2000\n",
      "MTD Scheme [<class 'mtdnetwork.mtd.completetopologyshuffle.CompleteTopologyShuffle'>, <class 'mtdnetwork.mtd.ipshuffle.IPShuffle'>, <class 'mtdnetwork.mtd.osdiversity.OSDiversity'>, <class 'mtdnetwork.mtd.servicediversity.ServiceDiversity'>]\n",
      "Action size(include zero which is no deployment) 5\n"
     ]
    },
    {
     "name": "stderr",
     "output_type": "stream",
     "text": [
      "Compiled the loaded model, but the compiled metrics have yet to be built. `model.compile_metrics` will be empty until you train or evaluate the model.\n"
     ]
    },
    {
     "name": "stdout",
     "output_type": "stream",
     "text": [
      "mtd_ai\n",
      "Trial_ 70\n",
      "all_features\n",
      "On Mac\n",
      "Static_factor 2000\n",
      "MTD Scheme [<class 'mtdnetwork.mtd.completetopologyshuffle.CompleteTopologyShuffle'>, <class 'mtdnetwork.mtd.ipshuffle.IPShuffle'>, <class 'mtdnetwork.mtd.osdiversity.OSDiversity'>, <class 'mtdnetwork.mtd.servicediversity.ServiceDiversity'>]\n",
      "Action size(include zero which is no deployment) 5\n"
     ]
    },
    {
     "name": "stderr",
     "output_type": "stream",
     "text": [
      "Compiled the loaded model, but the compiled metrics have yet to be built. `model.compile_metrics` will be empty until you train or evaluate the model.\n"
     ]
    },
    {
     "name": "stdout",
     "output_type": "stream",
     "text": [
      "mtd_ai\n",
      "Trial_ 71\n",
      "all_features\n",
      "On Mac\n",
      "Static_factor 2000\n",
      "MTD Scheme [<class 'mtdnetwork.mtd.completetopologyshuffle.CompleteTopologyShuffle'>, <class 'mtdnetwork.mtd.ipshuffle.IPShuffle'>, <class 'mtdnetwork.mtd.osdiversity.OSDiversity'>, <class 'mtdnetwork.mtd.servicediversity.ServiceDiversity'>]\n",
      "Action size(include zero which is no deployment) 5\n"
     ]
    },
    {
     "name": "stderr",
     "output_type": "stream",
     "text": [
      "Compiled the loaded model, but the compiled metrics have yet to be built. `model.compile_metrics` will be empty until you train or evaluate the model.\n"
     ]
    },
    {
     "name": "stdout",
     "output_type": "stream",
     "text": [
      "mtd_ai\n",
      "Trial_ 72\n",
      "all_features\n",
      "On Mac\n",
      "Static_factor 2000\n",
      "MTD Scheme [<class 'mtdnetwork.mtd.completetopologyshuffle.CompleteTopologyShuffle'>, <class 'mtdnetwork.mtd.ipshuffle.IPShuffle'>, <class 'mtdnetwork.mtd.osdiversity.OSDiversity'>, <class 'mtdnetwork.mtd.servicediversity.ServiceDiversity'>]\n",
      "Action size(include zero which is no deployment) 5\n"
     ]
    },
    {
     "name": "stderr",
     "output_type": "stream",
     "text": [
      "Compiled the loaded model, but the compiled metrics have yet to be built. `model.compile_metrics` will be empty until you train or evaluate the model.\n"
     ]
    },
    {
     "name": "stdout",
     "output_type": "stream",
     "text": [
      "mtd_ai\n",
      "Trial_ 73\n",
      "all_features\n",
      "On Mac\n",
      "Static_factor 2000\n",
      "MTD Scheme [<class 'mtdnetwork.mtd.completetopologyshuffle.CompleteTopologyShuffle'>, <class 'mtdnetwork.mtd.ipshuffle.IPShuffle'>, <class 'mtdnetwork.mtd.osdiversity.OSDiversity'>, <class 'mtdnetwork.mtd.servicediversity.ServiceDiversity'>]\n",
      "Action size(include zero which is no deployment) 5\n"
     ]
    },
    {
     "name": "stderr",
     "output_type": "stream",
     "text": [
      "Compiled the loaded model, but the compiled metrics have yet to be built. `model.compile_metrics` will be empty until you train or evaluate the model.\n"
     ]
    },
    {
     "name": "stdout",
     "output_type": "stream",
     "text": [
      "mtd_ai\n",
      "Trial_ 74\n",
      "all_features\n",
      "On Mac\n",
      "Static_factor 2000\n",
      "MTD Scheme [<class 'mtdnetwork.mtd.completetopologyshuffle.CompleteTopologyShuffle'>, <class 'mtdnetwork.mtd.ipshuffle.IPShuffle'>, <class 'mtdnetwork.mtd.osdiversity.OSDiversity'>, <class 'mtdnetwork.mtd.servicediversity.ServiceDiversity'>]\n",
      "Action size(include zero which is no deployment) 5\n"
     ]
    },
    {
     "name": "stderr",
     "output_type": "stream",
     "text": [
      "Compiled the loaded model, but the compiled metrics have yet to be built. `model.compile_metrics` will be empty until you train or evaluate the model.\n"
     ]
    },
    {
     "name": "stdout",
     "output_type": "stream",
     "text": [
      "mtd_ai\n",
      "Trial_ 75\n",
      "all_features\n",
      "On Mac\n",
      "Static_factor 2000\n",
      "MTD Scheme [<class 'mtdnetwork.mtd.completetopologyshuffle.CompleteTopologyShuffle'>, <class 'mtdnetwork.mtd.ipshuffle.IPShuffle'>, <class 'mtdnetwork.mtd.osdiversity.OSDiversity'>, <class 'mtdnetwork.mtd.servicediversity.ServiceDiversity'>]\n",
      "Action size(include zero which is no deployment) 5\n"
     ]
    },
    {
     "name": "stderr",
     "output_type": "stream",
     "text": [
      "Compiled the loaded model, but the compiled metrics have yet to be built. `model.compile_metrics` will be empty until you train or evaluate the model.\n"
     ]
    },
    {
     "name": "stdout",
     "output_type": "stream",
     "text": [
      "mtd_ai\n",
      "Trial_ 76\n",
      "all_features\n",
      "On Mac\n",
      "Static_factor 2000\n",
      "MTD Scheme [<class 'mtdnetwork.mtd.completetopologyshuffle.CompleteTopologyShuffle'>, <class 'mtdnetwork.mtd.ipshuffle.IPShuffle'>, <class 'mtdnetwork.mtd.osdiversity.OSDiversity'>, <class 'mtdnetwork.mtd.servicediversity.ServiceDiversity'>]\n",
      "Action size(include zero which is no deployment) 5\n"
     ]
    },
    {
     "name": "stderr",
     "output_type": "stream",
     "text": [
      "Compiled the loaded model, but the compiled metrics have yet to be built. `model.compile_metrics` will be empty until you train or evaluate the model.\n"
     ]
    },
    {
     "name": "stdout",
     "output_type": "stream",
     "text": [
      "mtd_ai\n",
      "Trial_ 77\n",
      "all_features\n",
      "On Mac\n",
      "Static_factor 2000\n",
      "MTD Scheme [<class 'mtdnetwork.mtd.completetopologyshuffle.CompleteTopologyShuffle'>, <class 'mtdnetwork.mtd.ipshuffle.IPShuffle'>, <class 'mtdnetwork.mtd.osdiversity.OSDiversity'>, <class 'mtdnetwork.mtd.servicediversity.ServiceDiversity'>]\n",
      "Action size(include zero which is no deployment) 5\n"
     ]
    },
    {
     "name": "stderr",
     "output_type": "stream",
     "text": [
      "Compiled the loaded model, but the compiled metrics have yet to be built. `model.compile_metrics` will be empty until you train or evaluate the model.\n"
     ]
    },
    {
     "name": "stdout",
     "output_type": "stream",
     "text": [
      "mtd_ai\n",
      "Trial_ 78\n",
      "all_features\n",
      "On Mac\n",
      "Static_factor 2000\n",
      "MTD Scheme [<class 'mtdnetwork.mtd.completetopologyshuffle.CompleteTopologyShuffle'>, <class 'mtdnetwork.mtd.ipshuffle.IPShuffle'>, <class 'mtdnetwork.mtd.osdiversity.OSDiversity'>, <class 'mtdnetwork.mtd.servicediversity.ServiceDiversity'>]\n",
      "Action size(include zero which is no deployment) 5\n"
     ]
    },
    {
     "name": "stderr",
     "output_type": "stream",
     "text": [
      "Compiled the loaded model, but the compiled metrics have yet to be built. `model.compile_metrics` will be empty until you train or evaluate the model.\n"
     ]
    },
    {
     "name": "stdout",
     "output_type": "stream",
     "text": [
      "mtd_ai\n",
      "Trial_ 79\n",
      "all_features\n",
      "On Mac\n",
      "Static_factor 2000\n",
      "MTD Scheme [<class 'mtdnetwork.mtd.completetopologyshuffle.CompleteTopologyShuffle'>, <class 'mtdnetwork.mtd.ipshuffle.IPShuffle'>, <class 'mtdnetwork.mtd.osdiversity.OSDiversity'>, <class 'mtdnetwork.mtd.servicediversity.ServiceDiversity'>]\n",
      "Action size(include zero which is no deployment) 5\n"
     ]
    },
    {
     "name": "stderr",
     "output_type": "stream",
     "text": [
      "Compiled the loaded model, but the compiled metrics have yet to be built. `model.compile_metrics` will be empty until you train or evaluate the model.\n"
     ]
    },
    {
     "name": "stdout",
     "output_type": "stream",
     "text": [
      "mtd_ai\n",
      "Trial_ 80\n",
      "all_features\n",
      "On Mac\n",
      "Static_factor 2000\n",
      "MTD Scheme [<class 'mtdnetwork.mtd.completetopologyshuffle.CompleteTopologyShuffle'>, <class 'mtdnetwork.mtd.ipshuffle.IPShuffle'>, <class 'mtdnetwork.mtd.osdiversity.OSDiversity'>, <class 'mtdnetwork.mtd.servicediversity.ServiceDiversity'>]\n",
      "Action size(include zero which is no deployment) 5\n"
     ]
    },
    {
     "name": "stderr",
     "output_type": "stream",
     "text": [
      "Compiled the loaded model, but the compiled metrics have yet to be built. `model.compile_metrics` will be empty until you train or evaluate the model.\n"
     ]
    },
    {
     "name": "stdout",
     "output_type": "stream",
     "text": [
      "mtd_ai\n",
      "Trial_ 81\n",
      "all_features\n",
      "On Mac\n",
      "Static_factor 2000\n",
      "MTD Scheme [<class 'mtdnetwork.mtd.completetopologyshuffle.CompleteTopologyShuffle'>, <class 'mtdnetwork.mtd.ipshuffle.IPShuffle'>, <class 'mtdnetwork.mtd.osdiversity.OSDiversity'>, <class 'mtdnetwork.mtd.servicediversity.ServiceDiversity'>]\n",
      "Action size(include zero which is no deployment) 5\n"
     ]
    },
    {
     "name": "stderr",
     "output_type": "stream",
     "text": [
      "Compiled the loaded model, but the compiled metrics have yet to be built. `model.compile_metrics` will be empty until you train or evaluate the model.\n"
     ]
    },
    {
     "name": "stdout",
     "output_type": "stream",
     "text": [
      "mtd_ai\n",
      "Trial_ 82\n",
      "all_features\n",
      "On Mac\n",
      "Static_factor 2000\n",
      "MTD Scheme [<class 'mtdnetwork.mtd.completetopologyshuffle.CompleteTopologyShuffle'>, <class 'mtdnetwork.mtd.ipshuffle.IPShuffle'>, <class 'mtdnetwork.mtd.osdiversity.OSDiversity'>, <class 'mtdnetwork.mtd.servicediversity.ServiceDiversity'>]\n",
      "Action size(include zero which is no deployment) 5\n"
     ]
    },
    {
     "name": "stderr",
     "output_type": "stream",
     "text": [
      "Compiled the loaded model, but the compiled metrics have yet to be built. `model.compile_metrics` will be empty until you train or evaluate the model.\n"
     ]
    },
    {
     "name": "stdout",
     "output_type": "stream",
     "text": [
      "mtd_ai\n",
      "Trial_ 83\n",
      "all_features\n",
      "On Mac\n",
      "Static_factor 2000\n",
      "MTD Scheme [<class 'mtdnetwork.mtd.completetopologyshuffle.CompleteTopologyShuffle'>, <class 'mtdnetwork.mtd.ipshuffle.IPShuffle'>, <class 'mtdnetwork.mtd.osdiversity.OSDiversity'>, <class 'mtdnetwork.mtd.servicediversity.ServiceDiversity'>]\n",
      "Action size(include zero which is no deployment) 5\n"
     ]
    },
    {
     "name": "stderr",
     "output_type": "stream",
     "text": [
      "Compiled the loaded model, but the compiled metrics have yet to be built. `model.compile_metrics` will be empty until you train or evaluate the model.\n"
     ]
    },
    {
     "name": "stdout",
     "output_type": "stream",
     "text": [
      "mtd_ai\n",
      "Trial_ 84\n",
      "all_features\n",
      "On Mac\n",
      "Static_factor 2000\n",
      "MTD Scheme [<class 'mtdnetwork.mtd.completetopologyshuffle.CompleteTopologyShuffle'>, <class 'mtdnetwork.mtd.ipshuffle.IPShuffle'>, <class 'mtdnetwork.mtd.osdiversity.OSDiversity'>, <class 'mtdnetwork.mtd.servicediversity.ServiceDiversity'>]\n",
      "Action size(include zero which is no deployment) 5\n"
     ]
    },
    {
     "name": "stderr",
     "output_type": "stream",
     "text": [
      "Compiled the loaded model, but the compiled metrics have yet to be built. `model.compile_metrics` will be empty until you train or evaluate the model.\n"
     ]
    },
    {
     "name": "stdout",
     "output_type": "stream",
     "text": [
      "mtd_ai\n",
      "Trial_ 85\n",
      "all_features\n",
      "On Mac\n",
      "Static_factor 2000\n",
      "MTD Scheme [<class 'mtdnetwork.mtd.completetopologyshuffle.CompleteTopologyShuffle'>, <class 'mtdnetwork.mtd.ipshuffle.IPShuffle'>, <class 'mtdnetwork.mtd.osdiversity.OSDiversity'>, <class 'mtdnetwork.mtd.servicediversity.ServiceDiversity'>]\n",
      "Action size(include zero which is no deployment) 5\n"
     ]
    },
    {
     "name": "stderr",
     "output_type": "stream",
     "text": [
      "Compiled the loaded model, but the compiled metrics have yet to be built. `model.compile_metrics` will be empty until you train or evaluate the model.\n"
     ]
    },
    {
     "name": "stdout",
     "output_type": "stream",
     "text": [
      "mtd_ai\n",
      "Trial_ 86\n",
      "all_features\n",
      "On Mac\n",
      "Static_factor 2000\n",
      "MTD Scheme [<class 'mtdnetwork.mtd.completetopologyshuffle.CompleteTopologyShuffle'>, <class 'mtdnetwork.mtd.ipshuffle.IPShuffle'>, <class 'mtdnetwork.mtd.osdiversity.OSDiversity'>, <class 'mtdnetwork.mtd.servicediversity.ServiceDiversity'>]\n",
      "Action size(include zero which is no deployment) 5\n"
     ]
    },
    {
     "name": "stderr",
     "output_type": "stream",
     "text": [
      "Compiled the loaded model, but the compiled metrics have yet to be built. `model.compile_metrics` will be empty until you train or evaluate the model.\n"
     ]
    },
    {
     "name": "stdout",
     "output_type": "stream",
     "text": [
      "mtd_ai\n",
      "Trial_ 87\n",
      "all_features\n",
      "On Mac\n",
      "Static_factor 2000\n",
      "MTD Scheme [<class 'mtdnetwork.mtd.completetopologyshuffle.CompleteTopologyShuffle'>, <class 'mtdnetwork.mtd.ipshuffle.IPShuffle'>, <class 'mtdnetwork.mtd.osdiversity.OSDiversity'>, <class 'mtdnetwork.mtd.servicediversity.ServiceDiversity'>]\n",
      "Action size(include zero which is no deployment) 5\n"
     ]
    },
    {
     "name": "stderr",
     "output_type": "stream",
     "text": [
      "Compiled the loaded model, but the compiled metrics have yet to be built. `model.compile_metrics` will be empty until you train or evaluate the model.\n"
     ]
    },
    {
     "name": "stdout",
     "output_type": "stream",
     "text": [
      "mtd_ai\n",
      "Trial_ 88\n",
      "all_features\n",
      "On Mac\n",
      "Static_factor 2000\n",
      "MTD Scheme [<class 'mtdnetwork.mtd.completetopologyshuffle.CompleteTopologyShuffle'>, <class 'mtdnetwork.mtd.ipshuffle.IPShuffle'>, <class 'mtdnetwork.mtd.osdiversity.OSDiversity'>, <class 'mtdnetwork.mtd.servicediversity.ServiceDiversity'>]\n",
      "Action size(include zero which is no deployment) 5\n"
     ]
    },
    {
     "name": "stderr",
     "output_type": "stream",
     "text": [
      "Compiled the loaded model, but the compiled metrics have yet to be built. `model.compile_metrics` will be empty until you train or evaluate the model.\n"
     ]
    },
    {
     "name": "stdout",
     "output_type": "stream",
     "text": [
      "mtd_ai\n",
      "Trial_ 89\n",
      "all_features\n",
      "On Mac\n",
      "Static_factor 2000\n",
      "MTD Scheme [<class 'mtdnetwork.mtd.completetopologyshuffle.CompleteTopologyShuffle'>, <class 'mtdnetwork.mtd.ipshuffle.IPShuffle'>, <class 'mtdnetwork.mtd.osdiversity.OSDiversity'>, <class 'mtdnetwork.mtd.servicediversity.ServiceDiversity'>]\n",
      "Action size(include zero which is no deployment) 5\n"
     ]
    },
    {
     "name": "stderr",
     "output_type": "stream",
     "text": [
      "Compiled the loaded model, but the compiled metrics have yet to be built. `model.compile_metrics` will be empty until you train or evaluate the model.\n"
     ]
    },
    {
     "name": "stdout",
     "output_type": "stream",
     "text": [
      "mtd_ai\n",
      "Trial_ 90\n",
      "all_features\n",
      "On Mac\n",
      "Static_factor 2000\n",
      "MTD Scheme [<class 'mtdnetwork.mtd.completetopologyshuffle.CompleteTopologyShuffle'>, <class 'mtdnetwork.mtd.ipshuffle.IPShuffle'>, <class 'mtdnetwork.mtd.osdiversity.OSDiversity'>, <class 'mtdnetwork.mtd.servicediversity.ServiceDiversity'>]\n",
      "Action size(include zero which is no deployment) 5\n"
     ]
    },
    {
     "name": "stderr",
     "output_type": "stream",
     "text": [
      "Compiled the loaded model, but the compiled metrics have yet to be built. `model.compile_metrics` will be empty until you train or evaluate the model.\n"
     ]
    },
    {
     "name": "stdout",
     "output_type": "stream",
     "text": [
      "mtd_ai\n",
      "Trial_ 91\n",
      "all_features\n",
      "On Mac\n",
      "Static_factor 2000\n",
      "MTD Scheme [<class 'mtdnetwork.mtd.completetopologyshuffle.CompleteTopologyShuffle'>, <class 'mtdnetwork.mtd.ipshuffle.IPShuffle'>, <class 'mtdnetwork.mtd.osdiversity.OSDiversity'>, <class 'mtdnetwork.mtd.servicediversity.ServiceDiversity'>]\n",
      "Action size(include zero which is no deployment) 5\n"
     ]
    },
    {
     "name": "stderr",
     "output_type": "stream",
     "text": [
      "Compiled the loaded model, but the compiled metrics have yet to be built. `model.compile_metrics` will be empty until you train or evaluate the model.\n"
     ]
    },
    {
     "name": "stdout",
     "output_type": "stream",
     "text": [
      "mtd_ai\n",
      "Trial_ 92\n",
      "all_features\n",
      "On Mac\n",
      "Static_factor 2000\n",
      "MTD Scheme [<class 'mtdnetwork.mtd.completetopologyshuffle.CompleteTopologyShuffle'>, <class 'mtdnetwork.mtd.ipshuffle.IPShuffle'>, <class 'mtdnetwork.mtd.osdiversity.OSDiversity'>, <class 'mtdnetwork.mtd.servicediversity.ServiceDiversity'>]\n",
      "Action size(include zero which is no deployment) 5\n"
     ]
    },
    {
     "name": "stderr",
     "output_type": "stream",
     "text": [
      "Compiled the loaded model, but the compiled metrics have yet to be built. `model.compile_metrics` will be empty until you train or evaluate the model.\n"
     ]
    },
    {
     "name": "stdout",
     "output_type": "stream",
     "text": [
      "mtd_ai\n",
      "Trial_ 93\n",
      "all_features\n",
      "On Mac\n",
      "Static_factor 2000\n",
      "MTD Scheme [<class 'mtdnetwork.mtd.completetopologyshuffle.CompleteTopologyShuffle'>, <class 'mtdnetwork.mtd.ipshuffle.IPShuffle'>, <class 'mtdnetwork.mtd.osdiversity.OSDiversity'>, <class 'mtdnetwork.mtd.servicediversity.ServiceDiversity'>]\n",
      "Action size(include zero which is no deployment) 5\n"
     ]
    },
    {
     "name": "stderr",
     "output_type": "stream",
     "text": [
      "Compiled the loaded model, but the compiled metrics have yet to be built. `model.compile_metrics` will be empty until you train or evaluate the model.\n"
     ]
    },
    {
     "name": "stdout",
     "output_type": "stream",
     "text": [
      "mtd_ai\n",
      "Trial_ 94\n",
      "all_features\n",
      "On Mac\n",
      "Static_factor 2000\n",
      "MTD Scheme [<class 'mtdnetwork.mtd.completetopologyshuffle.CompleteTopologyShuffle'>, <class 'mtdnetwork.mtd.ipshuffle.IPShuffle'>, <class 'mtdnetwork.mtd.osdiversity.OSDiversity'>, <class 'mtdnetwork.mtd.servicediversity.ServiceDiversity'>]\n",
      "Action size(include zero which is no deployment) 5\n"
     ]
    },
    {
     "name": "stderr",
     "output_type": "stream",
     "text": [
      "Compiled the loaded model, but the compiled metrics have yet to be built. `model.compile_metrics` will be empty until you train or evaluate the model.\n"
     ]
    },
    {
     "name": "stdout",
     "output_type": "stream",
     "text": [
      "mtd_ai\n",
      "Trial_ 95\n",
      "all_features\n",
      "On Mac\n",
      "Static_factor 2000\n",
      "MTD Scheme [<class 'mtdnetwork.mtd.completetopologyshuffle.CompleteTopologyShuffle'>, <class 'mtdnetwork.mtd.ipshuffle.IPShuffle'>, <class 'mtdnetwork.mtd.osdiversity.OSDiversity'>, <class 'mtdnetwork.mtd.servicediversity.ServiceDiversity'>]\n",
      "Action size(include zero which is no deployment) 5\n"
     ]
    },
    {
     "name": "stderr",
     "output_type": "stream",
     "text": [
      "Compiled the loaded model, but the compiled metrics have yet to be built. `model.compile_metrics` will be empty until you train or evaluate the model.\n"
     ]
    },
    {
     "name": "stdout",
     "output_type": "stream",
     "text": [
      "mtd_ai\n",
      "Trial_ 96\n",
      "all_features\n",
      "On Mac\n",
      "Static_factor 2000\n",
      "MTD Scheme [<class 'mtdnetwork.mtd.completetopologyshuffle.CompleteTopologyShuffle'>, <class 'mtdnetwork.mtd.ipshuffle.IPShuffle'>, <class 'mtdnetwork.mtd.osdiversity.OSDiversity'>, <class 'mtdnetwork.mtd.servicediversity.ServiceDiversity'>]\n",
      "Action size(include zero which is no deployment) 5\n"
     ]
    },
    {
     "name": "stderr",
     "output_type": "stream",
     "text": [
      "Compiled the loaded model, but the compiled metrics have yet to be built. `model.compile_metrics` will be empty until you train or evaluate the model.\n"
     ]
    },
    {
     "name": "stdout",
     "output_type": "stream",
     "text": [
      "mtd_ai\n",
      "Trial_ 97\n",
      "all_features\n",
      "On Mac\n",
      "Static_factor 2000\n",
      "MTD Scheme [<class 'mtdnetwork.mtd.completetopologyshuffle.CompleteTopologyShuffle'>, <class 'mtdnetwork.mtd.ipshuffle.IPShuffle'>, <class 'mtdnetwork.mtd.osdiversity.OSDiversity'>, <class 'mtdnetwork.mtd.servicediversity.ServiceDiversity'>]\n",
      "Action size(include zero which is no deployment) 5\n"
     ]
    },
    {
     "name": "stderr",
     "output_type": "stream",
     "text": [
      "Compiled the loaded model, but the compiled metrics have yet to be built. `model.compile_metrics` will be empty until you train or evaluate the model.\n"
     ]
    },
    {
     "name": "stdout",
     "output_type": "stream",
     "text": [
      "mtd_ai\n",
      "Trial_ 98\n",
      "all_features\n",
      "On Mac\n",
      "Static_factor 2000\n",
      "MTD Scheme [<class 'mtdnetwork.mtd.completetopologyshuffle.CompleteTopologyShuffle'>, <class 'mtdnetwork.mtd.ipshuffle.IPShuffle'>, <class 'mtdnetwork.mtd.osdiversity.OSDiversity'>, <class 'mtdnetwork.mtd.servicediversity.ServiceDiversity'>]\n",
      "Action size(include zero which is no deployment) 5\n"
     ]
    },
    {
     "name": "stderr",
     "output_type": "stream",
     "text": [
      "Compiled the loaded model, but the compiled metrics have yet to be built. `model.compile_metrics` will be empty until you train or evaluate the model.\n"
     ]
    },
    {
     "name": "stdout",
     "output_type": "stream",
     "text": [
      "mtd_ai\n",
      "Trial_ 99\n",
      "all_features\n",
      "On Mac\n",
      "Static_factor 2000\n",
      "MTD Scheme [<class 'mtdnetwork.mtd.completetopologyshuffle.CompleteTopologyShuffle'>, <class 'mtdnetwork.mtd.ipshuffle.IPShuffle'>, <class 'mtdnetwork.mtd.osdiversity.OSDiversity'>, <class 'mtdnetwork.mtd.servicediversity.ServiceDiversity'>]\n",
      "Action size(include zero which is no deployment) 5\n"
     ]
    },
    {
     "name": "stderr",
     "output_type": "stream",
     "text": [
      "Compiled the loaded model, but the compiled metrics have yet to be built. `model.compile_metrics` will be empty until you train or evaluate the model.\n"
     ]
    },
    {
     "name": "stdout",
     "output_type": "stream",
     "text": [
      "mtd_ai\n",
      "Trial_ 100\n",
      "all_features\n",
      "On Mac\n",
      "Static_factor 2000\n",
      "MTD Scheme [<class 'mtdnetwork.mtd.completetopologyshuffle.CompleteTopologyShuffle'>, <class 'mtdnetwork.mtd.ipshuffle.IPShuffle'>, <class 'mtdnetwork.mtd.osdiversity.OSDiversity'>, <class 'mtdnetwork.mtd.servicediversity.ServiceDiversity'>]\n",
      "Action size(include zero which is no deployment) 5\n"
     ]
    },
    {
     "name": "stderr",
     "output_type": "stream",
     "text": [
      "Compiled the loaded model, but the compiled metrics have yet to be built. `model.compile_metrics` will be empty until you train or evaluate the model.\n"
     ]
    },
    {
     "name": "stdout",
     "output_type": "stream",
     "text": [
      "mtd_ai\n",
      "Trial_ 101\n",
      "all_features\n",
      "On Mac\n",
      "Static_factor 2000\n",
      "MTD Scheme [<class 'mtdnetwork.mtd.completetopologyshuffle.CompleteTopologyShuffle'>, <class 'mtdnetwork.mtd.ipshuffle.IPShuffle'>, <class 'mtdnetwork.mtd.osdiversity.OSDiversity'>, <class 'mtdnetwork.mtd.servicediversity.ServiceDiversity'>]\n",
      "Action size(include zero which is no deployment) 5\n"
     ]
    },
    {
     "name": "stderr",
     "output_type": "stream",
     "text": [
      "Compiled the loaded model, but the compiled metrics have yet to be built. `model.compile_metrics` will be empty until you train or evaluate the model.\n"
     ]
    },
    {
     "name": "stdout",
     "output_type": "stream",
     "text": [
      "mtd_ai\n",
      "Trial_ 102\n",
      "all_features\n",
      "On Mac\n",
      "Static_factor 2000\n",
      "MTD Scheme [<class 'mtdnetwork.mtd.completetopologyshuffle.CompleteTopologyShuffle'>, <class 'mtdnetwork.mtd.ipshuffle.IPShuffle'>, <class 'mtdnetwork.mtd.osdiversity.OSDiversity'>, <class 'mtdnetwork.mtd.servicediversity.ServiceDiversity'>]\n",
      "Action size(include zero which is no deployment) 5\n"
     ]
    },
    {
     "name": "stderr",
     "output_type": "stream",
     "text": [
      "Compiled the loaded model, but the compiled metrics have yet to be built. `model.compile_metrics` will be empty until you train or evaluate the model.\n"
     ]
    },
    {
     "name": "stdout",
     "output_type": "stream",
     "text": [
      "mtd_ai\n",
      "Trial_ 103\n",
      "all_features\n",
      "On Mac\n",
      "Static_factor 2000\n",
      "MTD Scheme [<class 'mtdnetwork.mtd.completetopologyshuffle.CompleteTopologyShuffle'>, <class 'mtdnetwork.mtd.ipshuffle.IPShuffle'>, <class 'mtdnetwork.mtd.osdiversity.OSDiversity'>, <class 'mtdnetwork.mtd.servicediversity.ServiceDiversity'>]\n",
      "Action size(include zero which is no deployment) 5\n"
     ]
    },
    {
     "name": "stderr",
     "output_type": "stream",
     "text": [
      "Compiled the loaded model, but the compiled metrics have yet to be built. `model.compile_metrics` will be empty until you train or evaluate the model.\n"
     ]
    },
    {
     "name": "stdout",
     "output_type": "stream",
     "text": [
      "mtd_ai\n",
      "Trial_ 104\n",
      "all_features\n",
      "On Mac\n",
      "Static_factor 2000\n",
      "MTD Scheme [<class 'mtdnetwork.mtd.completetopologyshuffle.CompleteTopologyShuffle'>, <class 'mtdnetwork.mtd.ipshuffle.IPShuffle'>, <class 'mtdnetwork.mtd.osdiversity.OSDiversity'>, <class 'mtdnetwork.mtd.servicediversity.ServiceDiversity'>]\n",
      "Action size(include zero which is no deployment) 5\n"
     ]
    },
    {
     "name": "stderr",
     "output_type": "stream",
     "text": [
      "Compiled the loaded model, but the compiled metrics have yet to be built. `model.compile_metrics` will be empty until you train or evaluate the model.\n"
     ]
    },
    {
     "name": "stdout",
     "output_type": "stream",
     "text": [
      "mtd_ai\n",
      "Trial_ 105\n",
      "all_features\n",
      "On Mac\n",
      "Static_factor 2000\n",
      "MTD Scheme [<class 'mtdnetwork.mtd.completetopologyshuffle.CompleteTopologyShuffle'>, <class 'mtdnetwork.mtd.ipshuffle.IPShuffle'>, <class 'mtdnetwork.mtd.osdiversity.OSDiversity'>, <class 'mtdnetwork.mtd.servicediversity.ServiceDiversity'>]\n",
      "Action size(include zero which is no deployment) 5\n"
     ]
    },
    {
     "name": "stderr",
     "output_type": "stream",
     "text": [
      "Compiled the loaded model, but the compiled metrics have yet to be built. `model.compile_metrics` will be empty until you train or evaluate the model.\n"
     ]
    },
    {
     "name": "stdout",
     "output_type": "stream",
     "text": [
      "mtd_ai\n",
      "Trial_ 106\n",
      "all_features\n",
      "On Mac\n",
      "Static_factor 2000\n",
      "MTD Scheme [<class 'mtdnetwork.mtd.completetopologyshuffle.CompleteTopologyShuffle'>, <class 'mtdnetwork.mtd.ipshuffle.IPShuffle'>, <class 'mtdnetwork.mtd.osdiversity.OSDiversity'>, <class 'mtdnetwork.mtd.servicediversity.ServiceDiversity'>]\n",
      "Action size(include zero which is no deployment) 5\n"
     ]
    },
    {
     "name": "stderr",
     "output_type": "stream",
     "text": [
      "Compiled the loaded model, but the compiled metrics have yet to be built. `model.compile_metrics` will be empty until you train or evaluate the model.\n"
     ]
    },
    {
     "name": "stdout",
     "output_type": "stream",
     "text": [
      "mtd_ai\n",
      "Trial_ 107\n",
      "all_features\n",
      "On Mac\n",
      "Static_factor 2000\n",
      "MTD Scheme [<class 'mtdnetwork.mtd.completetopologyshuffle.CompleteTopologyShuffle'>, <class 'mtdnetwork.mtd.ipshuffle.IPShuffle'>, <class 'mtdnetwork.mtd.osdiversity.OSDiversity'>, <class 'mtdnetwork.mtd.servicediversity.ServiceDiversity'>]\n",
      "Action size(include zero which is no deployment) 5\n"
     ]
    },
    {
     "name": "stderr",
     "output_type": "stream",
     "text": [
      "Compiled the loaded model, but the compiled metrics have yet to be built. `model.compile_metrics` will be empty until you train or evaluate the model.\n"
     ]
    },
    {
     "name": "stdout",
     "output_type": "stream",
     "text": [
      "mtd_ai\n",
      "Trial_ 108\n",
      "all_features\n",
      "On Mac\n",
      "Static_factor 2000\n",
      "MTD Scheme [<class 'mtdnetwork.mtd.completetopologyshuffle.CompleteTopologyShuffle'>, <class 'mtdnetwork.mtd.ipshuffle.IPShuffle'>, <class 'mtdnetwork.mtd.osdiversity.OSDiversity'>, <class 'mtdnetwork.mtd.servicediversity.ServiceDiversity'>]\n",
      "Action size(include zero which is no deployment) 5\n"
     ]
    },
    {
     "name": "stderr",
     "output_type": "stream",
     "text": [
      "Compiled the loaded model, but the compiled metrics have yet to be built. `model.compile_metrics` will be empty until you train or evaluate the model.\n"
     ]
    },
    {
     "name": "stdout",
     "output_type": "stream",
     "text": [
      "mtd_ai\n",
      "Trial_ 109\n",
      "all_features\n",
      "On Mac\n",
      "Static_factor 2000\n",
      "MTD Scheme [<class 'mtdnetwork.mtd.completetopologyshuffle.CompleteTopologyShuffle'>, <class 'mtdnetwork.mtd.ipshuffle.IPShuffle'>, <class 'mtdnetwork.mtd.osdiversity.OSDiversity'>, <class 'mtdnetwork.mtd.servicediversity.ServiceDiversity'>]\n",
      "Action size(include zero which is no deployment) 5\n"
     ]
    },
    {
     "name": "stderr",
     "output_type": "stream",
     "text": [
      "Compiled the loaded model, but the compiled metrics have yet to be built. `model.compile_metrics` will be empty until you train or evaluate the model.\n"
     ]
    },
    {
     "name": "stdout",
     "output_type": "stream",
     "text": [
      "mtd_ai\n",
      "Trial_ 110\n",
      "all_features\n",
      "On Mac\n",
      "Static_factor 2000\n",
      "MTD Scheme [<class 'mtdnetwork.mtd.completetopologyshuffle.CompleteTopologyShuffle'>, <class 'mtdnetwork.mtd.ipshuffle.IPShuffle'>, <class 'mtdnetwork.mtd.osdiversity.OSDiversity'>, <class 'mtdnetwork.mtd.servicediversity.ServiceDiversity'>]\n",
      "Action size(include zero which is no deployment) 5\n"
     ]
    },
    {
     "name": "stderr",
     "output_type": "stream",
     "text": [
      "Compiled the loaded model, but the compiled metrics have yet to be built. `model.compile_metrics` will be empty until you train or evaluate the model.\n"
     ]
    },
    {
     "name": "stdout",
     "output_type": "stream",
     "text": [
      "mtd_ai\n",
      "Trial_ 111\n",
      "all_features\n",
      "On Mac\n",
      "Static_factor 2000\n",
      "MTD Scheme [<class 'mtdnetwork.mtd.completetopologyshuffle.CompleteTopologyShuffle'>, <class 'mtdnetwork.mtd.ipshuffle.IPShuffle'>, <class 'mtdnetwork.mtd.osdiversity.OSDiversity'>, <class 'mtdnetwork.mtd.servicediversity.ServiceDiversity'>]\n",
      "Action size(include zero which is no deployment) 5\n"
     ]
    },
    {
     "name": "stderr",
     "output_type": "stream",
     "text": [
      "Compiled the loaded model, but the compiled metrics have yet to be built. `model.compile_metrics` will be empty until you train or evaluate the model.\n"
     ]
    },
    {
     "name": "stdout",
     "output_type": "stream",
     "text": [
      "mtd_ai\n",
      "Trial_ 112\n",
      "all_features\n",
      "On Mac\n",
      "Static_factor 2000\n",
      "MTD Scheme [<class 'mtdnetwork.mtd.completetopologyshuffle.CompleteTopologyShuffle'>, <class 'mtdnetwork.mtd.ipshuffle.IPShuffle'>, <class 'mtdnetwork.mtd.osdiversity.OSDiversity'>, <class 'mtdnetwork.mtd.servicediversity.ServiceDiversity'>]\n",
      "Action size(include zero which is no deployment) 5\n"
     ]
    },
    {
     "name": "stderr",
     "output_type": "stream",
     "text": [
      "Compiled the loaded model, but the compiled metrics have yet to be built. `model.compile_metrics` will be empty until you train or evaluate the model.\n"
     ]
    },
    {
     "name": "stdout",
     "output_type": "stream",
     "text": [
      "mtd_ai\n",
      "Trial_ 113\n",
      "all_features\n",
      "On Mac\n",
      "Static_factor 2000\n",
      "MTD Scheme [<class 'mtdnetwork.mtd.completetopologyshuffle.CompleteTopologyShuffle'>, <class 'mtdnetwork.mtd.ipshuffle.IPShuffle'>, <class 'mtdnetwork.mtd.osdiversity.OSDiversity'>, <class 'mtdnetwork.mtd.servicediversity.ServiceDiversity'>]\n",
      "Action size(include zero which is no deployment) 5\n"
     ]
    },
    {
     "name": "stderr",
     "output_type": "stream",
     "text": [
      "Compiled the loaded model, but the compiled metrics have yet to be built. `model.compile_metrics` will be empty until you train or evaluate the model.\n"
     ]
    },
    {
     "name": "stdout",
     "output_type": "stream",
     "text": [
      "mtd_ai\n",
      "Trial_ 114\n",
      "all_features\n",
      "On Mac\n",
      "Static_factor 2000\n",
      "MTD Scheme [<class 'mtdnetwork.mtd.completetopologyshuffle.CompleteTopologyShuffle'>, <class 'mtdnetwork.mtd.ipshuffle.IPShuffle'>, <class 'mtdnetwork.mtd.osdiversity.OSDiversity'>, <class 'mtdnetwork.mtd.servicediversity.ServiceDiversity'>]\n",
      "Action size(include zero which is no deployment) 5\n"
     ]
    },
    {
     "name": "stderr",
     "output_type": "stream",
     "text": [
      "Compiled the loaded model, but the compiled metrics have yet to be built. `model.compile_metrics` will be empty until you train or evaluate the model.\n"
     ]
    },
    {
     "name": "stdout",
     "output_type": "stream",
     "text": [
      "mtd_ai\n",
      "Trial_ 115\n",
      "all_features\n",
      "On Mac\n",
      "Static_factor 2000\n",
      "MTD Scheme [<class 'mtdnetwork.mtd.completetopologyshuffle.CompleteTopologyShuffle'>, <class 'mtdnetwork.mtd.ipshuffle.IPShuffle'>, <class 'mtdnetwork.mtd.osdiversity.OSDiversity'>, <class 'mtdnetwork.mtd.servicediversity.ServiceDiversity'>]\n",
      "Action size(include zero which is no deployment) 5\n"
     ]
    },
    {
     "name": "stderr",
     "output_type": "stream",
     "text": [
      "Compiled the loaded model, but the compiled metrics have yet to be built. `model.compile_metrics` will be empty until you train or evaluate the model.\n"
     ]
    },
    {
     "name": "stdout",
     "output_type": "stream",
     "text": [
      "mtd_ai\n",
      "Trial_ 116\n",
      "all_features\n",
      "On Mac\n",
      "Static_factor 2000\n",
      "MTD Scheme [<class 'mtdnetwork.mtd.completetopologyshuffle.CompleteTopologyShuffle'>, <class 'mtdnetwork.mtd.ipshuffle.IPShuffle'>, <class 'mtdnetwork.mtd.osdiversity.OSDiversity'>, <class 'mtdnetwork.mtd.servicediversity.ServiceDiversity'>]\n",
      "Action size(include zero which is no deployment) 5\n"
     ]
    },
    {
     "name": "stderr",
     "output_type": "stream",
     "text": [
      "Compiled the loaded model, but the compiled metrics have yet to be built. `model.compile_metrics` will be empty until you train or evaluate the model.\n"
     ]
    },
    {
     "name": "stdout",
     "output_type": "stream",
     "text": [
      "mtd_ai\n",
      "Trial_ 117\n",
      "all_features\n",
      "On Mac\n",
      "Static_factor 2000\n",
      "MTD Scheme [<class 'mtdnetwork.mtd.completetopologyshuffle.CompleteTopologyShuffle'>, <class 'mtdnetwork.mtd.ipshuffle.IPShuffle'>, <class 'mtdnetwork.mtd.osdiversity.OSDiversity'>, <class 'mtdnetwork.mtd.servicediversity.ServiceDiversity'>]\n",
      "Action size(include zero which is no deployment) 5\n"
     ]
    },
    {
     "name": "stderr",
     "output_type": "stream",
     "text": [
      "Compiled the loaded model, but the compiled metrics have yet to be built. `model.compile_metrics` will be empty until you train or evaluate the model.\n"
     ]
    },
    {
     "name": "stdout",
     "output_type": "stream",
     "text": [
      "mtd_ai\n",
      "Trial_ 118\n",
      "all_features\n",
      "On Mac\n",
      "Static_factor 2000\n",
      "MTD Scheme [<class 'mtdnetwork.mtd.completetopologyshuffle.CompleteTopologyShuffle'>, <class 'mtdnetwork.mtd.ipshuffle.IPShuffle'>, <class 'mtdnetwork.mtd.osdiversity.OSDiversity'>, <class 'mtdnetwork.mtd.servicediversity.ServiceDiversity'>]\n",
      "Action size(include zero which is no deployment) 5\n"
     ]
    },
    {
     "name": "stderr",
     "output_type": "stream",
     "text": [
      "Compiled the loaded model, but the compiled metrics have yet to be built. `model.compile_metrics` will be empty until you train or evaluate the model.\n"
     ]
    },
    {
     "name": "stdout",
     "output_type": "stream",
     "text": [
      "mtd_ai\n",
      "Trial_ 119\n",
      "all_features\n",
      "On Mac\n",
      "Static_factor 2000\n",
      "MTD Scheme [<class 'mtdnetwork.mtd.completetopologyshuffle.CompleteTopologyShuffle'>, <class 'mtdnetwork.mtd.ipshuffle.IPShuffle'>, <class 'mtdnetwork.mtd.osdiversity.OSDiversity'>, <class 'mtdnetwork.mtd.servicediversity.ServiceDiversity'>]\n",
      "Action size(include zero which is no deployment) 5\n"
     ]
    },
    {
     "name": "stderr",
     "output_type": "stream",
     "text": [
      "Compiled the loaded model, but the compiled metrics have yet to be built. `model.compile_metrics` will be empty until you train or evaluate the model.\n"
     ]
    },
    {
     "name": "stdout",
     "output_type": "stream",
     "text": [
      "mtd_ai\n",
      "Trial_ 120\n",
      "all_features\n",
      "On Mac\n",
      "Static_factor 2000\n",
      "MTD Scheme [<class 'mtdnetwork.mtd.completetopologyshuffle.CompleteTopologyShuffle'>, <class 'mtdnetwork.mtd.ipshuffle.IPShuffle'>, <class 'mtdnetwork.mtd.osdiversity.OSDiversity'>, <class 'mtdnetwork.mtd.servicediversity.ServiceDiversity'>]\n",
      "Action size(include zero which is no deployment) 5\n"
     ]
    },
    {
     "name": "stderr",
     "output_type": "stream",
     "text": [
      "Compiled the loaded model, but the compiled metrics have yet to be built. `model.compile_metrics` will be empty until you train or evaluate the model.\n"
     ]
    },
    {
     "name": "stdout",
     "output_type": "stream",
     "text": [
      "mtd_ai\n",
      "Trial_ 121\n",
      "all_features\n",
      "On Mac\n",
      "Static_factor 2000\n",
      "MTD Scheme [<class 'mtdnetwork.mtd.completetopologyshuffle.CompleteTopologyShuffle'>, <class 'mtdnetwork.mtd.ipshuffle.IPShuffle'>, <class 'mtdnetwork.mtd.osdiversity.OSDiversity'>, <class 'mtdnetwork.mtd.servicediversity.ServiceDiversity'>]\n",
      "Action size(include zero which is no deployment) 5\n"
     ]
    },
    {
     "name": "stderr",
     "output_type": "stream",
     "text": [
      "Compiled the loaded model, but the compiled metrics have yet to be built. `model.compile_metrics` will be empty until you train or evaluate the model.\n"
     ]
    },
    {
     "name": "stdout",
     "output_type": "stream",
     "text": [
      "mtd_ai\n",
      "Trial_ 122\n",
      "all_features\n",
      "On Mac\n",
      "Static_factor 2000\n",
      "MTD Scheme [<class 'mtdnetwork.mtd.completetopologyshuffle.CompleteTopologyShuffle'>, <class 'mtdnetwork.mtd.ipshuffle.IPShuffle'>, <class 'mtdnetwork.mtd.osdiversity.OSDiversity'>, <class 'mtdnetwork.mtd.servicediversity.ServiceDiversity'>]\n",
      "Action size(include zero which is no deployment) 5\n"
     ]
    },
    {
     "name": "stderr",
     "output_type": "stream",
     "text": [
      "Compiled the loaded model, but the compiled metrics have yet to be built. `model.compile_metrics` will be empty until you train or evaluate the model.\n"
     ]
    },
    {
     "name": "stdout",
     "output_type": "stream",
     "text": [
      "mtd_ai\n",
      "Trial_ 123\n",
      "all_features\n",
      "On Mac\n",
      "Static_factor 2000\n",
      "MTD Scheme [<class 'mtdnetwork.mtd.completetopologyshuffle.CompleteTopologyShuffle'>, <class 'mtdnetwork.mtd.ipshuffle.IPShuffle'>, <class 'mtdnetwork.mtd.osdiversity.OSDiversity'>, <class 'mtdnetwork.mtd.servicediversity.ServiceDiversity'>]\n",
      "Action size(include zero which is no deployment) 5\n"
     ]
    },
    {
     "name": "stderr",
     "output_type": "stream",
     "text": [
      "Compiled the loaded model, but the compiled metrics have yet to be built. `model.compile_metrics` will be empty until you train or evaluate the model.\n"
     ]
    },
    {
     "name": "stdout",
     "output_type": "stream",
     "text": [
      "mtd_ai\n",
      "Trial_ 124\n",
      "all_features\n",
      "On Mac\n",
      "Static_factor 2000\n",
      "MTD Scheme [<class 'mtdnetwork.mtd.completetopologyshuffle.CompleteTopologyShuffle'>, <class 'mtdnetwork.mtd.ipshuffle.IPShuffle'>, <class 'mtdnetwork.mtd.osdiversity.OSDiversity'>, <class 'mtdnetwork.mtd.servicediversity.ServiceDiversity'>]\n",
      "Action size(include zero which is no deployment) 5\n"
     ]
    },
    {
     "name": "stderr",
     "output_type": "stream",
     "text": [
      "Compiled the loaded model, but the compiled metrics have yet to be built. `model.compile_metrics` will be empty until you train or evaluate the model.\n"
     ]
    },
    {
     "name": "stdout",
     "output_type": "stream",
     "text": [
      "mtd_ai\n",
      "Trial_ 125\n",
      "all_features\n",
      "On Mac\n",
      "Static_factor 2000\n",
      "MTD Scheme [<class 'mtdnetwork.mtd.completetopologyshuffle.CompleteTopologyShuffle'>, <class 'mtdnetwork.mtd.ipshuffle.IPShuffle'>, <class 'mtdnetwork.mtd.osdiversity.OSDiversity'>, <class 'mtdnetwork.mtd.servicediversity.ServiceDiversity'>]\n",
      "Action size(include zero which is no deployment) 5\n"
     ]
    },
    {
     "name": "stderr",
     "output_type": "stream",
     "text": [
      "Compiled the loaded model, but the compiled metrics have yet to be built. `model.compile_metrics` will be empty until you train or evaluate the model.\n"
     ]
    },
    {
     "name": "stdout",
     "output_type": "stream",
     "text": [
      "mtd_ai\n",
      "Trial_ 126\n",
      "all_features\n",
      "On Mac\n",
      "Static_factor 2000\n",
      "MTD Scheme [<class 'mtdnetwork.mtd.completetopologyshuffle.CompleteTopologyShuffle'>, <class 'mtdnetwork.mtd.ipshuffle.IPShuffle'>, <class 'mtdnetwork.mtd.osdiversity.OSDiversity'>, <class 'mtdnetwork.mtd.servicediversity.ServiceDiversity'>]\n",
      "Action size(include zero which is no deployment) 5\n"
     ]
    },
    {
     "name": "stderr",
     "output_type": "stream",
     "text": [
      "Compiled the loaded model, but the compiled metrics have yet to be built. `model.compile_metrics` will be empty until you train or evaluate the model.\n"
     ]
    },
    {
     "name": "stdout",
     "output_type": "stream",
     "text": [
      "mtd_ai\n",
      "Trial_ 127\n",
      "all_features\n",
      "On Mac\n",
      "Static_factor 2000\n",
      "MTD Scheme [<class 'mtdnetwork.mtd.completetopologyshuffle.CompleteTopologyShuffle'>, <class 'mtdnetwork.mtd.ipshuffle.IPShuffle'>, <class 'mtdnetwork.mtd.osdiversity.OSDiversity'>, <class 'mtdnetwork.mtd.servicediversity.ServiceDiversity'>]\n",
      "Action size(include zero which is no deployment) 5\n"
     ]
    },
    {
     "name": "stderr",
     "output_type": "stream",
     "text": [
      "Compiled the loaded model, but the compiled metrics have yet to be built. `model.compile_metrics` will be empty until you train or evaluate the model.\n"
     ]
    },
    {
     "name": "stdout",
     "output_type": "stream",
     "text": [
      "mtd_ai\n",
      "Trial_ 128\n",
      "all_features\n",
      "On Mac\n",
      "Static_factor 2000\n",
      "MTD Scheme [<class 'mtdnetwork.mtd.completetopologyshuffle.CompleteTopologyShuffle'>, <class 'mtdnetwork.mtd.ipshuffle.IPShuffle'>, <class 'mtdnetwork.mtd.osdiversity.OSDiversity'>, <class 'mtdnetwork.mtd.servicediversity.ServiceDiversity'>]\n",
      "Action size(include zero which is no deployment) 5\n"
     ]
    },
    {
     "name": "stderr",
     "output_type": "stream",
     "text": [
      "Compiled the loaded model, but the compiled metrics have yet to be built. `model.compile_metrics` will be empty until you train or evaluate the model.\n"
     ]
    },
    {
     "name": "stdout",
     "output_type": "stream",
     "text": [
      "mtd_ai\n",
      "Trial_ 129\n",
      "all_features\n",
      "On Mac\n",
      "Static_factor 2000\n",
      "MTD Scheme [<class 'mtdnetwork.mtd.completetopologyshuffle.CompleteTopologyShuffle'>, <class 'mtdnetwork.mtd.ipshuffle.IPShuffle'>, <class 'mtdnetwork.mtd.osdiversity.OSDiversity'>, <class 'mtdnetwork.mtd.servicediversity.ServiceDiversity'>]\n",
      "Action size(include zero which is no deployment) 5\n"
     ]
    },
    {
     "name": "stderr",
     "output_type": "stream",
     "text": [
      "Compiled the loaded model, but the compiled metrics have yet to be built. `model.compile_metrics` will be empty until you train or evaluate the model.\n"
     ]
    },
    {
     "name": "stdout",
     "output_type": "stream",
     "text": [
      "mtd_ai\n",
      "Trial_ 130\n",
      "all_features\n",
      "On Mac\n",
      "Static_factor 2000\n",
      "MTD Scheme [<class 'mtdnetwork.mtd.completetopologyshuffle.CompleteTopologyShuffle'>, <class 'mtdnetwork.mtd.ipshuffle.IPShuffle'>, <class 'mtdnetwork.mtd.osdiversity.OSDiversity'>, <class 'mtdnetwork.mtd.servicediversity.ServiceDiversity'>]\n",
      "Action size(include zero which is no deployment) 5\n"
     ]
    },
    {
     "name": "stderr",
     "output_type": "stream",
     "text": [
      "Compiled the loaded model, but the compiled metrics have yet to be built. `model.compile_metrics` will be empty until you train or evaluate the model.\n"
     ]
    },
    {
     "name": "stdout",
     "output_type": "stream",
     "text": [
      "mtd_ai\n",
      "Trial_ 131\n",
      "all_features\n",
      "On Mac\n",
      "Static_factor 2000\n",
      "MTD Scheme [<class 'mtdnetwork.mtd.completetopologyshuffle.CompleteTopologyShuffle'>, <class 'mtdnetwork.mtd.ipshuffle.IPShuffle'>, <class 'mtdnetwork.mtd.osdiversity.OSDiversity'>, <class 'mtdnetwork.mtd.servicediversity.ServiceDiversity'>]\n",
      "Action size(include zero which is no deployment) 5\n"
     ]
    },
    {
     "name": "stderr",
     "output_type": "stream",
     "text": [
      "Compiled the loaded model, but the compiled metrics have yet to be built. `model.compile_metrics` will be empty until you train or evaluate the model.\n"
     ]
    },
    {
     "name": "stdout",
     "output_type": "stream",
     "text": [
      "mtd_ai\n",
      "Trial_ 132\n",
      "all_features\n",
      "On Mac\n",
      "Static_factor 2000\n",
      "MTD Scheme [<class 'mtdnetwork.mtd.completetopologyshuffle.CompleteTopologyShuffle'>, <class 'mtdnetwork.mtd.ipshuffle.IPShuffle'>, <class 'mtdnetwork.mtd.osdiversity.OSDiversity'>, <class 'mtdnetwork.mtd.servicediversity.ServiceDiversity'>]\n",
      "Action size(include zero which is no deployment) 5\n"
     ]
    },
    {
     "name": "stderr",
     "output_type": "stream",
     "text": [
      "Compiled the loaded model, but the compiled metrics have yet to be built. `model.compile_metrics` will be empty until you train or evaluate the model.\n"
     ]
    },
    {
     "name": "stdout",
     "output_type": "stream",
     "text": [
      "mtd_ai\n",
      "Trial_ 133\n",
      "all_features\n",
      "On Mac\n",
      "Static_factor 2000\n",
      "MTD Scheme [<class 'mtdnetwork.mtd.completetopologyshuffle.CompleteTopologyShuffle'>, <class 'mtdnetwork.mtd.ipshuffle.IPShuffle'>, <class 'mtdnetwork.mtd.osdiversity.OSDiversity'>, <class 'mtdnetwork.mtd.servicediversity.ServiceDiversity'>]\n",
      "Action size(include zero which is no deployment) 5\n"
     ]
    },
    {
     "name": "stderr",
     "output_type": "stream",
     "text": [
      "Compiled the loaded model, but the compiled metrics have yet to be built. `model.compile_metrics` will be empty until you train or evaluate the model.\n"
     ]
    },
    {
     "name": "stdout",
     "output_type": "stream",
     "text": [
      "mtd_ai\n",
      "Trial_ 134\n",
      "all_features\n",
      "On Mac\n",
      "Static_factor 2000\n",
      "MTD Scheme [<class 'mtdnetwork.mtd.completetopologyshuffle.CompleteTopologyShuffle'>, <class 'mtdnetwork.mtd.ipshuffle.IPShuffle'>, <class 'mtdnetwork.mtd.osdiversity.OSDiversity'>, <class 'mtdnetwork.mtd.servicediversity.ServiceDiversity'>]\n",
      "Action size(include zero which is no deployment) 5\n"
     ]
    },
    {
     "name": "stderr",
     "output_type": "stream",
     "text": [
      "Compiled the loaded model, but the compiled metrics have yet to be built. `model.compile_metrics` will be empty until you train or evaluate the model.\n"
     ]
    },
    {
     "name": "stdout",
     "output_type": "stream",
     "text": [
      "mtd_ai\n",
      "Trial_ 135\n",
      "all_features\n",
      "On Mac\n",
      "Static_factor 2000\n",
      "MTD Scheme [<class 'mtdnetwork.mtd.completetopologyshuffle.CompleteTopologyShuffle'>, <class 'mtdnetwork.mtd.ipshuffle.IPShuffle'>, <class 'mtdnetwork.mtd.osdiversity.OSDiversity'>, <class 'mtdnetwork.mtd.servicediversity.ServiceDiversity'>]\n",
      "Action size(include zero which is no deployment) 5\n"
     ]
    },
    {
     "name": "stderr",
     "output_type": "stream",
     "text": [
      "Compiled the loaded model, but the compiled metrics have yet to be built. `model.compile_metrics` will be empty until you train or evaluate the model.\n"
     ]
    },
    {
     "name": "stdout",
     "output_type": "stream",
     "text": [
      "mtd_ai\n",
      "Trial_ 136\n",
      "all_features\n",
      "On Mac\n",
      "Static_factor 2000\n",
      "MTD Scheme [<class 'mtdnetwork.mtd.completetopologyshuffle.CompleteTopologyShuffle'>, <class 'mtdnetwork.mtd.ipshuffle.IPShuffle'>, <class 'mtdnetwork.mtd.osdiversity.OSDiversity'>, <class 'mtdnetwork.mtd.servicediversity.ServiceDiversity'>]\n",
      "Action size(include zero which is no deployment) 5\n"
     ]
    },
    {
     "name": "stderr",
     "output_type": "stream",
     "text": [
      "Compiled the loaded model, but the compiled metrics have yet to be built. `model.compile_metrics` will be empty until you train or evaluate the model.\n"
     ]
    },
    {
     "name": "stdout",
     "output_type": "stream",
     "text": [
      "mtd_ai\n",
      "Trial_ 137\n",
      "all_features\n",
      "On Mac\n",
      "Static_factor 2000\n",
      "MTD Scheme [<class 'mtdnetwork.mtd.completetopologyshuffle.CompleteTopologyShuffle'>, <class 'mtdnetwork.mtd.ipshuffle.IPShuffle'>, <class 'mtdnetwork.mtd.osdiversity.OSDiversity'>, <class 'mtdnetwork.mtd.servicediversity.ServiceDiversity'>]\n",
      "Action size(include zero which is no deployment) 5\n"
     ]
    },
    {
     "name": "stderr",
     "output_type": "stream",
     "text": [
      "Compiled the loaded model, but the compiled metrics have yet to be built. `model.compile_metrics` will be empty until you train or evaluate the model.\n"
     ]
    },
    {
     "name": "stdout",
     "output_type": "stream",
     "text": [
      "mtd_ai\n",
      "Trial_ 138\n",
      "all_features\n",
      "On Mac\n",
      "Static_factor 2000\n",
      "MTD Scheme [<class 'mtdnetwork.mtd.completetopologyshuffle.CompleteTopologyShuffle'>, <class 'mtdnetwork.mtd.ipshuffle.IPShuffle'>, <class 'mtdnetwork.mtd.osdiversity.OSDiversity'>, <class 'mtdnetwork.mtd.servicediversity.ServiceDiversity'>]\n",
      "Action size(include zero which is no deployment) 5\n"
     ]
    },
    {
     "name": "stderr",
     "output_type": "stream",
     "text": [
      "Compiled the loaded model, but the compiled metrics have yet to be built. `model.compile_metrics` will be empty until you train or evaluate the model.\n"
     ]
    },
    {
     "name": "stdout",
     "output_type": "stream",
     "text": [
      "mtd_ai\n",
      "Trial_ 139\n",
      "all_features\n",
      "On Mac\n",
      "Static_factor 2000\n",
      "MTD Scheme [<class 'mtdnetwork.mtd.completetopologyshuffle.CompleteTopologyShuffle'>, <class 'mtdnetwork.mtd.ipshuffle.IPShuffle'>, <class 'mtdnetwork.mtd.osdiversity.OSDiversity'>, <class 'mtdnetwork.mtd.servicediversity.ServiceDiversity'>]\n",
      "Action size(include zero which is no deployment) 5\n"
     ]
    },
    {
     "name": "stderr",
     "output_type": "stream",
     "text": [
      "Compiled the loaded model, but the compiled metrics have yet to be built. `model.compile_metrics` will be empty until you train or evaluate the model.\n"
     ]
    },
    {
     "name": "stdout",
     "output_type": "stream",
     "text": [
      "mtd_ai\n",
      "Trial_ 140\n",
      "all_features\n",
      "On Mac\n",
      "Static_factor 2000\n",
      "MTD Scheme [<class 'mtdnetwork.mtd.completetopologyshuffle.CompleteTopologyShuffle'>, <class 'mtdnetwork.mtd.ipshuffle.IPShuffle'>, <class 'mtdnetwork.mtd.osdiversity.OSDiversity'>, <class 'mtdnetwork.mtd.servicediversity.ServiceDiversity'>]\n",
      "Action size(include zero which is no deployment) 5\n"
     ]
    },
    {
     "name": "stderr",
     "output_type": "stream",
     "text": [
      "Compiled the loaded model, but the compiled metrics have yet to be built. `model.compile_metrics` will be empty until you train or evaluate the model.\n"
     ]
    },
    {
     "name": "stdout",
     "output_type": "stream",
     "text": [
      "mtd_ai\n",
      "Trial_ 141\n",
      "all_features\n",
      "On Mac\n",
      "Static_factor 2000\n",
      "MTD Scheme [<class 'mtdnetwork.mtd.completetopologyshuffle.CompleteTopologyShuffle'>, <class 'mtdnetwork.mtd.ipshuffle.IPShuffle'>, <class 'mtdnetwork.mtd.osdiversity.OSDiversity'>, <class 'mtdnetwork.mtd.servicediversity.ServiceDiversity'>]\n",
      "Action size(include zero which is no deployment) 5\n"
     ]
    },
    {
     "name": "stderr",
     "output_type": "stream",
     "text": [
      "Compiled the loaded model, but the compiled metrics have yet to be built. `model.compile_metrics` will be empty until you train or evaluate the model.\n"
     ]
    },
    {
     "name": "stdout",
     "output_type": "stream",
     "text": [
      "mtd_ai\n",
      "Trial_ 142\n",
      "all_features\n",
      "On Mac\n",
      "Static_factor 2000\n",
      "MTD Scheme [<class 'mtdnetwork.mtd.completetopologyshuffle.CompleteTopologyShuffle'>, <class 'mtdnetwork.mtd.ipshuffle.IPShuffle'>, <class 'mtdnetwork.mtd.osdiversity.OSDiversity'>, <class 'mtdnetwork.mtd.servicediversity.ServiceDiversity'>]\n",
      "Action size(include zero which is no deployment) 5\n"
     ]
    },
    {
     "name": "stderr",
     "output_type": "stream",
     "text": [
      "Compiled the loaded model, but the compiled metrics have yet to be built. `model.compile_metrics` will be empty until you train or evaluate the model.\n"
     ]
    },
    {
     "name": "stdout",
     "output_type": "stream",
     "text": [
      "mtd_ai\n",
      "Trial_ 143\n",
      "all_features\n",
      "On Mac\n",
      "Static_factor 2000\n",
      "MTD Scheme [<class 'mtdnetwork.mtd.completetopologyshuffle.CompleteTopologyShuffle'>, <class 'mtdnetwork.mtd.ipshuffle.IPShuffle'>, <class 'mtdnetwork.mtd.osdiversity.OSDiversity'>, <class 'mtdnetwork.mtd.servicediversity.ServiceDiversity'>]\n",
      "Action size(include zero which is no deployment) 5\n"
     ]
    },
    {
     "name": "stderr",
     "output_type": "stream",
     "text": [
      "Compiled the loaded model, but the compiled metrics have yet to be built. `model.compile_metrics` will be empty until you train or evaluate the model.\n"
     ]
    },
    {
     "name": "stdout",
     "output_type": "stream",
     "text": [
      "mtd_ai\n",
      "Trial_ 144\n",
      "all_features\n",
      "On Mac\n",
      "Static_factor 2000\n",
      "MTD Scheme [<class 'mtdnetwork.mtd.completetopologyshuffle.CompleteTopologyShuffle'>, <class 'mtdnetwork.mtd.ipshuffle.IPShuffle'>, <class 'mtdnetwork.mtd.osdiversity.OSDiversity'>, <class 'mtdnetwork.mtd.servicediversity.ServiceDiversity'>]\n",
      "Action size(include zero which is no deployment) 5\n"
     ]
    },
    {
     "name": "stderr",
     "output_type": "stream",
     "text": [
      "Compiled the loaded model, but the compiled metrics have yet to be built. `model.compile_metrics` will be empty until you train or evaluate the model.\n"
     ]
    },
    {
     "name": "stdout",
     "output_type": "stream",
     "text": [
      "mtd_ai\n",
      "Trial_ 145\n",
      "all_features\n",
      "On Mac\n",
      "Static_factor 2000\n",
      "MTD Scheme [<class 'mtdnetwork.mtd.completetopologyshuffle.CompleteTopologyShuffle'>, <class 'mtdnetwork.mtd.ipshuffle.IPShuffle'>, <class 'mtdnetwork.mtd.osdiversity.OSDiversity'>, <class 'mtdnetwork.mtd.servicediversity.ServiceDiversity'>]\n",
      "Action size(include zero which is no deployment) 5\n"
     ]
    },
    {
     "name": "stderr",
     "output_type": "stream",
     "text": [
      "Compiled the loaded model, but the compiled metrics have yet to be built. `model.compile_metrics` will be empty until you train or evaluate the model.\n"
     ]
    },
    {
     "name": "stdout",
     "output_type": "stream",
     "text": [
      "mtd_ai\n",
      "Trial_ 146\n",
      "all_features\n",
      "On Mac\n",
      "Static_factor 2000\n",
      "MTD Scheme [<class 'mtdnetwork.mtd.completetopologyshuffle.CompleteTopologyShuffle'>, <class 'mtdnetwork.mtd.ipshuffle.IPShuffle'>, <class 'mtdnetwork.mtd.osdiversity.OSDiversity'>, <class 'mtdnetwork.mtd.servicediversity.ServiceDiversity'>]\n",
      "Action size(include zero which is no deployment) 5\n"
     ]
    },
    {
     "name": "stderr",
     "output_type": "stream",
     "text": [
      "Compiled the loaded model, but the compiled metrics have yet to be built. `model.compile_metrics` will be empty until you train or evaluate the model.\n"
     ]
    },
    {
     "name": "stdout",
     "output_type": "stream",
     "text": [
      "mtd_ai\n",
      "Trial_ 147\n",
      "all_features\n",
      "On Mac\n",
      "Static_factor 2000\n",
      "MTD Scheme [<class 'mtdnetwork.mtd.completetopologyshuffle.CompleteTopologyShuffle'>, <class 'mtdnetwork.mtd.ipshuffle.IPShuffle'>, <class 'mtdnetwork.mtd.osdiversity.OSDiversity'>, <class 'mtdnetwork.mtd.servicediversity.ServiceDiversity'>]\n",
      "Action size(include zero which is no deployment) 5\n"
     ]
    },
    {
     "name": "stderr",
     "output_type": "stream",
     "text": [
      "Compiled the loaded model, but the compiled metrics have yet to be built. `model.compile_metrics` will be empty until you train or evaluate the model.\n"
     ]
    },
    {
     "name": "stdout",
     "output_type": "stream",
     "text": [
      "mtd_ai\n",
      "Trial_ 148\n",
      "all_features\n",
      "On Mac\n",
      "Static_factor 2000\n",
      "MTD Scheme [<class 'mtdnetwork.mtd.completetopologyshuffle.CompleteTopologyShuffle'>, <class 'mtdnetwork.mtd.ipshuffle.IPShuffle'>, <class 'mtdnetwork.mtd.osdiversity.OSDiversity'>, <class 'mtdnetwork.mtd.servicediversity.ServiceDiversity'>]\n",
      "Action size(include zero which is no deployment) 5\n"
     ]
    },
    {
     "name": "stderr",
     "output_type": "stream",
     "text": [
      "Compiled the loaded model, but the compiled metrics have yet to be built. `model.compile_metrics` will be empty until you train or evaluate the model.\n"
     ]
    },
    {
     "name": "stdout",
     "output_type": "stream",
     "text": [
      "mtd_ai\n",
      "Trial_ 149\n",
      "all_features\n",
      "On Mac\n",
      "Static_factor 2000\n",
      "MTD Scheme [<class 'mtdnetwork.mtd.completetopologyshuffle.CompleteTopologyShuffle'>, <class 'mtdnetwork.mtd.ipshuffle.IPShuffle'>, <class 'mtdnetwork.mtd.osdiversity.OSDiversity'>, <class 'mtdnetwork.mtd.servicediversity.ServiceDiversity'>]\n",
      "Action size(include zero which is no deployment) 5\n"
     ]
    },
    {
     "name": "stderr",
     "output_type": "stream",
     "text": [
      "Compiled the loaded model, but the compiled metrics have yet to be built. `model.compile_metrics` will be empty until you train or evaluate the model.\n"
     ]
    },
    {
     "name": "stdout",
     "output_type": "stream",
     "text": [
      "mtd_ai\n",
      "Trial_ 150\n",
      "all_features\n",
      "On Mac\n",
      "Static_factor 2000\n",
      "MTD Scheme [<class 'mtdnetwork.mtd.completetopologyshuffle.CompleteTopologyShuffle'>, <class 'mtdnetwork.mtd.ipshuffle.IPShuffle'>, <class 'mtdnetwork.mtd.osdiversity.OSDiversity'>, <class 'mtdnetwork.mtd.servicediversity.ServiceDiversity'>]\n",
      "Action size(include zero which is no deployment) 5\n"
     ]
    },
    {
     "name": "stderr",
     "output_type": "stream",
     "text": [
      "Compiled the loaded model, but the compiled metrics have yet to be built. `model.compile_metrics` will be empty until you train or evaluate the model.\n"
     ]
    },
    {
     "name": "stdout",
     "output_type": "stream",
     "text": [
      "mtd_ai\n",
      "Trial_ 151\n",
      "all_features\n",
      "On Mac\n",
      "Static_factor 2000\n",
      "MTD Scheme [<class 'mtdnetwork.mtd.completetopologyshuffle.CompleteTopologyShuffle'>, <class 'mtdnetwork.mtd.ipshuffle.IPShuffle'>, <class 'mtdnetwork.mtd.osdiversity.OSDiversity'>, <class 'mtdnetwork.mtd.servicediversity.ServiceDiversity'>]\n",
      "Action size(include zero which is no deployment) 5\n"
     ]
    },
    {
     "name": "stderr",
     "output_type": "stream",
     "text": [
      "Compiled the loaded model, but the compiled metrics have yet to be built. `model.compile_metrics` will be empty until you train or evaluate the model.\n"
     ]
    },
    {
     "name": "stdout",
     "output_type": "stream",
     "text": [
      "mtd_ai\n",
      "Trial_ 152\n",
      "all_features\n",
      "On Mac\n",
      "Static_factor 2000\n",
      "MTD Scheme [<class 'mtdnetwork.mtd.completetopologyshuffle.CompleteTopologyShuffle'>, <class 'mtdnetwork.mtd.ipshuffle.IPShuffle'>, <class 'mtdnetwork.mtd.osdiversity.OSDiversity'>, <class 'mtdnetwork.mtd.servicediversity.ServiceDiversity'>]\n",
      "Action size(include zero which is no deployment) 5\n"
     ]
    },
    {
     "name": "stderr",
     "output_type": "stream",
     "text": [
      "Compiled the loaded model, but the compiled metrics have yet to be built. `model.compile_metrics` will be empty until you train or evaluate the model.\n"
     ]
    },
    {
     "name": "stdout",
     "output_type": "stream",
     "text": [
      "mtd_ai\n",
      "Trial_ 153\n",
      "all_features\n",
      "On Mac\n",
      "Static_factor 2000\n",
      "MTD Scheme [<class 'mtdnetwork.mtd.completetopologyshuffle.CompleteTopologyShuffle'>, <class 'mtdnetwork.mtd.ipshuffle.IPShuffle'>, <class 'mtdnetwork.mtd.osdiversity.OSDiversity'>, <class 'mtdnetwork.mtd.servicediversity.ServiceDiversity'>]\n",
      "Action size(include zero which is no deployment) 5\n"
     ]
    },
    {
     "name": "stderr",
     "output_type": "stream",
     "text": [
      "Compiled the loaded model, but the compiled metrics have yet to be built. `model.compile_metrics` will be empty until you train or evaluate the model.\n"
     ]
    },
    {
     "name": "stdout",
     "output_type": "stream",
     "text": [
      "mtd_ai\n",
      "Trial_ 154\n",
      "all_features\n",
      "On Mac\n",
      "Static_factor 2000\n",
      "MTD Scheme [<class 'mtdnetwork.mtd.completetopologyshuffle.CompleteTopologyShuffle'>, <class 'mtdnetwork.mtd.ipshuffle.IPShuffle'>, <class 'mtdnetwork.mtd.osdiversity.OSDiversity'>, <class 'mtdnetwork.mtd.servicediversity.ServiceDiversity'>]\n",
      "Action size(include zero which is no deployment) 5\n"
     ]
    },
    {
     "name": "stderr",
     "output_type": "stream",
     "text": [
      "Compiled the loaded model, but the compiled metrics have yet to be built. `model.compile_metrics` will be empty until you train or evaluate the model.\n"
     ]
    },
    {
     "name": "stdout",
     "output_type": "stream",
     "text": [
      "mtd_ai\n",
      "Trial_ 155\n",
      "all_features\n",
      "On Mac\n",
      "Static_factor 2000\n",
      "MTD Scheme [<class 'mtdnetwork.mtd.completetopologyshuffle.CompleteTopologyShuffle'>, <class 'mtdnetwork.mtd.ipshuffle.IPShuffle'>, <class 'mtdnetwork.mtd.osdiversity.OSDiversity'>, <class 'mtdnetwork.mtd.servicediversity.ServiceDiversity'>]\n",
      "Action size(include zero which is no deployment) 5\n"
     ]
    },
    {
     "name": "stderr",
     "output_type": "stream",
     "text": [
      "Compiled the loaded model, but the compiled metrics have yet to be built. `model.compile_metrics` will be empty until you train or evaluate the model.\n"
     ]
    },
    {
     "name": "stdout",
     "output_type": "stream",
     "text": [
      "mtd_ai\n",
      "Trial_ 156\n",
      "all_features\n",
      "On Mac\n",
      "Static_factor 2000\n",
      "MTD Scheme [<class 'mtdnetwork.mtd.completetopologyshuffle.CompleteTopologyShuffle'>, <class 'mtdnetwork.mtd.ipshuffle.IPShuffle'>, <class 'mtdnetwork.mtd.osdiversity.OSDiversity'>, <class 'mtdnetwork.mtd.servicediversity.ServiceDiversity'>]\n",
      "Action size(include zero which is no deployment) 5\n"
     ]
    },
    {
     "name": "stderr",
     "output_type": "stream",
     "text": [
      "Compiled the loaded model, but the compiled metrics have yet to be built. `model.compile_metrics` will be empty until you train or evaluate the model.\n"
     ]
    },
    {
     "name": "stdout",
     "output_type": "stream",
     "text": [
      "mtd_ai\n",
      "Trial_ 157\n",
      "all_features\n",
      "On Mac\n",
      "Static_factor 2000\n",
      "MTD Scheme [<class 'mtdnetwork.mtd.completetopologyshuffle.CompleteTopologyShuffle'>, <class 'mtdnetwork.mtd.ipshuffle.IPShuffle'>, <class 'mtdnetwork.mtd.osdiversity.OSDiversity'>, <class 'mtdnetwork.mtd.servicediversity.ServiceDiversity'>]\n",
      "Action size(include zero which is no deployment) 5\n"
     ]
    },
    {
     "name": "stderr",
     "output_type": "stream",
     "text": [
      "Compiled the loaded model, but the compiled metrics have yet to be built. `model.compile_metrics` will be empty until you train or evaluate the model.\n"
     ]
    },
    {
     "name": "stdout",
     "output_type": "stream",
     "text": [
      "mtd_ai\n",
      "Trial_ 158\n",
      "all_features\n",
      "On Mac\n",
      "Static_factor 2000\n",
      "MTD Scheme [<class 'mtdnetwork.mtd.completetopologyshuffle.CompleteTopologyShuffle'>, <class 'mtdnetwork.mtd.ipshuffle.IPShuffle'>, <class 'mtdnetwork.mtd.osdiversity.OSDiversity'>, <class 'mtdnetwork.mtd.servicediversity.ServiceDiversity'>]\n",
      "Action size(include zero which is no deployment) 5\n"
     ]
    },
    {
     "name": "stderr",
     "output_type": "stream",
     "text": [
      "Compiled the loaded model, but the compiled metrics have yet to be built. `model.compile_metrics` will be empty until you train or evaluate the model.\n"
     ]
    },
    {
     "name": "stdout",
     "output_type": "stream",
     "text": [
      "mtd_ai\n",
      "Trial_ 159\n",
      "all_features\n",
      "On Mac\n",
      "Static_factor 2000\n",
      "MTD Scheme [<class 'mtdnetwork.mtd.completetopologyshuffle.CompleteTopologyShuffle'>, <class 'mtdnetwork.mtd.ipshuffle.IPShuffle'>, <class 'mtdnetwork.mtd.osdiversity.OSDiversity'>, <class 'mtdnetwork.mtd.servicediversity.ServiceDiversity'>]\n",
      "Action size(include zero which is no deployment) 5\n"
     ]
    },
    {
     "name": "stderr",
     "output_type": "stream",
     "text": [
      "Compiled the loaded model, but the compiled metrics have yet to be built. `model.compile_metrics` will be empty until you train or evaluate the model.\n"
     ]
    },
    {
     "name": "stdout",
     "output_type": "stream",
     "text": [
      "mtd_ai\n",
      "Trial_ 160\n",
      "all_features\n",
      "On Mac\n",
      "Static_factor 2000\n",
      "MTD Scheme [<class 'mtdnetwork.mtd.completetopologyshuffle.CompleteTopologyShuffle'>, <class 'mtdnetwork.mtd.ipshuffle.IPShuffle'>, <class 'mtdnetwork.mtd.osdiversity.OSDiversity'>, <class 'mtdnetwork.mtd.servicediversity.ServiceDiversity'>]\n",
      "Action size(include zero which is no deployment) 5\n"
     ]
    },
    {
     "name": "stderr",
     "output_type": "stream",
     "text": [
      "Compiled the loaded model, but the compiled metrics have yet to be built. `model.compile_metrics` will be empty until you train or evaluate the model.\n"
     ]
    },
    {
     "name": "stdout",
     "output_type": "stream",
     "text": [
      "mtd_ai\n",
      "Trial_ 161\n",
      "all_features\n",
      "On Mac\n",
      "Static_factor 2000\n",
      "MTD Scheme [<class 'mtdnetwork.mtd.completetopologyshuffle.CompleteTopologyShuffle'>, <class 'mtdnetwork.mtd.ipshuffle.IPShuffle'>, <class 'mtdnetwork.mtd.osdiversity.OSDiversity'>, <class 'mtdnetwork.mtd.servicediversity.ServiceDiversity'>]\n",
      "Action size(include zero which is no deployment) 5\n"
     ]
    },
    {
     "name": "stderr",
     "output_type": "stream",
     "text": [
      "Compiled the loaded model, but the compiled metrics have yet to be built. `model.compile_metrics` will be empty until you train or evaluate the model.\n"
     ]
    },
    {
     "name": "stdout",
     "output_type": "stream",
     "text": [
      "mtd_ai\n",
      "Trial_ 162\n",
      "all_features\n",
      "On Mac\n",
      "Static_factor 2000\n",
      "MTD Scheme [<class 'mtdnetwork.mtd.completetopologyshuffle.CompleteTopologyShuffle'>, <class 'mtdnetwork.mtd.ipshuffle.IPShuffle'>, <class 'mtdnetwork.mtd.osdiversity.OSDiversity'>, <class 'mtdnetwork.mtd.servicediversity.ServiceDiversity'>]\n",
      "Action size(include zero which is no deployment) 5\n"
     ]
    },
    {
     "name": "stderr",
     "output_type": "stream",
     "text": [
      "Compiled the loaded model, but the compiled metrics have yet to be built. `model.compile_metrics` will be empty until you train or evaluate the model.\n"
     ]
    },
    {
     "name": "stdout",
     "output_type": "stream",
     "text": [
      "mtd_ai\n",
      "Trial_ 163\n",
      "all_features\n",
      "On Mac\n",
      "Static_factor 2000\n",
      "MTD Scheme [<class 'mtdnetwork.mtd.completetopologyshuffle.CompleteTopologyShuffle'>, <class 'mtdnetwork.mtd.ipshuffle.IPShuffle'>, <class 'mtdnetwork.mtd.osdiversity.OSDiversity'>, <class 'mtdnetwork.mtd.servicediversity.ServiceDiversity'>]\n",
      "Action size(include zero which is no deployment) 5\n"
     ]
    },
    {
     "name": "stderr",
     "output_type": "stream",
     "text": [
      "Compiled the loaded model, but the compiled metrics have yet to be built. `model.compile_metrics` will be empty until you train or evaluate the model.\n"
     ]
    },
    {
     "name": "stdout",
     "output_type": "stream",
     "text": [
      "mtd_ai\n",
      "Trial_ 164\n",
      "all_features\n",
      "On Mac\n",
      "Static_factor 2000\n",
      "MTD Scheme [<class 'mtdnetwork.mtd.completetopologyshuffle.CompleteTopologyShuffle'>, <class 'mtdnetwork.mtd.ipshuffle.IPShuffle'>, <class 'mtdnetwork.mtd.osdiversity.OSDiversity'>, <class 'mtdnetwork.mtd.servicediversity.ServiceDiversity'>]\n",
      "Action size(include zero which is no deployment) 5\n"
     ]
    },
    {
     "name": "stderr",
     "output_type": "stream",
     "text": [
      "Compiled the loaded model, but the compiled metrics have yet to be built. `model.compile_metrics` will be empty until you train or evaluate the model.\n"
     ]
    },
    {
     "name": "stdout",
     "output_type": "stream",
     "text": [
      "mtd_ai\n",
      "Trial_ 165\n",
      "all_features\n",
      "On Mac\n",
      "Static_factor 2000\n",
      "MTD Scheme [<class 'mtdnetwork.mtd.completetopologyshuffle.CompleteTopologyShuffle'>, <class 'mtdnetwork.mtd.ipshuffle.IPShuffle'>, <class 'mtdnetwork.mtd.osdiversity.OSDiversity'>, <class 'mtdnetwork.mtd.servicediversity.ServiceDiversity'>]\n",
      "Action size(include zero which is no deployment) 5\n"
     ]
    },
    {
     "name": "stderr",
     "output_type": "stream",
     "text": [
      "Compiled the loaded model, but the compiled metrics have yet to be built. `model.compile_metrics` will be empty until you train or evaluate the model.\n"
     ]
    },
    {
     "name": "stdout",
     "output_type": "stream",
     "text": [
      "mtd_ai\n",
      "Trial_ 166\n",
      "all_features\n",
      "On Mac\n",
      "Static_factor 2000\n",
      "MTD Scheme [<class 'mtdnetwork.mtd.completetopologyshuffle.CompleteTopologyShuffle'>, <class 'mtdnetwork.mtd.ipshuffle.IPShuffle'>, <class 'mtdnetwork.mtd.osdiversity.OSDiversity'>, <class 'mtdnetwork.mtd.servicediversity.ServiceDiversity'>]\n",
      "Action size(include zero which is no deployment) 5\n"
     ]
    },
    {
     "name": "stderr",
     "output_type": "stream",
     "text": [
      "Compiled the loaded model, but the compiled metrics have yet to be built. `model.compile_metrics` will be empty until you train or evaluate the model.\n"
     ]
    },
    {
     "name": "stdout",
     "output_type": "stream",
     "text": [
      "mtd_ai\n",
      "Trial_ 167\n",
      "all_features\n",
      "On Mac\n",
      "Static_factor 2000\n",
      "MTD Scheme [<class 'mtdnetwork.mtd.completetopologyshuffle.CompleteTopologyShuffle'>, <class 'mtdnetwork.mtd.ipshuffle.IPShuffle'>, <class 'mtdnetwork.mtd.osdiversity.OSDiversity'>, <class 'mtdnetwork.mtd.servicediversity.ServiceDiversity'>]\n",
      "Action size(include zero which is no deployment) 5\n"
     ]
    },
    {
     "name": "stderr",
     "output_type": "stream",
     "text": [
      "Compiled the loaded model, but the compiled metrics have yet to be built. `model.compile_metrics` will be empty until you train or evaluate the model.\n"
     ]
    },
    {
     "name": "stdout",
     "output_type": "stream",
     "text": [
      "mtd_ai\n",
      "Trial_ 168\n",
      "all_features\n",
      "On Mac\n",
      "Static_factor 2000\n",
      "MTD Scheme [<class 'mtdnetwork.mtd.completetopologyshuffle.CompleteTopologyShuffle'>, <class 'mtdnetwork.mtd.ipshuffle.IPShuffle'>, <class 'mtdnetwork.mtd.osdiversity.OSDiversity'>, <class 'mtdnetwork.mtd.servicediversity.ServiceDiversity'>]\n",
      "Action size(include zero which is no deployment) 5\n"
     ]
    },
    {
     "name": "stderr",
     "output_type": "stream",
     "text": [
      "Compiled the loaded model, but the compiled metrics have yet to be built. `model.compile_metrics` will be empty until you train or evaluate the model.\n"
     ]
    },
    {
     "name": "stdout",
     "output_type": "stream",
     "text": [
      "mtd_ai\n",
      "Trial_ 169\n",
      "all_features\n",
      "On Mac\n",
      "Static_factor 2000\n",
      "MTD Scheme [<class 'mtdnetwork.mtd.completetopologyshuffle.CompleteTopologyShuffle'>, <class 'mtdnetwork.mtd.ipshuffle.IPShuffle'>, <class 'mtdnetwork.mtd.osdiversity.OSDiversity'>, <class 'mtdnetwork.mtd.servicediversity.ServiceDiversity'>]\n",
      "Action size(include zero which is no deployment) 5\n"
     ]
    },
    {
     "name": "stderr",
     "output_type": "stream",
     "text": [
      "Compiled the loaded model, but the compiled metrics have yet to be built. `model.compile_metrics` will be empty until you train or evaluate the model.\n"
     ]
    },
    {
     "name": "stdout",
     "output_type": "stream",
     "text": [
      "mtd_ai\n",
      "Trial_ 170\n",
      "all_features\n",
      "On Mac\n",
      "Static_factor 2000\n",
      "MTD Scheme [<class 'mtdnetwork.mtd.completetopologyshuffle.CompleteTopologyShuffle'>, <class 'mtdnetwork.mtd.ipshuffle.IPShuffle'>, <class 'mtdnetwork.mtd.osdiversity.OSDiversity'>, <class 'mtdnetwork.mtd.servicediversity.ServiceDiversity'>]\n",
      "Action size(include zero which is no deployment) 5\n"
     ]
    },
    {
     "name": "stderr",
     "output_type": "stream",
     "text": [
      "Compiled the loaded model, but the compiled metrics have yet to be built. `model.compile_metrics` will be empty until you train or evaluate the model.\n"
     ]
    },
    {
     "name": "stdout",
     "output_type": "stream",
     "text": [
      "mtd_ai\n",
      "Trial_ 171\n",
      "all_features\n",
      "On Mac\n",
      "Static_factor 2000\n",
      "MTD Scheme [<class 'mtdnetwork.mtd.completetopologyshuffle.CompleteTopologyShuffle'>, <class 'mtdnetwork.mtd.ipshuffle.IPShuffle'>, <class 'mtdnetwork.mtd.osdiversity.OSDiversity'>, <class 'mtdnetwork.mtd.servicediversity.ServiceDiversity'>]\n",
      "Action size(include zero which is no deployment) 5\n"
     ]
    },
    {
     "name": "stderr",
     "output_type": "stream",
     "text": [
      "Compiled the loaded model, but the compiled metrics have yet to be built. `model.compile_metrics` will be empty until you train or evaluate the model.\n"
     ]
    },
    {
     "name": "stdout",
     "output_type": "stream",
     "text": [
      "mtd_ai\n",
      "Trial_ 172\n",
      "all_features\n",
      "On Mac\n",
      "Static_factor 2000\n",
      "MTD Scheme [<class 'mtdnetwork.mtd.completetopologyshuffle.CompleteTopologyShuffle'>, <class 'mtdnetwork.mtd.ipshuffle.IPShuffle'>, <class 'mtdnetwork.mtd.osdiversity.OSDiversity'>, <class 'mtdnetwork.mtd.servicediversity.ServiceDiversity'>]\n",
      "Action size(include zero which is no deployment) 5\n"
     ]
    },
    {
     "name": "stderr",
     "output_type": "stream",
     "text": [
      "Compiled the loaded model, but the compiled metrics have yet to be built. `model.compile_metrics` will be empty until you train or evaluate the model.\n"
     ]
    },
    {
     "name": "stdout",
     "output_type": "stream",
     "text": [
      "mtd_ai\n",
      "Trial_ 173\n",
      "all_features\n",
      "On Mac\n",
      "Static_factor 2000\n",
      "MTD Scheme [<class 'mtdnetwork.mtd.completetopologyshuffle.CompleteTopologyShuffle'>, <class 'mtdnetwork.mtd.ipshuffle.IPShuffle'>, <class 'mtdnetwork.mtd.osdiversity.OSDiversity'>, <class 'mtdnetwork.mtd.servicediversity.ServiceDiversity'>]\n",
      "Action size(include zero which is no deployment) 5\n"
     ]
    },
    {
     "name": "stderr",
     "output_type": "stream",
     "text": [
      "Compiled the loaded model, but the compiled metrics have yet to be built. `model.compile_metrics` will be empty until you train or evaluate the model.\n"
     ]
    },
    {
     "name": "stdout",
     "output_type": "stream",
     "text": [
      "mtd_ai\n",
      "Trial_ 174\n",
      "all_features\n",
      "On Mac\n",
      "Static_factor 2000\n",
      "MTD Scheme [<class 'mtdnetwork.mtd.completetopologyshuffle.CompleteTopologyShuffle'>, <class 'mtdnetwork.mtd.ipshuffle.IPShuffle'>, <class 'mtdnetwork.mtd.osdiversity.OSDiversity'>, <class 'mtdnetwork.mtd.servicediversity.ServiceDiversity'>]\n",
      "Action size(include zero which is no deployment) 5\n"
     ]
    },
    {
     "name": "stderr",
     "output_type": "stream",
     "text": [
      "Compiled the loaded model, but the compiled metrics have yet to be built. `model.compile_metrics` will be empty until you train or evaluate the model.\n"
     ]
    },
    {
     "name": "stdout",
     "output_type": "stream",
     "text": [
      "mtd_ai\n",
      "Trial_ 175\n",
      "all_features\n",
      "On Mac\n",
      "Static_factor 2000\n",
      "MTD Scheme [<class 'mtdnetwork.mtd.completetopologyshuffle.CompleteTopologyShuffle'>, <class 'mtdnetwork.mtd.ipshuffle.IPShuffle'>, <class 'mtdnetwork.mtd.osdiversity.OSDiversity'>, <class 'mtdnetwork.mtd.servicediversity.ServiceDiversity'>]\n",
      "Action size(include zero which is no deployment) 5\n"
     ]
    },
    {
     "name": "stderr",
     "output_type": "stream",
     "text": [
      "Compiled the loaded model, but the compiled metrics have yet to be built. `model.compile_metrics` will be empty until you train or evaluate the model.\n"
     ]
    },
    {
     "name": "stdout",
     "output_type": "stream",
     "text": [
      "mtd_ai\n",
      "Trial_ 176\n",
      "all_features\n",
      "On Mac\n",
      "Static_factor 2000\n",
      "MTD Scheme [<class 'mtdnetwork.mtd.completetopologyshuffle.CompleteTopologyShuffle'>, <class 'mtdnetwork.mtd.ipshuffle.IPShuffle'>, <class 'mtdnetwork.mtd.osdiversity.OSDiversity'>, <class 'mtdnetwork.mtd.servicediversity.ServiceDiversity'>]\n",
      "Action size(include zero which is no deployment) 5\n"
     ]
    },
    {
     "name": "stderr",
     "output_type": "stream",
     "text": [
      "Compiled the loaded model, but the compiled metrics have yet to be built. `model.compile_metrics` will be empty until you train or evaluate the model.\n"
     ]
    },
    {
     "name": "stdout",
     "output_type": "stream",
     "text": [
      "mtd_ai\n",
      "Trial_ 177\n",
      "all_features\n",
      "On Mac\n",
      "Static_factor 2000\n",
      "MTD Scheme [<class 'mtdnetwork.mtd.completetopologyshuffle.CompleteTopologyShuffle'>, <class 'mtdnetwork.mtd.ipshuffle.IPShuffle'>, <class 'mtdnetwork.mtd.osdiversity.OSDiversity'>, <class 'mtdnetwork.mtd.servicediversity.ServiceDiversity'>]\n",
      "Action size(include zero which is no deployment) 5\n"
     ]
    },
    {
     "name": "stderr",
     "output_type": "stream",
     "text": [
      "Compiled the loaded model, but the compiled metrics have yet to be built. `model.compile_metrics` will be empty until you train or evaluate the model.\n"
     ]
    },
    {
     "name": "stdout",
     "output_type": "stream",
     "text": [
      "mtd_ai\n",
      "Trial_ 178\n",
      "all_features\n",
      "On Mac\n",
      "Static_factor 2000\n",
      "MTD Scheme [<class 'mtdnetwork.mtd.completetopologyshuffle.CompleteTopologyShuffle'>, <class 'mtdnetwork.mtd.ipshuffle.IPShuffle'>, <class 'mtdnetwork.mtd.osdiversity.OSDiversity'>, <class 'mtdnetwork.mtd.servicediversity.ServiceDiversity'>]\n",
      "Action size(include zero which is no deployment) 5\n"
     ]
    },
    {
     "name": "stderr",
     "output_type": "stream",
     "text": [
      "Compiled the loaded model, but the compiled metrics have yet to be built. `model.compile_metrics` will be empty until you train or evaluate the model.\n"
     ]
    },
    {
     "name": "stdout",
     "output_type": "stream",
     "text": [
      "mtd_ai\n",
      "Trial_ 179\n",
      "all_features\n",
      "On Mac\n",
      "Static_factor 2000\n",
      "MTD Scheme [<class 'mtdnetwork.mtd.completetopologyshuffle.CompleteTopologyShuffle'>, <class 'mtdnetwork.mtd.ipshuffle.IPShuffle'>, <class 'mtdnetwork.mtd.osdiversity.OSDiversity'>, <class 'mtdnetwork.mtd.servicediversity.ServiceDiversity'>]\n",
      "Action size(include zero which is no deployment) 5\n"
     ]
    },
    {
     "name": "stderr",
     "output_type": "stream",
     "text": [
      "Compiled the loaded model, but the compiled metrics have yet to be built. `model.compile_metrics` will be empty until you train or evaluate the model.\n"
     ]
    },
    {
     "name": "stdout",
     "output_type": "stream",
     "text": [
      "mtd_ai\n",
      "Trial_ 180\n",
      "all_features\n",
      "On Mac\n",
      "Static_factor 2000\n",
      "MTD Scheme [<class 'mtdnetwork.mtd.completetopologyshuffle.CompleteTopologyShuffle'>, <class 'mtdnetwork.mtd.ipshuffle.IPShuffle'>, <class 'mtdnetwork.mtd.osdiversity.OSDiversity'>, <class 'mtdnetwork.mtd.servicediversity.ServiceDiversity'>]\n",
      "Action size(include zero which is no deployment) 5\n"
     ]
    },
    {
     "name": "stderr",
     "output_type": "stream",
     "text": [
      "Compiled the loaded model, but the compiled metrics have yet to be built. `model.compile_metrics` will be empty until you train or evaluate the model.\n"
     ]
    },
    {
     "name": "stdout",
     "output_type": "stream",
     "text": [
      "mtd_ai\n",
      "Trial_ 181\n",
      "all_features\n",
      "On Mac\n",
      "Static_factor 2000\n",
      "MTD Scheme [<class 'mtdnetwork.mtd.completetopologyshuffle.CompleteTopologyShuffle'>, <class 'mtdnetwork.mtd.ipshuffle.IPShuffle'>, <class 'mtdnetwork.mtd.osdiversity.OSDiversity'>, <class 'mtdnetwork.mtd.servicediversity.ServiceDiversity'>]\n",
      "Action size(include zero which is no deployment) 5\n"
     ]
    },
    {
     "name": "stderr",
     "output_type": "stream",
     "text": [
      "Compiled the loaded model, but the compiled metrics have yet to be built. `model.compile_metrics` will be empty until you train or evaluate the model.\n"
     ]
    },
    {
     "name": "stdout",
     "output_type": "stream",
     "text": [
      "mtd_ai\n",
      "Trial_ 182\n",
      "all_features\n",
      "On Mac\n",
      "Static_factor 2000\n",
      "MTD Scheme [<class 'mtdnetwork.mtd.completetopologyshuffle.CompleteTopologyShuffle'>, <class 'mtdnetwork.mtd.ipshuffle.IPShuffle'>, <class 'mtdnetwork.mtd.osdiversity.OSDiversity'>, <class 'mtdnetwork.mtd.servicediversity.ServiceDiversity'>]\n",
      "Action size(include zero which is no deployment) 5\n"
     ]
    },
    {
     "name": "stderr",
     "output_type": "stream",
     "text": [
      "Compiled the loaded model, but the compiled metrics have yet to be built. `model.compile_metrics` will be empty until you train or evaluate the model.\n"
     ]
    },
    {
     "name": "stdout",
     "output_type": "stream",
     "text": [
      "mtd_ai\n",
      "Trial_ 183\n",
      "all_features\n",
      "On Mac\n",
      "Static_factor 2000\n",
      "MTD Scheme [<class 'mtdnetwork.mtd.completetopologyshuffle.CompleteTopologyShuffle'>, <class 'mtdnetwork.mtd.ipshuffle.IPShuffle'>, <class 'mtdnetwork.mtd.osdiversity.OSDiversity'>, <class 'mtdnetwork.mtd.servicediversity.ServiceDiversity'>]\n",
      "Action size(include zero which is no deployment) 5\n"
     ]
    },
    {
     "name": "stderr",
     "output_type": "stream",
     "text": [
      "Compiled the loaded model, but the compiled metrics have yet to be built. `model.compile_metrics` will be empty until you train or evaluate the model.\n"
     ]
    },
    {
     "name": "stdout",
     "output_type": "stream",
     "text": [
      "mtd_ai\n",
      "Trial_ 184\n",
      "all_features\n",
      "On Mac\n",
      "Static_factor 2000\n",
      "MTD Scheme [<class 'mtdnetwork.mtd.completetopologyshuffle.CompleteTopologyShuffle'>, <class 'mtdnetwork.mtd.ipshuffle.IPShuffle'>, <class 'mtdnetwork.mtd.osdiversity.OSDiversity'>, <class 'mtdnetwork.mtd.servicediversity.ServiceDiversity'>]\n",
      "Action size(include zero which is no deployment) 5\n"
     ]
    },
    {
     "name": "stderr",
     "output_type": "stream",
     "text": [
      "Compiled the loaded model, but the compiled metrics have yet to be built. `model.compile_metrics` will be empty until you train or evaluate the model.\n"
     ]
    },
    {
     "name": "stdout",
     "output_type": "stream",
     "text": [
      "mtd_ai\n",
      "Trial_ 185\n",
      "all_features\n",
      "On Mac\n",
      "Static_factor 2000\n",
      "MTD Scheme [<class 'mtdnetwork.mtd.completetopologyshuffle.CompleteTopologyShuffle'>, <class 'mtdnetwork.mtd.ipshuffle.IPShuffle'>, <class 'mtdnetwork.mtd.osdiversity.OSDiversity'>, <class 'mtdnetwork.mtd.servicediversity.ServiceDiversity'>]\n",
      "Action size(include zero which is no deployment) 5\n"
     ]
    },
    {
     "name": "stderr",
     "output_type": "stream",
     "text": [
      "Compiled the loaded model, but the compiled metrics have yet to be built. `model.compile_metrics` will be empty until you train or evaluate the model.\n"
     ]
    },
    {
     "name": "stdout",
     "output_type": "stream",
     "text": [
      "mtd_ai\n",
      "Trial_ 186\n",
      "all_features\n",
      "On Mac\n",
      "Static_factor 2000\n",
      "MTD Scheme [<class 'mtdnetwork.mtd.completetopologyshuffle.CompleteTopologyShuffle'>, <class 'mtdnetwork.mtd.ipshuffle.IPShuffle'>, <class 'mtdnetwork.mtd.osdiversity.OSDiversity'>, <class 'mtdnetwork.mtd.servicediversity.ServiceDiversity'>]\n",
      "Action size(include zero which is no deployment) 5\n"
     ]
    },
    {
     "name": "stderr",
     "output_type": "stream",
     "text": [
      "Compiled the loaded model, but the compiled metrics have yet to be built. `model.compile_metrics` will be empty until you train or evaluate the model.\n"
     ]
    },
    {
     "name": "stdout",
     "output_type": "stream",
     "text": [
      "mtd_ai\n",
      "Trial_ 187\n",
      "all_features\n",
      "On Mac\n",
      "Static_factor 2000\n",
      "MTD Scheme [<class 'mtdnetwork.mtd.completetopologyshuffle.CompleteTopologyShuffle'>, <class 'mtdnetwork.mtd.ipshuffle.IPShuffle'>, <class 'mtdnetwork.mtd.osdiversity.OSDiversity'>, <class 'mtdnetwork.mtd.servicediversity.ServiceDiversity'>]\n",
      "Action size(include zero which is no deployment) 5\n"
     ]
    },
    {
     "name": "stderr",
     "output_type": "stream",
     "text": [
      "Compiled the loaded model, but the compiled metrics have yet to be built. `model.compile_metrics` will be empty until you train or evaluate the model.\n"
     ]
    },
    {
     "name": "stdout",
     "output_type": "stream",
     "text": [
      "mtd_ai\n",
      "Trial_ 188\n",
      "all_features\n",
      "On Mac\n",
      "Static_factor 2000\n",
      "MTD Scheme [<class 'mtdnetwork.mtd.completetopologyshuffle.CompleteTopologyShuffle'>, <class 'mtdnetwork.mtd.ipshuffle.IPShuffle'>, <class 'mtdnetwork.mtd.osdiversity.OSDiversity'>, <class 'mtdnetwork.mtd.servicediversity.ServiceDiversity'>]\n",
      "Action size(include zero which is no deployment) 5\n"
     ]
    },
    {
     "name": "stderr",
     "output_type": "stream",
     "text": [
      "Compiled the loaded model, but the compiled metrics have yet to be built. `model.compile_metrics` will be empty until you train or evaluate the model.\n"
     ]
    },
    {
     "name": "stdout",
     "output_type": "stream",
     "text": [
      "mtd_ai\n",
      "Trial_ 189\n",
      "all_features\n",
      "On Mac\n",
      "Static_factor 2000\n",
      "MTD Scheme [<class 'mtdnetwork.mtd.completetopologyshuffle.CompleteTopologyShuffle'>, <class 'mtdnetwork.mtd.ipshuffle.IPShuffle'>, <class 'mtdnetwork.mtd.osdiversity.OSDiversity'>, <class 'mtdnetwork.mtd.servicediversity.ServiceDiversity'>]\n",
      "Action size(include zero which is no deployment) 5\n"
     ]
    },
    {
     "name": "stderr",
     "output_type": "stream",
     "text": [
      "Compiled the loaded model, but the compiled metrics have yet to be built. `model.compile_metrics` will be empty until you train or evaluate the model.\n"
     ]
    },
    {
     "name": "stdout",
     "output_type": "stream",
     "text": [
      "mtd_ai\n",
      "Trial_ 190\n",
      "all_features\n",
      "On Mac\n",
      "Static_factor 2000\n",
      "MTD Scheme [<class 'mtdnetwork.mtd.completetopologyshuffle.CompleteTopologyShuffle'>, <class 'mtdnetwork.mtd.ipshuffle.IPShuffle'>, <class 'mtdnetwork.mtd.osdiversity.OSDiversity'>, <class 'mtdnetwork.mtd.servicediversity.ServiceDiversity'>]\n",
      "Action size(include zero which is no deployment) 5\n"
     ]
    },
    {
     "name": "stderr",
     "output_type": "stream",
     "text": [
      "Compiled the loaded model, but the compiled metrics have yet to be built. `model.compile_metrics` will be empty until you train or evaluate the model.\n"
     ]
    },
    {
     "name": "stdout",
     "output_type": "stream",
     "text": [
      "mtd_ai\n",
      "Trial_ 191\n",
      "all_features\n",
      "On Mac\n",
      "Static_factor 2000\n",
      "MTD Scheme [<class 'mtdnetwork.mtd.completetopologyshuffle.CompleteTopologyShuffle'>, <class 'mtdnetwork.mtd.ipshuffle.IPShuffle'>, <class 'mtdnetwork.mtd.osdiversity.OSDiversity'>, <class 'mtdnetwork.mtd.servicediversity.ServiceDiversity'>]\n",
      "Action size(include zero which is no deployment) 5\n"
     ]
    },
    {
     "name": "stderr",
     "output_type": "stream",
     "text": [
      "Compiled the loaded model, but the compiled metrics have yet to be built. `model.compile_metrics` will be empty until you train or evaluate the model.\n"
     ]
    },
    {
     "name": "stdout",
     "output_type": "stream",
     "text": [
      "mtd_ai\n",
      "Trial_ 192\n",
      "all_features\n",
      "On Mac\n",
      "Static_factor 2000\n",
      "MTD Scheme [<class 'mtdnetwork.mtd.completetopologyshuffle.CompleteTopologyShuffle'>, <class 'mtdnetwork.mtd.ipshuffle.IPShuffle'>, <class 'mtdnetwork.mtd.osdiversity.OSDiversity'>, <class 'mtdnetwork.mtd.servicediversity.ServiceDiversity'>]\n",
      "Action size(include zero which is no deployment) 5\n"
     ]
    },
    {
     "name": "stderr",
     "output_type": "stream",
     "text": [
      "Compiled the loaded model, but the compiled metrics have yet to be built. `model.compile_metrics` will be empty until you train or evaluate the model.\n"
     ]
    },
    {
     "name": "stdout",
     "output_type": "stream",
     "text": [
      "mtd_ai\n",
      "Trial_ 193\n",
      "all_features\n",
      "On Mac\n",
      "Static_factor 2000\n",
      "MTD Scheme [<class 'mtdnetwork.mtd.completetopologyshuffle.CompleteTopologyShuffle'>, <class 'mtdnetwork.mtd.ipshuffle.IPShuffle'>, <class 'mtdnetwork.mtd.osdiversity.OSDiversity'>, <class 'mtdnetwork.mtd.servicediversity.ServiceDiversity'>]\n",
      "Action size(include zero which is no deployment) 5\n"
     ]
    },
    {
     "name": "stderr",
     "output_type": "stream",
     "text": [
      "Compiled the loaded model, but the compiled metrics have yet to be built. `model.compile_metrics` will be empty until you train or evaluate the model.\n"
     ]
    },
    {
     "name": "stdout",
     "output_type": "stream",
     "text": [
      "mtd_ai\n",
      "Trial_ 194\n",
      "all_features\n",
      "On Mac\n",
      "Static_factor 2000\n",
      "MTD Scheme [<class 'mtdnetwork.mtd.completetopologyshuffle.CompleteTopologyShuffle'>, <class 'mtdnetwork.mtd.ipshuffle.IPShuffle'>, <class 'mtdnetwork.mtd.osdiversity.OSDiversity'>, <class 'mtdnetwork.mtd.servicediversity.ServiceDiversity'>]\n",
      "Action size(include zero which is no deployment) 5\n"
     ]
    },
    {
     "name": "stderr",
     "output_type": "stream",
     "text": [
      "Compiled the loaded model, but the compiled metrics have yet to be built. `model.compile_metrics` will be empty until you train or evaluate the model.\n"
     ]
    },
    {
     "name": "stdout",
     "output_type": "stream",
     "text": [
      "mtd_ai\n",
      "Trial_ 195\n",
      "all_features\n",
      "On Mac\n",
      "Static_factor 2000\n",
      "MTD Scheme [<class 'mtdnetwork.mtd.completetopologyshuffle.CompleteTopologyShuffle'>, <class 'mtdnetwork.mtd.ipshuffle.IPShuffle'>, <class 'mtdnetwork.mtd.osdiversity.OSDiversity'>, <class 'mtdnetwork.mtd.servicediversity.ServiceDiversity'>]\n",
      "Action size(include zero which is no deployment) 5\n"
     ]
    },
    {
     "name": "stderr",
     "output_type": "stream",
     "text": [
      "Compiled the loaded model, but the compiled metrics have yet to be built. `model.compile_metrics` will be empty until you train or evaluate the model.\n"
     ]
    },
    {
     "name": "stdout",
     "output_type": "stream",
     "text": [
      "mtd_ai\n",
      "Trial_ 196\n",
      "all_features\n",
      "On Mac\n",
      "Static_factor 2000\n",
      "MTD Scheme [<class 'mtdnetwork.mtd.completetopologyshuffle.CompleteTopologyShuffle'>, <class 'mtdnetwork.mtd.ipshuffle.IPShuffle'>, <class 'mtdnetwork.mtd.osdiversity.OSDiversity'>, <class 'mtdnetwork.mtd.servicediversity.ServiceDiversity'>]\n",
      "Action size(include zero which is no deployment) 5\n"
     ]
    },
    {
     "name": "stderr",
     "output_type": "stream",
     "text": [
      "Compiled the loaded model, but the compiled metrics have yet to be built. `model.compile_metrics` will be empty until you train or evaluate the model.\n"
     ]
    },
    {
     "name": "stdout",
     "output_type": "stream",
     "text": [
      "mtd_ai\n",
      "Trial_ 197\n",
      "all_features\n",
      "On Mac\n",
      "Static_factor 2000\n",
      "MTD Scheme [<class 'mtdnetwork.mtd.completetopologyshuffle.CompleteTopologyShuffle'>, <class 'mtdnetwork.mtd.ipshuffle.IPShuffle'>, <class 'mtdnetwork.mtd.osdiversity.OSDiversity'>, <class 'mtdnetwork.mtd.servicediversity.ServiceDiversity'>]\n",
      "Action size(include zero which is no deployment) 5\n"
     ]
    },
    {
     "name": "stderr",
     "output_type": "stream",
     "text": [
      "Compiled the loaded model, but the compiled metrics have yet to be built. `model.compile_metrics` will be empty until you train or evaluate the model.\n"
     ]
    },
    {
     "name": "stdout",
     "output_type": "stream",
     "text": [
      "mtd_ai\n",
      "Trial_ 198\n",
      "all_features\n",
      "On Mac\n",
      "Static_factor 2000\n",
      "MTD Scheme [<class 'mtdnetwork.mtd.completetopologyshuffle.CompleteTopologyShuffle'>, <class 'mtdnetwork.mtd.ipshuffle.IPShuffle'>, <class 'mtdnetwork.mtd.osdiversity.OSDiversity'>, <class 'mtdnetwork.mtd.servicediversity.ServiceDiversity'>]\n",
      "Action size(include zero which is no deployment) 5\n"
     ]
    },
    {
     "name": "stderr",
     "output_type": "stream",
     "text": [
      "Compiled the loaded model, but the compiled metrics have yet to be built. `model.compile_metrics` will be empty until you train or evaluate the model.\n"
     ]
    },
    {
     "name": "stdout",
     "output_type": "stream",
     "text": [
      "mtd_ai\n",
      "Trial_ 199\n",
      "all_features\n",
      "On Mac\n",
      "Static_factor 2000\n",
      "MTD Scheme [<class 'mtdnetwork.mtd.completetopologyshuffle.CompleteTopologyShuffle'>, <class 'mtdnetwork.mtd.ipshuffle.IPShuffle'>, <class 'mtdnetwork.mtd.osdiversity.OSDiversity'>, <class 'mtdnetwork.mtd.servicediversity.ServiceDiversity'>]\n",
      "Action size(include zero which is no deployment) 5\n"
     ]
    },
    {
     "name": "stderr",
     "output_type": "stream",
     "text": [
      "Compiled the loaded model, but the compiled metrics have yet to be built. `model.compile_metrics` will be empty until you train or evaluate the model.\n"
     ]
    },
    {
     "name": "stdout",
     "output_type": "stream",
     "text": [
      "mtd_ai\n",
      "Trial_ 200\n",
      "all_features\n",
      "On Mac\n",
      "Static_factor 2000\n",
      "MTD Scheme [<class 'mtdnetwork.mtd.completetopologyshuffle.CompleteTopologyShuffle'>, <class 'mtdnetwork.mtd.ipshuffle.IPShuffle'>, <class 'mtdnetwork.mtd.osdiversity.OSDiversity'>, <class 'mtdnetwork.mtd.servicediversity.ServiceDiversity'>]\n",
      "Action size(include zero which is no deployment) 5\n"
     ]
    },
    {
     "name": "stderr",
     "output_type": "stream",
     "text": [
      "Compiled the loaded model, but the compiled metrics have yet to be built. `model.compile_metrics` will be empty until you train or evaluate the model.\n"
     ]
    },
    {
     "name": "stdout",
     "output_type": "stream",
     "text": [
      "mtd_ai\n",
      "Trial_ 201\n",
      "all_features\n",
      "On Mac\n",
      "Static_factor 2000\n",
      "MTD Scheme [<class 'mtdnetwork.mtd.completetopologyshuffle.CompleteTopologyShuffle'>, <class 'mtdnetwork.mtd.ipshuffle.IPShuffle'>, <class 'mtdnetwork.mtd.osdiversity.OSDiversity'>, <class 'mtdnetwork.mtd.servicediversity.ServiceDiversity'>]\n",
      "Action size(include zero which is no deployment) 5\n"
     ]
    },
    {
     "name": "stderr",
     "output_type": "stream",
     "text": [
      "Compiled the loaded model, but the compiled metrics have yet to be built. `model.compile_metrics` will be empty until you train or evaluate the model.\n"
     ]
    },
    {
     "name": "stdout",
     "output_type": "stream",
     "text": [
      "mtd_ai\n",
      "Trial_ 202\n",
      "all_features\n",
      "On Mac\n",
      "Static_factor 2000\n",
      "MTD Scheme [<class 'mtdnetwork.mtd.completetopologyshuffle.CompleteTopologyShuffle'>, <class 'mtdnetwork.mtd.ipshuffle.IPShuffle'>, <class 'mtdnetwork.mtd.osdiversity.OSDiversity'>, <class 'mtdnetwork.mtd.servicediversity.ServiceDiversity'>]\n",
      "Action size(include zero which is no deployment) 5\n"
     ]
    },
    {
     "name": "stderr",
     "output_type": "stream",
     "text": [
      "Compiled the loaded model, but the compiled metrics have yet to be built. `model.compile_metrics` will be empty until you train or evaluate the model.\n"
     ]
    },
    {
     "name": "stdout",
     "output_type": "stream",
     "text": [
      "mtd_ai\n",
      "Trial_ 203\n",
      "all_features\n",
      "On Mac\n",
      "Static_factor 2000\n",
      "MTD Scheme [<class 'mtdnetwork.mtd.completetopologyshuffle.CompleteTopologyShuffle'>, <class 'mtdnetwork.mtd.ipshuffle.IPShuffle'>, <class 'mtdnetwork.mtd.osdiversity.OSDiversity'>, <class 'mtdnetwork.mtd.servicediversity.ServiceDiversity'>]\n",
      "Action size(include zero which is no deployment) 5\n"
     ]
    },
    {
     "name": "stderr",
     "output_type": "stream",
     "text": [
      "Compiled the loaded model, but the compiled metrics have yet to be built. `model.compile_metrics` will be empty until you train or evaluate the model.\n"
     ]
    },
    {
     "name": "stdout",
     "output_type": "stream",
     "text": [
      "mtd_ai\n",
      "Trial_ 204\n",
      "all_features\n",
      "On Mac\n",
      "Static_factor 2000\n",
      "MTD Scheme [<class 'mtdnetwork.mtd.completetopologyshuffle.CompleteTopologyShuffle'>, <class 'mtdnetwork.mtd.ipshuffle.IPShuffle'>, <class 'mtdnetwork.mtd.osdiversity.OSDiversity'>, <class 'mtdnetwork.mtd.servicediversity.ServiceDiversity'>]\n",
      "Action size(include zero which is no deployment) 5\n"
     ]
    },
    {
     "name": "stderr",
     "output_type": "stream",
     "text": [
      "Compiled the loaded model, but the compiled metrics have yet to be built. `model.compile_metrics` will be empty until you train or evaluate the model.\n"
     ]
    },
    {
     "name": "stdout",
     "output_type": "stream",
     "text": [
      "mtd_ai\n",
      "Trial_ 205\n",
      "all_features\n",
      "On Mac\n",
      "Static_factor 2000\n",
      "MTD Scheme [<class 'mtdnetwork.mtd.completetopologyshuffle.CompleteTopologyShuffle'>, <class 'mtdnetwork.mtd.ipshuffle.IPShuffle'>, <class 'mtdnetwork.mtd.osdiversity.OSDiversity'>, <class 'mtdnetwork.mtd.servicediversity.ServiceDiversity'>]\n",
      "Action size(include zero which is no deployment) 5\n"
     ]
    },
    {
     "name": "stderr",
     "output_type": "stream",
     "text": [
      "Compiled the loaded model, but the compiled metrics have yet to be built. `model.compile_metrics` will be empty until you train or evaluate the model.\n"
     ]
    },
    {
     "name": "stdout",
     "output_type": "stream",
     "text": [
      "mtd_ai\n",
      "Trial_ 206\n",
      "all_features\n",
      "On Mac\n",
      "Static_factor 2000\n",
      "MTD Scheme [<class 'mtdnetwork.mtd.completetopologyshuffle.CompleteTopologyShuffle'>, <class 'mtdnetwork.mtd.ipshuffle.IPShuffle'>, <class 'mtdnetwork.mtd.osdiversity.OSDiversity'>, <class 'mtdnetwork.mtd.servicediversity.ServiceDiversity'>]\n",
      "Action size(include zero which is no deployment) 5\n"
     ]
    },
    {
     "name": "stderr",
     "output_type": "stream",
     "text": [
      "Compiled the loaded model, but the compiled metrics have yet to be built. `model.compile_metrics` will be empty until you train or evaluate the model.\n"
     ]
    },
    {
     "name": "stdout",
     "output_type": "stream",
     "text": [
      "mtd_ai\n",
      "Trial_ 207\n",
      "all_features\n",
      "On Mac\n",
      "Static_factor 2000\n",
      "MTD Scheme [<class 'mtdnetwork.mtd.completetopologyshuffle.CompleteTopologyShuffle'>, <class 'mtdnetwork.mtd.ipshuffle.IPShuffle'>, <class 'mtdnetwork.mtd.osdiversity.OSDiversity'>, <class 'mtdnetwork.mtd.servicediversity.ServiceDiversity'>]\n",
      "Action size(include zero which is no deployment) 5\n"
     ]
    },
    {
     "name": "stderr",
     "output_type": "stream",
     "text": [
      "Compiled the loaded model, but the compiled metrics have yet to be built. `model.compile_metrics` will be empty until you train or evaluate the model.\n"
     ]
    },
    {
     "name": "stdout",
     "output_type": "stream",
     "text": [
      "mtd_ai\n",
      "Trial_ 208\n",
      "all_features\n",
      "On Mac\n",
      "Static_factor 2000\n",
      "MTD Scheme [<class 'mtdnetwork.mtd.completetopologyshuffle.CompleteTopologyShuffle'>, <class 'mtdnetwork.mtd.ipshuffle.IPShuffle'>, <class 'mtdnetwork.mtd.osdiversity.OSDiversity'>, <class 'mtdnetwork.mtd.servicediversity.ServiceDiversity'>]\n",
      "Action size(include zero which is no deployment) 5\n"
     ]
    },
    {
     "name": "stderr",
     "output_type": "stream",
     "text": [
      "Compiled the loaded model, but the compiled metrics have yet to be built. `model.compile_metrics` will be empty until you train or evaluate the model.\n"
     ]
    },
    {
     "name": "stdout",
     "output_type": "stream",
     "text": [
      "mtd_ai\n",
      "Trial_ 209\n",
      "all_features\n",
      "On Mac\n",
      "Static_factor 2000\n",
      "MTD Scheme [<class 'mtdnetwork.mtd.completetopologyshuffle.CompleteTopologyShuffle'>, <class 'mtdnetwork.mtd.ipshuffle.IPShuffle'>, <class 'mtdnetwork.mtd.osdiversity.OSDiversity'>, <class 'mtdnetwork.mtd.servicediversity.ServiceDiversity'>]\n",
      "Action size(include zero which is no deployment) 5\n"
     ]
    },
    {
     "name": "stderr",
     "output_type": "stream",
     "text": [
      "Compiled the loaded model, but the compiled metrics have yet to be built. `model.compile_metrics` will be empty until you train or evaluate the model.\n"
     ]
    },
    {
     "name": "stdout",
     "output_type": "stream",
     "text": [
      "mtd_ai\n",
      "Trial_ 210\n",
      "all_features\n",
      "On Mac\n",
      "Static_factor 2000\n",
      "MTD Scheme [<class 'mtdnetwork.mtd.completetopologyshuffle.CompleteTopologyShuffle'>, <class 'mtdnetwork.mtd.ipshuffle.IPShuffle'>, <class 'mtdnetwork.mtd.osdiversity.OSDiversity'>, <class 'mtdnetwork.mtd.servicediversity.ServiceDiversity'>]\n",
      "Action size(include zero which is no deployment) 5\n"
     ]
    },
    {
     "name": "stderr",
     "output_type": "stream",
     "text": [
      "Compiled the loaded model, but the compiled metrics have yet to be built. `model.compile_metrics` will be empty until you train or evaluate the model.\n"
     ]
    },
    {
     "name": "stdout",
     "output_type": "stream",
     "text": [
      "mtd_ai\n",
      "Trial_ 211\n",
      "all_features\n",
      "On Mac\n",
      "Static_factor 2000\n",
      "MTD Scheme [<class 'mtdnetwork.mtd.completetopologyshuffle.CompleteTopologyShuffle'>, <class 'mtdnetwork.mtd.ipshuffle.IPShuffle'>, <class 'mtdnetwork.mtd.osdiversity.OSDiversity'>, <class 'mtdnetwork.mtd.servicediversity.ServiceDiversity'>]\n",
      "Action size(include zero which is no deployment) 5\n"
     ]
    },
    {
     "name": "stderr",
     "output_type": "stream",
     "text": [
      "Compiled the loaded model, but the compiled metrics have yet to be built. `model.compile_metrics` will be empty until you train or evaluate the model.\n"
     ]
    },
    {
     "name": "stdout",
     "output_type": "stream",
     "text": [
      "mtd_ai\n",
      "Trial_ 212\n",
      "all_features\n",
      "On Mac\n",
      "Static_factor 2000\n",
      "MTD Scheme [<class 'mtdnetwork.mtd.completetopologyshuffle.CompleteTopologyShuffle'>, <class 'mtdnetwork.mtd.ipshuffle.IPShuffle'>, <class 'mtdnetwork.mtd.osdiversity.OSDiversity'>, <class 'mtdnetwork.mtd.servicediversity.ServiceDiversity'>]\n",
      "Action size(include zero which is no deployment) 5\n"
     ]
    },
    {
     "name": "stderr",
     "output_type": "stream",
     "text": [
      "Compiled the loaded model, but the compiled metrics have yet to be built. `model.compile_metrics` will be empty until you train or evaluate the model.\n"
     ]
    },
    {
     "name": "stdout",
     "output_type": "stream",
     "text": [
      "mtd_ai\n",
      "Trial_ 213\n",
      "all_features\n",
      "On Mac\n",
      "Static_factor 2000\n",
      "MTD Scheme [<class 'mtdnetwork.mtd.completetopologyshuffle.CompleteTopologyShuffle'>, <class 'mtdnetwork.mtd.ipshuffle.IPShuffle'>, <class 'mtdnetwork.mtd.osdiversity.OSDiversity'>, <class 'mtdnetwork.mtd.servicediversity.ServiceDiversity'>]\n",
      "Action size(include zero which is no deployment) 5\n"
     ]
    },
    {
     "name": "stderr",
     "output_type": "stream",
     "text": [
      "Compiled the loaded model, but the compiled metrics have yet to be built. `model.compile_metrics` will be empty until you train or evaluate the model.\n"
     ]
    },
    {
     "name": "stdout",
     "output_type": "stream",
     "text": [
      "mtd_ai\n",
      "Trial_ 214\n",
      "all_features\n",
      "On Mac\n",
      "Static_factor 2000\n",
      "MTD Scheme [<class 'mtdnetwork.mtd.completetopologyshuffle.CompleteTopologyShuffle'>, <class 'mtdnetwork.mtd.ipshuffle.IPShuffle'>, <class 'mtdnetwork.mtd.osdiversity.OSDiversity'>, <class 'mtdnetwork.mtd.servicediversity.ServiceDiversity'>]\n",
      "Action size(include zero which is no deployment) 5\n"
     ]
    },
    {
     "name": "stderr",
     "output_type": "stream",
     "text": [
      "Compiled the loaded model, but the compiled metrics have yet to be built. `model.compile_metrics` will be empty until you train or evaluate the model.\n"
     ]
    },
    {
     "name": "stdout",
     "output_type": "stream",
     "text": [
      "mtd_ai\n",
      "Trial_ 215\n",
      "all_features\n",
      "On Mac\n",
      "Static_factor 2000\n",
      "MTD Scheme [<class 'mtdnetwork.mtd.completetopologyshuffle.CompleteTopologyShuffle'>, <class 'mtdnetwork.mtd.ipshuffle.IPShuffle'>, <class 'mtdnetwork.mtd.osdiversity.OSDiversity'>, <class 'mtdnetwork.mtd.servicediversity.ServiceDiversity'>]\n",
      "Action size(include zero which is no deployment) 5\n"
     ]
    },
    {
     "name": "stderr",
     "output_type": "stream",
     "text": [
      "Compiled the loaded model, but the compiled metrics have yet to be built. `model.compile_metrics` will be empty until you train or evaluate the model.\n"
     ]
    },
    {
     "name": "stdout",
     "output_type": "stream",
     "text": [
      "mtd_ai\n",
      "Trial_ 216\n",
      "all_features\n",
      "On Mac\n",
      "Static_factor 2000\n",
      "MTD Scheme [<class 'mtdnetwork.mtd.completetopologyshuffle.CompleteTopologyShuffle'>, <class 'mtdnetwork.mtd.ipshuffle.IPShuffle'>, <class 'mtdnetwork.mtd.osdiversity.OSDiversity'>, <class 'mtdnetwork.mtd.servicediversity.ServiceDiversity'>]\n",
      "Action size(include zero which is no deployment) 5\n"
     ]
    },
    {
     "name": "stderr",
     "output_type": "stream",
     "text": [
      "Compiled the loaded model, but the compiled metrics have yet to be built. `model.compile_metrics` will be empty until you train or evaluate the model.\n"
     ]
    },
    {
     "name": "stdout",
     "output_type": "stream",
     "text": [
      "mtd_ai\n",
      "Trial_ 217\n",
      "all_features\n",
      "On Mac\n",
      "Static_factor 2000\n",
      "MTD Scheme [<class 'mtdnetwork.mtd.completetopologyshuffle.CompleteTopologyShuffle'>, <class 'mtdnetwork.mtd.ipshuffle.IPShuffle'>, <class 'mtdnetwork.mtd.osdiversity.OSDiversity'>, <class 'mtdnetwork.mtd.servicediversity.ServiceDiversity'>]\n",
      "Action size(include zero which is no deployment) 5\n"
     ]
    },
    {
     "name": "stderr",
     "output_type": "stream",
     "text": [
      "Compiled the loaded model, but the compiled metrics have yet to be built. `model.compile_metrics` will be empty until you train or evaluate the model.\n"
     ]
    },
    {
     "name": "stdout",
     "output_type": "stream",
     "text": [
      "mtd_ai\n",
      "Trial_ 218\n",
      "all_features\n",
      "On Mac\n",
      "Static_factor 2000\n",
      "MTD Scheme [<class 'mtdnetwork.mtd.completetopologyshuffle.CompleteTopologyShuffle'>, <class 'mtdnetwork.mtd.ipshuffle.IPShuffle'>, <class 'mtdnetwork.mtd.osdiversity.OSDiversity'>, <class 'mtdnetwork.mtd.servicediversity.ServiceDiversity'>]\n",
      "Action size(include zero which is no deployment) 5\n"
     ]
    },
    {
     "name": "stderr",
     "output_type": "stream",
     "text": [
      "Compiled the loaded model, but the compiled metrics have yet to be built. `model.compile_metrics` will be empty until you train or evaluate the model.\n"
     ]
    },
    {
     "name": "stdout",
     "output_type": "stream",
     "text": [
      "mtd_ai\n",
      "Trial_ 219\n",
      "all_features\n",
      "On Mac\n",
      "Static_factor 2000\n",
      "MTD Scheme [<class 'mtdnetwork.mtd.completetopologyshuffle.CompleteTopologyShuffle'>, <class 'mtdnetwork.mtd.ipshuffle.IPShuffle'>, <class 'mtdnetwork.mtd.osdiversity.OSDiversity'>, <class 'mtdnetwork.mtd.servicediversity.ServiceDiversity'>]\n",
      "Action size(include zero which is no deployment) 5\n"
     ]
    },
    {
     "name": "stderr",
     "output_type": "stream",
     "text": [
      "Compiled the loaded model, but the compiled metrics have yet to be built. `model.compile_metrics` will be empty until you train or evaluate the model.\n"
     ]
    },
    {
     "name": "stdout",
     "output_type": "stream",
     "text": [
      "mtd_ai\n",
      "Trial_ 220\n",
      "all_features\n",
      "On Mac\n",
      "Static_factor 2000\n",
      "MTD Scheme [<class 'mtdnetwork.mtd.completetopologyshuffle.CompleteTopologyShuffle'>, <class 'mtdnetwork.mtd.ipshuffle.IPShuffle'>, <class 'mtdnetwork.mtd.osdiversity.OSDiversity'>, <class 'mtdnetwork.mtd.servicediversity.ServiceDiversity'>]\n",
      "Action size(include zero which is no deployment) 5\n"
     ]
    },
    {
     "name": "stderr",
     "output_type": "stream",
     "text": [
      "Compiled the loaded model, but the compiled metrics have yet to be built. `model.compile_metrics` will be empty until you train or evaluate the model.\n"
     ]
    },
    {
     "name": "stdout",
     "output_type": "stream",
     "text": [
      "mtd_ai\n",
      "Trial_ 221\n",
      "all_features\n",
      "On Mac\n",
      "Static_factor 2000\n",
      "MTD Scheme [<class 'mtdnetwork.mtd.completetopologyshuffle.CompleteTopologyShuffle'>, <class 'mtdnetwork.mtd.ipshuffle.IPShuffle'>, <class 'mtdnetwork.mtd.osdiversity.OSDiversity'>, <class 'mtdnetwork.mtd.servicediversity.ServiceDiversity'>]\n",
      "Action size(include zero which is no deployment) 5\n"
     ]
    },
    {
     "name": "stderr",
     "output_type": "stream",
     "text": [
      "Compiled the loaded model, but the compiled metrics have yet to be built. `model.compile_metrics` will be empty until you train or evaluate the model.\n"
     ]
    },
    {
     "name": "stdout",
     "output_type": "stream",
     "text": [
      "mtd_ai\n",
      "Trial_ 222\n",
      "all_features\n",
      "On Mac\n",
      "Static_factor 2000\n",
      "MTD Scheme [<class 'mtdnetwork.mtd.completetopologyshuffle.CompleteTopologyShuffle'>, <class 'mtdnetwork.mtd.ipshuffle.IPShuffle'>, <class 'mtdnetwork.mtd.osdiversity.OSDiversity'>, <class 'mtdnetwork.mtd.servicediversity.ServiceDiversity'>]\n",
      "Action size(include zero which is no deployment) 5\n"
     ]
    },
    {
     "name": "stderr",
     "output_type": "stream",
     "text": [
      "Compiled the loaded model, but the compiled metrics have yet to be built. `model.compile_metrics` will be empty until you train or evaluate the model.\n"
     ]
    },
    {
     "name": "stdout",
     "output_type": "stream",
     "text": [
      "mtd_ai\n",
      "Trial_ 223\n",
      "all_features\n",
      "On Mac\n",
      "Static_factor 2000\n",
      "MTD Scheme [<class 'mtdnetwork.mtd.completetopologyshuffle.CompleteTopologyShuffle'>, <class 'mtdnetwork.mtd.ipshuffle.IPShuffle'>, <class 'mtdnetwork.mtd.osdiversity.OSDiversity'>, <class 'mtdnetwork.mtd.servicediversity.ServiceDiversity'>]\n",
      "Action size(include zero which is no deployment) 5\n"
     ]
    },
    {
     "name": "stderr",
     "output_type": "stream",
     "text": [
      "Compiled the loaded model, but the compiled metrics have yet to be built. `model.compile_metrics` will be empty until you train or evaluate the model.\n"
     ]
    },
    {
     "name": "stdout",
     "output_type": "stream",
     "text": [
      "mtd_ai\n",
      "Trial_ 224\n",
      "all_features\n",
      "On Mac\n",
      "Static_factor 2000\n",
      "MTD Scheme [<class 'mtdnetwork.mtd.completetopologyshuffle.CompleteTopologyShuffle'>, <class 'mtdnetwork.mtd.ipshuffle.IPShuffle'>, <class 'mtdnetwork.mtd.osdiversity.OSDiversity'>, <class 'mtdnetwork.mtd.servicediversity.ServiceDiversity'>]\n",
      "Action size(include zero which is no deployment) 5\n"
     ]
    },
    {
     "name": "stderr",
     "output_type": "stream",
     "text": [
      "Compiled the loaded model, but the compiled metrics have yet to be built. `model.compile_metrics` will be empty until you train or evaluate the model.\n"
     ]
    },
    {
     "name": "stdout",
     "output_type": "stream",
     "text": [
      "mtd_ai\n",
      "Trial_ 225\n",
      "all_features\n",
      "On Mac\n",
      "Static_factor 2000\n",
      "MTD Scheme [<class 'mtdnetwork.mtd.completetopologyshuffle.CompleteTopologyShuffle'>, <class 'mtdnetwork.mtd.ipshuffle.IPShuffle'>, <class 'mtdnetwork.mtd.osdiversity.OSDiversity'>, <class 'mtdnetwork.mtd.servicediversity.ServiceDiversity'>]\n",
      "Action size(include zero which is no deployment) 5\n"
     ]
    },
    {
     "name": "stderr",
     "output_type": "stream",
     "text": [
      "Compiled the loaded model, but the compiled metrics have yet to be built. `model.compile_metrics` will be empty until you train or evaluate the model.\n"
     ]
    },
    {
     "name": "stdout",
     "output_type": "stream",
     "text": [
      "mtd_ai\n",
      "Trial_ 226\n",
      "all_features\n",
      "On Mac\n",
      "Static_factor 2000\n",
      "MTD Scheme [<class 'mtdnetwork.mtd.completetopologyshuffle.CompleteTopologyShuffle'>, <class 'mtdnetwork.mtd.ipshuffle.IPShuffle'>, <class 'mtdnetwork.mtd.osdiversity.OSDiversity'>, <class 'mtdnetwork.mtd.servicediversity.ServiceDiversity'>]\n",
      "Action size(include zero which is no deployment) 5\n"
     ]
    },
    {
     "name": "stderr",
     "output_type": "stream",
     "text": [
      "Compiled the loaded model, but the compiled metrics have yet to be built. `model.compile_metrics` will be empty until you train or evaluate the model.\n"
     ]
    },
    {
     "name": "stdout",
     "output_type": "stream",
     "text": [
      "mtd_ai\n",
      "Trial_ 227\n",
      "all_features\n",
      "On Mac\n",
      "Static_factor 2000\n",
      "MTD Scheme [<class 'mtdnetwork.mtd.completetopologyshuffle.CompleteTopologyShuffle'>, <class 'mtdnetwork.mtd.ipshuffle.IPShuffle'>, <class 'mtdnetwork.mtd.osdiversity.OSDiversity'>, <class 'mtdnetwork.mtd.servicediversity.ServiceDiversity'>]\n",
      "Action size(include zero which is no deployment) 5\n"
     ]
    },
    {
     "name": "stderr",
     "output_type": "stream",
     "text": [
      "Compiled the loaded model, but the compiled metrics have yet to be built. `model.compile_metrics` will be empty until you train or evaluate the model.\n"
     ]
    },
    {
     "name": "stdout",
     "output_type": "stream",
     "text": [
      "mtd_ai\n",
      "Trial_ 228\n",
      "all_features\n",
      "On Mac\n",
      "Static_factor 2000\n",
      "MTD Scheme [<class 'mtdnetwork.mtd.completetopologyshuffle.CompleteTopologyShuffle'>, <class 'mtdnetwork.mtd.ipshuffle.IPShuffle'>, <class 'mtdnetwork.mtd.osdiversity.OSDiversity'>, <class 'mtdnetwork.mtd.servicediversity.ServiceDiversity'>]\n",
      "Action size(include zero which is no deployment) 5\n"
     ]
    },
    {
     "name": "stderr",
     "output_type": "stream",
     "text": [
      "Compiled the loaded model, but the compiled metrics have yet to be built. `model.compile_metrics` will be empty until you train or evaluate the model.\n"
     ]
    },
    {
     "name": "stdout",
     "output_type": "stream",
     "text": [
      "mtd_ai\n",
      "Trial_ 229\n",
      "all_features\n",
      "On Mac\n",
      "Static_factor 2000\n",
      "MTD Scheme [<class 'mtdnetwork.mtd.completetopologyshuffle.CompleteTopologyShuffle'>, <class 'mtdnetwork.mtd.ipshuffle.IPShuffle'>, <class 'mtdnetwork.mtd.osdiversity.OSDiversity'>, <class 'mtdnetwork.mtd.servicediversity.ServiceDiversity'>]\n",
      "Action size(include zero which is no deployment) 5\n"
     ]
    },
    {
     "name": "stderr",
     "output_type": "stream",
     "text": [
      "Compiled the loaded model, but the compiled metrics have yet to be built. `model.compile_metrics` will be empty until you train or evaluate the model.\n"
     ]
    },
    {
     "name": "stdout",
     "output_type": "stream",
     "text": [
      "mtd_ai\n",
      "Trial_ 230\n",
      "all_features\n",
      "On Mac\n",
      "Static_factor 2000\n",
      "MTD Scheme [<class 'mtdnetwork.mtd.completetopologyshuffle.CompleteTopologyShuffle'>, <class 'mtdnetwork.mtd.ipshuffle.IPShuffle'>, <class 'mtdnetwork.mtd.osdiversity.OSDiversity'>, <class 'mtdnetwork.mtd.servicediversity.ServiceDiversity'>]\n",
      "Action size(include zero which is no deployment) 5\n"
     ]
    },
    {
     "name": "stderr",
     "output_type": "stream",
     "text": [
      "Compiled the loaded model, but the compiled metrics have yet to be built. `model.compile_metrics` will be empty until you train or evaluate the model.\n"
     ]
    },
    {
     "name": "stdout",
     "output_type": "stream",
     "text": [
      "mtd_ai\n",
      "Trial_ 231\n",
      "all_features\n",
      "On Mac\n",
      "Static_factor 2000\n",
      "MTD Scheme [<class 'mtdnetwork.mtd.completetopologyshuffle.CompleteTopologyShuffle'>, <class 'mtdnetwork.mtd.ipshuffle.IPShuffle'>, <class 'mtdnetwork.mtd.osdiversity.OSDiversity'>, <class 'mtdnetwork.mtd.servicediversity.ServiceDiversity'>]\n",
      "Action size(include zero which is no deployment) 5\n"
     ]
    },
    {
     "name": "stderr",
     "output_type": "stream",
     "text": [
      "Compiled the loaded model, but the compiled metrics have yet to be built. `model.compile_metrics` will be empty until you train or evaluate the model.\n"
     ]
    },
    {
     "name": "stdout",
     "output_type": "stream",
     "text": [
      "mtd_ai\n",
      "Trial_ 232\n",
      "all_features\n",
      "On Mac\n",
      "Static_factor 2000\n",
      "MTD Scheme [<class 'mtdnetwork.mtd.completetopologyshuffle.CompleteTopologyShuffle'>, <class 'mtdnetwork.mtd.ipshuffle.IPShuffle'>, <class 'mtdnetwork.mtd.osdiversity.OSDiversity'>, <class 'mtdnetwork.mtd.servicediversity.ServiceDiversity'>]\n",
      "Action size(include zero which is no deployment) 5\n"
     ]
    },
    {
     "name": "stderr",
     "output_type": "stream",
     "text": [
      "Compiled the loaded model, but the compiled metrics have yet to be built. `model.compile_metrics` will be empty until you train or evaluate the model.\n"
     ]
    },
    {
     "name": "stdout",
     "output_type": "stream",
     "text": [
      "mtd_ai\n",
      "Trial_ 233\n",
      "all_features\n",
      "On Mac\n",
      "Static_factor 2000\n",
      "MTD Scheme [<class 'mtdnetwork.mtd.completetopologyshuffle.CompleteTopologyShuffle'>, <class 'mtdnetwork.mtd.ipshuffle.IPShuffle'>, <class 'mtdnetwork.mtd.osdiversity.OSDiversity'>, <class 'mtdnetwork.mtd.servicediversity.ServiceDiversity'>]\n",
      "Action size(include zero which is no deployment) 5\n"
     ]
    },
    {
     "name": "stderr",
     "output_type": "stream",
     "text": [
      "Compiled the loaded model, but the compiled metrics have yet to be built. `model.compile_metrics` will be empty until you train or evaluate the model.\n"
     ]
    },
    {
     "name": "stdout",
     "output_type": "stream",
     "text": [
      "mtd_ai\n",
      "Trial_ 234\n",
      "all_features\n",
      "On Mac\n",
      "Static_factor 2000\n",
      "MTD Scheme [<class 'mtdnetwork.mtd.completetopologyshuffle.CompleteTopologyShuffle'>, <class 'mtdnetwork.mtd.ipshuffle.IPShuffle'>, <class 'mtdnetwork.mtd.osdiversity.OSDiversity'>, <class 'mtdnetwork.mtd.servicediversity.ServiceDiversity'>]\n",
      "Action size(include zero which is no deployment) 5\n"
     ]
    },
    {
     "name": "stderr",
     "output_type": "stream",
     "text": [
      "Compiled the loaded model, but the compiled metrics have yet to be built. `model.compile_metrics` will be empty until you train or evaluate the model.\n"
     ]
    },
    {
     "name": "stdout",
     "output_type": "stream",
     "text": [
      "mtd_ai\n",
      "Trial_ 235\n",
      "all_features\n",
      "On Mac\n",
      "Static_factor 2000\n",
      "MTD Scheme [<class 'mtdnetwork.mtd.completetopologyshuffle.CompleteTopologyShuffle'>, <class 'mtdnetwork.mtd.ipshuffle.IPShuffle'>, <class 'mtdnetwork.mtd.osdiversity.OSDiversity'>, <class 'mtdnetwork.mtd.servicediversity.ServiceDiversity'>]\n",
      "Action size(include zero which is no deployment) 5\n"
     ]
    },
    {
     "name": "stderr",
     "output_type": "stream",
     "text": [
      "Compiled the loaded model, but the compiled metrics have yet to be built. `model.compile_metrics` will be empty until you train or evaluate the model.\n"
     ]
    },
    {
     "name": "stdout",
     "output_type": "stream",
     "text": [
      "mtd_ai\n",
      "Trial_ 236\n",
      "all_features\n",
      "On Mac\n",
      "Static_factor 2000\n",
      "MTD Scheme [<class 'mtdnetwork.mtd.completetopologyshuffle.CompleteTopologyShuffle'>, <class 'mtdnetwork.mtd.ipshuffle.IPShuffle'>, <class 'mtdnetwork.mtd.osdiversity.OSDiversity'>, <class 'mtdnetwork.mtd.servicediversity.ServiceDiversity'>]\n",
      "Action size(include zero which is no deployment) 5\n"
     ]
    },
    {
     "name": "stderr",
     "output_type": "stream",
     "text": [
      "Compiled the loaded model, but the compiled metrics have yet to be built. `model.compile_metrics` will be empty until you train or evaluate the model.\n"
     ]
    },
    {
     "name": "stdout",
     "output_type": "stream",
     "text": [
      "mtd_ai\n",
      "Trial_ 237\n",
      "all_features\n",
      "On Mac\n",
      "Static_factor 2000\n",
      "MTD Scheme [<class 'mtdnetwork.mtd.completetopologyshuffle.CompleteTopologyShuffle'>, <class 'mtdnetwork.mtd.ipshuffle.IPShuffle'>, <class 'mtdnetwork.mtd.osdiversity.OSDiversity'>, <class 'mtdnetwork.mtd.servicediversity.ServiceDiversity'>]\n",
      "Action size(include zero which is no deployment) 5\n"
     ]
    },
    {
     "name": "stderr",
     "output_type": "stream",
     "text": [
      "Compiled the loaded model, but the compiled metrics have yet to be built. `model.compile_metrics` will be empty until you train or evaluate the model.\n"
     ]
    },
    {
     "name": "stdout",
     "output_type": "stream",
     "text": [
      "mtd_ai\n",
      "Trial_ 238\n",
      "all_features\n",
      "On Mac\n",
      "Static_factor 2000\n",
      "MTD Scheme [<class 'mtdnetwork.mtd.completetopologyshuffle.CompleteTopologyShuffle'>, <class 'mtdnetwork.mtd.ipshuffle.IPShuffle'>, <class 'mtdnetwork.mtd.osdiversity.OSDiversity'>, <class 'mtdnetwork.mtd.servicediversity.ServiceDiversity'>]\n",
      "Action size(include zero which is no deployment) 5\n"
     ]
    },
    {
     "name": "stderr",
     "output_type": "stream",
     "text": [
      "Compiled the loaded model, but the compiled metrics have yet to be built. `model.compile_metrics` will be empty until you train or evaluate the model.\n"
     ]
    },
    {
     "name": "stdout",
     "output_type": "stream",
     "text": [
      "mtd_ai\n",
      "Trial_ 239\n",
      "all_features\n",
      "On Mac\n",
      "Static_factor 2000\n",
      "MTD Scheme [<class 'mtdnetwork.mtd.completetopologyshuffle.CompleteTopologyShuffle'>, <class 'mtdnetwork.mtd.ipshuffle.IPShuffle'>, <class 'mtdnetwork.mtd.osdiversity.OSDiversity'>, <class 'mtdnetwork.mtd.servicediversity.ServiceDiversity'>]\n",
      "Action size(include zero which is no deployment) 5\n"
     ]
    },
    {
     "name": "stderr",
     "output_type": "stream",
     "text": [
      "Compiled the loaded model, but the compiled metrics have yet to be built. `model.compile_metrics` will be empty until you train or evaluate the model.\n"
     ]
    },
    {
     "name": "stdout",
     "output_type": "stream",
     "text": [
      "mtd_ai\n",
      "Trial_ 240\n",
      "all_features\n",
      "On Mac\n",
      "Static_factor 2000\n",
      "MTD Scheme [<class 'mtdnetwork.mtd.completetopologyshuffle.CompleteTopologyShuffle'>, <class 'mtdnetwork.mtd.ipshuffle.IPShuffle'>, <class 'mtdnetwork.mtd.osdiversity.OSDiversity'>, <class 'mtdnetwork.mtd.servicediversity.ServiceDiversity'>]\n",
      "Action size(include zero which is no deployment) 5\n"
     ]
    },
    {
     "name": "stderr",
     "output_type": "stream",
     "text": [
      "Compiled the loaded model, but the compiled metrics have yet to be built. `model.compile_metrics` will be empty until you train or evaluate the model.\n"
     ]
    },
    {
     "name": "stdout",
     "output_type": "stream",
     "text": [
      "mtd_ai\n",
      "Trial_ 241\n",
      "all_features\n",
      "On Mac\n",
      "Static_factor 2000\n",
      "MTD Scheme [<class 'mtdnetwork.mtd.completetopologyshuffle.CompleteTopologyShuffle'>, <class 'mtdnetwork.mtd.ipshuffle.IPShuffle'>, <class 'mtdnetwork.mtd.osdiversity.OSDiversity'>, <class 'mtdnetwork.mtd.servicediversity.ServiceDiversity'>]\n",
      "Action size(include zero which is no deployment) 5\n"
     ]
    },
    {
     "name": "stderr",
     "output_type": "stream",
     "text": [
      "Compiled the loaded model, but the compiled metrics have yet to be built. `model.compile_metrics` will be empty until you train or evaluate the model.\n"
     ]
    },
    {
     "name": "stdout",
     "output_type": "stream",
     "text": [
      "mtd_ai\n",
      "Trial_ 242\n",
      "all_features\n",
      "On Mac\n",
      "Static_factor 2000\n",
      "MTD Scheme [<class 'mtdnetwork.mtd.completetopologyshuffle.CompleteTopologyShuffle'>, <class 'mtdnetwork.mtd.ipshuffle.IPShuffle'>, <class 'mtdnetwork.mtd.osdiversity.OSDiversity'>, <class 'mtdnetwork.mtd.servicediversity.ServiceDiversity'>]\n",
      "Action size(include zero which is no deployment) 5\n"
     ]
    },
    {
     "name": "stderr",
     "output_type": "stream",
     "text": [
      "Compiled the loaded model, but the compiled metrics have yet to be built. `model.compile_metrics` will be empty until you train or evaluate the model.\n"
     ]
    },
    {
     "name": "stdout",
     "output_type": "stream",
     "text": [
      "mtd_ai\n",
      "Trial_ 243\n",
      "all_features\n",
      "On Mac\n",
      "Static_factor 2000\n",
      "MTD Scheme [<class 'mtdnetwork.mtd.completetopologyshuffle.CompleteTopologyShuffle'>, <class 'mtdnetwork.mtd.ipshuffle.IPShuffle'>, <class 'mtdnetwork.mtd.osdiversity.OSDiversity'>, <class 'mtdnetwork.mtd.servicediversity.ServiceDiversity'>]\n",
      "Action size(include zero which is no deployment) 5\n"
     ]
    },
    {
     "name": "stderr",
     "output_type": "stream",
     "text": [
      "Compiled the loaded model, but the compiled metrics have yet to be built. `model.compile_metrics` will be empty until you train or evaluate the model.\n"
     ]
    },
    {
     "name": "stdout",
     "output_type": "stream",
     "text": [
      "mtd_ai\n",
      "Trial_ 244\n",
      "all_features\n",
      "On Mac\n",
      "Static_factor 2000\n",
      "MTD Scheme [<class 'mtdnetwork.mtd.completetopologyshuffle.CompleteTopologyShuffle'>, <class 'mtdnetwork.mtd.ipshuffle.IPShuffle'>, <class 'mtdnetwork.mtd.osdiversity.OSDiversity'>, <class 'mtdnetwork.mtd.servicediversity.ServiceDiversity'>]\n",
      "Action size(include zero which is no deployment) 5\n"
     ]
    },
    {
     "name": "stderr",
     "output_type": "stream",
     "text": [
      "Compiled the loaded model, but the compiled metrics have yet to be built. `model.compile_metrics` will be empty until you train or evaluate the model.\n"
     ]
    },
    {
     "name": "stdout",
     "output_type": "stream",
     "text": [
      "mtd_ai\n",
      "Trial_ 245\n",
      "all_features\n",
      "On Mac\n",
      "Static_factor 2000\n",
      "MTD Scheme [<class 'mtdnetwork.mtd.completetopologyshuffle.CompleteTopologyShuffle'>, <class 'mtdnetwork.mtd.ipshuffle.IPShuffle'>, <class 'mtdnetwork.mtd.osdiversity.OSDiversity'>, <class 'mtdnetwork.mtd.servicediversity.ServiceDiversity'>]\n",
      "Action size(include zero which is no deployment) 5\n"
     ]
    },
    {
     "name": "stderr",
     "output_type": "stream",
     "text": [
      "Compiled the loaded model, but the compiled metrics have yet to be built. `model.compile_metrics` will be empty until you train or evaluate the model.\n"
     ]
    },
    {
     "name": "stdout",
     "output_type": "stream",
     "text": [
      "mtd_ai\n",
      "Trial_ 246\n",
      "all_features\n",
      "On Mac\n",
      "Static_factor 2000\n",
      "MTD Scheme [<class 'mtdnetwork.mtd.completetopologyshuffle.CompleteTopologyShuffle'>, <class 'mtdnetwork.mtd.ipshuffle.IPShuffle'>, <class 'mtdnetwork.mtd.osdiversity.OSDiversity'>, <class 'mtdnetwork.mtd.servicediversity.ServiceDiversity'>]\n",
      "Action size(include zero which is no deployment) 5\n"
     ]
    },
    {
     "name": "stderr",
     "output_type": "stream",
     "text": [
      "Compiled the loaded model, but the compiled metrics have yet to be built. `model.compile_metrics` will be empty until you train or evaluate the model.\n"
     ]
    },
    {
     "name": "stdout",
     "output_type": "stream",
     "text": [
      "mtd_ai\n",
      "Trial_ 247\n",
      "all_features\n",
      "On Mac\n",
      "Static_factor 2000\n",
      "MTD Scheme [<class 'mtdnetwork.mtd.completetopologyshuffle.CompleteTopologyShuffle'>, <class 'mtdnetwork.mtd.ipshuffle.IPShuffle'>, <class 'mtdnetwork.mtd.osdiversity.OSDiversity'>, <class 'mtdnetwork.mtd.servicediversity.ServiceDiversity'>]\n",
      "Action size(include zero which is no deployment) 5\n"
     ]
    },
    {
     "name": "stderr",
     "output_type": "stream",
     "text": [
      "Compiled the loaded model, but the compiled metrics have yet to be built. `model.compile_metrics` will be empty until you train or evaluate the model.\n"
     ]
    },
    {
     "name": "stdout",
     "output_type": "stream",
     "text": [
      "mtd_ai\n",
      "Trial_ 248\n",
      "all_features\n",
      "On Mac\n",
      "Static_factor 2000\n",
      "MTD Scheme [<class 'mtdnetwork.mtd.completetopologyshuffle.CompleteTopologyShuffle'>, <class 'mtdnetwork.mtd.ipshuffle.IPShuffle'>, <class 'mtdnetwork.mtd.osdiversity.OSDiversity'>, <class 'mtdnetwork.mtd.servicediversity.ServiceDiversity'>]\n",
      "Action size(include zero which is no deployment) 5\n"
     ]
    },
    {
     "name": "stderr",
     "output_type": "stream",
     "text": [
      "Compiled the loaded model, but the compiled metrics have yet to be built. `model.compile_metrics` will be empty until you train or evaluate the model.\n"
     ]
    },
    {
     "name": "stdout",
     "output_type": "stream",
     "text": [
      "mtd_ai\n",
      "Trial_ 249\n",
      "all_features\n",
      "On Mac\n",
      "Static_factor 2000\n",
      "MTD Scheme [<class 'mtdnetwork.mtd.completetopologyshuffle.CompleteTopologyShuffle'>, <class 'mtdnetwork.mtd.ipshuffle.IPShuffle'>, <class 'mtdnetwork.mtd.osdiversity.OSDiversity'>, <class 'mtdnetwork.mtd.servicediversity.ServiceDiversity'>]\n",
      "Action size(include zero which is no deployment) 5\n"
     ]
    },
    {
     "name": "stderr",
     "output_type": "stream",
     "text": [
      "Compiled the loaded model, but the compiled metrics have yet to be built. `model.compile_metrics` will be empty until you train or evaluate the model.\n"
     ]
    },
    {
     "name": "stdout",
     "output_type": "stream",
     "text": [
      "mtd_ai\n",
      "Trial_ 250\n",
      "all_features\n",
      "On Mac\n",
      "Static_factor 2000\n",
      "MTD Scheme [<class 'mtdnetwork.mtd.completetopologyshuffle.CompleteTopologyShuffle'>, <class 'mtdnetwork.mtd.ipshuffle.IPShuffle'>, <class 'mtdnetwork.mtd.osdiversity.OSDiversity'>, <class 'mtdnetwork.mtd.servicediversity.ServiceDiversity'>]\n",
      "Action size(include zero which is no deployment) 5\n"
     ]
    },
    {
     "name": "stderr",
     "output_type": "stream",
     "text": [
      "Compiled the loaded model, but the compiled metrics have yet to be built. `model.compile_metrics` will be empty until you train or evaluate the model.\n"
     ]
    },
    {
     "name": "stdout",
     "output_type": "stream",
     "text": [
      "mtd_ai\n",
      "Trial_ 251\n",
      "all_features\n",
      "On Mac\n",
      "Static_factor 2000\n",
      "MTD Scheme [<class 'mtdnetwork.mtd.completetopologyshuffle.CompleteTopologyShuffle'>, <class 'mtdnetwork.mtd.ipshuffle.IPShuffle'>, <class 'mtdnetwork.mtd.osdiversity.OSDiversity'>, <class 'mtdnetwork.mtd.servicediversity.ServiceDiversity'>]\n",
      "Action size(include zero which is no deployment) 5\n"
     ]
    },
    {
     "name": "stderr",
     "output_type": "stream",
     "text": [
      "Compiled the loaded model, but the compiled metrics have yet to be built. `model.compile_metrics` will be empty until you train or evaluate the model.\n"
     ]
    },
    {
     "name": "stdout",
     "output_type": "stream",
     "text": [
      "mtd_ai\n",
      "Trial_ 252\n",
      "all_features\n",
      "On Mac\n",
      "Static_factor 2000\n",
      "MTD Scheme [<class 'mtdnetwork.mtd.completetopologyshuffle.CompleteTopologyShuffle'>, <class 'mtdnetwork.mtd.ipshuffle.IPShuffle'>, <class 'mtdnetwork.mtd.osdiversity.OSDiversity'>, <class 'mtdnetwork.mtd.servicediversity.ServiceDiversity'>]\n",
      "Action size(include zero which is no deployment) 5\n"
     ]
    },
    {
     "name": "stderr",
     "output_type": "stream",
     "text": [
      "Compiled the loaded model, but the compiled metrics have yet to be built. `model.compile_metrics` will be empty until you train or evaluate the model.\n"
     ]
    },
    {
     "name": "stdout",
     "output_type": "stream",
     "text": [
      "mtd_ai\n",
      "Trial_ 253\n",
      "all_features\n",
      "On Mac\n",
      "Static_factor 2000\n",
      "MTD Scheme [<class 'mtdnetwork.mtd.completetopologyshuffle.CompleteTopologyShuffle'>, <class 'mtdnetwork.mtd.ipshuffle.IPShuffle'>, <class 'mtdnetwork.mtd.osdiversity.OSDiversity'>, <class 'mtdnetwork.mtd.servicediversity.ServiceDiversity'>]\n",
      "Action size(include zero which is no deployment) 5\n"
     ]
    },
    {
     "name": "stderr",
     "output_type": "stream",
     "text": [
      "Compiled the loaded model, but the compiled metrics have yet to be built. `model.compile_metrics` will be empty until you train or evaluate the model.\n"
     ]
    },
    {
     "name": "stdout",
     "output_type": "stream",
     "text": [
      "mtd_ai\n",
      "Trial_ 254\n",
      "all_features\n",
      "On Mac\n",
      "Static_factor 2000\n",
      "MTD Scheme [<class 'mtdnetwork.mtd.completetopologyshuffle.CompleteTopologyShuffle'>, <class 'mtdnetwork.mtd.ipshuffle.IPShuffle'>, <class 'mtdnetwork.mtd.osdiversity.OSDiversity'>, <class 'mtdnetwork.mtd.servicediversity.ServiceDiversity'>]\n",
      "Action size(include zero which is no deployment) 5\n"
     ]
    },
    {
     "name": "stderr",
     "output_type": "stream",
     "text": [
      "Compiled the loaded model, but the compiled metrics have yet to be built. `model.compile_metrics` will be empty until you train or evaluate the model.\n"
     ]
    },
    {
     "name": "stdout",
     "output_type": "stream",
     "text": [
      "mtd_ai\n",
      "Trial_ 255\n",
      "all_features\n",
      "On Mac\n",
      "Static_factor 2000\n",
      "MTD Scheme [<class 'mtdnetwork.mtd.completetopologyshuffle.CompleteTopologyShuffle'>, <class 'mtdnetwork.mtd.ipshuffle.IPShuffle'>, <class 'mtdnetwork.mtd.osdiversity.OSDiversity'>, <class 'mtdnetwork.mtd.servicediversity.ServiceDiversity'>]\n",
      "Action size(include zero which is no deployment) 5\n"
     ]
    },
    {
     "name": "stderr",
     "output_type": "stream",
     "text": [
      "Compiled the loaded model, but the compiled metrics have yet to be built. `model.compile_metrics` will be empty until you train or evaluate the model.\n"
     ]
    },
    {
     "name": "stdout",
     "output_type": "stream",
     "text": [
      "mtd_ai\n",
      "Trial_ 256\n",
      "all_features\n",
      "On Mac\n",
      "Static_factor 2000\n",
      "MTD Scheme [<class 'mtdnetwork.mtd.completetopologyshuffle.CompleteTopologyShuffle'>, <class 'mtdnetwork.mtd.ipshuffle.IPShuffle'>, <class 'mtdnetwork.mtd.osdiversity.OSDiversity'>, <class 'mtdnetwork.mtd.servicediversity.ServiceDiversity'>]\n",
      "Action size(include zero which is no deployment) 5\n"
     ]
    },
    {
     "name": "stderr",
     "output_type": "stream",
     "text": [
      "Compiled the loaded model, but the compiled metrics have yet to be built. `model.compile_metrics` will be empty until you train or evaluate the model.\n"
     ]
    },
    {
     "name": "stdout",
     "output_type": "stream",
     "text": [
      "mtd_ai\n",
      "Trial_ 257\n",
      "all_features\n",
      "On Mac\n",
      "Static_factor 2000\n",
      "MTD Scheme [<class 'mtdnetwork.mtd.completetopologyshuffle.CompleteTopologyShuffle'>, <class 'mtdnetwork.mtd.ipshuffle.IPShuffle'>, <class 'mtdnetwork.mtd.osdiversity.OSDiversity'>, <class 'mtdnetwork.mtd.servicediversity.ServiceDiversity'>]\n",
      "Action size(include zero which is no deployment) 5\n"
     ]
    },
    {
     "name": "stderr",
     "output_type": "stream",
     "text": [
      "Compiled the loaded model, but the compiled metrics have yet to be built. `model.compile_metrics` will be empty until you train or evaluate the model.\n"
     ]
    },
    {
     "name": "stdout",
     "output_type": "stream",
     "text": [
      "mtd_ai\n",
      "Trial_ 258\n",
      "all_features\n",
      "On Mac\n",
      "Static_factor 2000\n",
      "MTD Scheme [<class 'mtdnetwork.mtd.completetopologyshuffle.CompleteTopologyShuffle'>, <class 'mtdnetwork.mtd.ipshuffle.IPShuffle'>, <class 'mtdnetwork.mtd.osdiversity.OSDiversity'>, <class 'mtdnetwork.mtd.servicediversity.ServiceDiversity'>]\n",
      "Action size(include zero which is no deployment) 5\n"
     ]
    },
    {
     "name": "stderr",
     "output_type": "stream",
     "text": [
      "Compiled the loaded model, but the compiled metrics have yet to be built. `model.compile_metrics` will be empty until you train or evaluate the model.\n"
     ]
    },
    {
     "name": "stdout",
     "output_type": "stream",
     "text": [
      "mtd_ai\n",
      "Trial_ 259\n",
      "all_features\n",
      "On Mac\n",
      "Static_factor 2000\n",
      "MTD Scheme [<class 'mtdnetwork.mtd.completetopologyshuffle.CompleteTopologyShuffle'>, <class 'mtdnetwork.mtd.ipshuffle.IPShuffle'>, <class 'mtdnetwork.mtd.osdiversity.OSDiversity'>, <class 'mtdnetwork.mtd.servicediversity.ServiceDiversity'>]\n",
      "Action size(include zero which is no deployment) 5\n"
     ]
    },
    {
     "name": "stderr",
     "output_type": "stream",
     "text": [
      "Compiled the loaded model, but the compiled metrics have yet to be built. `model.compile_metrics` will be empty until you train or evaluate the model.\n"
     ]
    },
    {
     "name": "stdout",
     "output_type": "stream",
     "text": [
      "mtd_ai\n",
      "Trial_ 260\n",
      "all_features\n",
      "On Mac\n",
      "Static_factor 2000\n",
      "MTD Scheme [<class 'mtdnetwork.mtd.completetopologyshuffle.CompleteTopologyShuffle'>, <class 'mtdnetwork.mtd.ipshuffle.IPShuffle'>, <class 'mtdnetwork.mtd.osdiversity.OSDiversity'>, <class 'mtdnetwork.mtd.servicediversity.ServiceDiversity'>]\n",
      "Action size(include zero which is no deployment) 5\n"
     ]
    },
    {
     "name": "stderr",
     "output_type": "stream",
     "text": [
      "Compiled the loaded model, but the compiled metrics have yet to be built. `model.compile_metrics` will be empty until you train or evaluate the model.\n"
     ]
    },
    {
     "name": "stdout",
     "output_type": "stream",
     "text": [
      "mtd_ai\n",
      "Trial_ 261\n",
      "all_features\n",
      "On Mac\n",
      "Static_factor 2000\n",
      "MTD Scheme [<class 'mtdnetwork.mtd.completetopologyshuffle.CompleteTopologyShuffle'>, <class 'mtdnetwork.mtd.ipshuffle.IPShuffle'>, <class 'mtdnetwork.mtd.osdiversity.OSDiversity'>, <class 'mtdnetwork.mtd.servicediversity.ServiceDiversity'>]\n",
      "Action size(include zero which is no deployment) 5\n"
     ]
    },
    {
     "name": "stderr",
     "output_type": "stream",
     "text": [
      "Compiled the loaded model, but the compiled metrics have yet to be built. `model.compile_metrics` will be empty until you train or evaluate the model.\n"
     ]
    },
    {
     "name": "stdout",
     "output_type": "stream",
     "text": [
      "mtd_ai\n",
      "Trial_ 262\n",
      "all_features\n",
      "On Mac\n",
      "Static_factor 2000\n",
      "MTD Scheme [<class 'mtdnetwork.mtd.completetopologyshuffle.CompleteTopologyShuffle'>, <class 'mtdnetwork.mtd.ipshuffle.IPShuffle'>, <class 'mtdnetwork.mtd.osdiversity.OSDiversity'>, <class 'mtdnetwork.mtd.servicediversity.ServiceDiversity'>]\n",
      "Action size(include zero which is no deployment) 5\n"
     ]
    },
    {
     "name": "stderr",
     "output_type": "stream",
     "text": [
      "Compiled the loaded model, but the compiled metrics have yet to be built. `model.compile_metrics` will be empty until you train or evaluate the model.\n"
     ]
    },
    {
     "name": "stdout",
     "output_type": "stream",
     "text": [
      "mtd_ai\n",
      "Trial_ 263\n",
      "all_features\n",
      "On Mac\n",
      "Static_factor 2000\n",
      "MTD Scheme [<class 'mtdnetwork.mtd.completetopologyshuffle.CompleteTopologyShuffle'>, <class 'mtdnetwork.mtd.ipshuffle.IPShuffle'>, <class 'mtdnetwork.mtd.osdiversity.OSDiversity'>, <class 'mtdnetwork.mtd.servicediversity.ServiceDiversity'>]\n",
      "Action size(include zero which is no deployment) 5\n"
     ]
    },
    {
     "name": "stderr",
     "output_type": "stream",
     "text": [
      "Compiled the loaded model, but the compiled metrics have yet to be built. `model.compile_metrics` will be empty until you train or evaluate the model.\n"
     ]
    },
    {
     "name": "stdout",
     "output_type": "stream",
     "text": [
      "mtd_ai\n",
      "Trial_ 264\n",
      "all_features\n",
      "On Mac\n",
      "Static_factor 2000\n",
      "MTD Scheme [<class 'mtdnetwork.mtd.completetopologyshuffle.CompleteTopologyShuffle'>, <class 'mtdnetwork.mtd.ipshuffle.IPShuffle'>, <class 'mtdnetwork.mtd.osdiversity.OSDiversity'>, <class 'mtdnetwork.mtd.servicediversity.ServiceDiversity'>]\n",
      "Action size(include zero which is no deployment) 5\n"
     ]
    },
    {
     "name": "stderr",
     "output_type": "stream",
     "text": [
      "Compiled the loaded model, but the compiled metrics have yet to be built. `model.compile_metrics` will be empty until you train or evaluate the model.\n"
     ]
    },
    {
     "name": "stdout",
     "output_type": "stream",
     "text": [
      "mtd_ai\n",
      "Trial_ 265\n",
      "all_features\n",
      "On Mac\n",
      "Static_factor 2000\n",
      "MTD Scheme [<class 'mtdnetwork.mtd.completetopologyshuffle.CompleteTopologyShuffle'>, <class 'mtdnetwork.mtd.ipshuffle.IPShuffle'>, <class 'mtdnetwork.mtd.osdiversity.OSDiversity'>, <class 'mtdnetwork.mtd.servicediversity.ServiceDiversity'>]\n",
      "Action size(include zero which is no deployment) 5\n"
     ]
    },
    {
     "name": "stderr",
     "output_type": "stream",
     "text": [
      "Compiled the loaded model, but the compiled metrics have yet to be built. `model.compile_metrics` will be empty until you train or evaluate the model.\n"
     ]
    },
    {
     "name": "stdout",
     "output_type": "stream",
     "text": [
      "mtd_ai\n",
      "Trial_ 266\n",
      "all_features\n",
      "On Mac\n",
      "Static_factor 2000\n",
      "MTD Scheme [<class 'mtdnetwork.mtd.completetopologyshuffle.CompleteTopologyShuffle'>, <class 'mtdnetwork.mtd.ipshuffle.IPShuffle'>, <class 'mtdnetwork.mtd.osdiversity.OSDiversity'>, <class 'mtdnetwork.mtd.servicediversity.ServiceDiversity'>]\n",
      "Action size(include zero which is no deployment) 5\n"
     ]
    },
    {
     "name": "stderr",
     "output_type": "stream",
     "text": [
      "Compiled the loaded model, but the compiled metrics have yet to be built. `model.compile_metrics` will be empty until you train or evaluate the model.\n"
     ]
    },
    {
     "name": "stdout",
     "output_type": "stream",
     "text": [
      "mtd_ai\n",
      "Trial_ 267\n",
      "all_features\n",
      "On Mac\n",
      "Static_factor 2000\n",
      "MTD Scheme [<class 'mtdnetwork.mtd.completetopologyshuffle.CompleteTopologyShuffle'>, <class 'mtdnetwork.mtd.ipshuffle.IPShuffle'>, <class 'mtdnetwork.mtd.osdiversity.OSDiversity'>, <class 'mtdnetwork.mtd.servicediversity.ServiceDiversity'>]\n",
      "Action size(include zero which is no deployment) 5\n"
     ]
    },
    {
     "name": "stderr",
     "output_type": "stream",
     "text": [
      "Compiled the loaded model, but the compiled metrics have yet to be built. `model.compile_metrics` will be empty until you train or evaluate the model.\n"
     ]
    },
    {
     "name": "stdout",
     "output_type": "stream",
     "text": [
      "mtd_ai\n",
      "Trial_ 268\n",
      "all_features\n",
      "On Mac\n",
      "Static_factor 2000\n",
      "MTD Scheme [<class 'mtdnetwork.mtd.completetopologyshuffle.CompleteTopologyShuffle'>, <class 'mtdnetwork.mtd.ipshuffle.IPShuffle'>, <class 'mtdnetwork.mtd.osdiversity.OSDiversity'>, <class 'mtdnetwork.mtd.servicediversity.ServiceDiversity'>]\n",
      "Action size(include zero which is no deployment) 5\n"
     ]
    },
    {
     "name": "stderr",
     "output_type": "stream",
     "text": [
      "Compiled the loaded model, but the compiled metrics have yet to be built. `model.compile_metrics` will be empty until you train or evaluate the model.\n"
     ]
    },
    {
     "name": "stdout",
     "output_type": "stream",
     "text": [
      "mtd_ai\n",
      "Trial_ 269\n",
      "all_features\n",
      "On Mac\n",
      "Static_factor 2000\n",
      "MTD Scheme [<class 'mtdnetwork.mtd.completetopologyshuffle.CompleteTopologyShuffle'>, <class 'mtdnetwork.mtd.ipshuffle.IPShuffle'>, <class 'mtdnetwork.mtd.osdiversity.OSDiversity'>, <class 'mtdnetwork.mtd.servicediversity.ServiceDiversity'>]\n",
      "Action size(include zero which is no deployment) 5\n"
     ]
    },
    {
     "name": "stderr",
     "output_type": "stream",
     "text": [
      "Compiled the loaded model, but the compiled metrics have yet to be built. `model.compile_metrics` will be empty until you train or evaluate the model.\n"
     ]
    },
    {
     "name": "stdout",
     "output_type": "stream",
     "text": [
      "mtd_ai\n",
      "Trial_ 270\n",
      "all_features\n",
      "On Mac\n",
      "Static_factor 2000\n",
      "MTD Scheme [<class 'mtdnetwork.mtd.completetopologyshuffle.CompleteTopologyShuffle'>, <class 'mtdnetwork.mtd.ipshuffle.IPShuffle'>, <class 'mtdnetwork.mtd.osdiversity.OSDiversity'>, <class 'mtdnetwork.mtd.servicediversity.ServiceDiversity'>]\n",
      "Action size(include zero which is no deployment) 5\n"
     ]
    },
    {
     "name": "stderr",
     "output_type": "stream",
     "text": [
      "Compiled the loaded model, but the compiled metrics have yet to be built. `model.compile_metrics` will be empty until you train or evaluate the model.\n"
     ]
    },
    {
     "name": "stdout",
     "output_type": "stream",
     "text": [
      "mtd_ai\n",
      "Trial_ 271\n",
      "all_features\n",
      "On Mac\n",
      "Static_factor 2000\n",
      "MTD Scheme [<class 'mtdnetwork.mtd.completetopologyshuffle.CompleteTopologyShuffle'>, <class 'mtdnetwork.mtd.ipshuffle.IPShuffle'>, <class 'mtdnetwork.mtd.osdiversity.OSDiversity'>, <class 'mtdnetwork.mtd.servicediversity.ServiceDiversity'>]\n",
      "Action size(include zero which is no deployment) 5\n"
     ]
    },
    {
     "name": "stderr",
     "output_type": "stream",
     "text": [
      "Compiled the loaded model, but the compiled metrics have yet to be built. `model.compile_metrics` will be empty until you train or evaluate the model.\n"
     ]
    },
    {
     "name": "stdout",
     "output_type": "stream",
     "text": [
      "mtd_ai\n",
      "Trial_ 272\n",
      "all_features\n",
      "On Mac\n",
      "Static_factor 2000\n",
      "MTD Scheme [<class 'mtdnetwork.mtd.completetopologyshuffle.CompleteTopologyShuffle'>, <class 'mtdnetwork.mtd.ipshuffle.IPShuffle'>, <class 'mtdnetwork.mtd.osdiversity.OSDiversity'>, <class 'mtdnetwork.mtd.servicediversity.ServiceDiversity'>]\n",
      "Action size(include zero which is no deployment) 5\n"
     ]
    },
    {
     "name": "stderr",
     "output_type": "stream",
     "text": [
      "Compiled the loaded model, but the compiled metrics have yet to be built. `model.compile_metrics` will be empty until you train or evaluate the model.\n"
     ]
    },
    {
     "name": "stdout",
     "output_type": "stream",
     "text": [
      "mtd_ai\n",
      "Trial_ 273\n",
      "all_features\n",
      "On Mac\n",
      "Static_factor 2000\n",
      "MTD Scheme [<class 'mtdnetwork.mtd.completetopologyshuffle.CompleteTopologyShuffle'>, <class 'mtdnetwork.mtd.ipshuffle.IPShuffle'>, <class 'mtdnetwork.mtd.osdiversity.OSDiversity'>, <class 'mtdnetwork.mtd.servicediversity.ServiceDiversity'>]\n",
      "Action size(include zero which is no deployment) 5\n"
     ]
    },
    {
     "name": "stderr",
     "output_type": "stream",
     "text": [
      "Compiled the loaded model, but the compiled metrics have yet to be built. `model.compile_metrics` will be empty until you train or evaluate the model.\n"
     ]
    },
    {
     "name": "stdout",
     "output_type": "stream",
     "text": [
      "mtd_ai\n",
      "Trial_ 274\n",
      "all_features\n",
      "On Mac\n",
      "Static_factor 2000\n",
      "MTD Scheme [<class 'mtdnetwork.mtd.completetopologyshuffle.CompleteTopologyShuffle'>, <class 'mtdnetwork.mtd.ipshuffle.IPShuffle'>, <class 'mtdnetwork.mtd.osdiversity.OSDiversity'>, <class 'mtdnetwork.mtd.servicediversity.ServiceDiversity'>]\n",
      "Action size(include zero which is no deployment) 5\n"
     ]
    },
    {
     "name": "stderr",
     "output_type": "stream",
     "text": [
      "Compiled the loaded model, but the compiled metrics have yet to be built. `model.compile_metrics` will be empty until you train or evaluate the model.\n"
     ]
    },
    {
     "name": "stdout",
     "output_type": "stream",
     "text": [
      "mtd_ai\n",
      "Trial_ 275\n",
      "all_features\n",
      "On Mac\n",
      "Static_factor 2000\n",
      "MTD Scheme [<class 'mtdnetwork.mtd.completetopologyshuffle.CompleteTopologyShuffle'>, <class 'mtdnetwork.mtd.ipshuffle.IPShuffle'>, <class 'mtdnetwork.mtd.osdiversity.OSDiversity'>, <class 'mtdnetwork.mtd.servicediversity.ServiceDiversity'>]\n",
      "Action size(include zero which is no deployment) 5\n"
     ]
    },
    {
     "name": "stderr",
     "output_type": "stream",
     "text": [
      "Compiled the loaded model, but the compiled metrics have yet to be built. `model.compile_metrics` will be empty until you train or evaluate the model.\n"
     ]
    },
    {
     "name": "stdout",
     "output_type": "stream",
     "text": [
      "mtd_ai\n",
      "Trial_ 276\n",
      "all_features\n",
      "On Mac\n",
      "Static_factor 2000\n",
      "MTD Scheme [<class 'mtdnetwork.mtd.completetopologyshuffle.CompleteTopologyShuffle'>, <class 'mtdnetwork.mtd.ipshuffle.IPShuffle'>, <class 'mtdnetwork.mtd.osdiversity.OSDiversity'>, <class 'mtdnetwork.mtd.servicediversity.ServiceDiversity'>]\n",
      "Action size(include zero which is no deployment) 5\n"
     ]
    },
    {
     "name": "stderr",
     "output_type": "stream",
     "text": [
      "Compiled the loaded model, but the compiled metrics have yet to be built. `model.compile_metrics` will be empty until you train or evaluate the model.\n"
     ]
    },
    {
     "name": "stdout",
     "output_type": "stream",
     "text": [
      "mtd_ai\n",
      "Trial_ 277\n",
      "all_features\n",
      "On Mac\n",
      "Static_factor 2000\n",
      "MTD Scheme [<class 'mtdnetwork.mtd.completetopologyshuffle.CompleteTopologyShuffle'>, <class 'mtdnetwork.mtd.ipshuffle.IPShuffle'>, <class 'mtdnetwork.mtd.osdiversity.OSDiversity'>, <class 'mtdnetwork.mtd.servicediversity.ServiceDiversity'>]\n",
      "Action size(include zero which is no deployment) 5\n"
     ]
    },
    {
     "name": "stderr",
     "output_type": "stream",
     "text": [
      "Compiled the loaded model, but the compiled metrics have yet to be built. `model.compile_metrics` will be empty until you train or evaluate the model.\n"
     ]
    },
    {
     "name": "stdout",
     "output_type": "stream",
     "text": [
      "mtd_ai\n",
      "Trial_ 278\n",
      "all_features\n",
      "On Mac\n",
      "Static_factor 2000\n",
      "MTD Scheme [<class 'mtdnetwork.mtd.completetopologyshuffle.CompleteTopologyShuffle'>, <class 'mtdnetwork.mtd.ipshuffle.IPShuffle'>, <class 'mtdnetwork.mtd.osdiversity.OSDiversity'>, <class 'mtdnetwork.mtd.servicediversity.ServiceDiversity'>]\n",
      "Action size(include zero which is no deployment) 5\n"
     ]
    },
    {
     "name": "stderr",
     "output_type": "stream",
     "text": [
      "Compiled the loaded model, but the compiled metrics have yet to be built. `model.compile_metrics` will be empty until you train or evaluate the model.\n"
     ]
    },
    {
     "name": "stdout",
     "output_type": "stream",
     "text": [
      "mtd_ai\n",
      "Trial_ 279\n",
      "all_features\n",
      "On Mac\n",
      "Static_factor 2000\n",
      "MTD Scheme [<class 'mtdnetwork.mtd.completetopologyshuffle.CompleteTopologyShuffle'>, <class 'mtdnetwork.mtd.ipshuffle.IPShuffle'>, <class 'mtdnetwork.mtd.osdiversity.OSDiversity'>, <class 'mtdnetwork.mtd.servicediversity.ServiceDiversity'>]\n",
      "Action size(include zero which is no deployment) 5\n"
     ]
    },
    {
     "name": "stderr",
     "output_type": "stream",
     "text": [
      "Compiled the loaded model, but the compiled metrics have yet to be built. `model.compile_metrics` will be empty until you train or evaluate the model.\n"
     ]
    },
    {
     "name": "stdout",
     "output_type": "stream",
     "text": [
      "mtd_ai\n",
      "Trial_ 280\n",
      "all_features\n",
      "On Mac\n",
      "Static_factor 2000\n",
      "MTD Scheme [<class 'mtdnetwork.mtd.completetopologyshuffle.CompleteTopologyShuffle'>, <class 'mtdnetwork.mtd.ipshuffle.IPShuffle'>, <class 'mtdnetwork.mtd.osdiversity.OSDiversity'>, <class 'mtdnetwork.mtd.servicediversity.ServiceDiversity'>]\n",
      "Action size(include zero which is no deployment) 5\n"
     ]
    },
    {
     "name": "stderr",
     "output_type": "stream",
     "text": [
      "Compiled the loaded model, but the compiled metrics have yet to be built. `model.compile_metrics` will be empty until you train or evaluate the model.\n"
     ]
    },
    {
     "name": "stdout",
     "output_type": "stream",
     "text": [
      "mtd_ai\n",
      "Trial_ 281\n",
      "all_features\n",
      "On Mac\n",
      "Static_factor 2000\n",
      "MTD Scheme [<class 'mtdnetwork.mtd.completetopologyshuffle.CompleteTopologyShuffle'>, <class 'mtdnetwork.mtd.ipshuffle.IPShuffle'>, <class 'mtdnetwork.mtd.osdiversity.OSDiversity'>, <class 'mtdnetwork.mtd.servicediversity.ServiceDiversity'>]\n",
      "Action size(include zero which is no deployment) 5\n"
     ]
    },
    {
     "name": "stderr",
     "output_type": "stream",
     "text": [
      "Compiled the loaded model, but the compiled metrics have yet to be built. `model.compile_metrics` will be empty until you train or evaluate the model.\n"
     ]
    },
    {
     "name": "stdout",
     "output_type": "stream",
     "text": [
      "mtd_ai\n",
      "Trial_ 282\n",
      "all_features\n",
      "On Mac\n",
      "Static_factor 2000\n",
      "MTD Scheme [<class 'mtdnetwork.mtd.completetopologyshuffle.CompleteTopologyShuffle'>, <class 'mtdnetwork.mtd.ipshuffle.IPShuffle'>, <class 'mtdnetwork.mtd.osdiversity.OSDiversity'>, <class 'mtdnetwork.mtd.servicediversity.ServiceDiversity'>]\n",
      "Action size(include zero which is no deployment) 5\n"
     ]
    },
    {
     "name": "stderr",
     "output_type": "stream",
     "text": [
      "Compiled the loaded model, but the compiled metrics have yet to be built. `model.compile_metrics` will be empty until you train or evaluate the model.\n"
     ]
    },
    {
     "name": "stdout",
     "output_type": "stream",
     "text": [
      "mtd_ai\n",
      "Trial_ 283\n",
      "all_features\n",
      "On Mac\n",
      "Static_factor 2000\n",
      "MTD Scheme [<class 'mtdnetwork.mtd.completetopologyshuffle.CompleteTopologyShuffle'>, <class 'mtdnetwork.mtd.ipshuffle.IPShuffle'>, <class 'mtdnetwork.mtd.osdiversity.OSDiversity'>, <class 'mtdnetwork.mtd.servicediversity.ServiceDiversity'>]\n",
      "Action size(include zero which is no deployment) 5\n"
     ]
    },
    {
     "name": "stderr",
     "output_type": "stream",
     "text": [
      "Compiled the loaded model, but the compiled metrics have yet to be built. `model.compile_metrics` will be empty until you train or evaluate the model.\n"
     ]
    },
    {
     "name": "stdout",
     "output_type": "stream",
     "text": [
      "mtd_ai\n",
      "Trial_ 284\n",
      "all_features\n",
      "On Mac\n",
      "Static_factor 2000\n",
      "MTD Scheme [<class 'mtdnetwork.mtd.completetopologyshuffle.CompleteTopologyShuffle'>, <class 'mtdnetwork.mtd.ipshuffle.IPShuffle'>, <class 'mtdnetwork.mtd.osdiversity.OSDiversity'>, <class 'mtdnetwork.mtd.servicediversity.ServiceDiversity'>]\n",
      "Action size(include zero which is no deployment) 5\n"
     ]
    },
    {
     "name": "stderr",
     "output_type": "stream",
     "text": [
      "Compiled the loaded model, but the compiled metrics have yet to be built. `model.compile_metrics` will be empty until you train or evaluate the model.\n"
     ]
    },
    {
     "name": "stdout",
     "output_type": "stream",
     "text": [
      "mtd_ai\n",
      "Trial_ 285\n",
      "all_features\n",
      "On Mac\n",
      "Static_factor 2000\n",
      "MTD Scheme [<class 'mtdnetwork.mtd.completetopologyshuffle.CompleteTopologyShuffle'>, <class 'mtdnetwork.mtd.ipshuffle.IPShuffle'>, <class 'mtdnetwork.mtd.osdiversity.OSDiversity'>, <class 'mtdnetwork.mtd.servicediversity.ServiceDiversity'>]\n",
      "Action size(include zero which is no deployment) 5\n"
     ]
    },
    {
     "name": "stderr",
     "output_type": "stream",
     "text": [
      "Compiled the loaded model, but the compiled metrics have yet to be built. `model.compile_metrics` will be empty until you train or evaluate the model.\n"
     ]
    },
    {
     "name": "stdout",
     "output_type": "stream",
     "text": [
      "mtd_ai\n",
      "Trial_ 286\n",
      "all_features\n",
      "On Mac\n",
      "Static_factor 2000\n",
      "MTD Scheme [<class 'mtdnetwork.mtd.completetopologyshuffle.CompleteTopologyShuffle'>, <class 'mtdnetwork.mtd.ipshuffle.IPShuffle'>, <class 'mtdnetwork.mtd.osdiversity.OSDiversity'>, <class 'mtdnetwork.mtd.servicediversity.ServiceDiversity'>]\n",
      "Action size(include zero which is no deployment) 5\n"
     ]
    },
    {
     "name": "stderr",
     "output_type": "stream",
     "text": [
      "Compiled the loaded model, but the compiled metrics have yet to be built. `model.compile_metrics` will be empty until you train or evaluate the model.\n"
     ]
    },
    {
     "name": "stdout",
     "output_type": "stream",
     "text": [
      "mtd_ai\n",
      "Trial_ 287\n",
      "all_features\n",
      "On Mac\n",
      "Static_factor 2000\n",
      "MTD Scheme [<class 'mtdnetwork.mtd.completetopologyshuffle.CompleteTopologyShuffle'>, <class 'mtdnetwork.mtd.ipshuffle.IPShuffle'>, <class 'mtdnetwork.mtd.osdiversity.OSDiversity'>, <class 'mtdnetwork.mtd.servicediversity.ServiceDiversity'>]\n",
      "Action size(include zero which is no deployment) 5\n"
     ]
    },
    {
     "name": "stderr",
     "output_type": "stream",
     "text": [
      "Compiled the loaded model, but the compiled metrics have yet to be built. `model.compile_metrics` will be empty until you train or evaluate the model.\n"
     ]
    },
    {
     "name": "stdout",
     "output_type": "stream",
     "text": [
      "mtd_ai\n",
      "Trial_ 288\n",
      "all_features\n",
      "On Mac\n",
      "Static_factor 2000\n",
      "MTD Scheme [<class 'mtdnetwork.mtd.completetopologyshuffle.CompleteTopologyShuffle'>, <class 'mtdnetwork.mtd.ipshuffle.IPShuffle'>, <class 'mtdnetwork.mtd.osdiversity.OSDiversity'>, <class 'mtdnetwork.mtd.servicediversity.ServiceDiversity'>]\n",
      "Action size(include zero which is no deployment) 5\n"
     ]
    },
    {
     "name": "stderr",
     "output_type": "stream",
     "text": [
      "Compiled the loaded model, but the compiled metrics have yet to be built. `model.compile_metrics` will be empty until you train or evaluate the model.\n"
     ]
    },
    {
     "name": "stdout",
     "output_type": "stream",
     "text": [
      "mtd_ai\n",
      "Trial_ 289\n",
      "all_features\n",
      "On Mac\n",
      "Static_factor 2000\n",
      "MTD Scheme [<class 'mtdnetwork.mtd.completetopologyshuffle.CompleteTopologyShuffle'>, <class 'mtdnetwork.mtd.ipshuffle.IPShuffle'>, <class 'mtdnetwork.mtd.osdiversity.OSDiversity'>, <class 'mtdnetwork.mtd.servicediversity.ServiceDiversity'>]\n",
      "Action size(include zero which is no deployment) 5\n"
     ]
    },
    {
     "name": "stderr",
     "output_type": "stream",
     "text": [
      "Compiled the loaded model, but the compiled metrics have yet to be built. `model.compile_metrics` will be empty until you train or evaluate the model.\n"
     ]
    },
    {
     "name": "stdout",
     "output_type": "stream",
     "text": [
      "mtd_ai\n",
      "Trial_ 290\n",
      "all_features\n",
      "On Mac\n",
      "Static_factor 2000\n",
      "MTD Scheme [<class 'mtdnetwork.mtd.completetopologyshuffle.CompleteTopologyShuffle'>, <class 'mtdnetwork.mtd.ipshuffle.IPShuffle'>, <class 'mtdnetwork.mtd.osdiversity.OSDiversity'>, <class 'mtdnetwork.mtd.servicediversity.ServiceDiversity'>]\n",
      "Action size(include zero which is no deployment) 5\n"
     ]
    },
    {
     "name": "stderr",
     "output_type": "stream",
     "text": [
      "Compiled the loaded model, but the compiled metrics have yet to be built. `model.compile_metrics` will be empty until you train or evaluate the model.\n"
     ]
    },
    {
     "name": "stdout",
     "output_type": "stream",
     "text": [
      "mtd_ai\n",
      "Trial_ 291\n",
      "all_features\n",
      "On Mac\n",
      "Static_factor 2000\n",
      "MTD Scheme [<class 'mtdnetwork.mtd.completetopologyshuffle.CompleteTopologyShuffle'>, <class 'mtdnetwork.mtd.ipshuffle.IPShuffle'>, <class 'mtdnetwork.mtd.osdiversity.OSDiversity'>, <class 'mtdnetwork.mtd.servicediversity.ServiceDiversity'>]\n",
      "Action size(include zero which is no deployment) 5\n"
     ]
    },
    {
     "name": "stderr",
     "output_type": "stream",
     "text": [
      "Compiled the loaded model, but the compiled metrics have yet to be built. `model.compile_metrics` will be empty until you train or evaluate the model.\n"
     ]
    },
    {
     "name": "stdout",
     "output_type": "stream",
     "text": [
      "mtd_ai\n",
      "Trial_ 292\n",
      "all_features\n",
      "On Mac\n",
      "Static_factor 2000\n",
      "MTD Scheme [<class 'mtdnetwork.mtd.completetopologyshuffle.CompleteTopologyShuffle'>, <class 'mtdnetwork.mtd.ipshuffle.IPShuffle'>, <class 'mtdnetwork.mtd.osdiversity.OSDiversity'>, <class 'mtdnetwork.mtd.servicediversity.ServiceDiversity'>]\n",
      "Action size(include zero which is no deployment) 5\n"
     ]
    },
    {
     "name": "stderr",
     "output_type": "stream",
     "text": [
      "Compiled the loaded model, but the compiled metrics have yet to be built. `model.compile_metrics` will be empty until you train or evaluate the model.\n"
     ]
    },
    {
     "name": "stdout",
     "output_type": "stream",
     "text": [
      "mtd_ai\n",
      "Trial_ 293\n",
      "all_features\n",
      "On Mac\n",
      "Static_factor 2000\n",
      "MTD Scheme [<class 'mtdnetwork.mtd.completetopologyshuffle.CompleteTopologyShuffle'>, <class 'mtdnetwork.mtd.ipshuffle.IPShuffle'>, <class 'mtdnetwork.mtd.osdiversity.OSDiversity'>, <class 'mtdnetwork.mtd.servicediversity.ServiceDiversity'>]\n",
      "Action size(include zero which is no deployment) 5\n"
     ]
    },
    {
     "name": "stderr",
     "output_type": "stream",
     "text": [
      "Compiled the loaded model, but the compiled metrics have yet to be built. `model.compile_metrics` will be empty until you train or evaluate the model.\n"
     ]
    },
    {
     "name": "stdout",
     "output_type": "stream",
     "text": [
      "mtd_ai\n",
      "Trial_ 294\n",
      "all_features\n",
      "On Mac\n",
      "Static_factor 2000\n",
      "MTD Scheme [<class 'mtdnetwork.mtd.completetopologyshuffle.CompleteTopologyShuffle'>, <class 'mtdnetwork.mtd.ipshuffle.IPShuffle'>, <class 'mtdnetwork.mtd.osdiversity.OSDiversity'>, <class 'mtdnetwork.mtd.servicediversity.ServiceDiversity'>]\n",
      "Action size(include zero which is no deployment) 5\n"
     ]
    },
    {
     "name": "stderr",
     "output_type": "stream",
     "text": [
      "Compiled the loaded model, but the compiled metrics have yet to be built. `model.compile_metrics` will be empty until you train or evaluate the model.\n"
     ]
    },
    {
     "name": "stdout",
     "output_type": "stream",
     "text": [
      "mtd_ai\n",
      "Trial_ 295\n",
      "all_features\n",
      "On Mac\n",
      "Static_factor 2000\n",
      "MTD Scheme [<class 'mtdnetwork.mtd.completetopologyshuffle.CompleteTopologyShuffle'>, <class 'mtdnetwork.mtd.ipshuffle.IPShuffle'>, <class 'mtdnetwork.mtd.osdiversity.OSDiversity'>, <class 'mtdnetwork.mtd.servicediversity.ServiceDiversity'>]\n",
      "Action size(include zero which is no deployment) 5\n"
     ]
    },
    {
     "name": "stderr",
     "output_type": "stream",
     "text": [
      "Compiled the loaded model, but the compiled metrics have yet to be built. `model.compile_metrics` will be empty until you train or evaluate the model.\n"
     ]
    },
    {
     "name": "stdout",
     "output_type": "stream",
     "text": [
      "mtd_ai\n",
      "Trial_ 296\n",
      "all_features\n",
      "On Mac\n",
      "Static_factor 2000\n",
      "MTD Scheme [<class 'mtdnetwork.mtd.completetopologyshuffle.CompleteTopologyShuffle'>, <class 'mtdnetwork.mtd.ipshuffle.IPShuffle'>, <class 'mtdnetwork.mtd.osdiversity.OSDiversity'>, <class 'mtdnetwork.mtd.servicediversity.ServiceDiversity'>]\n",
      "Action size(include zero which is no deployment) 5\n"
     ]
    },
    {
     "name": "stderr",
     "output_type": "stream",
     "text": [
      "Compiled the loaded model, but the compiled metrics have yet to be built. `model.compile_metrics` will be empty until you train or evaluate the model.\n"
     ]
    },
    {
     "name": "stdout",
     "output_type": "stream",
     "text": [
      "mtd_ai\n",
      "Trial_ 297\n",
      "all_features\n",
      "On Mac\n",
      "Static_factor 2000\n",
      "MTD Scheme [<class 'mtdnetwork.mtd.completetopologyshuffle.CompleteTopologyShuffle'>, <class 'mtdnetwork.mtd.ipshuffle.IPShuffle'>, <class 'mtdnetwork.mtd.osdiversity.OSDiversity'>, <class 'mtdnetwork.mtd.servicediversity.ServiceDiversity'>]\n",
      "Action size(include zero which is no deployment) 5\n"
     ]
    },
    {
     "name": "stderr",
     "output_type": "stream",
     "text": [
      "Compiled the loaded model, but the compiled metrics have yet to be built. `model.compile_metrics` will be empty until you train or evaluate the model.\n"
     ]
    },
    {
     "name": "stdout",
     "output_type": "stream",
     "text": [
      "mtd_ai\n",
      "Trial_ 298\n",
      "all_features\n",
      "On Mac\n",
      "Static_factor 2000\n",
      "MTD Scheme [<class 'mtdnetwork.mtd.completetopologyshuffle.CompleteTopologyShuffle'>, <class 'mtdnetwork.mtd.ipshuffle.IPShuffle'>, <class 'mtdnetwork.mtd.osdiversity.OSDiversity'>, <class 'mtdnetwork.mtd.servicediversity.ServiceDiversity'>]\n",
      "Action size(include zero which is no deployment) 5\n"
     ]
    },
    {
     "name": "stderr",
     "output_type": "stream",
     "text": [
      "Compiled the loaded model, but the compiled metrics have yet to be built. `model.compile_metrics` will be empty until you train or evaluate the model.\n"
     ]
    },
    {
     "name": "stdout",
     "output_type": "stream",
     "text": [
      "mtd_ai\n",
      "Trial_ 299\n",
      "all_features\n",
      "On Mac\n",
      "Static_factor 2000\n",
      "MTD Scheme [<class 'mtdnetwork.mtd.completetopologyshuffle.CompleteTopologyShuffle'>, <class 'mtdnetwork.mtd.ipshuffle.IPShuffle'>, <class 'mtdnetwork.mtd.osdiversity.OSDiversity'>, <class 'mtdnetwork.mtd.servicediversity.ServiceDiversity'>]\n",
      "Action size(include zero which is no deployment) 5\n"
     ]
    },
    {
     "name": "stderr",
     "output_type": "stream",
     "text": [
      "Compiled the loaded model, but the compiled metrics have yet to be built. `model.compile_metrics` will be empty until you train or evaluate the model.\n"
     ]
    },
    {
     "name": "stdout",
     "output_type": "stream",
     "text": [
      "mtd_ai\n",
      "Trial_ 300\n",
      "all_features\n",
      "On Mac\n",
      "Static_factor 2000\n",
      "MTD Scheme [<class 'mtdnetwork.mtd.completetopologyshuffle.CompleteTopologyShuffle'>, <class 'mtdnetwork.mtd.ipshuffle.IPShuffle'>, <class 'mtdnetwork.mtd.osdiversity.OSDiversity'>, <class 'mtdnetwork.mtd.servicediversity.ServiceDiversity'>]\n",
      "Action size(include zero which is no deployment) 5\n"
     ]
    },
    {
     "name": "stderr",
     "output_type": "stream",
     "text": [
      "Compiled the loaded model, but the compiled metrics have yet to be built. `model.compile_metrics` will be empty until you train or evaluate the model.\n"
     ]
    },
    {
     "name": "stdout",
     "output_type": "stream",
     "text": [
      "mtd_ai\n",
      "Trial_ 301\n",
      "all_features\n",
      "On Mac\n",
      "Static_factor 2000\n",
      "MTD Scheme [<class 'mtdnetwork.mtd.completetopologyshuffle.CompleteTopologyShuffle'>, <class 'mtdnetwork.mtd.ipshuffle.IPShuffle'>, <class 'mtdnetwork.mtd.osdiversity.OSDiversity'>, <class 'mtdnetwork.mtd.servicediversity.ServiceDiversity'>]\n",
      "Action size(include zero which is no deployment) 5\n"
     ]
    },
    {
     "name": "stderr",
     "output_type": "stream",
     "text": [
      "Compiled the loaded model, but the compiled metrics have yet to be built. `model.compile_metrics` will be empty until you train or evaluate the model.\n"
     ]
    },
    {
     "name": "stdout",
     "output_type": "stream",
     "text": [
      "mtd_ai\n",
      "Trial_ 302\n",
      "all_features\n",
      "On Mac\n",
      "Static_factor 2000\n",
      "MTD Scheme [<class 'mtdnetwork.mtd.completetopologyshuffle.CompleteTopologyShuffle'>, <class 'mtdnetwork.mtd.ipshuffle.IPShuffle'>, <class 'mtdnetwork.mtd.osdiversity.OSDiversity'>, <class 'mtdnetwork.mtd.servicediversity.ServiceDiversity'>]\n",
      "Action size(include zero which is no deployment) 5\n"
     ]
    },
    {
     "name": "stderr",
     "output_type": "stream",
     "text": [
      "Compiled the loaded model, but the compiled metrics have yet to be built. `model.compile_metrics` will be empty until you train or evaluate the model.\n"
     ]
    },
    {
     "name": "stdout",
     "output_type": "stream",
     "text": [
      "mtd_ai\n",
      "Trial_ 303\n",
      "all_features\n",
      "On Mac\n",
      "Static_factor 2000\n",
      "MTD Scheme [<class 'mtdnetwork.mtd.completetopologyshuffle.CompleteTopologyShuffle'>, <class 'mtdnetwork.mtd.ipshuffle.IPShuffle'>, <class 'mtdnetwork.mtd.osdiversity.OSDiversity'>, <class 'mtdnetwork.mtd.servicediversity.ServiceDiversity'>]\n",
      "Action size(include zero which is no deployment) 5\n"
     ]
    },
    {
     "name": "stderr",
     "output_type": "stream",
     "text": [
      "Compiled the loaded model, but the compiled metrics have yet to be built. `model.compile_metrics` will be empty until you train or evaluate the model.\n"
     ]
    },
    {
     "name": "stdout",
     "output_type": "stream",
     "text": [
      "mtd_ai\n",
      "Trial_ 304\n",
      "all_features\n",
      "On Mac\n",
      "Static_factor 2000\n",
      "MTD Scheme [<class 'mtdnetwork.mtd.completetopologyshuffle.CompleteTopologyShuffle'>, <class 'mtdnetwork.mtd.ipshuffle.IPShuffle'>, <class 'mtdnetwork.mtd.osdiversity.OSDiversity'>, <class 'mtdnetwork.mtd.servicediversity.ServiceDiversity'>]\n",
      "Action size(include zero which is no deployment) 5\n"
     ]
    },
    {
     "name": "stderr",
     "output_type": "stream",
     "text": [
      "Compiled the loaded model, but the compiled metrics have yet to be built. `model.compile_metrics` will be empty until you train or evaluate the model.\n"
     ]
    },
    {
     "name": "stdout",
     "output_type": "stream",
     "text": [
      "mtd_ai\n",
      "Trial_ 305\n",
      "all_features\n",
      "On Mac\n",
      "Static_factor 2000\n",
      "MTD Scheme [<class 'mtdnetwork.mtd.completetopologyshuffle.CompleteTopologyShuffle'>, <class 'mtdnetwork.mtd.ipshuffle.IPShuffle'>, <class 'mtdnetwork.mtd.osdiversity.OSDiversity'>, <class 'mtdnetwork.mtd.servicediversity.ServiceDiversity'>]\n",
      "Action size(include zero which is no deployment) 5\n"
     ]
    },
    {
     "name": "stderr",
     "output_type": "stream",
     "text": [
      "Compiled the loaded model, but the compiled metrics have yet to be built. `model.compile_metrics` will be empty until you train or evaluate the model.\n"
     ]
    },
    {
     "name": "stdout",
     "output_type": "stream",
     "text": [
      "mtd_ai\n",
      "Trial_ 306\n",
      "all_features\n",
      "On Mac\n",
      "Static_factor 2000\n",
      "MTD Scheme [<class 'mtdnetwork.mtd.completetopologyshuffle.CompleteTopologyShuffle'>, <class 'mtdnetwork.mtd.ipshuffle.IPShuffle'>, <class 'mtdnetwork.mtd.osdiversity.OSDiversity'>, <class 'mtdnetwork.mtd.servicediversity.ServiceDiversity'>]\n",
      "Action size(include zero which is no deployment) 5\n"
     ]
    },
    {
     "name": "stderr",
     "output_type": "stream",
     "text": [
      "Compiled the loaded model, but the compiled metrics have yet to be built. `model.compile_metrics` will be empty until you train or evaluate the model.\n"
     ]
    },
    {
     "name": "stdout",
     "output_type": "stream",
     "text": [
      "mtd_ai\n",
      "Trial_ 307\n",
      "all_features\n",
      "On Mac\n",
      "Static_factor 2000\n",
      "MTD Scheme [<class 'mtdnetwork.mtd.completetopologyshuffle.CompleteTopologyShuffle'>, <class 'mtdnetwork.mtd.ipshuffle.IPShuffle'>, <class 'mtdnetwork.mtd.osdiversity.OSDiversity'>, <class 'mtdnetwork.mtd.servicediversity.ServiceDiversity'>]\n",
      "Action size(include zero which is no deployment) 5\n"
     ]
    },
    {
     "name": "stderr",
     "output_type": "stream",
     "text": [
      "Compiled the loaded model, but the compiled metrics have yet to be built. `model.compile_metrics` will be empty until you train or evaluate the model.\n"
     ]
    },
    {
     "name": "stdout",
     "output_type": "stream",
     "text": [
      "mtd_ai\n",
      "Trial_ 308\n",
      "all_features\n",
      "On Mac\n",
      "Static_factor 2000\n",
      "MTD Scheme [<class 'mtdnetwork.mtd.completetopologyshuffle.CompleteTopologyShuffle'>, <class 'mtdnetwork.mtd.ipshuffle.IPShuffle'>, <class 'mtdnetwork.mtd.osdiversity.OSDiversity'>, <class 'mtdnetwork.mtd.servicediversity.ServiceDiversity'>]\n",
      "Action size(include zero which is no deployment) 5\n"
     ]
    },
    {
     "name": "stderr",
     "output_type": "stream",
     "text": [
      "Compiled the loaded model, but the compiled metrics have yet to be built. `model.compile_metrics` will be empty until you train or evaluate the model.\n"
     ]
    },
    {
     "name": "stdout",
     "output_type": "stream",
     "text": [
      "mtd_ai\n",
      "Trial_ 309\n",
      "all_features\n",
      "On Mac\n",
      "Static_factor 2000\n",
      "MTD Scheme [<class 'mtdnetwork.mtd.completetopologyshuffle.CompleteTopologyShuffle'>, <class 'mtdnetwork.mtd.ipshuffle.IPShuffle'>, <class 'mtdnetwork.mtd.osdiversity.OSDiversity'>, <class 'mtdnetwork.mtd.servicediversity.ServiceDiversity'>]\n",
      "Action size(include zero which is no deployment) 5\n"
     ]
    },
    {
     "name": "stderr",
     "output_type": "stream",
     "text": [
      "Compiled the loaded model, but the compiled metrics have yet to be built. `model.compile_metrics` will be empty until you train or evaluate the model.\n"
     ]
    },
    {
     "name": "stdout",
     "output_type": "stream",
     "text": [
      "mtd_ai\n",
      "Trial_ 310\n",
      "all_features\n",
      "On Mac\n",
      "Static_factor 2000\n",
      "MTD Scheme [<class 'mtdnetwork.mtd.completetopologyshuffle.CompleteTopologyShuffle'>, <class 'mtdnetwork.mtd.ipshuffle.IPShuffle'>, <class 'mtdnetwork.mtd.osdiversity.OSDiversity'>, <class 'mtdnetwork.mtd.servicediversity.ServiceDiversity'>]\n",
      "Action size(include zero which is no deployment) 5\n"
     ]
    },
    {
     "name": "stderr",
     "output_type": "stream",
     "text": [
      "Compiled the loaded model, but the compiled metrics have yet to be built. `model.compile_metrics` will be empty until you train or evaluate the model.\n"
     ]
    },
    {
     "name": "stdout",
     "output_type": "stream",
     "text": [
      "mtd_ai\n",
      "Trial_ 311\n",
      "all_features\n",
      "On Mac\n",
      "Static_factor 2000\n",
      "MTD Scheme [<class 'mtdnetwork.mtd.completetopologyshuffle.CompleteTopologyShuffle'>, <class 'mtdnetwork.mtd.ipshuffle.IPShuffle'>, <class 'mtdnetwork.mtd.osdiversity.OSDiversity'>, <class 'mtdnetwork.mtd.servicediversity.ServiceDiversity'>]\n",
      "Action size(include zero which is no deployment) 5\n"
     ]
    },
    {
     "name": "stderr",
     "output_type": "stream",
     "text": [
      "Compiled the loaded model, but the compiled metrics have yet to be built. `model.compile_metrics` will be empty until you train or evaluate the model.\n"
     ]
    },
    {
     "name": "stdout",
     "output_type": "stream",
     "text": [
      "mtd_ai\n",
      "Trial_ 312\n",
      "all_features\n",
      "On Mac\n",
      "Static_factor 2000\n",
      "MTD Scheme [<class 'mtdnetwork.mtd.completetopologyshuffle.CompleteTopologyShuffle'>, <class 'mtdnetwork.mtd.ipshuffle.IPShuffle'>, <class 'mtdnetwork.mtd.osdiversity.OSDiversity'>, <class 'mtdnetwork.mtd.servicediversity.ServiceDiversity'>]\n",
      "Action size(include zero which is no deployment) 5\n"
     ]
    },
    {
     "name": "stderr",
     "output_type": "stream",
     "text": [
      "Compiled the loaded model, but the compiled metrics have yet to be built. `model.compile_metrics` will be empty until you train or evaluate the model.\n"
     ]
    },
    {
     "name": "stdout",
     "output_type": "stream",
     "text": [
      "mtd_ai\n",
      "Trial_ 313\n",
      "all_features\n",
      "On Mac\n",
      "Static_factor 2000\n",
      "MTD Scheme [<class 'mtdnetwork.mtd.completetopologyshuffle.CompleteTopologyShuffle'>, <class 'mtdnetwork.mtd.ipshuffle.IPShuffle'>, <class 'mtdnetwork.mtd.osdiversity.OSDiversity'>, <class 'mtdnetwork.mtd.servicediversity.ServiceDiversity'>]\n",
      "Action size(include zero which is no deployment) 5\n"
     ]
    },
    {
     "name": "stderr",
     "output_type": "stream",
     "text": [
      "Compiled the loaded model, but the compiled metrics have yet to be built. `model.compile_metrics` will be empty until you train or evaluate the model.\n"
     ]
    },
    {
     "name": "stdout",
     "output_type": "stream",
     "text": [
      "mtd_ai\n",
      "Trial_ 314\n",
      "all_features\n",
      "On Mac\n",
      "Static_factor 2000\n",
      "MTD Scheme [<class 'mtdnetwork.mtd.completetopologyshuffle.CompleteTopologyShuffle'>, <class 'mtdnetwork.mtd.ipshuffle.IPShuffle'>, <class 'mtdnetwork.mtd.osdiversity.OSDiversity'>, <class 'mtdnetwork.mtd.servicediversity.ServiceDiversity'>]\n",
      "Action size(include zero which is no deployment) 5\n"
     ]
    },
    {
     "name": "stderr",
     "output_type": "stream",
     "text": [
      "Compiled the loaded model, but the compiled metrics have yet to be built. `model.compile_metrics` will be empty until you train or evaluate the model.\n"
     ]
    },
    {
     "name": "stdout",
     "output_type": "stream",
     "text": [
      "mtd_ai\n",
      "Trial_ 315\n",
      "all_features\n",
      "On Mac\n",
      "Static_factor 2000\n",
      "MTD Scheme [<class 'mtdnetwork.mtd.completetopologyshuffle.CompleteTopologyShuffle'>, <class 'mtdnetwork.mtd.ipshuffle.IPShuffle'>, <class 'mtdnetwork.mtd.osdiversity.OSDiversity'>, <class 'mtdnetwork.mtd.servicediversity.ServiceDiversity'>]\n",
      "Action size(include zero which is no deployment) 5\n"
     ]
    },
    {
     "name": "stderr",
     "output_type": "stream",
     "text": [
      "Compiled the loaded model, but the compiled metrics have yet to be built. `model.compile_metrics` will be empty until you train or evaluate the model.\n"
     ]
    },
    {
     "name": "stdout",
     "output_type": "stream",
     "text": [
      "mtd_ai\n",
      "Trial_ 316\n",
      "all_features\n",
      "On Mac\n",
      "Static_factor 2000\n",
      "MTD Scheme [<class 'mtdnetwork.mtd.completetopologyshuffle.CompleteTopologyShuffle'>, <class 'mtdnetwork.mtd.ipshuffle.IPShuffle'>, <class 'mtdnetwork.mtd.osdiversity.OSDiversity'>, <class 'mtdnetwork.mtd.servicediversity.ServiceDiversity'>]\n",
      "Action size(include zero which is no deployment) 5\n"
     ]
    },
    {
     "name": "stderr",
     "output_type": "stream",
     "text": [
      "Compiled the loaded model, but the compiled metrics have yet to be built. `model.compile_metrics` will be empty until you train or evaluate the model.\n"
     ]
    },
    {
     "name": "stdout",
     "output_type": "stream",
     "text": [
      "mtd_ai\n",
      "Trial_ 317\n",
      "all_features\n",
      "On Mac\n",
      "Static_factor 2000\n",
      "MTD Scheme [<class 'mtdnetwork.mtd.completetopologyshuffle.CompleteTopologyShuffle'>, <class 'mtdnetwork.mtd.ipshuffle.IPShuffle'>, <class 'mtdnetwork.mtd.osdiversity.OSDiversity'>, <class 'mtdnetwork.mtd.servicediversity.ServiceDiversity'>]\n",
      "Action size(include zero which is no deployment) 5\n"
     ]
    },
    {
     "name": "stderr",
     "output_type": "stream",
     "text": [
      "Compiled the loaded model, but the compiled metrics have yet to be built. `model.compile_metrics` will be empty until you train or evaluate the model.\n"
     ]
    },
    {
     "name": "stdout",
     "output_type": "stream",
     "text": [
      "mtd_ai\n",
      "Trial_ 318\n",
      "all_features\n",
      "On Mac\n",
      "Static_factor 2000\n",
      "MTD Scheme [<class 'mtdnetwork.mtd.completetopologyshuffle.CompleteTopologyShuffle'>, <class 'mtdnetwork.mtd.ipshuffle.IPShuffle'>, <class 'mtdnetwork.mtd.osdiversity.OSDiversity'>, <class 'mtdnetwork.mtd.servicediversity.ServiceDiversity'>]\n",
      "Action size(include zero which is no deployment) 5\n"
     ]
    },
    {
     "name": "stderr",
     "output_type": "stream",
     "text": [
      "Compiled the loaded model, but the compiled metrics have yet to be built. `model.compile_metrics` will be empty until you train or evaluate the model.\n"
     ]
    },
    {
     "name": "stdout",
     "output_type": "stream",
     "text": [
      "mtd_ai\n",
      "Trial_ 319\n",
      "all_features\n",
      "On Mac\n",
      "Static_factor 2000\n",
      "MTD Scheme [<class 'mtdnetwork.mtd.completetopologyshuffle.CompleteTopologyShuffle'>, <class 'mtdnetwork.mtd.ipshuffle.IPShuffle'>, <class 'mtdnetwork.mtd.osdiversity.OSDiversity'>, <class 'mtdnetwork.mtd.servicediversity.ServiceDiversity'>]\n",
      "Action size(include zero which is no deployment) 5\n"
     ]
    },
    {
     "name": "stderr",
     "output_type": "stream",
     "text": [
      "Compiled the loaded model, but the compiled metrics have yet to be built. `model.compile_metrics` will be empty until you train or evaluate the model.\n"
     ]
    },
    {
     "name": "stdout",
     "output_type": "stream",
     "text": [
      "mtd_ai\n",
      "Trial_ 320\n",
      "all_features\n",
      "On Mac\n",
      "Static_factor 2000\n",
      "MTD Scheme [<class 'mtdnetwork.mtd.completetopologyshuffle.CompleteTopologyShuffle'>, <class 'mtdnetwork.mtd.ipshuffle.IPShuffle'>, <class 'mtdnetwork.mtd.osdiversity.OSDiversity'>, <class 'mtdnetwork.mtd.servicediversity.ServiceDiversity'>]\n",
      "Action size(include zero which is no deployment) 5\n"
     ]
    },
    {
     "name": "stderr",
     "output_type": "stream",
     "text": [
      "Compiled the loaded model, but the compiled metrics have yet to be built. `model.compile_metrics` will be empty until you train or evaluate the model.\n"
     ]
    },
    {
     "name": "stdout",
     "output_type": "stream",
     "text": [
      "mtd_ai\n",
      "Trial_ 321\n",
      "all_features\n",
      "On Mac\n",
      "Static_factor 2000\n",
      "MTD Scheme [<class 'mtdnetwork.mtd.completetopologyshuffle.CompleteTopologyShuffle'>, <class 'mtdnetwork.mtd.ipshuffle.IPShuffle'>, <class 'mtdnetwork.mtd.osdiversity.OSDiversity'>, <class 'mtdnetwork.mtd.servicediversity.ServiceDiversity'>]\n",
      "Action size(include zero which is no deployment) 5\n"
     ]
    },
    {
     "name": "stderr",
     "output_type": "stream",
     "text": [
      "Compiled the loaded model, but the compiled metrics have yet to be built. `model.compile_metrics` will be empty until you train or evaluate the model.\n"
     ]
    },
    {
     "name": "stdout",
     "output_type": "stream",
     "text": [
      "mtd_ai\n",
      "Trial_ 322\n",
      "all_features\n",
      "On Mac\n",
      "Static_factor 2000\n",
      "MTD Scheme [<class 'mtdnetwork.mtd.completetopologyshuffle.CompleteTopologyShuffle'>, <class 'mtdnetwork.mtd.ipshuffle.IPShuffle'>, <class 'mtdnetwork.mtd.osdiversity.OSDiversity'>, <class 'mtdnetwork.mtd.servicediversity.ServiceDiversity'>]\n",
      "Action size(include zero which is no deployment) 5\n"
     ]
    },
    {
     "name": "stderr",
     "output_type": "stream",
     "text": [
      "Compiled the loaded model, but the compiled metrics have yet to be built. `model.compile_metrics` will be empty until you train or evaluate the model.\n"
     ]
    },
    {
     "name": "stdout",
     "output_type": "stream",
     "text": [
      "mtd_ai\n",
      "Trial_ 323\n",
      "all_features\n",
      "On Mac\n",
      "Static_factor 2000\n",
      "MTD Scheme [<class 'mtdnetwork.mtd.completetopologyshuffle.CompleteTopologyShuffle'>, <class 'mtdnetwork.mtd.ipshuffle.IPShuffle'>, <class 'mtdnetwork.mtd.osdiversity.OSDiversity'>, <class 'mtdnetwork.mtd.servicediversity.ServiceDiversity'>]\n",
      "Action size(include zero which is no deployment) 5\n"
     ]
    },
    {
     "name": "stderr",
     "output_type": "stream",
     "text": [
      "Compiled the loaded model, but the compiled metrics have yet to be built. `model.compile_metrics` will be empty until you train or evaluate the model.\n"
     ]
    },
    {
     "name": "stdout",
     "output_type": "stream",
     "text": [
      "mtd_ai\n",
      "Trial_ 324\n",
      "all_features\n",
      "On Mac\n",
      "Static_factor 2000\n",
      "MTD Scheme [<class 'mtdnetwork.mtd.completetopologyshuffle.CompleteTopologyShuffle'>, <class 'mtdnetwork.mtd.ipshuffle.IPShuffle'>, <class 'mtdnetwork.mtd.osdiversity.OSDiversity'>, <class 'mtdnetwork.mtd.servicediversity.ServiceDiversity'>]\n",
      "Action size(include zero which is no deployment) 5\n"
     ]
    },
    {
     "name": "stderr",
     "output_type": "stream",
     "text": [
      "Compiled the loaded model, but the compiled metrics have yet to be built. `model.compile_metrics` will be empty until you train or evaluate the model.\n"
     ]
    },
    {
     "name": "stdout",
     "output_type": "stream",
     "text": [
      "mtd_ai\n",
      "Trial_ 325\n",
      "all_features\n",
      "On Mac\n",
      "Static_factor 2000\n",
      "MTD Scheme [<class 'mtdnetwork.mtd.completetopologyshuffle.CompleteTopologyShuffle'>, <class 'mtdnetwork.mtd.ipshuffle.IPShuffle'>, <class 'mtdnetwork.mtd.osdiversity.OSDiversity'>, <class 'mtdnetwork.mtd.servicediversity.ServiceDiversity'>]\n",
      "Action size(include zero which is no deployment) 5\n"
     ]
    },
    {
     "name": "stderr",
     "output_type": "stream",
     "text": [
      "Compiled the loaded model, but the compiled metrics have yet to be built. `model.compile_metrics` will be empty until you train or evaluate the model.\n"
     ]
    },
    {
     "name": "stdout",
     "output_type": "stream",
     "text": [
      "mtd_ai\n",
      "Trial_ 326\n",
      "all_features\n",
      "On Mac\n",
      "Static_factor 2000\n",
      "MTD Scheme [<class 'mtdnetwork.mtd.completetopologyshuffle.CompleteTopologyShuffle'>, <class 'mtdnetwork.mtd.ipshuffle.IPShuffle'>, <class 'mtdnetwork.mtd.osdiversity.OSDiversity'>, <class 'mtdnetwork.mtd.servicediversity.ServiceDiversity'>]\n",
      "Action size(include zero which is no deployment) 5\n"
     ]
    },
    {
     "name": "stderr",
     "output_type": "stream",
     "text": [
      "Compiled the loaded model, but the compiled metrics have yet to be built. `model.compile_metrics` will be empty until you train or evaluate the model.\n"
     ]
    },
    {
     "name": "stdout",
     "output_type": "stream",
     "text": [
      "mtd_ai\n",
      "Trial_ 327\n",
      "all_features\n",
      "On Mac\n",
      "Static_factor 2000\n",
      "MTD Scheme [<class 'mtdnetwork.mtd.completetopologyshuffle.CompleteTopologyShuffle'>, <class 'mtdnetwork.mtd.ipshuffle.IPShuffle'>, <class 'mtdnetwork.mtd.osdiversity.OSDiversity'>, <class 'mtdnetwork.mtd.servicediversity.ServiceDiversity'>]\n",
      "Action size(include zero which is no deployment) 5\n"
     ]
    },
    {
     "name": "stderr",
     "output_type": "stream",
     "text": [
      "Compiled the loaded model, but the compiled metrics have yet to be built. `model.compile_metrics` will be empty until you train or evaluate the model.\n"
     ]
    },
    {
     "name": "stdout",
     "output_type": "stream",
     "text": [
      "mtd_ai\n",
      "Trial_ 328\n",
      "all_features\n",
      "On Mac\n",
      "Static_factor 2000\n",
      "MTD Scheme [<class 'mtdnetwork.mtd.completetopologyshuffle.CompleteTopologyShuffle'>, <class 'mtdnetwork.mtd.ipshuffle.IPShuffle'>, <class 'mtdnetwork.mtd.osdiversity.OSDiversity'>, <class 'mtdnetwork.mtd.servicediversity.ServiceDiversity'>]\n",
      "Action size(include zero which is no deployment) 5\n"
     ]
    },
    {
     "name": "stderr",
     "output_type": "stream",
     "text": [
      "Compiled the loaded model, but the compiled metrics have yet to be built. `model.compile_metrics` will be empty until you train or evaluate the model.\n"
     ]
    },
    {
     "name": "stdout",
     "output_type": "stream",
     "text": [
      "mtd_ai\n",
      "Trial_ 329\n",
      "all_features\n",
      "On Mac\n",
      "Static_factor 2000\n",
      "MTD Scheme [<class 'mtdnetwork.mtd.completetopologyshuffle.CompleteTopologyShuffle'>, <class 'mtdnetwork.mtd.ipshuffle.IPShuffle'>, <class 'mtdnetwork.mtd.osdiversity.OSDiversity'>, <class 'mtdnetwork.mtd.servicediversity.ServiceDiversity'>]\n",
      "Action size(include zero which is no deployment) 5\n"
     ]
    },
    {
     "name": "stderr",
     "output_type": "stream",
     "text": [
      "Compiled the loaded model, but the compiled metrics have yet to be built. `model.compile_metrics` will be empty until you train or evaluate the model.\n"
     ]
    },
    {
     "name": "stdout",
     "output_type": "stream",
     "text": [
      "mtd_ai\n",
      "Trial_ 330\n",
      "all_features\n",
      "On Mac\n",
      "Static_factor 2000\n",
      "MTD Scheme [<class 'mtdnetwork.mtd.completetopologyshuffle.CompleteTopologyShuffle'>, <class 'mtdnetwork.mtd.ipshuffle.IPShuffle'>, <class 'mtdnetwork.mtd.osdiversity.OSDiversity'>, <class 'mtdnetwork.mtd.servicediversity.ServiceDiversity'>]\n",
      "Action size(include zero which is no deployment) 5\n"
     ]
    },
    {
     "name": "stderr",
     "output_type": "stream",
     "text": [
      "Compiled the loaded model, but the compiled metrics have yet to be built. `model.compile_metrics` will be empty until you train or evaluate the model.\n"
     ]
    },
    {
     "name": "stdout",
     "output_type": "stream",
     "text": [
      "mtd_ai\n",
      "Trial_ 331\n",
      "all_features\n",
      "On Mac\n",
      "Static_factor 2000\n",
      "MTD Scheme [<class 'mtdnetwork.mtd.completetopologyshuffle.CompleteTopologyShuffle'>, <class 'mtdnetwork.mtd.ipshuffle.IPShuffle'>, <class 'mtdnetwork.mtd.osdiversity.OSDiversity'>, <class 'mtdnetwork.mtd.servicediversity.ServiceDiversity'>]\n",
      "Action size(include zero which is no deployment) 5\n"
     ]
    },
    {
     "name": "stderr",
     "output_type": "stream",
     "text": [
      "Compiled the loaded model, but the compiled metrics have yet to be built. `model.compile_metrics` will be empty until you train or evaluate the model.\n"
     ]
    },
    {
     "name": "stdout",
     "output_type": "stream",
     "text": [
      "mtd_ai\n",
      "Trial_ 332\n",
      "all_features\n",
      "On Mac\n",
      "Static_factor 2000\n",
      "MTD Scheme [<class 'mtdnetwork.mtd.completetopologyshuffle.CompleteTopologyShuffle'>, <class 'mtdnetwork.mtd.ipshuffle.IPShuffle'>, <class 'mtdnetwork.mtd.osdiversity.OSDiversity'>, <class 'mtdnetwork.mtd.servicediversity.ServiceDiversity'>]\n",
      "Action size(include zero which is no deployment) 5\n"
     ]
    },
    {
     "name": "stderr",
     "output_type": "stream",
     "text": [
      "Compiled the loaded model, but the compiled metrics have yet to be built. `model.compile_metrics` will be empty until you train or evaluate the model.\n"
     ]
    },
    {
     "name": "stdout",
     "output_type": "stream",
     "text": [
      "mtd_ai\n",
      "Trial_ 333\n",
      "all_features\n",
      "On Mac\n",
      "Static_factor 2000\n",
      "MTD Scheme [<class 'mtdnetwork.mtd.completetopologyshuffle.CompleteTopologyShuffle'>, <class 'mtdnetwork.mtd.ipshuffle.IPShuffle'>, <class 'mtdnetwork.mtd.osdiversity.OSDiversity'>, <class 'mtdnetwork.mtd.servicediversity.ServiceDiversity'>]\n",
      "Action size(include zero which is no deployment) 5\n"
     ]
    },
    {
     "name": "stderr",
     "output_type": "stream",
     "text": [
      "Compiled the loaded model, but the compiled metrics have yet to be built. `model.compile_metrics` will be empty until you train or evaluate the model.\n"
     ]
    },
    {
     "name": "stdout",
     "output_type": "stream",
     "text": [
      "mtd_ai\n",
      "Trial_ 334\n",
      "all_features\n",
      "On Mac\n",
      "Static_factor 2000\n",
      "MTD Scheme [<class 'mtdnetwork.mtd.completetopologyshuffle.CompleteTopologyShuffle'>, <class 'mtdnetwork.mtd.ipshuffle.IPShuffle'>, <class 'mtdnetwork.mtd.osdiversity.OSDiversity'>, <class 'mtdnetwork.mtd.servicediversity.ServiceDiversity'>]\n",
      "Action size(include zero which is no deployment) 5\n"
     ]
    },
    {
     "name": "stderr",
     "output_type": "stream",
     "text": [
      "Compiled the loaded model, but the compiled metrics have yet to be built. `model.compile_metrics` will be empty until you train or evaluate the model.\n"
     ]
    },
    {
     "name": "stdout",
     "output_type": "stream",
     "text": [
      "mtd_ai\n",
      "Trial_ 335\n",
      "all_features\n",
      "On Mac\n",
      "Static_factor 2000\n",
      "MTD Scheme [<class 'mtdnetwork.mtd.completetopologyshuffle.CompleteTopologyShuffle'>, <class 'mtdnetwork.mtd.ipshuffle.IPShuffle'>, <class 'mtdnetwork.mtd.osdiversity.OSDiversity'>, <class 'mtdnetwork.mtd.servicediversity.ServiceDiversity'>]\n",
      "Action size(include zero which is no deployment) 5\n"
     ]
    },
    {
     "name": "stderr",
     "output_type": "stream",
     "text": [
      "Compiled the loaded model, but the compiled metrics have yet to be built. `model.compile_metrics` will be empty until you train or evaluate the model.\n"
     ]
    },
    {
     "name": "stdout",
     "output_type": "stream",
     "text": [
      "mtd_ai\n",
      "Trial_ 336\n",
      "all_features\n",
      "On Mac\n",
      "Static_factor 2000\n",
      "MTD Scheme [<class 'mtdnetwork.mtd.completetopologyshuffle.CompleteTopologyShuffle'>, <class 'mtdnetwork.mtd.ipshuffle.IPShuffle'>, <class 'mtdnetwork.mtd.osdiversity.OSDiversity'>, <class 'mtdnetwork.mtd.servicediversity.ServiceDiversity'>]\n",
      "Action size(include zero which is no deployment) 5\n"
     ]
    },
    {
     "name": "stderr",
     "output_type": "stream",
     "text": [
      "Compiled the loaded model, but the compiled metrics have yet to be built. `model.compile_metrics` will be empty until you train or evaluate the model.\n"
     ]
    },
    {
     "name": "stdout",
     "output_type": "stream",
     "text": [
      "mtd_ai\n",
      "Trial_ 337\n",
      "all_features\n",
      "On Mac\n",
      "Static_factor 2000\n",
      "MTD Scheme [<class 'mtdnetwork.mtd.completetopologyshuffle.CompleteTopologyShuffle'>, <class 'mtdnetwork.mtd.ipshuffle.IPShuffle'>, <class 'mtdnetwork.mtd.osdiversity.OSDiversity'>, <class 'mtdnetwork.mtd.servicediversity.ServiceDiversity'>]\n",
      "Action size(include zero which is no deployment) 5\n"
     ]
    },
    {
     "name": "stderr",
     "output_type": "stream",
     "text": [
      "Compiled the loaded model, but the compiled metrics have yet to be built. `model.compile_metrics` will be empty until you train or evaluate the model.\n"
     ]
    },
    {
     "name": "stdout",
     "output_type": "stream",
     "text": [
      "mtd_ai\n",
      "Trial_ 338\n",
      "all_features\n",
      "On Mac\n",
      "Static_factor 2000\n",
      "MTD Scheme [<class 'mtdnetwork.mtd.completetopologyshuffle.CompleteTopologyShuffle'>, <class 'mtdnetwork.mtd.ipshuffle.IPShuffle'>, <class 'mtdnetwork.mtd.osdiversity.OSDiversity'>, <class 'mtdnetwork.mtd.servicediversity.ServiceDiversity'>]\n",
      "Action size(include zero which is no deployment) 5\n"
     ]
    },
    {
     "name": "stderr",
     "output_type": "stream",
     "text": [
      "Compiled the loaded model, but the compiled metrics have yet to be built. `model.compile_metrics` will be empty until you train or evaluate the model.\n"
     ]
    },
    {
     "name": "stdout",
     "output_type": "stream",
     "text": [
      "mtd_ai\n",
      "Trial_ 339\n",
      "all_features\n",
      "On Mac\n",
      "Static_factor 2000\n",
      "MTD Scheme [<class 'mtdnetwork.mtd.completetopologyshuffle.CompleteTopologyShuffle'>, <class 'mtdnetwork.mtd.ipshuffle.IPShuffle'>, <class 'mtdnetwork.mtd.osdiversity.OSDiversity'>, <class 'mtdnetwork.mtd.servicediversity.ServiceDiversity'>]\n",
      "Action size(include zero which is no deployment) 5\n"
     ]
    },
    {
     "name": "stderr",
     "output_type": "stream",
     "text": [
      "Compiled the loaded model, but the compiled metrics have yet to be built. `model.compile_metrics` will be empty until you train or evaluate the model.\n"
     ]
    },
    {
     "name": "stdout",
     "output_type": "stream",
     "text": [
      "mtd_ai\n",
      "Trial_ 340\n",
      "all_features\n",
      "On Mac\n",
      "Static_factor 2000\n",
      "MTD Scheme [<class 'mtdnetwork.mtd.completetopologyshuffle.CompleteTopologyShuffle'>, <class 'mtdnetwork.mtd.ipshuffle.IPShuffle'>, <class 'mtdnetwork.mtd.osdiversity.OSDiversity'>, <class 'mtdnetwork.mtd.servicediversity.ServiceDiversity'>]\n",
      "Action size(include zero which is no deployment) 5\n"
     ]
    },
    {
     "name": "stderr",
     "output_type": "stream",
     "text": [
      "Compiled the loaded model, but the compiled metrics have yet to be built. `model.compile_metrics` will be empty until you train or evaluate the model.\n"
     ]
    },
    {
     "name": "stdout",
     "output_type": "stream",
     "text": [
      "mtd_ai\n",
      "Trial_ 341\n",
      "all_features\n",
      "On Mac\n",
      "Static_factor 2000\n",
      "MTD Scheme [<class 'mtdnetwork.mtd.completetopologyshuffle.CompleteTopologyShuffle'>, <class 'mtdnetwork.mtd.ipshuffle.IPShuffle'>, <class 'mtdnetwork.mtd.osdiversity.OSDiversity'>, <class 'mtdnetwork.mtd.servicediversity.ServiceDiversity'>]\n",
      "Action size(include zero which is no deployment) 5\n"
     ]
    },
    {
     "name": "stderr",
     "output_type": "stream",
     "text": [
      "Compiled the loaded model, but the compiled metrics have yet to be built. `model.compile_metrics` will be empty until you train or evaluate the model.\n"
     ]
    },
    {
     "name": "stdout",
     "output_type": "stream",
     "text": [
      "mtd_ai\n",
      "Trial_ 342\n",
      "all_features\n",
      "On Mac\n",
      "Static_factor 2000\n",
      "MTD Scheme [<class 'mtdnetwork.mtd.completetopologyshuffle.CompleteTopologyShuffle'>, <class 'mtdnetwork.mtd.ipshuffle.IPShuffle'>, <class 'mtdnetwork.mtd.osdiversity.OSDiversity'>, <class 'mtdnetwork.mtd.servicediversity.ServiceDiversity'>]\n",
      "Action size(include zero which is no deployment) 5\n"
     ]
    },
    {
     "name": "stderr",
     "output_type": "stream",
     "text": [
      "Compiled the loaded model, but the compiled metrics have yet to be built. `model.compile_metrics` will be empty until you train or evaluate the model.\n"
     ]
    },
    {
     "name": "stdout",
     "output_type": "stream",
     "text": [
      "mtd_ai\n",
      "Trial_ 343\n",
      "all_features\n",
      "On Mac\n",
      "Static_factor 2000\n",
      "MTD Scheme [<class 'mtdnetwork.mtd.completetopologyshuffle.CompleteTopologyShuffle'>, <class 'mtdnetwork.mtd.ipshuffle.IPShuffle'>, <class 'mtdnetwork.mtd.osdiversity.OSDiversity'>, <class 'mtdnetwork.mtd.servicediversity.ServiceDiversity'>]\n",
      "Action size(include zero which is no deployment) 5\n"
     ]
    },
    {
     "name": "stderr",
     "output_type": "stream",
     "text": [
      "Compiled the loaded model, but the compiled metrics have yet to be built. `model.compile_metrics` will be empty until you train or evaluate the model.\n"
     ]
    },
    {
     "name": "stdout",
     "output_type": "stream",
     "text": [
      "mtd_ai\n",
      "Trial_ 344\n",
      "all_features\n",
      "On Mac\n",
      "Static_factor 2000\n",
      "MTD Scheme [<class 'mtdnetwork.mtd.completetopologyshuffle.CompleteTopologyShuffle'>, <class 'mtdnetwork.mtd.ipshuffle.IPShuffle'>, <class 'mtdnetwork.mtd.osdiversity.OSDiversity'>, <class 'mtdnetwork.mtd.servicediversity.ServiceDiversity'>]\n",
      "Action size(include zero which is no deployment) 5\n"
     ]
    },
    {
     "name": "stderr",
     "output_type": "stream",
     "text": [
      "Compiled the loaded model, but the compiled metrics have yet to be built. `model.compile_metrics` will be empty until you train or evaluate the model.\n"
     ]
    },
    {
     "name": "stdout",
     "output_type": "stream",
     "text": [
      "mtd_ai\n",
      "Trial_ 345\n",
      "all_features\n",
      "On Mac\n",
      "Static_factor 2000\n",
      "MTD Scheme [<class 'mtdnetwork.mtd.completetopologyshuffle.CompleteTopologyShuffle'>, <class 'mtdnetwork.mtd.ipshuffle.IPShuffle'>, <class 'mtdnetwork.mtd.osdiversity.OSDiversity'>, <class 'mtdnetwork.mtd.servicediversity.ServiceDiversity'>]\n",
      "Action size(include zero which is no deployment) 5\n"
     ]
    },
    {
     "name": "stderr",
     "output_type": "stream",
     "text": [
      "Compiled the loaded model, but the compiled metrics have yet to be built. `model.compile_metrics` will be empty until you train or evaluate the model.\n"
     ]
    },
    {
     "name": "stdout",
     "output_type": "stream",
     "text": [
      "mtd_ai\n",
      "Trial_ 346\n",
      "all_features\n",
      "On Mac\n",
      "Static_factor 2000\n",
      "MTD Scheme [<class 'mtdnetwork.mtd.completetopologyshuffle.CompleteTopologyShuffle'>, <class 'mtdnetwork.mtd.ipshuffle.IPShuffle'>, <class 'mtdnetwork.mtd.osdiversity.OSDiversity'>, <class 'mtdnetwork.mtd.servicediversity.ServiceDiversity'>]\n",
      "Action size(include zero which is no deployment) 5\n"
     ]
    },
    {
     "name": "stderr",
     "output_type": "stream",
     "text": [
      "Compiled the loaded model, but the compiled metrics have yet to be built. `model.compile_metrics` will be empty until you train or evaluate the model.\n"
     ]
    },
    {
     "name": "stdout",
     "output_type": "stream",
     "text": [
      "mtd_ai\n",
      "Trial_ 347\n",
      "all_features\n",
      "On Mac\n",
      "Static_factor 2000\n",
      "MTD Scheme [<class 'mtdnetwork.mtd.completetopologyshuffle.CompleteTopologyShuffle'>, <class 'mtdnetwork.mtd.ipshuffle.IPShuffle'>, <class 'mtdnetwork.mtd.osdiversity.OSDiversity'>, <class 'mtdnetwork.mtd.servicediversity.ServiceDiversity'>]\n",
      "Action size(include zero which is no deployment) 5\n"
     ]
    },
    {
     "name": "stderr",
     "output_type": "stream",
     "text": [
      "Compiled the loaded model, but the compiled metrics have yet to be built. `model.compile_metrics` will be empty until you train or evaluate the model.\n"
     ]
    },
    {
     "name": "stdout",
     "output_type": "stream",
     "text": [
      "mtd_ai\n",
      "Trial_ 348\n",
      "all_features\n",
      "On Mac\n",
      "Static_factor 2000\n",
      "MTD Scheme [<class 'mtdnetwork.mtd.completetopologyshuffle.CompleteTopologyShuffle'>, <class 'mtdnetwork.mtd.ipshuffle.IPShuffle'>, <class 'mtdnetwork.mtd.osdiversity.OSDiversity'>, <class 'mtdnetwork.mtd.servicediversity.ServiceDiversity'>]\n",
      "Action size(include zero which is no deployment) 5\n"
     ]
    },
    {
     "name": "stderr",
     "output_type": "stream",
     "text": [
      "Compiled the loaded model, but the compiled metrics have yet to be built. `model.compile_metrics` will be empty until you train or evaluate the model.\n"
     ]
    },
    {
     "name": "stdout",
     "output_type": "stream",
     "text": [
      "mtd_ai\n",
      "Trial_ 349\n",
      "all_features\n",
      "On Mac\n",
      "Static_factor 2000\n",
      "MTD Scheme [<class 'mtdnetwork.mtd.completetopologyshuffle.CompleteTopologyShuffle'>, <class 'mtdnetwork.mtd.ipshuffle.IPShuffle'>, <class 'mtdnetwork.mtd.osdiversity.OSDiversity'>, <class 'mtdnetwork.mtd.servicediversity.ServiceDiversity'>]\n",
      "Action size(include zero which is no deployment) 5\n"
     ]
    },
    {
     "name": "stderr",
     "output_type": "stream",
     "text": [
      "Compiled the loaded model, but the compiled metrics have yet to be built. `model.compile_metrics` will be empty until you train or evaluate the model.\n"
     ]
    },
    {
     "name": "stdout",
     "output_type": "stream",
     "text": [
      "mtd_ai\n",
      "Trial_ 350\n",
      "all_features\n",
      "On Mac\n",
      "Static_factor 2000\n",
      "MTD Scheme [<class 'mtdnetwork.mtd.completetopologyshuffle.CompleteTopologyShuffle'>, <class 'mtdnetwork.mtd.ipshuffle.IPShuffle'>, <class 'mtdnetwork.mtd.osdiversity.OSDiversity'>, <class 'mtdnetwork.mtd.servicediversity.ServiceDiversity'>]\n",
      "Action size(include zero which is no deployment) 5\n"
     ]
    },
    {
     "name": "stderr",
     "output_type": "stream",
     "text": [
      "Compiled the loaded model, but the compiled metrics have yet to be built. `model.compile_metrics` will be empty until you train or evaluate the model.\n"
     ]
    },
    {
     "name": "stdout",
     "output_type": "stream",
     "text": [
      "mtd_ai\n",
      "Trial_ 351\n",
      "all_features\n",
      "On Mac\n",
      "Static_factor 2000\n",
      "MTD Scheme [<class 'mtdnetwork.mtd.completetopologyshuffle.CompleteTopologyShuffle'>, <class 'mtdnetwork.mtd.ipshuffle.IPShuffle'>, <class 'mtdnetwork.mtd.osdiversity.OSDiversity'>, <class 'mtdnetwork.mtd.servicediversity.ServiceDiversity'>]\n",
      "Action size(include zero which is no deployment) 5\n"
     ]
    },
    {
     "name": "stderr",
     "output_type": "stream",
     "text": [
      "Compiled the loaded model, but the compiled metrics have yet to be built. `model.compile_metrics` will be empty until you train or evaluate the model.\n"
     ]
    },
    {
     "name": "stdout",
     "output_type": "stream",
     "text": [
      "mtd_ai\n",
      "Trial_ 352\n",
      "all_features\n",
      "On Mac\n",
      "Static_factor 2000\n",
      "MTD Scheme [<class 'mtdnetwork.mtd.completetopologyshuffle.CompleteTopologyShuffle'>, <class 'mtdnetwork.mtd.ipshuffle.IPShuffle'>, <class 'mtdnetwork.mtd.osdiversity.OSDiversity'>, <class 'mtdnetwork.mtd.servicediversity.ServiceDiversity'>]\n",
      "Action size(include zero which is no deployment) 5\n"
     ]
    },
    {
     "name": "stderr",
     "output_type": "stream",
     "text": [
      "Compiled the loaded model, but the compiled metrics have yet to be built. `model.compile_metrics` will be empty until you train or evaluate the model.\n"
     ]
    },
    {
     "name": "stdout",
     "output_type": "stream",
     "text": [
      "mtd_ai\n",
      "Trial_ 353\n",
      "all_features\n",
      "On Mac\n",
      "Static_factor 2000\n",
      "MTD Scheme [<class 'mtdnetwork.mtd.completetopologyshuffle.CompleteTopologyShuffle'>, <class 'mtdnetwork.mtd.ipshuffle.IPShuffle'>, <class 'mtdnetwork.mtd.osdiversity.OSDiversity'>, <class 'mtdnetwork.mtd.servicediversity.ServiceDiversity'>]\n",
      "Action size(include zero which is no deployment) 5\n"
     ]
    },
    {
     "name": "stderr",
     "output_type": "stream",
     "text": [
      "Compiled the loaded model, but the compiled metrics have yet to be built. `model.compile_metrics` will be empty until you train or evaluate the model.\n"
     ]
    },
    {
     "name": "stdout",
     "output_type": "stream",
     "text": [
      "mtd_ai\n",
      "Trial_ 354\n",
      "all_features\n",
      "On Mac\n",
      "Static_factor 2000\n",
      "MTD Scheme [<class 'mtdnetwork.mtd.completetopologyshuffle.CompleteTopologyShuffle'>, <class 'mtdnetwork.mtd.ipshuffle.IPShuffle'>, <class 'mtdnetwork.mtd.osdiversity.OSDiversity'>, <class 'mtdnetwork.mtd.servicediversity.ServiceDiversity'>]\n",
      "Action size(include zero which is no deployment) 5\n"
     ]
    },
    {
     "name": "stderr",
     "output_type": "stream",
     "text": [
      "Compiled the loaded model, but the compiled metrics have yet to be built. `model.compile_metrics` will be empty until you train or evaluate the model.\n"
     ]
    },
    {
     "name": "stdout",
     "output_type": "stream",
     "text": [
      "mtd_ai\n",
      "Trial_ 355\n",
      "all_features\n",
      "On Mac\n",
      "Static_factor 2000\n",
      "MTD Scheme [<class 'mtdnetwork.mtd.completetopologyshuffle.CompleteTopologyShuffle'>, <class 'mtdnetwork.mtd.ipshuffle.IPShuffle'>, <class 'mtdnetwork.mtd.osdiversity.OSDiversity'>, <class 'mtdnetwork.mtd.servicediversity.ServiceDiversity'>]\n",
      "Action size(include zero which is no deployment) 5\n"
     ]
    },
    {
     "name": "stderr",
     "output_type": "stream",
     "text": [
      "Compiled the loaded model, but the compiled metrics have yet to be built. `model.compile_metrics` will be empty until you train or evaluate the model.\n"
     ]
    },
    {
     "name": "stdout",
     "output_type": "stream",
     "text": [
      "mtd_ai\n",
      "Trial_ 356\n",
      "all_features\n",
      "On Mac\n",
      "Static_factor 2000\n",
      "MTD Scheme [<class 'mtdnetwork.mtd.completetopologyshuffle.CompleteTopologyShuffle'>, <class 'mtdnetwork.mtd.ipshuffle.IPShuffle'>, <class 'mtdnetwork.mtd.osdiversity.OSDiversity'>, <class 'mtdnetwork.mtd.servicediversity.ServiceDiversity'>]\n",
      "Action size(include zero which is no deployment) 5\n"
     ]
    },
    {
     "name": "stderr",
     "output_type": "stream",
     "text": [
      "Compiled the loaded model, but the compiled metrics have yet to be built. `model.compile_metrics` will be empty until you train or evaluate the model.\n"
     ]
    },
    {
     "name": "stdout",
     "output_type": "stream",
     "text": [
      "mtd_ai\n",
      "Trial_ 357\n",
      "all_features\n",
      "On Mac\n",
      "Static_factor 2000\n",
      "MTD Scheme [<class 'mtdnetwork.mtd.completetopologyshuffle.CompleteTopologyShuffle'>, <class 'mtdnetwork.mtd.ipshuffle.IPShuffle'>, <class 'mtdnetwork.mtd.osdiversity.OSDiversity'>, <class 'mtdnetwork.mtd.servicediversity.ServiceDiversity'>]\n",
      "Action size(include zero which is no deployment) 5\n"
     ]
    },
    {
     "name": "stderr",
     "output_type": "stream",
     "text": [
      "Compiled the loaded model, but the compiled metrics have yet to be built. `model.compile_metrics` will be empty until you train or evaluate the model.\n"
     ]
    },
    {
     "name": "stdout",
     "output_type": "stream",
     "text": [
      "mtd_ai\n",
      "Trial_ 358\n",
      "all_features\n",
      "On Mac\n",
      "Static_factor 2000\n",
      "MTD Scheme [<class 'mtdnetwork.mtd.completetopologyshuffle.CompleteTopologyShuffle'>, <class 'mtdnetwork.mtd.ipshuffle.IPShuffle'>, <class 'mtdnetwork.mtd.osdiversity.OSDiversity'>, <class 'mtdnetwork.mtd.servicediversity.ServiceDiversity'>]\n",
      "Action size(include zero which is no deployment) 5\n"
     ]
    },
    {
     "name": "stderr",
     "output_type": "stream",
     "text": [
      "Compiled the loaded model, but the compiled metrics have yet to be built. `model.compile_metrics` will be empty until you train or evaluate the model.\n"
     ]
    },
    {
     "name": "stdout",
     "output_type": "stream",
     "text": [
      "mtd_ai\n",
      "Trial_ 359\n",
      "all_features\n",
      "On Mac\n",
      "Static_factor 2000\n",
      "MTD Scheme [<class 'mtdnetwork.mtd.completetopologyshuffle.CompleteTopologyShuffle'>, <class 'mtdnetwork.mtd.ipshuffle.IPShuffle'>, <class 'mtdnetwork.mtd.osdiversity.OSDiversity'>, <class 'mtdnetwork.mtd.servicediversity.ServiceDiversity'>]\n",
      "Action size(include zero which is no deployment) 5\n"
     ]
    },
    {
     "name": "stderr",
     "output_type": "stream",
     "text": [
      "Compiled the loaded model, but the compiled metrics have yet to be built. `model.compile_metrics` will be empty until you train or evaluate the model.\n"
     ]
    },
    {
     "name": "stdout",
     "output_type": "stream",
     "text": [
      "mtd_ai\n",
      "Trial_ 360\n",
      "all_features\n",
      "On Mac\n",
      "Static_factor 2000\n",
      "MTD Scheme [<class 'mtdnetwork.mtd.completetopologyshuffle.CompleteTopologyShuffle'>, <class 'mtdnetwork.mtd.ipshuffle.IPShuffle'>, <class 'mtdnetwork.mtd.osdiversity.OSDiversity'>, <class 'mtdnetwork.mtd.servicediversity.ServiceDiversity'>]\n",
      "Action size(include zero which is no deployment) 5\n"
     ]
    },
    {
     "name": "stderr",
     "output_type": "stream",
     "text": [
      "Compiled the loaded model, but the compiled metrics have yet to be built. `model.compile_metrics` will be empty until you train or evaluate the model.\n"
     ]
    },
    {
     "name": "stdout",
     "output_type": "stream",
     "text": [
      "mtd_ai\n",
      "Trial_ 361\n",
      "all_features\n",
      "On Mac\n",
      "Static_factor 2000\n",
      "MTD Scheme [<class 'mtdnetwork.mtd.completetopologyshuffle.CompleteTopologyShuffle'>, <class 'mtdnetwork.mtd.ipshuffle.IPShuffle'>, <class 'mtdnetwork.mtd.osdiversity.OSDiversity'>, <class 'mtdnetwork.mtd.servicediversity.ServiceDiversity'>]\n",
      "Action size(include zero which is no deployment) 5\n"
     ]
    },
    {
     "name": "stderr",
     "output_type": "stream",
     "text": [
      "Compiled the loaded model, but the compiled metrics have yet to be built. `model.compile_metrics` will be empty until you train or evaluate the model.\n"
     ]
    },
    {
     "name": "stdout",
     "output_type": "stream",
     "text": [
      "mtd_ai\n",
      "Trial_ 362\n",
      "all_features\n",
      "On Mac\n",
      "Static_factor 2000\n",
      "MTD Scheme [<class 'mtdnetwork.mtd.completetopologyshuffle.CompleteTopologyShuffle'>, <class 'mtdnetwork.mtd.ipshuffle.IPShuffle'>, <class 'mtdnetwork.mtd.osdiversity.OSDiversity'>, <class 'mtdnetwork.mtd.servicediversity.ServiceDiversity'>]\n",
      "Action size(include zero which is no deployment) 5\n"
     ]
    },
    {
     "name": "stderr",
     "output_type": "stream",
     "text": [
      "Compiled the loaded model, but the compiled metrics have yet to be built. `model.compile_metrics` will be empty until you train or evaluate the model.\n"
     ]
    },
    {
     "name": "stdout",
     "output_type": "stream",
     "text": [
      "mtd_ai\n",
      "Trial_ 363\n",
      "all_features\n",
      "On Mac\n",
      "Static_factor 2000\n",
      "MTD Scheme [<class 'mtdnetwork.mtd.completetopologyshuffle.CompleteTopologyShuffle'>, <class 'mtdnetwork.mtd.ipshuffle.IPShuffle'>, <class 'mtdnetwork.mtd.osdiversity.OSDiversity'>, <class 'mtdnetwork.mtd.servicediversity.ServiceDiversity'>]\n",
      "Action size(include zero which is no deployment) 5\n"
     ]
    },
    {
     "name": "stderr",
     "output_type": "stream",
     "text": [
      "Compiled the loaded model, but the compiled metrics have yet to be built. `model.compile_metrics` will be empty until you train or evaluate the model.\n"
     ]
    },
    {
     "name": "stdout",
     "output_type": "stream",
     "text": [
      "mtd_ai\n",
      "Trial_ 364\n",
      "all_features\n",
      "On Mac\n",
      "Static_factor 2000\n",
      "MTD Scheme [<class 'mtdnetwork.mtd.completetopologyshuffle.CompleteTopologyShuffle'>, <class 'mtdnetwork.mtd.ipshuffle.IPShuffle'>, <class 'mtdnetwork.mtd.osdiversity.OSDiversity'>, <class 'mtdnetwork.mtd.servicediversity.ServiceDiversity'>]\n",
      "Action size(include zero which is no deployment) 5\n"
     ]
    },
    {
     "name": "stderr",
     "output_type": "stream",
     "text": [
      "Compiled the loaded model, but the compiled metrics have yet to be built. `model.compile_metrics` will be empty until you train or evaluate the model.\n"
     ]
    },
    {
     "name": "stdout",
     "output_type": "stream",
     "text": [
      "mtd_ai\n",
      "Trial_ 365\n",
      "all_features\n",
      "On Mac\n",
      "Static_factor 2000\n",
      "MTD Scheme [<class 'mtdnetwork.mtd.completetopologyshuffle.CompleteTopologyShuffle'>, <class 'mtdnetwork.mtd.ipshuffle.IPShuffle'>, <class 'mtdnetwork.mtd.osdiversity.OSDiversity'>, <class 'mtdnetwork.mtd.servicediversity.ServiceDiversity'>]\n",
      "Action size(include zero which is no deployment) 5\n"
     ]
    },
    {
     "name": "stderr",
     "output_type": "stream",
     "text": [
      "Compiled the loaded model, but the compiled metrics have yet to be built. `model.compile_metrics` will be empty until you train or evaluate the model.\n"
     ]
    },
    {
     "name": "stdout",
     "output_type": "stream",
     "text": [
      "mtd_ai\n",
      "Trial_ 366\n",
      "all_features\n",
      "On Mac\n",
      "Static_factor 2000\n",
      "MTD Scheme [<class 'mtdnetwork.mtd.completetopologyshuffle.CompleteTopologyShuffle'>, <class 'mtdnetwork.mtd.ipshuffle.IPShuffle'>, <class 'mtdnetwork.mtd.osdiversity.OSDiversity'>, <class 'mtdnetwork.mtd.servicediversity.ServiceDiversity'>]\n",
      "Action size(include zero which is no deployment) 5\n"
     ]
    },
    {
     "name": "stderr",
     "output_type": "stream",
     "text": [
      "Compiled the loaded model, but the compiled metrics have yet to be built. `model.compile_metrics` will be empty until you train or evaluate the model.\n"
     ]
    },
    {
     "name": "stdout",
     "output_type": "stream",
     "text": [
      "mtd_ai\n",
      "Trial_ 367\n",
      "all_features\n",
      "On Mac\n",
      "Static_factor 2000\n",
      "MTD Scheme [<class 'mtdnetwork.mtd.completetopologyshuffle.CompleteTopologyShuffle'>, <class 'mtdnetwork.mtd.ipshuffle.IPShuffle'>, <class 'mtdnetwork.mtd.osdiversity.OSDiversity'>, <class 'mtdnetwork.mtd.servicediversity.ServiceDiversity'>]\n",
      "Action size(include zero which is no deployment) 5\n"
     ]
    },
    {
     "name": "stderr",
     "output_type": "stream",
     "text": [
      "Compiled the loaded model, but the compiled metrics have yet to be built. `model.compile_metrics` will be empty until you train or evaluate the model.\n"
     ]
    },
    {
     "name": "stdout",
     "output_type": "stream",
     "text": [
      "mtd_ai\n",
      "Trial_ 368\n",
      "all_features\n",
      "On Mac\n",
      "Static_factor 2000\n",
      "MTD Scheme [<class 'mtdnetwork.mtd.completetopologyshuffle.CompleteTopologyShuffle'>, <class 'mtdnetwork.mtd.ipshuffle.IPShuffle'>, <class 'mtdnetwork.mtd.osdiversity.OSDiversity'>, <class 'mtdnetwork.mtd.servicediversity.ServiceDiversity'>]\n",
      "Action size(include zero which is no deployment) 5\n"
     ]
    },
    {
     "name": "stderr",
     "output_type": "stream",
     "text": [
      "Compiled the loaded model, but the compiled metrics have yet to be built. `model.compile_metrics` will be empty until you train or evaluate the model.\n"
     ]
    },
    {
     "name": "stdout",
     "output_type": "stream",
     "text": [
      "mtd_ai\n",
      "Trial_ 369\n",
      "all_features\n",
      "On Mac\n",
      "Static_factor 2000\n",
      "MTD Scheme [<class 'mtdnetwork.mtd.completetopologyshuffle.CompleteTopologyShuffle'>, <class 'mtdnetwork.mtd.ipshuffle.IPShuffle'>, <class 'mtdnetwork.mtd.osdiversity.OSDiversity'>, <class 'mtdnetwork.mtd.servicediversity.ServiceDiversity'>]\n",
      "Action size(include zero which is no deployment) 5\n"
     ]
    },
    {
     "name": "stderr",
     "output_type": "stream",
     "text": [
      "Compiled the loaded model, but the compiled metrics have yet to be built. `model.compile_metrics` will be empty until you train or evaluate the model.\n"
     ]
    },
    {
     "name": "stdout",
     "output_type": "stream",
     "text": [
      "mtd_ai\n",
      "Trial_ 370\n",
      "all_features\n",
      "On Mac\n",
      "Static_factor 2000\n",
      "MTD Scheme [<class 'mtdnetwork.mtd.completetopologyshuffle.CompleteTopologyShuffle'>, <class 'mtdnetwork.mtd.ipshuffle.IPShuffle'>, <class 'mtdnetwork.mtd.osdiversity.OSDiversity'>, <class 'mtdnetwork.mtd.servicediversity.ServiceDiversity'>]\n",
      "Action size(include zero which is no deployment) 5\n"
     ]
    },
    {
     "name": "stderr",
     "output_type": "stream",
     "text": [
      "Compiled the loaded model, but the compiled metrics have yet to be built. `model.compile_metrics` will be empty until you train or evaluate the model.\n"
     ]
    },
    {
     "name": "stdout",
     "output_type": "stream",
     "text": [
      "mtd_ai\n",
      "Trial_ 371\n",
      "all_features\n",
      "On Mac\n",
      "Static_factor 2000\n",
      "MTD Scheme [<class 'mtdnetwork.mtd.completetopologyshuffle.CompleteTopologyShuffle'>, <class 'mtdnetwork.mtd.ipshuffle.IPShuffle'>, <class 'mtdnetwork.mtd.osdiversity.OSDiversity'>, <class 'mtdnetwork.mtd.servicediversity.ServiceDiversity'>]\n",
      "Action size(include zero which is no deployment) 5\n"
     ]
    },
    {
     "name": "stderr",
     "output_type": "stream",
     "text": [
      "Compiled the loaded model, but the compiled metrics have yet to be built. `model.compile_metrics` will be empty until you train or evaluate the model.\n"
     ]
    },
    {
     "name": "stdout",
     "output_type": "stream",
     "text": [
      "mtd_ai\n",
      "Trial_ 372\n",
      "all_features\n",
      "On Mac\n",
      "Static_factor 2000\n",
      "MTD Scheme [<class 'mtdnetwork.mtd.completetopologyshuffle.CompleteTopologyShuffle'>, <class 'mtdnetwork.mtd.ipshuffle.IPShuffle'>, <class 'mtdnetwork.mtd.osdiversity.OSDiversity'>, <class 'mtdnetwork.mtd.servicediversity.ServiceDiversity'>]\n",
      "Action size(include zero which is no deployment) 5\n"
     ]
    },
    {
     "name": "stderr",
     "output_type": "stream",
     "text": [
      "Compiled the loaded model, but the compiled metrics have yet to be built. `model.compile_metrics` will be empty until you train or evaluate the model.\n"
     ]
    },
    {
     "name": "stdout",
     "output_type": "stream",
     "text": [
      "mtd_ai\n",
      "Trial_ 373\n",
      "all_features\n",
      "On Mac\n",
      "Static_factor 2000\n",
      "MTD Scheme [<class 'mtdnetwork.mtd.completetopologyshuffle.CompleteTopologyShuffle'>, <class 'mtdnetwork.mtd.ipshuffle.IPShuffle'>, <class 'mtdnetwork.mtd.osdiversity.OSDiversity'>, <class 'mtdnetwork.mtd.servicediversity.ServiceDiversity'>]\n",
      "Action size(include zero which is no deployment) 5\n"
     ]
    },
    {
     "name": "stderr",
     "output_type": "stream",
     "text": [
      "Compiled the loaded model, but the compiled metrics have yet to be built. `model.compile_metrics` will be empty until you train or evaluate the model.\n"
     ]
    },
    {
     "name": "stdout",
     "output_type": "stream",
     "text": [
      "mtd_ai\n",
      "Trial_ 374\n",
      "all_features\n",
      "On Mac\n",
      "Static_factor 2000\n",
      "MTD Scheme [<class 'mtdnetwork.mtd.completetopologyshuffle.CompleteTopologyShuffle'>, <class 'mtdnetwork.mtd.ipshuffle.IPShuffle'>, <class 'mtdnetwork.mtd.osdiversity.OSDiversity'>, <class 'mtdnetwork.mtd.servicediversity.ServiceDiversity'>]\n",
      "Action size(include zero which is no deployment) 5\n"
     ]
    },
    {
     "name": "stderr",
     "output_type": "stream",
     "text": [
      "Compiled the loaded model, but the compiled metrics have yet to be built. `model.compile_metrics` will be empty until you train or evaluate the model.\n"
     ]
    },
    {
     "name": "stdout",
     "output_type": "stream",
     "text": [
      "mtd_ai\n",
      "Trial_ 375\n",
      "all_features\n",
      "On Mac\n",
      "Static_factor 2000\n",
      "MTD Scheme [<class 'mtdnetwork.mtd.completetopologyshuffle.CompleteTopologyShuffle'>, <class 'mtdnetwork.mtd.ipshuffle.IPShuffle'>, <class 'mtdnetwork.mtd.osdiversity.OSDiversity'>, <class 'mtdnetwork.mtd.servicediversity.ServiceDiversity'>]\n",
      "Action size(include zero which is no deployment) 5\n"
     ]
    },
    {
     "name": "stderr",
     "output_type": "stream",
     "text": [
      "Compiled the loaded model, but the compiled metrics have yet to be built. `model.compile_metrics` will be empty until you train or evaluate the model.\n"
     ]
    },
    {
     "name": "stdout",
     "output_type": "stream",
     "text": [
      "mtd_ai\n",
      "Trial_ 376\n",
      "all_features\n",
      "On Mac\n",
      "Static_factor 2000\n",
      "MTD Scheme [<class 'mtdnetwork.mtd.completetopologyshuffle.CompleteTopologyShuffle'>, <class 'mtdnetwork.mtd.ipshuffle.IPShuffle'>, <class 'mtdnetwork.mtd.osdiversity.OSDiversity'>, <class 'mtdnetwork.mtd.servicediversity.ServiceDiversity'>]\n",
      "Action size(include zero which is no deployment) 5\n"
     ]
    },
    {
     "name": "stderr",
     "output_type": "stream",
     "text": [
      "Compiled the loaded model, but the compiled metrics have yet to be built. `model.compile_metrics` will be empty until you train or evaluate the model.\n"
     ]
    },
    {
     "name": "stdout",
     "output_type": "stream",
     "text": [
      "mtd_ai\n",
      "Trial_ 377\n",
      "all_features\n",
      "On Mac\n",
      "Static_factor 2000\n",
      "MTD Scheme [<class 'mtdnetwork.mtd.completetopologyshuffle.CompleteTopologyShuffle'>, <class 'mtdnetwork.mtd.ipshuffle.IPShuffle'>, <class 'mtdnetwork.mtd.osdiversity.OSDiversity'>, <class 'mtdnetwork.mtd.servicediversity.ServiceDiversity'>]\n",
      "Action size(include zero which is no deployment) 5\n"
     ]
    },
    {
     "name": "stderr",
     "output_type": "stream",
     "text": [
      "Compiled the loaded model, but the compiled metrics have yet to be built. `model.compile_metrics` will be empty until you train or evaluate the model.\n"
     ]
    },
    {
     "name": "stdout",
     "output_type": "stream",
     "text": [
      "mtd_ai\n",
      "Trial_ 378\n",
      "all_features\n",
      "On Mac\n",
      "Static_factor 2000\n",
      "MTD Scheme [<class 'mtdnetwork.mtd.completetopologyshuffle.CompleteTopologyShuffle'>, <class 'mtdnetwork.mtd.ipshuffle.IPShuffle'>, <class 'mtdnetwork.mtd.osdiversity.OSDiversity'>, <class 'mtdnetwork.mtd.servicediversity.ServiceDiversity'>]\n",
      "Action size(include zero which is no deployment) 5\n"
     ]
    },
    {
     "name": "stderr",
     "output_type": "stream",
     "text": [
      "Compiled the loaded model, but the compiled metrics have yet to be built. `model.compile_metrics` will be empty until you train or evaluate the model.\n"
     ]
    },
    {
     "name": "stdout",
     "output_type": "stream",
     "text": [
      "mtd_ai\n",
      "Trial_ 379\n",
      "all_features\n",
      "On Mac\n",
      "Static_factor 2000\n",
      "MTD Scheme [<class 'mtdnetwork.mtd.completetopologyshuffle.CompleteTopologyShuffle'>, <class 'mtdnetwork.mtd.ipshuffle.IPShuffle'>, <class 'mtdnetwork.mtd.osdiversity.OSDiversity'>, <class 'mtdnetwork.mtd.servicediversity.ServiceDiversity'>]\n",
      "Action size(include zero which is no deployment) 5\n"
     ]
    },
    {
     "name": "stderr",
     "output_type": "stream",
     "text": [
      "Compiled the loaded model, but the compiled metrics have yet to be built. `model.compile_metrics` will be empty until you train or evaluate the model.\n"
     ]
    },
    {
     "name": "stdout",
     "output_type": "stream",
     "text": [
      "mtd_ai\n",
      "Trial_ 380\n",
      "all_features\n",
      "On Mac\n",
      "Static_factor 2000\n",
      "MTD Scheme [<class 'mtdnetwork.mtd.completetopologyshuffle.CompleteTopologyShuffle'>, <class 'mtdnetwork.mtd.ipshuffle.IPShuffle'>, <class 'mtdnetwork.mtd.osdiversity.OSDiversity'>, <class 'mtdnetwork.mtd.servicediversity.ServiceDiversity'>]\n",
      "Action size(include zero which is no deployment) 5\n"
     ]
    },
    {
     "name": "stderr",
     "output_type": "stream",
     "text": [
      "Compiled the loaded model, but the compiled metrics have yet to be built. `model.compile_metrics` will be empty until you train or evaluate the model.\n"
     ]
    },
    {
     "name": "stdout",
     "output_type": "stream",
     "text": [
      "mtd_ai\n",
      "Trial_ 381\n",
      "all_features\n",
      "On Mac\n",
      "Static_factor 2000\n",
      "MTD Scheme [<class 'mtdnetwork.mtd.completetopologyshuffle.CompleteTopologyShuffle'>, <class 'mtdnetwork.mtd.ipshuffle.IPShuffle'>, <class 'mtdnetwork.mtd.osdiversity.OSDiversity'>, <class 'mtdnetwork.mtd.servicediversity.ServiceDiversity'>]\n",
      "Action size(include zero which is no deployment) 5\n"
     ]
    },
    {
     "name": "stderr",
     "output_type": "stream",
     "text": [
      "Compiled the loaded model, but the compiled metrics have yet to be built. `model.compile_metrics` will be empty until you train or evaluate the model.\n"
     ]
    },
    {
     "name": "stdout",
     "output_type": "stream",
     "text": [
      "mtd_ai\n",
      "Trial_ 382\n",
      "all_features\n",
      "On Mac\n",
      "Static_factor 2000\n",
      "MTD Scheme [<class 'mtdnetwork.mtd.completetopologyshuffle.CompleteTopologyShuffle'>, <class 'mtdnetwork.mtd.ipshuffle.IPShuffle'>, <class 'mtdnetwork.mtd.osdiversity.OSDiversity'>, <class 'mtdnetwork.mtd.servicediversity.ServiceDiversity'>]\n",
      "Action size(include zero which is no deployment) 5\n"
     ]
    },
    {
     "name": "stderr",
     "output_type": "stream",
     "text": [
      "Compiled the loaded model, but the compiled metrics have yet to be built. `model.compile_metrics` will be empty until you train or evaluate the model.\n"
     ]
    },
    {
     "name": "stdout",
     "output_type": "stream",
     "text": [
      "mtd_ai\n",
      "Trial_ 383\n",
      "all_features\n",
      "On Mac\n",
      "Static_factor 2000\n",
      "MTD Scheme [<class 'mtdnetwork.mtd.completetopologyshuffle.CompleteTopologyShuffle'>, <class 'mtdnetwork.mtd.ipshuffle.IPShuffle'>, <class 'mtdnetwork.mtd.osdiversity.OSDiversity'>, <class 'mtdnetwork.mtd.servicediversity.ServiceDiversity'>]\n",
      "Action size(include zero which is no deployment) 5\n"
     ]
    },
    {
     "name": "stderr",
     "output_type": "stream",
     "text": [
      "Compiled the loaded model, but the compiled metrics have yet to be built. `model.compile_metrics` will be empty until you train or evaluate the model.\n"
     ]
    },
    {
     "name": "stdout",
     "output_type": "stream",
     "text": [
      "mtd_ai\n",
      "Trial_ 384\n",
      "all_features\n",
      "On Mac\n",
      "Static_factor 2000\n",
      "MTD Scheme [<class 'mtdnetwork.mtd.completetopologyshuffle.CompleteTopologyShuffle'>, <class 'mtdnetwork.mtd.ipshuffle.IPShuffle'>, <class 'mtdnetwork.mtd.osdiversity.OSDiversity'>, <class 'mtdnetwork.mtd.servicediversity.ServiceDiversity'>]\n",
      "Action size(include zero which is no deployment) 5\n"
     ]
    },
    {
     "name": "stderr",
     "output_type": "stream",
     "text": [
      "Compiled the loaded model, but the compiled metrics have yet to be built. `model.compile_metrics` will be empty until you train or evaluate the model.\n"
     ]
    },
    {
     "name": "stdout",
     "output_type": "stream",
     "text": [
      "mtd_ai\n",
      "Trial_ 385\n",
      "all_features\n",
      "On Mac\n",
      "Static_factor 2000\n",
      "MTD Scheme [<class 'mtdnetwork.mtd.completetopologyshuffle.CompleteTopologyShuffle'>, <class 'mtdnetwork.mtd.ipshuffle.IPShuffle'>, <class 'mtdnetwork.mtd.osdiversity.OSDiversity'>, <class 'mtdnetwork.mtd.servicediversity.ServiceDiversity'>]\n",
      "Action size(include zero which is no deployment) 5\n"
     ]
    },
    {
     "name": "stderr",
     "output_type": "stream",
     "text": [
      "Compiled the loaded model, but the compiled metrics have yet to be built. `model.compile_metrics` will be empty until you train or evaluate the model.\n"
     ]
    },
    {
     "name": "stdout",
     "output_type": "stream",
     "text": [
      "mtd_ai\n",
      "Trial_ 386\n",
      "all_features\n",
      "On Mac\n",
      "Static_factor 2000\n",
      "MTD Scheme [<class 'mtdnetwork.mtd.completetopologyshuffle.CompleteTopologyShuffle'>, <class 'mtdnetwork.mtd.ipshuffle.IPShuffle'>, <class 'mtdnetwork.mtd.osdiversity.OSDiversity'>, <class 'mtdnetwork.mtd.servicediversity.ServiceDiversity'>]\n",
      "Action size(include zero which is no deployment) 5\n"
     ]
    },
    {
     "name": "stderr",
     "output_type": "stream",
     "text": [
      "Compiled the loaded model, but the compiled metrics have yet to be built. `model.compile_metrics` will be empty until you train or evaluate the model.\n"
     ]
    },
    {
     "name": "stdout",
     "output_type": "stream",
     "text": [
      "mtd_ai\n",
      "Trial_ 387\n",
      "all_features\n",
      "On Mac\n",
      "Static_factor 2000\n",
      "MTD Scheme [<class 'mtdnetwork.mtd.completetopologyshuffle.CompleteTopologyShuffle'>, <class 'mtdnetwork.mtd.ipshuffle.IPShuffle'>, <class 'mtdnetwork.mtd.osdiversity.OSDiversity'>, <class 'mtdnetwork.mtd.servicediversity.ServiceDiversity'>]\n",
      "Action size(include zero which is no deployment) 5\n"
     ]
    },
    {
     "name": "stderr",
     "output_type": "stream",
     "text": [
      "Compiled the loaded model, but the compiled metrics have yet to be built. `model.compile_metrics` will be empty until you train or evaluate the model.\n"
     ]
    },
    {
     "name": "stdout",
     "output_type": "stream",
     "text": [
      "mtd_ai\n",
      "Trial_ 388\n",
      "all_features\n",
      "On Mac\n",
      "Static_factor 2000\n",
      "MTD Scheme [<class 'mtdnetwork.mtd.completetopologyshuffle.CompleteTopologyShuffle'>, <class 'mtdnetwork.mtd.ipshuffle.IPShuffle'>, <class 'mtdnetwork.mtd.osdiversity.OSDiversity'>, <class 'mtdnetwork.mtd.servicediversity.ServiceDiversity'>]\n",
      "Action size(include zero which is no deployment) 5\n"
     ]
    },
    {
     "name": "stderr",
     "output_type": "stream",
     "text": [
      "Compiled the loaded model, but the compiled metrics have yet to be built. `model.compile_metrics` will be empty until you train or evaluate the model.\n"
     ]
    },
    {
     "name": "stdout",
     "output_type": "stream",
     "text": [
      "mtd_ai\n",
      "Trial_ 389\n",
      "all_features\n",
      "On Mac\n",
      "Static_factor 2000\n",
      "MTD Scheme [<class 'mtdnetwork.mtd.completetopologyshuffle.CompleteTopologyShuffle'>, <class 'mtdnetwork.mtd.ipshuffle.IPShuffle'>, <class 'mtdnetwork.mtd.osdiversity.OSDiversity'>, <class 'mtdnetwork.mtd.servicediversity.ServiceDiversity'>]\n",
      "Action size(include zero which is no deployment) 5\n"
     ]
    },
    {
     "name": "stderr",
     "output_type": "stream",
     "text": [
      "Compiled the loaded model, but the compiled metrics have yet to be built. `model.compile_metrics` will be empty until you train or evaluate the model.\n"
     ]
    },
    {
     "name": "stdout",
     "output_type": "stream",
     "text": [
      "mtd_ai\n",
      "Trial_ 390\n",
      "all_features\n",
      "On Mac\n",
      "Static_factor 2000\n",
      "MTD Scheme [<class 'mtdnetwork.mtd.completetopologyshuffle.CompleteTopologyShuffle'>, <class 'mtdnetwork.mtd.ipshuffle.IPShuffle'>, <class 'mtdnetwork.mtd.osdiversity.OSDiversity'>, <class 'mtdnetwork.mtd.servicediversity.ServiceDiversity'>]\n",
      "Action size(include zero which is no deployment) 5\n"
     ]
    },
    {
     "name": "stderr",
     "output_type": "stream",
     "text": [
      "Compiled the loaded model, but the compiled metrics have yet to be built. `model.compile_metrics` will be empty until you train or evaluate the model.\n"
     ]
    },
    {
     "name": "stdout",
     "output_type": "stream",
     "text": [
      "mtd_ai\n",
      "Trial_ 391\n",
      "all_features\n",
      "On Mac\n",
      "Static_factor 2000\n",
      "MTD Scheme [<class 'mtdnetwork.mtd.completetopologyshuffle.CompleteTopologyShuffle'>, <class 'mtdnetwork.mtd.ipshuffle.IPShuffle'>, <class 'mtdnetwork.mtd.osdiversity.OSDiversity'>, <class 'mtdnetwork.mtd.servicediversity.ServiceDiversity'>]\n",
      "Action size(include zero which is no deployment) 5\n"
     ]
    },
    {
     "name": "stderr",
     "output_type": "stream",
     "text": [
      "Compiled the loaded model, but the compiled metrics have yet to be built. `model.compile_metrics` will be empty until you train or evaluate the model.\n"
     ]
    },
    {
     "name": "stdout",
     "output_type": "stream",
     "text": [
      "mtd_ai\n",
      "Trial_ 392\n",
      "all_features\n",
      "On Mac\n",
      "Static_factor 2000\n",
      "MTD Scheme [<class 'mtdnetwork.mtd.completetopologyshuffle.CompleteTopologyShuffle'>, <class 'mtdnetwork.mtd.ipshuffle.IPShuffle'>, <class 'mtdnetwork.mtd.osdiversity.OSDiversity'>, <class 'mtdnetwork.mtd.servicediversity.ServiceDiversity'>]\n",
      "Action size(include zero which is no deployment) 5\n"
     ]
    },
    {
     "name": "stderr",
     "output_type": "stream",
     "text": [
      "Compiled the loaded model, but the compiled metrics have yet to be built. `model.compile_metrics` will be empty until you train or evaluate the model.\n"
     ]
    },
    {
     "name": "stdout",
     "output_type": "stream",
     "text": [
      "mtd_ai\n",
      "Trial_ 393\n",
      "all_features\n",
      "On Mac\n",
      "Static_factor 2000\n",
      "MTD Scheme [<class 'mtdnetwork.mtd.completetopologyshuffle.CompleteTopologyShuffle'>, <class 'mtdnetwork.mtd.ipshuffle.IPShuffle'>, <class 'mtdnetwork.mtd.osdiversity.OSDiversity'>, <class 'mtdnetwork.mtd.servicediversity.ServiceDiversity'>]\n",
      "Action size(include zero which is no deployment) 5\n"
     ]
    },
    {
     "name": "stderr",
     "output_type": "stream",
     "text": [
      "Compiled the loaded model, but the compiled metrics have yet to be built. `model.compile_metrics` will be empty until you train or evaluate the model.\n"
     ]
    },
    {
     "name": "stdout",
     "output_type": "stream",
     "text": [
      "mtd_ai\n",
      "Trial_ 394\n",
      "all_features\n",
      "On Mac\n",
      "Static_factor 2000\n",
      "MTD Scheme [<class 'mtdnetwork.mtd.completetopologyshuffle.CompleteTopologyShuffle'>, <class 'mtdnetwork.mtd.ipshuffle.IPShuffle'>, <class 'mtdnetwork.mtd.osdiversity.OSDiversity'>, <class 'mtdnetwork.mtd.servicediversity.ServiceDiversity'>]\n",
      "Action size(include zero which is no deployment) 5\n"
     ]
    },
    {
     "name": "stderr",
     "output_type": "stream",
     "text": [
      "Compiled the loaded model, but the compiled metrics have yet to be built. `model.compile_metrics` will be empty until you train or evaluate the model.\n"
     ]
    },
    {
     "name": "stdout",
     "output_type": "stream",
     "text": [
      "mtd_ai\n",
      "Trial_ 395\n",
      "all_features\n",
      "On Mac\n",
      "Static_factor 2000\n",
      "MTD Scheme [<class 'mtdnetwork.mtd.completetopologyshuffle.CompleteTopologyShuffle'>, <class 'mtdnetwork.mtd.ipshuffle.IPShuffle'>, <class 'mtdnetwork.mtd.osdiversity.OSDiversity'>, <class 'mtdnetwork.mtd.servicediversity.ServiceDiversity'>]\n",
      "Action size(include zero which is no deployment) 5\n"
     ]
    },
    {
     "name": "stderr",
     "output_type": "stream",
     "text": [
      "Compiled the loaded model, but the compiled metrics have yet to be built. `model.compile_metrics` will be empty until you train or evaluate the model.\n"
     ]
    },
    {
     "name": "stdout",
     "output_type": "stream",
     "text": [
      "mtd_ai\n",
      "Trial_ 396\n",
      "all_features\n",
      "On Mac\n",
      "Static_factor 2000\n",
      "MTD Scheme [<class 'mtdnetwork.mtd.completetopologyshuffle.CompleteTopologyShuffle'>, <class 'mtdnetwork.mtd.ipshuffle.IPShuffle'>, <class 'mtdnetwork.mtd.osdiversity.OSDiversity'>, <class 'mtdnetwork.mtd.servicediversity.ServiceDiversity'>]\n",
      "Action size(include zero which is no deployment) 5\n"
     ]
    },
    {
     "name": "stderr",
     "output_type": "stream",
     "text": [
      "Compiled the loaded model, but the compiled metrics have yet to be built. `model.compile_metrics` will be empty until you train or evaluate the model.\n"
     ]
    },
    {
     "name": "stdout",
     "output_type": "stream",
     "text": [
      "mtd_ai\n",
      "Trial_ 397\n",
      "all_features\n",
      "On Mac\n",
      "Static_factor 2000\n",
      "MTD Scheme [<class 'mtdnetwork.mtd.completetopologyshuffle.CompleteTopologyShuffle'>, <class 'mtdnetwork.mtd.ipshuffle.IPShuffle'>, <class 'mtdnetwork.mtd.osdiversity.OSDiversity'>, <class 'mtdnetwork.mtd.servicediversity.ServiceDiversity'>]\n",
      "Action size(include zero which is no deployment) 5\n"
     ]
    },
    {
     "name": "stderr",
     "output_type": "stream",
     "text": [
      "Compiled the loaded model, but the compiled metrics have yet to be built. `model.compile_metrics` will be empty until you train or evaluate the model.\n"
     ]
    },
    {
     "name": "stdout",
     "output_type": "stream",
     "text": [
      "mtd_ai\n",
      "Trial_ 398\n",
      "all_features\n",
      "On Mac\n",
      "Static_factor 2000\n",
      "MTD Scheme [<class 'mtdnetwork.mtd.completetopologyshuffle.CompleteTopologyShuffle'>, <class 'mtdnetwork.mtd.ipshuffle.IPShuffle'>, <class 'mtdnetwork.mtd.osdiversity.OSDiversity'>, <class 'mtdnetwork.mtd.servicediversity.ServiceDiversity'>]\n",
      "Action size(include zero which is no deployment) 5\n"
     ]
    },
    {
     "name": "stderr",
     "output_type": "stream",
     "text": [
      "Compiled the loaded model, but the compiled metrics have yet to be built. `model.compile_metrics` will be empty until you train or evaluate the model.\n"
     ]
    },
    {
     "name": "stdout",
     "output_type": "stream",
     "text": [
      "mtd_ai\n",
      "Trial_ 399\n",
      "all_features\n",
      "On Mac\n",
      "Static_factor 2000\n",
      "MTD Scheme [<class 'mtdnetwork.mtd.completetopologyshuffle.CompleteTopologyShuffle'>, <class 'mtdnetwork.mtd.ipshuffle.IPShuffle'>, <class 'mtdnetwork.mtd.osdiversity.OSDiversity'>, <class 'mtdnetwork.mtd.servicediversity.ServiceDiversity'>]\n",
      "Action size(include zero which is no deployment) 5\n"
     ]
    },
    {
     "name": "stderr",
     "output_type": "stream",
     "text": [
      "Compiled the loaded model, but the compiled metrics have yet to be built. `model.compile_metrics` will be empty until you train or evaluate the model.\n"
     ]
    },
    {
     "name": "stdout",
     "output_type": "stream",
     "text": [
      "mtd_ai\n",
      "Trial_ 400\n",
      "all_features\n",
      "On Mac\n",
      "Static_factor 2000\n",
      "MTD Scheme [<class 'mtdnetwork.mtd.completetopologyshuffle.CompleteTopologyShuffle'>, <class 'mtdnetwork.mtd.ipshuffle.IPShuffle'>, <class 'mtdnetwork.mtd.osdiversity.OSDiversity'>, <class 'mtdnetwork.mtd.servicediversity.ServiceDiversity'>]\n",
      "Action size(include zero which is no deployment) 5\n"
     ]
    },
    {
     "name": "stderr",
     "output_type": "stream",
     "text": [
      "Compiled the loaded model, but the compiled metrics have yet to be built. `model.compile_metrics` will be empty until you train or evaluate the model.\n"
     ]
    },
    {
     "name": "stdout",
     "output_type": "stream",
     "text": [
      "mtd_ai\n",
      "Trial_ 401\n",
      "all_features\n",
      "On Mac\n",
      "Static_factor 2000\n",
      "MTD Scheme [<class 'mtdnetwork.mtd.completetopologyshuffle.CompleteTopologyShuffle'>, <class 'mtdnetwork.mtd.ipshuffle.IPShuffle'>, <class 'mtdnetwork.mtd.osdiversity.OSDiversity'>, <class 'mtdnetwork.mtd.servicediversity.ServiceDiversity'>]\n",
      "Action size(include zero which is no deployment) 5\n"
     ]
    },
    {
     "name": "stderr",
     "output_type": "stream",
     "text": [
      "Compiled the loaded model, but the compiled metrics have yet to be built. `model.compile_metrics` will be empty until you train or evaluate the model.\n"
     ]
    },
    {
     "name": "stdout",
     "output_type": "stream",
     "text": [
      "mtd_ai\n",
      "Trial_ 402\n",
      "all_features\n",
      "On Mac\n",
      "Static_factor 2000\n",
      "MTD Scheme [<class 'mtdnetwork.mtd.completetopologyshuffle.CompleteTopologyShuffle'>, <class 'mtdnetwork.mtd.ipshuffle.IPShuffle'>, <class 'mtdnetwork.mtd.osdiversity.OSDiversity'>, <class 'mtdnetwork.mtd.servicediversity.ServiceDiversity'>]\n",
      "Action size(include zero which is no deployment) 5\n"
     ]
    },
    {
     "name": "stderr",
     "output_type": "stream",
     "text": [
      "Compiled the loaded model, but the compiled metrics have yet to be built. `model.compile_metrics` will be empty until you train or evaluate the model.\n"
     ]
    },
    {
     "name": "stdout",
     "output_type": "stream",
     "text": [
      "mtd_ai\n",
      "Trial_ 403\n",
      "all_features\n",
      "On Mac\n",
      "Static_factor 2000\n",
      "MTD Scheme [<class 'mtdnetwork.mtd.completetopologyshuffle.CompleteTopologyShuffle'>, <class 'mtdnetwork.mtd.ipshuffle.IPShuffle'>, <class 'mtdnetwork.mtd.osdiversity.OSDiversity'>, <class 'mtdnetwork.mtd.servicediversity.ServiceDiversity'>]\n",
      "Action size(include zero which is no deployment) 5\n"
     ]
    },
    {
     "name": "stderr",
     "output_type": "stream",
     "text": [
      "Compiled the loaded model, but the compiled metrics have yet to be built. `model.compile_metrics` will be empty until you train or evaluate the model.\n"
     ]
    },
    {
     "name": "stdout",
     "output_type": "stream",
     "text": [
      "mtd_ai\n",
      "Trial_ 404\n",
      "all_features\n",
      "On Mac\n",
      "Static_factor 2000\n",
      "MTD Scheme [<class 'mtdnetwork.mtd.completetopologyshuffle.CompleteTopologyShuffle'>, <class 'mtdnetwork.mtd.ipshuffle.IPShuffle'>, <class 'mtdnetwork.mtd.osdiversity.OSDiversity'>, <class 'mtdnetwork.mtd.servicediversity.ServiceDiversity'>]\n",
      "Action size(include zero which is no deployment) 5\n"
     ]
    },
    {
     "name": "stderr",
     "output_type": "stream",
     "text": [
      "Compiled the loaded model, but the compiled metrics have yet to be built. `model.compile_metrics` will be empty until you train or evaluate the model.\n"
     ]
    },
    {
     "name": "stdout",
     "output_type": "stream",
     "text": [
      "mtd_ai\n",
      "Trial_ 405\n",
      "all_features\n",
      "On Mac\n",
      "Static_factor 2000\n",
      "MTD Scheme [<class 'mtdnetwork.mtd.completetopologyshuffle.CompleteTopologyShuffle'>, <class 'mtdnetwork.mtd.ipshuffle.IPShuffle'>, <class 'mtdnetwork.mtd.osdiversity.OSDiversity'>, <class 'mtdnetwork.mtd.servicediversity.ServiceDiversity'>]\n",
      "Action size(include zero which is no deployment) 5\n"
     ]
    },
    {
     "name": "stderr",
     "output_type": "stream",
     "text": [
      "Compiled the loaded model, but the compiled metrics have yet to be built. `model.compile_metrics` will be empty until you train or evaluate the model.\n"
     ]
    },
    {
     "name": "stdout",
     "output_type": "stream",
     "text": [
      "mtd_ai\n",
      "Trial_ 406\n",
      "all_features\n",
      "On Mac\n",
      "Static_factor 2000\n",
      "MTD Scheme [<class 'mtdnetwork.mtd.completetopologyshuffle.CompleteTopologyShuffle'>, <class 'mtdnetwork.mtd.ipshuffle.IPShuffle'>, <class 'mtdnetwork.mtd.osdiversity.OSDiversity'>, <class 'mtdnetwork.mtd.servicediversity.ServiceDiversity'>]\n",
      "Action size(include zero which is no deployment) 5\n"
     ]
    },
    {
     "name": "stderr",
     "output_type": "stream",
     "text": [
      "Compiled the loaded model, but the compiled metrics have yet to be built. `model.compile_metrics` will be empty until you train or evaluate the model.\n"
     ]
    },
    {
     "name": "stdout",
     "output_type": "stream",
     "text": [
      "mtd_ai\n",
      "Trial_ 407\n",
      "all_features\n",
      "On Mac\n",
      "Static_factor 2000\n",
      "MTD Scheme [<class 'mtdnetwork.mtd.completetopologyshuffle.CompleteTopologyShuffle'>, <class 'mtdnetwork.mtd.ipshuffle.IPShuffle'>, <class 'mtdnetwork.mtd.osdiversity.OSDiversity'>, <class 'mtdnetwork.mtd.servicediversity.ServiceDiversity'>]\n",
      "Action size(include zero which is no deployment) 5\n"
     ]
    },
    {
     "name": "stderr",
     "output_type": "stream",
     "text": [
      "Compiled the loaded model, but the compiled metrics have yet to be built. `model.compile_metrics` will be empty until you train or evaluate the model.\n"
     ]
    },
    {
     "name": "stdout",
     "output_type": "stream",
     "text": [
      "mtd_ai\n",
      "Trial_ 408\n",
      "all_features\n",
      "On Mac\n",
      "Static_factor 2000\n",
      "MTD Scheme [<class 'mtdnetwork.mtd.completetopologyshuffle.CompleteTopologyShuffle'>, <class 'mtdnetwork.mtd.ipshuffle.IPShuffle'>, <class 'mtdnetwork.mtd.osdiversity.OSDiversity'>, <class 'mtdnetwork.mtd.servicediversity.ServiceDiversity'>]\n",
      "Action size(include zero which is no deployment) 5\n"
     ]
    },
    {
     "name": "stderr",
     "output_type": "stream",
     "text": [
      "Compiled the loaded model, but the compiled metrics have yet to be built. `model.compile_metrics` will be empty until you train or evaluate the model.\n"
     ]
    },
    {
     "name": "stdout",
     "output_type": "stream",
     "text": [
      "mtd_ai\n",
      "Trial_ 409\n",
      "all_features\n",
      "On Mac\n",
      "Static_factor 2000\n",
      "MTD Scheme [<class 'mtdnetwork.mtd.completetopologyshuffle.CompleteTopologyShuffle'>, <class 'mtdnetwork.mtd.ipshuffle.IPShuffle'>, <class 'mtdnetwork.mtd.osdiversity.OSDiversity'>, <class 'mtdnetwork.mtd.servicediversity.ServiceDiversity'>]\n",
      "Action size(include zero which is no deployment) 5\n"
     ]
    },
    {
     "name": "stderr",
     "output_type": "stream",
     "text": [
      "Compiled the loaded model, but the compiled metrics have yet to be built. `model.compile_metrics` will be empty until you train or evaluate the model.\n"
     ]
    },
    {
     "name": "stdout",
     "output_type": "stream",
     "text": [
      "mtd_ai\n",
      "Trial_ 410\n",
      "all_features\n",
      "On Mac\n",
      "Static_factor 2000\n",
      "MTD Scheme [<class 'mtdnetwork.mtd.completetopologyshuffle.CompleteTopologyShuffle'>, <class 'mtdnetwork.mtd.ipshuffle.IPShuffle'>, <class 'mtdnetwork.mtd.osdiversity.OSDiversity'>, <class 'mtdnetwork.mtd.servicediversity.ServiceDiversity'>]\n",
      "Action size(include zero which is no deployment) 5\n"
     ]
    },
    {
     "name": "stderr",
     "output_type": "stream",
     "text": [
      "Compiled the loaded model, but the compiled metrics have yet to be built. `model.compile_metrics` will be empty until you train or evaluate the model.\n"
     ]
    },
    {
     "name": "stdout",
     "output_type": "stream",
     "text": [
      "mtd_ai\n",
      "Trial_ 411\n",
      "all_features\n",
      "On Mac\n",
      "Static_factor 2000\n",
      "MTD Scheme [<class 'mtdnetwork.mtd.completetopologyshuffle.CompleteTopologyShuffle'>, <class 'mtdnetwork.mtd.ipshuffle.IPShuffle'>, <class 'mtdnetwork.mtd.osdiversity.OSDiversity'>, <class 'mtdnetwork.mtd.servicediversity.ServiceDiversity'>]\n",
      "Action size(include zero which is no deployment) 5\n"
     ]
    },
    {
     "name": "stderr",
     "output_type": "stream",
     "text": [
      "Compiled the loaded model, but the compiled metrics have yet to be built. `model.compile_metrics` will be empty until you train or evaluate the model.\n"
     ]
    },
    {
     "name": "stdout",
     "output_type": "stream",
     "text": [
      "mtd_ai\n",
      "Trial_ 412\n",
      "all_features\n",
      "On Mac\n",
      "Static_factor 2000\n",
      "MTD Scheme [<class 'mtdnetwork.mtd.completetopologyshuffle.CompleteTopologyShuffle'>, <class 'mtdnetwork.mtd.ipshuffle.IPShuffle'>, <class 'mtdnetwork.mtd.osdiversity.OSDiversity'>, <class 'mtdnetwork.mtd.servicediversity.ServiceDiversity'>]\n",
      "Action size(include zero which is no deployment) 5\n"
     ]
    },
    {
     "name": "stderr",
     "output_type": "stream",
     "text": [
      "Compiled the loaded model, but the compiled metrics have yet to be built. `model.compile_metrics` will be empty until you train or evaluate the model.\n"
     ]
    },
    {
     "name": "stdout",
     "output_type": "stream",
     "text": [
      "mtd_ai\n",
      "Trial_ 413\n",
      "all_features\n",
      "On Mac\n",
      "Static_factor 2000\n",
      "MTD Scheme [<class 'mtdnetwork.mtd.completetopologyshuffle.CompleteTopologyShuffle'>, <class 'mtdnetwork.mtd.ipshuffle.IPShuffle'>, <class 'mtdnetwork.mtd.osdiversity.OSDiversity'>, <class 'mtdnetwork.mtd.servicediversity.ServiceDiversity'>]\n",
      "Action size(include zero which is no deployment) 5\n"
     ]
    },
    {
     "name": "stderr",
     "output_type": "stream",
     "text": [
      "Compiled the loaded model, but the compiled metrics have yet to be built. `model.compile_metrics` will be empty until you train or evaluate the model.\n"
     ]
    },
    {
     "name": "stdout",
     "output_type": "stream",
     "text": [
      "mtd_ai\n",
      "Trial_ 414\n",
      "all_features\n",
      "On Mac\n",
      "Static_factor 2000\n",
      "MTD Scheme [<class 'mtdnetwork.mtd.completetopologyshuffle.CompleteTopologyShuffle'>, <class 'mtdnetwork.mtd.ipshuffle.IPShuffle'>, <class 'mtdnetwork.mtd.osdiversity.OSDiversity'>, <class 'mtdnetwork.mtd.servicediversity.ServiceDiversity'>]\n",
      "Action size(include zero which is no deployment) 5\n"
     ]
    },
    {
     "name": "stderr",
     "output_type": "stream",
     "text": [
      "Compiled the loaded model, but the compiled metrics have yet to be built. `model.compile_metrics` will be empty until you train or evaluate the model.\n"
     ]
    },
    {
     "name": "stdout",
     "output_type": "stream",
     "text": [
      "mtd_ai\n",
      "Trial_ 415\n",
      "all_features\n",
      "On Mac\n",
      "Static_factor 2000\n",
      "MTD Scheme [<class 'mtdnetwork.mtd.completetopologyshuffle.CompleteTopologyShuffle'>, <class 'mtdnetwork.mtd.ipshuffle.IPShuffle'>, <class 'mtdnetwork.mtd.osdiversity.OSDiversity'>, <class 'mtdnetwork.mtd.servicediversity.ServiceDiversity'>]\n",
      "Action size(include zero which is no deployment) 5\n"
     ]
    },
    {
     "name": "stderr",
     "output_type": "stream",
     "text": [
      "Compiled the loaded model, but the compiled metrics have yet to be built. `model.compile_metrics` will be empty until you train or evaluate the model.\n"
     ]
    },
    {
     "name": "stdout",
     "output_type": "stream",
     "text": [
      "mtd_ai\n",
      "Trial_ 416\n",
      "all_features\n",
      "On Mac\n",
      "Static_factor 2000\n",
      "MTD Scheme [<class 'mtdnetwork.mtd.completetopologyshuffle.CompleteTopologyShuffle'>, <class 'mtdnetwork.mtd.ipshuffle.IPShuffle'>, <class 'mtdnetwork.mtd.osdiversity.OSDiversity'>, <class 'mtdnetwork.mtd.servicediversity.ServiceDiversity'>]\n",
      "Action size(include zero which is no deployment) 5\n"
     ]
    },
    {
     "name": "stderr",
     "output_type": "stream",
     "text": [
      "Compiled the loaded model, but the compiled metrics have yet to be built. `model.compile_metrics` will be empty until you train or evaluate the model.\n"
     ]
    },
    {
     "name": "stdout",
     "output_type": "stream",
     "text": [
      "mtd_ai\n",
      "Trial_ 417\n",
      "all_features\n",
      "On Mac\n",
      "Static_factor 2000\n",
      "MTD Scheme [<class 'mtdnetwork.mtd.completetopologyshuffle.CompleteTopologyShuffle'>, <class 'mtdnetwork.mtd.ipshuffle.IPShuffle'>, <class 'mtdnetwork.mtd.osdiversity.OSDiversity'>, <class 'mtdnetwork.mtd.servicediversity.ServiceDiversity'>]\n",
      "Action size(include zero which is no deployment) 5\n"
     ]
    },
    {
     "name": "stderr",
     "output_type": "stream",
     "text": [
      "Compiled the loaded model, but the compiled metrics have yet to be built. `model.compile_metrics` will be empty until you train or evaluate the model.\n"
     ]
    },
    {
     "name": "stdout",
     "output_type": "stream",
     "text": [
      "mtd_ai\n",
      "Trial_ 418\n",
      "all_features\n",
      "On Mac\n",
      "Static_factor 2000\n",
      "MTD Scheme [<class 'mtdnetwork.mtd.completetopologyshuffle.CompleteTopologyShuffle'>, <class 'mtdnetwork.mtd.ipshuffle.IPShuffle'>, <class 'mtdnetwork.mtd.osdiversity.OSDiversity'>, <class 'mtdnetwork.mtd.servicediversity.ServiceDiversity'>]\n",
      "Action size(include zero which is no deployment) 5\n"
     ]
    },
    {
     "name": "stderr",
     "output_type": "stream",
     "text": [
      "Compiled the loaded model, but the compiled metrics have yet to be built. `model.compile_metrics` will be empty until you train or evaluate the model.\n"
     ]
    },
    {
     "name": "stdout",
     "output_type": "stream",
     "text": [
      "mtd_ai\n",
      "Trial_ 419\n",
      "all_features\n",
      "On Mac\n",
      "Static_factor 2000\n",
      "MTD Scheme [<class 'mtdnetwork.mtd.completetopologyshuffle.CompleteTopologyShuffle'>, <class 'mtdnetwork.mtd.ipshuffle.IPShuffle'>, <class 'mtdnetwork.mtd.osdiversity.OSDiversity'>, <class 'mtdnetwork.mtd.servicediversity.ServiceDiversity'>]\n",
      "Action size(include zero which is no deployment) 5\n"
     ]
    },
    {
     "name": "stderr",
     "output_type": "stream",
     "text": [
      "Compiled the loaded model, but the compiled metrics have yet to be built. `model.compile_metrics` will be empty until you train or evaluate the model.\n"
     ]
    },
    {
     "name": "stdout",
     "output_type": "stream",
     "text": [
      "mtd_ai\n",
      "Trial_ 420\n",
      "all_features\n",
      "On Mac\n",
      "Static_factor 2000\n",
      "MTD Scheme [<class 'mtdnetwork.mtd.completetopologyshuffle.CompleteTopologyShuffle'>, <class 'mtdnetwork.mtd.ipshuffle.IPShuffle'>, <class 'mtdnetwork.mtd.osdiversity.OSDiversity'>, <class 'mtdnetwork.mtd.servicediversity.ServiceDiversity'>]\n",
      "Action size(include zero which is no deployment) 5\n"
     ]
    },
    {
     "name": "stderr",
     "output_type": "stream",
     "text": [
      "Compiled the loaded model, but the compiled metrics have yet to be built. `model.compile_metrics` will be empty until you train or evaluate the model.\n"
     ]
    },
    {
     "name": "stdout",
     "output_type": "stream",
     "text": [
      "mtd_ai\n",
      "Trial_ 421\n",
      "all_features\n",
      "On Mac\n",
      "Static_factor 2000\n",
      "MTD Scheme [<class 'mtdnetwork.mtd.completetopologyshuffle.CompleteTopologyShuffle'>, <class 'mtdnetwork.mtd.ipshuffle.IPShuffle'>, <class 'mtdnetwork.mtd.osdiversity.OSDiversity'>, <class 'mtdnetwork.mtd.servicediversity.ServiceDiversity'>]\n",
      "Action size(include zero which is no deployment) 5\n"
     ]
    },
    {
     "name": "stderr",
     "output_type": "stream",
     "text": [
      "Compiled the loaded model, but the compiled metrics have yet to be built. `model.compile_metrics` will be empty until you train or evaluate the model.\n"
     ]
    },
    {
     "name": "stdout",
     "output_type": "stream",
     "text": [
      "mtd_ai\n",
      "Trial_ 422\n",
      "all_features\n",
      "On Mac\n",
      "Static_factor 2000\n",
      "MTD Scheme [<class 'mtdnetwork.mtd.completetopologyshuffle.CompleteTopologyShuffle'>, <class 'mtdnetwork.mtd.ipshuffle.IPShuffle'>, <class 'mtdnetwork.mtd.osdiversity.OSDiversity'>, <class 'mtdnetwork.mtd.servicediversity.ServiceDiversity'>]\n",
      "Action size(include zero which is no deployment) 5\n"
     ]
    },
    {
     "name": "stderr",
     "output_type": "stream",
     "text": [
      "Compiled the loaded model, but the compiled metrics have yet to be built. `model.compile_metrics` will be empty until you train or evaluate the model.\n"
     ]
    },
    {
     "name": "stdout",
     "output_type": "stream",
     "text": [
      "mtd_ai\n",
      "Trial_ 423\n",
      "all_features\n",
      "On Mac\n",
      "Static_factor 2000\n",
      "MTD Scheme [<class 'mtdnetwork.mtd.completetopologyshuffle.CompleteTopologyShuffle'>, <class 'mtdnetwork.mtd.ipshuffle.IPShuffle'>, <class 'mtdnetwork.mtd.osdiversity.OSDiversity'>, <class 'mtdnetwork.mtd.servicediversity.ServiceDiversity'>]\n",
      "Action size(include zero which is no deployment) 5\n"
     ]
    },
    {
     "name": "stderr",
     "output_type": "stream",
     "text": [
      "Compiled the loaded model, but the compiled metrics have yet to be built. `model.compile_metrics` will be empty until you train or evaluate the model.\n"
     ]
    },
    {
     "name": "stdout",
     "output_type": "stream",
     "text": [
      "mtd_ai\n",
      "Trial_ 424\n",
      "all_features\n",
      "On Mac\n",
      "Static_factor 2000\n",
      "MTD Scheme [<class 'mtdnetwork.mtd.completetopologyshuffle.CompleteTopologyShuffle'>, <class 'mtdnetwork.mtd.ipshuffle.IPShuffle'>, <class 'mtdnetwork.mtd.osdiversity.OSDiversity'>, <class 'mtdnetwork.mtd.servicediversity.ServiceDiversity'>]\n",
      "Action size(include zero which is no deployment) 5\n"
     ]
    },
    {
     "name": "stderr",
     "output_type": "stream",
     "text": [
      "Compiled the loaded model, but the compiled metrics have yet to be built. `model.compile_metrics` will be empty until you train or evaluate the model.\n"
     ]
    },
    {
     "name": "stdout",
     "output_type": "stream",
     "text": [
      "mtd_ai\n",
      "Trial_ 425\n",
      "all_features\n",
      "On Mac\n",
      "Static_factor 2000\n",
      "MTD Scheme [<class 'mtdnetwork.mtd.completetopologyshuffle.CompleteTopologyShuffle'>, <class 'mtdnetwork.mtd.ipshuffle.IPShuffle'>, <class 'mtdnetwork.mtd.osdiversity.OSDiversity'>, <class 'mtdnetwork.mtd.servicediversity.ServiceDiversity'>]\n",
      "Action size(include zero which is no deployment) 5\n"
     ]
    },
    {
     "name": "stderr",
     "output_type": "stream",
     "text": [
      "Compiled the loaded model, but the compiled metrics have yet to be built. `model.compile_metrics` will be empty until you train or evaluate the model.\n"
     ]
    },
    {
     "name": "stdout",
     "output_type": "stream",
     "text": [
      "mtd_ai\n",
      "Trial_ 426\n",
      "all_features\n",
      "On Mac\n",
      "Static_factor 2000\n",
      "MTD Scheme [<class 'mtdnetwork.mtd.completetopologyshuffle.CompleteTopologyShuffle'>, <class 'mtdnetwork.mtd.ipshuffle.IPShuffle'>, <class 'mtdnetwork.mtd.osdiversity.OSDiversity'>, <class 'mtdnetwork.mtd.servicediversity.ServiceDiversity'>]\n",
      "Action size(include zero which is no deployment) 5\n"
     ]
    },
    {
     "name": "stderr",
     "output_type": "stream",
     "text": [
      "Compiled the loaded model, but the compiled metrics have yet to be built. `model.compile_metrics` will be empty until you train or evaluate the model.\n"
     ]
    },
    {
     "name": "stdout",
     "output_type": "stream",
     "text": [
      "mtd_ai\n",
      "Trial_ 427\n",
      "all_features\n",
      "On Mac\n",
      "Static_factor 2000\n",
      "MTD Scheme [<class 'mtdnetwork.mtd.completetopologyshuffle.CompleteTopologyShuffle'>, <class 'mtdnetwork.mtd.ipshuffle.IPShuffle'>, <class 'mtdnetwork.mtd.osdiversity.OSDiversity'>, <class 'mtdnetwork.mtd.servicediversity.ServiceDiversity'>]\n",
      "Action size(include zero which is no deployment) 5\n"
     ]
    },
    {
     "name": "stderr",
     "output_type": "stream",
     "text": [
      "Compiled the loaded model, but the compiled metrics have yet to be built. `model.compile_metrics` will be empty until you train or evaluate the model.\n"
     ]
    },
    {
     "name": "stdout",
     "output_type": "stream",
     "text": [
      "mtd_ai\n",
      "Trial_ 428\n",
      "all_features\n",
      "On Mac\n",
      "Static_factor 2000\n",
      "MTD Scheme [<class 'mtdnetwork.mtd.completetopologyshuffle.CompleteTopologyShuffle'>, <class 'mtdnetwork.mtd.ipshuffle.IPShuffle'>, <class 'mtdnetwork.mtd.osdiversity.OSDiversity'>, <class 'mtdnetwork.mtd.servicediversity.ServiceDiversity'>]\n",
      "Action size(include zero which is no deployment) 5\n"
     ]
    },
    {
     "name": "stderr",
     "output_type": "stream",
     "text": [
      "Compiled the loaded model, but the compiled metrics have yet to be built. `model.compile_metrics` will be empty until you train or evaluate the model.\n"
     ]
    },
    {
     "name": "stdout",
     "output_type": "stream",
     "text": [
      "mtd_ai\n",
      "Trial_ 429\n",
      "all_features\n",
      "On Mac\n",
      "Static_factor 2000\n",
      "MTD Scheme [<class 'mtdnetwork.mtd.completetopologyshuffle.CompleteTopologyShuffle'>, <class 'mtdnetwork.mtd.ipshuffle.IPShuffle'>, <class 'mtdnetwork.mtd.osdiversity.OSDiversity'>, <class 'mtdnetwork.mtd.servicediversity.ServiceDiversity'>]\n",
      "Action size(include zero which is no deployment) 5\n"
     ]
    },
    {
     "name": "stderr",
     "output_type": "stream",
     "text": [
      "Compiled the loaded model, but the compiled metrics have yet to be built. `model.compile_metrics` will be empty until you train or evaluate the model.\n"
     ]
    },
    {
     "name": "stdout",
     "output_type": "stream",
     "text": [
      "mtd_ai\n",
      "Trial_ 430\n",
      "all_features\n",
      "On Mac\n",
      "Static_factor 2000\n",
      "MTD Scheme [<class 'mtdnetwork.mtd.completetopologyshuffle.CompleteTopologyShuffle'>, <class 'mtdnetwork.mtd.ipshuffle.IPShuffle'>, <class 'mtdnetwork.mtd.osdiversity.OSDiversity'>, <class 'mtdnetwork.mtd.servicediversity.ServiceDiversity'>]\n",
      "Action size(include zero which is no deployment) 5\n"
     ]
    },
    {
     "name": "stderr",
     "output_type": "stream",
     "text": [
      "Compiled the loaded model, but the compiled metrics have yet to be built. `model.compile_metrics` will be empty until you train or evaluate the model.\n"
     ]
    },
    {
     "name": "stdout",
     "output_type": "stream",
     "text": [
      "mtd_ai\n",
      "Trial_ 431\n",
      "all_features\n",
      "On Mac\n",
      "Static_factor 2000\n",
      "MTD Scheme [<class 'mtdnetwork.mtd.completetopologyshuffle.CompleteTopologyShuffle'>, <class 'mtdnetwork.mtd.ipshuffle.IPShuffle'>, <class 'mtdnetwork.mtd.osdiversity.OSDiversity'>, <class 'mtdnetwork.mtd.servicediversity.ServiceDiversity'>]\n",
      "Action size(include zero which is no deployment) 5\n"
     ]
    },
    {
     "name": "stderr",
     "output_type": "stream",
     "text": [
      "Compiled the loaded model, but the compiled metrics have yet to be built. `model.compile_metrics` will be empty until you train or evaluate the model.\n"
     ]
    },
    {
     "name": "stdout",
     "output_type": "stream",
     "text": [
      "mtd_ai\n",
      "Trial_ 432\n",
      "all_features\n",
      "On Mac\n",
      "Static_factor 2000\n",
      "MTD Scheme [<class 'mtdnetwork.mtd.completetopologyshuffle.CompleteTopologyShuffle'>, <class 'mtdnetwork.mtd.ipshuffle.IPShuffle'>, <class 'mtdnetwork.mtd.osdiversity.OSDiversity'>, <class 'mtdnetwork.mtd.servicediversity.ServiceDiversity'>]\n",
      "Action size(include zero which is no deployment) 5\n"
     ]
    },
    {
     "name": "stderr",
     "output_type": "stream",
     "text": [
      "Compiled the loaded model, but the compiled metrics have yet to be built. `model.compile_metrics` will be empty until you train or evaluate the model.\n"
     ]
    },
    {
     "name": "stdout",
     "output_type": "stream",
     "text": [
      "mtd_ai\n",
      "Trial_ 433\n",
      "all_features\n",
      "On Mac\n",
      "Static_factor 2000\n",
      "MTD Scheme [<class 'mtdnetwork.mtd.completetopologyshuffle.CompleteTopologyShuffle'>, <class 'mtdnetwork.mtd.ipshuffle.IPShuffle'>, <class 'mtdnetwork.mtd.osdiversity.OSDiversity'>, <class 'mtdnetwork.mtd.servicediversity.ServiceDiversity'>]\n",
      "Action size(include zero which is no deployment) 5\n"
     ]
    },
    {
     "name": "stderr",
     "output_type": "stream",
     "text": [
      "Compiled the loaded model, but the compiled metrics have yet to be built. `model.compile_metrics` will be empty until you train or evaluate the model.\n"
     ]
    },
    {
     "name": "stdout",
     "output_type": "stream",
     "text": [
      "mtd_ai\n",
      "Trial_ 434\n",
      "all_features\n",
      "On Mac\n",
      "Static_factor 2000\n",
      "MTD Scheme [<class 'mtdnetwork.mtd.completetopologyshuffle.CompleteTopologyShuffle'>, <class 'mtdnetwork.mtd.ipshuffle.IPShuffle'>, <class 'mtdnetwork.mtd.osdiversity.OSDiversity'>, <class 'mtdnetwork.mtd.servicediversity.ServiceDiversity'>]\n",
      "Action size(include zero which is no deployment) 5\n"
     ]
    },
    {
     "name": "stderr",
     "output_type": "stream",
     "text": [
      "Compiled the loaded model, but the compiled metrics have yet to be built. `model.compile_metrics` will be empty until you train or evaluate the model.\n"
     ]
    },
    {
     "name": "stdout",
     "output_type": "stream",
     "text": [
      "mtd_ai\n",
      "Trial_ 435\n",
      "all_features\n",
      "On Mac\n",
      "Static_factor 2000\n",
      "MTD Scheme [<class 'mtdnetwork.mtd.completetopologyshuffle.CompleteTopologyShuffle'>, <class 'mtdnetwork.mtd.ipshuffle.IPShuffle'>, <class 'mtdnetwork.mtd.osdiversity.OSDiversity'>, <class 'mtdnetwork.mtd.servicediversity.ServiceDiversity'>]\n",
      "Action size(include zero which is no deployment) 5\n"
     ]
    },
    {
     "name": "stderr",
     "output_type": "stream",
     "text": [
      "Compiled the loaded model, but the compiled metrics have yet to be built. `model.compile_metrics` will be empty until you train or evaluate the model.\n"
     ]
    },
    {
     "name": "stdout",
     "output_type": "stream",
     "text": [
      "mtd_ai\n",
      "Trial_ 436\n",
      "all_features\n",
      "On Mac\n",
      "Static_factor 2000\n",
      "MTD Scheme [<class 'mtdnetwork.mtd.completetopologyshuffle.CompleteTopologyShuffle'>, <class 'mtdnetwork.mtd.ipshuffle.IPShuffle'>, <class 'mtdnetwork.mtd.osdiversity.OSDiversity'>, <class 'mtdnetwork.mtd.servicediversity.ServiceDiversity'>]\n",
      "Action size(include zero which is no deployment) 5\n"
     ]
    },
    {
     "name": "stderr",
     "output_type": "stream",
     "text": [
      "Compiled the loaded model, but the compiled metrics have yet to be built. `model.compile_metrics` will be empty until you train or evaluate the model.\n"
     ]
    },
    {
     "name": "stdout",
     "output_type": "stream",
     "text": [
      "mtd_ai\n",
      "Trial_ 437\n",
      "all_features\n",
      "On Mac\n",
      "Static_factor 2000\n",
      "MTD Scheme [<class 'mtdnetwork.mtd.completetopologyshuffle.CompleteTopologyShuffle'>, <class 'mtdnetwork.mtd.ipshuffle.IPShuffle'>, <class 'mtdnetwork.mtd.osdiversity.OSDiversity'>, <class 'mtdnetwork.mtd.servicediversity.ServiceDiversity'>]\n",
      "Action size(include zero which is no deployment) 5\n"
     ]
    },
    {
     "name": "stderr",
     "output_type": "stream",
     "text": [
      "Compiled the loaded model, but the compiled metrics have yet to be built. `model.compile_metrics` will be empty until you train or evaluate the model.\n"
     ]
    },
    {
     "name": "stdout",
     "output_type": "stream",
     "text": [
      "mtd_ai\n",
      "Trial_ 438\n",
      "all_features\n",
      "On Mac\n",
      "Static_factor 2000\n",
      "MTD Scheme [<class 'mtdnetwork.mtd.completetopologyshuffle.CompleteTopologyShuffle'>, <class 'mtdnetwork.mtd.ipshuffle.IPShuffle'>, <class 'mtdnetwork.mtd.osdiversity.OSDiversity'>, <class 'mtdnetwork.mtd.servicediversity.ServiceDiversity'>]\n",
      "Action size(include zero which is no deployment) 5\n"
     ]
    },
    {
     "name": "stderr",
     "output_type": "stream",
     "text": [
      "Compiled the loaded model, but the compiled metrics have yet to be built. `model.compile_metrics` will be empty until you train or evaluate the model.\n"
     ]
    },
    {
     "name": "stdout",
     "output_type": "stream",
     "text": [
      "mtd_ai\n",
      "Trial_ 439\n",
      "all_features\n",
      "On Mac\n",
      "Static_factor 2000\n",
      "MTD Scheme [<class 'mtdnetwork.mtd.completetopologyshuffle.CompleteTopologyShuffle'>, <class 'mtdnetwork.mtd.ipshuffle.IPShuffle'>, <class 'mtdnetwork.mtd.osdiversity.OSDiversity'>, <class 'mtdnetwork.mtd.servicediversity.ServiceDiversity'>]\n",
      "Action size(include zero which is no deployment) 5\n"
     ]
    },
    {
     "name": "stderr",
     "output_type": "stream",
     "text": [
      "Compiled the loaded model, but the compiled metrics have yet to be built. `model.compile_metrics` will be empty until you train or evaluate the model.\n"
     ]
    },
    {
     "name": "stdout",
     "output_type": "stream",
     "text": [
      "mtd_ai\n",
      "Trial_ 440\n",
      "all_features\n",
      "On Mac\n",
      "Static_factor 2000\n",
      "MTD Scheme [<class 'mtdnetwork.mtd.completetopologyshuffle.CompleteTopologyShuffle'>, <class 'mtdnetwork.mtd.ipshuffle.IPShuffle'>, <class 'mtdnetwork.mtd.osdiversity.OSDiversity'>, <class 'mtdnetwork.mtd.servicediversity.ServiceDiversity'>]\n",
      "Action size(include zero which is no deployment) 5\n"
     ]
    },
    {
     "name": "stderr",
     "output_type": "stream",
     "text": [
      "Compiled the loaded model, but the compiled metrics have yet to be built. `model.compile_metrics` will be empty until you train or evaluate the model.\n"
     ]
    },
    {
     "name": "stdout",
     "output_type": "stream",
     "text": [
      "mtd_ai\n",
      "Trial_ 441\n",
      "all_features\n",
      "On Mac\n",
      "Static_factor 2000\n",
      "MTD Scheme [<class 'mtdnetwork.mtd.completetopologyshuffle.CompleteTopologyShuffle'>, <class 'mtdnetwork.mtd.ipshuffle.IPShuffle'>, <class 'mtdnetwork.mtd.osdiversity.OSDiversity'>, <class 'mtdnetwork.mtd.servicediversity.ServiceDiversity'>]\n",
      "Action size(include zero which is no deployment) 5\n"
     ]
    },
    {
     "name": "stderr",
     "output_type": "stream",
     "text": [
      "Compiled the loaded model, but the compiled metrics have yet to be built. `model.compile_metrics` will be empty until you train or evaluate the model.\n"
     ]
    },
    {
     "name": "stdout",
     "output_type": "stream",
     "text": [
      "mtd_ai\n",
      "Trial_ 442\n",
      "all_features\n",
      "On Mac\n",
      "Static_factor 2000\n",
      "MTD Scheme [<class 'mtdnetwork.mtd.completetopologyshuffle.CompleteTopologyShuffle'>, <class 'mtdnetwork.mtd.ipshuffle.IPShuffle'>, <class 'mtdnetwork.mtd.osdiversity.OSDiversity'>, <class 'mtdnetwork.mtd.servicediversity.ServiceDiversity'>]\n",
      "Action size(include zero which is no deployment) 5\n"
     ]
    },
    {
     "name": "stderr",
     "output_type": "stream",
     "text": [
      "Compiled the loaded model, but the compiled metrics have yet to be built. `model.compile_metrics` will be empty until you train or evaluate the model.\n"
     ]
    },
    {
     "name": "stdout",
     "output_type": "stream",
     "text": [
      "mtd_ai\n",
      "Trial_ 443\n",
      "all_features\n",
      "On Mac\n",
      "Static_factor 2000\n",
      "MTD Scheme [<class 'mtdnetwork.mtd.completetopologyshuffle.CompleteTopologyShuffle'>, <class 'mtdnetwork.mtd.ipshuffle.IPShuffle'>, <class 'mtdnetwork.mtd.osdiversity.OSDiversity'>, <class 'mtdnetwork.mtd.servicediversity.ServiceDiversity'>]\n",
      "Action size(include zero which is no deployment) 5\n"
     ]
    },
    {
     "name": "stderr",
     "output_type": "stream",
     "text": [
      "Compiled the loaded model, but the compiled metrics have yet to be built. `model.compile_metrics` will be empty until you train or evaluate the model.\n"
     ]
    },
    {
     "name": "stdout",
     "output_type": "stream",
     "text": [
      "mtd_ai\n",
      "Trial_ 444\n",
      "all_features\n",
      "On Mac\n",
      "Static_factor 2000\n",
      "MTD Scheme [<class 'mtdnetwork.mtd.completetopologyshuffle.CompleteTopologyShuffle'>, <class 'mtdnetwork.mtd.ipshuffle.IPShuffle'>, <class 'mtdnetwork.mtd.osdiversity.OSDiversity'>, <class 'mtdnetwork.mtd.servicediversity.ServiceDiversity'>]\n",
      "Action size(include zero which is no deployment) 5\n"
     ]
    },
    {
     "name": "stderr",
     "output_type": "stream",
     "text": [
      "Compiled the loaded model, but the compiled metrics have yet to be built. `model.compile_metrics` will be empty until you train or evaluate the model.\n"
     ]
    },
    {
     "name": "stdout",
     "output_type": "stream",
     "text": [
      "mtd_ai\n",
      "Trial_ 445\n",
      "all_features\n",
      "On Mac\n",
      "Static_factor 2000\n",
      "MTD Scheme [<class 'mtdnetwork.mtd.completetopologyshuffle.CompleteTopologyShuffle'>, <class 'mtdnetwork.mtd.ipshuffle.IPShuffle'>, <class 'mtdnetwork.mtd.osdiversity.OSDiversity'>, <class 'mtdnetwork.mtd.servicediversity.ServiceDiversity'>]\n",
      "Action size(include zero which is no deployment) 5\n"
     ]
    },
    {
     "name": "stderr",
     "output_type": "stream",
     "text": [
      "Compiled the loaded model, but the compiled metrics have yet to be built. `model.compile_metrics` will be empty until you train or evaluate the model.\n"
     ]
    },
    {
     "name": "stdout",
     "output_type": "stream",
     "text": [
      "mtd_ai\n",
      "Trial_ 446\n",
      "all_features\n",
      "On Mac\n",
      "Static_factor 2000\n",
      "MTD Scheme [<class 'mtdnetwork.mtd.completetopologyshuffle.CompleteTopologyShuffle'>, <class 'mtdnetwork.mtd.ipshuffle.IPShuffle'>, <class 'mtdnetwork.mtd.osdiversity.OSDiversity'>, <class 'mtdnetwork.mtd.servicediversity.ServiceDiversity'>]\n",
      "Action size(include zero which is no deployment) 5\n"
     ]
    },
    {
     "name": "stderr",
     "output_type": "stream",
     "text": [
      "Compiled the loaded model, but the compiled metrics have yet to be built. `model.compile_metrics` will be empty until you train or evaluate the model.\n"
     ]
    },
    {
     "name": "stdout",
     "output_type": "stream",
     "text": [
      "mtd_ai\n",
      "Trial_ 447\n",
      "all_features\n",
      "On Mac\n",
      "Static_factor 2000\n",
      "MTD Scheme [<class 'mtdnetwork.mtd.completetopologyshuffle.CompleteTopologyShuffle'>, <class 'mtdnetwork.mtd.ipshuffle.IPShuffle'>, <class 'mtdnetwork.mtd.osdiversity.OSDiversity'>, <class 'mtdnetwork.mtd.servicediversity.ServiceDiversity'>]\n",
      "Action size(include zero which is no deployment) 5\n"
     ]
    },
    {
     "name": "stderr",
     "output_type": "stream",
     "text": [
      "Compiled the loaded model, but the compiled metrics have yet to be built. `model.compile_metrics` will be empty until you train or evaluate the model.\n"
     ]
    },
    {
     "name": "stdout",
     "output_type": "stream",
     "text": [
      "mtd_ai\n",
      "Trial_ 448\n",
      "all_features\n",
      "On Mac\n",
      "Static_factor 2000\n",
      "MTD Scheme [<class 'mtdnetwork.mtd.completetopologyshuffle.CompleteTopologyShuffle'>, <class 'mtdnetwork.mtd.ipshuffle.IPShuffle'>, <class 'mtdnetwork.mtd.osdiversity.OSDiversity'>, <class 'mtdnetwork.mtd.servicediversity.ServiceDiversity'>]\n",
      "Action size(include zero which is no deployment) 5\n"
     ]
    },
    {
     "name": "stderr",
     "output_type": "stream",
     "text": [
      "Compiled the loaded model, but the compiled metrics have yet to be built. `model.compile_metrics` will be empty until you train or evaluate the model.\n"
     ]
    },
    {
     "name": "stdout",
     "output_type": "stream",
     "text": [
      "mtd_ai\n",
      "Trial_ 449\n",
      "all_features\n",
      "On Mac\n",
      "Static_factor 2000\n",
      "MTD Scheme [<class 'mtdnetwork.mtd.completetopologyshuffle.CompleteTopologyShuffle'>, <class 'mtdnetwork.mtd.ipshuffle.IPShuffle'>, <class 'mtdnetwork.mtd.osdiversity.OSDiversity'>, <class 'mtdnetwork.mtd.servicediversity.ServiceDiversity'>]\n",
      "Action size(include zero which is no deployment) 5\n"
     ]
    },
    {
     "name": "stderr",
     "output_type": "stream",
     "text": [
      "Compiled the loaded model, but the compiled metrics have yet to be built. `model.compile_metrics` will be empty until you train or evaluate the model.\n"
     ]
    },
    {
     "name": "stdout",
     "output_type": "stream",
     "text": [
      "mtd_ai\n",
      "Trial_ 450\n",
      "all_features\n",
      "On Mac\n",
      "Static_factor 2000\n",
      "MTD Scheme [<class 'mtdnetwork.mtd.completetopologyshuffle.CompleteTopologyShuffle'>, <class 'mtdnetwork.mtd.ipshuffle.IPShuffle'>, <class 'mtdnetwork.mtd.osdiversity.OSDiversity'>, <class 'mtdnetwork.mtd.servicediversity.ServiceDiversity'>]\n",
      "Action size(include zero which is no deployment) 5\n"
     ]
    },
    {
     "name": "stderr",
     "output_type": "stream",
     "text": [
      "Compiled the loaded model, but the compiled metrics have yet to be built. `model.compile_metrics` will be empty until you train or evaluate the model.\n"
     ]
    },
    {
     "name": "stdout",
     "output_type": "stream",
     "text": [
      "mtd_ai\n",
      "Trial_ 451\n",
      "all_features\n",
      "On Mac\n",
      "Static_factor 2000\n",
      "MTD Scheme [<class 'mtdnetwork.mtd.completetopologyshuffle.CompleteTopologyShuffle'>, <class 'mtdnetwork.mtd.ipshuffle.IPShuffle'>, <class 'mtdnetwork.mtd.osdiversity.OSDiversity'>, <class 'mtdnetwork.mtd.servicediversity.ServiceDiversity'>]\n",
      "Action size(include zero which is no deployment) 5\n"
     ]
    },
    {
     "name": "stderr",
     "output_type": "stream",
     "text": [
      "Compiled the loaded model, but the compiled metrics have yet to be built. `model.compile_metrics` will be empty until you train or evaluate the model.\n"
     ]
    },
    {
     "name": "stdout",
     "output_type": "stream",
     "text": [
      "mtd_ai\n",
      "Trial_ 452\n",
      "all_features\n",
      "On Mac\n",
      "Static_factor 2000\n",
      "MTD Scheme [<class 'mtdnetwork.mtd.completetopologyshuffle.CompleteTopologyShuffle'>, <class 'mtdnetwork.mtd.ipshuffle.IPShuffle'>, <class 'mtdnetwork.mtd.osdiversity.OSDiversity'>, <class 'mtdnetwork.mtd.servicediversity.ServiceDiversity'>]\n",
      "Action size(include zero which is no deployment) 5\n"
     ]
    },
    {
     "name": "stderr",
     "output_type": "stream",
     "text": [
      "Compiled the loaded model, but the compiled metrics have yet to be built. `model.compile_metrics` will be empty until you train or evaluate the model.\n"
     ]
    },
    {
     "name": "stdout",
     "output_type": "stream",
     "text": [
      "mtd_ai\n",
      "Trial_ 453\n",
      "all_features\n",
      "On Mac\n",
      "Static_factor 2000\n",
      "MTD Scheme [<class 'mtdnetwork.mtd.completetopologyshuffle.CompleteTopologyShuffle'>, <class 'mtdnetwork.mtd.ipshuffle.IPShuffle'>, <class 'mtdnetwork.mtd.osdiversity.OSDiversity'>, <class 'mtdnetwork.mtd.servicediversity.ServiceDiversity'>]\n",
      "Action size(include zero which is no deployment) 5\n"
     ]
    },
    {
     "name": "stderr",
     "output_type": "stream",
     "text": [
      "Compiled the loaded model, but the compiled metrics have yet to be built. `model.compile_metrics` will be empty until you train or evaluate the model.\n"
     ]
    },
    {
     "name": "stdout",
     "output_type": "stream",
     "text": [
      "mtd_ai\n",
      "Trial_ 454\n",
      "all_features\n",
      "On Mac\n",
      "Static_factor 2000\n",
      "MTD Scheme [<class 'mtdnetwork.mtd.completetopologyshuffle.CompleteTopologyShuffle'>, <class 'mtdnetwork.mtd.ipshuffle.IPShuffle'>, <class 'mtdnetwork.mtd.osdiversity.OSDiversity'>, <class 'mtdnetwork.mtd.servicediversity.ServiceDiversity'>]\n",
      "Action size(include zero which is no deployment) 5\n"
     ]
    },
    {
     "name": "stderr",
     "output_type": "stream",
     "text": [
      "Compiled the loaded model, but the compiled metrics have yet to be built. `model.compile_metrics` will be empty until you train or evaluate the model.\n"
     ]
    },
    {
     "name": "stdout",
     "output_type": "stream",
     "text": [
      "mtd_ai\n",
      "Trial_ 455\n",
      "all_features\n",
      "On Mac\n",
      "Static_factor 2000\n",
      "MTD Scheme [<class 'mtdnetwork.mtd.completetopologyshuffle.CompleteTopologyShuffle'>, <class 'mtdnetwork.mtd.ipshuffle.IPShuffle'>, <class 'mtdnetwork.mtd.osdiversity.OSDiversity'>, <class 'mtdnetwork.mtd.servicediversity.ServiceDiversity'>]\n",
      "Action size(include zero which is no deployment) 5\n"
     ]
    },
    {
     "name": "stderr",
     "output_type": "stream",
     "text": [
      "Compiled the loaded model, but the compiled metrics have yet to be built. `model.compile_metrics` will be empty until you train or evaluate the model.\n"
     ]
    },
    {
     "name": "stdout",
     "output_type": "stream",
     "text": [
      "mtd_ai\n",
      "Trial_ 456\n",
      "all_features\n",
      "On Mac\n",
      "Static_factor 2000\n",
      "MTD Scheme [<class 'mtdnetwork.mtd.completetopologyshuffle.CompleteTopologyShuffle'>, <class 'mtdnetwork.mtd.ipshuffle.IPShuffle'>, <class 'mtdnetwork.mtd.osdiversity.OSDiversity'>, <class 'mtdnetwork.mtd.servicediversity.ServiceDiversity'>]\n",
      "Action size(include zero which is no deployment) 5\n"
     ]
    },
    {
     "name": "stderr",
     "output_type": "stream",
     "text": [
      "Compiled the loaded model, but the compiled metrics have yet to be built. `model.compile_metrics` will be empty until you train or evaluate the model.\n"
     ]
    },
    {
     "name": "stdout",
     "output_type": "stream",
     "text": [
      "mtd_ai\n",
      "Trial_ 457\n",
      "all_features\n",
      "On Mac\n",
      "Static_factor 2000\n",
      "MTD Scheme [<class 'mtdnetwork.mtd.completetopologyshuffle.CompleteTopologyShuffle'>, <class 'mtdnetwork.mtd.ipshuffle.IPShuffle'>, <class 'mtdnetwork.mtd.osdiversity.OSDiversity'>, <class 'mtdnetwork.mtd.servicediversity.ServiceDiversity'>]\n",
      "Action size(include zero which is no deployment) 5\n"
     ]
    },
    {
     "name": "stderr",
     "output_type": "stream",
     "text": [
      "Compiled the loaded model, but the compiled metrics have yet to be built. `model.compile_metrics` will be empty until you train or evaluate the model.\n"
     ]
    },
    {
     "name": "stdout",
     "output_type": "stream",
     "text": [
      "mtd_ai\n",
      "Trial_ 458\n",
      "all_features\n",
      "On Mac\n",
      "Static_factor 2000\n",
      "MTD Scheme [<class 'mtdnetwork.mtd.completetopologyshuffle.CompleteTopologyShuffle'>, <class 'mtdnetwork.mtd.ipshuffle.IPShuffle'>, <class 'mtdnetwork.mtd.osdiversity.OSDiversity'>, <class 'mtdnetwork.mtd.servicediversity.ServiceDiversity'>]\n",
      "Action size(include zero which is no deployment) 5\n"
     ]
    },
    {
     "name": "stderr",
     "output_type": "stream",
     "text": [
      "Compiled the loaded model, but the compiled metrics have yet to be built. `model.compile_metrics` will be empty until you train or evaluate the model.\n"
     ]
    },
    {
     "name": "stdout",
     "output_type": "stream",
     "text": [
      "mtd_ai\n",
      "Trial_ 459\n",
      "all_features\n",
      "On Mac\n",
      "Static_factor 2000\n",
      "MTD Scheme [<class 'mtdnetwork.mtd.completetopologyshuffle.CompleteTopologyShuffle'>, <class 'mtdnetwork.mtd.ipshuffle.IPShuffle'>, <class 'mtdnetwork.mtd.osdiversity.OSDiversity'>, <class 'mtdnetwork.mtd.servicediversity.ServiceDiversity'>]\n",
      "Action size(include zero which is no deployment) 5\n"
     ]
    },
    {
     "name": "stderr",
     "output_type": "stream",
     "text": [
      "Compiled the loaded model, but the compiled metrics have yet to be built. `model.compile_metrics` will be empty until you train or evaluate the model.\n"
     ]
    },
    {
     "name": "stdout",
     "output_type": "stream",
     "text": [
      "mtd_ai\n",
      "Trial_ 460\n",
      "all_features\n",
      "On Mac\n",
      "Static_factor 2000\n",
      "MTD Scheme [<class 'mtdnetwork.mtd.completetopologyshuffle.CompleteTopologyShuffle'>, <class 'mtdnetwork.mtd.ipshuffle.IPShuffle'>, <class 'mtdnetwork.mtd.osdiversity.OSDiversity'>, <class 'mtdnetwork.mtd.servicediversity.ServiceDiversity'>]\n",
      "Action size(include zero which is no deployment) 5\n"
     ]
    },
    {
     "name": "stderr",
     "output_type": "stream",
     "text": [
      "Compiled the loaded model, but the compiled metrics have yet to be built. `model.compile_metrics` will be empty until you train or evaluate the model.\n"
     ]
    },
    {
     "name": "stdout",
     "output_type": "stream",
     "text": [
      "mtd_ai\n",
      "Trial_ 461\n",
      "all_features\n",
      "On Mac\n",
      "Static_factor 2000\n",
      "MTD Scheme [<class 'mtdnetwork.mtd.completetopologyshuffle.CompleteTopologyShuffle'>, <class 'mtdnetwork.mtd.ipshuffle.IPShuffle'>, <class 'mtdnetwork.mtd.osdiversity.OSDiversity'>, <class 'mtdnetwork.mtd.servicediversity.ServiceDiversity'>]\n",
      "Action size(include zero which is no deployment) 5\n"
     ]
    },
    {
     "name": "stderr",
     "output_type": "stream",
     "text": [
      "Compiled the loaded model, but the compiled metrics have yet to be built. `model.compile_metrics` will be empty until you train or evaluate the model.\n"
     ]
    },
    {
     "name": "stdout",
     "output_type": "stream",
     "text": [
      "mtd_ai\n",
      "Trial_ 462\n",
      "all_features\n",
      "On Mac\n",
      "Static_factor 2000\n",
      "MTD Scheme [<class 'mtdnetwork.mtd.completetopologyshuffle.CompleteTopologyShuffle'>, <class 'mtdnetwork.mtd.ipshuffle.IPShuffle'>, <class 'mtdnetwork.mtd.osdiversity.OSDiversity'>, <class 'mtdnetwork.mtd.servicediversity.ServiceDiversity'>]\n",
      "Action size(include zero which is no deployment) 5\n"
     ]
    },
    {
     "name": "stderr",
     "output_type": "stream",
     "text": [
      "Compiled the loaded model, but the compiled metrics have yet to be built. `model.compile_metrics` will be empty until you train or evaluate the model.\n"
     ]
    },
    {
     "name": "stdout",
     "output_type": "stream",
     "text": [
      "mtd_ai\n",
      "Trial_ 463\n",
      "all_features\n",
      "On Mac\n",
      "Static_factor 2000\n",
      "MTD Scheme [<class 'mtdnetwork.mtd.completetopologyshuffle.CompleteTopologyShuffle'>, <class 'mtdnetwork.mtd.ipshuffle.IPShuffle'>, <class 'mtdnetwork.mtd.osdiversity.OSDiversity'>, <class 'mtdnetwork.mtd.servicediversity.ServiceDiversity'>]\n",
      "Action size(include zero which is no deployment) 5\n"
     ]
    },
    {
     "name": "stderr",
     "output_type": "stream",
     "text": [
      "Compiled the loaded model, but the compiled metrics have yet to be built. `model.compile_metrics` will be empty until you train or evaluate the model.\n"
     ]
    },
    {
     "name": "stdout",
     "output_type": "stream",
     "text": [
      "mtd_ai\n",
      "Trial_ 464\n",
      "all_features\n",
      "On Mac\n",
      "Static_factor 2000\n",
      "MTD Scheme [<class 'mtdnetwork.mtd.completetopologyshuffle.CompleteTopologyShuffle'>, <class 'mtdnetwork.mtd.ipshuffle.IPShuffle'>, <class 'mtdnetwork.mtd.osdiversity.OSDiversity'>, <class 'mtdnetwork.mtd.servicediversity.ServiceDiversity'>]\n",
      "Action size(include zero which is no deployment) 5\n"
     ]
    },
    {
     "name": "stderr",
     "output_type": "stream",
     "text": [
      "Compiled the loaded model, but the compiled metrics have yet to be built. `model.compile_metrics` will be empty until you train or evaluate the model.\n"
     ]
    },
    {
     "name": "stdout",
     "output_type": "stream",
     "text": [
      "mtd_ai\n",
      "Trial_ 465\n",
      "all_features\n",
      "On Mac\n",
      "Static_factor 2000\n",
      "MTD Scheme [<class 'mtdnetwork.mtd.completetopologyshuffle.CompleteTopologyShuffle'>, <class 'mtdnetwork.mtd.ipshuffle.IPShuffle'>, <class 'mtdnetwork.mtd.osdiversity.OSDiversity'>, <class 'mtdnetwork.mtd.servicediversity.ServiceDiversity'>]\n",
      "Action size(include zero which is no deployment) 5\n"
     ]
    },
    {
     "name": "stderr",
     "output_type": "stream",
     "text": [
      "Compiled the loaded model, but the compiled metrics have yet to be built. `model.compile_metrics` will be empty until you train or evaluate the model.\n"
     ]
    },
    {
     "name": "stdout",
     "output_type": "stream",
     "text": [
      "mtd_ai\n",
      "Trial_ 466\n",
      "all_features\n",
      "On Mac\n",
      "Static_factor 2000\n",
      "MTD Scheme [<class 'mtdnetwork.mtd.completetopologyshuffle.CompleteTopologyShuffle'>, <class 'mtdnetwork.mtd.ipshuffle.IPShuffle'>, <class 'mtdnetwork.mtd.osdiversity.OSDiversity'>, <class 'mtdnetwork.mtd.servicediversity.ServiceDiversity'>]\n",
      "Action size(include zero which is no deployment) 5\n"
     ]
    },
    {
     "name": "stderr",
     "output_type": "stream",
     "text": [
      "Compiled the loaded model, but the compiled metrics have yet to be built. `model.compile_metrics` will be empty until you train or evaluate the model.\n"
     ]
    },
    {
     "name": "stdout",
     "output_type": "stream",
     "text": [
      "mtd_ai\n",
      "Trial_ 467\n",
      "all_features\n",
      "On Mac\n",
      "Static_factor 2000\n",
      "MTD Scheme [<class 'mtdnetwork.mtd.completetopologyshuffle.CompleteTopologyShuffle'>, <class 'mtdnetwork.mtd.ipshuffle.IPShuffle'>, <class 'mtdnetwork.mtd.osdiversity.OSDiversity'>, <class 'mtdnetwork.mtd.servicediversity.ServiceDiversity'>]\n",
      "Action size(include zero which is no deployment) 5\n"
     ]
    },
    {
     "name": "stderr",
     "output_type": "stream",
     "text": [
      "Compiled the loaded model, but the compiled metrics have yet to be built. `model.compile_metrics` will be empty until you train or evaluate the model.\n"
     ]
    },
    {
     "name": "stdout",
     "output_type": "stream",
     "text": [
      "mtd_ai\n",
      "Trial_ 468\n",
      "all_features\n",
      "On Mac\n",
      "Static_factor 2000\n",
      "MTD Scheme [<class 'mtdnetwork.mtd.completetopologyshuffle.CompleteTopologyShuffle'>, <class 'mtdnetwork.mtd.ipshuffle.IPShuffle'>, <class 'mtdnetwork.mtd.osdiversity.OSDiversity'>, <class 'mtdnetwork.mtd.servicediversity.ServiceDiversity'>]\n",
      "Action size(include zero which is no deployment) 5\n"
     ]
    },
    {
     "name": "stderr",
     "output_type": "stream",
     "text": [
      "Compiled the loaded model, but the compiled metrics have yet to be built. `model.compile_metrics` will be empty until you train or evaluate the model.\n"
     ]
    },
    {
     "name": "stdout",
     "output_type": "stream",
     "text": [
      "mtd_ai\n",
      "Trial_ 469\n",
      "all_features\n",
      "On Mac\n",
      "Static_factor 2000\n",
      "MTD Scheme [<class 'mtdnetwork.mtd.completetopologyshuffle.CompleteTopologyShuffle'>, <class 'mtdnetwork.mtd.ipshuffle.IPShuffle'>, <class 'mtdnetwork.mtd.osdiversity.OSDiversity'>, <class 'mtdnetwork.mtd.servicediversity.ServiceDiversity'>]\n",
      "Action size(include zero which is no deployment) 5\n"
     ]
    },
    {
     "name": "stderr",
     "output_type": "stream",
     "text": [
      "Compiled the loaded model, but the compiled metrics have yet to be built. `model.compile_metrics` will be empty until you train or evaluate the model.\n"
     ]
    },
    {
     "name": "stdout",
     "output_type": "stream",
     "text": [
      "mtd_ai\n",
      "Trial_ 470\n",
      "all_features\n",
      "On Mac\n",
      "Static_factor 2000\n",
      "MTD Scheme [<class 'mtdnetwork.mtd.completetopologyshuffle.CompleteTopologyShuffle'>, <class 'mtdnetwork.mtd.ipshuffle.IPShuffle'>, <class 'mtdnetwork.mtd.osdiversity.OSDiversity'>, <class 'mtdnetwork.mtd.servicediversity.ServiceDiversity'>]\n",
      "Action size(include zero which is no deployment) 5\n"
     ]
    },
    {
     "name": "stderr",
     "output_type": "stream",
     "text": [
      "Compiled the loaded model, but the compiled metrics have yet to be built. `model.compile_metrics` will be empty until you train or evaluate the model.\n"
     ]
    },
    {
     "name": "stdout",
     "output_type": "stream",
     "text": [
      "mtd_ai\n",
      "Trial_ 471\n",
      "all_features\n",
      "On Mac\n",
      "Static_factor 2000\n",
      "MTD Scheme [<class 'mtdnetwork.mtd.completetopologyshuffle.CompleteTopologyShuffle'>, <class 'mtdnetwork.mtd.ipshuffle.IPShuffle'>, <class 'mtdnetwork.mtd.osdiversity.OSDiversity'>, <class 'mtdnetwork.mtd.servicediversity.ServiceDiversity'>]\n",
      "Action size(include zero which is no deployment) 5\n"
     ]
    },
    {
     "name": "stderr",
     "output_type": "stream",
     "text": [
      "Compiled the loaded model, but the compiled metrics have yet to be built. `model.compile_metrics` will be empty until you train or evaluate the model.\n"
     ]
    },
    {
     "name": "stdout",
     "output_type": "stream",
     "text": [
      "mtd_ai\n",
      "Trial_ 472\n",
      "all_features\n",
      "On Mac\n",
      "Static_factor 2000\n",
      "MTD Scheme [<class 'mtdnetwork.mtd.completetopologyshuffle.CompleteTopologyShuffle'>, <class 'mtdnetwork.mtd.ipshuffle.IPShuffle'>, <class 'mtdnetwork.mtd.osdiversity.OSDiversity'>, <class 'mtdnetwork.mtd.servicediversity.ServiceDiversity'>]\n",
      "Action size(include zero which is no deployment) 5\n"
     ]
    },
    {
     "name": "stderr",
     "output_type": "stream",
     "text": [
      "Compiled the loaded model, but the compiled metrics have yet to be built. `model.compile_metrics` will be empty until you train or evaluate the model.\n"
     ]
    },
    {
     "name": "stdout",
     "output_type": "stream",
     "text": [
      "mtd_ai\n",
      "Trial_ 473\n",
      "all_features\n",
      "On Mac\n",
      "Static_factor 2000\n",
      "MTD Scheme [<class 'mtdnetwork.mtd.completetopologyshuffle.CompleteTopologyShuffle'>, <class 'mtdnetwork.mtd.ipshuffle.IPShuffle'>, <class 'mtdnetwork.mtd.osdiversity.OSDiversity'>, <class 'mtdnetwork.mtd.servicediversity.ServiceDiversity'>]\n",
      "Action size(include zero which is no deployment) 5\n"
     ]
    },
    {
     "name": "stderr",
     "output_type": "stream",
     "text": [
      "Compiled the loaded model, but the compiled metrics have yet to be built. `model.compile_metrics` will be empty until you train or evaluate the model.\n"
     ]
    },
    {
     "name": "stdout",
     "output_type": "stream",
     "text": [
      "mtd_ai\n",
      "Trial_ 474\n",
      "all_features\n",
      "On Mac\n",
      "Static_factor 2000\n",
      "MTD Scheme [<class 'mtdnetwork.mtd.completetopologyshuffle.CompleteTopologyShuffle'>, <class 'mtdnetwork.mtd.ipshuffle.IPShuffle'>, <class 'mtdnetwork.mtd.osdiversity.OSDiversity'>, <class 'mtdnetwork.mtd.servicediversity.ServiceDiversity'>]\n",
      "Action size(include zero which is no deployment) 5\n"
     ]
    },
    {
     "name": "stderr",
     "output_type": "stream",
     "text": [
      "Compiled the loaded model, but the compiled metrics have yet to be built. `model.compile_metrics` will be empty until you train or evaluate the model.\n"
     ]
    },
    {
     "name": "stdout",
     "output_type": "stream",
     "text": [
      "mtd_ai\n",
      "Trial_ 475\n",
      "all_features\n",
      "On Mac\n",
      "Static_factor 2000\n",
      "MTD Scheme [<class 'mtdnetwork.mtd.completetopologyshuffle.CompleteTopologyShuffle'>, <class 'mtdnetwork.mtd.ipshuffle.IPShuffle'>, <class 'mtdnetwork.mtd.osdiversity.OSDiversity'>, <class 'mtdnetwork.mtd.servicediversity.ServiceDiversity'>]\n",
      "Action size(include zero which is no deployment) 5\n"
     ]
    },
    {
     "name": "stderr",
     "output_type": "stream",
     "text": [
      "Compiled the loaded model, but the compiled metrics have yet to be built. `model.compile_metrics` will be empty until you train or evaluate the model.\n"
     ]
    },
    {
     "name": "stdout",
     "output_type": "stream",
     "text": [
      "mtd_ai\n",
      "Trial_ 476\n",
      "all_features\n",
      "On Mac\n",
      "Static_factor 2000\n",
      "MTD Scheme [<class 'mtdnetwork.mtd.completetopologyshuffle.CompleteTopologyShuffle'>, <class 'mtdnetwork.mtd.ipshuffle.IPShuffle'>, <class 'mtdnetwork.mtd.osdiversity.OSDiversity'>, <class 'mtdnetwork.mtd.servicediversity.ServiceDiversity'>]\n",
      "Action size(include zero which is no deployment) 5\n"
     ]
    },
    {
     "name": "stderr",
     "output_type": "stream",
     "text": [
      "Compiled the loaded model, but the compiled metrics have yet to be built. `model.compile_metrics` will be empty until you train or evaluate the model.\n"
     ]
    },
    {
     "name": "stdout",
     "output_type": "stream",
     "text": [
      "mtd_ai\n",
      "Trial_ 477\n",
      "all_features\n",
      "On Mac\n",
      "Static_factor 2000\n",
      "MTD Scheme [<class 'mtdnetwork.mtd.completetopologyshuffle.CompleteTopologyShuffle'>, <class 'mtdnetwork.mtd.ipshuffle.IPShuffle'>, <class 'mtdnetwork.mtd.osdiversity.OSDiversity'>, <class 'mtdnetwork.mtd.servicediversity.ServiceDiversity'>]\n",
      "Action size(include zero which is no deployment) 5\n"
     ]
    },
    {
     "name": "stderr",
     "output_type": "stream",
     "text": [
      "Compiled the loaded model, but the compiled metrics have yet to be built. `model.compile_metrics` will be empty until you train or evaluate the model.\n"
     ]
    },
    {
     "name": "stdout",
     "output_type": "stream",
     "text": [
      "mtd_ai\n",
      "Trial_ 478\n",
      "all_features\n",
      "On Mac\n",
      "Static_factor 2000\n",
      "MTD Scheme [<class 'mtdnetwork.mtd.completetopologyshuffle.CompleteTopologyShuffle'>, <class 'mtdnetwork.mtd.ipshuffle.IPShuffle'>, <class 'mtdnetwork.mtd.osdiversity.OSDiversity'>, <class 'mtdnetwork.mtd.servicediversity.ServiceDiversity'>]\n",
      "Action size(include zero which is no deployment) 5\n"
     ]
    },
    {
     "name": "stderr",
     "output_type": "stream",
     "text": [
      "Compiled the loaded model, but the compiled metrics have yet to be built. `model.compile_metrics` will be empty until you train or evaluate the model.\n"
     ]
    },
    {
     "name": "stdout",
     "output_type": "stream",
     "text": [
      "mtd_ai\n",
      "Trial_ 479\n",
      "all_features\n",
      "On Mac\n",
      "Static_factor 2000\n",
      "MTD Scheme [<class 'mtdnetwork.mtd.completetopologyshuffle.CompleteTopologyShuffle'>, <class 'mtdnetwork.mtd.ipshuffle.IPShuffle'>, <class 'mtdnetwork.mtd.osdiversity.OSDiversity'>, <class 'mtdnetwork.mtd.servicediversity.ServiceDiversity'>]\n",
      "Action size(include zero which is no deployment) 5\n"
     ]
    },
    {
     "name": "stderr",
     "output_type": "stream",
     "text": [
      "Compiled the loaded model, but the compiled metrics have yet to be built. `model.compile_metrics` will be empty until you train or evaluate the model.\n"
     ]
    },
    {
     "name": "stdout",
     "output_type": "stream",
     "text": [
      "mtd_ai\n",
      "Trial_ 480\n",
      "all_features\n",
      "On Mac\n",
      "Static_factor 2000\n",
      "MTD Scheme [<class 'mtdnetwork.mtd.completetopologyshuffle.CompleteTopologyShuffle'>, <class 'mtdnetwork.mtd.ipshuffle.IPShuffle'>, <class 'mtdnetwork.mtd.osdiversity.OSDiversity'>, <class 'mtdnetwork.mtd.servicediversity.ServiceDiversity'>]\n",
      "Action size(include zero which is no deployment) 5\n"
     ]
    },
    {
     "name": "stderr",
     "output_type": "stream",
     "text": [
      "Compiled the loaded model, but the compiled metrics have yet to be built. `model.compile_metrics` will be empty until you train or evaluate the model.\n"
     ]
    },
    {
     "name": "stdout",
     "output_type": "stream",
     "text": [
      "mtd_ai\n",
      "Trial_ 481\n",
      "all_features\n",
      "On Mac\n",
      "Static_factor 2000\n",
      "MTD Scheme [<class 'mtdnetwork.mtd.completetopologyshuffle.CompleteTopologyShuffle'>, <class 'mtdnetwork.mtd.ipshuffle.IPShuffle'>, <class 'mtdnetwork.mtd.osdiversity.OSDiversity'>, <class 'mtdnetwork.mtd.servicediversity.ServiceDiversity'>]\n",
      "Action size(include zero which is no deployment) 5\n"
     ]
    },
    {
     "name": "stderr",
     "output_type": "stream",
     "text": [
      "Compiled the loaded model, but the compiled metrics have yet to be built. `model.compile_metrics` will be empty until you train or evaluate the model.\n"
     ]
    },
    {
     "name": "stdout",
     "output_type": "stream",
     "text": [
      "mtd_ai\n",
      "Trial_ 482\n",
      "all_features\n",
      "On Mac\n",
      "Static_factor 2000\n",
      "MTD Scheme [<class 'mtdnetwork.mtd.completetopologyshuffle.CompleteTopologyShuffle'>, <class 'mtdnetwork.mtd.ipshuffle.IPShuffle'>, <class 'mtdnetwork.mtd.osdiversity.OSDiversity'>, <class 'mtdnetwork.mtd.servicediversity.ServiceDiversity'>]\n",
      "Action size(include zero which is no deployment) 5\n"
     ]
    },
    {
     "name": "stderr",
     "output_type": "stream",
     "text": [
      "Compiled the loaded model, but the compiled metrics have yet to be built. `model.compile_metrics` will be empty until you train or evaluate the model.\n"
     ]
    },
    {
     "name": "stdout",
     "output_type": "stream",
     "text": [
      "mtd_ai\n",
      "Trial_ 483\n",
      "all_features\n",
      "On Mac\n",
      "Static_factor 2000\n",
      "MTD Scheme [<class 'mtdnetwork.mtd.completetopologyshuffle.CompleteTopologyShuffle'>, <class 'mtdnetwork.mtd.ipshuffle.IPShuffle'>, <class 'mtdnetwork.mtd.osdiversity.OSDiversity'>, <class 'mtdnetwork.mtd.servicediversity.ServiceDiversity'>]\n",
      "Action size(include zero which is no deployment) 5\n"
     ]
    },
    {
     "name": "stderr",
     "output_type": "stream",
     "text": [
      "Compiled the loaded model, but the compiled metrics have yet to be built. `model.compile_metrics` will be empty until you train or evaluate the model.\n"
     ]
    },
    {
     "name": "stdout",
     "output_type": "stream",
     "text": [
      "mtd_ai\n",
      "Trial_ 484\n",
      "all_features\n",
      "On Mac\n",
      "Static_factor 2000\n",
      "MTD Scheme [<class 'mtdnetwork.mtd.completetopologyshuffle.CompleteTopologyShuffle'>, <class 'mtdnetwork.mtd.ipshuffle.IPShuffle'>, <class 'mtdnetwork.mtd.osdiversity.OSDiversity'>, <class 'mtdnetwork.mtd.servicediversity.ServiceDiversity'>]\n",
      "Action size(include zero which is no deployment) 5\n"
     ]
    },
    {
     "name": "stderr",
     "output_type": "stream",
     "text": [
      "Compiled the loaded model, but the compiled metrics have yet to be built. `model.compile_metrics` will be empty until you train or evaluate the model.\n"
     ]
    },
    {
     "name": "stdout",
     "output_type": "stream",
     "text": [
      "mtd_ai\n",
      "Trial_ 485\n",
      "all_features\n",
      "On Mac\n",
      "Static_factor 2000\n",
      "MTD Scheme [<class 'mtdnetwork.mtd.completetopologyshuffle.CompleteTopologyShuffle'>, <class 'mtdnetwork.mtd.ipshuffle.IPShuffle'>, <class 'mtdnetwork.mtd.osdiversity.OSDiversity'>, <class 'mtdnetwork.mtd.servicediversity.ServiceDiversity'>]\n",
      "Action size(include zero which is no deployment) 5\n"
     ]
    },
    {
     "name": "stderr",
     "output_type": "stream",
     "text": [
      "Compiled the loaded model, but the compiled metrics have yet to be built. `model.compile_metrics` will be empty until you train or evaluate the model.\n"
     ]
    },
    {
     "name": "stdout",
     "output_type": "stream",
     "text": [
      "mtd_ai\n",
      "Trial_ 486\n",
      "all_features\n",
      "On Mac\n",
      "Static_factor 2000\n",
      "MTD Scheme [<class 'mtdnetwork.mtd.completetopologyshuffle.CompleteTopologyShuffle'>, <class 'mtdnetwork.mtd.ipshuffle.IPShuffle'>, <class 'mtdnetwork.mtd.osdiversity.OSDiversity'>, <class 'mtdnetwork.mtd.servicediversity.ServiceDiversity'>]\n",
      "Action size(include zero which is no deployment) 5\n"
     ]
    },
    {
     "name": "stderr",
     "output_type": "stream",
     "text": [
      "Compiled the loaded model, but the compiled metrics have yet to be built. `model.compile_metrics` will be empty until you train or evaluate the model.\n"
     ]
    },
    {
     "name": "stdout",
     "output_type": "stream",
     "text": [
      "mtd_ai\n",
      "Trial_ 487\n",
      "all_features\n",
      "On Mac\n",
      "Static_factor 2000\n",
      "MTD Scheme [<class 'mtdnetwork.mtd.completetopologyshuffle.CompleteTopologyShuffle'>, <class 'mtdnetwork.mtd.ipshuffle.IPShuffle'>, <class 'mtdnetwork.mtd.osdiversity.OSDiversity'>, <class 'mtdnetwork.mtd.servicediversity.ServiceDiversity'>]\n",
      "Action size(include zero which is no deployment) 5\n"
     ]
    },
    {
     "name": "stderr",
     "output_type": "stream",
     "text": [
      "Compiled the loaded model, but the compiled metrics have yet to be built. `model.compile_metrics` will be empty until you train or evaluate the model.\n"
     ]
    },
    {
     "name": "stdout",
     "output_type": "stream",
     "text": [
      "mtd_ai\n",
      "Trial_ 488\n",
      "all_features\n",
      "On Mac\n",
      "Static_factor 2000\n",
      "MTD Scheme [<class 'mtdnetwork.mtd.completetopologyshuffle.CompleteTopologyShuffle'>, <class 'mtdnetwork.mtd.ipshuffle.IPShuffle'>, <class 'mtdnetwork.mtd.osdiversity.OSDiversity'>, <class 'mtdnetwork.mtd.servicediversity.ServiceDiversity'>]\n",
      "Action size(include zero which is no deployment) 5\n"
     ]
    },
    {
     "name": "stderr",
     "output_type": "stream",
     "text": [
      "Compiled the loaded model, but the compiled metrics have yet to be built. `model.compile_metrics` will be empty until you train or evaluate the model.\n"
     ]
    },
    {
     "name": "stdout",
     "output_type": "stream",
     "text": [
      "mtd_ai\n",
      "Trial_ 489\n",
      "all_features\n",
      "On Mac\n",
      "Static_factor 2000\n",
      "MTD Scheme [<class 'mtdnetwork.mtd.completetopologyshuffle.CompleteTopologyShuffle'>, <class 'mtdnetwork.mtd.ipshuffle.IPShuffle'>, <class 'mtdnetwork.mtd.osdiversity.OSDiversity'>, <class 'mtdnetwork.mtd.servicediversity.ServiceDiversity'>]\n",
      "Action size(include zero which is no deployment) 5\n"
     ]
    },
    {
     "name": "stderr",
     "output_type": "stream",
     "text": [
      "Compiled the loaded model, but the compiled metrics have yet to be built. `model.compile_metrics` will be empty until you train or evaluate the model.\n"
     ]
    },
    {
     "name": "stdout",
     "output_type": "stream",
     "text": [
      "mtd_ai\n",
      "Trial_ 490\n",
      "all_features\n",
      "On Mac\n",
      "Static_factor 2000\n",
      "MTD Scheme [<class 'mtdnetwork.mtd.completetopologyshuffle.CompleteTopologyShuffle'>, <class 'mtdnetwork.mtd.ipshuffle.IPShuffle'>, <class 'mtdnetwork.mtd.osdiversity.OSDiversity'>, <class 'mtdnetwork.mtd.servicediversity.ServiceDiversity'>]\n",
      "Action size(include zero which is no deployment) 5\n"
     ]
    },
    {
     "name": "stderr",
     "output_type": "stream",
     "text": [
      "Compiled the loaded model, but the compiled metrics have yet to be built. `model.compile_metrics` will be empty until you train or evaluate the model.\n"
     ]
    },
    {
     "name": "stdout",
     "output_type": "stream",
     "text": [
      "mtd_ai\n",
      "Trial_ 491\n",
      "all_features\n",
      "On Mac\n",
      "Static_factor 2000\n",
      "MTD Scheme [<class 'mtdnetwork.mtd.completetopologyshuffle.CompleteTopologyShuffle'>, <class 'mtdnetwork.mtd.ipshuffle.IPShuffle'>, <class 'mtdnetwork.mtd.osdiversity.OSDiversity'>, <class 'mtdnetwork.mtd.servicediversity.ServiceDiversity'>]\n",
      "Action size(include zero which is no deployment) 5\n"
     ]
    },
    {
     "name": "stderr",
     "output_type": "stream",
     "text": [
      "Compiled the loaded model, but the compiled metrics have yet to be built. `model.compile_metrics` will be empty until you train or evaluate the model.\n"
     ]
    },
    {
     "name": "stdout",
     "output_type": "stream",
     "text": [
      "mtd_ai\n",
      "Trial_ 492\n",
      "all_features\n",
      "On Mac\n",
      "Static_factor 2000\n",
      "MTD Scheme [<class 'mtdnetwork.mtd.completetopologyshuffle.CompleteTopologyShuffle'>, <class 'mtdnetwork.mtd.ipshuffle.IPShuffle'>, <class 'mtdnetwork.mtd.osdiversity.OSDiversity'>, <class 'mtdnetwork.mtd.servicediversity.ServiceDiversity'>]\n",
      "Action size(include zero which is no deployment) 5\n"
     ]
    },
    {
     "name": "stderr",
     "output_type": "stream",
     "text": [
      "Compiled the loaded model, but the compiled metrics have yet to be built. `model.compile_metrics` will be empty until you train or evaluate the model.\n"
     ]
    },
    {
     "name": "stdout",
     "output_type": "stream",
     "text": [
      "mtd_ai\n",
      "Trial_ 493\n",
      "all_features\n",
      "On Mac\n",
      "Static_factor 2000\n",
      "MTD Scheme [<class 'mtdnetwork.mtd.completetopologyshuffle.CompleteTopologyShuffle'>, <class 'mtdnetwork.mtd.ipshuffle.IPShuffle'>, <class 'mtdnetwork.mtd.osdiversity.OSDiversity'>, <class 'mtdnetwork.mtd.servicediversity.ServiceDiversity'>]\n",
      "Action size(include zero which is no deployment) 5\n"
     ]
    },
    {
     "name": "stderr",
     "output_type": "stream",
     "text": [
      "Compiled the loaded model, but the compiled metrics have yet to be built. `model.compile_metrics` will be empty until you train or evaluate the model.\n"
     ]
    },
    {
     "name": "stdout",
     "output_type": "stream",
     "text": [
      "mtd_ai\n",
      "Trial_ 494\n",
      "all_features\n",
      "On Mac\n",
      "Static_factor 2000\n",
      "MTD Scheme [<class 'mtdnetwork.mtd.completetopologyshuffle.CompleteTopologyShuffle'>, <class 'mtdnetwork.mtd.ipshuffle.IPShuffle'>, <class 'mtdnetwork.mtd.osdiversity.OSDiversity'>, <class 'mtdnetwork.mtd.servicediversity.ServiceDiversity'>]\n",
      "Action size(include zero which is no deployment) 5\n"
     ]
    },
    {
     "name": "stderr",
     "output_type": "stream",
     "text": [
      "Compiled the loaded model, but the compiled metrics have yet to be built. `model.compile_metrics` will be empty until you train or evaluate the model.\n"
     ]
    },
    {
     "name": "stdout",
     "output_type": "stream",
     "text": [
      "mtd_ai\n",
      "Trial_ 495\n",
      "all_features\n",
      "On Mac\n",
      "Static_factor 2000\n",
      "MTD Scheme [<class 'mtdnetwork.mtd.completetopologyshuffle.CompleteTopologyShuffle'>, <class 'mtdnetwork.mtd.ipshuffle.IPShuffle'>, <class 'mtdnetwork.mtd.osdiversity.OSDiversity'>, <class 'mtdnetwork.mtd.servicediversity.ServiceDiversity'>]\n",
      "Action size(include zero which is no deployment) 5\n"
     ]
    },
    {
     "name": "stderr",
     "output_type": "stream",
     "text": [
      "Compiled the loaded model, but the compiled metrics have yet to be built. `model.compile_metrics` will be empty until you train or evaluate the model.\n"
     ]
    },
    {
     "name": "stdout",
     "output_type": "stream",
     "text": [
      "mtd_ai\n",
      "Trial_ 496\n",
      "all_features\n",
      "On Mac\n",
      "Static_factor 2000\n",
      "MTD Scheme [<class 'mtdnetwork.mtd.completetopologyshuffle.CompleteTopologyShuffle'>, <class 'mtdnetwork.mtd.ipshuffle.IPShuffle'>, <class 'mtdnetwork.mtd.osdiversity.OSDiversity'>, <class 'mtdnetwork.mtd.servicediversity.ServiceDiversity'>]\n",
      "Action size(include zero which is no deployment) 5\n"
     ]
    },
    {
     "name": "stderr",
     "output_type": "stream",
     "text": [
      "Compiled the loaded model, but the compiled metrics have yet to be built. `model.compile_metrics` will be empty until you train or evaluate the model.\n"
     ]
    },
    {
     "name": "stdout",
     "output_type": "stream",
     "text": [
      "mtd_ai\n",
      "Trial_ 497\n",
      "all_features\n",
      "On Mac\n",
      "Static_factor 2000\n",
      "MTD Scheme [<class 'mtdnetwork.mtd.completetopologyshuffle.CompleteTopologyShuffle'>, <class 'mtdnetwork.mtd.ipshuffle.IPShuffle'>, <class 'mtdnetwork.mtd.osdiversity.OSDiversity'>, <class 'mtdnetwork.mtd.servicediversity.ServiceDiversity'>]\n",
      "Action size(include zero which is no deployment) 5\n"
     ]
    },
    {
     "name": "stderr",
     "output_type": "stream",
     "text": [
      "Compiled the loaded model, but the compiled metrics have yet to be built. `model.compile_metrics` will be empty until you train or evaluate the model.\n"
     ]
    },
    {
     "name": "stdout",
     "output_type": "stream",
     "text": [
      "mtd_ai\n",
      "Trial_ 498\n",
      "all_features\n",
      "On Mac\n",
      "Static_factor 2000\n",
      "MTD Scheme [<class 'mtdnetwork.mtd.completetopologyshuffle.CompleteTopologyShuffle'>, <class 'mtdnetwork.mtd.ipshuffle.IPShuffle'>, <class 'mtdnetwork.mtd.osdiversity.OSDiversity'>, <class 'mtdnetwork.mtd.servicediversity.ServiceDiversity'>]\n",
      "Action size(include zero which is no deployment) 5\n"
     ]
    },
    {
     "name": "stderr",
     "output_type": "stream",
     "text": [
      "Compiled the loaded model, but the compiled metrics have yet to be built. `model.compile_metrics` will be empty until you train or evaluate the model.\n"
     ]
    },
    {
     "name": "stdout",
     "output_type": "stream",
     "text": [
      "mtd_ai\n",
      "Trial_ 499\n",
      "all_features\n",
      "On Mac\n",
      "Static_factor 2000\n",
      "MTD Scheme [<class 'mtdnetwork.mtd.completetopologyshuffle.CompleteTopologyShuffle'>, <class 'mtdnetwork.mtd.ipshuffle.IPShuffle'>, <class 'mtdnetwork.mtd.osdiversity.OSDiversity'>, <class 'mtdnetwork.mtd.servicediversity.ServiceDiversity'>]\n",
      "Action size(include zero which is no deployment) 5\n",
      "mtd_ai\n"
     ]
    }
   ],
   "source": [
    "\n",
    "static_features = [\"host_compromise_ratio\", \"exposed_endpoints\", \"attack_path_exposure\",  \"overall_asr_avg\", \"roa\", \"shortest_path_variability\", \"risk\"]\n",
    "time_features = [\"mtd_freq\", \"overall_mttc_avg\", \"time_since_last_mtd\"]\n",
    "features =  [\"all_features\"]\n",
    "for model in features:\n",
    "\n",
    "    print(model)\n",
    "    result = Experiment(model, epsilon, start_time, finish_time, mtd_interval, network_size,total_nodes, new_network, model, trial, result_head_path)\n",
    "    result.run_trials(model)\n",
    "    \n"
   ]
  },
  {
   "cell_type": "code",
   "execution_count": 11,
   "metadata": {},
   "outputs": [],
   "source": [
    "# # static_features = [ \"overall_asr_avg\", \"attack_path_exposure\"]\n",
    "# static_features = []\n",
    "# time_features = [\"overall_mttc_avg\"]\n",
    "# metrics =  static_features + time_features\n",
    "\n",
    "\n",
    "# for metric in metrics:\n",
    "#     models = [\n",
    "#         f\"{metric}_CompleteTopologyShuffle\",\n",
    "#         f\"{metric}_IPShuffle\",\n",
    "#         f\"{metric}_OSDiversity\",\n",
    "#         f\"{metric}_ServiceDiversity\"\n",
    "#     ]\n",
    "\n",
    "#     mtd_strategies_dict = {\n",
    "#         'CompleteTopologyShuffle': CompleteTopologyShuffle,\n",
    "#         'IPShuffle': IPShuffle,\n",
    "#         'OSDiversity': OSDiversity,\n",
    "#         'ServiceDiversity': ServiceDiversity\n",
    "#     }\n",
    "\n",
    "#     for model in models:\n",
    "#         # Extract strategy from model string\n",
    "#         strategy_name = model.split('_')[-1]\n",
    "        \n",
    "#         # Find corresponding MTD strategy\n",
    "#         mtd_strategy = mtd_strategies_dict.get(strategy_name, None)\n",
    "        \n",
    "#         if not mtd_strategy:\n",
    "#             print(f\"Strategy {strategy_name} not found in mtd_strategies_dict.\")\n",
    "#             continue\n",
    "        \n",
    "#         print(f\"Running model: {model} with strategy: {strategy_name}\")\n",
    "        \n",
    "#         # Create Experiment instance with the MTD strategy\n",
    "#         result = Experiment(epsilon, start_time, finish_time, mtd_interval, network_size, total_nodes, new_network, model, trial, result_head_path, mtd_strategies=[mtd_strategy])\n",
    "        \n",
    "#         # Run trials\n",
    "#         result.run_trials(model)"
   ]
  },
  {
   "cell_type": "code",
   "execution_count": null,
   "metadata": {},
   "outputs": [],
   "source": []
  }
 ],
 "metadata": {
  "kernelspec": {
   "display_name": ".venv",
   "language": "python",
   "name": "python3"
  },
  "language_info": {
   "codemirror_mode": {
    "name": "ipython",
    "version": 3
   },
   "file_extension": ".py",
   "mimetype": "text/x-python",
   "name": "python",
   "nbconvert_exporter": "python",
   "pygments_lexer": "ipython3",
   "version": "3.11.4"
  }
 },
 "nbformat": 4,
 "nbformat_minor": 2
}
