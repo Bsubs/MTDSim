{
 "cells": [
  {
   "cell_type": "code",
   "execution_count": 49,
   "metadata": {},
   "outputs": [],
   "source": [
    "import os\n",
    "import sys\n",
    "current_directory = os.getcwd()\n",
    "if not os.path.exists(current_directory + '\\\\experimental_data'):\n",
    "    os.makedirs(current_directory + '\\\\experimental_data')\n",
    "    os.makedirs(current_directory + '\\\\experimental_data\\\\plots')\n",
    "    os.makedirs(current_directory + '\\\\experimental_data\\\\results')\n",
    "sys.path.append(current_directory.replace('experiments', ''))\n",
    "import warnings\n",
    "import matplotlib.pyplot as plt\n",
    "warnings.filterwarnings(\"ignore\")\n",
    "plt.set_loglevel('WARNING')\n",
    "from run import execute_simulation, create_experiment_snapshots, execute_ai_model, single_mtd_simulation, mtd_ai_simulation, multiple_mtd_simulation, specific_multiple_mtd_simulation\n",
    "from mtdnetwork.mtd.completetopologyshuffle import CompleteTopologyShuffle\n",
    "from mtdnetwork.mtd.ipshuffle import IPShuffle\n",
    "from mtdnetwork.mtd.hosttopologyshuffle import HostTopologyShuffle\n",
    "from mtdnetwork.mtd.portshuffle import PortShuffle\n",
    "from mtdnetwork.mtd.osdiversity import OSDiversity\n",
    "from mtdnetwork.mtd.servicediversity import ServiceDiversity\n",
    "from mtdnetwork.mtd.usershuffle import UserShuffle\n",
    "from mtdnetwork.mtd.osdiversityassignment import OSDiversityAssignment\n",
    "import logging\n",
    "import pandas as pd\n",
    "import numpy as np\n",
    "from math import pi\n",
    "import matplotlib.pyplot as plt\n",
    "from run_experiment import Experiment\n",
    "\n",
    "logging.basicConfig(format='%(message)s', level=logging.INFO)"
   ]
  },
  {
   "cell_type": "code",
   "execution_count": 50,
   "metadata": {},
   "outputs": [],
   "source": [
    "# Learning Parameters\n",
    "epsilon = 1.0  # exploration rate\n",
    "\n",
    "# Simulator Settings\n",
    "start_time = 0\n",
    "finish_time = 15000\n",
    "mtd_interval = [200]\n",
    "network_size = [150]\n",
    "total_nodes = 150\n",
    "new_network = True\n",
    "\n",
    "trial = 300\n",
    "\n",
    "mtd_strategies = [\n",
    "    CompleteTopologyShuffle,\n",
    "    # HostTopologyShuffle,\n",
    "    IPShuffle,\n",
    "    OSDiversity,\n",
    "    # PortShuffle,\n",
    "    # OSDiversityAssignment,\n",
    "    ServiceDiversity,\n",
    "    # UserShuffle\n",
    "]\n",
    "\n",
    "result_head_path = '/Users/williamho/Documents/GitHub/MTDSim'\n",
    "static_degrade_factor = 2000\n",
    "\n"
   ]
  },
  {
   "cell_type": "code",
   "execution_count": 51,
   "metadata": {},
   "outputs": [],
   "source": [
    "# result = Experiment(epsilon, start_time, finish_time, mtd_interval, network_size,total_nodes, new_network, \"all_features\", trial,result_head_path)\n",
    "# result.raw_result_stats_pipeline('nomtd',run_trial = True, stats_type = 'median')\n",
    "# for scheme in result.schemes:\n",
    "#     result.raw_result_stats_pipeline(scheme,run_trial = True, stats_type = 'median')"
   ]
  },
  {
   "cell_type": "code",
   "execution_count": 52,
   "metadata": {},
   "outputs": [],
   "source": [
    "# model = \"all_features\"\n",
    "# result = Experiment(epsilon, start_time, finish_time, mtd_interval, network_size,total_nodes, new_network, model, trial, result_head_path, mtd_strategies=mtd_strategies, static_degrade_factor=static_degrade_factor)\n",
    "# result.run_trials(model)\n"
   ]
  },
  {
   "cell_type": "code",
   "execution_count": 53,
   "metadata": {},
   "outputs": [],
   "source": [
    "# static_features = [\"host_compromise_ratio\", \"exposed_endpoints\", \"attack_path_exposure\",  \"overall_asr_avg\", \"roa\", \"shortest_path_variability\", \"risk\"]\n",
    "# time_features = [\"mtd_freq\", \"overall_mttc_avg\", \"time_since_last_mtd\"]\n",
    "# features =  static_features + time_features\n",
    "# for model in features:\n",
    "#     print(model)\n",
    "#     result = Experiment(epsilon, start_time, finish_time, mtd_interval, network_size,total_nodes, new_network, model, trial, result_head_path)\n",
    "#     result.run_trials(model)\n",
    "    \n"
   ]
  },
  {
   "cell_type": "code",
   "execution_count": 54,
   "metadata": {},
   "outputs": [
    {
     "name": "stderr",
     "output_type": "stream",
     "text": [
      "Compiled the loaded model, but the compiled metrics have yet to be built. `model.compile_metrics` will be empty until you train or evaluate the model.\n"
     ]
    },
    {
     "name": "stdout",
     "output_type": "stream",
     "text": [
      "Running model: all_features_CompleteTopologyShuffle with strategy: CompleteTopologyShuffle\n",
      "Trial_ 0\n",
      "all_features_CompleteTopologyShuffle\n",
      "On Mac\n",
      "Static_factor 2000\n",
      "MTD Scheme [<class 'mtdnetwork.mtd.completetopologyshuffle.CompleteTopologyShuffle'>]\n",
      "Action size(include zero which is no deployment) 2\n"
     ]
    },
    {
     "name": "stderr",
     "output_type": "stream",
     "text": [
      "Compiled the loaded model, but the compiled metrics have yet to be built. `model.compile_metrics` will be empty until you train or evaluate the model.\n"
     ]
    },
    {
     "name": "stdout",
     "output_type": "stream",
     "text": [
      "mtd_ai\n",
      "Trial_ 1\n",
      "all_features_CompleteTopologyShuffle\n",
      "On Mac\n",
      "Static_factor 2000\n",
      "MTD Scheme [<class 'mtdnetwork.mtd.completetopologyshuffle.CompleteTopologyShuffle'>]\n",
      "Action size(include zero which is no deployment) 2\n"
     ]
    },
    {
     "name": "stderr",
     "output_type": "stream",
     "text": [
      "Compiled the loaded model, but the compiled metrics have yet to be built. `model.compile_metrics` will be empty until you train or evaluate the model.\n"
     ]
    },
    {
     "name": "stdout",
     "output_type": "stream",
     "text": [
      "mtd_ai\n",
      "Trial_ 2\n",
      "all_features_CompleteTopologyShuffle\n",
      "On Mac\n",
      "Static_factor 2000\n",
      "MTD Scheme [<class 'mtdnetwork.mtd.completetopologyshuffle.CompleteTopologyShuffle'>]\n",
      "Action size(include zero which is no deployment) 2\n"
     ]
    },
    {
     "name": "stderr",
     "output_type": "stream",
     "text": [
      "Compiled the loaded model, but the compiled metrics have yet to be built. `model.compile_metrics` will be empty until you train or evaluate the model.\n"
     ]
    },
    {
     "name": "stdout",
     "output_type": "stream",
     "text": [
      "mtd_ai\n",
      "Trial_ 3\n",
      "all_features_CompleteTopologyShuffle\n",
      "On Mac\n",
      "Static_factor 2000\n",
      "MTD Scheme [<class 'mtdnetwork.mtd.completetopologyshuffle.CompleteTopologyShuffle'>]\n",
      "Action size(include zero which is no deployment) 2\n"
     ]
    },
    {
     "name": "stderr",
     "output_type": "stream",
     "text": [
      "Compiled the loaded model, but the compiled metrics have yet to be built. `model.compile_metrics` will be empty until you train or evaluate the model.\n"
     ]
    },
    {
     "name": "stdout",
     "output_type": "stream",
     "text": [
      "mtd_ai\n",
      "Trial_ 4\n",
      "all_features_CompleteTopologyShuffle\n",
      "On Mac\n",
      "Static_factor 2000\n",
      "MTD Scheme [<class 'mtdnetwork.mtd.completetopologyshuffle.CompleteTopologyShuffle'>]\n",
      "Action size(include zero which is no deployment) 2\n"
     ]
    },
    {
     "name": "stderr",
     "output_type": "stream",
     "text": [
      "Compiled the loaded model, but the compiled metrics have yet to be built. `model.compile_metrics` will be empty until you train or evaluate the model.\n"
     ]
    },
    {
     "name": "stdout",
     "output_type": "stream",
     "text": [
      "mtd_ai\n",
      "Trial_ 5\n",
      "all_features_CompleteTopologyShuffle\n",
      "On Mac\n",
      "Static_factor 2000\n",
      "MTD Scheme [<class 'mtdnetwork.mtd.completetopologyshuffle.CompleteTopologyShuffle'>]\n",
      "Action size(include zero which is no deployment) 2\n"
     ]
    },
    {
     "name": "stderr",
     "output_type": "stream",
     "text": [
      "Compiled the loaded model, but the compiled metrics have yet to be built. `model.compile_metrics` will be empty until you train or evaluate the model.\n"
     ]
    },
    {
     "name": "stdout",
     "output_type": "stream",
     "text": [
      "mtd_ai\n",
      "Trial_ 6\n",
      "all_features_CompleteTopologyShuffle\n",
      "On Mac\n",
      "Static_factor 2000\n",
      "MTD Scheme [<class 'mtdnetwork.mtd.completetopologyshuffle.CompleteTopologyShuffle'>]\n",
      "Action size(include zero which is no deployment) 2\n"
     ]
    },
    {
     "name": "stderr",
     "output_type": "stream",
     "text": [
      "Compiled the loaded model, but the compiled metrics have yet to be built. `model.compile_metrics` will be empty until you train or evaluate the model.\n"
     ]
    },
    {
     "name": "stdout",
     "output_type": "stream",
     "text": [
      "mtd_ai\n",
      "Trial_ 7\n",
      "all_features_CompleteTopologyShuffle\n",
      "On Mac\n",
      "Static_factor 2000\n",
      "MTD Scheme [<class 'mtdnetwork.mtd.completetopologyshuffle.CompleteTopologyShuffle'>]\n",
      "Action size(include zero which is no deployment) 2\n"
     ]
    },
    {
     "name": "stderr",
     "output_type": "stream",
     "text": [
      "Compiled the loaded model, but the compiled metrics have yet to be built. `model.compile_metrics` will be empty until you train or evaluate the model.\n"
     ]
    },
    {
     "name": "stdout",
     "output_type": "stream",
     "text": [
      "mtd_ai\n",
      "Trial_ 8\n",
      "all_features_CompleteTopologyShuffle\n",
      "On Mac\n",
      "Static_factor 2000\n",
      "MTD Scheme [<class 'mtdnetwork.mtd.completetopologyshuffle.CompleteTopologyShuffle'>]\n",
      "Action size(include zero which is no deployment) 2\n"
     ]
    }
   ],
   "source": [
    "metric = \"all_features\"\n",
    "models = [\n",
    "    metric,\n",
    "    f\"{metric}_CompleteTopologyShuffle\",\n",
    "    f\"{metric}_IPShuffle\",\n",
    "    f\"{metric}_OSDiversity\",\n",
    "    f\"{metric}_ServiceDiversity\"\n",
    "]\n",
    "\n",
    "mtd_strategies_dict = {\n",
    "    'CompleteTopologyShuffle': CompleteTopologyShuffle,\n",
    "    'IPShuffle': IPShuffle,\n",
    "    'OSDiversity': OSDiversity,\n",
    "    'ServiceDiversity': ServiceDiversity\n",
    "}\n",
    "\n",
    "for model in models:\n",
    "    # Extract strategy from model string\n",
    "    strategy_name = model.split('_')[-1]\n",
    "    \n",
    "    # Find corresponding MTD strategy\n",
    "    mtd_strategy = mtd_strategies_dict.get(strategy_name, None)\n",
    "    \n",
    "    if not mtd_strategy:\n",
    "        print(f\"Strategy {strategy_name} not found in mtd_strategies_dict.\")\n",
    "        continue\n",
    "    \n",
    "    print(f\"Running model: {model} with strategy: {strategy_name}\")\n",
    "    \n",
    "    # Create Experiment instance with the MTD strategy\n",
    "    result = Experiment(epsilon, start_time, finish_time, mtd_interval, network_size, total_nodes, new_network, model, trial, result_head_path, mtd_strategies=[mtd_strategy])\n",
    "    \n",
    "    # Run trials\n",
    "    result.run_trials(model)"
   ]
  },
  {
   "cell_type": "code",
   "execution_count": null,
   "metadata": {},
   "outputs": [],
   "source": []
  }
 ],
 "metadata": {
  "kernelspec": {
   "display_name": ".venv",
   "language": "python",
   "name": "python3"
  },
  "language_info": {
   "codemirror_mode": {
    "name": "ipython",
    "version": 3
   },
   "file_extension": ".py",
   "mimetype": "text/x-python",
   "name": "python",
   "nbconvert_exporter": "python",
   "pygments_lexer": "ipython3",
   "version": "3.11.4"
  }
 },
 "nbformat": 4,
 "nbformat_minor": 2
}
