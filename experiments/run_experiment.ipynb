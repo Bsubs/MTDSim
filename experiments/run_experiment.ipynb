{
 "cells": [
  {
   "cell_type": "code",
   "execution_count": 3,
   "metadata": {},
   "outputs": [],
   "source": [
    "import os\n",
    "import sys\n",
    "current_directory = os.getcwd()\n",
    "if not os.path.exists(current_directory + '\\\\experimental_data'):\n",
    "    os.makedirs(current_directory + '\\\\experimental_data')\n",
    "    os.makedirs(current_directory + '\\\\experimental_data\\\\plots')\n",
    "    os.makedirs(current_directory + '\\\\experimental_data\\\\results')\n",
    "sys.path.append(current_directory.replace('experiments', ''))\n",
    "import warnings\n",
    "import matplotlib.pyplot as plt\n",
    "warnings.filterwarnings(\"ignore\")\n",
    "plt.set_loglevel('WARNING')\n",
    "from run import execute_simulation, create_experiment_snapshots, execute_ai_model, single_mtd_simulation, mtd_ai_simulation, multiple_mtd_simulation, specific_multiple_mtd_simulation\n",
    "from mtdnetwork.mtd.completetopologyshuffle import CompleteTopologyShuffle\n",
    "from mtdnetwork.mtd.ipshuffle import IPShuffle\n",
    "from mtdnetwork.mtd.hosttopologyshuffle import HostTopologyShuffle\n",
    "from mtdnetwork.mtd.portshuffle import PortShuffle\n",
    "from mtdnetwork.mtd.osdiversity import OSDiversity\n",
    "from mtdnetwork.mtd.servicediversity import ServiceDiversity\n",
    "from mtdnetwork.mtd.usershuffle import UserShuffle\n",
    "from mtdnetwork.mtd.osdiversityassignment import OSDiversityAssignment\n",
    "import logging\n",
    "import pandas as pd\n",
    "import numpy as np\n",
    "from math import pi\n",
    "import matplotlib.pyplot as plt\n",
    "from run_experiment import Experiment\n",
    "\n",
    "logging.basicConfig(format='%(message)s', level=logging.INFO)"
   ]
  },
  {
   "cell_type": "code",
   "execution_count": 4,
   "metadata": {},
   "outputs": [],
   "source": [
    "# Learning Parameters\n",
    "epsilon = 1.0  # exploration rate\n",
    "\n",
    "# Simulator Settings\n",
    "start_time = 0\n",
    "finish_time = 15000\n",
    "mtd_interval = [200]\n",
    "\n",
    "network_size = [150]\n",
    "total_nodes = 150\n",
    "new_network = True\n",
    "\n",
    "trial = 1500\n",
    "\n",
    "mtd_strategies = [\n",
    "    CompleteTopologyShuffle,\n",
    "    # HostTopologyShuffle,\n",
    "    IPShuffle,\n",
    "    OSDiversity,\n",
    "    # PortShuffle,\n",
    "    # OSDiversityAssignment,\n",
    "    ServiceDiversity,\n",
    "    # UserShuffle\n",
    "]\n",
    "\n",
    "result_head_path = '/Users/williamho/Documents/GitHub/MTDSim'\n",
    "static_degrade_factor = 2000\n",
    "\n"
   ]
  },
  {
   "cell_type": "code",
   "execution_count": 5,
   "metadata": {},
   "outputs": [],
   "source": [
    "# result = Experiment(epsilon, start_time, finish_time, mtd_interval, network_size,total_nodes, new_network, \"all_features\", trial,result_head_path)\n",
    "# result.raw_result_stats_pipeline('nomtd',run_trial = True, stats_type = 'median')\n",
    "# for scheme in result.schemes:\n",
    "#     result.raw_result_stats_pipeline(scheme,run_trial = True, stats_type = 'median')"
   ]
  },
  {
   "cell_type": "code",
   "execution_count": 8,
   "metadata": {},
   "outputs": [
    {
     "name": "stdout",
     "output_type": "stream",
     "text": [
      "Trial_ 0\n",
      "nomtd\n"
     ]
    },
    {
     "ename": "EOFError",
     "evalue": "Ran out of input",
     "output_type": "error",
     "traceback": [
      "\u001b[0;31m---------------------------------------------------------------------------\u001b[0m",
      "\u001b[0;31mEOFError\u001b[0m                                  Traceback (most recent call last)",
      "Cell \u001b[0;32mIn[8], line 4\u001b[0m\n\u001b[1;32m      1\u001b[0m model \u001b[39m=\u001b[39m \u001b[39m\"\u001b[39m\u001b[39mnomtd\u001b[39m\u001b[39m\"\u001b[39m\n\u001b[1;32m      2\u001b[0m result \u001b[39m=\u001b[39m Experiment(model,epsilon, start_time, finish_time, mtd_interval, network_size,total_nodes, new_network, model, trial, result_head_path, mtd_strategies\u001b[39m=\u001b[39mmtd_strategies, static_degrade_factor\u001b[39m=\u001b[39mstatic_degrade_factor)\n\u001b[0;32m----> 4\u001b[0m result\u001b[39m.\u001b[39mrun_trials(model)\n",
      "File \u001b[0;32m~/Documents/GitHub/MTDSim/experiments/run_experiment.py:97\u001b[0m, in \u001b[0;36mExperiment.run_trials\u001b[0;34m(self, scheme)\u001b[0m\n\u001b[1;32m     95\u001b[0m \u001b[39mprint\u001b[39m(scheme)\n\u001b[1;32m     96\u001b[0m \u001b[39mif\u001b[39;00m scheme \u001b[39m==\u001b[39m \u001b[39m'\u001b[39m\u001b[39mnomtd\u001b[39m\u001b[39m'\u001b[39m:\n\u001b[0;32m---> 97\u001b[0m     mtd \u001b[39m=\u001b[39m single_mtd_simulation(\u001b[39m\"\u001b[39m\u001b[39mnomtd\u001b[39m\u001b[39m\"\u001b[39m, [\u001b[39mNone\u001b[39;00m], \n\u001b[1;32m     98\u001b[0m                                              mtd_interval\u001b[39m=\u001b[39m\u001b[39mself\u001b[39m\u001b[39m.\u001b[39mmtd_interval,network_size\u001b[39m=\u001b[39m\u001b[39mself\u001b[39m\u001b[39m.\u001b[39mnetwork_size) \n\u001b[1;32m     99\u001b[0m \u001b[39melif\u001b[39;00m scheme \u001b[39m==\u001b[39m \u001b[39mself\u001b[39m\u001b[39m.\u001b[39mmodel:\n\u001b[1;32m    101\u001b[0m     mtd \u001b[39m=\u001b[39m mtd_ai_simulation(\u001b[39mself\u001b[39m\u001b[39m.\u001b[39mfeatures,\u001b[39mself\u001b[39m\u001b[39m.\u001b[39mmodel, \u001b[39mself\u001b[39m\u001b[39m.\u001b[39mmodel_path, \u001b[39mself\u001b[39m\u001b[39m.\u001b[39mstart_time, \u001b[39mself\u001b[39m\u001b[39m.\u001b[39mfinish_time, \u001b[39mself\u001b[39m\u001b[39m.\u001b[39mtotal_nodes, new_network \u001b[39m=\u001b[39m \u001b[39mself\u001b[39m\u001b[39m.\u001b[39mnew_network, \n\u001b[1;32m    102\u001b[0m                                                 mtd_interval\u001b[39m=\u001b[39m\u001b[39mself\u001b[39m\u001b[39m.\u001b[39mmtd_interval,network_size\u001b[39m=\u001b[39m\u001b[39mself\u001b[39m\u001b[39m.\u001b[39mnetwork_size ,custom_strategies\u001b[39m=\u001b[39m\u001b[39mself\u001b[39m\u001b[39m.\u001b[39mmtd_strategies, static_degrade_factor \u001b[39m=\u001b[39m \u001b[39mself\u001b[39m\u001b[39m.\u001b[39mstatic_degrade_factor)  \n",
      "File \u001b[0;32m~/Documents/GitHub/MTDSim/experiments/run.py:175\u001b[0m, in \u001b[0;36msingle_mtd_simulation\u001b[0;34m(file_name, mtd_strategies, checkpoint, mtd_interval, network_size)\u001b[0m\n\u001b[1;32m    173\u001b[0m \u001b[39mfor\u001b[39;00m mtd_interval \u001b[39min\u001b[39;00m mtd_interval:\n\u001b[1;32m    174\u001b[0m     \u001b[39mfor\u001b[39;00m network_size \u001b[39min\u001b[39;00m network_size:\n\u001b[0;32m--> 175\u001b[0m         evaluation \u001b[39m=\u001b[39m execute_simulation(scheme\u001b[39m=\u001b[39mscheme, mtd_interval\u001b[39m=\u001b[39mmtd_interval,\n\u001b[1;32m    176\u001b[0m                                         custom_strategies\u001b[39m=\u001b[39mmtd, total_nodes\u001b[39m=\u001b[39mnetwork_size)\n\u001b[1;32m    177\u001b[0m         \u001b[39m# if checkpoint != 'None':\u001b[39;00m\n\u001b[1;32m    178\u001b[0m         \u001b[39m#     evaluation_results = evaluation.evaluation_result_by_compromise_checkpoint(checkpoint)\u001b[39;00m\n\u001b[1;32m    179\u001b[0m         \u001b[39m# else:\u001b[39;00m\n\u001b[1;32m    180\u001b[0m         \u001b[39m#     evaluation_results = evaluation.evaluation_result_by_compromise_checkpoint()\u001b[39;00m\n\u001b[1;32m    181\u001b[0m         evaluation_results \u001b[39m=\u001b[39m evaluation\u001b[39m.\u001b[39mevaluation_result_by_compromise_checkpoint([\u001b[39m0.05\u001b[39m, \u001b[39m0.1\u001b[39m, \u001b[39m0.15\u001b[39m, \u001b[39m0.2\u001b[39m, \u001b[39m0.25\u001b[39m])\n",
      "File \u001b[0;32m~/Documents/GitHub/MTDSim/experiments/run.py:330\u001b[0m, in \u001b[0;36mexecute_simulation\u001b[0;34m(start_time, finish_time, scheme, mtd_interval, custom_strategies, checkpoints, total_nodes, total_endpoints, total_subnets, total_layers, target_layer, total_database, terminate_compromise_ratio, new_network)\u001b[0m\n\u001b[1;32m    328\u001b[0m \u001b[39melif\u001b[39;00m \u001b[39mnot\u001b[39;00m new_network:\n\u001b[1;32m    329\u001b[0m     \u001b[39mtry\u001b[39;00m:\n\u001b[0;32m--> 330\u001b[0m         time_network, adversary \u001b[39m=\u001b[39m snapshot_checkpoint\u001b[39m.\u001b[39mload_snapshots_by_network_size(total_nodes)\n\u001b[1;32m    331\u001b[0m     \u001b[39mexcept\u001b[39;00m \u001b[39mFileNotFoundError\u001b[39;00m:\n\u001b[1;32m    332\u001b[0m         \u001b[39mprint\u001b[39m(\u001b[39m'\u001b[39m\u001b[39mset new_network=True\u001b[39m\u001b[39m'\u001b[39m)\n",
      "File \u001b[0;32m~/Documents/GitHub/MTDSim/mtdnetwork/snapshot/snapshot_checkpoint.py:42\u001b[0m, in \u001b[0;36mSnapshotCheckpoint.load_snapshots_by_network_size\u001b[0;34m(size)\u001b[0m\n\u001b[1;32m     40\u001b[0m \u001b[39m@staticmethod\u001b[39m\n\u001b[1;32m     41\u001b[0m \u001b[39mdef\u001b[39;00m \u001b[39mload_snapshots_by_network_size\u001b[39m(size):\n\u001b[0;32m---> 42\u001b[0m     time_network \u001b[39m=\u001b[39m NetworkSnapshot()\u001b[39m.\u001b[39mload_network(\u001b[39mstr\u001b[39m(size)\u001b[39m+\u001b[39m\u001b[39m'\u001b[39m\u001b[39mn\u001b[39m\u001b[39m'\u001b[39m)\n\u001b[1;32m     43\u001b[0m     adversary \u001b[39m=\u001b[39m AdversarySnapshot()\u001b[39m.\u001b[39mload_adversary(\u001b[39mstr\u001b[39m(size)\u001b[39m+\u001b[39m\u001b[39m'\u001b[39m\u001b[39mn\u001b[39m\u001b[39m'\u001b[39m)\n\u001b[1;32m     44\u001b[0m     \u001b[39mreturn\u001b[39;00m time_network, adversary\n",
      "File \u001b[0;32m~/Documents/GitHub/MTDSim/mtdnetwork/snapshot/network_snapshot.py:20\u001b[0m, in \u001b[0;36mNetworkSnapshot.load_network\u001b[0;34m(self, suffix)\u001b[0m\n\u001b[1;32m     18\u001b[0m file_name \u001b[39m=\u001b[39m \u001b[39mself\u001b[39m\u001b[39m.\u001b[39mget_file_by_suffix(\u001b[39m'\u001b[39m\u001b[39mnetwork\u001b[39m\u001b[39m'\u001b[39m, suffix)\n\u001b[1;32m     19\u001b[0m \u001b[39mwith\u001b[39;00m \u001b[39mopen\u001b[39m(file_name, \u001b[39m'\u001b[39m\u001b[39mrb\u001b[39m\u001b[39m'\u001b[39m) \u001b[39mas\u001b[39;00m f:\n\u001b[0;32m---> 20\u001b[0m     network \u001b[39m=\u001b[39m pickle\u001b[39m.\u001b[39mload(f)\n\u001b[1;32m     21\u001b[0m     \u001b[39mreturn\u001b[39;00m network\n",
      "\u001b[0;31mEOFError\u001b[0m: Ran out of input"
     ]
    }
   ],
   "source": [
    "model = \"nomtd\"\n",
    "result = Experiment(model,epsilon, start_time, finish_time, mtd_interval, network_size,total_nodes, new_network, model, trial, result_head_path, mtd_strategies=mtd_strategies, static_degrade_factor=static_degrade_factor)\n",
    "\n",
    "result.run_trials(model)\n"
   ]
  },
  {
   "cell_type": "code",
   "execution_count": null,
   "metadata": {},
   "outputs": [],
   "source": [
    "\n",
    "# static_features = [\"host_compromise_ratio\", \"total_number_of_ports\", \"attack_path_exposure\",  \"overall_asr_avg\", \"roa\", \"shortest_path_variability\", \"risk\"]\n",
    "# time_features = [\"mtd_freq\", \"overall_mttc_avg\", \"time_since_last_mtd\"]\n",
    "\n",
    "# features = static_features + time_features\n",
    "# for model in features:\n",
    "\n",
    "#     print(model)\n",
    "#     result = Experiment(model, epsilon, start_time, finish_time, mtd_interval, network_size,total_nodes, new_network, model, trial, result_head_path)\n",
    "#     result.run_trials(model)\n",
    "    \n"
   ]
  },
  {
   "cell_type": "code",
   "execution_count": null,
   "metadata": {},
   "outputs": [],
   "source": [
    "# # static_features = [ \"overall_asr_avg\", \"attack_path_exposure\"]\n",
    "# static_features = []\n",
    "# time_features = [\"overall_mttc_avg\"]\n",
    "# metrics =  static_features + time_features\n",
    "\n",
    "\n",
    "# for metric in metrics:\n",
    "#     models = [\n",
    "#         f\"{metric}\",\n",
    "#         # f\"{metric}_CompleteTopologyShuffle\",\n",
    "#         # f\"{metric}_IPShuffle\",\n",
    "#         # f\"{metric}_OSDiversity\",\n",
    "#         # f\"{metric}_ServiceDiversity\"\n",
    "#     ]\n",
    "\n",
    "#     mtd_strategies_dict = {\n",
    "#         'CompleteTopologyShuffle': CompleteTopologyShuffle,\n",
    "#         'IPShuffle': IPShuffle,\n",
    "#         'OSDiversity': OSDiversity,\n",
    "#         'ServiceDiversity': ServiceDiversity\n",
    "#     }\n",
    "\n",
    "#     for model in models:\n",
    "#         # Extract strategy from model string\n",
    "#         strategy_name = model.split('_')[-1]\n",
    "        \n",
    "#         # Find corresponding MTD strategy\n",
    "#         mtd_strategy = mtd_strategies_dict.get(strategy_name, None)\n",
    "        \n",
    "#         if not mtd_strategy:\n",
    "#             print(f\"Strategy {strategy_name} not found in mtd_strategies_dict.\")\n",
    "#             continue\n",
    "        \n",
    "#         print(f\"Running model: {model} with strategy: {strategy_name}\")\n",
    "        \n",
    "#         # Create Experiment instance with the MTD strategy\n",
    "#         result = Experiment(epsilon, start_time, finish_time, mtd_interval, network_size, total_nodes, new_network, model, trial, result_head_path, mtd_strategies=[mtd_strategy])\n",
    "        \n",
    "#         # Run trials\n",
    "#         result.run_trials(model)"
   ]
  },
  {
   "cell_type": "code",
   "execution_count": null,
   "metadata": {},
   "outputs": [],
   "source": []
  }
 ],
 "metadata": {
  "kernelspec": {
   "display_name": ".venv",
   "language": "python",
   "name": "python3"
  },
  "language_info": {
   "codemirror_mode": {
    "name": "ipython",
    "version": 3
   },
   "file_extension": ".py",
   "mimetype": "text/x-python",
   "name": "python",
   "nbconvert_exporter": "python",
   "pygments_lexer": "ipython3",
   "version": "3.11.4"
  }
 },
 "nbformat": 4,
 "nbformat_minor": 2
}
