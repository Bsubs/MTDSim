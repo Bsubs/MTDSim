{
 "cells": [
  {
   "cell_type": "code",
   "execution_count": null,
   "metadata": {},
   "outputs": [],
   "source": [
    "from run_experiment import Experiment\n",
    "from radar_plots import RadarPlot\n",
    "import os\n",
    "import sys\n",
    "current_directory = os.getcwd()\n",
    "if not os.path.exists(current_directory + '\\\\experimental_data'):\n",
    "    os.makedirs(current_directory + '\\\\experimental_data')\n",
    "    os.makedirs(current_directory + '\\\\experimental_data\\\\plots')\n",
    "    os.makedirs(current_directory + '\\\\experimental_data\\\\results')\n",
    "sys.path.append(current_directory.replace('experiments', ''))\n",
    "import warnings\n",
    "import matplotlib.pyplot as plt\n",
    "warnings.filterwarnings(\"ignore\")\n",
    "plt.set_loglevel('WARNING')\n",
    "from run import execute_simulation, create_experiment_snapshots, execute_ai_model, single_mtd_simulation, mtd_ai_simulation, multiple_mtd_simulation, specific_multiple_mtd_simulation\n",
    "from mtdnetwork.mtd.completetopologyshuffle import CompleteTopologyShuffle\n",
    "from mtdnetwork.mtd.ipshuffle import IPShuffle\n",
    "from mtdnetwork.mtd.hosttopologyshuffle import HostTopologyShuffle\n",
    "from mtdnetwork.mtd.portshuffle import PortShuffle\n",
    "from mtdnetwork.mtd.osdiversity import OSDiversity\n",
    "from mtdnetwork.mtd.servicediversity import ServiceDiversity\n",
    "from mtdnetwork.mtd.usershuffle import UserShuffle\n",
    "from mtdnetwork.mtd.osdiversityassignment import OSDiversityAssignment\n",
    "import logging\n",
    "import pandas as pd\n",
    "import numpy as np\n",
    "from math import pi\n",
    "import matplotlib.pyplot as plt\n",
    "\n",
    "logging.basicConfig(format='%(message)s', level=logging.INFO)"
   ]
  },
  {
   "cell_type": "code",
   "execution_count": null,
   "metadata": {},
   "outputs": [],
   "source": [
    "# Learning Parameters\n",
    "epsilon = 1.0  # exploration rate\n",
    "\n",
    "# Simulator Settings\n",
    "start_time = 0\n",
    "finish_time = 15000\n",
    "mtd_interval = [200]\n",
    "network_size = [150]\n",
    "total_nodes = 150\n",
    "new_network = True\n",
    "\n",
    "trial = 500\n",
    "\n",
    "\n",
    "mtd_strategies = [\n",
    "    CompleteTopologyShuffle,\n",
    "    # HostTopologyShuffle,\n",
    "    IPShuffle,\n",
    "    OSDiversity,\n",
    "    # PortShuffle,\n",
    "    # OSDiversityAssignment,\n",
    "    ServiceDiversity,\n",
    "    # UserShuffle\n",
    "]\n",
    "\n",
    "result_head_path = '/Users/williamho/Documents/GitHub/MTDSim'\n",
    "\n",
    "static_features = [\"host_compromise_ratio\", \"exposed_endpoints\", \"attack_path_exposure\",  \"overall_asr_avg\", \"roa\", \"shortest_path_variability\", \"risk\"]\n",
    "time_features = [\"mtd_freq\", \"overall_mttc_avg\", \"time_since_last_mtd\"]\n",
    "metrics = static_features + time_features\n",
    "\n",
    "\n",
    "# metric = \"all_features\"\n",
    "# metric2 = \"attack_path_exposure\"\n",
    "# metric3 = \"overall_asr_avg\"\n",
    "# models = [\n",
    "#     metric2,\n",
    "#     f\"{metric2}_CompleteTopologyShuffle\",\n",
    "#     f\"{metric2}_IPShuffle\",\n",
    "#     f\"{metric2}_OSDiversity\",\n",
    "#     f\"{metric2}_ServiceDiversity\"\n",
    "# ] \n",
    "\n"
   ]
  },
  {
   "cell_type": "code",
   "execution_count": null,
   "metadata": {},
   "outputs": [],
   "source": [
    "radar = RadarPlot(epsilon, start_time, finish_time, mtd_interval, network_size,total_nodes, new_network,  \"other_scheme\", trial, result_head_path)\n",
    "schemes_data = pd.DataFrame(radar.multiple_scaled_pipeline([\"random\", \"alternative\", \"simultaneous\"],run_trial = False)).T.drop(columns=['MEF', 'host_compromise_ratio','network_size', 'exposed_endpoints', \"mtd_interval\", 'shortest_path_variability'], axis = 1).T.to_dict()\n",
    "print(schemes_data)\n",
    "radar.plot_n_schemes(schemes_data)"
   ]
  },
  {
   "cell_type": "code",
   "execution_count": null,
   "metadata": {},
   "outputs": [],
   "source": [
    "for metric in metrics:\n",
    "    models = [\n",
    "        metric,\n",
    "        f\"{metric}_CompleteTopologyShuffle\",\n",
    "        f\"{metric}_IPShuffle\",\n",
    "        f\"{metric}_OSDiversity\",\n",
    "        f\"{metric}_ServiceDiversity\"\n",
    "    ]\n",
    "    for model in models:\n",
    "\n",
    "        print(model)\n",
    "        radar = RadarPlot(metric,epsilon, start_time, finish_time, mtd_interval, network_size,total_nodes, new_network,  model, trial, result_head_path)\n",
    "        schemes_data = pd.DataFrame(radar.multiple_scaled_pipeline([model, \"simultaneous\"],run_trial = False)).T.drop(columns=['MEF', 'host_compromise_ratio', 'network_size', 'exposed_endpoints', \"mtd_interval\", 'shortest_path_variability'], axis = 1).T.to_dict()\n",
    "        # schemes_data = pd.DataFrame(radar.multiple_scaled_pipeline([model, 'random', 'alternative', \"simultaneous\"],run_trial = False)).to_dict()\n",
    "        print(schemes_data)\n",
    "        radar.plot_n_schemes(schemes_data)\n",
    " "
   ]
  },
  {
   "cell_type": "code",
   "execution_count": null,
   "metadata": {},
   "outputs": [],
   "source": [
    "\n",
    "radar = RadarPlot(metric, epsilon, start_time, finish_time, mtd_interval, network_size,total_nodes, new_network,  \"overview\", trial, result_head_path)\n",
    "schemes_data = pd.DataFrame(radar.multiple_scaled_pipeline(models,run_trial = False)).T.drop(columns=[ 'host_compromise_ratio', 'network_size', 'exposed_endpoints', \"mtd_interval\", \"shortest_path_variability\", \"MEF\"], axis = 1).T.to_dict()\n",
    "print(schemes_data)\n",
    "radar.plot_n_schemes(schemes_data)"
   ]
  },
  {
   "cell_type": "code",
   "execution_count": null,
   "metadata": {},
   "outputs": [],
   "source": [
    "# import pandas as pd\n",
    "# from tabulate import tabulate\n",
    "\n",
    "# # Define the data for the table with full feature names\n",
    "# data = {\n",
    "#     \"Metric v.s. MTD\": [\n",
    "#         \"All features\",\n",
    "#         \"Host Compromise Ratio (HCR)\",\n",
    "#         \"Exposed Endpoints (EE)\",\n",
    "#         \"Attack Path Exposure (APE)\",\n",
    "#         \"Attack Success Rate (ASR)\",\n",
    "#         \"Return on Attack (ROA)\",\n",
    "#         \"Shortest Path Variability (SPV)\",\n",
    "#         \"Risk (RISK)\",\n",
    "#         \"MTD Execution Time (MEF)\",\n",
    "#         \"Mean Time to Compromise (MTTC)\",\n",
    "#         \"Time Since Last MTD (TSLM)\"\n",
    "#     ],\n",
    "#     \"All MTD\": [\"/\", \"/\", \"/\", \"/\", \"/\", \"/\", \"/\", \"/\", \"/\", \"/\", \"/\"],\n",
    "#     \"CompleteTopologyShuffle\": [\"/\", \"/\", \"/\", \"/\", \"/\", \"/\", \"/\", \"/\", \"/\", \"/\", \"/\"],\n",
    "#     \"IPShuffle\": [\"/\", \"/\", \"/\", \"/\", \"/\", \"/\", \"/\", \"/\", \"/\", \"/\", \"/\"],\n",
    "#     \"OSDiversity\": [\"/\", \"/\", \"/\", \"/\", \"/\", \"/\", \"/\", \"/\", \"/\", \"/\", \"/\"],\n",
    "#     \"ServiceDiversity\": [\"/\", \"/\", \"/\", \"/\", \"/\", \"/\", \"/\", \"/\", \"/\", \"/\", \"/\"]\n",
    "# }\n",
    "\n",
    "# # Create a DataFrame\n",
    "# df = pd.DataFrame(data)\n",
    "\n",
    "# # Print the table\n",
    "# print(tabulate(df, headers='keys', tablefmt='pretty', showindex=False))\n"
   ]
  },
  {
   "cell_type": "code",
   "execution_count": null,
   "metadata": {},
   "outputs": [],
   "source": [
    "models"
   ]
  },
  {
   "cell_type": "code",
   "execution_count": null,
   "metadata": {},
   "outputs": [],
   "source": [
    "from stacked_plots import StackedBarChart\n",
    "\n",
    "# Initialize and plot\n",
    "chart = StackedBarChart(epsilon, start_time, finish_time, mtd_interval, network_size,total_nodes, new_network,  \"Overview\", trial, result_head_path)\n",
    "weights = {'ASR': 1, 'time_to_compromise': 1, 'attack_path_exposure': 1, \"ROA\": 1, \"risk\": 1}  # Custom weights\n",
    "chart.plot_n_schemes(schemes_data, weights)"
   ]
  },
  {
   "cell_type": "code",
   "execution_count": null,
   "metadata": {},
   "outputs": [],
   "source": [
    "chart.weighted_data"
   ]
  },
  {
   "cell_type": "code",
   "execution_count": null,
   "metadata": {},
   "outputs": [],
   "source": [
    "chart.weighted_data[noralization].sort_values()"
   ]
  },
  {
   "cell_type": "code",
   "execution_count": null,
   "metadata": {},
   "outputs": [],
   "source": [
    "chart.normalized_chart(\"minmax\")\n"
   ]
  },
  {
   "cell_type": "code",
   "execution_count": null,
   "metadata": {},
   "outputs": [],
   "source": []
  }
 ],
 "metadata": {
  "kernelspec": {
   "display_name": ".venv",
   "language": "python",
   "name": "python3"
  },
  "language_info": {
   "codemirror_mode": {
    "name": "ipython",
    "version": 3
   },
   "file_extension": ".py",
   "mimetype": "text/x-python",
   "name": "python",
   "nbconvert_exporter": "python",
   "pygments_lexer": "ipython3",
   "version": "3.11.4"
  }
 },
 "nbformat": 4,
 "nbformat_minor": 2
}
