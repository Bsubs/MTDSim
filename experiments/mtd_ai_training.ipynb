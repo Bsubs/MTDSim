{
 "cells": [
  {
   "cell_type": "code",
   "execution_count": 1,
   "metadata": {},
   "outputs": [],
   "source": [
    "import os\n",
    "import sys\n",
    "current_directory = os.getcwd()\n",
    "if not os.path.exists(current_directory + '\\\\experimental_data'):\n",
    "    os.makedirs(current_directory + '\\\\experimental_data')\n",
    "    os.makedirs(current_directory + '\\\\experimental_data\\\\plots')\n",
    "    os.makedirs(current_directory + '\\\\experimental_data\\\\results')\n",
    "sys.path.append(current_directory.replace('experiments', ''))\n",
    "import warnings\n",
    "import matplotlib.pyplot as plt\n",
    "warnings.filterwarnings(\"ignore\")\n",
    "plt.set_loglevel('WARNING')\n",
    "from run import execute_simulation, create_experiment_snapshots, execute_ai_training\n",
    "from mtdnetwork.mtd.completetopologyshuffle import CompleteTopologyShuffle\n",
    "from mtdnetwork.mtd.ipshuffle import IPShuffle\n",
    "from mtdnetwork.mtd.hosttopologyshuffle import HostTopologyShuffle\n",
    "from mtdnetwork.mtd.portshuffle import PortShuffle\n",
    "from mtdnetwork.mtd.osdiversity import OSDiversity\n",
    "from mtdnetwork.mtd.servicediversity import ServiceDiversity\n",
    "from mtdnetwork.mtd.usershuffle import UserShuffle\n",
    "from mtdnetwork.mtd.osdiversityassignment import OSDiversityAssignment\n",
    "import logging\n",
    "\n",
    "logging.basicConfig(format='%(message)s', level=logging.INFO)"
   ]
  },
  {
   "cell_type": "code",
   "execution_count": 2,
   "metadata": {
    "collapsed": false,
    "pycharm": {
     "name": "#%%\n"
    }
   },
   "outputs": [],
   "source": [
    "create_experiment_snapshots([25, 50, 75, 100])"
   ]
  },
  {
   "cell_type": "code",
   "execution_count": 3,
   "metadata": {},
   "outputs": [],
   "source": [
    "# Environment and agent settings\n",
    "state_size = 7  # HCR, Exposed Endpoints, Attack Success Rate, Attack Path Exposure Score, Return on Attack Score, Attack Path Variability, Risk\n",
    "time_series_size = 3  # Time Since Last MTD, MTTC, mtd_freqency\n",
    "action_size = 5  # Deploy or don't deploy MTD technique  \n",
    "\n",
    "# Learning Parameters\n",
    "gamma = 0.95  # discount rate\n",
    "epsilon = 1.0  # exploration rate\n",
    "epsilon_min = 0.01\n",
    "epsilon_decay = 0.995\n",
    "batch_size = 32\n",
    "train_start = 1000\n",
    "episodes = 100\n",
    "\n",
    "# Simulator Settings\n",
    "start_time = 0\n",
    "finish_time = 3000\n",
    "mtd_interval = 200\n",
    "scheme = 'mtd_ai'\n",
    "total_nodes = 100\n",
    "new_network = True"
   ]
  },
  {
   "cell_type": "code",
   "execution_count": 4,
   "metadata": {},
   "outputs": [
    {
     "name": "stderr",
     "output_type": "stream",
     "text": [
      "Static period: 0\n",
      "Action: 0\n",
      "Static period: 0\n",
      "Action: 3\n",
      "MTD: OSDiversity triggered 0.0s\n",
      "Static period: 120.16584655219309\n",
      "Action: 1\n",
      "MTD: OSDiversity triggered 200.2s\n",
      "Static period: 120.65712142858087\n",
      "Action: 1\n",
      "MTD: OSDiversity triggered 401.2s\n",
      "Static period: 119.97850819673897\n",
      "Action: 1\n",
      "MTD: OSDiversity triggered 601.4s\n",
      "Static period: 119.91543728348267\n",
      "Action: 1\n",
      "MTD: CompleteTopologyShuffle triggered 801.4s\n",
      "MTD: Interrupted EXPLOIT_VULN at 921.9s!\n",
      "Static period: 79.59535569545403\n",
      "Action: 2\n",
      "MTD: CompleteTopologyShuffle triggered 1001.5s\n",
      "MTD: Interrupted EXPLOIT_VULN at 1121.8s!\n",
      "Static period: 80.51339970321146\n",
      "Action: 4\n",
      "MTD: CompleteTopologyShuffle triggered 1202.3s\n",
      "MTD: Interrupted EXPLOIT_VULN at 1322.8s!\n",
      "Static period: 79.79714747978028\n",
      "Action: 1\n",
      "MTD: CompleteTopologyShuffle triggered 1402.6s\n",
      "MTD: Interrupted EXPLOIT_VULN at 1522.8s!\n",
      "Static period: 81.03374306708292\n",
      "Action: 4\n",
      "MTD: ServiceDiversity triggered 1603.8s\n",
      "Static period: 129.71752792450638\n",
      "Action: 1\n",
      "MTD: ServiceDiversity triggered 1804.0s\n",
      "Static period: 129.43623215842035\n",
      "Action: 1\n",
      "MTD: ServiceDiversity triggered 2004.6s\n",
      "Static period: 131.12180034177754\n",
      "Action: 1\n",
      "MTD: ServiceDiversity triggered 2205.7s\n",
      "Static period: 130.33346940148112\n",
      "Action: 1\n",
      "MTD: CompleteTopologyShuffle triggered 2406.2s\n",
      "MTD: Interrupted SCAN_PORT at 2527.0s!\n",
      "Static period: 79.48899136971158\n",
      "Action: 2\n",
      "MTD: CompleteTopologyShuffle triggered 2606.5s\n",
      "MTD: Interrupted ENUM_HOST at 2728.3s!\n",
      "Static period: 78.26546057901987\n",
      "Action: 2\n",
      "MTD: CompleteTopologyShuffle triggered 2806.5s\n",
      "MTD: Interrupted EXPLOIT_VULN at 2926.7s!\n"
     ]
    },
    {
     "name": "stdout",
     "output_type": "stream",
     "text": [
      "Episode: 0, Epsilon: 0.995\n",
      "Training completed and model saved.\n"
     ]
    }
   ],
   "source": [
    "execute_ai_training(start_time=start_time, finish_time=finish_time, mtd_interval=mtd_interval, state_size=state_size, time_series_size=time_series_size, action_size=action_size, gamma=gamma, epsilon=epsilon, epsilon_min=epsilon_min, epsilon_decay=epsilon_decay, batch_size=batch_size, train_start=train_start, scheme=scheme, total_nodes=total_nodes, new_network=new_network, episodes=episodes)"
   ]
  },
  {
   "cell_type": "code",
   "execution_count": 5,
   "metadata": {
    "collapsed": false,
    "pycharm": {
     "name": "#%%\n"
    }
   },
   "outputs": [],
   "source": [
    "# evaluation = execute_simulation(start_time=0, finish_time=3000, mtd_interval=200, scheme='random', total_nodes=100, new_network=True)"
   ]
  }
 ],
 "metadata": {
  "kernelspec": {
   "display_name": "Python 3.9.13 ('mtdsimtime')",
   "language": "python",
   "name": "python3"
  },
  "language_info": {
   "codemirror_mode": {
    "name": "ipython",
    "version": 3
   },
   "file_extension": ".py",
   "mimetype": "text/x-python",
   "name": "python",
   "nbconvert_exporter": "python",
   "pygments_lexer": "ipython3",
   "version": "3.11.8"
  },
  "orig_nbformat": 4,
  "vscode": {
   "interpreter": {
    "hash": "9b477274c87fb63319f36b484dd34a6881cb387ce1b14309c24558f54c8e02ea"
   }
  }
 },
 "nbformat": 4,
 "nbformat_minor": 2
}
