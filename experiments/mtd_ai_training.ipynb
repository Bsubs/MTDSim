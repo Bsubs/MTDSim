{
 "cells": [
  {
   "cell_type": "code",
   "execution_count": 1,
   "metadata": {},
   "outputs": [],
   "source": [
    "import os\n",
    "import sys\n",
    "current_directory = os.getcwd()\n",
    "if not os.path.exists(current_directory + '\\\\experimental_data'):\n",
    "    os.makedirs(current_directory + '\\\\experimental_data')\n",
    "    os.makedirs(current_directory + '\\\\experimental_data\\\\plots')\n",
    "    os.makedirs(current_directory + '\\\\experimental_data\\\\results')\n",
    "sys.path.append(current_directory.replace('experiments', ''))\n",
    "import warnings\n",
    "import matplotlib.pyplot as plt\n",
    "warnings.filterwarnings(\"ignore\")\n",
    "plt.set_loglevel('WARNING')\n",
    "from run import execute_simulation, create_experiment_snapshots, execute_ai_training\n",
    "from mtdnetwork.mtd.completetopologyshuffle import CompleteTopologyShuffle\n",
    "from mtdnetwork.mtd.ipshuffle import IPShuffle\n",
    "from mtdnetwork.mtd.hosttopologyshuffle import HostTopologyShuffle\n",
    "from mtdnetwork.mtd.portshuffle import PortShuffle\n",
    "from mtdnetwork.mtd.osdiversity import OSDiversity\n",
    "from mtdnetwork.mtd.servicediversity import ServiceDiversity\n",
    "from mtdnetwork.mtd.usershuffle import UserShuffle\n",
    "from mtdnetwork.mtd.osdiversityassignment import OSDiversityAssignment\n",
    "import logging\n",
    "\n",
    "logging.basicConfig(format='%(message)s', level=logging.INFO)"
   ]
  },
  {
   "cell_type": "code",
   "execution_count": 2,
   "metadata": {
    "collapsed": false,
    "pycharm": {
     "name": "#%%\n"
    }
   },
   "outputs": [],
   "source": [
    "create_experiment_snapshots([25, 50, 75, 100])"
   ]
  },
  {
   "cell_type": "code",
   "execution_count": 3,
   "metadata": {},
   "outputs": [],
   "source": [
    "# Environment and agent settings\n",
    "features = [\"host_compromise_ratio\", \"exposed_endpoints\", \"attack_path_exposure\",  \"overall_asr_avg\", \"roa\", \"shortest_path_variability\", \"risk\"] # HCR, Exposed Endpoints, Attack Success Rate, Attack Path Exposure Score, Return on Attack Score, Attack Path Variability, Risk\n",
    "state_size = len(features)\n",
    "time_series_size = 3  # Time Since Last MTD, MTTC, mtd_freqency\n",
    "action_size = 5  # Deploy or don't deploy MTD technique  \n",
    "\n",
    "# Learning Parameters\n",
    "gamma = 0.95  # discount rate\n",
    "epsilon = 1.0  # exploration rate\n",
    "epsilon_min = 0.01\n",
    "epsilon_decay = 0.995\n",
    "batch_size = 32\n",
    "train_start = 1000\n",
    "episodes = 100\n",
    "\n",
    "# Simulator Settings\n",
    "start_time = 0\n",
    "finish_time = 5000\n",
    "mtd_interval = 200\n",
    "scheme = 'mtd_ai'\n",
    "total_nodes = 100\n",
    "new_network = True\n",
    "\n"
   ]
  },
  {
   "cell_type": "code",
   "execution_count": 4,
   "metadata": {},
   "outputs": [
    {
     "name": "stderr",
     "output_type": "stream",
     "text": [
      "2024-07-28 13:46:11.901669: I metal_plugin/src/device/metal_device.cc:1154] Metal device set to: Apple M2 Pro\n",
      "2024-07-28 13:46:11.901688: I metal_plugin/src/device/metal_device.cc:296] systemMemory: 16.00 GB\n",
      "2024-07-28 13:46:11.901692: I metal_plugin/src/device/metal_device.cc:313] maxCacheSize: 5.33 GB\n",
      "2024-07-28 13:46:11.901721: I tensorflow/core/common_runtime/pluggable_device/pluggable_device_factory.cc:306] Could not identify NUMA node of platform GPU ID 0, defaulting to 0. Your kernel may not have been built with NUMA support.\n",
      "2024-07-28 13:46:11.901737: I tensorflow/core/common_runtime/pluggable_device/pluggable_device_factory.cc:272] Created TensorFlow device (/job:localhost/replica:0/task:0/device:GPU:0 with 0 MB memory) -> physical PluggableDevice (device: 0, name: METAL, pci bus id: <undefined>)\n",
      "MTD: Interrupted SCAN_PORT at 120.5s!\n",
      "MTD: Interrupted EXPLOIT_VULN at 321.7s!\n",
      "MTD: Interrupted SCAN_PORT at 521.9s!\n",
      "MTD: Interrupted EXPLOIT_VULN at 724.9s!\n",
      "MTD: Interrupted EXPLOIT_VULN at 923.4s!\n",
      "MTD: Interrupted EXPLOIT_VULN at 1124.4s!\n",
      "MTD: Interrupted EXPLOIT_VULN at 1325.1s!\n",
      "MTD: Interrupted EXPLOIT_VULN at 1525.0s!\n",
      "MTD: Interrupted SCAN_PORT at 2521.9s!\n",
      "MTD: Interrupted EXPLOIT_VULN at 2718.8s!\n",
      "MTD: Interrupted EXPLOIT_VULN at 2918.6s!\n",
      "MTD: Interrupted EXPLOIT_VULN at 3119.5s!\n",
      "MTD: Interrupted SCAN_PORT at 4923.8s!\n"
     ]
    },
    {
     "name": "stdout",
     "output_type": "stream",
     "text": [
      "Episode: 0, Epsilon: 0.995\n"
     ]
    },
    {
     "name": "stderr",
     "output_type": "stream",
     "text": [
      "MTD: Interrupted EXPLOIT_VULN at 2527.8s!\n",
      "MTD: Interrupted EXPLOIT_VULN at 2727.7s!\n",
      "MTD: Interrupted EXPLOIT_VULN at 2929.0s!\n",
      "MTD: Interrupted SCAN_PORT at 3128.9s!\n",
      "MTD: Interrupted EXPLOIT_VULN at 3318.9s!\n",
      "MTD: Interrupted EXPLOIT_VULN at 3519.4s!\n",
      "MTD: Interrupted ENUM_HOST at 3720.8s!\n",
      "MTD: Interrupted EXPLOIT_VULN at 3921.2s!\n",
      "MTD: Interrupted EXPLOIT_VULN at 4131.5s!\n",
      "MTD: Interrupted EXPLOIT_VULN at 4331.7s!\n",
      "MTD: Interrupted ENUM_HOST at 4532.4s!\n",
      "MTD: Interrupted EXPLOIT_VULN at 4733.4s!\n"
     ]
    },
    {
     "name": "stdout",
     "output_type": "stream",
     "text": [
      "Episode: 1, Epsilon: 0.990025\n"
     ]
    },
    {
     "name": "stderr",
     "output_type": "stream",
     "text": [
      "MTD: Interrupted EXPLOIT_VULN at 912.1s!\n",
      "MTD: Interrupted SCAN_PORT at 1112.8s!\n",
      "MTD: Interrupted SCAN_PORT at 1313.6s!\n",
      "MTD: Interrupted EXPLOIT_VULN at 1513.4s!\n",
      "MTD: Interrupted EXPLOIT_VULN at 1713.4s!\n",
      "MTD: Interrupted SCAN_PORT at 1915.3s!\n",
      "MTD: Interrupted EXPLOIT_VULN at 2115.5s!\n",
      "MTD: Interrupted EXPLOIT_VULN at 2316.4s!\n",
      "MTD: Interrupted EXPLOIT_VULN at 2526.9s!\n",
      "MTD: Interrupted SCAN_PORT at 2728.6s!\n",
      "MTD: Interrupted EXPLOIT_VULN at 2929.5s!\n",
      "MTD: Interrupted ENUM_HOST at 3130.1s!\n",
      "MTD: Interrupted EXPLOIT_VULN at 3330.5s!\n",
      "MTD: Interrupted EXPLOIT_VULN at 3530.5s!\n",
      "MTD: Interrupted EXPLOIT_VULN at 3730.8s!\n",
      "MTD: Interrupted EXPLOIT_VULN at 3930.9s!\n"
     ]
    },
    {
     "name": "stdout",
     "output_type": "stream",
     "text": [
      "Episode: 2, Epsilon: 0.985074875\n"
     ]
    },
    {
     "name": "stderr",
     "output_type": "stream",
     "text": [
      "MTD: Interrupted EXPLOIT_VULN at 3318.7s!\n",
      "MTD: Interrupted SCAN_PORT at 3520.0s!\n",
      "MTD: Interrupted SCAN_PORT at 3719.6s!\n",
      "MTD: Interrupted EXPLOIT_VULN at 3919.6s!\n",
      "MTD: Interrupted BRUTE_FORCE at 4129.5s!\n",
      "MTD: Interrupted SCAN_PORT at 4329.9s!\n",
      "MTD: Interrupted SCAN_PORT at 4530.3s!\n",
      "MTD: Interrupted BRUTE_FORCE at 4730.5s!\n"
     ]
    },
    {
     "name": "stdout",
     "output_type": "stream",
     "text": [
      "Episode: 3, Epsilon: 0.9801495006250001\n"
     ]
    },
    {
     "name": "stderr",
     "output_type": "stream",
     "text": [
      "MTD: Interrupted EXPLOIT_VULN at 912.8s!\n",
      "MTD: Interrupted SCAN_PORT at 1113.2s!\n",
      "MTD: Interrupted SCAN_PORT at 1312.5s!\n",
      "MTD: Interrupted BRUTE_FORCE at 1513.2s!\n",
      "MTD: Interrupted EXPLOIT_VULN at 1713.5s!\n",
      "MTD: Interrupted EXPLOIT_VULN at 1914.6s!\n",
      "MTD: Interrupted EXPLOIT_VULN at 2114.8s!\n",
      "MTD: Interrupted SCAN_PORT at 2315.0s!\n",
      "MTD: Interrupted ENUM_HOST at 2515.9s!\n",
      "MTD: Interrupted EXPLOIT_VULN at 2717.4s!\n",
      "MTD: Interrupted EXPLOIT_VULN at 2918.0s!\n",
      "MTD: Interrupted SCAN_PORT at 3117.2s!\n",
      "MTD: Interrupted EXPLOIT_VULN at 3328.3s!\n",
      "MTD: Interrupted EXPLOIT_VULN at 3528.6s!\n",
      "MTD: Interrupted BRUTE_FORCE at 3730.0s!\n",
      "MTD: Interrupted EXPLOIT_VULN at 3930.5s!\n",
      "MTD: Interrupted EXPLOIT_VULN at 4131.1s!\n",
      "MTD: Interrupted SCAN_PORT at 4331.5s!\n",
      "MTD: Interrupted SCAN_PORT at 4532.0s!\n",
      "MTD: Interrupted EXPLOIT_VULN at 4731.5s!\n",
      "MTD: Interrupted EXPLOIT_VULN at 4921.8s!\n",
      "MTD: Interrupted EXPLOIT_VULN at 110.1s!\n",
      "MTD: Interrupted EXPLOIT_VULN at 310.9s!\n",
      "MTD: Interrupted EXPLOIT_VULN at 511.2s!\n",
      "MTD: Interrupted EXPLOIT_VULN at 712.5s!\n"
     ]
    },
    {
     "name": "stdout",
     "output_type": "stream",
     "text": [
      "Episode: 4, Epsilon: 0.9752487531218751\n"
     ]
    },
    {
     "name": "stderr",
     "output_type": "stream",
     "text": [
      "MTD: Interrupted EXPLOIT_VULN at 2528.5s!\n",
      "MTD: Interrupted EXPLOIT_VULN at 2728.3s!\n",
      "MTD: Interrupted SCAN_PORT at 2928.4s!\n",
      "MTD: Interrupted EXPLOIT_VULN at 3129.8s!\n",
      "MTD: Interrupted EXPLOIT_VULN at 3329.4s!\n"
     ]
    },
    {
     "name": "stdout",
     "output_type": "stream",
     "text": [
      "\u001b[1m1/1\u001b[0m \u001b[32m━━━━━━━━━━━━━━━━━━━━\u001b[0m\u001b[37m\u001b[0m \u001b[1m0s\u001b[0m 283ms/step\n"
     ]
    },
    {
     "name": "stderr",
     "output_type": "stream",
     "text": [
      "2024-07-28 13:46:19.609833: I tensorflow/core/grappler/optimizers/custom_graph_optimizer_registry.cc:117] Plugin optimizer for device_type GPU is enabled.\n",
      "MTD: Interrupted EXPLOIT_VULN at 3532.1s!\n",
      "MTD: Interrupted EXPLOIT_VULN at 3731.2s!\n",
      "MTD: Interrupted EXPLOIT_VULN at 3931.4s!\n"
     ]
    },
    {
     "name": "stdout",
     "output_type": "stream",
     "text": [
      "Episode: 5, Epsilon: 0.9703725093562657\n"
     ]
    },
    {
     "name": "stderr",
     "output_type": "stream",
     "text": [
      "MTD: Interrupted EXPLOIT_VULN at 1724.4s!\n",
      "MTD: Interrupted EXPLOIT_VULN at 1924.9s!\n",
      "MTD: Interrupted SCAN_PORT at 2126.4s!\n",
      "MTD: Interrupted SCAN_PORT at 2325.2s!\n"
     ]
    },
    {
     "name": "stdout",
     "output_type": "stream",
     "text": [
      "\u001b[1m1/1\u001b[0m \u001b[32m━━━━━━━━━━━━━━━━━━━━\u001b[0m\u001b[37m\u001b[0m \u001b[1m0s\u001b[0m 19ms/step\n",
      "\u001b[1m1/1\u001b[0m \u001b[32m━━━━━━━━━━━━━━━━━━━━\u001b[0m\u001b[37m\u001b[0m \u001b[1m0s\u001b[0m 17ms/step\n",
      "Episode: 6, Epsilon: 0.9655206468094844\n",
      "\u001b[1m1/1\u001b[0m \u001b[32m━━━━━━━━━━━━━━━━━━━━\u001b[0m\u001b[37m\u001b[0m \u001b[1m0s\u001b[0m 141ms/step\n",
      "\u001b[1m1/1\u001b[0m \u001b[32m━━━━━━━━━━━━━━━━━━━━\u001b[0m\u001b[37m\u001b[0m \u001b[1m0s\u001b[0m 16ms/step\n"
     ]
    },
    {
     "name": "stderr",
     "output_type": "stream",
     "text": [
      "MTD: Interrupted SCAN_NEIGHBOR at 1723.0s!\n",
      "MTD: Interrupted EXPLOIT_VULN at 1922.9s!\n",
      "MTD: Interrupted SCAN_PORT at 2125.7s!\n",
      "MTD: Interrupted EXPLOIT_VULN at 2325.6s!\n"
     ]
    },
    {
     "name": "stdout",
     "output_type": "stream",
     "text": [
      "\u001b[1m1/1\u001b[0m \u001b[32m━━━━━━━━━━━━━━━━━━━━\u001b[0m\u001b[37m\u001b[0m \u001b[1m0s\u001b[0m 17ms/step\n"
     ]
    },
    {
     "name": "stderr",
     "output_type": "stream",
     "text": [
      "MTD: Interrupted EXPLOIT_VULN at 110.3s!\n",
      "MTD: Interrupted EXPLOIT_VULN at 311.8s!\n"
     ]
    },
    {
     "name": "stdout",
     "output_type": "stream",
     "text": [
      "Episode: 7, Epsilon: 0.960693043575437\n"
     ]
    },
    {
     "name": "stderr",
     "output_type": "stream",
     "text": [
      "MTD: Interrupted EXPLOIT_VULN at 512.8s!\n",
      "MTD: Interrupted EXPLOIT_VULN at 710.9s!\n",
      "MTD: Interrupted EXPLOIT_VULN at 2524.9s!\n"
     ]
    },
    {
     "name": "stdout",
     "output_type": "stream",
     "text": [
      "\u001b[1m1/1\u001b[0m \u001b[32m━━━━━━━━━━━━━━━━━━━━\u001b[0m\u001b[37m\u001b[0m \u001b[1m0s\u001b[0m 18ms/step\n"
     ]
    },
    {
     "name": "stderr",
     "output_type": "stream",
     "text": [
      "MTD: Interrupted EXPLOIT_VULN at 2726.1s!\n",
      "MTD: Interrupted SCAN_PORT at 2926.1s!\n",
      "MTD: Interrupted EXPLOIT_VULN at 3126.4s!\n",
      "MTD: Interrupted EXPLOIT_VULN at 3326.7s!\n",
      "MTD: Interrupted SCAN_PORT at 3527.2s!\n",
      "MTD: Interrupted EXPLOIT_VULN at 3727.6s!\n",
      "MTD: Interrupted EXPLOIT_VULN at 3927.8s!\n",
      "MTD: Interrupted EXPLOIT_VULN at 4921.3s!\n"
     ]
    },
    {
     "name": "stdout",
     "output_type": "stream",
     "text": [
      "Episode: 8, Epsilon: 0.9558895783575597\n",
      "\u001b[1m1/1\u001b[0m \u001b[32m━━━━━━━━━━━━━━━━━━━━\u001b[0m\u001b[37m\u001b[0m \u001b[1m0s\u001b[0m 19ms/step\n",
      "\u001b[1m1/1\u001b[0m \u001b[32m━━━━━━━━━━━━━━━━━━━━\u001b[0m\u001b[37m\u001b[0m \u001b[1m0s\u001b[0m 18ms/step\n",
      "\u001b[1m1/1\u001b[0m \u001b[32m━━━━━━━━━━━━━━━━━━━━\u001b[0m\u001b[37m\u001b[0m \u001b[1m0s\u001b[0m 16ms/step\n"
     ]
    },
    {
     "name": "stderr",
     "output_type": "stream",
     "text": [
      "MTD: Interrupted BRUTE_FORCE at 110.1s!\n",
      "MTD: Interrupted EXPLOIT_VULN at 311.3s!\n",
      "MTD: Interrupted EXPLOIT_VULN at 511.4s!\n",
      "MTD: Interrupted EXPLOIT_VULN at 712.9s!\n"
     ]
    },
    {
     "name": "stdout",
     "output_type": "stream",
     "text": [
      "Episode: 9, Epsilon: 0.9511101304657719\n"
     ]
    },
    {
     "name": "stderr",
     "output_type": "stream",
     "text": [
      "MTD: Interrupted EXPLOIT_VULN at 911.5s!\n",
      "MTD: Interrupted SCAN_PORT at 1113.6s!\n"
     ]
    },
    {
     "name": "stdout",
     "output_type": "stream",
     "text": [
      "\u001b[1m1/1\u001b[0m \u001b[32m━━━━━━━━━━━━━━━━━━━━\u001b[0m\u001b[37m\u001b[0m \u001b[1m0s\u001b[0m 18ms/step\n"
     ]
    },
    {
     "name": "stderr",
     "output_type": "stream",
     "text": [
      "MTD: Interrupted EXPLOIT_VULN at 1314.3s!\n",
      "MTD: Interrupted EXPLOIT_VULN at 1514.6s!\n"
     ]
    },
    {
     "name": "stdout",
     "output_type": "stream",
     "text": [
      "\u001b[1m1/1\u001b[0m \u001b[32m━━━━━━━━━━━━━━━━━━━━\u001b[0m\u001b[37m\u001b[0m \u001b[1m0s\u001b[0m 17ms/step\n"
     ]
    },
    {
     "name": "stderr",
     "output_type": "stream",
     "text": [
      "MTD: Interrupted SCAN_PORT at 2516.6s!\n",
      "MTD: Interrupted BRUTE_FORCE at 2718.8s!\n",
      "MTD: Interrupted EXPLOIT_VULN at 2918.2s!\n",
      "MTD: Interrupted SCAN_PORT at 3117.2s!\n"
     ]
    },
    {
     "name": "stdout",
     "output_type": "stream",
     "text": [
      "\u001b[1m1/1\u001b[0m \u001b[32m━━━━━━━━━━━━━━━━━━━━\u001b[0m\u001b[37m\u001b[0m \u001b[1m0s\u001b[0m 18ms/step\n"
     ]
    },
    {
     "name": "stderr",
     "output_type": "stream",
     "text": [
      "MTD: Interrupted EXPLOIT_VULN at 4931.7s!\n"
     ]
    },
    {
     "name": "stdout",
     "output_type": "stream",
     "text": [
      "Episode: 10, Epsilon: 0.946354579813443\n"
     ]
    },
    {
     "name": "stderr",
     "output_type": "stream",
     "text": [
      "MTD: Interrupted EXPLOIT_VULN at 922.3s!\n",
      "MTD: Interrupted EXPLOIT_VULN at 1121.3s!\n",
      "MTD: Interrupted EXPLOIT_VULN at 1321.8s!\n",
      "MTD: Interrupted EXPLOIT_VULN at 1523.1s!\n",
      "MTD: Interrupted EXPLOIT_VULN at 1723.0s!\n",
      "MTD: Interrupted SCAN_PORT at 1923.5s!\n",
      "MTD: Interrupted EXPLOIT_VULN at 2125.5s!\n",
      "MTD: Interrupted EXPLOIT_VULN at 2324.9s!\n",
      "MTD: Interrupted BRUTE_FORCE at 2515.7s!\n",
      "MTD: Interrupted EXPLOIT_VULN at 2716.4s!\n"
     ]
    },
    {
     "name": "stdout",
     "output_type": "stream",
     "text": [
      "\u001b[1m1/1\u001b[0m \u001b[32m━━━━━━━━━━━━━━━━━━━━\u001b[0m\u001b[37m\u001b[0m \u001b[1m0s\u001b[0m 20ms/step\n"
     ]
    },
    {
     "name": "stderr",
     "output_type": "stream",
     "text": [
      "MTD: Interrupted BRUTE_FORCE at 2917.8s!\n",
      "MTD: Interrupted SCAN_PORT at 3118.3s!\n",
      "MTD: Interrupted EXPLOIT_VULN at 4119.7s!\n",
      "MTD: Interrupted EXPLOIT_VULN at 4319.8s!\n",
      "MTD: Interrupted BRUTE_FORCE at 4520.4s!\n",
      "MTD: Interrupted EXPLOIT_VULN at 4720.4s!\n",
      "MTD: Interrupted SCAN_PORT at 4930.7s!\n"
     ]
    },
    {
     "name": "stdout",
     "output_type": "stream",
     "text": [
      "Episode: 11, Epsilon: 0.9416228069143757\n",
      "\u001b[1m1/1\u001b[0m \u001b[32m━━━━━━━━━━━━━━━━━━━━\u001b[0m\u001b[37m\u001b[0m \u001b[1m0s\u001b[0m 18ms/step\n"
     ]
    },
    {
     "name": "stderr",
     "output_type": "stream",
     "text": [
      "MTD: Interrupted ENUM_HOST at 111.4s!\n",
      "MTD: Interrupted EXPLOIT_VULN at 311.8s!\n",
      "MTD: Interrupted EXPLOIT_VULN at 510.6s!\n",
      "MTD: Interrupted SCAN_PORT at 711.0s!\n"
     ]
    },
    {
     "name": "stdout",
     "output_type": "stream",
     "text": [
      "\u001b[1m1/1\u001b[0m \u001b[32m━━━━━━━━━━━━━━━━━━━━\u001b[0m\u001b[37m\u001b[0m \u001b[1m0s\u001b[0m 18ms/step\n",
      "\u001b[1m1/1\u001b[0m \u001b[32m━━━━━━━━━━━━━━━━━━━━\u001b[0m\u001b[37m\u001b[0m \u001b[1m0s\u001b[0m 19ms/step\n",
      "\u001b[1m1/1\u001b[0m \u001b[32m━━━━━━━━━━━━━━━━━━━━\u001b[0m\u001b[37m\u001b[0m \u001b[1m0s\u001b[0m 17ms/step\n"
     ]
    },
    {
     "name": "stderr",
     "output_type": "stream",
     "text": [
      "MTD: Interrupted EXPLOIT_VULN at 2516.8s!\n",
      "MTD: Interrupted SCAN_NEIGHBOR at 2717.5s!\n",
      "MTD: Interrupted EXPLOIT_VULN at 2919.9s!\n",
      "MTD: Interrupted SCAN_PORT at 3119.9s!\n"
     ]
    },
    {
     "name": "stdout",
     "output_type": "stream",
     "text": [
      "\u001b[1m1/1\u001b[0m \u001b[32m━━━━━━━━━━━━━━━━━━━━\u001b[0m\u001b[37m\u001b[0m \u001b[1m0s\u001b[0m 16ms/step\n"
     ]
    },
    {
     "name": "stderr",
     "output_type": "stream",
     "text": [
      "MTD: Interrupted SCAN_PORT at 4122.2s!\n",
      "MTD: Interrupted SCAN_NEIGHBOR at 4322.3s!\n",
      "MTD: Interrupted EXPLOIT_VULN at 4523.2s!\n",
      "MTD: Interrupted EXPLOIT_VULN at 4723.1s!\n"
     ]
    },
    {
     "name": "stdout",
     "output_type": "stream",
     "text": [
      "Episode: 12, Epsilon: 0.9369146928798039\n",
      "\u001b[1m1/1\u001b[0m \u001b[32m━━━━━━━━━━━━━━━━━━━━\u001b[0m\u001b[37m\u001b[0m \u001b[1m0s\u001b[0m 18ms/step\n"
     ]
    },
    {
     "name": "stderr",
     "output_type": "stream",
     "text": [
      "MTD: Interrupted EXPLOIT_VULN at 922.7s!\n"
     ]
    },
    {
     "name": "stdout",
     "output_type": "stream",
     "text": [
      "\u001b[1m1/1\u001b[0m \u001b[32m━━━━━━━━━━━━━━━━━━━━\u001b[0m\u001b[37m\u001b[0m \u001b[1m0s\u001b[0m 16ms/step\n"
     ]
    },
    {
     "name": "stderr",
     "output_type": "stream",
     "text": [
      "MTD: Interrupted SCAN_PORT at 1123.1s!\n",
      "MTD: Interrupted EXPLOIT_VULN at 1324.5s!\n",
      "MTD: Interrupted EXPLOIT_VULN at 1526.3s!\n",
      "MTD: Interrupted EXPLOIT_VULN at 1725.6s!\n",
      "MTD: Interrupted EXPLOIT_VULN at 1927.6s!\n",
      "MTD: Interrupted EXPLOIT_VULN at 2128.0s!\n",
      "MTD: Interrupted EXPLOIT_VULN at 2327.7s!\n",
      "MTD: Interrupted SCAN_PORT at 2518.0s!\n",
      "MTD: Interrupted EXPLOIT_VULN at 2718.4s!\n",
      "MTD: Interrupted EXPLOIT_VULN at 2918.4s!\n",
      "MTD: Interrupted EXPLOIT_VULN at 3119.0s!\n"
     ]
    },
    {
     "name": "stdout",
     "output_type": "stream",
     "text": [
      "\u001b[1m1/1\u001b[0m \u001b[32m━━━━━━━━━━━━━━━━━━━━\u001b[0m\u001b[37m\u001b[0m \u001b[1m0s\u001b[0m 18ms/step\n"
     ]
    },
    {
     "name": "stderr",
     "output_type": "stream",
     "text": [
      "MTD: Interrupted SCAN_PORT at 4933.5s!\n",
      "MTD: Interrupted EXPLOIT_VULN at 912.4s!\n",
      "MTD: Interrupted EXPLOIT_VULN at 1112.9s!\n"
     ]
    },
    {
     "name": "stdout",
     "output_type": "stream",
     "text": [
      "Episode: 13, Epsilon: 0.9322301194154049\n",
      "\u001b[1m1/1\u001b[0m \u001b[32m━━━━━━━━━━━━━━━━━━━━\u001b[0m\u001b[37m\u001b[0m \u001b[1m0s\u001b[0m 19ms/step\n"
     ]
    },
    {
     "name": "stderr",
     "output_type": "stream",
     "text": [
      "MTD: Interrupted EXPLOIT_VULN at 1313.1s!\n",
      "MTD: Interrupted SCAN_PORT at 1513.8s!\n",
      "MTD: Interrupted BRUTE_FORCE at 1714.3s!\n",
      "MTD: Interrupted ENUM_HOST at 1915.0s!\n",
      "MTD: Interrupted SCAN_PORT at 2115.8s!\n",
      "MTD: Interrupted EXPLOIT_VULN at 2316.5s!\n",
      "MTD: Interrupted EXPLOIT_VULN at 3317.2s!\n",
      "MTD: Interrupted EXPLOIT_VULN at 3518.7s!\n",
      "MTD: Interrupted EXPLOIT_VULN at 3718.8s!\n",
      "MTD: Interrupted SCAN_PORT at 3919.7s!\n",
      "MTD: Interrupted SCAN_NEIGHBOR at 4922.1s!\n",
      "MTD: Interrupted EXPLOIT_VULN at 110.6s!\n",
      "MTD: Interrupted EXPLOIT_VULN at 310.3s!\n",
      "MTD: Interrupted EXPLOIT_VULN at 511.5s!\n",
      "MTD: Interrupted BRUTE_FORCE at 712.3s!\n"
     ]
    },
    {
     "name": "stdout",
     "output_type": "stream",
     "text": [
      "Episode: 14, Epsilon: 0.9275689688183278\n"
     ]
    },
    {
     "name": "stderr",
     "output_type": "stream",
     "text": [
      "MTD: Interrupted SCAN_PORT at 1725.6s!\n",
      "MTD: Interrupted EXPLOIT_VULN at 1926.0s!\n",
      "MTD: Interrupted EXPLOIT_VULN at 2125.6s!\n",
      "MTD: Interrupted SCAN_PORT at 2326.1s!\n",
      "MTD: Interrupted ENUM_HOST at 2516.4s!\n",
      "MTD: Interrupted BRUTE_FORCE at 2716.9s!\n",
      "MTD: Interrupted BRUTE_FORCE at 2917.0s!\n",
      "MTD: Interrupted SCAN_PORT at 3117.3s!\n",
      "MTD: Interrupted SCAN_NEIGHBOR at 3327.4s!\n",
      "MTD: Interrupted SCAN_PORT at 3528.9s!\n",
      "MTD: Interrupted EXPLOIT_VULN at 3729.3s!\n",
      "MTD: Interrupted SCAN_PORT at 3929.4s!\n",
      "MTD: Interrupted EXPLOIT_VULN at 4121.7s!\n",
      "MTD: Interrupted EXPLOIT_VULN at 4321.1s!\n",
      "MTD: Interrupted ENUM_HOST at 4521.9s!\n",
      "MTD: Interrupted EXPLOIT_VULN at 4722.4s!\n",
      "MTD: Interrupted EXPLOIT_VULN at 4922.3s!\n",
      "MTD: Interrupted EXPLOIT_VULN at 120.2s!\n",
      "MTD: Interrupted EXPLOIT_VULN at 320.9s!\n",
      "MTD: Interrupted SCAN_PORT at 521.4s!\n"
     ]
    },
    {
     "name": "stdout",
     "output_type": "stream",
     "text": [
      "Episode: 15, Epsilon: 0.9229311239742362\n"
     ]
    },
    {
     "name": "stderr",
     "output_type": "stream",
     "text": [
      "MTD: Interrupted EXPLOIT_VULN at 721.6s!\n",
      "MTD: Interrupted EXPLOIT_VULN at 911.4s!\n",
      "MTD: Interrupted EXPLOIT_VULN at 1111.6s!\n",
      "MTD: Interrupted EXPLOIT_VULN at 1311.7s!\n",
      "MTD: Interrupted EXPLOIT_VULN at 1513.9s!\n",
      "MTD: Interrupted EXPLOIT_VULN at 3318.6s!\n",
      "MTD: Interrupted EXPLOIT_VULN at 3519.2s!\n",
      "MTD: Interrupted EXPLOIT_VULN at 3719.4s!\n",
      "MTD: Interrupted SCAN_PORT at 3918.5s!\n"
     ]
    },
    {
     "name": "stdout",
     "output_type": "stream",
     "text": [
      "\u001b[1m1/1\u001b[0m \u001b[32m━━━━━━━━━━━━━━━━━━━━\u001b[0m\u001b[37m\u001b[0m \u001b[1m0s\u001b[0m 19ms/step\n",
      "Episode: 16, Epsilon: 0.918316468354365\n"
     ]
    },
    {
     "name": "stderr",
     "output_type": "stream",
     "text": [
      "MTD: Interrupted EXPLOIT_VULN at 924.3s!\n",
      "MTD: Interrupted EXPLOIT_VULN at 1125.7s!\n",
      "MTD: Interrupted EXPLOIT_VULN at 1326.7s!\n"
     ]
    },
    {
     "name": "stdout",
     "output_type": "stream",
     "text": [
      "\u001b[1m1/1\u001b[0m \u001b[32m━━━━━━━━━━━━━━━━━━━━\u001b[0m\u001b[37m\u001b[0m \u001b[1m0s\u001b[0m 17ms/step\n"
     ]
    },
    {
     "name": "stderr",
     "output_type": "stream",
     "text": [
      "MTD: Interrupted EXPLOIT_VULN at 1526.4s!\n",
      "MTD: Interrupted SCAN_PORT at 2528.2s!\n",
      "MTD: Interrupted SCAN_PORT at 2727.8s!\n",
      "MTD: Interrupted SCAN_PORT at 2928.8s!\n",
      "MTD: Interrupted EXPLOIT_VULN at 3129.7s!\n",
      "MTD: Interrupted SCAN_PORT at 3330.1s!\n",
      "MTD: Interrupted SCAN_PORT at 3532.3s!\n",
      "MTD: Interrupted EXPLOIT_VULN at 3732.6s!\n",
      "MTD: Interrupted SCAN_PORT at 3933.6s!\n",
      "MTD: Interrupted EXPLOIT_VULN at 4132.7s!\n",
      "MTD: Interrupted EXPLOIT_VULN at 4333.7s!\n",
      "MTD: Interrupted ENUM_HOST at 4533.9s!\n",
      "MTD: Interrupted SCAN_NEIGHBOR at 4734.9s!\n"
     ]
    },
    {
     "name": "stdout",
     "output_type": "stream",
     "text": [
      "Episode: 17, Epsilon: 0.9137248860125932\n",
      "\u001b[1m1/1\u001b[0m \u001b[32m━━━━━━━━━━━━━━━━━━━━\u001b[0m\u001b[37m\u001b[0m \u001b[1m0s\u001b[0m 19ms/step\n",
      "\u001b[1m1/1\u001b[0m \u001b[32m━━━━━━━━━━━━━━━━━━━━\u001b[0m\u001b[37m\u001b[0m \u001b[1m0s\u001b[0m 17ms/step\n",
      "\u001b[1m1/1\u001b[0m \u001b[32m━━━━━━━━━━━━━━━━━━━━\u001b[0m\u001b[37m\u001b[0m \u001b[1m0s\u001b[0m 19ms/step\n"
     ]
    },
    {
     "name": "stderr",
     "output_type": "stream",
     "text": [
      "MTD: Interrupted EXPLOIT_VULN at 911.0s!\n",
      "MTD: Interrupted EXPLOIT_VULN at 1111.4s!\n"
     ]
    },
    {
     "name": "stdout",
     "output_type": "stream",
     "text": [
      "\u001b[1m1/1\u001b[0m \u001b[32m━━━━━━━━━━━━━━━━━━━━\u001b[0m\u001b[37m\u001b[0m \u001b[1m0s\u001b[0m 17ms/step\n"
     ]
    },
    {
     "name": "stderr",
     "output_type": "stream",
     "text": [
      "MTD: Interrupted SCAN_PORT at 1311.6s!\n",
      "MTD: Interrupted EXPLOIT_VULN at 1513.1s!\n",
      "MTD: Interrupted EXPLOIT_VULN at 2516.4s!\n",
      "MTD: Interrupted EXPLOIT_VULN at 2716.6s!\n",
      "MTD: Interrupted SCAN_PORT at 2917.3s!\n",
      "MTD: Interrupted EXPLOIT_VULN at 3117.3s!\n",
      "MTD: Interrupted EXPLOIT_VULN at 4121.1s!\n",
      "MTD: Interrupted EXPLOIT_VULN at 4319.3s!\n",
      "MTD: Interrupted SCAN_PORT at 4519.3s!\n",
      "MTD: Interrupted EXPLOIT_VULN at 4719.6s!\n"
     ]
    },
    {
     "name": "stdout",
     "output_type": "stream",
     "text": [
      "Episode: 18, Epsilon: 0.9091562615825302\n"
     ]
    },
    {
     "name": "stderr",
     "output_type": "stream",
     "text": [
      "MTD: Interrupted SCAN_PORT at 911.6s!\n",
      "MTD: Interrupted EXPLOIT_VULN at 1111.5s!\n",
      "MTD: Interrupted EXPLOIT_VULN at 1311.5s!\n",
      "MTD: Interrupted SCAN_PORT at 1512.1s!\n",
      "MTD: Interrupted EXPLOIT_VULN at 1721.8s!\n",
      "MTD: Interrupted ENUM_HOST at 1921.7s!\n",
      "MTD: Interrupted EXPLOIT_VULN at 2125.1s!\n",
      "MTD: Interrupted ENUM_HOST at 2324.8s!\n"
     ]
    },
    {
     "name": "stdout",
     "output_type": "stream",
     "text": [
      "\u001b[1m1/1\u001b[0m \u001b[32m━━━━━━━━━━━━━━━━━━━━\u001b[0m\u001b[37m\u001b[0m \u001b[1m0s\u001b[0m 18ms/step\n",
      "\u001b[1m1/1\u001b[0m \u001b[32m━━━━━━━━━━━━━━━━━━━━\u001b[0m\u001b[37m\u001b[0m \u001b[1m0s\u001b[0m 18ms/step\n",
      "\u001b[1m1/1\u001b[0m \u001b[32m━━━━━━━━━━━━━━━━━━━━\u001b[0m\u001b[37m\u001b[0m \u001b[1m0s\u001b[0m 17ms/step\n",
      "\u001b[1m1/1\u001b[0m \u001b[32m━━━━━━━━━━━━━━━━━━━━\u001b[0m\u001b[37m\u001b[0m \u001b[1m0s\u001b[0m 18ms/step\n"
     ]
    },
    {
     "name": "stderr",
     "output_type": "stream",
     "text": [
      "MTD: Interrupted EXPLOIT_VULN at 4129.2s!\n",
      "MTD: Interrupted EXPLOIT_VULN at 4330.6s!\n"
     ]
    },
    {
     "name": "stdout",
     "output_type": "stream",
     "text": [
      "\u001b[1m1/1\u001b[0m \u001b[32m━━━━━━━━━━━━━━━━━━━━\u001b[0m\u001b[37m\u001b[0m \u001b[1m0s\u001b[0m 18ms/step\n"
     ]
    },
    {
     "name": "stderr",
     "output_type": "stream",
     "text": [
      "MTD: Interrupted BRUTE_FORCE at 4529.9s!\n",
      "MTD: Interrupted EXPLOIT_VULN at 4731.7s!\n",
      "MTD: Interrupted SCAN_NEIGHBOR at 4931.4s!\n",
      "MTD: Interrupted SCAN_PORT at 912.6s!\n"
     ]
    },
    {
     "name": "stdout",
     "output_type": "stream",
     "text": [
      "Episode: 19, Epsilon: 0.9046104802746175\n"
     ]
    },
    {
     "name": "stderr",
     "output_type": "stream",
     "text": [
      "MTD: Interrupted EXPLOIT_VULN at 1115.3s!\n",
      "MTD: Interrupted EXPLOIT_VULN at 1313.1s!\n",
      "MTD: Interrupted EXPLOIT_VULN at 1514.2s!\n",
      "MTD: Interrupted EXPLOIT_VULN at 1714.6s!\n",
      "MTD: Interrupted EXPLOIT_VULN at 1914.3s!\n",
      "MTD: Interrupted EXPLOIT_VULN at 2117.8s!\n",
      "MTD: Interrupted EXPLOIT_VULN at 2318.9s!\n"
     ]
    },
    {
     "name": "stdout",
     "output_type": "stream",
     "text": [
      "\u001b[1m1/1\u001b[0m \u001b[32m━━━━━━━━━━━━━━━━━━━━\u001b[0m\u001b[37m\u001b[0m \u001b[1m0s\u001b[0m 18ms/step\n",
      "\u001b[1m1/1\u001b[0m \u001b[32m━━━━━━━━━━━━━━━━━━━━\u001b[0m\u001b[37m\u001b[0m \u001b[1m0s\u001b[0m 16ms/step\n",
      "\u001b[1m1/1\u001b[0m \u001b[32m━━━━━━━━━━━━━━━━━━━━\u001b[0m\u001b[37m\u001b[0m \u001b[1m0s\u001b[0m 17ms/step\n"
     ]
    },
    {
     "name": "stderr",
     "output_type": "stream",
     "text": [
      "MTD: Interrupted EXPLOIT_VULN at 4926.1s!\n"
     ]
    },
    {
     "name": "stdout",
     "output_type": "stream",
     "text": [
      "Episode: 20, Epsilon: 0.9000874278732445\n"
     ]
    },
    {
     "name": "stderr",
     "output_type": "stream",
     "text": [
      "MTD: Interrupted EXPLOIT_VULN at 922.7s!\n",
      "MTD: Interrupted SCAN_PORT at 1122.9s!\n",
      "MTD: Interrupted EXPLOIT_VULN at 1324.5s!\n",
      "MTD: Interrupted EXPLOIT_VULN at 1524.9s!\n",
      "MTD: Interrupted EXPLOIT_VULN at 1715.8s!\n",
      "MTD: Interrupted EXPLOIT_VULN at 1916.8s!\n"
     ]
    },
    {
     "name": "stdout",
     "output_type": "stream",
     "text": [
      "\u001b[1m1/1\u001b[0m \u001b[32m━━━━━━━━━━━━━━━━━━━━\u001b[0m\u001b[37m\u001b[0m \u001b[1m0s\u001b[0m 17ms/step\n"
     ]
    },
    {
     "name": "stderr",
     "output_type": "stream",
     "text": [
      "MTD: Interrupted EXPLOIT_VULN at 2117.3s!\n",
      "MTD: Interrupted EXPLOIT_VULN at 2318.0s!\n"
     ]
    },
    {
     "name": "stdout",
     "output_type": "stream",
     "text": [
      "\u001b[1m1/1\u001b[0m \u001b[32m━━━━━━━━━━━━━━━━━━━━\u001b[0m\u001b[37m\u001b[0m \u001b[1m0s\u001b[0m 18ms/step\n"
     ]
    },
    {
     "name": "stderr",
     "output_type": "stream",
     "text": [
      "MTD: Interrupted EXPLOIT_VULN at 3330.1s!\n",
      "MTD: Interrupted EXPLOIT_VULN at 3531.0s!\n"
     ]
    },
    {
     "name": "stdout",
     "output_type": "stream",
     "text": [
      "\u001b[1m1/1\u001b[0m \u001b[32m━━━━━━━━━━━━━━━━━━━━\u001b[0m\u001b[37m\u001b[0m \u001b[1m0s\u001b[0m 19ms/step\n"
     ]
    },
    {
     "name": "stderr",
     "output_type": "stream",
     "text": [
      "MTD: Interrupted EXPLOIT_VULN at 3732.2s!\n",
      "MTD: Interrupted EXPLOIT_VULN at 3933.5s!\n"
     ]
    },
    {
     "name": "stdout",
     "output_type": "stream",
     "text": [
      "Episode: 21, Epsilon: 0.8955869907338783\n",
      "\u001b[1m1/1\u001b[0m \u001b[32m━━━━━━━━━━━━━━━━━━━━\u001b[0m\u001b[37m\u001b[0m \u001b[1m0s\u001b[0m 18ms/step\n",
      "\u001b[1m1/1\u001b[0m \u001b[32m━━━━━━━━━━━━━━━━━━━━\u001b[0m\u001b[37m\u001b[0m \u001b[1m0s\u001b[0m 20ms/step\n"
     ]
    },
    {
     "name": "stderr",
     "output_type": "stream",
     "text": [
      "MTD: Interrupted EXPLOIT_VULN at 922.5s!\n",
      "MTD: Interrupted EXPLOIT_VULN at 1122.0s!\n"
     ]
    },
    {
     "name": "stdout",
     "output_type": "stream",
     "text": [
      "\u001b[1m1/1\u001b[0m \u001b[32m━━━━━━━━━━━━━━━━━━━━\u001b[0m\u001b[37m\u001b[0m \u001b[1m0s\u001b[0m 20ms/step\n"
     ]
    },
    {
     "name": "stderr",
     "output_type": "stream",
     "text": [
      "MTD: Interrupted EXPLOIT_VULN at 1322.7s!\n"
     ]
    },
    {
     "name": "stdout",
     "output_type": "stream",
     "text": [
      "\u001b[1m1/1\u001b[0m \u001b[32m━━━━━━━━━━━━━━━━━━━━\u001b[0m\u001b[37m\u001b[0m \u001b[1m0s\u001b[0m 16ms/step\n"
     ]
    },
    {
     "name": "stderr",
     "output_type": "stream",
     "text": [
      "MTD: Interrupted EXPLOIT_VULN at 1523.9s!\n",
      "MTD: Interrupted EXPLOIT_VULN at 1724.5s!\n",
      "MTD: Interrupted EXPLOIT_VULN at 1924.1s!\n",
      "MTD: Interrupted EXPLOIT_VULN at 2124.3s!\n",
      "MTD: Interrupted EXPLOIT_VULN at 2326.8s!\n"
     ]
    },
    {
     "name": "stdout",
     "output_type": "stream",
     "text": [
      "\u001b[1m1/1\u001b[0m \u001b[32m━━━━━━━━━━━━━━━━━━━━\u001b[0m\u001b[37m\u001b[0m \u001b[1m0s\u001b[0m 18ms/step\n"
     ]
    },
    {
     "name": "stderr",
     "output_type": "stream",
     "text": [
      "MTD: Interrupted EXPLOIT_VULN at 4130.0s!\n"
     ]
    },
    {
     "name": "stdout",
     "output_type": "stream",
     "text": [
      "\u001b[1m1/1\u001b[0m \u001b[32m━━━━━━━━━━━━━━━━━━━━\u001b[0m\u001b[37m\u001b[0m \u001b[1m0s\u001b[0m 17ms/step\n"
     ]
    },
    {
     "name": "stderr",
     "output_type": "stream",
     "text": [
      "MTD: Interrupted EXPLOIT_VULN at 4330.3s!\n",
      "MTD: Interrupted SCAN_PORT at 4530.4s!\n",
      "MTD: Interrupted SCAN_PORT at 4732.9s!\n",
      "MTD: Interrupted BRUTE_FORCE at 4920.7s!\n",
      "MTD: Interrupted EXPLOIT_VULN at 111.2s!\n",
      "MTD: Interrupted EXPLOIT_VULN at 310.8s!\n",
      "MTD: Interrupted EXPLOIT_VULN at 511.3s!\n",
      "MTD: Interrupted EXPLOIT_VULN at 711.9s!\n"
     ]
    },
    {
     "name": "stdout",
     "output_type": "stream",
     "text": [
      "Episode: 22, Epsilon: 0.8911090557802088\n"
     ]
    },
    {
     "name": "stderr",
     "output_type": "stream",
     "text": [
      "MTD: Interrupted SCAN_NEIGHBOR at 911.5s!\n",
      "MTD: Interrupted EXPLOIT_VULN at 1112.3s!\n",
      "MTD: Interrupted SCAN_PORT at 1312.2s!\n",
      "MTD: Interrupted SCAN_NEIGHBOR at 1512.6s!\n",
      "MTD: Interrupted EXPLOIT_VULN at 1713.1s!\n",
      "MTD: Interrupted SCAN_PORT at 1913.6s!\n",
      "MTD: Interrupted EXPLOIT_VULN at 2114.1s!\n",
      "MTD: Interrupted EXPLOIT_VULN at 2314.1s!\n",
      "MTD: Interrupted EXPLOIT_VULN at 3326.1s!\n",
      "MTD: Interrupted ENUM_HOST at 3527.8s!\n",
      "MTD: Interrupted EXPLOIT_VULN at 3728.8s!\n",
      "MTD: Interrupted ENUM_HOST at 3929.0s!\n",
      "MTD: Interrupted EXPLOIT_VULN at 4129.3s!\n"
     ]
    },
    {
     "name": "stdout",
     "output_type": "stream",
     "text": [
      "\u001b[1m1/1\u001b[0m \u001b[32m━━━━━━━━━━━━━━━━━━━━\u001b[0m\u001b[37m\u001b[0m \u001b[1m0s\u001b[0m 19ms/step\n"
     ]
    },
    {
     "name": "stderr",
     "output_type": "stream",
     "text": [
      "MTD: Interrupted EXPLOIT_VULN at 4330.1s!\n",
      "MTD: Interrupted BRUTE_FORCE at 4529.8s!\n"
     ]
    },
    {
     "name": "stdout",
     "output_type": "stream",
     "text": [
      "\u001b[1m1/1\u001b[0m \u001b[32m━━━━━━━━━━━━━━━━━━━━\u001b[0m\u001b[37m\u001b[0m \u001b[1m0s\u001b[0m 17ms/step\n"
     ]
    },
    {
     "name": "stderr",
     "output_type": "stream",
     "text": [
      "MTD: Interrupted EXPLOIT_VULN at 4730.8s!\n",
      "MTD: Interrupted ENUM_HOST at 4922.2s!\n"
     ]
    },
    {
     "name": "stdout",
     "output_type": "stream",
     "text": [
      "Episode: 23, Epsilon: 0.8866535105013078\n"
     ]
    },
    {
     "name": "stderr",
     "output_type": "stream",
     "text": [
      "MTD: Interrupted EXPLOIT_VULN at 1716.7s!\n"
     ]
    },
    {
     "name": "stdout",
     "output_type": "stream",
     "text": [
      "\u001b[1m1/1\u001b[0m \u001b[32m━━━━━━━━━━━━━━━━━━━━\u001b[0m\u001b[37m\u001b[0m \u001b[1m0s\u001b[0m 18ms/step\n"
     ]
    },
    {
     "name": "stderr",
     "output_type": "stream",
     "text": [
      "MTD: Interrupted SCAN_PORT at 1916.6s!\n",
      "MTD: Interrupted EXPLOIT_VULN at 2117.3s!\n",
      "MTD: Interrupted EXPLOIT_VULN at 2317.4s!\n",
      "MTD: Interrupted EXPLOIT_VULN at 2529.2s!\n",
      "MTD: Interrupted EXPLOIT_VULN at 2731.4s!\n",
      "MTD: Interrupted SCAN_PORT at 2932.0s!\n",
      "MTD: Interrupted EXPLOIT_VULN at 3131.8s!\n"
     ]
    },
    {
     "name": "stdout",
     "output_type": "stream",
     "text": [
      "\u001b[1m1/1\u001b[0m \u001b[32m━━━━━━━━━━━━━━━━━━━━\u001b[0m\u001b[37m\u001b[0m \u001b[1m0s\u001b[0m 19ms/step\n",
      "\u001b[1m1/1\u001b[0m \u001b[32m━━━━━━━━━━━━━━━━━━━━\u001b[0m\u001b[37m\u001b[0m \u001b[1m0s\u001b[0m 18ms/step\n",
      "\u001b[1m1/1\u001b[0m \u001b[32m━━━━━━━━━━━━━━━━━━━━\u001b[0m\u001b[37m\u001b[0m \u001b[1m0s\u001b[0m 18ms/step\n",
      "\u001b[1m1/1\u001b[0m \u001b[32m━━━━━━━━━━━━━━━━━━━━\u001b[0m\u001b[37m\u001b[0m \u001b[1m0s\u001b[0m 17ms/step\n",
      "\u001b[1m1/1\u001b[0m \u001b[32m━━━━━━━━━━━━━━━━━━━━\u001b[0m\u001b[37m\u001b[0m \u001b[1m0s\u001b[0m 17ms/step\n",
      "Episode: 24, Epsilon: 0.8822202429488013\n"
     ]
    },
    {
     "name": "stderr",
     "output_type": "stream",
     "text": [
      "MTD: Interrupted EXPLOIT_VULN at 1716.3s!\n",
      "MTD: Interrupted EXPLOIT_VULN at 1917.2s!\n",
      "MTD: Interrupted BRUTE_FORCE at 2116.4s!\n",
      "MTD: Interrupted EXPLOIT_VULN at 2318.3s!\n"
     ]
    },
    {
     "name": "stdout",
     "output_type": "stream",
     "text": [
      "\u001b[1m1/1\u001b[0m \u001b[32m━━━━━━━━━━━━━━━━━━━━\u001b[0m\u001b[37m\u001b[0m \u001b[1m0s\u001b[0m 17ms/step\n",
      "\u001b[1m1/1\u001b[0m \u001b[32m━━━━━━━━━━━━━━━━━━━━\u001b[0m\u001b[37m\u001b[0m \u001b[1m0s\u001b[0m 18ms/step\n"
     ]
    },
    {
     "name": "stderr",
     "output_type": "stream",
     "text": [
      "MTD: Interrupted SCAN_PORT at 110.4s!\n",
      "MTD: Interrupted EXPLOIT_VULN at 310.7s!\n",
      "MTD: Interrupted EXPLOIT_VULN at 511.0s!\n",
      "MTD: Interrupted EXPLOIT_VULN at 711.2s!\n",
      "MTD: Interrupted EXPLOIT_VULN at 911.9s!\n"
     ]
    },
    {
     "name": "stdout",
     "output_type": "stream",
     "text": [
      "Episode: 25, Epsilon: 0.8778091417340573\n"
     ]
    },
    {
     "name": "stderr",
     "output_type": "stream",
     "text": [
      "MTD: Interrupted EXPLOIT_VULN at 1112.8s!\n"
     ]
    },
    {
     "name": "stdout",
     "output_type": "stream",
     "text": [
      "\u001b[1m1/1\u001b[0m \u001b[32m━━━━━━━━━━━━━━━━━━━━\u001b[0m\u001b[37m\u001b[0m \u001b[1m0s\u001b[0m 16ms/step\n"
     ]
    },
    {
     "name": "stderr",
     "output_type": "stream",
     "text": [
      "MTD: Interrupted EXPLOIT_VULN at 1313.5s!\n",
      "MTD: Interrupted EXPLOIT_VULN at 1513.6s!\n",
      "MTD: Interrupted SCAN_PORT at 1714.5s!\n",
      "MTD: Interrupted EXPLOIT_VULN at 1916.0s!\n",
      "MTD: Interrupted EXPLOIT_VULN at 2115.2s!\n",
      "MTD: Interrupted EXPLOIT_VULN at 2315.8s!\n",
      "MTD: Interrupted SCAN_PORT at 2518.2s!\n",
      "MTD: Interrupted ENUM_HOST at 2716.7s!\n",
      "MTD: Interrupted EXPLOIT_VULN at 2916.5s!\n",
      "MTD: Interrupted SCAN_PORT at 3116.2s!\n"
     ]
    },
    {
     "name": "stdout",
     "output_type": "stream",
     "text": [
      "\u001b[1m1/1\u001b[0m \u001b[32m━━━━━━━━━━━━━━━━━━━━\u001b[0m\u001b[37m\u001b[0m \u001b[1m0s\u001b[0m 18ms/step\n"
     ]
    },
    {
     "name": "stderr",
     "output_type": "stream",
     "text": [
      "MTD: Interrupted EXPLOIT_VULN at 121.5s!\n"
     ]
    },
    {
     "name": "stdout",
     "output_type": "stream",
     "text": [
      "Episode: 26, Epsilon: 0.8734200960253871\n"
     ]
    },
    {
     "name": "stderr",
     "output_type": "stream",
     "text": [
      "MTD: Interrupted EXPLOIT_VULN at 324.9s!\n",
      "MTD: Interrupted SCAN_PORT at 522.2s!\n"
     ]
    },
    {
     "name": "stdout",
     "output_type": "stream",
     "text": [
      "\u001b[1m1/1\u001b[0m \u001b[32m━━━━━━━━━━━━━━━━━━━━\u001b[0m\u001b[37m\u001b[0m \u001b[1m0s\u001b[0m 23ms/step\n",
      "\u001b[1m1/1\u001b[0m \u001b[32m━━━━━━━━━━━━━━━━━━━━\u001b[0m\u001b[37m\u001b[0m \u001b[1m0s\u001b[0m 21ms/step\n"
     ]
    },
    {
     "name": "stderr",
     "output_type": "stream",
     "text": [
      "MTD: Interrupted EXPLOIT_VULN at 722.0s!\n"
     ]
    },
    {
     "name": "stdout",
     "output_type": "stream",
     "text": [
      "\u001b[1m1/1\u001b[0m \u001b[32m━━━━━━━━━━━━━━━━━━━━\u001b[0m\u001b[37m\u001b[0m \u001b[1m0s\u001b[0m 23ms/step\n"
     ]
    },
    {
     "name": "stderr",
     "output_type": "stream",
     "text": [
      "MTD: Interrupted SCAN_PORT at 2526.8s!\n"
     ]
    },
    {
     "name": "stdout",
     "output_type": "stream",
     "text": [
      "\u001b[1m1/1\u001b[0m \u001b[32m━━━━━━━━━━━━━━━━━━━━\u001b[0m\u001b[37m\u001b[0m \u001b[1m0s\u001b[0m 18ms/step\n"
     ]
    },
    {
     "name": "stderr",
     "output_type": "stream",
     "text": [
      "MTD: Interrupted EXPLOIT_VULN at 2726.7s!\n",
      "MTD: Interrupted EXPLOIT_VULN at 2927.4s!\n",
      "MTD: Interrupted EXPLOIT_VULN at 3126.8s!\n",
      "MTD: Interrupted ENUM_HOST at 3318.6s!\n",
      "MTD: Interrupted EXPLOIT_VULN at 3517.9s!\n",
      "MTD: Interrupted EXPLOIT_VULN at 3719.0s!\n",
      "MTD: Interrupted SCAN_PORT at 3918.2s!\n"
     ]
    },
    {
     "name": "stdout",
     "output_type": "stream",
     "text": [
      "\u001b[1m1/1\u001b[0m \u001b[32m━━━━━━━━━━━━━━━━━━━━\u001b[0m\u001b[37m\u001b[0m \u001b[1m0s\u001b[0m 18ms/step\n",
      "\u001b[1m1/1\u001b[0m \u001b[32m━━━━━━━━━━━━━━━━━━━━\u001b[0m\u001b[37m\u001b[0m \u001b[1m0s\u001b[0m 17ms/step\n"
     ]
    },
    {
     "name": "stderr",
     "output_type": "stream",
     "text": [
      "MTD: Interrupted SCAN_PORT at 4930.1s!\n"
     ]
    },
    {
     "name": "stdout",
     "output_type": "stream",
     "text": [
      "Episode: 27, Epsilon: 0.8690529955452602\n",
      "\u001b[1m1/1\u001b[0m \u001b[32m━━━━━━━━━━━━━━━━━━━━\u001b[0m\u001b[37m\u001b[0m \u001b[1m0s\u001b[0m 20ms/step\n"
     ]
    },
    {
     "name": "stderr",
     "output_type": "stream",
     "text": [
      "MTD: Interrupted SCAN_PORT at 923.9s!\n",
      "MTD: Interrupted EXPLOIT_VULN at 1122.5s!\n",
      "MTD: Interrupted EXPLOIT_VULN at 1323.8s!\n"
     ]
    },
    {
     "name": "stdout",
     "output_type": "stream",
     "text": [
      "\u001b[1m1/1\u001b[0m \u001b[32m━━━━━━━━━━━━━━━━━━━━\u001b[0m\u001b[37m\u001b[0m \u001b[1m0s\u001b[0m 17ms/step\n"
     ]
    },
    {
     "name": "stderr",
     "output_type": "stream",
     "text": [
      "MTD: Interrupted EXPLOIT_VULN at 1525.0s!\n"
     ]
    },
    {
     "name": "stdout",
     "output_type": "stream",
     "text": [
      "\u001b[1m1/1\u001b[0m \u001b[32m━━━━━━━━━━━━━━━━━━━━\u001b[0m\u001b[37m\u001b[0m \u001b[1m0s\u001b[0m 17ms/step\n",
      "\u001b[1m1/1\u001b[0m \u001b[32m━━━━━━━━━━━━━━━━━━━━\u001b[0m\u001b[37m\u001b[0m \u001b[1m0s\u001b[0m 18ms/step\n"
     ]
    },
    {
     "name": "stderr",
     "output_type": "stream",
     "text": [
      "MTD: Interrupted SCAN_PORT at 4932.8s!\n"
     ]
    },
    {
     "name": "stdout",
     "output_type": "stream",
     "text": [
      "Episode: 28, Epsilon: 0.8647077305675338\n"
     ]
    },
    {
     "name": "stderr",
     "output_type": "stream",
     "text": [
      "MTD: Interrupted EXPLOIT_VULN at 921.7s!\n"
     ]
    },
    {
     "name": "stdout",
     "output_type": "stream",
     "text": [
      "\u001b[1m1/1\u001b[0m \u001b[32m━━━━━━━━━━━━━━━━━━━━\u001b[0m\u001b[37m\u001b[0m \u001b[1m0s\u001b[0m 18ms/step\n"
     ]
    },
    {
     "name": "stderr",
     "output_type": "stream",
     "text": [
      "MTD: Interrupted EXPLOIT_VULN at 1121.9s!\n",
      "MTD: Interrupted EXPLOIT_VULN at 1323.1s!\n"
     ]
    },
    {
     "name": "stdout",
     "output_type": "stream",
     "text": [
      "\u001b[1m1/1\u001b[0m \u001b[32m━━━━━━━━━━━━━━━━━━━━\u001b[0m\u001b[37m\u001b[0m \u001b[1m0s\u001b[0m 21ms/step\n"
     ]
    },
    {
     "name": "stderr",
     "output_type": "stream",
     "text": [
      "MTD: Interrupted EXPLOIT_VULN at 1523.0s!\n",
      "MTD: Interrupted EXPLOIT_VULN at 1724.7s!\n",
      "MTD: Interrupted EXPLOIT_VULN at 1923.8s!\n",
      "MTD: Interrupted EXPLOIT_VULN at 2124.9s!\n",
      "MTD: Interrupted EXPLOIT_VULN at 2323.9s!\n"
     ]
    },
    {
     "name": "stdout",
     "output_type": "stream",
     "text": [
      "\u001b[1m1/1\u001b[0m \u001b[32m━━━━━━━━━━━━━━━━━━━━\u001b[0m\u001b[37m\u001b[0m \u001b[1m0s\u001b[0m 17ms/step\n"
     ]
    },
    {
     "name": "stderr",
     "output_type": "stream",
     "text": [
      "MTD: Interrupted EXPLOIT_VULN at 3326.5s!\n",
      "MTD: Interrupted EXPLOIT_VULN at 3527.2s!\n",
      "MTD: Interrupted EXPLOIT_VULN at 3726.4s!\n",
      "MTD: Interrupted BRUTE_FORCE at 3927.6s!\n"
     ]
    },
    {
     "name": "stdout",
     "output_type": "stream",
     "text": [
      "\u001b[1m1/1\u001b[0m \u001b[32m━━━━━━━━━━━━━━━━━━━━\u001b[0m\u001b[37m\u001b[0m \u001b[1m0s\u001b[0m 18ms/step\n",
      "Episode: 29, Epsilon: 0.8603841919146962\n"
     ]
    },
    {
     "name": "stderr",
     "output_type": "stream",
     "text": [
      "MTD: Interrupted BRUTE_FORCE at 925.8s!\n",
      "MTD: Interrupted EXPLOIT_VULN at 1123.3s!\n",
      "MTD: Interrupted EXPLOIT_VULN at 1323.7s!\n",
      "MTD: Interrupted EXPLOIT_VULN at 1526.0s!\n"
     ]
    },
    {
     "name": "stdout",
     "output_type": "stream",
     "text": [
      "\u001b[1m1/1\u001b[0m \u001b[32m━━━━━━━━━━━━━━━━━━━━\u001b[0m\u001b[37m\u001b[0m \u001b[1m0s\u001b[0m 17ms/step\n",
      "\u001b[1m1/1\u001b[0m \u001b[32m━━━━━━━━━━━━━━━━━━━━\u001b[0m\u001b[37m\u001b[0m \u001b[1m0s\u001b[0m 17ms/step\n"
     ]
    },
    {
     "name": "stderr",
     "output_type": "stream",
     "text": [
      "MTD: Interrupted EXPLOIT_VULN at 3319.4s!\n",
      "MTD: Interrupted EXPLOIT_VULN at 3518.3s!\n",
      "MTD: Interrupted EXPLOIT_VULN at 3719.2s!\n",
      "MTD: Interrupted EXPLOIT_VULN at 3918.6s!\n"
     ]
    },
    {
     "name": "stdout",
     "output_type": "stream",
     "text": [
      "\u001b[1m1/1\u001b[0m \u001b[32m━━━━━━━━━━━━━━━━━━━━\u001b[0m\u001b[37m\u001b[0m \u001b[1m0s\u001b[0m 17ms/step\n",
      "\u001b[1m1/1\u001b[0m \u001b[32m━━━━━━━━━━━━━━━━━━━━\u001b[0m\u001b[37m\u001b[0m \u001b[1m0s\u001b[0m 18ms/step\n",
      "\u001b[1m1/1\u001b[0m \u001b[32m━━━━━━━━━━━━━━━━━━━━\u001b[0m\u001b[37m\u001b[0m \u001b[1m0s\u001b[0m 18ms/step\n",
      "Episode: 30, Epsilon: 0.8560822709551227\n"
     ]
    },
    {
     "name": "stderr",
     "output_type": "stream",
     "text": [
      "MTD: Interrupted ENUM_HOST at 110.1s!\n",
      "MTD: Interrupted EXPLOIT_VULN at 310.4s!\n",
      "MTD: Interrupted EXPLOIT_VULN at 512.2s!\n",
      "MTD: Interrupted EXPLOIT_VULN at 711.0s!\n",
      "MTD: Interrupted EXPLOIT_VULN at 921.7s!\n"
     ]
    },
    {
     "name": "stdout",
     "output_type": "stream",
     "text": [
      "\u001b[1m1/1\u001b[0m \u001b[32m━━━━━━━━━━━━━━━━━━━━\u001b[0m\u001b[37m\u001b[0m \u001b[1m0s\u001b[0m 22ms/step\n"
     ]
    },
    {
     "name": "stderr",
     "output_type": "stream",
     "text": [
      "MTD: Interrupted EXPLOIT_VULN at 1121.9s!\n",
      "MTD: Interrupted EXPLOIT_VULN at 1321.9s!\n"
     ]
    },
    {
     "name": "stdout",
     "output_type": "stream",
     "text": [
      "\u001b[1m1/1\u001b[0m \u001b[32m━━━━━━━━━━━━━━━━━━━━\u001b[0m\u001b[37m\u001b[0m \u001b[1m0s\u001b[0m 17ms/step\n"
     ]
    },
    {
     "name": "stderr",
     "output_type": "stream",
     "text": [
      "MTD: Interrupted EXPLOIT_VULN at 1523.2s!\n",
      "MTD: Interrupted EXPLOIT_VULN at 1713.5s!\n",
      "MTD: Interrupted EXPLOIT_VULN at 1913.2s!\n",
      "MTD: Interrupted EXPLOIT_VULN at 2113.8s!\n",
      "MTD: Interrupted EXPLOIT_VULN at 2314.9s!\n"
     ]
    },
    {
     "name": "stdout",
     "output_type": "stream",
     "text": [
      "\u001b[1m1/1\u001b[0m \u001b[32m━━━━━━━━━━━━━━━━━━━━\u001b[0m\u001b[37m\u001b[0m \u001b[1m0s\u001b[0m 18ms/step\n",
      "\u001b[1m1/1\u001b[0m \u001b[32m━━━━━━━━━━━━━━━━━━━━\u001b[0m\u001b[37m\u001b[0m \u001b[1m0s\u001b[0m 17ms/step\n"
     ]
    },
    {
     "name": "stderr",
     "output_type": "stream",
     "text": [
      "MTD: Interrupted SCAN_PORT at 4118.1s!\n"
     ]
    },
    {
     "name": "stdout",
     "output_type": "stream",
     "text": [
      "\u001b[1m1/1\u001b[0m \u001b[32m━━━━━━━━━━━━━━━━━━━━\u001b[0m\u001b[37m\u001b[0m \u001b[1m0s\u001b[0m 17ms/step\n"
     ]
    },
    {
     "name": "stderr",
     "output_type": "stream",
     "text": [
      "MTD: Interrupted SCAN_PORT at 4319.6s!\n",
      "MTD: Interrupted EXPLOIT_VULN at 4521.1s!\n",
      "MTD: Interrupted EXPLOIT_VULN at 4720.1s!\n"
     ]
    },
    {
     "name": "stdout",
     "output_type": "stream",
     "text": [
      "Episode: 31, Epsilon: 0.851801859600347\n",
      "\u001b[1m1/1\u001b[0m \u001b[32m━━━━━━━━━━━━━━━━━━━━\u001b[0m\u001b[37m\u001b[0m \u001b[1m0s\u001b[0m 18ms/step\n",
      "\u001b[1m1/1\u001b[0m \u001b[32m━━━━━━━━━━━━━━━━━━━━\u001b[0m\u001b[37m\u001b[0m \u001b[1m0s\u001b[0m 18ms/step\n"
     ]
    },
    {
     "name": "stderr",
     "output_type": "stream",
     "text": [
      "MTD: Interrupted SCAN_PORT at 1712.3s!\n"
     ]
    },
    {
     "name": "stdout",
     "output_type": "stream",
     "text": [
      "\u001b[1m1/1\u001b[0m \u001b[32m━━━━━━━━━━━━━━━━━━━━\u001b[0m\u001b[37m\u001b[0m \u001b[1m0s\u001b[0m 20ms/step\n"
     ]
    },
    {
     "name": "stderr",
     "output_type": "stream",
     "text": [
      "MTD: Interrupted EXPLOIT_VULN at 1915.0s!\n",
      "MTD: Interrupted EXPLOIT_VULN at 2115.4s!\n",
      "MTD: Interrupted EXPLOIT_VULN at 2316.3s!\n"
     ]
    },
    {
     "name": "stdout",
     "output_type": "stream",
     "text": [
      "\u001b[1m1/1\u001b[0m \u001b[32m━━━━━━━━━━━━━━━━━━━━\u001b[0m\u001b[37m\u001b[0m \u001b[1m0s\u001b[0m 17ms/step\n",
      "\u001b[1m1/1\u001b[0m \u001b[32m━━━━━━━━━━━━━━━━━━━━\u001b[0m\u001b[37m\u001b[0m \u001b[1m0s\u001b[0m 19ms/step\n"
     ]
    },
    {
     "name": "stderr",
     "output_type": "stream",
     "text": [
      "MTD: Interrupted EXPLOIT_VULN at 3327.7s!\n",
      "MTD: Interrupted SCAN_PORT at 3527.9s!\n",
      "MTD: Interrupted ENUM_HOST at 3728.0s!\n",
      "MTD: Interrupted ENUM_HOST at 3928.3s!\n",
      "MTD: Interrupted EXPLOIT_VULN at 4128.9s!\n",
      "MTD: Interrupted EXPLOIT_VULN at 4328.9s!\n",
      "MTD: Interrupted ENUM_HOST at 4529.3s!\n"
     ]
    },
    {
     "name": "stdout",
     "output_type": "stream",
     "text": [
      "\u001b[1m1/1\u001b[0m \u001b[32m━━━━━━━━━━━━━━━━━━━━\u001b[0m\u001b[37m\u001b[0m \u001b[1m0s\u001b[0m 17ms/step\n"
     ]
    },
    {
     "name": "stderr",
     "output_type": "stream",
     "text": [
      "MTD: Interrupted SCAN_PORT at 4729.5s!\n",
      "MTD: Interrupted ENUM_HOST at 4919.6s!\n"
     ]
    },
    {
     "name": "stdout",
     "output_type": "stream",
     "text": [
      "Episode: 32, Epsilon: 0.8475428503023453\n",
      "\u001b[1m1/1\u001b[0m \u001b[32m━━━━━━━━━━━━━━━━━━━━\u001b[0m\u001b[37m\u001b[0m \u001b[1m0s\u001b[0m 18ms/step\n",
      "\u001b[1m1/1\u001b[0m \u001b[32m━━━━━━━━━━━━━━━━━━━━\u001b[0m\u001b[37m\u001b[0m \u001b[1m0s\u001b[0m 18ms/step\n",
      "\u001b[1m1/1\u001b[0m \u001b[32m━━━━━━━━━━━━━━━━━━━━\u001b[0m\u001b[37m\u001b[0m \u001b[1m0s\u001b[0m 18ms/step\n"
     ]
    },
    {
     "name": "stderr",
     "output_type": "stream",
     "text": [
      "MTD: Interrupted EXPLOIT_VULN at 112.6s!\n",
      "MTD: Interrupted EXPLOIT_VULN at 310.7s!\n",
      "MTD: Interrupted EXPLOIT_VULN at 511.3s!\n",
      "MTD: Interrupted EXPLOIT_VULN at 710.9s!\n",
      "MTD: Interrupted SCAN_NEIGHBOR at 920.8s!\n"
     ]
    },
    {
     "name": "stdout",
     "output_type": "stream",
     "text": [
      "Episode: 33, Epsilon: 0.8433051360508336\n"
     ]
    },
    {
     "name": "stderr",
     "output_type": "stream",
     "text": [
      "MTD: Interrupted EXPLOIT_VULN at 1121.5s!\n",
      "MTD: Interrupted SCAN_PORT at 1321.6s!\n",
      "MTD: Interrupted EXPLOIT_VULN at 1522.4s!\n",
      "MTD: Interrupted EXPLOIT_VULN at 1722.6s!\n",
      "MTD: Interrupted EXPLOIT_VULN at 1922.9s!\n"
     ]
    },
    {
     "name": "stdout",
     "output_type": "stream",
     "text": [
      "\u001b[1m1/1\u001b[0m \u001b[32m━━━━━━━━━━━━━━━━━━━━\u001b[0m\u001b[37m\u001b[0m \u001b[1m0s\u001b[0m 18ms/step\n"
     ]
    },
    {
     "name": "stderr",
     "output_type": "stream",
     "text": [
      "MTD: Interrupted BRUTE_FORCE at 2124.1s!\n",
      "MTD: Interrupted EXPLOIT_VULN at 2324.5s!\n"
     ]
    },
    {
     "name": "stdout",
     "output_type": "stream",
     "text": [
      "\u001b[1m1/1\u001b[0m \u001b[32m━━━━━━━━━━━━━━━━━━━━\u001b[0m\u001b[37m\u001b[0m \u001b[1m0s\u001b[0m 16ms/step\n"
     ]
    },
    {
     "name": "stderr",
     "output_type": "stream",
     "text": [
      "MTD: Interrupted EXPLOIT_VULN at 3326.9s!\n",
      "MTD: Interrupted SCAN_PORT at 3527.2s!\n",
      "MTD: Interrupted SCAN_PORT at 3729.7s!\n",
      "MTD: Interrupted SCAN_PORT at 3929.6s!\n",
      "MTD: Interrupted SCAN_PORT at 4921.3s!\n",
      "MTD: Interrupted EXPLOIT_VULN at 121.4s!\n",
      "MTD: Interrupted EXPLOIT_VULN at 320.2s!\n",
      "MTD: Interrupted EXPLOIT_VULN at 520.8s!\n"
     ]
    },
    {
     "name": "stdout",
     "output_type": "stream",
     "text": [
      "Episode: 34, Epsilon: 0.8390886103705794\n"
     ]
    },
    {
     "name": "stderr",
     "output_type": "stream",
     "text": [
      "MTD: Interrupted EXPLOIT_VULN at 721.4s!\n"
     ]
    },
    {
     "name": "stdout",
     "output_type": "stream",
     "text": [
      "\u001b[1m1/1\u001b[0m \u001b[32m━━━━━━━━━━━━━━━━━━━━\u001b[0m\u001b[37m\u001b[0m \u001b[1m0s\u001b[0m 17ms/step\n",
      "\u001b[1m1/1\u001b[0m \u001b[32m━━━━━━━━━━━━━━━━━━━━\u001b[0m\u001b[37m\u001b[0m \u001b[1m0s\u001b[0m 17ms/step\n",
      "\u001b[1m1/1\u001b[0m \u001b[32m━━━━━━━━━━━━━━━━━━━━\u001b[0m\u001b[37m\u001b[0m \u001b[1m0s\u001b[0m 18ms/step\n",
      "\u001b[1m1/1\u001b[0m \u001b[32m━━━━━━━━━━━━━━━━━━━━\u001b[0m\u001b[37m\u001b[0m \u001b[1m0s\u001b[0m 19ms/step\n",
      "\u001b[1m1/1\u001b[0m \u001b[32m━━━━━━━━━━━━━━━━━━━━\u001b[0m\u001b[37m\u001b[0m \u001b[1m0s\u001b[0m 17ms/step\n",
      "Episode: 35, Epsilon: 0.8348931673187264\n"
     ]
    },
    {
     "name": "stderr",
     "output_type": "stream",
     "text": [
      "MTD: Interrupted EXPLOIT_VULN at 1715.6s!\n",
      "MTD: Interrupted EXPLOIT_VULN at 1916.0s!\n",
      "MTD: Interrupted EXPLOIT_VULN at 2116.8s!\n",
      "MTD: Interrupted EXPLOIT_VULN at 2316.7s!\n",
      "MTD: Interrupted EXPLOIT_VULN at 2516.6s!\n",
      "MTD: Interrupted ENUM_HOST at 2718.1s!\n"
     ]
    },
    {
     "name": "stdout",
     "output_type": "stream",
     "text": [
      "\u001b[1m1/1\u001b[0m \u001b[32m━━━━━━━━━━━━━━━━━━━━\u001b[0m\u001b[37m\u001b[0m \u001b[1m0s\u001b[0m 25ms/step\n"
     ]
    },
    {
     "name": "stderr",
     "output_type": "stream",
     "text": [
      "MTD: Interrupted BRUTE_FORCE at 2916.7s!\n",
      "MTD: Interrupted EXPLOIT_VULN at 3117.4s!\n",
      "MTD: Interrupted SCAN_NEIGHBOR at 3327.7s!\n"
     ]
    },
    {
     "name": "stdout",
     "output_type": "stream",
     "text": [
      "\u001b[1m1/1\u001b[0m \u001b[32m━━━━━━━━━━━━━━━━━━━━\u001b[0m\u001b[37m\u001b[0m \u001b[1m0s\u001b[0m 18ms/step\n"
     ]
    },
    {
     "name": "stderr",
     "output_type": "stream",
     "text": [
      "MTD: Interrupted ENUM_HOST at 3527.8s!\n"
     ]
    },
    {
     "name": "stdout",
     "output_type": "stream",
     "text": [
      "\u001b[1m1/1\u001b[0m \u001b[32m━━━━━━━━━━━━━━━━━━━━\u001b[0m\u001b[37m\u001b[0m \u001b[1m0s\u001b[0m 16ms/step\n"
     ]
    },
    {
     "name": "stderr",
     "output_type": "stream",
     "text": [
      "MTD: Interrupted EXPLOIT_VULN at 3729.1s!\n",
      "MTD: Interrupted EXPLOIT_VULN at 3931.3s!\n",
      "MTD: Interrupted EXPLOIT_VULN at 4122.4s!\n",
      "MTD: Interrupted EXPLOIT_VULN at 4323.4s!\n",
      "MTD: Interrupted EXPLOIT_VULN at 4522.6s!\n",
      "MTD: Interrupted EXPLOIT_VULN at 4723.2s!\n"
     ]
    },
    {
     "name": "stdout",
     "output_type": "stream",
     "text": [
      "Episode: 36, Epsilon: 0.8307187014821328\n"
     ]
    },
    {
     "name": "stderr",
     "output_type": "stream",
     "text": [
      "MTD: Interrupted EXPLOIT_VULN at 121.0s!\n",
      "MTD: Interrupted SCAN_PORT at 320.7s!\n"
     ]
    },
    {
     "name": "stdout",
     "output_type": "stream",
     "text": [
      "\u001b[1m1/1\u001b[0m \u001b[32m━━━━━━━━━━━━━━━━━━━━\u001b[0m\u001b[37m\u001b[0m \u001b[1m0s\u001b[0m 17ms/step\n"
     ]
    },
    {
     "name": "stderr",
     "output_type": "stream",
     "text": [
      "MTD: Interrupted EXPLOIT_VULN at 520.5s!\n",
      "MTD: Interrupted EXPLOIT_VULN at 720.7s!\n",
      "MTD: Interrupted EXPLOIT_VULN at 921.2s!\n",
      "MTD: Interrupted EXPLOIT_VULN at 1121.1s!\n",
      "MTD: Interrupted EXPLOIT_VULN at 1321.6s!\n",
      "MTD: Interrupted EXPLOIT_VULN at 1522.0s!\n"
     ]
    },
    {
     "name": "stdout",
     "output_type": "stream",
     "text": [
      "\u001b[1m1/1\u001b[0m \u001b[32m━━━━━━━━━━━━━━━━━━━━\u001b[0m\u001b[37m\u001b[0m \u001b[1m0s\u001b[0m 18ms/step\n"
     ]
    },
    {
     "name": "stderr",
     "output_type": "stream",
     "text": [
      "MTD: Interrupted EXPLOIT_VULN at 2524.0s!\n",
      "MTD: Interrupted EXPLOIT_VULN at 2724.1s!\n",
      "MTD: Interrupted EXPLOIT_VULN at 2924.5s!\n",
      "MTD: Interrupted EXPLOIT_VULN at 3125.6s!\n",
      "MTD: Interrupted EXPLOIT_VULN at 4129.6s!\n",
      "MTD: Interrupted EXPLOIT_VULN at 4331.5s!\n",
      "MTD: Interrupted EXPLOIT_VULN at 4532.0s!\n",
      "MTD: Interrupted ENUM_HOST at 4732.2s!\n",
      "MTD: Interrupted EXPLOIT_VULN at 4922.7s!\n"
     ]
    },
    {
     "name": "stdout",
     "output_type": "stream",
     "text": [
      "Episode: 37, Epsilon: 0.8265651079747222\n",
      "\u001b[1m1/1\u001b[0m \u001b[32m━━━━━━━━━━━━━━━━━━━━\u001b[0m\u001b[37m\u001b[0m \u001b[1m0s\u001b[0m 19ms/step\n",
      "\u001b[1m1/1\u001b[0m \u001b[32m━━━━━━━━━━━━━━━━━━━━\u001b[0m\u001b[37m\u001b[0m \u001b[1m0s\u001b[0m 17ms/step\n",
      "\u001b[1m1/1\u001b[0m \u001b[32m━━━━━━━━━━━━━━━━━━━━\u001b[0m\u001b[37m\u001b[0m \u001b[1m0s\u001b[0m 17ms/step\n",
      "\u001b[1m1/1\u001b[0m \u001b[32m━━━━━━━━━━━━━━━━━━━━\u001b[0m\u001b[37m\u001b[0m \u001b[1m0s\u001b[0m 17ms/step\n",
      "\u001b[1m1/1\u001b[0m \u001b[32m━━━━━━━━━━━━━━━━━━━━\u001b[0m\u001b[37m\u001b[0m \u001b[1m0s\u001b[0m 16ms/step\n"
     ]
    },
    {
     "name": "stderr",
     "output_type": "stream",
     "text": [
      "MTD: Interrupted EXPLOIT_VULN at 3320.2s!\n",
      "MTD: Interrupted EXPLOIT_VULN at 3520.1s!\n",
      "MTD: Interrupted EXPLOIT_VULN at 3721.2s!\n",
      "MTD: Interrupted EXPLOIT_VULN at 3922.3s!\n"
     ]
    },
    {
     "name": "stdout",
     "output_type": "stream",
     "text": [
      "\u001b[1m1/1\u001b[0m \u001b[32m━━━━━━━━━━━━━━━━━━━━\u001b[0m\u001b[37m\u001b[0m \u001b[1m0s\u001b[0m 18ms/step\n"
     ]
    },
    {
     "name": "stderr",
     "output_type": "stream",
     "text": [
      "MTD: Interrupted BRUTE_FORCE at 4923.4s!\n"
     ]
    },
    {
     "name": "stdout",
     "output_type": "stream",
     "text": [
      "Episode: 38, Epsilon: 0.8224322824348486\n",
      "\u001b[1m1/1\u001b[0m \u001b[32m━━━━━━━━━━━━━━━━━━━━\u001b[0m\u001b[37m\u001b[0m \u001b[1m0s\u001b[0m 19ms/step\n"
     ]
    },
    {
     "name": "stderr",
     "output_type": "stream",
     "text": [
      "MTD: Interrupted EXPLOIT_VULN at 921.4s!\n",
      "MTD: Interrupted EXPLOIT_VULN at 1123.5s!\n",
      "MTD: Interrupted SCAN_PORT at 1323.8s!\n"
     ]
    },
    {
     "name": "stdout",
     "output_type": "stream",
     "text": [
      "\u001b[1m1/1\u001b[0m \u001b[32m━━━━━━━━━━━━━━━━━━━━\u001b[0m\u001b[37m\u001b[0m \u001b[1m0s\u001b[0m 18ms/step\n"
     ]
    },
    {
     "name": "stderr",
     "output_type": "stream",
     "text": [
      "MTD: Interrupted EXPLOIT_VULN at 1524.2s!\n"
     ]
    },
    {
     "name": "stdout",
     "output_type": "stream",
     "text": [
      "\u001b[1m1/1\u001b[0m \u001b[32m━━━━━━━━━━━━━━━━━━━━\u001b[0m\u001b[37m\u001b[0m \u001b[1m0s\u001b[0m 17ms/step\n",
      "\u001b[1m1/1\u001b[0m \u001b[32m━━━━━━━━━━━━━━━━━━━━\u001b[0m\u001b[37m\u001b[0m \u001b[1m0s\u001b[0m 17ms/step\n"
     ]
    },
    {
     "name": "stderr",
     "output_type": "stream",
     "text": [
      "MTD: Interrupted EXPLOIT_VULN at 2516.7s!\n",
      "MTD: Interrupted SCAN_PORT at 2719.0s!\n",
      "MTD: Interrupted EXPLOIT_VULN at 2918.0s!\n",
      "MTD: Interrupted ENUM_HOST at 3119.6s!\n",
      "MTD: Interrupted SCAN_PORT at 3329.5s!\n",
      "MTD: Interrupted SCAN_NEIGHBOR at 3530.8s!\n",
      "MTD: Interrupted EXPLOIT_VULN at 3730.5s!\n",
      "MTD: Interrupted EXPLOIT_VULN at 3931.7s!\n",
      "MTD: Interrupted EXPLOIT_VULN at 4120.9s!\n",
      "MTD: Interrupted EXPLOIT_VULN at 4321.5s!\n",
      "MTD: Interrupted EXPLOIT_VULN at 4521.6s!\n"
     ]
    },
    {
     "name": "stdout",
     "output_type": "stream",
     "text": [
      "\u001b[1m1/1\u001b[0m \u001b[32m━━━━━━━━━━━━━━━━━━━━\u001b[0m\u001b[37m\u001b[0m \u001b[1m0s\u001b[0m 17ms/step\n"
     ]
    },
    {
     "name": "stderr",
     "output_type": "stream",
     "text": [
      "MTD: Interrupted EXPLOIT_VULN at 4721.9s!\n"
     ]
    },
    {
     "name": "stdout",
     "output_type": "stream",
     "text": [
      "\u001b[1m1/1\u001b[0m \u001b[32m━━━━━━━━━━━━━━━━━━━━\u001b[0m\u001b[37m\u001b[0m \u001b[1m0s\u001b[0m 17ms/step\n",
      "\u001b[1m1/1\u001b[0m \u001b[32m━━━━━━━━━━━━━━━━━━━━\u001b[0m\u001b[37m\u001b[0m \u001b[1m0s\u001b[0m 140ms/step\n",
      "\u001b[1m1/1\u001b[0m \u001b[32m━━━━━━━━━━━━━━━━━━━━\u001b[0m\u001b[37m\u001b[0m \u001b[1m0s\u001b[0m 18ms/step\n",
      "\u001b[1m1/1\u001b[0m \u001b[32m━━━━━━━━━━━━━━━━━━━━\u001b[0m\u001b[37m\u001b[0m \u001b[1m0s\u001b[0m 18ms/step\n"
     ]
    },
    {
     "name": "stdout",
     "output_type": "stream",
     "text": [
      "\u001b[1m1/1\u001b[0m \u001b[32m━━━━━━━━━━━━━━━━━━━━\u001b[0m\u001b[37m\u001b[0m \u001b[1m0s\u001b[0m 16ms/step\n",
      "\u001b[1m1/1\u001b[0m \u001b[32m━━━━━━━━━━━━━━━━━━━━\u001b[0m\u001b[37m\u001b[0m \u001b[1m0s\u001b[0m 17ms/step\n",
      "\u001b[1m1/1\u001b[0m \u001b[32m━━━━━━━━━━━━━━━━━━━━\u001b[0m\u001b[37m\u001b[0m \u001b[1m0s\u001b[0m 15ms/step\n",
      "\u001b[1m1/1\u001b[0m \u001b[32m━━━━━━━━━━━━━━━━━━━━\u001b[0m\u001b[37m\u001b[0m \u001b[1m0s\u001b[0m 17ms/step\n",
      "\u001b[1m1/1\u001b[0m \u001b[32m━━━━━━━━━━━━━━━━━━━━\u001b[0m\u001b[37m\u001b[0m \u001b[1m0s\u001b[0m 15ms/step\n",
      "\u001b[1m1/1\u001b[0m \u001b[32m━━━━━━━━━━━━━━━━━━━━\u001b[0m\u001b[37m\u001b[0m \u001b[1m0s\u001b[0m 17ms/step\n",
      "\u001b[1m1/1\u001b[0m \u001b[32m━━━━━━━━━━━━━━━━━━━━\u001b[0m\u001b[37m\u001b[0m \u001b[1m0s\u001b[0m 14ms/step\n",
      "\u001b[1m1/1\u001b[0m \u001b[32m━━━━━━━━━━━━━━━━━━━━\u001b[0m\u001b[37m\u001b[0m \u001b[1m0s\u001b[0m 17ms/step\n"
     ]
    }
   ],
   "source": [
    "# Train using all features\n",
    "execute_ai_training(features = features, start_time=start_time, finish_time=finish_time, mtd_interval=mtd_interval, state_size=state_size, time_series_size=time_series_size, action_size=action_size, gamma=gamma, epsilon=epsilon, epsilon_min=epsilon_min, epsilon_decay=epsilon_decay, batch_size=batch_size, train_start=train_start, scheme=scheme, total_nodes=total_nodes, new_network=new_network, episodes=episodes)"
   ]
  },
  {
   "cell_type": "code",
   "execution_count": null,
   "metadata": {},
   "outputs": [],
   "source": [
    "# Train using individual features\n",
    "for feature in features:\n",
    "    execute_ai_training(features = [features], start_time=start_time, finish_time=finish_time, mtd_interval=mtd_interval, state_size=state_size, time_series_size=time_series_size, action_size=action_size, gamma=gamma, epsilon=epsilon, epsilon_min=epsilon_min, epsilon_decay=epsilon_decay, batch_size=batch_size, train_start=train_start, scheme=scheme, total_nodes=total_nodes, new_network=new_network, episodes=episodes)"
   ]
  }
 ],
 "metadata": {
  "kernelspec": {
   "display_name": "Python 3.9.13 ('mtdsimtime')",
   "language": "python",
   "name": "python3"
  },
  "language_info": {
   "codemirror_mode": {
    "name": "ipython",
    "version": 3
   },
   "file_extension": ".py",
   "mimetype": "text/x-python",
   "name": "python",
   "nbconvert_exporter": "python",
   "pygments_lexer": "ipython3",
   "version": "3.11.8"
  },
  "orig_nbformat": 4,
  "vscode": {
   "interpreter": {
    "hash": "9b477274c87fb63319f36b484dd34a6881cb387ce1b14309c24558f54c8e02ea"
   }
  }
 },
 "nbformat": 4,
 "nbformat_minor": 2
}
