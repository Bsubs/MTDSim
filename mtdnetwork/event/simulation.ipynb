{
 "cells": [
  {
   "cell_type": "code",
   "execution_count": 22,
   "metadata": {},
   "outputs": [],
   "source": [
    "from run_sim import run_sim\n",
    "import pandas as pd\n",
    "import matplotlib.pyplot as plt\n",
    "import plotly.graph_objects as go"
   ]
  },
  {
   "cell_type": "code",
   "execution_count": 23,
   "metadata": {},
   "outputs": [
    {
     "name": "stdout",
     "output_type": "stream",
     "text": [
      "Target Node is:  70\n",
      "Processed host scan at 0.1s.\n",
      "IPShuffle triggered 1.1s\n",
      "IPShuffle deployed in the network at 1.1s.\n",
      "IPShuffle finished in 0.4s at 1.5s.\n",
      "Processed port scan at 2.3s.\n",
      "Processed credential reuse check at 2.4s.\n",
      "HostTopologyShuffle triggered 7.5s\n",
      "HostTopologyShuffle deployed in the network at 7.5s.\n",
      "HostTopologyShuffle finished in 8.8s at 16.3s.\n",
      "Processed vulnerabilities exploitation at 18.7s\n",
      "Processed brute force user at 38.7s.\n",
      "Processed port scan at 40.9s.\n",
      "Processed credential reuse check at 41.0s.\n",
      "Processed vulnerabilities exploitation at 56.4s\n",
      "Processed brute force user at 76.4s.\n",
      "IPShuffle triggered 77.1s\n",
      "IPShuffle deployed in the network at 77.1s.\n",
      "Processed port scan at 78.6s.\n",
      "Processed credential reuse check at 78.7s.\n",
      "IPShuffle finished in 2.3s at 79.5s.\n",
      "HostTopologyShuffle triggered 83.9s\n",
      "HostTopologyShuffle deployed in the network at 83.9s.\n",
      "HostTopologyShuffle finished in 12.4s at 96.3s.\n",
      "IPShuffle triggered 97.0s\n",
      "IPShuffle deployed in the network at 97.0s.\n",
      "Processed vulnerabilities exploitation at 105.6s\n",
      "HostTopologyShuffle triggered 107.1s\n",
      "HostTopologyShuffle suspended at 107.1s due to resource occupation\n",
      "IPShuffle finished in 22.8s at 119.8s.\n",
      "Processed brute force user at 125.6s.\n",
      "Processed port scan at 127.8s.\n",
      "Processed credential reuse check at 127.9s.\n",
      "Processed vulnerabilities exploitation at 128.4s\n",
      "HostTopologyShuffle triggered 140.3s\n",
      "HostTopologyShuffle deployed in the network at 140.3s.\n",
      "Processed brute force user at 148.4s.\n",
      "Processed port scan at 150.6s.\n",
      "Processed credential reuse check at 150.7s.\n",
      "Processed vulnerabilities exploitation at 165.0s\n",
      "HostTopologyShuffle triggered 171.1s\n",
      "HostTopologyShuffle suspended at 171.1s due to resource occupation\n",
      "Processed brute force user at 185.0s.\n",
      "HostTopologyShuffle triggered 186.2s\n",
      "HostTopologyShuffle suspended at 186.2s due to resource occupation\n",
      "Processed port scan at 187.2s.\n",
      "Processed credential reuse check at 187.3s.\n",
      "Processed vulnerabilities exploitation at 195.8s\n",
      "HostTopologyShuffle triggered 204.4s\n",
      "HostTopologyShuffle suspended at 204.4s due to resource occupation\n",
      "Processed brute force user at 215.8s.\n",
      "Processed port scan at 218.0s.\n",
      "Processed credential reuse check at 218.1s.\n",
      "Processed vulnerabilities exploitation at 229.2s\n",
      "HostTopologyShuffle finished in 96.0s at 236.3s.\n",
      "Processed brute force user at 249.2s.\n",
      "Processed port scan at 251.4s.\n",
      "Processed credential reuse check at 251.5s.\n",
      "Processed vulnerabilities exploitation at 291.8s\n",
      "HostTopologyShuffle triggered 293.1s\n",
      "HostTopologyShuffle deployed in the network at 293.1s.\n",
      "HostTopologyShuffle finished in 0.4s at 293.5s.\n",
      "IPShuffle triggered 296.4s\n",
      "IPShuffle deployed in the network at 296.4s.\n",
      "Processed brute force user at 311.8s.\n",
      "Processed port scan at 314.0s.\n",
      "Processed credential reuse check at 314.1s.\n",
      "HostTopologyShuffle triggered 317.2s\n",
      "HostTopologyShuffle suspended at 317.2s due to resource occupation\n",
      "HostTopologyShuffle triggered 327.5s\n",
      "HostTopologyShuffle suspended at 327.5s due to resource occupation\n",
      "HostTopologyShuffle triggered 341.1s\n",
      "HostTopologyShuffle suspended at 341.1s due to resource occupation\n",
      "IPShuffle finished in 53.6s at 350.0s.\n",
      "HostTopologyShuffle triggered 377.6s\n",
      "HostTopologyShuffle deployed in the network at 377.6s.\n",
      "Processed vulnerabilities exploitation at 403.2s\n",
      "HostTopologyShuffle finished in 42.1s at 419.7s.\n",
      "Processed brute force user at 423.2s.\n",
      "Processed port scan at 425.4s.\n",
      "Processed credential reuse check at 425.5s.\n",
      "IPShuffle triggered 435.5s\n",
      "IPShuffle deployed in the network at 435.5s.\n",
      "HostTopologyShuffle triggered 437.3s\n",
      "HostTopologyShuffle suspended at 437.3s due to resource occupation\n",
      "HostTopologyShuffle triggered 452.2s\n",
      "HostTopologyShuffle suspended at 452.2s due to resource occupation\n",
      "IPShuffle finished in 21.5s at 457.0s.\n",
      "HostTopologyShuffle triggered 459.9s\n",
      "HostTopologyShuffle deployed in the network at 459.9s.\n",
      "HostTopologyShuffle triggered 469.8s\n",
      "HostTopologyShuffle suspended at 469.8s due to resource occupation\n",
      "Processed vulnerabilities exploitation at 469.9s\n",
      "HostTopologyShuffle finished in 15.1s at 475.0s.\n",
      "Processed brute force user at 489.9s.\n",
      "Processed port scan at 492.1s.\n",
      "Processed credential reuse check at 492.2s.\n",
      "Processed vulnerabilities exploitation at 547.4s\n",
      "HostTopologyShuffle triggered 552.5s\n",
      "HostTopologyShuffle deployed in the network at 552.5s.\n",
      "PortShuffle triggered 565.2s\n",
      "PortShuffle deployed in the network at 565.2s.\n",
      "Processed brute force user at 567.4s.\n",
      "Processed port scan at 569.6s.\n",
      "Processed credential reuse check at 569.7s.\n",
      "PortShuffle finished in 17.1s at 582.3s.\n",
      "HostTopologyShuffle finished in 33.5s at 586.0s.\n",
      "Processed vulnerabilities exploitation at 615.4s\n",
      "IPShuffle triggered 618.7s\n",
      "IPShuffle deployed in the network at 618.7s.\n",
      "Processed brute force user at 635.4s.\n",
      "Processed port scan at 637.6s.\n",
      "Processed credential reuse check at 637.7s.\n",
      "PortShuffle triggered 662.9s\n",
      "PortShuffle deployed in the network at 662.9s.\n",
      "Processed vulnerabilities exploitation at 663.8s\n",
      "PortShuffle triggered 665.0s\n",
      "PortShuffle suspended at 665.0s due to resource occupation\n",
      "PortShuffle triggered 683.4s\n",
      "PortShuffle suspended at 683.4s due to resource occupation\n",
      "Processed brute force user at 683.8s.\n",
      "Processed port scan at 686.0s.\n",
      "Processed credential reuse check at 686.1s.\n",
      "PortShuffle triggered 691.1s\n",
      "PortShuffle suspended at 691.1s due to resource occupation\n",
      "PortShuffle triggered 693.7s\n",
      "PortShuffle suspended at 693.7s due to resource occupation\n",
      "IPShuffle finished in 79.6s at 698.3s.\n",
      "PortShuffle finished in 39.1s at 702.0s.\n",
      "PortShuffle triggered 712.6s\n",
      "PortShuffle deployed in the network at 712.6s.\n",
      "Processed vulnerabilities exploitation at 716.0s\n",
      "PortShuffle finished in 13.0s at 725.6s.\n",
      "Processed brute force user at 736.0s.\n",
      "Processed port scan at 738.2s.\n",
      "Processed credential reuse check at 738.3s.\n",
      "Processed vulnerabilities exploitation at 738.8s\n",
      "Processed brute force user at 758.8s.\n",
      "Processed port scan at 761.0s.\n",
      "Processed credential reuse check at 761.1s.\n",
      "HostTopologyShuffle triggered 762.7s\n",
      "HostTopologyShuffle deployed in the network at 762.7s.\n",
      "Processed vulnerabilities exploitation at 778.9s\n",
      "IPShuffle triggered 779.2s\n",
      "IPShuffle suspended at 779.2s due to resource occupation\n",
      "IPShuffle triggered 787.4s\n",
      "IPShuffle suspended at 787.4s due to resource occupation\n",
      "Processed brute force user at 798.9s.\n",
      "Processed port scan at 801.1s.\n",
      "Processed credential reuse check at 801.2s.\n",
      "IPShuffle triggered 802.2s\n",
      "IPShuffle suspended at 802.2s due to resource occupation\n",
      "Processed vulnerabilities exploitation at 806.6s\n",
      "HostTopologyShuffle finished in 50.8s at 813.5s.\n",
      "Processed brute force user at 826.6s.\n",
      "Processed port scan at 828.8s.\n",
      "Processed credential reuse check at 828.9s.\n",
      "Processed vulnerabilities exploitation at 838.4s\n",
      "Processed brute force user at 858.4s.\n",
      "Processed port scan at 860.6s.\n",
      "Processed credential reuse check at 860.7s.\n",
      "Processed vulnerabilities exploitation at 864.1s\n",
      "IPShuffle triggered 872.6s\n",
      "IPShuffle deployed in the network at 872.6s.\n",
      "PortShuffle triggered 876.6s\n",
      "PortShuffle deployed in the network at 876.6s.\n",
      "Processed brute force user at 884.1s.\n",
      "Processed port scan at 886.3s.\n",
      "Processed credential reuse check at 886.4s.\n",
      "Processed vulnerabilities exploitation at 890.9s\n",
      "Processed brute force user at 910.9s.\n",
      "Processed host scan at 911.0s.\n",
      "Processed port scan at 913.2s.\n",
      "Processed credential reuse check at 913.3s.\n",
      "PortShuffle finished in 39.9s at 916.6s.\n",
      "IPShuffle triggered 925.4s\n",
      "IPShuffle suspended at 925.4s due to resource occupation\n",
      "Processed vulnerabilities exploitation at 930.8s\n",
      "IPShuffle triggered 941.9s\n",
      "IPShuffle suspended at 941.9s due to resource occupation\n",
      "Processed brute force user at 950.8s.\n",
      "Processed port scan at 953.0s.\n",
      "Processed credential reuse check at 953.1s.\n",
      "IPShuffle triggered 962.3s\n",
      "IPShuffle suspended at 962.3s due to resource occupation\n",
      "Processed vulnerabilities exploitation at 977.9s\n",
      "Processed brute force user at 997.9s.\n"
     ]
    }
   ],
   "source": [
    "# set up dataframe for collecting event data\n",
    "mtd_operation_record, attack_operation_record = run_sim()"
   ]
  },
  {
   "cell_type": "code",
   "execution_count": 24,
   "metadata": {
    "collapsed": false,
    "pycharm": {
     "name": "#%%\n"
    }
   },
   "outputs": [
    {
     "data": {
      "text/plain": "                   name  start_time  finish_time   duration\n0             IPShuffle    1.095980     1.541176   0.445196\n1   HostTopologyShuffle    7.516385    16.318519   8.802133\n2             IPShuffle   77.115542    79.450990   2.335448\n3   HostTopologyShuffle   83.949792    96.337250  12.387457\n4             IPShuffle   97.020824   119.837239  22.816416\n5   HostTopologyShuffle  140.282472   236.318287  96.035814\n6   HostTopologyShuffle  293.060841   293.483309   0.422468\n7             IPShuffle  296.394823   350.014008  53.619185\n8   HostTopologyShuffle  377.636184   419.723889  42.087705\n9             IPShuffle  435.538976   457.048406  21.509430\n10  HostTopologyShuffle  459.927860   475.035689  15.107829\n11          PortShuffle  565.197426   582.294864  17.097438\n12  HostTopologyShuffle  552.466558   585.973082  33.506524\n13            IPShuffle  618.722437   698.312131  79.589694\n14          PortShuffle  662.889360   701.998146  39.108786\n15          PortShuffle  712.557667   725.594710  13.037043\n16  HostTopologyShuffle  762.732763   813.508824  50.776061\n17          PortShuffle  876.622480   916.570562  39.948081",
      "text/html": "<div>\n<style scoped>\n    .dataframe tbody tr th:only-of-type {\n        vertical-align: middle;\n    }\n\n    .dataframe tbody tr th {\n        vertical-align: top;\n    }\n\n    .dataframe thead th {\n        text-align: right;\n    }\n</style>\n<table border=\"1\" class=\"dataframe\">\n  <thead>\n    <tr style=\"text-align: right;\">\n      <th></th>\n      <th>name</th>\n      <th>start_time</th>\n      <th>finish_time</th>\n      <th>duration</th>\n    </tr>\n  </thead>\n  <tbody>\n    <tr>\n      <th>0</th>\n      <td>IPShuffle</td>\n      <td>1.095980</td>\n      <td>1.541176</td>\n      <td>0.445196</td>\n    </tr>\n    <tr>\n      <th>1</th>\n      <td>HostTopologyShuffle</td>\n      <td>7.516385</td>\n      <td>16.318519</td>\n      <td>8.802133</td>\n    </tr>\n    <tr>\n      <th>2</th>\n      <td>IPShuffle</td>\n      <td>77.115542</td>\n      <td>79.450990</td>\n      <td>2.335448</td>\n    </tr>\n    <tr>\n      <th>3</th>\n      <td>HostTopologyShuffle</td>\n      <td>83.949792</td>\n      <td>96.337250</td>\n      <td>12.387457</td>\n    </tr>\n    <tr>\n      <th>4</th>\n      <td>IPShuffle</td>\n      <td>97.020824</td>\n      <td>119.837239</td>\n      <td>22.816416</td>\n    </tr>\n    <tr>\n      <th>5</th>\n      <td>HostTopologyShuffle</td>\n      <td>140.282472</td>\n      <td>236.318287</td>\n      <td>96.035814</td>\n    </tr>\n    <tr>\n      <th>6</th>\n      <td>HostTopologyShuffle</td>\n      <td>293.060841</td>\n      <td>293.483309</td>\n      <td>0.422468</td>\n    </tr>\n    <tr>\n      <th>7</th>\n      <td>IPShuffle</td>\n      <td>296.394823</td>\n      <td>350.014008</td>\n      <td>53.619185</td>\n    </tr>\n    <tr>\n      <th>8</th>\n      <td>HostTopologyShuffle</td>\n      <td>377.636184</td>\n      <td>419.723889</td>\n      <td>42.087705</td>\n    </tr>\n    <tr>\n      <th>9</th>\n      <td>IPShuffle</td>\n      <td>435.538976</td>\n      <td>457.048406</td>\n      <td>21.509430</td>\n    </tr>\n    <tr>\n      <th>10</th>\n      <td>HostTopologyShuffle</td>\n      <td>459.927860</td>\n      <td>475.035689</td>\n      <td>15.107829</td>\n    </tr>\n    <tr>\n      <th>11</th>\n      <td>PortShuffle</td>\n      <td>565.197426</td>\n      <td>582.294864</td>\n      <td>17.097438</td>\n    </tr>\n    <tr>\n      <th>12</th>\n      <td>HostTopologyShuffle</td>\n      <td>552.466558</td>\n      <td>585.973082</td>\n      <td>33.506524</td>\n    </tr>\n    <tr>\n      <th>13</th>\n      <td>IPShuffle</td>\n      <td>618.722437</td>\n      <td>698.312131</td>\n      <td>79.589694</td>\n    </tr>\n    <tr>\n      <th>14</th>\n      <td>PortShuffle</td>\n      <td>662.889360</td>\n      <td>701.998146</td>\n      <td>39.108786</td>\n    </tr>\n    <tr>\n      <th>15</th>\n      <td>PortShuffle</td>\n      <td>712.557667</td>\n      <td>725.594710</td>\n      <td>13.037043</td>\n    </tr>\n    <tr>\n      <th>16</th>\n      <td>HostTopologyShuffle</td>\n      <td>762.732763</td>\n      <td>813.508824</td>\n      <td>50.776061</td>\n    </tr>\n    <tr>\n      <th>17</th>\n      <td>PortShuffle</td>\n      <td>876.622480</td>\n      <td>916.570562</td>\n      <td>39.948081</td>\n    </tr>\n  </tbody>\n</table>\n</div>"
     },
     "execution_count": 24,
     "metadata": {},
     "output_type": "execute_result"
    }
   ],
   "source": [
    "mtd_operation_record = pd.DataFrame(mtd_operation_record)\n",
    "mtd_operation_record"
   ]
  },
  {
   "cell_type": "code",
   "execution_count": 25,
   "metadata": {
    "collapsed": false,
    "pycharm": {
     "name": "#%%\n"
    }
   },
   "outputs": [],
   "source": [
    "\n",
    "# fig1 = go.Figure(go.Waterfall(x = mtd_operation_record['deploy_time'],\n",
    "#                               y = mtd_operation_record['name'],\n",
    "#                               measure = ['absolute']*100,\n",
    "#                               connector = {\"mode\":\"between\", \"line\":{\"color\":\"red\"}}))\n",
    "#\n",
    "# fig1.update_layout(title = 'Time duration of MTD operations',\n",
    "#                    xaxis_title = 'Time' , yaxis_title = 'MTD techniques',\n",
    "#                    width = 800, height = 600)"
   ]
  },
  {
   "cell_type": "code",
   "execution_count": 26,
   "metadata": {
    "collapsed": false,
    "pycharm": {
     "name": "#%%\n"
    }
   },
   "outputs": [
    {
     "data": {
      "text/plain": "<Figure size 1152x432 with 1 Axes>",
      "image/png": "[encoded data removed]"
     },
     "metadata": {
      "needs_background": "light"
     },
     "output_type": "display_data"
    }
   ],
   "source": [
    "fig, ax = plt.subplots(1, figsize=(16, 6))\n",
    "ax.barh(mtd_operation_record['name'], mtd_operation_record['duration'], left=mtd_operation_record['start_time'], height=0.1)\n",
    "\n",
    "plt.xlabel('Time',  weight='bold', fontsize=18)\n",
    "plt.ylabel('MTD Techniques', weight='bold', fontsize=18)\n",
    "fig.tight_layout()\n",
    "plt.show()"
   ]
  },
  {
   "cell_type": "code",
   "execution_count": 27,
   "metadata": {
    "collapsed": false,
    "pycharm": {
     "name": "#%%\n"
    }
   },
   "outputs": [
    {
     "data": {
      "text/plain": "                      name  start_time  finish_time   duration\n0                 PortScan    0.300000     2.300000   2.000000\n1   VulnerabilitiesExploit    2.400000    18.673054  16.273054\n2               BruteForce   18.673054    38.673054  20.000000\n3                 PortScan   38.873054    40.873054   2.000000\n4   VulnerabilitiesExploit   40.973054    56.406776  15.433721\n..                     ...         ...          ...        ...\n61  VulnerabilitiesExploit  913.269359   930.842815  17.573456\n62              BruteForce  930.842815   950.842815  20.000000\n63                PortScan  951.042815   953.042815   2.000000\n64  VulnerabilitiesExploit  953.142815   977.920976  24.778161\n65              BruteForce  977.920976   997.920976  20.000000\n\n[66 rows x 4 columns]",
      "text/html": "<div>\n<style scoped>\n    .dataframe tbody tr th:only-of-type {\n        vertical-align: middle;\n    }\n\n    .dataframe tbody tr th {\n        vertical-align: top;\n    }\n\n    .dataframe thead th {\n        text-align: right;\n    }\n</style>\n<table border=\"1\" class=\"dataframe\">\n  <thead>\n    <tr style=\"text-align: right;\">\n      <th></th>\n      <th>name</th>\n      <th>start_time</th>\n      <th>finish_time</th>\n      <th>duration</th>\n    </tr>\n  </thead>\n  <tbody>\n    <tr>\n      <th>0</th>\n      <td>PortScan</td>\n      <td>0.300000</td>\n      <td>2.300000</td>\n      <td>2.000000</td>\n    </tr>\n    <tr>\n      <th>1</th>\n      <td>VulnerabilitiesExploit</td>\n      <td>2.400000</td>\n      <td>18.673054</td>\n      <td>16.273054</td>\n    </tr>\n    <tr>\n      <th>2</th>\n      <td>BruteForce</td>\n      <td>18.673054</td>\n      <td>38.673054</td>\n      <td>20.000000</td>\n    </tr>\n    <tr>\n      <th>3</th>\n      <td>PortScan</td>\n      <td>38.873054</td>\n      <td>40.873054</td>\n      <td>2.000000</td>\n    </tr>\n    <tr>\n      <th>4</th>\n      <td>VulnerabilitiesExploit</td>\n      <td>40.973054</td>\n      <td>56.406776</td>\n      <td>15.433721</td>\n    </tr>\n    <tr>\n      <th>...</th>\n      <td>...</td>\n      <td>...</td>\n      <td>...</td>\n      <td>...</td>\n    </tr>\n    <tr>\n      <th>61</th>\n      <td>VulnerabilitiesExploit</td>\n      <td>913.269359</td>\n      <td>930.842815</td>\n      <td>17.573456</td>\n    </tr>\n    <tr>\n      <th>62</th>\n      <td>BruteForce</td>\n      <td>930.842815</td>\n      <td>950.842815</td>\n      <td>20.000000</td>\n    </tr>\n    <tr>\n      <th>63</th>\n      <td>PortScan</td>\n      <td>951.042815</td>\n      <td>953.042815</td>\n      <td>2.000000</td>\n    </tr>\n    <tr>\n      <th>64</th>\n      <td>VulnerabilitiesExploit</td>\n      <td>953.142815</td>\n      <td>977.920976</td>\n      <td>24.778161</td>\n    </tr>\n    <tr>\n      <th>65</th>\n      <td>BruteForce</td>\n      <td>977.920976</td>\n      <td>997.920976</td>\n      <td>20.000000</td>\n    </tr>\n  </tbody>\n</table>\n<p>66 rows × 4 columns</p>\n</div>"
     },
     "execution_count": 27,
     "metadata": {},
     "output_type": "execute_result"
    }
   ],
   "source": [
    "attack_operation_record = pd.DataFrame(attack_operation_record)\n",
    "attack_operation_record"
   ]
  },
  {
   "cell_type": "code",
   "execution_count": 28,
   "metadata": {
    "collapsed": false,
    "pycharm": {
     "name": "#%%\n"
    }
   },
   "outputs": [
    {
     "data": {
      "text/plain": "<Figure size 1152x432 with 1 Axes>",
      "image/png": "[encoded data removed]"
     },
     "metadata": {
      "needs_background": "light"
     },
     "output_type": "display_data"
    }
   ],
   "source": [
    "fig2, ax2 = plt.subplots(1, figsize=(16, 6))\n",
    "ax2.barh(attack_operation_record['name'], attack_operation_record['duration'], left=attack_operation_record['start_time'], height=0.1)\n",
    "\n",
    "plt.xlabel('Time',  weight='bold', fontsize=18)\n",
    "plt.ylabel('Attack Progress', weight='bold', fontsize=18)\n",
    "fig2.tight_layout()\n",
    "plt.show()"
   ]
  },
  {
   "cell_type": "code",
   "execution_count": 28,
   "metadata": {
    "collapsed": false,
    "pycharm": {
     "name": "#%%\n"
    }
   },
   "outputs": [],
   "source": []
  }
 ],
 "metadata": {
  "kernelspec": {
   "display_name": "Python 3.9.13 ('venv': venv)",
   "language": "python",
   "name": "python3"
  },
  "language_info": {
   "codemirror_mode": {
    "name": "ipython",
    "version": 3
   },
   "file_extension": ".py",
   "mimetype": "text/x-python",
   "name": "python",
   "nbconvert_exporter": "python",
   "pygments_lexer": "ipython3",
   "version": "3.9.13"
  },
  "orig_nbformat": 4,
  "vscode": {
   "interpreter": {
    "hash": "ca714204bdf767f914288741b60dfd3ec695087ef64c4e46bb5b8f91083c76f9"
   }
  }
 },
 "nbformat": 4,
 "nbformat_minor": 2
}