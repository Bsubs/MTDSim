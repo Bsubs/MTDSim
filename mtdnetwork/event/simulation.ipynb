{
 "cells": [
  {
   "cell_type": "code",
   "execution_count": 1,
   "metadata": {},
   "outputs": [],
   "source": [
    "from run_sim import run_sim\n",
    "import pandas as pd\n",
    "import plotly.graph_objects as go\n",
    "import matplotlib.pyplot as plt\n"
   ]
  },
  {
   "cell_type": "code",
   "execution_count": 2,
   "metadata": {},
   "outputs": [
    {
     "name": "stdout",
     "output_type": "stream",
     "text": [
      "Target Node is:  93\n",
      "Processed host scan at 0.1s.\n",
      "Processed port scan at 2.3s.\n",
      "Processed credential reuse check at 2.4s.\n",
      "HostTopologyShuffle triggered 26.7s\n",
      "HostTopologyShuffle deployed in the network at 26.7s.\n",
      "HostTopologyShuffle finished in 43.2s at 69.9s.\n",
      "Processed vulnerabilities exploitation at 76.3s\n",
      "PortShuffle triggered 92.9s\n",
      "PortShuffle deployed in the network at 92.9s.\n",
      "Processed brute force user at 96.3s.\n",
      "Processed port scan at 98.5s.\n",
      "Processed credential reuse check at 98.6s.\n",
      "Processed vulnerabilities exploitation at 99.7s\n",
      "IPShuffle triggered 115.3s\n",
      "IPShuffle deployed in the network at 115.3s.\n",
      "PortShuffle finished in 25.7s at 118.6s.\n",
      "Processed brute force user at 119.7s.\n",
      "Processed port scan at 121.9s.\n",
      "Processed credential reuse check at 122.0s.\n",
      "PortShuffle triggered 124.5s\n",
      "PortShuffle deployed in the network at 124.5s.\n",
      "IPShuffle finished in 9.9s at 125.1s.\n",
      "HostTopologyShuffle triggered 131.3s\n",
      "HostTopologyShuffle deployed in the network at 131.3s.\n",
      "Processed vulnerabilities exploitation at 138.6s\n",
      "HostTopologyShuffle finished in 10.0s at 141.3s.\n",
      "PortShuffle triggered 144.1s\n",
      "PortShuffle suspended at 144.1s due to resource occupation\n",
      "Processed brute force user at 158.6s.\n",
      "Processed port scan at 160.8s.\n",
      "Processed credential reuse check at 160.9s.\n",
      "Processed vulnerabilities exploitation at 165.5s\n",
      "Processed brute force user at 185.5s.\n",
      "Processed port scan at 187.7s.\n",
      "Processed credential reuse check at 187.8s.\n",
      "PortShuffle triggered 196.0s\n",
      "PortShuffle suspended at 196.0s due to resource occupation\n",
      "Processed vulnerabilities exploitation at 196.4s\n",
      "PortShuffle triggered 204.4s\n",
      "PortShuffle suspended at 204.4s due to resource occupation\n",
      "Processed brute force user at 216.4s.\n",
      "Processed port scan at 218.6s.\n",
      "Processed credential reuse check at 218.7s.\n",
      "PortShuffle triggered 230.2s\n",
      "PortShuffle suspended at 230.2s due to resource occupation\n",
      "PortShuffle triggered 246.9s\n",
      "PortShuffle suspended at 246.9s due to resource occupation\n",
      "PortShuffle triggered 273.1s\n",
      "PortShuffle suspended at 273.1s due to resource occupation\n",
      "Processed vulnerabilities exploitation at 281.7s\n",
      "Processed brute force user at 301.7s.\n",
      "Processed port scan at 303.9s.\n",
      "Processed credential reuse check at 304.0s.\n",
      "PortShuffle triggered 304.9s\n",
      "PortShuffle suspended at 304.9s due to resource occupation\n",
      "PortShuffle finished in 186.9s at 311.4s.\n",
      "PortShuffle triggered 317.7s\n",
      "PortShuffle deployed in the network at 317.7s.\n",
      "IPShuffle triggered 325.3s\n",
      "IPShuffle deployed in the network at 325.3s.\n",
      "PortShuffle finished in 36.8s at 354.5s.\n",
      "IPShuffle finished in 63.7s at 388.9s.\n",
      "Processed vulnerabilities exploitation at 421.3s\n",
      "IPShuffle triggered 426.5s\n",
      "IPShuffle deployed in the network at 426.5s.\n",
      "PortShuffle triggered 429.0s\n",
      "PortShuffle deployed in the network at 429.0s.\n",
      "PortShuffle finished in 11.0s at 439.9s.\n",
      "IPShuffle finished in 13.9s at 440.4s.\n",
      "Processed brute force user at 441.3s.\n",
      "Processed port scan at 443.5s.\n",
      "Processed credential reuse check at 443.6s.\n",
      "Processed vulnerabilities exploitation at 507.8s\n",
      "Processed brute force user at 527.8s.\n",
      "Processed port scan at 530.0s.\n",
      "Processed credential reuse check at 530.1s.\n",
      "Processed vulnerabilities exploitation at 531.8s\n",
      "Processed brute force user at 551.8s.\n",
      "Processed port scan at 554.0s.\n",
      "Processed credential reuse check at 554.1s.\n",
      "IPShuffle triggered 573.8s\n",
      "IPShuffle deployed in the network at 573.8s.\n",
      "Processed vulnerabilities exploitation at 586.1s\n",
      "PortShuffle triggered 587.0s\n",
      "PortShuffle deployed in the network at 587.0s.\n",
      "IPShuffle finished in 16.0s at 589.9s.\n",
      "IPShuffle triggered 591.3s\n",
      "IPShuffle deployed in the network at 591.3s.\n",
      "HostTopologyShuffle triggered 597.2s\n",
      "HostTopologyShuffle suspended at 597.2s due to resource occupation\n",
      "Processed brute force user at 606.1s.\n",
      "Processed port scan at 608.3s.\n",
      "Processed credential reuse check at 608.4s.\n",
      "PortShuffle finished in 37.8s at 624.8s.\n",
      "Processed vulnerabilities exploitation at 636.4s\n",
      "HostTopologyShuffle triggered 645.4s\n",
      "HostTopologyShuffle suspended at 645.4s due to resource occupation\n",
      "HostTopologyShuffle triggered 650.5s\n",
      "HostTopologyShuffle suspended at 650.5s due to resource occupation\n",
      "Processed brute force user at 656.4s.\n",
      "Processed port scan at 658.6s.\n",
      "Processed credential reuse check at 658.7s.\n",
      "Processed vulnerabilities exploitation at 665.6s\n",
      "Processed brute force user at 685.6s.\n",
      "Processed port scan at 687.8s.\n",
      "Processed credential reuse check at 687.9s.\n",
      "Processed vulnerabilities exploitation at 698.5s\n",
      "IPShuffle finished in 108.3s at 699.7s.\n",
      "HostTopologyShuffle triggered 718.1s\n",
      "HostTopologyShuffle deployed in the network at 718.1s.\n",
      "Processed brute force user at 718.5s.\n",
      "Processed port scan at 720.7s.\n",
      "Processed credential reuse check at 720.8s.\n",
      "Processed vulnerabilities exploitation at 730.8s\n",
      "IPShuffle triggered 742.8s\n",
      "IPShuffle suspended at 742.8s due to resource occupation\n",
      "HostTopologyShuffle finished in 32.1s at 750.2s.\n",
      "Processed brute force user at 750.8s.\n",
      "Processed port scan at 753.0s.\n",
      "Processed credential reuse check at 753.1s.\n",
      "Processed vulnerabilities exploitation at 759.4s\n",
      "IPShuffle triggered 773.7s\n",
      "IPShuffle deployed in the network at 773.7s.\n",
      "PortShuffle triggered 775.0s\n",
      "PortShuffle deployed in the network at 775.0s.\n",
      "HostTopologyShuffle triggered 776.7s\n",
      "HostTopologyShuffle suspended at 776.7s due to resource occupation\n",
      "HostTopologyShuffle triggered 777.5s\n",
      "HostTopologyShuffle suspended at 777.5s due to resource occupation\n",
      "Processed brute force user at 779.4s.\n",
      "Processed port scan at 781.6s.\n",
      "Processed credential reuse check at 781.7s.\n",
      "Processed vulnerabilities exploitation at 807.2s\n",
      "PortShuffle finished in 40.5s at 815.6s.\n",
      "IPShuffle finished in 45.6s at 819.2s.\n",
      "Processed brute force user at 827.2s.\n",
      "Processed port scan at 829.4s.\n",
      "Processed credential reuse check at 829.5s.\n",
      "Processed vulnerabilities exploitation at 836.4s\n",
      "HostTopologyShuffle triggered 841.3s\n",
      "HostTopologyShuffle deployed in the network at 841.3s.\n",
      "Processed brute force user at 856.4s.\n",
      "Processed port scan at 858.6s.\n",
      "Processed credential reuse check at 858.7s.\n",
      "IPShuffle triggered 868.1s\n",
      "IPShuffle suspended at 868.1s due to resource occupation\n",
      "Processed vulnerabilities exploitation at 888.9s\n",
      "IPShuffle triggered 893.8s\n",
      "IPShuffle suspended at 893.8s due to resource occupation\n",
      "Processed brute force user at 908.9s.\n",
      "Processed port scan at 911.1s.\n",
      "Processed credential reuse check at 911.2s.\n",
      "IPShuffle triggered 917.3s\n",
      "IPShuffle suspended at 917.3s due to resource occupation\n",
      "Processed vulnerabilities exploitation at 923.5s\n",
      "Processed brute force user at 943.5s.\n",
      "Processed port scan at 945.7s.\n",
      "Processed credential reuse check at 945.8s.\n",
      "HostTopologyShuffle finished in 109.5s at 950.9s.\n",
      "Processed vulnerabilities exploitation at 962.3s\n",
      "Processed brute force user at 982.3s.\n",
      "Processed host scan at 982.4s.\n",
      "Processed port scan at 984.6s.\n",
      "Processed credential reuse check at 984.7s.\n",
      "Processed vulnerabilities exploitation at 987.6s\n"
     ]
    }
   ],
   "source": [
    "# set up dataframe for collecting event data\n",
    "mtd_operation_record, attack_operation_record = run_sim()"
   ]
  },
  {
   "cell_type": "code",
   "execution_count": 3,
   "outputs": [
    {
     "data": {
      "text/plain": "                   name  start_time  finish_time    duration\n0   HostTopologyShuffle   26.705959    69.879879   43.173920\n1           PortShuffle   92.907307   118.594744   25.687437\n2             IPShuffle  115.263158   125.142631    9.879472\n3   HostTopologyShuffle  131.263409   141.296047   10.032638\n4           PortShuffle  124.485892   311.421787  186.935895\n5           PortShuffle  317.721652   354.537028   36.815376\n6             IPShuffle  325.259988   388.927824   63.667836\n7           PortShuffle  428.980457   439.942165   10.961708\n8             IPShuffle  426.460714   440.398405   13.937691\n9             IPShuffle  573.804970   589.852179   16.047209\n10          PortShuffle  587.047544   624.817618   37.770074\n11            IPShuffle  591.335847   699.653212  108.317365\n12  HostTopologyShuffle  718.063056   750.186880   32.123824\n13          PortShuffle  775.033205   815.558396   40.525191\n14            IPShuffle  773.666277   819.223037   45.556760\n15  HostTopologyShuffle  841.346805   950.890262  109.543457",
      "text/html": "<div>\n<style scoped>\n    .dataframe tbody tr th:only-of-type {\n        vertical-align: middle;\n    }\n\n    .dataframe tbody tr th {\n        vertical-align: top;\n    }\n\n    .dataframe thead th {\n        text-align: right;\n    }\n</style>\n<table border=\"1\" class=\"dataframe\">\n  <thead>\n    <tr style=\"text-align: right;\">\n      <th></th>\n      <th>name</th>\n      <th>start_time</th>\n      <th>finish_time</th>\n      <th>duration</th>\n    </tr>\n  </thead>\n  <tbody>\n    <tr>\n      <th>0</th>\n      <td>HostTopologyShuffle</td>\n      <td>26.705959</td>\n      <td>69.879879</td>\n      <td>43.173920</td>\n    </tr>\n    <tr>\n      <th>1</th>\n      <td>PortShuffle</td>\n      <td>92.907307</td>\n      <td>118.594744</td>\n      <td>25.687437</td>\n    </tr>\n    <tr>\n      <th>2</th>\n      <td>IPShuffle</td>\n      <td>115.263158</td>\n      <td>125.142631</td>\n      <td>9.879472</td>\n    </tr>\n    <tr>\n      <th>3</th>\n      <td>HostTopologyShuffle</td>\n      <td>131.263409</td>\n      <td>141.296047</td>\n      <td>10.032638</td>\n    </tr>\n    <tr>\n      <th>4</th>\n      <td>PortShuffle</td>\n      <td>124.485892</td>\n      <td>311.421787</td>\n      <td>186.935895</td>\n    </tr>\n    <tr>\n      <th>5</th>\n      <td>PortShuffle</td>\n      <td>317.721652</td>\n      <td>354.537028</td>\n      <td>36.815376</td>\n    </tr>\n    <tr>\n      <th>6</th>\n      <td>IPShuffle</td>\n      <td>325.259988</td>\n      <td>388.927824</td>\n      <td>63.667836</td>\n    </tr>\n    <tr>\n      <th>7</th>\n      <td>PortShuffle</td>\n      <td>428.980457</td>\n      <td>439.942165</td>\n      <td>10.961708</td>\n    </tr>\n    <tr>\n      <th>8</th>\n      <td>IPShuffle</td>\n      <td>426.460714</td>\n      <td>440.398405</td>\n      <td>13.937691</td>\n    </tr>\n    <tr>\n      <th>9</th>\n      <td>IPShuffle</td>\n      <td>573.804970</td>\n      <td>589.852179</td>\n      <td>16.047209</td>\n    </tr>\n    <tr>\n      <th>10</th>\n      <td>PortShuffle</td>\n      <td>587.047544</td>\n      <td>624.817618</td>\n      <td>37.770074</td>\n    </tr>\n    <tr>\n      <th>11</th>\n      <td>IPShuffle</td>\n      <td>591.335847</td>\n      <td>699.653212</td>\n      <td>108.317365</td>\n    </tr>\n    <tr>\n      <th>12</th>\n      <td>HostTopologyShuffle</td>\n      <td>718.063056</td>\n      <td>750.186880</td>\n      <td>32.123824</td>\n    </tr>\n    <tr>\n      <th>13</th>\n      <td>PortShuffle</td>\n      <td>775.033205</td>\n      <td>815.558396</td>\n      <td>40.525191</td>\n    </tr>\n    <tr>\n      <th>14</th>\n      <td>IPShuffle</td>\n      <td>773.666277</td>\n      <td>819.223037</td>\n      <td>45.556760</td>\n    </tr>\n    <tr>\n      <th>15</th>\n      <td>HostTopologyShuffle</td>\n      <td>841.346805</td>\n      <td>950.890262</td>\n      <td>109.543457</td>\n    </tr>\n  </tbody>\n</table>\n</div>"
     },
     "execution_count": 3,
     "metadata": {},
     "output_type": "execute_result"
    }
   ],
   "source": [
    "mtd_operation_record = pd.DataFrame(mtd_operation_record)\n",
    "mtd_operation_record"
   ],
   "metadata": {
    "collapsed": false,
    "pycharm": {
     "name": "#%%\n"
    }
   }
  },
  {
   "cell_type": "code",
   "execution_count": 4,
   "outputs": [],
   "source": [
    "\n",
    "# fig1 = go.Figure(go.Waterfall(x = mtd_operation_record['deploy_time'],\n",
    "#                               y = mtd_operation_record['name'],\n",
    "#                               measure = ['absolute']*100,\n",
    "#                               connector = {\"mode\":\"between\", \"line\":{\"color\":\"red\"}}))\n",
    "#\n",
    "# fig1.update_layout(title = 'Time duration of MTD operations',\n",
    "#                    xaxis_title = 'Time' , yaxis_title = 'MTD techniques',\n",
    "#                    width = 800, height = 600)"
   ],
   "metadata": {
    "collapsed": false,
    "pycharm": {
     "name": "#%%\n"
    }
   }
  },
  {
   "cell_type": "code",
   "execution_count": 5,
   "outputs": [
    {
     "data": {
      "text/plain": "<Figure size 1152x432 with 1 Axes>",
      "image/png": "[encoded data removed]"
     },
     "metadata": {
      "needs_background": "light"
     },
     "output_type": "display_data"
    }
   ],
   "source": [
    "fig, ax = plt.subplots(1, figsize=(16, 6))\n",
    "ax.barh(mtd_operation_record['name'], mtd_operation_record['duration'], left=mtd_operation_record['start_time'], height=0.1)\n",
    "\n",
    "plt.xlabel('Time',  weight='bold', fontsize=18)\n",
    "plt.ylabel('MTD Techniques', weight='bold', fontsize=18)\n",
    "fig.tight_layout()\n",
    "plt.show()"
   ],
   "metadata": {
    "collapsed": false,
    "pycharm": {
     "name": "#%%\n"
    }
   }
  },
  {
   "cell_type": "code",
   "execution_count": 6,
   "outputs": [
    {
     "data": {
      "text/plain": "                      name  start_time  finish_time   duration\n0                 PortScan    0.300000     2.300000   2.000000\n1   VulnerabilitiesExploit    2.400000    76.303217  73.903217\n2               BruteForce   76.303217    96.303217  20.000000\n3                 PortScan   96.503217    98.503217   2.000000\n4   VulnerabilitiesExploit   98.603217    99.709555   1.106338\n..                     ...         ...          ...        ...\n57                PortScan  943.683134   945.683134   2.000000\n58  VulnerabilitiesExploit  945.783134   962.255583  16.472448\n59              BruteForce  962.255583   982.255583  20.000000\n60                PortScan  982.555583   984.555583   2.000000\n61  VulnerabilitiesExploit  984.655583   987.611528   2.955945\n\n[62 rows x 4 columns]",
      "text/html": "<div>\n<style scoped>\n    .dataframe tbody tr th:only-of-type {\n        vertical-align: middle;\n    }\n\n    .dataframe tbody tr th {\n        vertical-align: top;\n    }\n\n    .dataframe thead th {\n        text-align: right;\n    }\n</style>\n<table border=\"1\" class=\"dataframe\">\n  <thead>\n    <tr style=\"text-align: right;\">\n      <th></th>\n      <th>name</th>\n      <th>start_time</th>\n      <th>finish_time</th>\n      <th>duration</th>\n    </tr>\n  </thead>\n  <tbody>\n    <tr>\n      <th>0</th>\n      <td>PortScan</td>\n      <td>0.300000</td>\n      <td>2.300000</td>\n      <td>2.000000</td>\n    </tr>\n    <tr>\n      <th>1</th>\n      <td>VulnerabilitiesExploit</td>\n      <td>2.400000</td>\n      <td>76.303217</td>\n      <td>73.903217</td>\n    </tr>\n    <tr>\n      <th>2</th>\n      <td>BruteForce</td>\n      <td>76.303217</td>\n      <td>96.303217</td>\n      <td>20.000000</td>\n    </tr>\n    <tr>\n      <th>3</th>\n      <td>PortScan</td>\n      <td>96.503217</td>\n      <td>98.503217</td>\n      <td>2.000000</td>\n    </tr>\n    <tr>\n      <th>4</th>\n      <td>VulnerabilitiesExploit</td>\n      <td>98.603217</td>\n      <td>99.709555</td>\n      <td>1.106338</td>\n    </tr>\n    <tr>\n      <th>...</th>\n      <td>...</td>\n      <td>...</td>\n      <td>...</td>\n      <td>...</td>\n    </tr>\n    <tr>\n      <th>57</th>\n      <td>PortScan</td>\n      <td>943.683134</td>\n      <td>945.683134</td>\n      <td>2.000000</td>\n    </tr>\n    <tr>\n      <th>58</th>\n      <td>VulnerabilitiesExploit</td>\n      <td>945.783134</td>\n      <td>962.255583</td>\n      <td>16.472448</td>\n    </tr>\n    <tr>\n      <th>59</th>\n      <td>BruteForce</td>\n      <td>962.255583</td>\n      <td>982.255583</td>\n      <td>20.000000</td>\n    </tr>\n    <tr>\n      <th>60</th>\n      <td>PortScan</td>\n      <td>982.555583</td>\n      <td>984.555583</td>\n      <td>2.000000</td>\n    </tr>\n    <tr>\n      <th>61</th>\n      <td>VulnerabilitiesExploit</td>\n      <td>984.655583</td>\n      <td>987.611528</td>\n      <td>2.955945</td>\n    </tr>\n  </tbody>\n</table>\n<p>62 rows × 4 columns</p>\n</div>"
     },
     "execution_count": 6,
     "metadata": {},
     "output_type": "execute_result"
    }
   ],
   "source": [
    "attack_operation_record = pd.DataFrame(attack_operation_record)\n",
    "attack_operation_record"
   ],
   "metadata": {
    "collapsed": false,
    "pycharm": {
     "name": "#%%\n"
    }
   }
  },
  {
   "cell_type": "code",
   "execution_count": 8,
   "outputs": [
    {
     "data": {
      "text/plain": "<Figure size 1152x432 with 1 Axes>",
      "image/png": "[encoded data removed]"
     },
     "metadata": {
      "needs_background": "light"
     },
     "output_type": "display_data"
    }
   ],
   "source": [
    "fig2, ax2 = plt.subplots(1, figsize=(16, 6))\n",
    "ax2.barh(attack_operation_record['name'], attack_operation_record['duration'], left=attack_operation_record['start_time'], height=0.1)\n",
    "\n",
    "plt.xlabel('Time',  weight='bold', fontsize=18)\n",
    "plt.ylabel('Attack Progress', weight='bold', fontsize=18)\n",
    "fig2.tight_layout()\n",
    "plt.show()"
   ],
   "metadata": {
    "collapsed": false,
    "pycharm": {
     "name": "#%%\n"
    }
   }
  },
  {
   "cell_type": "code",
   "execution_count": null,
   "outputs": [],
   "source": [],
   "metadata": {
    "collapsed": false,
    "pycharm": {
     "name": "#%%\n"
    }
   }
  }
 ],
 "metadata": {
  "kernelspec": {
   "display_name": "Python 3.9.13 ('venv': venv)",
   "language": "python",
   "name": "python3"
  },
  "language_info": {
   "codemirror_mode": {
    "name": "ipython",
    "version": 3
   },
   "file_extension": ".py",
   "mimetype": "text/x-python",
   "name": "python",
   "nbconvert_exporter": "python",
   "pygments_lexer": "ipython3",
   "version": "3.9.13"
  },
  "orig_nbformat": 4,
  "vscode": {
   "interpreter": {
    "hash": "ca714204bdf767f914288741b60dfd3ec695087ef64c4e46bb5b8f91083c76f9"
   }
  }
 },
 "nbformat": 4,
 "nbformat_minor": 2
}