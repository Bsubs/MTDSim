{
 "cells": [
  {
   "cell_type": "code",
   "execution_count": 1,
   "metadata": {},
   "outputs": [],
   "source": [
    "from run_sim import run_sim\n",
    "import pandas as pd\n",
    "import matplotlib.pyplot as plt\n",
    "import plotly.graph_objects as go"
   ]
  },
  {
   "cell_type": "code",
   "execution_count": 2,
   "metadata": {},
   "outputs": [
    {
     "name": "stdout",
     "output_type": "stream",
     "text": [
      "Target Node is:  76\n",
      "Processed host scan at 0.0s.\n",
      "Processed port scan at 10.0s.\n",
      "Processed credential reuse check at 10.0s.\n",
      "PortShuffle triggered 18.5s\n",
      "PortShuffle deployed in the network at 18.5s.\n",
      "PortShuffle triggered 27.6s\n",
      "PortShuffle suspended at 27.6s due to resource occupation\n",
      "Processed vulnerabilities exploitation at 27.8s\n",
      "PortShuffle triggered 28.0s\n",
      "PortShuffle suspended at 28.0s due to resource occupation\n",
      "PortShuffle finished in 10.5s at 29.0s.\n",
      "Processed brute force user at 47.8s.\n",
      "PortShuffle triggered 49.6s\n",
      "PortShuffle deployed in the network at 49.6s.\n",
      "Processed port scan at 57.8s.\n",
      "Processed credential reuse check at 57.9s.\n",
      "Processed vulnerabilities exploitation at 71.7s\n",
      "PortShuffle finished in 26.8s at 76.5s.\n",
      "PortShuffle triggered 77.6s\n",
      "PortShuffle deployed in the network at 77.6s.\n",
      "PortShuffle triggered 84.4s\n",
      "PortShuffle suspended at 84.4s due to resource occupation\n",
      "Processed brute force user at 91.7s.\n",
      "Processed port scan at 101.7s.\n",
      "Processed credential reuse check at 101.7s.\n",
      "Processed vulnerabilities exploitation at 103.3s\n",
      "PortShuffle triggered 116.9s\n",
      "PortShuffle suspended at 116.9s due to resource occupation\n",
      "Processed brute force user at 123.3s.\n",
      "Processed port scan at 133.3s.\n",
      "Processed credential reuse check at 133.3s.\n",
      "PortShuffle finished in 64.1s at 141.8s.\n",
      "PortShuffle triggered 143.4s\n",
      "PortShuffle deployed in the network at 143.4s.\n",
      "IPShuffle triggered 181.3s\n",
      "IPShuffle deployed in the network at 181.3s.\n",
      "IPShuffle triggered 200.2s\n",
      "IPShuffle suspended at 200.2s due to resource occupation\n",
      "IPShuffle finished in 19.0s at 200.4s.\n",
      "Processed vulnerabilities exploitation at 215.8s\n",
      "PortShuffle finished in 81.3s at 224.8s.\n",
      "IPShuffle triggered 232.2s\n",
      "IPShuffle deployed in the network at 232.2s.\n",
      "Processed brute force user at 235.8s.\n",
      "Processed port scan at 245.8s.\n",
      "Processed credential reuse check at 245.9s.\n",
      "IPShuffle finished in 53.5s at 285.8s.\n",
      "HostTopologyShuffle triggered 293.0s\n",
      "HostTopologyShuffle deployed in the network at 293.0s.\n",
      "PortShuffle triggered 294.6s\n",
      "PortShuffle deployed in the network at 294.6s.\n",
      "HostTopologyShuffle finished in 2.4s at 295.4s.\n",
      "Processed vulnerabilities exploitation at 327.9s\n",
      "PortShuffle finished in 37.0s at 331.6s.\n",
      "HostTopologyShuffle triggered 347.1s\n",
      "HostTopologyShuffle deployed in the network at 347.1s.\n",
      "Processed brute force user at 347.9s.\n",
      "Processed port scan at 357.9s.\n",
      "Processed credential reuse check at 357.9s.\n",
      "Processed vulnerabilities exploitation at 362.5s\n",
      "IPShuffle triggered 367.4s\n",
      "IPShuffle suspended at 367.4s due to resource occupation\n",
      "IPShuffle triggered 375.6s\n",
      "IPShuffle suspended at 375.6s due to resource occupation\n",
      "Processed brute force user at 382.5s.\n",
      "Processed port scan at 392.5s.\n",
      "Processed credential reuse check at 392.5s.\n",
      "Processed vulnerabilities exploitation at 409.9s\n",
      "HostTopologyShuffle finished in 68.1s at 415.2s.\n",
      "Processed brute force user at 429.9s.\n",
      "Processed port scan at 440.0s.\n",
      "Processed credential reuse check at 440.0s.\n",
      "Processed vulnerabilities exploitation at 450.1s\n",
      "Processed brute force user at 470.1s.\n",
      "IPShuffle triggered 470.3s\n",
      "IPShuffle deployed in the network at 470.3s.\n",
      "Processed port scan at 480.2s.\n",
      "Processed credential reuse check at 480.2s.\n",
      "Processed vulnerabilities exploitation at 480.5s\n",
      "Processed brute force user at 500.5s.\n",
      "Processed port scan at 510.5s.\n",
      "Processed credential reuse check at 510.5s.\n",
      "Processed vulnerabilities exploitation at 520.5s\n",
      "Processed brute force user at 540.5s.\n",
      "PortShuffle triggered 549.4s\n",
      "PortShuffle deployed in the network at 549.4s.\n",
      "Processed port scan at 550.6s.\n",
      "Processed credential reuse check at 550.6s.\n",
      "Processed vulnerabilities exploitation at 551.2s\n",
      "Processed brute force user at 571.2s.\n",
      "IPShuffle finished in 106.7s at 577.0s.\n",
      "Processed port scan at 581.2s.\n",
      "Processed credential reuse check at 581.2s.\n",
      "PortShuffle triggered 613.5s\n",
      "PortShuffle suspended at 613.5s due to resource occupation\n",
      "PortShuffle finished in 88.2s at 637.6s.\n",
      "Processed vulnerabilities exploitation at 652.3s\n",
      "PortShuffle triggered 664.2s\n",
      "PortShuffle deployed in the network at 664.2s.\n",
      "Processed brute force user at 672.3s.\n",
      "Processed port scan at 682.3s.\n",
      "Processed credential reuse check at 682.3s.\n",
      "PortShuffle triggered 699.8s\n",
      "PortShuffle suspended at 699.8s due to resource occupation\n",
      "PortShuffle triggered 716.0s\n",
      "PortShuffle suspended at 716.0s due to resource occupation\n",
      "PortShuffle triggered 721.7s\n",
      "PortShuffle suspended at 721.7s due to resource occupation\n",
      "PortShuffle triggered 728.9s\n",
      "PortShuffle suspended at 728.9s due to resource occupation\n",
      "PortShuffle triggered 739.0s\n",
      "PortShuffle suspended at 739.0s due to resource occupation\n",
      "Processed vulnerabilities exploitation at 750.8s\n",
      "Processed brute force user at 770.8s.\n",
      "PortShuffle triggered 772.7s\n",
      "PortShuffle suspended at 772.7s due to resource occupation\n",
      "Processed port scan at 780.9s.\n",
      "Processed credential reuse check at 780.9s.\n",
      "Processed vulnerabilities exploitation at 806.3s\n",
      "PortShuffle triggered 814.0s\n",
      "PortShuffle suspended at 814.0s due to resource occupation\n",
      "Processed brute force user at 826.3s.\n",
      "Processed port scan at 836.4s.\n",
      "Processed credential reuse check at 836.4s.\n",
      "Processed vulnerabilities exploitation at 839.2s\n",
      "PortShuffle finished in 185.4s at 849.5s.\n",
      "Processed brute force user at 859.2s.\n",
      "Processed port scan at 869.2s.\n",
      "Processed credential reuse check at 869.2s.\n",
      "Processed vulnerabilities exploitation at 870.5s\n",
      "PortShuffle triggered 882.1s\n",
      "PortShuffle deployed in the network at 882.1s.\n",
      "Processed brute force user at 890.5s.\n",
      "PortShuffle triggered 895.7s\n",
      "PortShuffle suspended at 895.7s due to resource occupation\n",
      "PortShuffle triggered 896.2s\n",
      "PortShuffle suspended at 896.2s due to resource occupation\n",
      "Processed port scan at 900.5s.\n",
      "Processed credential reuse check at 900.5s.\n",
      "PortShuffle triggered 904.9s\n",
      "PortShuffle suspended at 904.9s due to resource occupation\n",
      "PortShuffle triggered 906.8s\n",
      "PortShuffle suspended at 906.8s due to resource occupation\n",
      "PortShuffle triggered 935.9s\n",
      "PortShuffle suspended at 935.9s due to resource occupation\n",
      "Processed vulnerabilities exploitation at 936.9s\n",
      "PortShuffle triggered 947.3s\n",
      "PortShuffle suspended at 947.3s due to resource occupation\n",
      "Processed brute force user at 956.9s.\n",
      "PortShuffle finished in 75.4s at 957.4s.\n",
      "Processed port scan at 966.9s.\n",
      "Processed credential reuse check at 966.9s.\n"
     ]
    }
   ],
   "source": [
    "# set up dataframe for collecting event data\n",
    "mtd_operation_record, attack_operation_record = run_sim()"
   ]
  },
  {
   "cell_type": "code",
   "execution_count": 3,
   "metadata": {
    "collapsed": false,
    "pycharm": {
     "name": "#%%\n"
    }
   },
   "outputs": [
    {
     "data": {
      "text/plain": "                   name  start_time  finish_time    duration\n0           PortShuffle   18.486812    28.969254   10.482442\n1           PortShuffle   49.622448    76.450877   26.828430\n2           PortShuffle   77.636895   141.772238   64.135343\n3             IPShuffle  181.333362   200.357185   19.023823\n4           PortShuffle  143.426992   224.766287   81.339295\n5             IPShuffle  232.249539   285.750395   53.500855\n6   HostTopologyShuffle  292.995450   295.439928    2.444478\n7           PortShuffle  294.627937   331.594499   36.966562\n8   HostTopologyShuffle  347.071351   415.155073   68.083721\n9             IPShuffle  470.277119   576.993711  106.716593\n10          PortShuffle  549.390452   637.596657   88.206205\n11          PortShuffle  664.163680   849.531599  185.367918\n12          PortShuffle  882.067206   957.435864   75.368658",
      "text/html": "<div>\n<style scoped>\n    .dataframe tbody tr th:only-of-type {\n        vertical-align: middle;\n    }\n\n    .dataframe tbody tr th {\n        vertical-align: top;\n    }\n\n    .dataframe thead th {\n        text-align: right;\n    }\n</style>\n<table border=\"1\" class=\"dataframe\">\n  <thead>\n    <tr style=\"text-align: right;\">\n      <th></th>\n      <th>name</th>\n      <th>start_time</th>\n      <th>finish_time</th>\n      <th>duration</th>\n    </tr>\n  </thead>\n  <tbody>\n    <tr>\n      <th>0</th>\n      <td>PortShuffle</td>\n      <td>18.486812</td>\n      <td>28.969254</td>\n      <td>10.482442</td>\n    </tr>\n    <tr>\n      <th>1</th>\n      <td>PortShuffle</td>\n      <td>49.622448</td>\n      <td>76.450877</td>\n      <td>26.828430</td>\n    </tr>\n    <tr>\n      <th>2</th>\n      <td>PortShuffle</td>\n      <td>77.636895</td>\n      <td>141.772238</td>\n      <td>64.135343</td>\n    </tr>\n    <tr>\n      <th>3</th>\n      <td>IPShuffle</td>\n      <td>181.333362</td>\n      <td>200.357185</td>\n      <td>19.023823</td>\n    </tr>\n    <tr>\n      <th>4</th>\n      <td>PortShuffle</td>\n      <td>143.426992</td>\n      <td>224.766287</td>\n      <td>81.339295</td>\n    </tr>\n    <tr>\n      <th>5</th>\n      <td>IPShuffle</td>\n      <td>232.249539</td>\n      <td>285.750395</td>\n      <td>53.500855</td>\n    </tr>\n    <tr>\n      <th>6</th>\n      <td>HostTopologyShuffle</td>\n      <td>292.995450</td>\n      <td>295.439928</td>\n      <td>2.444478</td>\n    </tr>\n    <tr>\n      <th>7</th>\n      <td>PortShuffle</td>\n      <td>294.627937</td>\n      <td>331.594499</td>\n      <td>36.966562</td>\n    </tr>\n    <tr>\n      <th>8</th>\n      <td>HostTopologyShuffle</td>\n      <td>347.071351</td>\n      <td>415.155073</td>\n      <td>68.083721</td>\n    </tr>\n    <tr>\n      <th>9</th>\n      <td>IPShuffle</td>\n      <td>470.277119</td>\n      <td>576.993711</td>\n      <td>106.716593</td>\n    </tr>\n    <tr>\n      <th>10</th>\n      <td>PortShuffle</td>\n      <td>549.390452</td>\n      <td>637.596657</td>\n      <td>88.206205</td>\n    </tr>\n    <tr>\n      <th>11</th>\n      <td>PortShuffle</td>\n      <td>664.163680</td>\n      <td>849.531599</td>\n      <td>185.367918</td>\n    </tr>\n    <tr>\n      <th>12</th>\n      <td>PortShuffle</td>\n      <td>882.067206</td>\n      <td>957.435864</td>\n      <td>75.368658</td>\n    </tr>\n  </tbody>\n</table>\n</div>"
     },
     "execution_count": 3,
     "metadata": {},
     "output_type": "execute_result"
    }
   ],
   "source": [
    "mtd_operation_record = pd.DataFrame(mtd_operation_record)\n",
    "mtd_operation_record"
   ]
  },
  {
   "cell_type": "code",
   "execution_count": 4,
   "metadata": {
    "collapsed": false,
    "pycharm": {
     "name": "#%%\n"
    }
   },
   "outputs": [],
   "source": [
    "\n",
    "# fig1 = go.Figure(go.Waterfall(x = mtd_operation_record['deploy_time'],\n",
    "#                               y = mtd_operation_record['name'],\n",
    "#                               measure = ['absolute']*100,\n",
    "#                               connector = {\"mode\":\"between\", \"line\":{\"color\":\"red\"}}))\n",
    "#\n",
    "# fig1.update_layout(title = 'Time duration of MTD operations',\n",
    "#                    xaxis_title = 'Time' , yaxis_title = 'MTD techniques',\n",
    "#                    width = 800, height = 600)"
   ]
  },
  {
   "cell_type": "code",
   "execution_count": 5,
   "metadata": {
    "collapsed": false,
    "pycharm": {
     "name": "#%%\n"
    }
   },
   "outputs": [
    {
     "data": {
      "text/plain": "<Figure size 1152x432 with 1 Axes>",
      "image/png": "[encoded data removed]"
     },
     "metadata": {
      "needs_background": "light"
     },
     "output_type": "display_data"
    }
   ],
   "source": [
    "fig, ax = plt.subplots(1, figsize=(16, 6))\n",
    "ax.barh(mtd_operation_record['name'], mtd_operation_record['duration'], left=mtd_operation_record['start_time'], height=0.1)\n",
    "\n",
    "plt.xlabel('Time',  weight='bold', fontsize=18)\n",
    "plt.ylabel('MTD Techniques', weight='bold', fontsize=18)\n",
    "fig.tight_layout()\n",
    "plt.show()"
   ]
  },
  {
   "cell_type": "code",
   "execution_count": 6,
   "metadata": {
    "collapsed": false,
    "pycharm": {
     "name": "#%%\n"
    }
   },
   "outputs": [
    {
     "data": {
      "text/plain": "                      name  start_time  finish_time   duration\n0                 PortScan    0.030000    10.030000  10.000000\n1   VulnerabilitiesExploit   10.040000    27.827202  17.787202\n2               BruteForce   27.827202    47.827202  20.000000\n3                 PortScan   47.847202    57.847202  10.000000\n4   VulnerabilitiesExploit   57.857202    71.654511  13.797309\n5               BruteForce   71.654511    91.654511  20.000000\n6                 PortScan   91.674511   101.674511  10.000000\n7   VulnerabilitiesExploit  101.684511   103.313429   1.628917\n8               BruteForce  103.313429   123.313429  20.000000\n9                 PortScan  123.333429   133.333429  10.000000\n10  VulnerabilitiesExploit  133.343429   215.823454  82.480026\n11              BruteForce  215.823454   235.823454  20.000000\n12                PortScan  235.843454   245.843454  10.000000\n13  VulnerabilitiesExploit  245.853454   327.876778  82.023323\n14              BruteForce  327.876778   347.876778  20.000000\n15                PortScan  347.896778   357.896778  10.000000\n16  VulnerabilitiesExploit  357.906778   362.453560   4.546782\n17              BruteForce  362.453560   382.453560  20.000000\n18                PortScan  382.473560   392.473560  10.000000\n19  VulnerabilitiesExploit  392.483560   409.942956  17.459396\n20              BruteForce  409.942956   429.942956  20.000000\n21                PortScan  429.962956   439.962956  10.000000\n22  VulnerabilitiesExploit  439.972956   450.135015  10.162059\n23              BruteForce  450.135015   470.135015  20.000000\n24                PortScan  470.155015   480.155015  10.000000\n25  VulnerabilitiesExploit  480.165015   480.501766   0.336751\n26              BruteForce  480.501766   500.501766  20.000000\n27                PortScan  500.521766   510.521766  10.000000\n28  VulnerabilitiesExploit  510.531766   520.537253  10.005487\n29              BruteForce  520.537253   540.537253  20.000000\n30                PortScan  540.557253   550.557253  10.000000\n31  VulnerabilitiesExploit  550.567253   551.165776   0.598523\n32              BruteForce  551.165776   571.165776  20.000000\n33                PortScan  571.185776   581.185776  10.000000\n34  VulnerabilitiesExploit  581.195776   652.256131  71.060355\n35              BruteForce  652.256131   672.256131  20.000000\n36                PortScan  672.276131   682.276131  10.000000\n37  VulnerabilitiesExploit  682.286131   750.832770  68.546639\n38              BruteForce  750.832770   770.832770  20.000000\n39                PortScan  770.852770   780.852770  10.000000\n40  VulnerabilitiesExploit  780.862770   806.335309  25.472540\n41              BruteForce  806.335309   826.335309  20.000000\n42                PortScan  826.355309   836.355309  10.000000\n43  VulnerabilitiesExploit  836.365309   839.205742   2.840432\n44              BruteForce  839.205742   859.205742  20.000000\n45                PortScan  859.225742   869.225742  10.000000\n46  VulnerabilitiesExploit  869.235742   870.508381   1.272639\n47              BruteForce  870.508381   890.508381  20.000000\n48                PortScan  890.528381   900.528381  10.000000\n49  VulnerabilitiesExploit  900.538381   936.898307  36.359926\n50              BruteForce  936.898307   956.898307  20.000000\n51                PortScan  956.918307   966.918307  10.000000",
      "text/html": "<div>\n<style scoped>\n    .dataframe tbody tr th:only-of-type {\n        vertical-align: middle;\n    }\n\n    .dataframe tbody tr th {\n        vertical-align: top;\n    }\n\n    .dataframe thead th {\n        text-align: right;\n    }\n</style>\n<table border=\"1\" class=\"dataframe\">\n  <thead>\n    <tr style=\"text-align: right;\">\n      <th></th>\n      <th>name</th>\n      <th>start_time</th>\n      <th>finish_time</th>\n      <th>duration</th>\n    </tr>\n  </thead>\n  <tbody>\n    <tr>\n      <th>0</th>\n      <td>PortScan</td>\n      <td>0.030000</td>\n      <td>10.030000</td>\n      <td>10.000000</td>\n    </tr>\n    <tr>\n      <th>1</th>\n      <td>VulnerabilitiesExploit</td>\n      <td>10.040000</td>\n      <td>27.827202</td>\n      <td>17.787202</td>\n    </tr>\n    <tr>\n      <th>2</th>\n      <td>BruteForce</td>\n      <td>27.827202</td>\n      <td>47.827202</td>\n      <td>20.000000</td>\n    </tr>\n    <tr>\n      <th>3</th>\n      <td>PortScan</td>\n      <td>47.847202</td>\n      <td>57.847202</td>\n      <td>10.000000</td>\n    </tr>\n    <tr>\n      <th>4</th>\n      <td>VulnerabilitiesExploit</td>\n      <td>57.857202</td>\n      <td>71.654511</td>\n      <td>13.797309</td>\n    </tr>\n    <tr>\n      <th>5</th>\n      <td>BruteForce</td>\n      <td>71.654511</td>\n      <td>91.654511</td>\n      <td>20.000000</td>\n    </tr>\n    <tr>\n      <th>6</th>\n      <td>PortScan</td>\n      <td>91.674511</td>\n      <td>101.674511</td>\n      <td>10.000000</td>\n    </tr>\n    <tr>\n      <th>7</th>\n      <td>VulnerabilitiesExploit</td>\n      <td>101.684511</td>\n      <td>103.313429</td>\n      <td>1.628917</td>\n    </tr>\n    <tr>\n      <th>8</th>\n      <td>BruteForce</td>\n      <td>103.313429</td>\n      <td>123.313429</td>\n      <td>20.000000</td>\n    </tr>\n    <tr>\n      <th>9</th>\n      <td>PortScan</td>\n      <td>123.333429</td>\n      <td>133.333429</td>\n      <td>10.000000</td>\n    </tr>\n    <tr>\n      <th>10</th>\n      <td>VulnerabilitiesExploit</td>\n      <td>133.343429</td>\n      <td>215.823454</td>\n      <td>82.480026</td>\n    </tr>\n    <tr>\n      <th>11</th>\n      <td>BruteForce</td>\n      <td>215.823454</td>\n      <td>235.823454</td>\n      <td>20.000000</td>\n    </tr>\n    <tr>\n      <th>12</th>\n      <td>PortScan</td>\n      <td>235.843454</td>\n      <td>245.843454</td>\n      <td>10.000000</td>\n    </tr>\n    <tr>\n      <th>13</th>\n      <td>VulnerabilitiesExploit</td>\n      <td>245.853454</td>\n      <td>327.876778</td>\n      <td>82.023323</td>\n    </tr>\n    <tr>\n      <th>14</th>\n      <td>BruteForce</td>\n      <td>327.876778</td>\n      <td>347.876778</td>\n      <td>20.000000</td>\n    </tr>\n    <tr>\n      <th>15</th>\n      <td>PortScan</td>\n      <td>347.896778</td>\n      <td>357.896778</td>\n      <td>10.000000</td>\n    </tr>\n    <tr>\n      <th>16</th>\n      <td>VulnerabilitiesExploit</td>\n      <td>357.906778</td>\n      <td>362.453560</td>\n      <td>4.546782</td>\n    </tr>\n    <tr>\n      <th>17</th>\n      <td>BruteForce</td>\n      <td>362.453560</td>\n      <td>382.453560</td>\n      <td>20.000000</td>\n    </tr>\n    <tr>\n      <th>18</th>\n      <td>PortScan</td>\n      <td>382.473560</td>\n      <td>392.473560</td>\n      <td>10.000000</td>\n    </tr>\n    <tr>\n      <th>19</th>\n      <td>VulnerabilitiesExploit</td>\n      <td>392.483560</td>\n      <td>409.942956</td>\n      <td>17.459396</td>\n    </tr>\n    <tr>\n      <th>20</th>\n      <td>BruteForce</td>\n      <td>409.942956</td>\n      <td>429.942956</td>\n      <td>20.000000</td>\n    </tr>\n    <tr>\n      <th>21</th>\n      <td>PortScan</td>\n      <td>429.962956</td>\n      <td>439.962956</td>\n      <td>10.000000</td>\n    </tr>\n    <tr>\n      <th>22</th>\n      <td>VulnerabilitiesExploit</td>\n      <td>439.972956</td>\n      <td>450.135015</td>\n      <td>10.162059</td>\n    </tr>\n    <tr>\n      <th>23</th>\n      <td>BruteForce</td>\n      <td>450.135015</td>\n      <td>470.135015</td>\n      <td>20.000000</td>\n    </tr>\n    <tr>\n      <th>24</th>\n      <td>PortScan</td>\n      <td>470.155015</td>\n      <td>480.155015</td>\n      <td>10.000000</td>\n    </tr>\n    <tr>\n      <th>25</th>\n      <td>VulnerabilitiesExploit</td>\n      <td>480.165015</td>\n      <td>480.501766</td>\n      <td>0.336751</td>\n    </tr>\n    <tr>\n      <th>26</th>\n      <td>BruteForce</td>\n      <td>480.501766</td>\n      <td>500.501766</td>\n      <td>20.000000</td>\n    </tr>\n    <tr>\n      <th>27</th>\n      <td>PortScan</td>\n      <td>500.521766</td>\n      <td>510.521766</td>\n      <td>10.000000</td>\n    </tr>\n    <tr>\n      <th>28</th>\n      <td>VulnerabilitiesExploit</td>\n      <td>510.531766</td>\n      <td>520.537253</td>\n      <td>10.005487</td>\n    </tr>\n    <tr>\n      <th>29</th>\n      <td>BruteForce</td>\n      <td>520.537253</td>\n      <td>540.537253</td>\n      <td>20.000000</td>\n    </tr>\n    <tr>\n      <th>30</th>\n      <td>PortScan</td>\n      <td>540.557253</td>\n      <td>550.557253</td>\n      <td>10.000000</td>\n    </tr>\n    <tr>\n      <th>31</th>\n      <td>VulnerabilitiesExploit</td>\n      <td>550.567253</td>\n      <td>551.165776</td>\n      <td>0.598523</td>\n    </tr>\n    <tr>\n      <th>32</th>\n      <td>BruteForce</td>\n      <td>551.165776</td>\n      <td>571.165776</td>\n      <td>20.000000</td>\n    </tr>\n    <tr>\n      <th>33</th>\n      <td>PortScan</td>\n      <td>571.185776</td>\n      <td>581.185776</td>\n      <td>10.000000</td>\n    </tr>\n    <tr>\n      <th>34</th>\n      <td>VulnerabilitiesExploit</td>\n      <td>581.195776</td>\n      <td>652.256131</td>\n      <td>71.060355</td>\n    </tr>\n    <tr>\n      <th>35</th>\n      <td>BruteForce</td>\n      <td>652.256131</td>\n      <td>672.256131</td>\n      <td>20.000000</td>\n    </tr>\n    <tr>\n      <th>36</th>\n      <td>PortScan</td>\n      <td>672.276131</td>\n      <td>682.276131</td>\n      <td>10.000000</td>\n    </tr>\n    <tr>\n      <th>37</th>\n      <td>VulnerabilitiesExploit</td>\n      <td>682.286131</td>\n      <td>750.832770</td>\n      <td>68.546639</td>\n    </tr>\n    <tr>\n      <th>38</th>\n      <td>BruteForce</td>\n      <td>750.832770</td>\n      <td>770.832770</td>\n      <td>20.000000</td>\n    </tr>\n    <tr>\n      <th>39</th>\n      <td>PortScan</td>\n      <td>770.852770</td>\n      <td>780.852770</td>\n      <td>10.000000</td>\n    </tr>\n    <tr>\n      <th>40</th>\n      <td>VulnerabilitiesExploit</td>\n      <td>780.862770</td>\n      <td>806.335309</td>\n      <td>25.472540</td>\n    </tr>\n    <tr>\n      <th>41</th>\n      <td>BruteForce</td>\n      <td>806.335309</td>\n      <td>826.335309</td>\n      <td>20.000000</td>\n    </tr>\n    <tr>\n      <th>42</th>\n      <td>PortScan</td>\n      <td>826.355309</td>\n      <td>836.355309</td>\n      <td>10.000000</td>\n    </tr>\n    <tr>\n      <th>43</th>\n      <td>VulnerabilitiesExploit</td>\n      <td>836.365309</td>\n      <td>839.205742</td>\n      <td>2.840432</td>\n    </tr>\n    <tr>\n      <th>44</th>\n      <td>BruteForce</td>\n      <td>839.205742</td>\n      <td>859.205742</td>\n      <td>20.000000</td>\n    </tr>\n    <tr>\n      <th>45</th>\n      <td>PortScan</td>\n      <td>859.225742</td>\n      <td>869.225742</td>\n      <td>10.000000</td>\n    </tr>\n    <tr>\n      <th>46</th>\n      <td>VulnerabilitiesExploit</td>\n      <td>869.235742</td>\n      <td>870.508381</td>\n      <td>1.272639</td>\n    </tr>\n    <tr>\n      <th>47</th>\n      <td>BruteForce</td>\n      <td>870.508381</td>\n      <td>890.508381</td>\n      <td>20.000000</td>\n    </tr>\n    <tr>\n      <th>48</th>\n      <td>PortScan</td>\n      <td>890.528381</td>\n      <td>900.528381</td>\n      <td>10.000000</td>\n    </tr>\n    <tr>\n      <th>49</th>\n      <td>VulnerabilitiesExploit</td>\n      <td>900.538381</td>\n      <td>936.898307</td>\n      <td>36.359926</td>\n    </tr>\n    <tr>\n      <th>50</th>\n      <td>BruteForce</td>\n      <td>936.898307</td>\n      <td>956.898307</td>\n      <td>20.000000</td>\n    </tr>\n    <tr>\n      <th>51</th>\n      <td>PortScan</td>\n      <td>956.918307</td>\n      <td>966.918307</td>\n      <td>10.000000</td>\n    </tr>\n  </tbody>\n</table>\n</div>"
     },
     "execution_count": 6,
     "metadata": {},
     "output_type": "execute_result"
    }
   ],
   "source": [
    "attack_operation_record = pd.DataFrame(attack_operation_record)\n",
    "attack_operation_record"
   ]
  },
  {
   "cell_type": "code",
   "execution_count": 7,
   "metadata": {
    "collapsed": false,
    "pycharm": {
     "name": "#%%\n"
    }
   },
   "outputs": [
    {
     "data": {
      "text/plain": "<Figure size 1152x432 with 1 Axes>",
      "image/png": "[encoded data removed]"
     },
     "metadata": {
      "needs_background": "light"
     },
     "output_type": "display_data"
    }
   ],
   "source": [
    "fig2, ax2 = plt.subplots(1, figsize=(16, 6))\n",
    "ax2.barh(attack_operation_record['name'], attack_operation_record['duration'], left=attack_operation_record['start_time'], height=0.1)\n",
    "\n",
    "plt.xlabel('Time',  weight='bold', fontsize=18)\n",
    "plt.ylabel('Attack Progress', weight='bold', fontsize=18)\n",
    "fig2.tight_layout()\n",
    "plt.show()"
   ]
  },
  {
   "cell_type": "code",
   "execution_count": 7,
   "metadata": {
    "collapsed": false,
    "pycharm": {
     "name": "#%%\n"
    }
   },
   "outputs": [],
   "source": []
  }
 ],
 "metadata": {
  "kernelspec": {
   "display_name": "Python 3.9.13 ('venv': venv)",
   "language": "python",
   "name": "python3"
  },
  "language_info": {
   "codemirror_mode": {
    "name": "ipython",
    "version": 3
   },
   "file_extension": ".py",
   "mimetype": "text/x-python",
   "name": "python",
   "nbconvert_exporter": "python",
   "pygments_lexer": "ipython3",
   "version": "3.9.13"
  },
  "orig_nbformat": 4,
  "vscode": {
   "interpreter": {
    "hash": "ca714204bdf767f914288741b60dfd3ec695087ef64c4e46bb5b8f91083c76f9"
   }
  }
 },
 "nbformat": 4,
 "nbformat_minor": 2
}