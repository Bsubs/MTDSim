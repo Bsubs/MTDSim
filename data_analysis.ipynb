{
 "cells": [
  {
   "cell_type": "code",
   "execution_count": 1,
   "metadata": {
    "collapsed": true
   },
   "outputs": [],
   "source": [
    "import warnings\n",
    "warnings.filterwarnings(\"ignore\")\n",
    "import pandas as pd\n",
    "import matplotlib.pyplot as plt\n",
    "import os\n",
    "import numpy as np\n",
    "from matplotlib.lines import Line2D\n",
    "\n",
    "current_directory = os.getcwd()\n",
    "time = 1000\n",
    "mtd_type = 'shuffle_diversity'\n",
    "attack_operation_record = pd.read_csv(current_directory+ '\\\\data_analysis\\\\attack_operation_record_'+str(time)+'_'+mtd_type+'.csv')\n",
    "mtd_operation_record = pd.read_csv(current_directory+'\\\\data_analysis\\\\mtd_operation_record_'+str(time)+'_'+mtd_type+'.csv')"
   ]
  },
  {
   "cell_type": "code",
   "execution_count": 2,
   "metadata": {
    "collapsed": false,
    "pycharm": {
     "name": "#%%\n"
    }
   },
   "outputs": [
    {
     "data": {
      "text/html": [
       "<div>\n",
       "<style scoped>\n",
       "    .dataframe tbody tr th:only-of-type {\n",
       "        vertical-align: middle;\n",
       "    }\n",
       "\n",
       "    .dataframe tbody tr th {\n",
       "        vertical-align: top;\n",
       "    }\n",
       "\n",
       "    .dataframe thead th {\n",
       "        text-align: right;\n",
       "    }\n",
       "</style>\n",
       "<table border=\"1\" class=\"dataframe\">\n",
       "  <thead>\n",
       "    <tr style=\"text-align: right;\">\n",
       "      <th></th>\n",
       "      <th>name</th>\n",
       "      <th>start_time</th>\n",
       "      <th>finish_time</th>\n",
       "      <th>duration</th>\n",
       "      <th>executed_at</th>\n",
       "    </tr>\n",
       "  </thead>\n",
       "  <tbody>\n",
       "    <tr>\n",
       "      <th>0</th>\n",
       "      <td>IPShuffle</td>\n",
       "      <td>0.000000</td>\n",
       "      <td>50.360911</td>\n",
       "      <td>50.360911</td>\n",
       "      <td>network</td>\n",
       "    </tr>\n",
       "    <tr>\n",
       "      <th>1</th>\n",
       "      <td>IPShuffle</td>\n",
       "      <td>61.827047</td>\n",
       "      <td>111.978712</td>\n",
       "      <td>50.151664</td>\n",
       "      <td>network</td>\n",
       "    </tr>\n",
       "    <tr>\n",
       "      <th>2</th>\n",
       "      <td>osdiversity</td>\n",
       "      <td>92.240900</td>\n",
       "      <td>122.508460</td>\n",
       "      <td>30.267561</td>\n",
       "      <td>application</td>\n",
       "    </tr>\n",
       "    <tr>\n",
       "      <th>3</th>\n",
       "      <td>HostTopologyShuffle</td>\n",
       "      <td>123.221201</td>\n",
       "      <td>184.172693</td>\n",
       "      <td>60.951493</td>\n",
       "      <td>network</td>\n",
       "    </tr>\n",
       "    <tr>\n",
       "      <th>4</th>\n",
       "      <td>IPShuffle</td>\n",
       "      <td>216.144170</td>\n",
       "      <td>266.556902</td>\n",
       "      <td>50.412732</td>\n",
       "      <td>network</td>\n",
       "    </tr>\n",
       "  </tbody>\n",
       "</table>\n",
       "</div>"
      ],
      "text/plain": [
       "                  name  start_time  finish_time   duration  executed_at\n",
       "0            IPShuffle    0.000000    50.360911  50.360911      network\n",
       "1            IPShuffle   61.827047   111.978712  50.151664      network\n",
       "2          osdiversity   92.240900   122.508460  30.267561  application\n",
       "3  HostTopologyShuffle  123.221201   184.172693  60.951493      network\n",
       "4            IPShuffle  216.144170   266.556902  50.412732      network"
      ]
     },
     "execution_count": 2,
     "metadata": {},
     "output_type": "execute_result"
    }
   ],
   "source": [
    "mtd_operation_record.head()"
   ]
  },
  {
   "cell_type": "code",
   "execution_count": 3,
   "metadata": {
    "collapsed": false,
    "pycharm": {
     "name": "#%%\n"
    }
   },
   "outputs": [
    {
     "data": {
      "image/png": "[encoded data removed]",
      "text/plain": [
       "<Figure size 1152x432 with 1 Axes>"
      ]
     },
     "metadata": {
      "needs_background": "light"
     },
     "output_type": "display_data"
    }
   ],
   "source": [
    "mtd_operation_record['color'] = np.where(mtd_operation_record['executed_at']=='network', 'green', 'orange')\n",
    "fig, ax = plt.subplots(1, figsize=(16, 6))\n",
    "ax.barh(mtd_operation_record['name'], mtd_operation_record['duration'], left=mtd_operation_record['start_time'], height=0.1, color=mtd_operation_record['color'])\n",
    "\n",
    "\n",
    "custom_lines_mtd = [Line2D([0], [0], color='green', lw=4),\n",
    "                    Line2D([0], [0], color='orange', lw=4)]\n",
    "ax.legend(custom_lines_mtd, ['network layer', 'application layer'], loc='upper right')\n",
    "plt.xlabel('Time',  weight='bold', fontsize=18)\n",
    "plt.ylabel('MTD Techniques', weight='bold', fontsize=18)\n",
    "fig.tight_layout()\n",
    "plt.savefig('data_analysis/mtd_record.png')\n",
    "plt.show()"
   ]
  },
  {
   "cell_type": "code",
   "execution_count": 4,
   "metadata": {
    "collapsed": false,
    "pycharm": {
     "name": "#%%\n"
    }
   },
   "outputs": [
    {
     "data": {
      "text/html": [
       "<div>\n",
       "<style scoped>\n",
       "    .dataframe tbody tr th:only-of-type {\n",
       "        vertical-align: middle;\n",
       "    }\n",
       "\n",
       "    .dataframe tbody tr th {\n",
       "        vertical-align: top;\n",
       "    }\n",
       "\n",
       "    .dataframe thead th {\n",
       "        text-align: right;\n",
       "    }\n",
       "</style>\n",
       "<table border=\"1\" class=\"dataframe\">\n",
       "  <thead>\n",
       "    <tr style=\"text-align: right;\">\n",
       "      <th></th>\n",
       "      <th>name</th>\n",
       "      <th>start_time</th>\n",
       "      <th>finish_time</th>\n",
       "      <th>duration</th>\n",
       "      <th>current_host</th>\n",
       "      <th>current_host_attempt</th>\n",
       "      <th>cumulative_attempts</th>\n",
       "      <th>cumulative_compromised_hosts</th>\n",
       "      <th>compromise_host</th>\n",
       "      <th>compromise_users</th>\n",
       "      <th>interrupted_in</th>\n",
       "      <th>interrupted_by</th>\n",
       "    </tr>\n",
       "  </thead>\n",
       "  <tbody>\n",
       "    <tr>\n",
       "      <th>0</th>\n",
       "      <td>SCAN_HOST</td>\n",
       "      <td>0.000000</td>\n",
       "      <td>10.000000</td>\n",
       "      <td>10.000000</td>\n",
       "      <td>-1</td>\n",
       "      <td>0</td>\n",
       "      <td>0</td>\n",
       "      <td>0</td>\n",
       "      <td>None</td>\n",
       "      <td>[]</td>\n",
       "      <td>None</td>\n",
       "      <td>None</td>\n",
       "    </tr>\n",
       "    <tr>\n",
       "      <th>1</th>\n",
       "      <td>ENUM_HOST</td>\n",
       "      <td>10.000000</td>\n",
       "      <td>25.000000</td>\n",
       "      <td>15.000000</td>\n",
       "      <td>-1</td>\n",
       "      <td>0</td>\n",
       "      <td>0</td>\n",
       "      <td>0</td>\n",
       "      <td>None</td>\n",
       "      <td>[]</td>\n",
       "      <td>None</td>\n",
       "      <td>None</td>\n",
       "    </tr>\n",
       "    <tr>\n",
       "      <th>2</th>\n",
       "      <td>SCAN_PORT</td>\n",
       "      <td>25.000000</td>\n",
       "      <td>45.000000</td>\n",
       "      <td>20.000000</td>\n",
       "      <td>0</td>\n",
       "      <td>1</td>\n",
       "      <td>0</td>\n",
       "      <td>0</td>\n",
       "      <td>None</td>\n",
       "      <td>[]</td>\n",
       "      <td>None</td>\n",
       "      <td>None</td>\n",
       "    </tr>\n",
       "    <tr>\n",
       "      <th>3</th>\n",
       "      <td>EXPLOIT_VULN</td>\n",
       "      <td>45.000000</td>\n",
       "      <td>50.360911</td>\n",
       "      <td>5.360911</td>\n",
       "      <td>0</td>\n",
       "      <td>1</td>\n",
       "      <td>0</td>\n",
       "      <td>0</td>\n",
       "      <td>None</td>\n",
       "      <td>[]</td>\n",
       "      <td>network</td>\n",
       "      <td>IPShuffle</td>\n",
       "    </tr>\n",
       "    <tr>\n",
       "      <th>4</th>\n",
       "      <td>SCAN_HOST</td>\n",
       "      <td>52.360911</td>\n",
       "      <td>62.360911</td>\n",
       "      <td>10.000000</td>\n",
       "      <td>-1</td>\n",
       "      <td>0</td>\n",
       "      <td>0</td>\n",
       "      <td>0</td>\n",
       "      <td>None</td>\n",
       "      <td>[]</td>\n",
       "      <td>None</td>\n",
       "      <td>None</td>\n",
       "    </tr>\n",
       "    <tr>\n",
       "      <th>...</th>\n",
       "      <td>...</td>\n",
       "      <td>...</td>\n",
       "      <td>...</td>\n",
       "      <td>...</td>\n",
       "      <td>...</td>\n",
       "      <td>...</td>\n",
       "      <td>...</td>\n",
       "      <td>...</td>\n",
       "      <td>...</td>\n",
       "      <td>...</td>\n",
       "      <td>...</td>\n",
       "      <td>...</td>\n",
       "    </tr>\n",
       "    <tr>\n",
       "      <th>58</th>\n",
       "      <td>SCAN_PORT</td>\n",
       "      <td>913.065355</td>\n",
       "      <td>933.065355</td>\n",
       "      <td>20.000000</td>\n",
       "      <td>37</td>\n",
       "      <td>1</td>\n",
       "      <td>131</td>\n",
       "      <td>4</td>\n",
       "      <td>None</td>\n",
       "      <td>[]</td>\n",
       "      <td>None</td>\n",
       "      <td>None</td>\n",
       "    </tr>\n",
       "    <tr>\n",
       "      <th>59</th>\n",
       "      <td>EXPLOIT_VULN</td>\n",
       "      <td>933.065355</td>\n",
       "      <td>948.248238</td>\n",
       "      <td>15.182883</td>\n",
       "      <td>37</td>\n",
       "      <td>1</td>\n",
       "      <td>131</td>\n",
       "      <td>4</td>\n",
       "      <td>None</td>\n",
       "      <td>[]</td>\n",
       "      <td>network</td>\n",
       "      <td>HostTopologyShuffle</td>\n",
       "    </tr>\n",
       "    <tr>\n",
       "      <th>60</th>\n",
       "      <td>SCAN_HOST</td>\n",
       "      <td>950.248238</td>\n",
       "      <td>960.248238</td>\n",
       "      <td>10.000000</td>\n",
       "      <td>-1</td>\n",
       "      <td>0</td>\n",
       "      <td>131</td>\n",
       "      <td>4</td>\n",
       "      <td>None</td>\n",
       "      <td>[]</td>\n",
       "      <td>None</td>\n",
       "      <td>None</td>\n",
       "    </tr>\n",
       "    <tr>\n",
       "      <th>61</th>\n",
       "      <td>ENUM_HOST</td>\n",
       "      <td>960.248238</td>\n",
       "      <td>975.248238</td>\n",
       "      <td>15.000000</td>\n",
       "      <td>-1</td>\n",
       "      <td>0</td>\n",
       "      <td>131</td>\n",
       "      <td>4</td>\n",
       "      <td>None</td>\n",
       "      <td>[]</td>\n",
       "      <td>None</td>\n",
       "      <td>None</td>\n",
       "    </tr>\n",
       "    <tr>\n",
       "      <th>62</th>\n",
       "      <td>SCAN_PORT</td>\n",
       "      <td>975.248238</td>\n",
       "      <td>995.248238</td>\n",
       "      <td>20.000000</td>\n",
       "      <td>54</td>\n",
       "      <td>1</td>\n",
       "      <td>131</td>\n",
       "      <td>4</td>\n",
       "      <td>None</td>\n",
       "      <td>[]</td>\n",
       "      <td>None</td>\n",
       "      <td>None</td>\n",
       "    </tr>\n",
       "  </tbody>\n",
       "</table>\n",
       "<p>63 rows × 12 columns</p>\n",
       "</div>"
      ],
      "text/plain": [
       "            name  start_time  finish_time   duration  current_host  \\\n",
       "0      SCAN_HOST    0.000000    10.000000  10.000000            -1   \n",
       "1      ENUM_HOST   10.000000    25.000000  15.000000            -1   \n",
       "2      SCAN_PORT   25.000000    45.000000  20.000000             0   \n",
       "3   EXPLOIT_VULN   45.000000    50.360911   5.360911             0   \n",
       "4      SCAN_HOST   52.360911    62.360911  10.000000            -1   \n",
       "..           ...         ...          ...        ...           ...   \n",
       "58     SCAN_PORT  913.065355   933.065355  20.000000            37   \n",
       "59  EXPLOIT_VULN  933.065355   948.248238  15.182883            37   \n",
       "60     SCAN_HOST  950.248238   960.248238  10.000000            -1   \n",
       "61     ENUM_HOST  960.248238   975.248238  15.000000            -1   \n",
       "62     SCAN_PORT  975.248238   995.248238  20.000000            54   \n",
       "\n",
       "    current_host_attempt  cumulative_attempts  cumulative_compromised_hosts  \\\n",
       "0                      0                    0                             0   \n",
       "1                      0                    0                             0   \n",
       "2                      1                    0                             0   \n",
       "3                      1                    0                             0   \n",
       "4                      0                    0                             0   \n",
       "..                   ...                  ...                           ...   \n",
       "58                     1                  131                             4   \n",
       "59                     1                  131                             4   \n",
       "60                     0                  131                             4   \n",
       "61                     0                  131                             4   \n",
       "62                     1                  131                             4   \n",
       "\n",
       "   compromise_host compromise_users interrupted_in       interrupted_by  \n",
       "0             None               []           None                 None  \n",
       "1             None               []           None                 None  \n",
       "2             None               []           None                 None  \n",
       "3             None               []        network            IPShuffle  \n",
       "4             None               []           None                 None  \n",
       "..             ...              ...            ...                  ...  \n",
       "58            None               []           None                 None  \n",
       "59            None               []        network  HostTopologyShuffle  \n",
       "60            None               []           None                 None  \n",
       "61            None               []           None                 None  \n",
       "62            None               []           None                 None  \n",
       "\n",
       "[63 rows x 12 columns]"
      ]
     },
     "execution_count": 4,
     "metadata": {},
     "output_type": "execute_result"
    }
   ],
   "source": [
    "attack_operation_record"
   ]
  },
  {
   "cell_type": "code",
   "execution_count": 182,
   "metadata": {
    "collapsed": false,
    "pycharm": {
     "name": "#%%\n"
    }
   },
   "outputs": [
    {
     "data": {
      "image/png": "[encoded data removed]",
      "text/plain": [
       "<Figure size 1152x360 with 1 Axes>"
      ]
     },
     "metadata": {
      "needs_background": "light"
     },
     "output_type": "display_data"
    }
   ],
   "source": [
    "fig2, ax2 = plt.subplots(1, figsize=(16, 5))\n",
    "\n",
    "colors = ['purple', 'blue', 'green', 'yellow', 'orange', 'red']\n",
    "attack_action_legend = []\n",
    "attack_action_legend_name = []\n",
    "for i, v in enumerate(attack_operation_record['name'].unique()):\n",
    "    attack_operation_record.loc[attack_operation_record.name == v, 'color'] = colors[i]\n",
    "    attack_action_legend.append(Line2D([0], [0], color=colors[i], lw=4))\n",
    "    attack_action_legend_name.append(v)\n",
    "\n",
    "ax2.barh(attack_operation_record['current_host'].astype(str), attack_operation_record['duration'], left=attack_operation_record['start_time'], height=0.4, color=attack_operation_record['color'] )\n",
    "\n",
    "ax2.legend(attack_action_legend, attack_action_legend_name, loc='lower left')\n",
    "plt.gca().invert_yaxis()\n",
    "plt.xlabel('Time',  weight='bold', fontsize=18)\n",
    "plt.ylabel('Target Host', weight='bold', fontsize=18)\n",
    "fig2.tight_layout()\n",
    "plt.savefig('data_analysis/attack_action_record.png')\n",
    "plt.show()"
   ]
  },
  {
   "cell_type": "code",
   "execution_count": 187,
   "metadata": {
    "collapsed": false,
    "pycharm": {
     "name": "#%%\n"
    }
   },
   "outputs": [
    {
     "data": {
      "image/png": "[encoded data removed]",
      "text/plain": [
       "<Figure size 1152x576 with 4 Axes>"
      ]
     },
     "metadata": {
      "needs_background": "light"
     },
     "output_type": "display_data"
    }
   ],
   "source": [
    "fig3, ax3 = plt.subplots(figsize=(16, 8))\n",
    "\n",
    "# Set common labels\n",
    "fig3.text(0.5, -0.03, 'Time', ha='center', va='center', weight='bold', fontsize=18)\n",
    "fig3.text(-0.01, 0.5, 'Target Host', ha='center', va='center', rotation='vertical', weight='bold', fontsize=18)\n",
    "fig3.legend(attack_action_legend, attack_action_legend_name, loc='center left', bbox_to_anchor=(1, 0.5))\n",
    "\n",
    "for i in [1,2,3,4]:\n",
    "    plt.subplot(4, 1, i)\n",
    "    sub_record = attack_operation_record[(attack_operation_record['finish_time']<=int(time * i/4)) & (attack_operation_record['finish_time'] > int(time * (i-1)/4))]\n",
    "    sub_record = sub_record.sort_values(by=['current_host'])\n",
    "    plt.barh(y=sub_record['current_host'].astype(str), width=sub_record['duration'], left=sub_record['start_time'], height=0.3, color=sub_record['color'])\n",
    "    plt.gca().invert_yaxis()\n",
    "\n",
    "plt.tight_layout()\n",
    "plt.savefig('data_analysis/attack_action_record_subplots.png', bbox_inches=\"tight\")\n",
    "plt.show()\n",
    "# how to combine different MTD techniques\n",
    "# executed at the same time / alternatively / randomly / at different rates\n",
    "# implement same time execution MTDs at fixed interval\n",
    "# individual/ subnet / full"
   ]
  },
  {
   "cell_type": "code",
   "execution_count": 6,
   "metadata": {
    "collapsed": false,
    "pycharm": {
     "name": "#%%\n"
    }
   },
   "outputs": [
    {
     "data": {
      "image/png": "[encoded data removed]",
      "text/plain": [
       "<Figure size 1152x360 with 1 Axes>"
      ]
     },
     "metadata": {
      "needs_background": "light"
     },
     "output_type": "display_data"
    }
   ],
   "source": [
    "fig4, ax4 = plt.subplots(1, figsize=(16, 5))\n",
    "ax4.barh(attack_operation_record['name'], attack_operation_record['duration'], left=attack_operation_record['start_time'], height=0.1, zorder=1)\n",
    "\n",
    "\n",
    "interrupted_record = attack_operation_record[attack_operation_record['interrupted_in']!='None']\n",
    "interrupted_record['color'] = np.where(interrupted_record['interrupted_in']=='network', 'green', 'orange')\n",
    "ax4.scatter(interrupted_record['finish_time'], interrupted_record['name'], color=interrupted_record['color'], zorder=3)\n",
    "\n",
    "\n",
    "compromise_record = attack_operation_record[attack_operation_record['compromise_host'] != 'None']\n",
    "ax4.scatter(compromise_record['finish_time'], compromise_record['name'], color='red', zorder=2)\n",
    "\n",
    "\n",
    "custom_lines_attack = [Line2D([0], [0], marker='o',color='w', markerfacecolor='green', markersize=10),\n",
    "                       Line2D([0], [0], marker='o',color='w', markerfacecolor='orange', markersize=10),\n",
    "                       Line2D([0], [0], marker='o',color='w', markerfacecolor='red', markersize=10),]\n",
    "\n",
    "ax4.legend(custom_lines_attack, ['network layer MTD', 'application layer MTD', 'compromise host'], loc='upper right')\n",
    "\n",
    "plt.gca().invert_yaxis()\n",
    "plt.xlabel('Time',  weight='bold', fontsize=18)\n",
    "plt.ylabel('Attack Progress', weight='bold', fontsize=18)\n",
    "fig4.tight_layout()\n",
    "plt.savefig('data_analysis/attack_record.png')\n",
    "plt.show()"
   ]
  },
  {
   "cell_type": "code",
   "execution_count": 7,
   "metadata": {
    "collapsed": false,
    "pycharm": {
     "name": "#%%\n"
    }
   },
   "outputs": [
    {
     "data": {
      "text/html": [
       "<div>\n",
       "<style scoped>\n",
       "    .dataframe tbody tr th:only-of-type {\n",
       "        vertical-align: middle;\n",
       "    }\n",
       "\n",
       "    .dataframe tbody tr th {\n",
       "        vertical-align: top;\n",
       "    }\n",
       "\n",
       "    .dataframe thead th {\n",
       "        text-align: right;\n",
       "    }\n",
       "</style>\n",
       "<table border=\"1\" class=\"dataframe\">\n",
       "  <thead>\n",
       "    <tr style=\"text-align: right;\">\n",
       "      <th></th>\n",
       "      <th>name</th>\n",
       "      <th>start_time</th>\n",
       "      <th>finish_time</th>\n",
       "      <th>duration</th>\n",
       "      <th>current_host</th>\n",
       "      <th>current_host_attempt</th>\n",
       "      <th>cumulative_attempts</th>\n",
       "      <th>cumulative_compromised_hosts</th>\n",
       "      <th>compromise_host</th>\n",
       "      <th>compromise_users</th>\n",
       "      <th>interrupted_in</th>\n",
       "      <th>interrupted_by</th>\n",
       "    </tr>\n",
       "  </thead>\n",
       "  <tbody>\n",
       "  </tbody>\n",
       "</table>\n",
       "</div>"
      ],
      "text/plain": [
       "Empty DataFrame\n",
       "Columns: [name, start_time, finish_time, duration, current_host, current_host_attempt, cumulative_attempts, cumulative_compromised_hosts, compromise_host, compromise_users, interrupted_in, interrupted_by]\n",
       "Index: []"
      ]
     },
     "execution_count": 7,
     "metadata": {},
     "output_type": "execute_result"
    }
   ],
   "source": [
    "attack_operation_record[(attack_operation_record['name'] == 'SCAN_PORT') & (attack_operation_record['compromise_host'] != 'None')]"
   ]
  },
  {
   "cell_type": "code",
   "execution_count": 8,
   "metadata": {
    "collapsed": false,
    "pycharm": {
     "name": "#%%\n"
    }
   },
   "outputs": [
    {
     "data": {
      "text/html": [
       "<div>\n",
       "<style scoped>\n",
       "    .dataframe tbody tr th:only-of-type {\n",
       "        vertical-align: middle;\n",
       "    }\n",
       "\n",
       "    .dataframe tbody tr th {\n",
       "        vertical-align: top;\n",
       "    }\n",
       "\n",
       "    .dataframe thead th {\n",
       "        text-align: right;\n",
       "    }\n",
       "</style>\n",
       "<table border=\"1\" class=\"dataframe\">\n",
       "  <thead>\n",
       "    <tr style=\"text-align: right;\">\n",
       "      <th></th>\n",
       "      <th>name</th>\n",
       "      <th>start_time</th>\n",
       "      <th>finish_time</th>\n",
       "      <th>duration</th>\n",
       "      <th>current_host</th>\n",
       "      <th>current_host_attempt</th>\n",
       "      <th>cumulative_attempts</th>\n",
       "      <th>cumulative_compromised_hosts</th>\n",
       "      <th>compromise_host</th>\n",
       "      <th>compromise_users</th>\n",
       "      <th>interrupted_in</th>\n",
       "      <th>interrupted_by</th>\n",
       "    </tr>\n",
       "  </thead>\n",
       "  <tbody>\n",
       "    <tr>\n",
       "      <th>16</th>\n",
       "      <td>EXPLOIT_VULN</td>\n",
       "      <td>231.172693</td>\n",
       "      <td>256.439801</td>\n",
       "      <td>25.267107</td>\n",
       "      <td>0</td>\n",
       "      <td>4</td>\n",
       "      <td>5</td>\n",
       "      <td>0</td>\n",
       "      <td>0</td>\n",
       "      <td>['Cherrita', 'Moyna', 'Wallis', 'Filippa', 'Ge...</td>\n",
       "      <td>None</td>\n",
       "      <td>None</td>\n",
       "    </tr>\n",
       "    <tr>\n",
       "      <th>33</th>\n",
       "      <td>EXPLOIT_VULN</td>\n",
       "      <td>485.536267</td>\n",
       "      <td>514.021804</td>\n",
       "      <td>28.485537</td>\n",
       "      <td>52</td>\n",
       "      <td>3</td>\n",
       "      <td>52</td>\n",
       "      <td>1</td>\n",
       "      <td>52</td>\n",
       "      <td>['Horatia', 'Gwenora', 'Jenilee', 'Cristy']</td>\n",
       "      <td>None</td>\n",
       "      <td>None</td>\n",
       "    </tr>\n",
       "    <tr>\n",
       "      <th>37</th>\n",
       "      <td>EXPLOIT_VULN</td>\n",
       "      <td>559.021804</td>\n",
       "      <td>584.087074</td>\n",
       "      <td>25.065269</td>\n",
       "      <td>53</td>\n",
       "      <td>1</td>\n",
       "      <td>85</td>\n",
       "      <td>2</td>\n",
       "      <td>53</td>\n",
       "      <td>['Lilah', 'Katrina', 'Georgeanne', 'Julita', '...</td>\n",
       "      <td>None</td>\n",
       "      <td>None</td>\n",
       "    </tr>\n",
       "    <tr>\n",
       "      <th>50</th>\n",
       "      <td>EXPLOIT_VULN</td>\n",
       "      <td>792.456606</td>\n",
       "      <td>817.538899</td>\n",
       "      <td>25.082293</td>\n",
       "      <td>52</td>\n",
       "      <td>5</td>\n",
       "      <td>111</td>\n",
       "      <td>3</td>\n",
       "      <td>52</td>\n",
       "      <td>['Berenice', 'Libbey', 'Reggi', 'Zorana', 'Mar...</td>\n",
       "      <td>None</td>\n",
       "      <td>None</td>\n",
       "    </tr>\n",
       "  </tbody>\n",
       "</table>\n",
       "</div>"
      ],
      "text/plain": [
       "            name  start_time  finish_time   duration  current_host  \\\n",
       "16  EXPLOIT_VULN  231.172693   256.439801  25.267107             0   \n",
       "33  EXPLOIT_VULN  485.536267   514.021804  28.485537            52   \n",
       "37  EXPLOIT_VULN  559.021804   584.087074  25.065269            53   \n",
       "50  EXPLOIT_VULN  792.456606   817.538899  25.082293            52   \n",
       "\n",
       "    current_host_attempt  cumulative_attempts  cumulative_compromised_hosts  \\\n",
       "16                     4                    5                             0   \n",
       "33                     3                   52                             1   \n",
       "37                     1                   85                             2   \n",
       "50                     5                  111                             3   \n",
       "\n",
       "   compromise_host                                   compromise_users  \\\n",
       "16               0  ['Cherrita', 'Moyna', 'Wallis', 'Filippa', 'Ge...   \n",
       "33              52        ['Horatia', 'Gwenora', 'Jenilee', 'Cristy']   \n",
       "37              53  ['Lilah', 'Katrina', 'Georgeanne', 'Julita', '...   \n",
       "50              52  ['Berenice', 'Libbey', 'Reggi', 'Zorana', 'Mar...   \n",
       "\n",
       "   interrupted_in interrupted_by  \n",
       "16           None           None  \n",
       "33           None           None  \n",
       "37           None           None  \n",
       "50           None           None  "
      ]
     },
     "execution_count": 8,
     "metadata": {},
     "output_type": "execute_result"
    }
   ],
   "source": [
    "attack_operation_record[(attack_operation_record['name'] == 'EXPLOIT_VULN') & (attack_operation_record['compromise_host'] != 'None')]"
   ]
  },
  {
   "cell_type": "code",
   "execution_count": 9,
   "metadata": {
    "collapsed": false,
    "pycharm": {
     "name": "#%%\n"
    }
   },
   "outputs": [
    {
     "data": {
      "text/html": [
       "<div>\n",
       "<style scoped>\n",
       "    .dataframe tbody tr th:only-of-type {\n",
       "        vertical-align: middle;\n",
       "    }\n",
       "\n",
       "    .dataframe tbody tr th {\n",
       "        vertical-align: top;\n",
       "    }\n",
       "\n",
       "    .dataframe thead th {\n",
       "        text-align: right;\n",
       "    }\n",
       "</style>\n",
       "<table border=\"1\" class=\"dataframe\">\n",
       "  <thead>\n",
       "    <tr style=\"text-align: right;\">\n",
       "      <th></th>\n",
       "      <th>name</th>\n",
       "      <th>start_time</th>\n",
       "      <th>finish_time</th>\n",
       "      <th>duration</th>\n",
       "      <th>current_host</th>\n",
       "      <th>current_host_attempt</th>\n",
       "      <th>cumulative_attempts</th>\n",
       "      <th>cumulative_compromised_hosts</th>\n",
       "      <th>compromise_host</th>\n",
       "      <th>compromise_users</th>\n",
       "      <th>interrupted_in</th>\n",
       "      <th>interrupted_by</th>\n",
       "    </tr>\n",
       "  </thead>\n",
       "  <tbody>\n",
       "  </tbody>\n",
       "</table>\n",
       "</div>"
      ],
      "text/plain": [
       "Empty DataFrame\n",
       "Columns: [name, start_time, finish_time, duration, current_host, current_host_attempt, cumulative_attempts, cumulative_compromised_hosts, compromise_host, compromise_users, interrupted_in, interrupted_by]\n",
       "Index: []"
      ]
     },
     "execution_count": 9,
     "metadata": {},
     "output_type": "execute_result"
    }
   ],
   "source": [
    "attack_operation_record[(attack_operation_record['name'] == 'BRUTE_FORCE') & (attack_operation_record['compromise_host'] != 'None')]"
   ]
  },
  {
   "cell_type": "code",
   "execution_count": null,
   "metadata": {},
   "outputs": [],
   "source": []
  }
 ],
 "metadata": {
  "kernelspec": {
   "display_name": "Python 3.9.13 ('mtdsimtime')",
   "language": "python",
   "name": "python3"
  },
  "language_info": {
   "codemirror_mode": {
    "name": "ipython",
    "version": 3
   },
   "file_extension": ".py",
   "mimetype": "text/x-python",
   "name": "python",
   "nbconvert_exporter": "python",
   "pygments_lexer": "ipython3",
   "version": "3.9.13"
  },
  "vscode": {
   "interpreter": {
    "hash": "9b477274c87fb63319f36b484dd34a6881cb387ce1b14309c24558f54c8e02ea"
   }
  }
 },
 "nbformat": 4,
 "nbformat_minor": 0
}
