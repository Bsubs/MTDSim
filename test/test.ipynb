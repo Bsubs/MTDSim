{
 "cells": [
  {
   "cell_type": "code",
   "execution_count": 28,
   "metadata": {
    "collapsed": true
   },
   "outputs": [],
   "source": [
    "import warnings\n",
    "warnings.filterwarnings(\"ignore\")\n",
    "from mtdnetwork.component.mtd_scheme import MTDScheme\n",
    "from mtdnetwork.component.time_network import TimeNetwork\n",
    "from mtdnetwork.component.adversary import Adversary\n",
    "from mtdnetwork.data.constants import ATTACKER_THRESHOLD\n",
    "from mtdnetwork.mtd.completetopologyshuffle import CompleteTopologyShuffle\n",
    "from mtdnetwork.mtd.ipshuffle import IPShuffle\n",
    "from mtdnetwork.mtd.hosttopologyshuffle import HostTopologyShuffle\n",
    "from mtdnetwork.mtd.portshuffle import PortShuffle\n",
    "from mtdnetwork.mtd.osdiversity import OSDiversity\n",
    "from mtdnetwork.mtd.servicediversity import ServiceDiversity\n",
    "from mtdnetwork.mtd.usershuffle import UserShuffle\n",
    "import math\n",
    "import networkx as nx"
   ]
  },
  {
   "cell_type": "code",
   "execution_count": 51,
   "outputs": [],
   "source": [
    "\n",
    "def expected_client_connectivity(M, E, C):\n",
    "    ecc = 0  # initialize expected client connectivity to 0\n",
    "    for i in range(len(C)):  # iterate over all subsets of failed connections\n",
    "        prod = 1  # initialize product term to 1\n",
    "        for variant in E:  # iterate over all variant in E\n",
    "            if variant in C[i]:  # if variant is in c\n",
    "                prod *= E[variant]  # multiply by the probability of failure\n",
    "            else:\n",
    "                prod *= (1 - E[variant])  # multiply by the probability of not failing\n",
    "\n",
    "        ecc += prod * M[i]  # add product term times sum term to ecc\n",
    "    return ecc\n"
   ],
   "metadata": {
    "collapsed": false,
    "pycharm": {
     "name": "#%%\n"
    }
   }
  },
  {
   "cell_type": "code",
   "execution_count": 52,
   "outputs": [
    {
     "data": {
      "text/plain": "0.8383333333333334"
     },
     "execution_count": 52,
     "metadata": {},
     "output_type": "execute_result"
    }
   ],
   "source": [
    "\n",
    "E = {'b':0.15, 'r':0.1}\n",
    "C = [ {} , {'b'}, {'r'}, {'b', 'r'}]\n",
    "M = [3 * math.comb(3, 2) ** -1, 1*math.comb(3, 2) ** -1, 1*math.comb(3, 2) ** -1, 0]\n",
    "\n",
    "expected_client_connectivity(M, E, C)"
   ],
   "metadata": {
    "collapsed": false,
    "pycharm": {
     "name": "#%%\n"
    }
   }
  },
  {
   "cell_type": "code",
   "execution_count": 1,
   "outputs": [
    {
     "data": {
      "text/plain": "1.0"
     },
     "execution_count": 1,
     "metadata": {},
     "output_type": "execute_result"
    }
   ],
   "source": [
    "(2 * (2 - 1) / 2) ** (-1)"
   ],
   "metadata": {
    "collapsed": false,
    "pycharm": {
     "name": "#%%\n"
    }
   }
  },
  {
   "cell_type": "markdown",
   "source": [],
   "metadata": {
    "collapsed": false,
    "pycharm": {
     "name": "#%% md\n"
    }
   }
  }
 ],
 "metadata": {
  "kernelspec": {
   "display_name": "Python 3",
   "language": "python",
   "name": "python3"
  },
  "language_info": {
   "codemirror_mode": {
    "name": "ipython",
    "version": 2
   },
   "file_extension": ".py",
   "mimetype": "text/x-python",
   "name": "python",
   "nbconvert_exporter": "python",
   "pygments_lexer": "ipython2",
   "version": "2.7.6"
  }
 },
 "nbformat": 4,
 "nbformat_minor": 0
}